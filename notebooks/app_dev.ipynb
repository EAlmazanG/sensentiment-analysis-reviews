{
 "cells": [
  {
   "cell_type": "code",
   "execution_count": 1,
   "metadata": {},
   "outputs": [
    {
     "name": "stderr",
     "output_type": "stream",
     "text": [
      "[nltk_data] Downloading package stopwords to\n",
      "[nltk_data]     /Users/jobandtalent/nltk_data...\n",
      "[nltk_data]   Package stopwords is already up-to-date!\n",
      "[nltk_data] Downloading package vader_lexicon to\n",
      "[nltk_data]     /Users/jobandtalent/nltk_data...\n",
      "[nltk_data]   Package vader_lexicon is already up-to-date!\n"
     ]
    }
   ],
   "source": [
    "import streamlit as st\n",
    "import pandas as pd\n",
    "import numpy as np\n",
    "import re\n",
    "import json\n",
    "import os\n",
    "import sys\n",
    "\n",
    "import matplotlib.pyplot as plt\n",
    "import seaborn as sns\n",
    "import plotly.graph_objects as go\n",
    "import plotly.express as px\n",
    "from plotly.subplots import make_subplots\n",
    "\n",
    "import networkx as nx\n",
    "\n",
    "from sklearn.neighbors import NearestNeighbors\n",
    "from sklearn.metrics.pairwise import cosine_similarity\n",
    "from sklearn.feature_extraction.text import TfidfVectorizer\n",
    "\n",
    "sys.path.append(os.path.abspath(os.path.join('..')))\n",
    "from src import plots\n",
    "from src import ml_processing"
   ]
  },
  {
   "cell_type": "markdown",
   "metadata": {},
   "source": [
    "### Load data"
   ]
  },
  {
   "cell_type": "code",
   "execution_count": 2,
   "metadata": {},
   "outputs": [],
   "source": [
    "def loadData(uploaded_file):\n",
    "    if uploaded_file is not None:\n",
    "        return pd.read_csv(uploaded_file)\n",
    "    return None\n",
    "\n",
    "def extractPrefix(file_name):\n",
    "    # Split the filename and extract the part before \"_ml\"\n",
    "    return file_name.split('_ml')[0]\n",
    "\n",
    "def loadJson(file_path):\n",
    "    with open(file_path, 'r') as file:\n",
    "        return json.load(file)\n",
    "\n",
    "def reFormatEmbeddings(embedding_str):\n",
    "    cleaned_str = re.sub(r'[\\[\\]\\n]', '', embedding_str)\n",
    "    embedding_list = list(map(float, cleaned_str.split()))\n",
    "    return np.array(embedding_list, dtype=np.float32)\n",
    "    return embedding_str\n",
    "\n",
    "processed_path = '../data/processed/'\n",
    "raw_path = '../data/raw/'"
   ]
  },
  {
   "cell_type": "code",
   "execution_count": 3,
   "metadata": {},
   "outputs": [],
   "source": [
    "uploaded_file = 'hd_ml_processed_reviews.csv'\n",
    "\n",
    "## Load all necessary data\n",
    "# Load reviews data and extract place from the file name\n",
    "reviews = loadData(processed_path + uploaded_file)\n",
    "if 'embedding' in reviews.columns:\n",
    "    # Convert embeddings from string to list of floats\n",
    "    reviews['embedding'] = reviews['embedding'].apply(reFormatEmbeddings)\n",
    "\n",
    "file_name = uploaded_file\n",
    "place = extractPrefix(file_name)\n",
    "\n",
    "# Paths for the JSON and additional CSV files\n",
    "general_insights_file = os.path.join(processed_path, f\"{place}_general_insights.json\")\n",
    "worst_periods_file = os.path.join(processed_path, f\"{place}_worst_periods_insights.json\")\n",
    "sample_reviews_file = os.path.join(processed_path, f\"{place}_sample_selected_reviews.csv\")\n",
    "resume_file = os.path.join(raw_path, f\"resumme_{place}.csv\")\n",
    "\n",
    "# Load \"place\"_general_insights.json into a dictionary\n",
    "if os.path.exists(general_insights_file):\n",
    "    general_insights = loadJson(general_insights_file)\n",
    "\n",
    "# Load \"place\"_worst_periods_insights.json into a dictionary\n",
    "if os.path.exists(worst_periods_file):\n",
    "    worst_periods_insights = loadJson(worst_periods_file)\n",
    "\n",
    "# Load \"place\"_sample_selected_reviews.csv into a DataFrame\n",
    "if os.path.exists(sample_reviews_file):\n",
    "    sample_reviews = pd.read_csv(sample_reviews_file)\n",
    "\n",
    "# Load resumme_\"place\".csv from ./data/raw into a DataFrame\n",
    "if os.path.exists(resume_file):\n",
    "    resume = pd.read_csv(resume_file)"
   ]
  },
  {
   "cell_type": "markdown",
   "metadata": {},
   "source": [
    "### Dev"
   ]
  },
  {
   "cell_type": "code",
   "execution_count": null,
   "metadata": {},
   "outputs": [],
   "source": [
    "display(sample_reviews.sample(3))\n",
    "\n",
    "# best_reviews\n",
    "best_reviews = sample_reviews[sample_reviews['sample_type'] == 'best_reviews_sample'][['date', 'rating_score','review', 'food_score', 'service_score', 'atmosphere_score', 'meal_type']]\n",
    "best_reviews.rename(columns = {'review':'Review', 'rating_score':'Rating', 'meal_type':'Meal','food_score':'Food', 'service_score':'Service', 'atmosphere_score':'Ambient', 'date':'Date'}, inplace = True)\n",
    "\n",
    "# worst_reviews\n",
    "worst_reviews = sample_reviews[sample_reviews['sample_type'] == 'worst_reviews_sample'][['date', 'rating_score','review', 'food_score', 'service_score', 'atmosphere_score', 'meal_type']]\n",
    "worst_reviews.rename(columns = {'review':'Review', 'rating_score':'Rating', 'meal_type':'Meal','food_score':'Food', 'service_score':'Service', 'atmosphere_score':'Ambient', 'date':'Date'}, inplace = True)"
   ]
  },
  {
   "cell_type": "code",
   "execution_count": null,
   "metadata": {},
   "outputs": [],
   "source": [
    "general_insights"
   ]
  },
  {
   "cell_type": "code",
   "execution_count": null,
   "metadata": {},
   "outputs": [],
   "source": [
    "worst_periods_insights"
   ]
  },
  {
   "cell_type": "code",
   "execution_count": null,
   "metadata": {},
   "outputs": [],
   "source": [
    "display(sample_reviews.sample(3))"
   ]
  },
  {
   "cell_type": "code",
   "execution_count": null,
   "metadata": {},
   "outputs": [],
   "source": [
    "sample_reviews.groupby('sample_type').count()"
   ]
  },
  {
   "cell_type": "code",
   "execution_count": null,
   "metadata": {},
   "outputs": [],
   "source": [
    "period_reviews = sample_reviews[(sample_reviews['month'] == '2024-08') & (sample_reviews['sample_type'] == 'low_score_reviews')][['date', 'rating_score', 'review', 'food_score', 'service_score', 'atmosphere_score', 'meal_type']]\n",
    "period_reviews"
   ]
  },
  {
   "cell_type": "markdown",
   "metadata": {},
   "source": [
    "### Plots"
   ]
  },
  {
   "cell_type": "code",
   "execution_count": 4,
   "metadata": {},
   "outputs": [],
   "source": [
    "def plotScoreTrends(reviews, app = False):\n",
    "    # Convert date column to datetime format and create additional time columns\n",
    "    reviews['date'] = pd.to_datetime(reviews['date'], errors='coerce')\n",
    "    reviews['month'] = reviews['date'].dt.to_period('M')\n",
    "    reviews['year'] = reviews['date'].dt.year\n",
    "    reviews['week'] = reviews['date'] - pd.to_timedelta(reviews['date'].dt.weekday, unit='d')\n",
    "    reviews['week'] = reviews['week'].dt.strftime('%Y-%m-%d')\n",
    "\n",
    "    # Filter data for the last periods (months, years, weeks)\n",
    "    limit_date = reviews['date'].max()\n",
    "    last_months = reviews[reviews['date'] >= limit_date - pd.DateOffset(months=12)]\n",
    "    last_years = reviews[reviews['date'] >= limit_date - pd.DateOffset(years=8)]\n",
    "    last_weeks = reviews[reviews['date'] >= limit_date - pd.DateOffset(weeks=5)]\n",
    "\n",
    "    # Compute averages for the required periods\n",
    "    monthly_avg_scores = last_months.groupby('month')[['rating_score', 'food_score', 'service_score', 'atmosphere_score']].mean()\n",
    "    yearly_avg_scores = last_years.groupby('year')[['rating_score']].mean()\n",
    "    weekly_avg_scores = last_weeks.groupby('week')[['rating_score', 'food_score', 'service_score', 'atmosphere_score']].mean()\n",
    "\n",
    "\n",
    "\n",
    "    # Create a figure with subplots using the Z-layout\n",
    "    fig = make_subplots(rows=2, cols=2,\n",
    "                        specs=[[{\"colspan\": 2}, None],\n",
    "                               [{}, {}]],  # 1 large plot on the first row, 2 smaller plots on the second\n",
    "                        subplot_titles=(\"Monthly Score Trends (Last 12 Months)\", \n",
    "                                        \"Annual Rating Score Trends (Last 6 Years)\", \n",
    "                                        \"Weekly Score Trends (Last 4 Weeks)\"))\n",
    "\n",
    "    # Add monthly score trends to the first row\n",
    "\n",
    "\n",
    "    # Add yearly score trends to the second row (left)\n",
    "    fig.add_trace(\n",
    "        go.Scatter(x=yearly_avg_scores.index.astype(str), y=yearly_avg_scores['rating_score'],\n",
    "                   mode='lines+markers', name=\"Rating\", line=dict(color='#1f77b4', width=4),\n",
    "                   text=[f\"Rating - {val:.2f}\" for val in yearly_avg_scores['rating_score']], \n",
    "                   hoverinfo=\"text\"),\n",
    "        row=2, col=1)\n",
    "\n",
    "    # Add weekly score trends to the second row (right)\n",
    "    for i, column in enumerate(weekly_avg_scores.columns):\n",
    "        label = label_mapping[column]\n",
    "        fig.add_trace(\n",
    "            go.Scatter(x=weekly_avg_scores.index.astype(str), y=weekly_avg_scores[column],\n",
    "                       mode='lines+markers', name=label, \n",
    "                       text=[f\"{label} - {val:.2f}\" for val in weekly_avg_scores[column]], \n",
    "                       hoverinfo=\"text\", line=dict(color=colors[i])),\n",
    "            row=2, col=2)\n",
    "\n",
    "    # Customize layout\n",
    "    fig.update_layout(showlegend=False, \n",
    "                      title=\"Score Trends Analysis\",\n",
    "                      title_font=dict(size=28),\n",
    "                      margin=dict(l=50, r=50, t=100, b=50),\n",
    "                      paper_bgcolor=\"white\",\n",
    "                      height=800, width=1200)\n",
    "    fig.update_xaxes(showline=False, showgrid=False)\n",
    "    fig.update_yaxes(showline=False, showgrid=True)\n",
    "\n",
    "    # Customize x-axes formatting\n",
    "    fig.update_xaxes(tickformat=\"%Y\", row=2, col=1)  # Yearly format\n",
    "    fig.update_xaxes(tickformat=\"%d-%b\", row=2, col=2)  # Weekly format\n",
    "\n",
    "    # Add annotations\n",
    "    fig.add_annotation(x='2024-06', y=4.8, text=\"Highest Score\", showarrow=True, arrowhead=2, ax=0, ay=80, row=1, col=1)\n",
    "    fig.add_annotation(x='2024-03', y=4.5, text=\"Drop in March\", showarrow=True, arrowhead=2, ax=0, ay=-40, row=1, col=1)\n",
    "    fig.add_annotation(x='2024-08', y=4.5, text=\"Drop in August\", showarrow=True, arrowhead=2, ax=0, ay=-40, row=1, col=1)\n",
    "\n",
    "    # Update marker sizes\n",
    "    fig.update_traces(marker=dict(size=8), selector=dict(name=\"Rating\"))\n",
    "    \n",
    "    # Show the figure\n",
    "    if app:\n",
    "        return fig\n",
    "    else:\n",
    "        fig.show()\n"
   ]
  },
  {
   "cell_type": "code",
   "execution_count": 38,
   "metadata": {},
   "outputs": [],
   "source": [
    "def plotTrend(reviews, label_mapping, app=False, filter_min=None, filter_max=None):\n",
    "    # Convert date column to datetime format and create additional time columns\n",
    "    reviews['date'] = pd.to_datetime(reviews['date'], errors='coerce')\n",
    "    reviews['month'] = reviews['date'].dt.to_period('M')\n",
    "\n",
    "    # Filter data for the last periods based on filter_min and filter_max\n",
    "    limit_date = reviews['date'].max()\n",
    "    if filter_min is None and filter_max is None:\n",
    "        # If both filters are None, select data from the last year\n",
    "        start_date = limit_date - pd.DateOffset(years=1)\n",
    "        selected_reviews = reviews[(reviews['date'] >= start_date) & (reviews['date'] <= limit_date)]\n",
    "    else:\n",
    "        # Apply the filters if provided\n",
    "        selected_reviews = reviews\n",
    "        if filter_min is not None:\n",
    "            selected_reviews = selected_reviews[selected_reviews['date'] >= filter_min]\n",
    "        if filter_max is not None:\n",
    "            selected_reviews = selected_reviews[selected_reviews['date'] <= filter_max]\n",
    "\n",
    "    # Compute averages for the required periods using label_mapping keys\n",
    "    columns_to_average = list(label_mapping.keys())\n",
    "    monthly_avg_scores = selected_reviews.groupby('month')[columns_to_average].mean()\n",
    "    \n",
    "    # Create a figure to plot the trends\n",
    "    fig = make_subplots(rows=1, cols=1)\n",
    "    \n",
    "    # Update the axis labels for each score to be more readable\n",
    "    colors = ['#32CD32', 'rgba(31, 119, 180, 0.8)', 'rgba(107, 174, 214, 0.8)', 'rgba(158, 202, 225, 0.8)'] \n",
    "    for i, column in enumerate(monthly_avg_scores.columns):\n",
    "        label = label_mapping[column]\n",
    "        fig.add_trace(\n",
    "            go.Scatter(x=monthly_avg_scores.index.astype(str), y=monthly_avg_scores[column],\n",
    "                       mode='lines+markers', name=label, \n",
    "                       text=[f\"{label} - {val:.2f}\" for val in monthly_avg_scores[column]], \n",
    "                       hoverinfo=\"text\", line=dict(color=colors[i], width=3 if i == 0 else 2)),\n",
    "            row=1, col=1)\n",
    "\n",
    "\n",
    "    # Analyze low scores and find high score\n",
    "    _, low_score_periods = ml_processing.analyzeLowScores(reviews, 'rating_score', num_periods=3)\n",
    "    high_score_period = monthly_avg_scores['rating_score'].idxmax()\n",
    "    high_score_value = monthly_avg_scores['rating_score'].max()\n",
    "    \n",
    "    # Add annotations for low scores\n",
    "    for i in range(len(low_score_periods)):\n",
    "        if i > 0 and low_score_periods[i] - low_score_periods[i - 1] == 1:\n",
    "            # If two periods are contiguous, combine them in one annotation\n",
    "            fig.add_annotation(x=str(low_score_periods[i]), y=monthly_avg_scores.loc[low_score_periods[i], 'rating_score'] + 0.5,\n",
    "                               text=f\"Drop in {low_score_periods[i - 1].strftime('%B')} & {low_score_periods[i].strftime('%B')}\",\n",
    "                               showarrow=True, arrowhead=2, ax=0, ay=-40, row=1, col=1)\n",
    "        elif i == 0 or low_score_periods[i] - low_score_periods[i - 1] != 1:\n",
    "            fig.add_annotation(x=str(low_score_periods[i]), y=monthly_avg_scores.loc[low_score_periods[i], 'rating_score'] + 0.5,\n",
    "                               text=f\"Drop in {low_score_periods[i].strftime('%B')}\",\n",
    "                               showarrow=True, arrowhead=2, ax=0, ay=-40, row=1, col=1)\n",
    "    \n",
    "    # Add annotation for high score\n",
    "    fig.add_annotation(x=str(high_score_period), y=high_score_value - 0.3,\n",
    "                       text=f\"High in {high_score_period.strftime('%B')}\",\n",
    "                       showarrow=True, arrowhead=2, ax=0, ay=40, row=1, col=1)\n",
    "\n",
    "    fig.update_xaxes(showgrid=False)\n",
    "    fig.update_yaxes(showgrid=False, title_text='Average Score')\n",
    "    fig.update_layout(showlegend=False, \n",
    "                    #title=\"Rating Trends\",\n",
    "                    #title_font=dict(size=28),\n",
    "                    margin=dict(l=50, r=50, t=100, b=50),\n",
    "                    paper_bgcolor=\"white\",\n",
    "                    height=400, width=1200)\n",
    "    \n",
    "    # Show or return the figure depending on the context\n",
    "    if app:\n",
    "        return fig\n",
    "    else:\n",
    "        fig.show()"
   ]
  },
  {
   "cell_type": "code",
   "execution_count": 39,
   "metadata": {},
   "outputs": [
    {
     "data": {
      "application/vnd.plotly.v1+json": {
       "config": {
        "plotlyServerURL": "https://plot.ly"
       },
       "data": [
        {
         "hoverinfo": "text",
         "line": {
          "color": "#32CD32",
          "width": 3
         },
         "mode": "lines+markers",
         "name": "Rating",
         "text": [
          "Rating - 4.50",
          "Rating - 4.55",
          "Rating - 4.75",
          "Rating - 4.55",
          "Rating - 4.12",
          "Rating - 4.08",
          "Rating - 4.43",
          "Rating - 4.56",
          "Rating - 4.89",
          "Rating - 4.38",
          "Rating - 4.00",
          "Rating - 4.37"
         ],
         "type": "scatter",
         "x": [
          "2023-10",
          "2023-11",
          "2023-12",
          "2024-01",
          "2024-02",
          "2024-03",
          "2024-04",
          "2024-05",
          "2024-06",
          "2024-07",
          "2024-08",
          "2024-09"
         ],
         "xaxis": "x",
         "y": [
          4.5,
          4.545454545454546,
          4.75,
          4.545454545454546,
          4.125,
          4.076923076923077,
          4.428571428571429,
          4.5625,
          4.888888888888889,
          4.375,
          4,
          4.368421052631579
         ],
         "yaxis": "y"
        },
        {
         "hoverinfo": "text",
         "line": {
          "color": "rgba(31, 119, 180, 0.8)",
          "width": 2
         },
         "mode": "lines+markers",
         "name": "Food",
         "text": [
          "Food - 5.00",
          "Food - 4.11",
          "Food - 4.75",
          "Food - 4.67",
          "Food - 4.25",
          "Food - 4.09",
          "Food - 4.80",
          "Food - 4.48",
          "Food - 4.88",
          "Food - 4.23",
          "Food - 4.07",
          "Food - 4.50"
         ],
         "type": "scatter",
         "x": [
          "2023-10",
          "2023-11",
          "2023-12",
          "2024-01",
          "2024-02",
          "2024-03",
          "2024-04",
          "2024-05",
          "2024-06",
          "2024-07",
          "2024-08",
          "2024-09"
         ],
         "xaxis": "x",
         "y": [
          5,
          4.111111111111111,
          4.75,
          4.666666666666667,
          4.25,
          4.090909090909091,
          4.8,
          4.481481481481482,
          4.875,
          4.230769230769231,
          4.066666666666666,
          4.5
         ],
         "yaxis": "y"
        },
        {
         "hoverinfo": "text",
         "line": {
          "color": "rgba(107, 174, 214, 0.8)",
          "width": 2
         },
         "mode": "lines+markers",
         "name": "Service",
         "text": [
          "Service - 5.00",
          "Service - 4.60",
          "Service - 4.50",
          "Service - 4.83",
          "Service - 4.38",
          "Service - 4.36",
          "Service - 4.60",
          "Service - 4.71",
          "Service - 4.88",
          "Service - 4.46",
          "Service - 4.38",
          "Service - 4.53"
         ],
         "type": "scatter",
         "x": [
          "2023-10",
          "2023-11",
          "2023-12",
          "2024-01",
          "2024-02",
          "2024-03",
          "2024-04",
          "2024-05",
          "2024-06",
          "2024-07",
          "2024-08",
          "2024-09"
         ],
         "xaxis": "x",
         "y": [
          5,
          4.6,
          4.5,
          4.833333333333333,
          4.375,
          4.363636363636363,
          4.6,
          4.714285714285714,
          4.875,
          4.461538461538462,
          4.375,
          4.529411764705882
         ],
         "yaxis": "y"
        },
        {
         "hoverinfo": "text",
         "line": {
          "color": "rgba(158, 202, 225, 0.8)",
          "width": 2
         },
         "mode": "lines+markers",
         "name": "Ambient",
         "text": [
          "Ambient - 4.00",
          "Ambient - 4.10",
          "Ambient - 4.62",
          "Ambient - 4.67",
          "Ambient - 4.25",
          "Ambient - 4.09",
          "Ambient - 5.00",
          "Ambient - 4.59",
          "Ambient - 5.00",
          "Ambient - 4.46",
          "Ambient - 4.19",
          "Ambient - 4.71"
         ],
         "type": "scatter",
         "x": [
          "2023-10",
          "2023-11",
          "2023-12",
          "2024-01",
          "2024-02",
          "2024-03",
          "2024-04",
          "2024-05",
          "2024-06",
          "2024-07",
          "2024-08",
          "2024-09"
         ],
         "xaxis": "x",
         "y": [
          4,
          4.1,
          4.625,
          4.666666666666667,
          4.25,
          4.090909090909091,
          5,
          4.592592592592593,
          5,
          4.461538461538462,
          4.1875,
          4.705882352941177
         ],
         "yaxis": "y"
        }
       ],
       "layout": {
        "annotations": [
         {
          "arrowhead": 2,
          "ax": 0,
          "ay": -40,
          "showarrow": true,
          "text": "Drop in February",
          "x": "2024-02",
          "xref": "x",
          "y": 4.625,
          "yref": "y"
         },
         {
          "arrowhead": 2,
          "ax": 0,
          "ay": -40,
          "showarrow": true,
          "text": "Drop in March",
          "x": "2024-03",
          "xref": "x",
          "y": 4.576923076923077,
          "yref": "y"
         },
         {
          "arrowhead": 2,
          "ax": 0,
          "ay": -40,
          "showarrow": true,
          "text": "Drop in August",
          "x": "2024-08",
          "xref": "x",
          "y": 4.5,
          "yref": "y"
         },
         {
          "arrowhead": 2,
          "ax": 0,
          "ay": 40,
          "showarrow": true,
          "text": "High in June",
          "x": "2024-06",
          "xref": "x",
          "y": 4.5888888888888895,
          "yref": "y"
         }
        ],
        "height": 400,
        "margin": {
         "b": 50,
         "l": 50,
         "r": 50,
         "t": 100
        },
        "paper_bgcolor": "white",
        "showlegend": false,
        "template": {
         "data": {
          "candlestick": [
           {
            "decreasing": {
             "line": {
              "color": "#000033"
             }
            },
            "increasing": {
             "line": {
              "color": "#000032"
             }
            },
            "type": "candlestick"
           }
          ],
          "contour": [
           {
            "colorscale": [
             [
              0,
              "#000011"
             ],
             [
              0.1111111111111111,
              "#000012"
             ],
             [
              0.2222222222222222,
              "#000013"
             ],
             [
              0.3333333333333333,
              "#000014"
             ],
             [
              0.4444444444444444,
              "#000015"
             ],
             [
              0.5555555555555556,
              "#000016"
             ],
             [
              0.6666666666666666,
              "#000017"
             ],
             [
              0.7777777777777778,
              "#000018"
             ],
             [
              0.8888888888888888,
              "#000019"
             ],
             [
              1,
              "#000020"
             ]
            ],
            "type": "contour"
           }
          ],
          "contourcarpet": [
           {
            "colorscale": [
             [
              0,
              "#000011"
             ],
             [
              0.1111111111111111,
              "#000012"
             ],
             [
              0.2222222222222222,
              "#000013"
             ],
             [
              0.3333333333333333,
              "#000014"
             ],
             [
              0.4444444444444444,
              "#000015"
             ],
             [
              0.5555555555555556,
              "#000016"
             ],
             [
              0.6666666666666666,
              "#000017"
             ],
             [
              0.7777777777777778,
              "#000018"
             ],
             [
              0.8888888888888888,
              "#000019"
             ],
             [
              1,
              "#000020"
             ]
            ],
            "type": "contourcarpet"
           }
          ],
          "heatmap": [
           {
            "colorscale": [
             [
              0,
              "#000011"
             ],
             [
              0.1111111111111111,
              "#000012"
             ],
             [
              0.2222222222222222,
              "#000013"
             ],
             [
              0.3333333333333333,
              "#000014"
             ],
             [
              0.4444444444444444,
              "#000015"
             ],
             [
              0.5555555555555556,
              "#000016"
             ],
             [
              0.6666666666666666,
              "#000017"
             ],
             [
              0.7777777777777778,
              "#000018"
             ],
             [
              0.8888888888888888,
              "#000019"
             ],
             [
              1,
              "#000020"
             ]
            ],
            "type": "heatmap"
           }
          ],
          "histogram2d": [
           {
            "colorscale": [
             [
              0,
              "#000011"
             ],
             [
              0.1111111111111111,
              "#000012"
             ],
             [
              0.2222222222222222,
              "#000013"
             ],
             [
              0.3333333333333333,
              "#000014"
             ],
             [
              0.4444444444444444,
              "#000015"
             ],
             [
              0.5555555555555556,
              "#000016"
             ],
             [
              0.6666666666666666,
              "#000017"
             ],
             [
              0.7777777777777778,
              "#000018"
             ],
             [
              0.8888888888888888,
              "#000019"
             ],
             [
              1,
              "#000020"
             ]
            ],
            "type": "histogram2d"
           }
          ],
          "icicle": [
           {
            "textfont": {
             "color": "white"
            },
            "type": "icicle"
           }
          ],
          "sankey": [
           {
            "textfont": {
             "color": "#000036"
            },
            "type": "sankey"
           }
          ],
          "scatter": [
           {
            "marker": {
             "line": {
              "width": 0
             }
            },
            "type": "scatter"
           }
          ],
          "table": [
           {
            "cells": {
             "fill": {
              "color": "#000038"
             },
             "font": {
              "color": "#000037"
             },
             "line": {
              "color": "#000039"
             }
            },
            "header": {
             "fill": {
              "color": "#000040"
             },
             "font": {
              "color": "#000036"
             },
             "line": {
              "color": "#000039"
             }
            },
            "type": "table"
           }
          ],
          "waterfall": [
           {
            "connector": {
             "line": {
              "color": "#000036",
              "width": 2
             }
            },
            "decreasing": {
             "marker": {
              "color": "#000033"
             }
            },
            "increasing": {
             "marker": {
              "color": "#000032"
             }
            },
            "totals": {
             "marker": {
              "color": "#000034"
             }
            },
            "type": "waterfall"
           }
          ]
         },
         "layout": {
          "coloraxis": {
           "colorscale": [
            [
             0,
             "#000011"
            ],
            [
             0.1111111111111111,
             "#000012"
            ],
            [
             0.2222222222222222,
             "#000013"
            ],
            [
             0.3333333333333333,
             "#000014"
            ],
            [
             0.4444444444444444,
             "#000015"
            ],
            [
             0.5555555555555556,
             "#000016"
            ],
            [
             0.6666666666666666,
             "#000017"
            ],
            [
             0.7777777777777778,
             "#000018"
            ],
            [
             0.8888888888888888,
             "#000019"
            ],
            [
             1,
             "#000020"
            ]
           ]
          },
          "colorscale": {
           "diverging": [
            [
             0,
             "#000021"
            ],
            [
             0.1,
             "#000022"
            ],
            [
             0.2,
             "#000023"
            ],
            [
             0.3,
             "#000024"
            ],
            [
             0.4,
             "#000025"
            ],
            [
             0.5,
             "#000026"
            ],
            [
             0.6,
             "#000027"
            ],
            [
             0.7,
             "#000028"
            ],
            [
             0.8,
             "#000029"
            ],
            [
             0.9,
             "#000030"
            ],
            [
             1,
             "#000031"
            ]
           ],
           "sequential": [
            [
             0,
             "#000011"
            ],
            [
             0.1111111111111111,
             "#000012"
            ],
            [
             0.2222222222222222,
             "#000013"
            ],
            [
             0.3333333333333333,
             "#000014"
            ],
            [
             0.4444444444444444,
             "#000015"
            ],
            [
             0.5555555555555556,
             "#000016"
            ],
            [
             0.6666666666666666,
             "#000017"
            ],
            [
             0.7777777777777778,
             "#000018"
            ],
            [
             0.8888888888888888,
             "#000019"
            ],
            [
             1,
             "#000020"
            ]
           ],
           "sequentialminus": [
            [
             0,
             "#000011"
            ],
            [
             0.1111111111111111,
             "#000012"
            ],
            [
             0.2222222222222222,
             "#000013"
            ],
            [
             0.3333333333333333,
             "#000014"
            ],
            [
             0.4444444444444444,
             "#000015"
            ],
            [
             0.5555555555555556,
             "#000016"
            ],
            [
             0.6666666666666666,
             "#000017"
            ],
            [
             0.7777777777777778,
             "#000018"
            ],
            [
             0.8888888888888888,
             "#000019"
            ],
            [
             1,
             "#000020"
            ]
           ]
          },
          "colorway": [
           "#000001",
           "#000002",
           "#000003",
           "#000004",
           "#000005",
           "#000006",
           "#000007",
           "#000008",
           "#000009",
           "#000010"
          ]
         }
        },
        "width": 1200,
        "xaxis": {
         "anchor": "y",
         "domain": [
          0,
          1
         ],
         "showgrid": false
        },
        "yaxis": {
         "anchor": "x",
         "domain": [
          0,
          1
         ],
         "showgrid": false,
         "title": {
          "text": "Average Score"
         }
        }
       }
      }
     },
     "metadata": {},
     "output_type": "display_data"
    }
   ],
   "source": [
    "label_mapping = {\n",
    "    'rating_score': 'Rating',\n",
    "    'food_score': 'Food',\n",
    "    'service_score': 'Service',\n",
    "    'atmosphere_score': 'Ambient'\n",
    "}\n",
    "\n",
    "plotTrend(reviews, label_mapping, app=False)\n",
    "#plotTrend(reviews, label_mapping, app=False, filter_min=\"2024-01-01\", filter_max=\"2024-05-01\")"
   ]
  }
 ],
 "metadata": {
  "kernelspec": {
   "display_name": "sar",
   "language": "python",
   "name": "python3"
  },
  "language_info": {
   "codemirror_mode": {
    "name": "ipython",
    "version": 3
   },
   "file_extension": ".py",
   "mimetype": "text/x-python",
   "name": "python",
   "nbconvert_exporter": "python",
   "pygments_lexer": "ipython3",
   "version": "3.9.19"
  }
 },
 "nbformat": 4,
 "nbformat_minor": 2
}
