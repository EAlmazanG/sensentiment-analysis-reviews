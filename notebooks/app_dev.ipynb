{
 "cells": [
  {
   "cell_type": "code",
   "execution_count": 1,
   "metadata": {},
   "outputs": [
    {
     "name": "stderr",
     "output_type": "stream",
     "text": [
      "[nltk_data] Downloading package stopwords to\n",
      "[nltk_data]     /Users/jobandtalent/nltk_data...\n",
      "[nltk_data]   Package stopwords is already up-to-date!\n",
      "[nltk_data] Downloading package vader_lexicon to\n",
      "[nltk_data]     /Users/jobandtalent/nltk_data...\n",
      "[nltk_data]   Package vader_lexicon is already up-to-date!\n"
     ]
    }
   ],
   "source": [
    "import streamlit as st\n",
    "import pandas as pd\n",
    "import numpy as np\n",
    "import re\n",
    "import json\n",
    "import os\n",
    "import sys\n",
    "\n",
    "sys.path.append(os.path.abspath(os.path.join('..')))\n",
    "from src import plots\n",
    "from src import ml_processing"
   ]
  },
  {
   "cell_type": "code",
   "execution_count": 4,
   "metadata": {},
   "outputs": [],
   "source": [
    "def loadData(uploaded_file):\n",
    "    if uploaded_file is not None:\n",
    "        return pd.read_csv(uploaded_file)\n",
    "    return None\n",
    "\n",
    "def extractPrefix(file_name):\n",
    "    # Split the filename and extract the part before \"_ml\"\n",
    "    return file_name.split('_ml')[0]\n",
    "\n",
    "def loadJson(file_path):\n",
    "    with open(file_path, 'r') as file:\n",
    "        return json.load(file)\n",
    "\n",
    "def reFormatEmbeddings(embedding_str):\n",
    "    cleaned_str = re.sub(r'[\\[\\]\\n]', '', embedding_str)\n",
    "    embedding_list = list(map(float, cleaned_str.split()))\n",
    "    return np.array(embedding_list, dtype=np.float32)\n",
    "    return embedding_str\n",
    "\n",
    "processed_path = '../data/processed/'\n",
    "raw_path = '../data/raw/'"
   ]
  },
  {
   "cell_type": "code",
   "execution_count": 8,
   "metadata": {},
   "outputs": [],
   "source": [
    "uploaded_file = 'hd_ml_processed_reviews.csv'\n",
    "\n",
    "## Load all necessary data\n",
    "# Load reviews data and extract place from the file name\n",
    "reviews = loadData(processed_path + uploaded_file)\n",
    "if 'embedding' in reviews.columns:\n",
    "    # Convert embeddings from string to list of floats\n",
    "    reviews['embedding'] = reviews['embedding'].apply(reFormatEmbeddings)\n",
    "\n",
    "file_name = uploaded_file\n",
    "place = extractPrefix(file_name)\n",
    "\n",
    "# Paths for the JSON and additional CSV files\n",
    "general_insights_file = os.path.join(processed_path, f\"{place}_general_insights.json\")\n",
    "worst_periods_file = os.path.join(processed_path, f\"{place}_worst_periods_insights.json\")\n",
    "sample_reviews_file = os.path.join(processed_path, f\"{place}_sample_selected_reviews.csv\")\n",
    "resume_file = os.path.join(raw_path, f\"resumme_{place}.csv\")\n",
    "\n",
    "# Load \"place\"_general_insights.json into a dictionary\n",
    "if os.path.exists(general_insights_file):\n",
    "    general_insights = loadJson(general_insights_file)\n",
    "\n",
    "# Load \"place\"_worst_periods_insights.json into a dictionary\n",
    "if os.path.exists(worst_periods_file):\n",
    "    worst_periods_insights = loadJson(worst_periods_file)\n",
    "\n",
    "# Load \"place\"_sample_selected_reviews.csv into a DataFrame\n",
    "if os.path.exists(sample_reviews_file):\n",
    "    sample_reviews = pd.read_csv(sample_reviews_file)\n",
    "\n",
    "# Load resumme_\"place\".csv from ./data/raw into a DataFrame\n",
    "if os.path.exists(resume_file):\n",
    "    resume = pd.read_csv(resume_file)"
   ]
  },
  {
   "cell_type": "markdown",
   "metadata": {},
   "source": [
    "### Dev"
   ]
  },
  {
   "cell_type": "code",
   "execution_count": null,
   "metadata": {},
   "outputs": [],
   "source": []
  }
 ],
 "metadata": {
  "kernelspec": {
   "display_name": "sar",
   "language": "python",
   "name": "python3"
  },
  "language_info": {
   "codemirror_mode": {
    "name": "ipython",
    "version": 3
   },
   "file_extension": ".py",
   "mimetype": "text/x-python",
   "name": "python",
   "nbconvert_exporter": "python",
   "pygments_lexer": "ipython3",
   "version": "3.9.19"
  }
 },
 "nbformat": 4,
 "nbformat_minor": 2
}
