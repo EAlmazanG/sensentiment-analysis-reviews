{
 "cells": [
  {
   "cell_type": "code",
   "execution_count": 1,
   "metadata": {},
   "outputs": [
    {
     "name": "stdout",
     "output_type": "stream",
     "text": [
      "Intel MKL WARNING: Support of Intel(R) Streaming SIMD Extensions 4.2 (Intel(R) SSE4.2) enabled only processors has been deprecated. Intel oneAPI Math Kernel Library 2025.0 will require Intel(R) Advanced Vector Extensions (Intel(R) AVX) instructions.\n",
      "Intel MKL WARNING: Support of Intel(R) Streaming SIMD Extensions 4.2 (Intel(R) SSE4.2) enabled only processors has been deprecated. Intel oneAPI Math Kernel Library 2025.0 will require Intel(R) Advanced Vector Extensions (Intel(R) AVX) instructions.\n"
     ]
    }
   ],
   "source": [
    "import time\n",
    "import pandas as pd"
   ]
  },
  {
   "cell_type": "code",
   "execution_count": 5,
   "metadata": {},
   "outputs": [],
   "source": [
    "from selenium import webdriver\n",
    "from selenium.webdriver.common.by import By\n",
    "from selenium.webdriver.chrome.service import Service\n",
    "from selenium.webdriver.chrome.options import Options\n",
    "from selenium.webdriver.support.ui import WebDriverWait\n",
    "from selenium.webdriver.support import expected_conditions as EC\n",
    "\n",
    "# chromedriver PATH\n",
    "chromedriver_path = '../chromedriver'\n",
    "service = Service(chromedriver_path)\n",
    "chrome_options = Options()\n",
    "chrome_options.add_argument(\"--disable-images\")\n",
    "driver = webdriver.Chrome(service=service, options=chrome_options)"
   ]
  },
  {
   "cell_type": "code",
   "execution_count": null,
   "metadata": {},
   "outputs": [],
   "source": [
    "driver.get(\"https://www.google.com/maps/place/Cervecer%C3%ADa+Sierra/@40.4400515,-3.7104325,15z/data=!4m8!3m7!1s0xd42285d9fe6f033:0xe27e4de86263432a!8m2!3d40.4342037!4d-3.7104844!9m1!1b1!16s%2Fg%2F11b6d43yfv?entry=ttu&g_ep=EgoyMDI0MDkxNi4wIKXMDSoASAFQAw%3D%3D\")\n",
    "wait = WebDriverWait(driver, 5)\n",
    "\n",
    "try:\n",
    "    accept_button = driver.find_element(By.XPATH, \"//button[@aria-label='Aceptar todo']\")\n",
    "    accept_button.click()\n",
    "    print(\"Se hizo clic en 'Aceptar todo'\")\n",
    "    time.sleep(1)  # Wait\n",
    "except Exception as e:\n",
    "    # If button doesnt appear, continue\n",
    "    pass"
   ]
  },
  {
   "cell_type": "code",
   "execution_count": null,
   "metadata": {},
   "outputs": [],
   "source": [
    "# Wait until reviews page is open\n",
    "wait = WebDriverWait(driver, 10)\n",
    "reviews_container = wait.until(EC.presence_of_element_located((By.CSS_SELECTOR, 'div.m6QErb.DxyBCb.kA9KIf.dS8AEf.XiKgde')))\n",
    "\n",
    "raw_html_reviews = driver.find_elements(By.CSS_SELECTOR, 'div.m6QErb.DxyBCb.kA9KIf.dS8AEf.XiKgde')\n",
    "\n",
    "print(raw_html_reviews[0].text)\n",
    "\n",
    "raw_html_stars_resumme = raw_html_reviews[0].find_elements(By.CSS_SELECTOR, 'tr.BHOKXe')\n",
    "\n",
    "ratings = []\n",
    "reviews_counts = []\n",
    "\n",
    "for star in raw_html_stars_resumme:\n",
    "    rating_text = star.get_attribute('aria-label')\n",
    "    rating_parts = rating_text.split(',')  # Dividimos la información por coma\n",
    "    stars = rating_parts[0].split()[0]  # Extraemos el número de estrellas\n",
    "    num_reviews = rating_parts[1].strip().split()[0].replace('.', '')  # Extraemos el número de reseñas y eliminamos el punto\n",
    "    ratings.append(int(stars))\n",
    "    reviews_counts.append(int(num_reviews))\n",
    "\n",
    "stars_resumme = pd.DataFrame({'stars': ratings, 'reviews': reviews_counts})\n",
    "display(stars_resumme)"
   ]
  },
  {
   "cell_type": "code",
   "execution_count": null,
   "metadata": {},
   "outputs": [],
   "source": [
    "# Asumiendo que raw_html_reviews es una lista de WebElements\n",
    "html = raw_html_reviews[0].get_attribute('outerHTML')\n",
    "print(html)"
   ]
  },
  {
   "cell_type": "code",
   "execution_count": null,
   "metadata": {},
   "outputs": [],
   "source": [
    "local_guide_info = raw_html_reviews[0].find_element(By.CLASS_NAME, \"RfDO5c\").text\n",
    "print(\"Local Guide Info:\", local_guide_info)\n"
   ]
  },
  {
   "cell_type": "code",
   "execution_count": null,
   "metadata": {},
   "outputs": [],
   "source": [
    "from selenium.webdriver.common.by import By\n",
    "import time\n",
    "\n",
    "# Inicializa las listas para almacenar los datos\n",
    "reviewers = []\n",
    "ratings = []\n",
    "review_texts = []\n",
    "review_dates = []\n",
    "local_guides = []\n",
    "text_backups = []\n",
    "\n",
    "# Inicializa un conjunto para rastrear las reseñas procesadas\n",
    "processed_review_ids = set()\n",
    "\n",
    "# Scroll loop\n",
    "SCROLL_PAUSE_TIME = 120\n",
    "\n",
    "last_height = driver.execute_script(\"return arguments[0].scrollHeight\", reviews_container)\n",
    "while True:\n",
    "    # Extract all visible reviews\n",
    "    raw_html_reviews = driver.find_elements(By.CSS_SELECTOR, 'div.jftiEf.fontBodyMedium')\n",
    "    \n",
    "    # Extract data for each review\n",
    "    for review in raw_html_reviews:\n",
    "        try:\n",
    "            # Obtener el 'data-review-id' de la reseña\n",
    "            review_id = review.get_attribute('data-review-id')\n",
    "            \n",
    "            # Verificar si la reseña ya ha sido procesada\n",
    "            if review_id in processed_review_ids:\n",
    "                continue  # Omitir reseñas ya procesadas\n",
    "            \n",
    "            # Agregar el ID de la reseña al conjunto de procesados\n",
    "            processed_review_ids.add(review_id)\n",
    "            \n",
    "            # Click on \"See more\" button to open the review\n",
    "            try:\n",
    "                more_buttons = review.find_elements(By.CSS_SELECTOR, 'button.w8nwRe')\n",
    "                for button in more_buttons:\n",
    "                    if button.is_displayed():\n",
    "                        button.click()\n",
    "                        time.sleep(1)\n",
    "            except Exception as e:\n",
    "                print(f\"No se encontró un botón 'Ver más' en esta reseña: {str(e)}\")\n",
    "\n",
    "            try: reviewer = review.find_element(By.CSS_SELECTOR, 'div.d4r55').text\n",
    "            except: reviewer = ''\n",
    "\n",
    "            try: review_text = review.find_element(By.CSS_SELECTOR, 'span.wiI7pd').text\n",
    "            except: review_text = ''\n",
    "\n",
    "            try: rating = review.find_element(By.CSS_SELECTOR, 'span.kvMYJc').get_attribute('aria-label')\n",
    "            except: rating = ''\n",
    "\n",
    "            try: review_date = review.find_element(By.CSS_SELECTOR, 'span.rsqaWe').text\n",
    "            except: review_date = ''\n",
    "\n",
    "            try: local_guide = review.find_element(By.CLASS_NAME, \"RfnDt\").text\n",
    "            except: local_guide = ''\n",
    "\n",
    "            print(reviewer + ' - ' + rating + ' - ' + review_date + ' - ' + review_text) \n",
    "\n",
    "            reviewers.append(reviewer)\n",
    "            review_texts.append(review_text)\n",
    "            ratings.append(rating)\n",
    "            review_dates.append(review_date)\n",
    "            local_guides.append(local_guide)\n",
    "\n",
    "            text_backups.append(review.text)\n",
    "\n",
    "        except Exception as e:\n",
    "            print(f\"Error al extraer una reseña: {str(e)}\")\n",
    "\n",
    "    # Scroll down the page\n",
    "    driver.execute_script(\"arguments[0].scrollTop = arguments[0].scrollHeight\", reviews_container)\n",
    "    time.sleep(10)\n",
    "\n",
    "    new_height = driver.execute_script(\"return arguments[0].scrollHeight\", reviews_container)\n",
    "    print(new_height)\n",
    "    print(last_height)\n",
    "    # If height doesn't change, wait to load more reviews.\n",
    "    if new_height == last_height:\n",
    "        print('No more reviews detected, forcing additional scroll')\n",
    "        # Wait more reviews to be loaded\n",
    "        time.sleep(SCROLL_PAUSE_TIME) \n",
    "        new_raw_html_reviews = driver.find_elements(By.CSS_SELECTOR, 'div.jftiEf.fontBodyMedium')\n",
    "        if len(new_raw_html_reviews) == len(raw_html_reviews): \n",
    "            print('No more reviews loaded, exiting scroll')\n",
    "            break\n",
    "    else:\n",
    "        last_height = new_height\n"
   ]
  },
  {
   "cell_type": "code",
   "execution_count": null,
   "metadata": {},
   "outputs": [],
   "source": [
    "collected_data = pd.DataFrame({\n",
    "    'author': reviewers,\n",
    "    'local_guide_info': local_guides,\n",
    "    'rating': ratings,\n",
    "    'review': review_texts,\n",
    "    'date': review_dates,\n",
    "    'price': prices,\n",
    "    'food': comidas,\n",
    "    'service': servicios,\n",
    "    'atmosphere': ambientes,\n",
    "    'recommendations': recomendados,\n",
    "    'text_backup': text_backups\n",
    "})\n",
    "display(collected_data)"
   ]
  },
  {
   "cell_type": "code",
   "execution_count": null,
   "metadata": {},
   "outputs": [],
   "source": [
    "collected_data.tail(30)"
   ]
  },
  {
   "cell_type": "code",
   "execution_count": null,
   "metadata": {},
   "outputs": [],
   "source": [
    "csv_file_path = '../data/raw/collected_data.csv'\n",
    "collected_data.to_csv(csv_file_path, index=False)\n"
   ]
  },
  {
   "cell_type": "code",
   "execution_count": null,
   "metadata": {},
   "outputs": [],
   "source": [
    "- comprobar para otros establecimientos"
   ]
  },
  {
   "cell_type": "code",
   "execution_count": null,
   "metadata": {},
   "outputs": [],
   "source": [
    "sample = collected_data.iloc[20].text_backup\n",
    "sample"
   ]
  },
  {
   "cell_type": "code",
   "execution_count": null,
   "metadata": {},
   "outputs": [],
   "source": [
    "import re\n",
    "\n",
    "clean_text = re.sub(r'\\\\ue[0-9a-f]{3}', '', sample)  # Eliminar emojis (\\ue...)\n",
    "clean_text = re.sub(r'\\n+', '\\n', clean_text)  # Eliminar saltos de línea excesivos\n",
    "clean_text = clean_text.strip()  # Eliminar espacios al principio y final\n",
    "\n",
    "# Extraer el precio por persona\n",
    "precio_persona = re.search(r'Precio por persona\\n([0-9€\\- ]+)', clean_text)\n",
    "precio_persona = precio_persona.group(1) if precio_persona else ''\n",
    "\n",
    "# Extraer valores de Comida, Servicio y Ambiente\n",
    "comida = re.search(r'Comida: (\\d+)', clean_text)\n",
    "comida = comida.group(1) if comida else ''\n",
    "\n",
    "servicio = re.search(r'Servicio: (\\d+)', clean_text)\n",
    "servicio = servicio.group(1) if servicio else ''\n",
    "\n",
    "ambiente = re.search(r'Ambiente: (\\d+)', clean_text)\n",
    "ambiente = ambiente.group(1) if ambiente else ''\n",
    "\n",
    "# Mostrar los resultados\n",
    "print(f'Precio por persona: {precio_persona}')\n",
    "print(f'Comida: {comida}')\n",
    "print(f'Servicio: {servicio}')\n",
    "print(f'Ambiente: {ambiente}')"
   ]
  }
 ],
 "metadata": {
  "kernelspec": {
   "display_name": "Python 3",
   "language": "python",
   "name": "python3"
  },
  "language_info": {
   "codemirror_mode": {
    "name": "ipython",
    "version": 3
   },
   "file_extension": ".py",
   "mimetype": "text/x-python",
   "name": "python",
   "nbconvert_exporter": "python",
   "pygments_lexer": "ipython3",
   "version": "3.9.19"
  }
 },
 "nbformat": 4,
 "nbformat_minor": 2
}
