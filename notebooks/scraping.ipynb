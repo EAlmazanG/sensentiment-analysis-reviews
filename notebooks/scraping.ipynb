{
 "cells": [
  {
   "cell_type": "code",
   "execution_count": 7,
   "metadata": {},
   "outputs": [
    {
     "name": "stdout",
     "output_type": "stream",
     "text": [
      "Intel MKL WARNING: Support of Intel(R) Streaming SIMD Extensions 4.2 (Intel(R) SSE4.2) enabled only processors has been deprecated. Intel oneAPI Math Kernel Library 2025.0 will require Intel(R) Advanced Vector Extensions (Intel(R) AVX) instructions.\n",
      "Intel MKL WARNING: Support of Intel(R) Streaming SIMD Extensions 4.2 (Intel(R) SSE4.2) enabled only processors has been deprecated. Intel oneAPI Math Kernel Library 2025.0 will require Intel(R) Advanced Vector Extensions (Intel(R) AVX) instructions.\n"
     ]
    }
   ],
   "source": [
    "# Import necessary libraries\n",
    "from selenium import webdriver\n",
    "from selenium.webdriver.common.by import By\n",
    "from selenium.webdriver.common.keys import Keys\n",
    "from selenium.webdriver.chrome.service import Service\n",
    "from webdriver_manager.chrome import ChromeDriverManager\n",
    "import time\n",
    "import pandas as pd"
   ]
  },
  {
   "cell_type": "code",
   "execution_count": 14,
   "metadata": {},
   "outputs": [],
   "source": [
    "from selenium import webdriver\n",
    "from webdriver_manager.chrome import ChromeDriverManager\n",
    "\n",
    "# Function to initialize the WebDriver\n",
    "def initialize_driver():\n",
    "    options = webdriver.ChromeOptions()\n",
    "    options.add_argument(\"--start-maximized\")\n",
    "    options.add_argument(\"--disable-blink-features=AutomationControlled\")\n",
    "    \n",
    "    # Usar el argumento 'executable_path' en lugar de 'service'\n",
    "    driver = webdriver.Chrome(executable_path=ChromeDriverManager().install(), options=options)\n",
    "    return driver\n"
   ]
  },
  {
   "cell_type": "code",
   "execution_count": 15,
   "metadata": {},
   "outputs": [],
   "source": [
    "# Function to scrape reviews from a Google Maps location\n",
    "def scrape_google_maps_reviews(url, num_reviews=50):\n",
    "    driver = initialize_driver()\n",
    "    driver.get(url)\n",
    "    \n",
    "    # Wait for the reviews section to load\n",
    "    time.sleep(5)\n",
    "    \n",
    "    # Scroll the page to load more reviews\n",
    "    scrollable_div = driver.find_element(By.XPATH, '//div[contains(@class, \"scrollable\")]')\n",
    "    \n",
    "    for _ in range(num_reviews // 10):  # Modify this range depending on how many reviews to scrape\n",
    "        driver.execute_script('arguments[0].scrollTop = arguments[0].scrollHeight', scrollable_div)\n",
    "        time.sleep(2)\n",
    "    \n",
    "    # Extract review elements\n",
    "    reviews = driver.find_elements(By.XPATH, '//div[contains(@class, \"review\")]')\n",
    "\n",
    "    # Collecting review data\n",
    "    reviews_data = []\n",
    "    for review in reviews:\n",
    "        review_text = review.find_element(By.XPATH, './/span[contains(@class, \"review-text\")]').text\n",
    "        review_date = review.find_element(By.XPATH, './/span[contains(@class, \"review-date\")]').text\n",
    "        reviews_data.append({\"text\": review_text, \"date\": review_date})\n",
    "    \n",
    "    driver.quit()\n",
    "    \n",
    "    return pd.DataFrame(reviews_data)"
   ]
  },
  {
   "cell_type": "code",
   "execution_count": 16,
   "metadata": {},
   "outputs": [
    {
     "name": "stdout",
     "output_type": "stream",
     "text": [
      "Unexpected exception formatting exception. Falling back to standard exception\n"
     ]
    },
    {
     "name": "stderr",
     "output_type": "stream",
     "text": [
      "Traceback (most recent call last):\n",
      "  File \"/Users/jobandtalent/opt/anaconda3/envs/sar/lib/python3.9/site-packages/IPython/core/interactiveshell.py\", line 3505, in run_code\n",
      "    exec(code_obj, self.user_global_ns, self.user_ns)\n",
      "  File \"/var/folders/hv/ckh3m6gn1sd45q2qctrqcwzh0000gn/T/ipykernel_64651/241914732.py\", line 5, in <module>\n",
      "    reviews_df = scrape_google_maps_reviews(url, num_reviews=50)\n",
      "  File \"/var/folders/hv/ckh3m6gn1sd45q2qctrqcwzh0000gn/T/ipykernel_64651/1974165106.py\", line 10, in scrape_google_maps_reviews\n",
      "    scrollable_div = driver.find_element(By.XPATH, '//div[contains(@class, \"scrollable\")]')\n",
      "  File \"/Users/jobandtalent/opt/anaconda3/envs/sar/lib/python3.9/site-packages/selenium/webdriver/remote/webdriver.py\", line 976, in find_element\n",
      "  File \"/Users/jobandtalent/opt/anaconda3/envs/sar/lib/python3.9/site-packages/selenium/webdriver/remote/webdriver.py\", line 321, in execute\n",
      "    def _unwrap_value(self, value):\n",
      "  File \"/Users/jobandtalent/opt/anaconda3/envs/sar/lib/python3.9/site-packages/selenium/webdriver/remote/errorhandler.py\", line 242, in check_response\n",
      "selenium.common.exceptions.NoSuchElementException: Message: no such element: Unable to locate element: {\"method\":\"xpath\",\"selector\":\"//div[contains(@class, \"scrollable\")]\"}\n",
      "  (Session info: chrome=128.0.6613.138)\n",
      "\n",
      "\n",
      "During handling of the above exception, another exception occurred:\n",
      "\n",
      "Traceback (most recent call last):\n",
      "  File \"/Users/jobandtalent/opt/anaconda3/envs/sar/lib/python3.9/site-packages/IPython/core/interactiveshell.py\", line 2102, in showtraceback\n",
      "    stb = self.InteractiveTB.structured_traceback(\n",
      "  File \"/Users/jobandtalent/opt/anaconda3/envs/sar/lib/python3.9/site-packages/IPython/core/ultratb.py\", line 1310, in structured_traceback\n",
      "    return FormattedTB.structured_traceback(\n",
      "  File \"/Users/jobandtalent/opt/anaconda3/envs/sar/lib/python3.9/site-packages/IPython/core/ultratb.py\", line 1199, in structured_traceback\n",
      "    return VerboseTB.structured_traceback(\n",
      "  File \"/Users/jobandtalent/opt/anaconda3/envs/sar/lib/python3.9/site-packages/IPython/core/ultratb.py\", line 1052, in structured_traceback\n",
      "    formatted_exception = self.format_exception_as_a_whole(etype, evalue, etb, number_of_lines_of_context,\n",
      "  File \"/Users/jobandtalent/opt/anaconda3/envs/sar/lib/python3.9/site-packages/IPython/core/ultratb.py\", line 978, in format_exception_as_a_whole\n",
      "    frames.append(self.format_record(record))\n",
      "  File \"/Users/jobandtalent/opt/anaconda3/envs/sar/lib/python3.9/site-packages/IPython/core/ultratb.py\", line 878, in format_record\n",
      "    frame_info.lines, Colors, self.has_colors, lvals\n",
      "  File \"/Users/jobandtalent/opt/anaconda3/envs/sar/lib/python3.9/site-packages/IPython/core/ultratb.py\", line 712, in lines\n",
      "    return self._sd.lines\n",
      "  File \"/Users/jobandtalent/opt/anaconda3/envs/sar/lib/python3.9/site-packages/stack_data/utils.py\", line 144, in cached_property_wrapper\n",
      "    value = obj.__dict__[self.func.__name__] = self.func(obj)\n",
      "  File \"/Users/jobandtalent/opt/anaconda3/envs/sar/lib/python3.9/site-packages/stack_data/core.py\", line 734, in lines\n",
      "    pieces = self.included_pieces\n",
      "  File \"/Users/jobandtalent/opt/anaconda3/envs/sar/lib/python3.9/site-packages/stack_data/utils.py\", line 144, in cached_property_wrapper\n",
      "    value = obj.__dict__[self.func.__name__] = self.func(obj)\n",
      "  File \"/Users/jobandtalent/opt/anaconda3/envs/sar/lib/python3.9/site-packages/stack_data/core.py\", line 681, in included_pieces\n",
      "    pos = scope_pieces.index(self.executing_piece)\n",
      "  File \"/Users/jobandtalent/opt/anaconda3/envs/sar/lib/python3.9/site-packages/stack_data/utils.py\", line 144, in cached_property_wrapper\n",
      "    value = obj.__dict__[self.func.__name__] = self.func(obj)\n",
      "  File \"/Users/jobandtalent/opt/anaconda3/envs/sar/lib/python3.9/site-packages/stack_data/core.py\", line 660, in executing_piece\n",
      "    return only(\n",
      "  File \"/Users/jobandtalent/opt/anaconda3/envs/sar/lib/python3.9/site-packages/executing/executing.py\", line 116, in only\n",
      "    raise NotOneValueFound('Expected one value, found 0')\n",
      "executing.executing.NotOneValueFound: Expected one value, found 0\n"
     ]
    }
   ],
   "source": [
    "# Test the function with the Google Maps URL you provided\n",
    "url = 'https://www.google.com/maps/place/Cervecer%C3%ADa+Sierra/@40.4355895,-3.7102454,17.36z/data=!4m6!3m5!1s0xd42285d9fe6f033:0xe27e4de86263432a!8m2!3d40.4342037!4d-3.7104844!16s%2Fg%2F11b6d43yfv?entry=ttu&g_ep=EgoyMDI0MDkxMS4wIKXMDSoASAFQAw%3D%3D'\n",
    "\n",
    "# Scrape the reviews and store them in a DataFrame\n",
    "reviews_df = scrape_google_maps_reviews(url, num_reviews=50)\n",
    "\n",
    "# Display the first few reviews\n",
    "reviews_df.head()"
   ]
  }
 ],
 "metadata": {
  "kernelspec": {
   "display_name": "Python 3",
   "language": "python",
   "name": "python3"
  },
  "language_info": {
   "codemirror_mode": {
    "name": "ipython",
    "version": 3
   },
   "file_extension": ".py",
   "mimetype": "text/x-python",
   "name": "python",
   "nbconvert_exporter": "python",
   "pygments_lexer": "ipython3",
   "version": "3.9.19"
  }
 },
 "nbformat": 4,
 "nbformat_minor": 2
}
