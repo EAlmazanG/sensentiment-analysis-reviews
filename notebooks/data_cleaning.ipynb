{
 "cells": [
  {
   "cell_type": "code",
   "execution_count": 1,
   "metadata": {},
   "outputs": [],
   "source": [
    "import pandas as pd\n",
    "import numpy as np\n",
    "import re"
   ]
  },
  {
   "cell_type": "code",
   "execution_count": null,
   "metadata": {},
   "outputs": [],
   "source": [
    "\n",
    "clean_text = re.sub(r'\\\\ue[0-9a-f]{3}', '', sample)  # Eliminar emojis (\\ue...)\n",
    "clean_text = re.sub(r'\\n+', '\\n', clean_text)  # Eliminar saltos de línea excesivos\n",
    "clean_text = clean_text.strip()  # Eliminar espacios al principio y final\n",
    "\n",
    "# Extraer el precio por persona\n",
    "precio_persona = re.search(r'Precio por persona\\n([0-9€\\- ]+)', clean_text)\n",
    "precio_persona = precio_persona.group(1) if precio_persona else ''\n",
    "\n",
    "# Extraer valores de Comida, Servicio y Ambiente\n",
    "comida = re.search(r'Comida: (\\d+)', clean_text)\n",
    "comida = comida.group(1) if comida else ''\n",
    "\n",
    "servicio = re.search(r'Servicio: (\\d+)', clean_text)\n",
    "servicio = servicio.group(1) if servicio else ''\n",
    "\n",
    "ambiente = re.search(r'Ambiente: (\\d+)', clean_text)\n",
    "ambiente = ambiente.group(1) if ambiente else ''\n",
    "\n",
    "# Mostrar los resultados\n",
    "print(f'Precio por persona: {precio_persona}')\n",
    "print(f'Comida: {comida}')\n",
    "print(f'Servicio: {servicio}')\n",
    "print(f'Ambiente: {ambiente}')"
   ]
  }
 ],
 "metadata": {
  "kernelspec": {
   "display_name": "sar",
   "language": "python",
   "name": "python3"
  },
  "language_info": {
   "codemirror_mode": {
    "name": "ipython",
    "version": 3
   },
   "file_extension": ".py",
   "mimetype": "text/x-python",
   "name": "python",
   "nbconvert_exporter": "python",
   "pygments_lexer": "ipython3",
   "version": "3.9.19"
  }
 },
 "nbformat": 4,
 "nbformat_minor": 2
}
