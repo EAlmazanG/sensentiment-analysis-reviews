{
 "cells": [
  {
   "cell_type": "code",
   "execution_count": null,
   "metadata": {},
   "outputs": [],
   "source": [
    "import pandas as pd\n",
    "import numpy as np\n",
    "import re\n",
    "from datetime import datetime, timedelta\n",
    "from dateutil.relativedelta import relativedelta"
   ]
  },
  {
   "cell_type": "code",
   "execution_count": null,
   "metadata": {},
   "outputs": [],
   "source": [
    "raw_data_path = '../data/raw/'\n",
    "\n",
    "name = '17punto10'\n",
    "reviews_raw = pd.read_csv(raw_data_path + 'collected_reviews_' + name + '.csv')\n",
    "resumme_raw = pd.read_csv(raw_data_path + 'resumme_' + name + '.csv')\n",
    "display(resumme_raw)\n",
    "display(reviews_raw.sample(5))"
   ]
  },
  {
   "cell_type": "code",
   "execution_count": null,
   "metadata": {},
   "outputs": [],
   "source": [
    "raw_data_path = '../data/raw/'\n",
    "reviews_raw = pd.read_csv(raw_data_path + 'collected_data.csv')\n",
    "reviews_raw.drop(columns=['price', 'food', 'service', 'atmosphere', 'recommendations'], inplace=True)\n",
    "reviews_raw.rename(columns = {'date':'date_text'}, inplace = True)\n",
    "display(reviews_raw.sample(5))"
   ]
  },
  {
   "cell_type": "code",
   "execution_count": null,
   "metadata": {},
   "outputs": [],
   "source": [
    "restaurant_search_words = {\n",
    "    'service': r'Servicio\\n([^\\n]+)',\n",
    "    'meal_type': r'Tipo de comida\\n([^\\n]+)',\n",
    "    'price_per_person': r'Precio por persona\\n([0-9€\\- ]+)',\n",
    "    'food_score': r'Comida: (\\d+)',\n",
    "    'service_score': r'Servicio: (\\d+)',\n",
    "    'atmosphere_score': r'Ambiente: (\\d+)',\n",
    "    'recommended': r'Platos recomendados\\n([^\\n]+)'\n",
    "}"
   ]
  },
  {
   "cell_type": "code",
   "execution_count": null,
   "metadata": {},
   "outputs": [],
   "source": [
    "def extractRestaurantDetailsFromReview(sample, search_words=None, verbose=False):\n",
    "    clean_text = re.sub(r'\\\\ue[0-9a-f]{3}', '', sample)\n",
    "    clean_text = re.sub(r'\\n+', '\\n', clean_text)\n",
    "    clean_text = clean_text.strip()\n",
    "\n",
    "    # Store extracted values\n",
    "    extracted_values = []\n",
    "\n",
    "    # Loop through search words to extract values dynamically\n",
    "    for key, regex in search_words.items():\n",
    "        match = re.search(regex, clean_text)\n",
    "        value = match.group(1) if match else ''\n",
    "        extracted_values.append(value)\n",
    "\n",
    "    return extracted_values\n",
    "\n",
    "def applyExtractDetails(df, search_words=None):\n",
    "    column_names = list(search_words.keys())\n",
    "    df[column_names] = df['text_backup'].apply(lambda x: pd.Series(extractRestaurantDetailsFromReview(x, search_words=search_words)))\n",
    "    return df\n",
    "\n",
    "def extractReviewCount(text):\n",
    "    if isinstance(text, str):  # Verify if its a string\n",
    "        match = re.search(r'(\\d+)\\s+reseñas', text)\n",
    "        if match:\n",
    "            return int(match.group(1))\n",
    "    return None\n",
    "\n",
    "def extractStarRating(text):\n",
    "    match = re.search(r'(\\d+)\\s+estrellas', text)\n",
    "    if match:\n",
    "        return int(match.group(1))\n",
    "    return None\n",
    "\n",
    "def extractRecommendations(recommendations):\n",
    "    recommendations_list = recommendations.split(', ')\n",
    "    if ' y ' in recommendations_list[-1]:\n",
    "        last_dishes = recommendations_list[-1].rsplit(' y ', 1)\n",
    "        recommendations_list = recommendations_list[:-1] + last_dishes\n",
    "    return recommendations_list\n",
    "\n",
    "def convertToDate(date_text):\n",
    "    today = datetime.today()\n",
    "\n",
    "    if 'semana' in date_text:\n",
    "        # Extract number of weeks, default to 1 if no number is present\n",
    "        weeks = pd.Series(date_text).str.extract(r'(\\d+)')[0]\n",
    "        weeks = int(weeks.iloc[0]) if pd.notna(weeks.iloc[0]) else 1\n",
    "        monday_of_current_week = today - timedelta(days=today.weekday())  # Get Monday of the current week\n",
    "        return monday_of_current_week.date() - timedelta(weeks=weeks)\n",
    "\n",
    "    elif 'mes' in date_text:\n",
    "        # Extract number of months, default to 1 if no number is present\n",
    "        months = pd.Series(date_text).str.extract(r'(\\d+)')[0]\n",
    "        months = int(months.iloc[0]) if pd.notna(months.iloc[0]) else 1\n",
    "        target_date = today - relativedelta(months=months)\n",
    "        # Return the first day of the target month\n",
    "        return target_date.replace(day=1).date()\n",
    "\n",
    "    elif 'año' in date_text:\n",
    "        # Extract number of years, default to 1 if no number is present\n",
    "        years = pd.Series(date_text).str.extract(r'(\\d+)')[0]\n",
    "        years = int(years.iloc[0]) if pd.notna(years.iloc[0]) else 1\n",
    "        target_date = today - relativedelta(years=years)\n",
    "        # Return the first day of the target year\n",
    "        return target_date.replace(month=1, day=1).date()\n",
    "\n",
    "    return None  # Return None if no match is found\n"
   ]
  },
  {
   "cell_type": "code",
   "execution_count": null,
   "metadata": {},
   "outputs": [],
   "source": [
    "reviews = reviews_raw.copy()\n",
    "\n",
    "reviews['local_guide_reviews'] = reviews['local_guide_info'].apply(extractReviewCount)\n",
    "reviews['rating_score'] = reviews['rating'].apply(extractStarRating)\n",
    "reviews = applyExtractDetails(reviews, search_words = restaurant_search_words)\n",
    "reviews['recommendations_list'] = reviews['recommended'].apply(extractRecommendations)\n",
    "reviews['date'] = reviews['date_text'].apply(convertToDate)\n",
    "\n",
    "reviews['food_score'] = reviews['food_score'].apply(pd.to_numeric, errors='coerce')\n",
    "reviews['service_score'] = reviews['service_score'].apply(pd.to_numeric, errors='coerce')\n",
    "reviews['atmosphere_score'] = reviews['atmosphere_score'].apply(pd.to_numeric, errors='coerce')\n",
    "reviews['avg_price_per_person'] = reviews['price_per_person'].str.extract(r'-(\\d+)\\s*€')\n",
    "reviews['avg_price_per_person'] = pd.to_numeric(reviews['avg_price_per_person'], errors='coerce').astype('Int64')\n",
    "\n",
    "\n",
    "reviews.drop(columns = ['text_backup', 'local_guide_info', 'rating', 'author', 'recommended', 'date_text'], inplace = True)\n",
    "reviews.reset_index(inplace=True)\n",
    "reviews.rename(columns={'index': 'review_id', 'price_per_person':'price_per_person_category'}, inplace=True)"
   ]
  },
  {
   "cell_type": "code",
   "execution_count": null,
   "metadata": {},
   "outputs": [],
   "source": [
    "# Fill NA values\n",
    "reviews['local_guide_reviews'] = reviews['local_guide_reviews'].fillna(1)\n",
    "reviews['rating_score'] = reviews['rating_score'].fillna(1)"
   ]
  },
  {
   "cell_type": "code",
   "execution_count": null,
   "metadata": {},
   "outputs": [],
   "source": [
    "display(reviews.head(30))"
   ]
  }
 ],
 "metadata": {
  "kernelspec": {
   "display_name": "sar",
   "language": "python",
   "name": "python3"
  },
  "language_info": {
   "codemirror_mode": {
    "name": "ipython",
    "version": 3
   },
   "file_extension": ".py",
   "mimetype": "text/x-python",
   "name": "python",
   "nbconvert_exporter": "python",
   "pygments_lexer": "ipython3",
   "version": "3.9.19"
  }
 },
 "nbformat": 4,
 "nbformat_minor": 2
}
