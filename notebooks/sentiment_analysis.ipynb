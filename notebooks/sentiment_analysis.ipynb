{
 "cells": [
  {
   "cell_type": "code",
   "execution_count": 96,
   "metadata": {},
   "outputs": [],
   "source": [
    "import pandas as pd\n",
    "import numpy as np\n",
    "import re\n",
    "import ast\n",
    "\n",
    "import datetime\n",
    "\n",
    "import matplotlib.pyplot as plt\n",
    "import seaborn as sns\n",
    "import plotly.graph_objects as go\n",
    "import plotly.express as px\n",
    "from plotly.subplots import make_subplots"
   ]
  },
  {
   "cell_type": "code",
   "execution_count": 97,
   "metadata": {},
   "outputs": [
    {
     "data": {
      "text/html": [
       "<div>\n",
       "<style scoped>\n",
       "    .dataframe tbody tr th:only-of-type {\n",
       "        vertical-align: middle;\n",
       "    }\n",
       "\n",
       "    .dataframe tbody tr th {\n",
       "        vertical-align: top;\n",
       "    }\n",
       "\n",
       "    .dataframe thead th {\n",
       "        text-align: right;\n",
       "    }\n",
       "</style>\n",
       "<table border=\"1\" class=\"dataframe\">\n",
       "  <thead>\n",
       "    <tr style=\"text-align: right;\">\n",
       "      <th></th>\n",
       "      <th>stars</th>\n",
       "      <th>reviews</th>\n",
       "    </tr>\n",
       "  </thead>\n",
       "  <tbody>\n",
       "    <tr>\n",
       "      <th>0</th>\n",
       "      <td>5</td>\n",
       "      <td>4012</td>\n",
       "    </tr>\n",
       "    <tr>\n",
       "      <th>1</th>\n",
       "      <td>4</td>\n",
       "      <td>1853</td>\n",
       "    </tr>\n",
       "    <tr>\n",
       "      <th>2</th>\n",
       "      <td>3</td>\n",
       "      <td>788</td>\n",
       "    </tr>\n",
       "    <tr>\n",
       "      <th>3</th>\n",
       "      <td>2</td>\n",
       "      <td>464</td>\n",
       "    </tr>\n",
       "    <tr>\n",
       "      <th>4</th>\n",
       "      <td>1</td>\n",
       "      <td>399</td>\n",
       "    </tr>\n",
       "  </tbody>\n",
       "</table>\n",
       "</div>"
      ],
      "text/plain": [
       "   stars  reviews\n",
       "0      5     4012\n",
       "1      4     1853\n",
       "2      3      788\n",
       "3      2      464\n",
       "4      1      399"
      ]
     },
     "metadata": {},
     "output_type": "display_data"
    },
    {
     "data": {
      "text/html": [
       "<div>\n",
       "<style scoped>\n",
       "    .dataframe tbody tr th:only-of-type {\n",
       "        vertical-align: middle;\n",
       "    }\n",
       "\n",
       "    .dataframe tbody tr th {\n",
       "        vertical-align: top;\n",
       "    }\n",
       "\n",
       "    .dataframe thead th {\n",
       "        text-align: right;\n",
       "    }\n",
       "</style>\n",
       "<table border=\"1\" class=\"dataframe\">\n",
       "  <thead>\n",
       "    <tr style=\"text-align: right;\">\n",
       "      <th></th>\n",
       "      <th>rating_score</th>\n",
       "      <th>date</th>\n",
       "      <th>review</th>\n",
       "      <th>local_guide_reviews</th>\n",
       "      <th>service</th>\n",
       "      <th>meal_type</th>\n",
       "      <th>price_per_person_category</th>\n",
       "      <th>food_score</th>\n",
       "      <th>service_score</th>\n",
       "      <th>atmosphere_score</th>\n",
       "      <th>recommendations_list</th>\n",
       "      <th>avg_price_per_person</th>\n",
       "    </tr>\n",
       "  </thead>\n",
       "  <tbody>\n",
       "    <tr>\n",
       "      <th>5639</th>\n",
       "      <td>4</td>\n",
       "      <td>2019-07-10</td>\n",
       "      <td>I rated the grill a four versus a five because...</td>\n",
       "      <td>80</td>\n",
       "      <td>Ate there</td>\n",
       "      <td>Luch</td>\n",
       "      <td>20-30 €</td>\n",
       "      <td>4</td>\n",
       "      <td>4</td>\n",
       "      <td>3</td>\n",
       "      <td>['']</td>\n",
       "      <td>30.0</td>\n",
       "    </tr>\n",
       "    <tr>\n",
       "      <th>7120</th>\n",
       "      <td>5</td>\n",
       "      <td>2019-09-28</td>\n",
       "      <td>Visiting New Orleans and definitely recommend ...</td>\n",
       "      <td>20</td>\n",
       "      <td>NaN</td>\n",
       "      <td>Dinner</td>\n",
       "      <td>1-10 €</td>\n",
       "      <td>5</td>\n",
       "      <td>4</td>\n",
       "      <td>5</td>\n",
       "      <td>['']</td>\n",
       "      <td>10.0</td>\n",
       "    </tr>\n",
       "    <tr>\n",
       "      <th>2393</th>\n",
       "      <td>2</td>\n",
       "      <td>2015-07-24</td>\n",
       "      <td>I'll start by saying that the service here was...</td>\n",
       "      <td>51</td>\n",
       "      <td>Ate there</td>\n",
       "      <td>NaN</td>\n",
       "      <td>10-20 €</td>\n",
       "      <td>1</td>\n",
       "      <td>3</td>\n",
       "      <td>1</td>\n",
       "      <td>['']</td>\n",
       "      <td>20.0</td>\n",
       "    </tr>\n",
       "    <tr>\n",
       "      <th>729</th>\n",
       "      <td>5</td>\n",
       "      <td>2013-09-09</td>\n",
       "      <td>The food and service was excellent here. All s...</td>\n",
       "      <td>50</td>\n",
       "      <td>NaN</td>\n",
       "      <td>NaN</td>\n",
       "      <td>10-20 €</td>\n",
       "      <td>4</td>\n",
       "      <td>5</td>\n",
       "      <td>5</td>\n",
       "      <td>['']</td>\n",
       "      <td>20.0</td>\n",
       "    </tr>\n",
       "    <tr>\n",
       "      <th>1696</th>\n",
       "      <td>4</td>\n",
       "      <td>2017-03-08</td>\n",
       "      <td>Fantastic service and tasty affordable grinds....</td>\n",
       "      <td>37</td>\n",
       "      <td>Take Away</td>\n",
       "      <td>NaN</td>\n",
       "      <td>NaN</td>\n",
       "      <td>3</td>\n",
       "      <td>3</td>\n",
       "      <td>4</td>\n",
       "      <td>['']</td>\n",
       "      <td>NaN</td>\n",
       "    </tr>\n",
       "  </tbody>\n",
       "</table>\n",
       "</div>"
      ],
      "text/plain": [
       "      rating_score        date  \\\n",
       "5639             4  2019-07-10   \n",
       "7120             5  2019-09-28   \n",
       "2393             2  2015-07-24   \n",
       "729              5  2013-09-09   \n",
       "1696             4  2017-03-08   \n",
       "\n",
       "                                                 review  local_guide_reviews  \\\n",
       "5639  I rated the grill a four versus a five because...                   80   \n",
       "7120  Visiting New Orleans and definitely recommend ...                   20   \n",
       "2393  I'll start by saying that the service here was...                   51   \n",
       "729   The food and service was excellent here. All s...                   50   \n",
       "1696  Fantastic service and tasty affordable grinds....                   37   \n",
       "\n",
       "        service meal_type price_per_person_category  food_score  \\\n",
       "5639  Ate there      Luch                   20-30 €           4   \n",
       "7120        NaN    Dinner                    1-10 €           5   \n",
       "2393  Ate there       NaN                   10-20 €           1   \n",
       "729         NaN       NaN                   10-20 €           4   \n",
       "1696  Take Away       NaN                       NaN           3   \n",
       "\n",
       "      service_score  atmosphere_score recommendations_list  \\\n",
       "5639              4                 3                 ['']   \n",
       "7120              4                 5                 ['']   \n",
       "2393              3                 1                 ['']   \n",
       "729               5                 5                 ['']   \n",
       "1696              3                 4                 ['']   \n",
       "\n",
       "      avg_price_per_person  \n",
       "5639                  30.0  \n",
       "7120                  10.0  \n",
       "2393                  20.0  \n",
       "729                   20.0  \n",
       "1696                   NaN  "
      ]
     },
     "metadata": {},
     "output_type": "display_data"
    }
   ],
   "source": [
    "# Load the processed and cleaned data\n",
    "processed_data_path = '../data/processed/'\n",
    "raw_data_path = '../data/raw/'\n",
    "\n",
    "name = 'Oceana Grill'\n",
    "\n",
    "reviews_pro = pd.read_csv(processed_data_path + name + '_reviews.csv')\n",
    "resumme_raw = pd.read_csv(raw_data_path + 'resumme_' + name + '.csv')\n",
    "\n",
    "display(resumme_raw)\n",
    "display(reviews_pro.sample(5))\n",
    "\n",
    "reviews = reviews_pro.copy()\n",
    "reviews.reset_index(drop=True, inplace=True)\n",
    "resumme = resumme_raw.copy()"
   ]
  },
  {
   "cell_type": "markdown",
   "metadata": {},
   "source": [
    "### First draft summary plots "
   ]
  },
  {
   "cell_type": "code",
   "execution_count": 98,
   "metadata": {},
   "outputs": [
    {
     "data": {
      "application/vnd.plotly.v1+json": {
       "config": {
        "plotlyServerURL": "https://plot.ly"
       },
       "data": [
        {
         "mode": "text",
         "text": [
          "4.15"
         ],
         "textfont": {
          "size": 120
         },
         "type": "scatter",
         "x": [
          0
         ],
         "xaxis": "x",
         "y": [
          0
         ],
         "yaxis": "y"
        },
        {
         "marker": {
          "color": "lightskyblue"
         },
         "name": "Reviews",
         "orientation": "h",
         "text": [
          4012,
          1853,
          788,
          464,
          399
         ],
         "textposition": "auto",
         "type": "bar",
         "x": [
          4012,
          1853,
          788,
          464,
          399
         ],
         "xaxis": "x2",
         "y": [
          5,
          4,
          3,
          2,
          1
         ],
         "yaxis": "y2"
        },
        {
         "marker": {
          "color": "lightgreen"
         },
         "name": "Categories",
         "orientation": "h",
         "text": [
          "3.70",
          "3.69",
          "3.69"
         ],
         "textposition": "auto",
         "type": "bar",
         "x": [
          3.70290047897818,
          3.6852048962213946,
          3.6899946780202235
         ],
         "xaxis": "x3",
         "y": [
          "Food",
          "Service",
          "Atmosphere"
         ],
         "yaxis": "y3"
        }
       ],
       "layout": {
        "annotations": [
         {
          "font": {
           "size": 16
          },
          "showarrow": false,
          "text": "Average Score",
          "x": 0.14444444444444446,
          "xanchor": "center",
          "xref": "paper",
          "y": 1,
          "yanchor": "bottom",
          "yref": "paper"
         },
         {
          "font": {
           "size": 16
          },
          "showarrow": false,
          "text": "Number of Reviews",
          "x": 0.5,
          "xanchor": "center",
          "xref": "paper",
          "y": 1,
          "yanchor": "bottom",
          "yref": "paper"
         },
         {
          "font": {
           "size": 16
          },
          "showarrow": false,
          "text": "Categories",
          "x": 0.8555555555555556,
          "xanchor": "center",
          "xref": "paper",
          "y": 1,
          "yanchor": "bottom",
          "yref": "paper"
         }
        ],
        "height": 500,
        "paper_bgcolor": "white",
        "plot_bgcolor": "white",
        "showlegend": false,
        "template": {
         "data": {
          "bar": [
           {
            "error_x": {
             "color": "#2a3f5f"
            },
            "error_y": {
             "color": "#2a3f5f"
            },
            "marker": {
             "line": {
              "color": "#E5ECF6",
              "width": 0.5
             },
             "pattern": {
              "fillmode": "overlay",
              "size": 10,
              "solidity": 0.2
             }
            },
            "type": "bar"
           }
          ],
          "barpolar": [
           {
            "marker": {
             "line": {
              "color": "#E5ECF6",
              "width": 0.5
             },
             "pattern": {
              "fillmode": "overlay",
              "size": 10,
              "solidity": 0.2
             }
            },
            "type": "barpolar"
           }
          ],
          "carpet": [
           {
            "aaxis": {
             "endlinecolor": "#2a3f5f",
             "gridcolor": "white",
             "linecolor": "white",
             "minorgridcolor": "white",
             "startlinecolor": "#2a3f5f"
            },
            "baxis": {
             "endlinecolor": "#2a3f5f",
             "gridcolor": "white",
             "linecolor": "white",
             "minorgridcolor": "white",
             "startlinecolor": "#2a3f5f"
            },
            "type": "carpet"
           }
          ],
          "choropleth": [
           {
            "colorbar": {
             "outlinewidth": 0,
             "ticks": ""
            },
            "type": "choropleth"
           }
          ],
          "contour": [
           {
            "colorbar": {
             "outlinewidth": 0,
             "ticks": ""
            },
            "colorscale": [
             [
              0,
              "#0d0887"
             ],
             [
              0.1111111111111111,
              "#46039f"
             ],
             [
              0.2222222222222222,
              "#7201a8"
             ],
             [
              0.3333333333333333,
              "#9c179e"
             ],
             [
              0.4444444444444444,
              "#bd3786"
             ],
             [
              0.5555555555555556,
              "#d8576b"
             ],
             [
              0.6666666666666666,
              "#ed7953"
             ],
             [
              0.7777777777777778,
              "#fb9f3a"
             ],
             [
              0.8888888888888888,
              "#fdca26"
             ],
             [
              1,
              "#f0f921"
             ]
            ],
            "type": "contour"
           }
          ],
          "contourcarpet": [
           {
            "colorbar": {
             "outlinewidth": 0,
             "ticks": ""
            },
            "type": "contourcarpet"
           }
          ],
          "heatmap": [
           {
            "colorbar": {
             "outlinewidth": 0,
             "ticks": ""
            },
            "colorscale": [
             [
              0,
              "#0d0887"
             ],
             [
              0.1111111111111111,
              "#46039f"
             ],
             [
              0.2222222222222222,
              "#7201a8"
             ],
             [
              0.3333333333333333,
              "#9c179e"
             ],
             [
              0.4444444444444444,
              "#bd3786"
             ],
             [
              0.5555555555555556,
              "#d8576b"
             ],
             [
              0.6666666666666666,
              "#ed7953"
             ],
             [
              0.7777777777777778,
              "#fb9f3a"
             ],
             [
              0.8888888888888888,
              "#fdca26"
             ],
             [
              1,
              "#f0f921"
             ]
            ],
            "type": "heatmap"
           }
          ],
          "heatmapgl": [
           {
            "colorbar": {
             "outlinewidth": 0,
             "ticks": ""
            },
            "colorscale": [
             [
              0,
              "#0d0887"
             ],
             [
              0.1111111111111111,
              "#46039f"
             ],
             [
              0.2222222222222222,
              "#7201a8"
             ],
             [
              0.3333333333333333,
              "#9c179e"
             ],
             [
              0.4444444444444444,
              "#bd3786"
             ],
             [
              0.5555555555555556,
              "#d8576b"
             ],
             [
              0.6666666666666666,
              "#ed7953"
             ],
             [
              0.7777777777777778,
              "#fb9f3a"
             ],
             [
              0.8888888888888888,
              "#fdca26"
             ],
             [
              1,
              "#f0f921"
             ]
            ],
            "type": "heatmapgl"
           }
          ],
          "histogram": [
           {
            "marker": {
             "pattern": {
              "fillmode": "overlay",
              "size": 10,
              "solidity": 0.2
             }
            },
            "type": "histogram"
           }
          ],
          "histogram2d": [
           {
            "colorbar": {
             "outlinewidth": 0,
             "ticks": ""
            },
            "colorscale": [
             [
              0,
              "#0d0887"
             ],
             [
              0.1111111111111111,
              "#46039f"
             ],
             [
              0.2222222222222222,
              "#7201a8"
             ],
             [
              0.3333333333333333,
              "#9c179e"
             ],
             [
              0.4444444444444444,
              "#bd3786"
             ],
             [
              0.5555555555555556,
              "#d8576b"
             ],
             [
              0.6666666666666666,
              "#ed7953"
             ],
             [
              0.7777777777777778,
              "#fb9f3a"
             ],
             [
              0.8888888888888888,
              "#fdca26"
             ],
             [
              1,
              "#f0f921"
             ]
            ],
            "type": "histogram2d"
           }
          ],
          "histogram2dcontour": [
           {
            "colorbar": {
             "outlinewidth": 0,
             "ticks": ""
            },
            "colorscale": [
             [
              0,
              "#0d0887"
             ],
             [
              0.1111111111111111,
              "#46039f"
             ],
             [
              0.2222222222222222,
              "#7201a8"
             ],
             [
              0.3333333333333333,
              "#9c179e"
             ],
             [
              0.4444444444444444,
              "#bd3786"
             ],
             [
              0.5555555555555556,
              "#d8576b"
             ],
             [
              0.6666666666666666,
              "#ed7953"
             ],
             [
              0.7777777777777778,
              "#fb9f3a"
             ],
             [
              0.8888888888888888,
              "#fdca26"
             ],
             [
              1,
              "#f0f921"
             ]
            ],
            "type": "histogram2dcontour"
           }
          ],
          "mesh3d": [
           {
            "colorbar": {
             "outlinewidth": 0,
             "ticks": ""
            },
            "type": "mesh3d"
           }
          ],
          "parcoords": [
           {
            "line": {
             "colorbar": {
              "outlinewidth": 0,
              "ticks": ""
             }
            },
            "type": "parcoords"
           }
          ],
          "pie": [
           {
            "automargin": true,
            "type": "pie"
           }
          ],
          "scatter": [
           {
            "fillpattern": {
             "fillmode": "overlay",
             "size": 10,
             "solidity": 0.2
            },
            "type": "scatter"
           }
          ],
          "scatter3d": [
           {
            "line": {
             "colorbar": {
              "outlinewidth": 0,
              "ticks": ""
             }
            },
            "marker": {
             "colorbar": {
              "outlinewidth": 0,
              "ticks": ""
             }
            },
            "type": "scatter3d"
           }
          ],
          "scattercarpet": [
           {
            "marker": {
             "colorbar": {
              "outlinewidth": 0,
              "ticks": ""
             }
            },
            "type": "scattercarpet"
           }
          ],
          "scattergeo": [
           {
            "marker": {
             "colorbar": {
              "outlinewidth": 0,
              "ticks": ""
             }
            },
            "type": "scattergeo"
           }
          ],
          "scattergl": [
           {
            "marker": {
             "colorbar": {
              "outlinewidth": 0,
              "ticks": ""
             }
            },
            "type": "scattergl"
           }
          ],
          "scattermapbox": [
           {
            "marker": {
             "colorbar": {
              "outlinewidth": 0,
              "ticks": ""
             }
            },
            "type": "scattermapbox"
           }
          ],
          "scatterpolar": [
           {
            "marker": {
             "colorbar": {
              "outlinewidth": 0,
              "ticks": ""
             }
            },
            "type": "scatterpolar"
           }
          ],
          "scatterpolargl": [
           {
            "marker": {
             "colorbar": {
              "outlinewidth": 0,
              "ticks": ""
             }
            },
            "type": "scatterpolargl"
           }
          ],
          "scatterternary": [
           {
            "marker": {
             "colorbar": {
              "outlinewidth": 0,
              "ticks": ""
             }
            },
            "type": "scatterternary"
           }
          ],
          "surface": [
           {
            "colorbar": {
             "outlinewidth": 0,
             "ticks": ""
            },
            "colorscale": [
             [
              0,
              "#0d0887"
             ],
             [
              0.1111111111111111,
              "#46039f"
             ],
             [
              0.2222222222222222,
              "#7201a8"
             ],
             [
              0.3333333333333333,
              "#9c179e"
             ],
             [
              0.4444444444444444,
              "#bd3786"
             ],
             [
              0.5555555555555556,
              "#d8576b"
             ],
             [
              0.6666666666666666,
              "#ed7953"
             ],
             [
              0.7777777777777778,
              "#fb9f3a"
             ],
             [
              0.8888888888888888,
              "#fdca26"
             ],
             [
              1,
              "#f0f921"
             ]
            ],
            "type": "surface"
           }
          ],
          "table": [
           {
            "cells": {
             "fill": {
              "color": "#EBF0F8"
             },
             "line": {
              "color": "white"
             }
            },
            "header": {
             "fill": {
              "color": "#C8D4E3"
             },
             "line": {
              "color": "white"
             }
            },
            "type": "table"
           }
          ]
         },
         "layout": {
          "annotationdefaults": {
           "arrowcolor": "#2a3f5f",
           "arrowhead": 0,
           "arrowwidth": 1
          },
          "autotypenumbers": "strict",
          "coloraxis": {
           "colorbar": {
            "outlinewidth": 0,
            "ticks": ""
           }
          },
          "colorscale": {
           "diverging": [
            [
             0,
             "#8e0152"
            ],
            [
             0.1,
             "#c51b7d"
            ],
            [
             0.2,
             "#de77ae"
            ],
            [
             0.3,
             "#f1b6da"
            ],
            [
             0.4,
             "#fde0ef"
            ],
            [
             0.5,
             "#f7f7f7"
            ],
            [
             0.6,
             "#e6f5d0"
            ],
            [
             0.7,
             "#b8e186"
            ],
            [
             0.8,
             "#7fbc41"
            ],
            [
             0.9,
             "#4d9221"
            ],
            [
             1,
             "#276419"
            ]
           ],
           "sequential": [
            [
             0,
             "#0d0887"
            ],
            [
             0.1111111111111111,
             "#46039f"
            ],
            [
             0.2222222222222222,
             "#7201a8"
            ],
            [
             0.3333333333333333,
             "#9c179e"
            ],
            [
             0.4444444444444444,
             "#bd3786"
            ],
            [
             0.5555555555555556,
             "#d8576b"
            ],
            [
             0.6666666666666666,
             "#ed7953"
            ],
            [
             0.7777777777777778,
             "#fb9f3a"
            ],
            [
             0.8888888888888888,
             "#fdca26"
            ],
            [
             1,
             "#f0f921"
            ]
           ],
           "sequentialminus": [
            [
             0,
             "#0d0887"
            ],
            [
             0.1111111111111111,
             "#46039f"
            ],
            [
             0.2222222222222222,
             "#7201a8"
            ],
            [
             0.3333333333333333,
             "#9c179e"
            ],
            [
             0.4444444444444444,
             "#bd3786"
            ],
            [
             0.5555555555555556,
             "#d8576b"
            ],
            [
             0.6666666666666666,
             "#ed7953"
            ],
            [
             0.7777777777777778,
             "#fb9f3a"
            ],
            [
             0.8888888888888888,
             "#fdca26"
            ],
            [
             1,
             "#f0f921"
            ]
           ]
          },
          "colorway": [
           "#636efa",
           "#EF553B",
           "#00cc96",
           "#ab63fa",
           "#FFA15A",
           "#19d3f3",
           "#FF6692",
           "#B6E880",
           "#FF97FF",
           "#FECB52"
          ],
          "font": {
           "color": "#2a3f5f"
          },
          "geo": {
           "bgcolor": "white",
           "lakecolor": "white",
           "landcolor": "#E5ECF6",
           "showlakes": true,
           "showland": true,
           "subunitcolor": "white"
          },
          "hoverlabel": {
           "align": "left"
          },
          "hovermode": "closest",
          "mapbox": {
           "style": "light"
          },
          "paper_bgcolor": "white",
          "plot_bgcolor": "#E5ECF6",
          "polar": {
           "angularaxis": {
            "gridcolor": "white",
            "linecolor": "white",
            "ticks": ""
           },
           "bgcolor": "#E5ECF6",
           "radialaxis": {
            "gridcolor": "white",
            "linecolor": "white",
            "ticks": ""
           }
          },
          "scene": {
           "xaxis": {
            "backgroundcolor": "#E5ECF6",
            "gridcolor": "white",
            "gridwidth": 2,
            "linecolor": "white",
            "showbackground": true,
            "ticks": "",
            "zerolinecolor": "white"
           },
           "yaxis": {
            "backgroundcolor": "#E5ECF6",
            "gridcolor": "white",
            "gridwidth": 2,
            "linecolor": "white",
            "showbackground": true,
            "ticks": "",
            "zerolinecolor": "white"
           },
           "zaxis": {
            "backgroundcolor": "#E5ECF6",
            "gridcolor": "white",
            "gridwidth": 2,
            "linecolor": "white",
            "showbackground": true,
            "ticks": "",
            "zerolinecolor": "white"
           }
          },
          "shapedefaults": {
           "line": {
            "color": "#2a3f5f"
           }
          },
          "ternary": {
           "aaxis": {
            "gridcolor": "white",
            "linecolor": "white",
            "ticks": ""
           },
           "baxis": {
            "gridcolor": "white",
            "linecolor": "white",
            "ticks": ""
           },
           "bgcolor": "#E5ECF6",
           "caxis": {
            "gridcolor": "white",
            "linecolor": "white",
            "ticks": ""
           }
          },
          "title": {
           "x": 0.05
          },
          "xaxis": {
           "automargin": true,
           "gridcolor": "white",
           "linecolor": "white",
           "ticks": "",
           "title": {
            "standoff": 15
           },
           "zerolinecolor": "white",
           "zerolinewidth": 2
          },
          "yaxis": {
           "automargin": true,
           "gridcolor": "white",
           "linecolor": "white",
           "ticks": "",
           "title": {
            "standoff": 15
           },
           "zerolinecolor": "white",
           "zerolinewidth": 2
          }
         }
        },
        "width": 1200,
        "xaxis": {
         "anchor": "y",
         "domain": [
          0,
          0.2888888888888889
         ],
         "showgrid": false,
         "showticklabels": false,
         "zeroline": false
        },
        "xaxis2": {
         "anchor": "y2",
         "domain": [
          0.35555555555555557,
          0.6444444444444445
         ]
        },
        "xaxis3": {
         "anchor": "y3",
         "domain": [
          0.7111111111111111,
          1
         ]
        },
        "yaxis": {
         "anchor": "x",
         "domain": [
          0,
          1
         ],
         "showgrid": false,
         "showticklabels": false,
         "zeroline": false
        },
        "yaxis2": {
         "anchor": "x2",
         "domain": [
          0,
          1
         ]
        },
        "yaxis3": {
         "anchor": "x3",
         "domain": [
          0,
          1
         ]
        }
       }
      }
     },
     "metadata": {},
     "output_type": "display_data"
    }
   ],
   "source": [
    "# Calculate the average for each score\n",
    "average_food = reviews['food_score'].mean()\n",
    "average_service = reviews['service_score'].mean()\n",
    "average_atmosphere = reviews['atmosphere_score'].mean()\n",
    "average_reviews = (resumme_raw['stars'] * resumme_raw['reviews']).sum() / resumme_raw['reviews'].sum()\n",
    "\n",
    "# Create a figure with horizontal subplots\n",
    "fig = make_subplots(rows=1, cols=3, \n",
    "                    specs=[[{\"type\": \"xy\"}, {\"type\": \"bar\"}, {\"type\": \"bar\"}]], \n",
    "                    subplot_titles=(\"Average Score\", \"Number of Reviews\", \"Categories\"))\n",
    "\n",
    "# First subplot: Display the average review as large text\n",
    "fig.add_trace(\n",
    "    go.Scatter(x=[0], y=[0], text=[f\"{average_reviews:.2f}\"], mode=\"text\", textfont=dict(size=120)),\n",
    "    row=1, col=1\n",
    ")\n",
    "\n",
    "fig.update_xaxes(showgrid=False, zeroline=False, showticklabels=False, row=1, col=1)\n",
    "fig.update_yaxes(showgrid=False, zeroline=False, showticklabels=False, row=1, col=1)\n",
    "\n",
    "\n",
    "# Second subplot: Bar plot for reviews\n",
    "fig.add_trace(\n",
    "    go.Bar(x=resumme_raw['reviews'], y=resumme_raw['stars'], marker=dict(color='lightskyblue'),\n",
    "           text=resumme_raw['reviews'], textposition='auto', name=\"Reviews\", orientation='h'),\n",
    "    row=1, col=2\n",
    ")\n",
    "\n",
    "# Third subplot: Bar plot for categories (Food, Service, Atmosphere)\n",
    "fig.add_trace(\n",
    "    go.Bar(x=[average_food, average_service, average_atmosphere], \n",
    "           y=['Food', 'Service', 'Atmosphere'], \n",
    "           marker=dict(color='lightgreen'), \n",
    "           text=[f\"{average_food:.2f}\", f\"{average_service:.2f}\", f\"{average_atmosphere:.2f}\"], \n",
    "           textposition='auto', \n",
    "           orientation='h', \n",
    "           name=\"Categories\"),\n",
    "    row=1, col=3\n",
    ")\n",
    "\n",
    "fig.update_layout(height=500, width=1200,  plot_bgcolor=\"white\", paper_bgcolor=\"white\", showlegend=False)\n",
    "fig.show()"
   ]
  },
  {
   "cell_type": "code",
   "execution_count": 99,
   "metadata": {},
   "outputs": [
    {
     "data": {
      "application/vnd.plotly.v1+json": {
       "config": {
        "plotlyServerURL": "https://plot.ly"
       },
       "data": [
        {
         "hoverinfo": "text",
         "line": {
          "color": "#1f77b4"
         },
         "marker": {
          "size": 8
         },
         "mode": "lines+markers",
         "name": "Rating",
         "text": [
          "Rating - 4.22",
          "Rating - 4.28",
          "Rating - 4.02",
          "Rating - 4.18",
          "Rating - 3.98",
          "Rating - 4.06",
          "Rating - 3.93",
          "Rating - 3.98",
          "Rating - 4.00",
          "Rating - 3.92",
          "Rating - 4.24",
          "Rating - 4.51",
          "Rating - 4.27"
         ],
         "type": "scatter",
         "x": [
          "2021-01",
          "2021-02",
          "2021-03",
          "2021-04",
          "2021-05",
          "2021-06",
          "2021-07",
          "2021-08",
          "2021-09",
          "2021-10",
          "2021-11",
          "2021-12",
          "2022-01"
         ],
         "xaxis": "x",
         "y": [
          4.222222222222222,
          4.277777777777778,
          4.020408163265306,
          4.184615384615385,
          3.982456140350877,
          4.059523809523809,
          3.9272727272727272,
          3.978723404255319,
          4,
          3.9166666666666665,
          4.244897959183674,
          4.511627906976744,
          4.267857142857143
         ],
         "yaxis": "y"
        },
        {
         "hoverinfo": "text",
         "line": {
          "color": "#aec7e8"
         },
         "mode": "lines+markers",
         "name": "Food",
         "text": [
          "Food - 3.89",
          "Food - 3.72",
          "Food - 3.82",
          "Food - 3.75",
          "Food - 3.60",
          "Food - 3.55",
          "Food - 3.64",
          "Food - 3.68",
          "Food - 3.73",
          "Food - 3.50",
          "Food - 3.71",
          "Food - 4.02",
          "Food - 3.88"
         ],
         "type": "scatter",
         "x": [
          "2021-01",
          "2021-02",
          "2021-03",
          "2021-04",
          "2021-05",
          "2021-06",
          "2021-07",
          "2021-08",
          "2021-09",
          "2021-10",
          "2021-11",
          "2021-12",
          "2022-01"
         ],
         "xaxis": "x",
         "y": [
          3.888888888888889,
          3.7222222222222223,
          3.816326530612245,
          3.753846153846154,
          3.5964912280701755,
          3.5476190476190474,
          3.6363636363636362,
          3.6808510638297873,
          3.727272727272727,
          3.5,
          3.7142857142857144,
          4.023255813953488,
          3.875
         ],
         "yaxis": "y"
        },
        {
         "hoverinfo": "text",
         "line": {
          "color": "#aec7e8"
         },
         "mode": "lines+markers",
         "name": "Service",
         "text": [
          "Service - 4.00",
          "Service - 3.89",
          "Service - 3.45",
          "Service - 3.60",
          "Service - 3.60",
          "Service - 3.79",
          "Service - 3.55",
          "Service - 3.77",
          "Service - 3.64",
          "Service - 3.83",
          "Service - 3.82",
          "Service - 4.00",
          "Service - 4.02"
         ],
         "type": "scatter",
         "x": [
          "2021-01",
          "2021-02",
          "2021-03",
          "2021-04",
          "2021-05",
          "2021-06",
          "2021-07",
          "2021-08",
          "2021-09",
          "2021-10",
          "2021-11",
          "2021-12",
          "2022-01"
         ],
         "xaxis": "x",
         "y": [
          4,
          3.888888888888889,
          3.4489795918367347,
          3.6,
          3.5964912280701755,
          3.7857142857142856,
          3.5454545454545454,
          3.765957446808511,
          3.6363636363636362,
          3.8333333333333335,
          3.816326530612245,
          4,
          4.017857142857143
         ],
         "yaxis": "y"
        },
        {
         "hoverinfo": "text",
         "line": {
          "color": "#aec7e8"
         },
         "mode": "lines+markers",
         "name": "Atmosphere",
         "text": [
          "Atmosphere - 3.33",
          "Atmosphere - 3.81",
          "Atmosphere - 3.76",
          "Atmosphere - 3.52",
          "Atmosphere - 3.60",
          "Atmosphere - 3.79",
          "Atmosphere - 3.65",
          "Atmosphere - 3.66",
          "Atmosphere - 3.55",
          "Atmosphere - 3.54",
          "Atmosphere - 3.78",
          "Atmosphere - 3.98",
          "Atmosphere - 3.84"
         ],
         "type": "scatter",
         "x": [
          "2021-01",
          "2021-02",
          "2021-03",
          "2021-04",
          "2021-05",
          "2021-06",
          "2021-07",
          "2021-08",
          "2021-09",
          "2021-10",
          "2021-11",
          "2021-12",
          "2022-01"
         ],
         "xaxis": "x",
         "y": [
          3.3333333333333335,
          3.8055555555555554,
          3.7551020408163267,
          3.523076923076923,
          3.5964912280701755,
          3.7857142857142856,
          3.6545454545454548,
          3.6595744680851063,
          3.5454545454545454,
          3.5416666666666665,
          3.7755102040816326,
          3.9767441860465116,
          3.8392857142857144
         ],
         "yaxis": "y"
        },
        {
         "hoverinfo": "text",
         "line": {
          "color": "#1f77b4",
          "width": 4
         },
         "marker": {
          "size": 8
         },
         "mode": "lines+markers",
         "name": "Rating",
         "text": [
          "Rating - 4.06",
          "Rating - 4.06",
          "Rating - 4.10",
          "Rating - 4.14",
          "Rating - 4.23",
          "Rating - 4.29",
          "Rating - 4.19",
          "Rating - 4.12",
          "Rating - 4.27"
         ],
         "type": "scatter",
         "x": [
          "2014",
          "2015",
          "2016",
          "2017",
          "2018",
          "2019",
          "2020",
          "2021",
          "2022"
         ],
         "xaxis": "x2",
         "y": [
          4.057591623036649,
          4.063444108761329,
          4.095483870967742,
          4.142245989304813,
          4.232464929859719,
          4.288547664747281,
          4.189591078066915,
          4.118881118881119,
          4.267857142857143
         ],
         "yaxis": "y2"
        },
        {
         "hoverinfo": "text",
         "line": {
          "color": "#1f77b4"
         },
         "marker": {
          "size": 8
         },
         "mode": "lines+markers",
         "name": "Rating",
         "text": [
          "Rating - 4.33",
          "Rating - 4.33",
          "Rating - 4.60",
          "Rating - 4.20",
          "Rating - 4.52",
          "Rating - 3.62"
         ],
         "type": "scatter",
         "x": [
          "2021-12-13",
          "2021-12-20",
          "2021-12-27",
          "2022-01-03",
          "2022-01-10",
          "2022-01-17"
         ],
         "xaxis": "x3",
         "y": [
          4.333333333333333,
          4.333333333333333,
          4.6,
          4.2,
          4.521739130434782,
          3.625
         ],
         "yaxis": "y3"
        },
        {
         "hoverinfo": "text",
         "line": {
          "color": "#aec7e8"
         },
         "mode": "lines+markers",
         "name": "Food",
         "text": [
          "Food - 3.33",
          "Food - 3.67",
          "Food - 4.33",
          "Food - 3.90",
          "Food - 4.04",
          "Food - 3.12"
         ],
         "type": "scatter",
         "x": [
          "2021-12-13",
          "2021-12-20",
          "2021-12-27",
          "2022-01-03",
          "2022-01-10",
          "2022-01-17"
         ],
         "xaxis": "x3",
         "y": [
          3.3333333333333335,
          3.6666666666666665,
          4.333333333333333,
          3.9,
          4.043478260869565,
          3.125
         ],
         "yaxis": "y3"
        },
        {
         "hoverinfo": "text",
         "line": {
          "color": "#aec7e8"
         },
         "mode": "lines+markers",
         "name": "Service",
         "text": [
          "Service - 3.67",
          "Service - 3.73",
          "Service - 4.07",
          "Service - 3.85",
          "Service - 4.35",
          "Service - 3.75"
         ],
         "type": "scatter",
         "x": [
          "2021-12-13",
          "2021-12-20",
          "2021-12-27",
          "2022-01-03",
          "2022-01-10",
          "2022-01-17"
         ],
         "xaxis": "x3",
         "y": [
          3.6666666666666665,
          3.7333333333333334,
          4.066666666666666,
          3.85,
          4.3478260869565215,
          3.75
         ],
         "yaxis": "y3"
        },
        {
         "hoverinfo": "text",
         "line": {
          "color": "#aec7e8"
         },
         "mode": "lines+markers",
         "name": "Atmosphere",
         "text": [
          "Atmosphere - 3.33",
          "Atmosphere - 3.80",
          "Atmosphere - 4.27",
          "Atmosphere - 3.70",
          "Atmosphere - 3.96",
          "Atmosphere - 3.62"
         ],
         "type": "scatter",
         "x": [
          "2021-12-13",
          "2021-12-20",
          "2021-12-27",
          "2022-01-03",
          "2022-01-10",
          "2022-01-17"
         ],
         "xaxis": "x3",
         "y": [
          3.3333333333333335,
          3.8,
          4.266666666666667,
          3.7,
          3.9565217391304346,
          3.625
         ],
         "yaxis": "y3"
        }
       ],
       "layout": {
        "annotations": [
         {
          "font": {
           "size": 16
          },
          "showarrow": false,
          "text": "Monthly Score Trends (Last 12 Months)",
          "x": 0.5,
          "xanchor": "center",
          "xref": "paper",
          "y": 1,
          "yanchor": "bottom",
          "yref": "paper"
         },
         {
          "font": {
           "size": 16
          },
          "showarrow": false,
          "text": "Annual Rating Score Trends (Last 6 Years)",
          "x": 0.225,
          "xanchor": "center",
          "xref": "paper",
          "y": 0.375,
          "yanchor": "bottom",
          "yref": "paper"
         },
         {
          "font": {
           "size": 16
          },
          "showarrow": false,
          "text": "Weekly Score Trends (Last 4 Weeks)",
          "x": 0.775,
          "xanchor": "center",
          "xref": "paper",
          "y": 0.375,
          "yanchor": "bottom",
          "yref": "paper"
         },
         {
          "arrowhead": 2,
          "ax": 0,
          "ay": 80,
          "font": {
           "size": 14
          },
          "showarrow": true,
          "text": "Highest Score",
          "x": "2024-06",
          "xref": "x",
          "y": 4.8,
          "yref": "y"
         },
         {
          "arrowhead": 2,
          "ax": 0,
          "ay": -40,
          "font": {
           "size": 14
          },
          "showarrow": true,
          "text": "Drop in March",
          "x": "2024-03",
          "xref": "x",
          "y": 4.5,
          "yref": "y"
         },
         {
          "arrowhead": 2,
          "ax": 0,
          "ay": -40,
          "font": {
           "size": 14
          },
          "showarrow": true,
          "text": "Drop in August",
          "x": "2024-08",
          "xref": "x",
          "y": 4.5,
          "yref": "y"
         }
        ],
        "height": 800,
        "margin": {
         "b": 50,
         "l": 50,
         "r": 50,
         "t": 100
        },
        "paper_bgcolor": "white",
        "plot_bgcolor": "white",
        "showlegend": false,
        "template": {
         "data": {
          "bar": [
           {
            "error_x": {
             "color": "#2a3f5f"
            },
            "error_y": {
             "color": "#2a3f5f"
            },
            "marker": {
             "line": {
              "color": "#E5ECF6",
              "width": 0.5
             },
             "pattern": {
              "fillmode": "overlay",
              "size": 10,
              "solidity": 0.2
             }
            },
            "type": "bar"
           }
          ],
          "barpolar": [
           {
            "marker": {
             "line": {
              "color": "#E5ECF6",
              "width": 0.5
             },
             "pattern": {
              "fillmode": "overlay",
              "size": 10,
              "solidity": 0.2
             }
            },
            "type": "barpolar"
           }
          ],
          "carpet": [
           {
            "aaxis": {
             "endlinecolor": "#2a3f5f",
             "gridcolor": "white",
             "linecolor": "white",
             "minorgridcolor": "white",
             "startlinecolor": "#2a3f5f"
            },
            "baxis": {
             "endlinecolor": "#2a3f5f",
             "gridcolor": "white",
             "linecolor": "white",
             "minorgridcolor": "white",
             "startlinecolor": "#2a3f5f"
            },
            "type": "carpet"
           }
          ],
          "choropleth": [
           {
            "colorbar": {
             "outlinewidth": 0,
             "ticks": ""
            },
            "type": "choropleth"
           }
          ],
          "contour": [
           {
            "colorbar": {
             "outlinewidth": 0,
             "ticks": ""
            },
            "colorscale": [
             [
              0,
              "#0d0887"
             ],
             [
              0.1111111111111111,
              "#46039f"
             ],
             [
              0.2222222222222222,
              "#7201a8"
             ],
             [
              0.3333333333333333,
              "#9c179e"
             ],
             [
              0.4444444444444444,
              "#bd3786"
             ],
             [
              0.5555555555555556,
              "#d8576b"
             ],
             [
              0.6666666666666666,
              "#ed7953"
             ],
             [
              0.7777777777777778,
              "#fb9f3a"
             ],
             [
              0.8888888888888888,
              "#fdca26"
             ],
             [
              1,
              "#f0f921"
             ]
            ],
            "type": "contour"
           }
          ],
          "contourcarpet": [
           {
            "colorbar": {
             "outlinewidth": 0,
             "ticks": ""
            },
            "type": "contourcarpet"
           }
          ],
          "heatmap": [
           {
            "colorbar": {
             "outlinewidth": 0,
             "ticks": ""
            },
            "colorscale": [
             [
              0,
              "#0d0887"
             ],
             [
              0.1111111111111111,
              "#46039f"
             ],
             [
              0.2222222222222222,
              "#7201a8"
             ],
             [
              0.3333333333333333,
              "#9c179e"
             ],
             [
              0.4444444444444444,
              "#bd3786"
             ],
             [
              0.5555555555555556,
              "#d8576b"
             ],
             [
              0.6666666666666666,
              "#ed7953"
             ],
             [
              0.7777777777777778,
              "#fb9f3a"
             ],
             [
              0.8888888888888888,
              "#fdca26"
             ],
             [
              1,
              "#f0f921"
             ]
            ],
            "type": "heatmap"
           }
          ],
          "heatmapgl": [
           {
            "colorbar": {
             "outlinewidth": 0,
             "ticks": ""
            },
            "colorscale": [
             [
              0,
              "#0d0887"
             ],
             [
              0.1111111111111111,
              "#46039f"
             ],
             [
              0.2222222222222222,
              "#7201a8"
             ],
             [
              0.3333333333333333,
              "#9c179e"
             ],
             [
              0.4444444444444444,
              "#bd3786"
             ],
             [
              0.5555555555555556,
              "#d8576b"
             ],
             [
              0.6666666666666666,
              "#ed7953"
             ],
             [
              0.7777777777777778,
              "#fb9f3a"
             ],
             [
              0.8888888888888888,
              "#fdca26"
             ],
             [
              1,
              "#f0f921"
             ]
            ],
            "type": "heatmapgl"
           }
          ],
          "histogram": [
           {
            "marker": {
             "pattern": {
              "fillmode": "overlay",
              "size": 10,
              "solidity": 0.2
             }
            },
            "type": "histogram"
           }
          ],
          "histogram2d": [
           {
            "colorbar": {
             "outlinewidth": 0,
             "ticks": ""
            },
            "colorscale": [
             [
              0,
              "#0d0887"
             ],
             [
              0.1111111111111111,
              "#46039f"
             ],
             [
              0.2222222222222222,
              "#7201a8"
             ],
             [
              0.3333333333333333,
              "#9c179e"
             ],
             [
              0.4444444444444444,
              "#bd3786"
             ],
             [
              0.5555555555555556,
              "#d8576b"
             ],
             [
              0.6666666666666666,
              "#ed7953"
             ],
             [
              0.7777777777777778,
              "#fb9f3a"
             ],
             [
              0.8888888888888888,
              "#fdca26"
             ],
             [
              1,
              "#f0f921"
             ]
            ],
            "type": "histogram2d"
           }
          ],
          "histogram2dcontour": [
           {
            "colorbar": {
             "outlinewidth": 0,
             "ticks": ""
            },
            "colorscale": [
             [
              0,
              "#0d0887"
             ],
             [
              0.1111111111111111,
              "#46039f"
             ],
             [
              0.2222222222222222,
              "#7201a8"
             ],
             [
              0.3333333333333333,
              "#9c179e"
             ],
             [
              0.4444444444444444,
              "#bd3786"
             ],
             [
              0.5555555555555556,
              "#d8576b"
             ],
             [
              0.6666666666666666,
              "#ed7953"
             ],
             [
              0.7777777777777778,
              "#fb9f3a"
             ],
             [
              0.8888888888888888,
              "#fdca26"
             ],
             [
              1,
              "#f0f921"
             ]
            ],
            "type": "histogram2dcontour"
           }
          ],
          "mesh3d": [
           {
            "colorbar": {
             "outlinewidth": 0,
             "ticks": ""
            },
            "type": "mesh3d"
           }
          ],
          "parcoords": [
           {
            "line": {
             "colorbar": {
              "outlinewidth": 0,
              "ticks": ""
             }
            },
            "type": "parcoords"
           }
          ],
          "pie": [
           {
            "automargin": true,
            "type": "pie"
           }
          ],
          "scatter": [
           {
            "fillpattern": {
             "fillmode": "overlay",
             "size": 10,
             "solidity": 0.2
            },
            "type": "scatter"
           }
          ],
          "scatter3d": [
           {
            "line": {
             "colorbar": {
              "outlinewidth": 0,
              "ticks": ""
             }
            },
            "marker": {
             "colorbar": {
              "outlinewidth": 0,
              "ticks": ""
             }
            },
            "type": "scatter3d"
           }
          ],
          "scattercarpet": [
           {
            "marker": {
             "colorbar": {
              "outlinewidth": 0,
              "ticks": ""
             }
            },
            "type": "scattercarpet"
           }
          ],
          "scattergeo": [
           {
            "marker": {
             "colorbar": {
              "outlinewidth": 0,
              "ticks": ""
             }
            },
            "type": "scattergeo"
           }
          ],
          "scattergl": [
           {
            "marker": {
             "colorbar": {
              "outlinewidth": 0,
              "ticks": ""
             }
            },
            "type": "scattergl"
           }
          ],
          "scattermapbox": [
           {
            "marker": {
             "colorbar": {
              "outlinewidth": 0,
              "ticks": ""
             }
            },
            "type": "scattermapbox"
           }
          ],
          "scatterpolar": [
           {
            "marker": {
             "colorbar": {
              "outlinewidth": 0,
              "ticks": ""
             }
            },
            "type": "scatterpolar"
           }
          ],
          "scatterpolargl": [
           {
            "marker": {
             "colorbar": {
              "outlinewidth": 0,
              "ticks": ""
             }
            },
            "type": "scatterpolargl"
           }
          ],
          "scatterternary": [
           {
            "marker": {
             "colorbar": {
              "outlinewidth": 0,
              "ticks": ""
             }
            },
            "type": "scatterternary"
           }
          ],
          "surface": [
           {
            "colorbar": {
             "outlinewidth": 0,
             "ticks": ""
            },
            "colorscale": [
             [
              0,
              "#0d0887"
             ],
             [
              0.1111111111111111,
              "#46039f"
             ],
             [
              0.2222222222222222,
              "#7201a8"
             ],
             [
              0.3333333333333333,
              "#9c179e"
             ],
             [
              0.4444444444444444,
              "#bd3786"
             ],
             [
              0.5555555555555556,
              "#d8576b"
             ],
             [
              0.6666666666666666,
              "#ed7953"
             ],
             [
              0.7777777777777778,
              "#fb9f3a"
             ],
             [
              0.8888888888888888,
              "#fdca26"
             ],
             [
              1,
              "#f0f921"
             ]
            ],
            "type": "surface"
           }
          ],
          "table": [
           {
            "cells": {
             "fill": {
              "color": "#EBF0F8"
             },
             "line": {
              "color": "white"
             }
            },
            "header": {
             "fill": {
              "color": "#C8D4E3"
             },
             "line": {
              "color": "white"
             }
            },
            "type": "table"
           }
          ]
         },
         "layout": {
          "annotationdefaults": {
           "arrowcolor": "#2a3f5f",
           "arrowhead": 0,
           "arrowwidth": 1
          },
          "autotypenumbers": "strict",
          "coloraxis": {
           "colorbar": {
            "outlinewidth": 0,
            "ticks": ""
           }
          },
          "colorscale": {
           "diverging": [
            [
             0,
             "#8e0152"
            ],
            [
             0.1,
             "#c51b7d"
            ],
            [
             0.2,
             "#de77ae"
            ],
            [
             0.3,
             "#f1b6da"
            ],
            [
             0.4,
             "#fde0ef"
            ],
            [
             0.5,
             "#f7f7f7"
            ],
            [
             0.6,
             "#e6f5d0"
            ],
            [
             0.7,
             "#b8e186"
            ],
            [
             0.8,
             "#7fbc41"
            ],
            [
             0.9,
             "#4d9221"
            ],
            [
             1,
             "#276419"
            ]
           ],
           "sequential": [
            [
             0,
             "#0d0887"
            ],
            [
             0.1111111111111111,
             "#46039f"
            ],
            [
             0.2222222222222222,
             "#7201a8"
            ],
            [
             0.3333333333333333,
             "#9c179e"
            ],
            [
             0.4444444444444444,
             "#bd3786"
            ],
            [
             0.5555555555555556,
             "#d8576b"
            ],
            [
             0.6666666666666666,
             "#ed7953"
            ],
            [
             0.7777777777777778,
             "#fb9f3a"
            ],
            [
             0.8888888888888888,
             "#fdca26"
            ],
            [
             1,
             "#f0f921"
            ]
           ],
           "sequentialminus": [
            [
             0,
             "#0d0887"
            ],
            [
             0.1111111111111111,
             "#46039f"
            ],
            [
             0.2222222222222222,
             "#7201a8"
            ],
            [
             0.3333333333333333,
             "#9c179e"
            ],
            [
             0.4444444444444444,
             "#bd3786"
            ],
            [
             0.5555555555555556,
             "#d8576b"
            ],
            [
             0.6666666666666666,
             "#ed7953"
            ],
            [
             0.7777777777777778,
             "#fb9f3a"
            ],
            [
             0.8888888888888888,
             "#fdca26"
            ],
            [
             1,
             "#f0f921"
            ]
           ]
          },
          "colorway": [
           "#636efa",
           "#EF553B",
           "#00cc96",
           "#ab63fa",
           "#FFA15A",
           "#19d3f3",
           "#FF6692",
           "#B6E880",
           "#FF97FF",
           "#FECB52"
          ],
          "font": {
           "color": "#2a3f5f"
          },
          "geo": {
           "bgcolor": "white",
           "lakecolor": "white",
           "landcolor": "#E5ECF6",
           "showlakes": true,
           "showland": true,
           "subunitcolor": "white"
          },
          "hoverlabel": {
           "align": "left"
          },
          "hovermode": "closest",
          "mapbox": {
           "style": "light"
          },
          "paper_bgcolor": "white",
          "plot_bgcolor": "#E5ECF6",
          "polar": {
           "angularaxis": {
            "gridcolor": "white",
            "linecolor": "white",
            "ticks": ""
           },
           "bgcolor": "#E5ECF6",
           "radialaxis": {
            "gridcolor": "white",
            "linecolor": "white",
            "ticks": ""
           }
          },
          "scene": {
           "xaxis": {
            "backgroundcolor": "#E5ECF6",
            "gridcolor": "white",
            "gridwidth": 2,
            "linecolor": "white",
            "showbackground": true,
            "ticks": "",
            "zerolinecolor": "white"
           },
           "yaxis": {
            "backgroundcolor": "#E5ECF6",
            "gridcolor": "white",
            "gridwidth": 2,
            "linecolor": "white",
            "showbackground": true,
            "ticks": "",
            "zerolinecolor": "white"
           },
           "zaxis": {
            "backgroundcolor": "#E5ECF6",
            "gridcolor": "white",
            "gridwidth": 2,
            "linecolor": "white",
            "showbackground": true,
            "ticks": "",
            "zerolinecolor": "white"
           }
          },
          "shapedefaults": {
           "line": {
            "color": "#2a3f5f"
           }
          },
          "ternary": {
           "aaxis": {
            "gridcolor": "white",
            "linecolor": "white",
            "ticks": ""
           },
           "baxis": {
            "gridcolor": "white",
            "linecolor": "white",
            "ticks": ""
           },
           "bgcolor": "#E5ECF6",
           "caxis": {
            "gridcolor": "white",
            "linecolor": "white",
            "ticks": ""
           }
          },
          "title": {
           "x": 0.05
          },
          "xaxis": {
           "automargin": true,
           "gridcolor": "white",
           "linecolor": "white",
           "ticks": "",
           "title": {
            "standoff": 15
           },
           "zerolinecolor": "white",
           "zerolinewidth": 2
          },
          "yaxis": {
           "automargin": true,
           "gridcolor": "white",
           "linecolor": "white",
           "ticks": "",
           "title": {
            "standoff": 15
           },
           "zerolinecolor": "white",
           "zerolinewidth": 2
          }
         }
        },
        "title": {
         "font": {
          "size": 28
         },
         "text": "Score Trends Analysis"
        },
        "width": 1200,
        "xaxis": {
         "anchor": "y",
         "domain": [
          0,
          1
         ],
         "showgrid": false,
         "showline": false
        },
        "xaxis2": {
         "anchor": "y2",
         "domain": [
          0,
          0.45
         ],
         "showgrid": false,
         "showline": false,
         "tickformat": "%Y"
        },
        "xaxis3": {
         "anchor": "y3",
         "domain": [
          0.55,
          1
         ],
         "showgrid": false,
         "showline": false,
         "tickformat": "%d-%b"
        },
        "yaxis": {
         "anchor": "x",
         "domain": [
          0.625,
          1
         ],
         "showgrid": true,
         "showline": false
        },
        "yaxis2": {
         "anchor": "x2",
         "domain": [
          0,
          0.375
         ],
         "showgrid": true,
         "showline": false
        },
        "yaxis3": {
         "anchor": "x3",
         "domain": [
          0,
          0.375
         ],
         "showgrid": true,
         "showline": false
        }
       }
      }
     },
     "metadata": {},
     "output_type": "display_data"
    }
   ],
   "source": [
    "# Convert date column to datetime format\n",
    "reviews['date'] = pd.to_datetime(reviews['date'], errors='coerce')\n",
    "reviews['month'] = reviews['date'].dt.to_period('M')\n",
    "reviews['year'] = reviews['date'].dt.year\n",
    "reviews['week'] = reviews['date'].dt.to_period('W')\n",
    "reviews['week'] = reviews['date'] - pd.to_timedelta(reviews['date'].dt.weekday, unit='d')\n",
    "reviews['week'] = reviews['week'].dt.strftime('%Y-%m-%d')\n",
    "\n",
    "# Filter data for the last periods (months, years, weeks)\n",
    "limit_date = reviews['date'].max()#pd.to_datetime('today')\n",
    "last_months = reviews[reviews['date'] >= limit_date - pd.DateOffset(months=12)]\n",
    "last_years = reviews[reviews['date'] >= limit_date - pd.DateOffset(years=8)]\n",
    "last_weeks = reviews[reviews['date'] >= limit_date - pd.DateOffset(weeks=5)]\n",
    "\n",
    "# Compute averages for the required periods\n",
    "monthly_avg_scores = last_months.groupby('month')[['rating_score', 'food_score', 'service_score', 'atmosphere_score']].mean()\n",
    "yearly_avg_scores = last_years.groupby('year')[['rating_score']].mean()\n",
    "weekly_avg_scores = last_weeks.groupby('week')[['rating_score', 'food_score', 'service_score', 'atmosphere_score']].mean()\n",
    "\n",
    "# Update the axis labels for each score to be more readable\n",
    "label_mapping = {\n",
    "    'rating_score': 'Rating',\n",
    "    'food_score': 'Food',\n",
    "    'service_score': 'Service',\n",
    "    'atmosphere_score': 'Atmosphere'\n",
    "}\n",
    "\n",
    "# Create a figure with subplots using the Z-layout\n",
    "fig = make_subplots(rows=2, cols=2,\n",
    "                    specs=[[{\"colspan\": 2}, None],\n",
    "                           [{}, {}]],  # 1 large plot on the first row, 2 smaller plots on the second\n",
    "                    subplot_titles=(\"Monthly Score Trends (Last 12 Months)\", \n",
    "                                    \"Annual Rating Score Trends (Last 6 Years)\", \n",
    "                                    \"Weekly Score Trends (Last 4 Weeks)\"))\n",
    "\n",
    "# Add monthly score trends to the first row (rating_score in stronger color)\n",
    "colors = ['#1f77b4', '#aec7e8', '#aec7e8', '#aec7e8']\n",
    "for i, column in enumerate(monthly_avg_scores.columns):\n",
    "    label = label_mapping[column]\n",
    "    fig.add_trace(\n",
    "        go.Scatter(x=monthly_avg_scores.index.astype(str), y=monthly_avg_scores[column],\n",
    "                   mode='lines+markers', name=label, \n",
    "                   text=[f\"{label} - {val:.2f}\" for val in monthly_avg_scores[column]], \n",
    "                   hoverinfo=\"text\", line=dict(color=colors[i])),\n",
    "        row=1, col=1)\n",
    "\n",
    "# Add yearly score trends to the second row (left)\n",
    "fig.add_trace(\n",
    "    go.Scatter(x=yearly_avg_scores.index.astype(str), y=yearly_avg_scores['rating_score'],\n",
    "               mode='lines+markers', name=\"Rating\", line=dict(color='#1f77b4', width=4),\n",
    "               text=[f\"Rating - {val:.2f}\" for val in yearly_avg_scores['rating_score']], \n",
    "               hoverinfo=\"text\"),\n",
    "    row=2, col=1)\n",
    "\n",
    "# Add weekly score trends to the second row (right, weaker colors)\n",
    "for i, column in enumerate(weekly_avg_scores.columns):\n",
    "    label = label_mapping[column]  # Get the readable label\n",
    "    fig.add_trace(\n",
    "        go.Scatter(x=weekly_avg_scores.index.astype(str), y=weekly_avg_scores[column],\n",
    "                   mode='lines+markers', name=label, \n",
    "                   text=[f\"{label} - {val:.2f}\" for val in weekly_avg_scores[column]], \n",
    "                   hoverinfo=\"text\", line=dict(color=colors[i])),\n",
    "        row=2, col=2)\n",
    "\n",
    "# Enhance presentation: remove gridlines and borders, increase size, and remove legend\n",
    "fig.update_layout(showlegend=False, \n",
    "                  title=\"Score Trends Analysis\",\n",
    "                  title_font=dict(size=28),\n",
    "                  margin=dict(l=50, r=50, t=100, b=50),\n",
    "                  paper_bgcolor=\"white\",\n",
    "                  height=800, width=1200)\n",
    "fig.update_xaxes(showline=False, showgrid=False)\n",
    "fig.update_yaxes(showline=False, showgrid=True)\n",
    "\n",
    "# Customize x-axes formatting: show only the year for yearly data, and only day and month for weekly data\n",
    "fig.update_xaxes(\n",
    "    tickformat=\"%Y\",  # Only show the year for the yearly graph\n",
    "    row=2, col=1\n",
    ")\n",
    "\n",
    "fig.update_xaxes(\n",
    "    tickformat=\"%d-%b\",  # Show only the day and month for weekly graph\n",
    "    row=2, col=2\n",
    ")\n",
    "\n",
    "# Add annotations to highlight key points\n",
    "fig.add_annotation(x='2024-06', y=4.8, \n",
    "                   text=\"Highest Score\", \n",
    "                   showarrow=True, arrowhead=2,\n",
    "                   ax=0, ay=80, row=1, col=1, font=dict(size=14))\n",
    "\n",
    "fig.add_annotation(x='2024-03', y=4.5, \n",
    "                   text=\"Drop in March\", \n",
    "                   showarrow=True, arrowhead=2,\n",
    "                   ax=0, ay=-40, row=1, col=1, font=dict(size=14))\n",
    "\n",
    "fig.add_annotation(x='2024-08', y=4.5, \n",
    "                   text=\"Drop in August\", \n",
    "                   showarrow=True, arrowhead=2,\n",
    "                   ax=0, ay=-40, row=1, col=1, font=dict(size=14))\n",
    "\n",
    "fig.update_traces(marker=dict(size=8), selector=dict(name=\"Rating\"))\n",
    "fig.update_layout(plot_bgcolor=\"white\", paper_bgcolor=\"white\")\n",
    "fig.show()\n"
   ]
  },
  {
   "cell_type": "markdown",
   "metadata": {},
   "source": [
    "### Cleaning and preprocessing"
   ]
  },
  {
   "cell_type": "code",
   "execution_count": 100,
   "metadata": {},
   "outputs": [
    {
     "name": "stderr",
     "output_type": "stream",
     "text": [
      "[nltk_data] Downloading package stopwords to\n",
      "[nltk_data]     /Users/jobandtalent/nltk_data...\n",
      "[nltk_data]   Package stopwords is already up-to-date!\n",
      "[nltk_data] Downloading package vader_lexicon to\n",
      "[nltk_data]     /Users/jobandtalent/nltk_data...\n",
      "[nltk_data]   Package vader_lexicon is already up-to-date!\n"
     ]
    }
   ],
   "source": [
    "import nltk\n",
    "from nltk.corpus import stopwords\n",
    "from nltk.sentiment.vader import SentimentIntensityAnalyzer\n",
    "import spacy\n",
    "from sklearn.feature_extraction.text import CountVectorizer\n",
    "from collections import Counter\n",
    "\n",
    "from tqdm import tqdm\n",
    "\n",
    "# Download NLTK stopwords and lexicon\n",
    "nltk.download('stopwords')\n",
    "nltk.download('vader_lexicon')\n",
    "\n",
    "# Load spaCy Spanish model\n",
    "nlp = spacy.load('es_core_news_sm')"
   ]
  },
  {
   "cell_type": "code",
   "execution_count": 101,
   "metadata": {},
   "outputs": [],
   "source": [
    "# Clean text, stopworks and tokenize words\n",
    "def clean_text(text):\n",
    "    text = text.lower()\n",
    "    text = re.sub(r'[^a-záéíóúñü0-9\\s]', '', text)\n",
    "    doc = nlp(text)\n",
    "    stop_words = set(stopwords.words('spanish'))\n",
    "    tokens = [token.lemma_ for token in doc \n",
    "              if token.text not in stop_words and not token.is_punct and not token.is_space]\n",
    "    return ' '.join(tokens)"
   ]
  },
  {
   "cell_type": "code",
   "execution_count": 102,
   "metadata": {},
   "outputs": [
    {
     "name": "stderr",
     "output_type": "stream",
     "text": [
      "Cleaning Reviews: 100%|██████████| 7516/7516 [01:26<00:00, 87.14it/s] \n"
     ]
    },
    {
     "data": {
      "text/html": [
       "<div>\n",
       "<style scoped>\n",
       "    .dataframe tbody tr th:only-of-type {\n",
       "        vertical-align: middle;\n",
       "    }\n",
       "\n",
       "    .dataframe tbody tr th {\n",
       "        vertical-align: top;\n",
       "    }\n",
       "\n",
       "    .dataframe thead th {\n",
       "        text-align: right;\n",
       "    }\n",
       "</style>\n",
       "<table border=\"1\" class=\"dataframe\">\n",
       "  <thead>\n",
       "    <tr style=\"text-align: right;\">\n",
       "      <th></th>\n",
       "      <th>review</th>\n",
       "      <th>cleaned_review</th>\n",
       "    </tr>\n",
       "  </thead>\n",
       "  <tbody>\n",
       "    <tr>\n",
       "      <th>3845</th>\n",
       "      <td>My friends were telling how good this place is...</td>\n",
       "      <td>my friends were telling how good this placir i...</td>\n",
       "    </tr>\n",
       "    <tr>\n",
       "      <th>2368</th>\n",
       "      <td>Eh, this place was fine. The food was decent, ...</td>\n",
       "      <td>eh this placir was finir the food was decent a...</td>\n",
       "    </tr>\n",
       "    <tr>\n",
       "      <th>5013</th>\n",
       "      <td>Took a weekend trip to NOLA and saw how highly...</td>\n",
       "      <td>took weekend trip to nola and saw how highly r...</td>\n",
       "    </tr>\n",
       "    <tr>\n",
       "      <th>3572</th>\n",
       "      <td>We were told to go here by a family member who...</td>\n",
       "      <td>we were told to go here by family member who p...</td>\n",
       "    </tr>\n",
       "    <tr>\n",
       "      <th>6271</th>\n",
       "      <td>So as I was in New Orleans for Mardi Gras I ha...</td>\n",
       "      <td>so as i was in new orleans for mardi gra i had...</td>\n",
       "    </tr>\n",
       "  </tbody>\n",
       "</table>\n",
       "</div>"
      ],
      "text/plain": [
       "                                                 review  \\\n",
       "3845  My friends were telling how good this place is...   \n",
       "2368  Eh, this place was fine. The food was decent, ...   \n",
       "5013  Took a weekend trip to NOLA and saw how highly...   \n",
       "3572  We were told to go here by a family member who...   \n",
       "6271  So as I was in New Orleans for Mardi Gras I ha...   \n",
       "\n",
       "                                         cleaned_review  \n",
       "3845  my friends were telling how good this placir i...  \n",
       "2368  eh this placir was finir the food was decent a...  \n",
       "5013  took weekend trip to nola and saw how highly r...  \n",
       "3572  we were told to go here by family member who p...  \n",
       "6271  so as i was in new orleans for mardi gra i had...  "
      ]
     },
     "metadata": {},
     "output_type": "display_data"
    }
   ],
   "source": [
    "tqdm.pandas(desc=\"Cleaning Reviews\")\n",
    "reviews['cleaned_review'] = reviews['review'].fillna('').progress_apply(clean_text)\n",
    "\n",
    "display(reviews[['review', 'cleaned_review']].sample(5))"
   ]
  },
  {
   "cell_type": "markdown",
   "metadata": {},
   "source": [
    "### Embeddings and sentiment analysis"
   ]
  },
  {
   "cell_type": "code",
   "execution_count": 103,
   "metadata": {},
   "outputs": [],
   "source": [
    "# Embeddings and Sentiment\n",
    "from transformers import pipeline\n",
    "from transformers import BertTokenizer, BertModel\n",
    "import torch\n",
    "\n",
    "# Word Clouds and Visualization\n",
    "from wordcloud import WordCloud\n"
   ]
  },
  {
   "cell_type": "markdown",
   "metadata": {},
   "source": [
    "#### Analyze sentiment"
   ]
  },
  {
   "cell_type": "code",
   "execution_count": 104,
   "metadata": {},
   "outputs": [
    {
     "name": "stdout",
     "output_type": "stream",
     "text": [
      "Top Positive Words: [('the', 26133), ('and', 18364), ('was', 15166), ('to', 8506), ('we', 7159), ('of', 6398), ('it', 6260), ('in', 5176), ('for', 5075), ('had', 4958)]\n",
      "Top Negative Words: [('the', 5250), ('and', 3015), ('was', 2797), ('to', 2113), ('it', 1443), ('of', 1306), ('we', 1209), ('in', 1078), ('food', 1003), ('for', 992)]\n",
      "Top Positive Bigrams: [('it was', 2441), ('and the', 1936), ('the food', 1907), ('had the', 1505), ('new orleans', 1455), ('this placir', 1374), ('of the', 1299), ('food was', 1297), ('in the', 1149), ('the best', 1133)]\n",
      "Top Negative Bigrams: [('it was', 471), ('the food', 399), ('this placir', 311), ('and the', 296), ('in the', 295), ('of the', 276), ('on the', 223), ('food was', 219), ('new orleans', 186), ('we were', 180)]\n"
     ]
    }
   ],
   "source": [
    "# Extract sentiment for each review using \n",
    "def analyzeSentiment(df):\n",
    "    # Initialize VADER sentiment analyzer\n",
    "    sia = SentimentIntensityAnalyzer()\n",
    "\n",
    "    # Apply sentiment analysis to each review using VADER\n",
    "    df['vader_sentiment'] = df['cleaned_review'].apply(lambda x: sia.polarity_scores(x)['compound'])\n",
    "    \n",
    "    # Classify sentiment into positive, neutral, negative using rating_score and vader_sentiment\n",
    "    def classify_sentiment(row):\n",
    "        if row['rating_score'] >= 4:\n",
    "            return 'positive'\n",
    "        elif row['rating_score'] <= 2:\n",
    "            return 'negative'\n",
    "        elif row['vader_sentiment'] > 0.05:\n",
    "            return 'positive'\n",
    "        elif row['vader_sentiment'] < -0.05:\n",
    "            return 'negative'\n",
    "        else:\n",
    "            return 'neutral'\n",
    "    \n",
    "    df['sentiment_label'] = df.apply(classify_sentiment, axis=1)\n",
    "    \n",
    "    return df\n",
    "\n",
    "# Extract most common words for a selected sentiment\n",
    "def extractCommonWords(df, sentiment_label='positive', n=10):\n",
    "    # Filter reviews by sentiment label\n",
    "    filtered_reviews = df[df['sentiment_label'] == sentiment_label]['cleaned_review'].fillna('').tolist()\n",
    "    \n",
    "    # Tokenize and count words for the given sentiment label\n",
    "    vectorizer = CountVectorizer().fit(filtered_reviews)\n",
    "    word_counts = vectorizer.transform(filtered_reviews).sum(axis=0)\n",
    "    \n",
    "    # Create a dictionary of word frequencies\n",
    "    word_freq = [(word, word_counts[0, idx]) for word, idx in vectorizer.vocabulary_.items()]\n",
    "    sorted_word_freq = sorted(word_freq, key=lambda x: x[1], reverse=True)[:n]\n",
    "    \n",
    "    return sorted_word_freq\n",
    "\n",
    "# Extract most common n-grams for a selected sentiment\n",
    "def extractCommonNgrams(df, sentiment_label='positive', n=2, top_n=10):\n",
    "    # Filter reviews by sentiment label\n",
    "    filtered_reviews = df[df['sentiment_label'] == sentiment_label]['cleaned_review'].fillna('').tolist()\n",
    "    \n",
    "    # Create n-grams for the given sentiment label\n",
    "    vectorizer = CountVectorizer(ngram_range=(n, n)).fit(filtered_reviews)\n",
    "    ngram_counts = vectorizer.transform(filtered_reviews).sum(axis=0)\n",
    "    \n",
    "    # Create a list of n-grams with their counts\n",
    "    ngram_freq = [(word, ngram_counts[0, idx]) for word, idx in vectorizer.vocabulary_.items()]\n",
    "    sorted_ngrams = sorted(ngram_freq, key=lambda x: x[1], reverse=True)[:top_n]\n",
    "    \n",
    "    return sorted_ngrams\n",
    "\n",
    "# Analyze sentiment with VADER\n",
    "reviews = analyzeSentiment(reviews)\n",
    "\n",
    "# Extract common positive and negative phrases\n",
    "common_positive_words = extractCommonWords(reviews, sentiment_label = 'positive', n = 10)\n",
    "common_negative_words = extractCommonWords(reviews, sentiment_label = 'negative', n = 10)\n",
    "\n",
    "print(\"Top Positive Words:\", common_positive_words)\n",
    "print(\"Top Negative Words:\", common_negative_words)\n",
    "\n",
    "# Extract common positive and negative bigrams\n",
    "common_positive_bigrams = extractCommonNgrams(reviews, sentiment_label='positive', n=2, top_n=10)\n",
    "common_negative_bigrams = extractCommonNgrams(reviews, sentiment_label='negative', n=2, top_n=10)\n",
    "\n",
    "print(\"Top Positive Bigrams:\", common_positive_bigrams)\n",
    "print(\"Top Negative Bigrams:\", common_negative_bigrams)"
   ]
  },
  {
   "cell_type": "code",
   "execution_count": 105,
   "metadata": {},
   "outputs": [
    {
     "name": "stderr",
     "output_type": "stream",
     "text": [
      "/var/folders/hv/ckh3m6gn1sd45q2qctrqcwzh0000gn/T/ipykernel_52152/2139309281.py:15: FutureWarning:\n",
      "\n",
      "'M' is deprecated and will be removed in a future version, please use 'ME' instead.\n",
      "\n"
     ]
    },
    {
     "data": {
      "application/vnd.plotly.v1+json": {
       "config": {
        "plotlyServerURL": "https://plot.ly"
       },
       "data": [
        {
         "fill": "tonexty",
         "fillcolor": "rgba(252, 141, 98, 0.7)",
         "fillpattern": {
          "shape": ""
         },
         "hovertemplate": "Sentiment=negative<br>=%{x}<br>Percentage of Reviews (%)=%{y}<extra></extra>",
         "legendgroup": "negative",
         "line": {
          "color": "#636efa",
          "shape": "spline",
          "width": 0
         },
         "marker": {
          "symbol": "circle"
         },
         "mode": "lines",
         "name": "negative",
         "orientation": "v",
         "showlegend": true,
         "stackgroup": "1",
         "type": "scatter",
         "x": [
          "2020-01-31T00:00:00",
          "2020-02-29T00:00:00",
          "2020-03-31T00:00:00",
          "2020-04-30T00:00:00",
          "2020-05-31T00:00:00",
          "2020-06-30T00:00:00",
          "2020-07-31T00:00:00",
          "2020-08-31T00:00:00",
          "2020-09-30T00:00:00",
          "2020-10-31T00:00:00",
          "2020-11-30T00:00:00",
          "2020-12-31T00:00:00",
          "2021-01-31T00:00:00",
          "2021-02-28T00:00:00",
          "2021-03-31T00:00:00",
          "2021-04-30T00:00:00",
          "2021-05-31T00:00:00",
          "2021-06-30T00:00:00",
          "2021-07-31T00:00:00",
          "2021-08-31T00:00:00",
          "2021-09-30T00:00:00",
          "2021-10-31T00:00:00",
          "2021-11-30T00:00:00",
          "2021-12-31T00:00:00",
          "2022-01-31T00:00:00"
         ],
         "xaxis": "x",
         "y": [
          12.5,
          13.1,
          22.22,
          27.27,
          25,
          7.14,
          4.76,
          8.2,
          5.36,
          5.66,
          4.55,
          10,
          12.2,
          11.11,
          18.37,
          15.38,
          17.54,
          16.67,
          16.36,
          21.28,
          27.27,
          20.83,
          12.24,
          0,
          7.14
         ],
         "yaxis": "y"
        },
        {
         "fill": "tonexty",
         "fillcolor": "rgba(141, 160, 203, 0.7)",
         "fillpattern": {
          "shape": ""
         },
         "hovertemplate": "Sentiment=neutral<br>=%{x}<br>Percentage of Reviews (%)=%{y}<extra></extra>",
         "legendgroup": "neutral",
         "line": {
          "color": "#EF553B",
          "shape": "spline",
          "width": 0
         },
         "marker": {
          "symbol": "circle"
         },
         "mode": "lines",
         "name": "neutral",
         "orientation": "v",
         "showlegend": true,
         "stackgroup": "1",
         "type": "scatter",
         "x": [
          "2020-01-31T00:00:00",
          "2020-02-29T00:00:00",
          "2020-03-31T00:00:00",
          "2020-04-30T00:00:00",
          "2020-05-31T00:00:00",
          "2020-06-30T00:00:00",
          "2020-07-31T00:00:00",
          "2020-08-31T00:00:00",
          "2020-09-30T00:00:00",
          "2020-10-31T00:00:00",
          "2020-11-30T00:00:00",
          "2020-12-31T00:00:00",
          "2021-01-31T00:00:00",
          "2021-02-28T00:00:00",
          "2021-03-31T00:00:00",
          "2021-04-30T00:00:00",
          "2021-05-31T00:00:00",
          "2021-06-30T00:00:00",
          "2021-07-31T00:00:00",
          "2021-08-31T00:00:00",
          "2021-09-30T00:00:00",
          "2021-10-31T00:00:00",
          "2021-11-30T00:00:00",
          "2021-12-31T00:00:00",
          "2022-01-31T00:00:00"
         ],
         "xaxis": "x",
         "y": [
          0,
          0,
          0,
          0,
          12.5,
          0,
          0,
          1.64,
          0,
          0,
          2.27,
          0,
          2.44,
          0,
          0,
          0,
          0,
          0,
          0,
          0,
          0,
          0,
          0,
          2.33,
          0
         ],
         "yaxis": "y"
        },
        {
         "fill": "tonexty",
         "fillcolor": "rgba(102, 194, 165, 0.7)",
         "fillpattern": {
          "shape": ""
         },
         "hovertemplate": "Sentiment=positive<br>=%{x}<br>Percentage of Reviews (%)=%{y}<extra></extra>",
         "legendgroup": "positive",
         "line": {
          "color": "#00cc96",
          "shape": "spline",
          "width": 0
         },
         "marker": {
          "symbol": "circle"
         },
         "mode": "lines",
         "name": "positive",
         "orientation": "v",
         "showlegend": true,
         "stackgroup": "1",
         "type": "scatter",
         "x": [
          "2020-01-31T00:00:00",
          "2020-02-29T00:00:00",
          "2020-03-31T00:00:00",
          "2020-04-30T00:00:00",
          "2020-05-31T00:00:00",
          "2020-06-30T00:00:00",
          "2020-07-31T00:00:00",
          "2020-08-31T00:00:00",
          "2020-09-30T00:00:00",
          "2020-10-31T00:00:00",
          "2020-11-30T00:00:00",
          "2020-12-31T00:00:00",
          "2021-01-31T00:00:00",
          "2021-02-28T00:00:00",
          "2021-03-31T00:00:00",
          "2021-04-30T00:00:00",
          "2021-05-31T00:00:00",
          "2021-06-30T00:00:00",
          "2021-07-31T00:00:00",
          "2021-08-31T00:00:00",
          "2021-09-30T00:00:00",
          "2021-10-31T00:00:00",
          "2021-11-30T00:00:00",
          "2021-12-31T00:00:00",
          "2022-01-31T00:00:00"
         ],
         "xaxis": "x",
         "y": [
          87.5,
          86.9,
          77.78,
          72.73,
          62.5,
          92.86,
          95.24,
          90.16,
          94.64,
          94.34,
          93.18,
          90,
          85.37,
          88.89,
          81.63,
          84.62,
          82.46,
          83.33,
          83.64,
          78.72,
          72.73,
          79.17,
          87.76,
          97.67,
          92.86
         ],
         "yaxis": "y"
        }
       ],
       "layout": {
        "height": 400,
        "hovermode": "x unified",
        "legend": {
         "orientation": "h",
         "title": {
          "text": ""
         },
         "tracegroupgap": 0,
         "x": 1,
         "xanchor": "right",
         "y": 1.02,
         "yanchor": "bottom"
        },
        "margin": {
         "b": 20,
         "l": 20,
         "r": 20,
         "t": 50
        },
        "plot_bgcolor": "rgba(0,0,0,0)",
        "template": {
         "data": {
          "bar": [
           {
            "error_x": {
             "color": "#2a3f5f"
            },
            "error_y": {
             "color": "#2a3f5f"
            },
            "marker": {
             "line": {
              "color": "white",
              "width": 0.5
             },
             "pattern": {
              "fillmode": "overlay",
              "size": 10,
              "solidity": 0.2
             }
            },
            "type": "bar"
           }
          ],
          "barpolar": [
           {
            "marker": {
             "line": {
              "color": "white",
              "width": 0.5
             },
             "pattern": {
              "fillmode": "overlay",
              "size": 10,
              "solidity": 0.2
             }
            },
            "type": "barpolar"
           }
          ],
          "carpet": [
           {
            "aaxis": {
             "endlinecolor": "#2a3f5f",
             "gridcolor": "#C8D4E3",
             "linecolor": "#C8D4E3",
             "minorgridcolor": "#C8D4E3",
             "startlinecolor": "#2a3f5f"
            },
            "baxis": {
             "endlinecolor": "#2a3f5f",
             "gridcolor": "#C8D4E3",
             "linecolor": "#C8D4E3",
             "minorgridcolor": "#C8D4E3",
             "startlinecolor": "#2a3f5f"
            },
            "type": "carpet"
           }
          ],
          "choropleth": [
           {
            "colorbar": {
             "outlinewidth": 0,
             "ticks": ""
            },
            "type": "choropleth"
           }
          ],
          "contour": [
           {
            "colorbar": {
             "outlinewidth": 0,
             "ticks": ""
            },
            "colorscale": [
             [
              0,
              "#0d0887"
             ],
             [
              0.1111111111111111,
              "#46039f"
             ],
             [
              0.2222222222222222,
              "#7201a8"
             ],
             [
              0.3333333333333333,
              "#9c179e"
             ],
             [
              0.4444444444444444,
              "#bd3786"
             ],
             [
              0.5555555555555556,
              "#d8576b"
             ],
             [
              0.6666666666666666,
              "#ed7953"
             ],
             [
              0.7777777777777778,
              "#fb9f3a"
             ],
             [
              0.8888888888888888,
              "#fdca26"
             ],
             [
              1,
              "#f0f921"
             ]
            ],
            "type": "contour"
           }
          ],
          "contourcarpet": [
           {
            "colorbar": {
             "outlinewidth": 0,
             "ticks": ""
            },
            "type": "contourcarpet"
           }
          ],
          "heatmap": [
           {
            "colorbar": {
             "outlinewidth": 0,
             "ticks": ""
            },
            "colorscale": [
             [
              0,
              "#0d0887"
             ],
             [
              0.1111111111111111,
              "#46039f"
             ],
             [
              0.2222222222222222,
              "#7201a8"
             ],
             [
              0.3333333333333333,
              "#9c179e"
             ],
             [
              0.4444444444444444,
              "#bd3786"
             ],
             [
              0.5555555555555556,
              "#d8576b"
             ],
             [
              0.6666666666666666,
              "#ed7953"
             ],
             [
              0.7777777777777778,
              "#fb9f3a"
             ],
             [
              0.8888888888888888,
              "#fdca26"
             ],
             [
              1,
              "#f0f921"
             ]
            ],
            "type": "heatmap"
           }
          ],
          "heatmapgl": [
           {
            "colorbar": {
             "outlinewidth": 0,
             "ticks": ""
            },
            "colorscale": [
             [
              0,
              "#0d0887"
             ],
             [
              0.1111111111111111,
              "#46039f"
             ],
             [
              0.2222222222222222,
              "#7201a8"
             ],
             [
              0.3333333333333333,
              "#9c179e"
             ],
             [
              0.4444444444444444,
              "#bd3786"
             ],
             [
              0.5555555555555556,
              "#d8576b"
             ],
             [
              0.6666666666666666,
              "#ed7953"
             ],
             [
              0.7777777777777778,
              "#fb9f3a"
             ],
             [
              0.8888888888888888,
              "#fdca26"
             ],
             [
              1,
              "#f0f921"
             ]
            ],
            "type": "heatmapgl"
           }
          ],
          "histogram": [
           {
            "marker": {
             "pattern": {
              "fillmode": "overlay",
              "size": 10,
              "solidity": 0.2
             }
            },
            "type": "histogram"
           }
          ],
          "histogram2d": [
           {
            "colorbar": {
             "outlinewidth": 0,
             "ticks": ""
            },
            "colorscale": [
             [
              0,
              "#0d0887"
             ],
             [
              0.1111111111111111,
              "#46039f"
             ],
             [
              0.2222222222222222,
              "#7201a8"
             ],
             [
              0.3333333333333333,
              "#9c179e"
             ],
             [
              0.4444444444444444,
              "#bd3786"
             ],
             [
              0.5555555555555556,
              "#d8576b"
             ],
             [
              0.6666666666666666,
              "#ed7953"
             ],
             [
              0.7777777777777778,
              "#fb9f3a"
             ],
             [
              0.8888888888888888,
              "#fdca26"
             ],
             [
              1,
              "#f0f921"
             ]
            ],
            "type": "histogram2d"
           }
          ],
          "histogram2dcontour": [
           {
            "colorbar": {
             "outlinewidth": 0,
             "ticks": ""
            },
            "colorscale": [
             [
              0,
              "#0d0887"
             ],
             [
              0.1111111111111111,
              "#46039f"
             ],
             [
              0.2222222222222222,
              "#7201a8"
             ],
             [
              0.3333333333333333,
              "#9c179e"
             ],
             [
              0.4444444444444444,
              "#bd3786"
             ],
             [
              0.5555555555555556,
              "#d8576b"
             ],
             [
              0.6666666666666666,
              "#ed7953"
             ],
             [
              0.7777777777777778,
              "#fb9f3a"
             ],
             [
              0.8888888888888888,
              "#fdca26"
             ],
             [
              1,
              "#f0f921"
             ]
            ],
            "type": "histogram2dcontour"
           }
          ],
          "mesh3d": [
           {
            "colorbar": {
             "outlinewidth": 0,
             "ticks": ""
            },
            "type": "mesh3d"
           }
          ],
          "parcoords": [
           {
            "line": {
             "colorbar": {
              "outlinewidth": 0,
              "ticks": ""
             }
            },
            "type": "parcoords"
           }
          ],
          "pie": [
           {
            "automargin": true,
            "type": "pie"
           }
          ],
          "scatter": [
           {
            "fillpattern": {
             "fillmode": "overlay",
             "size": 10,
             "solidity": 0.2
            },
            "type": "scatter"
           }
          ],
          "scatter3d": [
           {
            "line": {
             "colorbar": {
              "outlinewidth": 0,
              "ticks": ""
             }
            },
            "marker": {
             "colorbar": {
              "outlinewidth": 0,
              "ticks": ""
             }
            },
            "type": "scatter3d"
           }
          ],
          "scattercarpet": [
           {
            "marker": {
             "colorbar": {
              "outlinewidth": 0,
              "ticks": ""
             }
            },
            "type": "scattercarpet"
           }
          ],
          "scattergeo": [
           {
            "marker": {
             "colorbar": {
              "outlinewidth": 0,
              "ticks": ""
             }
            },
            "type": "scattergeo"
           }
          ],
          "scattergl": [
           {
            "marker": {
             "colorbar": {
              "outlinewidth": 0,
              "ticks": ""
             }
            },
            "type": "scattergl"
           }
          ],
          "scattermapbox": [
           {
            "marker": {
             "colorbar": {
              "outlinewidth": 0,
              "ticks": ""
             }
            },
            "type": "scattermapbox"
           }
          ],
          "scatterpolar": [
           {
            "marker": {
             "colorbar": {
              "outlinewidth": 0,
              "ticks": ""
             }
            },
            "type": "scatterpolar"
           }
          ],
          "scatterpolargl": [
           {
            "marker": {
             "colorbar": {
              "outlinewidth": 0,
              "ticks": ""
             }
            },
            "type": "scatterpolargl"
           }
          ],
          "scatterternary": [
           {
            "marker": {
             "colorbar": {
              "outlinewidth": 0,
              "ticks": ""
             }
            },
            "type": "scatterternary"
           }
          ],
          "surface": [
           {
            "colorbar": {
             "outlinewidth": 0,
             "ticks": ""
            },
            "colorscale": [
             [
              0,
              "#0d0887"
             ],
             [
              0.1111111111111111,
              "#46039f"
             ],
             [
              0.2222222222222222,
              "#7201a8"
             ],
             [
              0.3333333333333333,
              "#9c179e"
             ],
             [
              0.4444444444444444,
              "#bd3786"
             ],
             [
              0.5555555555555556,
              "#d8576b"
             ],
             [
              0.6666666666666666,
              "#ed7953"
             ],
             [
              0.7777777777777778,
              "#fb9f3a"
             ],
             [
              0.8888888888888888,
              "#fdca26"
             ],
             [
              1,
              "#f0f921"
             ]
            ],
            "type": "surface"
           }
          ],
          "table": [
           {
            "cells": {
             "fill": {
              "color": "#EBF0F8"
             },
             "line": {
              "color": "white"
             }
            },
            "header": {
             "fill": {
              "color": "#C8D4E3"
             },
             "line": {
              "color": "white"
             }
            },
            "type": "table"
           }
          ]
         },
         "layout": {
          "annotationdefaults": {
           "arrowcolor": "#2a3f5f",
           "arrowhead": 0,
           "arrowwidth": 1
          },
          "autotypenumbers": "strict",
          "coloraxis": {
           "colorbar": {
            "outlinewidth": 0,
            "ticks": ""
           }
          },
          "colorscale": {
           "diverging": [
            [
             0,
             "#8e0152"
            ],
            [
             0.1,
             "#c51b7d"
            ],
            [
             0.2,
             "#de77ae"
            ],
            [
             0.3,
             "#f1b6da"
            ],
            [
             0.4,
             "#fde0ef"
            ],
            [
             0.5,
             "#f7f7f7"
            ],
            [
             0.6,
             "#e6f5d0"
            ],
            [
             0.7,
             "#b8e186"
            ],
            [
             0.8,
             "#7fbc41"
            ],
            [
             0.9,
             "#4d9221"
            ],
            [
             1,
             "#276419"
            ]
           ],
           "sequential": [
            [
             0,
             "#0d0887"
            ],
            [
             0.1111111111111111,
             "#46039f"
            ],
            [
             0.2222222222222222,
             "#7201a8"
            ],
            [
             0.3333333333333333,
             "#9c179e"
            ],
            [
             0.4444444444444444,
             "#bd3786"
            ],
            [
             0.5555555555555556,
             "#d8576b"
            ],
            [
             0.6666666666666666,
             "#ed7953"
            ],
            [
             0.7777777777777778,
             "#fb9f3a"
            ],
            [
             0.8888888888888888,
             "#fdca26"
            ],
            [
             1,
             "#f0f921"
            ]
           ],
           "sequentialminus": [
            [
             0,
             "#0d0887"
            ],
            [
             0.1111111111111111,
             "#46039f"
            ],
            [
             0.2222222222222222,
             "#7201a8"
            ],
            [
             0.3333333333333333,
             "#9c179e"
            ],
            [
             0.4444444444444444,
             "#bd3786"
            ],
            [
             0.5555555555555556,
             "#d8576b"
            ],
            [
             0.6666666666666666,
             "#ed7953"
            ],
            [
             0.7777777777777778,
             "#fb9f3a"
            ],
            [
             0.8888888888888888,
             "#fdca26"
            ],
            [
             1,
             "#f0f921"
            ]
           ]
          },
          "colorway": [
           "#636efa",
           "#EF553B",
           "#00cc96",
           "#ab63fa",
           "#FFA15A",
           "#19d3f3",
           "#FF6692",
           "#B6E880",
           "#FF97FF",
           "#FECB52"
          ],
          "font": {
           "color": "#2a3f5f"
          },
          "geo": {
           "bgcolor": "white",
           "lakecolor": "white",
           "landcolor": "white",
           "showlakes": true,
           "showland": true,
           "subunitcolor": "#C8D4E3"
          },
          "hoverlabel": {
           "align": "left"
          },
          "hovermode": "closest",
          "mapbox": {
           "style": "light"
          },
          "paper_bgcolor": "white",
          "plot_bgcolor": "white",
          "polar": {
           "angularaxis": {
            "gridcolor": "#EBF0F8",
            "linecolor": "#EBF0F8",
            "ticks": ""
           },
           "bgcolor": "white",
           "radialaxis": {
            "gridcolor": "#EBF0F8",
            "linecolor": "#EBF0F8",
            "ticks": ""
           }
          },
          "scene": {
           "xaxis": {
            "backgroundcolor": "white",
            "gridcolor": "#DFE8F3",
            "gridwidth": 2,
            "linecolor": "#EBF0F8",
            "showbackground": true,
            "ticks": "",
            "zerolinecolor": "#EBF0F8"
           },
           "yaxis": {
            "backgroundcolor": "white",
            "gridcolor": "#DFE8F3",
            "gridwidth": 2,
            "linecolor": "#EBF0F8",
            "showbackground": true,
            "ticks": "",
            "zerolinecolor": "#EBF0F8"
           },
           "zaxis": {
            "backgroundcolor": "white",
            "gridcolor": "#DFE8F3",
            "gridwidth": 2,
            "linecolor": "#EBF0F8",
            "showbackground": true,
            "ticks": "",
            "zerolinecolor": "#EBF0F8"
           }
          },
          "shapedefaults": {
           "line": {
            "color": "#2a3f5f"
           }
          },
          "ternary": {
           "aaxis": {
            "gridcolor": "#DFE8F3",
            "linecolor": "#A2B1C6",
            "ticks": ""
           },
           "baxis": {
            "gridcolor": "#DFE8F3",
            "linecolor": "#A2B1C6",
            "ticks": ""
           },
           "bgcolor": "white",
           "caxis": {
            "gridcolor": "#DFE8F3",
            "linecolor": "#A2B1C6",
            "ticks": ""
           }
          },
          "title": {
           "x": 0.05
          },
          "xaxis": {
           "automargin": true,
           "gridcolor": "#EBF0F8",
           "linecolor": "#EBF0F8",
           "ticks": "",
           "title": {
            "standoff": 15
           },
           "zerolinecolor": "#EBF0F8",
           "zerolinewidth": 2
          },
          "yaxis": {
           "automargin": true,
           "gridcolor": "#EBF0F8",
           "linecolor": "#EBF0F8",
           "ticks": "",
           "title": {
            "standoff": 15
           },
           "zerolinecolor": "#EBF0F8",
           "zerolinewidth": 2
          }
         }
        },
        "title": {
         "font": {
          "color": "black",
          "size": 18
         },
         "text": "Sentiment Percentage Over the Last 6 Years",
         "x": 0.5,
         "xanchor": "center"
        },
        "width": 1200,
        "xaxis": {
         "anchor": "y",
         "domain": [
          0,
          1
         ],
         "showgrid": false,
         "showline": false,
         "title": {
          "text": ""
         },
         "zeroline": false
        },
        "yaxis": {
         "anchor": "x",
         "domain": [
          0,
          1
         ],
         "range": [
          0,
          100
         ],
         "showgrid": true,
         "showline": false,
         "ticksuffix": "%",
         "title": {
          "text": "Percentage of Reviews"
         }
        }
       }
      }
     },
     "metadata": {},
     "output_type": "display_data"
    }
   ],
   "source": [
    "# Plot the evolution of distribution of reviews on time based on sentiments\n",
    "def plotSentimentTrend(df, years_limit = 2):\n",
    "    # Convert date to datetime format and handle missing values\n",
    "    df['date'] = pd.to_datetime(df['date'], errors='coerce')\n",
    "    df = df.dropna(subset=['date'])\n",
    "    \n",
    "    # Filter only the last 6 years\n",
    "    last_six_years = df['date'].max() - pd.DateOffset(years=years_limit)\n",
    "    df = df[df['date'] >= last_six_years]\n",
    "\n",
    "    # Set date as index for resampling\n",
    "    df.set_index('date', inplace=True)\n",
    "    \n",
    "    # Resample to monthly and count sentiments\n",
    "    sentiment_counts = df.resample('M')['sentiment_label'].value_counts().unstack().fillna(0)\n",
    "\n",
    "    # Calculate the percentage for each sentiment type\n",
    "    sentiment_percentage = sentiment_counts.div(sentiment_counts.sum(axis=1), axis=0) * 100\n",
    "    sentiment_percentage = sentiment_percentage.round(2)\n",
    "    sentiment_percentage = sentiment_percentage.reset_index().melt(id_vars=['date'], value_name='percentage', var_name='sentiment_label')\n",
    "    \n",
    "    # Plot sentiment percentage evolution\n",
    "    fig = px.area(\n",
    "        sentiment_percentage,\n",
    "        x='date',\n",
    "        y='percentage',\n",
    "        color='sentiment_label',\n",
    "        title='Sentiment Percentage Over the Last 6 Years',\n",
    "        labels={'date': '', 'percentage': 'Percentage of Reviews (%)', 'sentiment_label': 'Sentiment'},\n",
    "        template='plotly_white',\n",
    "    )\n",
    "\n",
    "    # Customize layout\n",
    "    fig.update_layout(\n",
    "        title=dict(x=0.5, xanchor='center', font=dict(size=18, color='black')),\n",
    "        xaxis=dict(showgrid=False, zeroline=False),\n",
    "        yaxis=dict(showgrid=True, title='Percentage of Reviews', ticksuffix='%'),\n",
    "        legend=dict(title='', orientation='h', yanchor='bottom', y=1.02, xanchor='right', x=1),\n",
    "        margin=dict(l=20, r=20, t=50, b=20),\n",
    "        plot_bgcolor='rgba(0,0,0,0)',\n",
    "        hovermode='x unified',\n",
    "        width=1200,\n",
    "        height=400,\n",
    "    )\n",
    "\n",
    "    # Customize color for sentiment categories\n",
    "    color_map = {\n",
    "        'positive': 'rgba(102, 194, 165, 0.7)', \n",
    "        'neutral': 'rgba(141, 160, 203, 0.7)', \n",
    "        'negative': 'rgba(252, 141, 98, 0.7)'\n",
    "    }\n",
    "    fig.for_each_trace(lambda trace: trace.update(line=dict(width=0, shape='spline'), fill='tonexty', fillcolor=color_map.get(trace.name, 'rgba(150, 150, 150, 0.5)')))\n",
    "\n",
    "    # Remove the plot frame and keep the visualization as clean as possible\n",
    "    fig.update_xaxes(showline=False)\n",
    "    fig.update_yaxes(showline=False, range=[0, 100])  # Percentage scale from 0 to 100\n",
    "\n",
    "    fig.show()\n",
    "\n",
    "plotSentimentTrend(reviews)"
   ]
  },
  {
   "cell_type": "code",
   "execution_count": 106,
   "metadata": {},
   "outputs": [
    {
     "name": "stdout",
     "output_type": "stream",
     "text": [
      "Top Most Recommended: []\n",
      "Least Recommended : []\n"
     ]
    }
   ],
   "source": [
    "\n",
    "# Extract most and least recommendations mentioned\n",
    "def analyzeRecommendations(df):\n",
    "    all_dishes = []\n",
    "\n",
    "    # Convert string representation of lists to actual lists and extend all_dishes\n",
    "    for item in df['recommendations_list'].dropna():\n",
    "        try:\n",
    "            dishes = ast.literal_eval(item)\n",
    "            if isinstance(dishes, list):\n",
    "                all_dishes.extend(dishes)\n",
    "        except:\n",
    "            continue\n",
    "\n",
    "    # Filter out empty values\n",
    "    all_dishes = [dish for dish in all_dishes if dish.strip() != '']\n",
    "\n",
    "    # Count the frequency of each dish\n",
    "    dish_counts = Counter(all_dishes)\n",
    "    if not dish_counts:\n",
    "        return [], []\n",
    "    \n",
    "    # Most and least recommended dishes\n",
    "    most_common_dishes = dish_counts.most_common(3)\n",
    "    min_count = min(dish_counts.values())\n",
    "    worst_dishes = [dish for dish, count in dish_counts.items() if count == min_count]\n",
    "\n",
    "    return most_common_dishes, worst_dishes\n",
    "\n",
    "most_recommended, less_recommended = analyzeRecommendations(reviews)\n",
    "print(\"Top Most Recommended:\", most_recommended)\n",
    "print(\"Least Recommended :\", less_recommended)"
   ]
  },
  {
   "cell_type": "markdown",
   "metadata": {},
   "source": [
    "#### Calculate embeddings"
   ]
  },
  {
   "cell_type": "code",
   "execution_count": null,
   "metadata": {},
   "outputs": [
    {
     "name": "stderr",
     "output_type": "stream",
     "text": [
      "Generating Embeddings:   5%|▌         | 391/7516 [01:03<27:18,  4.35it/s]"
     ]
    }
   ],
   "source": [
    "# Extract the embeddings for each cleaned review\n",
    "def get_embedding(text):\n",
    "    inputs = tokenizer(text, return_tensors='pt', truncation=True, max_length=512)\n",
    "    with torch.no_grad():\n",
    "        outputs = model(**inputs)\n",
    "    return outputs.last_hidden_state.mean(dim=1).squeeze().numpy()\n",
    "\n",
    "# Import Bert model and tokenizer\n",
    "tokenizer = BertTokenizer.from_pretrained('bert-base-multilingual-cased')\n",
    "model = BertModel.from_pretrained('bert-base-multilingual-cased')\n",
    "\n",
    "tqdm.pandas(desc=\"Generating Embeddings\")\n",
    "reviews['embedding'] = reviews['cleaned_review'].progress_apply(get_embedding)"
   ]
  },
  {
   "cell_type": "markdown",
   "metadata": {},
   "source": [
    "#### Analyze embeddings"
   ]
  },
  {
   "cell_type": "code",
   "execution_count": null,
   "metadata": {},
   "outputs": [
    {
     "data": {
      "application/vnd.plotly.v1+json": {
       "config": {
        "plotlyServerURL": "https://plot.ly"
       },
       "data": [
        {
         "customdata": [
          [
           0,
           5
          ],
          [
           1,
           1
          ],
          [
           2,
           5
          ],
          [
           3,
           5
          ],
          [
           4,
           1
          ],
          [
           5,
           4
          ],
          [
           6,
           5
          ],
          [
           7,
           3
          ],
          [
           8,
           5
          ],
          [
           9,
           5
          ],
          [
           10,
           5
          ],
          [
           11,
           5
          ],
          [
           12,
           5
          ],
          [
           13,
           5
          ],
          [
           14,
           4
          ],
          [
           15,
           5
          ],
          [
           16,
           5
          ],
          [
           17,
           4
          ],
          [
           18,
           5
          ],
          [
           19,
           5
          ],
          [
           20,
           4
          ],
          [
           21,
           5
          ],
          [
           22,
           1
          ],
          [
           23,
           5
          ],
          [
           24,
           1
          ],
          [
           25,
           2
          ],
          [
           26,
           5
          ],
          [
           27,
           5
          ],
          [
           28,
           5
          ],
          [
           29,
           3
          ],
          [
           30,
           5
          ],
          [
           31,
           5
          ],
          [
           32,
           4
          ],
          [
           33,
           5
          ],
          [
           34,
           5
          ],
          [
           35,
           5
          ],
          [
           36,
           3
          ],
          [
           37,
           4
          ],
          [
           38,
           4
          ],
          [
           39,
           4
          ],
          [
           40,
           4
          ],
          [
           41,
           5
          ],
          [
           42,
           3
          ],
          [
           43,
           5
          ],
          [
           44,
           4
          ],
          [
           45,
           2
          ],
          [
           46,
           1
          ],
          [
           47,
           1
          ],
          [
           48,
           5
          ],
          [
           49,
           4
          ],
          [
           50,
           5
          ],
          [
           51,
           5
          ],
          [
           52,
           4
          ],
          [
           53,
           5
          ],
          [
           54,
           5
          ],
          [
           55,
           5
          ],
          [
           56,
           5
          ],
          [
           57,
           3
          ],
          [
           58,
           5
          ],
          [
           59,
           4
          ],
          [
           60,
           5
          ],
          [
           61,
           5
          ],
          [
           62,
           5
          ],
          [
           63,
           5
          ],
          [
           64,
           4
          ],
          [
           65,
           1
          ],
          [
           66,
           5
          ],
          [
           67,
           5
          ],
          [
           68,
           4
          ],
          [
           69,
           5
          ],
          [
           70,
           5
          ],
          [
           71,
           5
          ],
          [
           72,
           5
          ],
          [
           73,
           4
          ],
          [
           74,
           5
          ],
          [
           75,
           5
          ],
          [
           76,
           5
          ],
          [
           77,
           5
          ],
          [
           78,
           1
          ],
          [
           79,
           5
          ],
          [
           80,
           5
          ],
          [
           81,
           5
          ],
          [
           82,
           4
          ],
          [
           83,
           3
          ],
          [
           84,
           5
          ],
          [
           85,
           1
          ],
          [
           86,
           5
          ],
          [
           87,
           5
          ],
          [
           88,
           5
          ],
          [
           89,
           5
          ],
          [
           90,
           3
          ],
          [
           91,
           4
          ],
          [
           92,
           4
          ],
          [
           93,
           3
          ],
          [
           94,
           5
          ],
          [
           95,
           4
          ],
          [
           96,
           5
          ],
          [
           97,
           5
          ],
          [
           98,
           3
          ],
          [
           99,
           5
          ],
          [
           100,
           4
          ],
          [
           101,
           5
          ],
          [
           102,
           4
          ],
          [
           103,
           4
          ],
          [
           104,
           5
          ],
          [
           105,
           5
          ],
          [
           106,
           5
          ],
          [
           107,
           5
          ],
          [
           108,
           5
          ],
          [
           109,
           5
          ],
          [
           110,
           1
          ],
          [
           111,
           5
          ],
          [
           112,
           4
          ],
          [
           113,
           5
          ],
          [
           114,
           2
          ],
          [
           115,
           5
          ],
          [
           116,
           5
          ],
          [
           117,
           5
          ],
          [
           118,
           4
          ],
          [
           119,
           5
          ],
          [
           120,
           3
          ],
          [
           121,
           5
          ],
          [
           122,
           3
          ],
          [
           123,
           5
          ],
          [
           124,
           4
          ],
          [
           125,
           5
          ],
          [
           126,
           2
          ],
          [
           127,
           2
          ],
          [
           128,
           2
          ],
          [
           129,
           3
          ],
          [
           130,
           4
          ],
          [
           131,
           4
          ],
          [
           132,
           5
          ],
          [
           133,
           5
          ],
          [
           134,
           1
          ],
          [
           135,
           3
          ],
          [
           136,
           5
          ],
          [
           137,
           5
          ],
          [
           138,
           4
          ],
          [
           139,
           1
          ],
          [
           140,
           5
          ],
          [
           141,
           5
          ],
          [
           142,
           5
          ],
          [
           143,
           2
          ],
          [
           144,
           3
          ],
          [
           145,
           4
          ],
          [
           146,
           5
          ],
          [
           147,
           5
          ],
          [
           148,
           4
          ],
          [
           149,
           5
          ],
          [
           150,
           5
          ],
          [
           151,
           5
          ],
          [
           152,
           4
          ],
          [
           153,
           5
          ],
          [
           154,
           4
          ],
          [
           155,
           4
          ],
          [
           156,
           1
          ],
          [
           157,
           5
          ],
          [
           158,
           4
          ],
          [
           159,
           4
          ],
          [
           160,
           5
          ],
          [
           161,
           5
          ],
          [
           162,
           4
          ],
          [
           163,
           4
          ],
          [
           164,
           5
          ],
          [
           165,
           5
          ],
          [
           166,
           4
          ],
          [
           167,
           5
          ],
          [
           168,
           5
          ],
          [
           169,
           4
          ],
          [
           170,
           2
          ],
          [
           171,
           3
          ],
          [
           172,
           5
          ],
          [
           173,
           5
          ],
          [
           174,
           5
          ],
          [
           175,
           4
          ],
          [
           176,
           5
          ],
          [
           177,
           5
          ],
          [
           178,
           1
          ],
          [
           179,
           5
          ],
          [
           180,
           5
          ],
          [
           181,
           2
          ],
          [
           182,
           5
          ],
          [
           183,
           4
          ],
          [
           184,
           1
          ],
          [
           185,
           5
          ],
          [
           186,
           5
          ],
          [
           187,
           5
          ],
          [
           188,
           1
          ],
          [
           189,
           4
          ],
          [
           190,
           4
          ],
          [
           191,
           5
          ],
          [
           192,
           5
          ],
          [
           193,
           3
          ],
          [
           194,
           3
          ],
          [
           195,
           5
          ],
          [
           196,
           5
          ],
          [
           197,
           5
          ],
          [
           198,
           4
          ],
          [
           199,
           4
          ],
          [
           200,
           5
          ],
          [
           201,
           3
          ],
          [
           202,
           5
          ],
          [
           203,
           5
          ],
          [
           204,
           4
          ],
          [
           205,
           5
          ],
          [
           206,
           3
          ],
          [
           207,
           5
          ],
          [
           208,
           5
          ],
          [
           209,
           5
          ],
          [
           210,
           4
          ],
          [
           211,
           5
          ],
          [
           212,
           5
          ],
          [
           213,
           5
          ],
          [
           214,
           5
          ],
          [
           215,
           5
          ],
          [
           216,
           2
          ],
          [
           217,
           5
          ],
          [
           218,
           5
          ],
          [
           219,
           3
          ],
          [
           220,
           5
          ],
          [
           221,
           5
          ],
          [
           222,
           5
          ],
          [
           223,
           5
          ],
          [
           224,
           5
          ],
          [
           225,
           5
          ],
          [
           226,
           4
          ],
          [
           227,
           5
          ],
          [
           228,
           5
          ],
          [
           229,
           5
          ],
          [
           230,
           3
          ],
          [
           231,
           5
          ],
          [
           232,
           5
          ],
          [
           233,
           5
          ],
          [
           234,
           3
          ],
          [
           235,
           2
          ],
          [
           236,
           5
          ],
          [
           237,
           5
          ],
          [
           238,
           5
          ],
          [
           239,
           4
          ],
          [
           240,
           5
          ],
          [
           241,
           5
          ],
          [
           242,
           5
          ],
          [
           243,
           5
          ],
          [
           244,
           5
          ],
          [
           245,
           5
          ],
          [
           246,
           5
          ],
          [
           247,
           5
          ],
          [
           248,
           4
          ],
          [
           249,
           1
          ],
          [
           250,
           5
          ],
          [
           251,
           5
          ],
          [
           252,
           4
          ],
          [
           253,
           5
          ],
          [
           254,
           5
          ],
          [
           255,
           3
          ],
          [
           256,
           5
          ],
          [
           257,
           4
          ],
          [
           258,
           4
          ],
          [
           259,
           4
          ],
          [
           260,
           5
          ],
          [
           261,
           4
          ],
          [
           262,
           5
          ],
          [
           263,
           2
          ],
          [
           264,
           5
          ],
          [
           265,
           4
          ],
          [
           266,
           4
          ],
          [
           267,
           2
          ],
          [
           268,
           5
          ],
          [
           269,
           5
          ],
          [
           270,
           5
          ],
          [
           271,
           4
          ],
          [
           272,
           4
          ],
          [
           273,
           5
          ],
          [
           274,
           2
          ],
          [
           275,
           5
          ],
          [
           276,
           5
          ],
          [
           277,
           5
          ],
          [
           278,
           2
          ],
          [
           279,
           1
          ],
          [
           280,
           5
          ],
          [
           281,
           5
          ],
          [
           282,
           5
          ],
          [
           283,
           5
          ],
          [
           284,
           5
          ],
          [
           285,
           5
          ],
          [
           286,
           3
          ],
          [
           287,
           3
          ],
          [
           288,
           4
          ],
          [
           289,
           4
          ],
          [
           290,
           5
          ],
          [
           291,
           5
          ],
          [
           292,
           3
          ],
          [
           293,
           2
          ],
          [
           294,
           5
          ],
          [
           295,
           5
          ],
          [
           296,
           4
          ],
          [
           297,
           5
          ],
          [
           298,
           5
          ],
          [
           299,
           5
          ],
          [
           300,
           5
          ],
          [
           301,
           4
          ],
          [
           302,
           4
          ],
          [
           303,
           5
          ],
          [
           304,
           3
          ],
          [
           305,
           2
          ],
          [
           306,
           5
          ],
          [
           307,
           5
          ],
          [
           308,
           4
          ],
          [
           309,
           5
          ],
          [
           310,
           5
          ],
          [
           311,
           1
          ],
          [
           312,
           1
          ],
          [
           313,
           5
          ],
          [
           314,
           4
          ],
          [
           315,
           5
          ],
          [
           316,
           5
          ],
          [
           317,
           5
          ],
          [
           318,
           4
          ],
          [
           319,
           2
          ],
          [
           320,
           5
          ],
          [
           321,
           5
          ],
          [
           322,
           4
          ],
          [
           323,
           2
          ],
          [
           324,
           4
          ],
          [
           325,
           5
          ],
          [
           326,
           5
          ],
          [
           327,
           1
          ],
          [
           328,
           4
          ],
          [
           329,
           3
          ],
          [
           330,
           3
          ],
          [
           331,
           5
          ],
          [
           332,
           5
          ],
          [
           333,
           4
          ],
          [
           334,
           5
          ],
          [
           335,
           4
          ],
          [
           336,
           5
          ],
          [
           337,
           3
          ],
          [
           338,
           3
          ],
          [
           339,
           5
          ],
          [
           340,
           5
          ],
          [
           341,
           5
          ],
          [
           342,
           5
          ],
          [
           343,
           4
          ],
          [
           344,
           4
          ],
          [
           345,
           5
          ],
          [
           346,
           5
          ],
          [
           347,
           3
          ],
          [
           348,
           3
          ],
          [
           349,
           3
          ],
          [
           350,
           5
          ],
          [
           351,
           4
          ],
          [
           352,
           5
          ],
          [
           353,
           5
          ],
          [
           354,
           5
          ],
          [
           355,
           3
          ],
          [
           356,
           4
          ],
          [
           357,
           5
          ],
          [
           358,
           4
          ],
          [
           359,
           5
          ],
          [
           360,
           5
          ],
          [
           361,
           4
          ],
          [
           362,
           5
          ],
          [
           363,
           4
          ],
          [
           364,
           5
          ],
          [
           365,
           3
          ],
          [
           366,
           5
          ],
          [
           367,
           4
          ],
          [
           368,
           5
          ],
          [
           369,
           4
          ],
          [
           370,
           5
          ],
          [
           371,
           4
          ],
          [
           372,
           4
          ],
          [
           373,
           5
          ],
          [
           374,
           4
          ],
          [
           375,
           4
          ],
          [
           376,
           5
          ],
          [
           377,
           5
          ],
          [
           378,
           3
          ],
          [
           379,
           4
          ],
          [
           380,
           4
          ],
          [
           381,
           5
          ],
          [
           382,
           3
          ],
          [
           383,
           5
          ],
          [
           384,
           5
          ],
          [
           385,
           5
          ],
          [
           386,
           5
          ],
          [
           387,
           4
          ],
          [
           388,
           5
          ],
          [
           389,
           5
          ],
          [
           390,
           5
          ],
          [
           391,
           5
          ],
          [
           392,
           1
          ],
          [
           393,
           5
          ],
          [
           394,
           2
          ],
          [
           395,
           5
          ],
          [
           396,
           4
          ],
          [
           397,
           3
          ],
          [
           398,
           1
          ],
          [
           399,
           4
          ],
          [
           400,
           5
          ],
          [
           401,
           3
          ],
          [
           402,
           4
          ],
          [
           403,
           5
          ],
          [
           404,
           4
          ],
          [
           405,
           5
          ],
          [
           406,
           5
          ],
          [
           407,
           5
          ],
          [
           408,
           4
          ],
          [
           409,
           5
          ],
          [
           410,
           4
          ],
          [
           411,
           4
          ],
          [
           412,
           5
          ],
          [
           413,
           5
          ],
          [
           414,
           1
          ],
          [
           415,
           5
          ],
          [
           416,
           5
          ],
          [
           417,
           5
          ],
          [
           418,
           4
          ],
          [
           419,
           4
          ],
          [
           420,
           3
          ],
          [
           421,
           5
          ],
          [
           422,
           5
          ],
          [
           423,
           4
          ],
          [
           424,
           5
          ],
          [
           425,
           4
          ],
          [
           426,
           3
          ],
          [
           427,
           4
          ],
          [
           428,
           5
          ],
          [
           429,
           3
          ],
          [
           430,
           5
          ],
          [
           431,
           5
          ],
          [
           432,
           5
          ],
          [
           433,
           4
          ],
          [
           434,
           4
          ],
          [
           435,
           5
          ],
          [
           436,
           5
          ],
          [
           437,
           4
          ],
          [
           438,
           3
          ],
          [
           439,
           5
          ],
          [
           440,
           2
          ],
          [
           441,
           5
          ],
          [
           442,
           5
          ],
          [
           443,
           4
          ],
          [
           444,
           3
          ],
          [
           445,
           5
          ],
          [
           446,
           5
          ],
          [
           447,
           3
          ],
          [
           448,
           4
          ],
          [
           449,
           5
          ],
          [
           450,
           5
          ],
          [
           451,
           4
          ],
          [
           452,
           4
          ],
          [
           453,
           1
          ],
          [
           454,
           5
          ],
          [
           455,
           5
          ],
          [
           456,
           5
          ],
          [
           457,
           5
          ],
          [
           458,
           3
          ],
          [
           459,
           5
          ],
          [
           460,
           3
          ],
          [
           461,
           5
          ],
          [
           462,
           1
          ],
          [
           463,
           4
          ],
          [
           464,
           4
          ],
          [
           465,
           1
          ],
          [
           466,
           5
          ],
          [
           467,
           5
          ],
          [
           468,
           5
          ],
          [
           469,
           2
          ],
          [
           470,
           5
          ],
          [
           471,
           5
          ],
          [
           472,
           5
          ],
          [
           473,
           5
          ],
          [
           474,
           5
          ],
          [
           475,
           5
          ],
          [
           476,
           5
          ],
          [
           477,
           5
          ],
          [
           478,
           5
          ],
          [
           479,
           3
          ],
          [
           480,
           5
          ],
          [
           481,
           5
          ],
          [
           482,
           5
          ],
          [
           483,
           4
          ],
          [
           484,
           4
          ],
          [
           485,
           5
          ],
          [
           486,
           5
          ],
          [
           487,
           4
          ],
          [
           488,
           5
          ],
          [
           489,
           4
          ],
          [
           490,
           4
          ],
          [
           491,
           3
          ],
          [
           492,
           2
          ],
          [
           493,
           5
          ],
          [
           494,
           5
          ],
          [
           495,
           5
          ],
          [
           496,
           3
          ],
          [
           497,
           3
          ],
          [
           498,
           5
          ],
          [
           499,
           5
          ],
          [
           500,
           4
          ],
          [
           501,
           5
          ],
          [
           502,
           3
          ],
          [
           503,
           5
          ],
          [
           504,
           4
          ],
          [
           505,
           4
          ],
          [
           506,
           5
          ],
          [
           507,
           5
          ],
          [
           508,
           5
          ],
          [
           509,
           2
          ],
          [
           510,
           5
          ],
          [
           511,
           5
          ],
          [
           512,
           3
          ],
          [
           513,
           5
          ],
          [
           514,
           5
          ],
          [
           515,
           4
          ],
          [
           516,
           5
          ],
          [
           517,
           3
          ],
          [
           518,
           5
          ],
          [
           519,
           1
          ],
          [
           520,
           2
          ],
          [
           521,
           1
          ],
          [
           522,
           3
          ],
          [
           523,
           5
          ],
          [
           524,
           5
          ],
          [
           525,
           1
          ],
          [
           526,
           4
          ],
          [
           527,
           5
          ],
          [
           528,
           4
          ],
          [
           529,
           3
          ],
          [
           530,
           5
          ],
          [
           531,
           1
          ],
          [
           532,
           5
          ],
          [
           533,
           4
          ],
          [
           534,
           5
          ],
          [
           535,
           4
          ],
          [
           536,
           4
          ],
          [
           537,
           5
          ],
          [
           538,
           5
          ],
          [
           539,
           5
          ],
          [
           540,
           5
          ],
          [
           541,
           4
          ],
          [
           542,
           5
          ],
          [
           543,
           5
          ],
          [
           544,
           4
          ],
          [
           545,
           5
          ],
          [
           546,
           3
          ],
          [
           547,
           5
          ],
          [
           548,
           5
          ],
          [
           549,
           4
          ],
          [
           550,
           4
          ],
          [
           551,
           1
          ],
          [
           552,
           5
          ],
          [
           553,
           5
          ],
          [
           554,
           5
          ],
          [
           555,
           2
          ],
          [
           556,
           5
          ],
          [
           557,
           2
          ],
          [
           558,
           5
          ],
          [
           559,
           4
          ],
          [
           560,
           5
          ],
          [
           561,
           4
          ],
          [
           562,
           5
          ],
          [
           563,
           5
          ],
          [
           564,
           5
          ],
          [
           565,
           4
          ],
          [
           566,
           5
          ],
          [
           567,
           5
          ],
          [
           568,
           2
          ],
          [
           569,
           4
          ],
          [
           570,
           5
          ],
          [
           571,
           5
          ],
          [
           572,
           4
          ],
          [
           573,
           5
          ],
          [
           574,
           4
          ],
          [
           575,
           3
          ],
          [
           576,
           5
          ],
          [
           577,
           5
          ],
          [
           578,
           5
          ],
          [
           579,
           3
          ],
          [
           580,
           5
          ],
          [
           581,
           5
          ],
          [
           582,
           4
          ],
          [
           583,
           5
          ],
          [
           584,
           5
          ],
          [
           585,
           4
          ],
          [
           586,
           5
          ],
          [
           587,
           4
          ],
          [
           588,
           3
          ],
          [
           589,
           4
          ],
          [
           590,
           5
          ],
          [
           591,
           5
          ],
          [
           592,
           2
          ],
          [
           593,
           1
          ],
          [
           594,
           5
          ],
          [
           595,
           4
          ],
          [
           596,
           5
          ],
          [
           597,
           1
          ],
          [
           598,
           5
          ],
          [
           599,
           4
          ],
          [
           600,
           4
          ],
          [
           601,
           4
          ],
          [
           602,
           5
          ],
          [
           603,
           3
          ],
          [
           604,
           5
          ],
          [
           605,
           5
          ],
          [
           606,
           5
          ],
          [
           607,
           5
          ],
          [
           608,
           5
          ],
          [
           609,
           1
          ],
          [
           610,
           5
          ],
          [
           611,
           5
          ],
          [
           612,
           3
          ],
          [
           613,
           4
          ],
          [
           614,
           4
          ],
          [
           615,
           5
          ],
          [
           616,
           5
          ],
          [
           617,
           3
          ],
          [
           618,
           2
          ],
          [
           619,
           1
          ],
          [
           620,
           4
          ],
          [
           621,
           5
          ],
          [
           622,
           5
          ],
          [
           623,
           3
          ],
          [
           624,
           5
          ],
          [
           625,
           5
          ],
          [
           626,
           4
          ],
          [
           627,
           5
          ],
          [
           628,
           5
          ],
          [
           629,
           4
          ],
          [
           630,
           5
          ],
          [
           631,
           2
          ],
          [
           632,
           4
          ],
          [
           633,
           5
          ],
          [
           634,
           1
          ],
          [
           635,
           3
          ],
          [
           636,
           5
          ],
          [
           637,
           4
          ],
          [
           638,
           5
          ],
          [
           639,
           5
          ],
          [
           640,
           4
          ],
          [
           641,
           2
          ],
          [
           642,
           5
          ],
          [
           643,
           5
          ],
          [
           644,
           4
          ],
          [
           645,
           5
          ],
          [
           646,
           3
          ],
          [
           647,
           2
          ],
          [
           648,
           5
          ],
          [
           649,
           1
          ],
          [
           650,
           5
          ],
          [
           651,
           3
          ],
          [
           652,
           4
          ],
          [
           653,
           5
          ],
          [
           654,
           5
          ],
          [
           655,
           3
          ],
          [
           656,
           2
          ],
          [
           657,
           5
          ],
          [
           658,
           5
          ],
          [
           659,
           5
          ],
          [
           660,
           4
          ],
          [
           661,
           5
          ],
          [
           662,
           2
          ],
          [
           663,
           5
          ],
          [
           664,
           5
          ],
          [
           665,
           5
          ],
          [
           666,
           4
          ],
          [
           667,
           5
          ],
          [
           668,
           5
          ],
          [
           669,
           5
          ],
          [
           670,
           5
          ],
          [
           671,
           4
          ],
          [
           672,
           5
          ],
          [
           673,
           5
          ],
          [
           674,
           4
          ],
          [
           675,
           5
          ],
          [
           676,
           1
          ],
          [
           677,
           5
          ],
          [
           678,
           5
          ],
          [
           679,
           4
          ],
          [
           680,
           5
          ],
          [
           681,
           4
          ],
          [
           682,
           5
          ],
          [
           683,
           5
          ],
          [
           684,
           5
          ],
          [
           685,
           4
          ],
          [
           686,
           5
          ],
          [
           687,
           5
          ],
          [
           688,
           5
          ],
          [
           689,
           2
          ],
          [
           690,
           5
          ],
          [
           691,
           2
          ],
          [
           692,
           1
          ],
          [
           693,
           4
          ],
          [
           694,
           5
          ],
          [
           695,
           5
          ],
          [
           696,
           5
          ],
          [
           697,
           4
          ],
          [
           698,
           4
          ],
          [
           699,
           5
          ],
          [
           700,
           5
          ],
          [
           701,
           5
          ],
          [
           702,
           5
          ],
          [
           703,
           4
          ],
          [
           704,
           5
          ],
          [
           705,
           5
          ],
          [
           706,
           5
          ],
          [
           707,
           5
          ],
          [
           708,
           1
          ],
          [
           709,
           5
          ],
          [
           710,
           5
          ],
          [
           711,
           5
          ],
          [
           712,
           5
          ],
          [
           713,
           5
          ],
          [
           714,
           4
          ],
          [
           715,
           4
          ],
          [
           716,
           5
          ],
          [
           717,
           4
          ],
          [
           718,
           3
          ],
          [
           719,
           5
          ],
          [
           720,
           3
          ],
          [
           721,
           3
          ],
          [
           722,
           5
          ],
          [
           723,
           5
          ],
          [
           724,
           4
          ],
          [
           725,
           2
          ],
          [
           726,
           4
          ],
          [
           727,
           5
          ],
          [
           728,
           4
          ],
          [
           729,
           2
          ],
          [
           730,
           5
          ],
          [
           731,
           3
          ],
          [
           732,
           5
          ],
          [
           733,
           1
          ],
          [
           734,
           5
          ],
          [
           735,
           5
          ],
          [
           736,
           5
          ],
          [
           737,
           5
          ],
          [
           738,
           5
          ],
          [
           739,
           1
          ],
          [
           740,
           5
          ],
          [
           741,
           5
          ],
          [
           742,
           1
          ],
          [
           743,
           4
          ],
          [
           744,
           5
          ],
          [
           745,
           5
          ],
          [
           746,
           1
          ],
          [
           747,
           5
          ],
          [
           748,
           5
          ],
          [
           749,
           4
          ],
          [
           750,
           3
          ],
          [
           751,
           3
          ],
          [
           752,
           4
          ],
          [
           753,
           5
          ],
          [
           754,
           5
          ],
          [
           755,
           5
          ],
          [
           756,
           4
          ],
          [
           757,
           4
          ],
          [
           758,
           5
          ],
          [
           759,
           4
          ],
          [
           760,
           4
          ],
          [
           761,
           5
          ],
          [
           762,
           3
          ],
          [
           763,
           4
          ],
          [
           764,
           5
          ],
          [
           765,
           5
          ],
          [
           766,
           5
          ],
          [
           767,
           4
          ],
          [
           768,
           5
          ],
          [
           769,
           5
          ],
          [
           770,
           5
          ],
          [
           771,
           4
          ],
          [
           772,
           3
          ],
          [
           773,
           4
          ],
          [
           774,
           5
          ],
          [
           775,
           3
          ],
          [
           776,
           5
          ],
          [
           777,
           4
          ],
          [
           778,
           3
          ],
          [
           779,
           5
          ],
          [
           780,
           4
          ],
          [
           781,
           5
          ],
          [
           782,
           5
          ],
          [
           783,
           5
          ],
          [
           784,
           5
          ],
          [
           785,
           5
          ],
          [
           786,
           3
          ],
          [
           787,
           4
          ],
          [
           788,
           5
          ],
          [
           789,
           4
          ],
          [
           790,
           5
          ],
          [
           791,
           4
          ],
          [
           792,
           5
          ],
          [
           793,
           1
          ],
          [
           794,
           2
          ],
          [
           795,
           5
          ],
          [
           796,
           5
          ],
          [
           797,
           3
          ],
          [
           798,
           4
          ],
          [
           799,
           5
          ],
          [
           800,
           3
          ],
          [
           801,
           5
          ],
          [
           802,
           3
          ],
          [
           803,
           3
          ],
          [
           804,
           4
          ],
          [
           805,
           5
          ],
          [
           806,
           5
          ],
          [
           807,
           2
          ],
          [
           808,
           5
          ],
          [
           809,
           5
          ],
          [
           810,
           5
          ],
          [
           811,
           4
          ],
          [
           812,
           3
          ],
          [
           813,
           3
          ],
          [
           814,
           5
          ],
          [
           815,
           5
          ],
          [
           816,
           5
          ],
          [
           817,
           3
          ],
          [
           818,
           5
          ],
          [
           819,
           5
          ],
          [
           820,
           5
          ],
          [
           821,
           5
          ],
          [
           822,
           4
          ],
          [
           823,
           5
          ],
          [
           824,
           5
          ],
          [
           825,
           4
          ],
          [
           826,
           3
          ],
          [
           827,
           4
          ],
          [
           828,
           5
          ],
          [
           829,
           4
          ],
          [
           830,
           5
          ],
          [
           831,
           1
          ],
          [
           832,
           4
          ],
          [
           833,
           5
          ],
          [
           834,
           4
          ],
          [
           835,
           5
          ],
          [
           836,
           5
          ],
          [
           837,
           5
          ],
          [
           838,
           5
          ],
          [
           839,
           5
          ],
          [
           840,
           5
          ],
          [
           841,
           2
          ],
          [
           842,
           5
          ],
          [
           843,
           5
          ],
          [
           844,
           1
          ],
          [
           845,
           4
          ],
          [
           846,
           2
          ],
          [
           847,
           5
          ],
          [
           848,
           4
          ],
          [
           849,
           5
          ],
          [
           850,
           4
          ],
          [
           851,
           2
          ],
          [
           852,
           1
          ],
          [
           853,
           5
          ],
          [
           854,
           5
          ],
          [
           855,
           5
          ],
          [
           856,
           2
          ],
          [
           857,
           4
          ],
          [
           858,
           4
          ],
          [
           859,
           5
          ],
          [
           860,
           2
          ],
          [
           861,
           4
          ],
          [
           862,
           5
          ],
          [
           863,
           5
          ],
          [
           864,
           5
          ],
          [
           865,
           5
          ],
          [
           866,
           4
          ],
          [
           867,
           5
          ],
          [
           868,
           3
          ],
          [
           869,
           5
          ],
          [
           870,
           5
          ],
          [
           871,
           5
          ],
          [
           872,
           5
          ],
          [
           873,
           4
          ],
          [
           874,
           5
          ],
          [
           875,
           4
          ],
          [
           876,
           3
          ],
          [
           877,
           5
          ],
          [
           878,
           2
          ],
          [
           879,
           3
          ],
          [
           880,
           5
          ],
          [
           881,
           5
          ],
          [
           882,
           5
          ],
          [
           883,
           3
          ],
          [
           884,
           4
          ],
          [
           885,
           3
          ],
          [
           886,
           5
          ],
          [
           887,
           5
          ],
          [
           888,
           4
          ],
          [
           889,
           5
          ],
          [
           890,
           5
          ],
          [
           891,
           5
          ],
          [
           892,
           5
          ],
          [
           893,
           4
          ],
          [
           894,
           3
          ],
          [
           895,
           3
          ],
          [
           896,
           5
          ],
          [
           897,
           5
          ],
          [
           898,
           3
          ],
          [
           899,
           4
          ],
          [
           900,
           5
          ],
          [
           901,
           5
          ],
          [
           902,
           5
          ],
          [
           903,
           4
          ],
          [
           904,
           5
          ],
          [
           905,
           1
          ],
          [
           906,
           5
          ],
          [
           907,
           5
          ],
          [
           908,
           1
          ],
          [
           909,
           4
          ],
          [
           910,
           5
          ],
          [
           911,
           4
          ],
          [
           912,
           5
          ],
          [
           913,
           5
          ],
          [
           914,
           3
          ],
          [
           915,
           2
          ],
          [
           916,
           5
          ],
          [
           917,
           4
          ],
          [
           918,
           5
          ],
          [
           919,
           5
          ],
          [
           920,
           4
          ],
          [
           921,
           5
          ],
          [
           922,
           4
          ],
          [
           923,
           3
          ],
          [
           924,
           5
          ],
          [
           925,
           2
          ],
          [
           926,
           5
          ],
          [
           927,
           4
          ],
          [
           928,
           4
          ],
          [
           929,
           5
          ],
          [
           930,
           5
          ],
          [
           931,
           5
          ],
          [
           932,
           5
          ],
          [
           933,
           5
          ],
          [
           934,
           3
          ],
          [
           935,
           5
          ],
          [
           936,
           4
          ],
          [
           937,
           2
          ],
          [
           938,
           3
          ],
          [
           939,
           5
          ],
          [
           940,
           5
          ],
          [
           941,
           5
          ],
          [
           942,
           5
          ],
          [
           943,
           5
          ],
          [
           944,
           2
          ],
          [
           945,
           5
          ],
          [
           946,
           4
          ],
          [
           947,
           4
          ],
          [
           948,
           5
          ],
          [
           949,
           5
          ],
          [
           950,
           3
          ],
          [
           951,
           3
          ],
          [
           952,
           3
          ],
          [
           953,
           5
          ],
          [
           954,
           5
          ],
          [
           955,
           3
          ],
          [
           956,
           5
          ],
          [
           957,
           5
          ],
          [
           958,
           4
          ],
          [
           959,
           5
          ],
          [
           960,
           3
          ],
          [
           961,
           4
          ],
          [
           962,
           5
          ],
          [
           963,
           4
          ],
          [
           964,
           2
          ],
          [
           965,
           4
          ],
          [
           966,
           5
          ],
          [
           967,
           3
          ],
          [
           968,
           5
          ],
          [
           969,
           2
          ],
          [
           970,
           2
          ],
          [
           971,
           2
          ],
          [
           972,
           5
          ],
          [
           973,
           5
          ],
          [
           974,
           4
          ],
          [
           975,
           5
          ],
          [
           976,
           5
          ],
          [
           977,
           2
          ],
          [
           978,
           5
          ],
          [
           979,
           4
          ],
          [
           980,
           3
          ],
          [
           981,
           5
          ],
          [
           982,
           5
          ],
          [
           983,
           4
          ],
          [
           984,
           4
          ],
          [
           985,
           3
          ],
          [
           986,
           4
          ],
          [
           987,
           5
          ],
          [
           988,
           3
          ],
          [
           989,
           1
          ],
          [
           990,
           4
          ],
          [
           991,
           5
          ],
          [
           992,
           5
          ],
          [
           993,
           4
          ],
          [
           994,
           5
          ],
          [
           995,
           5
          ],
          [
           996,
           4
          ],
          [
           997,
           5
          ],
          [
           998,
           4
          ],
          [
           999,
           5
          ]
         ],
         "hovertemplate": "PCA 1 (11.6% variance)=%{x}<br>PCA 2 (7.3% variance)=%{y}<br>Review ID=%{customdata[0]}<br>Rating Score=%{marker.color}<extra></extra>",
         "legendgroup": "",
         "marker": {
          "color": [
           5,
           1,
           5,
           5,
           1,
           4,
           5,
           3,
           5,
           5,
           5,
           5,
           5,
           5,
           4,
           5,
           5,
           4,
           5,
           5,
           4,
           5,
           1,
           5,
           1,
           2,
           5,
           5,
           5,
           3,
           5,
           5,
           4,
           5,
           5,
           5,
           3,
           4,
           4,
           4,
           4,
           5,
           3,
           5,
           4,
           2,
           1,
           1,
           5,
           4,
           5,
           5,
           4,
           5,
           5,
           5,
           5,
           3,
           5,
           4,
           5,
           5,
           5,
           5,
           4,
           1,
           5,
           5,
           4,
           5,
           5,
           5,
           5,
           4,
           5,
           5,
           5,
           5,
           1,
           5,
           5,
           5,
           4,
           3,
           5,
           1,
           5,
           5,
           5,
           5,
           3,
           4,
           4,
           3,
           5,
           4,
           5,
           5,
           3,
           5,
           4,
           5,
           4,
           4,
           5,
           5,
           5,
           5,
           5,
           5,
           1,
           5,
           4,
           5,
           2,
           5,
           5,
           5,
           4,
           5,
           3,
           5,
           3,
           5,
           4,
           5,
           2,
           2,
           2,
           3,
           4,
           4,
           5,
           5,
           1,
           3,
           5,
           5,
           4,
           1,
           5,
           5,
           5,
           2,
           3,
           4,
           5,
           5,
           4,
           5,
           5,
           5,
           4,
           5,
           4,
           4,
           1,
           5,
           4,
           4,
           5,
           5,
           4,
           4,
           5,
           5,
           4,
           5,
           5,
           4,
           2,
           3,
           5,
           5,
           5,
           4,
           5,
           5,
           1,
           5,
           5,
           2,
           5,
           4,
           1,
           5,
           5,
           5,
           1,
           4,
           4,
           5,
           5,
           3,
           3,
           5,
           5,
           5,
           4,
           4,
           5,
           3,
           5,
           5,
           4,
           5,
           3,
           5,
           5,
           5,
           4,
           5,
           5,
           5,
           5,
           5,
           2,
           5,
           5,
           3,
           5,
           5,
           5,
           5,
           5,
           5,
           4,
           5,
           5,
           5,
           3,
           5,
           5,
           5,
           3,
           2,
           5,
           5,
           5,
           4,
           5,
           5,
           5,
           5,
           5,
           5,
           5,
           5,
           4,
           1,
           5,
           5,
           4,
           5,
           5,
           3,
           5,
           4,
           4,
           4,
           5,
           4,
           5,
           2,
           5,
           4,
           4,
           2,
           5,
           5,
           5,
           4,
           4,
           5,
           2,
           5,
           5,
           5,
           2,
           1,
           5,
           5,
           5,
           5,
           5,
           5,
           3,
           3,
           4,
           4,
           5,
           5,
           3,
           2,
           5,
           5,
           4,
           5,
           5,
           5,
           5,
           4,
           4,
           5,
           3,
           2,
           5,
           5,
           4,
           5,
           5,
           1,
           1,
           5,
           4,
           5,
           5,
           5,
           4,
           2,
           5,
           5,
           4,
           2,
           4,
           5,
           5,
           1,
           4,
           3,
           3,
           5,
           5,
           4,
           5,
           4,
           5,
           3,
           3,
           5,
           5,
           5,
           5,
           4,
           4,
           5,
           5,
           3,
           3,
           3,
           5,
           4,
           5,
           5,
           5,
           3,
           4,
           5,
           4,
           5,
           5,
           4,
           5,
           4,
           5,
           3,
           5,
           4,
           5,
           4,
           5,
           4,
           4,
           5,
           4,
           4,
           5,
           5,
           3,
           4,
           4,
           5,
           3,
           5,
           5,
           5,
           5,
           4,
           5,
           5,
           5,
           5,
           1,
           5,
           2,
           5,
           4,
           3,
           1,
           4,
           5,
           3,
           4,
           5,
           4,
           5,
           5,
           5,
           4,
           5,
           4,
           4,
           5,
           5,
           1,
           5,
           5,
           5,
           4,
           4,
           3,
           5,
           5,
           4,
           5,
           4,
           3,
           4,
           5,
           3,
           5,
           5,
           5,
           4,
           4,
           5,
           5,
           4,
           3,
           5,
           2,
           5,
           5,
           4,
           3,
           5,
           5,
           3,
           4,
           5,
           5,
           4,
           4,
           1,
           5,
           5,
           5,
           5,
           3,
           5,
           3,
           5,
           1,
           4,
           4,
           1,
           5,
           5,
           5,
           2,
           5,
           5,
           5,
           5,
           5,
           5,
           5,
           5,
           5,
           3,
           5,
           5,
           5,
           4,
           4,
           5,
           5,
           4,
           5,
           4,
           4,
           3,
           2,
           5,
           5,
           5,
           3,
           3,
           5,
           5,
           4,
           5,
           3,
           5,
           4,
           4,
           5,
           5,
           5,
           2,
           5,
           5,
           3,
           5,
           5,
           4,
           5,
           3,
           5,
           1,
           2,
           1,
           3,
           5,
           5,
           1,
           4,
           5,
           4,
           3,
           5,
           1,
           5,
           4,
           5,
           4,
           4,
           5,
           5,
           5,
           5,
           4,
           5,
           5,
           4,
           5,
           3,
           5,
           5,
           4,
           4,
           1,
           5,
           5,
           5,
           2,
           5,
           2,
           5,
           4,
           5,
           4,
           5,
           5,
           5,
           4,
           5,
           5,
           2,
           4,
           5,
           5,
           4,
           5,
           4,
           3,
           5,
           5,
           5,
           3,
           5,
           5,
           4,
           5,
           5,
           4,
           5,
           4,
           3,
           4,
           5,
           5,
           2,
           1,
           5,
           4,
           5,
           1,
           5,
           4,
           4,
           4,
           5,
           3,
           5,
           5,
           5,
           5,
           5,
           1,
           5,
           5,
           3,
           4,
           4,
           5,
           5,
           3,
           2,
           1,
           4,
           5,
           5,
           3,
           5,
           5,
           4,
           5,
           5,
           4,
           5,
           2,
           4,
           5,
           1,
           3,
           5,
           4,
           5,
           5,
           4,
           2,
           5,
           5,
           4,
           5,
           3,
           2,
           5,
           1,
           5,
           3,
           4,
           5,
           5,
           3,
           2,
           5,
           5,
           5,
           4,
           5,
           2,
           5,
           5,
           5,
           4,
           5,
           5,
           5,
           5,
           4,
           5,
           5,
           4,
           5,
           1,
           5,
           5,
           4,
           5,
           4,
           5,
           5,
           5,
           4,
           5,
           5,
           5,
           2,
           5,
           2,
           1,
           4,
           5,
           5,
           5,
           4,
           4,
           5,
           5,
           5,
           5,
           4,
           5,
           5,
           5,
           5,
           1,
           5,
           5,
           5,
           5,
           5,
           4,
           4,
           5,
           4,
           3,
           5,
           3,
           3,
           5,
           5,
           4,
           2,
           4,
           5,
           4,
           2,
           5,
           3,
           5,
           1,
           5,
           5,
           5,
           5,
           5,
           1,
           5,
           5,
           1,
           4,
           5,
           5,
           1,
           5,
           5,
           4,
           3,
           3,
           4,
           5,
           5,
           5,
           4,
           4,
           5,
           4,
           4,
           5,
           3,
           4,
           5,
           5,
           5,
           4,
           5,
           5,
           5,
           4,
           3,
           4,
           5,
           3,
           5,
           4,
           3,
           5,
           4,
           5,
           5,
           5,
           5,
           5,
           3,
           4,
           5,
           4,
           5,
           4,
           5,
           1,
           2,
           5,
           5,
           3,
           4,
           5,
           3,
           5,
           3,
           3,
           4,
           5,
           5,
           2,
           5,
           5,
           5,
           4,
           3,
           3,
           5,
           5,
           5,
           3,
           5,
           5,
           5,
           5,
           4,
           5,
           5,
           4,
           3,
           4,
           5,
           4,
           5,
           1,
           4,
           5,
           4,
           5,
           5,
           5,
           5,
           5,
           5,
           2,
           5,
           5,
           1,
           4,
           2,
           5,
           4,
           5,
           4,
           2,
           1,
           5,
           5,
           5,
           2,
           4,
           4,
           5,
           2,
           4,
           5,
           5,
           5,
           5,
           4,
           5,
           3,
           5,
           5,
           5,
           5,
           4,
           5,
           4,
           3,
           5,
           2,
           3,
           5,
           5,
           5,
           3,
           4,
           3,
           5,
           5,
           4,
           5,
           5,
           5,
           5,
           4,
           3,
           3,
           5,
           5,
           3,
           4,
           5,
           5,
           5,
           4,
           5,
           1,
           5,
           5,
           1,
           4,
           5,
           4,
           5,
           5,
           3,
           2,
           5,
           4,
           5,
           5,
           4,
           5,
           4,
           3,
           5,
           2,
           5,
           4,
           4,
           5,
           5,
           5,
           5,
           5,
           3,
           5,
           4,
           2,
           3,
           5,
           5,
           5,
           5,
           5,
           2,
           5,
           4,
           4,
           5,
           5,
           3,
           3,
           3,
           5,
           5,
           3,
           5,
           5,
           4,
           5,
           3,
           4,
           5,
           4,
           2,
           4,
           5,
           3,
           5,
           2,
           2,
           2,
           5,
           5,
           4,
           5,
           5,
           2,
           5,
           4,
           3,
           5,
           5,
           4,
           4,
           3,
           4,
           5,
           3,
           1,
           4,
           5,
           5,
           4,
           5,
           5,
           4,
           5,
           4,
           5
          ],
          "coloraxis": "coloraxis",
          "symbol": "circle"
         },
         "mode": "markers",
         "name": "",
         "orientation": "v",
         "showlegend": false,
         "type": "scatter",
         "x": [
          -1.3433676958084106,
          4.002864360809326,
          0.2481880784034729,
          -0.5802326202392578,
          3.165348768234253,
          1.3361988067626953,
          0.7307329773902893,
          0.5330093502998352,
          -1.224792718887329,
          -0.31900250911712646,
          2.2488560676574707,
          0.16065563261508942,
          -0.7854065895080566,
          1.2580381631851196,
          -1.1359822750091553,
          -2.742499351501465,
          -0.1558937281370163,
          -0.6086618304252625,
          -0.833247184753418,
          3.3422067165374756,
          0.026518801227211952,
          0.9151120185852051,
          0.8130406141281128,
          -0.9991344213485718,
          1.3669123649597168,
          3.451958417892456,
          -2.0212385654449463,
          2.770414352416992,
          1.6323877573013306,
          -0.5211982131004333,
          -0.17507389187812805,
          -0.6510358452796936,
          -1.6024000644683838,
          -2.069967269897461,
          -1.0809416770935059,
          3.435837507247925,
          -0.3176316022872925,
          -0.41403427720069885,
          -1.650960087776184,
          -0.6865865588188171,
          0.01736348681151867,
          -1.1218655109405518,
          -2.796888828277588,
          -2.144761800765991,
          -0.27949321269989014,
          0.8346594572067261,
          3.875995397567749,
          -1.3203821182250977,
          -0.7670990824699402,
          3.809237480163574,
          -1.0578854084014893,
          -2.209660053253174,
          -0.028278762474656105,
          -2.1865742206573486,
          -0.8398295044898987,
          -1.8338614702224731,
          0.7975808382034302,
          3.2979660034179688,
          -0.35942041873931885,
          3.7315480709075928,
          1.9674489498138428,
          -0.8322420120239258,
          3.71054744720459,
          -0.7652803659439087,
          -1.842380404472351,
          1.1785608530044556,
          0.5712754130363464,
          -0.7664791941642761,
          3.2370779514312744,
          -0.15939193964004517,
          -1.8295049667358398,
          -0.2405310720205307,
          -0.8757515549659729,
          -0.529896080493927,
          -0.0656968280673027,
          -0.7243525385856628,
          -1.9559897184371948,
          -0.41910320520401,
          0.9337964653968811,
          -1.0945813655853271,
          -1.8997693061828613,
          0.32563894987106323,
          -1.2887682914733887,
          -0.5063408017158508,
          -1.1590865850448608,
          -0.09952909499406815,
          -1.276610016822815,
          2.1578869819641113,
          3.85074782371521,
          -0.8563479781150818,
          -0.702059805393219,
          -3.262053966522217,
          -0.7169961333274841,
          0.5404993295669556,
          -1.1924936771392822,
          -1.6828778982162476,
          -1.170085072517395,
          -4.359654426574707,
          3.423372745513916,
          2.8992366790771484,
          -1.2344250679016113,
          -0.31290730834007263,
          -0.13279063999652863,
          -2.095992088317871,
          -1.6593716144561768,
          -0.9316236972808838,
          -1.3302347660064697,
          -1.5176136493682861,
          -0.9856632351875305,
          2.2692692279815674,
          4.056893825531006,
          -0.5949846506118774,
          -1.3665111064910889,
          -0.483746200799942,
          -0.1177702248096466,
          -1.0923089981079102,
          -0.8859695196151733,
          3.789963722229004,
          -0.8010416030883789,
          -1.4714210033416748,
          -0.2898336350917816,
          -2.595086097717285,
          -0.7162609696388245,
          -0.6564576029777527,
          -0.5197612047195435,
          -1.325365662574768,
          -0.002115463139489293,
          -1.7325212955474854,
          1.071962833404541,
          -1.2029613256454468,
          0.06776373833417892,
          1.444982886314392,
          -0.22820241749286652,
          -0.6380419731140137,
          1.03913152217865,
          -1.1941460371017456,
          -2.527161121368408,
          -2.5099127292633057,
          3.7111523151397705,
          3.7126805782318115,
          1.5570260286331177,
          -0.8940625190734863,
          -0.04431920126080513,
          3.4283485412597656,
          -0.4928041100502014,
          -0.9705978631973267,
          -0.24719926714897156,
          -1.2449398040771484,
          0.8286681175231934,
          -3.6989874839782715,
          -1.183698058128357,
          -0.8113875985145569,
          -1.051143765449524,
          -0.5992671847343445,
          3.027391195297241,
          3.0712640285491943,
          -0.17184530198574066,
          -0.9702070355415344,
          -0.9993600249290466,
          -0.9579501152038574,
          -1.3832898139953613,
          -0.7715497612953186,
          -0.9141106605529785,
          -1.2471096515655518,
          3.5490822792053223,
          -1.5483707189559937,
          -1.9168859720230103,
          -2.0578079223632812,
          -2.7845122814178467,
          0.3323492109775543,
          3.6612682342529297,
          0.1656978875398636,
          -0.15979167819023132,
          0.014869734644889832,
          1.3830186128616333,
          -2.504204273223877,
          -1.6267188787460327,
          -0.013479179702699184,
          1.2841733694076538,
          -1.3100829124450684,
          -0.6168339252471924,
          0.6671316623687744,
          2.078328847885132,
          -0.19119282066822052,
          -0.3526886999607086,
          -1.9352076053619385,
          0.5234292149543762,
          -1.7414112091064453,
          4.266386985778809,
          3.262066602706909,
          -0.6020398736000061,
          -0.7943118214607239,
          0.9413993954658508,
          3.5335288047790527,
          0.49588242173194885,
          -1.322739839553833,
          0.31588971614837646,
          -2.065465211868286,
          -1.2356181144714355,
          -3.568474292755127,
          -1.8948864936828613,
          0.5801591873168945,
          0.6425397396087646,
          0.26887810230255127,
          -1.740384578704834,
          -2.2896571159362793,
          3.2962002754211426,
          -0.6185199618339539,
          -1.4668798446655273,
          -1.3500468730926514,
          3.31816029548645,
          -0.4714812934398651,
          3.290584087371826,
          -2.3173341751098633,
          -1.1625310182571411,
          -0.05482369661331177,
          -0.46014443039894104,
          -0.22928187251091003,
          -1.1957781314849854,
          -1.2176114320755005,
          -0.9026128649711609,
          -1.066780686378479,
          -0.22091518342494965,
          0.17296835780143738,
          0.3639644384384155,
          0.5373263359069824,
          0.6781411170959473,
          -0.33281266689300537,
          0.9094502925872803,
          -1.4710084199905396,
          0.08492766320705414,
          -1.8720793724060059,
          -1.7492079734802246,
          2.9979348182678223,
          -1.4241844415664673,
          4.026606559753418,
          -1.0999099016189575,
          -2.023973226547241,
          -1.1146836280822754,
          2.587141275405884,
          1.0879713296890259,
          -0.05172239616513252,
          -0.4110778272151947,
          -0.1673905998468399,
          3.01633358001709,
          2.774420738220215,
          -1.0189090967178345,
          -0.8710893988609314,
          -0.20853126049041748,
          3.8100364208221436,
          3.730029821395874,
          2.9047234058380127,
          -1.9247586727142334,
          3.799499273300171,
          0.026748625561594963,
          3.8161628246307373,
          -0.17367345094680786,
          -0.3948912024497986,
          -0.8396955728530884,
          -0.18961310386657715,
          -1.0355684757232666,
          2.942335844039917,
          -0.4274696707725525,
          -0.27643096446990967,
          -0.8127860426902771,
          3.5380940437316895,
          3.358330488204956,
          -0.5248731374740601,
          -0.4473106563091278,
          -0.11860139667987823,
          -1.7093784809112549,
          0.3778194487094879,
          -0.16784115135669708,
          -1.676149845123291,
          2.8521077632904053,
          -0.27398571372032166,
          -0.11992470175027847,
          -1.9456130266189575,
          -0.20874366164207458,
          0.5095617771148682,
          -1.2508128881454468,
          0.1084333062171936,
          -0.6975579857826233,
          0.0742485448718071,
          -1.7204949855804443,
          0.41081106662750244,
          0.34798672795295715,
          0.401549369096756,
          0.23494254052639008,
          -0.4886803925037384,
          -1.1721974611282349,
          3.125675916671753,
          1.0493344068527222,
          3.8789961338043213,
          -2.8108763694763184,
          -0.7702589631080627,
          2.0891525745391846,
          -1.4661351442337036,
          -0.874785840511322,
          3.3719542026519775,
          -0.9861918091773987,
          0.10149247944355011,
          -0.8422864675521851,
          -0.6791788935661316,
          3.660297393798828,
          -0.12925973534584045,
          -1.561935544013977,
          -0.8558018207550049,
          -1.1343199014663696,
          1.1316406726837158,
          -1.497459053993225,
          1.2009236812591553,
          0.4870784878730774,
          -0.5912694334983826,
          -2.8867270946502686,
          0.5723280310630798,
          -2.1430892944335938,
          -0.5186519622802734,
          -0.5041659474372864,
          0.018551800400018692,
          -1.5175315141677856,
          -1.2829017639160156,
          1.3821165561676025,
          -0.4779789447784424,
          1.20948326587677,
          2.8904833793640137,
          -1.0436676740646362,
          4.273379802703857,
          -0.021228330209851265,
          -0.17533010244369507,
          -0.8939653038978577,
          -1.0580356121063232,
          0.7662196159362793,
          -1.192967414855957,
          -2.4556477069854736,
          -1.380598545074463,
          -1.003481149673462,
          1.0180598497390747,
          3.5225117206573486,
          -0.0910351499915123,
          -1.9601633548736572,
          3.47849178314209,
          -0.6923924684524536,
          -1.138318419456482,
          -1.2649670839309692,
          -0.14230045676231384,
          -0.8811226487159729,
          -1.5381433963775635,
          -0.7190683484077454,
          3.0632174015045166,
          0.13162824511528015,
          3.1922545433044434,
          0.42567941546440125,
          -0.5287447571754456,
          -1.0066287517547607,
          -0.8045346140861511,
          3.704127788543701,
          -1.276201605796814,
          -1.6067534685134888,
          0.7675867080688477,
          -1.29645836353302,
          -1.708003044128418,
          -1.102795958518982,
          0.06445423513650894,
          3.1862633228302,
          -0.08050710707902908,
          -0.4341801702976227,
          -3.09604811668396,
          -1.860174298286438,
          3.615574836730957,
          -0.4236699938774109,
          -0.7862239480018616,
          -2.310511350631714,
          3.941434621810913,
          1.067481517791748,
          0.41386136412620544,
          -0.6131165027618408,
          -1.1725691556930542,
          -0.09775035828351974,
          -1.3281302452087402,
          -0.0194732416421175,
          1.0345896482467651,
          0.1442926973104477,
          -0.1808856725692749,
          -0.5996246933937073,
          -0.23257523775100708,
          3.6932733058929443,
          -1.352439284324646,
          -2.0691328048706055,
          -0.8125177025794983,
          0.3169792592525482,
          -1.5955359935760498,
          1.3638222217559814,
          3.2293295860290527,
          -0.25383126735687256,
          -0.6077701449394226,
          -0.5425693392753601,
          3.5971457958221436,
          3.833163022994995,
          -1.3993295431137085,
          3.1028106212615967,
          -1.3485713005065918,
          0.3729037940502167,
          -1.6281747817993164,
          3.5139777660369873,
          2.8383398056030273,
          -0.590108335018158,
          3.5493593215942383,
          -1.4971104860305786,
          -2.78902006149292,
          3.389343738555908,
          0.3826023042201996,
          -1.3844525814056396,
          -0.8600760698318481,
          3.867176055908203,
          3.3219406604766846,
          -1.2407628297805786,
          1.1535570621490479,
          -0.9608539938926697,
          -0.31990858912467957,
          0.027002770453691483,
          -1.7946372032165527,
          0.6149449348449707,
          2.9027140140533447,
          -0.5867720246315002,
          -1.0535774230957031,
          -1.1675584316253662,
          0.6001467704772949,
          -1.292901873588562,
          -0.31101179122924805,
          0.0049497890286147594,
          -0.16040800511837006,
          -0.6398104429244995,
          2.70662522315979,
          3.2771613597869873,
          -0.07703860849142075,
          -0.9754883050918579,
          0.12199091911315918,
          -0.14670351147651672,
          -1.8785738945007324,
          -0.1023520678281784,
          -0.8976404070854187,
          1.8789143562316895,
          3.3947067260742188,
          -1.0346344709396362,
          0.1582396775484085,
          -1.9024643898010254,
          -1.2438424825668335,
          -1.6025173664093018,
          -1.6206578016281128,
          -1.2077207565307617,
          0.4103887975215912,
          -0.9319628477096558,
          -1.0517038106918335,
          -0.5173752903938293,
          -2.7557082176208496,
          -1.9732624292373657,
          2.536069869995117,
          -0.665255606174469,
          0.42045989632606506,
          -2.50372314453125,
          3.314037322998047,
          2.1701455116271973,
          -0.47758716344833374,
          0.40979376435279846,
          -1.6220332384109497,
          -2.5208323001861572,
          3.1206467151641846,
          -1.2608555555343628,
          0.850358247756958,
          0.32699522376060486,
          -1.2493197917938232,
          2.933885097503662,
          -1.621760368347168,
          -0.47259601950645447,
          -1.5648537874221802,
          -1.7421172857284546,
          -1.1418254375457764,
          -1.852993130683899,
          -0.6343454718589783,
          -1.892046570777893,
          3.296307325363159,
          1.2861169576644897,
          0.7584162354469299,
          0.9830463528633118,
          -1.2144231796264648,
          -2.3971407413482666,
          -1.8534173965454102,
          -0.7048896551132202,
          3.288759231567383,
          -1.8027405738830566,
          0.6111322045326233,
          3.733079433441162,
          -2.3309710025787354,
          0.08034505695104599,
          -1.1296801567077637,
          -1.1855281591415405,
          0.025254612788558006,
          -1.0127779245376587,
          3.120323657989502,
          -0.006256625521928072,
          -1.3667422533035278,
          -0.31902676820755005,
          -0.24422292411327362,
          2.2960143089294434,
          0.5059205889701843,
          -1.4344055652618408,
          -1.59544837474823,
          -0.9099032878875732,
          2.409391164779663,
          -0.489738792181015,
          -2.103393316268921,
          -0.9059804081916809,
          -1.2435184717178345,
          -2.054741382598877,
          1.5399171113967896,
          3.49656081199646,
          -1.0482680797576904,
          -0.6124162673950195,
          0.00869886577129364,
          0.6036137342453003,
          3.8287997245788574,
          4.253665447235107,
          -0.7290623188018799,
          -0.40662091970443726,
          -0.4934137165546417,
          -2.3197388648986816,
          -1.4808423519134521,
          -1.6644275188446045,
          -0.4780848026275635,
          2.326970100402832,
          0.8852659463882446,
          -0.7251546382904053,
          -0.8016977310180664,
          -0.5054818391799927,
          2.920513868331909,
          -0.8079421520233154,
          -0.712912917137146,
          -0.14683547616004944,
          1.5630689859390259,
          -0.6986560821533203,
          3.692580223083496,
          -0.10990480333566666,
          -1.728930950164795,
          -2.177255630493164,
          3.563486337661743,
          0.7402146458625793,
          1.2792952060699463,
          -3.1390724182128906,
          -1.3778892755508423,
          -0.3688122630119324,
          3.6230640411376953,
          -1.8004573583602905,
          -1.4200615882873535,
          -0.6900161504745483,
          0.4076054096221924,
          2.41680645942688,
          -0.0046702236868441105,
          -0.12943020462989807,
          -2.8606629371643066,
          -0.718266487121582,
          0.01777082309126854,
          3.491755962371826,
          0.8216044902801514,
          1.1391805410385132,
          -1.4067635536193848,
          -0.6268211603164673,
          -2.0243337154388428,
          2.6656994819641113,
          2.5512640476226807,
          0.02630060352385044,
          0.9252241253852844,
          -0.7336956858634949,
          -1.5223015546798706,
          -0.12370116263628006,
          1.318311333656311,
          -1.0146503448486328,
          -0.8098949193954468,
          3.6822845935821533,
          3.8409135341644287,
          -2.3718185424804688,
          -2.011795997619629,
          -1.610654354095459,
          0.44934579730033875,
          -1.918343424797058,
          -0.18715207278728485,
          -0.6719591617584229,
          -0.7005950808525085,
          2.8235254287719727,
          0.7056629061698914,
          -1.8375810384750366,
          -0.001808506203815341,
          -1.1928743124008179,
          -0.12875260412693024,
          -1.697478175163269,
          -0.13195817172527313,
          -1.2805187702178955,
          3.8561134338378906,
          -1.2784844636917114,
          3.1903903484344482,
          -0.9023392796516418,
          -1.4590266942977905,
          -0.7419994473457336,
          -1.0163052082061768,
          3.341583728790283,
          0.3705892562866211,
          -0.3776629865169525,
          -1.7665473222732544,
          -0.5583469867706299,
          0.2700044512748718,
          -0.9624638557434082,
          -0.3721224069595337,
          0.00739270681515336,
          -0.08418604731559753,
          -1.4166723489761353,
          -1.8278106451034546,
          -0.3415108025074005,
          -1.1299411058425903,
          1.9329252243041992,
          -0.8715997338294983,
          -0.3986198306083679,
          -1.7048557996749878,
          -0.14209327101707458,
          0.48455965518951416,
          -1.0867502689361572,
          -1.8086035251617432,
          -0.41976305842399597,
          -2.6223859786987305,
          -1.0653729438781738,
          -0.6681255102157593,
          -2.207646608352661,
          0.4996921420097351,
          3.427278518676758,
          -1.3734421730041504,
          3.8830363750457764,
          -1.3171584606170654,
          -0.21392053365707397,
          -0.8690546751022339,
          -1.427222490310669,
          0.7303633093833923,
          1.1174263954162598,
          4.145870208740234,
          -0.8839020729064941,
          -1.4466865062713623,
          -0.7256079912185669,
          -0.5050348043441772,
          1.3926756381988525,
          -2.0423293113708496,
          -0.6414418816566467,
          0.11098824441432953,
          4.1192731857299805,
          -0.272732138633728,
          0.5988292098045349,
          3.3305559158325195,
          0.009073746390640736,
          2.929901599884033,
          3.475593090057373,
          -1.7003995180130005,
          -1.7914319038391113,
          -2.324462652206421,
          3.8554840087890625,
          -0.78971928358078,
          3.3959710597991943,
          0.16676174104213715,
          -1.714022159576416,
          -2.035634756088257,
          -0.5492029190063477,
          -0.46645587682724,
          -0.34174108505249023,
          1.5378987789154053,
          -0.4517115354537964,
          -2.082984447479248,
          -1.4045155048370361,
          3.169410228729248,
          -0.9982914328575134,
          -1.763975739479065,
          1.372085690498352,
          0.3175915777683258,
          0.6831100583076477,
          0.5558648109436035,
          -1.038187861442566,
          -1.739658236503601,
          1.040820598602295,
          -0.9945175647735596,
          0.6217594146728516,
          -1.1973512172698975,
          -0.767779529094696,
          2.8938472270965576,
          -0.7393786311149597,
          3.3474485874176025,
          -0.21055826544761658,
          -1.2325209379196167,
          -0.9663775563240051,
          -1.6243503093719482,
          0.7947108149528503,
          -0.6802837252616882,
          -1.5067099332809448,
          -0.16115079820156097,
          0.15251949429512024,
          3.617558717727661,
          -0.6044631600379944,
          1.7741954326629639,
          2.9592537879943848,
          -2.718343496322632,
          -1.6793487071990967,
          -2.1317429542541504,
          3.8317127227783203,
          -0.12683571875095367,
          1.3478564023971558,
          -0.808154284954071,
          -1.4883939027786255,
          -0.9809518456459045,
          -1.8238112926483154,
          3.5040528774261475,
          3.5570855140686035,
          -1.0296357870101929,
          -2.446805000305176,
          -0.422554612159729,
          0.05743895843625069,
          -0.24323968589305878,
          -0.18533630669116974,
          -1.2705531120300293,
          0.2767601013183594,
          -1.7286158800125122,
          0.3743925094604492,
          -0.11425952613353729,
          0.009952324442565441,
          2.9835498332977295,
          -2.5264317989349365,
          -0.2537192702293396,
          -0.24595420062541962,
          -0.9355045557022095,
          -0.31070032715797424,
          3.833573818206787,
          -2.8744568824768066,
          -0.915681004524231,
          0.8411744236946106,
          3.343352794647217,
          -1.0158157348632812,
          1.0917203426361084,
          -0.4920673370361328,
          -0.5644330978393555,
          3.5418107509613037,
          3.560720443725586,
          -1.6391286849975586,
          0.36324360966682434,
          -0.16610710322856903,
          -0.9440964460372925,
          -0.39606812596321106,
          -2.0661540031433105,
          -0.9183409810066223,
          -1.2459731101989746,
          -1.0070998668670654,
          -0.0530068501830101,
          -1.2375173568725586,
          1.4034883975982666,
          -0.8653078675270081,
          -1.4557172060012817,
          0.15773575007915497,
          -2.689438581466675,
          -1.3817650079727173,
          -0.6548433899879456,
          0.19551292061805725,
          -1.3113726377487183,
          0.9732338190078735,
          -1.2998517751693726,
          -0.45345601439476013,
          1.0472302436828613,
          -0.632989764213562,
          -0.468609094619751,
          -1.3652381896972656,
          -2.3448314666748047,
          3.4053728580474854,
          -0.07538092136383057,
          -0.2852056920528412,
          0.22154301404953003,
          -1.0009311437606812,
          -0.32139506936073303,
          3.8555407524108887,
          3.5930614471435547,
          -0.7103714942932129,
          -0.3221055567264557,
          -1.0918668508529663,
          -0.7956401705741882,
          -0.5738793015480042,
          -0.21054257452487946,
          -1.6698418855667114,
          1.4490278959274292,
          -1.591576099395752,
          -0.3181857466697693,
          -0.7012360095977783,
          -1.5833905935287476,
          -3.146516799926758,
          -0.9010300040245056,
          3.715961217880249,
          -1.0075894594192505,
          0.6753191947937012,
          -1.0003434419631958,
          3.6355295181274414,
          -1.4144726991653442,
          1.2628710269927979,
          -1.5139697790145874,
          -0.4595937430858612,
          -0.6786509156227112,
          3.588303327560425,
          3.243093490600586,
          0.6418047547340393,
          -0.2796371877193451,
          -1.1419364213943481,
          -2.046229362487793,
          3.717461109161377,
          -0.7511392831802368,
          1.0660343170166016,
          -0.8744804859161377,
          -1.368495225906372,
          -1.8053020238876343,
          -2.102325916290283,
          -0.23296190798282623,
          3.554469108581543,
          3.3471765518188477,
          -2.4370689392089844,
          -2.372469663619995,
          -1.4930676221847534,
          -2.7210936546325684,
          -1.3451250791549683,
          0.9965832829475403,
          -0.8887789249420166,
          0.6771261692047119,
          0.7569754123687744,
          -1.5629096031188965,
          -0.6329243183135986,
          3.384524345397949,
          -1.9980615377426147,
          -1.2521363496780396,
          -1.135253667831421,
          -0.1262904554605484,
          -0.3741871118545532,
          -0.45497167110443115,
          -1.212855339050293,
          1.3396294116973877,
          0.8274686336517334,
          -0.9764795899391174,
          3.400790214538574,
          -0.11949365586042404,
          4.013842582702637,
          -1.0884758234024048,
          1.4030274152755737,
          1.0693002939224243,
          1.03883957862854,
          -1.2089890241622925,
          -1.2526730298995972,
          0.19549405574798584,
          -0.8109193444252014,
          1.6292418241500854,
          -0.01089263241738081,
          0.200139120221138,
          -0.35226374864578247,
          -1.6206164360046387,
          1.2045187950134277,
          -0.03877488523721695,
          3.8378329277038574,
          -0.544009268283844,
          -0.3151041567325592,
          3.147495746612549,
          -1.2086986303329468,
          -0.23241105675697327,
          0.6920115351676941,
          3.4349477291107178,
          -2.6105544567108154,
          -2.226919174194336,
          3.459632396697998,
          -2.3025193214416504,
          0.9511714577674866,
          -1.3476611375808716,
          0.4257830083370209,
          -1.2110719680786133,
          -0.955113410949707,
          -2.1988441944122314,
          1.8104583024978638,
          -1.386441946029663,
          -1.2878975868225098,
          -1.2171584367752075,
          3.354283332824707,
          -0.778358519077301,
          3.7338924407958984,
          -0.21416160464286804,
          -0.03275053948163986,
          -0.818030595779419,
          0.08655249327421188,
          -0.2622389495372772,
          -1.4408353567123413,
          -1.046172022819519,
          -2.1649322509765625,
          0.11559397727251053,
          0.47142720222473145,
          1.5723758935928345,
          -1.5651782751083374,
          -1.0006651878356934,
          3.443417549133301,
          3.6385653018951416,
          0.07570526748895645,
          -1.4044443368911743,
          -1.4893217086791992,
          3.5374021530151367,
          -0.12538915872573853,
          -0.18736310303211212,
          0.33254942297935486,
          3.075608968734741,
          -0.22818174958229065,
          -0.20448420941829681,
          -1.2634320259094238,
          -0.4303361773490906,
          -0.28304436802864075,
          0.6590951681137085,
          -0.14038638770580292,
          4.024349212646484,
          -2.4041106700897217,
          -0.4658876657485962,
          -0.20432479679584503,
          0.5899335145950317,
          -0.16103526949882507,
          -0.1124323233962059,
          -0.14325201511383057,
          2.308330774307251,
          -0.856910228729248,
          -0.2592049539089203,
          -2.493868589401245,
          -2.0304720401763916,
          -1.555548071861267,
          0.9984337091445923,
          0.7329438328742981,
          -3.030747890472412,
          0.33059850335121155,
          -1.369493007659912,
          -0.9108618497848511,
          -2.9866626262664795,
          -1.836272954940796,
          0.7867183685302734,
          -0.23777461051940918,
          2.7780261039733887,
          3.2637927532196045,
          -1.3624666929244995,
          3.598715305328369,
          -1.6741447448730469,
          0.1015624925494194,
          -2.5605931282043457,
          -1.031723976135254,
          -0.21222709119319916,
          -0.703120231628418,
          -0.22708988189697266,
          0.6873178482055664,
          3.502183198928833,
          2.898789405822754,
          0.10048346221446991,
          -0.4334618151187897,
          -0.22864606976509094,
          1.210360050201416,
          0.015501139685511589,
          -0.6844599843025208,
          0.5912284851074219,
          1.0184285640716553,
          0.46798890829086304,
          0.21246735751628876,
          -0.48303624987602234,
          -0.4930802285671234,
          1.9753745794296265,
          -0.5621482729911804,
          -0.07425504177808762,
          0.6976513862609863,
          0.19585949182510376,
          1.1952266693115234,
          -0.1290460079908371,
          -0.002419327851384878,
          -1.1321042776107788,
          -0.6819537281990051,
          0.36073869466781616,
          -1.0980143547058105,
          2.625303268432617,
          -0.849888265132904,
          -1.2406233549118042,
          2.864119529724121,
          -0.2992541491985321,
          2.913357734680176,
          -0.41749516129493713,
          0.020928489044308662,
          1.0315494537353516,
          -1.28583562374115,
          -2.5051286220550537,
          -1.1242293119430542,
          1.101564884185791,
          -0.015324979089200497,
          0.24517670273780823,
          -0.025763098150491714,
          -0.8844780921936035,
          -0.6718014478683472,
          -0.35122987627983093,
          -0.4919327199459076,
          -1.4319725036621094,
          3.3571057319641113,
          -2.504115104675293
         ],
         "xaxis": "x",
         "y": [
          1.2500932216644287,
          -0.6699149012565613,
          0.7246969938278198,
          -1.6535608768463135,
          -0.47535908222198486,
          0.8387917280197144,
          1.9518524408340454,
          1.5552383661270142,
          -0.3919648230075836,
          0.8824905157089233,
          -0.1079171746969223,
          -0.4725937247276306,
          -1.0416301488876343,
          0.637141227722168,
          1.1716254949569702,
          -2.1876344680786133,
          -1.0711023807525635,
          -0.025882234796881676,
          1.8560872077941895,
          -1.8036283254623413,
          0.4273092448711395,
          1.6349135637283325,
          1.5451266765594482,
          2.8393938541412354,
          1.308073878288269,
          -0.7396531105041504,
          -0.17171438038349152,
          -0.6290935277938843,
          -0.7568721175193787,
          1.6606862545013428,
          1.3202251195907593,
          -0.3574764132499695,
          1.5826442241668701,
          -1.0649420022964478,
          -0.636700451374054,
          -0.920750617980957,
          1.3735380172729492,
          -2.911593198776245,
          2.685310125350952,
          1.625201940536499,
          1.4272342920303345,
          -0.11382083594799042,
          -0.12313862890005112,
          -0.05399874970316887,
          2.1834464073181152,
          0.8617300391197205,
          -0.2528185546398163,
          -1.2811816930770874,
          0.41396161913871765,
          -0.5800278186798096,
          -1.7885074615478516,
          -0.17197467386722565,
          0.5974474549293518,
          -2.213897228240967,
          -2.2006289958953857,
          -4.2281646728515625,
          1.2189273834228516,
          -1.488830804824829,
          -0.5977203845977783,
          -1.4434845447540283,
          -0.5521361827850342,
          0.36488834023475647,
          -0.2247745394706726,
          0.27010661363601685,
          1.308228850364685,
          1.1853924989700317,
          1.0459935665130615,
          -0.651747465133667,
          -0.30285772681236267,
          1.8926045894622803,
          1.0225688219070435,
          -2.1053521633148193,
          -0.3028305768966675,
          1.6163982152938843,
          2.0117204189300537,
          -2.2951598167419434,
          -2.82732892036438,
          -0.18738627433776855,
          1.4821770191192627,
          -0.8468497395515442,
          -1.2050285339355469,
          -0.5394449830055237,
          1.1288059949874878,
          1.8743057250976562,
          0.44821974635124207,
          2.7233567237854004,
          -2.639699697494507,
          -1.381822109222412,
          -1.2066357135772705,
          0.14915479719638824,
          -0.5339446067810059,
          -0.9880180358886719,
          1.0360066890716553,
          2.301318645477295,
          -1.4958778619766235,
          0.03765565901994705,
          -2.5602219104766846,
          -1.4481006860733032,
          -0.061531197279691696,
          -1.398171067237854,
          -1.9193233251571655,
          -0.5426124334335327,
          -0.20462685823440552,
          -0.16475257277488708,
          0.23581816256046295,
          -0.2874385416507721,
          1.112471580505371,
          1.1867012977600098,
          -1.6417028903961182,
          -0.07282435148954391,
          -0.7549144625663757,
          0.09373003989458084,
          -0.2528221309185028,
          -1.0934242010116577,
          1.888441801071167,
          -1.9427369832992554,
          1.8748676776885986,
          -0.725225031375885,
          0.5352955460548401,
          -1.5210044384002686,
          -0.6746855974197388,
          0.3320743441581726,
          1.3516607284545898,
          -0.5873464941978455,
          0.7868724465370178,
          2.4659111499786377,
          3.025787115097046,
          0.13457873463630676,
          0.9758416414260864,
          0.15961113572120667,
          0.9678724408149719,
          1.2753338813781738,
          0.903421938419342,
          0.13974930346012115,
          1.325647234916687,
          2.5405936241149902,
          -2.0246870517730713,
          -1.1003111600875854,
          -0.9313315749168396,
          -0.2713690996170044,
          0.45743390917778015,
          0.04673066735267639,
          -0.5237449407577515,
          -0.1741797775030136,
          2.3887779712677,
          0.9957099556922913,
          1.131612777709961,
          -1.2678972482681274,
          2.814941167831421,
          -2.1120457649230957,
          -1.7868093252182007,
          0.38589397072792053,
          -2.0326666831970215,
          0.7950130701065063,
          -0.624163031578064,
          -0.17601267993450165,
          2.500983715057373,
          0.6329094171524048,
          1.6714847087860107,
          -1.322101354598999,
          -3.184044361114502,
          -3.199126720428467,
          1.4821709394454956,
          -0.5109949707984924,
          -1.2225834131240845,
          0.10333561897277832,
          -1.302855134010315,
          -3.2223258018493652,
          -1.0302621126174927,
          2.3114755153656006,
          -0.3495243489742279,
          1.0334886312484741,
          0.5014216303825378,
          0.7107904553413391,
          0.4072297513484955,
          -0.38275429606437683,
          -0.9482080340385437,
          -1.3343628644943237,
          0.5604800581932068,
          0.661304235458374,
          1.8383768796920776,
          0.5595154762268066,
          0.7116823196411133,
          -0.18100355565547943,
          0.43238940834999084,
          -0.9676348567008972,
          -1.3175524473190308,
          -0.0398552380502224,
          -0.0790075734257698,
          -1.5347379446029663,
          1.2423292398452759,
          1.4995250701904297,
          0.8419930338859558,
          -0.9900456666946411,
          1.721139669418335,
          0.5534656047821045,
          0.11294429749250412,
          -1.4532710313796997,
          0.9824658036231995,
          -3.5552096366882324,
          -1.2242635488510132,
          2.0743517875671387,
          1.7802009582519531,
          1.8126220703125,
          -1.0632108449935913,
          0.132574662566185,
          -1.1504651308059692,
          -0.9428555965423584,
          1.6663970947265625,
          -0.45380595326423645,
          -1.0149472951889038,
          0.3427745997905731,
          0.6221752762794495,
          1.7231595516204834,
          -1.562847375869751,
          1.477724313735962,
          1.355804443359375,
          0.6069724559783936,
          1.008772611618042,
          0.6751171350479126,
          1.4773838520050049,
          -1.5316013097763062,
          0.9146595001220703,
          1.2793619632720947,
          0.6238046884536743,
          -1.2384330034255981,
          1.5955545902252197,
          1.7007341384887695,
          0.9095239043235779,
          -3.1711251735687256,
          2.3513078689575195,
          -2.563469171524048,
          0.01815585233271122,
          -1.3993717432022095,
          0.22421681880950928,
          -0.16748960316181183,
          2.1172826290130615,
          -1.9179126024246216,
          0.03873113542795181,
          -0.05522122234106064,
          0.1391148567199707,
          1.9991822242736816,
          -1.2643295526504517,
          -0.2658795118331909,
          -1.5344691276550293,
          -1.2363487482070923,
          0.32419782876968384,
          -2.801835060119629,
          -0.955081045627594,
          -1.2616331577301025,
          -0.5512149930000305,
          -0.3645990192890167,
          -0.026585232466459274,
          -0.013298291712999344,
          1.8331241607666016,
          0.2613736391067505,
          0.8917143940925598,
          1.4966926574707031,
          0.33143070340156555,
          2.1787915229797363,
          -1.1800451278686523,
          -0.10447156429290771,
          1.4238656759262085,
          0.19851873815059662,
          2.6179959774017334,
          -1.1707242727279663,
          -0.45037606358528137,
          1.085585117340088,
          0.2164510041475296,
          -0.8894176483154297,
          -1.4961037635803223,
          0.566279411315918,
          0.5446231365203857,
          -1.0157763957977295,
          0.08369996398687363,
          1.469916582107544,
          -1.4151768684387207,
          -1.2071877717971802,
          0.01207661721855402,
          -0.48575854301452637,
          0.15328456461429596,
          -1.2533632516860962,
          0.7072824835777283,
          0.36279839277267456,
          -0.15544913709163666,
          1.2164275646209717,
          2.055556297302246,
          -0.8475368618965149,
          1.6212722063064575,
          1.241525650024414,
          -0.3772149980068207,
          -0.8257116675376892,
          1.708531141281128,
          -0.6312142610549927,
          -1.6908177137374878,
          1.3384814262390137,
          0.626986026763916,
          -0.5587979555130005,
          -1.7427217960357666,
          -1.1685336828231812,
          -1.236530065536499,
          -0.041428953409194946,
          0.6316710114479065,
          -0.4866759479045868,
          -1.1111363172531128,
          3.1826047897338867,
          0.48044338822364807,
          2.488877534866333,
          1.105747938156128,
          1.4093728065490723,
          -1.6006450653076172,
          0.21655668318271637,
          1.1995412111282349,
          1.508805274963379,
          -0.6441636681556702,
          0.7745193243026733,
          -3.784668445587158,
          -1.0334495306015015,
          1.7193164825439453,
          -1.0896037817001343,
          1.97620689868927,
          0.20582854747772217,
          1.778915286064148,
          1.2033288478851318,
          1.2406728267669678,
          -1.9151332378387451,
          -0.886802613735199,
          -0.7433004975318909,
          0.7914603352546692,
          -0.7436957955360413,
          1.4618499279022217,
          -0.8859531879425049,
          1.9518343210220337,
          -0.020266905426979065,
          -1.2092407941818237,
          0.2938356399536133,
          -2.86755108833313,
          0.6303645968437195,
          -1.2012226581573486,
          -0.1818063110113144,
          0.9715667963027954,
          -1.135311245918274,
          0.3366856575012207,
          -0.8712108135223389,
          1.0872701406478882,
          -0.1290874481201172,
          -1.5984840393066406,
          -2.7069151401519775,
          2.249357223510742,
          -0.22573222219944,
          1.8567193746566772,
          1.0776760578155518,
          0.1211039125919342,
          -1.6187831163406372,
          0.4990490674972534,
          -0.13443784415721893,
          -0.14198420941829681,
          -1.6034355163574219,
          0.8182448744773865,
          0.30941879749298096,
          -2.193965435028076,
          -0.3070831298828125,
          -0.9758410453796387,
          1.3987878561019897,
          -1.2919970750808716,
          0.2376660853624344,
          -1.132408857345581,
          -0.5718916654586792,
          -2.58097767829895,
          -0.44423675537109375,
          -0.029418975114822388,
          0.7429277300834656,
          -0.3364696502685547,
          -1.036242127418518,
          0.21624688804149628,
          1.9167943000793457,
          -0.6035411953926086,
          -1.9351654052734375,
          2.0085320472717285,
          0.8886188268661499,
          1.6753371953964233,
          0.7947582006454468,
          0.6753861904144287,
          0.31327366828918457,
          1.47956383228302,
          -1.6714593172073364,
          -1.0236337184906006,
          0.9440930485725403,
          -0.8178744912147522,
          1.0547444820404053,
          2.0312693119049072,
          -2.481712818145752,
          -0.6207510828971863,
          -1.3675875663757324,
          1.3255177736282349,
          -3.234144926071167,
          0.5312474966049194,
          -0.8697981238365173,
          -0.8452699184417725,
          1.08991277217865,
          -1.3308402299880981,
          0.5087372064590454,
          2.013195276260376,
          0.3205200731754303,
          -0.29829156398773193,
          -1.5167399644851685,
          -1.4978221654891968,
          -1.133181095123291,
          0.542747974395752,
          -2.142853260040283,
          -1.3164540529251099,
          0.09524818509817123,
          -1.5154657363891602,
          -1.0641419887542725,
          -0.519196629524231,
          -0.4504684805870056,
          -0.34035348892211914,
          0.4816400110721588,
          0.748996913433075,
          0.6790483593940735,
          2.2567951679229736,
          -3.073335647583008,
          -1.284396767616272,
          -1.00502610206604,
          0.5611646771430969,
          -1.3371477127075195,
          1.0344464778900146,
          0.8224858641624451,
          -0.40953323245048523,
          2.369361400604248,
          -0.17737138271331787,
          0.3523906171321869,
          0.4053225517272949,
          0.28989937901496887,
          -1.441717505455017,
          -0.7457608580589294,
          0.7553762793540955,
          2.025944709777832,
          1.5518081188201904,
          -2.9244582653045654,
          1.8138993978500366,
          0.9194376468658447,
          1.310172438621521,
          -0.14256292581558228,
          -0.5340129733085632,
          0.6560609936714172,
          -0.3464614450931549,
          2.7365307807922363,
          0.09700868278741837,
          -0.009942523203790188,
          1.5820636749267578,
          -0.3841898441314697,
          0.45379576086997986,
          -1.0257189273834229,
          0.9925587177276611,
          -0.9885961413383484,
          0.09597943723201752,
          -1.7635903358459473,
          2.480755567550659,
          1.1721073389053345,
          -0.15399141609668732,
          -1.824068546295166,
          -0.4082326889038086,
          -0.12176333367824554,
          1.3986868858337402,
          -1.2165607213974,
          -2.60890793800354,
          -1.0805541276931763,
          1.8919368982315063,
          1.0747945308685303,
          -0.5585674047470093,
          -1.004326581954956,
          -1.406660795211792,
          -2.9581398963928223,
          -2.2926950454711914,
          -2.712090253829956,
          -0.6701360940933228,
          -1.7026163339614868,
          0.7739576697349548,
          -1.5511953830718994,
          -2.1610095500946045,
          -0.7059855461120605,
          -1.1512343883514404,
          1.5718846321105957,
          -0.9706387519836426,
          -0.19274868071079254,
          -1.7376739978790283,
          0.03332716226577759,
          -1.5493212938308716,
          -0.9660429954528809,
          -1.0602103471755981,
          0.03220174461603165,
          -0.8938661217689514,
          1.2177940607070923,
          0.6568949818611145,
          -2.977633476257324,
          1.555587887763977,
          0.7365307807922363,
          -0.6773339509963989,
          -1.2656465768814087,
          -3.5354199409484863,
          -0.3394172787666321,
          0.38396164774894714,
          -1.2897822856903076,
          -0.8539304733276367,
          1.1507993936538696,
          1.018273115158081,
          -3.609442949295044,
          0.5985700488090515,
          0.7367636561393738,
          1.9719018936157227,
          -2.22306227684021,
          1.447212815284729,
          0.6124969124794006,
          0.07061602175235748,
          0.11389444768428802,
          -0.5045452117919922,
          -0.24667850136756897,
          -3.002824544906616,
          2.4894418716430664,
          1.841041088104248,
          -0.9779132008552551,
          -0.44613564014434814,
          0.27742984890937805,
          0.19704577326774597,
          -2.9973995685577393,
          -0.41902822256088257,
          -1.3546960353851318,
          0.8336295485496521,
          2.209303140640259,
          0.131902277469635,
          -0.22529982030391693,
          -2.1988089084625244,
          -1.129813551902771,
          -1.1393473148345947,
          -0.3094904124736786,
          2.1508522033691406,
          1.1370397806167603,
          2.147341728210449,
          0.6926385164260864,
          -0.6386684775352478,
          -1.4936286211013794,
          0.8874707221984863,
          -0.6601829528808594,
          0.02823466621339321,
          -0.2265998274087906,
          -2.431575298309326,
          1.104983925819397,
          1.1432688236236572,
          -0.1876220405101776,
          -1.7560001611709595,
          -0.13230784237384796,
          -0.7719791531562805,
          0.8510931134223938,
          0.2593294680118561,
          1.9996389150619507,
          0.2633402347564697,
          0.3231571316719055,
          1.3989404439926147,
          -2.3389651775360107,
          0.8467820882797241,
          -1.7955689430236816,
          -0.19452804327011108,
          -0.011668353341519833,
          -1.0782984495162964,
          1.005528450012207,
          0.9768733978271484,
          -2.284564256668091,
          -0.15188467502593994,
          0.4200217127799988,
          1.8329442739486694,
          0.3377050459384918,
          0.9908367991447449,
          -1.224068284034729,
          1.4066338539123535,
          2.4339277744293213,
          1.2282301187515259,
          1.3416595458984375,
          -0.960320770740509,
          -0.2810637950897217,
          -0.7455694675445557,
          0.39107632637023926,
          0.3124902546405792,
          1.5507922172546387,
          -1.6008696556091309,
          0.3800520598888397,
          -1.9386409521102905,
          -1.1494114398956299,
          -1.254794955253601,
          0.6608866453170776,
          -1.9009512662887573,
          0.633901059627533,
          2.060096025466919,
          -1.9123550653457642,
          -2.9303581714630127,
          1.60379958152771,
          -2.0964486598968506,
          -0.39331701397895813,
          -2.865140199661255,
          -0.24865436553955078,
          -0.16255998611450195,
          0.5870035886764526,
          -0.5447093844413757,
          -1.001017451286316,
          -0.9942722916603088,
          0.9035329818725586,
          1.7073205709457397,
          -0.9845818877220154,
          -0.4171914756298065,
          -0.418008416891098,
          1.7870221138000488,
          0.2923193871974945,
          2.0618863105773926,
          1.2768850326538086,
          -0.7142110466957092,
          -3.2842469215393066,
          0.5255330204963684,
          -0.454235315322876,
          2.521698474884033,
          -2.8390653133392334,
          1.098144769668579,
          -1.003880500793457,
          0.49550187587738037,
          -0.773274302482605,
          0.5728675127029419,
          -1.1641974449157715,
          2.0520100593566895,
          -3.0041160583496094,
          0.9051172733306885,
          0.5358931422233582,
          2.756211519241333,
          2.169240951538086,
          -0.5188454985618591,
          -0.7973029613494873,
          -1.207331657409668,
          0.797515869140625,
          1.9524976015090942,
          0.8805586099624634,
          -0.3497893214225769,
          -0.41770949959754944,
          2.5715529918670654,
          -0.43435439467430115,
          0.021958215162158012,
          -0.7631379961967468,
          1.466912865638733,
          -1.1151998043060303,
          0.46521785855293274,
          -2.6952061653137207,
          -0.591417670249939,
          1.4787577390670776,
          0.13382720947265625,
          1.1761258840560913,
          -0.4364667534828186,
          -1.4159419536590576,
          0.1607264131307602,
          0.05909661576151848,
          -0.253857284784317,
          0.5161095261573792,
          -0.3650514483451843,
          0.02944163978099823,
          0.028003035113215446,
          -0.6961107850074768,
          -0.727440595626831,
          0.35387754440307617,
          1.0558995008468628,
          -3.3153469562530518,
          -0.4971853494644165,
          1.7448475360870361,
          1.9066485166549683,
          -0.5675069093704224,
          0.23218321800231934,
          -4.13768196105957,
          2.193284749984741,
          -1.4858030080795288,
          -0.5040876865386963,
          -2.202366352081299,
          2.0779972076416016,
          -1.8383182287216187,
          0.292526513338089,
          -0.09315714240074158,
          0.5833020210266113,
          -0.9824610352516174,
          0.831684410572052,
          -0.6940245032310486,
          2.60252046585083,
          0.33563196659088135,
          -0.3258730471134186,
          -0.6197041273117065,
          1.4565577507019043,
          -1.4657518863677979,
          -0.6554030776023865,
          -0.7018806338310242,
          2.499032974243164,
          -1.0455867052078247,
          -0.48482024669647217,
          -0.41535136103630066,
          -2.88460111618042,
          -2.2221522331237793,
          0.6369340419769287,
          -0.22623485326766968,
          -1.1481260061264038,
          0.7524263858795166,
          -1.6791189908981323,
          0.008415085263550282,
          -1.5094116926193237,
          1.7325849533081055,
          -0.3327661156654358,
          0.9493818879127502,
          0.43398112058639526,
          0.8721784949302673,
          0.876834511756897,
          1.5004913806915283,
          0.09897416830062866,
          -1.7708121538162231,
          -0.6607245206832886,
          -0.5872706770896912,
          1.0265921354293823,
          1.4686956405639648,
          -1.2409026622772217,
          -1.6803621053695679,
          1.9163110256195068,
          1.364068627357483,
          -1.1040334701538086,
          -2.163569688796997,
          0.35427865386009216,
          0.9415881037712097,
          1.3085012435913086,
          -1.9817150831222534,
          -0.7321634292602539,
          0.8779754042625427,
          -1.400030255317688,
          1.6834871768951416,
          2.1445772647857666,
          -1.2367146015167236,
          -4.3939008712768555,
          1.1161749362945557,
          1.1557129621505737,
          -1.6117351055145264,
          0.5371528267860413,
          -0.4488118588924408,
          0.8229092359542847,
          -1.887803077697754,
          -1.656684160232544,
          -1.6548893451690674,
          -1.279742956161499,
          0.4360487163066864,
          1.5222508907318115,
          1.7583402395248413,
          -2.1078975200653076,
          -0.8044242262840271,
          -0.9880661368370056,
          2.1599411964416504,
          -0.401765912771225,
          -0.41346004605293274,
          -0.168784961104393,
          -1.993491530418396,
          0.4942891299724579,
          1.0941810607910156,
          -1.0738520622253418,
          -2.119809865951538,
          1.5796490907669067,
          -0.4909060001373291,
          2.5312368869781494,
          -2.466508626937866,
          -1.0719016790390015,
          -3.35434889793396,
          1.3576178550720215,
          1.1770061254501343,
          0.5349091291427612,
          1.0146290063858032,
          1.0377575159072876,
          -0.7311681509017944,
          -0.0929953083395958,
          1.8529086112976074,
          0.29841920733451843,
          3.2854928970336914,
          0.19536885619163513,
          -0.8011124730110168,
          -0.6084826588630676,
          -1.3049347400665283,
          -1.8978275060653687,
          0.49313244223594666,
          0.7430877685546875,
          1.2388834953308105,
          0.9306640625,
          -0.8120431900024414,
          0.8850588202476501,
          1.2317019701004028,
          0.743749737739563,
          1.0524754524230957,
          1.8001712560653687,
          1.0098165273666382,
          -4.235276222229004,
          1.726970911026001,
          -0.7799585461616516,
          -0.03680160641670227,
          0.7409034371376038,
          1.077101469039917,
          0.3069940209388733,
          -1.3373560905456543,
          1.199468731880188,
          -0.07167825102806091,
          -0.4481741487979889,
          -0.005105841904878616,
          -0.9892091155052185,
          -3.083151340484619,
          0.8678590059280396,
          1.2083185911178589,
          -2.09346079826355,
          -1.8370306491851807,
          -0.5193666815757751,
          0.201914981007576,
          1.6550343036651611,
          1.7446937561035156,
          1.8190386295318604,
          0.5299713015556335,
          -2.1796493530273438,
          1.5664039850234985,
          -0.6788766384124756,
          0.01658364199101925,
          -0.7149668335914612,
          -1.9588295221328735,
          0.6168799996376038,
          -3.386629819869995,
          1.270925760269165,
          2.1637213230133057,
          1.803231120109558,
          0.04155341535806656,
          0.6848764419555664,
          2.5617926120758057,
          1.992689609527588,
          -2.0715959072113037,
          1.9606741666793823,
          -0.3371666669845581,
          2.017868995666504,
          1.0245634317398071,
          -0.9833180904388428,
          0.24128969013690948,
          -0.7269209027290344,
          0.7350262999534607,
          -0.8218408823013306,
          -0.18488779664039612,
          -1.4217361211776733,
          0.8660772442817688,
          -0.06317928433418274,
          0.12412390112876892,
          2.5665762424468994,
          1.2717878818511963,
          1.189373254776001,
          -2.3907790184020996,
          -0.3363392651081085,
          0.7643795609474182,
          1.9987010955810547,
          -0.22567622363567352,
          0.8967741131782532,
          -2.8084800243377686,
          1.9538424015045166,
          0.9700429439544678,
          -0.47476401925086975,
          0.23903760313987732,
          0.1494216024875641,
          2.396451473236084,
          -2.304445266723633,
          -0.29429131746292114,
          -2.093454360961914,
          -1.6906951665878296,
          1.5783041715621948,
          -0.6826810240745544,
          0.3960833251476288,
          0.9639362692832947,
          -0.6547980308532715,
          -2.1281895637512207,
          -1.1821166276931763,
          1.6082617044448853,
          0.15374647080898285,
          0.14715266227722168,
          1.0319764614105225,
          -1.562509536743164,
          2.5083580017089844,
          0.45993557572364807,
          -0.3568834364414215,
          1.1529815196990967,
          -1.4919342994689941,
          2.291189432144165,
          -0.5474028587341309,
          1.5281898975372314,
          1.9872528314590454,
          -1.1379380226135254,
          1.2323168516159058,
          0.9103315472602844,
          0.051331330090761185,
          -0.4210088849067688,
          -1.5175118446350098,
          1.1108360290527344,
          1.1796767711639404,
          -1.037160038948059,
          -0.5138118267059326,
          0.1692107915878296,
          -1.0027680397033691,
          -0.7500486373901367,
          -2.4796688556671143,
          -0.6808773279190063,
          -0.7396076321601868,
          -1.555792212486267,
          -1.198428750038147,
          -1.525313138961792,
          -0.20928804576396942,
          -0.5519204139709473,
          1.4190692901611328,
          1.5367995500564575,
          -2.04449200630188,
          1.2484909296035767,
          0.35009515285491943,
          2.5418505668640137,
          -0.03837322071194649,
          -0.6398026943206787,
          -0.6370988488197327,
          2.1355769634246826,
          2.4113945960998535,
          1.6935489177703857,
          0.550611674785614,
          1.0199323892593384,
          1.6331102848052979,
          -1.5182198286056519,
          1.6273648738861084,
          1.0256731510162354,
          -0.39340126514434814,
          -2.2458670139312744,
          -0.8293496370315552,
          1.6514897346496582,
          -1.213929295539856,
          -1.0977858304977417,
          -1.8564938306808472,
          0.09828099608421326,
          0.7438563704490662,
          -3.2853455543518066,
          1.273555874824524,
          2.113428831100464,
          0.8156757354736328,
          -0.4400573968887329,
          -0.39545103907585144,
          0.38873499631881714,
          -0.7288542985916138,
          -3.242709159851074,
          2.629394292831421,
          -1.4394768476486206,
          0.8444297909736633,
          3.2834877967834473,
          -0.8018596768379211,
          -1.2665349245071411,
          -0.8092939257621765,
          -0.2208034098148346,
          0.26293185353279114,
          2.3575901985168457,
          -0.11134234815835953,
          1.85453462600708,
          1.6025390625,
          1.7444219589233398,
          -0.22231155633926392,
          0.42661941051483154,
          2.1111793518066406,
          1.7569055557250977,
          -0.2857478857040405,
          1.834211826324463,
          1.5687651634216309,
          0.9139846563339233,
          0.9564586281776428,
          1.997690200805664,
          0.9100839495658875,
          1.9688045978546143,
          1.1604427099227905,
          1.9488836526870728,
          0.5096011757850647,
          0.21460559964179993,
          0.23766285181045532,
          -0.8110722303390503,
          3.2795052528381348,
          0.4773250222206116,
          0.27923819422721863,
          -0.5067852735519409,
          -1.8575626611709595,
          1.7149591445922852,
          -0.7967329621315002,
          1.5212233066558838,
          0.6186268925666809,
          2.191751003265381,
          0.17790168523788452,
          -0.8596312403678894,
          1.3077365159988403,
          -0.7621061205863953,
          1.436176061630249,
          1.5746500492095947,
          1.406054973602295,
          0.32917895913124084,
          1.0795917510986328,
          -0.9271882772445679,
          -0.40316712856292725,
          -2.3115272521972656,
          -1.0213979482650757,
          -0.9425647854804993
         ],
         "yaxis": "y"
        }
       ],
       "layout": {
        "coloraxis": {
         "colorbar": {
          "tickmode": "linear",
          "title": {
           "text": "Rating Score"
          }
         },
         "colorscale": [
          [
           0,
           "#440154"
          ],
          [
           0.1111111111111111,
           "#482878"
          ],
          [
           0.2222222222222222,
           "#3e4989"
          ],
          [
           0.3333333333333333,
           "#31688e"
          ],
          [
           0.4444444444444444,
           "#26828e"
          ],
          [
           0.5555555555555556,
           "#1f9e89"
          ],
          [
           0.6666666666666666,
           "#35b779"
          ],
          [
           0.7777777777777778,
           "#6ece58"
          ],
          [
           0.8888888888888888,
           "#b5de2b"
          ],
          [
           1,
           "#fde725"
          ]
         ]
        },
        "hovermode": "closest",
        "legend": {
         "tracegroupgap": 0
        },
        "template": {
         "data": {
          "bar": [
           {
            "error_x": {
             "color": "#2a3f5f"
            },
            "error_y": {
             "color": "#2a3f5f"
            },
            "marker": {
             "line": {
              "color": "white",
              "width": 0.5
             },
             "pattern": {
              "fillmode": "overlay",
              "size": 10,
              "solidity": 0.2
             }
            },
            "type": "bar"
           }
          ],
          "barpolar": [
           {
            "marker": {
             "line": {
              "color": "white",
              "width": 0.5
             },
             "pattern": {
              "fillmode": "overlay",
              "size": 10,
              "solidity": 0.2
             }
            },
            "type": "barpolar"
           }
          ],
          "carpet": [
           {
            "aaxis": {
             "endlinecolor": "#2a3f5f",
             "gridcolor": "#C8D4E3",
             "linecolor": "#C8D4E3",
             "minorgridcolor": "#C8D4E3",
             "startlinecolor": "#2a3f5f"
            },
            "baxis": {
             "endlinecolor": "#2a3f5f",
             "gridcolor": "#C8D4E3",
             "linecolor": "#C8D4E3",
             "minorgridcolor": "#C8D4E3",
             "startlinecolor": "#2a3f5f"
            },
            "type": "carpet"
           }
          ],
          "choropleth": [
           {
            "colorbar": {
             "outlinewidth": 0,
             "ticks": ""
            },
            "type": "choropleth"
           }
          ],
          "contour": [
           {
            "colorbar": {
             "outlinewidth": 0,
             "ticks": ""
            },
            "colorscale": [
             [
              0,
              "#0d0887"
             ],
             [
              0.1111111111111111,
              "#46039f"
             ],
             [
              0.2222222222222222,
              "#7201a8"
             ],
             [
              0.3333333333333333,
              "#9c179e"
             ],
             [
              0.4444444444444444,
              "#bd3786"
             ],
             [
              0.5555555555555556,
              "#d8576b"
             ],
             [
              0.6666666666666666,
              "#ed7953"
             ],
             [
              0.7777777777777778,
              "#fb9f3a"
             ],
             [
              0.8888888888888888,
              "#fdca26"
             ],
             [
              1,
              "#f0f921"
             ]
            ],
            "type": "contour"
           }
          ],
          "contourcarpet": [
           {
            "colorbar": {
             "outlinewidth": 0,
             "ticks": ""
            },
            "type": "contourcarpet"
           }
          ],
          "heatmap": [
           {
            "colorbar": {
             "outlinewidth": 0,
             "ticks": ""
            },
            "colorscale": [
             [
              0,
              "#0d0887"
             ],
             [
              0.1111111111111111,
              "#46039f"
             ],
             [
              0.2222222222222222,
              "#7201a8"
             ],
             [
              0.3333333333333333,
              "#9c179e"
             ],
             [
              0.4444444444444444,
              "#bd3786"
             ],
             [
              0.5555555555555556,
              "#d8576b"
             ],
             [
              0.6666666666666666,
              "#ed7953"
             ],
             [
              0.7777777777777778,
              "#fb9f3a"
             ],
             [
              0.8888888888888888,
              "#fdca26"
             ],
             [
              1,
              "#f0f921"
             ]
            ],
            "type": "heatmap"
           }
          ],
          "heatmapgl": [
           {
            "colorbar": {
             "outlinewidth": 0,
             "ticks": ""
            },
            "colorscale": [
             [
              0,
              "#0d0887"
             ],
             [
              0.1111111111111111,
              "#46039f"
             ],
             [
              0.2222222222222222,
              "#7201a8"
             ],
             [
              0.3333333333333333,
              "#9c179e"
             ],
             [
              0.4444444444444444,
              "#bd3786"
             ],
             [
              0.5555555555555556,
              "#d8576b"
             ],
             [
              0.6666666666666666,
              "#ed7953"
             ],
             [
              0.7777777777777778,
              "#fb9f3a"
             ],
             [
              0.8888888888888888,
              "#fdca26"
             ],
             [
              1,
              "#f0f921"
             ]
            ],
            "type": "heatmapgl"
           }
          ],
          "histogram": [
           {
            "marker": {
             "pattern": {
              "fillmode": "overlay",
              "size": 10,
              "solidity": 0.2
             }
            },
            "type": "histogram"
           }
          ],
          "histogram2d": [
           {
            "colorbar": {
             "outlinewidth": 0,
             "ticks": ""
            },
            "colorscale": [
             [
              0,
              "#0d0887"
             ],
             [
              0.1111111111111111,
              "#46039f"
             ],
             [
              0.2222222222222222,
              "#7201a8"
             ],
             [
              0.3333333333333333,
              "#9c179e"
             ],
             [
              0.4444444444444444,
              "#bd3786"
             ],
             [
              0.5555555555555556,
              "#d8576b"
             ],
             [
              0.6666666666666666,
              "#ed7953"
             ],
             [
              0.7777777777777778,
              "#fb9f3a"
             ],
             [
              0.8888888888888888,
              "#fdca26"
             ],
             [
              1,
              "#f0f921"
             ]
            ],
            "type": "histogram2d"
           }
          ],
          "histogram2dcontour": [
           {
            "colorbar": {
             "outlinewidth": 0,
             "ticks": ""
            },
            "colorscale": [
             [
              0,
              "#0d0887"
             ],
             [
              0.1111111111111111,
              "#46039f"
             ],
             [
              0.2222222222222222,
              "#7201a8"
             ],
             [
              0.3333333333333333,
              "#9c179e"
             ],
             [
              0.4444444444444444,
              "#bd3786"
             ],
             [
              0.5555555555555556,
              "#d8576b"
             ],
             [
              0.6666666666666666,
              "#ed7953"
             ],
             [
              0.7777777777777778,
              "#fb9f3a"
             ],
             [
              0.8888888888888888,
              "#fdca26"
             ],
             [
              1,
              "#f0f921"
             ]
            ],
            "type": "histogram2dcontour"
           }
          ],
          "mesh3d": [
           {
            "colorbar": {
             "outlinewidth": 0,
             "ticks": ""
            },
            "type": "mesh3d"
           }
          ],
          "parcoords": [
           {
            "line": {
             "colorbar": {
              "outlinewidth": 0,
              "ticks": ""
             }
            },
            "type": "parcoords"
           }
          ],
          "pie": [
           {
            "automargin": true,
            "type": "pie"
           }
          ],
          "scatter": [
           {
            "fillpattern": {
             "fillmode": "overlay",
             "size": 10,
             "solidity": 0.2
            },
            "type": "scatter"
           }
          ],
          "scatter3d": [
           {
            "line": {
             "colorbar": {
              "outlinewidth": 0,
              "ticks": ""
             }
            },
            "marker": {
             "colorbar": {
              "outlinewidth": 0,
              "ticks": ""
             }
            },
            "type": "scatter3d"
           }
          ],
          "scattercarpet": [
           {
            "marker": {
             "colorbar": {
              "outlinewidth": 0,
              "ticks": ""
             }
            },
            "type": "scattercarpet"
           }
          ],
          "scattergeo": [
           {
            "marker": {
             "colorbar": {
              "outlinewidth": 0,
              "ticks": ""
             }
            },
            "type": "scattergeo"
           }
          ],
          "scattergl": [
           {
            "marker": {
             "colorbar": {
              "outlinewidth": 0,
              "ticks": ""
             }
            },
            "type": "scattergl"
           }
          ],
          "scattermapbox": [
           {
            "marker": {
             "colorbar": {
              "outlinewidth": 0,
              "ticks": ""
             }
            },
            "type": "scattermapbox"
           }
          ],
          "scatterpolar": [
           {
            "marker": {
             "colorbar": {
              "outlinewidth": 0,
              "ticks": ""
             }
            },
            "type": "scatterpolar"
           }
          ],
          "scatterpolargl": [
           {
            "marker": {
             "colorbar": {
              "outlinewidth": 0,
              "ticks": ""
             }
            },
            "type": "scatterpolargl"
           }
          ],
          "scatterternary": [
           {
            "marker": {
             "colorbar": {
              "outlinewidth": 0,
              "ticks": ""
             }
            },
            "type": "scatterternary"
           }
          ],
          "surface": [
           {
            "colorbar": {
             "outlinewidth": 0,
             "ticks": ""
            },
            "colorscale": [
             [
              0,
              "#0d0887"
             ],
             [
              0.1111111111111111,
              "#46039f"
             ],
             [
              0.2222222222222222,
              "#7201a8"
             ],
             [
              0.3333333333333333,
              "#9c179e"
             ],
             [
              0.4444444444444444,
              "#bd3786"
             ],
             [
              0.5555555555555556,
              "#d8576b"
             ],
             [
              0.6666666666666666,
              "#ed7953"
             ],
             [
              0.7777777777777778,
              "#fb9f3a"
             ],
             [
              0.8888888888888888,
              "#fdca26"
             ],
             [
              1,
              "#f0f921"
             ]
            ],
            "type": "surface"
           }
          ],
          "table": [
           {
            "cells": {
             "fill": {
              "color": "#EBF0F8"
             },
             "line": {
              "color": "white"
             }
            },
            "header": {
             "fill": {
              "color": "#C8D4E3"
             },
             "line": {
              "color": "white"
             }
            },
            "type": "table"
           }
          ]
         },
         "layout": {
          "annotationdefaults": {
           "arrowcolor": "#2a3f5f",
           "arrowhead": 0,
           "arrowwidth": 1
          },
          "autotypenumbers": "strict",
          "coloraxis": {
           "colorbar": {
            "outlinewidth": 0,
            "ticks": ""
           }
          },
          "colorscale": {
           "diverging": [
            [
             0,
             "#8e0152"
            ],
            [
             0.1,
             "#c51b7d"
            ],
            [
             0.2,
             "#de77ae"
            ],
            [
             0.3,
             "#f1b6da"
            ],
            [
             0.4,
             "#fde0ef"
            ],
            [
             0.5,
             "#f7f7f7"
            ],
            [
             0.6,
             "#e6f5d0"
            ],
            [
             0.7,
             "#b8e186"
            ],
            [
             0.8,
             "#7fbc41"
            ],
            [
             0.9,
             "#4d9221"
            ],
            [
             1,
             "#276419"
            ]
           ],
           "sequential": [
            [
             0,
             "#0d0887"
            ],
            [
             0.1111111111111111,
             "#46039f"
            ],
            [
             0.2222222222222222,
             "#7201a8"
            ],
            [
             0.3333333333333333,
             "#9c179e"
            ],
            [
             0.4444444444444444,
             "#bd3786"
            ],
            [
             0.5555555555555556,
             "#d8576b"
            ],
            [
             0.6666666666666666,
             "#ed7953"
            ],
            [
             0.7777777777777778,
             "#fb9f3a"
            ],
            [
             0.8888888888888888,
             "#fdca26"
            ],
            [
             1,
             "#f0f921"
            ]
           ],
           "sequentialminus": [
            [
             0,
             "#0d0887"
            ],
            [
             0.1111111111111111,
             "#46039f"
            ],
            [
             0.2222222222222222,
             "#7201a8"
            ],
            [
             0.3333333333333333,
             "#9c179e"
            ],
            [
             0.4444444444444444,
             "#bd3786"
            ],
            [
             0.5555555555555556,
             "#d8576b"
            ],
            [
             0.6666666666666666,
             "#ed7953"
            ],
            [
             0.7777777777777778,
             "#fb9f3a"
            ],
            [
             0.8888888888888888,
             "#fdca26"
            ],
            [
             1,
             "#f0f921"
            ]
           ]
          },
          "colorway": [
           "#636efa",
           "#EF553B",
           "#00cc96",
           "#ab63fa",
           "#FFA15A",
           "#19d3f3",
           "#FF6692",
           "#B6E880",
           "#FF97FF",
           "#FECB52"
          ],
          "font": {
           "color": "#2a3f5f"
          },
          "geo": {
           "bgcolor": "white",
           "lakecolor": "white",
           "landcolor": "white",
           "showlakes": true,
           "showland": true,
           "subunitcolor": "#C8D4E3"
          },
          "hoverlabel": {
           "align": "left"
          },
          "hovermode": "closest",
          "mapbox": {
           "style": "light"
          },
          "paper_bgcolor": "white",
          "plot_bgcolor": "white",
          "polar": {
           "angularaxis": {
            "gridcolor": "#EBF0F8",
            "linecolor": "#EBF0F8",
            "ticks": ""
           },
           "bgcolor": "white",
           "radialaxis": {
            "gridcolor": "#EBF0F8",
            "linecolor": "#EBF0F8",
            "ticks": ""
           }
          },
          "scene": {
           "xaxis": {
            "backgroundcolor": "white",
            "gridcolor": "#DFE8F3",
            "gridwidth": 2,
            "linecolor": "#EBF0F8",
            "showbackground": true,
            "ticks": "",
            "zerolinecolor": "#EBF0F8"
           },
           "yaxis": {
            "backgroundcolor": "white",
            "gridcolor": "#DFE8F3",
            "gridwidth": 2,
            "linecolor": "#EBF0F8",
            "showbackground": true,
            "ticks": "",
            "zerolinecolor": "#EBF0F8"
           },
           "zaxis": {
            "backgroundcolor": "white",
            "gridcolor": "#DFE8F3",
            "gridwidth": 2,
            "linecolor": "#EBF0F8",
            "showbackground": true,
            "ticks": "",
            "zerolinecolor": "#EBF0F8"
           }
          },
          "shapedefaults": {
           "line": {
            "color": "#2a3f5f"
           }
          },
          "ternary": {
           "aaxis": {
            "gridcolor": "#DFE8F3",
            "linecolor": "#A2B1C6",
            "ticks": ""
           },
           "baxis": {
            "gridcolor": "#DFE8F3",
            "linecolor": "#A2B1C6",
            "ticks": ""
           },
           "bgcolor": "white",
           "caxis": {
            "gridcolor": "#DFE8F3",
            "linecolor": "#A2B1C6",
            "ticks": ""
           }
          },
          "title": {
           "x": 0.05
          },
          "xaxis": {
           "automargin": true,
           "gridcolor": "#EBF0F8",
           "linecolor": "#EBF0F8",
           "ticks": "",
           "title": {
            "standoff": 15
           },
           "zerolinecolor": "#EBF0F8",
           "zerolinewidth": 2
          },
          "yaxis": {
           "automargin": true,
           "gridcolor": "#EBF0F8",
           "linecolor": "#EBF0F8",
           "ticks": "",
           "title": {
            "standoff": 15
           },
           "zerolinecolor": "#EBF0F8",
           "zerolinewidth": 2
          }
         }
        },
        "title": {
         "text": "Embeddings by Rating Score (PCA 1: 11.6%, PCA 2: 7.3%)"
        },
        "xaxis": {
         "anchor": "y",
         "domain": [
          0,
          1
         ],
         "title": {
          "text": "PCA 1 (11.6% variance)"
         }
        },
        "yaxis": {
         "anchor": "x",
         "domain": [
          0,
          1
         ],
         "title": {
          "text": "PCA 2 (7.3% variance)"
         }
        }
       }
      }
     },
     "metadata": {},
     "output_type": "display_data"
    },
    {
     "name": "stderr",
     "output_type": "stream",
     "text": [
      "/Users/jobandtalent/opt/anaconda3/envs/sar/lib/python3.9/site-packages/umap/umap_.py:1945: UserWarning:\n",
      "\n",
      "n_jobs value 1 overridden to 1 by setting random_state. Use no seed for parallelism.\n",
      "\n"
     ]
    },
    {
     "data": {
      "application/vnd.plotly.v1+json": {
       "config": {
        "plotlyServerURL": "https://plot.ly"
       },
       "data": [
        {
         "hovertemplate": "sentiment_label=positive<br>UMAP Dimension 1=%{x}<br>UMAP Dimension 2=%{y}<extra></extra>",
         "legendgroup": "positive",
         "marker": {
          "color": "green",
          "opacity": 0.7,
          "symbol": "circle"
         },
         "mode": "markers",
         "name": "positive",
         "orientation": "v",
         "showlegend": true,
         "type": "scatter",
         "x": [
          7.8252081871032715,
          7.333898067474365,
          9.16909408569336,
          6.559672832489014,
          7.069896221160889,
          7.751104831695557,
          8.801803588867188,
          7.543242454528809,
          3.631523609161377,
          8.268061637878418,
          9.096449851989746,
          5.755617618560791,
          7.261773586273193,
          10.433084487915039,
          7.455967426300049,
          7.68442964553833,
          7.113742351531982,
          2.35943341255188,
          8.484003067016602,
          5.282855987548828,
          8.412317276000977,
          9.754963874816895,
          2.649786949157715,
          5.89015531539917,
          6.715936183929443,
          8.054391860961914,
          7.377813339233398,
          8.73813247680664,
          9.723307609558105,
          8.802234649658203,
          3.007148265838623,
          9.184652328491211,
          7.43275260925293,
          7.54957389831543,
          7.118143081665039,
          8.515894889831543,
          9.321565628051758,
          9.050813674926758,
          6.1417412757873535,
          8.492300033569336,
          2.4901483058929443,
          9.903343200683594,
          9.233848571777344,
          7.871450424194336,
          9.76138973236084,
          9.41891098022461,
          9.54651927947998,
          6.924585819244385,
          2.2111382484436035,
          9.292740821838379,
          2.3913733959198,
          3.505531072616577,
          8.483030319213867,
          2.3896450996398926,
          7.853548526763916,
          7.6100358963012695,
          6.118597984313965,
          7.886373043060303,
          3.2103207111358643,
          7.447107315063477,
          8.373364448547363,
          8.909446716308594,
          8.303987503051758,
          6.742265701293945,
          6.548205375671387,
          8.993330001831055,
          10.468390464782715,
          9.048702239990234,
          9.719747543334961,
          9.618133544921875,
          6.2451276779174805,
          7.2221198081970215,
          8.162714004516602,
          9.503735542297363,
          9.642313003540039,
          3.4953534603118896,
          2.8003463745117188,
          9.344200134277344,
          7.848238945007324,
          10.372615814208984,
          8.35342788696289,
          7.120823860168457,
          9.502439498901367,
          6.8516340255737305,
          10.402654647827148,
          10.25096607208252,
          3.217092514038086,
          2.2672133445739746,
          9.317980766296387,
          8.439324378967285,
          8.108503341674805,
          9.417665481567383,
          7.621228218078613,
          6.902712821960449,
          7.409273624420166,
          6.557320594787598,
          9.184267044067383,
          3.6185126304626465,
          8.316380500793457,
          8.605502128601074,
          8.00629997253418,
          9.61376667022705,
          7.4681596755981445,
          2.445945978164673,
          8.075614929199219,
          9.860424041748047,
          7.622141361236572,
          9.157224655151367,
          8.059345245361328,
          7.233479022979736,
          7.188297748565674,
          7.123970985412598,
          8.026376724243164,
          7.722490310668945,
          5.524455547332764,
          7.913142204284668,
          9.118470191955566,
          10.418094635009766,
          7.923121929168701,
          2.109557867050171,
          5.3450188636779785,
          8.821465492248535,
          7.893905162811279,
          7.9344940185546875,
          8.082179069519043,
          6.773514747619629,
          8.290672302246094,
          6.030498504638672,
          10.571393013000488,
          9.449779510498047,
          6.161323547363281,
          9.698392868041992,
          7.995154857635498,
          3.1077864170074463,
          2.6527469158172607,
          7.4396233558654785,
          6.888822555541992,
          7.5591721534729,
          9.950587272644043,
          9.761388778686523,
          7.673230171203613,
          8.025511741638184,
          1.9221351146697998,
          9.280099868774414,
          10.079346656799316,
          9.912338256835938,
          10.301831245422363,
          6.750522136688232,
          7.488211154937744,
          6.511904239654541,
          7.838216304779053,
          7.036550521850586,
          9.542110443115234,
          8.566667556762695,
          7.188347339630127,
          8.721503257751465,
          7.686393737792969,
          5.655381202697754,
          7.008176803588867,
          10.334564208984375,
          5.604070663452148,
          9.414448738098145,
          2.790418863296509,
          7.834197044372559,
          8.067768096923828,
          5.6550612449646,
          2.6908488273620605,
          7.182363510131836,
          8.988690376281738,
          7.223077774047852,
          10.19326114654541,
          8.192208290100098,
          10.630825996398926,
          9.822162628173828,
          6.237360000610352,
          5.653768062591553,
          6.321174144744873,
          8.984719276428223,
          8.45284366607666,
          2.0687313079833984,
          6.5953049659729,
          8.375263214111328,
          9.879389762878418,
          2.3390612602233887,
          6.282585144042969,
          3.5133917331695557,
          8.601958274841309,
          8.384515762329102,
          7.712323188781738,
          8.791266441345215,
          8.24427318572998,
          7.679601669311523,
          6.767055511474609,
          8.664132118225098,
          7.33190393447876,
          7.256880760192871,
          6.914771556854248,
          8.210896492004395,
          5.428369998931885,
          8.07091236114502,
          6.066733360290527,
          9.778961181640625,
          7.916090488433838,
          10.089088439941406,
          8.880345344543457,
          2.948964834213257,
          9.002366065979004,
          6.813279151916504,
          9.389060020446777,
          9.141846656799316,
          2.6576743125915527,
          6.8977532386779785,
          7.933703899383545,
          8.924544334411621,
          7.798257827758789,
          2.528742551803589,
          3.3104794025421143,
          7.704970359802246,
          9.873499870300293,
          9.006597518920898,
          2.867952823638916,
          3.5003247261047363,
          8.92977523803711,
          2.8599743843078613,
          6.660665512084961,
          3.437775135040283,
          7.786664009094238,
          8.425111770629883,
          9.010135650634766,
          7.987331390380859,
          8.848621368408203,
          3.619476318359375,
          8.10156536102295,
          7.918704509735107,
          2.016296625137329,
          2.9499247074127197,
          8.199955940246582,
          8.229238510131836,
          9.37155532836914,
          6.496305465698242,
          7.083410739898682,
          9.847977638244629,
          7.824452877044678,
          8.107991218566895,
          9.137956619262695,
          8.595926284790039,
          6.816368103027344,
          8.792584419250488,
          7.170930862426758,
          9.527912139892578,
          6.706987380981445,
          5.949049472808838,
          6.902974605560303,
          7.113792419433594,
          8.538117408752441,
          9.310367584228516,
          2.2227940559387207,
          5.5536723136901855,
          10.1198091506958,
          8.224176406860352,
          3.4966049194335938,
          9.664648056030273,
          9.122706413269043,
          2.3642430305480957,
          8.410446166992188,
          7.35653829574585,
          8.729475975036621,
          8.628227233886719,
          2.5837299823760986,
          9.202600479125977,
          7.474340438842773,
          8.174729347229004,
          5.7030158042907715,
          10.541560173034668,
          8.318682670593262,
          10.264243125915527,
          6.854104518890381,
          10.444910049438477,
          7.919844150543213,
          7.325142860412598,
          7.907029628753662,
          9.432586669921875,
          5.908323287963867,
          5.582651138305664,
          2.148364305496216,
          9.581510543823242,
          8.6041898727417,
          8.743712425231934,
          7.796855926513672,
          7.352175235748291,
          5.995659351348877,
          7.246382713317871,
          9.783563613891602,
          8.255228996276855,
          9.888076782226562,
          6.679648399353027,
          2.120879650115967,
          6.515096187591553,
          6.417061805725098,
          2.846782684326172,
          8.318765640258789,
          9.275172233581543,
          8.872856140136719,
          8.381117820739746,
          9.670655250549316,
          9.325679779052734,
          6.816060543060303,
          3.2838985919952393,
          6.378561973571777,
          3.619572877883911,
          5.468191623687744,
          8.729522705078125,
          7.8217692375183105,
          8.095216751098633,
          3.129967451095581,
          10.560736656188965,
          8.867108345031738,
          7.415334224700928,
          9.215592384338379,
          9.068180084228516,
          9.9730863571167,
          7.969090938568115,
          2.3252933025360107,
          7.447941303253174,
          9.397080421447754,
          9.957348823547363,
          10.266947746276855,
          2.9110307693481445,
          8.499747276306152,
          8.579803466796875,
          9.790776252746582,
          2.7661020755767822,
          7.263615608215332,
          7.071817398071289,
          10.113326072692871,
          8.797489166259766,
          7.1399431228637695,
          8.239778518676758,
          6.398736000061035,
          5.741830348968506,
          7.112941265106201,
          8.466072082519531,
          6.532578468322754,
          8.950221061706543,
          2.0051052570343018,
          8.733482360839844,
          10.2721586227417,
          8.084348678588867,
          8.069695472717285,
          9.85515308380127,
          2.9572882652282715,
          10.548600196838379,
          7.556248664855957,
          2.1639788150787354,
          7.533353328704834,
          2.51589035987854,
          7.072388172149658,
          7.28436279296875,
          9.10283374786377,
          3.245281219482422,
          3.356978416442871,
          8.70461654663086,
          3.2553999423980713,
          6.667595386505127,
          10.098508834838867,
          2.2656123638153076,
          6.9380292892456055,
          10.219039916992188,
          9.520462036132812,
          3.117391586303711,
          9.569053649902344,
          5.387656211853027,
          8.483643531799316,
          7.501411437988281,
          7.153777599334717,
          10.116926193237305,
          7.126582145690918,
          3.655785322189331,
          8.664416313171387,
          9.258401870727539,
          6.66408634185791,
          6.9168853759765625,
          8.361761093139648,
          8.041259765625,
          5.773100852966309,
          6.958470344543457,
          8.937893867492676,
          3.0621485710144043,
          2.9178664684295654,
          7.146792411804199,
          8.688899040222168,
          7.29494047164917,
          7.704809188842773,
          10.097953796386719,
          8.105789184570312,
          5.39517068862915,
          3.2373950481414795,
          7.891382217407227,
          7.385268211364746,
          9.076347351074219,
          8.065606117248535,
          9.30570125579834,
          8.981998443603516,
          7.220329761505127,
          7.558189868927002,
          7.512501239776611,
          8.338010787963867,
          10.305672645568848,
          8.995011329650879,
          2.493521213531494,
          8.352364540100098,
          7.3934807777404785,
          9.255559921264648,
          1.8827036619186401,
          8.228793144226074,
          7.507331848144531,
          10.158919334411621,
          2.6213538646698,
          7.333920478820801,
          6.649311542510986,
          8.874808311462402,
          2.349600076675415,
          10.18399715423584,
          9.064050674438477,
          9.544973373413086,
          9.48876667022705,
          8.27981948852539,
          8.595671653747559,
          9.941520690917969,
          2.280033588409424,
          6.237133979797363,
          6.96254301071167,
          6.773645401000977,
          9.91479778289795,
          10.012746810913086,
          8.975627899169922,
          8.279109954833984,
          2.0717742443084717,
          9.687806129455566,
          7.4946980476379395,
          8.460466384887695,
          7.971982479095459,
          10.374448776245117,
          8.405207633972168,
          7.5905890464782715,
          8.02254867553711,
          2.059579610824585,
          8.760990142822266,
          9.457910537719727,
          7.8713483810424805,
          8.710101127624512,
          3.5747478008270264,
          7.484621524810791,
          7.127444267272949,
          9.641606330871582,
          6.901044845581055,
          8.004773139953613,
          9.990038871765137,
          6.746517658233643,
          6.568201065063477,
          9.021719932556152,
          5.443864822387695,
          3.49433970451355,
          9.209861755371094,
          9.079248428344727,
          2.2227590084075928,
          8.60479736328125,
          7.620392322540283,
          8.949907302856445,
          9.80087661743164,
          9.100920677185059,
          8.071700096130371,
          2.652292013168335,
          9.54993724822998,
          8.249153137207031,
          8.578471183776855,
          3.6021740436553955,
          8.04000473022461,
          8.17011833190918,
          7.019174575805664,
          5.810377597808838,
          8.208806991577148,
          1.9756048917770386,
          7.4374098777771,
          10.153401374816895,
          8.9618558883667,
          2.8988990783691406,
          5.384276866912842,
          8.2702054977417,
          7.150824546813965,
          9.10725212097168,
          10.013704299926758,
          8.702219009399414,
          9.163348197937012,
          3.640695810317993,
          6.302245140075684,
          10.586076736450195,
          7.666797161102295,
          7.262078285217285,
          2.876795768737793,
          6.150876998901367,
          7.17062520980835,
          8.59726333618164,
          8.064715385437012,
          9.1135892868042,
          3.5588974952697754,
          7.305971622467041,
          5.76308536529541,
          6.806652545928955,
          10.131769180297852,
          6.337571144104004,
          6.338237762451172,
          8.737417221069336,
          7.500649452209473,
          1.9370003938674927,
          2.85587739944458,
          10.05955696105957,
          8.97339153289795,
          8.730915069580078,
          6.786132335662842,
          9.733908653259277,
          8.268302917480469,
          9.020381927490234,
          9.469413757324219,
          2.2210302352905273,
          5.99660587310791,
          9.154353141784668,
          7.7543158531188965,
          9.413472175598145,
          6.532440185546875,
          10.233492851257324,
          9.200241088867188,
          3.267620325088501,
          8.55627727508545,
          7.152770042419434,
          7.83266019821167,
          8.071494102478027,
          2.2333641052246094,
          7.152863025665283,
          6.2295403480529785,
          8.982392311096191,
          8.151787757873535,
          7.481858730316162,
          7.797036647796631,
          7.871308326721191,
          9.252260208129883,
          9.24828052520752,
          8.851829528808594,
          8.75831413269043,
          7.992298126220703,
          8.975112915039062,
          8.579678535461426,
          7.437551975250244,
          8.902628898620605,
          10.010074615478516,
          7.86539363861084,
          10.416791915893555,
          7.602519512176514,
          7.610162258148193,
          7.871189594268799,
          2.9949264526367188,
          7.855327129364014,
          7.8230977058410645,
          7.655642986297607,
          6.988687992095947,
          9.900651931762695,
          5.721951961517334,
          5.775074481964111,
          7.3176093101501465,
          9.200922966003418,
          7.266692638397217,
          8.263901710510254,
          5.701663970947266,
          7.751280307769775,
          2.4063191413879395,
          8.771729469299316,
          6.745672702789307,
          2.5243306159973145,
          7.751340389251709,
          3.621598720550537,
          9.4269437789917,
          10.409412384033203,
          9.67375373840332,
          3.19354248046875,
          8.280477523803711,
          6.885772705078125,
          8.518494606018066,
          10.501167297363281,
          7.948301315307617,
          7.954394340515137,
          8.325374603271484,
          3.8969662189483643,
          8.419384002685547,
          9.746539115905762,
          7.51925802230835,
          3.357569456100464,
          9.089445114135742,
          8.490514755249023,
          8.751937866210938,
          5.638237953186035,
          6.250078201293945,
          8.419599533081055,
          8.500848770141602,
          5.8406662940979,
          8.396232604980469,
          6.063558578491211,
          9.160514831542969,
          8.492815971374512,
          3.160029888153076,
          8.708047866821289,
          9.297128677368164,
          9.557528495788574,
          6.565010070800781,
          6.59721565246582,
          9.536384582519531,
          7.991386413574219,
          8.16594409942627,
          2.2369000911712646,
          9.10557746887207,
          5.3421430587768555,
          2.7218031883239746,
          9.20798397064209,
          9.220925331115723,
          7.881351947784424,
          3.2201850414276123,
          7.62637186050415,
          8.668081283569336,
          8.324960708618164,
          8.299799919128418,
          8.72035026550293,
          1.945265531539917,
          2.7651963233947754,
          7.863545894622803,
          8.08399772644043,
          6.811140537261963,
          8.611031532287598,
          9.170896530151367,
          6.964404582977295,
          5.779623031616211,
          10.356751441955566,
          5.88489294052124,
          8.365669250488281,
          2.4517695903778076,
          9.667325019836426,
          8.740400314331055,
          8.200511932373047,
          7.091362476348877,
          10.502889633178711,
          7.017616271972656,
          6.3077239990234375,
          2.206212282180786,
          6.914100170135498,
          7.956664562225342,
          8.334362983703613,
          1.9397377967834473,
          9.749410629272461,
          7.313650131225586,
          7.532710075378418,
          8.997880935668945,
          9.693185806274414,
          7.430869102478027,
          8.47359561920166,
          8.583921432495117,
          7.181367874145508,
          6.6791582107543945,
          7.019160270690918,
          8.230976104736328,
          8.744359970092773,
          8.195633888244629,
          10.656158447265625,
          8.180479049682617,
          8.682920455932617,
          8.734349250793457,
          8.6810941696167,
          9.09660816192627,
          7.263980865478516,
          5.875820159912109,
          8.309640884399414,
          7.977035999298096,
          9.011606216430664,
          10.134529113769531,
          3.514880895614624,
          8.026615142822266,
          8.642706871032715,
          6.389938831329346,
          8.8124418258667,
          7.561636447906494,
          2.2845778465270996,
          2.341273307800293,
          9.161885261535645,
          7.612541198730469,
          9.426743507385254,
          8.386276245117188,
          7.850377082824707,
          7.492406368255615,
          7.990891933441162,
          5.815098762512207,
          6.797884464263916,
          8.124829292297363,
          8.189129829406738,
          8.272480964660645,
          10.530485153198242,
          9.433563232421875,
          7.100759029388428,
          8.298044204711914,
          3.336104154586792,
          8.92785930633545,
          9.093914031982422,
          7.674812316894531,
          9.128746032714844,
          2.378291368484497,
          2.5562667846679688,
          7.237174034118652,
          9.216636657714844,
          10.405749320983887,
          2.5153093338012695,
          6.474210739135742,
          5.7281036376953125,
          7.871313095092773,
          7.643115043640137,
          9.576767921447754,
          10.500317573547363,
          2.550205707550049,
          3.5401713848114014,
          9.161504745483398,
          10.506430625915527,
          8.448671340942383,
          10.21390438079834,
          8.767133712768555,
          5.876699924468994,
          6.899765491485596,
          6.740695953369141,
          6.367520332336426,
          7.757829666137695,
          7.822033405303955,
          8.315561294555664,
          6.783290386199951,
          8.588566780090332,
          6.640314102172852,
          6.595583438873291,
          8.63825798034668,
          8.702659606933594,
          5.321316242218018,
          5.657486438751221,
          2.051544189453125,
          7.909512042999268,
          8.986604690551758,
          5.404620170593262,
          5.9467878341674805,
          9.548460960388184,
          8.295348167419434,
          5.726123332977295,
          8.168502807617188,
          9.71633529663086,
          8.865479469299316,
          5.51607084274292,
          8.939823150634766,
          7.154738426208496,
          8.167692184448242,
          3.419213056564331,
          9.345648765563965,
          8.766241073608398,
          6.581824779510498,
          3.196038246154785,
          8.96668815612793,
          9.028541564941406,
          3.1997339725494385,
          10.489958763122559,
          5.882066249847412,
          7.351945400238037,
          7.323971748352051,
          8.831774711608887,
          7.104193210601807,
          9.401837348937988,
          9.542960166931152,
          8.762207984924316,
          2.363929271697998,
          6.786159515380859,
          3.214670419692993,
          7.836596965789795,
          6.932525634765625,
          7.360961437225342,
          8.694096565246582,
          7.080467224121094,
          9.365306854248047,
          9.184974670410156,
          10.035223007202148,
          6.05222749710083,
          6.018527507781982,
          5.440086364746094,
          9.024672508239746,
          8.348984718322754,
          3.3013250827789307,
          7.568810939788818,
          9.358793258666992,
          8.615017890930176,
          1.8487985134124756,
          9.172577857971191,
          6.779887676239014,
          3.2263846397399902,
          8.416259765625,
          9.918844223022461,
          6.492461681365967,
          5.885934829711914,
          7.2066144943237305,
          7.917952060699463,
          10.497100830078125,
          7.906885623931885,
          7.87264347076416,
          6.2467498779296875,
          8.263545989990234,
          7.936335563659668,
          6.740016460418701,
          7.858479976654053,
          9.283269882202148,
          10.38481330871582,
          9.885091781616211,
          5.738370418548584,
          5.886407375335693,
          10.472733497619629,
          6.947879314422607,
          8.36642837524414,
          10.506526947021484,
          9.47431468963623,
          7.7296061515808105,
          3.173457622528076,
          3.097259283065796,
          9.179913520812988,
          2.4735617637634277,
          9.650157928466797,
          9.7960844039917,
          8.20754337310791,
          6.650913238525391,
          6.444148540496826,
          8.888651847839355,
          6.145474910736084,
          3.083653211593628,
          2.6839640140533447,
          6.806654453277588,
          8.26573657989502,
          7.878677845001221,
          5.930080890655518,
          7.604784965515137,
          8.367108345031738,
          5.526648044586182,
          6.409567832946777,
          6.226604461669922,
          6.581412315368652,
          7.874380111694336,
          5.590815544128418,
          7.766282558441162,
          7.736164569854736,
          5.544431686401367,
          7.97594690322876,
          9.097785949707031,
          6.719143867492676,
          8.419416427612305,
          8.078240394592285,
          7.439878940582275,
          8.19560718536377,
          2.5725865364074707,
          8.15622329711914,
          3.5650627613067627,
          6.9131927490234375,
          7.390843868255615,
          5.82373571395874,
          6.684322357177734,
          9.463876724243164,
          6.8921332359313965,
          7.1995930671691895,
          6.354544639587402,
          7.560441493988037,
          9.306975364685059,
          6.8964128494262695,
          8.819786071777344,
          7.646520137786865,
          9.162721633911133,
          3.675046920776367,
          9.721800804138184
         ],
         "xaxis": "x",
         "y": [
          13.79100227355957,
          13.290121078491211,
          12.62924575805664,
          12.840153694152832,
          13.883779525756836,
          14.104036331176758,
          11.939162254333496,
          11.316977500915527,
          9.628059387207031,
          12.173165321350098,
          11.86500358581543,
          13.15849781036377,
          15.23577880859375,
          13.131169319152832,
          12.208758354187012,
          12.219619750976562,
          15.047148704528809,
          8.922250747680664,
          11.336028099060059,
          13.37221908569336,
          14.838899612426758,
          14.510541915893555,
          7.3321003913879395,
          12.317058563232422,
          15.42081069946289,
          14.382225036621094,
          11.225334167480469,
          15.2929105758667,
          13.396331787109375,
          12.062078475952148,
          8.087713241577148,
          11.522762298583984,
          15.617842674255371,
          13.978703498840332,
          13.595247268676758,
          13.186554908752441,
          14.978203773498535,
          13.329876899719238,
          13.900355339050293,
          14.032978057861328,
          8.808039665222168,
          14.109768867492676,
          14.775062561035156,
          15.091439247131348,
          12.645750045776367,
          12.049957275390625,
          11.53709602355957,
          13.146300315856934,
          9.181435585021973,
          12.766757011413574,
          8.221529006958008,
          9.885725021362305,
          13.93720817565918,
          8.657404899597168,
          13.232608795166016,
          14.384973526000977,
          12.935504913330078,
          11.821270942687988,
          9.137552261352539,
          13.744062423706055,
          14.604374885559082,
          11.39214038848877,
          13.789779663085938,
          14.369539260864258,
          14.551790237426758,
          11.603660583496094,
          12.98256778717041,
          14.121870040893555,
          13.580954551696777,
          13.67665958404541,
          12.732900619506836,
          15.30463981628418,
          14.698829650878906,
          13.549901008605957,
          12.31301212310791,
          9.416292190551758,
          8.142783164978027,
          13.81944751739502,
          11.932618141174316,
          13.59367561340332,
          14.551867485046387,
          13.949130058288574,
          12.445213317871094,
          15.2785005569458,
          13.988641738891602,
          14.27321720123291,
          8.671117782592773,
          8.891035079956055,
          12.689278602600098,
          12.15236759185791,
          12.632063865661621,
          14.389678001403809,
          13.20369815826416,
          15.538392066955566,
          15.181655883789062,
          15.349419593811035,
          11.922722816467285,
          9.57197380065918,
          13.950762748718262,
          14.76543140411377,
          11.504402160644531,
          12.044979095458984,
          14.79108715057373,
          8.789546012878418,
          13.023674964904785,
          13.547334671020508,
          11.945759773254395,
          14.743912696838379,
          13.911742210388184,
          12.258689880371094,
          13.302213668823242,
          14.82453441619873,
          15.779118537902832,
          11.324551582336426,
          13.163290977478027,
          12.984768867492676,
          14.067368507385254,
          13.679688453674316,
          15.870984077453613,
          8.972490310668945,
          13.440829277038574,
          14.538041114807129,
          12.204400062561035,
          15.106108665466309,
          14.421088218688965,
          13.340725898742676,
          11.417773246765137,
          13.751585006713867,
          13.158398628234863,
          12.69166374206543,
          14.479002952575684,
          11.808996200561523,
          13.390811920166016,
          9.228215217590332,
          7.345108985900879,
          14.693163871765137,
          13.964674949645996,
          11.861008644104004,
          12.566591262817383,
          11.844916343688965,
          14.322918891906738,
          11.452896118164062,
          8.843835830688477,
          14.927433013916016,
          13.529577255249023,
          12.266058921813965,
          13.344294548034668,
          14.99013614654541,
          13.008136749267578,
          13.35672378540039,
          12.9417142868042,
          11.77849006652832,
          13.520147323608398,
          11.309521675109863,
          12.337018966674805,
          14.174161911010742,
          14.023391723632812,
          12.305586814880371,
          12.480955123901367,
          13.384528160095215,
          12.447996139526367,
          14.101265907287598,
          9.233059883117676,
          13.581177711486816,
          15.13244342803955,
          13.642136573791504,
          7.388271808624268,
          13.790680885314941,
          14.468806266784668,
          12.410195350646973,
          13.991560935974121,
          14.269908905029297,
          13.37576675415039,
          13.014580726623535,
          14.714454650878906,
          13.790711402893066,
          13.152643203735352,
          11.509624481201172,
          15.711670875549316,
          8.56911849975586,
          13.208589553833008,
          15.471993446350098,
          13.844786643981934,
          9.190733909606934,
          14.368985176086426,
          9.357675552368164,
          15.466957092285156,
          11.608445167541504,
          13.746648788452148,
          13.912511825561523,
          12.876761436462402,
          13.424056053161621,
          15.236861228942871,
          11.778132438659668,
          12.29893970489502,
          12.781597137451172,
          12.22008991241455,
          12.444887161254883,
          13.008994102478027,
          14.710702896118164,
          13.017669677734375,
          12.37263298034668,
          14.788924217224121,
          12.859596252441406,
          13.514577865600586,
          8.12393569946289,
          14.916332244873047,
          15.454024314880371,
          13.26534652709961,
          13.563984870910645,
          7.312466144561768,
          11.97146224975586,
          13.951807022094727,
          11.37137508392334,
          11.846698760986328,
          9.249443054199219,
          8.911016464233398,
          12.680028915405273,
          12.911467552185059,
          12.640685081481934,
          8.858004570007324,
          9.20230770111084,
          13.367324829101562,
          8.973188400268555,
          15.065953254699707,
          8.614364624023438,
          12.071722984313965,
          14.413968086242676,
          13.247734069824219,
          15.288002014160156,
          12.311785697937012,
          9.508458137512207,
          13.76578140258789,
          15.687554359436035,
          8.611898422241211,
          8.263566970825195,
          12.083740234375,
          11.51833438873291,
          14.230690002441406,
          12.643887519836426,
          14.699283599853516,
          13.037263870239258,
          13.636334419250488,
          11.263111114501953,
          13.310161590576172,
          13.900311470031738,
          12.345848083496094,
          14.751106262207031,
          12.180079460144043,
          14.094695091247559,
          12.887526512145996,
          13.798234939575195,
          12.108092308044434,
          12.648561477661133,
          14.851337432861328,
          13.982027053833008,
          8.471964836120605,
          13.15158462524414,
          13.63535213470459,
          13.921314239501953,
          9.34814739227295,
          13.561934471130371,
          11.405412673950195,
          9.204323768615723,
          11.905162811279297,
          12.487689018249512,
          13.053430557250977,
          12.013781547546387,
          8.145472526550293,
          13.78069019317627,
          15.589885711669922,
          13.209753036499023,
          12.94150447845459,
          14.024166107177734,
          13.836606979370117,
          14.32210922241211,
          12.923614501953125,
          13.058273315429688,
          12.614234924316406,
          12.716585159301758,
          15.718981742858887,
          13.564580917358398,
          13.6347074508667,
          13.264871597290039,
          9.129798889160156,
          13.586445808410645,
          13.62914752960205,
          12.219243049621582,
          14.199177742004395,
          12.117884635925293,
          13.626530647277832,
          13.906327247619629,
          14.139660835266113,
          14.809924125671387,
          12.536005973815918,
          12.913627624511719,
          8.67334270477295,
          14.728509902954102,
          15.31886100769043,
          9.278300285339355,
          11.303436279296875,
          12.05191707611084,
          14.233662605285645,
          13.295304298400879,
          12.844355583190918,
          11.599392890930176,
          15.360886573791504,
          8.459610939025879,
          14.328296661376953,
          9.554071426391602,
          12.972432136535645,
          12.581710815429688,
          11.424297332763672,
          12.699601173400879,
          9.152600288391113,
          13.939589500427246,
          14.27836799621582,
          13.102753639221191,
          11.502439498901367,
          12.325667381286621,
          13.91671085357666,
          15.0581636428833,
          9.133829116821289,
          12.50229549407959,
          11.744616508483887,
          14.09012222290039,
          13.341748237609863,
          8.023225784301758,
          11.798091888427734,
          13.96688175201416,
          14.628347396850586,
          8.511078834533691,
          13.059507369995117,
          13.642021179199219,
          14.264413833618164,
          12.367313385009766,
          14.093754768371582,
          15.146047592163086,
          14.578601837158203,
          12.71509075164795,
          12.804463386535645,
          12.64100170135498,
          15.221936225891113,
          11.355938911437988,
          8.816134452819824,
          13.683173179626465,
          13.92936897277832,
          13.314349174499512,
          14.425554275512695,
          12.595765113830566,
          8.152846336364746,
          14.026957511901855,
          12.189335823059082,
          8.396907806396484,
          12.542481422424316,
          8.488993644714355,
          13.674738883972168,
          13.63763427734375,
          13.806334495544434,
          8.160293579101562,
          9.406866073608398,
          12.04421329498291,
          8.54185962677002,
          14.661598205566406,
          13.056316375732422,
          9.239274978637695,
          12.714521408081055,
          13.318337440490723,
          12.232980728149414,
          8.203234672546387,
          13.593279838562012,
          13.060453414916992,
          13.6383056640625,
          14.261205673217773,
          15.507564544677734,
          12.396967887878418,
          11.627742767333984,
          9.276164054870605,
          13.814936637878418,
          12.881665229797363,
          15.423416137695312,
          12.934539794921875,
          13.060027122497559,
          15.067075729370117,
          12.753713607788086,
          13.032776832580566,
          14.058300018310547,
          9.30849838256836,
          8.35705280303955,
          11.578242301940918,
          13.051121711730957,
          13.962300300598145,
          14.279717445373535,
          12.345819473266602,
          11.870227813720703,
          13.02389907836914,
          8.611387252807617,
          13.270453453063965,
          12.838028907775879,
          14.677727699279785,
          15.3341646194458,
          14.730591773986816,
          13.661069869995117,
          15.047479629516602,
          11.217940330505371,
          14.491059303283691,
          13.86416244506836,
          14.307745933532715,
          14.649784088134766,
          9.37630558013916,
          14.72758960723877,
          13.658865928649902,
          13.89814567565918,
          8.91653823852539,
          12.589106559753418,
          13.737617492675781,
          13.281576156616211,
          9.267992973327637,
          15.190223693847656,
          12.286437034606934,
          12.710158348083496,
          9.162603378295898,
          12.496479988098145,
          11.32189655303955,
          13.024309158325195,
          13.36254596710205,
          11.637259483337402,
          14.300677299499512,
          11.920924186706543,
          8.672492980957031,
          12.398707389831543,
          13.60471248626709,
          12.32459831237793,
          14.409419059753418,
          13.473236083984375,
          13.160149574279785,
          11.517727851867676,
          8.834702491760254,
          13.474631309509277,
          11.844426155090332,
          15.666691780090332,
          13.142096519470215,
          13.389299392700195,
          14.315596580505371,
          13.001103401184082,
          12.58357048034668,
          9.039708137512207,
          11.917981147766113,
          14.086767196655273,
          11.35755729675293,
          11.422998428344727,
          9.625688552856445,
          13.043621063232422,
          14.42986011505127,
          12.090221405029297,
          14.279677391052246,
          14.578993797302246,
          12.911705017089844,
          15.17479419708252,
          15.372245788574219,
          14.84524917602539,
          12.23831558227539,
          9.03907585144043,
          14.887410163879395,
          12.010041236877441,
          8.541210174560547,
          13.46015739440918,
          11.76052474975586,
          13.00272274017334,
          13.404458999633789,
          14.809115409851074,
          15.196208953857422,
          7.330275535583496,
          12.500251770019531,
          11.22854232788086,
          12.49852180480957,
          9.555109977722168,
          14.932343482971191,
          13.813037872314453,
          14.920422554016113,
          12.552302360534668,
          12.413447380065918,
          8.92952823638916,
          13.487349510192871,
          14.045974731445312,
          15.26156997680664,
          8.086913108825684,
          13.213833808898926,
          15.677740097045898,
          14.40407657623291,
          12.097061157226562,
          13.572221755981445,
          13.714554786682129,
          13.310676574707031,
          9.06299114227295,
          14.20830249786377,
          13.221148490905762,
          15.38253116607666,
          11.862852096557617,
          7.969926357269287,
          12.524796485900879,
          12.621994018554688,
          13.634312629699707,
          11.224050521850586,
          12.017003059387207,
          9.507648468017578,
          13.964493751525879,
          12.534741401672363,
          14.629446983337402,
          14.126383781433105,
          15.177092552185059,
          13.389422416687012,
          13.979377746582031,
          15.37122631072998,
          8.843727111816406,
          8.167201042175293,
          13.433277130126953,
          14.490476608276367,
          13.305410385131836,
          13.215991973876953,
          12.920585632324219,
          13.10119342803955,
          11.251934051513672,
          12.408684730529785,
          8.766733169555664,
          14.58055591583252,
          11.369650840759277,
          13.2011137008667,
          12.211670875549316,
          14.585068702697754,
          12.490076065063477,
          11.96291732788086,
          8.413788795471191,
          12.44566822052002,
          15.047959327697754,
          12.556227684020996,
          11.831544876098633,
          8.833478927612305,
          12.727459907531738,
          14.296942710876465,
          13.66710090637207,
          11.887063026428223,
          15.541159629821777,
          11.404141426086426,
          13.88748836517334,
          13.081709861755371,
          11.342541694641113,
          13.960521697998047,
          12.758091926574707,
          14.328330039978027,
          13.272068977355957,
          13.206043243408203,
          11.039044380187988,
          13.093527793884277,
          13.099019050598145,
          14.67129135131836,
          12.64412784576416,
          14.253080368041992,
          12.558650970458984,
          15.692582130432129,
          8.188516616821289,
          12.254141807556152,
          12.794668197631836,
          13.834122657775879,
          14.400642395019531,
          13.832498550415039,
          12.808357238769531,
          13.490312576293945,
          14.80608081817627,
          13.520511627197266,
          15.15345287322998,
          11.945441246032715,
          13.320414543151855,
          11.668350219726562,
          8.476236343383789,
          14.72925853729248,
          12.966874122619629,
          8.954115867614746,
          11.434017181396484,
          9.486885070800781,
          14.592852592468262,
          13.431852340698242,
          14.608746528625488,
          8.415276527404785,
          11.94518756866455,
          12.551857948303223,
          15.55810546875,
          13.824658393859863,
          11.399264335632324,
          14.463292121887207,
          13.802743911743164,
          10.085896492004395,
          12.261368751525879,
          11.785178184509277,
          15.661933898925781,
          9.34800910949707,
          14.536189079284668,
          11.277304649353027,
          11.272598266601562,
          13.471028327941895,
          13.210070610046387,
          15.051634788513184,
          12.42056941986084,
          12.874695777893066,
          11.604290008544922,
          13.379181861877441,
          14.858012199401855,
          13.078644752502441,
          9.275633811950684,
          13.66457748413086,
          12.695136070251465,
          13.446425437927246,
          12.229432106018066,
          13.054078102111816,
          11.86710262298584,
          12.180877685546875,
          12.398673057556152,
          8.586729049682617,
          11.332612037658691,
          13.182442665100098,
          9.526450157165527,
          13.317222595214844,
          13.29196548461914,
          15.742380142211914,
          8.958415031433105,
          13.192258834838867,
          14.2141695022583,
          15.391016006469727,
          13.80732250213623,
          14.071495056152344,
          8.603065490722656,
          8.457198143005371,
          13.208394050598145,
          15.835589408874512,
          14.25632381439209,
          12.305344581604004,
          12.497373580932617,
          15.502551078796387,
          11.896871566772461,
          13.69765567779541,
          14.25649642944336,
          14.494345664978027,
          9.245548248291016,
          13.305193901062012,
          12.652783393859863,
          14.223010063171387,
          14.605299949645996,
          12.949716567993164,
          13.766792297363281,
          13.047922134399414,
          9.205864906311035,
          14.249267578125,
          11.829275131225586,
          12.924670219421387,
          8.810256004333496,
          14.047225952148438,
          11.66355037689209,
          15.599037170410156,
          11.547094345092773,
          12.537698745727539,
          12.649493217468262,
          14.830060958862305,
          12.814373016357422,
          11.952600479125977,
          13.776398658752441,
          12.423946380615234,
          12.720550537109375,
          14.787861824035645,
          12.460623741149902,
          13.47181510925293,
          13.837557792663574,
          11.869048118591309,
          11.406325340270996,
          11.65995979309082,
          11.968513488769531,
          13.568469047546387,
          13.342384338378906,
          12.884940147399902,
          13.738048553466797,
          15.250289916992188,
          13.977936744689941,
          9.321314811706543,
          14.165998458862305,
          11.32950496673584,
          14.705732345581055,
          12.634366035461426,
          12.716673851013184,
          8.782583236694336,
          8.861568450927734,
          12.012151718139648,
          12.49499225616455,
          14.692191123962402,
          15.0332612991333,
          11.30439567565918,
          11.099102020263672,
          13.6032133102417,
          12.793925285339355,
          15.581953048706055,
          13.671018600463867,
          14.349031448364258,
          15.749688148498535,
          13.063796043395996,
          12.22268009185791,
          12.42080020904541,
          12.850494384765625,
          8.839409828186035,
          11.532337188720703,
          13.248590469360352,
          14.194358825683594,
          14.342256546020508,
          8.357109069824219,
          9.475386619567871,
          13.171299934387207,
          12.501422882080078,
          12.990907669067383,
          8.750079154968262,
          15.049590110778809,
          13.137730598449707,
          15.45080852508545,
          15.289552688598633,
          14.335448265075684,
          13.027713775634766,
          8.07370376586914,
          8.773393630981445,
          13.412949562072754,
          14.06321907043457,
          14.35539722442627,
          13.08952522277832,
          14.841859817504883,
          13.77578067779541,
          15.49569034576416,
          12.817146301269531,
          14.539422988891602,
          15.747559547424316,
          15.031729698181152,
          15.292618751525879,
          14.194841384887695,
          14.987902641296387,
          14.27401065826416,
          12.322225570678711,
          12.83216381072998,
          12.412945747375488,
          13.492938041687012,
          12.312033653259277,
          8.999929428100586,
          11.674520492553711,
          12.931650161743164,
          13.034072875976562,
          12.959454536437988,
          12.644121170043945,
          11.659391403198242,
          12.34579086303711,
          13.02304458618164,
          11.702054977416992,
          15.115069389343262,
          12.833073616027832,
          13.139432907104492,
          14.218056678771973,
          12.003252983093262,
          8.850237846374512,
          11.829082489013672,
          12.342046737670898,
          13.1288480758667,
          9.220996856689453,
          15.188918113708496,
          15.182260513305664,
          9.224885940551758,
          13.519588470458984,
          11.850071907043457,
          15.368046760559082,
          11.556964874267578,
          13.34244155883789,
          14.5255708694458,
          12.895380973815918,
          13.18374252319336,
          13.721268653869629,
          9.304123878479004,
          15.452059745788574,
          8.323928833007812,
          13.642313003540039,
          14.34869384765625,
          11.111223220825195,
          14.314606666564941,
          12.608159065246582,
          13.951579093933105,
          14.436079025268555,
          13.92870807647705,
          13.555806159973145,
          14.286751747131348,
          13.090691566467285,
          12.828499794006348,
          13.532294273376465,
          8.340036392211914,
          11.308497428894043,
          13.235610008239746,
          13.242867469787598,
          8.840453147888184,
          12.757118225097656,
          12.413148880004883,
          8.461402893066406,
          13.986658096313477,
          12.053791999816895,
          13.092793464660645,
          12.838460922241211,
          14.003287315368652,
          12.202245712280273,
          13.191014289855957,
          13.938095092773438,
          14.579646110534668,
          14.82154369354248,
          12.714651107788086,
          13.845508575439453,
          13.74161434173584,
          13.977964401245117,
          13.166674613952637,
          12.899832725524902,
          14.47428035736084,
          13.290188789367676,
          12.19698715209961,
          13.551513671875,
          12.391449928283691,
          12.758687019348145,
          12.865341186523438,
          14.3270263671875,
          11.618075370788574,
          9.418913841247559,
          8.525167465209961,
          14.56188678741455,
          8.458730697631836,
          11.608019828796387,
          14.451786994934082,
          14.478093147277832,
          15.271936416625977,
          14.429338455200195,
          11.23699951171875,
          12.58648681640625,
          7.996753215789795,
          7.362821578979492,
          13.757745742797852,
          11.186125755310059,
          14.640438079833984,
          13.641692161560059,
          14.174250602722168,
          12.062535285949707,
          12.878103256225586,
          13.938249588012695,
          13.910653114318848,
          13.86927604675293,
          13.970752716064453,
          13.555434226989746,
          12.598705291748047,
          13.676844596862793,
          13.285700798034668,
          12.239770889282227,
          13.491246223449707,
          13.966573715209961,
          11.201875686645508,
          15.349626541137695,
          14.37094783782959,
          13.471878051757812,
          9.433598518371582,
          15.060494422912598,
          9.463807106018066,
          14.753775596618652,
          11.643051147460938,
          13.640493392944336,
          14.167153358459473,
          14.66372013092041,
          13.85217571258545,
          12.424813270568848,
          15.090494155883789,
          13.153809547424316,
          14.365371704101562,
          15.126538276672363,
          12.5237455368042,
          12.95627212524414,
          11.631922721862793,
          9.24368953704834,
          14.231943130493164
         ],
         "yaxis": "y"
        },
        {
         "hovertemplate": "sentiment_label=negative<br>UMAP Dimension 1=%{x}<br>UMAP Dimension 2=%{y}<extra></extra>",
         "legendgroup": "negative",
         "marker": {
          "color": "red",
          "opacity": 0.7,
          "symbol": "circle"
         },
         "mode": "markers",
         "name": "negative",
         "orientation": "v",
         "showlegend": true,
         "type": "scatter",
         "x": [
          2.725771427154541,
          3.6539340019226074,
          6.165472507476807,
          7.065162181854248,
          2.36622953414917,
          6.47104024887085,
          7.479698181152344,
          3.1603827476501465,
          8.7726469039917,
          6.120022773742676,
          7.0898590087890625,
          7.073477268218994,
          2.642880916595459,
          7.049590587615967,
          7.814462184906006,
          8.68094253540039,
          6.65531063079834,
          7.131807804107666,
          7.076206684112549,
          3.2734038829803467,
          3.2440314292907715,
          6.699204444885254,
          2.9769647121429443,
          6.479427337646484,
          5.870612144470215,
          7.171319961547852,
          2.71025013923645,
          7.151016712188721,
          2.629286289215088,
          2.691107988357544,
          7.8964619636535645,
          8.372793197631836,
          2.678190231323242,
          7.500437259674072,
          7.3393049240112305,
          2.364595651626587,
          7.978785037994385,
          5.808794975280762,
          7.190817832946777,
          7.5832366943359375,
          8.388534545898438,
          3.273871660232544,
          7.035537242889404,
          7.850021839141846,
          1.9876424074172974,
          3.3751418590545654,
          7.930614948272705,
          6.936611652374268,
          6.1878132820129395,
          9.38437271118164,
          6.747049808502197,
          2.2237062454223633,
          3.6900887489318848,
          7.518546104431152,
          6.309609413146973,
          3.058678150177002,
          8.184333801269531,
          7.493168830871582,
          8.858412742614746,
          3.120340585708618,
          6.129906177520752,
          6.662308692932129,
          3.640747308731079,
          8.200140953063965,
          9.473105430603027,
          2.9804892539978027,
          7.549206256866455,
          7.8341498374938965,
          5.734474182128906,
          9.030683517456055,
          6.146897315979004,
          1.9906134605407715,
          3.2526376247406006,
          10.205233573913574,
          8.124664306640625,
          3.4395267963409424,
          2.267300605773926,
          6.02396297454834,
          2.247497081756592,
          8.094206809997559,
          8.477754592895508,
          5.213404178619385,
          7.960987091064453,
          6.256629467010498,
          7.661271572113037,
          1.9780391454696655,
          5.995860576629639,
          2.1241817474365234,
          7.223222732543945,
          6.156086444854736,
          7.539190769195557,
          2.909977912902832,
          5.845583915710449,
          8.16407585144043,
          6.483915328979492,
          2.245473861694336,
          8.038275718688965,
          2.543884038925171,
          5.687734127044678,
          7.705761909484863,
          6.900396823883057,
          6.418172836303711,
          3.253974437713623,
          5.733374118804932,
          8.880313873291016,
          2.1492395401000977,
          8.774456024169922,
          7.924808979034424,
          2.6834237575531006,
          3.4914042949676514,
          7.628537654876709,
          8.114925384521484,
          6.37544059753418,
          7.249978542327881,
          6.522146224975586,
          6.224581718444824,
          5.434607982635498,
          8.082213401794434,
          3.6799614429473877,
          7.277263164520264
         ],
         "xaxis": "x",
         "y": [
          7.961952209472656,
          9.570871353149414,
          14.78489875793457,
          13.19145679473877,
          8.630329132080078,
          15.108501434326172,
          12.061059951782227,
          8.312582969665527,
          12.067327499389648,
          13.484406471252441,
          13.486774444580078,
          14.329736709594727,
          7.449225425720215,
          15.349559783935547,
          14.858358383178711,
          13.431737899780273,
          13.51854133605957,
          13.441789627075195,
          14.93608570098877,
          8.398154258728027,
          8.333873748779297,
          15.31435489654541,
          8.311467170715332,
          12.795040130615234,
          13.755867004394531,
          13.453624725341797,
          8.449670791625977,
          13.92655086517334,
          8.728947639465332,
          8.69076919555664,
          13.132331848144531,
          14.190616607666016,
          7.360337734222412,
          12.579769134521484,
          12.589224815368652,
          8.75678539276123,
          14.30401611328125,
          14.270255088806152,
          13.114068031311035,
          11.47507095336914,
          14.327728271484375,
          8.553327560424805,
          13.092214584350586,
          14.233475685119629,
          8.784625053405762,
          8.598971366882324,
          14.609971046447754,
          11.873311042785645,
          12.388731002807617,
          13.802767753601074,
          13.026416778564453,
          8.545212745666504,
          9.628090858459473,
          14.294279098510742,
          14.135688781738281,
          8.623600006103516,
          11.6093168258667,
          12.198736190795898,
          11.873055458068848,
          8.265496253967285,
          13.176153182983398,
          13.407768249511719,
          9.423135757446289,
          15.255955696105957,
          11.767556190490723,
          8.868337631225586,
          12.02508544921875,
          14.77539348602295,
          13.465167045593262,
          11.769652366638184,
          14.211896896362305,
          8.469216346740723,
          8.305327415466309,
          12.865723609924316,
          14.320454597473145,
          8.735787391662598,
          8.720919609069824,
          13.700939178466797,
          9.141609191894531,
          12.826148986816406,
          14.967358589172363,
          12.876961708068848,
          15.197489738464355,
          15.151725769042969,
          12.205192565917969,
          8.526569366455078,
          14.775437355041504,
          8.376829147338867,
          14.244927406311035,
          13.930766105651855,
          14.423966407775879,
          8.785447120666504,
          12.741360664367676,
          13.478890419006348,
          14.50743579864502,
          9.274901390075684,
          12.128865242004395,
          8.387483596801758,
          13.35575008392334,
          12.847766876220703,
          15.217248916625977,
          14.165567398071289,
          8.432148933410645,
          13.865792274475098,
          14.382075309753418,
          8.686405181884766,
          11.686196327209473,
          12.892696380615234,
          8.01644229888916,
          9.77698802947998,
          14.413095474243164,
          13.557421684265137,
          13.803760528564453,
          14.143665313720703,
          14.664844512939453,
          14.624070167541504,
          13.293255805969238,
          15.057876586914062,
          9.693440437316895,
          13.040783882141113
         ],
         "yaxis": "y"
        },
        {
         "hovertemplate": "sentiment_label=neutral<br>UMAP Dimension 1=%{x}<br>UMAP Dimension 2=%{y}<extra></extra>",
         "legendgroup": "neutral",
         "marker": {
          "color": "gray",
          "opacity": 0.7,
          "symbol": "circle"
         },
         "mode": "markers",
         "name": "neutral",
         "orientation": "v",
         "showlegend": true,
         "type": "scatter",
         "x": [
          7.819585800170898
         ],
         "xaxis": "x",
         "y": [
          11.236970901489258
         ],
         "yaxis": "y"
        }
       ],
       "layout": {
        "legend": {
         "title": {
          "text": "Sentiment"
         },
         "tracegroupgap": 0
        },
        "margin": {
         "b": 10,
         "l": 10,
         "r": 10,
         "t": 40
        },
        "showlegend": true,
        "template": {
         "data": {
          "bar": [
           {
            "error_x": {
             "color": "#2a3f5f"
            },
            "error_y": {
             "color": "#2a3f5f"
            },
            "marker": {
             "line": {
              "color": "#E5ECF6",
              "width": 0.5
             },
             "pattern": {
              "fillmode": "overlay",
              "size": 10,
              "solidity": 0.2
             }
            },
            "type": "bar"
           }
          ],
          "barpolar": [
           {
            "marker": {
             "line": {
              "color": "#E5ECF6",
              "width": 0.5
             },
             "pattern": {
              "fillmode": "overlay",
              "size": 10,
              "solidity": 0.2
             }
            },
            "type": "barpolar"
           }
          ],
          "carpet": [
           {
            "aaxis": {
             "endlinecolor": "#2a3f5f",
             "gridcolor": "white",
             "linecolor": "white",
             "minorgridcolor": "white",
             "startlinecolor": "#2a3f5f"
            },
            "baxis": {
             "endlinecolor": "#2a3f5f",
             "gridcolor": "white",
             "linecolor": "white",
             "minorgridcolor": "white",
             "startlinecolor": "#2a3f5f"
            },
            "type": "carpet"
           }
          ],
          "choropleth": [
           {
            "colorbar": {
             "outlinewidth": 0,
             "ticks": ""
            },
            "type": "choropleth"
           }
          ],
          "contour": [
           {
            "colorbar": {
             "outlinewidth": 0,
             "ticks": ""
            },
            "colorscale": [
             [
              0,
              "#0d0887"
             ],
             [
              0.1111111111111111,
              "#46039f"
             ],
             [
              0.2222222222222222,
              "#7201a8"
             ],
             [
              0.3333333333333333,
              "#9c179e"
             ],
             [
              0.4444444444444444,
              "#bd3786"
             ],
             [
              0.5555555555555556,
              "#d8576b"
             ],
             [
              0.6666666666666666,
              "#ed7953"
             ],
             [
              0.7777777777777778,
              "#fb9f3a"
             ],
             [
              0.8888888888888888,
              "#fdca26"
             ],
             [
              1,
              "#f0f921"
             ]
            ],
            "type": "contour"
           }
          ],
          "contourcarpet": [
           {
            "colorbar": {
             "outlinewidth": 0,
             "ticks": ""
            },
            "type": "contourcarpet"
           }
          ],
          "heatmap": [
           {
            "colorbar": {
             "outlinewidth": 0,
             "ticks": ""
            },
            "colorscale": [
             [
              0,
              "#0d0887"
             ],
             [
              0.1111111111111111,
              "#46039f"
             ],
             [
              0.2222222222222222,
              "#7201a8"
             ],
             [
              0.3333333333333333,
              "#9c179e"
             ],
             [
              0.4444444444444444,
              "#bd3786"
             ],
             [
              0.5555555555555556,
              "#d8576b"
             ],
             [
              0.6666666666666666,
              "#ed7953"
             ],
             [
              0.7777777777777778,
              "#fb9f3a"
             ],
             [
              0.8888888888888888,
              "#fdca26"
             ],
             [
              1,
              "#f0f921"
             ]
            ],
            "type": "heatmap"
           }
          ],
          "heatmapgl": [
           {
            "colorbar": {
             "outlinewidth": 0,
             "ticks": ""
            },
            "colorscale": [
             [
              0,
              "#0d0887"
             ],
             [
              0.1111111111111111,
              "#46039f"
             ],
             [
              0.2222222222222222,
              "#7201a8"
             ],
             [
              0.3333333333333333,
              "#9c179e"
             ],
             [
              0.4444444444444444,
              "#bd3786"
             ],
             [
              0.5555555555555556,
              "#d8576b"
             ],
             [
              0.6666666666666666,
              "#ed7953"
             ],
             [
              0.7777777777777778,
              "#fb9f3a"
             ],
             [
              0.8888888888888888,
              "#fdca26"
             ],
             [
              1,
              "#f0f921"
             ]
            ],
            "type": "heatmapgl"
           }
          ],
          "histogram": [
           {
            "marker": {
             "pattern": {
              "fillmode": "overlay",
              "size": 10,
              "solidity": 0.2
             }
            },
            "type": "histogram"
           }
          ],
          "histogram2d": [
           {
            "colorbar": {
             "outlinewidth": 0,
             "ticks": ""
            },
            "colorscale": [
             [
              0,
              "#0d0887"
             ],
             [
              0.1111111111111111,
              "#46039f"
             ],
             [
              0.2222222222222222,
              "#7201a8"
             ],
             [
              0.3333333333333333,
              "#9c179e"
             ],
             [
              0.4444444444444444,
              "#bd3786"
             ],
             [
              0.5555555555555556,
              "#d8576b"
             ],
             [
              0.6666666666666666,
              "#ed7953"
             ],
             [
              0.7777777777777778,
              "#fb9f3a"
             ],
             [
              0.8888888888888888,
              "#fdca26"
             ],
             [
              1,
              "#f0f921"
             ]
            ],
            "type": "histogram2d"
           }
          ],
          "histogram2dcontour": [
           {
            "colorbar": {
             "outlinewidth": 0,
             "ticks": ""
            },
            "colorscale": [
             [
              0,
              "#0d0887"
             ],
             [
              0.1111111111111111,
              "#46039f"
             ],
             [
              0.2222222222222222,
              "#7201a8"
             ],
             [
              0.3333333333333333,
              "#9c179e"
             ],
             [
              0.4444444444444444,
              "#bd3786"
             ],
             [
              0.5555555555555556,
              "#d8576b"
             ],
             [
              0.6666666666666666,
              "#ed7953"
             ],
             [
              0.7777777777777778,
              "#fb9f3a"
             ],
             [
              0.8888888888888888,
              "#fdca26"
             ],
             [
              1,
              "#f0f921"
             ]
            ],
            "type": "histogram2dcontour"
           }
          ],
          "mesh3d": [
           {
            "colorbar": {
             "outlinewidth": 0,
             "ticks": ""
            },
            "type": "mesh3d"
           }
          ],
          "parcoords": [
           {
            "line": {
             "colorbar": {
              "outlinewidth": 0,
              "ticks": ""
             }
            },
            "type": "parcoords"
           }
          ],
          "pie": [
           {
            "automargin": true,
            "type": "pie"
           }
          ],
          "scatter": [
           {
            "fillpattern": {
             "fillmode": "overlay",
             "size": 10,
             "solidity": 0.2
            },
            "type": "scatter"
           }
          ],
          "scatter3d": [
           {
            "line": {
             "colorbar": {
              "outlinewidth": 0,
              "ticks": ""
             }
            },
            "marker": {
             "colorbar": {
              "outlinewidth": 0,
              "ticks": ""
             }
            },
            "type": "scatter3d"
           }
          ],
          "scattercarpet": [
           {
            "marker": {
             "colorbar": {
              "outlinewidth": 0,
              "ticks": ""
             }
            },
            "type": "scattercarpet"
           }
          ],
          "scattergeo": [
           {
            "marker": {
             "colorbar": {
              "outlinewidth": 0,
              "ticks": ""
             }
            },
            "type": "scattergeo"
           }
          ],
          "scattergl": [
           {
            "marker": {
             "colorbar": {
              "outlinewidth": 0,
              "ticks": ""
             }
            },
            "type": "scattergl"
           }
          ],
          "scattermapbox": [
           {
            "marker": {
             "colorbar": {
              "outlinewidth": 0,
              "ticks": ""
             }
            },
            "type": "scattermapbox"
           }
          ],
          "scatterpolar": [
           {
            "marker": {
             "colorbar": {
              "outlinewidth": 0,
              "ticks": ""
             }
            },
            "type": "scatterpolar"
           }
          ],
          "scatterpolargl": [
           {
            "marker": {
             "colorbar": {
              "outlinewidth": 0,
              "ticks": ""
             }
            },
            "type": "scatterpolargl"
           }
          ],
          "scatterternary": [
           {
            "marker": {
             "colorbar": {
              "outlinewidth": 0,
              "ticks": ""
             }
            },
            "type": "scatterternary"
           }
          ],
          "surface": [
           {
            "colorbar": {
             "outlinewidth": 0,
             "ticks": ""
            },
            "colorscale": [
             [
              0,
              "#0d0887"
             ],
             [
              0.1111111111111111,
              "#46039f"
             ],
             [
              0.2222222222222222,
              "#7201a8"
             ],
             [
              0.3333333333333333,
              "#9c179e"
             ],
             [
              0.4444444444444444,
              "#bd3786"
             ],
             [
              0.5555555555555556,
              "#d8576b"
             ],
             [
              0.6666666666666666,
              "#ed7953"
             ],
             [
              0.7777777777777778,
              "#fb9f3a"
             ],
             [
              0.8888888888888888,
              "#fdca26"
             ],
             [
              1,
              "#f0f921"
             ]
            ],
            "type": "surface"
           }
          ],
          "table": [
           {
            "cells": {
             "fill": {
              "color": "#EBF0F8"
             },
             "line": {
              "color": "white"
             }
            },
            "header": {
             "fill": {
              "color": "#C8D4E3"
             },
             "line": {
              "color": "white"
             }
            },
            "type": "table"
           }
          ]
         },
         "layout": {
          "annotationdefaults": {
           "arrowcolor": "#2a3f5f",
           "arrowhead": 0,
           "arrowwidth": 1
          },
          "autotypenumbers": "strict",
          "coloraxis": {
           "colorbar": {
            "outlinewidth": 0,
            "ticks": ""
           }
          },
          "colorscale": {
           "diverging": [
            [
             0,
             "#8e0152"
            ],
            [
             0.1,
             "#c51b7d"
            ],
            [
             0.2,
             "#de77ae"
            ],
            [
             0.3,
             "#f1b6da"
            ],
            [
             0.4,
             "#fde0ef"
            ],
            [
             0.5,
             "#f7f7f7"
            ],
            [
             0.6,
             "#e6f5d0"
            ],
            [
             0.7,
             "#b8e186"
            ],
            [
             0.8,
             "#7fbc41"
            ],
            [
             0.9,
             "#4d9221"
            ],
            [
             1,
             "#276419"
            ]
           ],
           "sequential": [
            [
             0,
             "#0d0887"
            ],
            [
             0.1111111111111111,
             "#46039f"
            ],
            [
             0.2222222222222222,
             "#7201a8"
            ],
            [
             0.3333333333333333,
             "#9c179e"
            ],
            [
             0.4444444444444444,
             "#bd3786"
            ],
            [
             0.5555555555555556,
             "#d8576b"
            ],
            [
             0.6666666666666666,
             "#ed7953"
            ],
            [
             0.7777777777777778,
             "#fb9f3a"
            ],
            [
             0.8888888888888888,
             "#fdca26"
            ],
            [
             1,
             "#f0f921"
            ]
           ],
           "sequentialminus": [
            [
             0,
             "#0d0887"
            ],
            [
             0.1111111111111111,
             "#46039f"
            ],
            [
             0.2222222222222222,
             "#7201a8"
            ],
            [
             0.3333333333333333,
             "#9c179e"
            ],
            [
             0.4444444444444444,
             "#bd3786"
            ],
            [
             0.5555555555555556,
             "#d8576b"
            ],
            [
             0.6666666666666666,
             "#ed7953"
            ],
            [
             0.7777777777777778,
             "#fb9f3a"
            ],
            [
             0.8888888888888888,
             "#fdca26"
            ],
            [
             1,
             "#f0f921"
            ]
           ]
          },
          "colorway": [
           "#636efa",
           "#EF553B",
           "#00cc96",
           "#ab63fa",
           "#FFA15A",
           "#19d3f3",
           "#FF6692",
           "#B6E880",
           "#FF97FF",
           "#FECB52"
          ],
          "font": {
           "color": "#2a3f5f"
          },
          "geo": {
           "bgcolor": "white",
           "lakecolor": "white",
           "landcolor": "#E5ECF6",
           "showlakes": true,
           "showland": true,
           "subunitcolor": "white"
          },
          "hoverlabel": {
           "align": "left"
          },
          "hovermode": "closest",
          "mapbox": {
           "style": "light"
          },
          "paper_bgcolor": "white",
          "plot_bgcolor": "#E5ECF6",
          "polar": {
           "angularaxis": {
            "gridcolor": "white",
            "linecolor": "white",
            "ticks": ""
           },
           "bgcolor": "#E5ECF6",
           "radialaxis": {
            "gridcolor": "white",
            "linecolor": "white",
            "ticks": ""
           }
          },
          "scene": {
           "xaxis": {
            "backgroundcolor": "#E5ECF6",
            "gridcolor": "white",
            "gridwidth": 2,
            "linecolor": "white",
            "showbackground": true,
            "ticks": "",
            "zerolinecolor": "white"
           },
           "yaxis": {
            "backgroundcolor": "#E5ECF6",
            "gridcolor": "white",
            "gridwidth": 2,
            "linecolor": "white",
            "showbackground": true,
            "ticks": "",
            "zerolinecolor": "white"
           },
           "zaxis": {
            "backgroundcolor": "#E5ECF6",
            "gridcolor": "white",
            "gridwidth": 2,
            "linecolor": "white",
            "showbackground": true,
            "ticks": "",
            "zerolinecolor": "white"
           }
          },
          "shapedefaults": {
           "line": {
            "color": "#2a3f5f"
           }
          },
          "ternary": {
           "aaxis": {
            "gridcolor": "white",
            "linecolor": "white",
            "ticks": ""
           },
           "baxis": {
            "gridcolor": "white",
            "linecolor": "white",
            "ticks": ""
           },
           "bgcolor": "#E5ECF6",
           "caxis": {
            "gridcolor": "white",
            "linecolor": "white",
            "ticks": ""
           }
          },
          "title": {
           "x": 0.05
          },
          "xaxis": {
           "automargin": true,
           "gridcolor": "white",
           "linecolor": "white",
           "ticks": "",
           "title": {
            "standoff": 15
           },
           "zerolinecolor": "white",
           "zerolinewidth": 2
          },
          "yaxis": {
           "automargin": true,
           "gridcolor": "white",
           "linecolor": "white",
           "ticks": "",
           "title": {
            "standoff": 15
           },
           "zerolinecolor": "white",
           "zerolinewidth": 2
          }
         }
        },
        "title": {
         "text": "Embedding Visualization with UMAP"
        },
        "xaxis": {
         "anchor": "y",
         "domain": [
          0,
          1
         ],
         "title": {
          "text": "UMAP Dimension 1"
         }
        },
        "yaxis": {
         "anchor": "x",
         "domain": [
          0,
          1
         ],
         "title": {
          "text": "UMAP Dimension 2"
         }
        }
       }
      }
     },
     "metadata": {},
     "output_type": "display_data"
    }
   ],
   "source": [
    "from sklearn.decomposition import PCA\n",
    "\n",
    "# PCA Embeddings Visualization\n",
    "def visualizeEmbeddingsPCA(df):\n",
    "    # Convert embeddings to a NumPy array\n",
    "    embeddings = np.array(df['embedding'].tolist())\n",
    "    ratings = df['rating_score']\n",
    "    \n",
    "    # Perform PCA for dimensionality reduction\n",
    "    pca = PCA(n_components=2)\n",
    "    reduced_embeddings = pca.fit_transform(embeddings)\n",
    "    \n",
    "    # Calculate variance explained by each component\n",
    "    var_explained = pca.explained_variance_ratio_ * 100\n",
    "    var1, var2 = var_explained\n",
    "    \n",
    "    # Prepare DataFrame for Plotly\n",
    "    plot_df = pd.DataFrame({\n",
    "        'PCA Component 1': reduced_embeddings[:, 0],\n",
    "        'PCA Component 2': reduced_embeddings[:, 1],\n",
    "        'Rating Score': ratings,\n",
    "        'Review ID': df.get('review_id', range(len(df)))  # Optional identifier\n",
    "    })\n",
    "    \n",
    "    # Create interactive scatter plot\n",
    "    fig = px.scatter(\n",
    "        plot_df,\n",
    "        x='PCA Component 1',\n",
    "        y='PCA Component 2',\n",
    "        color='Rating Score',\n",
    "        color_continuous_scale='Viridis',\n",
    "        hover_data=['Review ID', 'Rating Score'],\n",
    "        title=f'Embeddings by Rating Score (PCA 1: {var1:.1f}%, PCA 2: {var2:.1f}%)',\n",
    "        labels={\n",
    "            'PCA Component 1': f'PCA 1 ({var1:.1f}% variance)',\n",
    "            'PCA Component 2': f'PCA 2 ({var2:.1f}% variance)',\n",
    "            'Rating Score': 'Rating Score'\n",
    "        }\n",
    "    )\n",
    "    \n",
    "    # Enhance layout for clarity\n",
    "    fig.update_layout(\n",
    "        template='plotly_white',\n",
    "        coloraxis_colorbar=dict(\n",
    "            title='Rating Score',\n",
    "            tickmode='linear'\n",
    "        ),\n",
    "        hovermode='closest'\n",
    "    )\n",
    "    \n",
    "    fig.show()\n",
    "    return reduced_embeddings\n",
    "\n",
    "embeddings_pca = visualizeEmbeddingsPCA(reviews)\n",
    "\n",
    "import umap.umap_ as umap\n",
    "\n",
    "# UMAP Embeddings Visualization\n",
    "def visualizeEmbeddingsUMAP(df):\n",
    "    embeddings = np.array(df['embedding'].tolist())\n",
    "    sentiment_labels = df['sentiment_label']\n",
    "\n",
    "    # Reduce dimensionality with UMAP\n",
    "    reducer = umap.UMAP(n_neighbors=15, min_dist=0.1, n_components=2, random_state=42)\n",
    "    reduced_embeddings = reducer.fit_transform(embeddings)\n",
    "\n",
    "    # Create DataFrame for visualization\n",
    "    viz_df = pd.DataFrame(reduced_embeddings, columns=['x', 'y'])\n",
    "    viz_df['sentiment_label'] = sentiment_labels\n",
    "\n",
    "    # Scatter plot with Plotly for interactive visualization\n",
    "    fig = px.scatter(\n",
    "        viz_df,\n",
    "        x='x',\n",
    "        y='y',\n",
    "        color='sentiment_label',\n",
    "        title='Embedding Visualization with UMAP',\n",
    "        labels={'x': 'UMAP Dimension 1', 'y': 'UMAP Dimension 2'},\n",
    "        color_discrete_map={'positive': 'green', 'neutral': 'gray', 'negative': 'red'},\n",
    "        opacity=0.7\n",
    "    )\n",
    "    fig.update_layout(showlegend=True, legend=dict(title='Sentiment'), margin=dict(l=10, r=10, t=40, b=10))\n",
    "    fig.show()\n",
    "\n",
    "    return reduced_embeddings\n",
    "\n",
    "embeddings_umap = visualizeEmbeddingsUMAP(reviews)\n",
    "\n"
   ]
  },
  {
   "cell_type": "code",
   "execution_count": null,
   "metadata": {},
   "outputs": [
    {
     "data": {
      "application/vnd.plotly.v1+json": {
       "config": {
        "plotlyServerURL": "https://plot.ly"
       },
       "data": [
        {
         "line": {
          "color": "blue"
         },
         "mode": "lines",
         "name": "k-distance",
         "type": "scatter",
         "x": [
          1,
          2,
          3,
          4,
          5,
          6,
          7,
          8,
          9,
          10,
          11,
          12,
          13,
          14,
          15,
          16,
          17,
          18,
          19,
          20,
          21,
          22,
          23,
          24,
          25,
          26,
          27,
          28,
          29,
          30,
          31,
          32,
          33,
          34,
          35,
          36,
          37,
          38,
          39,
          40,
          41,
          42,
          43,
          44,
          45,
          46,
          47,
          48,
          49,
          50,
          51,
          52,
          53,
          54,
          55,
          56,
          57,
          58,
          59,
          60,
          61,
          62,
          63,
          64,
          65,
          66,
          67,
          68,
          69,
          70,
          71,
          72,
          73,
          74,
          75,
          76,
          77,
          78,
          79,
          80,
          81,
          82,
          83,
          84,
          85,
          86,
          87,
          88,
          89,
          90,
          91,
          92,
          93,
          94,
          95,
          96,
          97,
          98,
          99,
          100,
          101,
          102,
          103,
          104,
          105,
          106,
          107,
          108,
          109,
          110,
          111,
          112,
          113,
          114,
          115,
          116,
          117,
          118,
          119,
          120,
          121,
          122,
          123,
          124,
          125,
          126,
          127,
          128,
          129,
          130,
          131,
          132,
          133,
          134,
          135,
          136,
          137,
          138,
          139,
          140,
          141,
          142,
          143,
          144,
          145,
          146,
          147,
          148,
          149,
          150,
          151,
          152,
          153,
          154,
          155,
          156,
          157,
          158,
          159,
          160,
          161,
          162,
          163,
          164,
          165,
          166,
          167,
          168,
          169,
          170,
          171,
          172,
          173,
          174,
          175,
          176,
          177,
          178,
          179,
          180,
          181,
          182,
          183,
          184,
          185,
          186,
          187,
          188,
          189,
          190,
          191,
          192,
          193,
          194,
          195,
          196,
          197,
          198,
          199,
          200,
          201,
          202,
          203,
          204,
          205,
          206,
          207,
          208,
          209,
          210,
          211,
          212,
          213,
          214,
          215,
          216,
          217,
          218,
          219,
          220,
          221,
          222,
          223,
          224,
          225,
          226,
          227,
          228,
          229,
          230,
          231,
          232,
          233,
          234,
          235,
          236,
          237,
          238,
          239,
          240,
          241,
          242,
          243,
          244,
          245,
          246,
          247,
          248,
          249,
          250,
          251,
          252,
          253,
          254,
          255,
          256,
          257,
          258,
          259,
          260,
          261,
          262,
          263,
          264,
          265,
          266,
          267,
          268,
          269,
          270,
          271,
          272,
          273,
          274,
          275,
          276,
          277,
          278,
          279,
          280,
          281,
          282,
          283,
          284,
          285,
          286,
          287,
          288,
          289,
          290,
          291,
          292,
          293,
          294,
          295,
          296,
          297,
          298,
          299,
          300,
          301,
          302,
          303,
          304,
          305,
          306,
          307,
          308,
          309,
          310,
          311,
          312,
          313,
          314,
          315,
          316,
          317,
          318,
          319,
          320,
          321,
          322,
          323,
          324,
          325,
          326,
          327,
          328,
          329,
          330,
          331,
          332,
          333,
          334,
          335,
          336,
          337,
          338,
          339,
          340,
          341,
          342,
          343,
          344,
          345,
          346,
          347,
          348,
          349,
          350,
          351,
          352,
          353,
          354,
          355,
          356,
          357,
          358,
          359,
          360,
          361,
          362,
          363,
          364,
          365,
          366,
          367,
          368,
          369,
          370,
          371,
          372,
          373,
          374,
          375,
          376,
          377,
          378,
          379,
          380,
          381,
          382,
          383,
          384,
          385,
          386,
          387,
          388,
          389,
          390,
          391,
          392,
          393,
          394,
          395,
          396,
          397,
          398,
          399,
          400,
          401,
          402,
          403,
          404,
          405,
          406,
          407,
          408,
          409,
          410,
          411,
          412,
          413,
          414,
          415,
          416,
          417,
          418,
          419,
          420,
          421,
          422,
          423,
          424,
          425,
          426,
          427,
          428,
          429,
          430,
          431,
          432,
          433,
          434,
          435,
          436,
          437,
          438,
          439,
          440,
          441,
          442,
          443,
          444,
          445,
          446,
          447,
          448,
          449,
          450,
          451,
          452,
          453,
          454,
          455,
          456,
          457,
          458,
          459,
          460,
          461,
          462,
          463,
          464,
          465,
          466,
          467,
          468,
          469,
          470,
          471,
          472,
          473,
          474,
          475,
          476,
          477,
          478,
          479,
          480,
          481,
          482,
          483,
          484,
          485,
          486,
          487,
          488,
          489,
          490,
          491,
          492,
          493,
          494,
          495,
          496,
          497,
          498,
          499,
          500,
          501,
          502,
          503,
          504,
          505,
          506,
          507,
          508,
          509,
          510,
          511,
          512,
          513,
          514,
          515,
          516,
          517,
          518,
          519,
          520,
          521,
          522,
          523,
          524,
          525,
          526,
          527,
          528,
          529,
          530,
          531,
          532,
          533,
          534,
          535,
          536,
          537,
          538,
          539,
          540,
          541,
          542,
          543,
          544,
          545,
          546,
          547,
          548,
          549,
          550,
          551,
          552,
          553,
          554,
          555,
          556,
          557,
          558,
          559,
          560,
          561,
          562,
          563,
          564,
          565,
          566,
          567,
          568,
          569,
          570,
          571,
          572,
          573,
          574,
          575,
          576,
          577,
          578,
          579,
          580,
          581,
          582,
          583,
          584,
          585,
          586,
          587,
          588,
          589,
          590,
          591,
          592,
          593,
          594,
          595,
          596,
          597,
          598,
          599,
          600,
          601,
          602,
          603,
          604,
          605,
          606,
          607,
          608,
          609,
          610,
          611,
          612,
          613,
          614,
          615,
          616,
          617,
          618,
          619,
          620,
          621,
          622,
          623,
          624,
          625,
          626,
          627,
          628,
          629,
          630,
          631,
          632,
          633,
          634,
          635,
          636,
          637,
          638,
          639,
          640,
          641,
          642,
          643,
          644,
          645,
          646,
          647,
          648,
          649,
          650,
          651,
          652,
          653,
          654,
          655,
          656,
          657,
          658,
          659,
          660,
          661,
          662,
          663,
          664,
          665,
          666,
          667,
          668,
          669,
          670,
          671,
          672,
          673,
          674,
          675,
          676,
          677,
          678,
          679,
          680,
          681,
          682,
          683,
          684,
          685,
          686,
          687,
          688,
          689,
          690,
          691,
          692,
          693,
          694,
          695,
          696,
          697,
          698,
          699,
          700,
          701,
          702,
          703,
          704,
          705,
          706,
          707,
          708,
          709,
          710,
          711,
          712,
          713,
          714,
          715,
          716,
          717,
          718,
          719,
          720,
          721,
          722,
          723,
          724,
          725,
          726,
          727,
          728,
          729,
          730,
          731,
          732,
          733,
          734,
          735,
          736,
          737,
          738,
          739,
          740,
          741,
          742,
          743,
          744,
          745,
          746,
          747,
          748,
          749,
          750,
          751,
          752,
          753,
          754,
          755,
          756,
          757,
          758,
          759,
          760,
          761,
          762,
          763,
          764,
          765,
          766,
          767,
          768,
          769,
          770,
          771,
          772,
          773,
          774,
          775,
          776,
          777,
          778,
          779,
          780,
          781,
          782,
          783,
          784,
          785,
          786,
          787,
          788,
          789,
          790,
          791,
          792,
          793,
          794,
          795,
          796,
          797,
          798,
          799,
          800,
          801,
          802,
          803,
          804,
          805,
          806,
          807,
          808,
          809,
          810,
          811,
          812,
          813,
          814,
          815,
          816,
          817,
          818,
          819,
          820,
          821,
          822,
          823,
          824,
          825,
          826,
          827,
          828,
          829,
          830,
          831,
          832,
          833,
          834,
          835,
          836,
          837,
          838,
          839,
          840,
          841,
          842,
          843,
          844,
          845,
          846,
          847,
          848,
          849,
          850,
          851,
          852,
          853,
          854,
          855,
          856,
          857,
          858,
          859,
          860,
          861,
          862,
          863,
          864,
          865,
          866,
          867,
          868,
          869,
          870,
          871,
          872,
          873,
          874,
          875,
          876,
          877,
          878,
          879,
          880,
          881,
          882,
          883,
          884,
          885,
          886,
          887,
          888,
          889,
          890,
          891,
          892,
          893,
          894,
          895,
          896,
          897,
          898,
          899,
          900,
          901,
          902,
          903,
          904,
          905,
          906,
          907,
          908,
          909,
          910,
          911,
          912,
          913,
          914,
          915,
          916,
          917,
          918,
          919,
          920,
          921,
          922,
          923,
          924,
          925,
          926,
          927,
          928,
          929,
          930,
          931,
          932,
          933,
          934,
          935,
          936,
          937,
          938,
          939,
          940,
          941,
          942,
          943,
          944,
          945,
          946,
          947,
          948,
          949,
          950,
          951,
          952,
          953,
          954,
          955,
          956,
          957,
          958,
          959,
          960,
          961,
          962,
          963,
          964,
          965,
          966,
          967,
          968,
          969,
          970,
          971,
          972,
          973,
          974,
          975,
          976,
          977,
          978,
          979,
          980,
          981,
          982,
          983,
          984,
          985,
          986,
          987,
          988,
          989,
          990,
          991,
          992,
          993,
          994,
          995,
          996,
          997,
          998,
          999,
          1000
         ],
         "y": [
          0.09095199234367467,
          0.09512129262796802,
          0.09855689554250162,
          0.10223191474928282,
          0.1094913341880469,
          0.1141449552155815,
          0.11513642327154794,
          0.11513642327154794,
          0.11765113774102097,
          0.12020647297143233,
          0.12065207143835095,
          0.121163708348618,
          0.12482404933573692,
          0.12547354526920898,
          0.12826049969845876,
          0.12874428851041092,
          0.1319061472153958,
          0.13330755235688602,
          0.13519878667907012,
          0.1378488066640967,
          0.13797224409388764,
          0.1381630484716922,
          0.13918702476737535,
          0.14061771538125944,
          0.14067387607848936,
          0.14088870302918624,
          0.14152275798156835,
          0.14263904631108598,
          0.14390964884571844,
          0.14715491602153602,
          0.14745344075962927,
          0.14773903751807024,
          0.14977189127549398,
          0.15314087331443718,
          0.15377584652621887,
          0.15427648456418305,
          0.15480614733105802,
          0.15480614733105802,
          0.1551740067634936,
          0.15559715749835806,
          0.15658962525336378,
          0.15693934642399035,
          0.1576878196234688,
          0.15803826288253053,
          0.15891525213475619,
          0.1597624990274366,
          0.15983657795780654,
          0.159883099216151,
          0.1615182781000057,
          0.1620880298400847,
          0.1623771634236675,
          0.16274735749650965,
          0.1633321933467264,
          0.16396595082311477,
          0.16400359631723577,
          0.16510885967285946,
          0.16600508144514603,
          0.16656645766484912,
          0.16660911181109805,
          0.16671127048728795,
          0.16684846174371795,
          0.1668838424347078,
          0.16761418699272512,
          0.16786787913837511,
          0.16806681183167108,
          0.16830363446231733,
          0.16875252804800023,
          0.1688963597770318,
          0.16907733919820048,
          0.1690883529626165,
          0.16945512318859668,
          0.1700801325684698,
          0.17067076853567156,
          0.17073403148826746,
          0.1712336362050409,
          0.17154822480812104,
          0.17200333455365813,
          0.1727666358514326,
          0.1731822404707653,
          0.173597015985814,
          0.17399884963816808,
          0.17428497056902092,
          0.17462257574879583,
          0.17491483514881404,
          0.17496206691516664,
          0.1751243486078435,
          0.17568492301572855,
          0.1756858662937216,
          0.17585746981315126,
          0.1768744370715444,
          0.17697489293260873,
          0.1772963074811614,
          0.17771442234330664,
          0.17771442234330664,
          0.17798550188673687,
          0.17809787209007752,
          0.17878601177913736,
          0.1789877849764687,
          0.179440379181369,
          0.17966548342053754,
          0.1799019099964569,
          0.18000347579654147,
          0.18068226341702112,
          0.18078267994855915,
          0.18108486154850753,
          0.18167867357665726,
          0.18176896942620122,
          0.1822418490109045,
          0.18224315697298382,
          0.18228381314886555,
          0.1834592816611193,
          0.18382925067494052,
          0.1838755061954568,
          0.1838755061954568,
          0.1844613453678318,
          0.18458732250532647,
          0.18489902784765216,
          0.18489902784765216,
          0.18525841095983656,
          0.18536327842767694,
          0.18548096958853125,
          0.18548096958853125,
          0.18548672986360334,
          0.18626289730803938,
          0.1867253348308646,
          0.18754561564164945,
          0.18757868390336632,
          0.18798211954305516,
          0.18807469440682115,
          0.18834769215587038,
          0.18836045831321951,
          0.18885322936183707,
          0.1893838524396857,
          0.18941219116138958,
          0.18961024728158196,
          0.1897685997018596,
          0.18980398462021814,
          0.18980398462021814,
          0.1904088123746046,
          0.19059159330394132,
          0.19085836856970192,
          0.19210363463511795,
          0.19215376213047103,
          0.19220899677752376,
          0.19220899677752376,
          0.1926491061743871,
          0.19270328136575257,
          0.19368173979933248,
          0.19369936685416922,
          0.19369948137297954,
          0.19424882641036353,
          0.19441671535311647,
          0.19486471203728578,
          0.1952055681705859,
          0.19521716597258149,
          0.19560484974128667,
          0.1958586076065647,
          0.19632299122610916,
          0.19648186711053492,
          0.1966369265681104,
          0.19674081716837,
          0.19698097863638483,
          0.19700726738336596,
          0.19762377523203165,
          0.197817819629538,
          0.19791732538686183,
          0.19800522469717224,
          0.19806965107228397,
          0.19806965107228397,
          0.19822837153404743,
          0.19825727855831912,
          0.19866198805814028,
          0.19882164527029686,
          0.19882991810587436,
          0.19886555422915844,
          0.19896398104361046,
          0.1989792106472492,
          0.19909727614646788,
          0.19943757443743004,
          0.19947955699434852,
          0.1998468432163812,
          0.20010019417312183,
          0.20053943827664053,
          0.20099340663778237,
          0.2013165855810977,
          0.20145950881166172,
          0.20183403598362842,
          0.20254037370103656,
          0.20254037370103656,
          0.2026383078185226,
          0.20267158536519803,
          0.20274993195659968,
          0.2027607451883375,
          0.2027607451883375,
          0.20305857735363608,
          0.20339567941681302,
          0.203461835155692,
          0.20377931594935664,
          0.20380197673750883,
          0.20383974119504586,
          0.20466332806113993,
          0.204965598707843,
          0.20514516816680783,
          0.20514516816680783,
          0.2052481326751204,
          0.20548587335819704,
          0.2057398807023424,
          0.20593677465121132,
          0.20602129640849673,
          0.2061826091207172,
          0.20623772256913023,
          0.2063187559093722,
          0.20640893819740866,
          0.20668430385433598,
          0.2071406370495105,
          0.20726423903283822,
          0.20738400835076637,
          0.20745093326423122,
          0.20771593349955186,
          0.20804133371478373,
          0.20813091418278273,
          0.2081853899338348,
          0.20852978812823386,
          0.20853752887430893,
          0.2086063945444573,
          0.2087482778167362,
          0.20876807996679467,
          0.2090554943967661,
          0.20909630121622394,
          0.20915221459655353,
          0.2093669127209366,
          0.20950166559075853,
          0.209503710334359,
          0.20952056061504631,
          0.20952056061504631,
          0.20985367480016423,
          0.20997448820308018,
          0.20997448820308018,
          0.21043746521732618,
          0.21044660204358442,
          0.2104559861388158,
          0.21130108943596185,
          0.21149996391190728,
          0.21180541346143644,
          0.2121887196422772,
          0.21239599915401255,
          0.21259066254190734,
          0.2126193419527414,
          0.21297941720110997,
          0.21297941720110997,
          0.2131873606447955,
          0.21335293742291309,
          0.2134485877843677,
          0.21347615858979424,
          0.21351930025551866,
          0.21364983132737617,
          0.21368872590362692,
          0.21398505633445294,
          0.21401796353094166,
          0.21404222762079791,
          0.21471897477932217,
          0.21494616645997516,
          0.21520891354729127,
          0.21521711444306843,
          0.2153045353213193,
          0.21554225096546775,
          0.21570791124742203,
          0.21576502397274955,
          0.21595878533556617,
          0.21673696838871045,
          0.21731085402851089,
          0.21769180063897486,
          0.21779098313810477,
          0.21807958850856402,
          0.21819703761229564,
          0.21834073945852833,
          0.21851943889944211,
          0.2187491891533076,
          0.2190064155506674,
          0.21909139250771106,
          0.21909139250771106,
          0.21917739295790228,
          0.21920113376639375,
          0.21943815219178087,
          0.21962974316015213,
          0.219638146308256,
          0.2197543892856587,
          0.21989292890238935,
          0.21989292890238935,
          0.21992787066291847,
          0.21993571376208218,
          0.22016881908299904,
          0.22039367934064025,
          0.22078603153496934,
          0.22102990385978405,
          0.2210320239611574,
          0.2213123931378623,
          0.2215761492416488,
          0.2216059839596461,
          0.22163725735950082,
          0.2218066656519773,
          0.2223662542948405,
          0.22237832794829593,
          0.22245908023227234,
          0.22251113601267453,
          0.22261256880445568,
          0.22291676568561877,
          0.22326219012597764,
          0.22327798135406243,
          0.2233734508075841,
          0.22367206427130557,
          0.22399842278590992,
          0.22450870855112462,
          0.22466106348273307,
          0.22472114989647665,
          0.2248013025644332,
          0.2249126453008383,
          0.22506447685615424,
          0.2252147011766435,
          0.22525855797359629,
          0.22534680312724095,
          0.22552558117430113,
          0.22571474664116575,
          0.22580890629168243,
          0.22594009210436647,
          0.22624058960188967,
          0.22625068533647938,
          0.2263725515526598,
          0.22668409933464315,
          0.22718474775240044,
          0.22724950706754712,
          0.22733814452796805,
          0.22741304484923966,
          0.22760525001107865,
          0.22761387946755593,
          0.22776206768218768,
          0.22788536439706467,
          0.22789338272348475,
          0.22805819279846218,
          0.22806993043887172,
          0.22813387459453013,
          0.2281782630014171,
          0.22840661277479476,
          0.228429048749333,
          0.2287202561197861,
          0.22896891575558798,
          0.22901580636080818,
          0.22939728870004597,
          0.22948429616907254,
          0.22948448322066894,
          0.22953586662689304,
          0.2296182269373641,
          0.22967825293734342,
          0.22971666148760725,
          0.22993273661278632,
          0.22996805407086823,
          0.23010492179919775,
          0.23039553008136218,
          0.23060580958541482,
          0.23073279377771674,
          0.2307938263993801,
          0.23092234094079514,
          0.23098254843579266,
          0.2309848824636434,
          0.2312117592714886,
          0.2314933435508978,
          0.23178010323375717,
          0.23182559557255009,
          0.23200433551403862,
          0.23217565118018568,
          0.23217931139353495,
          0.23221564806361117,
          0.23230885791202852,
          0.23254080831140192,
          0.2326349405887431,
          0.23273486531842227,
          0.23280099756648498,
          0.23308101538359643,
          0.23315340083173824,
          0.2333558048308455,
          0.23347477538673989,
          0.23347477538673989,
          0.233573511797877,
          0.23362309800155864,
          0.23389413805736067,
          0.23461562176925121,
          0.23461576497019634,
          0.23486232900074844,
          0.23512869180258494,
          0.23535605759947936,
          0.2356931442682124,
          0.23581809525251585,
          0.23586132717624267,
          0.23607209154075437,
          0.23621306384715393,
          0.23631911960875482,
          0.23634253640413624,
          0.2363899686111545,
          0.23640918611707373,
          0.23651174130548022,
          0.23660246782235114,
          0.23666564874378174,
          0.23666564874378174,
          0.23672872549796392,
          0.23684526632974318,
          0.23691551110956122,
          0.23696188270660914,
          0.2373653041345072,
          0.2376687483459609,
          0.23768468033629123,
          0.23788386234173164,
          0.23807040490800302,
          0.23807715980162802,
          0.23817325224800343,
          0.23834937960798588,
          0.23836875474452812,
          0.23848542429366018,
          0.23853410347566345,
          0.23860454227134412,
          0.2387084145721731,
          0.23894355179525673,
          0.2393647153605944,
          0.2395160964845077,
          0.2395174046172454,
          0.23964591787178427,
          0.2397247436253654,
          0.24043121707814746,
          0.24050485226428905,
          0.24056614442612664,
          0.24076489625546163,
          0.24076489625546163,
          0.24095069182192486,
          0.2410856831622711,
          0.2413062588889633,
          0.24166904474369078,
          0.24187823906456424,
          0.24223742506133397,
          0.24231928982221657,
          0.24236317329698998,
          0.24254379930486217,
          0.24264047186765697,
          0.24266162827955876,
          0.2427889158631934,
          0.2428777097047015,
          0.2428777097047015,
          0.24305280627579084,
          0.24347392701789353,
          0.24366696311986943,
          0.24375773974203144,
          0.24387267758821332,
          0.2440094022756736,
          0.24401636362599755,
          0.24417818251636836,
          0.24442172195490658,
          0.24442172195490658,
          0.24481552394108702,
          0.24484729873127933,
          0.2448566960114127,
          0.24498812205788592,
          0.24498812205788592,
          0.24498922497514253,
          0.2450687051631192,
          0.24515742815248134,
          0.24524550863274006,
          0.24524990486158144,
          0.24545646083214967,
          0.2456239019241107,
          0.24563652841396152,
          0.24566029003419015,
          0.2458639953519426,
          0.24615119581611117,
          0.2461577022121543,
          0.2462406050411796,
          0.24644109668319508,
          0.24655141599445815,
          0.2468001022013563,
          0.24694228324399686,
          0.24730145617788077,
          0.247328120379614,
          0.24737112927450844,
          0.24739139152240688,
          0.2474804655907239,
          0.24762034756806536,
          0.24767684817547325,
          0.24772156078965188,
          0.24774102910291465,
          0.24808615845293505,
          0.2482501795874838,
          0.24827755727358952,
          0.24847088879270815,
          0.24854804823965038,
          0.24866300854998688,
          0.2487153453620272,
          0.24880839025270213,
          0.248999553703446,
          0.24929210207221159,
          0.24929210207221159,
          0.24941036304313133,
          0.2494283089470427,
          0.24973018534476155,
          0.2501475266601155,
          0.2501679459752982,
          0.2502152115453269,
          0.2502540260290852,
          0.2502691194455418,
          0.25027619341412394,
          0.25064130075003777,
          0.2508032144456316,
          0.2508302911504719,
          0.25090920464811106,
          0.2509467668542802,
          0.2510854338073453,
          0.2511166774812011,
          0.25111685002737616,
          0.25132532179166606,
          0.2513734771471057,
          0.25153166262955834,
          0.2516723523155939,
          0.25177454939292854,
          0.2517841350439369,
          0.2519839372896069,
          0.252013662257041,
          0.2520906180638897,
          0.25216127652565956,
          0.25233140802278964,
          0.25233140802278964,
          0.2523820233442302,
          0.25279979662810986,
          0.25293412221246175,
          0.2529503084951287,
          0.2530140315929644,
          0.2530828384501306,
          0.2532034977812729,
          0.2532066876642648,
          0.25325178436179757,
          0.25336350507721606,
          0.25337098154996895,
          0.25338441558094876,
          0.2534156160154816,
          0.2535504814065287,
          0.25360311822126325,
          0.25361911736249143,
          0.25385308749705726,
          0.253979181012518,
          0.2542766969333015,
          0.25443518425059825,
          0.2544398741954332,
          0.2546494177499502,
          0.2546494177499502,
          0.2548736568700824,
          0.25531260461882044,
          0.2553294051928616,
          0.25535261355621386,
          0.2554070907769904,
          0.25548725548842344,
          0.25568679003439365,
          0.2556883840074626,
          0.2556883840074626,
          0.2557921266222889,
          0.25590204700448904,
          0.2559504645489406,
          0.25599205081485776,
          0.25599205081485776,
          0.25603873695888096,
          0.2560519575548705,
          0.256110300870843,
          0.256116244739697,
          0.2562397029364069,
          0.2563092308328392,
          0.2563092308328392,
          0.25636700523460426,
          0.2564574750933152,
          0.2566404073868198,
          0.25685458497869956,
          0.2569241301164852,
          0.2571013715773885,
          0.2571379438257597,
          0.2571882505615675,
          0.2572759908565909,
          0.25736680857288224,
          0.25753556614386736,
          0.25764689927613027,
          0.2577117123878383,
          0.25782931694296596,
          0.2580187784234715,
          0.2580982928640051,
          0.25829933412383177,
          0.2588620064884504,
          0.2589456979340978,
          0.2589691529542669,
          0.25897923253644395,
          0.25923227218599143,
          0.25926516565532093,
          0.2593903777427871,
          0.2594634584594297,
          0.25961956651045925,
          0.2596832446921121,
          0.259782466414472,
          0.2599695939197185,
          0.2600286789058157,
          0.26016257633726864,
          0.2601713924292031,
          0.2602505667784043,
          0.26028062706353083,
          0.26038670563159894,
          0.26058402508276013,
          0.26077590901430914,
          0.26077590901430914,
          0.2607831898056659,
          0.2607923166404367,
          0.26087493515979937,
          0.26090085644720884,
          0.26090124170677875,
          0.2609205226103102,
          0.26093292707574456,
          0.2611357699922825,
          0.26146547187651475,
          0.26146547187651475,
          0.2615965409686389,
          0.26161949336484264,
          0.2616272023027841,
          0.2617345248797123,
          0.2617427248446198,
          0.2617540972575578,
          0.26189380894208303,
          0.26208776297804637,
          0.26212613720586403,
          0.2622021593019972,
          0.2624880757375911,
          0.2625646388414813,
          0.2625811499422597,
          0.2625811499422597,
          0.26289112166631795,
          0.2629485815984479,
          0.2629551439877187,
          0.2629551439877187,
          0.2631426683439426,
          0.26318824538178176,
          0.2634718540492298,
          0.2635252071266753,
          0.26365393706357765,
          0.2640385644310574,
          0.26420459449899025,
          0.26431282769103204,
          0.2643454722301954,
          0.2643912963740607,
          0.2643953857926056,
          0.2646454746988693,
          0.26487685563560676,
          0.26499939407236717,
          0.26516113894947063,
          0.2654692235277972,
          0.26563132557203983,
          0.2658839281234813,
          0.2658839281234813,
          0.26602783826856846,
          0.2661504727321942,
          0.2661542461277391,
          0.26616046300406965,
          0.2661646679413536,
          0.2662232680265164,
          0.26647198894788376,
          0.2665206206217121,
          0.2665632248364261,
          0.2666496053007234,
          0.26712037454560617,
          0.26721423559070223,
          0.26721423559070223,
          0.2674709332667335,
          0.26748430692804037,
          0.26775262871086203,
          0.2681404272896767,
          0.2681654416405408,
          0.26824037105172877,
          0.26833914905309664,
          0.26833914905309664,
          0.2684213425061709,
          0.26882502179761303,
          0.26889142409253397,
          0.26889142409253397,
          0.26914310514120754,
          0.26914310514120754,
          0.2691541551103387,
          0.2692519764827976,
          0.26942086468062704,
          0.2695488769337874,
          0.2695702442946285,
          0.2696775228758941,
          0.2696775228758941,
          0.26981330603523945,
          0.2700140463426124,
          0.2700140463426124,
          0.27006797470318034,
          0.2701750932330982,
          0.2703950670724691,
          0.27052304591279314,
          0.27089031542870484,
          0.270893325538722,
          0.2712015904705687,
          0.2712777639342263,
          0.2713874251615096,
          0.27168280904428077,
          0.2724151493424239,
          0.27258622754704154,
          0.2726454219664886,
          0.27298792633324137,
          0.27317924506729635,
          0.27349542409799815,
          0.27349762390474636,
          0.273617716376611,
          0.273617716376611,
          0.2736255833037834,
          0.2739704722162819,
          0.2739951479788779,
          0.27400093965427336,
          0.27418332810902285,
          0.27420381741693217,
          0.2743876999332023,
          0.2748839628728412,
          0.27490185707852133,
          0.2749473390997361,
          0.2752032527775385,
          0.275390417311685,
          0.27548397622454246,
          0.2755069001341748,
          0.2755069001341748,
          0.2755917564826184,
          0.275625382462117,
          0.2757788026369938,
          0.27578685773044526,
          0.2760326864451136,
          0.2760326864451136,
          0.27620609939262375,
          0.2763057863767326,
          0.2765826920985733,
          0.2766294455813227,
          0.27678269509722364,
          0.27702372309372214,
          0.2772058865427906,
          0.277483319538848,
          0.27755020811933495,
          0.27766996989959153,
          0.2778138978633625,
          0.2780916030191383,
          0.2783963863948084,
          0.27844596385869247,
          0.27849406744130734,
          0.27850571298630716,
          0.2786494939338223,
          0.27866456145387863,
          0.27873927750564464,
          0.27911504753180677,
          0.279424042429858,
          0.2794800356817935,
          0.2795348915092729,
          0.2796210836263814,
          0.27962309664329615,
          0.27974688181502433,
          0.27978152411551804,
          0.2806992294404524,
          0.28070257247563046,
          0.28076059516456453,
          0.2812809299881121,
          0.28137833400609163,
          0.28156155546201983,
          0.2820070943359825,
          0.28225539159863927,
          0.2823128843870544,
          0.28249814659149325,
          0.2832346323211234,
          0.28376614657623817,
          0.2840099523158142,
          0.28427289725946636,
          0.284320804347064,
          0.284320804347064,
          0.28450947448635755,
          0.2851357534640787,
          0.2852131085072434,
          0.2854334439686482,
          0.28573208380546045,
          0.28577429411341015,
          0.28577429411341015,
          0.28588834607256836,
          0.285894721332499,
          0.2861942859038638,
          0.2864732004232498,
          0.28690124857125904,
          0.2877808839493307,
          0.28798736299770067,
          0.2880242446650613,
          0.28839985478646857,
          0.2890214288731562,
          0.2892556943084836,
          0.28953250899932975,
          0.29001514269777007,
          0.2903710694468686,
          0.290475525482652,
          0.29049499857408395,
          0.29049499857408395,
          0.29049934039655667,
          0.29049934039655667,
          0.2916385864302822,
          0.2918015899594172,
          0.29190552792788793,
          0.29238406813047524,
          0.2927853178626369,
          0.2928579248294825,
          0.2930701996072525,
          0.293940420153732,
          0.29416970169003115,
          0.2943636859141943,
          0.2945844396120835,
          0.29568598716749467,
          0.2961056203510024,
          0.29636277980577663,
          0.2963913104599973,
          0.2964654841318302,
          0.2964714156699692,
          0.29661420978667946,
          0.29675633606512325,
          0.2969676948692031,
          0.29709958746526993,
          0.29718708160508944,
          0.2975879262120452,
          0.2982881792568904,
          0.2983604015287425,
          0.2985484384770262,
          0.29888680936216566,
          0.29898381570482363,
          0.2991519696088393,
          0.29961702665829515,
          0.29997879933132376,
          0.30010003033158184,
          0.3003945808990347,
          0.30156249656116374,
          0.30157471497077015,
          0.3018892154364148,
          0.3024555831634345,
          0.3029307732498841,
          0.30293508632609384,
          0.30328107271453686,
          0.303568286954644,
          0.30360266629134075,
          0.3036321810486248,
          0.3038618321428813,
          0.3038618321428813,
          0.30400412369685514,
          0.3041607826407813,
          0.30442301041546566,
          0.3056654123910695,
          0.3056654123910695,
          0.3068836826068119,
          0.3071101882946182,
          0.3080862380035482,
          0.30865770073868487,
          0.30865770073868487,
          0.30897949831785637,
          0.3097965902158824,
          0.3099377743710248,
          0.3100539300108007,
          0.3108690678511617,
          0.31141330592115646,
          0.3117916449708237,
          0.3127837451551388,
          0.3127837451551388,
          0.3139355240175464,
          0.3144434688602412,
          0.31512072086168186,
          0.3157142103971579,
          0.31738846616368926,
          0.3177019690131599,
          0.31771002172825,
          0.31788135701802367,
          0.31788135701802367,
          0.3179334469943989,
          0.3183177668094615,
          0.3186733335961336,
          0.3188738321875297,
          0.3198116713465054,
          0.32056319887553625,
          0.3210065881127365,
          0.32143182366379924,
          0.3218726556211807,
          0.32207943004007333,
          0.3224579594229022,
          0.32272035225466733,
          0.32459281184912603,
          0.3246853902478197,
          0.3247576451941633,
          0.3251406564579282,
          0.3252476070039155,
          0.3266025887518252,
          0.32738146978481913,
          0.32770501335018276,
          0.32794617720635183,
          0.3285877379011857,
          0.3287949565388671,
          0.32887759183800863,
          0.32962165435657187,
          0.3296476060146049,
          0.3297966922998164,
          0.3297966922998164,
          0.3306982812230726,
          0.3306982812230726,
          0.3308858140139566,
          0.33096421046455116,
          0.3315000970933915,
          0.33273665958148524,
          0.3333629264972723,
          0.3346286255972329,
          0.3353236075188489,
          0.33597297896222567,
          0.3360326607420561,
          0.3360326607420561,
          0.33618521785993905,
          0.33697098261522224,
          0.337838511819758,
          0.33888096125894007,
          0.3395174019832774,
          0.3426818037222219,
          0.344338678477925,
          0.3451100741968005,
          0.3468576523201101,
          0.34817644396401554,
          0.34846091498033555,
          0.3493341886611557,
          0.3496829898757153,
          0.3500022287037461,
          0.3500770089093968,
          0.35071304567355877,
          0.3511681139479724,
          0.351637973370159,
          0.351637973370159,
          0.35326356369857836,
          0.3554745319006352,
          0.3557334976091751,
          0.3562651805127529,
          0.35676764883223466,
          0.35785069851816204,
          0.358672984832535,
          0.3610516749211826,
          0.36173471449303946,
          0.36249114333095184,
          0.36288341412878755,
          0.3633585342551242,
          0.36432163681641644,
          0.36551003428713125,
          0.3662646529656962,
          0.3665180532698924,
          0.36886371945402685,
          0.36886371945402685,
          0.36958877308007293,
          0.369633762093409,
          0.369853805955864,
          0.3709226454741264,
          0.37113242959972287,
          0.3712895539706982,
          0.3779836601629072,
          0.38312960315047784,
          0.3860211834708033,
          0.38678519464467886,
          0.38735054302146393,
          0.38791913132053535,
          0.3885968301546436,
          0.3885968301546436,
          0.392824585111464,
          0.39498291404662644,
          0.3972533694472387,
          0.3995963485838505,
          0.4041509069255564,
          0.4045988202996154,
          0.4086955187539646,
          0.4094551941180227,
          0.4113554239089222,
          0.4117874691539763,
          0.41261975207447654,
          0.41292342060132425,
          0.41350571210052445,
          0.41437924589179964,
          0.418529484169379,
          0.4201255925482642,
          0.4217995024636727,
          0.43176757594076975,
          0.4472738072998375,
          0.4483891478452776,
          0.4488902713117686,
          0.45972079558703477,
          0.4826171479221905,
          0.48565845459745616,
          0.568663963303876,
          0.599820778300445,
          0.6106539764600174,
          0.6369931690661873,
          0.6380841799344087,
          0.6411259227639353,
          0.6535089791471328,
          0.6637730305298142,
          0.6770191776601417,
          0.6779049416755262,
          0.6930138121546103
         ]
        }
       ],
       "layout": {
        "hovermode": "x unified",
        "template": {
         "data": {
          "bar": [
           {
            "error_x": {
             "color": "#2a3f5f"
            },
            "error_y": {
             "color": "#2a3f5f"
            },
            "marker": {
             "line": {
              "color": "white",
              "width": 0.5
             },
             "pattern": {
              "fillmode": "overlay",
              "size": 10,
              "solidity": 0.2
             }
            },
            "type": "bar"
           }
          ],
          "barpolar": [
           {
            "marker": {
             "line": {
              "color": "white",
              "width": 0.5
             },
             "pattern": {
              "fillmode": "overlay",
              "size": 10,
              "solidity": 0.2
             }
            },
            "type": "barpolar"
           }
          ],
          "carpet": [
           {
            "aaxis": {
             "endlinecolor": "#2a3f5f",
             "gridcolor": "#C8D4E3",
             "linecolor": "#C8D4E3",
             "minorgridcolor": "#C8D4E3",
             "startlinecolor": "#2a3f5f"
            },
            "baxis": {
             "endlinecolor": "#2a3f5f",
             "gridcolor": "#C8D4E3",
             "linecolor": "#C8D4E3",
             "minorgridcolor": "#C8D4E3",
             "startlinecolor": "#2a3f5f"
            },
            "type": "carpet"
           }
          ],
          "choropleth": [
           {
            "colorbar": {
             "outlinewidth": 0,
             "ticks": ""
            },
            "type": "choropleth"
           }
          ],
          "contour": [
           {
            "colorbar": {
             "outlinewidth": 0,
             "ticks": ""
            },
            "colorscale": [
             [
              0,
              "#0d0887"
             ],
             [
              0.1111111111111111,
              "#46039f"
             ],
             [
              0.2222222222222222,
              "#7201a8"
             ],
             [
              0.3333333333333333,
              "#9c179e"
             ],
             [
              0.4444444444444444,
              "#bd3786"
             ],
             [
              0.5555555555555556,
              "#d8576b"
             ],
             [
              0.6666666666666666,
              "#ed7953"
             ],
             [
              0.7777777777777778,
              "#fb9f3a"
             ],
             [
              0.8888888888888888,
              "#fdca26"
             ],
             [
              1,
              "#f0f921"
             ]
            ],
            "type": "contour"
           }
          ],
          "contourcarpet": [
           {
            "colorbar": {
             "outlinewidth": 0,
             "ticks": ""
            },
            "type": "contourcarpet"
           }
          ],
          "heatmap": [
           {
            "colorbar": {
             "outlinewidth": 0,
             "ticks": ""
            },
            "colorscale": [
             [
              0,
              "#0d0887"
             ],
             [
              0.1111111111111111,
              "#46039f"
             ],
             [
              0.2222222222222222,
              "#7201a8"
             ],
             [
              0.3333333333333333,
              "#9c179e"
             ],
             [
              0.4444444444444444,
              "#bd3786"
             ],
             [
              0.5555555555555556,
              "#d8576b"
             ],
             [
              0.6666666666666666,
              "#ed7953"
             ],
             [
              0.7777777777777778,
              "#fb9f3a"
             ],
             [
              0.8888888888888888,
              "#fdca26"
             ],
             [
              1,
              "#f0f921"
             ]
            ],
            "type": "heatmap"
           }
          ],
          "heatmapgl": [
           {
            "colorbar": {
             "outlinewidth": 0,
             "ticks": ""
            },
            "colorscale": [
             [
              0,
              "#0d0887"
             ],
             [
              0.1111111111111111,
              "#46039f"
             ],
             [
              0.2222222222222222,
              "#7201a8"
             ],
             [
              0.3333333333333333,
              "#9c179e"
             ],
             [
              0.4444444444444444,
              "#bd3786"
             ],
             [
              0.5555555555555556,
              "#d8576b"
             ],
             [
              0.6666666666666666,
              "#ed7953"
             ],
             [
              0.7777777777777778,
              "#fb9f3a"
             ],
             [
              0.8888888888888888,
              "#fdca26"
             ],
             [
              1,
              "#f0f921"
             ]
            ],
            "type": "heatmapgl"
           }
          ],
          "histogram": [
           {
            "marker": {
             "pattern": {
              "fillmode": "overlay",
              "size": 10,
              "solidity": 0.2
             }
            },
            "type": "histogram"
           }
          ],
          "histogram2d": [
           {
            "colorbar": {
             "outlinewidth": 0,
             "ticks": ""
            },
            "colorscale": [
             [
              0,
              "#0d0887"
             ],
             [
              0.1111111111111111,
              "#46039f"
             ],
             [
              0.2222222222222222,
              "#7201a8"
             ],
             [
              0.3333333333333333,
              "#9c179e"
             ],
             [
              0.4444444444444444,
              "#bd3786"
             ],
             [
              0.5555555555555556,
              "#d8576b"
             ],
             [
              0.6666666666666666,
              "#ed7953"
             ],
             [
              0.7777777777777778,
              "#fb9f3a"
             ],
             [
              0.8888888888888888,
              "#fdca26"
             ],
             [
              1,
              "#f0f921"
             ]
            ],
            "type": "histogram2d"
           }
          ],
          "histogram2dcontour": [
           {
            "colorbar": {
             "outlinewidth": 0,
             "ticks": ""
            },
            "colorscale": [
             [
              0,
              "#0d0887"
             ],
             [
              0.1111111111111111,
              "#46039f"
             ],
             [
              0.2222222222222222,
              "#7201a8"
             ],
             [
              0.3333333333333333,
              "#9c179e"
             ],
             [
              0.4444444444444444,
              "#bd3786"
             ],
             [
              0.5555555555555556,
              "#d8576b"
             ],
             [
              0.6666666666666666,
              "#ed7953"
             ],
             [
              0.7777777777777778,
              "#fb9f3a"
             ],
             [
              0.8888888888888888,
              "#fdca26"
             ],
             [
              1,
              "#f0f921"
             ]
            ],
            "type": "histogram2dcontour"
           }
          ],
          "mesh3d": [
           {
            "colorbar": {
             "outlinewidth": 0,
             "ticks": ""
            },
            "type": "mesh3d"
           }
          ],
          "parcoords": [
           {
            "line": {
             "colorbar": {
              "outlinewidth": 0,
              "ticks": ""
             }
            },
            "type": "parcoords"
           }
          ],
          "pie": [
           {
            "automargin": true,
            "type": "pie"
           }
          ],
          "scatter": [
           {
            "fillpattern": {
             "fillmode": "overlay",
             "size": 10,
             "solidity": 0.2
            },
            "type": "scatter"
           }
          ],
          "scatter3d": [
           {
            "line": {
             "colorbar": {
              "outlinewidth": 0,
              "ticks": ""
             }
            },
            "marker": {
             "colorbar": {
              "outlinewidth": 0,
              "ticks": ""
             }
            },
            "type": "scatter3d"
           }
          ],
          "scattercarpet": [
           {
            "marker": {
             "colorbar": {
              "outlinewidth": 0,
              "ticks": ""
             }
            },
            "type": "scattercarpet"
           }
          ],
          "scattergeo": [
           {
            "marker": {
             "colorbar": {
              "outlinewidth": 0,
              "ticks": ""
             }
            },
            "type": "scattergeo"
           }
          ],
          "scattergl": [
           {
            "marker": {
             "colorbar": {
              "outlinewidth": 0,
              "ticks": ""
             }
            },
            "type": "scattergl"
           }
          ],
          "scattermapbox": [
           {
            "marker": {
             "colorbar": {
              "outlinewidth": 0,
              "ticks": ""
             }
            },
            "type": "scattermapbox"
           }
          ],
          "scatterpolar": [
           {
            "marker": {
             "colorbar": {
              "outlinewidth": 0,
              "ticks": ""
             }
            },
            "type": "scatterpolar"
           }
          ],
          "scatterpolargl": [
           {
            "marker": {
             "colorbar": {
              "outlinewidth": 0,
              "ticks": ""
             }
            },
            "type": "scatterpolargl"
           }
          ],
          "scatterternary": [
           {
            "marker": {
             "colorbar": {
              "outlinewidth": 0,
              "ticks": ""
             }
            },
            "type": "scatterternary"
           }
          ],
          "surface": [
           {
            "colorbar": {
             "outlinewidth": 0,
             "ticks": ""
            },
            "colorscale": [
             [
              0,
              "#0d0887"
             ],
             [
              0.1111111111111111,
              "#46039f"
             ],
             [
              0.2222222222222222,
              "#7201a8"
             ],
             [
              0.3333333333333333,
              "#9c179e"
             ],
             [
              0.4444444444444444,
              "#bd3786"
             ],
             [
              0.5555555555555556,
              "#d8576b"
             ],
             [
              0.6666666666666666,
              "#ed7953"
             ],
             [
              0.7777777777777778,
              "#fb9f3a"
             ],
             [
              0.8888888888888888,
              "#fdca26"
             ],
             [
              1,
              "#f0f921"
             ]
            ],
            "type": "surface"
           }
          ],
          "table": [
           {
            "cells": {
             "fill": {
              "color": "#EBF0F8"
             },
             "line": {
              "color": "white"
             }
            },
            "header": {
             "fill": {
              "color": "#C8D4E3"
             },
             "line": {
              "color": "white"
             }
            },
            "type": "table"
           }
          ]
         },
         "layout": {
          "annotationdefaults": {
           "arrowcolor": "#2a3f5f",
           "arrowhead": 0,
           "arrowwidth": 1
          },
          "autotypenumbers": "strict",
          "coloraxis": {
           "colorbar": {
            "outlinewidth": 0,
            "ticks": ""
           }
          },
          "colorscale": {
           "diverging": [
            [
             0,
             "#8e0152"
            ],
            [
             0.1,
             "#c51b7d"
            ],
            [
             0.2,
             "#de77ae"
            ],
            [
             0.3,
             "#f1b6da"
            ],
            [
             0.4,
             "#fde0ef"
            ],
            [
             0.5,
             "#f7f7f7"
            ],
            [
             0.6,
             "#e6f5d0"
            ],
            [
             0.7,
             "#b8e186"
            ],
            [
             0.8,
             "#7fbc41"
            ],
            [
             0.9,
             "#4d9221"
            ],
            [
             1,
             "#276419"
            ]
           ],
           "sequential": [
            [
             0,
             "#0d0887"
            ],
            [
             0.1111111111111111,
             "#46039f"
            ],
            [
             0.2222222222222222,
             "#7201a8"
            ],
            [
             0.3333333333333333,
             "#9c179e"
            ],
            [
             0.4444444444444444,
             "#bd3786"
            ],
            [
             0.5555555555555556,
             "#d8576b"
            ],
            [
             0.6666666666666666,
             "#ed7953"
            ],
            [
             0.7777777777777778,
             "#fb9f3a"
            ],
            [
             0.8888888888888888,
             "#fdca26"
            ],
            [
             1,
             "#f0f921"
            ]
           ],
           "sequentialminus": [
            [
             0,
             "#0d0887"
            ],
            [
             0.1111111111111111,
             "#46039f"
            ],
            [
             0.2222222222222222,
             "#7201a8"
            ],
            [
             0.3333333333333333,
             "#9c179e"
            ],
            [
             0.4444444444444444,
             "#bd3786"
            ],
            [
             0.5555555555555556,
             "#d8576b"
            ],
            [
             0.6666666666666666,
             "#ed7953"
            ],
            [
             0.7777777777777778,
             "#fb9f3a"
            ],
            [
             0.8888888888888888,
             "#fdca26"
            ],
            [
             1,
             "#f0f921"
            ]
           ]
          },
          "colorway": [
           "#636efa",
           "#EF553B",
           "#00cc96",
           "#ab63fa",
           "#FFA15A",
           "#19d3f3",
           "#FF6692",
           "#B6E880",
           "#FF97FF",
           "#FECB52"
          ],
          "font": {
           "color": "#2a3f5f"
          },
          "geo": {
           "bgcolor": "white",
           "lakecolor": "white",
           "landcolor": "white",
           "showlakes": true,
           "showland": true,
           "subunitcolor": "#C8D4E3"
          },
          "hoverlabel": {
           "align": "left"
          },
          "hovermode": "closest",
          "mapbox": {
           "style": "light"
          },
          "paper_bgcolor": "white",
          "plot_bgcolor": "white",
          "polar": {
           "angularaxis": {
            "gridcolor": "#EBF0F8",
            "linecolor": "#EBF0F8",
            "ticks": ""
           },
           "bgcolor": "white",
           "radialaxis": {
            "gridcolor": "#EBF0F8",
            "linecolor": "#EBF0F8",
            "ticks": ""
           }
          },
          "scene": {
           "xaxis": {
            "backgroundcolor": "white",
            "gridcolor": "#DFE8F3",
            "gridwidth": 2,
            "linecolor": "#EBF0F8",
            "showbackground": true,
            "ticks": "",
            "zerolinecolor": "#EBF0F8"
           },
           "yaxis": {
            "backgroundcolor": "white",
            "gridcolor": "#DFE8F3",
            "gridwidth": 2,
            "linecolor": "#EBF0F8",
            "showbackground": true,
            "ticks": "",
            "zerolinecolor": "#EBF0F8"
           },
           "zaxis": {
            "backgroundcolor": "white",
            "gridcolor": "#DFE8F3",
            "gridwidth": 2,
            "linecolor": "#EBF0F8",
            "showbackground": true,
            "ticks": "",
            "zerolinecolor": "#EBF0F8"
           }
          },
          "shapedefaults": {
           "line": {
            "color": "#2a3f5f"
           }
          },
          "ternary": {
           "aaxis": {
            "gridcolor": "#DFE8F3",
            "linecolor": "#A2B1C6",
            "ticks": ""
           },
           "baxis": {
            "gridcolor": "#DFE8F3",
            "linecolor": "#A2B1C6",
            "ticks": ""
           },
           "bgcolor": "white",
           "caxis": {
            "gridcolor": "#DFE8F3",
            "linecolor": "#A2B1C6",
            "ticks": ""
           }
          },
          "title": {
           "x": 0.05
          },
          "xaxis": {
           "automargin": true,
           "gridcolor": "#EBF0F8",
           "linecolor": "#EBF0F8",
           "ticks": "",
           "title": {
            "standoff": 15
           },
           "zerolinecolor": "#EBF0F8",
           "zerolinewidth": 2
          },
          "yaxis": {
           "automargin": true,
           "gridcolor": "#EBF0F8",
           "linecolor": "#EBF0F8",
           "ticks": "",
           "title": {
            "standoff": 15
           },
           "zerolinecolor": "#EBF0F8",
           "zerolinewidth": 2
          }
         }
        },
        "title": {
         "text": "k-Distance Graph for PCA"
        },
        "xaxis": {
         "gridcolor": "lightgrey",
         "gridwidth": 1,
         "showgrid": true,
         "title": {
          "text": "Points sorted by distance"
         }
        },
        "yaxis": {
         "gridcolor": "lightgrey",
         "gridwidth": 1,
         "showgrid": true,
         "title": {
          "text": "Distance to 10th Nearest Neighbor"
         }
        }
       }
      }
     },
     "metadata": {},
     "output_type": "display_data"
    },
    {
     "data": {
      "application/vnd.plotly.v1+json": {
       "config": {
        "plotlyServerURL": "https://plot.ly"
       },
       "data": [
        {
         "line": {
          "color": "blue"
         },
         "mode": "lines",
         "name": "k-distance",
         "type": "scatter",
         "x": [
          1,
          2,
          3,
          4,
          5,
          6,
          7,
          8,
          9,
          10,
          11,
          12,
          13,
          14,
          15,
          16,
          17,
          18,
          19,
          20,
          21,
          22,
          23,
          24,
          25,
          26,
          27,
          28,
          29,
          30,
          31,
          32,
          33,
          34,
          35,
          36,
          37,
          38,
          39,
          40,
          41,
          42,
          43,
          44,
          45,
          46,
          47,
          48,
          49,
          50,
          51,
          52,
          53,
          54,
          55,
          56,
          57,
          58,
          59,
          60,
          61,
          62,
          63,
          64,
          65,
          66,
          67,
          68,
          69,
          70,
          71,
          72,
          73,
          74,
          75,
          76,
          77,
          78,
          79,
          80,
          81,
          82,
          83,
          84,
          85,
          86,
          87,
          88,
          89,
          90,
          91,
          92,
          93,
          94,
          95,
          96,
          97,
          98,
          99,
          100,
          101,
          102,
          103,
          104,
          105,
          106,
          107,
          108,
          109,
          110,
          111,
          112,
          113,
          114,
          115,
          116,
          117,
          118,
          119,
          120,
          121,
          122,
          123,
          124,
          125,
          126,
          127,
          128,
          129,
          130,
          131,
          132,
          133,
          134,
          135,
          136,
          137,
          138,
          139,
          140,
          141,
          142,
          143,
          144,
          145,
          146,
          147,
          148,
          149,
          150,
          151,
          152,
          153,
          154,
          155,
          156,
          157,
          158,
          159,
          160,
          161,
          162,
          163,
          164,
          165,
          166,
          167,
          168,
          169,
          170,
          171,
          172,
          173,
          174,
          175,
          176,
          177,
          178,
          179,
          180,
          181,
          182,
          183,
          184,
          185,
          186,
          187,
          188,
          189,
          190,
          191,
          192,
          193,
          194,
          195,
          196,
          197,
          198,
          199,
          200,
          201,
          202,
          203,
          204,
          205,
          206,
          207,
          208,
          209,
          210,
          211,
          212,
          213,
          214,
          215,
          216,
          217,
          218,
          219,
          220,
          221,
          222,
          223,
          224,
          225,
          226,
          227,
          228,
          229,
          230,
          231,
          232,
          233,
          234,
          235,
          236,
          237,
          238,
          239,
          240,
          241,
          242,
          243,
          244,
          245,
          246,
          247,
          248,
          249,
          250,
          251,
          252,
          253,
          254,
          255,
          256,
          257,
          258,
          259,
          260,
          261,
          262,
          263,
          264,
          265,
          266,
          267,
          268,
          269,
          270,
          271,
          272,
          273,
          274,
          275,
          276,
          277,
          278,
          279,
          280,
          281,
          282,
          283,
          284,
          285,
          286,
          287,
          288,
          289,
          290,
          291,
          292,
          293,
          294,
          295,
          296,
          297,
          298,
          299,
          300,
          301,
          302,
          303,
          304,
          305,
          306,
          307,
          308,
          309,
          310,
          311,
          312,
          313,
          314,
          315,
          316,
          317,
          318,
          319,
          320,
          321,
          322,
          323,
          324,
          325,
          326,
          327,
          328,
          329,
          330,
          331,
          332,
          333,
          334,
          335,
          336,
          337,
          338,
          339,
          340,
          341,
          342,
          343,
          344,
          345,
          346,
          347,
          348,
          349,
          350,
          351,
          352,
          353,
          354,
          355,
          356,
          357,
          358,
          359,
          360,
          361,
          362,
          363,
          364,
          365,
          366,
          367,
          368,
          369,
          370,
          371,
          372,
          373,
          374,
          375,
          376,
          377,
          378,
          379,
          380,
          381,
          382,
          383,
          384,
          385,
          386,
          387,
          388,
          389,
          390,
          391,
          392,
          393,
          394,
          395,
          396,
          397,
          398,
          399,
          400,
          401,
          402,
          403,
          404,
          405,
          406,
          407,
          408,
          409,
          410,
          411,
          412,
          413,
          414,
          415,
          416,
          417,
          418,
          419,
          420,
          421,
          422,
          423,
          424,
          425,
          426,
          427,
          428,
          429,
          430,
          431,
          432,
          433,
          434,
          435,
          436,
          437,
          438,
          439,
          440,
          441,
          442,
          443,
          444,
          445,
          446,
          447,
          448,
          449,
          450,
          451,
          452,
          453,
          454,
          455,
          456,
          457,
          458,
          459,
          460,
          461,
          462,
          463,
          464,
          465,
          466,
          467,
          468,
          469,
          470,
          471,
          472,
          473,
          474,
          475,
          476,
          477,
          478,
          479,
          480,
          481,
          482,
          483,
          484,
          485,
          486,
          487,
          488,
          489,
          490,
          491,
          492,
          493,
          494,
          495,
          496,
          497,
          498,
          499,
          500,
          501,
          502,
          503,
          504,
          505,
          506,
          507,
          508,
          509,
          510,
          511,
          512,
          513,
          514,
          515,
          516,
          517,
          518,
          519,
          520,
          521,
          522,
          523,
          524,
          525,
          526,
          527,
          528,
          529,
          530,
          531,
          532,
          533,
          534,
          535,
          536,
          537,
          538,
          539,
          540,
          541,
          542,
          543,
          544,
          545,
          546,
          547,
          548,
          549,
          550,
          551,
          552,
          553,
          554,
          555,
          556,
          557,
          558,
          559,
          560,
          561,
          562,
          563,
          564,
          565,
          566,
          567,
          568,
          569,
          570,
          571,
          572,
          573,
          574,
          575,
          576,
          577,
          578,
          579,
          580,
          581,
          582,
          583,
          584,
          585,
          586,
          587,
          588,
          589,
          590,
          591,
          592,
          593,
          594,
          595,
          596,
          597,
          598,
          599,
          600,
          601,
          602,
          603,
          604,
          605,
          606,
          607,
          608,
          609,
          610,
          611,
          612,
          613,
          614,
          615,
          616,
          617,
          618,
          619,
          620,
          621,
          622,
          623,
          624,
          625,
          626,
          627,
          628,
          629,
          630,
          631,
          632,
          633,
          634,
          635,
          636,
          637,
          638,
          639,
          640,
          641,
          642,
          643,
          644,
          645,
          646,
          647,
          648,
          649,
          650,
          651,
          652,
          653,
          654,
          655,
          656,
          657,
          658,
          659,
          660,
          661,
          662,
          663,
          664,
          665,
          666,
          667,
          668,
          669,
          670,
          671,
          672,
          673,
          674,
          675,
          676,
          677,
          678,
          679,
          680,
          681,
          682,
          683,
          684,
          685,
          686,
          687,
          688,
          689,
          690,
          691,
          692,
          693,
          694,
          695,
          696,
          697,
          698,
          699,
          700,
          701,
          702,
          703,
          704,
          705,
          706,
          707,
          708,
          709,
          710,
          711,
          712,
          713,
          714,
          715,
          716,
          717,
          718,
          719,
          720,
          721,
          722,
          723,
          724,
          725,
          726,
          727,
          728,
          729,
          730,
          731,
          732,
          733,
          734,
          735,
          736,
          737,
          738,
          739,
          740,
          741,
          742,
          743,
          744,
          745,
          746,
          747,
          748,
          749,
          750,
          751,
          752,
          753,
          754,
          755,
          756,
          757,
          758,
          759,
          760,
          761,
          762,
          763,
          764,
          765,
          766,
          767,
          768,
          769,
          770,
          771,
          772,
          773,
          774,
          775,
          776,
          777,
          778,
          779,
          780,
          781,
          782,
          783,
          784,
          785,
          786,
          787,
          788,
          789,
          790,
          791,
          792,
          793,
          794,
          795,
          796,
          797,
          798,
          799,
          800,
          801,
          802,
          803,
          804,
          805,
          806,
          807,
          808,
          809,
          810,
          811,
          812,
          813,
          814,
          815,
          816,
          817,
          818,
          819,
          820,
          821,
          822,
          823,
          824,
          825,
          826,
          827,
          828,
          829,
          830,
          831,
          832,
          833,
          834,
          835,
          836,
          837,
          838,
          839,
          840,
          841,
          842,
          843,
          844,
          845,
          846,
          847,
          848,
          849,
          850,
          851,
          852,
          853,
          854,
          855,
          856,
          857,
          858,
          859,
          860,
          861,
          862,
          863,
          864,
          865,
          866,
          867,
          868,
          869,
          870,
          871,
          872,
          873,
          874,
          875,
          876,
          877,
          878,
          879,
          880,
          881,
          882,
          883,
          884,
          885,
          886,
          887,
          888,
          889,
          890,
          891,
          892,
          893,
          894,
          895,
          896,
          897,
          898,
          899,
          900,
          901,
          902,
          903,
          904,
          905,
          906,
          907,
          908,
          909,
          910,
          911,
          912,
          913,
          914,
          915,
          916,
          917,
          918,
          919,
          920,
          921,
          922,
          923,
          924,
          925,
          926,
          927,
          928,
          929,
          930,
          931,
          932,
          933,
          934,
          935,
          936,
          937,
          938,
          939,
          940,
          941,
          942,
          943,
          944,
          945,
          946,
          947,
          948,
          949,
          950,
          951,
          952,
          953,
          954,
          955,
          956,
          957,
          958,
          959,
          960,
          961,
          962,
          963,
          964,
          965,
          966,
          967,
          968,
          969,
          970,
          971,
          972,
          973,
          974,
          975,
          976,
          977,
          978,
          979,
          980,
          981,
          982,
          983,
          984,
          985,
          986,
          987,
          988,
          989,
          990,
          991,
          992,
          993,
          994,
          995,
          996,
          997,
          998,
          999,
          1000
         ],
         "y": [
          0.09945268353904695,
          0.10365814553155672,
          0.11131671907851103,
          0.11245693325026403,
          0.11936819850450213,
          0.12016504761780776,
          0.12041471843701952,
          0.12041471843701952,
          0.1211041765063861,
          0.12143058493332279,
          0.12174753503966894,
          0.12462980766113643,
          0.12731997970102696,
          0.1285717555498777,
          0.12897817163476907,
          0.13041794654807407,
          0.1308083391319153,
          0.13248577885266194,
          0.13399781314396264,
          0.1342450205751239,
          0.13426604591516705,
          0.1343884442169067,
          0.13524524793489087,
          0.13525914681938075,
          0.13616870933381917,
          0.13616870933381917,
          0.13759838478455158,
          0.1377011894235834,
          0.1377011894235834,
          0.13872683454082047,
          0.13883088154241213,
          0.13932293659555847,
          0.1401163775347061,
          0.14044538543963425,
          0.14092032269639546,
          0.14152350604741085,
          0.14232243116925758,
          0.14256091110287947,
          0.14332595219158,
          0.14386650179240523,
          0.14445245906884738,
          0.14475656763412606,
          0.14530369901951923,
          0.14559643382671006,
          0.14644527519797035,
          0.14652835645334555,
          0.14679516563218126,
          0.14701810597071072,
          0.14779952773794228,
          0.1485739152131079,
          0.14859780272090084,
          0.14866160156508001,
          0.14926097264425328,
          0.1494478577932963,
          0.15105962268502207,
          0.15135052954380962,
          0.15136351848028093,
          0.151497600093495,
          0.15152215451794662,
          0.15172062022430402,
          0.151876850588633,
          0.1522004134566488,
          0.1525781378984372,
          0.152796084514604,
          0.1530246946648722,
          0.1531733924735868,
          0.1531733924735868,
          0.1531959826498878,
          0.1532134711101485,
          0.15325291938069463,
          0.15360842617267315,
          0.15412106190118313,
          0.15421604092429095,
          0.1545282480021149,
          0.15487614987307857,
          0.15500680924926946,
          0.1550646534822881,
          0.1554600387395941,
          0.1557665212853281,
          0.15621211901392562,
          0.15641871976669192,
          0.1564925385909501,
          0.1568965862849124,
          0.1573403409577001,
          0.1575189723979227,
          0.15755508770777604,
          0.15792009113262312,
          0.15810228950638114,
          0.15812795447322373,
          0.15817152284839128,
          0.15863186344422964,
          0.15875155086037204,
          0.1589041373940899,
          0.15890649323840286,
          0.15906164456131716,
          0.15941464906311575,
          0.15961913986530593,
          0.16033450316219422,
          0.16076056592506224,
          0.16079120862298124,
          0.16157500982272882,
          0.1616040236118022,
          0.1616040236118022,
          0.1617301517285686,
          0.16248734519958116,
          0.16265467626126354,
          0.16267543354762878,
          0.16282995809151224,
          0.1628392028349055,
          0.16352234378774502,
          0.16380486264974584,
          0.1642697443540768,
          0.16436365627728586,
          0.16437063210893327,
          0.16455741125245008,
          0.1654362626112801,
          0.16614005425632822,
          0.16615275616090078,
          0.1666331091352999,
          0.1669845650260821,
          0.16712986641185007,
          0.1675109749945554,
          0.1676444992383471,
          0.16780789929612236,
          0.16798561011792876,
          0.16802149914854547,
          0.16815415143839285,
          0.1683956249362003,
          0.1683987018179778,
          0.16843342326010083,
          0.16895386559677708,
          0.16916418244499215,
          0.16961213382243692,
          0.16961213382243692,
          0.16980006688791166,
          0.16998689893817287,
          0.17000888430416794,
          0.170828453395255,
          0.1711585248969474,
          0.1712386853035534,
          0.17151200870354416,
          0.17168937319525257,
          0.1723579132615384,
          0.17254758661813863,
          0.1725696990717606,
          0.17267365195658546,
          0.1730043866272592,
          0.17323995299339495,
          0.17335053299192454,
          0.17341705138477143,
          0.1734235648246314,
          0.17348373429079925,
          0.17353811866461413,
          0.17363758214841216,
          0.17379366149407938,
          0.17390096865958954,
          0.1740739005165719,
          0.17408547855214385,
          0.17421740782985265,
          0.17459477362468823,
          0.17468813001596437,
          0.17471571268955025,
          0.17473547983840293,
          0.1752819516007784,
          0.1753089296491728,
          0.17539817133505356,
          0.17563740887614324,
          0.1760670772719532,
          0.17629737830082606,
          0.17647845244544236,
          0.17649240004395136,
          0.17671407884571044,
          0.17709120690136895,
          0.17722638158247164,
          0.17726304468246404,
          0.17731431664604635,
          0.17731832860447574,
          0.17746601686649788,
          0.1776723375027247,
          0.1776723375027247,
          0.17790052366704837,
          0.17791476494011763,
          0.17870499452529046,
          0.17873038454339196,
          0.17875685720371615,
          0.1787858146441985,
          0.1788175342707753,
          0.17892359424364235,
          0.17894845340806623,
          0.1789886515306064,
          0.17918723777417278,
          0.1793594201915819,
          0.1796949742668123,
          0.18002787901349337,
          0.1800610520293176,
          0.18011002986281144,
          0.18051387295505722,
          0.180854449334998,
          0.18094097500355782,
          0.1809666007730506,
          0.18100663291863212,
          0.18116239309127039,
          0.1813998025770351,
          0.18142493464911838,
          0.18143099976714064,
          0.18143099976714064,
          0.18144503517228902,
          0.1815941285775678,
          0.18174966027713846,
          0.18178482563648535,
          0.181813616031146,
          0.18218874970079385,
          0.18220867761557538,
          0.18261812358819413,
          0.182768727628042,
          0.18285328665302805,
          0.18288915419904636,
          0.18293772583470216,
          0.18303377710093782,
          0.18340585389304,
          0.18347928242488112,
          0.18363726367142444,
          0.1836654069403326,
          0.18369667344231888,
          0.18378474628869398,
          0.18386788651926236,
          0.18447350104397434,
          0.18485965376529861,
          0.18492368524133862,
          0.18497474787654922,
          0.18527843475552777,
          0.18579330583608708,
          0.18611389711333517,
          0.18645297982221773,
          0.18645763089059061,
          0.18669825907054738,
          0.1867349680291212,
          0.18678213815925618,
          0.18678213815925618,
          0.18685815045431395,
          0.18686863107955573,
          0.18689621755516886,
          0.18792803482175732,
          0.18806548863952938,
          0.18816427449344197,
          0.18822169252429988,
          0.18831891405983808,
          0.18833142192473715,
          0.18849015783391343,
          0.18857906924047335,
          0.18897805998929082,
          0.1891191824286768,
          0.18922886498530792,
          0.18922886498530792,
          0.18997525310694516,
          0.1900939748058594,
          0.19027210835106018,
          0.19031235883071917,
          0.19033661495101664,
          0.19051838084541384,
          0.19051838084541384,
          0.19110716460360855,
          0.19128284959065767,
          0.19139488611972363,
          0.19139973184741435,
          0.19186307414941342,
          0.19217443729277597,
          0.19224796804769045,
          0.19230057974637443,
          0.1929909897333878,
          0.19302727384473536,
          0.19314957807766475,
          0.19358461523420753,
          0.19370912302321275,
          0.1937700292591457,
          0.19377921617698002,
          0.19407577772092666,
          0.19472853923840922,
          0.1949954675530456,
          0.1949954675530456,
          0.19518319655875976,
          0.1952109271446922,
          0.19527513392668916,
          0.19539036228261772,
          0.1954418653006816,
          0.19586973145474484,
          0.19589287191643187,
          0.19611060968573815,
          0.19615552431872174,
          0.19615552431872174,
          0.19619098636298812,
          0.19624021451240886,
          0.1964775947067668,
          0.1964775947067668,
          0.19655991952729734,
          0.19658033380783121,
          0.19667338074606308,
          0.1967346119600258,
          0.19726445042044854,
          0.19760084474844822,
          0.19767280047582803,
          0.19768716671574404,
          0.19811416926802908,
          0.19840451136710202,
          0.198550336062161,
          0.19862127594027454,
          0.19891410299803458,
          0.19891410299803458,
          0.19926370750004208,
          0.19970590704713714,
          0.20010838870265787,
          0.2005099509424599,
          0.20061739849701726,
          0.20068011169864863,
          0.20074985844284415,
          0.20079166467809453,
          0.20095625900732275,
          0.2015984603005256,
          0.2017973800898315,
          0.20193237795786775,
          0.2019523725123641,
          0.2020614983250586,
          0.20208234790335447,
          0.20216552273165012,
          0.2023359281584422,
          0.20245372848532134,
          0.20259055330888648,
          0.20259055330888648,
          0.2034145639087598,
          0.2034145639087598,
          0.2037618746138289,
          0.20383875733335494,
          0.20429441291296102,
          0.2042985655518293,
          0.2048089074019181,
          0.2048089074019181,
          0.2048262388927633,
          0.20487730154087558,
          0.2055762294100817,
          0.20559577406831175,
          0.2058547829403487,
          0.20612873081775984,
          0.20630857411167342,
          0.20635262760664594,
          0.2064225750966492,
          0.20698772311568064,
          0.20739575984806047,
          0.20754704931271387,
          0.20762263216816562,
          0.20778057646020728,
          0.20781873262717593,
          0.20794939896179715,
          0.20812465227109386,
          0.20849294307964583,
          0.20880663270203328,
          0.20887600501481485,
          0.2090504268880264,
          0.20995688194819376,
          0.21093143791506136,
          0.2109720895349423,
          0.2114641763178462,
          0.21160690528142823,
          0.21160690528142823,
          0.21166428661385753,
          0.21173402488835036,
          0.21186574318433155,
          0.2119006931738392,
          0.21191944441437868,
          0.2125910595839277,
          0.21278141536062217,
          0.21307869640709295,
          0.21332924671638157,
          0.21347188177377918,
          0.21347188177377918,
          0.21347378415806484,
          0.21352389215175874,
          0.21359501100763023,
          0.21364205969077976,
          0.21384706042576213,
          0.2142144818475648,
          0.214248981106702,
          0.21498567800722937,
          0.21506012787579817,
          0.21526724266409714,
          0.21539123966802562,
          0.21575556262337728,
          0.2165166768571532,
          0.21678778790529013,
          0.21680755548217062,
          0.21680755548217062,
          0.21681251369971366,
          0.21701083742083904,
          0.21713671870872828,
          0.2172750047315588,
          0.21758649570314745,
          0.21801092886486212,
          0.21862608720362278,
          0.2189152385866805,
          0.21935160664755576,
          0.2194164183020318,
          0.21952932312475454,
          0.21954100232240498,
          0.21972492245594188,
          0.22057537500679258,
          0.22093530707849637,
          0.2211856181240832,
          0.22121240138701437,
          0.22123066384986884,
          0.2212614708566534,
          0.22130265457870282,
          0.22143825396356442,
          0.22170448186684347,
          0.22226480059895032,
          0.22236651953958184,
          0.22293502830620363,
          0.2232473260870007,
          0.22363004250198812,
          0.22412025210020167,
          0.224289209873679,
          0.22435370798609866,
          0.22435370798609866,
          0.22478214539250696,
          0.2247843516028845,
          0.2248138203537175,
          0.22494047771592812,
          0.22581774507702346,
          0.226430872372034,
          0.22649129451881975,
          0.22654156960225172,
          0.2266183338976527,
          0.22667474263266338,
          0.22668615425421892,
          0.22759567227340036,
          0.2277400168342829,
          0.22789821605890198,
          0.22814897836584513,
          0.22823771136794452,
          0.22824498991245276,
          0.2286694636573547,
          0.22884524949104978,
          0.22951176700758552,
          0.22965693605292475,
          0.2296819975321785,
          0.22977316397171285,
          0.22998605802706412,
          0.23001371500077616,
          0.23052375876070508,
          0.23058181171907374,
          0.23081089643564098,
          0.23087844969987853,
          0.23128684520300238,
          0.23154744323212575,
          0.23219199206461832,
          0.23245559323297135,
          0.232890020305058,
          0.2329320101261242,
          0.23305731930409893,
          0.23380642465310425,
          0.23407481538045,
          0.23432367084297687,
          0.23454167472897083,
          0.23528298493672553,
          0.23544323488185817,
          0.23544521050565476,
          0.2354731353438899,
          0.2354989709597021,
          0.23566207071805434,
          0.23579447956618843,
          0.23589541794432986,
          0.23622931766427172,
          0.2368852593922682,
          0.2382702050681915,
          0.23837586711906206,
          0.23895727779819984,
          0.23903746814524746,
          0.23914940762863954,
          0.24007733575134715,
          0.2401889768147099,
          0.2402172702947277,
          0.24027602696986483,
          0.2415151336805569,
          0.24227634841480344,
          0.24257580671408513,
          0.24262621449419208,
          0.2426285403346087,
          0.24269377146734827,
          0.24300246467913925,
          0.24308271665068643,
          0.24309839363145216,
          0.24344462945507428,
          0.24364319423432051,
          0.24422032668172622,
          0.24422032668172622,
          0.24426305978061683,
          0.24428957998937362,
          0.24463536652857862,
          0.2449891510152555,
          0.24502257826094548,
          0.24598080237738473,
          0.24610963347071407,
          0.24646612362584197,
          0.2466782344004314,
          0.2466782344004314,
          0.2474705593715923,
          0.24755025036280565,
          0.24766056406174022,
          0.2477688572631507,
          0.24846645104808746,
          0.24874319675180867,
          0.24895581109993553,
          0.24901014430583007,
          0.2490301732397012,
          0.24934026108092303,
          0.24942705841366522,
          0.24997005335335684,
          0.25013126683088455,
          0.25013126683088455,
          0.2501905828157722,
          0.25021005982521427,
          0.2502496286220643,
          0.2506216747413265,
          0.25092082266660537,
          0.2512365794708157,
          0.2512681212088491,
          0.2513643600844054,
          0.2514336592812843,
          0.2514336592812843,
          0.25208520286214087,
          0.25213594356470287,
          0.25242992747280685,
          0.2527480610829976,
          0.252874198032268,
          0.25306870733360803,
          0.25307995730493216,
          0.253497384523072,
          0.25376285166799284,
          0.2537991247625171,
          0.25413619288783323,
          0.2546029831621672,
          0.25471116802433996,
          0.2547708263105563,
          0.25549014324509967,
          0.25585001698272875,
          0.2561374609473738,
          0.25686646461344836,
          0.25706010345511077,
          0.25715809960130254,
          0.2571589281509279,
          0.2575617571539827,
          0.2575748839145725,
          0.2581909642989518,
          0.2582588354957689,
          0.2583794399306655,
          0.2588454306228066,
          0.2594903120805086,
          0.2595811996103732,
          0.25977746211196734,
          0.2600728096022773,
          0.260423899131644,
          0.2607227915349812,
          0.26074181390250606,
          0.2608957718476914,
          0.2617059826198681,
          0.26180981882907833,
          0.2618391628769245,
          0.2630532916352106,
          0.26360705687285263,
          0.26385971003691955,
          0.2639376499550829,
          0.26476057244920814,
          0.265214459507255,
          0.265873231428527,
          0.2676452793090508,
          0.2676703005923876,
          0.26871182944788286,
          0.269232646985073,
          0.26924998336916334,
          0.2693734964594975,
          0.26968134910273306,
          0.2697116707055872,
          0.26972769229165444,
          0.26972769229165444,
          0.2697366674158064,
          0.2697366674158064,
          0.2699352799689135,
          0.27058594581401274,
          0.2708691523430846,
          0.2708691523430846,
          0.27195898520728035,
          0.2722829919506517,
          0.2727706696792369,
          0.2732160069679724,
          0.2734453308828908,
          0.2737179514679245,
          0.2740207524051479,
          0.27443441128597884,
          0.27464583221563826,
          0.27557108847578526,
          0.2757987804167465,
          0.27580069255173734,
          0.2761278641491121,
          0.2783313669088977,
          0.2790027044463438,
          0.2793978020528675,
          0.2798067303525119,
          0.27994791802778174,
          0.28021376659110314,
          0.2803449923643044,
          0.28080334542732777,
          0.28080334542732777,
          0.2810154540185838,
          0.2811716679192102,
          0.28273327371462886,
          0.28287544022631733,
          0.2829073028411006,
          0.28318434113680546,
          0.2832781978502523,
          0.2834214070807038,
          0.28355668163205244,
          0.28403011105742704,
          0.2841724324216603,
          0.28422435812228386,
          0.28463622355644735,
          0.2854020438269274,
          0.285520815692854,
          0.2855940931501854,
          0.28561051379674646,
          0.2856810701611016,
          0.2858296814403163,
          0.28595004590894435,
          0.28612178604475885,
          0.28620549774894927,
          0.28675113154930204,
          0.28686207140915415,
          0.28691412883604306,
          0.28692506202877455,
          0.2881731254996858,
          0.28936452079428027,
          0.28939127110250984,
          0.2900324589304423,
          0.2900324589304423,
          0.29022161758966125,
          0.29134828253032613,
          0.2916626175451983,
          0.2919057330059176,
          0.2919255098237607,
          0.29195450652139066,
          0.29230230057024004,
          0.29236468810539684,
          0.29240220159629954,
          0.2924547746237078,
          0.29245704552355195,
          0.29304766969234686,
          0.2934966777888897,
          0.29379141905809253,
          0.2946124559689556,
          0.2955036365712588,
          0.29573052567204383,
          0.2958836293499739,
          0.2970176905556812,
          0.2973247992524334,
          0.2979971224821996,
          0.2992384384453782,
          0.2995114755276692,
          0.29954290987660354,
          0.2996272816648631,
          0.29981597416504957,
          0.3007191619688165,
          0.30081749678808856,
          0.30176952046732924,
          0.30318146976795796,
          0.3035699142647225,
          0.3040532239523201,
          0.3047854582559852,
          0.3048065551029175,
          0.30493442733554965,
          0.30493442733554965,
          0.3056235509897835,
          0.3058893055830654,
          0.3059604885537029,
          0.3066874054549984,
          0.3068692525900254,
          0.30774116340236496,
          0.30849118056455455,
          0.30883399696293207,
          0.30972358522637566,
          0.30996424551117946,
          0.31001077091501844,
          0.3102037864647034,
          0.3112389267537081,
          0.3112929905990078,
          0.3113577662888534,
          0.31257538894884274,
          0.3131468881029551,
          0.3135005277173083,
          0.3135326174912135,
          0.3140082692011486,
          0.31436846320755224,
          0.31439580370359216,
          0.3147849489483621,
          0.31483305389566646,
          0.3148630617022673,
          0.3150407518864148,
          0.3154742419228455,
          0.3163318663177129,
          0.31831950314510693,
          0.3195132605128417,
          0.31958327543603504,
          0.32075417512259174,
          0.32107391552805487,
          0.3217254350276997,
          0.32232942575645834,
          0.3226817370404923,
          0.32366826157003803,
          0.32409339130323855,
          0.32410406262350216,
          0.3253664149199307,
          0.3255022675198797,
          0.3266419632730313,
          0.32736848303342453,
          0.3278387435241252,
          0.32801879611580403,
          0.3282108920057442,
          0.32828236225323865,
          0.32828236225323865,
          0.3284829256963695,
          0.32850693268913655,
          0.329342423644183,
          0.3304838898173479,
          0.33054091926865636,
          0.33066822873162477,
          0.33066822873162477,
          0.33162566074464606,
          0.3317852082919503,
          0.332232255678488,
          0.3325127371103538,
          0.3326600956206789,
          0.3329009510419124,
          0.3333216755838892,
          0.3334941858099339,
          0.3337671957388736,
          0.3341764281681655,
          0.33522122675762384,
          0.33533995009961776,
          0.33562275044933626,
          0.3357816295260937,
          0.33648195276617304,
          0.33705408237977613,
          0.3373454769598434,
          0.33745562675472424,
          0.3384269732590485,
          0.33892819765176757,
          0.3396172872048942,
          0.3396949011907358,
          0.34014392062694354,
          0.3412854907177178,
          0.3413966499907312,
          0.3415175306256218,
          0.34153959362618136,
          0.34395135898845924,
          0.34427145701659156,
          0.34562819901251346,
          0.3457804882902242,
          0.347180644003953,
          0.348549322947028,
          0.348549322947028,
          0.3490047670815877,
          0.34948855590284655,
          0.34948855590284655,
          0.35002155663968704,
          0.35008004846698065,
          0.3501154170554761,
          0.35054063272113817,
          0.351187268699714,
          0.3529513185441252,
          0.3539148212982319,
          0.35419779823428305,
          0.354871504601497,
          0.35565051709393813,
          0.3559123946905515,
          0.3559123946905515,
          0.35667094365872765,
          0.3568812201499591,
          0.3576931394905951,
          0.3577197554449407,
          0.35777831951448297,
          0.3584690958164815,
          0.3585178365445323,
          0.3594380058710523,
          0.3601270439925325,
          0.36048118970213544,
          0.36335214963526913,
          0.36344185504929594,
          0.3637793377721499,
          0.36387991321416313,
          0.36441569793820816,
          0.36470610081616567,
          0.3648108905543891,
          0.36521862391067306,
          0.36522868645625134,
          0.36631013002277607,
          0.3667764065655234,
          0.3687065593218389,
          0.36887422846184836,
          0.36918631213096165,
          0.37052728664011986,
          0.37134396500819444,
          0.3736516314961883,
          0.3743051665545734,
          0.37569932704091275,
          0.37589955874643205,
          0.37654649196289813,
          0.37712203510803155,
          0.37712203510803155,
          0.37825244096654775,
          0.37947001826100296,
          0.37966352325695096,
          0.38183757285705106,
          0.383134318105279,
          0.38412346240933704,
          0.3841644390094335,
          0.3842414113023189,
          0.3870099909737815,
          0.38800849548260397,
          0.38821485602811173,
          0.3896151021392488,
          0.39005566537655206,
          0.39061782036614556,
          0.39145452272381587,
          0.3918673246155208,
          0.3921689275200544,
          0.3928547549262819,
          0.39319324826519486,
          0.39355492948058696,
          0.39361063445001027,
          0.39621437807748083,
          0.3990965639392803,
          0.3996807240194913,
          0.4010453972135574,
          0.4011068869932934,
          0.4026093014416702,
          0.40328276745148023,
          0.4033429218323962,
          0.403651826440217,
          0.4043191271499216,
          0.4051601756238376,
          0.40526486500721726,
          0.40604121947538024,
          0.40605266530937906,
          0.4079086699662042,
          0.409931345754101,
          0.41336774022515216,
          0.4138057251640079,
          0.4145817411974408,
          0.4147364941532481,
          0.41517653416850253,
          0.41563399582725385,
          0.41638045264645446,
          0.4165634251637559,
          0.41688148681385573,
          0.4169260075549485,
          0.4169982365065121,
          0.4176262325865691,
          0.42000474735992555,
          0.42071130476904256,
          0.4234388239314986,
          0.42590602400959876,
          0.4259848516918046,
          0.4268956232539496,
          0.4282802697453668,
          0.4326838734883883,
          0.43673200868011464,
          0.43674574816571016,
          0.43762282889873055,
          0.44056352527097864,
          0.44195575035658424,
          0.4436756323004863,
          0.4461244319580954,
          0.4514199575910147,
          0.4518723004765147,
          0.45221484527135153,
          0.4545963063416029,
          0.4607318642714894,
          0.4614797413926206,
          0.46640727745596766,
          0.46647238561617727,
          0.4714889667497462,
          0.47348149119960303,
          0.4741160171397115,
          0.47581894137365355,
          0.4759359786748006,
          0.47607632173536907,
          0.47771356085157196,
          0.4836762825701078,
          0.48554673776034424,
          0.48556085856084774,
          0.4861936288213531,
          0.4926138091634392,
          0.4930457082782148,
          0.4943911540570374,
          0.4953200309295948,
          0.4978119353045482,
          0.4984151277756268,
          0.5063410321297616,
          0.5097190181027693,
          0.5103214026949032,
          0.5115906538579007,
          0.5124735827804474,
          0.5146295454792985,
          0.5171185969482447,
          0.5208906222646698,
          0.5217087509726341,
          0.5220776391977054,
          0.5238568229347064,
          0.5273452645166286,
          0.5273468484970067,
          0.5293925796992087,
          0.532592579216524,
          0.5339118282155892,
          0.5341091085741828,
          0.5344676343942488,
          0.5379824119372645,
          0.5393288121919654,
          0.550633219351074,
          0.5553815523710891,
          0.5565451317506901,
          0.5566470900340001,
          0.5567146103503203,
          0.5622162574748021,
          0.5626337685129433,
          0.5636839859731466,
          0.5681978275120769,
          0.5684471651195228,
          0.5812041394251629,
          0.5887004714408766,
          0.5909907675428065,
          0.5931647378497354,
          0.5950666849921098,
          0.6029750041136894,
          0.6030224184201398,
          0.6084160215321487,
          0.6087130905356662,
          0.6147884809059982,
          0.6156511799733498,
          0.6207339633421123,
          0.6216626109283809,
          0.6233984130488472,
          0.6253370064191658,
          0.6255644337708616,
          0.6255644337708616,
          0.6257585309653129,
          0.6280756372307431,
          0.6353888094719502,
          0.6357136582062421,
          0.6378367529346658,
          0.6417854864093807,
          0.642079573894219,
          0.6440940450999006,
          0.6468127874566665,
          0.6644035241139858,
          0.6662474796994173,
          0.6727444898558067,
          0.6730291084208095,
          0.6801498519029261,
          0.6855928745712471,
          0.6938109413539495,
          0.6944185688246983,
          0.7020310730050335,
          0.7050119441321749,
          0.7059086998518713,
          0.7094733394527996,
          0.7480653585027025,
          0.7654125018313567,
          0.7748547775006204,
          0.7763955407153064,
          0.77884629624772,
          0.7920941922460627,
          0.8240144819611809,
          0.8321434159291523,
          0.8354735487250206,
          0.8551251526572593,
          0.8721290024619622,
          0.88603723764283,
          0.9477349467912664,
          0.9802751225504331,
          0.9855265998638923,
          1.0024389619348575,
          1.0282739378831307,
          1.033578103943626,
          1.0388588595696842,
          1.0505657081100808,
          1.0537112030690545,
          1.1340557760630299,
          1.2103329431131127,
          1.2146058491994016,
          1.412459403584654,
          1.4423344860752167,
          1.4490533647355397,
          1.4574088712416016,
          1.7174322250993233
         ]
        }
       ],
       "layout": {
        "hovermode": "x unified",
        "template": {
         "data": {
          "bar": [
           {
            "error_x": {
             "color": "#2a3f5f"
            },
            "error_y": {
             "color": "#2a3f5f"
            },
            "marker": {
             "line": {
              "color": "white",
              "width": 0.5
             },
             "pattern": {
              "fillmode": "overlay",
              "size": 10,
              "solidity": 0.2
             }
            },
            "type": "bar"
           }
          ],
          "barpolar": [
           {
            "marker": {
             "line": {
              "color": "white",
              "width": 0.5
             },
             "pattern": {
              "fillmode": "overlay",
              "size": 10,
              "solidity": 0.2
             }
            },
            "type": "barpolar"
           }
          ],
          "carpet": [
           {
            "aaxis": {
             "endlinecolor": "#2a3f5f",
             "gridcolor": "#C8D4E3",
             "linecolor": "#C8D4E3",
             "minorgridcolor": "#C8D4E3",
             "startlinecolor": "#2a3f5f"
            },
            "baxis": {
             "endlinecolor": "#2a3f5f",
             "gridcolor": "#C8D4E3",
             "linecolor": "#C8D4E3",
             "minorgridcolor": "#C8D4E3",
             "startlinecolor": "#2a3f5f"
            },
            "type": "carpet"
           }
          ],
          "choropleth": [
           {
            "colorbar": {
             "outlinewidth": 0,
             "ticks": ""
            },
            "type": "choropleth"
           }
          ],
          "contour": [
           {
            "colorbar": {
             "outlinewidth": 0,
             "ticks": ""
            },
            "colorscale": [
             [
              0,
              "#0d0887"
             ],
             [
              0.1111111111111111,
              "#46039f"
             ],
             [
              0.2222222222222222,
              "#7201a8"
             ],
             [
              0.3333333333333333,
              "#9c179e"
             ],
             [
              0.4444444444444444,
              "#bd3786"
             ],
             [
              0.5555555555555556,
              "#d8576b"
             ],
             [
              0.6666666666666666,
              "#ed7953"
             ],
             [
              0.7777777777777778,
              "#fb9f3a"
             ],
             [
              0.8888888888888888,
              "#fdca26"
             ],
             [
              1,
              "#f0f921"
             ]
            ],
            "type": "contour"
           }
          ],
          "contourcarpet": [
           {
            "colorbar": {
             "outlinewidth": 0,
             "ticks": ""
            },
            "type": "contourcarpet"
           }
          ],
          "heatmap": [
           {
            "colorbar": {
             "outlinewidth": 0,
             "ticks": ""
            },
            "colorscale": [
             [
              0,
              "#0d0887"
             ],
             [
              0.1111111111111111,
              "#46039f"
             ],
             [
              0.2222222222222222,
              "#7201a8"
             ],
             [
              0.3333333333333333,
              "#9c179e"
             ],
             [
              0.4444444444444444,
              "#bd3786"
             ],
             [
              0.5555555555555556,
              "#d8576b"
             ],
             [
              0.6666666666666666,
              "#ed7953"
             ],
             [
              0.7777777777777778,
              "#fb9f3a"
             ],
             [
              0.8888888888888888,
              "#fdca26"
             ],
             [
              1,
              "#f0f921"
             ]
            ],
            "type": "heatmap"
           }
          ],
          "heatmapgl": [
           {
            "colorbar": {
             "outlinewidth": 0,
             "ticks": ""
            },
            "colorscale": [
             [
              0,
              "#0d0887"
             ],
             [
              0.1111111111111111,
              "#46039f"
             ],
             [
              0.2222222222222222,
              "#7201a8"
             ],
             [
              0.3333333333333333,
              "#9c179e"
             ],
             [
              0.4444444444444444,
              "#bd3786"
             ],
             [
              0.5555555555555556,
              "#d8576b"
             ],
             [
              0.6666666666666666,
              "#ed7953"
             ],
             [
              0.7777777777777778,
              "#fb9f3a"
             ],
             [
              0.8888888888888888,
              "#fdca26"
             ],
             [
              1,
              "#f0f921"
             ]
            ],
            "type": "heatmapgl"
           }
          ],
          "histogram": [
           {
            "marker": {
             "pattern": {
              "fillmode": "overlay",
              "size": 10,
              "solidity": 0.2
             }
            },
            "type": "histogram"
           }
          ],
          "histogram2d": [
           {
            "colorbar": {
             "outlinewidth": 0,
             "ticks": ""
            },
            "colorscale": [
             [
              0,
              "#0d0887"
             ],
             [
              0.1111111111111111,
              "#46039f"
             ],
             [
              0.2222222222222222,
              "#7201a8"
             ],
             [
              0.3333333333333333,
              "#9c179e"
             ],
             [
              0.4444444444444444,
              "#bd3786"
             ],
             [
              0.5555555555555556,
              "#d8576b"
             ],
             [
              0.6666666666666666,
              "#ed7953"
             ],
             [
              0.7777777777777778,
              "#fb9f3a"
             ],
             [
              0.8888888888888888,
              "#fdca26"
             ],
             [
              1,
              "#f0f921"
             ]
            ],
            "type": "histogram2d"
           }
          ],
          "histogram2dcontour": [
           {
            "colorbar": {
             "outlinewidth": 0,
             "ticks": ""
            },
            "colorscale": [
             [
              0,
              "#0d0887"
             ],
             [
              0.1111111111111111,
              "#46039f"
             ],
             [
              0.2222222222222222,
              "#7201a8"
             ],
             [
              0.3333333333333333,
              "#9c179e"
             ],
             [
              0.4444444444444444,
              "#bd3786"
             ],
             [
              0.5555555555555556,
              "#d8576b"
             ],
             [
              0.6666666666666666,
              "#ed7953"
             ],
             [
              0.7777777777777778,
              "#fb9f3a"
             ],
             [
              0.8888888888888888,
              "#fdca26"
             ],
             [
              1,
              "#f0f921"
             ]
            ],
            "type": "histogram2dcontour"
           }
          ],
          "mesh3d": [
           {
            "colorbar": {
             "outlinewidth": 0,
             "ticks": ""
            },
            "type": "mesh3d"
           }
          ],
          "parcoords": [
           {
            "line": {
             "colorbar": {
              "outlinewidth": 0,
              "ticks": ""
             }
            },
            "type": "parcoords"
           }
          ],
          "pie": [
           {
            "automargin": true,
            "type": "pie"
           }
          ],
          "scatter": [
           {
            "fillpattern": {
             "fillmode": "overlay",
             "size": 10,
             "solidity": 0.2
            },
            "type": "scatter"
           }
          ],
          "scatter3d": [
           {
            "line": {
             "colorbar": {
              "outlinewidth": 0,
              "ticks": ""
             }
            },
            "marker": {
             "colorbar": {
              "outlinewidth": 0,
              "ticks": ""
             }
            },
            "type": "scatter3d"
           }
          ],
          "scattercarpet": [
           {
            "marker": {
             "colorbar": {
              "outlinewidth": 0,
              "ticks": ""
             }
            },
            "type": "scattercarpet"
           }
          ],
          "scattergeo": [
           {
            "marker": {
             "colorbar": {
              "outlinewidth": 0,
              "ticks": ""
             }
            },
            "type": "scattergeo"
           }
          ],
          "scattergl": [
           {
            "marker": {
             "colorbar": {
              "outlinewidth": 0,
              "ticks": ""
             }
            },
            "type": "scattergl"
           }
          ],
          "scattermapbox": [
           {
            "marker": {
             "colorbar": {
              "outlinewidth": 0,
              "ticks": ""
             }
            },
            "type": "scattermapbox"
           }
          ],
          "scatterpolar": [
           {
            "marker": {
             "colorbar": {
              "outlinewidth": 0,
              "ticks": ""
             }
            },
            "type": "scatterpolar"
           }
          ],
          "scatterpolargl": [
           {
            "marker": {
             "colorbar": {
              "outlinewidth": 0,
              "ticks": ""
             }
            },
            "type": "scatterpolargl"
           }
          ],
          "scatterternary": [
           {
            "marker": {
             "colorbar": {
              "outlinewidth": 0,
              "ticks": ""
             }
            },
            "type": "scatterternary"
           }
          ],
          "surface": [
           {
            "colorbar": {
             "outlinewidth": 0,
             "ticks": ""
            },
            "colorscale": [
             [
              0,
              "#0d0887"
             ],
             [
              0.1111111111111111,
              "#46039f"
             ],
             [
              0.2222222222222222,
              "#7201a8"
             ],
             [
              0.3333333333333333,
              "#9c179e"
             ],
             [
              0.4444444444444444,
              "#bd3786"
             ],
             [
              0.5555555555555556,
              "#d8576b"
             ],
             [
              0.6666666666666666,
              "#ed7953"
             ],
             [
              0.7777777777777778,
              "#fb9f3a"
             ],
             [
              0.8888888888888888,
              "#fdca26"
             ],
             [
              1,
              "#f0f921"
             ]
            ],
            "type": "surface"
           }
          ],
          "table": [
           {
            "cells": {
             "fill": {
              "color": "#EBF0F8"
             },
             "line": {
              "color": "white"
             }
            },
            "header": {
             "fill": {
              "color": "#C8D4E3"
             },
             "line": {
              "color": "white"
             }
            },
            "type": "table"
           }
          ]
         },
         "layout": {
          "annotationdefaults": {
           "arrowcolor": "#2a3f5f",
           "arrowhead": 0,
           "arrowwidth": 1
          },
          "autotypenumbers": "strict",
          "coloraxis": {
           "colorbar": {
            "outlinewidth": 0,
            "ticks": ""
           }
          },
          "colorscale": {
           "diverging": [
            [
             0,
             "#8e0152"
            ],
            [
             0.1,
             "#c51b7d"
            ],
            [
             0.2,
             "#de77ae"
            ],
            [
             0.3,
             "#f1b6da"
            ],
            [
             0.4,
             "#fde0ef"
            ],
            [
             0.5,
             "#f7f7f7"
            ],
            [
             0.6,
             "#e6f5d0"
            ],
            [
             0.7,
             "#b8e186"
            ],
            [
             0.8,
             "#7fbc41"
            ],
            [
             0.9,
             "#4d9221"
            ],
            [
             1,
             "#276419"
            ]
           ],
           "sequential": [
            [
             0,
             "#0d0887"
            ],
            [
             0.1111111111111111,
             "#46039f"
            ],
            [
             0.2222222222222222,
             "#7201a8"
            ],
            [
             0.3333333333333333,
             "#9c179e"
            ],
            [
             0.4444444444444444,
             "#bd3786"
            ],
            [
             0.5555555555555556,
             "#d8576b"
            ],
            [
             0.6666666666666666,
             "#ed7953"
            ],
            [
             0.7777777777777778,
             "#fb9f3a"
            ],
            [
             0.8888888888888888,
             "#fdca26"
            ],
            [
             1,
             "#f0f921"
            ]
           ],
           "sequentialminus": [
            [
             0,
             "#0d0887"
            ],
            [
             0.1111111111111111,
             "#46039f"
            ],
            [
             0.2222222222222222,
             "#7201a8"
            ],
            [
             0.3333333333333333,
             "#9c179e"
            ],
            [
             0.4444444444444444,
             "#bd3786"
            ],
            [
             0.5555555555555556,
             "#d8576b"
            ],
            [
             0.6666666666666666,
             "#ed7953"
            ],
            [
             0.7777777777777778,
             "#fb9f3a"
            ],
            [
             0.8888888888888888,
             "#fdca26"
            ],
            [
             1,
             "#f0f921"
            ]
           ]
          },
          "colorway": [
           "#636efa",
           "#EF553B",
           "#00cc96",
           "#ab63fa",
           "#FFA15A",
           "#19d3f3",
           "#FF6692",
           "#B6E880",
           "#FF97FF",
           "#FECB52"
          ],
          "font": {
           "color": "#2a3f5f"
          },
          "geo": {
           "bgcolor": "white",
           "lakecolor": "white",
           "landcolor": "white",
           "showlakes": true,
           "showland": true,
           "subunitcolor": "#C8D4E3"
          },
          "hoverlabel": {
           "align": "left"
          },
          "hovermode": "closest",
          "mapbox": {
           "style": "light"
          },
          "paper_bgcolor": "white",
          "plot_bgcolor": "white",
          "polar": {
           "angularaxis": {
            "gridcolor": "#EBF0F8",
            "linecolor": "#EBF0F8",
            "ticks": ""
           },
           "bgcolor": "white",
           "radialaxis": {
            "gridcolor": "#EBF0F8",
            "linecolor": "#EBF0F8",
            "ticks": ""
           }
          },
          "scene": {
           "xaxis": {
            "backgroundcolor": "white",
            "gridcolor": "#DFE8F3",
            "gridwidth": 2,
            "linecolor": "#EBF0F8",
            "showbackground": true,
            "ticks": "",
            "zerolinecolor": "#EBF0F8"
           },
           "yaxis": {
            "backgroundcolor": "white",
            "gridcolor": "#DFE8F3",
            "gridwidth": 2,
            "linecolor": "#EBF0F8",
            "showbackground": true,
            "ticks": "",
            "zerolinecolor": "#EBF0F8"
           },
           "zaxis": {
            "backgroundcolor": "white",
            "gridcolor": "#DFE8F3",
            "gridwidth": 2,
            "linecolor": "#EBF0F8",
            "showbackground": true,
            "ticks": "",
            "zerolinecolor": "#EBF0F8"
           }
          },
          "shapedefaults": {
           "line": {
            "color": "#2a3f5f"
           }
          },
          "ternary": {
           "aaxis": {
            "gridcolor": "#DFE8F3",
            "linecolor": "#A2B1C6",
            "ticks": ""
           },
           "baxis": {
            "gridcolor": "#DFE8F3",
            "linecolor": "#A2B1C6",
            "ticks": ""
           },
           "bgcolor": "white",
           "caxis": {
            "gridcolor": "#DFE8F3",
            "linecolor": "#A2B1C6",
            "ticks": ""
           }
          },
          "title": {
           "x": 0.05
          },
          "xaxis": {
           "automargin": true,
           "gridcolor": "#EBF0F8",
           "linecolor": "#EBF0F8",
           "ticks": "",
           "title": {
            "standoff": 15
           },
           "zerolinecolor": "#EBF0F8",
           "zerolinewidth": 2
          },
          "yaxis": {
           "automargin": true,
           "gridcolor": "#EBF0F8",
           "linecolor": "#EBF0F8",
           "ticks": "",
           "title": {
            "standoff": 15
           },
           "zerolinecolor": "#EBF0F8",
           "zerolinewidth": 2
          }
         }
        },
        "title": {
         "text": "k-Distance Graph for UMAP"
        },
        "xaxis": {
         "gridcolor": "lightgrey",
         "gridwidth": 1,
         "showgrid": true,
         "title": {
          "text": "Points sorted by distance"
         }
        },
        "yaxis": {
         "gridcolor": "lightgrey",
         "gridwidth": 1,
         "showgrid": true,
         "title": {
          "text": "Distance to 10th Nearest Neighbor"
         }
        }
       }
      }
     },
     "metadata": {},
     "output_type": "display_data"
    }
   ],
   "source": [
    "from sklearn.neighbors import NearestNeighbors\n",
    "\n",
    "# Plot K distace for dbscan eps adjustment\n",
    "def plotKdistance(reduced_embeddings, k=5, method='PCA'):\n",
    "    # Compute k-nearest neighbors\n",
    "    neighbors = NearestNeighbors(n_neighbors=k)\n",
    "    neighbors_fit = neighbors.fit(reduced_embeddings)\n",
    "    distances, _ = neighbors_fit.kneighbors(reduced_embeddings)\n",
    "    \n",
    "    # Sort distances to the k-th nearest neighbor\n",
    "    k_distances = np.sort(distances[:, k-1])\n",
    "    \n",
    "    # Create interactive line plot\n",
    "    fig = go.Figure()\n",
    "\n",
    "    fig.add_trace(go.Scatter(\n",
    "        x=np.arange(1, len(k_distances) + 1),\n",
    "        y=k_distances,\n",
    "        mode='lines',\n",
    "        line=dict(color='blue'),\n",
    "        name='k-distance'\n",
    "    ))\n",
    "    \n",
    "    # Update layout for clarity\n",
    "    fig.update_layout(\n",
    "        title=f'k-Distance Graph for {method}',\n",
    "        xaxis_title='Points sorted by distance',\n",
    "        yaxis_title=f'Distance to {k}th Nearest Neighbor',\n",
    "        template='plotly_white',\n",
    "        hovermode='x unified'\n",
    "    )\n",
    "    \n",
    "    # Add light grid lines\n",
    "    fig.update_xaxes(showgrid=True, gridwidth=1, gridcolor='lightgrey')\n",
    "    fig.update_yaxes(showgrid=True, gridwidth=1, gridcolor='lightgrey')\n",
    "    \n",
    "    fig.show()\n",
    "\n",
    "plotKdistance(embeddings_umap, k= 10, method='PCA')\n",
    "plotKdistance(embeddings_pca, k= 10, method='UMAP')"
   ]
  },
  {
   "cell_type": "code",
   "execution_count": null,
   "metadata": {},
   "outputs": [
    {
     "data": {
      "application/vnd.plotly.v1+json": {
       "config": {
        "plotlyServerURL": "https://plot.ly"
       },
       "data": [
        {
         "customdata": [
          [
           0,
           5
          ],
          [
           1,
           1
          ],
          [
           2,
           5
          ],
          [
           3,
           5
          ],
          [
           4,
           1
          ],
          [
           5,
           4
          ],
          [
           6,
           5
          ],
          [
           7,
           3
          ],
          [
           8,
           5
          ],
          [
           9,
           5
          ],
          [
           10,
           5
          ],
          [
           11,
           5
          ],
          [
           12,
           5
          ],
          [
           13,
           5
          ],
          [
           14,
           4
          ],
          [
           15,
           5
          ],
          [
           16,
           5
          ],
          [
           17,
           4
          ],
          [
           18,
           5
          ],
          [
           19,
           5
          ],
          [
           20,
           4
          ],
          [
           21,
           5
          ],
          [
           22,
           1
          ],
          [
           23,
           5
          ],
          [
           24,
           1
          ],
          [
           25,
           2
          ],
          [
           26,
           5
          ],
          [
           27,
           5
          ],
          [
           28,
           5
          ],
          [
           29,
           3
          ],
          [
           30,
           5
          ],
          [
           31,
           5
          ],
          [
           32,
           4
          ],
          [
           33,
           5
          ],
          [
           34,
           5
          ],
          [
           35,
           5
          ],
          [
           36,
           3
          ],
          [
           37,
           4
          ],
          [
           38,
           4
          ],
          [
           39,
           4
          ],
          [
           40,
           4
          ],
          [
           41,
           5
          ],
          [
           42,
           3
          ],
          [
           43,
           5
          ],
          [
           44,
           4
          ],
          [
           45,
           2
          ],
          [
           46,
           1
          ],
          [
           47,
           1
          ],
          [
           48,
           5
          ],
          [
           49,
           4
          ],
          [
           50,
           5
          ],
          [
           51,
           5
          ],
          [
           52,
           4
          ],
          [
           53,
           5
          ],
          [
           54,
           5
          ],
          [
           55,
           5
          ],
          [
           56,
           5
          ],
          [
           57,
           3
          ],
          [
           58,
           5
          ],
          [
           59,
           4
          ],
          [
           60,
           5
          ],
          [
           61,
           5
          ],
          [
           62,
           5
          ],
          [
           63,
           5
          ],
          [
           64,
           4
          ],
          [
           65,
           1
          ],
          [
           66,
           5
          ],
          [
           67,
           5
          ],
          [
           68,
           4
          ],
          [
           69,
           5
          ],
          [
           70,
           5
          ],
          [
           71,
           5
          ],
          [
           72,
           5
          ],
          [
           73,
           4
          ],
          [
           74,
           5
          ],
          [
           75,
           5
          ],
          [
           76,
           5
          ],
          [
           77,
           5
          ],
          [
           78,
           1
          ],
          [
           79,
           5
          ],
          [
           80,
           5
          ],
          [
           81,
           5
          ],
          [
           82,
           4
          ],
          [
           83,
           3
          ],
          [
           84,
           5
          ],
          [
           85,
           1
          ],
          [
           86,
           5
          ],
          [
           87,
           5
          ],
          [
           88,
           5
          ],
          [
           89,
           5
          ],
          [
           90,
           3
          ],
          [
           91,
           4
          ],
          [
           92,
           4
          ],
          [
           93,
           3
          ],
          [
           94,
           5
          ],
          [
           95,
           4
          ],
          [
           96,
           5
          ],
          [
           97,
           5
          ],
          [
           98,
           3
          ],
          [
           99,
           5
          ],
          [
           100,
           4
          ],
          [
           101,
           5
          ],
          [
           102,
           4
          ],
          [
           103,
           4
          ],
          [
           104,
           5
          ],
          [
           105,
           5
          ],
          [
           106,
           5
          ],
          [
           107,
           5
          ],
          [
           108,
           5
          ],
          [
           109,
           5
          ],
          [
           110,
           1
          ],
          [
           111,
           5
          ],
          [
           112,
           4
          ],
          [
           113,
           5
          ],
          [
           114,
           2
          ],
          [
           115,
           5
          ],
          [
           116,
           5
          ],
          [
           117,
           5
          ],
          [
           118,
           4
          ],
          [
           119,
           5
          ],
          [
           120,
           3
          ],
          [
           121,
           5
          ],
          [
           122,
           3
          ],
          [
           123,
           5
          ],
          [
           124,
           4
          ],
          [
           125,
           5
          ],
          [
           126,
           2
          ],
          [
           127,
           2
          ],
          [
           128,
           2
          ],
          [
           129,
           3
          ],
          [
           130,
           4
          ],
          [
           131,
           4
          ],
          [
           132,
           5
          ],
          [
           133,
           5
          ],
          [
           134,
           1
          ],
          [
           135,
           3
          ],
          [
           136,
           5
          ],
          [
           137,
           5
          ],
          [
           138,
           4
          ],
          [
           139,
           1
          ],
          [
           140,
           5
          ],
          [
           141,
           5
          ],
          [
           142,
           5
          ],
          [
           143,
           2
          ],
          [
           144,
           3
          ],
          [
           145,
           4
          ],
          [
           146,
           5
          ],
          [
           147,
           5
          ],
          [
           148,
           4
          ],
          [
           149,
           5
          ],
          [
           150,
           5
          ],
          [
           151,
           5
          ],
          [
           152,
           4
          ],
          [
           153,
           5
          ],
          [
           154,
           4
          ],
          [
           155,
           4
          ],
          [
           156,
           1
          ],
          [
           157,
           5
          ],
          [
           158,
           4
          ],
          [
           159,
           4
          ],
          [
           160,
           5
          ],
          [
           161,
           5
          ],
          [
           162,
           4
          ],
          [
           163,
           4
          ],
          [
           164,
           5
          ],
          [
           165,
           5
          ],
          [
           166,
           4
          ],
          [
           167,
           5
          ],
          [
           168,
           5
          ],
          [
           169,
           4
          ],
          [
           170,
           2
          ],
          [
           171,
           3
          ],
          [
           172,
           5
          ],
          [
           173,
           5
          ],
          [
           174,
           5
          ],
          [
           175,
           4
          ],
          [
           176,
           5
          ],
          [
           177,
           5
          ],
          [
           178,
           1
          ],
          [
           179,
           5
          ],
          [
           180,
           5
          ],
          [
           181,
           2
          ],
          [
           182,
           5
          ],
          [
           183,
           4
          ],
          [
           184,
           1
          ],
          [
           185,
           5
          ],
          [
           186,
           5
          ],
          [
           187,
           5
          ],
          [
           188,
           1
          ],
          [
           189,
           4
          ],
          [
           190,
           4
          ],
          [
           191,
           5
          ],
          [
           192,
           5
          ],
          [
           193,
           3
          ],
          [
           194,
           3
          ],
          [
           195,
           5
          ],
          [
           196,
           5
          ],
          [
           197,
           5
          ],
          [
           198,
           4
          ],
          [
           199,
           4
          ],
          [
           200,
           5
          ],
          [
           201,
           3
          ],
          [
           202,
           5
          ],
          [
           203,
           5
          ],
          [
           204,
           4
          ],
          [
           205,
           5
          ],
          [
           206,
           3
          ],
          [
           207,
           5
          ],
          [
           208,
           5
          ],
          [
           209,
           5
          ],
          [
           210,
           4
          ],
          [
           211,
           5
          ],
          [
           212,
           5
          ],
          [
           213,
           5
          ],
          [
           214,
           5
          ],
          [
           215,
           5
          ],
          [
           216,
           2
          ],
          [
           217,
           5
          ],
          [
           218,
           5
          ],
          [
           219,
           3
          ],
          [
           220,
           5
          ],
          [
           221,
           5
          ],
          [
           222,
           5
          ],
          [
           223,
           5
          ],
          [
           224,
           5
          ],
          [
           225,
           5
          ],
          [
           226,
           4
          ],
          [
           227,
           5
          ],
          [
           228,
           5
          ],
          [
           229,
           5
          ],
          [
           230,
           3
          ],
          [
           231,
           5
          ],
          [
           232,
           5
          ],
          [
           233,
           5
          ],
          [
           234,
           3
          ],
          [
           235,
           2
          ],
          [
           236,
           5
          ],
          [
           237,
           5
          ],
          [
           238,
           5
          ],
          [
           239,
           4
          ],
          [
           240,
           5
          ],
          [
           241,
           5
          ],
          [
           242,
           5
          ],
          [
           243,
           5
          ],
          [
           244,
           5
          ],
          [
           245,
           5
          ],
          [
           246,
           5
          ],
          [
           247,
           5
          ],
          [
           248,
           4
          ],
          [
           249,
           1
          ],
          [
           250,
           5
          ],
          [
           251,
           5
          ],
          [
           252,
           4
          ],
          [
           253,
           5
          ],
          [
           254,
           5
          ],
          [
           255,
           3
          ],
          [
           256,
           5
          ],
          [
           257,
           4
          ],
          [
           258,
           4
          ],
          [
           259,
           4
          ],
          [
           260,
           5
          ],
          [
           261,
           4
          ],
          [
           262,
           5
          ],
          [
           263,
           2
          ],
          [
           264,
           5
          ],
          [
           265,
           4
          ],
          [
           266,
           4
          ],
          [
           267,
           2
          ],
          [
           268,
           5
          ],
          [
           269,
           5
          ],
          [
           270,
           5
          ],
          [
           271,
           4
          ],
          [
           272,
           4
          ],
          [
           273,
           5
          ],
          [
           274,
           2
          ],
          [
           275,
           5
          ],
          [
           276,
           5
          ],
          [
           277,
           5
          ],
          [
           278,
           2
          ],
          [
           279,
           1
          ],
          [
           280,
           5
          ],
          [
           281,
           5
          ],
          [
           282,
           5
          ],
          [
           283,
           5
          ],
          [
           284,
           5
          ],
          [
           285,
           5
          ],
          [
           286,
           3
          ],
          [
           287,
           3
          ],
          [
           288,
           4
          ],
          [
           289,
           4
          ],
          [
           290,
           5
          ],
          [
           291,
           5
          ],
          [
           292,
           3
          ],
          [
           293,
           2
          ],
          [
           294,
           5
          ],
          [
           295,
           5
          ],
          [
           296,
           4
          ],
          [
           297,
           5
          ],
          [
           298,
           5
          ],
          [
           299,
           5
          ],
          [
           300,
           5
          ],
          [
           301,
           4
          ],
          [
           302,
           4
          ],
          [
           303,
           5
          ],
          [
           304,
           3
          ],
          [
           305,
           2
          ],
          [
           306,
           5
          ],
          [
           307,
           5
          ],
          [
           308,
           4
          ],
          [
           309,
           5
          ],
          [
           310,
           5
          ],
          [
           311,
           1
          ],
          [
           312,
           1
          ],
          [
           313,
           5
          ],
          [
           314,
           4
          ],
          [
           315,
           5
          ],
          [
           316,
           5
          ],
          [
           317,
           5
          ],
          [
           318,
           4
          ],
          [
           319,
           2
          ],
          [
           320,
           5
          ],
          [
           321,
           5
          ],
          [
           322,
           4
          ],
          [
           323,
           2
          ],
          [
           324,
           4
          ],
          [
           325,
           5
          ],
          [
           326,
           5
          ],
          [
           327,
           1
          ],
          [
           328,
           4
          ],
          [
           329,
           3
          ],
          [
           330,
           3
          ],
          [
           331,
           5
          ],
          [
           332,
           5
          ],
          [
           333,
           4
          ],
          [
           334,
           5
          ],
          [
           335,
           4
          ],
          [
           336,
           5
          ],
          [
           337,
           3
          ],
          [
           338,
           3
          ],
          [
           339,
           5
          ],
          [
           340,
           5
          ],
          [
           341,
           5
          ],
          [
           342,
           5
          ],
          [
           343,
           4
          ],
          [
           344,
           4
          ],
          [
           345,
           5
          ],
          [
           346,
           5
          ],
          [
           347,
           3
          ],
          [
           348,
           3
          ],
          [
           349,
           3
          ],
          [
           350,
           5
          ],
          [
           351,
           4
          ],
          [
           352,
           5
          ],
          [
           353,
           5
          ],
          [
           354,
           5
          ],
          [
           355,
           3
          ],
          [
           356,
           4
          ],
          [
           357,
           5
          ],
          [
           358,
           4
          ],
          [
           359,
           5
          ],
          [
           360,
           5
          ],
          [
           361,
           4
          ],
          [
           362,
           5
          ],
          [
           363,
           4
          ],
          [
           364,
           5
          ],
          [
           365,
           3
          ],
          [
           366,
           5
          ],
          [
           367,
           4
          ],
          [
           368,
           5
          ],
          [
           369,
           4
          ],
          [
           370,
           5
          ],
          [
           371,
           4
          ],
          [
           372,
           4
          ],
          [
           373,
           5
          ],
          [
           374,
           4
          ],
          [
           375,
           4
          ],
          [
           376,
           5
          ],
          [
           377,
           5
          ],
          [
           378,
           3
          ],
          [
           379,
           4
          ],
          [
           380,
           4
          ],
          [
           381,
           5
          ],
          [
           382,
           3
          ],
          [
           383,
           5
          ],
          [
           384,
           5
          ],
          [
           385,
           5
          ],
          [
           386,
           5
          ],
          [
           387,
           4
          ],
          [
           388,
           5
          ],
          [
           389,
           5
          ],
          [
           390,
           5
          ],
          [
           391,
           5
          ],
          [
           392,
           1
          ],
          [
           393,
           5
          ],
          [
           394,
           2
          ],
          [
           395,
           5
          ],
          [
           396,
           4
          ],
          [
           397,
           3
          ],
          [
           398,
           1
          ],
          [
           399,
           4
          ],
          [
           400,
           5
          ],
          [
           401,
           3
          ],
          [
           402,
           4
          ],
          [
           403,
           5
          ],
          [
           404,
           4
          ],
          [
           405,
           5
          ],
          [
           406,
           5
          ],
          [
           407,
           5
          ],
          [
           408,
           4
          ],
          [
           409,
           5
          ],
          [
           410,
           4
          ],
          [
           411,
           4
          ],
          [
           412,
           5
          ],
          [
           413,
           5
          ],
          [
           414,
           1
          ],
          [
           415,
           5
          ],
          [
           416,
           5
          ],
          [
           417,
           5
          ],
          [
           418,
           4
          ],
          [
           419,
           4
          ],
          [
           420,
           3
          ],
          [
           421,
           5
          ],
          [
           422,
           5
          ],
          [
           423,
           4
          ],
          [
           424,
           5
          ],
          [
           425,
           4
          ],
          [
           426,
           3
          ],
          [
           427,
           4
          ],
          [
           428,
           5
          ],
          [
           429,
           3
          ],
          [
           430,
           5
          ],
          [
           431,
           5
          ],
          [
           432,
           5
          ],
          [
           433,
           4
          ],
          [
           434,
           4
          ],
          [
           435,
           5
          ],
          [
           436,
           5
          ],
          [
           437,
           4
          ],
          [
           438,
           3
          ],
          [
           439,
           5
          ],
          [
           440,
           2
          ],
          [
           441,
           5
          ],
          [
           442,
           5
          ],
          [
           443,
           4
          ],
          [
           444,
           3
          ],
          [
           445,
           5
          ],
          [
           446,
           5
          ],
          [
           447,
           3
          ],
          [
           448,
           4
          ],
          [
           449,
           5
          ],
          [
           450,
           5
          ],
          [
           451,
           4
          ],
          [
           452,
           4
          ],
          [
           453,
           1
          ],
          [
           454,
           5
          ],
          [
           455,
           5
          ],
          [
           456,
           5
          ],
          [
           457,
           5
          ],
          [
           458,
           3
          ],
          [
           459,
           5
          ],
          [
           460,
           3
          ],
          [
           461,
           5
          ],
          [
           462,
           1
          ],
          [
           463,
           4
          ],
          [
           464,
           4
          ],
          [
           465,
           1
          ],
          [
           466,
           5
          ],
          [
           467,
           5
          ],
          [
           468,
           5
          ],
          [
           469,
           2
          ],
          [
           470,
           5
          ],
          [
           471,
           5
          ],
          [
           472,
           5
          ],
          [
           473,
           5
          ],
          [
           474,
           5
          ],
          [
           475,
           5
          ],
          [
           476,
           5
          ],
          [
           477,
           5
          ],
          [
           478,
           5
          ],
          [
           479,
           3
          ],
          [
           480,
           5
          ],
          [
           481,
           5
          ],
          [
           482,
           5
          ],
          [
           483,
           4
          ],
          [
           484,
           4
          ],
          [
           485,
           5
          ],
          [
           486,
           5
          ],
          [
           487,
           4
          ],
          [
           488,
           5
          ],
          [
           489,
           4
          ],
          [
           490,
           4
          ],
          [
           491,
           3
          ],
          [
           492,
           2
          ],
          [
           493,
           5
          ],
          [
           494,
           5
          ],
          [
           495,
           5
          ],
          [
           496,
           3
          ],
          [
           497,
           3
          ],
          [
           498,
           5
          ],
          [
           499,
           5
          ],
          [
           500,
           4
          ],
          [
           501,
           5
          ],
          [
           502,
           3
          ],
          [
           503,
           5
          ],
          [
           504,
           4
          ],
          [
           505,
           4
          ],
          [
           506,
           5
          ],
          [
           507,
           5
          ],
          [
           508,
           5
          ],
          [
           509,
           2
          ],
          [
           510,
           5
          ],
          [
           511,
           5
          ],
          [
           512,
           3
          ],
          [
           513,
           5
          ],
          [
           514,
           5
          ],
          [
           515,
           4
          ],
          [
           516,
           5
          ],
          [
           517,
           3
          ],
          [
           518,
           5
          ],
          [
           519,
           1
          ],
          [
           520,
           2
          ],
          [
           521,
           1
          ],
          [
           522,
           3
          ],
          [
           523,
           5
          ],
          [
           524,
           5
          ],
          [
           525,
           1
          ],
          [
           526,
           4
          ],
          [
           527,
           5
          ],
          [
           528,
           4
          ],
          [
           529,
           3
          ],
          [
           530,
           5
          ],
          [
           531,
           1
          ],
          [
           532,
           5
          ],
          [
           533,
           4
          ],
          [
           534,
           5
          ],
          [
           535,
           4
          ],
          [
           536,
           4
          ],
          [
           537,
           5
          ],
          [
           538,
           5
          ],
          [
           539,
           5
          ],
          [
           540,
           5
          ],
          [
           541,
           4
          ],
          [
           542,
           5
          ],
          [
           543,
           5
          ],
          [
           544,
           4
          ],
          [
           545,
           5
          ],
          [
           546,
           3
          ],
          [
           547,
           5
          ],
          [
           548,
           5
          ],
          [
           549,
           4
          ],
          [
           550,
           4
          ],
          [
           551,
           1
          ],
          [
           552,
           5
          ],
          [
           553,
           5
          ],
          [
           554,
           5
          ],
          [
           555,
           2
          ],
          [
           556,
           5
          ],
          [
           557,
           2
          ],
          [
           558,
           5
          ],
          [
           559,
           4
          ],
          [
           560,
           5
          ],
          [
           561,
           4
          ],
          [
           562,
           5
          ],
          [
           563,
           5
          ],
          [
           564,
           5
          ],
          [
           565,
           4
          ],
          [
           566,
           5
          ],
          [
           567,
           5
          ],
          [
           568,
           2
          ],
          [
           569,
           4
          ],
          [
           570,
           5
          ],
          [
           571,
           5
          ],
          [
           572,
           4
          ],
          [
           573,
           5
          ],
          [
           574,
           4
          ],
          [
           575,
           3
          ],
          [
           576,
           5
          ],
          [
           577,
           5
          ],
          [
           578,
           5
          ],
          [
           579,
           3
          ],
          [
           580,
           5
          ],
          [
           581,
           5
          ],
          [
           582,
           4
          ],
          [
           583,
           5
          ],
          [
           584,
           5
          ],
          [
           585,
           4
          ],
          [
           586,
           5
          ],
          [
           587,
           4
          ],
          [
           588,
           3
          ],
          [
           589,
           4
          ],
          [
           590,
           5
          ],
          [
           591,
           5
          ],
          [
           592,
           2
          ],
          [
           593,
           1
          ],
          [
           594,
           5
          ],
          [
           595,
           4
          ],
          [
           596,
           5
          ],
          [
           597,
           1
          ],
          [
           598,
           5
          ],
          [
           599,
           4
          ],
          [
           600,
           4
          ],
          [
           601,
           4
          ],
          [
           602,
           5
          ],
          [
           603,
           3
          ],
          [
           604,
           5
          ],
          [
           605,
           5
          ],
          [
           606,
           5
          ],
          [
           607,
           5
          ],
          [
           608,
           5
          ],
          [
           609,
           1
          ],
          [
           610,
           5
          ],
          [
           611,
           5
          ],
          [
           612,
           3
          ],
          [
           613,
           4
          ],
          [
           614,
           4
          ],
          [
           615,
           5
          ],
          [
           616,
           5
          ],
          [
           617,
           3
          ],
          [
           618,
           2
          ],
          [
           619,
           1
          ],
          [
           620,
           4
          ],
          [
           621,
           5
          ],
          [
           622,
           5
          ],
          [
           623,
           3
          ],
          [
           624,
           5
          ],
          [
           625,
           5
          ],
          [
           626,
           4
          ],
          [
           627,
           5
          ],
          [
           628,
           5
          ],
          [
           629,
           4
          ],
          [
           630,
           5
          ],
          [
           631,
           2
          ],
          [
           632,
           4
          ],
          [
           633,
           5
          ],
          [
           634,
           1
          ],
          [
           635,
           3
          ],
          [
           636,
           5
          ],
          [
           637,
           4
          ],
          [
           638,
           5
          ],
          [
           639,
           5
          ],
          [
           640,
           4
          ],
          [
           641,
           2
          ],
          [
           642,
           5
          ],
          [
           643,
           5
          ],
          [
           644,
           4
          ],
          [
           645,
           5
          ],
          [
           646,
           3
          ],
          [
           647,
           2
          ],
          [
           648,
           5
          ],
          [
           649,
           1
          ],
          [
           650,
           5
          ],
          [
           651,
           3
          ],
          [
           652,
           4
          ],
          [
           653,
           5
          ],
          [
           654,
           5
          ],
          [
           655,
           3
          ],
          [
           656,
           2
          ],
          [
           657,
           5
          ],
          [
           658,
           5
          ],
          [
           659,
           5
          ],
          [
           660,
           4
          ],
          [
           661,
           5
          ],
          [
           662,
           2
          ],
          [
           663,
           5
          ],
          [
           664,
           5
          ],
          [
           665,
           5
          ],
          [
           666,
           4
          ],
          [
           667,
           5
          ],
          [
           668,
           5
          ],
          [
           669,
           5
          ],
          [
           670,
           5
          ],
          [
           671,
           4
          ],
          [
           672,
           5
          ],
          [
           673,
           5
          ],
          [
           674,
           4
          ],
          [
           675,
           5
          ],
          [
           676,
           1
          ],
          [
           677,
           5
          ],
          [
           678,
           5
          ],
          [
           679,
           4
          ],
          [
           680,
           5
          ],
          [
           681,
           4
          ],
          [
           682,
           5
          ],
          [
           683,
           5
          ],
          [
           684,
           5
          ],
          [
           685,
           4
          ],
          [
           686,
           5
          ],
          [
           687,
           5
          ],
          [
           688,
           5
          ],
          [
           689,
           2
          ],
          [
           690,
           5
          ],
          [
           691,
           2
          ],
          [
           692,
           1
          ],
          [
           693,
           4
          ],
          [
           694,
           5
          ],
          [
           695,
           5
          ],
          [
           696,
           5
          ],
          [
           697,
           4
          ],
          [
           698,
           4
          ],
          [
           699,
           5
          ],
          [
           700,
           5
          ],
          [
           701,
           5
          ],
          [
           702,
           5
          ],
          [
           703,
           4
          ],
          [
           704,
           5
          ],
          [
           705,
           5
          ],
          [
           706,
           5
          ],
          [
           707,
           5
          ],
          [
           708,
           1
          ],
          [
           709,
           5
          ],
          [
           710,
           5
          ],
          [
           711,
           5
          ],
          [
           712,
           5
          ],
          [
           713,
           5
          ],
          [
           714,
           4
          ],
          [
           715,
           4
          ],
          [
           716,
           5
          ],
          [
           717,
           4
          ],
          [
           718,
           3
          ],
          [
           719,
           5
          ],
          [
           720,
           3
          ],
          [
           721,
           3
          ],
          [
           722,
           5
          ],
          [
           723,
           5
          ],
          [
           724,
           4
          ],
          [
           725,
           2
          ],
          [
           726,
           4
          ],
          [
           727,
           5
          ],
          [
           728,
           4
          ],
          [
           729,
           2
          ],
          [
           730,
           5
          ],
          [
           731,
           3
          ],
          [
           732,
           5
          ],
          [
           733,
           1
          ],
          [
           734,
           5
          ],
          [
           735,
           5
          ],
          [
           736,
           5
          ],
          [
           737,
           5
          ],
          [
           738,
           5
          ],
          [
           739,
           1
          ],
          [
           740,
           5
          ],
          [
           741,
           5
          ],
          [
           742,
           1
          ],
          [
           743,
           4
          ],
          [
           744,
           5
          ],
          [
           745,
           5
          ],
          [
           746,
           1
          ],
          [
           747,
           5
          ],
          [
           748,
           5
          ],
          [
           749,
           4
          ],
          [
           750,
           3
          ],
          [
           751,
           3
          ],
          [
           752,
           4
          ],
          [
           753,
           5
          ],
          [
           754,
           5
          ],
          [
           755,
           5
          ],
          [
           756,
           4
          ],
          [
           757,
           4
          ],
          [
           758,
           5
          ],
          [
           759,
           4
          ],
          [
           760,
           4
          ],
          [
           761,
           5
          ],
          [
           762,
           3
          ],
          [
           763,
           4
          ],
          [
           764,
           5
          ],
          [
           765,
           5
          ],
          [
           766,
           5
          ],
          [
           767,
           4
          ],
          [
           768,
           5
          ],
          [
           769,
           5
          ],
          [
           770,
           5
          ],
          [
           771,
           4
          ],
          [
           772,
           3
          ],
          [
           773,
           4
          ],
          [
           774,
           5
          ],
          [
           775,
           3
          ],
          [
           776,
           5
          ],
          [
           777,
           4
          ],
          [
           778,
           3
          ],
          [
           779,
           5
          ],
          [
           780,
           4
          ],
          [
           781,
           5
          ],
          [
           782,
           5
          ],
          [
           783,
           5
          ],
          [
           784,
           5
          ],
          [
           785,
           5
          ],
          [
           786,
           3
          ],
          [
           787,
           4
          ],
          [
           788,
           5
          ],
          [
           789,
           4
          ],
          [
           790,
           5
          ],
          [
           791,
           4
          ],
          [
           792,
           5
          ],
          [
           793,
           1
          ],
          [
           794,
           2
          ],
          [
           795,
           5
          ],
          [
           796,
           5
          ],
          [
           797,
           3
          ],
          [
           798,
           4
          ],
          [
           799,
           5
          ],
          [
           800,
           3
          ],
          [
           801,
           5
          ],
          [
           802,
           3
          ],
          [
           803,
           3
          ],
          [
           804,
           4
          ],
          [
           805,
           5
          ],
          [
           806,
           5
          ],
          [
           807,
           2
          ],
          [
           808,
           5
          ],
          [
           809,
           5
          ],
          [
           810,
           5
          ],
          [
           811,
           4
          ],
          [
           812,
           3
          ],
          [
           813,
           3
          ],
          [
           814,
           5
          ],
          [
           815,
           5
          ],
          [
           816,
           5
          ],
          [
           817,
           3
          ],
          [
           818,
           5
          ],
          [
           819,
           5
          ],
          [
           820,
           5
          ],
          [
           821,
           5
          ],
          [
           822,
           4
          ],
          [
           823,
           5
          ],
          [
           824,
           5
          ],
          [
           825,
           4
          ],
          [
           826,
           3
          ],
          [
           827,
           4
          ],
          [
           828,
           5
          ],
          [
           829,
           4
          ],
          [
           830,
           5
          ],
          [
           831,
           1
          ],
          [
           832,
           4
          ],
          [
           833,
           5
          ],
          [
           834,
           4
          ],
          [
           835,
           5
          ],
          [
           836,
           5
          ],
          [
           837,
           5
          ],
          [
           838,
           5
          ],
          [
           839,
           5
          ],
          [
           840,
           5
          ],
          [
           841,
           2
          ],
          [
           842,
           5
          ],
          [
           843,
           5
          ],
          [
           844,
           1
          ],
          [
           845,
           4
          ],
          [
           846,
           2
          ],
          [
           847,
           5
          ],
          [
           848,
           4
          ],
          [
           849,
           5
          ],
          [
           850,
           4
          ],
          [
           851,
           2
          ],
          [
           852,
           1
          ],
          [
           853,
           5
          ],
          [
           854,
           5
          ],
          [
           855,
           5
          ],
          [
           856,
           2
          ],
          [
           857,
           4
          ],
          [
           858,
           4
          ],
          [
           859,
           5
          ],
          [
           860,
           2
          ],
          [
           861,
           4
          ],
          [
           862,
           5
          ],
          [
           863,
           5
          ],
          [
           864,
           5
          ],
          [
           865,
           5
          ],
          [
           866,
           4
          ],
          [
           867,
           5
          ],
          [
           868,
           3
          ],
          [
           869,
           5
          ],
          [
           870,
           5
          ],
          [
           871,
           5
          ],
          [
           872,
           5
          ],
          [
           873,
           4
          ],
          [
           874,
           5
          ],
          [
           875,
           4
          ],
          [
           876,
           3
          ],
          [
           877,
           5
          ],
          [
           878,
           2
          ],
          [
           879,
           3
          ],
          [
           880,
           5
          ],
          [
           881,
           5
          ],
          [
           882,
           5
          ],
          [
           883,
           3
          ],
          [
           884,
           4
          ],
          [
           885,
           3
          ],
          [
           886,
           5
          ],
          [
           887,
           5
          ],
          [
           888,
           4
          ],
          [
           889,
           5
          ],
          [
           890,
           5
          ],
          [
           891,
           5
          ],
          [
           892,
           5
          ],
          [
           893,
           4
          ],
          [
           894,
           3
          ],
          [
           895,
           3
          ],
          [
           896,
           5
          ],
          [
           897,
           5
          ],
          [
           898,
           3
          ],
          [
           899,
           4
          ],
          [
           900,
           5
          ],
          [
           901,
           5
          ],
          [
           902,
           5
          ],
          [
           903,
           4
          ],
          [
           904,
           5
          ],
          [
           905,
           1
          ],
          [
           906,
           5
          ],
          [
           907,
           5
          ],
          [
           908,
           1
          ],
          [
           909,
           4
          ],
          [
           910,
           5
          ],
          [
           911,
           4
          ],
          [
           912,
           5
          ],
          [
           913,
           5
          ],
          [
           914,
           3
          ],
          [
           915,
           2
          ],
          [
           916,
           5
          ],
          [
           917,
           4
          ],
          [
           918,
           5
          ],
          [
           919,
           5
          ],
          [
           920,
           4
          ],
          [
           921,
           5
          ],
          [
           922,
           4
          ],
          [
           923,
           3
          ],
          [
           924,
           5
          ],
          [
           925,
           2
          ],
          [
           926,
           5
          ],
          [
           927,
           4
          ],
          [
           928,
           4
          ],
          [
           929,
           5
          ],
          [
           930,
           5
          ],
          [
           931,
           5
          ],
          [
           932,
           5
          ],
          [
           933,
           5
          ],
          [
           934,
           3
          ],
          [
           935,
           5
          ],
          [
           936,
           4
          ],
          [
           937,
           2
          ],
          [
           938,
           3
          ],
          [
           939,
           5
          ],
          [
           940,
           5
          ],
          [
           941,
           5
          ],
          [
           942,
           5
          ],
          [
           943,
           5
          ],
          [
           944,
           2
          ],
          [
           945,
           5
          ],
          [
           946,
           4
          ],
          [
           947,
           4
          ],
          [
           948,
           5
          ],
          [
           949,
           5
          ],
          [
           950,
           3
          ],
          [
           951,
           3
          ],
          [
           952,
           3
          ],
          [
           953,
           5
          ],
          [
           954,
           5
          ],
          [
           955,
           3
          ],
          [
           956,
           5
          ],
          [
           957,
           5
          ],
          [
           958,
           4
          ],
          [
           959,
           5
          ],
          [
           960,
           3
          ],
          [
           961,
           4
          ],
          [
           962,
           5
          ],
          [
           963,
           4
          ],
          [
           964,
           2
          ],
          [
           965,
           4
          ],
          [
           966,
           5
          ],
          [
           967,
           3
          ],
          [
           968,
           5
          ],
          [
           969,
           2
          ],
          [
           970,
           2
          ],
          [
           971,
           2
          ],
          [
           972,
           5
          ],
          [
           973,
           5
          ],
          [
           974,
           4
          ],
          [
           975,
           5
          ],
          [
           976,
           5
          ],
          [
           977,
           2
          ],
          [
           978,
           5
          ],
          [
           979,
           4
          ],
          [
           980,
           3
          ],
          [
           981,
           5
          ],
          [
           982,
           5
          ],
          [
           983,
           4
          ],
          [
           984,
           4
          ],
          [
           985,
           3
          ],
          [
           986,
           4
          ],
          [
           987,
           5
          ],
          [
           988,
           3
          ],
          [
           989,
           1
          ],
          [
           990,
           4
          ],
          [
           991,
           5
          ],
          [
           992,
           5
          ],
          [
           993,
           4
          ],
          [
           994,
           5
          ],
          [
           995,
           5
          ],
          [
           996,
           4
          ],
          [
           997,
           5
          ],
          [
           998,
           4
          ],
          [
           999,
           5
          ]
         ],
         "hovertemplate": "pca_component_1=%{x}<br>pca_component_2=%{y}<br>review_id=%{customdata[0]}<br>rating_score=%{customdata[1]}<br>pca_cluster=%{marker.color}<extra></extra>",
         "legendgroup": "",
         "marker": {
          "color": [
           0,
           0,
           0,
           0,
           0,
           0,
           0,
           0,
           0,
           0,
           0,
           0,
           0,
           0,
           0,
           0,
           0,
           0,
           0,
           0,
           0,
           0,
           0,
           0,
           0,
           0,
           0,
           0,
           0,
           0,
           0,
           0,
           0,
           0,
           0,
           0,
           0,
           0,
           0,
           0,
           0,
           0,
           0,
           0,
           0,
           0,
           0,
           0,
           0,
           0,
           0,
           0,
           0,
           0,
           0,
           0,
           0,
           0,
           0,
           0,
           0,
           0,
           0,
           0,
           0,
           0,
           0,
           0,
           0,
           0,
           0,
           0,
           0,
           0,
           0,
           0,
           0,
           0,
           0,
           0,
           0,
           0,
           0,
           0,
           0,
           0,
           0,
           0,
           0,
           0,
           0,
           0,
           0,
           0,
           0,
           0,
           0,
           -1,
           0,
           0,
           0,
           0,
           0,
           0,
           0,
           0,
           0,
           0,
           0,
           0,
           0,
           0,
           0,
           0,
           0,
           0,
           0,
           0,
           0,
           0,
           0,
           0,
           0,
           0,
           0,
           0,
           0,
           0,
           0,
           0,
           0,
           0,
           0,
           0,
           0,
           0,
           0,
           0,
           0,
           0,
           0,
           0,
           0,
           0,
           0,
           0,
           0,
           0,
           0,
           -1,
           0,
           0,
           0,
           0,
           0,
           0,
           0,
           0,
           0,
           0,
           0,
           0,
           0,
           0,
           0,
           0,
           0,
           0,
           0,
           0,
           0,
           0,
           0,
           0,
           0,
           0,
           0,
           0,
           0,
           0,
           0,
           0,
           0,
           0,
           0,
           0,
           0,
           0,
           0,
           0,
           0,
           0,
           0,
           0,
           0,
           0,
           0,
           0,
           0,
           0,
           0,
           0,
           0,
           0,
           0,
           0,
           0,
           0,
           0,
           0,
           0,
           0,
           0,
           0,
           0,
           0,
           0,
           0,
           0,
           0,
           0,
           0,
           0,
           0,
           0,
           0,
           0,
           0,
           0,
           0,
           0,
           0,
           0,
           0,
           0,
           0,
           0,
           0,
           0,
           0,
           0,
           0,
           0,
           0,
           0,
           0,
           0,
           0,
           0,
           0,
           0,
           0,
           0,
           0,
           0,
           0,
           0,
           0,
           0,
           0,
           0,
           0,
           0,
           0,
           0,
           0,
           0,
           0,
           0,
           0,
           0,
           0,
           0,
           0,
           0,
           0,
           0,
           0,
           0,
           0,
           0,
           0,
           0,
           0,
           0,
           0,
           0,
           0,
           0,
           0,
           0,
           0,
           0,
           0,
           0,
           0,
           0,
           0,
           0,
           0,
           0,
           0,
           0,
           0,
           0,
           0,
           0,
           0,
           0,
           0,
           0,
           0,
           0,
           0,
           0,
           0,
           0,
           0,
           0,
           0,
           0,
           0,
           0,
           0,
           0,
           0,
           0,
           0,
           0,
           0,
           0,
           0,
           0,
           0,
           0,
           0,
           0,
           0,
           0,
           0,
           0,
           0,
           0,
           0,
           0,
           0,
           0,
           0,
           0,
           0,
           0,
           0,
           0,
           0,
           0,
           0,
           0,
           0,
           0,
           0,
           0,
           0,
           0,
           0,
           0,
           0,
           0,
           0,
           0,
           0,
           0,
           0,
           0,
           0,
           0,
           0,
           0,
           0,
           0,
           0,
           0,
           0,
           0,
           0,
           0,
           0,
           0,
           0,
           0,
           0,
           0,
           0,
           0,
           0,
           0,
           0,
           0,
           0,
           0,
           0,
           0,
           0,
           0,
           0,
           0,
           0,
           0,
           0,
           0,
           0,
           0,
           0,
           0,
           0,
           0,
           0,
           0,
           0,
           0,
           0,
           0,
           0,
           0,
           0,
           0,
           0,
           0,
           0,
           0,
           0,
           0,
           0,
           0,
           0,
           0,
           0,
           0,
           0,
           0,
           0,
           0,
           0,
           0,
           0,
           0,
           0,
           0,
           0,
           0,
           0,
           0,
           0,
           0,
           0,
           0,
           0,
           0,
           0,
           0,
           0,
           0,
           0,
           0,
           0,
           0,
           0,
           0,
           0,
           0,
           0,
           0,
           0,
           0,
           0,
           0,
           0,
           0,
           0,
           0,
           0,
           0,
           0,
           0,
           0,
           0,
           0,
           0,
           0,
           0,
           0,
           0,
           0,
           0,
           0,
           0,
           0,
           0,
           0,
           0,
           0,
           0,
           0,
           0,
           0,
           0,
           0,
           0,
           0,
           0,
           0,
           0,
           0,
           0,
           0,
           0,
           0,
           0,
           0,
           0,
           0,
           0,
           0,
           0,
           0,
           0,
           0,
           0,
           0,
           0,
           0,
           0,
           0,
           0,
           0,
           0,
           0,
           0,
           0,
           0,
           0,
           0,
           0,
           0,
           0,
           0,
           0,
           0,
           0,
           0,
           0,
           0,
           0,
           0,
           0,
           0,
           0,
           0,
           0,
           0,
           0,
           0,
           0,
           0,
           0,
           0,
           0,
           0,
           0,
           0,
           0,
           0,
           0,
           0,
           0,
           0,
           0,
           0,
           0,
           0,
           0,
           0,
           0,
           0,
           0,
           0,
           0,
           0,
           0,
           0,
           0,
           0,
           0,
           0,
           0,
           0,
           0,
           0,
           0,
           0,
           0,
           0,
           0,
           0,
           0,
           0,
           0,
           0,
           0,
           0,
           0,
           0,
           0,
           0,
           0,
           0,
           0,
           0,
           0,
           0,
           0,
           0,
           0,
           0,
           0,
           0,
           0,
           0,
           0,
           0,
           0,
           0,
           0,
           0,
           0,
           0,
           0,
           0,
           0,
           0,
           0,
           0,
           0,
           0,
           0,
           0,
           0,
           0,
           0,
           0,
           0,
           0,
           0,
           0,
           0,
           0,
           0,
           0,
           0,
           0,
           0,
           0,
           0,
           0,
           0,
           0,
           0,
           0,
           0,
           0,
           0,
           0,
           0,
           0,
           0,
           0,
           0,
           0,
           0,
           0,
           0,
           0,
           0,
           0,
           0,
           0,
           0,
           0,
           0,
           0,
           0,
           0,
           0,
           0,
           0,
           0,
           0,
           0,
           0,
           0,
           0,
           0,
           0,
           0,
           0,
           0,
           0,
           0,
           0,
           0,
           0,
           0,
           0,
           0,
           0,
           0,
           0,
           0,
           0,
           0,
           0,
           0,
           0,
           0,
           0,
           0,
           0,
           0,
           0,
           0,
           0,
           0,
           0,
           0,
           0,
           0,
           0,
           0,
           0,
           0,
           0,
           0,
           0,
           0,
           0,
           0,
           0,
           0,
           0,
           0,
           0,
           0,
           0,
           0,
           0,
           0,
           0,
           0,
           0,
           0,
           0,
           0,
           0,
           0,
           0,
           0,
           0,
           0,
           0,
           0,
           0,
           0,
           0,
           0,
           0,
           0,
           0,
           0,
           0,
           0,
           0,
           0,
           0,
           0,
           0,
           0,
           0,
           0,
           0,
           0,
           0,
           0,
           0,
           -1,
           0,
           0,
           0,
           0,
           0,
           0,
           0,
           0,
           0,
           0,
           0,
           0,
           -1,
           0,
           0,
           0,
           0,
           0,
           0,
           0,
           0,
           0,
           0,
           0,
           0,
           0,
           0,
           0,
           0,
           0,
           0,
           0,
           0,
           0,
           0,
           0,
           0,
           0,
           0,
           0,
           0,
           0,
           0,
           0,
           0,
           0,
           0,
           0,
           0,
           0,
           0,
           0,
           0,
           0,
           0,
           0,
           0,
           0,
           0,
           0,
           0,
           0,
           0,
           0,
           0,
           0,
           0,
           0,
           0,
           0,
           0,
           0,
           0,
           0,
           0,
           0,
           0,
           0,
           0,
           0,
           0,
           0,
           0,
           0,
           0,
           0,
           0,
           0,
           0,
           0,
           0,
           0,
           0,
           0,
           0,
           0,
           0,
           0,
           0,
           0,
           0,
           0,
           0,
           0,
           0,
           0,
           0,
           0,
           0,
           0,
           0,
           0,
           0,
           0,
           0,
           0,
           0,
           0,
           0,
           0,
           0,
           0,
           0,
           0,
           0,
           0,
           0,
           0,
           0,
           0,
           0,
           0,
           0,
           0,
           0,
           0,
           0,
           0,
           0,
           0,
           0,
           0,
           0,
           0,
           0,
           0,
           0,
           0,
           0,
           0,
           0,
           0,
           0,
           0,
           0,
           0,
           0,
           0,
           0,
           0,
           0,
           0,
           0,
           0,
           0,
           0,
           0,
           0,
           0,
           0,
           0,
           0,
           0,
           0,
           0,
           0,
           0,
           0,
           0,
           0,
           0,
           0,
           0,
           0,
           0,
           0,
           0,
           0,
           0,
           0,
           0,
           0,
           0,
           0,
           0,
           0,
           0,
           0,
           0,
           0,
           0,
           0,
           0,
           0,
           0,
           0,
           0
          ],
          "coloraxis": "coloraxis",
          "symbol": "circle"
         },
         "mode": "markers",
         "name": "",
         "orientation": "v",
         "showlegend": false,
         "type": "scatter",
         "x": [
          -1.3433632850646973,
          4.002862453460693,
          0.24818873405456543,
          -0.5802305936813354,
          3.1653480529785156,
          1.3361988067626953,
          0.7307345271110535,
          0.5330098271369934,
          -1.2247934341430664,
          -0.31900283694267273,
          2.248854160308838,
          0.1606563925743103,
          -0.7854048609733582,
          1.2580384016036987,
          -1.1359832286834717,
          -2.7424986362457275,
          -0.1558925360441208,
          -0.6086625456809998,
          -0.8332451581954956,
          3.342203378677368,
          0.02651708759367466,
          0.9151126742362976,
          0.8130415678024292,
          -0.9991350173950195,
          1.3669148683547974,
          3.4519569873809814,
          -2.021235466003418,
          2.7704124450683594,
          1.6323870420455933,
          -0.5211979150772095,
          -0.17507272958755493,
          -0.651033341884613,
          -1.6023989915847778,
          -2.069967031478882,
          -1.0809417963027954,
          3.43583607673645,
          -0.31763067841529846,
          -0.4140344560146332,
          -1.6509604454040527,
          -0.686585545539856,
          0.017365066334605217,
          -1.121863603591919,
          -2.7968873977661133,
          -2.1447606086730957,
          -0.2794937491416931,
          0.8346589803695679,
          3.875994920730591,
          -1.3203816413879395,
          -0.76710045337677,
          3.8092358112335205,
          -1.0578864812850952,
          -2.20965838432312,
          -0.028276225551962852,
          -2.1865739822387695,
          -0.8398313522338867,
          -1.833862543106079,
          0.7975810170173645,
          3.2979657649993896,
          -0.3594188392162323,
          3.7315449714660645,
          1.967448115348816,
          -0.8322413563728333,
          3.7105462551116943,
          -0.765280544757843,
          -1.8423789739608765,
          1.1785603761672974,
          0.5712745189666748,
          -0.7664783596992493,
          3.237076997756958,
          -0.159391388297081,
          -1.8295032978057861,
          -0.2405327558517456,
          -0.8757508397102356,
          -0.5298957228660583,
          -0.06569594144821167,
          -0.7243523597717285,
          -1.9559872150421143,
          -0.4191036522388458,
          0.9337978363037109,
          -1.0945804119110107,
          -1.8997693061828613,
          0.32563695311546326,
          -1.2887667417526245,
          -0.5063397884368896,
          -1.1590865850448608,
          -0.0995284914970398,
          -1.2766101360321045,
          2.1578869819641113,
          3.8507463932037354,
          -0.8563482165336609,
          -0.702060341835022,
          -3.262053966522217,
          -0.7169960141181946,
          0.5405000448226929,
          -1.1924928426742554,
          -1.6828781366348267,
          -1.170084834098816,
          -4.359654903411865,
          3.423370599746704,
          2.8992350101470947,
          -1.2344247102737427,
          -0.31290602684020996,
          -0.13279227912425995,
          -2.09599232673645,
          -1.6593692302703857,
          -0.9316217303276062,
          -1.3302342891693115,
          -1.5176141262054443,
          -0.9856633543968201,
          2.2692689895629883,
          4.056891918182373,
          -0.5949844717979431,
          -1.3665111064910889,
          -0.48374542593955994,
          -0.11777038127183914,
          -1.0923093557357788,
          -0.8859682083129883,
          3.7899632453918457,
          -0.8010430335998535,
          -1.4714215993881226,
          -0.2898359000682831,
          -2.5950868129730225,
          -0.7162591218948364,
          -0.6564566493034363,
          -0.5197561383247375,
          -1.325366497039795,
          -0.0021148400846868753,
          -1.732520341873169,
          1.0719637870788574,
          -1.2029622793197632,
          0.06776340305805206,
          1.4449827671051025,
          -0.2282024621963501,
          -0.6380410194396973,
          1.0391327142715454,
          -1.1941473484039307,
          -2.5271592140197754,
          -2.5099127292633057,
          3.7111504077911377,
          3.7126781940460205,
          1.5570260286331177,
          -0.8940620422363281,
          -0.0443195141851902,
          3.428347110748291,
          -0.49280405044555664,
          -0.9705979228019714,
          -0.24719734489917755,
          -1.2449389696121216,
          0.828669011592865,
          -3.698986291885376,
          -1.1836962699890137,
          -0.8113882541656494,
          -1.0511447191238403,
          -0.5992662310600281,
          3.027392625808716,
          3.071262836456299,
          -0.1718432903289795,
          -0.9702069759368896,
          -0.9993591904640198,
          -0.95795077085495,
          -1.3832889795303345,
          -0.7715506553649902,
          -0.9141116142272949,
          -1.2471081018447876,
          3.5490806102752686,
          -1.5483722686767578,
          -1.9168850183486938,
          -2.057805061340332,
          -2.7845115661621094,
          0.33234986662864685,
          3.6612672805786133,
          0.16569632291793823,
          -0.1597900539636612,
          0.014869224280118942,
          1.3830182552337646,
          -2.5042030811309814,
          -1.626717209815979,
          -0.01348051056265831,
          1.2841746807098389,
          -1.3100818395614624,
          -0.6168321967124939,
          0.6671308875083923,
          2.078328847885132,
          -0.19118982553482056,
          -0.35268834233283997,
          -1.9352059364318848,
          0.5234283208847046,
          -1.741410493850708,
          4.266384124755859,
          3.2620673179626465,
          -0.6020386815071106,
          -0.794309675693512,
          0.9413987994194031,
          3.533527135848999,
          0.49588173627853394,
          -1.322737693786621,
          0.3158893883228302,
          -2.065467119216919,
          -1.2356181144714355,
          -3.568474769592285,
          -1.8948862552642822,
          0.5801599621772766,
          0.6425416469573975,
          0.26887863874435425,
          -1.7403839826583862,
          -2.2896573543548584,
          3.296199321746826,
          -0.6185168027877808,
          -1.4668811559677124,
          -1.3500471115112305,
          3.3181588649749756,
          -0.4714828133583069,
          3.290581703186035,
          -2.317333459854126,
          -1.162531852722168,
          -0.05482235923409462,
          -0.4601450264453888,
          -0.2292831391096115,
          -1.1957788467407227,
          -1.2176119089126587,
          -0.9026114344596863,
          -1.066781759262085,
          -0.22091302275657654,
          0.17296893894672394,
          0.36396563053131104,
          0.5373247265815735,
          0.6781410574913025,
          -0.33281242847442627,
          0.9094508290290833,
          -1.471004843711853,
          0.08492708951234818,
          -1.8720802068710327,
          -1.749208927154541,
          2.9979307651519775,
          -1.4241853952407837,
          4.026603698730469,
          -1.09990656375885,
          -2.023969888687134,
          -1.1146827936172485,
          2.587139844894409,
          1.0879710912704468,
          -0.05172267183661461,
          -0.4110787510871887,
          -0.16739170253276825,
          3.0163323879241943,
          2.774421215057373,
          -1.0189080238342285,
          -0.8710905313491821,
          -0.20853231847286224,
          3.8100364208221436,
          3.7300288677215576,
          2.904721736907959,
          -1.924757719039917,
          3.7994987964630127,
          0.026749223470687866,
          3.816161632537842,
          -0.17367319762706757,
          -0.39489051699638367,
          -0.8396965861320496,
          -0.18961229920387268,
          -1.0355689525604248,
          2.942335844039917,
          -0.42746907472610474,
          -0.27643346786499023,
          -0.8127847909927368,
          3.5380940437316895,
          3.3583297729492188,
          -0.5248721241950989,
          -0.44731029868125916,
          -0.11860053241252899,
          -1.7093783617019653,
          0.377819299697876,
          -0.16784074902534485,
          -1.6761505603790283,
          2.8521080017089844,
          -0.27398625016212463,
          -0.11992272734642029,
          -1.9456138610839844,
          -0.2087453305721283,
          0.5095616579055786,
          -1.2508137226104736,
          0.10843424499034882,
          -0.6975576281547546,
          0.07424890995025635,
          -1.720496654510498,
          0.4108114242553711,
          0.3479871451854706,
          0.4015507996082306,
          0.2349429875612259,
          -0.4886792004108429,
          -1.1721984148025513,
          3.1256752014160156,
          1.049333095550537,
          3.878993272781372,
          -2.8108773231506348,
          -0.7702586650848389,
          2.0891518592834473,
          -1.4661363363265991,
          -0.8747863173484802,
          3.3719522953033447,
          -0.9861897230148315,
          0.1014929711818695,
          -0.8422857522964478,
          -0.6791794300079346,
          3.660295009613037,
          -0.12926025688648224,
          -1.5619328022003174,
          -0.8558019399642944,
          -1.1343199014663696,
          1.1316393613815308,
          -1.4974578619003296,
          1.2009212970733643,
          0.48708033561706543,
          -0.5912690162658691,
          -2.8867266178131104,
          0.5723295211791992,
          -2.1430888175964355,
          -0.5186511874198914,
          -0.5041660070419312,
          0.01855197176337242,
          -1.5175318717956543,
          -1.2829009294509888,
          1.382116436958313,
          -0.47798001766204834,
          1.2094813585281372,
          2.8904826641082764,
          -1.043668270111084,
          4.273378849029541,
          -0.021229034289717674,
          -0.17533010244369507,
          -0.8939656615257263,
          -1.058034896850586,
          0.7662204504013062,
          -1.1929678916931152,
          -2.4556469917297363,
          -1.3806006908416748,
          -1.003481149673462,
          1.0180598497390747,
          3.522510051727295,
          -0.09103480726480484,
          -1.9601656198501587,
          3.478492259979248,
          -0.6923919916152954,
          -1.1383187770843506,
          -1.264967679977417,
          -0.14230139553546906,
          -0.8811227679252625,
          -1.5381426811218262,
          -0.719067394733429,
          3.063215970993042,
          0.13162803649902344,
          3.1922547817230225,
          0.4256780445575714,
          -0.5287432074546814,
          -1.0066275596618652,
          -0.8045340776443481,
          3.7041258811950684,
          -1.2762013673782349,
          -1.606752872467041,
          0.7675864696502686,
          -1.2964586019515991,
          -1.7080023288726807,
          -1.1027977466583252,
          0.06445460021495819,
          3.186262845993042,
          -0.08050861954689026,
          -0.43418088555336,
          -3.096048355102539,
          -1.8601720333099365,
          3.6155731678009033,
          -0.42367053031921387,
          -0.7862242460250854,
          -2.3105123043060303,
          3.9414303302764893,
          1.0674808025360107,
          0.4138619303703308,
          -0.613116443157196,
          -1.172568917274475,
          -0.09775137901306152,
          -1.3281316757202148,
          -0.01947207748889923,
          1.034590482711792,
          0.1442926675081253,
          -0.18088459968566895,
          -0.5996225476264954,
          -0.23257459700107574,
          3.6932737827301025,
          -1.352439522743225,
          -2.069132089614868,
          -0.8125184178352356,
          0.3169804811477661,
          -1.5955359935760498,
          1.363826036453247,
          3.2293262481689453,
          -0.25382956862449646,
          -0.6077705025672913,
          -0.5425711274147034,
          3.5971438884735107,
          3.833162546157837,
          -1.3993276357650757,
          3.1028106212615967,
          -1.348568081855774,
          0.37290504574775696,
          -1.6281763315200806,
          3.5139782428741455,
          2.838338613510132,
          -0.5901067852973938,
          3.5493581295013428,
          -1.4971108436584473,
          -2.7890207767486572,
          3.38934063911438,
          0.38260161876678467,
          -1.3844534158706665,
          -0.8600758910179138,
          3.867173910140991,
          3.3219401836395264,
          -1.2407617568969727,
          1.1535567045211792,
          -0.9608550071716309,
          -0.3199087679386139,
          0.02700289525091648,
          -1.794636607170105,
          0.6149446964263916,
          2.902712821960449,
          -0.5867714881896973,
          -1.0535774230957031,
          -1.1675587892532349,
          0.6001470685005188,
          -1.2929022312164307,
          -0.3110116422176361,
          0.004948108457028866,
          -0.1604049801826477,
          -0.6398096084594727,
          2.7066233158111572,
          3.2771620750427246,
          -0.07703669369220734,
          -0.9754887819290161,
          0.12199140340089798,
          -0.14670372009277344,
          -1.878574252128601,
          -0.10235151648521423,
          -0.8976398706436157,
          1.8789141178131104,
          3.3947064876556396,
          -1.0346317291259766,
          0.1582401543855667,
          -1.902466058731079,
          -1.2438418865203857,
          -1.6025179624557495,
          -1.620658040046692,
          -1.2077200412750244,
          0.41038984060287476,
          -0.931962251663208,
          -1.0517046451568604,
          -0.5173752307891846,
          -2.7557084560394287,
          -1.9732636213302612,
          2.5360684394836426,
          -0.6652557849884033,
          0.4204603433609009,
          -2.503723621368408,
          3.314037322998047,
          2.1701478958129883,
          -0.47758862376213074,
          0.4097940921783447,
          -1.6220310926437378,
          -2.520829200744629,
          3.120647430419922,
          -1.2608541250228882,
          0.8503576517105103,
          0.32699570059776306,
          -1.249321699142456,
          2.9338839054107666,
          -1.6217602491378784,
          -0.47259578108787537,
          -1.5648527145385742,
          -1.7421154975891113,
          -1.1418230533599854,
          -1.852994680404663,
          -0.6343438029289246,
          -1.8920462131500244,
          3.2963051795959473,
          1.2861173152923584,
          0.7584171891212463,
          0.9830466508865356,
          -1.2144229412078857,
          -2.3971405029296875,
          -1.8534170389175415,
          -0.7048895955085754,
          3.288757085800171,
          -1.8027427196502686,
          0.6111317276954651,
          3.7330782413482666,
          -2.3309741020202637,
          0.08034449815750122,
          -1.1296807527542114,
          -1.1855272054672241,
          0.02525407075881958,
          -1.0127780437469482,
          3.120323419570923,
          -0.0062587568536400795,
          -1.3667409420013428,
          -0.31902772188186646,
          -0.2442246377468109,
          2.2960116863250732,
          0.5059187412261963,
          -1.4344030618667603,
          -1.595447063446045,
          -0.9099034667015076,
          2.4093897342681885,
          -0.48973900079727173,
          -2.1033918857574463,
          -0.9059796929359436,
          -1.2435177564620972,
          -2.054739475250244,
          1.5399173498153687,
          3.4965600967407227,
          -1.0482696294784546,
          -0.6124172210693359,
          0.008699568919837475,
          0.6036140322685242,
          3.8287973403930664,
          4.253665447235107,
          -0.729063868522644,
          -0.40662047266960144,
          -0.4934113323688507,
          -2.319739580154419,
          -1.4808404445648193,
          -1.6644290685653687,
          -0.4780856668949127,
          2.3269693851470947,
          0.8852654695510864,
          -0.7251536250114441,
          -0.8016971349716187,
          -0.5054821968078613,
          2.9205129146575928,
          -0.8079428672790527,
          -0.7129119038581848,
          -0.14683425426483154,
          1.5630693435668945,
          -0.6986559629440308,
          3.6925783157348633,
          -0.10990440845489502,
          -1.7289291620254517,
          -2.177253246307373,
          3.5634870529174805,
          0.7402157783508301,
          1.2792956829071045,
          -3.1390740871429443,
          -1.3778867721557617,
          -0.36881130933761597,
          3.623063325881958,
          -1.8004570007324219,
          -1.420061469078064,
          -0.6900156736373901,
          0.40760624408721924,
          2.416804552078247,
          -0.004669833462685347,
          -0.12943170964717865,
          -2.8606626987457275,
          -0.7182654738426208,
          0.017770372331142426,
          3.4917562007904053,
          0.8216041326522827,
          1.13918137550354,
          -1.406764030456543,
          -0.6268207430839539,
          -2.0243353843688965,
          2.6657004356384277,
          2.5512635707855225,
          0.02630063146352768,
          0.925223171710968,
          -0.733695924282074,
          -1.522301435470581,
          -0.1237022653222084,
          1.318312168121338,
          -1.0146510601043701,
          -0.8098934888839722,
          3.6822822093963623,
          3.8409149646759033,
          -2.3718159198760986,
          -2.0117971897125244,
          -1.6106537580490112,
          0.44934597611427307,
          -1.9183448553085327,
          -0.18715091049671173,
          -0.6719598770141602,
          -0.7005951404571533,
          2.8235256671905518,
          0.7056643962860107,
          -1.8375823497772217,
          -0.0018076588166877627,
          -1.1928743124008179,
          -0.12875394523143768,
          -1.6974774599075317,
          -0.13195772469043732,
          -1.2805202007293701,
          3.8561134338378906,
          -1.2784819602966309,
          3.19038724899292,
          -0.9023387432098389,
          -1.459027647972107,
          -0.7420015931129456,
          -1.0163052082061768,
          3.3415796756744385,
          0.3705899119377136,
          -0.3776625394821167,
          -1.766547679901123,
          -0.5583474636077881,
          0.2700059711933136,
          -0.9624635577201843,
          -0.37212228775024414,
          0.007392991799861193,
          -0.08418656140565872,
          -1.4166728258132935,
          -1.8278107643127441,
          -0.34151118993759155,
          -1.1299411058425903,
          1.932926058769226,
          -0.871599555015564,
          -0.3986208736896515,
          -1.7048553228378296,
          -0.1420935094356537,
          0.484560489654541,
          -1.0867509841918945,
          -1.8086026906967163,
          -0.41976284980773926,
          -2.6223855018615723,
          -1.0653713941574097,
          -0.6681253910064697,
          -2.207645893096924,
          0.4996926188468933,
          3.4272775650024414,
          -1.3734416961669922,
          3.883035898208618,
          -1.3171581029891968,
          -0.2139202058315277,
          -0.8690558671951294,
          -1.4272220134735107,
          0.7303621172904968,
          1.1174272298812866,
          4.145868301391602,
          -0.8838972449302673,
          -1.4466872215270996,
          -0.7256091237068176,
          -0.5050345063209534,
          1.3926743268966675,
          -2.0423285961151123,
          -0.6414430141448975,
          0.11098697781562805,
          4.1192708015441895,
          -0.27273160219192505,
          0.5988292694091797,
          3.3305532932281494,
          0.00907430425286293,
          2.9299001693725586,
          3.475592851638794,
          -1.7003995180130005,
          -1.7914313077926636,
          -2.324462890625,
          3.855484962463379,
          -0.7897191047668457,
          3.395968198776245,
          0.16676372289657593,
          -1.7140222787857056,
          -2.0356366634368896,
          -0.5492038726806641,
          -0.4664560854434967,
          -0.3417413830757141,
          1.5378996133804321,
          -0.4517114460468292,
          -2.0829834938049316,
          -1.404515266418457,
          3.1694095134735107,
          -0.9982931613922119,
          -1.7639751434326172,
          1.3720864057540894,
          0.3175925016403198,
          0.6831098198890686,
          0.555864155292511,
          -1.038188099861145,
          -1.7396562099456787,
          1.0408190488815308,
          -0.9945167303085327,
          0.6217602491378784,
          -1.1973515748977661,
          -0.7677814960479736,
          2.893846035003662,
          -0.7393784523010254,
          3.347446918487549,
          -0.21055811643600464,
          -1.2325202226638794,
          -0.9663788080215454,
          -1.6243524551391602,
          0.7947110533714294,
          -0.6802825331687927,
          -1.5067099332809448,
          -0.1611521989107132,
          0.1525174081325531,
          3.6175596714019775,
          -0.6044635772705078,
          1.7741948366165161,
          2.9592537879943848,
          -2.7183403968811035,
          -1.6793485879898071,
          -2.1317429542541504,
          3.831712484359741,
          -0.12683506309986115,
          1.3478554487228394,
          -0.8081539273262024,
          -1.488393783569336,
          -0.9809494018554688,
          -1.8238102197647095,
          3.50405216217041,
          3.557084083557129,
          -1.0296344757080078,
          -2.4468040466308594,
          -0.4225557744503021,
          0.057437390089035034,
          -0.24323834478855133,
          -0.18533651530742645,
          -1.2705539464950562,
          0.27676019072532654,
          -1.728616714477539,
          0.37439027428627014,
          -0.11425983905792236,
          0.009951932355761528,
          2.983551025390625,
          -2.526433229446411,
          -0.25372013449668884,
          -0.24595479667186737,
          -0.9355043768882751,
          -0.3106994926929474,
          3.8335742950439453,
          -2.874455451965332,
          -0.9156818985939026,
          0.8411762118339539,
          3.343353748321533,
          -1.0158159732818604,
          1.0917190313339233,
          -0.4920680522918701,
          -0.5644330978393555,
          3.5418078899383545,
          3.560716390609741,
          -1.6391263008117676,
          0.36324527859687805,
          -0.16610538959503174,
          -0.9440953731536865,
          -0.39606744050979614,
          -2.0661540031433105,
          -0.9183391332626343,
          -1.245974063873291,
          -1.0070990324020386,
          -0.0530068464577198,
          -1.2375160455703735,
          1.4034909009933472,
          -0.8653081655502319,
          -1.4557160139083862,
          0.1577347218990326,
          -2.6894383430480957,
          -1.38176429271698,
          -0.6548465490341187,
          0.19551438093185425,
          -1.3113718032836914,
          0.9732341170310974,
          -1.2998499870300293,
          -0.4534553587436676,
          1.0472289323806763,
          -0.6329911351203918,
          -0.4686092734336853,
          -1.3652366399765015,
          -2.344831705093384,
          3.4053704738616943,
          -0.07538001239299774,
          -0.28520622849464417,
          0.22154413163661957,
          -1.0009312629699707,
          -0.321394681930542,
          3.855539560317993,
          3.5930609703063965,
          -0.7103716135025024,
          -0.32210642099380493,
          -1.091867446899414,
          -0.7956407070159912,
          -0.5738797187805176,
          -0.2105434536933899,
          -1.6698414087295532,
          1.4490265846252441,
          -1.5915720462799072,
          -0.3181842565536499,
          -0.7012355327606201,
          -1.5833895206451416,
          -3.1465163230895996,
          -0.9010287523269653,
          3.715959310531616,
          -1.007590651512146,
          0.6753208041191101,
          -1.0003443956375122,
          3.635528087615967,
          -1.414473056793213,
          1.2628693580627441,
          -1.513970136642456,
          -0.4595932364463806,
          -0.6786508560180664,
          3.5882997512817383,
          3.2430901527404785,
          0.6418054103851318,
          -0.27963730692863464,
          -1.1419376134872437,
          -2.0462310314178467,
          3.7174599170684814,
          -0.7511367797851562,
          1.0660336017608643,
          -0.8744809627532959,
          -1.3684954643249512,
          -1.8052994012832642,
          -2.1023223400115967,
          -0.23296195268630981,
          3.55446720123291,
          3.3471767902374268,
          -2.437067747116089,
          -2.372469425201416,
          -1.4930660724639893,
          -2.721092462539673,
          -1.3451253175735474,
          0.9965822100639343,
          -0.8887783288955688,
          0.6771281957626343,
          0.7569754123687744,
          -1.5629087686538696,
          -0.6329243183135986,
          3.3845252990722656,
          -1.9980590343475342,
          -1.2521352767944336,
          -1.1352524757385254,
          -0.12628905475139618,
          -0.3741850256919861,
          -0.4549710750579834,
          -1.212856411933899,
          1.3396302461624146,
          0.8274673819541931,
          -0.9764795303344727,
          3.4007880687713623,
          -0.1194937527179718,
          4.01384162902832,
          -1.0884779691696167,
          1.403027057647705,
          1.0692986249923706,
          1.0388392210006714,
          -1.2089890241622925,
          -1.2526732683181763,
          0.195493683218956,
          -0.8109190464019775,
          1.6292420625686646,
          -0.010891960002481937,
          0.2001391053199768,
          -0.35226503014564514,
          -1.6206177473068237,
          1.2045185565948486,
          -0.03877393901348114,
          3.837832450866699,
          -0.5440087914466858,
          -0.31510356068611145,
          3.147496461868286,
          -1.208699107170105,
          -0.2324124127626419,
          0.6920120120048523,
          3.434945821762085,
          -2.6105542182922363,
          -2.226919174194336,
          3.459632158279419,
          -2.302518129348755,
          0.951172411441803,
          -1.3476601839065552,
          0.4257838726043701,
          -1.2110702991485596,
          -0.9551125764846802,
          -2.1988420486450195,
          1.8104583024978638,
          -1.386443018913269,
          -1.2878957986831665,
          -1.2171587944030762,
          3.3542821407318115,
          -0.7783585786819458,
          3.7338929176330566,
          -0.21416056156158447,
          -0.032749924808740616,
          -0.8180301189422607,
          0.08655335754156113,
          -0.26223617792129517,
          -1.4408364295959473,
          -1.0461727380752563,
          -2.164933443069458,
          0.11559377610683441,
          0.4714285135269165,
          1.5723769664764404,
          -1.5651780366897583,
          -1.0006643533706665,
          3.443417549133301,
          3.6385624408721924,
          0.07570337504148483,
          -1.4044431447982788,
          -1.489320158958435,
          3.537400722503662,
          -0.1253862828016281,
          -0.18736684322357178,
          0.3325496017932892,
          3.075608491897583,
          -0.22818399965763092,
          -0.2044844925403595,
          -1.263432264328003,
          -0.43033578991889954,
          -0.283042848110199,
          0.659095287322998,
          -0.14038631319999695,
          4.024348735809326,
          -2.4041082859039307,
          -0.4658873975276947,
          -0.20432357490062714,
          0.5899354815483093,
          -0.16103622317314148,
          -0.1124318316578865,
          -0.1432507038116455,
          2.3083300590515137,
          -0.856909453868866,
          -0.25920629501342773,
          -2.493868112564087,
          -2.030468225479126,
          -1.5555459260940552,
          0.9984322786331177,
          0.7329420447349548,
          -3.0307483673095703,
          0.3305991590023041,
          -1.369492530822754,
          -0.910864531993866,
          -2.9866621494293213,
          -1.8362723588943481,
          0.7867183089256287,
          -0.23777440190315247,
          2.7780253887176514,
          3.263792037963867,
          -1.3624671697616577,
          3.5987131595611572,
          -1.6741461753845215,
          0.10156355798244476,
          -2.5605902671813965,
          -1.031725287437439,
          -0.21222585439682007,
          -0.7031182646751404,
          -0.22709040343761444,
          0.6873164772987366,
          3.502183198928833,
          2.898789167404175,
          0.10048402845859528,
          -0.433461457490921,
          -0.22864693403244019,
          1.2103612422943115,
          0.01550171710550785,
          -0.6844596266746521,
          0.5912271738052368,
          1.0184286832809448,
          0.4679897427558899,
          0.2124691903591156,
          -0.4830358028411865,
          -0.4930768311023712,
          1.9753751754760742,
          -0.5621485710144043,
          -0.07425552606582642,
          0.6976491212844849,
          0.19586169719696045,
          1.195225477218628,
          -0.12904615700244904,
          -0.0024194258730858564,
          -1.1321041584014893,
          -0.6819535493850708,
          0.36073794960975647,
          -1.098013997077942,
          2.6253011226654053,
          -0.8498857021331787,
          -1.2406208515167236,
          2.864119291305542,
          -0.29925253987312317,
          2.9133570194244385,
          -0.41749510169029236,
          0.020929189398884773,
          1.0315494537353516,
          -1.2858357429504395,
          -2.5051321983337402,
          -1.124226450920105,
          1.1015644073486328,
          -0.015325372107326984,
          0.24517719447612762,
          -0.02576335333287716,
          -0.8844779133796692,
          -0.6718007326126099,
          -0.35122984647750854,
          -0.4919332265853882,
          -1.431972861289978,
          3.3571054935455322,
          -2.5041146278381348
         ],
         "xaxis": "x",
         "y": [
          1.2500839233398438,
          -0.6699285507202148,
          0.7247013449668884,
          -1.6535389423370361,
          -0.4753412902355194,
          0.8388005495071411,
          1.9518779516220093,
          1.5552195310592651,
          -0.3919791281223297,
          0.8824864625930786,
          -0.10791390389204025,
          -0.4725952446460724,
          -1.0416046380996704,
          0.6371514797210693,
          1.1716164350509644,
          -2.187617063522339,
          -1.0710762739181519,
          -0.025883836671710014,
          1.8560997247695923,
          -1.8036417961120605,
          0.4273010492324829,
          1.6349316835403442,
          1.5451503992080688,
          2.8393912315368652,
          1.308107614517212,
          -0.7396674156188965,
          -0.17169587314128876,
          -0.6291062831878662,
          -0.7568747401237488,
          1.6606897115707397,
          1.3202307224273682,
          -0.35746121406555176,
          1.5826539993286133,
          -1.0649375915527344,
          -0.636715829372406,
          -0.9207526445388794,
          1.3735450506210327,
          -2.9115912914276123,
          2.685309886932373,
          1.6251957416534424,
          1.4272546768188477,
          -0.11380604654550552,
          -0.12312857806682587,
          -0.0539943091571331,
          2.183431625366211,
          0.8617250323295593,
          -0.2528151273727417,
          -1.281170129776001,
          0.41393622756004333,
          -0.5800424814224243,
          -1.7885316610336304,
          -0.1719805896282196,
          0.59747314453125,
          -2.213904619216919,
          -2.2006733417510986,
          -4.228180408477783,
          1.2189326286315918,
          -1.4888312816619873,
          -0.597697377204895,
          -1.4435131549835205,
          -0.5521368384361267,
          0.36489200592041016,
          -0.2247696816921234,
          0.27008479833602905,
          1.308221459388733,
          1.1854126453399658,
          1.04599928855896,
          -0.6517569422721863,
          -0.3028412163257599,
          1.8926136493682861,
          1.0225903987884521,
          -2.105360269546509,
          -0.30282649397850037,
          1.6164127588272095,
          2.0117244720458984,
          -2.2951583862304688,
          -2.827296257019043,
          -0.18740154802799225,
          1.482195496559143,
          -0.8468403816223145,
          -1.2050246000289917,
          -0.5394662618637085,
          1.1288163661956787,
          1.874308705329895,
          0.4482063353061676,
          2.723345994949341,
          -2.6397078037261963,
          -1.38181471824646,
          -1.2066400051116943,
          0.14914613962173462,
          -0.5339617729187012,
          -0.9880339503288269,
          1.0360058546066284,
          2.301318645477295,
          -1.4958678483963013,
          0.03764592856168747,
          -2.560211420059204,
          -1.4481146335601807,
          -0.06153570115566254,
          -1.398195743560791,
          -1.9193097352981567,
          -0.5425891280174255,
          -0.20466496050357819,
          -0.16477233171463013,
          0.23584528267383575,
          -0.287410706281662,
          1.112484335899353,
          1.1866978406906128,
          -1.641716480255127,
          -0.0728113129734993,
          -0.754923939704895,
          0.09372735023498535,
          -0.25284337997436523,
          -1.0934064388275146,
          1.888441801071167,
          -1.9427520036697388,
          1.8748795986175537,
          -0.7252314686775208,
          0.5352742671966553,
          -1.5209996700286865,
          -0.6747031807899475,
          0.3320617377758026,
          1.3516836166381836,
          -0.5873553156852722,
          0.7869433164596558,
          2.465888023376465,
          3.0257904529571533,
          0.13458049297332764,
          0.975864052772522,
          0.1596015840768814,
          0.9678730964660645,
          1.2753225564956665,
          0.9034291505813599,
          0.139754518866539,
          1.3256829977035522,
          2.540562152862549,
          -2.024681329727173,
          -1.1003023386001587,
          -0.9313464164733887,
          -0.2713605463504791,
          0.4574294686317444,
          0.04673035815358162,
          -0.5237517356872559,
          -0.17418409883975983,
          2.3887689113616943,
          0.9957044124603271,
          1.131635069847107,
          -1.2678929567337036,
          2.8149592876434326,
          -2.112032413482666,
          -1.786787748336792,
          0.3858835995197296,
          -2.0326781272888184,
          0.7950171232223511,
          -0.6241613030433655,
          -0.17602090537548065,
          2.5010101795196533,
          0.63289475440979,
          1.6714856624603271,
          -1.3221352100372314,
          -3.1840429306030273,
          -3.1991331577301025,
          1.482150912284851,
          -0.5109895467758179,
          -1.2226016521453857,
          0.10332121700048447,
          -1.3028498888015747,
          -3.222313642501831,
          -1.030260443687439,
          2.311476945877075,
          -0.34952983260154724,
          1.0334689617156982,
          0.5014380812644958,
          0.7107815146446228,
          0.40723997354507446,
          -0.38275206089019775,
          -0.9481863379478455,
          -1.3343807458877563,
          0.5605001449584961,
          0.6613194942474365,
          1.8383880853652954,
          0.5595152974128723,
          0.7117059230804443,
          -0.18097692728042603,
          0.43239396810531616,
          -0.9676104784011841,
          -1.3175621032714844,
          -0.03986767679452896,
          -0.07901763916015625,
          -1.5347449779510498,
          1.2423443794250488,
          1.4995322227478027,
          0.8419989943504333,
          -0.9900559782981873,
          1.721130132675171,
          0.5534745454788208,
          0.11293405294418335,
          -1.4532899856567383,
          0.9824618697166443,
          -3.555210590362549,
          -1.2242724895477295,
          2.0743567943573,
          1.7802321910858154,
          1.8126252889633179,
          -1.0632002353668213,
          0.13257385790348053,
          -1.1504781246185303,
          -0.9428276419639587,
          1.6663821935653687,
          -0.45379430055618286,
          -1.0149459838867188,
          0.34275898337364197,
          0.6221847534179688,
          1.723146915435791,
          -1.5628770589828491,
          1.477745771408081,
          1.3558018207550049,
          0.6069633364677429,
          1.008752703666687,
          0.6751298308372498,
          1.4773952960968018,
          -1.5316131114959717,
          0.9146788120269775,
          1.2793620824813843,
          0.6238176822662354,
          -1.2384529113769531,
          1.5955662727355957,
          1.7007389068603516,
          0.9095321893692017,
          -3.171093463897705,
          2.351269245147705,
          -2.5634803771972656,
          0.018138697370886803,
          -1.3993862867355347,
          0.22417965531349182,
          -0.16748392581939697,
          2.1173243522644043,
          -1.9178740978240967,
          0.03873875364661217,
          -0.05523448437452316,
          0.13911883533000946,
          1.9991861581802368,
          -1.2643647193908691,
          -0.2658907473087311,
          -1.534467101097107,
          -1.2363537549972534,
          0.3241928219795227,
          -2.8018341064453125,
          -0.9550880193710327,
          -1.2616214752197266,
          -0.5512195229530334,
          -0.3645917773246765,
          -0.026591390371322632,
          -0.013295479118824005,
          1.833125352859497,
          0.2613941729068756,
          0.8917283415794373,
          1.4967091083526611,
          0.3314133286476135,
          2.1787948608398438,
          -1.1800698041915894,
          -0.1044582799077034,
          1.4238730669021606,
          0.19849222898483276,
          2.6180052757263184,
          -1.1707218885421753,
          -0.4503856301307678,
          1.0855928659439087,
          0.21645048260688782,
          -0.8894041180610657,
          -1.496110200881958,
          0.5662746429443359,
          0.544636607170105,
          -1.015793800354004,
          0.08369147032499313,
          1.4699110984802246,
          -1.4151480197906494,
          -1.2072097063064575,
          0.012051044031977654,
          -0.4857637882232666,
          0.15325592458248138,
          -1.253345251083374,
          0.7072709202766418,
          0.36280325055122375,
          -0.1554650515317917,
          1.2164356708526611,
          2.0555665493011475,
          -0.8475176692008972,
          1.621263027191162,
          1.241546630859375,
          -0.3772210478782654,
          -0.8257298469543457,
          1.7085175514221191,
          -0.631227970123291,
          -1.6908389329910278,
          1.338465929031372,
          0.6269853115081787,
          -0.5587997436523438,
          -1.7427308559417725,
          -1.1685441732406616,
          -1.2364977598190308,
          -0.041449256241321564,
          0.6316872835159302,
          -0.4866940677165985,
          -1.1111522912979126,
          3.182612895965576,
          0.48045504093170166,
          2.4888699054718018,
          1.1057391166687012,
          1.4093786478042603,
          -1.6006221771240234,
          0.21653439104557037,
          1.199576497077942,
          1.5088125467300415,
          -0.6441535949707031,
          0.7745335102081299,
          -3.7846386432647705,
          -1.0334571599960327,
          1.7192988395690918,
          -1.089605450630188,
          1.9762012958526611,
          0.20583653450012207,
          1.778924584388733,
          1.2033143043518066,
          1.2406482696533203,
          -1.9151424169540405,
          -0.8867934942245483,
          -0.7432859539985657,
          0.7914624810218811,
          -0.74369215965271,
          1.461829662322998,
          -0.8859493136405945,
          1.9518483877182007,
          -0.020266082137823105,
          -1.209250807762146,
          0.29380837082862854,
          -2.867544174194336,
          0.630352258682251,
          -1.2012312412261963,
          -0.18180610239505768,
          0.9715167880058289,
          -1.1353187561035156,
          0.3366815447807312,
          -0.8712363243103027,
          1.0872604846954346,
          -0.1291085034608841,
          -1.5984725952148438,
          -2.7068984508514404,
          2.2493703365325928,
          -0.22573313117027283,
          1.856711745262146,
          1.0776917934417725,
          0.12109170109033585,
          -1.618776798248291,
          0.4990620017051697,
          -0.13441798090934753,
          -0.1420033574104309,
          -1.6034295558929443,
          0.8182500004768372,
          0.3094238042831421,
          -2.193955898284912,
          -0.3070904016494751,
          -0.9758607149124146,
          1.3987829685211182,
          -1.2920092344284058,
          0.23765349388122559,
          -1.132420301437378,
          -0.5718868970870972,
          -2.580928325653076,
          -0.44424334168434143,
          -0.029421089217066765,
          0.7429489493370056,
          -0.3364873230457306,
          -1.0362492799758911,
          0.2162502259016037,
          1.916795253753662,
          -0.6035608053207397,
          -1.9351567029953003,
          2.0085225105285645,
          0.8885740637779236,
          1.6753408908843994,
          0.794762372970581,
          0.6753880381584167,
          0.31329700350761414,
          1.4795973300933838,
          -1.671456217765808,
          -1.0236364603042603,
          0.9440861344337463,
          -0.8178714513778687,
          1.0547146797180176,
          2.03129243850708,
          -2.481714963912964,
          -0.6207192540168762,
          -1.3675991296768188,
          1.325557827949524,
          -3.234139919281006,
          0.5312292575836182,
          -0.8697956204414368,
          -0.8452760577201843,
          1.0899007320404053,
          -1.3308385610580444,
          0.5087604522705078,
          2.013219118118286,
          0.32051289081573486,
          -0.2982957065105438,
          -1.516749382019043,
          -1.497795820236206,
          -1.1331868171691895,
          0.5427429676055908,
          -2.1428706645965576,
          -1.3164584636688232,
          0.09522918611764908,
          -1.5154712200164795,
          -1.0641469955444336,
          -0.5191908478736877,
          -0.4504798352718353,
          -0.3403517007827759,
          0.4816555082798004,
          0.7489845752716064,
          0.6790293455123901,
          2.2568023204803467,
          -3.0733203887939453,
          -1.2844115495681763,
          -1.0050158500671387,
          0.5611688494682312,
          -1.3371455669403076,
          1.034419298171997,
          0.8224949240684509,
          -0.4095337986946106,
          2.3693597316741943,
          -0.1773827075958252,
          0.35242369771003723,
          0.405325710773468,
          0.2898849844932556,
          -1.44171941280365,
          -0.745746910572052,
          0.7553703784942627,
          2.0259528160095215,
          1.551791787147522,
          -2.9244589805603027,
          1.8138997554779053,
          0.9194466471672058,
          1.3101543188095093,
          -0.14255273342132568,
          -0.5339928865432739,
          0.6560580134391785,
          -0.34649959206581116,
          2.736541509628296,
          0.0969812199473381,
          -0.009962255135178566,
          1.5820668935775757,
          -0.3841690421104431,
          0.4537917971611023,
          -1.0257384777069092,
          0.9925675988197327,
          -0.9886062145233154,
          0.09595565497875214,
          -1.7635873556137085,
          2.4807629585266113,
          1.172094702720642,
          -0.15399780869483948,
          -1.8240773677825928,
          -0.4081810414791107,
          -0.12179451435804367,
          1.398692011833191,
          -1.2165368795394897,
          -2.608896017074585,
          -1.0805681943893433,
          1.8919427394866943,
          1.0747820138931274,
          -0.5585615038871765,
          -1.004341959953308,
          -1.4066590070724487,
          -2.958125591278076,
          -2.292689800262451,
          -2.7120749950408936,
          -0.6701326370239258,
          -1.7025829553604126,
          0.7739311456680298,
          -1.5511670112609863,
          -2.161008596420288,
          -0.7059964537620544,
          -1.1512326002120972,
          1.5719146728515625,
          -0.9706276059150696,
          -0.19275745749473572,
          -1.7376601696014404,
          0.03332884609699249,
          -1.5493202209472656,
          -0.966065526008606,
          -1.0602284669876099,
          0.03219666704535484,
          -0.8938841223716736,
          1.2177634239196777,
          0.6568953990936279,
          -2.977658271789551,
          1.555589199066162,
          0.7365268468856812,
          -0.6773322224617004,
          -1.2656595706939697,
          -3.5354549884796143,
          -0.3394175171852112,
          0.38394320011138916,
          -1.2898006439208984,
          -0.8539406061172485,
          1.1507900953292847,
          1.0182946920394897,
          -3.609440326690674,
          0.5985616445541382,
          0.73676598072052,
          1.9718995094299316,
          -2.223071813583374,
          1.447214961051941,
          0.6124950051307678,
          0.07065372914075851,
          0.1139107421040535,
          -0.5045517683029175,
          -0.24669387936592102,
          -3.0028488636016846,
          2.4894533157348633,
          1.841042399406433,
          -0.9778968095779419,
          -0.44615134596824646,
          0.2774193584918976,
          0.19703751802444458,
          -2.99735951423645,
          -0.4190589487552643,
          -1.354697346687317,
          0.8335934281349182,
          2.2092819213867188,
          0.1318884789943695,
          -0.22529517114162445,
          -2.1987786293029785,
          -1.129798412322998,
          -1.139353632926941,
          -0.30951038002967834,
          2.150834083557129,
          1.1370608806610107,
          2.1473495960235596,
          0.6926465630531311,
          -0.6386728882789612,
          -1.493635654449463,
          0.8874865770339966,
          -0.6601635813713074,
          0.028243768960237503,
          -0.22659797966480255,
          -2.4315662384033203,
          1.104996681213379,
          1.143257975578308,
          -0.18759478628635406,
          -1.7559927701950073,
          -0.132300466299057,
          -0.771980345249176,
          0.8511097431182861,
          0.25933510065078735,
          1.9996598958969116,
          0.26335087418556213,
          0.3231581747531891,
          1.3989124298095703,
          -2.338937997817993,
          0.8467890620231628,
          -1.7955867052078247,
          -0.19453811645507812,
          -0.011657432653009892,
          -1.078262448310852,
          1.005522608757019,
          0.9768773913383484,
          -2.284597873687744,
          -0.15186040103435516,
          0.4200311005115509,
          1.8329488039016724,
          0.33770692348480225,
          0.9908193349838257,
          -1.224082589149475,
          1.4066197872161865,
          2.4339311122894287,
          1.2282158136367798,
          1.3416651487350464,
          -0.9603361487388611,
          -0.2810560166835785,
          -0.7455665469169617,
          0.3910362124443054,
          0.31248733401298523,
          1.550798773765564,
          -1.6008979082107544,
          0.3800680637359619,
          -1.9386564493179321,
          -1.1494165658950806,
          -1.2547990083694458,
          0.6609046459197998,
          -1.9009740352630615,
          0.6339117288589478,
          2.0600950717926025,
          -1.9123591184616089,
          -2.930387258529663,
          1.603808045387268,
          -2.0964741706848145,
          -0.3932979702949524,
          -2.8651111125946045,
          -0.24865619838237762,
          -0.16256068646907806,
          0.5869895219802856,
          -0.5447322130203247,
          -1.0010241270065308,
          -0.9942947626113892,
          0.9035456776618958,
          1.7073191404342651,
          -0.9846093058586121,
          -0.4171830713748932,
          -0.41799232363700867,
          1.7870274782180786,
          0.29233381152153015,
          2.06188702583313,
          1.2768683433532715,
          -0.7142030000686646,
          -3.2842345237731934,
          0.5255412459373474,
          -0.45425933599472046,
          2.5217111110687256,
          -2.839077949523926,
          1.0981342792510986,
          -1.003871202468872,
          0.4954986572265625,
          -0.7732709646224976,
          0.57286137342453,
          -1.1641732454299927,
          2.0520167350769043,
          -3.0041098594665527,
          0.9051482677459717,
          0.5358722805976868,
          2.756230115890503,
          2.1692442893981934,
          -0.5188585519790649,
          -0.7973114252090454,
          -1.2073287963867188,
          0.7974841594696045,
          1.9524970054626465,
          0.8805422782897949,
          -0.3497924506664276,
          -0.41770440340042114,
          2.571563482284546,
          -0.43434301018714905,
          0.0220040250569582,
          -0.7631516456604004,
          1.4669129848480225,
          -1.115194320678711,
          0.4652062952518463,
          -2.6952030658721924,
          -0.5914255380630493,
          1.478745698928833,
          0.13381502032279968,
          1.1761226654052734,
          -0.4364488422870636,
          -1.415955662727356,
          0.1607426553964615,
          0.059090182185173035,
          -0.25384730100631714,
          0.516103982925415,
          -0.3650461435317993,
          0.029418259859085083,
          0.028001481667160988,
          -0.6961219310760498,
          -0.7274489402770996,
          0.35390037298202515,
          1.055893063545227,
          -3.315351724624634,
          -0.4971926212310791,
          1.744840383529663,
          1.9066535234451294,
          -0.5674899220466614,
          0.2322024405002594,
          -4.137702941894531,
          2.1932780742645264,
          -1.4858102798461914,
          -0.5041238069534302,
          -2.2023611068725586,
          2.078019618988037,
          -1.8382887840270996,
          0.2925301790237427,
          -0.09315857291221619,
          0.5832751989364624,
          -0.9824482798576355,
          0.8316725492477417,
          -0.6940078139305115,
          2.602534532546997,
          0.33560872077941895,
          -0.3259142339229584,
          -0.619710385799408,
          1.4565645456314087,
          -1.4657641649246216,
          -0.6553881168365479,
          -0.7018992304801941,
          2.4990041255950928,
          -1.0456435680389404,
          -0.48481231927871704,
          -0.4153502285480499,
          -2.8846070766448975,
          -2.2221813201904297,
          0.6369091272354126,
          -0.22623872756958008,
          -1.1481279134750366,
          0.7524295449256897,
          -1.6791075468063354,
          0.008424310944974422,
          -1.5094126462936401,
          1.7325788736343384,
          -0.3327763080596924,
          0.9493893980979919,
          0.43397417664527893,
          0.8721922636032104,
          0.8768337965011597,
          1.5005215406417847,
          0.09897693246603012,
          -1.7708185911178589,
          -0.6607440710067749,
          -0.5872453451156616,
          1.0266014337539673,
          1.4686733484268188,
          -1.2409391403198242,
          -1.680344820022583,
          1.9163084030151367,
          1.3640432357788086,
          -1.1040302515029907,
          -2.1635677814483643,
          0.35425499081611633,
          0.9415654540061951,
          1.308499813079834,
          -1.9817107915878296,
          -0.7321742177009583,
          0.8779599666595459,
          -1.4000324010849,
          1.6834914684295654,
          2.1445631980895996,
          -1.2367147207260132,
          -4.39385461807251,
          1.1161590814590454,
          1.155733585357666,
          -1.611732006072998,
          0.5371283888816833,
          -0.4488247334957123,
          0.8229079246520996,
          -1.8878220319747925,
          -1.6567106246948242,
          -1.6549047231674194,
          -1.2797285318374634,
          0.43605801463127136,
          1.5222808122634888,
          1.7583568096160889,
          -2.107877016067505,
          -0.8044264316558838,
          -0.9880561828613281,
          2.1599302291870117,
          -0.40175676345825195,
          -0.41346216201782227,
          -0.16878080368041992,
          -1.993425965309143,
          0.4942627549171448,
          1.0942004919052124,
          -1.0738574266433716,
          -2.119791269302368,
          1.5796579122543335,
          -0.49094027280807495,
          2.5312485694885254,
          -2.4665069580078125,
          -1.0718871355056763,
          -3.3543429374694824,
          1.3576244115829468,
          1.176999807357788,
          0.5348788499832153,
          1.0146312713623047,
          1.0377649068832397,
          -0.7311640381813049,
          -0.09300427883863449,
          1.8529239892959595,
          0.29841217398643494,
          3.2854933738708496,
          0.19536416232585907,
          -0.801105797290802,
          -0.6084973812103271,
          -1.3049449920654297,
          -1.8978201150894165,
          0.49312353134155273,
          0.7430807948112488,
          1.2388699054718018,
          0.9306689500808716,
          -0.8120484948158264,
          0.8850652575492859,
          1.2317123413085938,
          0.7437882423400879,
          1.0524994134902954,
          1.8001736402511597,
          1.009832739830017,
          -4.235260009765625,
          1.7269641160964966,
          -0.7799484133720398,
          -0.03682004287838936,
          0.7409313321113586,
          1.0770952701568604,
          0.30699706077575684,
          -1.3373521566390991,
          1.1994576454162598,
          -0.07169100642204285,
          -0.4481770992279053,
          -0.005119712091982365,
          -0.989212691783905,
          -3.083153486251831,
          0.8678674101829529,
          1.2083081007003784,
          -2.0934698581695557,
          -1.8370308876037598,
          -0.5193681120872498,
          0.20194298028945923,
          1.655031442642212,
          1.744678258895874,
          1.8190268278121948,
          0.5300061106681824,
          -2.1795990467071533,
          1.5663968324661255,
          -0.6788888573646545,
          0.016587156802415848,
          -0.7149438261985779,
          -1.9588325023651123,
          0.6168525218963623,
          -3.386655330657959,
          1.2709228992462158,
          2.1637184619903564,
          1.803237795829773,
          0.04158296436071396,
          0.6848964095115662,
          2.5617918968200684,
          1.992681622505188,
          -2.071592092514038,
          1.9606833457946777,
          -0.33716243505477905,
          2.0178756713867188,
          1.024552822113037,
          -0.9832820296287537,
          0.2412852942943573,
          -0.7269319295883179,
          0.7350527048110962,
          -0.8218532204627991,
          -0.18489179015159607,
          -1.4217437505722046,
          0.8660597205162048,
          -0.06318040192127228,
          0.12410753965377808,
          2.5665714740753174,
          1.2717645168304443,
          1.1893856525421143,
          -2.390779733657837,
          -0.3363465964794159,
          0.7643775343894958,
          1.9987242221832275,
          -0.2256680279970169,
          0.8967894315719604,
          -2.8084638118743896,
          1.9538240432739258,
          0.970024585723877,
          -0.47475993633270264,
          0.23904448747634888,
          0.1494285762310028,
          2.396436929702759,
          -2.3044347763061523,
          -0.2942925989627838,
          -2.0934739112854004,
          -1.6907262802124023,
          1.578309178352356,
          -0.6826857924461365,
          0.3960720896720886,
          0.9639326333999634,
          -0.6547957062721252,
          -2.1281826496124268,
          -1.1820933818817139,
          1.6082611083984375,
          0.15376204252243042,
          0.14715228974819183,
          1.0319746732711792,
          -1.5624898672103882,
          2.5083699226379395,
          0.4599032700061798,
          -0.3568592369556427,
          1.152969479560852,
          -1.491936445236206,
          2.291180372238159,
          -0.5474003553390503,
          1.5282057523727417,
          1.9872597455978394,
          -1.1379549503326416,
          1.2323358058929443,
          0.9103586673736572,
          0.051320694386959076,
          -0.4210244119167328,
          -1.5175379514694214,
          1.1108165979385376,
          1.1797035932540894,
          -1.0371392965316772,
          -0.5138190984725952,
          0.16921474039554596,
          -1.002766728401184,
          -0.7500476837158203,
          -2.479684829711914,
          -0.6808757781982422,
          -0.7395804524421692,
          -1.5558103322982788,
          -1.1983765363693237,
          -1.525339961051941,
          -0.20928660035133362,
          -0.5519211888313293,
          1.4190218448638916,
          1.536794662475586,
          -2.0444817543029785,
          1.2484817504882812,
          0.35011762380599976,
          2.541855812072754,
          -0.03839058429002762,
          -0.639799952507019,
          -0.6370821595191956,
          2.135575294494629,
          2.4114019870758057,
          1.6935703754425049,
          0.550582766532898,
          1.019934058189392,
          1.6331396102905273,
          -1.5182095766067505,
          1.6273467540740967,
          1.0256494283676147,
          -0.3933892250061035,
          -2.245840549468994,
          -0.8293233513832092,
          1.6514832973480225,
          -1.2139556407928467,
          -1.09780752658844,
          -1.8564757108688354,
          0.09827521443367004,
          0.7438088059425354,
          -3.2853341102600098,
          1.2735564708709717,
          2.1134345531463623,
          0.8156816363334656,
          -0.4400536119937897,
          -0.3954526484012604,
          0.3887244760990143,
          -0.728853702545166,
          -3.2427213191986084,
          2.6294171810150146,
          -1.439463496208191,
          0.8444114327430725,
          3.283500909805298,
          -0.8018180131912231,
          -1.2665445804595947,
          -0.8093029260635376,
          -0.22080053389072418,
          0.26291826367378235,
          2.3576083183288574,
          -0.11132559925317764,
          1.8545160293579102,
          1.6025549173355103,
          1.7444334030151367,
          -0.22232310473918915,
          0.4266098141670227,
          2.111210584640503,
          1.75691819190979,
          -0.28571996092796326,
          1.8342190980911255,
          1.5688018798828125,
          0.9140007495880127,
          0.9564468264579773,
          1.9976774454116821,
          0.9100512266159058,
          1.968817949295044,
          1.160412311553955,
          1.9488757848739624,
          0.5096028447151184,
          0.21459956467151642,
          0.23766972124576569,
          -0.8110669255256653,
          3.279522657394409,
          0.47733545303344727,
          0.2792580723762512,
          -0.5067465305328369,
          -1.8575453758239746,
          1.7149667739868164,
          -0.7967223525047302,
          1.5212398767471313,
          0.6186357736587524,
          2.191756248474121,
          0.17789196968078613,
          -0.8596487641334534,
          1.3077304363250732,
          -0.762103796005249,
          1.4361704587936401,
          1.5746594667434692,
          1.4060436487197876,
          0.32916876673698425,
          1.0795950889587402,
          -0.9271951913833618,
          -0.40319305658340454,
          -2.311527729034424,
          -1.0213909149169922,
          -0.942568302154541
         ],
         "yaxis": "y"
        }
       ],
       "layout": {
        "coloraxis": {
         "colorbar": {
          "title": {
           "text": "pca_cluster"
          }
         },
         "colorscale": [
          [
           0,
           "#440154"
          ],
          [
           0.1111111111111111,
           "#482878"
          ],
          [
           0.2222222222222222,
           "#3e4989"
          ],
          [
           0.3333333333333333,
           "#31688e"
          ],
          [
           0.4444444444444444,
           "#26828e"
          ],
          [
           0.5555555555555556,
           "#1f9e89"
          ],
          [
           0.6666666666666666,
           "#35b779"
          ],
          [
           0.7777777777777778,
           "#6ece58"
          ],
          [
           0.8888888888888888,
           "#b5de2b"
          ],
          [
           1,
           "#fde725"
          ]
         ]
        },
        "hovermode": "closest",
        "legend": {
         "tracegroupgap": 0
        },
        "template": {
         "data": {
          "bar": [
           {
            "error_x": {
             "color": "#2a3f5f"
            },
            "error_y": {
             "color": "#2a3f5f"
            },
            "marker": {
             "line": {
              "color": "white",
              "width": 0.5
             },
             "pattern": {
              "fillmode": "overlay",
              "size": 10,
              "solidity": 0.2
             }
            },
            "type": "bar"
           }
          ],
          "barpolar": [
           {
            "marker": {
             "line": {
              "color": "white",
              "width": 0.5
             },
             "pattern": {
              "fillmode": "overlay",
              "size": 10,
              "solidity": 0.2
             }
            },
            "type": "barpolar"
           }
          ],
          "carpet": [
           {
            "aaxis": {
             "endlinecolor": "#2a3f5f",
             "gridcolor": "#C8D4E3",
             "linecolor": "#C8D4E3",
             "minorgridcolor": "#C8D4E3",
             "startlinecolor": "#2a3f5f"
            },
            "baxis": {
             "endlinecolor": "#2a3f5f",
             "gridcolor": "#C8D4E3",
             "linecolor": "#C8D4E3",
             "minorgridcolor": "#C8D4E3",
             "startlinecolor": "#2a3f5f"
            },
            "type": "carpet"
           }
          ],
          "choropleth": [
           {
            "colorbar": {
             "outlinewidth": 0,
             "ticks": ""
            },
            "type": "choropleth"
           }
          ],
          "contour": [
           {
            "colorbar": {
             "outlinewidth": 0,
             "ticks": ""
            },
            "colorscale": [
             [
              0,
              "#0d0887"
             ],
             [
              0.1111111111111111,
              "#46039f"
             ],
             [
              0.2222222222222222,
              "#7201a8"
             ],
             [
              0.3333333333333333,
              "#9c179e"
             ],
             [
              0.4444444444444444,
              "#bd3786"
             ],
             [
              0.5555555555555556,
              "#d8576b"
             ],
             [
              0.6666666666666666,
              "#ed7953"
             ],
             [
              0.7777777777777778,
              "#fb9f3a"
             ],
             [
              0.8888888888888888,
              "#fdca26"
             ],
             [
              1,
              "#f0f921"
             ]
            ],
            "type": "contour"
           }
          ],
          "contourcarpet": [
           {
            "colorbar": {
             "outlinewidth": 0,
             "ticks": ""
            },
            "type": "contourcarpet"
           }
          ],
          "heatmap": [
           {
            "colorbar": {
             "outlinewidth": 0,
             "ticks": ""
            },
            "colorscale": [
             [
              0,
              "#0d0887"
             ],
             [
              0.1111111111111111,
              "#46039f"
             ],
             [
              0.2222222222222222,
              "#7201a8"
             ],
             [
              0.3333333333333333,
              "#9c179e"
             ],
             [
              0.4444444444444444,
              "#bd3786"
             ],
             [
              0.5555555555555556,
              "#d8576b"
             ],
             [
              0.6666666666666666,
              "#ed7953"
             ],
             [
              0.7777777777777778,
              "#fb9f3a"
             ],
             [
              0.8888888888888888,
              "#fdca26"
             ],
             [
              1,
              "#f0f921"
             ]
            ],
            "type": "heatmap"
           }
          ],
          "heatmapgl": [
           {
            "colorbar": {
             "outlinewidth": 0,
             "ticks": ""
            },
            "colorscale": [
             [
              0,
              "#0d0887"
             ],
             [
              0.1111111111111111,
              "#46039f"
             ],
             [
              0.2222222222222222,
              "#7201a8"
             ],
             [
              0.3333333333333333,
              "#9c179e"
             ],
             [
              0.4444444444444444,
              "#bd3786"
             ],
             [
              0.5555555555555556,
              "#d8576b"
             ],
             [
              0.6666666666666666,
              "#ed7953"
             ],
             [
              0.7777777777777778,
              "#fb9f3a"
             ],
             [
              0.8888888888888888,
              "#fdca26"
             ],
             [
              1,
              "#f0f921"
             ]
            ],
            "type": "heatmapgl"
           }
          ],
          "histogram": [
           {
            "marker": {
             "pattern": {
              "fillmode": "overlay",
              "size": 10,
              "solidity": 0.2
             }
            },
            "type": "histogram"
           }
          ],
          "histogram2d": [
           {
            "colorbar": {
             "outlinewidth": 0,
             "ticks": ""
            },
            "colorscale": [
             [
              0,
              "#0d0887"
             ],
             [
              0.1111111111111111,
              "#46039f"
             ],
             [
              0.2222222222222222,
              "#7201a8"
             ],
             [
              0.3333333333333333,
              "#9c179e"
             ],
             [
              0.4444444444444444,
              "#bd3786"
             ],
             [
              0.5555555555555556,
              "#d8576b"
             ],
             [
              0.6666666666666666,
              "#ed7953"
             ],
             [
              0.7777777777777778,
              "#fb9f3a"
             ],
             [
              0.8888888888888888,
              "#fdca26"
             ],
             [
              1,
              "#f0f921"
             ]
            ],
            "type": "histogram2d"
           }
          ],
          "histogram2dcontour": [
           {
            "colorbar": {
             "outlinewidth": 0,
             "ticks": ""
            },
            "colorscale": [
             [
              0,
              "#0d0887"
             ],
             [
              0.1111111111111111,
              "#46039f"
             ],
             [
              0.2222222222222222,
              "#7201a8"
             ],
             [
              0.3333333333333333,
              "#9c179e"
             ],
             [
              0.4444444444444444,
              "#bd3786"
             ],
             [
              0.5555555555555556,
              "#d8576b"
             ],
             [
              0.6666666666666666,
              "#ed7953"
             ],
             [
              0.7777777777777778,
              "#fb9f3a"
             ],
             [
              0.8888888888888888,
              "#fdca26"
             ],
             [
              1,
              "#f0f921"
             ]
            ],
            "type": "histogram2dcontour"
           }
          ],
          "mesh3d": [
           {
            "colorbar": {
             "outlinewidth": 0,
             "ticks": ""
            },
            "type": "mesh3d"
           }
          ],
          "parcoords": [
           {
            "line": {
             "colorbar": {
              "outlinewidth": 0,
              "ticks": ""
             }
            },
            "type": "parcoords"
           }
          ],
          "pie": [
           {
            "automargin": true,
            "type": "pie"
           }
          ],
          "scatter": [
           {
            "fillpattern": {
             "fillmode": "overlay",
             "size": 10,
             "solidity": 0.2
            },
            "type": "scatter"
           }
          ],
          "scatter3d": [
           {
            "line": {
             "colorbar": {
              "outlinewidth": 0,
              "ticks": ""
             }
            },
            "marker": {
             "colorbar": {
              "outlinewidth": 0,
              "ticks": ""
             }
            },
            "type": "scatter3d"
           }
          ],
          "scattercarpet": [
           {
            "marker": {
             "colorbar": {
              "outlinewidth": 0,
              "ticks": ""
             }
            },
            "type": "scattercarpet"
           }
          ],
          "scattergeo": [
           {
            "marker": {
             "colorbar": {
              "outlinewidth": 0,
              "ticks": ""
             }
            },
            "type": "scattergeo"
           }
          ],
          "scattergl": [
           {
            "marker": {
             "colorbar": {
              "outlinewidth": 0,
              "ticks": ""
             }
            },
            "type": "scattergl"
           }
          ],
          "scattermapbox": [
           {
            "marker": {
             "colorbar": {
              "outlinewidth": 0,
              "ticks": ""
             }
            },
            "type": "scattermapbox"
           }
          ],
          "scatterpolar": [
           {
            "marker": {
             "colorbar": {
              "outlinewidth": 0,
              "ticks": ""
             }
            },
            "type": "scatterpolar"
           }
          ],
          "scatterpolargl": [
           {
            "marker": {
             "colorbar": {
              "outlinewidth": 0,
              "ticks": ""
             }
            },
            "type": "scatterpolargl"
           }
          ],
          "scatterternary": [
           {
            "marker": {
             "colorbar": {
              "outlinewidth": 0,
              "ticks": ""
             }
            },
            "type": "scatterternary"
           }
          ],
          "surface": [
           {
            "colorbar": {
             "outlinewidth": 0,
             "ticks": ""
            },
            "colorscale": [
             [
              0,
              "#0d0887"
             ],
             [
              0.1111111111111111,
              "#46039f"
             ],
             [
              0.2222222222222222,
              "#7201a8"
             ],
             [
              0.3333333333333333,
              "#9c179e"
             ],
             [
              0.4444444444444444,
              "#bd3786"
             ],
             [
              0.5555555555555556,
              "#d8576b"
             ],
             [
              0.6666666666666666,
              "#ed7953"
             ],
             [
              0.7777777777777778,
              "#fb9f3a"
             ],
             [
              0.8888888888888888,
              "#fdca26"
             ],
             [
              1,
              "#f0f921"
             ]
            ],
            "type": "surface"
           }
          ],
          "table": [
           {
            "cells": {
             "fill": {
              "color": "#EBF0F8"
             },
             "line": {
              "color": "white"
             }
            },
            "header": {
             "fill": {
              "color": "#C8D4E3"
             },
             "line": {
              "color": "white"
             }
            },
            "type": "table"
           }
          ]
         },
         "layout": {
          "annotationdefaults": {
           "arrowcolor": "#2a3f5f",
           "arrowhead": 0,
           "arrowwidth": 1
          },
          "autotypenumbers": "strict",
          "coloraxis": {
           "colorbar": {
            "outlinewidth": 0,
            "ticks": ""
           }
          },
          "colorscale": {
           "diverging": [
            [
             0,
             "#8e0152"
            ],
            [
             0.1,
             "#c51b7d"
            ],
            [
             0.2,
             "#de77ae"
            ],
            [
             0.3,
             "#f1b6da"
            ],
            [
             0.4,
             "#fde0ef"
            ],
            [
             0.5,
             "#f7f7f7"
            ],
            [
             0.6,
             "#e6f5d0"
            ],
            [
             0.7,
             "#b8e186"
            ],
            [
             0.8,
             "#7fbc41"
            ],
            [
             0.9,
             "#4d9221"
            ],
            [
             1,
             "#276419"
            ]
           ],
           "sequential": [
            [
             0,
             "#0d0887"
            ],
            [
             0.1111111111111111,
             "#46039f"
            ],
            [
             0.2222222222222222,
             "#7201a8"
            ],
            [
             0.3333333333333333,
             "#9c179e"
            ],
            [
             0.4444444444444444,
             "#bd3786"
            ],
            [
             0.5555555555555556,
             "#d8576b"
            ],
            [
             0.6666666666666666,
             "#ed7953"
            ],
            [
             0.7777777777777778,
             "#fb9f3a"
            ],
            [
             0.8888888888888888,
             "#fdca26"
            ],
            [
             1,
             "#f0f921"
            ]
           ],
           "sequentialminus": [
            [
             0,
             "#0d0887"
            ],
            [
             0.1111111111111111,
             "#46039f"
            ],
            [
             0.2222222222222222,
             "#7201a8"
            ],
            [
             0.3333333333333333,
             "#9c179e"
            ],
            [
             0.4444444444444444,
             "#bd3786"
            ],
            [
             0.5555555555555556,
             "#d8576b"
            ],
            [
             0.6666666666666666,
             "#ed7953"
            ],
            [
             0.7777777777777778,
             "#fb9f3a"
            ],
            [
             0.8888888888888888,
             "#fdca26"
            ],
            [
             1,
             "#f0f921"
            ]
           ]
          },
          "colorway": [
           "#636efa",
           "#EF553B",
           "#00cc96",
           "#ab63fa",
           "#FFA15A",
           "#19d3f3",
           "#FF6692",
           "#B6E880",
           "#FF97FF",
           "#FECB52"
          ],
          "font": {
           "color": "#2a3f5f"
          },
          "geo": {
           "bgcolor": "white",
           "lakecolor": "white",
           "landcolor": "white",
           "showlakes": true,
           "showland": true,
           "subunitcolor": "#C8D4E3"
          },
          "hoverlabel": {
           "align": "left"
          },
          "hovermode": "closest",
          "mapbox": {
           "style": "light"
          },
          "paper_bgcolor": "white",
          "plot_bgcolor": "white",
          "polar": {
           "angularaxis": {
            "gridcolor": "#EBF0F8",
            "linecolor": "#EBF0F8",
            "ticks": ""
           },
           "bgcolor": "white",
           "radialaxis": {
            "gridcolor": "#EBF0F8",
            "linecolor": "#EBF0F8",
            "ticks": ""
           }
          },
          "scene": {
           "xaxis": {
            "backgroundcolor": "white",
            "gridcolor": "#DFE8F3",
            "gridwidth": 2,
            "linecolor": "#EBF0F8",
            "showbackground": true,
            "ticks": "",
            "zerolinecolor": "#EBF0F8"
           },
           "yaxis": {
            "backgroundcolor": "white",
            "gridcolor": "#DFE8F3",
            "gridwidth": 2,
            "linecolor": "#EBF0F8",
            "showbackground": true,
            "ticks": "",
            "zerolinecolor": "#EBF0F8"
           },
           "zaxis": {
            "backgroundcolor": "white",
            "gridcolor": "#DFE8F3",
            "gridwidth": 2,
            "linecolor": "#EBF0F8",
            "showbackground": true,
            "ticks": "",
            "zerolinecolor": "#EBF0F8"
           }
          },
          "shapedefaults": {
           "line": {
            "color": "#2a3f5f"
           }
          },
          "ternary": {
           "aaxis": {
            "gridcolor": "#DFE8F3",
            "linecolor": "#A2B1C6",
            "ticks": ""
           },
           "baxis": {
            "gridcolor": "#DFE8F3",
            "linecolor": "#A2B1C6",
            "ticks": ""
           },
           "bgcolor": "white",
           "caxis": {
            "gridcolor": "#DFE8F3",
            "linecolor": "#A2B1C6",
            "ticks": ""
           }
          },
          "title": {
           "x": 0.05
          },
          "xaxis": {
           "automargin": true,
           "gridcolor": "#EBF0F8",
           "linecolor": "#EBF0F8",
           "ticks": "",
           "title": {
            "standoff": 15
           },
           "zerolinecolor": "#EBF0F8",
           "zerolinewidth": 2
          },
          "yaxis": {
           "automargin": true,
           "gridcolor": "#EBF0F8",
           "linecolor": "#EBF0F8",
           "ticks": "",
           "title": {
            "standoff": 15
           },
           "zerolinecolor": "#EBF0F8",
           "zerolinewidth": 2
          }
         }
        },
        "title": {
         "text": "PCA with DBSCAN (PCA1: 11.6%, PCA2: 7.3%)"
        },
        "xaxis": {
         "anchor": "y",
         "domain": [
          0,
          1
         ],
         "title": {
          "text": "pca_component_1"
         }
        },
        "yaxis": {
         "anchor": "x",
         "domain": [
          0,
          1
         ],
         "title": {
          "text": "pca_component_2"
         }
        }
       }
      }
     },
     "metadata": {},
     "output_type": "display_data"
    },
    {
     "name": "stderr",
     "output_type": "stream",
     "text": [
      "/Users/jobandtalent/opt/anaconda3/envs/sar/lib/python3.9/site-packages/umap/umap_.py:1945: UserWarning:\n",
      "\n",
      "n_jobs value 1 overridden to 1 by setting random_state. Use no seed for parallelism.\n",
      "\n"
     ]
    },
    {
     "data": {
      "application/vnd.plotly.v1+json": {
       "config": {
        "plotlyServerURL": "https://plot.ly"
       },
       "data": [
        {
         "customdata": [
          [
           "positive",
           0
          ],
          [
           "negative",
           1
          ],
          [
           "positive",
           0
          ],
          [
           "positive",
           0
          ],
          [
           "negative",
           1
          ],
          [
           "positive",
           0
          ],
          [
           "positive",
           0
          ],
          [
           "positive",
           0
          ],
          [
           "positive",
           0
          ],
          [
           "positive",
           0
          ],
          [
           "positive",
           1
          ],
          [
           "positive",
           0
          ],
          [
           "positive",
           0
          ],
          [
           "positive",
           0
          ],
          [
           "positive",
           0
          ],
          [
           "positive",
           0
          ],
          [
           "positive",
           0
          ],
          [
           "positive",
           0
          ],
          [
           "positive",
           0
          ],
          [
           "positive",
           1
          ],
          [
           "positive",
           0
          ],
          [
           "positive",
           0
          ],
          [
           "negative",
           0
          ],
          [
           "positive",
           0
          ],
          [
           "negative",
           0
          ],
          [
           "negative",
           1
          ],
          [
           "positive",
           0
          ],
          [
           "positive",
           1
          ],
          [
           "positive",
           0
          ],
          [
           "positive",
           0
          ],
          [
           "positive",
           0
          ],
          [
           "positive",
           0
          ],
          [
           "positive",
           0
          ],
          [
           "positive",
           0
          ],
          [
           "positive",
           0
          ],
          [
           "positive",
           1
          ],
          [
           "negative",
           0
          ],
          [
           "positive",
           0
          ],
          [
           "positive",
           0
          ],
          [
           "positive",
           0
          ],
          [
           "positive",
           0
          ],
          [
           "positive",
           0
          ],
          [
           "positive",
           0
          ],
          [
           "positive",
           0
          ],
          [
           "positive",
           0
          ],
          [
           "negative",
           0
          ],
          [
           "negative",
           1
          ],
          [
           "negative",
           0
          ],
          [
           "positive",
           0
          ],
          [
           "positive",
           1
          ],
          [
           "positive",
           0
          ],
          [
           "positive",
           0
          ],
          [
           "positive",
           0
          ],
          [
           "positive",
           0
          ],
          [
           "positive",
           0
          ],
          [
           "positive",
           0
          ],
          [
           "positive",
           0
          ],
          [
           "positive",
           1
          ],
          [
           "positive",
           0
          ],
          [
           "positive",
           1
          ],
          [
           "positive",
           1
          ],
          [
           "positive",
           0
          ],
          [
           "positive",
           1
          ],
          [
           "positive",
           0
          ],
          [
           "positive",
           0
          ],
          [
           "negative",
           0
          ],
          [
           "positive",
           0
          ],
          [
           "positive",
           0
          ],
          [
           "positive",
           1
          ],
          [
           "positive",
           0
          ],
          [
           "positive",
           0
          ],
          [
           "positive",
           0
          ],
          [
           "positive",
           0
          ],
          [
           "positive",
           0
          ],
          [
           "positive",
           0
          ],
          [
           "positive",
           0
          ],
          [
           "positive",
           0
          ],
          [
           "positive",
           0
          ],
          [
           "negative",
           0
          ],
          [
           "positive",
           0
          ],
          [
           "positive",
           0
          ],
          [
           "positive",
           0
          ],
          [
           "positive",
           0
          ],
          [
           "positive",
           0
          ],
          [
           "positive",
           0
          ],
          [
           "negative",
           0
          ],
          [
           "positive",
           0
          ],
          [
           "positive",
           1
          ],
          [
           "positive",
           1
          ],
          [
           "positive",
           0
          ],
          [
           "positive",
           0
          ],
          [
           "positive",
           0
          ],
          [
           "positive",
           0
          ],
          [
           "positive",
           0
          ],
          [
           "positive",
           0
          ],
          [
           "positive",
           0
          ],
          [
           "positive",
           0
          ],
          [
           "positive",
           0
          ],
          [
           "positive",
           1
          ],
          [
           "positive",
           1
          ],
          [
           "positive",
           0
          ],
          [
           "positive",
           0
          ],
          [
           "positive",
           0
          ],
          [
           "positive",
           0
          ],
          [
           "positive",
           0
          ],
          [
           "positive",
           0
          ],
          [
           "positive",
           0
          ],
          [
           "positive",
           0
          ],
          [
           "positive",
           0
          ],
          [
           "positive",
           1
          ],
          [
           "negative",
           1
          ],
          [
           "positive",
           0
          ],
          [
           "positive",
           0
          ],
          [
           "positive",
           0
          ],
          [
           "negative",
           0
          ],
          [
           "positive",
           0
          ],
          [
           "positive",
           0
          ],
          [
           "positive",
           1
          ],
          [
           "positive",
           0
          ],
          [
           "positive",
           0
          ],
          [
           "positive",
           0
          ],
          [
           "positive",
           0
          ],
          [
           "positive",
           0
          ],
          [
           "positive",
           0
          ],
          [
           "positive",
           0
          ],
          [
           "positive",
           0
          ],
          [
           "negative",
           0
          ],
          [
           "negative",
           0
          ],
          [
           "negative",
           0
          ],
          [
           "positive",
           0
          ],
          [
           "positive",
           0
          ],
          [
           "positive",
           0
          ],
          [
           "positive",
           0
          ],
          [
           "positive",
           0
          ],
          [
           "negative",
           0
          ],
          [
           "negative",
           0
          ],
          [
           "positive",
           0
          ],
          [
           "positive",
           0
          ],
          [
           "positive",
           1
          ],
          [
           "negative",
           1
          ],
          [
           "positive",
           0
          ],
          [
           "positive",
           0
          ],
          [
           "positive",
           0
          ],
          [
           "negative",
           1
          ],
          [
           "positive",
           0
          ],
          [
           "positive",
           0
          ],
          [
           "positive",
           0
          ],
          [
           "positive",
           0
          ],
          [
           "positive",
           0
          ],
          [
           "positive",
           0
          ],
          [
           "positive",
           0
          ],
          [
           "positive",
           0
          ],
          [
           "positive",
           0
          ],
          [
           "positive",
           0
          ],
          [
           "positive",
           1
          ],
          [
           "positive",
           1
          ],
          [
           "negative",
           0
          ],
          [
           "positive",
           0
          ],
          [
           "positive",
           0
          ],
          [
           "positive",
           0
          ],
          [
           "positive",
           0
          ],
          [
           "positive",
           0
          ],
          [
           "positive",
           0
          ],
          [
           "positive",
           0
          ],
          [
           "positive",
           1
          ],
          [
           "positive",
           0
          ],
          [
           "positive",
           0
          ],
          [
           "positive",
           0
          ],
          [
           "positive",
           0
          ],
          [
           "positive",
           0
          ],
          [
           "negative",
           1
          ],
          [
           "positive",
           0
          ],
          [
           "positive",
           0
          ],
          [
           "positive",
           0
          ],
          [
           "positive",
           0
          ],
          [
           "positive",
           0
          ],
          [
           "positive",
           0
          ],
          [
           "positive",
           0
          ],
          [
           "negative",
           0
          ],
          [
           "positive",
           0
          ],
          [
           "positive",
           0
          ],
          [
           "negative",
           0
          ],
          [
           "positive",
           0
          ],
          [
           "positive",
           0
          ],
          [
           "negative",
           0
          ],
          [
           "positive",
           0
          ],
          [
           "positive",
           0
          ],
          [
           "positive",
           0
          ],
          [
           "negative",
           1
          ],
          [
           "positive",
           1
          ],
          [
           "positive",
           0
          ],
          [
           "positive",
           0
          ],
          [
           "positive",
           0
          ],
          [
           "positive",
           1
          ],
          [
           "positive",
           0
          ],
          [
           "positive",
           0
          ],
          [
           "positive",
           0
          ],
          [
           "positive",
           0
          ],
          [
           "positive",
           0
          ],
          [
           "positive",
           0
          ],
          [
           "positive",
           0
          ],
          [
           "positive",
           0
          ],
          [
           "positive",
           0
          ],
          [
           "positive",
           0
          ],
          [
           "positive",
           0
          ],
          [
           "positive",
           0
          ],
          [
           "positive",
           1
          ],
          [
           "positive",
           0
          ],
          [
           "positive",
           0
          ],
          [
           "positive",
           0
          ],
          [
           "positive",
           1
          ],
          [
           "positive",
           0
          ],
          [
           "positive",
           1
          ],
          [
           "positive",
           0
          ],
          [
           "positive",
           0
          ],
          [
           "positive",
           0
          ],
          [
           "negative",
           0
          ],
          [
           "positive",
           0
          ],
          [
           "positive",
           0
          ],
          [
           "positive",
           0
          ],
          [
           "positive",
           0
          ],
          [
           "positive",
           0
          ],
          [
           "positive",
           0
          ],
          [
           "positive",
           0
          ],
          [
           "positive",
           0
          ],
          [
           "positive",
           0
          ],
          [
           "positive",
           0
          ],
          [
           "positive",
           0
          ],
          [
           "positive",
           0
          ],
          [
           "positive",
           0
          ],
          [
           "positive",
           0
          ],
          [
           "positive",
           0
          ],
          [
           "positive",
           0
          ],
          [
           "positive",
           1
          ],
          [
           "positive",
           0
          ],
          [
           "negative",
           1
          ],
          [
           "positive",
           0
          ],
          [
           "positive",
           0
          ],
          [
           "positive",
           0
          ],
          [
           "positive",
           1
          ],
          [
           "positive",
           0
          ],
          [
           "positive",
           0
          ],
          [
           "positive",
           0
          ],
          [
           "positive",
           0
          ],
          [
           "positive",
           1
          ],
          [
           "positive",
           1
          ],
          [
           "positive",
           0
          ],
          [
           "positive",
           0
          ],
          [
           "positive",
           0
          ],
          [
           "negative",
           1
          ],
          [
           "positive",
           1
          ],
          [
           "positive",
           1
          ],
          [
           "positive",
           0
          ],
          [
           "positive",
           1
          ],
          [
           "positive",
           0
          ],
          [
           "positive",
           1
          ],
          [
           "positive",
           0
          ],
          [
           "positive",
           0
          ],
          [
           "positive",
           0
          ],
          [
           "positive",
           0
          ],
          [
           "positive",
           0
          ],
          [
           "positive",
           1
          ],
          [
           "positive",
           0
          ],
          [
           "negative",
           0
          ],
          [
           "positive",
           0
          ],
          [
           "positive",
           1
          ],
          [
           "positive",
           1
          ],
          [
           "negative",
           0
          ],
          [
           "positive",
           0
          ],
          [
           "positive",
           0
          ],
          [
           "positive",
           0
          ],
          [
           "positive",
           0
          ],
          [
           "positive",
           0
          ],
          [
           "positive",
           0
          ],
          [
           "negative",
           1
          ],
          [
           "positive",
           0
          ],
          [
           "positive",
           0
          ],
          [
           "positive",
           0
          ],
          [
           "negative",
           0
          ],
          [
           "negative",
           0
          ],
          [
           "positive",
           0
          ],
          [
           "positive",
           0
          ],
          [
           "positive",
           0
          ],
          [
           "positive",
           0
          ],
          [
           "positive",
           0
          ],
          [
           "positive",
           0
          ],
          [
           "positive",
           0
          ],
          [
           "positive",
           0
          ],
          [
           "positive",
           0
          ],
          [
           "positive",
           0
          ],
          [
           "positive",
           0
          ],
          [
           "positive",
           1
          ],
          [
           "positive",
           0
          ],
          [
           "negative",
           1
          ],
          [
           "positive",
           0
          ],
          [
           "positive",
           0
          ],
          [
           "positive",
           1
          ],
          [
           "positive",
           0
          ],
          [
           "positive",
           0
          ],
          [
           "positive",
           1
          ],
          [
           "positive",
           0
          ],
          [
           "positive",
           0
          ],
          [
           "positive",
           0
          ],
          [
           "positive",
           0
          ],
          [
           "positive",
           1
          ],
          [
           "negative",
           0
          ],
          [
           "positive",
           0
          ],
          [
           "positive",
           0
          ],
          [
           "positive",
           0
          ],
          [
           "positive",
           0
          ],
          [
           "positive",
           0
          ],
          [
           "negative",
           0
          ],
          [
           "negative",
           0
          ],
          [
           "positive",
           0
          ],
          [
           "positive",
           0
          ],
          [
           "positive",
           0
          ],
          [
           "positive",
           0
          ],
          [
           "positive",
           0
          ],
          [
           "positive",
           0
          ],
          [
           "negative",
           0
          ],
          [
           "positive",
           0
          ],
          [
           "positive",
           0
          ],
          [
           "positive",
           0
          ],
          [
           "negative",
           0
          ],
          [
           "positive",
           0
          ],
          [
           "positive",
           1
          ],
          [
           "positive",
           0
          ],
          [
           "negative",
           1
          ],
          [
           "positive",
           0
          ],
          [
           "positive",
           0
          ],
          [
           "positive",
           0
          ],
          [
           "positive",
           0
          ],
          [
           "positive",
           0
          ],
          [
           "positive",
           0
          ],
          [
           "positive",
           0
          ],
          [
           "positive",
           0
          ],
          [
           "positive",
           0
          ],
          [
           "positive",
           0
          ],
          [
           "positive",
           1
          ],
          [
           "positive",
           0
          ],
          [
           "positive",
           0
          ],
          [
           "positive",
           1
          ],
          [
           "positive",
           0
          ],
          [
           "positive",
           0
          ],
          [
           "positive",
           0
          ],
          [
           "positive",
           0
          ],
          [
           "positive",
           0
          ],
          [
           "positive",
           0
          ],
          [
           "positive",
           0
          ],
          [
           "positive",
           1
          ],
          [
           "positive",
           0
          ],
          [
           "positive",
           1
          ],
          [
           "positive",
           0
          ],
          [
           "positive",
           0
          ],
          [
           "positive",
           0
          ],
          [
           "positive",
           0
          ],
          [
           "positive",
           1
          ],
          [
           "positive",
           0
          ],
          [
           "positive",
           0
          ],
          [
           "positive",
           0
          ],
          [
           "positive",
           0
          ],
          [
           "positive",
           0
          ],
          [
           "positive",
           0
          ],
          [
           "positive",
           0
          ],
          [
           "positive",
           1
          ],
          [
           "positive",
           0
          ],
          [
           "positive",
           0
          ],
          [
           "positive",
           0
          ],
          [
           "positive",
           0
          ],
          [
           "positive",
           1
          ],
          [
           "positive",
           0
          ],
          [
           "positive",
           0
          ],
          [
           "positive",
           0
          ],
          [
           "positive",
           1
          ],
          [
           "positive",
           0
          ],
          [
           "positive",
           0
          ],
          [
           "positive",
           0
          ],
          [
           "positive",
           0
          ],
          [
           "positive",
           0
          ],
          [
           "positive",
           0
          ],
          [
           "positive",
           0
          ],
          [
           "positive",
           0
          ],
          [
           "positive",
           0
          ],
          [
           "positive",
           0
          ],
          [
           "positive",
           0
          ],
          [
           "positive",
           0
          ],
          [
           "positive",
           1
          ],
          [
           "positive",
           0
          ],
          [
           "positive",
           0
          ],
          [
           "positive",
           0
          ],
          [
           "positive",
           0
          ],
          [
           "positive",
           0
          ],
          [
           "negative",
           0
          ],
          [
           "positive",
           1
          ],
          [
           "negative",
           0
          ],
          [
           "positive",
           0
          ],
          [
           "positive",
           0
          ],
          [
           "positive",
           1
          ],
          [
           "negative",
           1
          ],
          [
           "positive",
           0
          ],
          [
           "positive",
           1
          ],
          [
           "positive",
           0
          ],
          [
           "positive",
           0
          ],
          [
           "positive",
           0
          ],
          [
           "positive",
           1
          ],
          [
           "positive",
           1
          ],
          [
           "positive",
           0
          ],
          [
           "positive",
           1
          ],
          [
           "positive",
           0
          ],
          [
           "positive",
           0
          ],
          [
           "positive",
           1
          ],
          [
           "positive",
           0
          ],
          [
           "positive",
           0
          ],
          [
           "positive",
           0
          ],
          [
           "negative",
           1
          ],
          [
           "positive",
           1
          ],
          [
           "positive",
           0
          ],
          [
           "positive",
           0
          ],
          [
           "positive",
           0
          ],
          [
           "positive",
           0
          ],
          [
           "positive",
           0
          ],
          [
           "positive",
           0
          ],
          [
           "positive",
           0
          ],
          [
           "positive",
           1
          ],
          [
           "positive",
           0
          ],
          [
           "positive",
           0
          ],
          [
           "positive",
           0
          ],
          [
           "positive",
           0
          ],
          [
           "positive",
           0
          ],
          [
           "positive",
           0
          ],
          [
           "positive",
           0
          ],
          [
           "positive",
           0
          ],
          [
           "positive",
           0
          ],
          [
           "positive",
           1
          ],
          [
           "positive",
           1
          ],
          [
           "positive",
           0
          ],
          [
           "positive",
           0
          ],
          [
           "positive",
           0
          ],
          [
           "positive",
           0
          ],
          [
           "positive",
           0
          ],
          [
           "negative",
           0
          ],
          [
           "positive",
           0
          ],
          [
           "positive",
           0
          ],
          [
           "positive",
           1
          ],
          [
           "positive",
           0
          ],
          [
           "positive",
           0
          ],
          [
           "positive",
           0
          ],
          [
           "positive",
           0
          ],
          [
           "positive",
           0
          ],
          [
           "positive",
           0
          ],
          [
           "positive",
           0
          ],
          [
           "positive",
           0
          ],
          [
           "positive",
           0
          ],
          [
           "negative",
           0
          ],
          [
           "positive",
           0
          ],
          [
           "positive",
           0
          ],
          [
           "positive",
           0
          ],
          [
           "positive",
           1
          ],
          [
           "positive",
           0
          ],
          [
           "positive",
           0
          ],
          [
           "positive",
           0
          ],
          [
           "positive",
           1
          ],
          [
           "negative",
           0
          ],
          [
           "positive",
           0
          ],
          [
           "positive",
           0
          ],
          [
           "negative",
           0
          ],
          [
           "positive",
           0
          ],
          [
           "positive",
           1
          ],
          [
           "positive",
           0
          ],
          [
           "negative",
           0
          ],
          [
           "positive",
           0
          ],
          [
           "positive",
           0
          ],
          [
           "positive",
           1
          ],
          [
           "positive",
           0
          ],
          [
           "positive",
           0
          ],
          [
           "positive",
           0
          ],
          [
           "positive",
           0
          ],
          [
           "positive",
           0
          ],
          [
           "positive",
           0
          ],
          [
           "neutral",
           0
          ],
          [
           "positive",
           0
          ],
          [
           "positive",
           1
          ],
          [
           "positive",
           0
          ],
          [
           "positive",
           0
          ],
          [
           "positive",
           0
          ],
          [
           "positive",
           0
          ],
          [
           "positive",
           0
          ],
          [
           "positive",
           0
          ],
          [
           "positive",
           0
          ],
          [
           "positive",
           1
          ],
          [
           "positive",
           0
          ],
          [
           "positive",
           0
          ],
          [
           "negative",
           1
          ],
          [
           "positive",
           0
          ],
          [
           "positive",
           0
          ],
          [
           "positive",
           0
          ],
          [
           "positive",
           0
          ],
          [
           "positive",
           0
          ],
          [
           "positive",
           0
          ],
          [
           "positive",
           1
          ],
          [
           "positive",
           0
          ],
          [
           "positive",
           0
          ],
          [
           "positive",
           0
          ],
          [
           "positive",
           0
          ],
          [
           "positive",
           1
          ],
          [
           "positive",
           0
          ],
          [
           "positive",
           0
          ],
          [
           "positive",
           0
          ],
          [
           "positive",
           0
          ],
          [
           "negative",
           1
          ],
          [
           "positive",
           0
          ],
          [
           "positive",
           0
          ],
          [
           "positive",
           0
          ],
          [
           "positive",
           0
          ],
          [
           "positive",
           0
          ],
          [
           "positive",
           0
          ],
          [
           "positive",
           1
          ],
          [
           "positive",
           0
          ],
          [
           "positive",
           0
          ],
          [
           "negative",
           0
          ],
          [
           "negative",
           0
          ],
          [
           "negative",
           1
          ],
          [
           "positive",
           1
          ],
          [
           "positive",
           0
          ],
          [
           "positive",
           0
          ],
          [
           "negative",
           0
          ],
          [
           "positive",
           0
          ],
          [
           "positive",
           0
          ],
          [
           "positive",
           0
          ],
          [
           "positive",
           0
          ],
          [
           "positive",
           1
          ],
          [
           "negative",
           0
          ],
          [
           "positive",
           0
          ],
          [
           "positive",
           0
          ],
          [
           "positive",
           0
          ],
          [
           "positive",
           1
          ],
          [
           "positive",
           0
          ],
          [
           "positive",
           0
          ],
          [
           "positive",
           0
          ],
          [
           "positive",
           0
          ],
          [
           "positive",
           0
          ],
          [
           "positive",
           1
          ],
          [
           "positive",
           0
          ],
          [
           "positive",
           0
          ],
          [
           "positive",
           0
          ],
          [
           "positive",
           1
          ],
          [
           "negative",
           0
          ],
          [
           "positive",
           0
          ],
          [
           "positive",
           0
          ],
          [
           "positive",
           0
          ],
          [
           "positive",
           0
          ],
          [
           "negative",
           1
          ],
          [
           "positive",
           0
          ],
          [
           "positive",
           0
          ],
          [
           "positive",
           0
          ],
          [
           "negative",
           0
          ],
          [
           "positive",
           1
          ],
          [
           "negative",
           0
          ],
          [
           "positive",
           0
          ],
          [
           "positive",
           0
          ],
          [
           "positive",
           0
          ],
          [
           "positive",
           0
          ],
          [
           "positive",
           1
          ],
          [
           "positive",
           0
          ],
          [
           "positive",
           0
          ],
          [
           "positive",
           0
          ],
          [
           "positive",
           0
          ],
          [
           "positive",
           0
          ],
          [
           "negative",
           1
          ],
          [
           "positive",
           1
          ],
          [
           "positive",
           0
          ],
          [
           "positive",
           0
          ],
          [
           "positive",
           0
          ],
          [
           "positive",
           0
          ],
          [
           "positive",
           0
          ],
          [
           "positive",
           0
          ],
          [
           "positive",
           0
          ],
          [
           "positive",
           0
          ],
          [
           "positive",
           1
          ],
          [
           "positive",
           1
          ],
          [
           "positive",
           0
          ],
          [
           "positive",
           0
          ],
          [
           "positive",
           0
          ],
          [
           "positive",
           0
          ],
          [
           "positive",
           0
          ],
          [
           "positive",
           0
          ],
          [
           "positive",
           0
          ],
          [
           "positive",
           0
          ],
          [
           "positive",
           1
          ],
          [
           "positive",
           0
          ],
          [
           "positive",
           0
          ],
          [
           "positive",
           0
          ],
          [
           "negative",
           0
          ],
          [
           "negative",
           0
          ],
          [
           "positive",
           0
          ],
          [
           "positive",
           0
          ],
          [
           "positive",
           0
          ],
          [
           "negative",
           1
          ],
          [
           "positive",
           0
          ],
          [
           "positive",
           1
          ],
          [
           "positive",
           0
          ],
          [
           "positive",
           0
          ],
          [
           "positive",
           0
          ],
          [
           "positive",
           0
          ],
          [
           "positive",
           1
          ],
          [
           "positive",
           0
          ],
          [
           "positive",
           0
          ],
          [
           "positive",
           0
          ],
          [
           "positive",
           0
          ],
          [
           "negative",
           0
          ],
          [
           "positive",
           0
          ],
          [
           "positive",
           0
          ],
          [
           "negative",
           0
          ],
          [
           "positive",
           0
          ],
          [
           "positive",
           0
          ],
          [
           "positive",
           0
          ],
          [
           "positive",
           0
          ],
          [
           "positive",
           0
          ],
          [
           "negative",
           0
          ],
          [
           "negative",
           0
          ],
          [
           "positive",
           0
          ],
          [
           "positive",
           0
          ],
          [
           "positive",
           0
          ],
          [
           "positive",
           0
          ],
          [
           "positive",
           0
          ],
          [
           "positive",
           0
          ],
          [
           "positive",
           0
          ],
          [
           "positive",
           0
          ],
          [
           "positive",
           0
          ],
          [
           "positive",
           0
          ],
          [
           "positive",
           0
          ],
          [
           "negative",
           0
          ],
          [
           "positive",
           1
          ],
          [
           "positive",
           0
          ],
          [
           "negative",
           1
          ],
          [
           "positive",
           0
          ],
          [
           "positive",
           0
          ],
          [
           "positive",
           0
          ],
          [
           "positive",
           0
          ],
          [
           "positive",
           0
          ],
          [
           "positive",
           0
          ],
          [
           "negative",
           1
          ],
          [
           "positive",
           0
          ],
          [
           "positive",
           0
          ],
          [
           "positive",
           0
          ],
          [
           "positive",
           0
          ],
          [
           "positive",
           0
          ],
          [
           "negative",
           0
          ],
          [
           "positive",
           0
          ],
          [
           "negative",
           0
          ],
          [
           "positive",
           1
          ],
          [
           "positive",
           0
          ],
          [
           "positive",
           0
          ],
          [
           "positive",
           1
          ],
          [
           "positive",
           0
          ],
          [
           "positive",
           1
          ],
          [
           "negative",
           1
          ],
          [
           "positive",
           0
          ],
          [
           "positive",
           0
          ],
          [
           "positive",
           0
          ],
          [
           "positive",
           1
          ],
          [
           "positive",
           0
          ],
          [
           "negative",
           1
          ],
          [
           "positive",
           0
          ],
          [
           "positive",
           0
          ],
          [
           "positive",
           0
          ],
          [
           "positive",
           0
          ],
          [
           "positive",
           0
          ],
          [
           "positive",
           0
          ],
          [
           "positive",
           1
          ],
          [
           "positive",
           0
          ],
          [
           "positive",
           0
          ],
          [
           "positive",
           0
          ],
          [
           "positive",
           1
          ],
          [
           "positive",
           0
          ],
          [
           "positive",
           0
          ],
          [
           "negative",
           0
          ],
          [
           "positive",
           0
          ],
          [
           "positive",
           0
          ],
          [
           "positive",
           0
          ],
          [
           "positive",
           0
          ],
          [
           "positive",
           0
          ],
          [
           "positive",
           0
          ],
          [
           "positive",
           0
          ],
          [
           "positive",
           0
          ],
          [
           "positive",
           0
          ],
          [
           "positive",
           0
          ],
          [
           "positive",
           1
          ],
          [
           "positive",
           0
          ],
          [
           "negative",
           1
          ],
          [
           "positive",
           0
          ],
          [
           "negative",
           0
          ],
          [
           "negative",
           0
          ],
          [
           "positive",
           0
          ],
          [
           "positive",
           0
          ],
          [
           "positive",
           0
          ],
          [
           "positive",
           0
          ],
          [
           "positive",
           0
          ],
          [
           "positive",
           0
          ],
          [
           "positive",
           1
          ],
          [
           "positive",
           0
          ],
          [
           "positive",
           0
          ],
          [
           "positive",
           1
          ],
          [
           "positive",
           0
          ],
          [
           "positive",
           0
          ],
          [
           "positive",
           0
          ],
          [
           "positive",
           1
          ],
          [
           "positive",
           0
          ],
          [
           "negative",
           0
          ],
          [
           "positive",
           0
          ],
          [
           "positive",
           0
          ],
          [
           "positive",
           0
          ],
          [
           "positive",
           0
          ],
          [
           "positive",
           1
          ],
          [
           "positive",
           1
          ],
          [
           "positive",
           0
          ],
          [
           "positive",
           0
          ],
          [
           "positive",
           0
          ],
          [
           "positive",
           0
          ],
          [
           "positive",
           0
          ],
          [
           "positive",
           0
          ],
          [
           "negative",
           0
          ],
          [
           "positive",
           0
          ],
          [
           "positive",
           0
          ],
          [
           "positive",
           0
          ],
          [
           "negative",
           0
          ],
          [
           "positive",
           0
          ],
          [
           "positive",
           1
          ],
          [
           "positive",
           0
          ],
          [
           "negative",
           0
          ],
          [
           "positive",
           0
          ],
          [
           "positive",
           0
          ],
          [
           "positive",
           0
          ],
          [
           "negative",
           1
          ],
          [
           "positive",
           0
          ],
          [
           "positive",
           0
          ],
          [
           "positive",
           0
          ],
          [
           "positive",
           1
          ],
          [
           "positive",
           0
          ],
          [
           "negative",
           0
          ],
          [
           "positive",
           0
          ],
          [
           "positive",
           0
          ],
          [
           "negative",
           1
          ],
          [
           "positive",
           1
          ],
          [
           "positive",
           0
          ],
          [
           "positive",
           0
          ],
          [
           "negative",
           0
          ],
          [
           "positive",
           0
          ],
          [
           "positive",
           0
          ],
          [
           "positive",
           0
          ],
          [
           "positive",
           0
          ],
          [
           "positive",
           0
          ],
          [
           "positive",
           0
          ],
          [
           "positive",
           0
          ],
          [
           "positive",
           0
          ],
          [
           "positive",
           0
          ],
          [
           "positive",
           0
          ],
          [
           "positive",
           0
          ],
          [
           "positive",
           0
          ],
          [
           "positive",
           0
          ],
          [
           "positive",
           0
          ],
          [
           "positive",
           0
          ],
          [
           "negative",
           0
          ],
          [
           "positive",
           0
          ],
          [
           "positive",
           0
          ],
          [
           "positive",
           0
          ],
          [
           "positive",
           0
          ],
          [
           "positive",
           0
          ],
          [
           "positive",
           0
          ],
          [
           "positive",
           0
          ],
          [
           "positive",
           0
          ],
          [
           "positive",
           0
          ],
          [
           "positive",
           1
          ],
          [
           "positive",
           0
          ],
          [
           "positive",
           0
          ],
          [
           "positive",
           0
          ],
          [
           "positive",
           0
          ],
          [
           "positive",
           0
          ],
          [
           "positive",
           1
          ],
          [
           "positive",
           1
          ],
          [
           "positive",
           0
          ],
          [
           "positive",
           0
          ],
          [
           "positive",
           0
          ],
          [
           "positive",
           0
          ],
          [
           "positive",
           0
          ],
          [
           "positive",
           0
          ],
          [
           "positive",
           0
          ],
          [
           "positive",
           0
          ],
          [
           "positive",
           0
          ],
          [
           "positive",
           0
          ],
          [
           "positive",
           0
          ],
          [
           "positive",
           0
          ],
          [
           "positive",
           0
          ],
          [
           "negative",
           0
          ],
          [
           "negative",
           1
          ],
          [
           "positive",
           0
          ],
          [
           "positive",
           0
          ],
          [
           "positive",
           0
          ],
          [
           "positive",
           1
          ],
          [
           "positive",
           0
          ],
          [
           "negative",
           0
          ],
          [
           "positive",
           0
          ],
          [
           "positive",
           0
          ],
          [
           "positive",
           0
          ],
          [
           "positive",
           1
          ],
          [
           "positive",
           1
          ],
          [
           "positive",
           0
          ],
          [
           "negative",
           0
          ],
          [
           "positive",
           0
          ],
          [
           "positive",
           0
          ],
          [
           "positive",
           1
          ],
          [
           "positive",
           0
          ],
          [
           "positive",
           0
          ],
          [
           "positive",
           0
          ],
          [
           "positive",
           0
          ],
          [
           "positive",
           0
          ],
          [
           "positive",
           0
          ],
          [
           "negative",
           0
          ],
          [
           "positive",
           1
          ],
          [
           "positive",
           1
          ],
          [
           "positive",
           0
          ],
          [
           "positive",
           0
          ],
          [
           "positive",
           0
          ],
          [
           "positive",
           0
          ],
          [
           "positive",
           0
          ],
          [
           "positive",
           0
          ],
          [
           "positive",
           0
          ],
          [
           "positive",
           0
          ],
          [
           "positive",
           0
          ],
          [
           "positive",
           0
          ],
          [
           "positive",
           0
          ],
          [
           "negative",
           1
          ],
          [
           "positive",
           0
          ],
          [
           "positive",
           0
          ],
          [
           "positive",
           0
          ],
          [
           "positive",
           0
          ],
          [
           "positive",
           0
          ],
          [
           "positive",
           0
          ],
          [
           "positive",
           0
          ],
          [
           "positive",
           0
          ],
          [
           "positive",
           0
          ],
          [
           "negative",
           0
          ],
          [
           "positive",
           1
          ],
          [
           "positive",
           0
          ],
          [
           "negative",
           1
          ],
          [
           "positive",
           0
          ],
          [
           "negative",
           0
          ],
          [
           "positive",
           0
          ],
          [
           "positive",
           0
          ],
          [
           "positive",
           0
          ],
          [
           "positive",
           0
          ],
          [
           "negative",
           0
          ],
          [
           "negative",
           0
          ],
          [
           "positive",
           0
          ],
          [
           "positive",
           0
          ],
          [
           "positive",
           0
          ],
          [
           "negative",
           0
          ],
          [
           "positive",
           0
          ],
          [
           "positive",
           0
          ],
          [
           "positive",
           0
          ],
          [
           "negative",
           1
          ],
          [
           "positive",
           0
          ],
          [
           "positive",
           0
          ],
          [
           "positive",
           1
          ],
          [
           "positive",
           0
          ],
          [
           "positive",
           0
          ],
          [
           "positive",
           0
          ],
          [
           "positive",
           1
          ],
          [
           "positive",
           0
          ],
          [
           "positive",
           0
          ],
          [
           "positive",
           1
          ],
          [
           "positive",
           0
          ],
          [
           "positive",
           0
          ],
          [
           "positive",
           0
          ],
          [
           "positive",
           0
          ],
          [
           "positive",
           0
          ],
          [
           "positive",
           0
          ],
          [
           "positive",
           0
          ],
          [
           "negative",
           0
          ],
          [
           "negative",
           0
          ],
          [
           "positive",
           0
          ],
          [
           "positive",
           0
          ],
          [
           "positive",
           1
          ],
          [
           "positive",
           0
          ],
          [
           "positive",
           1
          ],
          [
           "positive",
           0
          ],
          [
           "positive",
           0
          ],
          [
           "positive",
           0
          ],
          [
           "positive",
           0
          ],
          [
           "positive",
           0
          ],
          [
           "positive",
           0
          ],
          [
           "positive",
           0
          ],
          [
           "positive",
           0
          ],
          [
           "positive",
           0
          ],
          [
           "positive",
           0
          ],
          [
           "positive",
           0
          ],
          [
           "positive",
           0
          ],
          [
           "positive",
           0
          ],
          [
           "negative",
           1
          ],
          [
           "positive",
           1
          ],
          [
           "positive",
           0
          ],
          [
           "positive",
           0
          ],
          [
           "positive",
           0
          ],
          [
           "positive",
           1
          ],
          [
           "positive",
           0
          ],
          [
           "negative",
           0
          ],
          [
           "positive",
           0
          ],
          [
           "positive",
           1
          ],
          [
           "negative",
           0
          ],
          [
           "positive",
           0
          ],
          [
           "positive",
           0
          ],
          [
           "positive",
           0
          ],
          [
           "positive",
           0
          ],
          [
           "positive",
           0
          ],
          [
           "positive",
           0
          ],
          [
           "negative",
           1
          ],
          [
           "positive",
           0
          ],
          [
           "positive",
           0
          ],
          [
           "positive",
           0
          ],
          [
           "positive",
           0
          ],
          [
           "positive",
           0
          ],
          [
           "positive",
           0
          ],
          [
           "positive",
           0
          ],
          [
           "negative",
           1
          ],
          [
           "positive",
           0
          ],
          [
           "negative",
           0
          ],
          [
           "positive",
           0
          ],
          [
           "positive",
           0
          ],
          [
           "positive",
           0
          ],
          [
           "positive",
           0
          ],
          [
           "positive",
           0
          ],
          [
           "positive",
           0
          ],
          [
           "positive",
           0
          ],
          [
           "positive",
           0
          ],
          [
           "negative",
           0
          ],
          [
           "positive",
           0
          ],
          [
           "positive",
           0
          ],
          [
           "negative",
           0
          ],
          [
           "positive",
           0
          ],
          [
           "positive",
           1
          ],
          [
           "positive",
           1
          ],
          [
           "positive",
           0
          ],
          [
           "positive",
           1
          ],
          [
           "positive",
           0
          ],
          [
           "negative",
           0
          ],
          [
           "positive",
           0
          ],
          [
           "positive",
           0
          ],
          [
           "positive",
           0
          ],
          [
           "positive",
           0
          ],
          [
           "positive",
           0
          ],
          [
           "positive",
           0
          ],
          [
           "positive",
           1
          ],
          [
           "positive",
           1
          ],
          [
           "positive",
           0
          ],
          [
           "positive",
           0
          ],
          [
           "positive",
           0
          ],
          [
           "positive",
           0
          ],
          [
           "positive",
           0
          ],
          [
           "positive",
           0
          ],
          [
           "positive",
           0
          ],
          [
           "positive",
           0
          ],
          [
           "positive",
           0
          ],
          [
           "positive",
           0
          ],
          [
           "positive",
           0
          ],
          [
           "negative",
           0
          ],
          [
           "positive",
           0
          ],
          [
           "positive",
           0
          ],
          [
           "positive",
           0
          ],
          [
           "positive",
           0
          ],
          [
           "negative",
           0
          ],
          [
           "negative",
           0
          ],
          [
           "negative",
           0
          ],
          [
           "positive",
           0
          ],
          [
           "positive",
           0
          ],
          [
           "positive",
           0
          ],
          [
           "positive",
           0
          ],
          [
           "positive",
           0
          ],
          [
           "negative",
           1
          ],
          [
           "positive",
           0
          ],
          [
           "positive",
           0
          ],
          [
           "positive",
           1
          ],
          [
           "positive",
           0
          ],
          [
           "positive",
           1
          ],
          [
           "positive",
           0
          ],
          [
           "positive",
           0
          ],
          [
           "positive",
           0
          ],
          [
           "positive",
           0
          ],
          [
           "positive",
           0
          ],
          [
           "positive",
           0
          ],
          [
           "negative",
           0
          ],
          [
           "positive",
           0
          ],
          [
           "positive",
           0
          ],
          [
           "positive",
           0
          ],
          [
           "positive",
           0
          ],
          [
           "positive",
           0
          ],
          [
           "positive",
           0
          ],
          [
           "positive",
           0
          ],
          [
           "positive",
           0
          ],
          [
           "positive",
           1
          ],
          [
           "positive",
           0
          ]
         ],
         "hovertemplate": "umap_component_1=%{x}<br>umap_component_2=%{y}<br>sentiment=%{customdata[0]}<br>umap_cluster=%{marker.color}<extra></extra>",
         "legendgroup": "",
         "marker": {
          "color": [
           0,
           1,
           0,
           0,
           1,
           0,
           0,
           0,
           0,
           0,
           1,
           0,
           0,
           0,
           0,
           0,
           0,
           0,
           0,
           1,
           0,
           0,
           0,
           0,
           0,
           1,
           0,
           1,
           0,
           0,
           0,
           0,
           0,
           0,
           0,
           1,
           0,
           0,
           0,
           0,
           0,
           0,
           0,
           0,
           0,
           0,
           1,
           0,
           0,
           1,
           0,
           0,
           0,
           0,
           0,
           0,
           0,
           1,
           0,
           1,
           1,
           0,
           1,
           0,
           0,
           0,
           0,
           0,
           1,
           0,
           0,
           0,
           0,
           0,
           0,
           0,
           0,
           0,
           0,
           0,
           0,
           0,
           0,
           0,
           0,
           0,
           0,
           1,
           1,
           0,
           0,
           0,
           0,
           0,
           0,
           0,
           0,
           0,
           1,
           1,
           0,
           0,
           0,
           0,
           0,
           0,
           0,
           0,
           0,
           1,
           1,
           0,
           0,
           0,
           0,
           0,
           0,
           1,
           0,
           0,
           0,
           0,
           0,
           0,
           0,
           0,
           0,
           0,
           0,
           0,
           0,
           0,
           0,
           0,
           0,
           0,
           0,
           0,
           1,
           1,
           0,
           0,
           0,
           1,
           0,
           0,
           0,
           0,
           0,
           0,
           0,
           0,
           0,
           0,
           1,
           1,
           0,
           0,
           0,
           0,
           0,
           0,
           0,
           0,
           1,
           0,
           0,
           0,
           0,
           0,
           1,
           0,
           0,
           0,
           0,
           0,
           0,
           0,
           0,
           0,
           0,
           0,
           0,
           0,
           0,
           0,
           0,
           0,
           1,
           1,
           0,
           0,
           0,
           1,
           0,
           0,
           0,
           0,
           0,
           0,
           0,
           0,
           0,
           0,
           0,
           0,
           1,
           0,
           0,
           0,
           1,
           0,
           1,
           0,
           0,
           0,
           0,
           0,
           0,
           0,
           0,
           0,
           0,
           0,
           0,
           0,
           0,
           0,
           0,
           0,
           0,
           0,
           0,
           1,
           0,
           1,
           0,
           0,
           0,
           1,
           0,
           0,
           0,
           0,
           1,
           1,
           0,
           0,
           0,
           1,
           1,
           1,
           0,
           1,
           0,
           1,
           0,
           0,
           0,
           0,
           0,
           1,
           0,
           0,
           0,
           1,
           1,
           0,
           0,
           0,
           0,
           0,
           0,
           0,
           1,
           0,
           0,
           0,
           0,
           0,
           0,
           0,
           0,
           0,
           0,
           0,
           0,
           0,
           0,
           0,
           0,
           1,
           0,
           1,
           0,
           0,
           1,
           0,
           0,
           1,
           0,
           0,
           0,
           0,
           1,
           0,
           0,
           0,
           0,
           0,
           0,
           0,
           0,
           0,
           0,
           0,
           0,
           0,
           0,
           0,
           0,
           0,
           0,
           0,
           0,
           1,
           0,
           1,
           0,
           0,
           0,
           0,
           0,
           0,
           0,
           0,
           0,
           0,
           1,
           0,
           0,
           1,
           0,
           0,
           0,
           0,
           0,
           0,
           0,
           1,
           0,
           1,
           0,
           0,
           0,
           0,
           1,
           0,
           0,
           0,
           0,
           0,
           0,
           0,
           1,
           0,
           0,
           0,
           0,
           1,
           0,
           0,
           0,
           1,
           0,
           0,
           0,
           0,
           0,
           0,
           0,
           0,
           0,
           0,
           0,
           0,
           1,
           0,
           0,
           0,
           0,
           0,
           0,
           1,
           0,
           0,
           0,
           1,
           1,
           0,
           1,
           0,
           0,
           0,
           1,
           1,
           0,
           1,
           0,
           0,
           1,
           0,
           0,
           0,
           1,
           1,
           0,
           0,
           0,
           0,
           0,
           0,
           0,
           1,
           0,
           0,
           0,
           0,
           0,
           0,
           0,
           0,
           0,
           1,
           1,
           0,
           0,
           0,
           0,
           0,
           0,
           0,
           0,
           1,
           0,
           0,
           0,
           0,
           0,
           0,
           0,
           0,
           0,
           0,
           0,
           0,
           0,
           1,
           0,
           0,
           0,
           1,
           0,
           0,
           0,
           0,
           0,
           1,
           0,
           0,
           0,
           0,
           1,
           0,
           0,
           0,
           0,
           0,
           0,
           0,
           0,
           1,
           0,
           0,
           0,
           0,
           0,
           0,
           0,
           1,
           0,
           0,
           1,
           0,
           0,
           0,
           0,
           0,
           0,
           1,
           0,
           0,
           0,
           0,
           1,
           0,
           0,
           0,
           0,
           1,
           0,
           0,
           0,
           0,
           0,
           0,
           1,
           0,
           0,
           0,
           0,
           1,
           1,
           0,
           0,
           0,
           0,
           0,
           0,
           0,
           1,
           0,
           0,
           0,
           0,
           1,
           0,
           0,
           0,
           0,
           0,
           1,
           0,
           0,
           0,
           1,
           0,
           0,
           0,
           0,
           0,
           1,
           0,
           0,
           0,
           0,
           1,
           0,
           0,
           0,
           0,
           0,
           1,
           0,
           0,
           0,
           0,
           0,
           1,
           1,
           0,
           0,
           0,
           0,
           0,
           0,
           0,
           0,
           1,
           1,
           0,
           0,
           0,
           0,
           0,
           0,
           0,
           0,
           1,
           0,
           0,
           0,
           0,
           0,
           0,
           0,
           0,
           1,
           0,
           1,
           0,
           0,
           0,
           0,
           1,
           0,
           0,
           0,
           0,
           0,
           0,
           0,
           0,
           0,
           0,
           0,
           0,
           0,
           0,
           0,
           0,
           0,
           0,
           0,
           0,
           0,
           0,
           0,
           0,
           0,
           0,
           0,
           1,
           0,
           1,
           0,
           0,
           0,
           0,
           0,
           0,
           1,
           0,
           0,
           0,
           0,
           0,
           0,
           0,
           0,
           1,
           0,
           0,
           1,
           0,
           1,
           1,
           0,
           0,
           0,
           1,
           0,
           1,
           0,
           0,
           0,
           0,
           0,
           0,
           1,
           0,
           0,
           0,
           1,
           0,
           0,
           0,
           0,
           0,
           0,
           0,
           0,
           0,
           0,
           0,
           0,
           0,
           1,
           0,
           1,
           0,
           0,
           0,
           0,
           0,
           0,
           0,
           0,
           0,
           1,
           0,
           0,
           1,
           0,
           0,
           0,
           1,
           0,
           0,
           0,
           0,
           0,
           0,
           1,
           1,
           0,
           0,
           0,
           0,
           0,
           0,
           0,
           0,
           0,
           0,
           0,
           0,
           1,
           0,
           0,
           0,
           0,
           0,
           1,
           0,
           0,
           0,
           1,
           0,
           0,
           0,
           0,
           1,
           1,
           0,
           0,
           0,
           0,
           0,
           0,
           0,
           0,
           0,
           0,
           0,
           0,
           0,
           0,
           0,
           0,
           0,
           0,
           0,
           0,
           0,
           0,
           0,
           0,
           0,
           0,
           0,
           0,
           1,
           0,
           0,
           0,
           0,
           0,
           1,
           1,
           0,
           0,
           0,
           0,
           0,
           0,
           0,
           0,
           0,
           0,
           0,
           0,
           0,
           0,
           1,
           0,
           0,
           0,
           1,
           0,
           0,
           0,
           0,
           0,
           1,
           1,
           0,
           0,
           0,
           0,
           1,
           0,
           0,
           0,
           0,
           0,
           0,
           0,
           1,
           1,
           0,
           0,
           0,
           0,
           0,
           0,
           0,
           0,
           0,
           0,
           0,
           1,
           0,
           0,
           0,
           0,
           0,
           0,
           0,
           0,
           0,
           0,
           1,
           0,
           1,
           0,
           0,
           0,
           0,
           0,
           0,
           0,
           0,
           0,
           0,
           0,
           0,
           0,
           0,
           0,
           1,
           0,
           0,
           1,
           0,
           0,
           0,
           1,
           0,
           0,
           1,
           0,
           0,
           0,
           0,
           0,
           0,
           0,
           0,
           0,
           0,
           0,
           1,
           0,
           1,
           0,
           0,
           0,
           0,
           0,
           0,
           0,
           0,
           0,
           0,
           0,
           0,
           0,
           1,
           1,
           0,
           0,
           0,
           1,
           0,
           0,
           0,
           1,
           0,
           0,
           0,
           0,
           0,
           0,
           0,
           1,
           0,
           0,
           0,
           0,
           0,
           0,
           0,
           1,
           0,
           0,
           0,
           0,
           0,
           0,
           0,
           0,
           0,
           0,
           0,
           0,
           0,
           0,
           0,
           1,
           1,
           0,
           1,
           0,
           0,
           0,
           0,
           0,
           0,
           0,
           0,
           1,
           1,
           0,
           0,
           0,
           0,
           0,
           0,
           0,
           0,
           0,
           0,
           0,
           0,
           0,
           0,
           0,
           0,
           0,
           0,
           0,
           0,
           0,
           0,
           0,
           0,
           1,
           0,
           0,
           1,
           0,
           1,
           0,
           0,
           0,
           0,
           0,
           0,
           0,
           0,
           0,
           0,
           0,
           0,
           0,
           0,
           0,
           1,
           0
          ],
          "coloraxis": "coloraxis",
          "opacity": 0.7,
          "symbol": "circle"
         },
         "mode": "markers",
         "name": "",
         "orientation": "v",
         "showlegend": false,
         "type": "scatter",
         "x": [
          7.8252081871032715,
          2.725771427154541,
          7.333898067474365,
          9.16909408569336,
          3.6539340019226074,
          6.559672832489014,
          7.069896221160889,
          7.751104831695557,
          8.801803588867188,
          7.543242454528809,
          3.631523609161377,
          8.268061637878418,
          9.096449851989746,
          5.755617618560791,
          7.261773586273193,
          10.433084487915039,
          7.455967426300049,
          7.68442964553833,
          7.113742351531982,
          2.35943341255188,
          8.484003067016602,
          5.282855987548828,
          6.165472507476807,
          8.412317276000977,
          7.065162181854248,
          2.36622953414917,
          9.754963874816895,
          2.649786949157715,
          5.89015531539917,
          6.715936183929443,
          8.054391860961914,
          7.377813339233398,
          8.73813247680664,
          9.723307609558105,
          8.802234649658203,
          3.007148265838623,
          6.47104024887085,
          9.184652328491211,
          7.43275260925293,
          7.54957389831543,
          7.118143081665039,
          8.515894889831543,
          9.321565628051758,
          9.050813674926758,
          6.1417412757873535,
          7.479698181152344,
          3.1603827476501465,
          8.7726469039917,
          8.492300033569336,
          2.4901483058929443,
          9.903343200683594,
          9.233848571777344,
          7.871450424194336,
          9.76138973236084,
          9.41891098022461,
          9.54651927947998,
          6.924585819244385,
          2.2111382484436035,
          9.292740821838379,
          2.3913733959198,
          3.505531072616577,
          8.483030319213867,
          2.3896450996398926,
          7.853548526763916,
          7.6100358963012695,
          6.120022773742676,
          6.118597984313965,
          7.886373043060303,
          3.2103207111358643,
          7.447107315063477,
          8.373364448547363,
          8.909446716308594,
          8.303987503051758,
          6.742265701293945,
          6.548205375671387,
          8.993330001831055,
          10.468390464782715,
          9.048702239990234,
          7.0898590087890625,
          9.719747543334961,
          9.618133544921875,
          6.2451276779174805,
          7.2221198081970215,
          8.162714004516602,
          9.503735542297363,
          7.073477268218994,
          9.642313003540039,
          3.4953534603118896,
          2.8003463745117188,
          9.344200134277344,
          7.848238945007324,
          10.372615814208984,
          8.35342788696289,
          7.120823860168457,
          9.502439498901367,
          6.8516340255737305,
          10.402654647827148,
          10.25096607208252,
          3.217092514038086,
          2.2672133445739746,
          9.317980766296387,
          8.439324378967285,
          8.108503341674805,
          9.417665481567383,
          7.621228218078613,
          6.902712821960449,
          7.409273624420166,
          6.557320594787598,
          9.184267044067383,
          3.6185126304626465,
          2.642880916595459,
          8.316380500793457,
          8.605502128601074,
          8.00629997253418,
          7.049590587615967,
          9.61376667022705,
          7.4681596755981445,
          2.445945978164673,
          8.075614929199219,
          9.860424041748047,
          7.622141361236572,
          9.157224655151367,
          8.059345245361328,
          7.233479022979736,
          7.188297748565674,
          7.123970985412598,
          7.814462184906006,
          8.68094253540039,
          6.65531063079834,
          8.026376724243164,
          7.722490310668945,
          5.524455547332764,
          7.913142204284668,
          9.118470191955566,
          7.131807804107666,
          7.076206684112549,
          10.418094635009766,
          7.923121929168701,
          2.109557867050171,
          3.2734038829803467,
          5.3450188636779785,
          8.821465492248535,
          7.893905162811279,
          3.2440314292907715,
          7.9344940185546875,
          8.082179069519043,
          6.773514747619629,
          8.290672302246094,
          6.030498504638672,
          10.571393013000488,
          9.449779510498047,
          6.161323547363281,
          9.698392868041992,
          7.995154857635498,
          3.1077864170074463,
          2.6527469158172607,
          6.699204444885254,
          7.4396233558654785,
          6.888822555541992,
          7.5591721534729,
          9.950587272644043,
          9.761388778686523,
          7.673230171203613,
          8.025511741638184,
          1.9221351146697998,
          9.280099868774414,
          10.079346656799316,
          9.912338256835938,
          10.301831245422363,
          6.750522136688232,
          2.9769647121429443,
          7.488211154937744,
          6.511904239654541,
          7.838216304779053,
          7.036550521850586,
          9.542110443115234,
          8.566667556762695,
          7.188347339630127,
          6.479427337646484,
          8.721503257751465,
          7.686393737792969,
          5.870612144470215,
          5.655381202697754,
          7.008176803588867,
          7.171319961547852,
          10.334564208984375,
          5.604070663452148,
          9.414448738098145,
          2.71025013923645,
          2.790418863296509,
          7.834197044372559,
          8.067768096923828,
          5.6550612449646,
          2.6908488273620605,
          7.182363510131836,
          8.988690376281738,
          7.223077774047852,
          10.19326114654541,
          8.192208290100098,
          10.630825996398926,
          9.822162628173828,
          6.237360000610352,
          5.653768062591553,
          6.321174144744873,
          8.984719276428223,
          8.45284366607666,
          2.0687313079833984,
          6.5953049659729,
          8.375263214111328,
          9.879389762878418,
          2.3390612602233887,
          6.282585144042969,
          3.5133917331695557,
          8.601958274841309,
          8.384515762329102,
          7.712323188781738,
          7.151016712188721,
          8.791266441345215,
          8.24427318572998,
          7.679601669311523,
          6.767055511474609,
          8.664132118225098,
          7.33190393447876,
          7.256880760192871,
          6.914771556854248,
          8.210896492004395,
          5.428369998931885,
          8.07091236114502,
          6.066733360290527,
          9.778961181640625,
          7.916090488433838,
          10.089088439941406,
          8.880345344543457,
          2.948964834213257,
          9.002366065979004,
          2.629286289215088,
          6.813279151916504,
          9.389060020446777,
          9.141846656799316,
          2.6576743125915527,
          6.8977532386779785,
          7.933703899383545,
          8.924544334411621,
          7.798257827758789,
          2.528742551803589,
          3.3104794025421143,
          7.704970359802246,
          9.873499870300293,
          9.006597518920898,
          2.691107988357544,
          2.867952823638916,
          3.5003247261047363,
          8.92977523803711,
          2.8599743843078613,
          6.660665512084961,
          3.437775135040283,
          7.786664009094238,
          8.425111770629883,
          9.010135650634766,
          7.987331390380859,
          8.848621368408203,
          3.619476318359375,
          8.10156536102295,
          7.8964619636535645,
          7.918704509735107,
          2.016296625137329,
          2.9499247074127197,
          8.372793197631836,
          8.199955940246582,
          8.229238510131836,
          9.37155532836914,
          6.496305465698242,
          7.083410739898682,
          9.847977638244629,
          2.678190231323242,
          7.824452877044678,
          8.107991218566895,
          9.137956619262695,
          7.500437259674072,
          7.3393049240112305,
          8.595926284790039,
          6.816368103027344,
          8.792584419250488,
          7.170930862426758,
          9.527912139892578,
          6.706987380981445,
          5.949049472808838,
          6.902974605560303,
          7.113792419433594,
          8.538117408752441,
          9.310367584228516,
          2.2227940559387207,
          5.5536723136901855,
          2.364595651626587,
          10.1198091506958,
          8.224176406860352,
          3.4966049194335938,
          9.664648056030273,
          9.122706413269043,
          2.3642430305480957,
          8.410446166992188,
          7.35653829574585,
          8.729475975036621,
          8.628227233886719,
          2.5837299823760986,
          7.978785037994385,
          9.202600479125977,
          7.474340438842773,
          8.174729347229004,
          5.7030158042907715,
          10.541560173034668,
          5.808794975280762,
          7.190817832946777,
          8.318682670593262,
          10.264243125915527,
          6.854104518890381,
          10.444910049438477,
          7.919844150543213,
          7.325142860412598,
          7.5832366943359375,
          7.907029628753662,
          9.432586669921875,
          5.908323287963867,
          8.388534545898438,
          5.582651138305664,
          2.148364305496216,
          9.581510543823242,
          3.273871660232544,
          8.6041898727417,
          8.743712425231934,
          7.796855926513672,
          7.352175235748291,
          5.995659351348877,
          7.246382713317871,
          9.783563613891602,
          8.255228996276855,
          9.888076782226562,
          6.679648399353027,
          2.120879650115967,
          6.515096187591553,
          6.417061805725098,
          2.846782684326172,
          8.318765640258789,
          9.275172233581543,
          8.872856140136719,
          8.381117820739746,
          9.670655250549316,
          9.325679779052734,
          6.816060543060303,
          3.2838985919952393,
          6.378561973571777,
          3.619572877883911,
          5.468191623687744,
          8.729522705078125,
          7.8217692375183105,
          8.095216751098633,
          3.129967451095581,
          10.560736656188965,
          8.867108345031738,
          7.415334224700928,
          9.215592384338379,
          9.068180084228516,
          9.9730863571167,
          7.969090938568115,
          2.3252933025360107,
          7.447941303253174,
          9.397080421447754,
          9.957348823547363,
          10.266947746276855,
          2.9110307693481445,
          8.499747276306152,
          8.579803466796875,
          9.790776252746582,
          2.7661020755767822,
          7.263615608215332,
          7.071817398071289,
          10.113326072692871,
          8.797489166259766,
          7.1399431228637695,
          8.239778518676758,
          6.398736000061035,
          5.741830348968506,
          7.112941265106201,
          8.466072082519531,
          6.532578468322754,
          8.950221061706543,
          2.0051052570343018,
          8.733482360839844,
          10.2721586227417,
          8.084348678588867,
          8.069695472717285,
          9.85515308380127,
          7.035537242889404,
          2.9572882652282715,
          7.850021839141846,
          10.548600196838379,
          7.556248664855957,
          2.1639788150787354,
          1.9876424074172974,
          7.533353328704834,
          2.51589035987854,
          7.072388172149658,
          7.28436279296875,
          9.10283374786377,
          3.245281219482422,
          3.356978416442871,
          8.70461654663086,
          3.2553999423980713,
          6.667595386505127,
          10.098508834838867,
          2.2656123638153076,
          6.9380292892456055,
          10.219039916992188,
          9.520462036132812,
          3.3751418590545654,
          3.117391586303711,
          9.569053649902344,
          5.387656211853027,
          8.483643531799316,
          7.501411437988281,
          7.153777599334717,
          10.116926193237305,
          7.126582145690918,
          3.655785322189331,
          8.664416313171387,
          9.258401870727539,
          6.66408634185791,
          6.9168853759765625,
          8.361761093139648,
          8.041259765625,
          5.773100852966309,
          6.958470344543457,
          8.937893867492676,
          3.0621485710144043,
          2.9178664684295654,
          7.146792411804199,
          8.688899040222168,
          7.29494047164917,
          7.704809188842773,
          10.097953796386719,
          7.930614948272705,
          8.105789184570312,
          5.39517068862915,
          3.2373950481414795,
          7.891382217407227,
          7.385268211364746,
          9.076347351074219,
          8.065606117248535,
          9.30570125579834,
          8.981998443603516,
          7.220329761505127,
          7.558189868927002,
          7.512501239776611,
          6.936611652374268,
          8.338010787963867,
          10.305672645568848,
          8.995011329650879,
          2.493521213531494,
          8.352364540100098,
          7.3934807777404785,
          9.255559921264648,
          1.8827036619186401,
          6.1878132820129395,
          8.228793144226074,
          7.507331848144531,
          9.38437271118164,
          10.158919334411621,
          2.6213538646698,
          7.333920478820801,
          6.747049808502197,
          6.649311542510986,
          8.874808311462402,
          2.349600076675415,
          10.18399715423584,
          9.064050674438477,
          9.544973373413086,
          9.48876667022705,
          8.27981948852539,
          8.595671653747559,
          7.819585800170898,
          9.941520690917969,
          2.280033588409424,
          6.237133979797363,
          6.96254301071167,
          6.773645401000977,
          9.91479778289795,
          10.012746810913086,
          8.975627899169922,
          8.279109954833984,
          2.0717742443084717,
          9.687806129455566,
          7.4946980476379395,
          2.2237062454223633,
          8.460466384887695,
          7.971982479095459,
          10.374448776245117,
          8.405207633972168,
          7.5905890464782715,
          8.02254867553711,
          2.059579610824585,
          8.760990142822266,
          9.457910537719727,
          7.8713483810424805,
          8.710101127624512,
          3.5747478008270264,
          7.484621524810791,
          7.127444267272949,
          9.641606330871582,
          6.901044845581055,
          3.6900887489318848,
          8.004773139953613,
          9.990038871765137,
          6.746517658233643,
          6.568201065063477,
          9.021719932556152,
          5.443864822387695,
          3.49433970451355,
          9.209861755371094,
          9.079248428344727,
          7.518546104431152,
          6.309609413146973,
          3.058678150177002,
          2.2227590084075928,
          8.60479736328125,
          7.620392322540283,
          8.184333801269531,
          8.949907302856445,
          9.80087661743164,
          9.100920677185059,
          8.071700096130371,
          2.652292013168335,
          7.493168830871582,
          9.54993724822998,
          8.249153137207031,
          8.578471183776855,
          3.6021740436553955,
          8.04000473022461,
          8.17011833190918,
          7.019174575805664,
          5.810377597808838,
          8.208806991577148,
          1.9756048917770386,
          7.4374098777771,
          10.153401374816895,
          8.9618558883667,
          2.8988990783691406,
          8.858412742614746,
          5.384276866912842,
          8.2702054977417,
          7.150824546813965,
          9.10725212097168,
          3.120340585708618,
          10.013704299926758,
          8.702219009399414,
          9.163348197937012,
          6.129906177520752,
          3.640695810317993,
          6.662308692932129,
          6.302245140075684,
          10.586076736450195,
          7.666797161102295,
          7.262078285217285,
          2.876795768737793,
          6.150876998901367,
          7.17062520980835,
          8.59726333618164,
          8.064715385437012,
          9.1135892868042,
          3.640747308731079,
          3.5588974952697754,
          7.305971622467041,
          5.76308536529541,
          6.806652545928955,
          10.131769180297852,
          6.337571144104004,
          6.338237762451172,
          8.737417221069336,
          7.500649452209473,
          1.9370003938674927,
          2.85587739944458,
          10.05955696105957,
          8.97339153289795,
          8.730915069580078,
          6.786132335662842,
          9.733908653259277,
          8.268302917480469,
          9.020381927490234,
          9.469413757324219,
          2.2210302352905273,
          5.99660587310791,
          9.154353141784668,
          7.7543158531188965,
          8.200140953063965,
          9.473105430603027,
          9.413472175598145,
          6.532440185546875,
          10.233492851257324,
          2.9804892539978027,
          9.200241088867188,
          3.267620325088501,
          8.55627727508545,
          7.152770042419434,
          7.83266019821167,
          8.071494102478027,
          2.2333641052246094,
          7.152863025665283,
          6.2295403480529785,
          8.982392311096191,
          8.151787757873535,
          7.549206256866455,
          7.481858730316162,
          7.797036647796631,
          7.8341498374938965,
          7.871308326721191,
          9.252260208129883,
          9.24828052520752,
          8.851829528808594,
          8.75831413269043,
          5.734474182128906,
          9.030683517456055,
          7.992298126220703,
          8.975112915039062,
          8.579678535461426,
          7.437551975250244,
          8.902628898620605,
          10.010074615478516,
          7.86539363861084,
          10.416791915893555,
          7.602519512176514,
          7.610162258148193,
          7.871189594268799,
          6.146897315979004,
          2.9949264526367188,
          7.855327129364014,
          1.9906134605407715,
          7.8230977058410645,
          7.655642986297607,
          6.988687992095947,
          9.900651931762695,
          5.721951961517334,
          5.775074481964111,
          3.2526376247406006,
          7.3176093101501465,
          9.200922966003418,
          7.266692638397217,
          8.263901710510254,
          5.701663970947266,
          10.205233573913574,
          7.751280307769775,
          8.124664306640625,
          2.4063191413879395,
          8.771729469299316,
          6.745672702789307,
          2.5243306159973145,
          7.751340389251709,
          3.621598720550537,
          3.4395267963409424,
          9.4269437789917,
          10.409412384033203,
          9.67375373840332,
          3.19354248046875,
          8.280477523803711,
          2.267300605773926,
          6.885772705078125,
          8.518494606018066,
          10.501167297363281,
          7.948301315307617,
          7.954394340515137,
          8.325374603271484,
          3.8969662189483643,
          8.419384002685547,
          9.746539115905762,
          7.51925802230835,
          3.357569456100464,
          9.089445114135742,
          8.490514755249023,
          6.02396297454834,
          8.751937866210938,
          5.638237953186035,
          6.250078201293945,
          8.419599533081055,
          8.500848770141602,
          5.8406662940979,
          8.396232604980469,
          6.063558578491211,
          9.160514831542969,
          8.492815971374512,
          3.160029888153076,
          8.708047866821289,
          2.247497081756592,
          9.297128677368164,
          8.094206809997559,
          8.477754592895508,
          9.557528495788574,
          6.565010070800781,
          6.59721565246582,
          9.536384582519531,
          7.991386413574219,
          8.16594409942627,
          2.2369000911712646,
          9.10557746887207,
          5.3421430587768555,
          2.7218031883239746,
          9.20798397064209,
          9.220925331115723,
          7.881351947784424,
          3.2201850414276123,
          7.62637186050415,
          5.213404178619385,
          8.668081283569336,
          8.324960708618164,
          8.299799919128418,
          8.72035026550293,
          1.945265531539917,
          2.7651963233947754,
          7.863545894622803,
          8.08399772644043,
          6.811140537261963,
          8.611031532287598,
          9.170896530151367,
          6.964404582977295,
          7.960987091064453,
          5.779623031616211,
          10.356751441955566,
          5.88489294052124,
          6.256629467010498,
          8.365669250488281,
          2.4517695903778076,
          9.667325019836426,
          7.661271572113037,
          8.740400314331055,
          8.200511932373047,
          7.091362476348877,
          1.9780391454696655,
          10.502889633178711,
          7.017616271972656,
          6.3077239990234375,
          2.206212282180786,
          6.914100170135498,
          5.995860576629639,
          7.956664562225342,
          8.334362983703613,
          2.1241817474365234,
          1.9397377967834473,
          9.749410629272461,
          7.313650131225586,
          7.223222732543945,
          7.532710075378418,
          8.997880935668945,
          9.693185806274414,
          7.430869102478027,
          8.47359561920166,
          8.583921432495117,
          7.181367874145508,
          6.6791582107543945,
          7.019160270690918,
          8.230976104736328,
          8.744359970092773,
          8.195633888244629,
          10.656158447265625,
          8.180479049682617,
          8.682920455932617,
          6.156086444854736,
          8.734349250793457,
          8.6810941696167,
          9.09660816192627,
          7.263980865478516,
          5.875820159912109,
          8.309640884399414,
          7.977035999298096,
          9.011606216430664,
          10.134529113769531,
          3.514880895614624,
          8.026615142822266,
          8.642706871032715,
          6.389938831329346,
          8.8124418258667,
          7.561636447906494,
          2.2845778465270996,
          2.341273307800293,
          9.161885261535645,
          7.612541198730469,
          9.426743507385254,
          8.386276245117188,
          7.850377082824707,
          7.492406368255615,
          7.990891933441162,
          5.815098762512207,
          6.797884464263916,
          8.124829292297363,
          8.189129829406738,
          8.272480964660645,
          10.530485153198242,
          7.539190769195557,
          2.909977912902832,
          9.433563232421875,
          7.100759029388428,
          8.298044204711914,
          3.336104154586792,
          8.92785930633545,
          5.845583915710449,
          9.093914031982422,
          7.674812316894531,
          9.128746032714844,
          2.378291368484497,
          2.5562667846679688,
          7.237174034118652,
          8.16407585144043,
          9.216636657714844,
          10.405749320983887,
          2.5153093338012695,
          6.474210739135742,
          5.7281036376953125,
          7.871313095092773,
          7.643115043640137,
          9.576767921447754,
          10.500317573547363,
          6.483915328979492,
          2.550205707550049,
          3.5401713848114014,
          9.161504745483398,
          10.506430625915527,
          8.448671340942383,
          10.21390438079834,
          8.767133712768555,
          5.876699924468994,
          6.899765491485596,
          6.740695953369141,
          6.367520332336426,
          7.757829666137695,
          7.822033405303955,
          2.245473861694336,
          8.315561294555664,
          6.783290386199951,
          8.588566780090332,
          6.640314102172852,
          6.595583438873291,
          8.63825798034668,
          8.702659606933594,
          5.321316242218018,
          5.657486438751221,
          8.038275718688965,
          2.051544189453125,
          7.909512042999268,
          2.543884038925171,
          8.986604690551758,
          5.687734127044678,
          5.404620170593262,
          5.9467878341674805,
          9.548460960388184,
          8.295348167419434,
          7.705761909484863,
          6.900396823883057,
          5.726123332977295,
          8.168502807617188,
          9.71633529663086,
          6.418172836303711,
          8.865479469299316,
          5.51607084274292,
          8.939823150634766,
          3.253974437713623,
          7.154738426208496,
          8.167692184448242,
          3.419213056564331,
          9.345648765563965,
          8.766241073608398,
          6.581824779510498,
          3.196038246154785,
          8.96668815612793,
          9.028541564941406,
          3.1997339725494385,
          10.489958763122559,
          5.882066249847412,
          7.351945400238037,
          7.323971748352051,
          8.831774711608887,
          7.104193210601807,
          9.401837348937988,
          5.733374118804932,
          8.880313873291016,
          9.542960166931152,
          8.762207984924316,
          2.363929271697998,
          6.786159515380859,
          3.214670419692993,
          7.836596965789795,
          6.932525634765625,
          7.360961437225342,
          8.694096565246582,
          7.080467224121094,
          9.365306854248047,
          9.184974670410156,
          10.035223007202148,
          6.05222749710083,
          6.018527507781982,
          5.440086364746094,
          9.024672508239746,
          8.348984718322754,
          2.1492395401000977,
          3.3013250827789307,
          7.568810939788818,
          9.358793258666992,
          8.615017890930176,
          1.8487985134124756,
          9.172577857971191,
          8.774456024169922,
          6.779887676239014,
          3.2263846397399902,
          7.924808979034424,
          8.416259765625,
          9.918844223022461,
          6.492461681365967,
          5.885934829711914,
          7.2066144943237305,
          7.917952060699463,
          2.6834237575531006,
          10.497100830078125,
          7.906885623931885,
          7.87264347076416,
          6.2467498779296875,
          8.263545989990234,
          7.936335563659668,
          6.740016460418701,
          3.4914042949676514,
          7.858479976654053,
          7.628537654876709,
          9.283269882202148,
          10.38481330871582,
          9.885091781616211,
          5.738370418548584,
          5.886407375335693,
          10.472733497619629,
          6.947879314422607,
          8.36642837524414,
          8.114925384521484,
          10.506526947021484,
          9.47431468963623,
          6.37544059753418,
          7.7296061515808105,
          3.173457622528076,
          3.097259283065796,
          9.179913520812988,
          2.4735617637634277,
          9.650157928466797,
          7.249978542327881,
          9.7960844039917,
          8.20754337310791,
          6.650913238525391,
          6.444148540496826,
          8.888651847839355,
          6.145474910736084,
          3.083653211593628,
          2.6839640140533447,
          6.806654453277588,
          8.26573657989502,
          7.878677845001221,
          5.930080890655518,
          7.604784965515137,
          8.367108345031738,
          5.526648044586182,
          6.409567832946777,
          6.226604461669922,
          6.581412315368652,
          7.874380111694336,
          6.522146224975586,
          5.590815544128418,
          7.766282558441162,
          7.736164569854736,
          5.544431686401367,
          6.224581718444824,
          5.434607982635498,
          8.082213401794434,
          7.97594690322876,
          9.097785949707031,
          6.719143867492676,
          8.419416427612305,
          8.078240394592285,
          3.6799614429473877,
          7.439878940582275,
          8.19560718536377,
          2.5725865364074707,
          8.15622329711914,
          3.5650627613067627,
          6.9131927490234375,
          7.390843868255615,
          5.82373571395874,
          6.684322357177734,
          9.463876724243164,
          6.8921332359313965,
          7.277263164520264,
          7.1995930671691895,
          6.354544639587402,
          7.560441493988037,
          9.306975364685059,
          6.8964128494262695,
          8.819786071777344,
          7.646520137786865,
          9.162721633911133,
          3.675046920776367,
          9.721800804138184
         ],
         "xaxis": "x",
         "y": [
          13.79100227355957,
          7.961952209472656,
          13.290121078491211,
          12.62924575805664,
          9.570871353149414,
          12.840153694152832,
          13.883779525756836,
          14.104036331176758,
          11.939162254333496,
          11.316977500915527,
          9.628059387207031,
          12.173165321350098,
          11.86500358581543,
          13.15849781036377,
          15.23577880859375,
          13.131169319152832,
          12.208758354187012,
          12.219619750976562,
          15.047148704528809,
          8.922250747680664,
          11.336028099060059,
          13.37221908569336,
          14.78489875793457,
          14.838899612426758,
          13.19145679473877,
          8.630329132080078,
          14.510541915893555,
          7.3321003913879395,
          12.317058563232422,
          15.42081069946289,
          14.382225036621094,
          11.225334167480469,
          15.2929105758667,
          13.396331787109375,
          12.062078475952148,
          8.087713241577148,
          15.108501434326172,
          11.522762298583984,
          15.617842674255371,
          13.978703498840332,
          13.595247268676758,
          13.186554908752441,
          14.978203773498535,
          13.329876899719238,
          13.900355339050293,
          12.061059951782227,
          8.312582969665527,
          12.067327499389648,
          14.032978057861328,
          8.808039665222168,
          14.109768867492676,
          14.775062561035156,
          15.091439247131348,
          12.645750045776367,
          12.049957275390625,
          11.53709602355957,
          13.146300315856934,
          9.181435585021973,
          12.766757011413574,
          8.221529006958008,
          9.885725021362305,
          13.93720817565918,
          8.657404899597168,
          13.232608795166016,
          14.384973526000977,
          13.484406471252441,
          12.935504913330078,
          11.821270942687988,
          9.137552261352539,
          13.744062423706055,
          14.604374885559082,
          11.39214038848877,
          13.789779663085938,
          14.369539260864258,
          14.551790237426758,
          11.603660583496094,
          12.98256778717041,
          14.121870040893555,
          13.486774444580078,
          13.580954551696777,
          13.67665958404541,
          12.732900619506836,
          15.30463981628418,
          14.698829650878906,
          13.549901008605957,
          14.329736709594727,
          12.31301212310791,
          9.416292190551758,
          8.142783164978027,
          13.81944751739502,
          11.932618141174316,
          13.59367561340332,
          14.551867485046387,
          13.949130058288574,
          12.445213317871094,
          15.2785005569458,
          13.988641738891602,
          14.27321720123291,
          8.671117782592773,
          8.891035079956055,
          12.689278602600098,
          12.15236759185791,
          12.632063865661621,
          14.389678001403809,
          13.20369815826416,
          15.538392066955566,
          15.181655883789062,
          15.349419593811035,
          11.922722816467285,
          9.57197380065918,
          7.449225425720215,
          13.950762748718262,
          14.76543140411377,
          11.504402160644531,
          15.349559783935547,
          12.044979095458984,
          14.79108715057373,
          8.789546012878418,
          13.023674964904785,
          13.547334671020508,
          11.945759773254395,
          14.743912696838379,
          13.911742210388184,
          12.258689880371094,
          13.302213668823242,
          14.82453441619873,
          14.858358383178711,
          13.431737899780273,
          13.51854133605957,
          15.779118537902832,
          11.324551582336426,
          13.163290977478027,
          12.984768867492676,
          14.067368507385254,
          13.441789627075195,
          14.93608570098877,
          13.679688453674316,
          15.870984077453613,
          8.972490310668945,
          8.398154258728027,
          13.440829277038574,
          14.538041114807129,
          12.204400062561035,
          8.333873748779297,
          15.106108665466309,
          14.421088218688965,
          13.340725898742676,
          11.417773246765137,
          13.751585006713867,
          13.158398628234863,
          12.69166374206543,
          14.479002952575684,
          11.808996200561523,
          13.390811920166016,
          9.228215217590332,
          7.345108985900879,
          15.31435489654541,
          14.693163871765137,
          13.964674949645996,
          11.861008644104004,
          12.566591262817383,
          11.844916343688965,
          14.322918891906738,
          11.452896118164062,
          8.843835830688477,
          14.927433013916016,
          13.529577255249023,
          12.266058921813965,
          13.344294548034668,
          14.99013614654541,
          8.311467170715332,
          13.008136749267578,
          13.35672378540039,
          12.9417142868042,
          11.77849006652832,
          13.520147323608398,
          11.309521675109863,
          12.337018966674805,
          12.795040130615234,
          14.174161911010742,
          14.023391723632812,
          13.755867004394531,
          12.305586814880371,
          12.480955123901367,
          13.453624725341797,
          13.384528160095215,
          12.447996139526367,
          14.101265907287598,
          8.449670791625977,
          9.233059883117676,
          13.581177711486816,
          15.13244342803955,
          13.642136573791504,
          7.388271808624268,
          13.790680885314941,
          14.468806266784668,
          12.410195350646973,
          13.991560935974121,
          14.269908905029297,
          13.37576675415039,
          13.014580726623535,
          14.714454650878906,
          13.790711402893066,
          13.152643203735352,
          11.509624481201172,
          15.711670875549316,
          8.56911849975586,
          13.208589553833008,
          15.471993446350098,
          13.844786643981934,
          9.190733909606934,
          14.368985176086426,
          9.357675552368164,
          15.466957092285156,
          11.608445167541504,
          13.746648788452148,
          13.92655086517334,
          13.912511825561523,
          12.876761436462402,
          13.424056053161621,
          15.236861228942871,
          11.778132438659668,
          12.29893970489502,
          12.781597137451172,
          12.22008991241455,
          12.444887161254883,
          13.008994102478027,
          14.710702896118164,
          13.017669677734375,
          12.37263298034668,
          14.788924217224121,
          12.859596252441406,
          13.514577865600586,
          8.12393569946289,
          14.916332244873047,
          8.728947639465332,
          15.454024314880371,
          13.26534652709961,
          13.563984870910645,
          7.312466144561768,
          11.97146224975586,
          13.951807022094727,
          11.37137508392334,
          11.846698760986328,
          9.249443054199219,
          8.911016464233398,
          12.680028915405273,
          12.911467552185059,
          12.640685081481934,
          8.69076919555664,
          8.858004570007324,
          9.20230770111084,
          13.367324829101562,
          8.973188400268555,
          15.065953254699707,
          8.614364624023438,
          12.071722984313965,
          14.413968086242676,
          13.247734069824219,
          15.288002014160156,
          12.311785697937012,
          9.508458137512207,
          13.76578140258789,
          13.132331848144531,
          15.687554359436035,
          8.611898422241211,
          8.263566970825195,
          14.190616607666016,
          12.083740234375,
          11.51833438873291,
          14.230690002441406,
          12.643887519836426,
          14.699283599853516,
          13.037263870239258,
          7.360337734222412,
          13.636334419250488,
          11.263111114501953,
          13.310161590576172,
          12.579769134521484,
          12.589224815368652,
          13.900311470031738,
          12.345848083496094,
          14.751106262207031,
          12.180079460144043,
          14.094695091247559,
          12.887526512145996,
          13.798234939575195,
          12.108092308044434,
          12.648561477661133,
          14.851337432861328,
          13.982027053833008,
          8.471964836120605,
          13.15158462524414,
          8.75678539276123,
          13.63535213470459,
          13.921314239501953,
          9.34814739227295,
          13.561934471130371,
          11.405412673950195,
          9.204323768615723,
          11.905162811279297,
          12.487689018249512,
          13.053430557250977,
          12.013781547546387,
          8.145472526550293,
          14.30401611328125,
          13.78069019317627,
          15.589885711669922,
          13.209753036499023,
          12.94150447845459,
          14.024166107177734,
          14.270255088806152,
          13.114068031311035,
          13.836606979370117,
          14.32210922241211,
          12.923614501953125,
          13.058273315429688,
          12.614234924316406,
          12.716585159301758,
          11.47507095336914,
          15.718981742858887,
          13.564580917358398,
          13.6347074508667,
          14.327728271484375,
          13.264871597290039,
          9.129798889160156,
          13.586445808410645,
          8.553327560424805,
          13.62914752960205,
          12.219243049621582,
          14.199177742004395,
          12.117884635925293,
          13.626530647277832,
          13.906327247619629,
          14.139660835266113,
          14.809924125671387,
          12.536005973815918,
          12.913627624511719,
          8.67334270477295,
          14.728509902954102,
          15.31886100769043,
          9.278300285339355,
          11.303436279296875,
          12.05191707611084,
          14.233662605285645,
          13.295304298400879,
          12.844355583190918,
          11.599392890930176,
          15.360886573791504,
          8.459610939025879,
          14.328296661376953,
          9.554071426391602,
          12.972432136535645,
          12.581710815429688,
          11.424297332763672,
          12.699601173400879,
          9.152600288391113,
          13.939589500427246,
          14.27836799621582,
          13.102753639221191,
          11.502439498901367,
          12.325667381286621,
          13.91671085357666,
          15.0581636428833,
          9.133829116821289,
          12.50229549407959,
          11.744616508483887,
          14.09012222290039,
          13.341748237609863,
          8.023225784301758,
          11.798091888427734,
          13.96688175201416,
          14.628347396850586,
          8.511078834533691,
          13.059507369995117,
          13.642021179199219,
          14.264413833618164,
          12.367313385009766,
          14.093754768371582,
          15.146047592163086,
          14.578601837158203,
          12.71509075164795,
          12.804463386535645,
          12.64100170135498,
          15.221936225891113,
          11.355938911437988,
          8.816134452819824,
          13.683173179626465,
          13.92936897277832,
          13.314349174499512,
          14.425554275512695,
          12.595765113830566,
          13.092214584350586,
          8.152846336364746,
          14.233475685119629,
          14.026957511901855,
          12.189335823059082,
          8.396907806396484,
          8.784625053405762,
          12.542481422424316,
          8.488993644714355,
          13.674738883972168,
          13.63763427734375,
          13.806334495544434,
          8.160293579101562,
          9.406866073608398,
          12.04421329498291,
          8.54185962677002,
          14.661598205566406,
          13.056316375732422,
          9.239274978637695,
          12.714521408081055,
          13.318337440490723,
          12.232980728149414,
          8.598971366882324,
          8.203234672546387,
          13.593279838562012,
          13.060453414916992,
          13.6383056640625,
          14.261205673217773,
          15.507564544677734,
          12.396967887878418,
          11.627742767333984,
          9.276164054870605,
          13.814936637878418,
          12.881665229797363,
          15.423416137695312,
          12.934539794921875,
          13.060027122497559,
          15.067075729370117,
          12.753713607788086,
          13.032776832580566,
          14.058300018310547,
          9.30849838256836,
          8.35705280303955,
          11.578242301940918,
          13.051121711730957,
          13.962300300598145,
          14.279717445373535,
          12.345819473266602,
          14.609971046447754,
          11.870227813720703,
          13.02389907836914,
          8.611387252807617,
          13.270453453063965,
          12.838028907775879,
          14.677727699279785,
          15.3341646194458,
          14.730591773986816,
          13.661069869995117,
          15.047479629516602,
          11.217940330505371,
          14.491059303283691,
          11.873311042785645,
          13.86416244506836,
          14.307745933532715,
          14.649784088134766,
          9.37630558013916,
          14.72758960723877,
          13.658865928649902,
          13.89814567565918,
          8.91653823852539,
          12.388731002807617,
          12.589106559753418,
          13.737617492675781,
          13.802767753601074,
          13.281576156616211,
          9.267992973327637,
          15.190223693847656,
          13.026416778564453,
          12.286437034606934,
          12.710158348083496,
          9.162603378295898,
          12.496479988098145,
          11.32189655303955,
          13.024309158325195,
          13.36254596710205,
          11.637259483337402,
          14.300677299499512,
          11.236970901489258,
          11.920924186706543,
          8.672492980957031,
          12.398707389831543,
          13.60471248626709,
          12.32459831237793,
          14.409419059753418,
          13.473236083984375,
          13.160149574279785,
          11.517727851867676,
          8.834702491760254,
          13.474631309509277,
          11.844426155090332,
          8.545212745666504,
          15.666691780090332,
          13.142096519470215,
          13.389299392700195,
          14.315596580505371,
          13.001103401184082,
          12.58357048034668,
          9.039708137512207,
          11.917981147766113,
          14.086767196655273,
          11.35755729675293,
          11.422998428344727,
          9.625688552856445,
          13.043621063232422,
          14.42986011505127,
          12.090221405029297,
          14.279677391052246,
          9.628090858459473,
          14.578993797302246,
          12.911705017089844,
          15.17479419708252,
          15.372245788574219,
          14.84524917602539,
          12.23831558227539,
          9.03907585144043,
          14.887410163879395,
          12.010041236877441,
          14.294279098510742,
          14.135688781738281,
          8.623600006103516,
          8.541210174560547,
          13.46015739440918,
          11.76052474975586,
          11.6093168258667,
          13.00272274017334,
          13.404458999633789,
          14.809115409851074,
          15.196208953857422,
          7.330275535583496,
          12.198736190795898,
          12.500251770019531,
          11.22854232788086,
          12.49852180480957,
          9.555109977722168,
          14.932343482971191,
          13.813037872314453,
          14.920422554016113,
          12.552302360534668,
          12.413447380065918,
          8.92952823638916,
          13.487349510192871,
          14.045974731445312,
          15.26156997680664,
          8.086913108825684,
          11.873055458068848,
          13.213833808898926,
          15.677740097045898,
          14.40407657623291,
          12.097061157226562,
          8.265496253967285,
          13.572221755981445,
          13.714554786682129,
          13.310676574707031,
          13.176153182983398,
          9.06299114227295,
          13.407768249511719,
          14.20830249786377,
          13.221148490905762,
          15.38253116607666,
          11.862852096557617,
          7.969926357269287,
          12.524796485900879,
          12.621994018554688,
          13.634312629699707,
          11.224050521850586,
          12.017003059387207,
          9.423135757446289,
          9.507648468017578,
          13.964493751525879,
          12.534741401672363,
          14.629446983337402,
          14.126383781433105,
          15.177092552185059,
          13.389422416687012,
          13.979377746582031,
          15.37122631072998,
          8.843727111816406,
          8.167201042175293,
          13.433277130126953,
          14.490476608276367,
          13.305410385131836,
          13.215991973876953,
          12.920585632324219,
          13.10119342803955,
          11.251934051513672,
          12.408684730529785,
          8.766733169555664,
          14.58055591583252,
          11.369650840759277,
          13.2011137008667,
          15.255955696105957,
          11.767556190490723,
          12.211670875549316,
          14.585068702697754,
          12.490076065063477,
          8.868337631225586,
          11.96291732788086,
          8.413788795471191,
          12.44566822052002,
          15.047959327697754,
          12.556227684020996,
          11.831544876098633,
          8.833478927612305,
          12.727459907531738,
          14.296942710876465,
          13.66710090637207,
          11.887063026428223,
          12.02508544921875,
          15.541159629821777,
          11.404141426086426,
          14.77539348602295,
          13.88748836517334,
          13.081709861755371,
          11.342541694641113,
          13.960521697998047,
          12.758091926574707,
          13.465167045593262,
          11.769652366638184,
          14.328330039978027,
          13.272068977355957,
          13.206043243408203,
          11.039044380187988,
          13.093527793884277,
          13.099019050598145,
          14.67129135131836,
          12.64412784576416,
          14.253080368041992,
          12.558650970458984,
          15.692582130432129,
          14.211896896362305,
          8.188516616821289,
          12.254141807556152,
          8.469216346740723,
          12.794668197631836,
          13.834122657775879,
          14.400642395019531,
          13.832498550415039,
          12.808357238769531,
          13.490312576293945,
          8.305327415466309,
          14.80608081817627,
          13.520511627197266,
          15.15345287322998,
          11.945441246032715,
          13.320414543151855,
          12.865723609924316,
          11.668350219726562,
          14.320454597473145,
          8.476236343383789,
          14.72925853729248,
          12.966874122619629,
          8.954115867614746,
          11.434017181396484,
          9.486885070800781,
          8.735787391662598,
          14.592852592468262,
          13.431852340698242,
          14.608746528625488,
          8.415276527404785,
          11.94518756866455,
          8.720919609069824,
          12.551857948303223,
          15.55810546875,
          13.824658393859863,
          11.399264335632324,
          14.463292121887207,
          13.802743911743164,
          10.085896492004395,
          12.261368751525879,
          11.785178184509277,
          15.661933898925781,
          9.34800910949707,
          14.536189079284668,
          11.277304649353027,
          13.700939178466797,
          11.272598266601562,
          13.471028327941895,
          13.210070610046387,
          15.051634788513184,
          12.42056941986084,
          12.874695777893066,
          11.604290008544922,
          13.379181861877441,
          14.858012199401855,
          13.078644752502441,
          9.275633811950684,
          13.66457748413086,
          9.141609191894531,
          12.695136070251465,
          12.826148986816406,
          14.967358589172363,
          13.446425437927246,
          12.229432106018066,
          13.054078102111816,
          11.86710262298584,
          12.180877685546875,
          12.398673057556152,
          8.586729049682617,
          11.332612037658691,
          13.182442665100098,
          9.526450157165527,
          13.317222595214844,
          13.29196548461914,
          15.742380142211914,
          8.958415031433105,
          13.192258834838867,
          12.876961708068848,
          14.2141695022583,
          15.391016006469727,
          13.80732250213623,
          14.071495056152344,
          8.603065490722656,
          8.457198143005371,
          13.208394050598145,
          15.835589408874512,
          14.25632381439209,
          12.305344581604004,
          12.497373580932617,
          15.502551078796387,
          15.197489738464355,
          11.896871566772461,
          13.69765567779541,
          14.25649642944336,
          15.151725769042969,
          14.494345664978027,
          9.245548248291016,
          13.305193901062012,
          12.205192565917969,
          12.652783393859863,
          14.223010063171387,
          14.605299949645996,
          8.526569366455078,
          12.949716567993164,
          13.766792297363281,
          13.047922134399414,
          9.205864906311035,
          14.249267578125,
          14.775437355041504,
          11.829275131225586,
          12.924670219421387,
          8.376829147338867,
          8.810256004333496,
          14.047225952148438,
          11.66355037689209,
          14.244927406311035,
          15.599037170410156,
          11.547094345092773,
          12.537698745727539,
          12.649493217468262,
          14.830060958862305,
          12.814373016357422,
          11.952600479125977,
          13.776398658752441,
          12.423946380615234,
          12.720550537109375,
          14.787861824035645,
          12.460623741149902,
          13.47181510925293,
          13.837557792663574,
          11.869048118591309,
          13.930766105651855,
          11.406325340270996,
          11.65995979309082,
          11.968513488769531,
          13.568469047546387,
          13.342384338378906,
          12.884940147399902,
          13.738048553466797,
          15.250289916992188,
          13.977936744689941,
          9.321314811706543,
          14.165998458862305,
          11.32950496673584,
          14.705732345581055,
          12.634366035461426,
          12.716673851013184,
          8.782583236694336,
          8.861568450927734,
          12.012151718139648,
          12.49499225616455,
          14.692191123962402,
          15.0332612991333,
          11.30439567565918,
          11.099102020263672,
          13.6032133102417,
          12.793925285339355,
          15.581953048706055,
          13.671018600463867,
          14.349031448364258,
          15.749688148498535,
          13.063796043395996,
          14.423966407775879,
          8.785447120666504,
          12.22268009185791,
          12.42080020904541,
          12.850494384765625,
          8.839409828186035,
          11.532337188720703,
          12.741360664367676,
          13.248590469360352,
          14.194358825683594,
          14.342256546020508,
          8.357109069824219,
          9.475386619567871,
          13.171299934387207,
          13.478890419006348,
          12.501422882080078,
          12.990907669067383,
          8.750079154968262,
          15.049590110778809,
          13.137730598449707,
          15.45080852508545,
          15.289552688598633,
          14.335448265075684,
          13.027713775634766,
          14.50743579864502,
          8.07370376586914,
          8.773393630981445,
          13.412949562072754,
          14.06321907043457,
          14.35539722442627,
          13.08952522277832,
          14.841859817504883,
          13.77578067779541,
          15.49569034576416,
          12.817146301269531,
          14.539422988891602,
          15.747559547424316,
          15.031729698181152,
          9.274901390075684,
          15.292618751525879,
          14.194841384887695,
          14.987902641296387,
          14.27401065826416,
          12.322225570678711,
          12.83216381072998,
          12.412945747375488,
          13.492938041687012,
          12.312033653259277,
          12.128865242004395,
          8.999929428100586,
          11.674520492553711,
          8.387483596801758,
          12.931650161743164,
          13.35575008392334,
          13.034072875976562,
          12.959454536437988,
          12.644121170043945,
          11.659391403198242,
          12.847766876220703,
          15.217248916625977,
          12.34579086303711,
          13.02304458618164,
          11.702054977416992,
          14.165567398071289,
          15.115069389343262,
          12.833073616027832,
          13.139432907104492,
          8.432148933410645,
          14.218056678771973,
          12.003252983093262,
          8.850237846374512,
          11.829082489013672,
          12.342046737670898,
          13.1288480758667,
          9.220996856689453,
          15.188918113708496,
          15.182260513305664,
          9.224885940551758,
          13.519588470458984,
          11.850071907043457,
          15.368046760559082,
          11.556964874267578,
          13.34244155883789,
          14.5255708694458,
          12.895380973815918,
          13.865792274475098,
          14.382075309753418,
          13.18374252319336,
          13.721268653869629,
          9.304123878479004,
          15.452059745788574,
          8.323928833007812,
          13.642313003540039,
          14.34869384765625,
          11.111223220825195,
          14.314606666564941,
          12.608159065246582,
          13.951579093933105,
          14.436079025268555,
          13.92870807647705,
          13.555806159973145,
          14.286751747131348,
          13.090691566467285,
          12.828499794006348,
          13.532294273376465,
          8.686405181884766,
          8.340036392211914,
          11.308497428894043,
          13.235610008239746,
          13.242867469787598,
          8.840453147888184,
          12.757118225097656,
          11.686196327209473,
          12.413148880004883,
          8.461402893066406,
          12.892696380615234,
          13.986658096313477,
          12.053791999816895,
          13.092793464660645,
          12.838460922241211,
          14.003287315368652,
          12.202245712280273,
          8.01644229888916,
          13.191014289855957,
          13.938095092773438,
          14.579646110534668,
          14.82154369354248,
          12.714651107788086,
          13.845508575439453,
          13.74161434173584,
          9.77698802947998,
          13.977964401245117,
          14.413095474243164,
          13.166674613952637,
          12.899832725524902,
          14.47428035736084,
          13.290188789367676,
          12.19698715209961,
          13.551513671875,
          12.391449928283691,
          12.758687019348145,
          13.557421684265137,
          12.865341186523438,
          14.3270263671875,
          13.803760528564453,
          11.618075370788574,
          9.418913841247559,
          8.525167465209961,
          14.56188678741455,
          8.458730697631836,
          11.608019828796387,
          14.143665313720703,
          14.451786994934082,
          14.478093147277832,
          15.271936416625977,
          14.429338455200195,
          11.23699951171875,
          12.58648681640625,
          7.996753215789795,
          7.362821578979492,
          13.757745742797852,
          11.186125755310059,
          14.640438079833984,
          13.641692161560059,
          14.174250602722168,
          12.062535285949707,
          12.878103256225586,
          13.938249588012695,
          13.910653114318848,
          13.86927604675293,
          13.970752716064453,
          14.664844512939453,
          13.555434226989746,
          12.598705291748047,
          13.676844596862793,
          13.285700798034668,
          14.624070167541504,
          13.293255805969238,
          15.057876586914062,
          12.239770889282227,
          13.491246223449707,
          13.966573715209961,
          11.201875686645508,
          15.349626541137695,
          9.693440437316895,
          14.37094783782959,
          13.471878051757812,
          9.433598518371582,
          15.060494422912598,
          9.463807106018066,
          14.753775596618652,
          11.643051147460938,
          13.640493392944336,
          14.167153358459473,
          14.66372013092041,
          13.85217571258545,
          13.040783882141113,
          12.424813270568848,
          15.090494155883789,
          13.153809547424316,
          14.365371704101562,
          15.126538276672363,
          12.5237455368042,
          12.95627212524414,
          11.631922721862793,
          9.24368953704834,
          14.231943130493164
         ],
         "yaxis": "y"
        }
       ],
       "layout": {
        "coloraxis": {
         "colorbar": {
          "title": {
           "text": "umap_cluster"
          }
         },
         "colorscale": [
          [
           0,
           "#440154"
          ],
          [
           0.1111111111111111,
           "#482878"
          ],
          [
           0.2222222222222222,
           "#3e4989"
          ],
          [
           0.3333333333333333,
           "#31688e"
          ],
          [
           0.4444444444444444,
           "#26828e"
          ],
          [
           0.5555555555555556,
           "#1f9e89"
          ],
          [
           0.6666666666666666,
           "#35b779"
          ],
          [
           0.7777777777777778,
           "#6ece58"
          ],
          [
           0.8888888888888888,
           "#b5de2b"
          ],
          [
           1,
           "#fde725"
          ]
         ]
        },
        "legend": {
         "title": {
          "text": "umap_cluster"
         },
         "tracegroupgap": 0
        },
        "margin": {
         "b": 10,
         "l": 10,
         "r": 10,
         "t": 40
        },
        "showlegend": true,
        "template": {
         "data": {
          "bar": [
           {
            "error_x": {
             "color": "#2a3f5f"
            },
            "error_y": {
             "color": "#2a3f5f"
            },
            "marker": {
             "line": {
              "color": "#E5ECF6",
              "width": 0.5
             },
             "pattern": {
              "fillmode": "overlay",
              "size": 10,
              "solidity": 0.2
             }
            },
            "type": "bar"
           }
          ],
          "barpolar": [
           {
            "marker": {
             "line": {
              "color": "#E5ECF6",
              "width": 0.5
             },
             "pattern": {
              "fillmode": "overlay",
              "size": 10,
              "solidity": 0.2
             }
            },
            "type": "barpolar"
           }
          ],
          "carpet": [
           {
            "aaxis": {
             "endlinecolor": "#2a3f5f",
             "gridcolor": "white",
             "linecolor": "white",
             "minorgridcolor": "white",
             "startlinecolor": "#2a3f5f"
            },
            "baxis": {
             "endlinecolor": "#2a3f5f",
             "gridcolor": "white",
             "linecolor": "white",
             "minorgridcolor": "white",
             "startlinecolor": "#2a3f5f"
            },
            "type": "carpet"
           }
          ],
          "choropleth": [
           {
            "colorbar": {
             "outlinewidth": 0,
             "ticks": ""
            },
            "type": "choropleth"
           }
          ],
          "contour": [
           {
            "colorbar": {
             "outlinewidth": 0,
             "ticks": ""
            },
            "colorscale": [
             [
              0,
              "#0d0887"
             ],
             [
              0.1111111111111111,
              "#46039f"
             ],
             [
              0.2222222222222222,
              "#7201a8"
             ],
             [
              0.3333333333333333,
              "#9c179e"
             ],
             [
              0.4444444444444444,
              "#bd3786"
             ],
             [
              0.5555555555555556,
              "#d8576b"
             ],
             [
              0.6666666666666666,
              "#ed7953"
             ],
             [
              0.7777777777777778,
              "#fb9f3a"
             ],
             [
              0.8888888888888888,
              "#fdca26"
             ],
             [
              1,
              "#f0f921"
             ]
            ],
            "type": "contour"
           }
          ],
          "contourcarpet": [
           {
            "colorbar": {
             "outlinewidth": 0,
             "ticks": ""
            },
            "type": "contourcarpet"
           }
          ],
          "heatmap": [
           {
            "colorbar": {
             "outlinewidth": 0,
             "ticks": ""
            },
            "colorscale": [
             [
              0,
              "#0d0887"
             ],
             [
              0.1111111111111111,
              "#46039f"
             ],
             [
              0.2222222222222222,
              "#7201a8"
             ],
             [
              0.3333333333333333,
              "#9c179e"
             ],
             [
              0.4444444444444444,
              "#bd3786"
             ],
             [
              0.5555555555555556,
              "#d8576b"
             ],
             [
              0.6666666666666666,
              "#ed7953"
             ],
             [
              0.7777777777777778,
              "#fb9f3a"
             ],
             [
              0.8888888888888888,
              "#fdca26"
             ],
             [
              1,
              "#f0f921"
             ]
            ],
            "type": "heatmap"
           }
          ],
          "heatmapgl": [
           {
            "colorbar": {
             "outlinewidth": 0,
             "ticks": ""
            },
            "colorscale": [
             [
              0,
              "#0d0887"
             ],
             [
              0.1111111111111111,
              "#46039f"
             ],
             [
              0.2222222222222222,
              "#7201a8"
             ],
             [
              0.3333333333333333,
              "#9c179e"
             ],
             [
              0.4444444444444444,
              "#bd3786"
             ],
             [
              0.5555555555555556,
              "#d8576b"
             ],
             [
              0.6666666666666666,
              "#ed7953"
             ],
             [
              0.7777777777777778,
              "#fb9f3a"
             ],
             [
              0.8888888888888888,
              "#fdca26"
             ],
             [
              1,
              "#f0f921"
             ]
            ],
            "type": "heatmapgl"
           }
          ],
          "histogram": [
           {
            "marker": {
             "pattern": {
              "fillmode": "overlay",
              "size": 10,
              "solidity": 0.2
             }
            },
            "type": "histogram"
           }
          ],
          "histogram2d": [
           {
            "colorbar": {
             "outlinewidth": 0,
             "ticks": ""
            },
            "colorscale": [
             [
              0,
              "#0d0887"
             ],
             [
              0.1111111111111111,
              "#46039f"
             ],
             [
              0.2222222222222222,
              "#7201a8"
             ],
             [
              0.3333333333333333,
              "#9c179e"
             ],
             [
              0.4444444444444444,
              "#bd3786"
             ],
             [
              0.5555555555555556,
              "#d8576b"
             ],
             [
              0.6666666666666666,
              "#ed7953"
             ],
             [
              0.7777777777777778,
              "#fb9f3a"
             ],
             [
              0.8888888888888888,
              "#fdca26"
             ],
             [
              1,
              "#f0f921"
             ]
            ],
            "type": "histogram2d"
           }
          ],
          "histogram2dcontour": [
           {
            "colorbar": {
             "outlinewidth": 0,
             "ticks": ""
            },
            "colorscale": [
             [
              0,
              "#0d0887"
             ],
             [
              0.1111111111111111,
              "#46039f"
             ],
             [
              0.2222222222222222,
              "#7201a8"
             ],
             [
              0.3333333333333333,
              "#9c179e"
             ],
             [
              0.4444444444444444,
              "#bd3786"
             ],
             [
              0.5555555555555556,
              "#d8576b"
             ],
             [
              0.6666666666666666,
              "#ed7953"
             ],
             [
              0.7777777777777778,
              "#fb9f3a"
             ],
             [
              0.8888888888888888,
              "#fdca26"
             ],
             [
              1,
              "#f0f921"
             ]
            ],
            "type": "histogram2dcontour"
           }
          ],
          "mesh3d": [
           {
            "colorbar": {
             "outlinewidth": 0,
             "ticks": ""
            },
            "type": "mesh3d"
           }
          ],
          "parcoords": [
           {
            "line": {
             "colorbar": {
              "outlinewidth": 0,
              "ticks": ""
             }
            },
            "type": "parcoords"
           }
          ],
          "pie": [
           {
            "automargin": true,
            "type": "pie"
           }
          ],
          "scatter": [
           {
            "fillpattern": {
             "fillmode": "overlay",
             "size": 10,
             "solidity": 0.2
            },
            "type": "scatter"
           }
          ],
          "scatter3d": [
           {
            "line": {
             "colorbar": {
              "outlinewidth": 0,
              "ticks": ""
             }
            },
            "marker": {
             "colorbar": {
              "outlinewidth": 0,
              "ticks": ""
             }
            },
            "type": "scatter3d"
           }
          ],
          "scattercarpet": [
           {
            "marker": {
             "colorbar": {
              "outlinewidth": 0,
              "ticks": ""
             }
            },
            "type": "scattercarpet"
           }
          ],
          "scattergeo": [
           {
            "marker": {
             "colorbar": {
              "outlinewidth": 0,
              "ticks": ""
             }
            },
            "type": "scattergeo"
           }
          ],
          "scattergl": [
           {
            "marker": {
             "colorbar": {
              "outlinewidth": 0,
              "ticks": ""
             }
            },
            "type": "scattergl"
           }
          ],
          "scattermapbox": [
           {
            "marker": {
             "colorbar": {
              "outlinewidth": 0,
              "ticks": ""
             }
            },
            "type": "scattermapbox"
           }
          ],
          "scatterpolar": [
           {
            "marker": {
             "colorbar": {
              "outlinewidth": 0,
              "ticks": ""
             }
            },
            "type": "scatterpolar"
           }
          ],
          "scatterpolargl": [
           {
            "marker": {
             "colorbar": {
              "outlinewidth": 0,
              "ticks": ""
             }
            },
            "type": "scatterpolargl"
           }
          ],
          "scatterternary": [
           {
            "marker": {
             "colorbar": {
              "outlinewidth": 0,
              "ticks": ""
             }
            },
            "type": "scatterternary"
           }
          ],
          "surface": [
           {
            "colorbar": {
             "outlinewidth": 0,
             "ticks": ""
            },
            "colorscale": [
             [
              0,
              "#0d0887"
             ],
             [
              0.1111111111111111,
              "#46039f"
             ],
             [
              0.2222222222222222,
              "#7201a8"
             ],
             [
              0.3333333333333333,
              "#9c179e"
             ],
             [
              0.4444444444444444,
              "#bd3786"
             ],
             [
              0.5555555555555556,
              "#d8576b"
             ],
             [
              0.6666666666666666,
              "#ed7953"
             ],
             [
              0.7777777777777778,
              "#fb9f3a"
             ],
             [
              0.8888888888888888,
              "#fdca26"
             ],
             [
              1,
              "#f0f921"
             ]
            ],
            "type": "surface"
           }
          ],
          "table": [
           {
            "cells": {
             "fill": {
              "color": "#EBF0F8"
             },
             "line": {
              "color": "white"
             }
            },
            "header": {
             "fill": {
              "color": "#C8D4E3"
             },
             "line": {
              "color": "white"
             }
            },
            "type": "table"
           }
          ]
         },
         "layout": {
          "annotationdefaults": {
           "arrowcolor": "#2a3f5f",
           "arrowhead": 0,
           "arrowwidth": 1
          },
          "autotypenumbers": "strict",
          "coloraxis": {
           "colorbar": {
            "outlinewidth": 0,
            "ticks": ""
           }
          },
          "colorscale": {
           "diverging": [
            [
             0,
             "#8e0152"
            ],
            [
             0.1,
             "#c51b7d"
            ],
            [
             0.2,
             "#de77ae"
            ],
            [
             0.3,
             "#f1b6da"
            ],
            [
             0.4,
             "#fde0ef"
            ],
            [
             0.5,
             "#f7f7f7"
            ],
            [
             0.6,
             "#e6f5d0"
            ],
            [
             0.7,
             "#b8e186"
            ],
            [
             0.8,
             "#7fbc41"
            ],
            [
             0.9,
             "#4d9221"
            ],
            [
             1,
             "#276419"
            ]
           ],
           "sequential": [
            [
             0,
             "#0d0887"
            ],
            [
             0.1111111111111111,
             "#46039f"
            ],
            [
             0.2222222222222222,
             "#7201a8"
            ],
            [
             0.3333333333333333,
             "#9c179e"
            ],
            [
             0.4444444444444444,
             "#bd3786"
            ],
            [
             0.5555555555555556,
             "#d8576b"
            ],
            [
             0.6666666666666666,
             "#ed7953"
            ],
            [
             0.7777777777777778,
             "#fb9f3a"
            ],
            [
             0.8888888888888888,
             "#fdca26"
            ],
            [
             1,
             "#f0f921"
            ]
           ],
           "sequentialminus": [
            [
             0,
             "#0d0887"
            ],
            [
             0.1111111111111111,
             "#46039f"
            ],
            [
             0.2222222222222222,
             "#7201a8"
            ],
            [
             0.3333333333333333,
             "#9c179e"
            ],
            [
             0.4444444444444444,
             "#bd3786"
            ],
            [
             0.5555555555555556,
             "#d8576b"
            ],
            [
             0.6666666666666666,
             "#ed7953"
            ],
            [
             0.7777777777777778,
             "#fb9f3a"
            ],
            [
             0.8888888888888888,
             "#fdca26"
            ],
            [
             1,
             "#f0f921"
            ]
           ]
          },
          "colorway": [
           "#636efa",
           "#EF553B",
           "#00cc96",
           "#ab63fa",
           "#FFA15A",
           "#19d3f3",
           "#FF6692",
           "#B6E880",
           "#FF97FF",
           "#FECB52"
          ],
          "font": {
           "color": "#2a3f5f"
          },
          "geo": {
           "bgcolor": "white",
           "lakecolor": "white",
           "landcolor": "#E5ECF6",
           "showlakes": true,
           "showland": true,
           "subunitcolor": "white"
          },
          "hoverlabel": {
           "align": "left"
          },
          "hovermode": "closest",
          "mapbox": {
           "style": "light"
          },
          "paper_bgcolor": "white",
          "plot_bgcolor": "#E5ECF6",
          "polar": {
           "angularaxis": {
            "gridcolor": "white",
            "linecolor": "white",
            "ticks": ""
           },
           "bgcolor": "#E5ECF6",
           "radialaxis": {
            "gridcolor": "white",
            "linecolor": "white",
            "ticks": ""
           }
          },
          "scene": {
           "xaxis": {
            "backgroundcolor": "#E5ECF6",
            "gridcolor": "white",
            "gridwidth": 2,
            "linecolor": "white",
            "showbackground": true,
            "ticks": "",
            "zerolinecolor": "white"
           },
           "yaxis": {
            "backgroundcolor": "#E5ECF6",
            "gridcolor": "white",
            "gridwidth": 2,
            "linecolor": "white",
            "showbackground": true,
            "ticks": "",
            "zerolinecolor": "white"
           },
           "zaxis": {
            "backgroundcolor": "#E5ECF6",
            "gridcolor": "white",
            "gridwidth": 2,
            "linecolor": "white",
            "showbackground": true,
            "ticks": "",
            "zerolinecolor": "white"
           }
          },
          "shapedefaults": {
           "line": {
            "color": "#2a3f5f"
           }
          },
          "ternary": {
           "aaxis": {
            "gridcolor": "white",
            "linecolor": "white",
            "ticks": ""
           },
           "baxis": {
            "gridcolor": "white",
            "linecolor": "white",
            "ticks": ""
           },
           "bgcolor": "#E5ECF6",
           "caxis": {
            "gridcolor": "white",
            "linecolor": "white",
            "ticks": ""
           }
          },
          "title": {
           "x": 0.05
          },
          "xaxis": {
           "automargin": true,
           "gridcolor": "white",
           "linecolor": "white",
           "ticks": "",
           "title": {
            "standoff": 15
           },
           "zerolinecolor": "white",
           "zerolinewidth": 2
          },
          "yaxis": {
           "automargin": true,
           "gridcolor": "white",
           "linecolor": "white",
           "ticks": "",
           "title": {
            "standoff": 15
           },
           "zerolinecolor": "white",
           "zerolinewidth": 2
          }
         }
        },
        "title": {
         "text": "UMAP with DBSCAN"
        },
        "xaxis": {
         "anchor": "y",
         "domain": [
          0,
          1
         ],
         "title": {
          "text": "umap_component_1"
         }
        },
        "yaxis": {
         "anchor": "x",
         "domain": [
          0,
          1
         ],
         "title": {
          "text": "umap_component_2"
         }
        }
       }
      }
     },
     "metadata": {},
     "output_type": "display_data"
    }
   ],
   "source": [
    "from sklearn.cluster import DBSCAN\n",
    "from sklearn.preprocessing import StandardScaler\n",
    "\n",
    "# Function to apply DBSCAN\n",
    "def apply_dbscan(reduced_embeddings, eps=0.6, min_samples=5):\n",
    "    scaler = StandardScaler()\n",
    "    scaled = scaler.fit_transform(reduced_embeddings)\n",
    "    db = DBSCAN(eps=eps, min_samples=min_samples)\n",
    "    labels = db.fit_predict(scaled)\n",
    "    return labels\n",
    "\n",
    "# PCA Visualization with DBSCAN\n",
    "def visualizeEmbeddingsPCA_with_DBSCAN(df, eps=0.55, min_samples=10):\n",
    "    embeddings = np.array(df['embedding'].tolist())\n",
    "    ratings = df['rating_score']\n",
    "    \n",
    "    pca = PCA(n_components=2)\n",
    "    reduced = pca.fit_transform(embeddings)\n",
    "    var1, var2 = pca.explained_variance_ratio_ * 100\n",
    "    \n",
    "    clusters = apply_dbscan(reduced, eps, min_samples)\n",
    "    \n",
    "    plot_df = pd.DataFrame({\n",
    "        'pca_component_1': reduced[:, 0],\n",
    "        'pca_component_2': reduced[:, 1],\n",
    "        'rating_score': ratings,\n",
    "        'pca_cluster': clusters,\n",
    "        'review_id': df.get('review_id', range(len(df)))\n",
    "    })\n",
    "    \n",
    "    fig = px.scatter(\n",
    "        plot_df,\n",
    "        x='pca_component_1',\n",
    "        y='pca_component_2',\n",
    "        color='pca_cluster',\n",
    "        color_continuous_scale='Viridis',\n",
    "        hover_data=['review_id', 'rating_score'],\n",
    "        title=f'PCA with DBSCAN (PCA1: {var1:.1f}%, PCA2: {var2:.1f}%)',\n",
    "        labels={\n",
    "            'PCA 1': f'pca_component_1 ({var1:.1f}% variance)',\n",
    "            'PCA 2': f'pca_component_2 ({var2:.1f}% variance)',\n",
    "            'Cluster': 'pca_cluster'\n",
    "        }\n",
    "    )\n",
    "    \n",
    "    fig.update_layout(\n",
    "        template='plotly_white',\n",
    "        coloraxis_colorbar=dict(title='pca_cluster'),\n",
    "        hovermode='closest'\n",
    "    )\n",
    "    \n",
    "    fig.show()\n",
    "    return plot_df\n",
    "\n",
    "# UMAP Visualization with DBSCAN\n",
    "def visualizeEmbeddingsUMAP_with_DBSCAN(df, eps=0.7, min_samples=10):\n",
    "    embeddings = np.array(df['embedding'].tolist())\n",
    "    sentiment = df['sentiment_label']\n",
    "    \n",
    "    reducer = umap.UMAP(n_neighbors=15, min_dist=0.1, n_components=2, random_state=42)\n",
    "    reduced = reducer.fit_transform(embeddings)\n",
    "    \n",
    "    clusters = apply_dbscan(reduced, eps, min_samples)\n",
    "    \n",
    "    plot_df = pd.DataFrame({\n",
    "        'umap_component_1': reduced[:, 0],\n",
    "        'umap_component_2': reduced[:, 1],\n",
    "        'sentiment': sentiment,\n",
    "        'umap_cluster': clusters,\n",
    "        'review_id': df.get('review_id', range(len(df)))\n",
    "    })\n",
    "    \n",
    "    fig = px.scatter(\n",
    "        plot_df,\n",
    "        x='umap_component_1',\n",
    "        y='umap_component_2',\n",
    "        color='umap_cluster',\n",
    "        color_continuous_scale='Viridis',\n",
    "        hover_data=['sentiment', 'umap_cluster'],\n",
    "        title='UMAP with DBSCAN',\n",
    "        labels={\n",
    "            'UMAP 1': 'umap_component_1',\n",
    "            'UMAP 2': 'umap_component_2',\n",
    "            'Cluster': 'umap_cluster'\n",
    "        },\n",
    "        opacity=0.7\n",
    "    )\n",
    "    \n",
    "    fig.update_layout(\n",
    "        showlegend=True,\n",
    "        legend=dict(title='umap_cluster'),\n",
    "        margin=dict(l=10, r=10, t=40, b=10)\n",
    "    )\n",
    "    \n",
    "    fig.show()\n",
    "    return plot_df\n",
    "\n",
    "# Visualize with DBSCAN clusters\n",
    "pca_clusters = visualizeEmbeddingsPCA_with_DBSCAN(reviews, eps=0.5, min_samples=5)\n",
    "umap_clusters = visualizeEmbeddingsUMAP_with_DBSCAN(reviews, eps=0.5, min_samples=5)\n",
    "\n"
   ]
  },
  {
   "cell_type": "code",
   "execution_count": null,
   "metadata": {},
   "outputs": [],
   "source": [
    "import networkx as nx\n",
    "import plotly.graph_objects as go\n",
    "import plotly.express as px\n",
    "from sklearn.metrics.pairwise import cosine_similarity\n",
    "from sklearn.feature_extraction.text import TfidfVectorizer\n",
    "\n",
    "# Plot reviews by communities, using embeddingsm cosine_similarity and Girvan-Newman algorithm\n",
    "def plotCommunities(reviews):\n",
    "    # Load embeddings from reviews\n",
    "    ebm_reviews = np.array(reviews['embedding'].tolist())\n",
    "\n",
    "    # Calculate cosine similarity matrix between all pairs of embeddings\n",
    "    similarity_matrix = cosine_similarity(ebm_reviews)\n",
    "    similarity_threshold = 0.75\n",
    "\n",
    "    G_sparser = nx.Graph()\n",
    "\n",
    "    # Add nodes representing each review\n",
    "    for i in range(len(reviews)):\n",
    "        G_sparser.add_node(i, sentiment_label=reviews['sentiment_label'].iloc[i])\n",
    "\n",
    "    # Add edges based on the similarity matrix and new threshold\n",
    "    for i in range(len(similarity_matrix)):\n",
    "        for j in range(i + 1, len(similarity_matrix)):  # Only consider upper triangle to avoid redundancy\n",
    "            if similarity_matrix[i][j] >= similarity_threshold:\n",
    "                G_sparser.add_edge(i, j, weight=similarity_matrix[i][j])\n",
    "\n",
    "    # Use Girvan-Newman algorithm to detect communities\n",
    "    comp = nx.algorithms.community.girvan_newman(G_sparser)\n",
    "    communities_sparser = tuple(sorted(c) for c in next(comp))\n",
    "\n",
    "    # Extract key terms from each community using TF-IDF\n",
    "    vectorizer = TfidfVectorizer(max_features=3, stop_words='english')\n",
    "    community_keywords = []\n",
    "\n",
    "    for community in communities_sparser:\n",
    "        reviews_text = reviews.iloc[list(community)]['cleaned_review'].astype(str).tolist()\n",
    "        # Ensure there are non-stopword terms to avoid empty vocabulary error\n",
    "        filtered_reviews_text = [text for text in reviews_text if len(vectorizer.build_tokenizer()(text)) > 0]\n",
    "        if len(filtered_reviews_text) > 1:\n",
    "            tfidf_matrix = vectorizer.fit_transform(filtered_reviews_text)\n",
    "            keywords = vectorizer.get_feature_names_out()\n",
    "            community_keywords.append(\", \".join(keywords))\n",
    "        else:\n",
    "            community_keywords.append(reviews.iloc[list(community)[0]]['cleaned_review'])\n",
    "\n",
    "    # Prepare data for Plotly interactive visualization\n",
    "    node_x = []\n",
    "    node_y = []\n",
    "    node_color = []\n",
    "    node_text = []\n",
    "\n",
    "    pos = nx.spring_layout(G_sparser, seed=42)\n",
    "    colors = px.colors.qualitative.Set1  # A set of distinct colors for different communities\n",
    "\n",
    "    # Extract node positions, colors, and labels for Plotly\n",
    "    for i, community in enumerate(communities_sparser):\n",
    "        for node in community:\n",
    "            x, y = pos[node]\n",
    "            node_x.append(x)\n",
    "            node_y.append(y)\n",
    "            node_color.append(colors[i % len(colors)])\n",
    "            node_text.append(f\"{community_keywords[i]}\")\n",
    "\n",
    "    # Create edge traces\n",
    "    edge_x = []\n",
    "    edge_y = []\n",
    "\n",
    "    for edge in G_sparser.edges(data=True):\n",
    "        x0, y0 = pos[edge[0]]\n",
    "        x1, y1 = pos[edge[1]]\n",
    "        edge_x.extend([x0, x1, None])\n",
    "        edge_y.extend([y0, y1, None])\n",
    "\n",
    "    # Create the Plotly figure\n",
    "    edge_trace = go.Scatter(\n",
    "        x=edge_x, y=edge_y,\n",
    "        line=dict(width=0.5, color='gray'),\n",
    "        hoverinfo='none',\n",
    "        mode='lines')\n",
    "\n",
    "    node_trace = go.Scatter(\n",
    "        x=node_x, y=node_y,\n",
    "        mode='markers+text',\n",
    "        hoverinfo='text',\n",
    "        text=node_text,\n",
    "        marker=dict(\n",
    "            size=10,\n",
    "            line_width=2,\n",
    "            color=node_color\n",
    "        )\n",
    "    )\n",
    "\n",
    "    fig = go.Figure(data=[edge_trace, node_trace],\n",
    "                    layout=go.Layout(\n",
    "                        title='Reviews by Communities',\n",
    "                        titlefont_size=16,\n",
    "                        showlegend=False,\n",
    "                        hovermode='closest',\n",
    "                        margin=dict(b=20, l=5, r=5, t=40),\n",
    "                        xaxis=dict(showgrid=False, zeroline=False, showticklabels=False),\n",
    "                        yaxis=dict(showgrid=False, zeroline=False, showticklabels=False)))\n",
    "\n",
    "    fig.show()\n",
    "\n",
    "if False:\n",
    "    plotCommunities(reviews)"
   ]
  },
  {
   "cell_type": "code",
   "execution_count": null,
   "metadata": {},
   "outputs": [],
   "source": [
    "### Join PCA and UMAP clusters info to reviews\n",
    "reviews = reviews.reset_index().rename(columns={'index':'review_id'})\n",
    "reviews = reviews.merge(pca_clusters[['review_id','pca_cluster']]).merge(umap_clusters[['review_id','umap_cluster']])"
   ]
  },
  {
   "cell_type": "code",
   "execution_count": null,
   "metadata": {},
   "outputs": [
    {
     "name": "stdout",
     "output_type": "stream",
     "text": [
      "OK! -> processed sample reviews saved at ../data/processed/Oceana Grill_ml_processed_reviews.csv\n"
     ]
    }
   ],
   "source": [
    "reviews.to_csv(processed_data_path + name + '_ml_processed_reviews.csv', index=False)\n",
    "print('OK! -> processed sample reviews saved at', processed_data_path + name + '_ml_processed_reviews.csv')"
   ]
  },
  {
   "cell_type": "markdown",
   "metadata": {},
   "source": [
    "#### Topics"
   ]
  },
  {
   "cell_type": "code",
   "execution_count": null,
   "metadata": {},
   "outputs": [
    {
     "name": "stdout",
     "output_type": "stream",
     "text": [
      "=== General topics ===\n",
      "Topic 0: 0.033*\"the\" + 0.033*\"and\" + 0.027*\"was\" + 0.020*\"good\" + 0.016*\"food\"\n",
      "Topic 1: 0.062*\"the\" + 0.030*\"and\" + 0.030*\"was\" + 0.024*\"to\" + 0.024*\"i\"\n",
      "Topic 2: 0.041*\"and\" + 0.037*\"the\" + 0.028*\"we\" + 0.028*\"was\" + 0.016*\"of\"\n",
      "Topic 3: 0.058*\"the\" + 0.050*\"and\" + 0.036*\"was\" + 0.022*\"i\" + 0.016*\"of\"\n",
      "Topic 4: 0.006*\"were\" + 0.005*\"i\" + 0.005*\"and\" + 0.004*\"we\" + 0.004*\"for\"\n"
     ]
    }
   ],
   "source": [
    "from gensim import corpora\n",
    "from gensim.models import LdaModel\n",
    "\n",
    "# Extract topics using LDA model\n",
    "def analyzeTopicsLDA(df, number_of_topics = 5):\n",
    "   # Prepare corpus for LDA\n",
    "    cleaned_reviews = df['cleaned_review'].dropna().tolist()\n",
    "    tokenized_reviews = [review.split() for review in cleaned_reviews if isinstance(review, str) and review.strip() != '']\n",
    "    \n",
    "    if not tokenized_reviews:\n",
    "        print(\"No valid reviews to process.\")\n",
    "        return None, []\n",
    "    \n",
    "    dictionary = corpora.Dictionary(tokenized_reviews)\n",
    "    if len(dictionary) == 0:\n",
    "        print(\"Dictionary is empty after tokenization.\")\n",
    "        return None, []\n",
    "    \n",
    "    corpus = [dictionary.doc2bow(review) for review in tokenized_reviews]\n",
    "    if not any(corpus):\n",
    "        print(\"Corpus is empty. No terms found in any document.\")\n",
    "        return None, []\n",
    "    \n",
    "    # Train LDA model\n",
    "    try:\n",
    "        lda_model = LdaModel(\n",
    "            corpus,\n",
    "            num_topics=number_of_topics,\n",
    "            id2word=dictionary,\n",
    "            passes=10,\n",
    "            random_state=42\n",
    "        )\n",
    "    except ValueError as e:\n",
    "        print(f\"LDA Model training failed: {e}\")\n",
    "        return None, []\n",
    "    \n",
    "    # Extract topics\n",
    "    topics = lda_model.print_topics(num_words=5)\n",
    "    for topic in topics:\n",
    "        print(f\"Topic {topic[0]}: {topic[1]}\")\n",
    "    return lda_model, topics\n",
    "\n",
    "print('=== General topics ===')\n",
    "lda_model, topics = analyzeTopicsLDA(reviews)"
   ]
  },
  {
   "cell_type": "code",
   "execution_count": null,
   "metadata": {},
   "outputs": [
    {
     "name": "stdout",
     "output_type": "stream",
     "text": [
      "\n",
      "=== Topics by pca_cluster ===\n",
      "\n",
      "--- pca_cluster = 0 ---\n",
      "Topic 0: 0.046*\"the\" + 0.028*\"and\" + 0.026*\"was\" + 0.017*\"is\" + 0.013*\"to\"\n",
      "Topic 1: 0.050*\"the\" + 0.034*\"and\" + 0.029*\"i\" + 0.025*\"was\" + 0.023*\"to\"\n",
      "Topic 2: 0.066*\"the\" + 0.043*\"and\" + 0.033*\"was\" + 0.019*\"we\" + 0.018*\"i\"\n",
      "Topic 3: 0.053*\"the\" + 0.036*\"and\" + 0.035*\"was\" + 0.020*\"i\" + 0.018*\"to\"\n",
      "Topic 4: 0.019*\"the\" + 0.016*\"and\" + 0.016*\"to\" + 0.014*\"i\" + 0.009*\"in\"\n",
      "\n",
      "--- pca_cluster = -1 ---\n",
      "Not enough data to train LDA.\n",
      "\n",
      "=== Topics by umap_cluster ===\n",
      "\n",
      "--- umap_cluster = 0 ---\n",
      "Topic 0: 0.055*\"the\" + 0.034*\"and\" + 0.027*\"was\" + 0.018*\"i\" + 0.017*\"were\"\n",
      "Topic 1: 0.049*\"and\" + 0.049*\"the\" + 0.028*\"was\" + 0.021*\"i\" + 0.015*\"of\"\n",
      "Topic 2: 0.059*\"the\" + 0.034*\"and\" + 0.019*\"is\" + 0.018*\"to\" + 0.015*\"great\"\n",
      "Topic 3: 0.062*\"the\" + 0.046*\"was\" + 0.038*\"and\" + 0.018*\"to\" + 0.017*\"it\"\n",
      "Topic 4: 0.040*\"the\" + 0.032*\"and\" + 0.026*\"was\" + 0.023*\"we\" + 0.018*\"to\"\n",
      "\n",
      "--- umap_cluster = 1 ---\n",
      "Topic 0: 0.017*\"and\" + 0.012*\"the\" + 0.011*\"we\" + 0.011*\"to\" + 0.008*\"this\"\n",
      "Topic 1: 0.039*\"and\" + 0.034*\"the\" + 0.024*\"was\" + 0.018*\"to\" + 0.018*\"i\"\n",
      "Topic 2: 0.064*\"the\" + 0.032*\"and\" + 0.031*\"i\" + 0.030*\"was\" + 0.022*\"to\"\n",
      "Topic 3: 0.041*\"the\" + 0.036*\"and\" + 0.030*\"i\" + 0.027*\"was\" + 0.021*\"to\"\n",
      "Topic 4: 0.003*\"country\" + 0.003*\"minnesota\" + 0.003*\"sandwich\" + 0.003*\"actually\" + 0.003*\"all\"\n",
      "\n",
      "=== Topics by sentiment_label ===\n",
      "\n",
      "--- sentiment_label = positive ---\n",
      "Topic 0: 0.022*\"the\" + 0.020*\"and\" + 0.010*\"good\" + 0.009*\"was\" + 0.008*\"with\"\n",
      "Topic 1: 0.042*\"and\" + 0.031*\"was\" + 0.031*\"the\" + 0.022*\"food\" + 0.021*\"great\"\n",
      "Topic 2: 0.012*\"with\" + 0.009*\"and\" + 0.007*\"of\" + 0.006*\"the\" + 0.005*\"in\"\n",
      "Topic 3: 0.047*\"the\" + 0.045*\"and\" + 0.033*\"was\" + 0.025*\"i\" + 0.020*\"to\"\n",
      "Topic 4: 0.064*\"the\" + 0.037*\"and\" + 0.033*\"was\" + 0.021*\"i\" + 0.018*\"to\"\n",
      "\n",
      "--- sentiment_label = negative ---\n",
      "Topic 0: 0.011*\"is\" + 0.010*\"you\" + 0.008*\"or\" + 0.007*\"would\" + 0.007*\"new\"\n",
      "Topic 1: 0.013*\"is\" + 0.010*\"the\" + 0.007*\"i\" + 0.007*\"placir\" + 0.007*\"in\"\n",
      "Topic 2: 0.030*\"the\" + 0.020*\"to\" + 0.017*\"we\" + 0.014*\"and\" + 0.014*\"were\"\n",
      "Topic 3: 0.062*\"the\" + 0.035*\"was\" + 0.034*\"and\" + 0.027*\"i\" + 0.022*\"to\"\n",
      "Topic 4: 0.054*\"the\" + 0.029*\"and\" + 0.023*\"to\" + 0.022*\"i\" + 0.021*\"was\"\n",
      "\n",
      "--- sentiment_label = neutral ---\n",
      "Not enough data to train LDA.\n"
     ]
    }
   ],
   "source": [
    "# Generate topics for all selected columns in group columns\n",
    "def generateTopicsbyColumn(reviews, group_columns):\n",
    "    # Initialize dictionary to store topics\n",
    "    topics_dict = {group_col: {} for group_col in group_columns}\n",
    "\n",
    "    # Iterate over each grouping column and generate topics\n",
    "    for group_col in group_columns:\n",
    "        print(f\"\\n=== Topics by {group_col} ===\")\n",
    "        unique_groups = reviews[group_col].dropna().unique()\n",
    "        \n",
    "        for group_val in unique_groups:\n",
    "            subset = reviews[reviews[group_col] == group_val]\n",
    "            \n",
    "            # Check if there are enough reviews to train LDA\n",
    "            if len(subset) < 5:\n",
    "                print(f\"\\n--- {group_col} = {group_val} ---\")\n",
    "                print(\"Not enough data to train LDA.\")\n",
    "                continue\n",
    "            \n",
    "            print(f\"\\n--- {group_col} = {group_val} ---\")\n",
    "            \n",
    "            # Generate topics for the current subset\n",
    "            lda_model, topics = analyzeTopicsLDA(subset)\n",
    "            \n",
    "            if lda_model is not None and topics:\n",
    "                # Store topics as strings in the dictionary\n",
    "                topics_strings = [topic[1] for topic in topics]\n",
    "                topics_dict[group_col][group_val] = topics_strings\n",
    "            else:\n",
    "                print(\"No topics generated for this group.\\n\")\n",
    "    return topics_dict\n",
    "\n",
    "group_columns = ['pca_cluster', 'umap_cluster', 'sentiment_label']\n",
    "topics_dict = generateTopicsbyColumn(reviews, group_columns)"
   ]
  },
  {
   "cell_type": "markdown",
   "metadata": {},
   "source": [
    "#### Extract moments with worst rating and process that reviews"
   ]
  },
  {
   "cell_type": "code",
   "execution_count": null,
   "metadata": {},
   "outputs": [],
   "source": [
    "# Extract the periods with less score and the reviews of each period\n",
    "def analyzeLowScores(df, score_column, time_period='month', num_periods=1, last_periods = 12):\n",
    "    # Calculate the mean and standard deviation of the scores\n",
    "    last_periods = df[df['date'] >= df['date'].max() - pd.DateOffset(months=last_periods)]\n",
    "\n",
    "    # Compute averages for the required periods\n",
    "    last_periods_avg_scores = last_periods.groupby(time_period)[score_column].mean().reset_index()\n",
    "    last_periods_avg_scores.set_index(time_period, inplace=True)\n",
    "    \n",
    "    mean_score = last_periods_avg_scores[score_column].mean()\n",
    "    std_dev_score = last_periods_avg_scores[score_column].std()\n",
    "    \n",
    "    # Define a threshold for low scores\n",
    "    threshold = mean_score - std_dev_score\n",
    "    low_scores = last_periods_avg_scores[last_periods_avg_scores[score_column] < threshold]\n",
    "    # Select the specified number of periods with the lowest average score\n",
    "    low_score_periods = low_scores.index[:num_periods]\n",
    "    \n",
    "    # Filter negative reviews for the selected periods with the lowest score\n",
    "    period_reviews = df[(df[time_period].isin(low_score_periods)) & \n",
    "                        (df[score_column] <= 3)]\n",
    "    \n",
    "    # Drop the 'embedding' column if it exists to avoid issues with non-hashable types\n",
    "    if 'embedding' in period_reviews.columns:\n",
    "        period_reviews = period_reviews.drop(columns=['embedding'])\n",
    "    \n",
    "    # Add a column indicating the period with the lowest score for easier filtering\n",
    "    period_reviews['low_score_period'] = period_reviews[time_period]\n",
    "    period_reviews = period_reviews.sort_values('low_score_period')\n",
    "\n",
    "    return period_reviews, low_score_periods"
   ]
  },
  {
   "cell_type": "code",
   "execution_count": null,
   "metadata": {},
   "outputs": [],
   "source": [
    "# Usage\n",
    "time_period = 'month'  # Change to 'week', 'year', etc. to analyze different periods\n",
    "num_periods = 3  # Number of periods with the lowest average score to select\n",
    "\n",
    "# Analyze for each score type\n",
    "negative_periods_rating_reviews, low_score_periods = analyzeLowScores(reviews, 'rating_score', time_period, num_periods)\n",
    "negative_periods_food_reviews, _ = analyzeLowScores(reviews, 'food_score', time_period, num_periods)\n",
    "negative_periods_service_reviews, _ = analyzeLowScores(reviews, 'service_score', time_period, num_periods)\n",
    "negative_periods_atmosphere_reviews, _ = analyzeLowScores(reviews, 'atmosphere_score', time_period, num_periods)"
   ]
  },
  {
   "cell_type": "code",
   "execution_count": null,
   "metadata": {},
   "outputs": [
    {
     "name": "stdout",
     "output_type": "stream",
     "text": [
      "Topic 0: 0.044*\"the\" + 0.028*\"and\" + 0.024*\"to\" + 0.021*\"was\" + 0.012*\"of\"\n",
      "Topic 0: 0.045*\"the\" + 0.040*\"was\" + 0.025*\"i\" + 0.020*\"well\" + 0.020*\"my\"\n",
      "Topic 0: 0.045*\"the\" + 0.040*\"was\" + 0.025*\"i\" + 0.020*\"well\" + 0.020*\"my\"\n",
      "Topic 0: 0.045*\"the\" + 0.040*\"was\" + 0.025*\"i\" + 0.020*\"well\" + 0.020*\"my\"\n",
      "Topic 0: 0.037*\"the\" + 0.032*\"and\" + 0.027*\"crab\" + 0.027*\"food\" + 0.027*\"was\"\n",
      "Topic 0: 0.044*\"the\" + 0.028*\"and\" + 0.024*\"to\" + 0.021*\"was\" + 0.012*\"of\"\n"
     ]
    }
   ],
   "source": [
    "# Calculate topics for each low_score_period and concatenate results\n",
    "def generateTopicsPerPeriod(df, score_column, number_of_topics=1):\n",
    "    valid_reviews = df[df['review'].notna()]\n",
    "    topics_dict = {score_column: {}}\n",
    "    for period in valid_reviews['low_score_period'].unique():\n",
    "        period_reviews = valid_reviews[valid_reviews['low_score_period'] == period]\n",
    "        # Assuming analyzeTopicsLDA function returns topics as the second output\n",
    "        _, topics = analyzeTopicsLDA(period_reviews, number_of_topics=number_of_topics)\n",
    "        topics_dict[score_column][period] = topics\n",
    "    return topics_dict\n",
    "\n",
    "negative_periods_rating_topics = generateTopicsPerPeriod(negative_periods_rating_reviews, 'rating_score')\n",
    "negative_periods_food_topics = generateTopicsPerPeriod(negative_periods_food_reviews, 'food_score')\n",
    "negative_periods_service_topics = generateTopicsPerPeriod(negative_periods_service_reviews, 'service_score')\n",
    "negative_periods_atmosphere_topics = generateTopicsPerPeriod(negative_periods_atmosphere_reviews, 'atmosphere_score')\n",
    "\n",
    "negative_periods_topics = {**negative_periods_rating_topics, **negative_periods_food_topics, **negative_periods_service_topics, **negative_periods_atmosphere_topics}"
   ]
  },
  {
   "cell_type": "markdown",
   "metadata": {},
   "source": [
    "#### Extract outliers and pain points"
   ]
  },
  {
   "cell_type": "code",
   "execution_count": null,
   "metadata": {},
   "outputs": [
    {
     "name": "stdout",
     "output_type": "stream",
     "text": [
      "{'common_positive_words': {'the': 3499, 'and': 2428, 'was': 2003, 'to': 1107, 'of': 943, 'we': 937, 'it': 818, 'in': 707, 'for': 673, 'had': 630}, 'common_negative_words': {'the': 628, 'and': 336, 'was': 310, 'to': 252, 'it': 168, 'in': 129, 'of': 128, 'food': 117, 'for': 113, 'we': 111}, 'common_positive_bigrams': {'it was': 326, 'the food': 257, 'and the': 228, 'new orleans': 199, 'of the': 189, 'food was': 180, 'this placir': 177, 'had the': 176, 'in the': 162, 'the best': 160}, 'common_negative_bigrams': {'it was': 56, 'the food': 46, 'and the': 44, 'this placir': 34, 'in the': 34, 'of the': 31, 'food was': 27, 'new orleans': 25, 'to be': 23, 'on the': 22}}\n",
      "{'pca_cluster': {0: ['0.046*\"the\" + 0.028*\"and\" + 0.026*\"was\" + 0.017*\"is\" + 0.013*\"to\"', '0.050*\"the\" + 0.034*\"and\" + 0.029*\"i\" + 0.025*\"was\" + 0.023*\"to\"', '0.066*\"the\" + 0.043*\"and\" + 0.033*\"was\" + 0.019*\"we\" + 0.018*\"i\"', '0.053*\"the\" + 0.036*\"and\" + 0.035*\"was\" + 0.020*\"i\" + 0.018*\"to\"', '0.019*\"the\" + 0.016*\"and\" + 0.016*\"to\" + 0.014*\"i\" + 0.009*\"in\"']}, 'umap_cluster': {0: ['0.055*\"the\" + 0.034*\"and\" + 0.027*\"was\" + 0.018*\"i\" + 0.017*\"were\"', '0.049*\"and\" + 0.049*\"the\" + 0.028*\"was\" + 0.021*\"i\" + 0.015*\"of\"', '0.059*\"the\" + 0.034*\"and\" + 0.019*\"is\" + 0.018*\"to\" + 0.015*\"great\"', '0.062*\"the\" + 0.046*\"was\" + 0.038*\"and\" + 0.018*\"to\" + 0.017*\"it\"', '0.040*\"the\" + 0.032*\"and\" + 0.026*\"was\" + 0.023*\"we\" + 0.018*\"to\"'], 1: ['0.017*\"and\" + 0.012*\"the\" + 0.011*\"we\" + 0.011*\"to\" + 0.008*\"this\"', '0.039*\"and\" + 0.034*\"the\" + 0.024*\"was\" + 0.018*\"to\" + 0.018*\"i\"', '0.064*\"the\" + 0.032*\"and\" + 0.031*\"i\" + 0.030*\"was\" + 0.022*\"to\"', '0.041*\"the\" + 0.036*\"and\" + 0.030*\"i\" + 0.027*\"was\" + 0.021*\"to\"', '0.003*\"country\" + 0.003*\"minnesota\" + 0.003*\"sandwich\" + 0.003*\"actually\" + 0.003*\"all\"']}, 'sentiment_label': {'positive': ['0.022*\"the\" + 0.020*\"and\" + 0.010*\"good\" + 0.009*\"was\" + 0.008*\"with\"', '0.042*\"and\" + 0.031*\"was\" + 0.031*\"the\" + 0.022*\"food\" + 0.021*\"great\"', '0.012*\"with\" + 0.009*\"and\" + 0.007*\"of\" + 0.006*\"the\" + 0.005*\"in\"', '0.047*\"the\" + 0.045*\"and\" + 0.033*\"was\" + 0.025*\"i\" + 0.020*\"to\"', '0.064*\"the\" + 0.037*\"and\" + 0.033*\"was\" + 0.021*\"i\" + 0.018*\"to\"'], 'negative': ['0.011*\"is\" + 0.010*\"you\" + 0.008*\"or\" + 0.007*\"would\" + 0.007*\"new\"', '0.013*\"is\" + 0.010*\"the\" + 0.007*\"i\" + 0.007*\"placir\" + 0.007*\"in\"', '0.030*\"the\" + 0.020*\"to\" + 0.017*\"we\" + 0.014*\"and\" + 0.014*\"were\"', '0.062*\"the\" + 0.035*\"was\" + 0.034*\"and\" + 0.027*\"i\" + 0.022*\"to\"', '0.054*\"the\" + 0.029*\"and\" + 0.023*\"to\" + 0.022*\"i\" + 0.021*\"was\"']}, 'common_positive_words': {'the': 3499, 'and': 2428, 'was': 2003, 'to': 1107, 'of': 943, 'we': 937, 'it': 818, 'in': 707, 'for': 673, 'had': 630}, 'common_negative_words': {'the': 628, 'and': 336, 'was': 310, 'to': 252, 'it': 168, 'in': 129, 'of': 128, 'food': 117, 'for': 113, 'we': 111}, 'common_positive_bigrams': {'it was': 326, 'the food': 257, 'and the': 228, 'new orleans': 199, 'of the': 189, 'food was': 180, 'this placir': 177, 'had the': 176, 'in the': 162, 'the best': 160}, 'common_negative_bigrams': {'it was': 56, 'the food': 46, 'and the': 44, 'this placir': 34, 'in the': 34, 'of the': 31, 'food was': 27, 'new orleans': 25, 'to be': 23, 'on the': 22}}\n"
     ]
    }
   ],
   "source": [
    "import json\n",
    "import numpy as np\n",
    "\n",
    "# Format arrays of words in json format\n",
    "def format_words(words_list):\n",
    "    return {str(word): int(weight) if isinstance(weight, (int, np.integer)) else weight for word, weight in words_list}\n",
    "\n",
    "# Join all the available information\n",
    "words_dict = {\n",
    "    \"common_positive_words\": format_words(common_positive_words),\n",
    "    \"common_negative_words\": format_words(common_negative_words),\n",
    "    \"common_positive_bigrams\": format_words(common_positive_bigrams),\n",
    "    \"common_negative_bigrams\": format_words(common_negative_bigrams)\n",
    "}\n",
    "print(words_dict)\n",
    "\n",
    "reviews_summary_dict = {**topics_dict, **words_dict}\n",
    "print(reviews_summary_dict)"
   ]
  },
  {
   "cell_type": "markdown",
   "metadata": {},
   "source": [
    "#### Extract reviews samples"
   ]
  },
  {
   "cell_type": "code",
   "execution_count": null,
   "metadata": {},
   "outputs": [],
   "source": [
    "# Calculate total score using the three main scores\n",
    "reviews_score = reviews.copy()\n",
    "food_score_mean = np.round(reviews_score['food_score'].mean(), 2) / 5\n",
    "service_score_mean = np.round(reviews_score['service_score'].mean(), 2) / 5\n",
    "atmosphere_score_mean = np.round(reviews_score['atmosphere_score'].mean(), 2) / 5\n",
    "\n",
    "reviews_score['food_score'] = reviews_score['food_score'].fillna(food_score_mean)\n",
    "reviews_score['service_score'] = reviews_score['service_score'].fillna(service_score_mean)\n",
    "reviews_score['atmosphere_score'] = reviews_score['atmosphere_score'].fillna(atmosphere_score_mean)\n",
    "\n",
    "reviews_score['total_score'] = np.round(\n",
    "    reviews_score['rating_score'] +\n",
    "    (reviews_score['food_score']/5 + reviews_score['service_score']/5 + reviews_score['atmosphere_score']/5) / 3, 2)"
   ]
  },
  {
   "cell_type": "code",
   "execution_count": null,
   "metadata": {},
   "outputs": [
    {
     "name": "stdout",
     "output_type": "stream",
     "text": [
      "last_positive_reviews\n",
      "495    The ratatouille in this was amazing, definitel...\n",
      "186    It was my boyfriend and my first time in New O...\n",
      "663    When a restaurant is packed for Saturday lunch...\n",
      "935    Great food and even better service! Carly is t...\n",
      "412    Excellent Service\\nExcellent food\\nExcellent a...\n",
      "                             ...                        \n",
      "900    Turtle soup....Mmm. Redfish Oceana....yummy.\\n...\n",
      "636    Fabulous for breakfast, lunch or dinner.  Our ...\n",
      "530    Okay, I had already been in New Orleans for a ...\n",
      "325    I will just say this about Oceana - We have be...\n",
      "942    Even though this place is in a touristy area a...\n",
      "Name: review, Length: 552, dtype: object\n",
      "\n",
      "last_negative_reviews\n",
      "852    Tourist trap. Service was pretty bad, food cam...\n",
      "977    Had really good reviews on Yelp so I took my w...\n",
      "249    July30:\\nTerrible experience. Ordered delivery...\n",
      "139    Where do I start?!!!! DISAPPOINTING!!!!! Pleas...\n",
      "733    Mediocre meal for not-at-all mediocre price. I...\n",
      "                             ...                        \n",
      "465    Granted we were hungry but there was no need t...\n",
      "453    Generic cajun food. You could have better for ...\n",
      "631    The gumbo was not good - the shrimp was over c...\n",
      "597    We had a large party, with a reservation and i...\n",
      "216    As with most places in NOLA, the service was s...\n",
      "Name: review, Length: 98, dtype: object\n",
      "\n",
      "best_reviews_sample\n",
      "486    Food was on point and Ray was super helpful, 1...\n",
      "439    Unbelievable food and service. Whitney was the...\n",
      "488    A must if you're in NOLA!! Thank you Marlon fo...\n",
      "758    We orderd Louisiana New Orleans  crabcakes app...\n",
      "764    You have to try the blackened duck here.  If d...\n",
      "                             ...                        \n",
      "554    Our first time here. All I can say is, \"Wow\". ...\n",
      "558    Awesome place to have a delicious causal meal....\n",
      "240    Wir sind auf der Suche nach einem guten Frühst...\n",
      "642    The food was delicious and flavorful! I ordere...\n",
      "436    Jerry our waiter was great and so was the food...\n",
      "Name: review, Length: 552, dtype: object\n",
      "\n",
      "worst_reviews_sample\n",
      "178    After a long day of working on a creative proj...\n",
      "4      Have never had a worse salad in my life. The l...\n",
      "793    Management and owners should be ashamed of how...\n",
      "619    Do not go here. It's terrible. I would never e...\n",
      "462    Understanding that we are in Phase 1 post-COVI...\n",
      "                             ...                        \n",
      "944    Just finished dinner ehh. Service was really s...\n",
      "568    This is an alright option to try if the lines ...\n",
      "641    The food was pretty good... while the service ...\n",
      "592    My husband and I are from New Orleans and deci...\n",
      "143    Having come back to N.O. and returned to Ocean...\n",
      "Name: review, Length: 98, dtype: object\n",
      "\n",
      "low_score_reviews\n"
     ]
    },
    {
     "data": {
      "text/html": [
       "<div>\n",
       "<style scoped>\n",
       "    .dataframe tbody tr th:only-of-type {\n",
       "        vertical-align: middle;\n",
       "    }\n",
       "\n",
       "    .dataframe tbody tr th {\n",
       "        vertical-align: top;\n",
       "    }\n",
       "\n",
       "    .dataframe thead th {\n",
       "        text-align: right;\n",
       "    }\n",
       "</style>\n",
       "<table border=\"1\" class=\"dataframe\">\n",
       "  <thead>\n",
       "    <tr style=\"text-align: right;\">\n",
       "      <th></th>\n",
       "      <th>month</th>\n",
       "      <th>review</th>\n",
       "      <th>rating_score</th>\n",
       "    </tr>\n",
       "  </thead>\n",
       "  <tbody>\n",
       "    <tr>\n",
       "      <th>24</th>\n",
       "      <td>2021-03</td>\n",
       "      <td>I ordered delivery and it was a nightmare.  I ...</td>\n",
       "      <td>1</td>\n",
       "    </tr>\n",
       "    <tr>\n",
       "      <th>83</th>\n",
       "      <td>2021-03</td>\n",
       "      <td>The wait staff when you walk in is super nice ...</td>\n",
       "      <td>3</td>\n",
       "    </tr>\n",
       "    <tr>\n",
       "      <th>278</th>\n",
       "      <td>2021-03</td>\n",
       "      <td>Wow. I know there's ton of great reviews for t...</td>\n",
       "      <td>2</td>\n",
       "    </tr>\n",
       "    <tr>\n",
       "      <th>401</th>\n",
       "      <td>2021-03</td>\n",
       "      <td>Waiting for to go order was long. But food was...</td>\n",
       "      <td>3</td>\n",
       "    </tr>\n",
       "    <tr>\n",
       "      <th>856</th>\n",
       "      <td>2021-03</td>\n",
       "      <td>Disappointed!! Someone should call Gordon Rams...</td>\n",
       "      <td>2</td>\n",
       "    </tr>\n",
       "    <tr>\n",
       "      <th>512</th>\n",
       "      <td>2021-10</td>\n",
       "      <td>This restaurant has a weird vibe, the staff as...</td>\n",
       "      <td>3</td>\n",
       "    </tr>\n",
       "    <tr>\n",
       "      <th>977</th>\n",
       "      <td>2021-10</td>\n",
       "      <td>Had really good reviews on Yelp so I took my w...</td>\n",
       "      <td>2</td>\n",
       "    </tr>\n",
       "  </tbody>\n",
       "</table>\n",
       "</div>"
      ],
      "text/plain": [
       "       month                                             review  rating_score\n",
       "24   2021-03  I ordered delivery and it was a nightmare.  I ...             1\n",
       "83   2021-03  The wait staff when you walk in is super nice ...             3\n",
       "278  2021-03  Wow. I know there's ton of great reviews for t...             2\n",
       "401  2021-03  Waiting for to go order was long. But food was...             3\n",
       "856  2021-03  Disappointed!! Someone should call Gordon Rams...             2\n",
       "512  2021-10  This restaurant has a weird vibe, the staff as...             3\n",
       "977  2021-10  Had really good reviews on Yelp so I took my w...             2"
      ]
     },
     "metadata": {},
     "output_type": "display_data"
    },
    {
     "name": "stdout",
     "output_type": "stream",
     "text": [
      "PeriodIndex(['2021-03', '2021-10'], dtype='period[M]', name='month')\n"
     ]
    }
   ],
   "source": [
    "# Filter not null reviews\n",
    "valid_reviews = reviews_score[reviews_score['review'].notna()]\n",
    "\n",
    "# Select the best and worst reviews in general\n",
    "best_reviews = valid_reviews[valid_reviews['total_score'] > 5]\n",
    "worst_reviews = valid_reviews[valid_reviews['total_score'] < 2.5]\n",
    "\n",
    "recent_best_reviews = best_reviews.sort_values(by='date', ascending=False)\n",
    "print('last_positive_reviews')\n",
    "print(recent_best_reviews.review)\n",
    "recent_worst_reviews = worst_reviews.sort_values(by='date', ascending=False)\n",
    "print('\\nlast_negative_reviews')\n",
    "print(recent_worst_reviews.review)\n",
    "\n",
    "best_reviews_sample = best_reviews.sort_values(by='total_score', ascending=False)\n",
    "print('\\nbest_reviews_sample')\n",
    "print(best_reviews_sample.review)\n",
    "worst_reviews_sample = worst_reviews.sort_values(by='total_score', ascending=True)\n",
    "print('\\nworst_reviews_sample')\n",
    "print(worst_reviews_sample.review)\n",
    "\n",
    "low_score_reviews = negative_periods_rating_reviews[negative_periods_rating_reviews['review'].notna()][['month','review','rating_score']]\n",
    "print('\\nlow_score_reviews')\n",
    "display(low_score_reviews)\n",
    "print(low_score_periods)"
   ]
  },
  {
   "cell_type": "code",
   "execution_count": null,
   "metadata": {},
   "outputs": [
    {
     "name": "stdout",
     "output_type": "stream",
     "text": [
      "OK! -> processed sample reviews saved at ../data/processed/Oceana Grill_sample_selected_reviews.csv\n"
     ]
    }
   ],
   "source": [
    "# Join all the samples\n",
    "recent_best_reviews['sample_type'] = 'recent_best_reviews'\n",
    "recent_worst_reviews['sample_type'] = 'recent_worst_reviews'\n",
    "best_reviews_sample['sample_type'] = 'best_reviews_sample'\n",
    "worst_reviews_sample['sample_type'] = 'worst_reviews_sample'\n",
    "low_score_reviews['sample_type'] = 'low_score_reviews'\n",
    "\n",
    "combined_reviews = pd.concat([\n",
    "    recent_best_reviews,\n",
    "    recent_worst_reviews,\n",
    "    best_reviews_sample,\n",
    "    worst_reviews_sample,\n",
    "    low_score_reviews\n",
    "])\n",
    "\n",
    "# Save samples\n",
    "combined_reviews.reset_index(drop=True, inplace=True)\n",
    "combined_reviews.to_csv(processed_data_path + name + '_sample_selected_reviews.csv', index=False)\n",
    "print('OK! -> processed sample reviews saved at', processed_data_path + name + '_sample_selected_reviews.csv')"
   ]
  },
  {
   "cell_type": "markdown",
   "metadata": {},
   "source": [
    "### ChatGPT API init"
   ]
  },
  {
   "cell_type": "code",
   "execution_count": null,
   "metadata": {},
   "outputs": [],
   "source": [
    "import sys\n",
    "import os\n",
    "project_root = os.path.abspath(\"..\")\n",
    "sys.path.append(project_root)"
   ]
  },
  {
   "cell_type": "code",
   "execution_count": null,
   "metadata": {},
   "outputs": [],
   "source": [
    "# Init ChatGPT client\n",
    "from openai import OpenAI\n",
    "import openai_setup\n",
    "\n",
    "organization = openai_setup.conf['organization']\n",
    "project = openai_setup.conf['project']\n",
    "key = openai_setup.conf['key']\n",
    "\n",
    "client = OpenAI(\n",
    "    api_key=key,\n",
    "    organization=organization,\n",
    "    project=project\n",
    ")"
   ]
  },
  {
   "cell_type": "code",
   "execution_count": null,
   "metadata": {},
   "outputs": [],
   "source": [
    "# Clean json outputs\n",
    "def extract_json_string(input_string):\n",
    "    json_match = re.search(r'\\{.*\\}', input_string, re.DOTALL)\n",
    "    \n",
    "    if json_match:\n",
    "        json_string = json_match.group(0)\n",
    "        json_dict = json.loads(json_string)\n",
    "        return json_dict\n",
    "    return None\n"
   ]
  },
  {
   "cell_type": "code",
   "execution_count": null,
   "metadata": {},
   "outputs": [],
   "source": [
    "# Extract main insights from API\n",
    "def extractInsightsWithAI(info_dict, prompt, client):\n",
    "    # Config and send message to gpt4o model\n",
    "    completion = client.chat.completions.create(\n",
    "        model=\"gpt-4o-mini\",\n",
    "        messages=[\n",
    "            {\"role\": \"system\", \"content\": \"You are a system expert in extracting value from reviews analysed using ML and NLP techniques, to provide valuable and actionable insights to stakeholders in an automated BI tool using AI.\"},\n",
    "            {\n",
    "                \"role\": \"user\",\n",
    "                \"content\": prompt + str(info_dict)\n",
    "            }\n",
    "        ]\n",
    "    )\n",
    "    answer = completion.choices[0].message.content\n",
    "    # Format correctly the answer\n",
    "    answer_clean = extract_json_string(answer)\n",
    "    return answer_clean"
   ]
  },
  {
   "cell_type": "markdown",
   "metadata": {},
   "source": [
    "#### Extract main insights"
   ]
  },
  {
   "cell_type": "code",
   "execution_count": null,
   "metadata": {},
   "outputs": [
    {
     "name": "stdout",
     "output_type": "stream",
     "text": [
      "{'pca_cluster': {0: ['0.046*\"the\" + 0.028*\"and\" + 0.026*\"was\" + 0.017*\"is\" + 0.013*\"to\"', '0.050*\"the\" + 0.034*\"and\" + 0.029*\"i\" + 0.025*\"was\" + 0.023*\"to\"', '0.066*\"the\" + 0.043*\"and\" + 0.033*\"was\" + 0.019*\"we\" + 0.018*\"i\"', '0.053*\"the\" + 0.036*\"and\" + 0.035*\"was\" + 0.020*\"i\" + 0.018*\"to\"', '0.019*\"the\" + 0.016*\"and\" + 0.016*\"to\" + 0.014*\"i\" + 0.009*\"in\"']}, 'umap_cluster': {0: ['0.055*\"the\" + 0.034*\"and\" + 0.027*\"was\" + 0.018*\"i\" + 0.017*\"were\"', '0.049*\"and\" + 0.049*\"the\" + 0.028*\"was\" + 0.021*\"i\" + 0.015*\"of\"', '0.059*\"the\" + 0.034*\"and\" + 0.019*\"is\" + 0.018*\"to\" + 0.015*\"great\"', '0.062*\"the\" + 0.046*\"was\" + 0.038*\"and\" + 0.018*\"to\" + 0.017*\"it\"', '0.040*\"the\" + 0.032*\"and\" + 0.026*\"was\" + 0.023*\"we\" + 0.018*\"to\"'], 1: ['0.017*\"and\" + 0.012*\"the\" + 0.011*\"we\" + 0.011*\"to\" + 0.008*\"this\"', '0.039*\"and\" + 0.034*\"the\" + 0.024*\"was\" + 0.018*\"to\" + 0.018*\"i\"', '0.064*\"the\" + 0.032*\"and\" + 0.031*\"i\" + 0.030*\"was\" + 0.022*\"to\"', '0.041*\"the\" + 0.036*\"and\" + 0.030*\"i\" + 0.027*\"was\" + 0.021*\"to\"', '0.003*\"country\" + 0.003*\"minnesota\" + 0.003*\"sandwich\" + 0.003*\"actually\" + 0.003*\"all\"']}, 'sentiment_label': {'positive': ['0.022*\"the\" + 0.020*\"and\" + 0.010*\"good\" + 0.009*\"was\" + 0.008*\"with\"', '0.042*\"and\" + 0.031*\"was\" + 0.031*\"the\" + 0.022*\"food\" + 0.021*\"great\"', '0.012*\"with\" + 0.009*\"and\" + 0.007*\"of\" + 0.006*\"the\" + 0.005*\"in\"', '0.047*\"the\" + 0.045*\"and\" + 0.033*\"was\" + 0.025*\"i\" + 0.020*\"to\"', '0.064*\"the\" + 0.037*\"and\" + 0.033*\"was\" + 0.021*\"i\" + 0.018*\"to\"'], 'negative': ['0.011*\"is\" + 0.010*\"you\" + 0.008*\"or\" + 0.007*\"would\" + 0.007*\"new\"', '0.013*\"is\" + 0.010*\"the\" + 0.007*\"i\" + 0.007*\"placir\" + 0.007*\"in\"', '0.030*\"the\" + 0.020*\"to\" + 0.017*\"we\" + 0.014*\"and\" + 0.014*\"were\"', '0.062*\"the\" + 0.035*\"was\" + 0.034*\"and\" + 0.027*\"i\" + 0.022*\"to\"', '0.054*\"the\" + 0.029*\"and\" + 0.023*\"to\" + 0.022*\"i\" + 0.021*\"was\"']}, 'common_positive_words': {'the': 3499, 'and': 2428, 'was': 2003, 'to': 1107, 'of': 943, 'we': 937, 'it': 818, 'in': 707, 'for': 673, 'had': 630}, 'common_negative_words': {'the': 628, 'and': 336, 'was': 310, 'to': 252, 'it': 168, 'in': 129, 'of': 128, 'food': 117, 'for': 113, 'we': 111}, 'common_positive_bigrams': {'it was': 326, 'the food': 257, 'and the': 228, 'new orleans': 199, 'of the': 189, 'food was': 180, 'this placir': 177, 'had the': 176, 'in the': 162, 'the best': 160}, 'common_negative_bigrams': {'it was': 56, 'the food': 46, 'and the': 44, 'this placir': 34, 'in the': 34, 'of the': 31, 'food was': 27, 'new orleans': 25, 'to be': 23, 'on the': 22}}\n"
     ]
    }
   ],
   "source": [
    "# Prompt to extract automatically the general insights\n",
    "general_insights_prompt = (\n",
    "    \"I have this information extracted from LDA topics using clustering and sentiment analysis, including positive and negative terms, in JSON format.\\n\"\n",
    "    \"I want you to extract:\\n\"\n",
    "    \"- 3 positive points\\n\"\n",
    "    \"- 3 negative points\\n\"\n",
    "    \"- 3 improvement suggestions based on the negative points\\n\"\n",
    "    \"\\n\"\n",
    "    \"Each point should be a logical, simple, and concise sentence that provides value. Do not name specific terms or topics, but focus on delivering direct value to business stakeholders without ambiguity. If you mention something that didn't go well, give examples based on the information.\\n\"\n",
    "    \"Return the result in English in JSON format, ensuring it is easy to read in a notebook and standardized as follows:\\n\"\n",
    "    \"\\n\"\n",
    "    \"{best:['','',''], worst:['','',''], improve:['','','']}\\n\"\n",
    "    \"\\n\"\n",
    "    \"Ensure there are no contradictions between positive, negative, and improvement points.\\n\"\n",
    "    \"The information:\\n\"\n",
    ")\n",
    "print(reviews_summary_dict)"
   ]
  },
  {
   "cell_type": "code",
   "execution_count": null,
   "metadata": {},
   "outputs": [
    {
     "name": "stdout",
     "output_type": "stream",
     "text": [
      "{'best': ['The quality of the food received positive remarks from customers.', 'Customers appreciated the overall experience and noted it was enjoyable.', 'Service was highlighted as a strong point, with many reviews reflecting satisfaction.'], 'worst': [\"Several customers reported dissatisfaction with the food's quality at times.\", 'There were complaints about the inconsistencies in service during peak hours.', 'Some reviews mentioned that certain dishes did not meet expectations.'], 'improve': ['Focus on maintaining consistent food quality to enhance customer satisfaction.', 'Provide additional training for staff to manage service better during busy times.', 'Regularly review and update the menu to ensure all dishes meet customer expectations.']}\n"
     ]
    }
   ],
   "source": [
    "insigths_summary_dict = extractInsightsWithAI(reviews_summary_dict, general_insights_prompt, client)\n",
    "print(insigths_summary_dict)"
   ]
  },
  {
   "cell_type": "code",
   "execution_count": null,
   "metadata": {},
   "outputs": [
    {
     "name": "stdout",
     "output_type": "stream",
     "text": [
      "OK! -> general insights saved at ../data/processed/Oceana Grill_general_insights.json\n"
     ]
    }
   ],
   "source": [
    "json_file_path = processed_data_path + name + '_general_insights.json'\n",
    "with open(json_file_path, 'w') as json_file:\n",
    "    json.dump(insigths_summary_dict, json_file, indent=4)\n",
    "print('OK! -> general insights saved at', json_file_path)"
   ]
  },
  {
   "cell_type": "markdown",
   "metadata": {},
   "source": [
    "#### Extract pain moments"
   ]
  },
  {
   "cell_type": "code",
   "execution_count": null,
   "metadata": {},
   "outputs": [
    {
     "name": "stdout",
     "output_type": "stream",
     "text": [
      "{'rating_score': {Period('2021-03', 'M'): [(0, '0.044*\"the\" + 0.028*\"and\" + 0.024*\"to\" + 0.021*\"was\" + 0.012*\"of\"')], Period('2021-10', 'M'): [(0, '0.045*\"the\" + 0.040*\"was\" + 0.025*\"i\" + 0.020*\"well\" + 0.020*\"my\"')]}, 'food_score': {Period('2021-10', 'M'): [(0, '0.045*\"the\" + 0.040*\"was\" + 0.025*\"i\" + 0.020*\"well\" + 0.020*\"my\"')]}, 'service_score': {Period('2021-10', 'M'): [(0, '0.045*\"the\" + 0.040*\"was\" + 0.025*\"i\" + 0.020*\"well\" + 0.020*\"my\"')], Period('2021-11', 'M'): [(0, '0.037*\"the\" + 0.032*\"and\" + 0.027*\"crab\" + 0.027*\"food\" + 0.027*\"was\"')]}, 'atmosphere_score': {Period('2021-03', 'M'): [(0, '0.044*\"the\" + 0.028*\"and\" + 0.024*\"to\" + 0.021*\"was\" + 0.012*\"of\"')]}}\n"
     ]
    }
   ],
   "source": [
    "negative_periods_insights_prompt = (\n",
    "    \"I have this information extracted from LDA topics using clustering and sentiment analysis, including positive and negative terms at specific moments, in JSON format.\\n\"\n",
    "    \"\\n\"\n",
    "    \"I want you to extract:\\n\"\n",
    "    \"- For each date:\\n\"\n",
    "    \"- N negative points\\n\"\n",
    "    \"- N improvement suggestions based on the negative points\\n\"\n",
    "    \"\\n\"\n",
    "    \"Each point should be a logical, simple, and concise sentence that provides value. Do not mention specific terms or topics, but focus on delivering direct value to business stakeholders without ambiguity. If you mention something that didn't go well, provide examples based on the information.\\n\"\n",
    "    \"Return the result in English in JSON format, ensuring it is easy to read in a notebook and standardized as follows:\\n\"\n",
    "    \"\\n\"\n",
    "    \"{date: {problems:[problem, problem...], improve:[improve,improve...]}, date:{problems:[problem, problem...], improve:[improve,improve...]}, ...}\\n\"\n",
    "    \"\\n\"\n",
    "    \"Make sure there are no contradictions between the points.\\n\"\n",
    "    \"\\n\"\n",
    "    \"The information:\\n\"\n",
    ")\n",
    "print(negative_periods_topics)"
   ]
  },
  {
   "cell_type": "code",
   "execution_count": null,
   "metadata": {},
   "outputs": [
    {
     "name": "stdout",
     "output_type": "stream",
     "text": [
      "{'2021-03': {'problems': ['Customers felt that the service did not meet their expectations.', 'The atmosphere was described as lacking warmth.'], 'improve': ['Enhance the quality of service training for staff.', 'Create a welcoming ambiance through decor and lighting.']}, '2021-10': {'problems': ['The quality of food did not meet customer expectations.', 'Service consistency was an issue, leading to customer dissatisfaction.'], 'improve': ['Focus on improving food preparation methods and ingredient quality.', 'Ensure staff are well-trained and provide consistent service.']}, '2021-11': {'problems': ['There were complaints regarding the freshness of the seafood.', 'Customer feedback noted that the food was not served at the right temperature.'], 'improve': ['Implement stricter quality control measures for seafood.', 'Revise kitchen processes to ensure food is served at optimal temperatures.']}}\n"
     ]
    }
   ],
   "source": [
    "insigths_summary_dict = extractInsightsWithAI(negative_periods_topics, negative_periods_insights_prompt, client)\n",
    "print(insigths_summary_dict)"
   ]
  },
  {
   "cell_type": "code",
   "execution_count": null,
   "metadata": {},
   "outputs": [
    {
     "name": "stdout",
     "output_type": "stream",
     "text": [
      "OK! -> worst periods insights saved at ../data/processed/Oceana Grill_worst_periods_insights.json\n"
     ]
    }
   ],
   "source": [
    "## Save insights\n",
    "json_file_path = processed_data_path + name + '_worst_periods_insights.json'\n",
    "with open(json_file_path, 'w') as json_file:\n",
    "    json.dump(insigths_summary_dict, json_file, indent=4)\n",
    "print('OK! -> worst periods insights saved at', json_file_path)"
   ]
  },
  {
   "cell_type": "code",
   "execution_count": null,
   "metadata": {},
   "outputs": [
    {
     "name": "stdout",
     "output_type": "stream",
     "text": [
      "Top Most Recommended: []\n",
      "Least Recommended : []\n"
     ]
    }
   ],
   "source": [
    "print(\"Top Most Recommended:\", most_recommended)\n",
    "print(\"Least Recommended :\", less_recommended)"
   ]
  },
  {
   "cell_type": "code",
   "execution_count": null,
   "metadata": {},
   "outputs": [],
   "source": []
  }
 ],
 "metadata": {
  "kernelspec": {
   "display_name": "sar",
   "language": "python",
   "name": "python3"
  },
  "language_info": {
   "codemirror_mode": {
    "name": "ipython",
    "version": 3
   },
   "file_extension": ".py",
   "mimetype": "text/x-python",
   "name": "python",
   "nbconvert_exporter": "python",
   "pygments_lexer": "ipython3",
   "version": "3.9.19"
  }
 },
 "nbformat": 4,
 "nbformat_minor": 2
}
