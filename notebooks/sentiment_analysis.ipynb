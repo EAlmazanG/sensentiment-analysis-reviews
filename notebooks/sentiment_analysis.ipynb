{
 "cells": [
  {
   "cell_type": "code",
   "execution_count": 49,
   "metadata": {},
   "outputs": [],
   "source": [
    "import pandas as pd\n",
    "import numpy as np\n",
    "import re\n",
    "import ast\n",
    "\n",
    "import datetime\n",
    "\n",
    "import matplotlib.pyplot as plt\n",
    "import seaborn as sns\n",
    "import plotly.graph_objects as go\n",
    "import plotly.express as px\n",
    "from plotly.subplots import make_subplots"
   ]
  },
  {
   "cell_type": "code",
   "execution_count": 2,
   "metadata": {},
   "outputs": [
    {
     "data": {
      "text/html": [
       "<div>\n",
       "<style scoped>\n",
       "    .dataframe tbody tr th:only-of-type {\n",
       "        vertical-align: middle;\n",
       "    }\n",
       "\n",
       "    .dataframe tbody tr th {\n",
       "        vertical-align: top;\n",
       "    }\n",
       "\n",
       "    .dataframe thead th {\n",
       "        text-align: right;\n",
       "    }\n",
       "</style>\n",
       "<table border=\"1\" class=\"dataframe\">\n",
       "  <thead>\n",
       "    <tr style=\"text-align: right;\">\n",
       "      <th></th>\n",
       "      <th>stars</th>\n",
       "      <th>reviews</th>\n",
       "    </tr>\n",
       "  </thead>\n",
       "  <tbody>\n",
       "    <tr>\n",
       "      <th>0</th>\n",
       "      <td>5</td>\n",
       "      <td>2290</td>\n",
       "    </tr>\n",
       "    <tr>\n",
       "      <th>1</th>\n",
       "      <td>4</td>\n",
       "      <td>1308</td>\n",
       "    </tr>\n",
       "    <tr>\n",
       "      <th>2</th>\n",
       "      <td>3</td>\n",
       "      <td>396</td>\n",
       "    </tr>\n",
       "    <tr>\n",
       "      <th>3</th>\n",
       "      <td>2</td>\n",
       "      <td>132</td>\n",
       "    </tr>\n",
       "    <tr>\n",
       "      <th>4</th>\n",
       "      <td>1</td>\n",
       "      <td>128</td>\n",
       "    </tr>\n",
       "  </tbody>\n",
       "</table>\n",
       "</div>"
      ],
      "text/plain": [
       "   stars  reviews\n",
       "0      5     2290\n",
       "1      4     1308\n",
       "2      3      396\n",
       "3      2      132\n",
       "4      1      128"
      ]
     },
     "metadata": {},
     "output_type": "display_data"
    },
    {
     "data": {
      "text/html": [
       "<div>\n",
       "<style scoped>\n",
       "    .dataframe tbody tr th:only-of-type {\n",
       "        vertical-align: middle;\n",
       "    }\n",
       "\n",
       "    .dataframe tbody tr th {\n",
       "        vertical-align: top;\n",
       "    }\n",
       "\n",
       "    .dataframe thead th {\n",
       "        text-align: right;\n",
       "    }\n",
       "</style>\n",
       "<table border=\"1\" class=\"dataframe\">\n",
       "  <thead>\n",
       "    <tr style=\"text-align: right;\">\n",
       "      <th></th>\n",
       "      <th>review_id</th>\n",
       "      <th>review</th>\n",
       "      <th>local_guide_reviews</th>\n",
       "      <th>rating_score</th>\n",
       "      <th>service</th>\n",
       "      <th>meal_type</th>\n",
       "      <th>price_per_person_category</th>\n",
       "      <th>food_score</th>\n",
       "      <th>service_score</th>\n",
       "      <th>atmosphere_score</th>\n",
       "      <th>recommendations_list</th>\n",
       "      <th>date</th>\n",
       "      <th>avg_price_per_person</th>\n",
       "    </tr>\n",
       "  </thead>\n",
       "  <tbody>\n",
       "    <tr>\n",
       "      <th>140</th>\n",
       "      <td>140</td>\n",
       "      <td>Llevo años pidiendo la famosa egg-burger.\\nInc...</td>\n",
       "      <td>24.0</td>\n",
       "      <td>5.0</td>\n",
       "      <td>Comí allí</td>\n",
       "      <td>Cena</td>\n",
       "      <td>20-30 €</td>\n",
       "      <td>5.0</td>\n",
       "      <td>5.0</td>\n",
       "      <td>5.0</td>\n",
       "      <td>['Hamburguesa Completa Con Huevo']</td>\n",
       "      <td>2024-01-01</td>\n",
       "      <td>30.0</td>\n",
       "    </tr>\n",
       "    <tr>\n",
       "      <th>286</th>\n",
       "      <td>286</td>\n",
       "      <td>Precioso lugar</td>\n",
       "      <td>9.0</td>\n",
       "      <td>5.0</td>\n",
       "      <td>NaN</td>\n",
       "      <td>NaN</td>\n",
       "      <td>NaN</td>\n",
       "      <td>NaN</td>\n",
       "      <td>NaN</td>\n",
       "      <td>NaN</td>\n",
       "      <td>['']</td>\n",
       "      <td>2018-01-01</td>\n",
       "      <td>NaN</td>\n",
       "    </tr>\n",
       "    <tr>\n",
       "      <th>27</th>\n",
       "      <td>27</td>\n",
       "      <td>Buen local con terraza. Las hamburguesas están...</td>\n",
       "      <td>612.0</td>\n",
       "      <td>4.0</td>\n",
       "      <td>NaN</td>\n",
       "      <td>NaN</td>\n",
       "      <td>NaN</td>\n",
       "      <td>NaN</td>\n",
       "      <td>NaN</td>\n",
       "      <td>NaN</td>\n",
       "      <td>['']</td>\n",
       "      <td>2021-01-01</td>\n",
       "      <td>NaN</td>\n",
       "    </tr>\n",
       "    <tr>\n",
       "      <th>222</th>\n",
       "      <td>222</td>\n",
       "      <td>Un lugar muy agradable para relajarse y disfru...</td>\n",
       "      <td>20.0</td>\n",
       "      <td>5.0</td>\n",
       "      <td>NaN</td>\n",
       "      <td>NaN</td>\n",
       "      <td>NaN</td>\n",
       "      <td>NaN</td>\n",
       "      <td>NaN</td>\n",
       "      <td>NaN</td>\n",
       "      <td>['']</td>\n",
       "      <td>2017-01-01</td>\n",
       "      <td>NaN</td>\n",
       "    </tr>\n",
       "    <tr>\n",
       "      <th>94</th>\n",
       "      <td>94</td>\n",
       "      <td>Iba con optimismo ya que tengo aprecio a este ...</td>\n",
       "      <td>47.0</td>\n",
       "      <td>2.0</td>\n",
       "      <td>Comí allí</td>\n",
       "      <td>Brunch</td>\n",
       "      <td>NaN</td>\n",
       "      <td>NaN</td>\n",
       "      <td>NaN</td>\n",
       "      <td>NaN</td>\n",
       "      <td>['']</td>\n",
       "      <td>2022-01-01</td>\n",
       "      <td>NaN</td>\n",
       "    </tr>\n",
       "  </tbody>\n",
       "</table>\n",
       "</div>"
      ],
      "text/plain": [
       "     review_id                                             review  \\\n",
       "140        140  Llevo años pidiendo la famosa egg-burger.\\nInc...   \n",
       "286        286                                     Precioso lugar   \n",
       "27          27  Buen local con terraza. Las hamburguesas están...   \n",
       "222        222  Un lugar muy agradable para relajarse y disfru...   \n",
       "94          94  Iba con optimismo ya que tengo aprecio a este ...   \n",
       "\n",
       "     local_guide_reviews  rating_score    service meal_type  \\\n",
       "140                 24.0           5.0  Comí allí      Cena   \n",
       "286                  9.0           5.0        NaN       NaN   \n",
       "27                 612.0           4.0        NaN       NaN   \n",
       "222                 20.0           5.0        NaN       NaN   \n",
       "94                  47.0           2.0  Comí allí    Brunch   \n",
       "\n",
       "    price_per_person_category  food_score  service_score  atmosphere_score  \\\n",
       "140                   20-30 €         5.0            5.0               5.0   \n",
       "286                       NaN         NaN            NaN               NaN   \n",
       "27                        NaN         NaN            NaN               NaN   \n",
       "222                       NaN         NaN            NaN               NaN   \n",
       "94                        NaN         NaN            NaN               NaN   \n",
       "\n",
       "                   recommendations_list        date  avg_price_per_person  \n",
       "140  ['Hamburguesa Completa Con Huevo']  2024-01-01                  30.0  \n",
       "286                                ['']  2018-01-01                   NaN  \n",
       "27                                 ['']  2021-01-01                   NaN  \n",
       "222                                ['']  2017-01-01                   NaN  \n",
       "94                                 ['']  2022-01-01                   NaN  "
      ]
     },
     "metadata": {},
     "output_type": "display_data"
    }
   ],
   "source": [
    "processed_data_path = '../data/processed/'\n",
    "raw_data_path = '../data/raw/'\n",
    "\n",
    "name = 'hd'\n",
    "\n",
    "reviews_pro = pd.read_csv(processed_data_path + name + '_reviews.csv')\n",
    "resumme_raw = pd.read_csv(raw_data_path + 'resumme_' + name + '.csv')\n",
    "\n",
    "display(resumme_raw)\n",
    "display(reviews_pro.sample(5))\n",
    "\n",
    "reviews = reviews_pro.copy()\n",
    "resumme = resumme_raw.copy()"
   ]
  },
  {
   "cell_type": "markdown",
   "metadata": {},
   "source": [
    "### First draft summary plots "
   ]
  },
  {
   "cell_type": "code",
   "execution_count": 5,
   "metadata": {},
   "outputs": [
    {
     "data": {
      "application/vnd.plotly.v1+json": {
       "config": {
        "plotlyServerURL": "https://plot.ly"
       },
       "data": [
        {
         "mode": "text",
         "text": [
          "4.29"
         ],
         "textfont": {
          "size": 120
         },
         "type": "scatter",
         "x": [
          0
         ],
         "xaxis": "x",
         "y": [
          0
         ],
         "yaxis": "y"
        },
        {
         "marker": {
          "color": "lightskyblue"
         },
         "name": "Reviews",
         "orientation": "h",
         "text": [
          2290,
          1308,
          396,
          132,
          128
         ],
         "textposition": "auto",
         "type": "bar",
         "x": [
          2290,
          1308,
          396,
          132,
          128
         ],
         "xaxis": "x2",
         "y": [
          5,
          4,
          3,
          2,
          1
         ],
         "yaxis": "y2"
        },
        {
         "marker": {
          "color": "lightgreen"
         },
         "name": "Categories",
         "orientation": "h",
         "text": [
          "4.37",
          "4.51",
          "4.47"
         ],
         "textposition": "auto",
         "type": "bar",
         "x": [
          4.366412213740458,
          4.511111111111111,
          4.470149253731344
         ],
         "xaxis": "x3",
         "y": [
          "Food",
          "Service",
          "Atmosphere"
         ],
         "yaxis": "y3"
        }
       ],
       "layout": {
        "annotations": [
         {
          "font": {
           "size": 16
          },
          "showarrow": false,
          "text": "Average Score",
          "x": 0.14444444444444446,
          "xanchor": "center",
          "xref": "paper",
          "y": 1,
          "yanchor": "bottom",
          "yref": "paper"
         },
         {
          "font": {
           "size": 16
          },
          "showarrow": false,
          "text": "Number of Reviews",
          "x": 0.5,
          "xanchor": "center",
          "xref": "paper",
          "y": 1,
          "yanchor": "bottom",
          "yref": "paper"
         },
         {
          "font": {
           "size": 16
          },
          "showarrow": false,
          "text": "Categories",
          "x": 0.8555555555555556,
          "xanchor": "center",
          "xref": "paper",
          "y": 1,
          "yanchor": "bottom",
          "yref": "paper"
         }
        ],
        "height": 500,
        "paper_bgcolor": "white",
        "plot_bgcolor": "white",
        "showlegend": false,
        "template": {
         "data": {
          "bar": [
           {
            "error_x": {
             "color": "#2a3f5f"
            },
            "error_y": {
             "color": "#2a3f5f"
            },
            "marker": {
             "line": {
              "color": "#E5ECF6",
              "width": 0.5
             },
             "pattern": {
              "fillmode": "overlay",
              "size": 10,
              "solidity": 0.2
             }
            },
            "type": "bar"
           }
          ],
          "barpolar": [
           {
            "marker": {
             "line": {
              "color": "#E5ECF6",
              "width": 0.5
             },
             "pattern": {
              "fillmode": "overlay",
              "size": 10,
              "solidity": 0.2
             }
            },
            "type": "barpolar"
           }
          ],
          "carpet": [
           {
            "aaxis": {
             "endlinecolor": "#2a3f5f",
             "gridcolor": "white",
             "linecolor": "white",
             "minorgridcolor": "white",
             "startlinecolor": "#2a3f5f"
            },
            "baxis": {
             "endlinecolor": "#2a3f5f",
             "gridcolor": "white",
             "linecolor": "white",
             "minorgridcolor": "white",
             "startlinecolor": "#2a3f5f"
            },
            "type": "carpet"
           }
          ],
          "choropleth": [
           {
            "colorbar": {
             "outlinewidth": 0,
             "ticks": ""
            },
            "type": "choropleth"
           }
          ],
          "contour": [
           {
            "colorbar": {
             "outlinewidth": 0,
             "ticks": ""
            },
            "colorscale": [
             [
              0,
              "#0d0887"
             ],
             [
              0.1111111111111111,
              "#46039f"
             ],
             [
              0.2222222222222222,
              "#7201a8"
             ],
             [
              0.3333333333333333,
              "#9c179e"
             ],
             [
              0.4444444444444444,
              "#bd3786"
             ],
             [
              0.5555555555555556,
              "#d8576b"
             ],
             [
              0.6666666666666666,
              "#ed7953"
             ],
             [
              0.7777777777777778,
              "#fb9f3a"
             ],
             [
              0.8888888888888888,
              "#fdca26"
             ],
             [
              1,
              "#f0f921"
             ]
            ],
            "type": "contour"
           }
          ],
          "contourcarpet": [
           {
            "colorbar": {
             "outlinewidth": 0,
             "ticks": ""
            },
            "type": "contourcarpet"
           }
          ],
          "heatmap": [
           {
            "colorbar": {
             "outlinewidth": 0,
             "ticks": ""
            },
            "colorscale": [
             [
              0,
              "#0d0887"
             ],
             [
              0.1111111111111111,
              "#46039f"
             ],
             [
              0.2222222222222222,
              "#7201a8"
             ],
             [
              0.3333333333333333,
              "#9c179e"
             ],
             [
              0.4444444444444444,
              "#bd3786"
             ],
             [
              0.5555555555555556,
              "#d8576b"
             ],
             [
              0.6666666666666666,
              "#ed7953"
             ],
             [
              0.7777777777777778,
              "#fb9f3a"
             ],
             [
              0.8888888888888888,
              "#fdca26"
             ],
             [
              1,
              "#f0f921"
             ]
            ],
            "type": "heatmap"
           }
          ],
          "heatmapgl": [
           {
            "colorbar": {
             "outlinewidth": 0,
             "ticks": ""
            },
            "colorscale": [
             [
              0,
              "#0d0887"
             ],
             [
              0.1111111111111111,
              "#46039f"
             ],
             [
              0.2222222222222222,
              "#7201a8"
             ],
             [
              0.3333333333333333,
              "#9c179e"
             ],
             [
              0.4444444444444444,
              "#bd3786"
             ],
             [
              0.5555555555555556,
              "#d8576b"
             ],
             [
              0.6666666666666666,
              "#ed7953"
             ],
             [
              0.7777777777777778,
              "#fb9f3a"
             ],
             [
              0.8888888888888888,
              "#fdca26"
             ],
             [
              1,
              "#f0f921"
             ]
            ],
            "type": "heatmapgl"
           }
          ],
          "histogram": [
           {
            "marker": {
             "pattern": {
              "fillmode": "overlay",
              "size": 10,
              "solidity": 0.2
             }
            },
            "type": "histogram"
           }
          ],
          "histogram2d": [
           {
            "colorbar": {
             "outlinewidth": 0,
             "ticks": ""
            },
            "colorscale": [
             [
              0,
              "#0d0887"
             ],
             [
              0.1111111111111111,
              "#46039f"
             ],
             [
              0.2222222222222222,
              "#7201a8"
             ],
             [
              0.3333333333333333,
              "#9c179e"
             ],
             [
              0.4444444444444444,
              "#bd3786"
             ],
             [
              0.5555555555555556,
              "#d8576b"
             ],
             [
              0.6666666666666666,
              "#ed7953"
             ],
             [
              0.7777777777777778,
              "#fb9f3a"
             ],
             [
              0.8888888888888888,
              "#fdca26"
             ],
             [
              1,
              "#f0f921"
             ]
            ],
            "type": "histogram2d"
           }
          ],
          "histogram2dcontour": [
           {
            "colorbar": {
             "outlinewidth": 0,
             "ticks": ""
            },
            "colorscale": [
             [
              0,
              "#0d0887"
             ],
             [
              0.1111111111111111,
              "#46039f"
             ],
             [
              0.2222222222222222,
              "#7201a8"
             ],
             [
              0.3333333333333333,
              "#9c179e"
             ],
             [
              0.4444444444444444,
              "#bd3786"
             ],
             [
              0.5555555555555556,
              "#d8576b"
             ],
             [
              0.6666666666666666,
              "#ed7953"
             ],
             [
              0.7777777777777778,
              "#fb9f3a"
             ],
             [
              0.8888888888888888,
              "#fdca26"
             ],
             [
              1,
              "#f0f921"
             ]
            ],
            "type": "histogram2dcontour"
           }
          ],
          "mesh3d": [
           {
            "colorbar": {
             "outlinewidth": 0,
             "ticks": ""
            },
            "type": "mesh3d"
           }
          ],
          "parcoords": [
           {
            "line": {
             "colorbar": {
              "outlinewidth": 0,
              "ticks": ""
             }
            },
            "type": "parcoords"
           }
          ],
          "pie": [
           {
            "automargin": true,
            "type": "pie"
           }
          ],
          "scatter": [
           {
            "fillpattern": {
             "fillmode": "overlay",
             "size": 10,
             "solidity": 0.2
            },
            "type": "scatter"
           }
          ],
          "scatter3d": [
           {
            "line": {
             "colorbar": {
              "outlinewidth": 0,
              "ticks": ""
             }
            },
            "marker": {
             "colorbar": {
              "outlinewidth": 0,
              "ticks": ""
             }
            },
            "type": "scatter3d"
           }
          ],
          "scattercarpet": [
           {
            "marker": {
             "colorbar": {
              "outlinewidth": 0,
              "ticks": ""
             }
            },
            "type": "scattercarpet"
           }
          ],
          "scattergeo": [
           {
            "marker": {
             "colorbar": {
              "outlinewidth": 0,
              "ticks": ""
             }
            },
            "type": "scattergeo"
           }
          ],
          "scattergl": [
           {
            "marker": {
             "colorbar": {
              "outlinewidth": 0,
              "ticks": ""
             }
            },
            "type": "scattergl"
           }
          ],
          "scattermapbox": [
           {
            "marker": {
             "colorbar": {
              "outlinewidth": 0,
              "ticks": ""
             }
            },
            "type": "scattermapbox"
           }
          ],
          "scatterpolar": [
           {
            "marker": {
             "colorbar": {
              "outlinewidth": 0,
              "ticks": ""
             }
            },
            "type": "scatterpolar"
           }
          ],
          "scatterpolargl": [
           {
            "marker": {
             "colorbar": {
              "outlinewidth": 0,
              "ticks": ""
             }
            },
            "type": "scatterpolargl"
           }
          ],
          "scatterternary": [
           {
            "marker": {
             "colorbar": {
              "outlinewidth": 0,
              "ticks": ""
             }
            },
            "type": "scatterternary"
           }
          ],
          "surface": [
           {
            "colorbar": {
             "outlinewidth": 0,
             "ticks": ""
            },
            "colorscale": [
             [
              0,
              "#0d0887"
             ],
             [
              0.1111111111111111,
              "#46039f"
             ],
             [
              0.2222222222222222,
              "#7201a8"
             ],
             [
              0.3333333333333333,
              "#9c179e"
             ],
             [
              0.4444444444444444,
              "#bd3786"
             ],
             [
              0.5555555555555556,
              "#d8576b"
             ],
             [
              0.6666666666666666,
              "#ed7953"
             ],
             [
              0.7777777777777778,
              "#fb9f3a"
             ],
             [
              0.8888888888888888,
              "#fdca26"
             ],
             [
              1,
              "#f0f921"
             ]
            ],
            "type": "surface"
           }
          ],
          "table": [
           {
            "cells": {
             "fill": {
              "color": "#EBF0F8"
             },
             "line": {
              "color": "white"
             }
            },
            "header": {
             "fill": {
              "color": "#C8D4E3"
             },
             "line": {
              "color": "white"
             }
            },
            "type": "table"
           }
          ]
         },
         "layout": {
          "annotationdefaults": {
           "arrowcolor": "#2a3f5f",
           "arrowhead": 0,
           "arrowwidth": 1
          },
          "autotypenumbers": "strict",
          "coloraxis": {
           "colorbar": {
            "outlinewidth": 0,
            "ticks": ""
           }
          },
          "colorscale": {
           "diverging": [
            [
             0,
             "#8e0152"
            ],
            [
             0.1,
             "#c51b7d"
            ],
            [
             0.2,
             "#de77ae"
            ],
            [
             0.3,
             "#f1b6da"
            ],
            [
             0.4,
             "#fde0ef"
            ],
            [
             0.5,
             "#f7f7f7"
            ],
            [
             0.6,
             "#e6f5d0"
            ],
            [
             0.7,
             "#b8e186"
            ],
            [
             0.8,
             "#7fbc41"
            ],
            [
             0.9,
             "#4d9221"
            ],
            [
             1,
             "#276419"
            ]
           ],
           "sequential": [
            [
             0,
             "#0d0887"
            ],
            [
             0.1111111111111111,
             "#46039f"
            ],
            [
             0.2222222222222222,
             "#7201a8"
            ],
            [
             0.3333333333333333,
             "#9c179e"
            ],
            [
             0.4444444444444444,
             "#bd3786"
            ],
            [
             0.5555555555555556,
             "#d8576b"
            ],
            [
             0.6666666666666666,
             "#ed7953"
            ],
            [
             0.7777777777777778,
             "#fb9f3a"
            ],
            [
             0.8888888888888888,
             "#fdca26"
            ],
            [
             1,
             "#f0f921"
            ]
           ],
           "sequentialminus": [
            [
             0,
             "#0d0887"
            ],
            [
             0.1111111111111111,
             "#46039f"
            ],
            [
             0.2222222222222222,
             "#7201a8"
            ],
            [
             0.3333333333333333,
             "#9c179e"
            ],
            [
             0.4444444444444444,
             "#bd3786"
            ],
            [
             0.5555555555555556,
             "#d8576b"
            ],
            [
             0.6666666666666666,
             "#ed7953"
            ],
            [
             0.7777777777777778,
             "#fb9f3a"
            ],
            [
             0.8888888888888888,
             "#fdca26"
            ],
            [
             1,
             "#f0f921"
            ]
           ]
          },
          "colorway": [
           "#636efa",
           "#EF553B",
           "#00cc96",
           "#ab63fa",
           "#FFA15A",
           "#19d3f3",
           "#FF6692",
           "#B6E880",
           "#FF97FF",
           "#FECB52"
          ],
          "font": {
           "color": "#2a3f5f"
          },
          "geo": {
           "bgcolor": "white",
           "lakecolor": "white",
           "landcolor": "#E5ECF6",
           "showlakes": true,
           "showland": true,
           "subunitcolor": "white"
          },
          "hoverlabel": {
           "align": "left"
          },
          "hovermode": "closest",
          "mapbox": {
           "style": "light"
          },
          "paper_bgcolor": "white",
          "plot_bgcolor": "#E5ECF6",
          "polar": {
           "angularaxis": {
            "gridcolor": "white",
            "linecolor": "white",
            "ticks": ""
           },
           "bgcolor": "#E5ECF6",
           "radialaxis": {
            "gridcolor": "white",
            "linecolor": "white",
            "ticks": ""
           }
          },
          "scene": {
           "xaxis": {
            "backgroundcolor": "#E5ECF6",
            "gridcolor": "white",
            "gridwidth": 2,
            "linecolor": "white",
            "showbackground": true,
            "ticks": "",
            "zerolinecolor": "white"
           },
           "yaxis": {
            "backgroundcolor": "#E5ECF6",
            "gridcolor": "white",
            "gridwidth": 2,
            "linecolor": "white",
            "showbackground": true,
            "ticks": "",
            "zerolinecolor": "white"
           },
           "zaxis": {
            "backgroundcolor": "#E5ECF6",
            "gridcolor": "white",
            "gridwidth": 2,
            "linecolor": "white",
            "showbackground": true,
            "ticks": "",
            "zerolinecolor": "white"
           }
          },
          "shapedefaults": {
           "line": {
            "color": "#2a3f5f"
           }
          },
          "ternary": {
           "aaxis": {
            "gridcolor": "white",
            "linecolor": "white",
            "ticks": ""
           },
           "baxis": {
            "gridcolor": "white",
            "linecolor": "white",
            "ticks": ""
           },
           "bgcolor": "#E5ECF6",
           "caxis": {
            "gridcolor": "white",
            "linecolor": "white",
            "ticks": ""
           }
          },
          "title": {
           "x": 0.05
          },
          "xaxis": {
           "automargin": true,
           "gridcolor": "white",
           "linecolor": "white",
           "ticks": "",
           "title": {
            "standoff": 15
           },
           "zerolinecolor": "white",
           "zerolinewidth": 2
          },
          "yaxis": {
           "automargin": true,
           "gridcolor": "white",
           "linecolor": "white",
           "ticks": "",
           "title": {
            "standoff": 15
           },
           "zerolinecolor": "white",
           "zerolinewidth": 2
          }
         }
        },
        "width": 1200,
        "xaxis": {
         "anchor": "y",
         "domain": [
          0,
          0.2888888888888889
         ],
         "showgrid": false,
         "showticklabels": false,
         "zeroline": false
        },
        "xaxis2": {
         "anchor": "y2",
         "domain": [
          0.35555555555555557,
          0.6444444444444445
         ]
        },
        "xaxis3": {
         "anchor": "y3",
         "domain": [
          0.7111111111111111,
          1
         ]
        },
        "yaxis": {
         "anchor": "x",
         "domain": [
          0,
          1
         ],
         "showgrid": false,
         "showticklabels": false,
         "zeroline": false
        },
        "yaxis2": {
         "anchor": "x2",
         "domain": [
          0,
          1
         ]
        },
        "yaxis3": {
         "anchor": "x3",
         "domain": [
          0,
          1
         ]
        }
       }
      }
     },
     "metadata": {},
     "output_type": "display_data"
    }
   ],
   "source": [
    "# Calculate the average for each score\n",
    "average_food = reviews['food_score'].mean()\n",
    "average_service = reviews['service_score'].mean()\n",
    "average_atmosphere = reviews['atmosphere_score'].mean()\n",
    "average_reviews = (resumme_raw['stars'] * resumme_raw['reviews']).sum() / resumme_raw['reviews'].sum()\n",
    "\n",
    "# Create a figure with horizontal subplots\n",
    "fig = make_subplots(rows=1, cols=3, \n",
    "                    specs=[[{\"type\": \"xy\"}, {\"type\": \"bar\"}, {\"type\": \"bar\"}]], \n",
    "                    subplot_titles=(\"Average Score\", \"Number of Reviews\", \"Categories\"))\n",
    "\n",
    "# First subplot: Display the average review as large text\n",
    "fig.add_trace(\n",
    "    go.Scatter(x=[0], y=[0], text=[f\"{average_reviews:.2f}\"], mode=\"text\", textfont=dict(size=120)),\n",
    "    row=1, col=1\n",
    ")\n",
    "\n",
    "fig.update_xaxes(showgrid=False, zeroline=False, showticklabels=False, row=1, col=1)\n",
    "fig.update_yaxes(showgrid=False, zeroline=False, showticklabels=False, row=1, col=1)\n",
    "\n",
    "\n",
    "# Second subplot: Bar plot for reviews\n",
    "fig.add_trace(\n",
    "    go.Bar(x=resumme_raw['reviews'], y=resumme_raw['stars'], marker=dict(color='lightskyblue'),\n",
    "           text=resumme_raw['reviews'], textposition='auto', name=\"Reviews\", orientation='h'),\n",
    "    row=1, col=2\n",
    ")\n",
    "\n",
    "# Third subplot: Bar plot for categories (Food, Service, Atmosphere)\n",
    "fig.add_trace(\n",
    "    go.Bar(x=[average_food, average_service, average_atmosphere], \n",
    "           y=['Food', 'Service', 'Atmosphere'], \n",
    "           marker=dict(color='lightgreen'), \n",
    "           text=[f\"{average_food:.2f}\", f\"{average_service:.2f}\", f\"{average_atmosphere:.2f}\"], \n",
    "           textposition='auto', \n",
    "           orientation='h', \n",
    "           name=\"Categories\"),\n",
    "    row=1, col=3\n",
    ")\n",
    "\n",
    "# Update layout\n",
    "fig.update_layout(height=500, width=1200,  plot_bgcolor=\"white\", paper_bgcolor=\"white\", showlegend=False)\n",
    "\n",
    "# Show the plot\n",
    "fig.show()"
   ]
  },
  {
   "cell_type": "code",
   "execution_count": 6,
   "metadata": {},
   "outputs": [
    {
     "data": {
      "application/vnd.plotly.v1+json": {
       "config": {
        "plotlyServerURL": "https://plot.ly"
       },
       "data": [
        {
         "hoverinfo": "text",
         "line": {
          "color": "#1f77b4"
         },
         "marker": {
          "size": 8
         },
         "mode": "lines+markers",
         "name": "Rating",
         "text": [
          "Rating - 4.55",
          "Rating - 4.75",
          "Rating - 4.55",
          "Rating - 4.12",
          "Rating - 4.08",
          "Rating - 4.43",
          "Rating - 4.56",
          "Rating - 4.89",
          "Rating - 4.38",
          "Rating - 4.00",
          "Rating - 4.37"
         ],
         "type": "scatter",
         "x": [
          "2023-11",
          "2023-12",
          "2024-01",
          "2024-02",
          "2024-03",
          "2024-04",
          "2024-05",
          "2024-06",
          "2024-07",
          "2024-08",
          "2024-09"
         ],
         "xaxis": "x",
         "y": [
          4.545454545454546,
          4.75,
          4.545454545454546,
          4.125,
          4.076923076923077,
          4.428571428571429,
          4.5625,
          4.888888888888889,
          4.375,
          4,
          4.368421052631579
         ],
         "yaxis": "y"
        },
        {
         "hoverinfo": "text",
         "line": {
          "color": "#aec7e8"
         },
         "mode": "lines+markers",
         "name": "Food",
         "text": [
          "Food - 4.11",
          "Food - 4.75",
          "Food - 4.67",
          "Food - 4.25",
          "Food - 4.09",
          "Food - 4.80",
          "Food - 4.48",
          "Food - 4.88",
          "Food - 4.23",
          "Food - 4.07",
          "Food - 4.50"
         ],
         "type": "scatter",
         "x": [
          "2023-11",
          "2023-12",
          "2024-01",
          "2024-02",
          "2024-03",
          "2024-04",
          "2024-05",
          "2024-06",
          "2024-07",
          "2024-08",
          "2024-09"
         ],
         "xaxis": "x",
         "y": [
          4.111111111111111,
          4.75,
          4.666666666666667,
          4.25,
          4.090909090909091,
          4.8,
          4.481481481481482,
          4.875,
          4.230769230769231,
          4.066666666666666,
          4.5
         ],
         "yaxis": "y"
        },
        {
         "hoverinfo": "text",
         "line": {
          "color": "#aec7e8"
         },
         "mode": "lines+markers",
         "name": "Service",
         "text": [
          "Service - 4.60",
          "Service - 4.50",
          "Service - 4.83",
          "Service - 4.38",
          "Service - 4.36",
          "Service - 4.60",
          "Service - 4.71",
          "Service - 4.88",
          "Service - 4.46",
          "Service - 4.38",
          "Service - 4.53"
         ],
         "type": "scatter",
         "x": [
          "2023-11",
          "2023-12",
          "2024-01",
          "2024-02",
          "2024-03",
          "2024-04",
          "2024-05",
          "2024-06",
          "2024-07",
          "2024-08",
          "2024-09"
         ],
         "xaxis": "x",
         "y": [
          4.6,
          4.5,
          4.833333333333333,
          4.375,
          4.363636363636363,
          4.6,
          4.714285714285714,
          4.875,
          4.461538461538462,
          4.375,
          4.529411764705882
         ],
         "yaxis": "y"
        },
        {
         "hoverinfo": "text",
         "line": {
          "color": "#aec7e8"
         },
         "mode": "lines+markers",
         "name": "Atmosphere",
         "text": [
          "Atmosphere - 4.10",
          "Atmosphere - 4.62",
          "Atmosphere - 4.67",
          "Atmosphere - 4.25",
          "Atmosphere - 4.09",
          "Atmosphere - 5.00",
          "Atmosphere - 4.59",
          "Atmosphere - 5.00",
          "Atmosphere - 4.46",
          "Atmosphere - 4.19",
          "Atmosphere - 4.71"
         ],
         "type": "scatter",
         "x": [
          "2023-11",
          "2023-12",
          "2024-01",
          "2024-02",
          "2024-03",
          "2024-04",
          "2024-05",
          "2024-06",
          "2024-07",
          "2024-08",
          "2024-09"
         ],
         "xaxis": "x",
         "y": [
          4.1,
          4.625,
          4.666666666666667,
          4.25,
          4.090909090909091,
          5,
          4.592592592592593,
          5,
          4.461538461538462,
          4.1875,
          4.705882352941177
         ],
         "yaxis": "y"
        },
        {
         "hoverinfo": "text",
         "line": {
          "color": "#1f77b4",
          "width": 4
         },
         "marker": {
          "size": 8
         },
         "mode": "lines+markers",
         "name": "Rating",
         "text": [
          "Rating - 4.29",
          "Rating - 4.32",
          "Rating - 4.73",
          "Rating - 4.23",
          "Rating - 4.19",
          "Rating - 4.34",
          "Rating - 4.23",
          "Rating - 4.38"
         ],
         "type": "scatter",
         "x": [
          "2017.0",
          "2018.0",
          "2019.0",
          "2020.0",
          "2021.0",
          "2022.0",
          "2023.0",
          "2024.0"
         ],
         "xaxis": "x2",
         "y": [
          4.294117647058823,
          4.32,
          4.730769230769231,
          4.230769230769231,
          4.1875,
          4.3428571428571425,
          4.227848101265823,
          4.37593984962406
         ],
         "yaxis": "y2"
        },
        {
         "hoverinfo": "text",
         "line": {
          "color": "#1f77b4"
         },
         "marker": {
          "size": 8
         },
         "mode": "lines+markers",
         "name": "Rating",
         "text": [
          "Rating - 5.00",
          "Rating - 3.75",
          "Rating - 3.25"
         ],
         "type": "scatter",
         "x": [
          "2024-09-02",
          "2024-09-09",
          "2024-09-16"
         ],
         "xaxis": "x3",
         "y": [
          5,
          3.75,
          3.25
         ],
         "yaxis": "y3"
        },
        {
         "hoverinfo": "text",
         "line": {
          "color": "#aec7e8"
         },
         "mode": "lines+markers",
         "name": "Food",
         "text": [
          "Food - 5.00",
          "Food - 3.50",
          "Food - 4.33"
         ],
         "type": "scatter",
         "x": [
          "2024-09-02",
          "2024-09-09",
          "2024-09-16"
         ],
         "xaxis": "x3",
         "y": [
          5,
          3.5,
          4.333333333333333
         ],
         "yaxis": "y3"
        },
        {
         "hoverinfo": "text",
         "line": {
          "color": "#aec7e8"
         },
         "mode": "lines+markers",
         "name": "Service",
         "text": [
          "Service - 4.90",
          "Service - 4.25",
          "Service - 3.67"
         ],
         "type": "scatter",
         "x": [
          "2024-09-02",
          "2024-09-09",
          "2024-09-16"
         ],
         "xaxis": "x3",
         "y": [
          4.9,
          4.25,
          3.6666666666666665
         ],
         "yaxis": "y3"
        },
        {
         "hoverinfo": "text",
         "line": {
          "color": "#aec7e8"
         },
         "mode": "lines+markers",
         "name": "Atmosphere",
         "text": [
          "Atmosphere - 4.90",
          "Atmosphere - 4.75",
          "Atmosphere - 4.00"
         ],
         "type": "scatter",
         "x": [
          "2024-09-02",
          "2024-09-09",
          "2024-09-16"
         ],
         "xaxis": "x3",
         "y": [
          4.9,
          4.75,
          4
         ],
         "yaxis": "y3"
        }
       ],
       "layout": {
        "annotations": [
         {
          "font": {
           "size": 16
          },
          "showarrow": false,
          "text": "Monthly Score Trends (Last 12 Months)",
          "x": 0.5,
          "xanchor": "center",
          "xref": "paper",
          "y": 1,
          "yanchor": "bottom",
          "yref": "paper"
         },
         {
          "font": {
           "size": 16
          },
          "showarrow": false,
          "text": "Annual Rating Score Trends (Last 6 Years)",
          "x": 0.225,
          "xanchor": "center",
          "xref": "paper",
          "y": 0.375,
          "yanchor": "bottom",
          "yref": "paper"
         },
         {
          "font": {
           "size": 16
          },
          "showarrow": false,
          "text": "Weekly Score Trends (Last 4 Weeks)",
          "x": 0.775,
          "xanchor": "center",
          "xref": "paper",
          "y": 0.375,
          "yanchor": "bottom",
          "yref": "paper"
         },
         {
          "arrowhead": 2,
          "ax": 0,
          "ay": 80,
          "font": {
           "size": 14
          },
          "showarrow": true,
          "text": "Highest Score",
          "x": "2024-06",
          "xref": "x",
          "y": 4.8,
          "yref": "y"
         },
         {
          "arrowhead": 2,
          "ax": 0,
          "ay": -40,
          "font": {
           "size": 14
          },
          "showarrow": true,
          "text": "Drop in March",
          "x": "2024-03",
          "xref": "x",
          "y": 4.5,
          "yref": "y"
         },
         {
          "arrowhead": 2,
          "ax": 0,
          "ay": -40,
          "font": {
           "size": 14
          },
          "showarrow": true,
          "text": "Drop in August",
          "x": "2024-08",
          "xref": "x",
          "y": 4.5,
          "yref": "y"
         }
        ],
        "height": 800,
        "margin": {
         "b": 50,
         "l": 50,
         "r": 50,
         "t": 100
        },
        "paper_bgcolor": "white",
        "showlegend": false,
        "template": {
         "data": {
          "bar": [
           {
            "error_x": {
             "color": "#2a3f5f"
            },
            "error_y": {
             "color": "#2a3f5f"
            },
            "marker": {
             "line": {
              "color": "#E5ECF6",
              "width": 0.5
             },
             "pattern": {
              "fillmode": "overlay",
              "size": 10,
              "solidity": 0.2
             }
            },
            "type": "bar"
           }
          ],
          "barpolar": [
           {
            "marker": {
             "line": {
              "color": "#E5ECF6",
              "width": 0.5
             },
             "pattern": {
              "fillmode": "overlay",
              "size": 10,
              "solidity": 0.2
             }
            },
            "type": "barpolar"
           }
          ],
          "carpet": [
           {
            "aaxis": {
             "endlinecolor": "#2a3f5f",
             "gridcolor": "white",
             "linecolor": "white",
             "minorgridcolor": "white",
             "startlinecolor": "#2a3f5f"
            },
            "baxis": {
             "endlinecolor": "#2a3f5f",
             "gridcolor": "white",
             "linecolor": "white",
             "minorgridcolor": "white",
             "startlinecolor": "#2a3f5f"
            },
            "type": "carpet"
           }
          ],
          "choropleth": [
           {
            "colorbar": {
             "outlinewidth": 0,
             "ticks": ""
            },
            "type": "choropleth"
           }
          ],
          "contour": [
           {
            "colorbar": {
             "outlinewidth": 0,
             "ticks": ""
            },
            "colorscale": [
             [
              0,
              "#0d0887"
             ],
             [
              0.1111111111111111,
              "#46039f"
             ],
             [
              0.2222222222222222,
              "#7201a8"
             ],
             [
              0.3333333333333333,
              "#9c179e"
             ],
             [
              0.4444444444444444,
              "#bd3786"
             ],
             [
              0.5555555555555556,
              "#d8576b"
             ],
             [
              0.6666666666666666,
              "#ed7953"
             ],
             [
              0.7777777777777778,
              "#fb9f3a"
             ],
             [
              0.8888888888888888,
              "#fdca26"
             ],
             [
              1,
              "#f0f921"
             ]
            ],
            "type": "contour"
           }
          ],
          "contourcarpet": [
           {
            "colorbar": {
             "outlinewidth": 0,
             "ticks": ""
            },
            "type": "contourcarpet"
           }
          ],
          "heatmap": [
           {
            "colorbar": {
             "outlinewidth": 0,
             "ticks": ""
            },
            "colorscale": [
             [
              0,
              "#0d0887"
             ],
             [
              0.1111111111111111,
              "#46039f"
             ],
             [
              0.2222222222222222,
              "#7201a8"
             ],
             [
              0.3333333333333333,
              "#9c179e"
             ],
             [
              0.4444444444444444,
              "#bd3786"
             ],
             [
              0.5555555555555556,
              "#d8576b"
             ],
             [
              0.6666666666666666,
              "#ed7953"
             ],
             [
              0.7777777777777778,
              "#fb9f3a"
             ],
             [
              0.8888888888888888,
              "#fdca26"
             ],
             [
              1,
              "#f0f921"
             ]
            ],
            "type": "heatmap"
           }
          ],
          "heatmapgl": [
           {
            "colorbar": {
             "outlinewidth": 0,
             "ticks": ""
            },
            "colorscale": [
             [
              0,
              "#0d0887"
             ],
             [
              0.1111111111111111,
              "#46039f"
             ],
             [
              0.2222222222222222,
              "#7201a8"
             ],
             [
              0.3333333333333333,
              "#9c179e"
             ],
             [
              0.4444444444444444,
              "#bd3786"
             ],
             [
              0.5555555555555556,
              "#d8576b"
             ],
             [
              0.6666666666666666,
              "#ed7953"
             ],
             [
              0.7777777777777778,
              "#fb9f3a"
             ],
             [
              0.8888888888888888,
              "#fdca26"
             ],
             [
              1,
              "#f0f921"
             ]
            ],
            "type": "heatmapgl"
           }
          ],
          "histogram": [
           {
            "marker": {
             "pattern": {
              "fillmode": "overlay",
              "size": 10,
              "solidity": 0.2
             }
            },
            "type": "histogram"
           }
          ],
          "histogram2d": [
           {
            "colorbar": {
             "outlinewidth": 0,
             "ticks": ""
            },
            "colorscale": [
             [
              0,
              "#0d0887"
             ],
             [
              0.1111111111111111,
              "#46039f"
             ],
             [
              0.2222222222222222,
              "#7201a8"
             ],
             [
              0.3333333333333333,
              "#9c179e"
             ],
             [
              0.4444444444444444,
              "#bd3786"
             ],
             [
              0.5555555555555556,
              "#d8576b"
             ],
             [
              0.6666666666666666,
              "#ed7953"
             ],
             [
              0.7777777777777778,
              "#fb9f3a"
             ],
             [
              0.8888888888888888,
              "#fdca26"
             ],
             [
              1,
              "#f0f921"
             ]
            ],
            "type": "histogram2d"
           }
          ],
          "histogram2dcontour": [
           {
            "colorbar": {
             "outlinewidth": 0,
             "ticks": ""
            },
            "colorscale": [
             [
              0,
              "#0d0887"
             ],
             [
              0.1111111111111111,
              "#46039f"
             ],
             [
              0.2222222222222222,
              "#7201a8"
             ],
             [
              0.3333333333333333,
              "#9c179e"
             ],
             [
              0.4444444444444444,
              "#bd3786"
             ],
             [
              0.5555555555555556,
              "#d8576b"
             ],
             [
              0.6666666666666666,
              "#ed7953"
             ],
             [
              0.7777777777777778,
              "#fb9f3a"
             ],
             [
              0.8888888888888888,
              "#fdca26"
             ],
             [
              1,
              "#f0f921"
             ]
            ],
            "type": "histogram2dcontour"
           }
          ],
          "mesh3d": [
           {
            "colorbar": {
             "outlinewidth": 0,
             "ticks": ""
            },
            "type": "mesh3d"
           }
          ],
          "parcoords": [
           {
            "line": {
             "colorbar": {
              "outlinewidth": 0,
              "ticks": ""
             }
            },
            "type": "parcoords"
           }
          ],
          "pie": [
           {
            "automargin": true,
            "type": "pie"
           }
          ],
          "scatter": [
           {
            "fillpattern": {
             "fillmode": "overlay",
             "size": 10,
             "solidity": 0.2
            },
            "type": "scatter"
           }
          ],
          "scatter3d": [
           {
            "line": {
             "colorbar": {
              "outlinewidth": 0,
              "ticks": ""
             }
            },
            "marker": {
             "colorbar": {
              "outlinewidth": 0,
              "ticks": ""
             }
            },
            "type": "scatter3d"
           }
          ],
          "scattercarpet": [
           {
            "marker": {
             "colorbar": {
              "outlinewidth": 0,
              "ticks": ""
             }
            },
            "type": "scattercarpet"
           }
          ],
          "scattergeo": [
           {
            "marker": {
             "colorbar": {
              "outlinewidth": 0,
              "ticks": ""
             }
            },
            "type": "scattergeo"
           }
          ],
          "scattergl": [
           {
            "marker": {
             "colorbar": {
              "outlinewidth": 0,
              "ticks": ""
             }
            },
            "type": "scattergl"
           }
          ],
          "scattermapbox": [
           {
            "marker": {
             "colorbar": {
              "outlinewidth": 0,
              "ticks": ""
             }
            },
            "type": "scattermapbox"
           }
          ],
          "scatterpolar": [
           {
            "marker": {
             "colorbar": {
              "outlinewidth": 0,
              "ticks": ""
             }
            },
            "type": "scatterpolar"
           }
          ],
          "scatterpolargl": [
           {
            "marker": {
             "colorbar": {
              "outlinewidth": 0,
              "ticks": ""
             }
            },
            "type": "scatterpolargl"
           }
          ],
          "scatterternary": [
           {
            "marker": {
             "colorbar": {
              "outlinewidth": 0,
              "ticks": ""
             }
            },
            "type": "scatterternary"
           }
          ],
          "surface": [
           {
            "colorbar": {
             "outlinewidth": 0,
             "ticks": ""
            },
            "colorscale": [
             [
              0,
              "#0d0887"
             ],
             [
              0.1111111111111111,
              "#46039f"
             ],
             [
              0.2222222222222222,
              "#7201a8"
             ],
             [
              0.3333333333333333,
              "#9c179e"
             ],
             [
              0.4444444444444444,
              "#bd3786"
             ],
             [
              0.5555555555555556,
              "#d8576b"
             ],
             [
              0.6666666666666666,
              "#ed7953"
             ],
             [
              0.7777777777777778,
              "#fb9f3a"
             ],
             [
              0.8888888888888888,
              "#fdca26"
             ],
             [
              1,
              "#f0f921"
             ]
            ],
            "type": "surface"
           }
          ],
          "table": [
           {
            "cells": {
             "fill": {
              "color": "#EBF0F8"
             },
             "line": {
              "color": "white"
             }
            },
            "header": {
             "fill": {
              "color": "#C8D4E3"
             },
             "line": {
              "color": "white"
             }
            },
            "type": "table"
           }
          ]
         },
         "layout": {
          "annotationdefaults": {
           "arrowcolor": "#2a3f5f",
           "arrowhead": 0,
           "arrowwidth": 1
          },
          "autotypenumbers": "strict",
          "coloraxis": {
           "colorbar": {
            "outlinewidth": 0,
            "ticks": ""
           }
          },
          "colorscale": {
           "diverging": [
            [
             0,
             "#8e0152"
            ],
            [
             0.1,
             "#c51b7d"
            ],
            [
             0.2,
             "#de77ae"
            ],
            [
             0.3,
             "#f1b6da"
            ],
            [
             0.4,
             "#fde0ef"
            ],
            [
             0.5,
             "#f7f7f7"
            ],
            [
             0.6,
             "#e6f5d0"
            ],
            [
             0.7,
             "#b8e186"
            ],
            [
             0.8,
             "#7fbc41"
            ],
            [
             0.9,
             "#4d9221"
            ],
            [
             1,
             "#276419"
            ]
           ],
           "sequential": [
            [
             0,
             "#0d0887"
            ],
            [
             0.1111111111111111,
             "#46039f"
            ],
            [
             0.2222222222222222,
             "#7201a8"
            ],
            [
             0.3333333333333333,
             "#9c179e"
            ],
            [
             0.4444444444444444,
             "#bd3786"
            ],
            [
             0.5555555555555556,
             "#d8576b"
            ],
            [
             0.6666666666666666,
             "#ed7953"
            ],
            [
             0.7777777777777778,
             "#fb9f3a"
            ],
            [
             0.8888888888888888,
             "#fdca26"
            ],
            [
             1,
             "#f0f921"
            ]
           ],
           "sequentialminus": [
            [
             0,
             "#0d0887"
            ],
            [
             0.1111111111111111,
             "#46039f"
            ],
            [
             0.2222222222222222,
             "#7201a8"
            ],
            [
             0.3333333333333333,
             "#9c179e"
            ],
            [
             0.4444444444444444,
             "#bd3786"
            ],
            [
             0.5555555555555556,
             "#d8576b"
            ],
            [
             0.6666666666666666,
             "#ed7953"
            ],
            [
             0.7777777777777778,
             "#fb9f3a"
            ],
            [
             0.8888888888888888,
             "#fdca26"
            ],
            [
             1,
             "#f0f921"
            ]
           ]
          },
          "colorway": [
           "#636efa",
           "#EF553B",
           "#00cc96",
           "#ab63fa",
           "#FFA15A",
           "#19d3f3",
           "#FF6692",
           "#B6E880",
           "#FF97FF",
           "#FECB52"
          ],
          "font": {
           "color": "#2a3f5f"
          },
          "geo": {
           "bgcolor": "white",
           "lakecolor": "white",
           "landcolor": "#E5ECF6",
           "showlakes": true,
           "showland": true,
           "subunitcolor": "white"
          },
          "hoverlabel": {
           "align": "left"
          },
          "hovermode": "closest",
          "mapbox": {
           "style": "light"
          },
          "paper_bgcolor": "white",
          "plot_bgcolor": "#E5ECF6",
          "polar": {
           "angularaxis": {
            "gridcolor": "white",
            "linecolor": "white",
            "ticks": ""
           },
           "bgcolor": "#E5ECF6",
           "radialaxis": {
            "gridcolor": "white",
            "linecolor": "white",
            "ticks": ""
           }
          },
          "scene": {
           "xaxis": {
            "backgroundcolor": "#E5ECF6",
            "gridcolor": "white",
            "gridwidth": 2,
            "linecolor": "white",
            "showbackground": true,
            "ticks": "",
            "zerolinecolor": "white"
           },
           "yaxis": {
            "backgroundcolor": "#E5ECF6",
            "gridcolor": "white",
            "gridwidth": 2,
            "linecolor": "white",
            "showbackground": true,
            "ticks": "",
            "zerolinecolor": "white"
           },
           "zaxis": {
            "backgroundcolor": "#E5ECF6",
            "gridcolor": "white",
            "gridwidth": 2,
            "linecolor": "white",
            "showbackground": true,
            "ticks": "",
            "zerolinecolor": "white"
           }
          },
          "shapedefaults": {
           "line": {
            "color": "#2a3f5f"
           }
          },
          "ternary": {
           "aaxis": {
            "gridcolor": "white",
            "linecolor": "white",
            "ticks": ""
           },
           "baxis": {
            "gridcolor": "white",
            "linecolor": "white",
            "ticks": ""
           },
           "bgcolor": "#E5ECF6",
           "caxis": {
            "gridcolor": "white",
            "linecolor": "white",
            "ticks": ""
           }
          },
          "title": {
           "x": 0.05
          },
          "xaxis": {
           "automargin": true,
           "gridcolor": "white",
           "linecolor": "white",
           "ticks": "",
           "title": {
            "standoff": 15
           },
           "zerolinecolor": "white",
           "zerolinewidth": 2
          },
          "yaxis": {
           "automargin": true,
           "gridcolor": "white",
           "linecolor": "white",
           "ticks": "",
           "title": {
            "standoff": 15
           },
           "zerolinecolor": "white",
           "zerolinewidth": 2
          }
         }
        },
        "title": {
         "font": {
          "size": 28
         },
         "text": "Score Trends Analysis"
        },
        "width": 1200,
        "xaxis": {
         "anchor": "y",
         "domain": [
          0,
          1
         ],
         "showgrid": false,
         "showline": false
        },
        "xaxis2": {
         "anchor": "y2",
         "domain": [
          0,
          0.45
         ],
         "showgrid": false,
         "showline": false,
         "tickformat": "%Y"
        },
        "xaxis3": {
         "anchor": "y3",
         "domain": [
          0.55,
          1
         ],
         "showgrid": false,
         "showline": false,
         "tickformat": "%d-%b"
        },
        "yaxis": {
         "anchor": "x",
         "domain": [
          0.625,
          1
         ],
         "showgrid": true,
         "showline": false
        },
        "yaxis2": {
         "anchor": "x2",
         "domain": [
          0,
          0.375
         ],
         "showgrid": true,
         "showline": false
        },
        "yaxis3": {
         "anchor": "x3",
         "domain": [
          0,
          0.375
         ],
         "showgrid": true,
         "showline": false
        }
       }
      }
     },
     "metadata": {},
     "output_type": "display_data"
    }
   ],
   "source": [
    "# Convert date column to datetime format\n",
    "reviews['date'] = pd.to_datetime(reviews['date'], errors='coerce')\n",
    "reviews['month'] = reviews['date'].dt.to_period('M')\n",
    "reviews['year'] = reviews['date'].dt.year\n",
    "reviews['week'] = reviews['date'].dt.to_period('W')\n",
    "reviews['week'] = reviews['date'] - pd.to_timedelta(reviews['date'].dt.weekday, unit='d')\n",
    "reviews['week'] = reviews['week'].dt.strftime('%Y-%m-%d')\n",
    "\n",
    "# Filter data for the last periods (months, years, weeks)\n",
    "last_months = reviews[reviews['date'] >= pd.to_datetime('today') - pd.DateOffset(months=12)]\n",
    "last_years = reviews[reviews['date'] >= pd.to_datetime('today') - pd.DateOffset(years=8)]\n",
    "last_weeks = reviews[reviews['date'] >= pd.to_datetime('today') - pd.DateOffset(weeks=5)]\n",
    "\n",
    "# Compute averages for the required periods\n",
    "monthly_avg_scores = last_months.groupby('month')[['rating_score', 'food_score', 'service_score', 'atmosphere_score']].mean()\n",
    "yearly_avg_scores = last_years.groupby('year')[['rating_score']].mean()\n",
    "weekly_avg_scores = last_weeks.groupby('week')[['rating_score', 'food_score', 'service_score', 'atmosphere_score']].mean()\n",
    "\n",
    "# Update the axis labels for each score to be more readable\n",
    "label_mapping = {\n",
    "    'rating_score': 'Rating',\n",
    "    'food_score': 'Food',\n",
    "    'service_score': 'Service',\n",
    "    'atmosphere_score': 'Atmosphere'\n",
    "}\n",
    "\n",
    "# Create a figure with subplots using the Z-layout\n",
    "fig = make_subplots(rows=2, cols=2,\n",
    "                    specs=[[{\"colspan\": 2}, None],\n",
    "                           [{}, {}]],  # 1 large plot on the first row, 2 smaller plots on the second\n",
    "                    subplot_titles=(\"Monthly Score Trends (Last 12 Months)\", \n",
    "                                    \"Annual Rating Score Trends (Last 6 Years)\", \n",
    "                                    \"Weekly Score Trends (Last 4 Weeks)\"))\n",
    "\n",
    "# Add monthly score trends to the first row (rating_score in stronger color)\n",
    "colors = ['#1f77b4', '#aec7e8', '#aec7e8', '#aec7e8']  # Same tonal range, rating_score stronger\n",
    "for i, column in enumerate(monthly_avg_scores.columns):\n",
    "    label = label_mapping[column]  # Get the readable label\n",
    "    fig.add_trace(\n",
    "        go.Scatter(x=monthly_avg_scores.index.astype(str), y=monthly_avg_scores[column],\n",
    "                   mode='lines+markers', name=label, \n",
    "                   text=[f\"{label} - {val:.2f}\" for val in monthly_avg_scores[column]], \n",
    "                   hoverinfo=\"text\", line=dict(color=colors[i])),\n",
    "        row=1, col=1)\n",
    "\n",
    "# Add yearly score trends to the second row (left)\n",
    "fig.add_trace(\n",
    "    go.Scatter(x=yearly_avg_scores.index.astype(str), y=yearly_avg_scores['rating_score'],\n",
    "               mode='lines+markers', name=\"Rating\", line=dict(color='#1f77b4', width=4),\n",
    "               text=[f\"Rating - {val:.2f}\" for val in yearly_avg_scores['rating_score']], \n",
    "               hoverinfo=\"text\"),\n",
    "    row=2, col=1)\n",
    "\n",
    "# Add weekly score trends to the second row (right, weaker colors)\n",
    "for i, column in enumerate(weekly_avg_scores.columns):\n",
    "    label = label_mapping[column]  # Get the readable label\n",
    "    fig.add_trace(\n",
    "        go.Scatter(x=weekly_avg_scores.index.astype(str), y=weekly_avg_scores[column],\n",
    "                   mode='lines+markers', name=label, \n",
    "                   text=[f\"{label} - {val:.2f}\" for val in weekly_avg_scores[column]], \n",
    "                   hoverinfo=\"text\", line=dict(color=colors[i])),\n",
    "        row=2, col=2)\n",
    "\n",
    "# Enhance presentation: remove gridlines and borders, increase size, and remove legend\n",
    "fig.update_layout(showlegend=False, \n",
    "                  title=\"Score Trends Analysis\",\n",
    "                  title_font=dict(size=28),\n",
    "                  margin=dict(l=50, r=50, t=100, b=50),\n",
    "                  paper_bgcolor=\"white\",\n",
    "                  height=800, width=1200)\n",
    "\n",
    "# Remove unnecessary gridlines for a cleaner look\n",
    "fig.update_xaxes(showline=False, showgrid=False)\n",
    "fig.update_yaxes(showline=False, showgrid=True)\n",
    "\n",
    "# Customize x-axes formatting: show only the year for yearly data, and only day and month for weekly data\n",
    "fig.update_xaxes(\n",
    "    tickformat=\"%Y\",  # Only show the year for the yearly graph\n",
    "    row=2, col=1\n",
    ")\n",
    "\n",
    "fig.update_xaxes(\n",
    "    tickformat=\"%d-%b\",  # Show only the day and month for weekly graph\n",
    "    row=2, col=2\n",
    ")\n",
    "\n",
    "# Add annotations to highlight key points\n",
    "fig.add_annotation(x='2024-06', y=4.8, \n",
    "                   text=\"Highest Score\", \n",
    "                   showarrow=True, arrowhead=2,\n",
    "                   ax=0, ay=80, row=1, col=1, font=dict(size=14))\n",
    "\n",
    "fig.add_annotation(x='2024-03', y=4.5, \n",
    "                   text=\"Drop in March\", \n",
    "                   showarrow=True, arrowhead=2,\n",
    "                   ax=0, ay=-40, row=1, col=1, font=dict(size=14))\n",
    "\n",
    "fig.add_annotation(x='2024-08', y=4.5, \n",
    "                   text=\"Drop in August\", \n",
    "                   showarrow=True, arrowhead=2,\n",
    "                   ax=0, ay=-40, row=1, col=1, font=dict(size=14))\n",
    "\n",
    "# Improve line aesthetics (rating score with more prominence)\n",
    "fig.update_traces(marker=dict(size=8), selector=dict(name=\"Rating\"))\n",
    "\n",
    "# Display the interactive plot\n",
    "fig.show()\n"
   ]
  },
  {
   "cell_type": "markdown",
   "metadata": {},
   "source": [
    "### Cleaning and preprocessing"
   ]
  },
  {
   "cell_type": "code",
   "execution_count": 11,
   "metadata": {},
   "outputs": [
    {
     "name": "stderr",
     "output_type": "stream",
     "text": [
      "[nltk_data] Downloading package stopwords to\n",
      "[nltk_data]     /Users/jobandtalent/nltk_data...\n",
      "[nltk_data]   Package stopwords is already up-to-date!\n",
      "[nltk_data] Downloading package vader_lexicon to\n",
      "[nltk_data]     /Users/jobandtalent/nltk_data...\n",
      "[nltk_data]   Package vader_lexicon is already up-to-date!\n"
     ]
    }
   ],
   "source": [
    "import nltk\n",
    "from nltk.corpus import stopwords\n",
    "from nltk.sentiment.vader import SentimentIntensityAnalyzer\n",
    "import spacy\n",
    "from sklearn.feature_extraction.text import CountVectorizer\n",
    "from collections import Counter\n",
    "\n",
    "from tqdm import tqdm\n",
    "\n",
    "# Download NLTK stopwords and lexicon\n",
    "nltk.download('stopwords')\n",
    "nltk.download('vader_lexicon')\n",
    "\n",
    "# Load spaCy Spanish model\n",
    "nlp = spacy.load('es_core_news_sm')"
   ]
  },
  {
   "cell_type": "code",
   "execution_count": 5,
   "metadata": {},
   "outputs": [],
   "source": [
    "# Clean text, stopworks and tokenize words\n",
    "def clean_text(text):\n",
    "    text = text.lower()\n",
    "    text = re.sub(r'[^a-záéíóúñü0-9\\s]', '', text)\n",
    "    doc = nlp(text)\n",
    "    stop_words = set(stopwords.words('spanish'))\n",
    "    tokens = [token.lemma_ for token in doc \n",
    "              if token.text not in stop_words and not token.is_punct and not token.is_space]\n",
    "    return ' '.join(tokens)"
   ]
  },
  {
   "cell_type": "code",
   "execution_count": 6,
   "metadata": {},
   "outputs": [
    {
     "name": "stderr",
     "output_type": "stream",
     "text": [
      "Cleaning Reviews: 100%|██████████| 360/360 [00:02<00:00, 154.30it/s]\n"
     ]
    },
    {
     "data": {
      "text/html": [
       "<div>\n",
       "<style scoped>\n",
       "    .dataframe tbody tr th:only-of-type {\n",
       "        vertical-align: middle;\n",
       "    }\n",
       "\n",
       "    .dataframe tbody tr th {\n",
       "        vertical-align: top;\n",
       "    }\n",
       "\n",
       "    .dataframe thead th {\n",
       "        text-align: right;\n",
       "    }\n",
       "</style>\n",
       "<table border=\"1\" class=\"dataframe\">\n",
       "  <thead>\n",
       "    <tr style=\"text-align: right;\">\n",
       "      <th></th>\n",
       "      <th>review</th>\n",
       "      <th>cleaned_review</th>\n",
       "    </tr>\n",
       "  </thead>\n",
       "  <tbody>\n",
       "    <tr>\n",
       "      <th>143</th>\n",
       "      <td>La hamburguesa italiana de las mejores q he pr...</td>\n",
       "      <td>hamburguesa italiano mejor q probar precio raz...</td>\n",
       "    </tr>\n",
       "    <tr>\n",
       "      <th>25</th>\n",
       "      <td>Cafetería emblemática madrileña abierta por lo...</td>\n",
       "      <td>cafetería emblemático madrileño abierto herman...</td>\n",
       "    </tr>\n",
       "    <tr>\n",
       "      <th>117</th>\n",
       "      <td>UN LOCAL CON AIRE OCHENTERO DONDE EL SERVICIO,...</td>\n",
       "      <td>local aire ochentero servicio calidad variedad...</td>\n",
       "    </tr>\n",
       "    <tr>\n",
       "      <th>12</th>\n",
       "      <td>Fui por casualidad con unos amigos... me encan...</td>\n",
       "      <td>casualidad amigo encantar hamburguesa espectác...</td>\n",
       "    </tr>\n",
       "    <tr>\n",
       "      <th>13</th>\n",
       "      <td>Un clásico en la zona de Chamberí.\\n\\nPROS: la...</td>\n",
       "      <td>clásico zona chamberir pro hamburguesa genial ...</td>\n",
       "    </tr>\n",
       "  </tbody>\n",
       "</table>\n",
       "</div>"
      ],
      "text/plain": [
       "                                                review  \\\n",
       "143  La hamburguesa italiana de las mejores q he pr...   \n",
       "25   Cafetería emblemática madrileña abierta por lo...   \n",
       "117  UN LOCAL CON AIRE OCHENTERO DONDE EL SERVICIO,...   \n",
       "12   Fui por casualidad con unos amigos... me encan...   \n",
       "13   Un clásico en la zona de Chamberí.\\n\\nPROS: la...   \n",
       "\n",
       "                                        cleaned_review  \n",
       "143  hamburguesa italiano mejor q probar precio raz...  \n",
       "25   cafetería emblemático madrileño abierto herman...  \n",
       "117  local aire ochentero servicio calidad variedad...  \n",
       "12   casualidad amigo encantar hamburguesa espectác...  \n",
       "13   clásico zona chamberir pro hamburguesa genial ...  "
      ]
     },
     "metadata": {},
     "output_type": "display_data"
    }
   ],
   "source": [
    "tqdm.pandas(desc=\"Cleaning Reviews\")\n",
    "reviews['cleaned_review'] = reviews['review'].fillna('').progress_apply(clean_text)\n",
    "\n",
    "display(reviews[['review', 'cleaned_review']].sample(5))"
   ]
  },
  {
   "cell_type": "markdown",
   "metadata": {},
   "source": [
    "### Embeddings and sentiment analysis"
   ]
  },
  {
   "cell_type": "code",
   "execution_count": 7,
   "metadata": {},
   "outputs": [],
   "source": [
    "# Embeddings and Sentiment\n",
    "from transformers import pipeline\n",
    "from transformers import BertTokenizer, BertModel\n",
    "import torch\n",
    "\n",
    "# Word Clouds and Visualization\n",
    "from wordcloud import WordCloud\n"
   ]
  },
  {
   "cell_type": "markdown",
   "metadata": {},
   "source": [
    "#### Calculate embeddings"
   ]
  },
  {
   "cell_type": "code",
   "execution_count": 8,
   "metadata": {},
   "outputs": [
    {
     "name": "stderr",
     "output_type": "stream",
     "text": [
      "Generating Embeddings: 100%|██████████| 360/360 [00:30<00:00, 11.82it/s]\n"
     ]
    }
   ],
   "source": [
    "# Extract the embeddings for each cleaned review\n",
    "def get_embedding(text):\n",
    "    inputs = tokenizer(text, return_tensors='pt', truncation=True, max_length=512)\n",
    "    with torch.no_grad():\n",
    "        outputs = model(**inputs)\n",
    "    return outputs.last_hidden_state.mean(dim=1).squeeze().numpy()\n",
    "\n",
    "# Import Bert model and tokenizer\n",
    "tokenizer = BertTokenizer.from_pretrained('bert-base-multilingual-cased')\n",
    "model = BertModel.from_pretrained('bert-base-multilingual-cased')\n",
    "\n",
    "tqdm.pandas(desc=\"Generating Embeddings\")\n",
    "reviews['embedding'] = reviews['cleaned_review'].progress_apply(get_embedding)"
   ]
  },
  {
   "cell_type": "code",
   "execution_count": 9,
   "metadata": {},
   "outputs": [
    {
     "data": {
      "text/html": [
       "<div>\n",
       "<style scoped>\n",
       "    .dataframe tbody tr th:only-of-type {\n",
       "        vertical-align: middle;\n",
       "    }\n",
       "\n",
       "    .dataframe tbody tr th {\n",
       "        vertical-align: top;\n",
       "    }\n",
       "\n",
       "    .dataframe thead th {\n",
       "        text-align: right;\n",
       "    }\n",
       "</style>\n",
       "<table border=\"1\" class=\"dataframe\">\n",
       "  <thead>\n",
       "    <tr style=\"text-align: right;\">\n",
       "      <th></th>\n",
       "      <th>review_id</th>\n",
       "      <th>review</th>\n",
       "      <th>local_guide_reviews</th>\n",
       "      <th>rating_score</th>\n",
       "      <th>service</th>\n",
       "      <th>meal_type</th>\n",
       "      <th>price_per_person_category</th>\n",
       "      <th>food_score</th>\n",
       "      <th>service_score</th>\n",
       "      <th>atmosphere_score</th>\n",
       "      <th>recommendations_list</th>\n",
       "      <th>date</th>\n",
       "      <th>avg_price_per_person</th>\n",
       "      <th>cleaned_review</th>\n",
       "      <th>embedding</th>\n",
       "    </tr>\n",
       "  </thead>\n",
       "  <tbody>\n",
       "    <tr>\n",
       "      <th>0</th>\n",
       "      <td>0</td>\n",
       "      <td>Además de que da un vibra de un bar de los 50’...</td>\n",
       "      <td>92.0</td>\n",
       "      <td>5.0</td>\n",
       "      <td>NaN</td>\n",
       "      <td>NaN</td>\n",
       "      <td>NaN</td>\n",
       "      <td>5.0</td>\n",
       "      <td>5.0</td>\n",
       "      <td>5.0</td>\n",
       "      <td>['']</td>\n",
       "      <td>2024-09-09</td>\n",
       "      <td>NaN</td>\n",
       "      <td>además dar vibra bar 50s hamburguesa descubrim...</td>\n",
       "      <td>[-0.39345536, -0.33803207, 0.34808198, 0.19436...</td>\n",
       "    </tr>\n",
       "    <tr>\n",
       "      <th>1</th>\n",
       "      <td>1</td>\n",
       "      <td>La hamburguesa de pollo frito estaba muy rica ...</td>\n",
       "      <td>35.0</td>\n",
       "      <td>4.0</td>\n",
       "      <td>Comí allí</td>\n",
       "      <td>Comida</td>\n",
       "      <td>30-40 €</td>\n",
       "      <td>4.0</td>\n",
       "      <td>5.0</td>\n",
       "      <td>4.0</td>\n",
       "      <td>['']</td>\n",
       "      <td>2024-08-01</td>\n",
       "      <td>40.0</td>\n",
       "      <td>hamburguesa pollo frito rico acuerdo nombre ca...</td>\n",
       "      <td>[-0.13622372, -0.16634203, 0.5213568, 0.331580...</td>\n",
       "    </tr>\n",
       "    <tr>\n",
       "      <th>2</th>\n",
       "      <td>2</td>\n",
       "      <td>Estuve cenando en familia el martes y además d...</td>\n",
       "      <td>2.0</td>\n",
       "      <td>5.0</td>\n",
       "      <td>NaN</td>\n",
       "      <td>NaN</td>\n",
       "      <td>NaN</td>\n",
       "      <td>5.0</td>\n",
       "      <td>5.0</td>\n",
       "      <td>5.0</td>\n",
       "      <td>['']</td>\n",
       "      <td>2024-09-16</td>\n",
       "      <td>NaN</td>\n",
       "      <td>cenar familia martes además excelente atención...</td>\n",
       "      <td>[-0.29606187, -0.28629205, 0.2620312, 0.217695...</td>\n",
       "    </tr>\n",
       "    <tr>\n",
       "      <th>3</th>\n",
       "      <td>3</td>\n",
       "      <td>Solo tomamos un vermút y una cerveza. El bar m...</td>\n",
       "      <td>11.0</td>\n",
       "      <td>3.0</td>\n",
       "      <td>NaN</td>\n",
       "      <td>NaN</td>\n",
       "      <td>NaN</td>\n",
       "      <td>NaN</td>\n",
       "      <td>3.0</td>\n",
       "      <td>3.0</td>\n",
       "      <td>['']</td>\n",
       "      <td>2024-05-01</td>\n",
       "      <td>NaN</td>\n",
       "      <td>solo tomar vermút cerveza bar molo cafeteer sa...</td>\n",
       "      <td>[-0.36835817, -0.26008305, 0.064508475, 0.3708...</td>\n",
       "    </tr>\n",
       "    <tr>\n",
       "      <th>4</th>\n",
       "      <td>4</td>\n",
       "      <td>Un gofre frío y tieso 9,20€? Nunca me había se...</td>\n",
       "      <td>58.0</td>\n",
       "      <td>1.0</td>\n",
       "      <td>NaN</td>\n",
       "      <td>NaN</td>\n",
       "      <td>NaN</td>\n",
       "      <td>1.0</td>\n",
       "      <td>1.0</td>\n",
       "      <td>2.0</td>\n",
       "      <td>['']</td>\n",
       "      <td>NaN</td>\n",
       "      <td>NaN</td>\n",
       "      <td>gofre frío tieso 920 nunca tanto estafado 3 ba...</td>\n",
       "      <td>[9.475763e-05, -0.38498864, -0.15247194, 0.622...</td>\n",
       "    </tr>\n",
       "    <tr>\n",
       "      <th>...</th>\n",
       "      <td>...</td>\n",
       "      <td>...</td>\n",
       "      <td>...</td>\n",
       "      <td>...</td>\n",
       "      <td>...</td>\n",
       "      <td>...</td>\n",
       "      <td>...</td>\n",
       "      <td>...</td>\n",
       "      <td>...</td>\n",
       "      <td>...</td>\n",
       "      <td>...</td>\n",
       "      <td>...</td>\n",
       "      <td>...</td>\n",
       "      <td>...</td>\n",
       "      <td>...</td>\n",
       "    </tr>\n",
       "    <tr>\n",
       "      <th>355</th>\n",
       "      <td>355</td>\n",
       "      <td>NaN</td>\n",
       "      <td>81.0</td>\n",
       "      <td>1.0</td>\n",
       "      <td>NaN</td>\n",
       "      <td>NaN</td>\n",
       "      <td>NaN</td>\n",
       "      <td>NaN</td>\n",
       "      <td>NaN</td>\n",
       "      <td>NaN</td>\n",
       "      <td>['']</td>\n",
       "      <td>2023-01-01</td>\n",
       "      <td>NaN</td>\n",
       "      <td></td>\n",
       "      <td>[0.1206212, -0.15257965, 1.012721, 0.37729222,...</td>\n",
       "    </tr>\n",
       "    <tr>\n",
       "      <th>356</th>\n",
       "      <td>356</td>\n",
       "      <td>NaN</td>\n",
       "      <td>30.0</td>\n",
       "      <td>4.0</td>\n",
       "      <td>NaN</td>\n",
       "      <td>NaN</td>\n",
       "      <td>NaN</td>\n",
       "      <td>NaN</td>\n",
       "      <td>NaN</td>\n",
       "      <td>NaN</td>\n",
       "      <td>['']</td>\n",
       "      <td>2023-01-01</td>\n",
       "      <td>NaN</td>\n",
       "      <td></td>\n",
       "      <td>[0.1206212, -0.15257965, 1.012721, 0.37729222,...</td>\n",
       "    </tr>\n",
       "    <tr>\n",
       "      <th>357</th>\n",
       "      <td>357</td>\n",
       "      <td>NaN</td>\n",
       "      <td>51.0</td>\n",
       "      <td>5.0</td>\n",
       "      <td>NaN</td>\n",
       "      <td>NaN</td>\n",
       "      <td>NaN</td>\n",
       "      <td>NaN</td>\n",
       "      <td>NaN</td>\n",
       "      <td>NaN</td>\n",
       "      <td>['']</td>\n",
       "      <td>2023-01-01</td>\n",
       "      <td>NaN</td>\n",
       "      <td></td>\n",
       "      <td>[0.1206212, -0.15257965, 1.012721, 0.37729222,...</td>\n",
       "    </tr>\n",
       "    <tr>\n",
       "      <th>358</th>\n",
       "      <td>358</td>\n",
       "      <td>NaN</td>\n",
       "      <td>2.0</td>\n",
       "      <td>5.0</td>\n",
       "      <td>NaN</td>\n",
       "      <td>NaN</td>\n",
       "      <td>NaN</td>\n",
       "      <td>NaN</td>\n",
       "      <td>NaN</td>\n",
       "      <td>NaN</td>\n",
       "      <td>['']</td>\n",
       "      <td>2023-01-01</td>\n",
       "      <td>NaN</td>\n",
       "      <td></td>\n",
       "      <td>[0.1206212, -0.15257965, 1.012721, 0.37729222,...</td>\n",
       "    </tr>\n",
       "    <tr>\n",
       "      <th>359</th>\n",
       "      <td>359</td>\n",
       "      <td>NaN</td>\n",
       "      <td>12.0</td>\n",
       "      <td>1.0</td>\n",
       "      <td>NaN</td>\n",
       "      <td>NaN</td>\n",
       "      <td>NaN</td>\n",
       "      <td>NaN</td>\n",
       "      <td>NaN</td>\n",
       "      <td>NaN</td>\n",
       "      <td>['']</td>\n",
       "      <td>2022-01-01</td>\n",
       "      <td>NaN</td>\n",
       "      <td></td>\n",
       "      <td>[0.1206212, -0.15257965, 1.012721, 0.37729222,...</td>\n",
       "    </tr>\n",
       "  </tbody>\n",
       "</table>\n",
       "<p>360 rows × 15 columns</p>\n",
       "</div>"
      ],
      "text/plain": [
       "     review_id                                             review  \\\n",
       "0            0  Además de que da un vibra de un bar de los 50’...   \n",
       "1            1  La hamburguesa de pollo frito estaba muy rica ...   \n",
       "2            2  Estuve cenando en familia el martes y además d...   \n",
       "3            3  Solo tomamos un vermút y una cerveza. El bar m...   \n",
       "4            4  Un gofre frío y tieso 9,20€? Nunca me había se...   \n",
       "..         ...                                                ...   \n",
       "355        355                                                NaN   \n",
       "356        356                                                NaN   \n",
       "357        357                                                NaN   \n",
       "358        358                                                NaN   \n",
       "359        359                                                NaN   \n",
       "\n",
       "     local_guide_reviews  rating_score    service meal_type  \\\n",
       "0                   92.0           5.0        NaN       NaN   \n",
       "1                   35.0           4.0  Comí allí    Comida   \n",
       "2                    2.0           5.0        NaN       NaN   \n",
       "3                   11.0           3.0        NaN       NaN   \n",
       "4                   58.0           1.0        NaN       NaN   \n",
       "..                   ...           ...        ...       ...   \n",
       "355                 81.0           1.0        NaN       NaN   \n",
       "356                 30.0           4.0        NaN       NaN   \n",
       "357                 51.0           5.0        NaN       NaN   \n",
       "358                  2.0           5.0        NaN       NaN   \n",
       "359                 12.0           1.0        NaN       NaN   \n",
       "\n",
       "    price_per_person_category  food_score  service_score  atmosphere_score  \\\n",
       "0                         NaN         5.0            5.0               5.0   \n",
       "1                     30-40 €         4.0            5.0               4.0   \n",
       "2                         NaN         5.0            5.0               5.0   \n",
       "3                         NaN         NaN            3.0               3.0   \n",
       "4                         NaN         1.0            1.0               2.0   \n",
       "..                        ...         ...            ...               ...   \n",
       "355                       NaN         NaN            NaN               NaN   \n",
       "356                       NaN         NaN            NaN               NaN   \n",
       "357                       NaN         NaN            NaN               NaN   \n",
       "358                       NaN         NaN            NaN               NaN   \n",
       "359                       NaN         NaN            NaN               NaN   \n",
       "\n",
       "    recommendations_list        date  avg_price_per_person  \\\n",
       "0                   ['']  2024-09-09                   NaN   \n",
       "1                   ['']  2024-08-01                  40.0   \n",
       "2                   ['']  2024-09-16                   NaN   \n",
       "3                   ['']  2024-05-01                   NaN   \n",
       "4                   ['']         NaN                   NaN   \n",
       "..                   ...         ...                   ...   \n",
       "355                 ['']  2023-01-01                   NaN   \n",
       "356                 ['']  2023-01-01                   NaN   \n",
       "357                 ['']  2023-01-01                   NaN   \n",
       "358                 ['']  2023-01-01                   NaN   \n",
       "359                 ['']  2022-01-01                   NaN   \n",
       "\n",
       "                                        cleaned_review  \\\n",
       "0    además dar vibra bar 50s hamburguesa descubrim...   \n",
       "1    hamburguesa pollo frito rico acuerdo nombre ca...   \n",
       "2    cenar familia martes además excelente atención...   \n",
       "3    solo tomar vermút cerveza bar molo cafeteer sa...   \n",
       "4    gofre frío tieso 920 nunca tanto estafado 3 ba...   \n",
       "..                                                 ...   \n",
       "355                                                      \n",
       "356                                                      \n",
       "357                                                      \n",
       "358                                                      \n",
       "359                                                      \n",
       "\n",
       "                                             embedding  \n",
       "0    [-0.39345536, -0.33803207, 0.34808198, 0.19436...  \n",
       "1    [-0.13622372, -0.16634203, 0.5213568, 0.331580...  \n",
       "2    [-0.29606187, -0.28629205, 0.2620312, 0.217695...  \n",
       "3    [-0.36835817, -0.26008305, 0.064508475, 0.3708...  \n",
       "4    [9.475763e-05, -0.38498864, -0.15247194, 0.622...  \n",
       "..                                                 ...  \n",
       "355  [0.1206212, -0.15257965, 1.012721, 0.37729222,...  \n",
       "356  [0.1206212, -0.15257965, 1.012721, 0.37729222,...  \n",
       "357  [0.1206212, -0.15257965, 1.012721, 0.37729222,...  \n",
       "358  [0.1206212, -0.15257965, 1.012721, 0.37729222,...  \n",
       "359  [0.1206212, -0.15257965, 1.012721, 0.37729222,...  \n",
       "\n",
       "[360 rows x 15 columns]"
      ]
     },
     "execution_count": 9,
     "metadata": {},
     "output_type": "execute_result"
    }
   ],
   "source": [
    "reviews"
   ]
  },
  {
   "cell_type": "markdown",
   "metadata": {},
   "source": [
    "#### Analyze sentiment"
   ]
  },
  {
   "cell_type": "code",
   "execution_count": 50,
   "metadata": {},
   "outputs": [],
   "source": [
    "def analyze_sentiment_vader(df):\n",
    "    # Initialize VADER sentiment analyzer\n",
    "    sia = SentimentIntensityAnalyzer()\n",
    "\n",
    "    # Apply sentiment analysis to each review using VADER\n",
    "    df['vader_sentiment'] = df['cleaned_review'].apply(lambda x: sia.polarity_scores(x)['compound'])\n",
    "    \n",
    "    # Classify sentiment into positive, neutral, negative using rating_score and vader_sentiment\n",
    "    def classify_sentiment(row):\n",
    "        if row['rating_score'] >= 4:\n",
    "            return 'positive'\n",
    "        elif row['rating_score'] <= 2:\n",
    "            return 'negative'\n",
    "        elif row['vader_sentiment'] > 0.05:\n",
    "            return 'positive'\n",
    "        elif row['vader_sentiment'] < -0.05:\n",
    "            return 'negative'\n",
    "        else:\n",
    "            return 'neutral'\n",
    "    \n",
    "    df['sentiment_label'] = df.apply(classify_sentiment, axis=1)\n",
    "    \n",
    "    return df\n",
    "\n",
    "def generate_ngram_analysis(df, sentiment_label='positive', n=2, top_n=10):\n",
    "    # Filter reviews by sentiment label\n",
    "    reviews_text = df[df['sentiment_label'] == sentiment_label]['cleaned_review'].fillna('').tolist()\n",
    "    \n",
    "    # Create n-grams for the given sentiment label\n",
    "    vectorizer = CountVectorizer(ngram_range=(n, n)).fit(reviews_text)\n",
    "    ngrams = vectorizer.transform(reviews_text)\n",
    "    \n",
    "    # Sum all n-grams\n",
    "    ngram_counts = ngrams.sum(axis=0)\n",
    "    ngram_freq = [(word, ngram_counts[0, idx]) for word, idx in vectorizer.vocabulary_.items()]\n",
    "    sorted_ngrams = sorted(ngram_freq, key=lambda x: x[1], reverse=True)[:top_n]\n",
    "    \n",
    "    return sorted_ngrams\n",
    "\n",
    "def extract_common_phrases(df, sentiment_label='positive', n=10):\n",
    "    # Filter reviews by sentiment label\n",
    "    filtered_reviews = df[df['sentiment_label'] == sentiment_label]['cleaned_review'].fillna('').tolist()\n",
    "    \n",
    "    # Tokenize and count words for the given sentiment label\n",
    "    vectorizer = CountVectorizer().fit(filtered_reviews)\n",
    "    word_counts = vectorizer.transform(filtered_reviews).sum(axis=0)\n",
    "    \n",
    "    # Create a dictionary of word frequencies\n",
    "    word_freq = [(word, word_counts[0, idx]) for word, idx in vectorizer.vocabulary_.items()]\n",
    "    sorted_word_freq = sorted(word_freq, key=lambda x: x[1], reverse=True)[:n]\n",
    "    \n",
    "    return sorted_word_freq"
   ]
  },
  {
   "cell_type": "code",
   "execution_count": 42,
   "metadata": {},
   "outputs": [],
   "source": [
    "#  Analyze sentiment with VADER\n",
    "reviews = analyze_sentiment_vader(reviews)"
   ]
  },
  {
   "cell_type": "code",
   "execution_count": 45,
   "metadata": {},
   "outputs": [],
   "source": [
    "# Generate bigrams\n",
    "bigrams = generate_ngram_analysis(reviews, n=2)\n"
   ]
  },
  {
   "cell_type": "code",
   "execution_count": 64,
   "metadata": {},
   "outputs": [],
   "source": [
    "def plot_sentiment_percentage_trend(df):\n",
    "    # Convert date to datetime format and handle missing values\n",
    "    df['date'] = pd.to_datetime(df['date'], errors='coerce')\n",
    "    df = df.dropna(subset=['date'])\n",
    "    \n",
    "    # Filter only the last 6 years\n",
    "    last_six_years = datetime.datetime.now() - pd.DateOffset(years=6)\n",
    "    df = df[df['date'] >= last_six_years]\n",
    "\n",
    "    # Set date as index for resampling\n",
    "    df.set_index('date', inplace=True)\n",
    "    \n",
    "    # Resample to monthly and count sentiments\n",
    "    sentiment_counts = df.resample('M')['sentiment_label'].value_counts().unstack().fillna(0)\n",
    "\n",
    "    # Calculate the percentage for each sentiment type\n",
    "    sentiment_percentage = sentiment_counts.div(sentiment_counts.sum(axis=1), axis=0) * 100\n",
    "    sentiment_percentage = sentiment_percentage.round(2)\n",
    "    sentiment_percentage = sentiment_percentage.reset_index().melt(id_vars=['date'], value_name='percentage', var_name='sentiment_label')\n",
    "    \n",
    "    # Plot sentiment percentage evolution\n",
    "    fig = px.area(\n",
    "        sentiment_percentage,\n",
    "        x='date',\n",
    "        y='percentage',\n",
    "        color='sentiment_label',\n",
    "        title='Sentiment Percentage Over the Last 6 Years',\n",
    "        labels={'date': '', 'percentage': 'Percentage of Reviews (%)', 'sentiment_label': 'Sentiment'},\n",
    "        template='plotly_white',\n",
    "    )\n",
    "\n",
    "    # Customize layout for a clean look\n",
    "    fig.update_layout(\n",
    "        title=dict(x=0.5, xanchor='center', font=dict(size=18, color='black')),\n",
    "        xaxis=dict(showgrid=False, zeroline=False),\n",
    "        yaxis=dict(showgrid=True, title='Percentage of Reviews', ticksuffix='%'),\n",
    "        legend=dict(title='', orientation='h', yanchor='bottom', y=1.02, xanchor='right', x=1),\n",
    "        margin=dict(l=20, r=20, t=50, b=20),\n",
    "        plot_bgcolor='rgba(0,0,0,0)',\n",
    "        hovermode='x unified',\n",
    "        width=1200,  # Make the plot narrower\n",
    "        height=400,\n",
    "    )\n",
    "\n",
    "    # Customize color for sentiment categories with softer tones\n",
    "    color_map = {\n",
    "        'positive': 'rgba(102, 194, 165, 0.7)',  # Soft green with transparency\n",
    "        'neutral': 'rgba(141, 160, 203, 0.7)',   # Soft blue with transparency\n",
    "        'negative': 'rgba(252, 141, 98, 0.7)'    # Soft orange with transparency\n",
    "    }\n",
    "    fig.for_each_trace(lambda trace: trace.update(line=dict(width=0, shape='spline'), fill='tonexty', fillcolor=color_map.get(trace.name, 'rgba(150, 150, 150, 0.5)')))\n",
    "\n",
    "    # Remove the plot frame and keep the visualization as clean as possible\n",
    "    fig.update_xaxes(showline=False)\n",
    "    fig.update_yaxes(showline=False, range=[0, 100])  # Percentage scale from 0 to 100\n",
    "\n",
    "    fig.show()"
   ]
  },
  {
   "cell_type": "code",
   "execution_count": 65,
   "metadata": {},
   "outputs": [
    {
     "name": "stderr",
     "output_type": "stream",
     "text": [
      "/var/folders/hv/ckh3m6gn1sd45q2qctrqcwzh0000gn/T/ipykernel_27970/455122672.py:14: FutureWarning:\n",
      "\n",
      "'M' is deprecated and will be removed in a future version, please use 'ME' instead.\n",
      "\n"
     ]
    },
    {
     "data": {
      "application/vnd.plotly.v1+json": {
       "config": {
        "plotlyServerURL": "https://plot.ly"
       },
       "data": [
        {
         "fill": "tonexty",
         "fillcolor": "rgba(252, 141, 98, 0.7)",
         "fillpattern": {
          "shape": ""
         },
         "hovertemplate": "Sentiment=negative<br>=%{x}<br>Percentage of Reviews (%)=%{y}<extra></extra>",
         "legendgroup": "negative",
         "line": {
          "color": "#636efa",
          "shape": "spline",
          "width": 0
         },
         "marker": {
          "symbol": "circle"
         },
         "mode": "lines",
         "name": "negative",
         "orientation": "v",
         "showlegend": true,
         "stackgroup": "1",
         "type": "scatter",
         "x": [
          "2019-01-31T00:00:00",
          "2020-01-31T00:00:00",
          "2021-01-31T00:00:00",
          "2022-01-31T00:00:00",
          "2023-01-31T00:00:00",
          "2023-10-31T00:00:00",
          "2023-11-30T00:00:00",
          "2023-12-31T00:00:00",
          "2024-01-31T00:00:00",
          "2024-02-29T00:00:00",
          "2024-03-31T00:00:00",
          "2024-04-30T00:00:00",
          "2024-05-31T00:00:00",
          "2024-06-30T00:00:00",
          "2024-07-31T00:00:00",
          "2024-08-31T00:00:00",
          "2024-09-30T00:00:00"
         ],
         "xaxis": "x",
         "y": [
          0,
          7.69,
          12.5,
          5.71,
          14,
          0,
          0,
          0,
          9.09,
          12.5,
          0,
          14.29,
          9.38,
          0,
          12.5,
          11.11,
          15.79
         ],
         "yaxis": "y"
        },
        {
         "fill": "tonexty",
         "fillcolor": "rgba(141, 160, 203, 0.7)",
         "fillpattern": {
          "shape": ""
         },
         "hovertemplate": "Sentiment=neutral<br>=%{x}<br>Percentage of Reviews (%)=%{y}<extra></extra>",
         "legendgroup": "neutral",
         "line": {
          "color": "#EF553B",
          "shape": "spline",
          "width": 0
         },
         "marker": {
          "symbol": "circle"
         },
         "mode": "lines",
         "name": "neutral",
         "orientation": "v",
         "showlegend": true,
         "stackgroup": "1",
         "type": "scatter",
         "x": [
          "2019-01-31T00:00:00",
          "2020-01-31T00:00:00",
          "2021-01-31T00:00:00",
          "2022-01-31T00:00:00",
          "2023-01-31T00:00:00",
          "2023-10-31T00:00:00",
          "2023-11-30T00:00:00",
          "2023-12-31T00:00:00",
          "2024-01-31T00:00:00",
          "2024-02-29T00:00:00",
          "2024-03-31T00:00:00",
          "2024-04-30T00:00:00",
          "2024-05-31T00:00:00",
          "2024-06-30T00:00:00",
          "2024-07-31T00:00:00",
          "2024-08-31T00:00:00",
          "2024-09-30T00:00:00"
         ],
         "xaxis": "x",
         "y": [
          3.85,
          7.69,
          6.25,
          5.71,
          6,
          0,
          9.09,
          0,
          0,
          0,
          38.46,
          0,
          3.12,
          0,
          0,
          11.11,
          5.26
         ],
         "yaxis": "y"
        },
        {
         "fill": "tonexty",
         "fillcolor": "rgba(102, 194, 165, 0.7)",
         "fillpattern": {
          "shape": ""
         },
         "hovertemplate": "Sentiment=positive<br>=%{x}<br>Percentage of Reviews (%)=%{y}<extra></extra>",
         "legendgroup": "positive",
         "line": {
          "color": "#00cc96",
          "shape": "spline",
          "width": 0
         },
         "marker": {
          "symbol": "circle"
         },
         "mode": "lines",
         "name": "positive",
         "orientation": "v",
         "showlegend": true,
         "stackgroup": "1",
         "type": "scatter",
         "x": [
          "2019-01-31T00:00:00",
          "2020-01-31T00:00:00",
          "2021-01-31T00:00:00",
          "2022-01-31T00:00:00",
          "2023-01-31T00:00:00",
          "2023-10-31T00:00:00",
          "2023-11-30T00:00:00",
          "2023-12-31T00:00:00",
          "2024-01-31T00:00:00",
          "2024-02-29T00:00:00",
          "2024-03-31T00:00:00",
          "2024-04-30T00:00:00",
          "2024-05-31T00:00:00",
          "2024-06-30T00:00:00",
          "2024-07-31T00:00:00",
          "2024-08-31T00:00:00",
          "2024-09-30T00:00:00"
         ],
         "xaxis": "x",
         "y": [
          96.15,
          84.62,
          81.25,
          88.57,
          80,
          100,
          90.91,
          100,
          90.91,
          87.5,
          61.54,
          85.71,
          87.5,
          100,
          87.5,
          77.78,
          78.95
         ],
         "yaxis": "y"
        }
       ],
       "layout": {
        "height": 400,
        "hovermode": "x unified",
        "legend": {
         "orientation": "h",
         "title": {
          "text": ""
         },
         "tracegroupgap": 0,
         "x": 1,
         "xanchor": "right",
         "y": 1.02,
         "yanchor": "bottom"
        },
        "margin": {
         "b": 20,
         "l": 20,
         "r": 20,
         "t": 50
        },
        "plot_bgcolor": "rgba(0,0,0,0)",
        "template": {
         "data": {
          "bar": [
           {
            "error_x": {
             "color": "#2a3f5f"
            },
            "error_y": {
             "color": "#2a3f5f"
            },
            "marker": {
             "line": {
              "color": "white",
              "width": 0.5
             },
             "pattern": {
              "fillmode": "overlay",
              "size": 10,
              "solidity": 0.2
             }
            },
            "type": "bar"
           }
          ],
          "barpolar": [
           {
            "marker": {
             "line": {
              "color": "white",
              "width": 0.5
             },
             "pattern": {
              "fillmode": "overlay",
              "size": 10,
              "solidity": 0.2
             }
            },
            "type": "barpolar"
           }
          ],
          "carpet": [
           {
            "aaxis": {
             "endlinecolor": "#2a3f5f",
             "gridcolor": "#C8D4E3",
             "linecolor": "#C8D4E3",
             "minorgridcolor": "#C8D4E3",
             "startlinecolor": "#2a3f5f"
            },
            "baxis": {
             "endlinecolor": "#2a3f5f",
             "gridcolor": "#C8D4E3",
             "linecolor": "#C8D4E3",
             "minorgridcolor": "#C8D4E3",
             "startlinecolor": "#2a3f5f"
            },
            "type": "carpet"
           }
          ],
          "choropleth": [
           {
            "colorbar": {
             "outlinewidth": 0,
             "ticks": ""
            },
            "type": "choropleth"
           }
          ],
          "contour": [
           {
            "colorbar": {
             "outlinewidth": 0,
             "ticks": ""
            },
            "colorscale": [
             [
              0,
              "#0d0887"
             ],
             [
              0.1111111111111111,
              "#46039f"
             ],
             [
              0.2222222222222222,
              "#7201a8"
             ],
             [
              0.3333333333333333,
              "#9c179e"
             ],
             [
              0.4444444444444444,
              "#bd3786"
             ],
             [
              0.5555555555555556,
              "#d8576b"
             ],
             [
              0.6666666666666666,
              "#ed7953"
             ],
             [
              0.7777777777777778,
              "#fb9f3a"
             ],
             [
              0.8888888888888888,
              "#fdca26"
             ],
             [
              1,
              "#f0f921"
             ]
            ],
            "type": "contour"
           }
          ],
          "contourcarpet": [
           {
            "colorbar": {
             "outlinewidth": 0,
             "ticks": ""
            },
            "type": "contourcarpet"
           }
          ],
          "heatmap": [
           {
            "colorbar": {
             "outlinewidth": 0,
             "ticks": ""
            },
            "colorscale": [
             [
              0,
              "#0d0887"
             ],
             [
              0.1111111111111111,
              "#46039f"
             ],
             [
              0.2222222222222222,
              "#7201a8"
             ],
             [
              0.3333333333333333,
              "#9c179e"
             ],
             [
              0.4444444444444444,
              "#bd3786"
             ],
             [
              0.5555555555555556,
              "#d8576b"
             ],
             [
              0.6666666666666666,
              "#ed7953"
             ],
             [
              0.7777777777777778,
              "#fb9f3a"
             ],
             [
              0.8888888888888888,
              "#fdca26"
             ],
             [
              1,
              "#f0f921"
             ]
            ],
            "type": "heatmap"
           }
          ],
          "heatmapgl": [
           {
            "colorbar": {
             "outlinewidth": 0,
             "ticks": ""
            },
            "colorscale": [
             [
              0,
              "#0d0887"
             ],
             [
              0.1111111111111111,
              "#46039f"
             ],
             [
              0.2222222222222222,
              "#7201a8"
             ],
             [
              0.3333333333333333,
              "#9c179e"
             ],
             [
              0.4444444444444444,
              "#bd3786"
             ],
             [
              0.5555555555555556,
              "#d8576b"
             ],
             [
              0.6666666666666666,
              "#ed7953"
             ],
             [
              0.7777777777777778,
              "#fb9f3a"
             ],
             [
              0.8888888888888888,
              "#fdca26"
             ],
             [
              1,
              "#f0f921"
             ]
            ],
            "type": "heatmapgl"
           }
          ],
          "histogram": [
           {
            "marker": {
             "pattern": {
              "fillmode": "overlay",
              "size": 10,
              "solidity": 0.2
             }
            },
            "type": "histogram"
           }
          ],
          "histogram2d": [
           {
            "colorbar": {
             "outlinewidth": 0,
             "ticks": ""
            },
            "colorscale": [
             [
              0,
              "#0d0887"
             ],
             [
              0.1111111111111111,
              "#46039f"
             ],
             [
              0.2222222222222222,
              "#7201a8"
             ],
             [
              0.3333333333333333,
              "#9c179e"
             ],
             [
              0.4444444444444444,
              "#bd3786"
             ],
             [
              0.5555555555555556,
              "#d8576b"
             ],
             [
              0.6666666666666666,
              "#ed7953"
             ],
             [
              0.7777777777777778,
              "#fb9f3a"
             ],
             [
              0.8888888888888888,
              "#fdca26"
             ],
             [
              1,
              "#f0f921"
             ]
            ],
            "type": "histogram2d"
           }
          ],
          "histogram2dcontour": [
           {
            "colorbar": {
             "outlinewidth": 0,
             "ticks": ""
            },
            "colorscale": [
             [
              0,
              "#0d0887"
             ],
             [
              0.1111111111111111,
              "#46039f"
             ],
             [
              0.2222222222222222,
              "#7201a8"
             ],
             [
              0.3333333333333333,
              "#9c179e"
             ],
             [
              0.4444444444444444,
              "#bd3786"
             ],
             [
              0.5555555555555556,
              "#d8576b"
             ],
             [
              0.6666666666666666,
              "#ed7953"
             ],
             [
              0.7777777777777778,
              "#fb9f3a"
             ],
             [
              0.8888888888888888,
              "#fdca26"
             ],
             [
              1,
              "#f0f921"
             ]
            ],
            "type": "histogram2dcontour"
           }
          ],
          "mesh3d": [
           {
            "colorbar": {
             "outlinewidth": 0,
             "ticks": ""
            },
            "type": "mesh3d"
           }
          ],
          "parcoords": [
           {
            "line": {
             "colorbar": {
              "outlinewidth": 0,
              "ticks": ""
             }
            },
            "type": "parcoords"
           }
          ],
          "pie": [
           {
            "automargin": true,
            "type": "pie"
           }
          ],
          "scatter": [
           {
            "fillpattern": {
             "fillmode": "overlay",
             "size": 10,
             "solidity": 0.2
            },
            "type": "scatter"
           }
          ],
          "scatter3d": [
           {
            "line": {
             "colorbar": {
              "outlinewidth": 0,
              "ticks": ""
             }
            },
            "marker": {
             "colorbar": {
              "outlinewidth": 0,
              "ticks": ""
             }
            },
            "type": "scatter3d"
           }
          ],
          "scattercarpet": [
           {
            "marker": {
             "colorbar": {
              "outlinewidth": 0,
              "ticks": ""
             }
            },
            "type": "scattercarpet"
           }
          ],
          "scattergeo": [
           {
            "marker": {
             "colorbar": {
              "outlinewidth": 0,
              "ticks": ""
             }
            },
            "type": "scattergeo"
           }
          ],
          "scattergl": [
           {
            "marker": {
             "colorbar": {
              "outlinewidth": 0,
              "ticks": ""
             }
            },
            "type": "scattergl"
           }
          ],
          "scattermapbox": [
           {
            "marker": {
             "colorbar": {
              "outlinewidth": 0,
              "ticks": ""
             }
            },
            "type": "scattermapbox"
           }
          ],
          "scatterpolar": [
           {
            "marker": {
             "colorbar": {
              "outlinewidth": 0,
              "ticks": ""
             }
            },
            "type": "scatterpolar"
           }
          ],
          "scatterpolargl": [
           {
            "marker": {
             "colorbar": {
              "outlinewidth": 0,
              "ticks": ""
             }
            },
            "type": "scatterpolargl"
           }
          ],
          "scatterternary": [
           {
            "marker": {
             "colorbar": {
              "outlinewidth": 0,
              "ticks": ""
             }
            },
            "type": "scatterternary"
           }
          ],
          "surface": [
           {
            "colorbar": {
             "outlinewidth": 0,
             "ticks": ""
            },
            "colorscale": [
             [
              0,
              "#0d0887"
             ],
             [
              0.1111111111111111,
              "#46039f"
             ],
             [
              0.2222222222222222,
              "#7201a8"
             ],
             [
              0.3333333333333333,
              "#9c179e"
             ],
             [
              0.4444444444444444,
              "#bd3786"
             ],
             [
              0.5555555555555556,
              "#d8576b"
             ],
             [
              0.6666666666666666,
              "#ed7953"
             ],
             [
              0.7777777777777778,
              "#fb9f3a"
             ],
             [
              0.8888888888888888,
              "#fdca26"
             ],
             [
              1,
              "#f0f921"
             ]
            ],
            "type": "surface"
           }
          ],
          "table": [
           {
            "cells": {
             "fill": {
              "color": "#EBF0F8"
             },
             "line": {
              "color": "white"
             }
            },
            "header": {
             "fill": {
              "color": "#C8D4E3"
             },
             "line": {
              "color": "white"
             }
            },
            "type": "table"
           }
          ]
         },
         "layout": {
          "annotationdefaults": {
           "arrowcolor": "#2a3f5f",
           "arrowhead": 0,
           "arrowwidth": 1
          },
          "autotypenumbers": "strict",
          "coloraxis": {
           "colorbar": {
            "outlinewidth": 0,
            "ticks": ""
           }
          },
          "colorscale": {
           "diverging": [
            [
             0,
             "#8e0152"
            ],
            [
             0.1,
             "#c51b7d"
            ],
            [
             0.2,
             "#de77ae"
            ],
            [
             0.3,
             "#f1b6da"
            ],
            [
             0.4,
             "#fde0ef"
            ],
            [
             0.5,
             "#f7f7f7"
            ],
            [
             0.6,
             "#e6f5d0"
            ],
            [
             0.7,
             "#b8e186"
            ],
            [
             0.8,
             "#7fbc41"
            ],
            [
             0.9,
             "#4d9221"
            ],
            [
             1,
             "#276419"
            ]
           ],
           "sequential": [
            [
             0,
             "#0d0887"
            ],
            [
             0.1111111111111111,
             "#46039f"
            ],
            [
             0.2222222222222222,
             "#7201a8"
            ],
            [
             0.3333333333333333,
             "#9c179e"
            ],
            [
             0.4444444444444444,
             "#bd3786"
            ],
            [
             0.5555555555555556,
             "#d8576b"
            ],
            [
             0.6666666666666666,
             "#ed7953"
            ],
            [
             0.7777777777777778,
             "#fb9f3a"
            ],
            [
             0.8888888888888888,
             "#fdca26"
            ],
            [
             1,
             "#f0f921"
            ]
           ],
           "sequentialminus": [
            [
             0,
             "#0d0887"
            ],
            [
             0.1111111111111111,
             "#46039f"
            ],
            [
             0.2222222222222222,
             "#7201a8"
            ],
            [
             0.3333333333333333,
             "#9c179e"
            ],
            [
             0.4444444444444444,
             "#bd3786"
            ],
            [
             0.5555555555555556,
             "#d8576b"
            ],
            [
             0.6666666666666666,
             "#ed7953"
            ],
            [
             0.7777777777777778,
             "#fb9f3a"
            ],
            [
             0.8888888888888888,
             "#fdca26"
            ],
            [
             1,
             "#f0f921"
            ]
           ]
          },
          "colorway": [
           "#636efa",
           "#EF553B",
           "#00cc96",
           "#ab63fa",
           "#FFA15A",
           "#19d3f3",
           "#FF6692",
           "#B6E880",
           "#FF97FF",
           "#FECB52"
          ],
          "font": {
           "color": "#2a3f5f"
          },
          "geo": {
           "bgcolor": "white",
           "lakecolor": "white",
           "landcolor": "white",
           "showlakes": true,
           "showland": true,
           "subunitcolor": "#C8D4E3"
          },
          "hoverlabel": {
           "align": "left"
          },
          "hovermode": "closest",
          "mapbox": {
           "style": "light"
          },
          "paper_bgcolor": "white",
          "plot_bgcolor": "white",
          "polar": {
           "angularaxis": {
            "gridcolor": "#EBF0F8",
            "linecolor": "#EBF0F8",
            "ticks": ""
           },
           "bgcolor": "white",
           "radialaxis": {
            "gridcolor": "#EBF0F8",
            "linecolor": "#EBF0F8",
            "ticks": ""
           }
          },
          "scene": {
           "xaxis": {
            "backgroundcolor": "white",
            "gridcolor": "#DFE8F3",
            "gridwidth": 2,
            "linecolor": "#EBF0F8",
            "showbackground": true,
            "ticks": "",
            "zerolinecolor": "#EBF0F8"
           },
           "yaxis": {
            "backgroundcolor": "white",
            "gridcolor": "#DFE8F3",
            "gridwidth": 2,
            "linecolor": "#EBF0F8",
            "showbackground": true,
            "ticks": "",
            "zerolinecolor": "#EBF0F8"
           },
           "zaxis": {
            "backgroundcolor": "white",
            "gridcolor": "#DFE8F3",
            "gridwidth": 2,
            "linecolor": "#EBF0F8",
            "showbackground": true,
            "ticks": "",
            "zerolinecolor": "#EBF0F8"
           }
          },
          "shapedefaults": {
           "line": {
            "color": "#2a3f5f"
           }
          },
          "ternary": {
           "aaxis": {
            "gridcolor": "#DFE8F3",
            "linecolor": "#A2B1C6",
            "ticks": ""
           },
           "baxis": {
            "gridcolor": "#DFE8F3",
            "linecolor": "#A2B1C6",
            "ticks": ""
           },
           "bgcolor": "white",
           "caxis": {
            "gridcolor": "#DFE8F3",
            "linecolor": "#A2B1C6",
            "ticks": ""
           }
          },
          "title": {
           "x": 0.05
          },
          "xaxis": {
           "automargin": true,
           "gridcolor": "#EBF0F8",
           "linecolor": "#EBF0F8",
           "ticks": "",
           "title": {
            "standoff": 15
           },
           "zerolinecolor": "#EBF0F8",
           "zerolinewidth": 2
          },
          "yaxis": {
           "automargin": true,
           "gridcolor": "#EBF0F8",
           "linecolor": "#EBF0F8",
           "ticks": "",
           "title": {
            "standoff": 15
           },
           "zerolinecolor": "#EBF0F8",
           "zerolinewidth": 2
          }
         }
        },
        "title": {
         "font": {
          "color": "black",
          "size": 18
         },
         "text": "Sentiment Percentage Over the Last 6 Years",
         "x": 0.5,
         "xanchor": "center"
        },
        "width": 1200,
        "xaxis": {
         "anchor": "y",
         "domain": [
          0,
          1
         ],
         "showgrid": false,
         "showline": false,
         "title": {
          "text": ""
         },
         "zeroline": false
        },
        "yaxis": {
         "anchor": "x",
         "domain": [
          0,
          1
         ],
         "range": [
          0,
          100
         ],
         "showgrid": true,
         "showline": false,
         "ticksuffix": "%",
         "title": {
          "text": "Percentage of Reviews"
         }
        }
       }
      }
     },
     "metadata": {},
     "output_type": "display_data"
    }
   ],
   "source": [
    "plot_sentiment_percentage_trend(reviews)"
   ]
  },
  {
   "cell_type": "code",
   "execution_count": 97,
   "metadata": {},
   "outputs": [
    {
     "name": "stdout",
     "output_type": "stream",
     "text": [
      "Top 10 Positive Words: [('hamburguesa', 128), ('buen', 118), ('comida', 66), ('lugar', 65), ('servicio', 48), ('sitio', 46), ('bien', 44), ('mejor', 42), ('precio', 41), ('ambiente', 36)]\n",
      "Top 10 Negative Words: [('ir', 10), ('café', 10), ('vez', 8), ('ver', 8), ('si', 8), ('pedir', 8), ('sitio', 7), ('servicio', 7), ('comida', 7), ('parecer', 6)]\n"
     ]
    }
   ],
   "source": [
    "# Extract common positive and negative phrases\n",
    "common_positive_phrases = extract_common_phrases(reviews, sentiment_label = 'positive', n = 10)\n",
    "common_negative_phrases = extract_common_phrases(reviews, sentiment_label = 'negative', n = 10)\n",
    "\n",
    "# Display results\n",
    "print(\"Top 10 Positive Words:\", common_positive_phrases)\n",
    "print(\"Top 10 Negative Words:\", common_negative_phrases)"
   ]
  },
  {
   "cell_type": "code",
   "execution_count": 96,
   "metadata": {},
   "outputs": [
    {
     "name": "stdout",
     "output_type": "stream",
     "text": [
      "Top Positive Bigrams: [('comida buen', 11), ('buen ambiente', 11), ('mejor hamburguesa', 11), ('buen comida', 10), ('buen servicio', 9), ('buen lugar', 8), ('aro cebolla', 7), ('hamburguesa rico', 7), ('precio razonable', 7), ('hamburguesa italiano', 6)]\n",
      "Top Negative Bigrams: [('ver foto', 3), ('merecer pena', 3), ('nunca tanto', 2), ('si solo', 2), ('último vez', 2), ('huevo revuelto', 2), ('dar yo', 2), ('acompañar hamburguesa', 2), ('pan mohoso', 2), ('gofre frío', 1)]\n"
     ]
    }
   ],
   "source": [
    "def extract_common_ngrams(df, sentiment_label='positive', n=2, top_n=10):\n",
    "    # Filter reviews by sentiment label\n",
    "    filtered_reviews = df[df['sentiment_label'] == sentiment_label]['cleaned_review'].fillna('').tolist()\n",
    "    \n",
    "    # Create n-grams for the given sentiment label\n",
    "    vectorizer = CountVectorizer(ngram_range=(n, n)).fit(filtered_reviews)\n",
    "    ngram_counts = vectorizer.transform(filtered_reviews).sum(axis=0)\n",
    "    \n",
    "    # Create a list of n-grams with their counts\n",
    "    ngram_freq = [(word, ngram_counts[0, idx]) for word, idx in vectorizer.vocabulary_.items()]\n",
    "    sorted_ngrams = sorted(ngram_freq, key=lambda x: x[1], reverse=True)[:top_n]\n",
    "    \n",
    "    return sorted_ngrams\n",
    "\n",
    "# Extract common positive and negative bigrams\n",
    "common_positive_bigrams = extract_common_ngrams(reviews, sentiment_label='positive', n=2, top_n=10)\n",
    "common_negative_bigrams = extract_common_ngrams(reviews, sentiment_label='negative', n=2, top_n=10)\n",
    "\n",
    "# Display results\n",
    "print(\"Top Positive Bigrams:\", common_positive_bigrams)\n",
    "print(\"Top Negative Bigrams:\", common_negative_bigrams)"
   ]
  },
  {
   "cell_type": "code",
   "execution_count": 100,
   "metadata": {},
   "outputs": [
    {
     "name": "stdout",
     "output_type": "stream",
     "text": [
      "Top Most Recommended: [('Hamburguesa Completa Con Huevo', 9), ('Hamburguesa Americana', 8), ('Hamburguesa Italiana', 6)]\n",
      "Least Recommended : ['Plaza de aparcamiento', 'Flan de Queso', 'Gofre Con Nocilla', 'Grandburguer HD', 'Hamburger', 'Hamburguesa Con Huevo', 'Tarta de Manzana', 'Tataki de Atún', 'Cheesecake', 'Hamburguesa Gallega', 'Brunch Con Baggel Salmón']\n"
     ]
    }
   ],
   "source": [
    "\n",
    "def analyze_recommended_dishes(df):\n",
    "    all_dishes = []\n",
    "\n",
    "    # Convert string representation of lists to actual lists and extend all_dishes\n",
    "    for item in df['recommendations_list'].dropna():\n",
    "        try:\n",
    "            dishes = ast.literal_eval(item)\n",
    "            if isinstance(dishes, list):\n",
    "                all_dishes.extend(dishes)\n",
    "        except:\n",
    "            continue\n",
    "\n",
    "    # Filter out empty values\n",
    "    all_dishes = [dish for dish in all_dishes if dish.strip() != '']\n",
    "\n",
    "    # Count the frequency of each dish\n",
    "    dish_counts = Counter(all_dishes)\n",
    "\n",
    "    # Most and least recommended dishes\n",
    "    most_common_dishes = dish_counts.most_common(3)\n",
    "    min_count = min(dish_counts.values())\n",
    "    worst_dishes = [dish for dish, count in dish_counts.items() if count == min_count]\n",
    "\n",
    "    print(\"Top Most Recommended:\", most_common_dishes)\n",
    "    print(\"Least Recommended :\", worst_dishes)\n",
    "\n",
    "# Apply the function\n",
    "analyze_recommended_dishes(reviews)\n"
   ]
  },
  {
   "cell_type": "markdown",
   "metadata": {},
   "source": [
    "#### Analyze embeddings"
   ]
  },
  {
   "cell_type": "code",
   "execution_count": 102,
   "metadata": {},
   "outputs": [
    {
     "ename": "MissingDataError",
     "evalue": "exog contains inf or nans",
     "output_type": "error",
     "traceback": [
      "\u001b[0;31m---------------------------------------------------------------------------\u001b[0m",
      "\u001b[0;31mMissingDataError\u001b[0m                          Traceback (most recent call last)",
      "Cell \u001b[0;32mIn[102], line 25\u001b[0m\n\u001b[1;32m     22\u001b[0m     \u001b[38;5;28mprint\u001b[39m(result\u001b[38;5;241m.\u001b[39msummary())\n\u001b[1;32m     24\u001b[0m \u001b[38;5;66;03m# Apply function\u001b[39;00m\n\u001b[0;32m---> 25\u001b[0m \u001b[43mevaluate_sentiment_factors\u001b[49m\u001b[43m(\u001b[49m\u001b[43mreviews\u001b[49m\u001b[43m)\u001b[49m\n",
      "Cell \u001b[0;32mIn[102], line 18\u001b[0m, in \u001b[0;36mevaluate_sentiment_factors\u001b[0;34m(df)\u001b[0m\n\u001b[1;32m     15\u001b[0m X \u001b[38;5;241m=\u001b[39m sm\u001b[38;5;241m.\u001b[39madd_constant(X)\n\u001b[1;32m     17\u001b[0m \u001b[38;5;66;03m# Fit logistic regression model\u001b[39;00m\n\u001b[0;32m---> 18\u001b[0m model \u001b[38;5;241m=\u001b[39m \u001b[43msm\u001b[49m\u001b[38;5;241;43m.\u001b[39;49m\u001b[43mLogit\u001b[49m\u001b[43m(\u001b[49m\u001b[43my\u001b[49m\u001b[43m,\u001b[49m\u001b[43m \u001b[49m\u001b[43mX\u001b[49m\u001b[43m)\u001b[49m\n\u001b[1;32m     19\u001b[0m result \u001b[38;5;241m=\u001b[39m model\u001b[38;5;241m.\u001b[39mfit()\n\u001b[1;32m     21\u001b[0m \u001b[38;5;66;03m# Print summary to understand importance of each factor\u001b[39;00m\n",
      "File \u001b[0;32m~/opt/anaconda3/envs/sar/lib/python3.9/site-packages/statsmodels/discrete/discrete_model.py:475\u001b[0m, in \u001b[0;36mBinaryModel.__init__\u001b[0;34m(self, endog, exog, offset, check_rank, **kwargs)\u001b[0m\n\u001b[1;32m    472\u001b[0m \u001b[38;5;28;01mdef\u001b[39;00m \u001b[38;5;21m__init__\u001b[39m(\u001b[38;5;28mself\u001b[39m, endog, exog, offset\u001b[38;5;241m=\u001b[39m\u001b[38;5;28;01mNone\u001b[39;00m, check_rank\u001b[38;5;241m=\u001b[39m\u001b[38;5;28;01mTrue\u001b[39;00m, \u001b[38;5;241m*\u001b[39m\u001b[38;5;241m*\u001b[39mkwargs):\n\u001b[1;32m    473\u001b[0m     \u001b[38;5;66;03m# unconditional check, requires no extra kwargs added by subclasses\u001b[39;00m\n\u001b[1;32m    474\u001b[0m     \u001b[38;5;28mself\u001b[39m\u001b[38;5;241m.\u001b[39m_check_kwargs(kwargs)\n\u001b[0;32m--> 475\u001b[0m     \u001b[38;5;28;43msuper\u001b[39;49m\u001b[43m(\u001b[49m\u001b[43m)\u001b[49m\u001b[38;5;241;43m.\u001b[39;49m\u001b[38;5;21;43m__init__\u001b[39;49m\u001b[43m(\u001b[49m\u001b[43mendog\u001b[49m\u001b[43m,\u001b[49m\u001b[43m \u001b[49m\u001b[43mexog\u001b[49m\u001b[43m,\u001b[49m\u001b[43m \u001b[49m\u001b[43moffset\u001b[49m\u001b[38;5;241;43m=\u001b[39;49m\u001b[43moffset\u001b[49m\u001b[43m,\u001b[49m\u001b[43m \u001b[49m\u001b[43mcheck_rank\u001b[49m\u001b[38;5;241;43m=\u001b[39;49m\u001b[43mcheck_rank\u001b[49m\u001b[43m,\u001b[49m\n\u001b[1;32m    476\u001b[0m \u001b[43m                     \u001b[49m\u001b[38;5;241;43m*\u001b[39;49m\u001b[38;5;241;43m*\u001b[39;49m\u001b[43mkwargs\u001b[49m\u001b[43m)\u001b[49m\n\u001b[1;32m    477\u001b[0m     \u001b[38;5;28;01mif\u001b[39;00m \u001b[38;5;129;01mnot\u001b[39;00m \u001b[38;5;28missubclass\u001b[39m(\u001b[38;5;28mself\u001b[39m\u001b[38;5;241m.\u001b[39m\u001b[38;5;18m__class__\u001b[39m, MultinomialModel):\n\u001b[1;32m    478\u001b[0m         \u001b[38;5;28;01mif\u001b[39;00m \u001b[38;5;129;01mnot\u001b[39;00m np\u001b[38;5;241m.\u001b[39mall((\u001b[38;5;28mself\u001b[39m\u001b[38;5;241m.\u001b[39mendog \u001b[38;5;241m>\u001b[39m\u001b[38;5;241m=\u001b[39m \u001b[38;5;241m0\u001b[39m) \u001b[38;5;241m&\u001b[39m (\u001b[38;5;28mself\u001b[39m\u001b[38;5;241m.\u001b[39mendog \u001b[38;5;241m<\u001b[39m\u001b[38;5;241m=\u001b[39m \u001b[38;5;241m1\u001b[39m)):\n",
      "File \u001b[0;32m~/opt/anaconda3/envs/sar/lib/python3.9/site-packages/statsmodels/discrete/discrete_model.py:185\u001b[0m, in \u001b[0;36mDiscreteModel.__init__\u001b[0;34m(self, endog, exog, check_rank, **kwargs)\u001b[0m\n\u001b[1;32m    183\u001b[0m \u001b[38;5;28;01mdef\u001b[39;00m \u001b[38;5;21m__init__\u001b[39m(\u001b[38;5;28mself\u001b[39m, endog, exog, check_rank\u001b[38;5;241m=\u001b[39m\u001b[38;5;28;01mTrue\u001b[39;00m, \u001b[38;5;241m*\u001b[39m\u001b[38;5;241m*\u001b[39mkwargs):\n\u001b[1;32m    184\u001b[0m     \u001b[38;5;28mself\u001b[39m\u001b[38;5;241m.\u001b[39m_check_rank \u001b[38;5;241m=\u001b[39m check_rank\n\u001b[0;32m--> 185\u001b[0m     \u001b[38;5;28;43msuper\u001b[39;49m\u001b[43m(\u001b[49m\u001b[43m)\u001b[49m\u001b[38;5;241;43m.\u001b[39;49m\u001b[38;5;21;43m__init__\u001b[39;49m\u001b[43m(\u001b[49m\u001b[43mendog\u001b[49m\u001b[43m,\u001b[49m\u001b[43m \u001b[49m\u001b[43mexog\u001b[49m\u001b[43m,\u001b[49m\u001b[43m \u001b[49m\u001b[38;5;241;43m*\u001b[39;49m\u001b[38;5;241;43m*\u001b[39;49m\u001b[43mkwargs\u001b[49m\u001b[43m)\u001b[49m\n\u001b[1;32m    186\u001b[0m     \u001b[38;5;28mself\u001b[39m\u001b[38;5;241m.\u001b[39mraise_on_perfect_prediction \u001b[38;5;241m=\u001b[39m \u001b[38;5;28;01mFalse\u001b[39;00m  \u001b[38;5;66;03m# keep for backwards compat\u001b[39;00m\n\u001b[1;32m    187\u001b[0m     \u001b[38;5;28mself\u001b[39m\u001b[38;5;241m.\u001b[39mk_extra \u001b[38;5;241m=\u001b[39m \u001b[38;5;241m0\u001b[39m\n",
      "File \u001b[0;32m~/opt/anaconda3/envs/sar/lib/python3.9/site-packages/statsmodels/base/model.py:270\u001b[0m, in \u001b[0;36mLikelihoodModel.__init__\u001b[0;34m(self, endog, exog, **kwargs)\u001b[0m\n\u001b[1;32m    269\u001b[0m \u001b[38;5;28;01mdef\u001b[39;00m \u001b[38;5;21m__init__\u001b[39m(\u001b[38;5;28mself\u001b[39m, endog, exog\u001b[38;5;241m=\u001b[39m\u001b[38;5;28;01mNone\u001b[39;00m, \u001b[38;5;241m*\u001b[39m\u001b[38;5;241m*\u001b[39mkwargs):\n\u001b[0;32m--> 270\u001b[0m     \u001b[38;5;28;43msuper\u001b[39;49m\u001b[43m(\u001b[49m\u001b[43m)\u001b[49m\u001b[38;5;241;43m.\u001b[39;49m\u001b[38;5;21;43m__init__\u001b[39;49m\u001b[43m(\u001b[49m\u001b[43mendog\u001b[49m\u001b[43m,\u001b[49m\u001b[43m \u001b[49m\u001b[43mexog\u001b[49m\u001b[43m,\u001b[49m\u001b[43m \u001b[49m\u001b[38;5;241;43m*\u001b[39;49m\u001b[38;5;241;43m*\u001b[39;49m\u001b[43mkwargs\u001b[49m\u001b[43m)\u001b[49m\n\u001b[1;32m    271\u001b[0m     \u001b[38;5;28mself\u001b[39m\u001b[38;5;241m.\u001b[39minitialize()\n",
      "File \u001b[0;32m~/opt/anaconda3/envs/sar/lib/python3.9/site-packages/statsmodels/base/model.py:95\u001b[0m, in \u001b[0;36mModel.__init__\u001b[0;34m(self, endog, exog, **kwargs)\u001b[0m\n\u001b[1;32m     93\u001b[0m missing \u001b[38;5;241m=\u001b[39m kwargs\u001b[38;5;241m.\u001b[39mpop(\u001b[38;5;124m'\u001b[39m\u001b[38;5;124mmissing\u001b[39m\u001b[38;5;124m'\u001b[39m, \u001b[38;5;124m'\u001b[39m\u001b[38;5;124mnone\u001b[39m\u001b[38;5;124m'\u001b[39m)\n\u001b[1;32m     94\u001b[0m hasconst \u001b[38;5;241m=\u001b[39m kwargs\u001b[38;5;241m.\u001b[39mpop(\u001b[38;5;124m'\u001b[39m\u001b[38;5;124mhasconst\u001b[39m\u001b[38;5;124m'\u001b[39m, \u001b[38;5;28;01mNone\u001b[39;00m)\n\u001b[0;32m---> 95\u001b[0m \u001b[38;5;28mself\u001b[39m\u001b[38;5;241m.\u001b[39mdata \u001b[38;5;241m=\u001b[39m \u001b[38;5;28;43mself\u001b[39;49m\u001b[38;5;241;43m.\u001b[39;49m\u001b[43m_handle_data\u001b[49m\u001b[43m(\u001b[49m\u001b[43mendog\u001b[49m\u001b[43m,\u001b[49m\u001b[43m \u001b[49m\u001b[43mexog\u001b[49m\u001b[43m,\u001b[49m\u001b[43m \u001b[49m\u001b[43mmissing\u001b[49m\u001b[43m,\u001b[49m\u001b[43m \u001b[49m\u001b[43mhasconst\u001b[49m\u001b[43m,\u001b[49m\n\u001b[1;32m     96\u001b[0m \u001b[43m                              \u001b[49m\u001b[38;5;241;43m*\u001b[39;49m\u001b[38;5;241;43m*\u001b[39;49m\u001b[43mkwargs\u001b[49m\u001b[43m)\u001b[49m\n\u001b[1;32m     97\u001b[0m \u001b[38;5;28mself\u001b[39m\u001b[38;5;241m.\u001b[39mk_constant \u001b[38;5;241m=\u001b[39m \u001b[38;5;28mself\u001b[39m\u001b[38;5;241m.\u001b[39mdata\u001b[38;5;241m.\u001b[39mk_constant\n\u001b[1;32m     98\u001b[0m \u001b[38;5;28mself\u001b[39m\u001b[38;5;241m.\u001b[39mexog \u001b[38;5;241m=\u001b[39m \u001b[38;5;28mself\u001b[39m\u001b[38;5;241m.\u001b[39mdata\u001b[38;5;241m.\u001b[39mexog\n",
      "File \u001b[0;32m~/opt/anaconda3/envs/sar/lib/python3.9/site-packages/statsmodels/base/model.py:135\u001b[0m, in \u001b[0;36mModel._handle_data\u001b[0;34m(self, endog, exog, missing, hasconst, **kwargs)\u001b[0m\n\u001b[1;32m    134\u001b[0m \u001b[38;5;28;01mdef\u001b[39;00m \u001b[38;5;21m_handle_data\u001b[39m(\u001b[38;5;28mself\u001b[39m, endog, exog, missing, hasconst, \u001b[38;5;241m*\u001b[39m\u001b[38;5;241m*\u001b[39mkwargs):\n\u001b[0;32m--> 135\u001b[0m     data \u001b[38;5;241m=\u001b[39m \u001b[43mhandle_data\u001b[49m\u001b[43m(\u001b[49m\u001b[43mendog\u001b[49m\u001b[43m,\u001b[49m\u001b[43m \u001b[49m\u001b[43mexog\u001b[49m\u001b[43m,\u001b[49m\u001b[43m \u001b[49m\u001b[43mmissing\u001b[49m\u001b[43m,\u001b[49m\u001b[43m \u001b[49m\u001b[43mhasconst\u001b[49m\u001b[43m,\u001b[49m\u001b[43m \u001b[49m\u001b[38;5;241;43m*\u001b[39;49m\u001b[38;5;241;43m*\u001b[39;49m\u001b[43mkwargs\u001b[49m\u001b[43m)\u001b[49m\n\u001b[1;32m    136\u001b[0m     \u001b[38;5;66;03m# kwargs arrays could have changed, easier to just attach here\u001b[39;00m\n\u001b[1;32m    137\u001b[0m     \u001b[38;5;28;01mfor\u001b[39;00m key \u001b[38;5;129;01min\u001b[39;00m kwargs:\n",
      "File \u001b[0;32m~/opt/anaconda3/envs/sar/lib/python3.9/site-packages/statsmodels/base/data.py:675\u001b[0m, in \u001b[0;36mhandle_data\u001b[0;34m(endog, exog, missing, hasconst, **kwargs)\u001b[0m\n\u001b[1;32m    672\u001b[0m     exog \u001b[38;5;241m=\u001b[39m np\u001b[38;5;241m.\u001b[39masarray(exog)\n\u001b[1;32m    674\u001b[0m klass \u001b[38;5;241m=\u001b[39m handle_data_class_factory(endog, exog)\n\u001b[0;32m--> 675\u001b[0m \u001b[38;5;28;01mreturn\u001b[39;00m \u001b[43mklass\u001b[49m\u001b[43m(\u001b[49m\u001b[43mendog\u001b[49m\u001b[43m,\u001b[49m\u001b[43m \u001b[49m\u001b[43mexog\u001b[49m\u001b[38;5;241;43m=\u001b[39;49m\u001b[43mexog\u001b[49m\u001b[43m,\u001b[49m\u001b[43m \u001b[49m\u001b[43mmissing\u001b[49m\u001b[38;5;241;43m=\u001b[39;49m\u001b[43mmissing\u001b[49m\u001b[43m,\u001b[49m\u001b[43m \u001b[49m\u001b[43mhasconst\u001b[49m\u001b[38;5;241;43m=\u001b[39;49m\u001b[43mhasconst\u001b[49m\u001b[43m,\u001b[49m\n\u001b[1;32m    676\u001b[0m \u001b[43m             \u001b[49m\u001b[38;5;241;43m*\u001b[39;49m\u001b[38;5;241;43m*\u001b[39;49m\u001b[43mkwargs\u001b[49m\u001b[43m)\u001b[49m\n",
      "File \u001b[0;32m~/opt/anaconda3/envs/sar/lib/python3.9/site-packages/statsmodels/base/data.py:88\u001b[0m, in \u001b[0;36mModelData.__init__\u001b[0;34m(self, endog, exog, missing, hasconst, **kwargs)\u001b[0m\n\u001b[1;32m     86\u001b[0m \u001b[38;5;28mself\u001b[39m\u001b[38;5;241m.\u001b[39mconst_idx \u001b[38;5;241m=\u001b[39m \u001b[38;5;28;01mNone\u001b[39;00m\n\u001b[1;32m     87\u001b[0m \u001b[38;5;28mself\u001b[39m\u001b[38;5;241m.\u001b[39mk_constant \u001b[38;5;241m=\u001b[39m \u001b[38;5;241m0\u001b[39m\n\u001b[0;32m---> 88\u001b[0m \u001b[38;5;28;43mself\u001b[39;49m\u001b[38;5;241;43m.\u001b[39;49m\u001b[43m_handle_constant\u001b[49m\u001b[43m(\u001b[49m\u001b[43mhasconst\u001b[49m\u001b[43m)\u001b[49m\n\u001b[1;32m     89\u001b[0m \u001b[38;5;28mself\u001b[39m\u001b[38;5;241m.\u001b[39m_check_integrity()\n\u001b[1;32m     90\u001b[0m \u001b[38;5;28mself\u001b[39m\u001b[38;5;241m.\u001b[39m_cache \u001b[38;5;241m=\u001b[39m {}\n",
      "File \u001b[0;32m~/opt/anaconda3/envs/sar/lib/python3.9/site-packages/statsmodels/base/data.py:134\u001b[0m, in \u001b[0;36mModelData._handle_constant\u001b[0;34m(self, hasconst)\u001b[0m\n\u001b[1;32m    132\u001b[0m exog_max \u001b[38;5;241m=\u001b[39m np\u001b[38;5;241m.\u001b[39mmax(\u001b[38;5;28mself\u001b[39m\u001b[38;5;241m.\u001b[39mexog, axis\u001b[38;5;241m=\u001b[39m\u001b[38;5;241m0\u001b[39m)\n\u001b[1;32m    133\u001b[0m \u001b[38;5;28;01mif\u001b[39;00m \u001b[38;5;129;01mnot\u001b[39;00m np\u001b[38;5;241m.\u001b[39misfinite(exog_max)\u001b[38;5;241m.\u001b[39mall():\n\u001b[0;32m--> 134\u001b[0m     \u001b[38;5;28;01mraise\u001b[39;00m MissingDataError(\u001b[38;5;124m'\u001b[39m\u001b[38;5;124mexog contains inf or nans\u001b[39m\u001b[38;5;124m'\u001b[39m)\n\u001b[1;32m    135\u001b[0m exog_min \u001b[38;5;241m=\u001b[39m np\u001b[38;5;241m.\u001b[39mmin(\u001b[38;5;28mself\u001b[39m\u001b[38;5;241m.\u001b[39mexog, axis\u001b[38;5;241m=\u001b[39m\u001b[38;5;241m0\u001b[39m)\n\u001b[1;32m    136\u001b[0m const_idx \u001b[38;5;241m=\u001b[39m np\u001b[38;5;241m.\u001b[39mwhere(exog_max \u001b[38;5;241m==\u001b[39m exog_min)[\u001b[38;5;241m0\u001b[39m]\u001b[38;5;241m.\u001b[39msqueeze()\n",
      "\u001b[0;31mMissingDataError\u001b[0m: exog contains inf or nans"
     ]
    }
   ],
   "source": [
    "import pandas as pd\n",
    "import numpy as np\n",
    "import statsmodels.api as sm\n",
    "\n",
    "def evaluate_sentiment_factors(df):\n",
    "    # Prepare data for regression analysis\n",
    "    X = df[['food_score', 'service_score', 'price_per_person_category']].dropna()\n",
    "    X['price_per_person_category'] = X['price_per_person_category'].map({'<10 €': 1, '10-20 €': 2, '20-30 €': 3, '30-40 €': 4, '>40 €': 5})\n",
    "    y = df['sentiment_label'].map({'positive': 1, 'negative': 0}).dropna()\n",
    "\n",
    "    # Align X and y indices\n",
    "    X, y = X.align(y, join='inner', axis=0)\n",
    "\n",
    "    # Add constant for logistic regression\n",
    "    X = sm.add_constant(X)\n",
    "\n",
    "    # Fit logistic regression model\n",
    "    model = sm.Logit(y, X)\n",
    "    result = model.fit()\n",
    "\n",
    "    # Print summary to understand importance of each factor\n",
    "    print(result.summary())\n",
    "\n",
    "# Apply function\n",
    "evaluate_sentiment_factors(reviews)\n"
   ]
  },
  {
   "cell_type": "code",
   "execution_count": 103,
   "metadata": {},
   "outputs": [
    {
     "data": {
      "image/png": "[encoded data removed]",
      "text/plain": [
       "<Figure size 1000x600 with 2 Axes>"
      ]
     },
     "metadata": {},
     "output_type": "display_data"
    }
   ],
   "source": [
    "import matplotlib.pyplot as plt\n",
    "from sklearn.decomposition import PCA\n",
    "\n",
    "def analyze_embeddings_by_rating(df):\n",
    "    embeddings = np.array(df['embedding'].tolist())\n",
    "    ratings = df['rating_score']\n",
    "\n",
    "    # Reduce dimensionality with PCA for visualization\n",
    "    pca = PCA(n_components=2)\n",
    "    reduced_embeddings = pca.fit_transform(embeddings)\n",
    "\n",
    "    # Scatter plot colored by rating score\n",
    "    plt.figure(figsize=(10, 6))\n",
    "    scatter = plt.scatter(reduced_embeddings[:, 0], reduced_embeddings[:, 1], c=ratings, cmap='viridis', alpha=0.7)\n",
    "    plt.colorbar(scatter, label='Rating Score')\n",
    "    plt.title('Embeddings by Rating Score')\n",
    "    plt.xlabel('PCA Component 1')\n",
    "    plt.ylabel('PCA Component 2')\n",
    "    plt.grid(True, linestyle='--', alpha=0.5)\n",
    "    plt.show()\n",
    "\n",
    "# Apply function\n",
    "analyze_embeddings_by_rating(reviews)"
   ]
  },
  {
   "cell_type": "code",
   "execution_count": 105,
   "metadata": {},
   "outputs": [
    {
     "name": "stdout",
     "output_type": "stream",
     "text": [
      "Topic 0: 0.026*\"hamburguesa\" + 0.010*\"madrid\" + 0.010*\"poder\" + 0.009*\"mejor\" + 0.009*\"precio\"\n",
      "Topic 1: 0.027*\"buen\" + 0.021*\"hamburguesa\" + 0.019*\"comida\" + 0.015*\"servicio\" + 0.010*\"excelente\"\n",
      "Topic 2: 0.023*\"buen\" + 0.020*\"hamburguesa\" + 0.012*\"bien\" + 0.011*\"comida\" + 0.010*\"precio\"\n",
      "Topic 3: 0.021*\"buen\" + 0.010*\"hamburguesa\" + 0.008*\"buena\" + 0.007*\"bastante\" + 0.007*\"volver\"\n",
      "Topic 4: 0.022*\"lugar\" + 0.015*\"hamburguesa\" + 0.011*\"comida\" + 0.010*\"amable\" + 0.008*\"ambiente\"\n"
     ]
    }
   ],
   "source": [
    "from gensim import corpora\n",
    "from gensim.models import LdaModel\n",
    "\n",
    "def analyze_topics_with_lda(df):\n",
    "    # Prepare corpus for LDA\n",
    "    cleaned_reviews = df['cleaned_review'].dropna().tolist()\n",
    "    tokenized_reviews = [review.split() for review in cleaned_reviews]\n",
    "    dictionary = corpora.Dictionary(tokenized_reviews)\n",
    "    corpus = [dictionary.doc2bow(review) for review in tokenized_reviews]\n",
    "\n",
    "    # Train LDA model\n",
    "    lda_model = LdaModel(corpus, num_topics=5, id2word=dictionary, passes=10)\n",
    "\n",
    "    # Print topics\n",
    "    topics = lda_model.print_topics(num_words=5)\n",
    "    for topic in topics:\n",
    "        print(f\"Topic {topic[0]}: {topic[1]}\")\n",
    "    return lda_model, topics\n",
    "\n",
    "# Apply function\n",
    "lda_model, topics = analyze_topics_with_lda(reviews)\n"
   ]
  },
  {
   "cell_type": "code",
   "execution_count": 106,
   "metadata": {},
   "outputs": [
    {
     "name": "stdout",
     "output_type": "stream",
     "text": [
      "sentiment_label  negative  neutral  positive\n",
      "topic                                       \n",
      "0                       8        9       102\n",
      "1                       4        2        74\n",
      "2                       8        7        82\n",
      "3                       3        0        14\n",
      "4                       6        5        36\n"
     ]
    }
   ],
   "source": [
    "def map_sentiments_to_topics(df, lda_model):\n",
    "    cleaned_reviews = df['cleaned_review'].dropna().tolist()\n",
    "    tokenized_reviews = [review.split() for review in cleaned_reviews]\n",
    "    dictionary = corpora.Dictionary(tokenized_reviews)\n",
    "    corpus = [dictionary.doc2bow(review) for review in tokenized_reviews]\n",
    "\n",
    "    # Predict topics for each review\n",
    "    df['topic'] = [max(lda_model.get_document_topics(bow), key=lambda x: x[1])[0] for bow in corpus]\n",
    "\n",
    "    # Count the number of positive, negative reviews per topic\n",
    "    topic_sentiment_counts = df.groupby(['topic', 'sentiment_label']).size().unstack(fill_value=0)\n",
    "    print(topic_sentiment_counts)\n",
    "\n",
    "# Apply function\n",
    "map_sentiments_to_topics(reviews, lda_model)\n"
   ]
  },
  {
   "cell_type": "code",
   "execution_count": 109,
   "metadata": {},
   "outputs": [
    {
     "ename": "ModuleNotFoundError",
     "evalue": "No module named 'umap.umap_'",
     "output_type": "error",
     "traceback": [
      "\u001b[0;31m---------------------------------------------------------------------------\u001b[0m",
      "\u001b[0;31mModuleNotFoundError\u001b[0m                       Traceback (most recent call last)",
      "Cell \u001b[0;32mIn[109], line 1\u001b[0m\n\u001b[0;32m----> 1\u001b[0m \u001b[38;5;28;01mimport\u001b[39;00m \u001b[38;5;21;01mumap\u001b[39;00m\u001b[38;5;21;01m.\u001b[39;00m\u001b[38;5;21;01mumap_\u001b[39;00m \u001b[38;5;28;01mas\u001b[39;00m \u001b[38;5;21;01mumap\u001b[39;00m\n\u001b[1;32m      2\u001b[0m \u001b[38;5;28;01mimport\u001b[39;00m \u001b[38;5;21;01mplotly\u001b[39;00m\u001b[38;5;21;01m.\u001b[39;00m\u001b[38;5;21;01mexpress\u001b[39;00m \u001b[38;5;28;01mas\u001b[39;00m \u001b[38;5;21;01mpx\u001b[39;00m\n\u001b[1;32m      3\u001b[0m \u001b[38;5;28;01mimport\u001b[39;00m \u001b[38;5;21;01mnumpy\u001b[39;00m \u001b[38;5;28;01mas\u001b[39;00m \u001b[38;5;21;01mnp\u001b[39;00m\n",
      "\u001b[0;31mModuleNotFoundError\u001b[0m: No module named 'umap.umap_'"
     ]
    }
   ],
   "source": [
    "import umap.umap_ as umap\n",
    "import plotly.express as px\n",
    "import numpy as np\n",
    "import pandas as pd\n",
    "\n",
    "def visualize_embeddings(df):\n",
    "    embeddings = np.array(df['embedding'].tolist())\n",
    "    sentiment_labels = df['sentiment_label']\n",
    "\n",
    "    # Reduce dimensionality with UMAP\n",
    "    reducer = umap.UMAP(n_neighbors=15, min_dist=0.1, n_components=2, random_state=42)\n",
    "    reduced_embeddings = reducer.fit_transform(embeddings)\n",
    "\n",
    "    # Create DataFrame for visualization\n",
    "    viz_df = pd.DataFrame(reduced_embeddings, columns=['x', 'y'])\n",
    "    viz_df['sentiment_label'] = sentiment_labels\n",
    "\n",
    "    # Scatter plot with Plotly for interactive visualization\n",
    "    fig = px.scatter(\n",
    "        viz_df,\n",
    "        x='x',\n",
    "        y='y',\n",
    "        color='sentiment_label',\n",
    "        title='Embedding Visualization with UMAP',\n",
    "        labels={'x': 'UMAP Dimension 1', 'y': 'UMAP Dimension 2'},\n",
    "        color_discrete_map={'positive': 'green', 'neutral': 'gray', 'negative': 'red'},\n",
    "        opacity=0.7\n",
    "    )\n",
    "    fig.update_layout(showlegend=True, legend=dict(title='Sentiment'), margin=dict(l=10, r=10, t=40, b=10))\n",
    "    fig.show()\n",
    "\n",
    "# Apply function\n",
    "visualize_embeddings(reviews)\n"
   ]
  },
  {
   "cell_type": "markdown",
   "metadata": {},
   "source": [
    "#### Extract moments with worst rating and process that reviews"
   ]
  },
  {
   "cell_type": "code",
   "execution_count": null,
   "metadata": {},
   "outputs": [],
   "source": []
  },
  {
   "cell_type": "code",
   "execution_count": null,
   "metadata": {},
   "outputs": [],
   "source": []
  },
  {
   "cell_type": "markdown",
   "metadata": {},
   "source": [
    "#### Extract outliers and pain points"
   ]
  },
  {
   "cell_type": "code",
   "execution_count": null,
   "metadata": {},
   "outputs": [],
   "source": [
    "## extract the reviews with negative sentiment:\n",
    "# each one for very low category score\n",
    "# worst 3 words\n",
    "# worst 3 bigrams\n"
   ]
  },
  {
   "cell_type": "code",
   "execution_count": null,
   "metadata": {},
   "outputs": [],
   "source": [
    "# put together each one in a string and send it to gpt api to extract the main pain points to improve"
   ]
  },
  {
   "cell_type": "code",
   "execution_count": null,
   "metadata": {},
   "outputs": [],
   "source": []
  },
  {
   "cell_type": "code",
   "execution_count": null,
   "metadata": {},
   "outputs": [],
   "source": []
  }
 ],
 "metadata": {
  "kernelspec": {
   "display_name": "sar",
   "language": "python",
   "name": "python3"
  },
  "language_info": {
   "codemirror_mode": {
    "name": "ipython",
    "version": 3
   },
   "file_extension": ".py",
   "mimetype": "text/x-python",
   "name": "python",
   "nbconvert_exporter": "python",
   "pygments_lexer": "ipython3",
   "version": "3.9.19"
  }
 },
 "nbformat": 4,
 "nbformat_minor": 2
}
