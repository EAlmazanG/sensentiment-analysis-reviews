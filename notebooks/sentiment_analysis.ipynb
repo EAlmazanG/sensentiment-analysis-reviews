{
 "cells": [
  {
   "cell_type": "code",
   "execution_count": 143,
   "metadata": {},
   "outputs": [],
   "source": [
    "import pandas as pd\n",
    "import numpy as np\n",
    "import re\n",
    "import ast\n",
    "\n",
    "import datetime\n",
    "\n",
    "import matplotlib.pyplot as plt\n",
    "import seaborn as sns\n",
    "import plotly.graph_objects as go\n",
    "import plotly.express as px\n",
    "from plotly.subplots import make_subplots"
   ]
  },
  {
   "cell_type": "code",
   "execution_count": 144,
   "metadata": {},
   "outputs": [
    {
     "data": {
      "text/html": [
       "<div>\n",
       "<style scoped>\n",
       "    .dataframe tbody tr th:only-of-type {\n",
       "        vertical-align: middle;\n",
       "    }\n",
       "\n",
       "    .dataframe tbody tr th {\n",
       "        vertical-align: top;\n",
       "    }\n",
       "\n",
       "    .dataframe thead th {\n",
       "        text-align: right;\n",
       "    }\n",
       "</style>\n",
       "<table border=\"1\" class=\"dataframe\">\n",
       "  <thead>\n",
       "    <tr style=\"text-align: right;\">\n",
       "      <th></th>\n",
       "      <th>stars</th>\n",
       "      <th>reviews</th>\n",
       "    </tr>\n",
       "  </thead>\n",
       "  <tbody>\n",
       "    <tr>\n",
       "      <th>0</th>\n",
       "      <td>5</td>\n",
       "      <td>2290</td>\n",
       "    </tr>\n",
       "    <tr>\n",
       "      <th>1</th>\n",
       "      <td>4</td>\n",
       "      <td>1308</td>\n",
       "    </tr>\n",
       "    <tr>\n",
       "      <th>2</th>\n",
       "      <td>3</td>\n",
       "      <td>396</td>\n",
       "    </tr>\n",
       "    <tr>\n",
       "      <th>3</th>\n",
       "      <td>2</td>\n",
       "      <td>132</td>\n",
       "    </tr>\n",
       "    <tr>\n",
       "      <th>4</th>\n",
       "      <td>1</td>\n",
       "      <td>128</td>\n",
       "    </tr>\n",
       "  </tbody>\n",
       "</table>\n",
       "</div>"
      ],
      "text/plain": [
       "   stars  reviews\n",
       "0      5     2290\n",
       "1      4     1308\n",
       "2      3      396\n",
       "3      2      132\n",
       "4      1      128"
      ]
     },
     "metadata": {},
     "output_type": "display_data"
    },
    {
     "data": {
      "text/html": [
       "<div>\n",
       "<style scoped>\n",
       "    .dataframe tbody tr th:only-of-type {\n",
       "        vertical-align: middle;\n",
       "    }\n",
       "\n",
       "    .dataframe tbody tr th {\n",
       "        vertical-align: top;\n",
       "    }\n",
       "\n",
       "    .dataframe thead th {\n",
       "        text-align: right;\n",
       "    }\n",
       "</style>\n",
       "<table border=\"1\" class=\"dataframe\">\n",
       "  <thead>\n",
       "    <tr style=\"text-align: right;\">\n",
       "      <th></th>\n",
       "      <th>review_id</th>\n",
       "      <th>review</th>\n",
       "      <th>local_guide_reviews</th>\n",
       "      <th>rating_score</th>\n",
       "      <th>service</th>\n",
       "      <th>meal_type</th>\n",
       "      <th>price_per_person_category</th>\n",
       "      <th>food_score</th>\n",
       "      <th>service_score</th>\n",
       "      <th>atmosphere_score</th>\n",
       "      <th>recommendations_list</th>\n",
       "      <th>date</th>\n",
       "      <th>avg_price_per_person</th>\n",
       "    </tr>\n",
       "  </thead>\n",
       "  <tbody>\n",
       "    <tr>\n",
       "      <th>157</th>\n",
       "      <td>157</td>\n",
       "      <td>De esos sitios que tienen malas maneras los em...</td>\n",
       "      <td>219.0</td>\n",
       "      <td>1.0</td>\n",
       "      <td>Comí allí</td>\n",
       "      <td>Otro</td>\n",
       "      <td>10-20 €</td>\n",
       "      <td>2.0</td>\n",
       "      <td>1.0</td>\n",
       "      <td>2.0</td>\n",
       "      <td>['']</td>\n",
       "      <td>2024-02-01</td>\n",
       "      <td>20.0</td>\n",
       "    </tr>\n",
       "    <tr>\n",
       "      <th>51</th>\n",
       "      <td>51</td>\n",
       "      <td>Una cafetería con un ambiente agradable.  Iba ...</td>\n",
       "      <td>651.0</td>\n",
       "      <td>5.0</td>\n",
       "      <td>NaN</td>\n",
       "      <td>Otro</td>\n",
       "      <td>10-20 €</td>\n",
       "      <td>5.0</td>\n",
       "      <td>5.0</td>\n",
       "      <td>5.0</td>\n",
       "      <td>['']</td>\n",
       "      <td>2024-02-01</td>\n",
       "      <td>20.0</td>\n",
       "    </tr>\n",
       "    <tr>\n",
       "      <th>20</th>\n",
       "      <td>20</td>\n",
       "      <td>Siguiendo recomendaciones decidí visitar hoy D...</td>\n",
       "      <td>33.0</td>\n",
       "      <td>5.0</td>\n",
       "      <td>Comí allí</td>\n",
       "      <td>Cena</td>\n",
       "      <td>20-30 €</td>\n",
       "      <td>5.0</td>\n",
       "      <td>5.0</td>\n",
       "      <td>5.0</td>\n",
       "      <td>['Sándwich de Pollo Frito', 'Hamburguesa Compl...</td>\n",
       "      <td>2024-01-01</td>\n",
       "      <td>30.0</td>\n",
       "    </tr>\n",
       "    <tr>\n",
       "      <th>346</th>\n",
       "      <td>346</td>\n",
       "      <td>NaN</td>\n",
       "      <td>348.0</td>\n",
       "      <td>4.0</td>\n",
       "      <td>NaN</td>\n",
       "      <td>NaN</td>\n",
       "      <td>NaN</td>\n",
       "      <td>2.0</td>\n",
       "      <td>4.0</td>\n",
       "      <td>3.0</td>\n",
       "      <td>['']</td>\n",
       "      <td>2023-11-01</td>\n",
       "      <td>NaN</td>\n",
       "    </tr>\n",
       "    <tr>\n",
       "      <th>66</th>\n",
       "      <td>66</td>\n",
       "      <td>Hamburguesas buenísimas, como siempre. El mil ...</td>\n",
       "      <td>427.0</td>\n",
       "      <td>4.0</td>\n",
       "      <td>NaN</td>\n",
       "      <td>NaN</td>\n",
       "      <td>NaN</td>\n",
       "      <td>NaN</td>\n",
       "      <td>NaN</td>\n",
       "      <td>NaN</td>\n",
       "      <td>['']</td>\n",
       "      <td>2018-01-01</td>\n",
       "      <td>NaN</td>\n",
       "    </tr>\n",
       "  </tbody>\n",
       "</table>\n",
       "</div>"
      ],
      "text/plain": [
       "     review_id                                             review  \\\n",
       "157        157  De esos sitios que tienen malas maneras los em...   \n",
       "51          51  Una cafetería con un ambiente agradable.  Iba ...   \n",
       "20          20  Siguiendo recomendaciones decidí visitar hoy D...   \n",
       "346        346                                                NaN   \n",
       "66          66  Hamburguesas buenísimas, como siempre. El mil ...   \n",
       "\n",
       "     local_guide_reviews  rating_score    service meal_type  \\\n",
       "157                219.0           1.0  Comí allí      Otro   \n",
       "51                 651.0           5.0        NaN      Otro   \n",
       "20                  33.0           5.0  Comí allí      Cena   \n",
       "346                348.0           4.0        NaN       NaN   \n",
       "66                 427.0           4.0        NaN       NaN   \n",
       "\n",
       "    price_per_person_category  food_score  service_score  atmosphere_score  \\\n",
       "157                   10-20 €         2.0            1.0               2.0   \n",
       "51                    10-20 €         5.0            5.0               5.0   \n",
       "20                    20-30 €         5.0            5.0               5.0   \n",
       "346                       NaN         2.0            4.0               3.0   \n",
       "66                        NaN         NaN            NaN               NaN   \n",
       "\n",
       "                                  recommendations_list        date  \\\n",
       "157                                               ['']  2024-02-01   \n",
       "51                                                ['']  2024-02-01   \n",
       "20   ['Sándwich de Pollo Frito', 'Hamburguesa Compl...  2024-01-01   \n",
       "346                                               ['']  2023-11-01   \n",
       "66                                                ['']  2018-01-01   \n",
       "\n",
       "     avg_price_per_person  \n",
       "157                  20.0  \n",
       "51                   20.0  \n",
       "20                   30.0  \n",
       "346                   NaN  \n",
       "66                    NaN  "
      ]
     },
     "metadata": {},
     "output_type": "display_data"
    }
   ],
   "source": [
    "# Load the processed and cleaned data\n",
    "processed_data_path = '../data/processed/'\n",
    "raw_data_path = '../data/raw/'\n",
    "\n",
    "name = 'hd'\n",
    "\n",
    "reviews_pro = pd.read_csv(processed_data_path + name + '_reviews.csv')\n",
    "resumme_raw = pd.read_csv(raw_data_path + 'resumme_' + name + '.csv')\n",
    "\n",
    "display(resumme_raw)\n",
    "display(reviews_pro.sample(5))\n",
    "\n",
    "reviews = reviews_pro.copy()\n",
    "resumme = resumme_raw.copy()"
   ]
  },
  {
   "cell_type": "markdown",
   "metadata": {},
   "source": [
    "### First draft summary plots "
   ]
  },
  {
   "cell_type": "code",
   "execution_count": 145,
   "metadata": {},
   "outputs": [
    {
     "data": {
      "application/vnd.plotly.v1+json": {
       "config": {
        "plotlyServerURL": "https://plot.ly"
       },
       "data": [
        {
         "mode": "text",
         "text": [
          "4.29"
         ],
         "textfont": {
          "size": 120
         },
         "type": "scatter",
         "x": [
          0
         ],
         "xaxis": "x",
         "y": [
          0
         ],
         "yaxis": "y"
        },
        {
         "marker": {
          "color": "lightskyblue"
         },
         "name": "Reviews",
         "orientation": "h",
         "text": [
          2290,
          1308,
          396,
          132,
          128
         ],
         "textposition": "auto",
         "type": "bar",
         "x": [
          2290,
          1308,
          396,
          132,
          128
         ],
         "xaxis": "x2",
         "y": [
          5,
          4,
          3,
          2,
          1
         ],
         "yaxis": "y2"
        },
        {
         "marker": {
          "color": "lightgreen"
         },
         "name": "Categories",
         "orientation": "h",
         "text": [
          "4.37",
          "4.51",
          "4.47"
         ],
         "textposition": "auto",
         "type": "bar",
         "x": [
          4.366412213740458,
          4.511111111111111,
          4.470149253731344
         ],
         "xaxis": "x3",
         "y": [
          "Food",
          "Service",
          "Atmosphere"
         ],
         "yaxis": "y3"
        }
       ],
       "layout": {
        "annotations": [
         {
          "font": {
           "size": 16
          },
          "showarrow": false,
          "text": "Average Score",
          "x": 0.14444444444444446,
          "xanchor": "center",
          "xref": "paper",
          "y": 1,
          "yanchor": "bottom",
          "yref": "paper"
         },
         {
          "font": {
           "size": 16
          },
          "showarrow": false,
          "text": "Number of Reviews",
          "x": 0.5,
          "xanchor": "center",
          "xref": "paper",
          "y": 1,
          "yanchor": "bottom",
          "yref": "paper"
         },
         {
          "font": {
           "size": 16
          },
          "showarrow": false,
          "text": "Categories",
          "x": 0.8555555555555556,
          "xanchor": "center",
          "xref": "paper",
          "y": 1,
          "yanchor": "bottom",
          "yref": "paper"
         }
        ],
        "height": 500,
        "paper_bgcolor": "white",
        "plot_bgcolor": "white",
        "showlegend": false,
        "template": {
         "data": {
          "bar": [
           {
            "error_x": {
             "color": "#2a3f5f"
            },
            "error_y": {
             "color": "#2a3f5f"
            },
            "marker": {
             "line": {
              "color": "#E5ECF6",
              "width": 0.5
             },
             "pattern": {
              "fillmode": "overlay",
              "size": 10,
              "solidity": 0.2
             }
            },
            "type": "bar"
           }
          ],
          "barpolar": [
           {
            "marker": {
             "line": {
              "color": "#E5ECF6",
              "width": 0.5
             },
             "pattern": {
              "fillmode": "overlay",
              "size": 10,
              "solidity": 0.2
             }
            },
            "type": "barpolar"
           }
          ],
          "carpet": [
           {
            "aaxis": {
             "endlinecolor": "#2a3f5f",
             "gridcolor": "white",
             "linecolor": "white",
             "minorgridcolor": "white",
             "startlinecolor": "#2a3f5f"
            },
            "baxis": {
             "endlinecolor": "#2a3f5f",
             "gridcolor": "white",
             "linecolor": "white",
             "minorgridcolor": "white",
             "startlinecolor": "#2a3f5f"
            },
            "type": "carpet"
           }
          ],
          "choropleth": [
           {
            "colorbar": {
             "outlinewidth": 0,
             "ticks": ""
            },
            "type": "choropleth"
           }
          ],
          "contour": [
           {
            "colorbar": {
             "outlinewidth": 0,
             "ticks": ""
            },
            "colorscale": [
             [
              0,
              "#0d0887"
             ],
             [
              0.1111111111111111,
              "#46039f"
             ],
             [
              0.2222222222222222,
              "#7201a8"
             ],
             [
              0.3333333333333333,
              "#9c179e"
             ],
             [
              0.4444444444444444,
              "#bd3786"
             ],
             [
              0.5555555555555556,
              "#d8576b"
             ],
             [
              0.6666666666666666,
              "#ed7953"
             ],
             [
              0.7777777777777778,
              "#fb9f3a"
             ],
             [
              0.8888888888888888,
              "#fdca26"
             ],
             [
              1,
              "#f0f921"
             ]
            ],
            "type": "contour"
           }
          ],
          "contourcarpet": [
           {
            "colorbar": {
             "outlinewidth": 0,
             "ticks": ""
            },
            "type": "contourcarpet"
           }
          ],
          "heatmap": [
           {
            "colorbar": {
             "outlinewidth": 0,
             "ticks": ""
            },
            "colorscale": [
             [
              0,
              "#0d0887"
             ],
             [
              0.1111111111111111,
              "#46039f"
             ],
             [
              0.2222222222222222,
              "#7201a8"
             ],
             [
              0.3333333333333333,
              "#9c179e"
             ],
             [
              0.4444444444444444,
              "#bd3786"
             ],
             [
              0.5555555555555556,
              "#d8576b"
             ],
             [
              0.6666666666666666,
              "#ed7953"
             ],
             [
              0.7777777777777778,
              "#fb9f3a"
             ],
             [
              0.8888888888888888,
              "#fdca26"
             ],
             [
              1,
              "#f0f921"
             ]
            ],
            "type": "heatmap"
           }
          ],
          "heatmapgl": [
           {
            "colorbar": {
             "outlinewidth": 0,
             "ticks": ""
            },
            "colorscale": [
             [
              0,
              "#0d0887"
             ],
             [
              0.1111111111111111,
              "#46039f"
             ],
             [
              0.2222222222222222,
              "#7201a8"
             ],
             [
              0.3333333333333333,
              "#9c179e"
             ],
             [
              0.4444444444444444,
              "#bd3786"
             ],
             [
              0.5555555555555556,
              "#d8576b"
             ],
             [
              0.6666666666666666,
              "#ed7953"
             ],
             [
              0.7777777777777778,
              "#fb9f3a"
             ],
             [
              0.8888888888888888,
              "#fdca26"
             ],
             [
              1,
              "#f0f921"
             ]
            ],
            "type": "heatmapgl"
           }
          ],
          "histogram": [
           {
            "marker": {
             "pattern": {
              "fillmode": "overlay",
              "size": 10,
              "solidity": 0.2
             }
            },
            "type": "histogram"
           }
          ],
          "histogram2d": [
           {
            "colorbar": {
             "outlinewidth": 0,
             "ticks": ""
            },
            "colorscale": [
             [
              0,
              "#0d0887"
             ],
             [
              0.1111111111111111,
              "#46039f"
             ],
             [
              0.2222222222222222,
              "#7201a8"
             ],
             [
              0.3333333333333333,
              "#9c179e"
             ],
             [
              0.4444444444444444,
              "#bd3786"
             ],
             [
              0.5555555555555556,
              "#d8576b"
             ],
             [
              0.6666666666666666,
              "#ed7953"
             ],
             [
              0.7777777777777778,
              "#fb9f3a"
             ],
             [
              0.8888888888888888,
              "#fdca26"
             ],
             [
              1,
              "#f0f921"
             ]
            ],
            "type": "histogram2d"
           }
          ],
          "histogram2dcontour": [
           {
            "colorbar": {
             "outlinewidth": 0,
             "ticks": ""
            },
            "colorscale": [
             [
              0,
              "#0d0887"
             ],
             [
              0.1111111111111111,
              "#46039f"
             ],
             [
              0.2222222222222222,
              "#7201a8"
             ],
             [
              0.3333333333333333,
              "#9c179e"
             ],
             [
              0.4444444444444444,
              "#bd3786"
             ],
             [
              0.5555555555555556,
              "#d8576b"
             ],
             [
              0.6666666666666666,
              "#ed7953"
             ],
             [
              0.7777777777777778,
              "#fb9f3a"
             ],
             [
              0.8888888888888888,
              "#fdca26"
             ],
             [
              1,
              "#f0f921"
             ]
            ],
            "type": "histogram2dcontour"
           }
          ],
          "mesh3d": [
           {
            "colorbar": {
             "outlinewidth": 0,
             "ticks": ""
            },
            "type": "mesh3d"
           }
          ],
          "parcoords": [
           {
            "line": {
             "colorbar": {
              "outlinewidth": 0,
              "ticks": ""
             }
            },
            "type": "parcoords"
           }
          ],
          "pie": [
           {
            "automargin": true,
            "type": "pie"
           }
          ],
          "scatter": [
           {
            "fillpattern": {
             "fillmode": "overlay",
             "size": 10,
             "solidity": 0.2
            },
            "type": "scatter"
           }
          ],
          "scatter3d": [
           {
            "line": {
             "colorbar": {
              "outlinewidth": 0,
              "ticks": ""
             }
            },
            "marker": {
             "colorbar": {
              "outlinewidth": 0,
              "ticks": ""
             }
            },
            "type": "scatter3d"
           }
          ],
          "scattercarpet": [
           {
            "marker": {
             "colorbar": {
              "outlinewidth": 0,
              "ticks": ""
             }
            },
            "type": "scattercarpet"
           }
          ],
          "scattergeo": [
           {
            "marker": {
             "colorbar": {
              "outlinewidth": 0,
              "ticks": ""
             }
            },
            "type": "scattergeo"
           }
          ],
          "scattergl": [
           {
            "marker": {
             "colorbar": {
              "outlinewidth": 0,
              "ticks": ""
             }
            },
            "type": "scattergl"
           }
          ],
          "scattermapbox": [
           {
            "marker": {
             "colorbar": {
              "outlinewidth": 0,
              "ticks": ""
             }
            },
            "type": "scattermapbox"
           }
          ],
          "scatterpolar": [
           {
            "marker": {
             "colorbar": {
              "outlinewidth": 0,
              "ticks": ""
             }
            },
            "type": "scatterpolar"
           }
          ],
          "scatterpolargl": [
           {
            "marker": {
             "colorbar": {
              "outlinewidth": 0,
              "ticks": ""
             }
            },
            "type": "scatterpolargl"
           }
          ],
          "scatterternary": [
           {
            "marker": {
             "colorbar": {
              "outlinewidth": 0,
              "ticks": ""
             }
            },
            "type": "scatterternary"
           }
          ],
          "surface": [
           {
            "colorbar": {
             "outlinewidth": 0,
             "ticks": ""
            },
            "colorscale": [
             [
              0,
              "#0d0887"
             ],
             [
              0.1111111111111111,
              "#46039f"
             ],
             [
              0.2222222222222222,
              "#7201a8"
             ],
             [
              0.3333333333333333,
              "#9c179e"
             ],
             [
              0.4444444444444444,
              "#bd3786"
             ],
             [
              0.5555555555555556,
              "#d8576b"
             ],
             [
              0.6666666666666666,
              "#ed7953"
             ],
             [
              0.7777777777777778,
              "#fb9f3a"
             ],
             [
              0.8888888888888888,
              "#fdca26"
             ],
             [
              1,
              "#f0f921"
             ]
            ],
            "type": "surface"
           }
          ],
          "table": [
           {
            "cells": {
             "fill": {
              "color": "#EBF0F8"
             },
             "line": {
              "color": "white"
             }
            },
            "header": {
             "fill": {
              "color": "#C8D4E3"
             },
             "line": {
              "color": "white"
             }
            },
            "type": "table"
           }
          ]
         },
         "layout": {
          "annotationdefaults": {
           "arrowcolor": "#2a3f5f",
           "arrowhead": 0,
           "arrowwidth": 1
          },
          "autotypenumbers": "strict",
          "coloraxis": {
           "colorbar": {
            "outlinewidth": 0,
            "ticks": ""
           }
          },
          "colorscale": {
           "diverging": [
            [
             0,
             "#8e0152"
            ],
            [
             0.1,
             "#c51b7d"
            ],
            [
             0.2,
             "#de77ae"
            ],
            [
             0.3,
             "#f1b6da"
            ],
            [
             0.4,
             "#fde0ef"
            ],
            [
             0.5,
             "#f7f7f7"
            ],
            [
             0.6,
             "#e6f5d0"
            ],
            [
             0.7,
             "#b8e186"
            ],
            [
             0.8,
             "#7fbc41"
            ],
            [
             0.9,
             "#4d9221"
            ],
            [
             1,
             "#276419"
            ]
           ],
           "sequential": [
            [
             0,
             "#0d0887"
            ],
            [
             0.1111111111111111,
             "#46039f"
            ],
            [
             0.2222222222222222,
             "#7201a8"
            ],
            [
             0.3333333333333333,
             "#9c179e"
            ],
            [
             0.4444444444444444,
             "#bd3786"
            ],
            [
             0.5555555555555556,
             "#d8576b"
            ],
            [
             0.6666666666666666,
             "#ed7953"
            ],
            [
             0.7777777777777778,
             "#fb9f3a"
            ],
            [
             0.8888888888888888,
             "#fdca26"
            ],
            [
             1,
             "#f0f921"
            ]
           ],
           "sequentialminus": [
            [
             0,
             "#0d0887"
            ],
            [
             0.1111111111111111,
             "#46039f"
            ],
            [
             0.2222222222222222,
             "#7201a8"
            ],
            [
             0.3333333333333333,
             "#9c179e"
            ],
            [
             0.4444444444444444,
             "#bd3786"
            ],
            [
             0.5555555555555556,
             "#d8576b"
            ],
            [
             0.6666666666666666,
             "#ed7953"
            ],
            [
             0.7777777777777778,
             "#fb9f3a"
            ],
            [
             0.8888888888888888,
             "#fdca26"
            ],
            [
             1,
             "#f0f921"
            ]
           ]
          },
          "colorway": [
           "#636efa",
           "#EF553B",
           "#00cc96",
           "#ab63fa",
           "#FFA15A",
           "#19d3f3",
           "#FF6692",
           "#B6E880",
           "#FF97FF",
           "#FECB52"
          ],
          "font": {
           "color": "#2a3f5f"
          },
          "geo": {
           "bgcolor": "white",
           "lakecolor": "white",
           "landcolor": "#E5ECF6",
           "showlakes": true,
           "showland": true,
           "subunitcolor": "white"
          },
          "hoverlabel": {
           "align": "left"
          },
          "hovermode": "closest",
          "mapbox": {
           "style": "light"
          },
          "paper_bgcolor": "white",
          "plot_bgcolor": "#E5ECF6",
          "polar": {
           "angularaxis": {
            "gridcolor": "white",
            "linecolor": "white",
            "ticks": ""
           },
           "bgcolor": "#E5ECF6",
           "radialaxis": {
            "gridcolor": "white",
            "linecolor": "white",
            "ticks": ""
           }
          },
          "scene": {
           "xaxis": {
            "backgroundcolor": "#E5ECF6",
            "gridcolor": "white",
            "gridwidth": 2,
            "linecolor": "white",
            "showbackground": true,
            "ticks": "",
            "zerolinecolor": "white"
           },
           "yaxis": {
            "backgroundcolor": "#E5ECF6",
            "gridcolor": "white",
            "gridwidth": 2,
            "linecolor": "white",
            "showbackground": true,
            "ticks": "",
            "zerolinecolor": "white"
           },
           "zaxis": {
            "backgroundcolor": "#E5ECF6",
            "gridcolor": "white",
            "gridwidth": 2,
            "linecolor": "white",
            "showbackground": true,
            "ticks": "",
            "zerolinecolor": "white"
           }
          },
          "shapedefaults": {
           "line": {
            "color": "#2a3f5f"
           }
          },
          "ternary": {
           "aaxis": {
            "gridcolor": "white",
            "linecolor": "white",
            "ticks": ""
           },
           "baxis": {
            "gridcolor": "white",
            "linecolor": "white",
            "ticks": ""
           },
           "bgcolor": "#E5ECF6",
           "caxis": {
            "gridcolor": "white",
            "linecolor": "white",
            "ticks": ""
           }
          },
          "title": {
           "x": 0.05
          },
          "xaxis": {
           "automargin": true,
           "gridcolor": "white",
           "linecolor": "white",
           "ticks": "",
           "title": {
            "standoff": 15
           },
           "zerolinecolor": "white",
           "zerolinewidth": 2
          },
          "yaxis": {
           "automargin": true,
           "gridcolor": "white",
           "linecolor": "white",
           "ticks": "",
           "title": {
            "standoff": 15
           },
           "zerolinecolor": "white",
           "zerolinewidth": 2
          }
         }
        },
        "width": 1200,
        "xaxis": {
         "anchor": "y",
         "domain": [
          0,
          0.2888888888888889
         ],
         "showgrid": false,
         "showticklabels": false,
         "zeroline": false
        },
        "xaxis2": {
         "anchor": "y2",
         "domain": [
          0.35555555555555557,
          0.6444444444444445
         ]
        },
        "xaxis3": {
         "anchor": "y3",
         "domain": [
          0.7111111111111111,
          1
         ]
        },
        "yaxis": {
         "anchor": "x",
         "domain": [
          0,
          1
         ],
         "showgrid": false,
         "showticklabels": false,
         "zeroline": false
        },
        "yaxis2": {
         "anchor": "x2",
         "domain": [
          0,
          1
         ]
        },
        "yaxis3": {
         "anchor": "x3",
         "domain": [
          0,
          1
         ]
        }
       }
      }
     },
     "metadata": {},
     "output_type": "display_data"
    }
   ],
   "source": [
    "# Calculate the average for each score\n",
    "average_food = reviews['food_score'].mean()\n",
    "average_service = reviews['service_score'].mean()\n",
    "average_atmosphere = reviews['atmosphere_score'].mean()\n",
    "average_reviews = (resumme_raw['stars'] * resumme_raw['reviews']).sum() / resumme_raw['reviews'].sum()\n",
    "\n",
    "# Create a figure with horizontal subplots\n",
    "fig = make_subplots(rows=1, cols=3, \n",
    "                    specs=[[{\"type\": \"xy\"}, {\"type\": \"bar\"}, {\"type\": \"bar\"}]], \n",
    "                    subplot_titles=(\"Average Score\", \"Number of Reviews\", \"Categories\"))\n",
    "\n",
    "# First subplot: Display the average review as large text\n",
    "fig.add_trace(\n",
    "    go.Scatter(x=[0], y=[0], text=[f\"{average_reviews:.2f}\"], mode=\"text\", textfont=dict(size=120)),\n",
    "    row=1, col=1\n",
    ")\n",
    "\n",
    "fig.update_xaxes(showgrid=False, zeroline=False, showticklabels=False, row=1, col=1)\n",
    "fig.update_yaxes(showgrid=False, zeroline=False, showticklabels=False, row=1, col=1)\n",
    "\n",
    "\n",
    "# Second subplot: Bar plot for reviews\n",
    "fig.add_trace(\n",
    "    go.Bar(x=resumme_raw['reviews'], y=resumme_raw['stars'], marker=dict(color='lightskyblue'),\n",
    "           text=resumme_raw['reviews'], textposition='auto', name=\"Reviews\", orientation='h'),\n",
    "    row=1, col=2\n",
    ")\n",
    "\n",
    "# Third subplot: Bar plot for categories (Food, Service, Atmosphere)\n",
    "fig.add_trace(\n",
    "    go.Bar(x=[average_food, average_service, average_atmosphere], \n",
    "           y=['Food', 'Service', 'Atmosphere'], \n",
    "           marker=dict(color='lightgreen'), \n",
    "           text=[f\"{average_food:.2f}\", f\"{average_service:.2f}\", f\"{average_atmosphere:.2f}\"], \n",
    "           textposition='auto', \n",
    "           orientation='h', \n",
    "           name=\"Categories\"),\n",
    "    row=1, col=3\n",
    ")\n",
    "\n",
    "fig.update_layout(height=500, width=1200,  plot_bgcolor=\"white\", paper_bgcolor=\"white\", showlegend=False)\n",
    "fig.show()"
   ]
  },
  {
   "cell_type": "code",
   "execution_count": 146,
   "metadata": {},
   "outputs": [
    {
     "data": {
      "application/vnd.plotly.v1+json": {
       "config": {
        "plotlyServerURL": "https://plot.ly"
       },
       "data": [
        {
         "hoverinfo": "text",
         "line": {
          "color": "#1f77b4"
         },
         "marker": {
          "size": 8
         },
         "mode": "lines+markers",
         "name": "Rating",
         "text": [
          "Rating - 4.55",
          "Rating - 4.75",
          "Rating - 4.55",
          "Rating - 4.12",
          "Rating - 4.08",
          "Rating - 4.43",
          "Rating - 4.56",
          "Rating - 4.89",
          "Rating - 4.38",
          "Rating - 4.00",
          "Rating - 4.37"
         ],
         "type": "scatter",
         "x": [
          "2023-11",
          "2023-12",
          "2024-01",
          "2024-02",
          "2024-03",
          "2024-04",
          "2024-05",
          "2024-06",
          "2024-07",
          "2024-08",
          "2024-09"
         ],
         "xaxis": "x",
         "y": [
          4.545454545454546,
          4.75,
          4.545454545454546,
          4.125,
          4.076923076923077,
          4.428571428571429,
          4.5625,
          4.888888888888889,
          4.375,
          4,
          4.368421052631579
         ],
         "yaxis": "y"
        },
        {
         "hoverinfo": "text",
         "line": {
          "color": "#aec7e8"
         },
         "mode": "lines+markers",
         "name": "Food",
         "text": [
          "Food - 4.11",
          "Food - 4.75",
          "Food - 4.67",
          "Food - 4.25",
          "Food - 4.09",
          "Food - 4.80",
          "Food - 4.48",
          "Food - 4.88",
          "Food - 4.23",
          "Food - 4.07",
          "Food - 4.50"
         ],
         "type": "scatter",
         "x": [
          "2023-11",
          "2023-12",
          "2024-01",
          "2024-02",
          "2024-03",
          "2024-04",
          "2024-05",
          "2024-06",
          "2024-07",
          "2024-08",
          "2024-09"
         ],
         "xaxis": "x",
         "y": [
          4.111111111111111,
          4.75,
          4.666666666666667,
          4.25,
          4.090909090909091,
          4.8,
          4.481481481481482,
          4.875,
          4.230769230769231,
          4.066666666666666,
          4.5
         ],
         "yaxis": "y"
        },
        {
         "hoverinfo": "text",
         "line": {
          "color": "#aec7e8"
         },
         "mode": "lines+markers",
         "name": "Service",
         "text": [
          "Service - 4.60",
          "Service - 4.50",
          "Service - 4.83",
          "Service - 4.38",
          "Service - 4.36",
          "Service - 4.60",
          "Service - 4.71",
          "Service - 4.88",
          "Service - 4.46",
          "Service - 4.38",
          "Service - 4.53"
         ],
         "type": "scatter",
         "x": [
          "2023-11",
          "2023-12",
          "2024-01",
          "2024-02",
          "2024-03",
          "2024-04",
          "2024-05",
          "2024-06",
          "2024-07",
          "2024-08",
          "2024-09"
         ],
         "xaxis": "x",
         "y": [
          4.6,
          4.5,
          4.833333333333333,
          4.375,
          4.363636363636363,
          4.6,
          4.714285714285714,
          4.875,
          4.461538461538462,
          4.375,
          4.529411764705882
         ],
         "yaxis": "y"
        },
        {
         "hoverinfo": "text",
         "line": {
          "color": "#aec7e8"
         },
         "mode": "lines+markers",
         "name": "Atmosphere",
         "text": [
          "Atmosphere - 4.10",
          "Atmosphere - 4.62",
          "Atmosphere - 4.67",
          "Atmosphere - 4.25",
          "Atmosphere - 4.09",
          "Atmosphere - 5.00",
          "Atmosphere - 4.59",
          "Atmosphere - 5.00",
          "Atmosphere - 4.46",
          "Atmosphere - 4.19",
          "Atmosphere - 4.71"
         ],
         "type": "scatter",
         "x": [
          "2023-11",
          "2023-12",
          "2024-01",
          "2024-02",
          "2024-03",
          "2024-04",
          "2024-05",
          "2024-06",
          "2024-07",
          "2024-08",
          "2024-09"
         ],
         "xaxis": "x",
         "y": [
          4.1,
          4.625,
          4.666666666666667,
          4.25,
          4.090909090909091,
          5,
          4.592592592592593,
          5,
          4.461538461538462,
          4.1875,
          4.705882352941177
         ],
         "yaxis": "y"
        },
        {
         "hoverinfo": "text",
         "line": {
          "color": "#1f77b4",
          "width": 4
         },
         "marker": {
          "size": 8
         },
         "mode": "lines+markers",
         "name": "Rating",
         "text": [
          "Rating - 4.29",
          "Rating - 4.32",
          "Rating - 4.73",
          "Rating - 4.23",
          "Rating - 4.19",
          "Rating - 4.34",
          "Rating - 4.23",
          "Rating - 4.38"
         ],
         "type": "scatter",
         "x": [
          "2017.0",
          "2018.0",
          "2019.0",
          "2020.0",
          "2021.0",
          "2022.0",
          "2023.0",
          "2024.0"
         ],
         "xaxis": "x2",
         "y": [
          4.294117647058823,
          4.32,
          4.730769230769231,
          4.230769230769231,
          4.1875,
          4.3428571428571425,
          4.227848101265823,
          4.37593984962406
         ],
         "yaxis": "y2"
        },
        {
         "hoverinfo": "text",
         "line": {
          "color": "#1f77b4"
         },
         "marker": {
          "size": 8
         },
         "mode": "lines+markers",
         "name": "Rating",
         "text": [
          "Rating - 5.00",
          "Rating - 3.75",
          "Rating - 3.25"
         ],
         "type": "scatter",
         "x": [
          "2024-09-02",
          "2024-09-09",
          "2024-09-16"
         ],
         "xaxis": "x3",
         "y": [
          5,
          3.75,
          3.25
         ],
         "yaxis": "y3"
        },
        {
         "hoverinfo": "text",
         "line": {
          "color": "#aec7e8"
         },
         "mode": "lines+markers",
         "name": "Food",
         "text": [
          "Food - 5.00",
          "Food - 3.50",
          "Food - 4.33"
         ],
         "type": "scatter",
         "x": [
          "2024-09-02",
          "2024-09-09",
          "2024-09-16"
         ],
         "xaxis": "x3",
         "y": [
          5,
          3.5,
          4.333333333333333
         ],
         "yaxis": "y3"
        },
        {
         "hoverinfo": "text",
         "line": {
          "color": "#aec7e8"
         },
         "mode": "lines+markers",
         "name": "Service",
         "text": [
          "Service - 4.90",
          "Service - 4.25",
          "Service - 3.67"
         ],
         "type": "scatter",
         "x": [
          "2024-09-02",
          "2024-09-09",
          "2024-09-16"
         ],
         "xaxis": "x3",
         "y": [
          4.9,
          4.25,
          3.6666666666666665
         ],
         "yaxis": "y3"
        },
        {
         "hoverinfo": "text",
         "line": {
          "color": "#aec7e8"
         },
         "mode": "lines+markers",
         "name": "Atmosphere",
         "text": [
          "Atmosphere - 4.90",
          "Atmosphere - 4.75",
          "Atmosphere - 4.00"
         ],
         "type": "scatter",
         "x": [
          "2024-09-02",
          "2024-09-09",
          "2024-09-16"
         ],
         "xaxis": "x3",
         "y": [
          4.9,
          4.75,
          4
         ],
         "yaxis": "y3"
        }
       ],
       "layout": {
        "annotations": [
         {
          "font": {
           "size": 16
          },
          "showarrow": false,
          "text": "Monthly Score Trends (Last 12 Months)",
          "x": 0.5,
          "xanchor": "center",
          "xref": "paper",
          "y": 1,
          "yanchor": "bottom",
          "yref": "paper"
         },
         {
          "font": {
           "size": 16
          },
          "showarrow": false,
          "text": "Annual Rating Score Trends (Last 6 Years)",
          "x": 0.225,
          "xanchor": "center",
          "xref": "paper",
          "y": 0.375,
          "yanchor": "bottom",
          "yref": "paper"
         },
         {
          "font": {
           "size": 16
          },
          "showarrow": false,
          "text": "Weekly Score Trends (Last 4 Weeks)",
          "x": 0.775,
          "xanchor": "center",
          "xref": "paper",
          "y": 0.375,
          "yanchor": "bottom",
          "yref": "paper"
         },
         {
          "arrowhead": 2,
          "ax": 0,
          "ay": 80,
          "font": {
           "size": 14
          },
          "showarrow": true,
          "text": "Highest Score",
          "x": "2024-06",
          "xref": "x",
          "y": 4.8,
          "yref": "y"
         },
         {
          "arrowhead": 2,
          "ax": 0,
          "ay": -40,
          "font": {
           "size": 14
          },
          "showarrow": true,
          "text": "Drop in March",
          "x": "2024-03",
          "xref": "x",
          "y": 4.5,
          "yref": "y"
         },
         {
          "arrowhead": 2,
          "ax": 0,
          "ay": -40,
          "font": {
           "size": 14
          },
          "showarrow": true,
          "text": "Drop in August",
          "x": "2024-08",
          "xref": "x",
          "y": 4.5,
          "yref": "y"
         }
        ],
        "height": 800,
        "margin": {
         "b": 50,
         "l": 50,
         "r": 50,
         "t": 100
        },
        "paper_bgcolor": "white",
        "showlegend": false,
        "template": {
         "data": {
          "bar": [
           {
            "error_x": {
             "color": "#2a3f5f"
            },
            "error_y": {
             "color": "#2a3f5f"
            },
            "marker": {
             "line": {
              "color": "#E5ECF6",
              "width": 0.5
             },
             "pattern": {
              "fillmode": "overlay",
              "size": 10,
              "solidity": 0.2
             }
            },
            "type": "bar"
           }
          ],
          "barpolar": [
           {
            "marker": {
             "line": {
              "color": "#E5ECF6",
              "width": 0.5
             },
             "pattern": {
              "fillmode": "overlay",
              "size": 10,
              "solidity": 0.2
             }
            },
            "type": "barpolar"
           }
          ],
          "carpet": [
           {
            "aaxis": {
             "endlinecolor": "#2a3f5f",
             "gridcolor": "white",
             "linecolor": "white",
             "minorgridcolor": "white",
             "startlinecolor": "#2a3f5f"
            },
            "baxis": {
             "endlinecolor": "#2a3f5f",
             "gridcolor": "white",
             "linecolor": "white",
             "minorgridcolor": "white",
             "startlinecolor": "#2a3f5f"
            },
            "type": "carpet"
           }
          ],
          "choropleth": [
           {
            "colorbar": {
             "outlinewidth": 0,
             "ticks": ""
            },
            "type": "choropleth"
           }
          ],
          "contour": [
           {
            "colorbar": {
             "outlinewidth": 0,
             "ticks": ""
            },
            "colorscale": [
             [
              0,
              "#0d0887"
             ],
             [
              0.1111111111111111,
              "#46039f"
             ],
             [
              0.2222222222222222,
              "#7201a8"
             ],
             [
              0.3333333333333333,
              "#9c179e"
             ],
             [
              0.4444444444444444,
              "#bd3786"
             ],
             [
              0.5555555555555556,
              "#d8576b"
             ],
             [
              0.6666666666666666,
              "#ed7953"
             ],
             [
              0.7777777777777778,
              "#fb9f3a"
             ],
             [
              0.8888888888888888,
              "#fdca26"
             ],
             [
              1,
              "#f0f921"
             ]
            ],
            "type": "contour"
           }
          ],
          "contourcarpet": [
           {
            "colorbar": {
             "outlinewidth": 0,
             "ticks": ""
            },
            "type": "contourcarpet"
           }
          ],
          "heatmap": [
           {
            "colorbar": {
             "outlinewidth": 0,
             "ticks": ""
            },
            "colorscale": [
             [
              0,
              "#0d0887"
             ],
             [
              0.1111111111111111,
              "#46039f"
             ],
             [
              0.2222222222222222,
              "#7201a8"
             ],
             [
              0.3333333333333333,
              "#9c179e"
             ],
             [
              0.4444444444444444,
              "#bd3786"
             ],
             [
              0.5555555555555556,
              "#d8576b"
             ],
             [
              0.6666666666666666,
              "#ed7953"
             ],
             [
              0.7777777777777778,
              "#fb9f3a"
             ],
             [
              0.8888888888888888,
              "#fdca26"
             ],
             [
              1,
              "#f0f921"
             ]
            ],
            "type": "heatmap"
           }
          ],
          "heatmapgl": [
           {
            "colorbar": {
             "outlinewidth": 0,
             "ticks": ""
            },
            "colorscale": [
             [
              0,
              "#0d0887"
             ],
             [
              0.1111111111111111,
              "#46039f"
             ],
             [
              0.2222222222222222,
              "#7201a8"
             ],
             [
              0.3333333333333333,
              "#9c179e"
             ],
             [
              0.4444444444444444,
              "#bd3786"
             ],
             [
              0.5555555555555556,
              "#d8576b"
             ],
             [
              0.6666666666666666,
              "#ed7953"
             ],
             [
              0.7777777777777778,
              "#fb9f3a"
             ],
             [
              0.8888888888888888,
              "#fdca26"
             ],
             [
              1,
              "#f0f921"
             ]
            ],
            "type": "heatmapgl"
           }
          ],
          "histogram": [
           {
            "marker": {
             "pattern": {
              "fillmode": "overlay",
              "size": 10,
              "solidity": 0.2
             }
            },
            "type": "histogram"
           }
          ],
          "histogram2d": [
           {
            "colorbar": {
             "outlinewidth": 0,
             "ticks": ""
            },
            "colorscale": [
             [
              0,
              "#0d0887"
             ],
             [
              0.1111111111111111,
              "#46039f"
             ],
             [
              0.2222222222222222,
              "#7201a8"
             ],
             [
              0.3333333333333333,
              "#9c179e"
             ],
             [
              0.4444444444444444,
              "#bd3786"
             ],
             [
              0.5555555555555556,
              "#d8576b"
             ],
             [
              0.6666666666666666,
              "#ed7953"
             ],
             [
              0.7777777777777778,
              "#fb9f3a"
             ],
             [
              0.8888888888888888,
              "#fdca26"
             ],
             [
              1,
              "#f0f921"
             ]
            ],
            "type": "histogram2d"
           }
          ],
          "histogram2dcontour": [
           {
            "colorbar": {
             "outlinewidth": 0,
             "ticks": ""
            },
            "colorscale": [
             [
              0,
              "#0d0887"
             ],
             [
              0.1111111111111111,
              "#46039f"
             ],
             [
              0.2222222222222222,
              "#7201a8"
             ],
             [
              0.3333333333333333,
              "#9c179e"
             ],
             [
              0.4444444444444444,
              "#bd3786"
             ],
             [
              0.5555555555555556,
              "#d8576b"
             ],
             [
              0.6666666666666666,
              "#ed7953"
             ],
             [
              0.7777777777777778,
              "#fb9f3a"
             ],
             [
              0.8888888888888888,
              "#fdca26"
             ],
             [
              1,
              "#f0f921"
             ]
            ],
            "type": "histogram2dcontour"
           }
          ],
          "mesh3d": [
           {
            "colorbar": {
             "outlinewidth": 0,
             "ticks": ""
            },
            "type": "mesh3d"
           }
          ],
          "parcoords": [
           {
            "line": {
             "colorbar": {
              "outlinewidth": 0,
              "ticks": ""
             }
            },
            "type": "parcoords"
           }
          ],
          "pie": [
           {
            "automargin": true,
            "type": "pie"
           }
          ],
          "scatter": [
           {
            "fillpattern": {
             "fillmode": "overlay",
             "size": 10,
             "solidity": 0.2
            },
            "type": "scatter"
           }
          ],
          "scatter3d": [
           {
            "line": {
             "colorbar": {
              "outlinewidth": 0,
              "ticks": ""
             }
            },
            "marker": {
             "colorbar": {
              "outlinewidth": 0,
              "ticks": ""
             }
            },
            "type": "scatter3d"
           }
          ],
          "scattercarpet": [
           {
            "marker": {
             "colorbar": {
              "outlinewidth": 0,
              "ticks": ""
             }
            },
            "type": "scattercarpet"
           }
          ],
          "scattergeo": [
           {
            "marker": {
             "colorbar": {
              "outlinewidth": 0,
              "ticks": ""
             }
            },
            "type": "scattergeo"
           }
          ],
          "scattergl": [
           {
            "marker": {
             "colorbar": {
              "outlinewidth": 0,
              "ticks": ""
             }
            },
            "type": "scattergl"
           }
          ],
          "scattermapbox": [
           {
            "marker": {
             "colorbar": {
              "outlinewidth": 0,
              "ticks": ""
             }
            },
            "type": "scattermapbox"
           }
          ],
          "scatterpolar": [
           {
            "marker": {
             "colorbar": {
              "outlinewidth": 0,
              "ticks": ""
             }
            },
            "type": "scatterpolar"
           }
          ],
          "scatterpolargl": [
           {
            "marker": {
             "colorbar": {
              "outlinewidth": 0,
              "ticks": ""
             }
            },
            "type": "scatterpolargl"
           }
          ],
          "scatterternary": [
           {
            "marker": {
             "colorbar": {
              "outlinewidth": 0,
              "ticks": ""
             }
            },
            "type": "scatterternary"
           }
          ],
          "surface": [
           {
            "colorbar": {
             "outlinewidth": 0,
             "ticks": ""
            },
            "colorscale": [
             [
              0,
              "#0d0887"
             ],
             [
              0.1111111111111111,
              "#46039f"
             ],
             [
              0.2222222222222222,
              "#7201a8"
             ],
             [
              0.3333333333333333,
              "#9c179e"
             ],
             [
              0.4444444444444444,
              "#bd3786"
             ],
             [
              0.5555555555555556,
              "#d8576b"
             ],
             [
              0.6666666666666666,
              "#ed7953"
             ],
             [
              0.7777777777777778,
              "#fb9f3a"
             ],
             [
              0.8888888888888888,
              "#fdca26"
             ],
             [
              1,
              "#f0f921"
             ]
            ],
            "type": "surface"
           }
          ],
          "table": [
           {
            "cells": {
             "fill": {
              "color": "#EBF0F8"
             },
             "line": {
              "color": "white"
             }
            },
            "header": {
             "fill": {
              "color": "#C8D4E3"
             },
             "line": {
              "color": "white"
             }
            },
            "type": "table"
           }
          ]
         },
         "layout": {
          "annotationdefaults": {
           "arrowcolor": "#2a3f5f",
           "arrowhead": 0,
           "arrowwidth": 1
          },
          "autotypenumbers": "strict",
          "coloraxis": {
           "colorbar": {
            "outlinewidth": 0,
            "ticks": ""
           }
          },
          "colorscale": {
           "diverging": [
            [
             0,
             "#8e0152"
            ],
            [
             0.1,
             "#c51b7d"
            ],
            [
             0.2,
             "#de77ae"
            ],
            [
             0.3,
             "#f1b6da"
            ],
            [
             0.4,
             "#fde0ef"
            ],
            [
             0.5,
             "#f7f7f7"
            ],
            [
             0.6,
             "#e6f5d0"
            ],
            [
             0.7,
             "#b8e186"
            ],
            [
             0.8,
             "#7fbc41"
            ],
            [
             0.9,
             "#4d9221"
            ],
            [
             1,
             "#276419"
            ]
           ],
           "sequential": [
            [
             0,
             "#0d0887"
            ],
            [
             0.1111111111111111,
             "#46039f"
            ],
            [
             0.2222222222222222,
             "#7201a8"
            ],
            [
             0.3333333333333333,
             "#9c179e"
            ],
            [
             0.4444444444444444,
             "#bd3786"
            ],
            [
             0.5555555555555556,
             "#d8576b"
            ],
            [
             0.6666666666666666,
             "#ed7953"
            ],
            [
             0.7777777777777778,
             "#fb9f3a"
            ],
            [
             0.8888888888888888,
             "#fdca26"
            ],
            [
             1,
             "#f0f921"
            ]
           ],
           "sequentialminus": [
            [
             0,
             "#0d0887"
            ],
            [
             0.1111111111111111,
             "#46039f"
            ],
            [
             0.2222222222222222,
             "#7201a8"
            ],
            [
             0.3333333333333333,
             "#9c179e"
            ],
            [
             0.4444444444444444,
             "#bd3786"
            ],
            [
             0.5555555555555556,
             "#d8576b"
            ],
            [
             0.6666666666666666,
             "#ed7953"
            ],
            [
             0.7777777777777778,
             "#fb9f3a"
            ],
            [
             0.8888888888888888,
             "#fdca26"
            ],
            [
             1,
             "#f0f921"
            ]
           ]
          },
          "colorway": [
           "#636efa",
           "#EF553B",
           "#00cc96",
           "#ab63fa",
           "#FFA15A",
           "#19d3f3",
           "#FF6692",
           "#B6E880",
           "#FF97FF",
           "#FECB52"
          ],
          "font": {
           "color": "#2a3f5f"
          },
          "geo": {
           "bgcolor": "white",
           "lakecolor": "white",
           "landcolor": "#E5ECF6",
           "showlakes": true,
           "showland": true,
           "subunitcolor": "white"
          },
          "hoverlabel": {
           "align": "left"
          },
          "hovermode": "closest",
          "mapbox": {
           "style": "light"
          },
          "paper_bgcolor": "white",
          "plot_bgcolor": "#E5ECF6",
          "polar": {
           "angularaxis": {
            "gridcolor": "white",
            "linecolor": "white",
            "ticks": ""
           },
           "bgcolor": "#E5ECF6",
           "radialaxis": {
            "gridcolor": "white",
            "linecolor": "white",
            "ticks": ""
           }
          },
          "scene": {
           "xaxis": {
            "backgroundcolor": "#E5ECF6",
            "gridcolor": "white",
            "gridwidth": 2,
            "linecolor": "white",
            "showbackground": true,
            "ticks": "",
            "zerolinecolor": "white"
           },
           "yaxis": {
            "backgroundcolor": "#E5ECF6",
            "gridcolor": "white",
            "gridwidth": 2,
            "linecolor": "white",
            "showbackground": true,
            "ticks": "",
            "zerolinecolor": "white"
           },
           "zaxis": {
            "backgroundcolor": "#E5ECF6",
            "gridcolor": "white",
            "gridwidth": 2,
            "linecolor": "white",
            "showbackground": true,
            "ticks": "",
            "zerolinecolor": "white"
           }
          },
          "shapedefaults": {
           "line": {
            "color": "#2a3f5f"
           }
          },
          "ternary": {
           "aaxis": {
            "gridcolor": "white",
            "linecolor": "white",
            "ticks": ""
           },
           "baxis": {
            "gridcolor": "white",
            "linecolor": "white",
            "ticks": ""
           },
           "bgcolor": "#E5ECF6",
           "caxis": {
            "gridcolor": "white",
            "linecolor": "white",
            "ticks": ""
           }
          },
          "title": {
           "x": 0.05
          },
          "xaxis": {
           "automargin": true,
           "gridcolor": "white",
           "linecolor": "white",
           "ticks": "",
           "title": {
            "standoff": 15
           },
           "zerolinecolor": "white",
           "zerolinewidth": 2
          },
          "yaxis": {
           "automargin": true,
           "gridcolor": "white",
           "linecolor": "white",
           "ticks": "",
           "title": {
            "standoff": 15
           },
           "zerolinecolor": "white",
           "zerolinewidth": 2
          }
         }
        },
        "title": {
         "font": {
          "size": 28
         },
         "text": "Score Trends Analysis"
        },
        "width": 1200,
        "xaxis": {
         "anchor": "y",
         "domain": [
          0,
          1
         ],
         "showgrid": false,
         "showline": false
        },
        "xaxis2": {
         "anchor": "y2",
         "domain": [
          0,
          0.45
         ],
         "showgrid": false,
         "showline": false,
         "tickformat": "%Y"
        },
        "xaxis3": {
         "anchor": "y3",
         "domain": [
          0.55,
          1
         ],
         "showgrid": false,
         "showline": false,
         "tickformat": "%d-%b"
        },
        "yaxis": {
         "anchor": "x",
         "domain": [
          0.625,
          1
         ],
         "showgrid": true,
         "showline": false
        },
        "yaxis2": {
         "anchor": "x2",
         "domain": [
          0,
          0.375
         ],
         "showgrid": true,
         "showline": false
        },
        "yaxis3": {
         "anchor": "x3",
         "domain": [
          0,
          0.375
         ],
         "showgrid": true,
         "showline": false
        }
       }
      }
     },
     "metadata": {},
     "output_type": "display_data"
    }
   ],
   "source": [
    "# Convert date column to datetime format\n",
    "reviews['date'] = pd.to_datetime(reviews['date'], errors='coerce')\n",
    "reviews['month'] = reviews['date'].dt.to_period('M')\n",
    "reviews['year'] = reviews['date'].dt.year\n",
    "reviews['week'] = reviews['date'].dt.to_period('W')\n",
    "reviews['week'] = reviews['date'] - pd.to_timedelta(reviews['date'].dt.weekday, unit='d')\n",
    "reviews['week'] = reviews['week'].dt.strftime('%Y-%m-%d')\n",
    "\n",
    "# Filter data for the last periods (months, years, weeks)\n",
    "last_months = reviews[reviews['date'] >= pd.to_datetime('today') - pd.DateOffset(months=12)]\n",
    "last_years = reviews[reviews['date'] >= pd.to_datetime('today') - pd.DateOffset(years=8)]\n",
    "last_weeks = reviews[reviews['date'] >= pd.to_datetime('today') - pd.DateOffset(weeks=5)]\n",
    "\n",
    "# Compute averages for the required periods\n",
    "monthly_avg_scores = last_months.groupby('month')[['rating_score', 'food_score', 'service_score', 'atmosphere_score']].mean()\n",
    "yearly_avg_scores = last_years.groupby('year')[['rating_score']].mean()\n",
    "weekly_avg_scores = last_weeks.groupby('week')[['rating_score', 'food_score', 'service_score', 'atmosphere_score']].mean()\n",
    "\n",
    "# Update the axis labels for each score to be more readable\n",
    "label_mapping = {\n",
    "    'rating_score': 'Rating',\n",
    "    'food_score': 'Food',\n",
    "    'service_score': 'Service',\n",
    "    'atmosphere_score': 'Atmosphere'\n",
    "}\n",
    "\n",
    "# Create a figure with subplots using the Z-layout\n",
    "fig = make_subplots(rows=2, cols=2,\n",
    "                    specs=[[{\"colspan\": 2}, None],\n",
    "                           [{}, {}]],  # 1 large plot on the first row, 2 smaller plots on the second\n",
    "                    subplot_titles=(\"Monthly Score Trends (Last 12 Months)\", \n",
    "                                    \"Annual Rating Score Trends (Last 6 Years)\", \n",
    "                                    \"Weekly Score Trends (Last 4 Weeks)\"))\n",
    "\n",
    "# Add monthly score trends to the first row (rating_score in stronger color)\n",
    "colors = ['#1f77b4', '#aec7e8', '#aec7e8', '#aec7e8']\n",
    "for i, column in enumerate(monthly_avg_scores.columns):\n",
    "    label = label_mapping[column]\n",
    "    fig.add_trace(\n",
    "        go.Scatter(x=monthly_avg_scores.index.astype(str), y=monthly_avg_scores[column],\n",
    "                   mode='lines+markers', name=label, \n",
    "                   text=[f\"{label} - {val:.2f}\" for val in monthly_avg_scores[column]], \n",
    "                   hoverinfo=\"text\", line=dict(color=colors[i])),\n",
    "        row=1, col=1)\n",
    "\n",
    "# Add yearly score trends to the second row (left)\n",
    "fig.add_trace(\n",
    "    go.Scatter(x=yearly_avg_scores.index.astype(str), y=yearly_avg_scores['rating_score'],\n",
    "               mode='lines+markers', name=\"Rating\", line=dict(color='#1f77b4', width=4),\n",
    "               text=[f\"Rating - {val:.2f}\" for val in yearly_avg_scores['rating_score']], \n",
    "               hoverinfo=\"text\"),\n",
    "    row=2, col=1)\n",
    "\n",
    "# Add weekly score trends to the second row (right, weaker colors)\n",
    "for i, column in enumerate(weekly_avg_scores.columns):\n",
    "    label = label_mapping[column]  # Get the readable label\n",
    "    fig.add_trace(\n",
    "        go.Scatter(x=weekly_avg_scores.index.astype(str), y=weekly_avg_scores[column],\n",
    "                   mode='lines+markers', name=label, \n",
    "                   text=[f\"{label} - {val:.2f}\" for val in weekly_avg_scores[column]], \n",
    "                   hoverinfo=\"text\", line=dict(color=colors[i])),\n",
    "        row=2, col=2)\n",
    "\n",
    "# Enhance presentation: remove gridlines and borders, increase size, and remove legend\n",
    "fig.update_layout(showlegend=False, \n",
    "                  title=\"Score Trends Analysis\",\n",
    "                  title_font=dict(size=28),\n",
    "                  margin=dict(l=50, r=50, t=100, b=50),\n",
    "                  paper_bgcolor=\"white\",\n",
    "                  height=800, width=1200)\n",
    "fig.update_xaxes(showline=False, showgrid=False)\n",
    "fig.update_yaxes(showline=False, showgrid=True)\n",
    "\n",
    "# Customize x-axes formatting: show only the year for yearly data, and only day and month for weekly data\n",
    "fig.update_xaxes(\n",
    "    tickformat=\"%Y\",  # Only show the year for the yearly graph\n",
    "    row=2, col=1\n",
    ")\n",
    "\n",
    "fig.update_xaxes(\n",
    "    tickformat=\"%d-%b\",  # Show only the day and month for weekly graph\n",
    "    row=2, col=2\n",
    ")\n",
    "\n",
    "# Add annotations to highlight key points\n",
    "fig.add_annotation(x='2024-06', y=4.8, \n",
    "                   text=\"Highest Score\", \n",
    "                   showarrow=True, arrowhead=2,\n",
    "                   ax=0, ay=80, row=1, col=1, font=dict(size=14))\n",
    "\n",
    "fig.add_annotation(x='2024-03', y=4.5, \n",
    "                   text=\"Drop in March\", \n",
    "                   showarrow=True, arrowhead=2,\n",
    "                   ax=0, ay=-40, row=1, col=1, font=dict(size=14))\n",
    "\n",
    "fig.add_annotation(x='2024-08', y=4.5, \n",
    "                   text=\"Drop in August\", \n",
    "                   showarrow=True, arrowhead=2,\n",
    "                   ax=0, ay=-40, row=1, col=1, font=dict(size=14))\n",
    "\n",
    "fig.update_traces(marker=dict(size=8), selector=dict(name=\"Rating\"))\n",
    "fig.show()\n"
   ]
  },
  {
   "cell_type": "markdown",
   "metadata": {},
   "source": [
    "### Cleaning and preprocessing"
   ]
  },
  {
   "cell_type": "code",
   "execution_count": 147,
   "metadata": {},
   "outputs": [
    {
     "name": "stderr",
     "output_type": "stream",
     "text": [
      "[nltk_data] Downloading package stopwords to\n",
      "[nltk_data]     /Users/jobandtalent/nltk_data...\n",
      "[nltk_data]   Package stopwords is already up-to-date!\n",
      "[nltk_data] Downloading package vader_lexicon to\n",
      "[nltk_data]     /Users/jobandtalent/nltk_data...\n",
      "[nltk_data]   Package vader_lexicon is already up-to-date!\n"
     ]
    }
   ],
   "source": [
    "import nltk\n",
    "from nltk.corpus import stopwords\n",
    "from nltk.sentiment.vader import SentimentIntensityAnalyzer\n",
    "import spacy\n",
    "from sklearn.feature_extraction.text import CountVectorizer\n",
    "from collections import Counter\n",
    "\n",
    "from tqdm import tqdm\n",
    "\n",
    "# Download NLTK stopwords and lexicon\n",
    "nltk.download('stopwords')\n",
    "nltk.download('vader_lexicon')\n",
    "\n",
    "# Load spaCy Spanish model\n",
    "nlp = spacy.load('es_core_news_sm')"
   ]
  },
  {
   "cell_type": "code",
   "execution_count": 148,
   "metadata": {},
   "outputs": [],
   "source": [
    "# Clean text, stopworks and tokenize words\n",
    "def clean_text(text):\n",
    "    text = text.lower()\n",
    "    text = re.sub(r'[^a-záéíóúñü0-9\\s]', '', text)\n",
    "    doc = nlp(text)\n",
    "    stop_words = set(stopwords.words('spanish'))\n",
    "    tokens = [token.lemma_ for token in doc \n",
    "              if token.text not in stop_words and not token.is_punct and not token.is_space]\n",
    "    return ' '.join(tokens)"
   ]
  },
  {
   "cell_type": "code",
   "execution_count": 149,
   "metadata": {},
   "outputs": [
    {
     "name": "stderr",
     "output_type": "stream",
     "text": [
      "Cleaning Reviews: 100%|██████████| 360/360 [00:02<00:00, 148.41it/s]\n"
     ]
    },
    {
     "data": {
      "text/html": [
       "<div>\n",
       "<style scoped>\n",
       "    .dataframe tbody tr th:only-of-type {\n",
       "        vertical-align: middle;\n",
       "    }\n",
       "\n",
       "    .dataframe tbody tr th {\n",
       "        vertical-align: top;\n",
       "    }\n",
       "\n",
       "    .dataframe thead th {\n",
       "        text-align: right;\n",
       "    }\n",
       "</style>\n",
       "<table border=\"1\" class=\"dataframe\">\n",
       "  <thead>\n",
       "    <tr style=\"text-align: right;\">\n",
       "      <th></th>\n",
       "      <th>review</th>\n",
       "      <th>cleaned_review</th>\n",
       "    </tr>\n",
       "  </thead>\n",
       "  <tbody>\n",
       "    <tr>\n",
       "      <th>191</th>\n",
       "      <td>Comimos patatas bravas, croquetas y guacamole ...</td>\n",
       "      <td>comimos patata brava croqueta guacamolir totop...</td>\n",
       "    </tr>\n",
       "    <tr>\n",
       "      <th>176</th>\n",
       "      <td>No es por la estupenda carta de cafetería (pes...</td>\n",
       "      <td>estupendo carta cafetería pese precio entorno ...</td>\n",
       "    </tr>\n",
       "    <tr>\n",
       "      <th>68</th>\n",
       "      <td>Buen local donde ser sirve comida hasta tarde....</td>\n",
       "      <td>buen local ser servir comida tarde variado car...</td>\n",
       "    </tr>\n",
       "    <tr>\n",
       "      <th>50</th>\n",
       "      <td>Primera vez que me como una hamburguesa de ver...</td>\n",
       "      <td>primero vez hamburguesa verdad carlos majo</td>\n",
       "    </tr>\n",
       "    <tr>\n",
       "      <th>55</th>\n",
       "      <td>Me encanta esta cafetería, siempre que voy el ...</td>\n",
       "      <td>encantar cafetería siempre ir trato bueno cama...</td>\n",
       "    </tr>\n",
       "  </tbody>\n",
       "</table>\n",
       "</div>"
      ],
      "text/plain": [
       "                                                review  \\\n",
       "191  Comimos patatas bravas, croquetas y guacamole ...   \n",
       "176  No es por la estupenda carta de cafetería (pes...   \n",
       "68   Buen local donde ser sirve comida hasta tarde....   \n",
       "50   Primera vez que me como una hamburguesa de ver...   \n",
       "55   Me encanta esta cafetería, siempre que voy el ...   \n",
       "\n",
       "                                        cleaned_review  \n",
       "191  comimos patata brava croqueta guacamolir totop...  \n",
       "176  estupendo carta cafetería pese precio entorno ...  \n",
       "68   buen local ser servir comida tarde variado car...  \n",
       "50          primero vez hamburguesa verdad carlos majo  \n",
       "55   encantar cafetería siempre ir trato bueno cama...  "
      ]
     },
     "metadata": {},
     "output_type": "display_data"
    }
   ],
   "source": [
    "tqdm.pandas(desc=\"Cleaning Reviews\")\n",
    "reviews['cleaned_review'] = reviews['review'].fillna('').progress_apply(clean_text)\n",
    "\n",
    "display(reviews[['review', 'cleaned_review']].sample(5))"
   ]
  },
  {
   "cell_type": "markdown",
   "metadata": {},
   "source": [
    "### Embeddings and sentiment analysis"
   ]
  },
  {
   "cell_type": "code",
   "execution_count": 150,
   "metadata": {},
   "outputs": [],
   "source": [
    "# Embeddings and Sentiment\n",
    "from transformers import pipeline\n",
    "from transformers import BertTokenizer, BertModel\n",
    "import torch\n",
    "\n",
    "# Word Clouds and Visualization\n",
    "from wordcloud import WordCloud\n"
   ]
  },
  {
   "cell_type": "markdown",
   "metadata": {},
   "source": [
    "#### Analyze sentiment"
   ]
  },
  {
   "cell_type": "code",
   "execution_count": 190,
   "metadata": {},
   "outputs": [
    {
     "name": "stdout",
     "output_type": "stream",
     "text": [
      "Top Positive Words: [('hamburguesa', 128), ('buen', 118), ('comida', 66), ('lugar', 65), ('servicio', 48), ('sitio', 46), ('bien', 44), ('mejor', 42), ('precio', 41), ('ambiente', 36)]\n",
      "Top Negative Words: [('ir', 10), ('café', 10), ('vez', 8), ('ver', 8), ('si', 8), ('pedir', 8), ('sitio', 7), ('servicio', 7), ('comida', 7), ('parecer', 6)]\n",
      "Top Positive Bigrams: [('comida buen', 11), ('buen ambiente', 11), ('mejor hamburguesa', 11), ('buen comida', 10), ('buen servicio', 9), ('buen lugar', 8), ('aro cebolla', 7), ('hamburguesa rico', 7), ('precio razonable', 7), ('hamburguesa italiano', 6)]\n",
      "Top Negative Bigrams: [('ver foto', 3), ('merecer pena', 3), ('nunca tanto', 2), ('si solo', 2), ('último vez', 2), ('huevo revuelto', 2), ('dar yo', 2), ('acompañar hamburguesa', 2), ('pan mohoso', 2), ('gofre frío', 1)]\n"
     ]
    }
   ],
   "source": [
    "# Extract sentiment for each review using \n",
    "def analyzeSentiment(df):\n",
    "    # Initialize VADER sentiment analyzer\n",
    "    sia = SentimentIntensityAnalyzer()\n",
    "\n",
    "    # Apply sentiment analysis to each review using VADER\n",
    "    df['vader_sentiment'] = df['cleaned_review'].apply(lambda x: sia.polarity_scores(x)['compound'])\n",
    "    \n",
    "    # Classify sentiment into positive, neutral, negative using rating_score and vader_sentiment\n",
    "    def classify_sentiment(row):\n",
    "        if row['rating_score'] >= 4:\n",
    "            return 'positive'\n",
    "        elif row['rating_score'] <= 2:\n",
    "            return 'negative'\n",
    "        elif row['vader_sentiment'] > 0.05:\n",
    "            return 'positive'\n",
    "        elif row['vader_sentiment'] < -0.05:\n",
    "            return 'negative'\n",
    "        else:\n",
    "            return 'neutral'\n",
    "    \n",
    "    df['sentiment_label'] = df.apply(classify_sentiment, axis=1)\n",
    "    \n",
    "    return df\n",
    "\n",
    "# Extract most common words for a selected sentiment\n",
    "def extractCommonWords(df, sentiment_label='positive', n=10):\n",
    "    # Filter reviews by sentiment label\n",
    "    filtered_reviews = df[df['sentiment_label'] == sentiment_label]['cleaned_review'].fillna('').tolist()\n",
    "    \n",
    "    # Tokenize and count words for the given sentiment label\n",
    "    vectorizer = CountVectorizer().fit(filtered_reviews)\n",
    "    word_counts = vectorizer.transform(filtered_reviews).sum(axis=0)\n",
    "    \n",
    "    # Create a dictionary of word frequencies\n",
    "    word_freq = [(word, word_counts[0, idx]) for word, idx in vectorizer.vocabulary_.items()]\n",
    "    sorted_word_freq = sorted(word_freq, key=lambda x: x[1], reverse=True)[:n]\n",
    "    \n",
    "    return sorted_word_freq\n",
    "\n",
    "# Extract most common n-grams for a selected sentiment\n",
    "def extractCommonNgrams(df, sentiment_label='positive', n=2, top_n=10):\n",
    "    # Filter reviews by sentiment label\n",
    "    filtered_reviews = df[df['sentiment_label'] == sentiment_label]['cleaned_review'].fillna('').tolist()\n",
    "    \n",
    "    # Create n-grams for the given sentiment label\n",
    "    vectorizer = CountVectorizer(ngram_range=(n, n)).fit(filtered_reviews)\n",
    "    ngram_counts = vectorizer.transform(filtered_reviews).sum(axis=0)\n",
    "    \n",
    "    # Create a list of n-grams with their counts\n",
    "    ngram_freq = [(word, ngram_counts[0, idx]) for word, idx in vectorizer.vocabulary_.items()]\n",
    "    sorted_ngrams = sorted(ngram_freq, key=lambda x: x[1], reverse=True)[:top_n]\n",
    "    \n",
    "    return sorted_ngrams\n",
    "\n",
    "# Analyze sentiment with VADER\n",
    "reviews = analyzeSentiment(reviews)\n",
    "\n",
    "# Extract common positive and negative phrases\n",
    "common_positive_words = extractCommonWords(reviews, sentiment_label = 'positive', n = 10)\n",
    "common_negative_words = extractCommonWords(reviews, sentiment_label = 'negative', n = 10)\n",
    "\n",
    "print(\"Top Positive Words:\", common_positive_words)\n",
    "print(\"Top Negative Words:\", common_negative_words)\n",
    "\n",
    "# Extract common positive and negative bigrams\n",
    "common_positive_bigrams = extractCommonNgrams(reviews, sentiment_label='positive', n=2, top_n=10)\n",
    "common_negative_bigrams = extractCommonNgrams(reviews, sentiment_label='negative', n=2, top_n=10)\n",
    "\n",
    "print(\"Top Positive Bigrams:\", common_positive_bigrams)\n",
    "print(\"Top Negative Bigrams:\", common_negative_bigrams)"
   ]
  },
  {
   "cell_type": "code",
   "execution_count": 152,
   "metadata": {},
   "outputs": [
    {
     "name": "stderr",
     "output_type": "stream",
     "text": [
      "/var/folders/hv/ckh3m6gn1sd45q2qctrqcwzh0000gn/T/ipykernel_27970/256757046.py:14: FutureWarning:\n",
      "\n",
      "'M' is deprecated and will be removed in a future version, please use 'ME' instead.\n",
      "\n"
     ]
    },
    {
     "data": {
      "application/vnd.plotly.v1+json": {
       "config": {
        "plotlyServerURL": "https://plot.ly"
       },
       "data": [
        {
         "fill": "tonexty",
         "fillcolor": "rgba(252, 141, 98, 0.7)",
         "fillpattern": {
          "shape": ""
         },
         "hovertemplate": "Sentiment=negative<br>=%{x}<br>Percentage of Reviews (%)=%{y}<extra></extra>",
         "legendgroup": "negative",
         "line": {
          "color": "#636efa",
          "shape": "spline",
          "width": 0
         },
         "marker": {
          "symbol": "circle"
         },
         "mode": "lines",
         "name": "negative",
         "orientation": "v",
         "showlegend": true,
         "stackgroup": "1",
         "type": "scatter",
         "x": [
          "2019-01-31T00:00:00",
          "2020-01-31T00:00:00",
          "2021-01-31T00:00:00",
          "2022-01-31T00:00:00",
          "2023-01-31T00:00:00",
          "2023-10-31T00:00:00",
          "2023-11-30T00:00:00",
          "2023-12-31T00:00:00",
          "2024-01-31T00:00:00",
          "2024-02-29T00:00:00",
          "2024-03-31T00:00:00",
          "2024-04-30T00:00:00",
          "2024-05-31T00:00:00",
          "2024-06-30T00:00:00",
          "2024-07-31T00:00:00",
          "2024-08-31T00:00:00",
          "2024-09-30T00:00:00"
         ],
         "xaxis": "x",
         "y": [
          0,
          7.69,
          12.5,
          5.71,
          14,
          0,
          0,
          0,
          9.09,
          12.5,
          0,
          14.29,
          9.38,
          0,
          12.5,
          11.11,
          15.79
         ],
         "yaxis": "y"
        },
        {
         "fill": "tonexty",
         "fillcolor": "rgba(141, 160, 203, 0.7)",
         "fillpattern": {
          "shape": ""
         },
         "hovertemplate": "Sentiment=neutral<br>=%{x}<br>Percentage of Reviews (%)=%{y}<extra></extra>",
         "legendgroup": "neutral",
         "line": {
          "color": "#EF553B",
          "shape": "spline",
          "width": 0
         },
         "marker": {
          "symbol": "circle"
         },
         "mode": "lines",
         "name": "neutral",
         "orientation": "v",
         "showlegend": true,
         "stackgroup": "1",
         "type": "scatter",
         "x": [
          "2019-01-31T00:00:00",
          "2020-01-31T00:00:00",
          "2021-01-31T00:00:00",
          "2022-01-31T00:00:00",
          "2023-01-31T00:00:00",
          "2023-10-31T00:00:00",
          "2023-11-30T00:00:00",
          "2023-12-31T00:00:00",
          "2024-01-31T00:00:00",
          "2024-02-29T00:00:00",
          "2024-03-31T00:00:00",
          "2024-04-30T00:00:00",
          "2024-05-31T00:00:00",
          "2024-06-30T00:00:00",
          "2024-07-31T00:00:00",
          "2024-08-31T00:00:00",
          "2024-09-30T00:00:00"
         ],
         "xaxis": "x",
         "y": [
          3.85,
          7.69,
          6.25,
          5.71,
          6,
          0,
          9.09,
          0,
          0,
          0,
          38.46,
          0,
          3.12,
          0,
          0,
          11.11,
          5.26
         ],
         "yaxis": "y"
        },
        {
         "fill": "tonexty",
         "fillcolor": "rgba(102, 194, 165, 0.7)",
         "fillpattern": {
          "shape": ""
         },
         "hovertemplate": "Sentiment=positive<br>=%{x}<br>Percentage of Reviews (%)=%{y}<extra></extra>",
         "legendgroup": "positive",
         "line": {
          "color": "#00cc96",
          "shape": "spline",
          "width": 0
         },
         "marker": {
          "symbol": "circle"
         },
         "mode": "lines",
         "name": "positive",
         "orientation": "v",
         "showlegend": true,
         "stackgroup": "1",
         "type": "scatter",
         "x": [
          "2019-01-31T00:00:00",
          "2020-01-31T00:00:00",
          "2021-01-31T00:00:00",
          "2022-01-31T00:00:00",
          "2023-01-31T00:00:00",
          "2023-10-31T00:00:00",
          "2023-11-30T00:00:00",
          "2023-12-31T00:00:00",
          "2024-01-31T00:00:00",
          "2024-02-29T00:00:00",
          "2024-03-31T00:00:00",
          "2024-04-30T00:00:00",
          "2024-05-31T00:00:00",
          "2024-06-30T00:00:00",
          "2024-07-31T00:00:00",
          "2024-08-31T00:00:00",
          "2024-09-30T00:00:00"
         ],
         "xaxis": "x",
         "y": [
          96.15,
          84.62,
          81.25,
          88.57,
          80,
          100,
          90.91,
          100,
          90.91,
          87.5,
          61.54,
          85.71,
          87.5,
          100,
          87.5,
          77.78,
          78.95
         ],
         "yaxis": "y"
        }
       ],
       "layout": {
        "height": 400,
        "hovermode": "x unified",
        "legend": {
         "orientation": "h",
         "title": {
          "text": ""
         },
         "tracegroupgap": 0,
         "x": 1,
         "xanchor": "right",
         "y": 1.02,
         "yanchor": "bottom"
        },
        "margin": {
         "b": 20,
         "l": 20,
         "r": 20,
         "t": 50
        },
        "plot_bgcolor": "rgba(0,0,0,0)",
        "template": {
         "data": {
          "bar": [
           {
            "error_x": {
             "color": "#2a3f5f"
            },
            "error_y": {
             "color": "#2a3f5f"
            },
            "marker": {
             "line": {
              "color": "white",
              "width": 0.5
             },
             "pattern": {
              "fillmode": "overlay",
              "size": 10,
              "solidity": 0.2
             }
            },
            "type": "bar"
           }
          ],
          "barpolar": [
           {
            "marker": {
             "line": {
              "color": "white",
              "width": 0.5
             },
             "pattern": {
              "fillmode": "overlay",
              "size": 10,
              "solidity": 0.2
             }
            },
            "type": "barpolar"
           }
          ],
          "carpet": [
           {
            "aaxis": {
             "endlinecolor": "#2a3f5f",
             "gridcolor": "#C8D4E3",
             "linecolor": "#C8D4E3",
             "minorgridcolor": "#C8D4E3",
             "startlinecolor": "#2a3f5f"
            },
            "baxis": {
             "endlinecolor": "#2a3f5f",
             "gridcolor": "#C8D4E3",
             "linecolor": "#C8D4E3",
             "minorgridcolor": "#C8D4E3",
             "startlinecolor": "#2a3f5f"
            },
            "type": "carpet"
           }
          ],
          "choropleth": [
           {
            "colorbar": {
             "outlinewidth": 0,
             "ticks": ""
            },
            "type": "choropleth"
           }
          ],
          "contour": [
           {
            "colorbar": {
             "outlinewidth": 0,
             "ticks": ""
            },
            "colorscale": [
             [
              0,
              "#0d0887"
             ],
             [
              0.1111111111111111,
              "#46039f"
             ],
             [
              0.2222222222222222,
              "#7201a8"
             ],
             [
              0.3333333333333333,
              "#9c179e"
             ],
             [
              0.4444444444444444,
              "#bd3786"
             ],
             [
              0.5555555555555556,
              "#d8576b"
             ],
             [
              0.6666666666666666,
              "#ed7953"
             ],
             [
              0.7777777777777778,
              "#fb9f3a"
             ],
             [
              0.8888888888888888,
              "#fdca26"
             ],
             [
              1,
              "#f0f921"
             ]
            ],
            "type": "contour"
           }
          ],
          "contourcarpet": [
           {
            "colorbar": {
             "outlinewidth": 0,
             "ticks": ""
            },
            "type": "contourcarpet"
           }
          ],
          "heatmap": [
           {
            "colorbar": {
             "outlinewidth": 0,
             "ticks": ""
            },
            "colorscale": [
             [
              0,
              "#0d0887"
             ],
             [
              0.1111111111111111,
              "#46039f"
             ],
             [
              0.2222222222222222,
              "#7201a8"
             ],
             [
              0.3333333333333333,
              "#9c179e"
             ],
             [
              0.4444444444444444,
              "#bd3786"
             ],
             [
              0.5555555555555556,
              "#d8576b"
             ],
             [
              0.6666666666666666,
              "#ed7953"
             ],
             [
              0.7777777777777778,
              "#fb9f3a"
             ],
             [
              0.8888888888888888,
              "#fdca26"
             ],
             [
              1,
              "#f0f921"
             ]
            ],
            "type": "heatmap"
           }
          ],
          "heatmapgl": [
           {
            "colorbar": {
             "outlinewidth": 0,
             "ticks": ""
            },
            "colorscale": [
             [
              0,
              "#0d0887"
             ],
             [
              0.1111111111111111,
              "#46039f"
             ],
             [
              0.2222222222222222,
              "#7201a8"
             ],
             [
              0.3333333333333333,
              "#9c179e"
             ],
             [
              0.4444444444444444,
              "#bd3786"
             ],
             [
              0.5555555555555556,
              "#d8576b"
             ],
             [
              0.6666666666666666,
              "#ed7953"
             ],
             [
              0.7777777777777778,
              "#fb9f3a"
             ],
             [
              0.8888888888888888,
              "#fdca26"
             ],
             [
              1,
              "#f0f921"
             ]
            ],
            "type": "heatmapgl"
           }
          ],
          "histogram": [
           {
            "marker": {
             "pattern": {
              "fillmode": "overlay",
              "size": 10,
              "solidity": 0.2
             }
            },
            "type": "histogram"
           }
          ],
          "histogram2d": [
           {
            "colorbar": {
             "outlinewidth": 0,
             "ticks": ""
            },
            "colorscale": [
             [
              0,
              "#0d0887"
             ],
             [
              0.1111111111111111,
              "#46039f"
             ],
             [
              0.2222222222222222,
              "#7201a8"
             ],
             [
              0.3333333333333333,
              "#9c179e"
             ],
             [
              0.4444444444444444,
              "#bd3786"
             ],
             [
              0.5555555555555556,
              "#d8576b"
             ],
             [
              0.6666666666666666,
              "#ed7953"
             ],
             [
              0.7777777777777778,
              "#fb9f3a"
             ],
             [
              0.8888888888888888,
              "#fdca26"
             ],
             [
              1,
              "#f0f921"
             ]
            ],
            "type": "histogram2d"
           }
          ],
          "histogram2dcontour": [
           {
            "colorbar": {
             "outlinewidth": 0,
             "ticks": ""
            },
            "colorscale": [
             [
              0,
              "#0d0887"
             ],
             [
              0.1111111111111111,
              "#46039f"
             ],
             [
              0.2222222222222222,
              "#7201a8"
             ],
             [
              0.3333333333333333,
              "#9c179e"
             ],
             [
              0.4444444444444444,
              "#bd3786"
             ],
             [
              0.5555555555555556,
              "#d8576b"
             ],
             [
              0.6666666666666666,
              "#ed7953"
             ],
             [
              0.7777777777777778,
              "#fb9f3a"
             ],
             [
              0.8888888888888888,
              "#fdca26"
             ],
             [
              1,
              "#f0f921"
             ]
            ],
            "type": "histogram2dcontour"
           }
          ],
          "mesh3d": [
           {
            "colorbar": {
             "outlinewidth": 0,
             "ticks": ""
            },
            "type": "mesh3d"
           }
          ],
          "parcoords": [
           {
            "line": {
             "colorbar": {
              "outlinewidth": 0,
              "ticks": ""
             }
            },
            "type": "parcoords"
           }
          ],
          "pie": [
           {
            "automargin": true,
            "type": "pie"
           }
          ],
          "scatter": [
           {
            "fillpattern": {
             "fillmode": "overlay",
             "size": 10,
             "solidity": 0.2
            },
            "type": "scatter"
           }
          ],
          "scatter3d": [
           {
            "line": {
             "colorbar": {
              "outlinewidth": 0,
              "ticks": ""
             }
            },
            "marker": {
             "colorbar": {
              "outlinewidth": 0,
              "ticks": ""
             }
            },
            "type": "scatter3d"
           }
          ],
          "scattercarpet": [
           {
            "marker": {
             "colorbar": {
              "outlinewidth": 0,
              "ticks": ""
             }
            },
            "type": "scattercarpet"
           }
          ],
          "scattergeo": [
           {
            "marker": {
             "colorbar": {
              "outlinewidth": 0,
              "ticks": ""
             }
            },
            "type": "scattergeo"
           }
          ],
          "scattergl": [
           {
            "marker": {
             "colorbar": {
              "outlinewidth": 0,
              "ticks": ""
             }
            },
            "type": "scattergl"
           }
          ],
          "scattermapbox": [
           {
            "marker": {
             "colorbar": {
              "outlinewidth": 0,
              "ticks": ""
             }
            },
            "type": "scattermapbox"
           }
          ],
          "scatterpolar": [
           {
            "marker": {
             "colorbar": {
              "outlinewidth": 0,
              "ticks": ""
             }
            },
            "type": "scatterpolar"
           }
          ],
          "scatterpolargl": [
           {
            "marker": {
             "colorbar": {
              "outlinewidth": 0,
              "ticks": ""
             }
            },
            "type": "scatterpolargl"
           }
          ],
          "scatterternary": [
           {
            "marker": {
             "colorbar": {
              "outlinewidth": 0,
              "ticks": ""
             }
            },
            "type": "scatterternary"
           }
          ],
          "surface": [
           {
            "colorbar": {
             "outlinewidth": 0,
             "ticks": ""
            },
            "colorscale": [
             [
              0,
              "#0d0887"
             ],
             [
              0.1111111111111111,
              "#46039f"
             ],
             [
              0.2222222222222222,
              "#7201a8"
             ],
             [
              0.3333333333333333,
              "#9c179e"
             ],
             [
              0.4444444444444444,
              "#bd3786"
             ],
             [
              0.5555555555555556,
              "#d8576b"
             ],
             [
              0.6666666666666666,
              "#ed7953"
             ],
             [
              0.7777777777777778,
              "#fb9f3a"
             ],
             [
              0.8888888888888888,
              "#fdca26"
             ],
             [
              1,
              "#f0f921"
             ]
            ],
            "type": "surface"
           }
          ],
          "table": [
           {
            "cells": {
             "fill": {
              "color": "#EBF0F8"
             },
             "line": {
              "color": "white"
             }
            },
            "header": {
             "fill": {
              "color": "#C8D4E3"
             },
             "line": {
              "color": "white"
             }
            },
            "type": "table"
           }
          ]
         },
         "layout": {
          "annotationdefaults": {
           "arrowcolor": "#2a3f5f",
           "arrowhead": 0,
           "arrowwidth": 1
          },
          "autotypenumbers": "strict",
          "coloraxis": {
           "colorbar": {
            "outlinewidth": 0,
            "ticks": ""
           }
          },
          "colorscale": {
           "diverging": [
            [
             0,
             "#8e0152"
            ],
            [
             0.1,
             "#c51b7d"
            ],
            [
             0.2,
             "#de77ae"
            ],
            [
             0.3,
             "#f1b6da"
            ],
            [
             0.4,
             "#fde0ef"
            ],
            [
             0.5,
             "#f7f7f7"
            ],
            [
             0.6,
             "#e6f5d0"
            ],
            [
             0.7,
             "#b8e186"
            ],
            [
             0.8,
             "#7fbc41"
            ],
            [
             0.9,
             "#4d9221"
            ],
            [
             1,
             "#276419"
            ]
           ],
           "sequential": [
            [
             0,
             "#0d0887"
            ],
            [
             0.1111111111111111,
             "#46039f"
            ],
            [
             0.2222222222222222,
             "#7201a8"
            ],
            [
             0.3333333333333333,
             "#9c179e"
            ],
            [
             0.4444444444444444,
             "#bd3786"
            ],
            [
             0.5555555555555556,
             "#d8576b"
            ],
            [
             0.6666666666666666,
             "#ed7953"
            ],
            [
             0.7777777777777778,
             "#fb9f3a"
            ],
            [
             0.8888888888888888,
             "#fdca26"
            ],
            [
             1,
             "#f0f921"
            ]
           ],
           "sequentialminus": [
            [
             0,
             "#0d0887"
            ],
            [
             0.1111111111111111,
             "#46039f"
            ],
            [
             0.2222222222222222,
             "#7201a8"
            ],
            [
             0.3333333333333333,
             "#9c179e"
            ],
            [
             0.4444444444444444,
             "#bd3786"
            ],
            [
             0.5555555555555556,
             "#d8576b"
            ],
            [
             0.6666666666666666,
             "#ed7953"
            ],
            [
             0.7777777777777778,
             "#fb9f3a"
            ],
            [
             0.8888888888888888,
             "#fdca26"
            ],
            [
             1,
             "#f0f921"
            ]
           ]
          },
          "colorway": [
           "#636efa",
           "#EF553B",
           "#00cc96",
           "#ab63fa",
           "#FFA15A",
           "#19d3f3",
           "#FF6692",
           "#B6E880",
           "#FF97FF",
           "#FECB52"
          ],
          "font": {
           "color": "#2a3f5f"
          },
          "geo": {
           "bgcolor": "white",
           "lakecolor": "white",
           "landcolor": "white",
           "showlakes": true,
           "showland": true,
           "subunitcolor": "#C8D4E3"
          },
          "hoverlabel": {
           "align": "left"
          },
          "hovermode": "closest",
          "mapbox": {
           "style": "light"
          },
          "paper_bgcolor": "white",
          "plot_bgcolor": "white",
          "polar": {
           "angularaxis": {
            "gridcolor": "#EBF0F8",
            "linecolor": "#EBF0F8",
            "ticks": ""
           },
           "bgcolor": "white",
           "radialaxis": {
            "gridcolor": "#EBF0F8",
            "linecolor": "#EBF0F8",
            "ticks": ""
           }
          },
          "scene": {
           "xaxis": {
            "backgroundcolor": "white",
            "gridcolor": "#DFE8F3",
            "gridwidth": 2,
            "linecolor": "#EBF0F8",
            "showbackground": true,
            "ticks": "",
            "zerolinecolor": "#EBF0F8"
           },
           "yaxis": {
            "backgroundcolor": "white",
            "gridcolor": "#DFE8F3",
            "gridwidth": 2,
            "linecolor": "#EBF0F8",
            "showbackground": true,
            "ticks": "",
            "zerolinecolor": "#EBF0F8"
           },
           "zaxis": {
            "backgroundcolor": "white",
            "gridcolor": "#DFE8F3",
            "gridwidth": 2,
            "linecolor": "#EBF0F8",
            "showbackground": true,
            "ticks": "",
            "zerolinecolor": "#EBF0F8"
           }
          },
          "shapedefaults": {
           "line": {
            "color": "#2a3f5f"
           }
          },
          "ternary": {
           "aaxis": {
            "gridcolor": "#DFE8F3",
            "linecolor": "#A2B1C6",
            "ticks": ""
           },
           "baxis": {
            "gridcolor": "#DFE8F3",
            "linecolor": "#A2B1C6",
            "ticks": ""
           },
           "bgcolor": "white",
           "caxis": {
            "gridcolor": "#DFE8F3",
            "linecolor": "#A2B1C6",
            "ticks": ""
           }
          },
          "title": {
           "x": 0.05
          },
          "xaxis": {
           "automargin": true,
           "gridcolor": "#EBF0F8",
           "linecolor": "#EBF0F8",
           "ticks": "",
           "title": {
            "standoff": 15
           },
           "zerolinecolor": "#EBF0F8",
           "zerolinewidth": 2
          },
          "yaxis": {
           "automargin": true,
           "gridcolor": "#EBF0F8",
           "linecolor": "#EBF0F8",
           "ticks": "",
           "title": {
            "standoff": 15
           },
           "zerolinecolor": "#EBF0F8",
           "zerolinewidth": 2
          }
         }
        },
        "title": {
         "font": {
          "color": "black",
          "size": 18
         },
         "text": "Sentiment Percentage Over the Last 6 Years",
         "x": 0.5,
         "xanchor": "center"
        },
        "width": 1200,
        "xaxis": {
         "anchor": "y",
         "domain": [
          0,
          1
         ],
         "showgrid": false,
         "showline": false,
         "title": {
          "text": ""
         },
         "zeroline": false
        },
        "yaxis": {
         "anchor": "x",
         "domain": [
          0,
          1
         ],
         "range": [
          0,
          100
         ],
         "showgrid": true,
         "showline": false,
         "ticksuffix": "%",
         "title": {
          "text": "Percentage of Reviews"
         }
        }
       }
      }
     },
     "metadata": {},
     "output_type": "display_data"
    }
   ],
   "source": [
    "# Plot the evolution of distribution of reviews on time based on sentiments\n",
    "def plotSentimentTrend(df, years_limit = 6):\n",
    "    # Convert date to datetime format and handle missing values\n",
    "    df['date'] = pd.to_datetime(df['date'], errors='coerce')\n",
    "    df = df.dropna(subset=['date'])\n",
    "    \n",
    "    # Filter only the last 6 years\n",
    "    last_six_years = datetime.datetime.now() - pd.DateOffset(years=years_limit)\n",
    "    df = df[df['date'] >= last_six_years]\n",
    "\n",
    "    # Set date as index for resampling\n",
    "    df.set_index('date', inplace=True)\n",
    "    \n",
    "    # Resample to monthly and count sentiments\n",
    "    sentiment_counts = df.resample('M')['sentiment_label'].value_counts().unstack().fillna(0)\n",
    "\n",
    "    # Calculate the percentage for each sentiment type\n",
    "    sentiment_percentage = sentiment_counts.div(sentiment_counts.sum(axis=1), axis=0) * 100\n",
    "    sentiment_percentage = sentiment_percentage.round(2)\n",
    "    sentiment_percentage = sentiment_percentage.reset_index().melt(id_vars=['date'], value_name='percentage', var_name='sentiment_label')\n",
    "    \n",
    "    # Plot sentiment percentage evolution\n",
    "    fig = px.area(\n",
    "        sentiment_percentage,\n",
    "        x='date',\n",
    "        y='percentage',\n",
    "        color='sentiment_label',\n",
    "        title='Sentiment Percentage Over the Last 6 Years',\n",
    "        labels={'date': '', 'percentage': 'Percentage of Reviews (%)', 'sentiment_label': 'Sentiment'},\n",
    "        template='plotly_white',\n",
    "    )\n",
    "\n",
    "    # Customize layout\n",
    "    fig.update_layout(\n",
    "        title=dict(x=0.5, xanchor='center', font=dict(size=18, color='black')),\n",
    "        xaxis=dict(showgrid=False, zeroline=False),\n",
    "        yaxis=dict(showgrid=True, title='Percentage of Reviews', ticksuffix='%'),\n",
    "        legend=dict(title='', orientation='h', yanchor='bottom', y=1.02, xanchor='right', x=1),\n",
    "        margin=dict(l=20, r=20, t=50, b=20),\n",
    "        plot_bgcolor='rgba(0,0,0,0)',\n",
    "        hovermode='x unified',\n",
    "        width=1200,\n",
    "        height=400,\n",
    "    )\n",
    "\n",
    "    # Customize color for sentiment categories\n",
    "    color_map = {\n",
    "        'positive': 'rgba(102, 194, 165, 0.7)', \n",
    "        'neutral': 'rgba(141, 160, 203, 0.7)', \n",
    "        'negative': 'rgba(252, 141, 98, 0.7)'\n",
    "    }\n",
    "    fig.for_each_trace(lambda trace: trace.update(line=dict(width=0, shape='spline'), fill='tonexty', fillcolor=color_map.get(trace.name, 'rgba(150, 150, 150, 0.5)')))\n",
    "\n",
    "    # Remove the plot frame and keep the visualization as clean as possible\n",
    "    fig.update_xaxes(showline=False)\n",
    "    fig.update_yaxes(showline=False, range=[0, 100])  # Percentage scale from 0 to 100\n",
    "\n",
    "    fig.show()\n",
    "\n",
    "plotSentimentTrend(reviews)"
   ]
  },
  {
   "cell_type": "code",
   "execution_count": 189,
   "metadata": {},
   "outputs": [
    {
     "name": "stdout",
     "output_type": "stream",
     "text": [
      "Top Most Recommended: [('Hamburguesa Completa Con Huevo', 9), ('Hamburguesa Americana', 8), ('Hamburguesa Italiana', 6)]\n",
      "Least Recommended : ['Plaza de aparcamiento', 'Flan de Queso', 'Gofre Con Nocilla', 'Grandburguer HD', 'Hamburger', 'Hamburguesa Con Huevo', 'Tarta de Manzana', 'Tataki de Atún', 'Cheesecake', 'Hamburguesa Gallega', 'Brunch Con Baggel Salmón']\n"
     ]
    }
   ],
   "source": [
    "\n",
    "# Extract most and least recommendations mentioned\n",
    "def analyzeRecommendations(df):\n",
    "    all_dishes = []\n",
    "\n",
    "    # Convert string representation of lists to actual lists and extend all_dishes\n",
    "    for item in df['recommendations_list'].dropna():\n",
    "        try:\n",
    "            dishes = ast.literal_eval(item)\n",
    "            if isinstance(dishes, list):\n",
    "                all_dishes.extend(dishes)\n",
    "        except:\n",
    "            continue\n",
    "\n",
    "    # Filter out empty values\n",
    "    all_dishes = [dish for dish in all_dishes if dish.strip() != '']\n",
    "\n",
    "    # Count the frequency of each dish\n",
    "    dish_counts = Counter(all_dishes)\n",
    "\n",
    "    # Most and least recommended dishes\n",
    "    most_common_dishes = dish_counts.most_common(3)\n",
    "    min_count = min(dish_counts.values())\n",
    "    worst_dishes = [dish for dish, count in dish_counts.items() if count == min_count]\n",
    "\n",
    "    print(\"Top Most Recommended:\", most_common_dishes)\n",
    "    print(\"Least Recommended :\", worst_dishes)\n",
    "\n",
    "analyzeRecommendations(reviews)\n"
   ]
  },
  {
   "cell_type": "markdown",
   "metadata": {},
   "source": [
    "#### Calculate embeddings"
   ]
  },
  {
   "cell_type": "code",
   "execution_count": 154,
   "metadata": {},
   "outputs": [
    {
     "name": "stderr",
     "output_type": "stream",
     "text": [
      "Generating Embeddings: 100%|██████████| 360/360 [00:26<00:00, 13.42it/s]\n"
     ]
    }
   ],
   "source": [
    "# Extract the embeddings for each cleaned review\n",
    "def get_embedding(text):\n",
    "    inputs = tokenizer(text, return_tensors='pt', truncation=True, max_length=512)\n",
    "    with torch.no_grad():\n",
    "        outputs = model(**inputs)\n",
    "    return outputs.last_hidden_state.mean(dim=1).squeeze().numpy()\n",
    "\n",
    "# Import Bert model and tokenizer\n",
    "tokenizer = BertTokenizer.from_pretrained('bert-base-multilingual-cased')\n",
    "model = BertModel.from_pretrained('bert-base-multilingual-cased')\n",
    "\n",
    "tqdm.pandas(desc=\"Generating Embeddings\")\n",
    "reviews['embedding'] = reviews['cleaned_review'].progress_apply(get_embedding)"
   ]
  },
  {
   "cell_type": "markdown",
   "metadata": {},
   "source": [
    "#### Analyze embeddings"
   ]
  },
  {
   "cell_type": "code",
   "execution_count": 188,
   "metadata": {},
   "outputs": [
    {
     "data": {
      "application/vnd.plotly.v1+json": {
       "config": {
        "plotlyServerURL": "https://plot.ly"
       },
       "data": [
        {
         "customdata": [
          [
           0,
           5
          ],
          [
           1,
           4
          ],
          [
           2,
           5
          ],
          [
           3,
           3
          ],
          [
           4,
           1
          ],
          [
           5,
           5
          ],
          [
           6,
           5
          ],
          [
           7,
           2
          ],
          [
           8,
           5
          ],
          [
           9,
           5
          ],
          [
           10,
           5
          ],
          [
           11,
           2
          ],
          [
           12,
           5
          ],
          [
           13,
           5
          ],
          [
           14,
           5
          ],
          [
           15,
           1
          ],
          [
           16,
           5
          ],
          [
           17,
           5
          ],
          [
           18,
           2
          ],
          [
           19,
           3
          ],
          [
           20,
           5
          ],
          [
           21,
           4
          ],
          [
           22,
           5
          ],
          [
           23,
           5
          ],
          [
           24,
           5
          ],
          [
           25,
           5
          ],
          [
           26,
           5
          ],
          [
           27,
           4
          ],
          [
           28,
           5
          ],
          [
           29,
           5
          ],
          [
           30,
           5
          ],
          [
           31,
           1
          ],
          [
           32,
           4
          ],
          [
           33,
           5
          ],
          [
           34,
           4
          ],
          [
           35,
           4
          ],
          [
           36,
           5
          ],
          [
           37,
           2
          ],
          [
           38,
           5
          ],
          [
           39,
           3
          ],
          [
           40,
           5
          ],
          [
           41,
           5
          ],
          [
           42,
           5
          ],
          [
           43,
           4
          ],
          [
           44,
           5
          ],
          [
           45,
           5
          ],
          [
           46,
           5
          ],
          [
           47,
           2
          ],
          [
           48,
           5
          ],
          [
           49,
           5
          ],
          [
           50,
           5
          ],
          [
           51,
           5
          ],
          [
           52,
           5
          ],
          [
           53,
           4
          ],
          [
           54,
           2
          ],
          [
           55,
           5
          ],
          [
           56,
           5
          ],
          [
           57,
           5
          ],
          [
           58,
           5
          ],
          [
           59,
           5
          ],
          [
           60,
           4
          ],
          [
           61,
           4
          ],
          [
           62,
           5
          ],
          [
           63,
           2
          ],
          [
           64,
           3
          ],
          [
           65,
           3
          ],
          [
           66,
           4
          ],
          [
           67,
           4
          ],
          [
           68,
           4
          ],
          [
           69,
           4
          ],
          [
           70,
           5
          ],
          [
           71,
           5
          ],
          [
           72,
           4
          ],
          [
           73,
           4
          ],
          [
           74,
           5
          ],
          [
           75,
           2
          ],
          [
           76,
           5
          ],
          [
           77,
           4
          ],
          [
           78,
           5
          ],
          [
           79,
           4
          ],
          [
           80,
           5
          ],
          [
           81,
           5
          ],
          [
           82,
           5
          ],
          [
           83,
           3
          ],
          [
           84,
           5
          ],
          [
           85,
           5
          ],
          [
           86,
           5
          ],
          [
           87,
           5
          ],
          [
           88,
           2
          ],
          [
           89,
           4
          ],
          [
           90,
           5
          ],
          [
           91,
           3
          ],
          [
           92,
           4
          ],
          [
           93,
           5
          ],
          [
           94,
           2
          ],
          [
           95,
           3
          ],
          [
           96,
           4
          ],
          [
           97,
           5
          ],
          [
           98,
           5
          ],
          [
           99,
           5
          ],
          [
           100,
           1
          ],
          [
           101,
           5
          ],
          [
           102,
           4
          ],
          [
           103,
           5
          ],
          [
           104,
           5
          ],
          [
           105,
           4
          ],
          [
           106,
           5
          ],
          [
           107,
           5
          ],
          [
           108,
           4
          ],
          [
           109,
           4
          ],
          [
           110,
           5
          ],
          [
           111,
           2
          ],
          [
           112,
           5
          ],
          [
           113,
           5
          ],
          [
           114,
           4
          ],
          [
           115,
           5
          ],
          [
           116,
           5
          ],
          [
           117,
           5
          ],
          [
           118,
           4
          ],
          [
           119,
           4
          ],
          [
           120,
           5
          ],
          [
           121,
           5
          ],
          [
           122,
           5
          ],
          [
           123,
           4
          ],
          [
           124,
           4
          ],
          [
           125,
           5
          ],
          [
           126,
           4
          ],
          [
           127,
           5
          ],
          [
           128,
           4
          ],
          [
           129,
           3
          ],
          [
           130,
           5
          ],
          [
           131,
           5
          ],
          [
           132,
           5
          ],
          [
           133,
           5
          ],
          [
           134,
           5
          ],
          [
           135,
           4
          ],
          [
           136,
           2
          ],
          [
           137,
           4
          ],
          [
           138,
           4
          ],
          [
           139,
           5
          ],
          [
           140,
           5
          ],
          [
           141,
           5
          ],
          [
           142,
           4
          ],
          [
           143,
           5
          ],
          [
           144,
           3
          ],
          [
           145,
           5
          ],
          [
           146,
           5
          ],
          [
           147,
           3
          ],
          [
           148,
           4
          ],
          [
           149,
           4
          ],
          [
           150,
           5
          ],
          [
           151,
           5
          ],
          [
           152,
           3
          ],
          [
           153,
           3
          ],
          [
           154,
           5
          ],
          [
           155,
           5
          ],
          [
           156,
           5
          ],
          [
           157,
           1
          ],
          [
           158,
           4
          ],
          [
           159,
           5
          ],
          [
           160,
           5
          ],
          [
           161,
           5
          ],
          [
           162,
           5
          ],
          [
           163,
           5
          ],
          [
           164,
           5
          ],
          [
           165,
           4
          ],
          [
           166,
           2
          ],
          [
           167,
           4
          ],
          [
           168,
           4
          ],
          [
           169,
           5
          ],
          [
           170,
           3
          ],
          [
           171,
           3
          ],
          [
           172,
           5
          ],
          [
           173,
           4
          ],
          [
           174,
           5
          ],
          [
           175,
           3
          ],
          [
           176,
           5
          ],
          [
           177,
           5
          ],
          [
           178,
           4
          ],
          [
           179,
           5
          ],
          [
           180,
           5
          ],
          [
           181,
           4
          ],
          [
           182,
           5
          ],
          [
           183,
           5
          ],
          [
           184,
           5
          ],
          [
           185,
           5
          ],
          [
           186,
           2
          ],
          [
           187,
           4
          ],
          [
           188,
           5
          ],
          [
           189,
           5
          ],
          [
           190,
           5
          ],
          [
           191,
           5
          ],
          [
           192,
           5
          ],
          [
           193,
           5
          ],
          [
           194,
           1
          ],
          [
           195,
           2
          ],
          [
           196,
           4
          ],
          [
           197,
           5
          ],
          [
           198,
           5
          ],
          [
           199,
           5
          ],
          [
           200,
           5
          ],
          [
           201,
           5
          ],
          [
           202,
           5
          ],
          [
           203,
           4
          ],
          [
           204,
           4
          ],
          [
           205,
           4
          ],
          [
           206,
           5
          ],
          [
           207,
           5
          ],
          [
           208,
           5
          ],
          [
           209,
           5
          ],
          [
           210,
           4
          ],
          [
           211,
           4
          ],
          [
           212,
           5
          ],
          [
           213,
           4
          ],
          [
           214,
           5
          ],
          [
           215,
           5
          ],
          [
           216,
           5
          ],
          [
           217,
           5
          ],
          [
           218,
           5
          ],
          [
           219,
           5
          ],
          [
           220,
           4
          ],
          [
           221,
           5
          ],
          [
           222,
           5
          ],
          [
           223,
           5
          ],
          [
           224,
           5
          ],
          [
           225,
           3
          ],
          [
           226,
           4
          ],
          [
           227,
           5
          ],
          [
           228,
           5
          ],
          [
           229,
           5
          ],
          [
           230,
           5
          ],
          [
           231,
           5
          ],
          [
           232,
           5
          ],
          [
           233,
           5
          ],
          [
           234,
           5
          ],
          [
           235,
           5
          ],
          [
           236,
           4
          ],
          [
           237,
           5
          ],
          [
           238,
           3
          ],
          [
           239,
           3
          ],
          [
           240,
           4
          ],
          [
           241,
           4
          ],
          [
           242,
           5
          ],
          [
           243,
           5
          ],
          [
           244,
           5
          ],
          [
           245,
           5
          ],
          [
           246,
           4
          ],
          [
           247,
           5
          ],
          [
           248,
           4
          ],
          [
           249,
           5
          ],
          [
           250,
           4
          ],
          [
           251,
           5
          ],
          [
           252,
           4
          ],
          [
           253,
           5
          ],
          [
           254,
           2
          ],
          [
           255,
           5
          ],
          [
           256,
           5
          ],
          [
           257,
           4
          ],
          [
           258,
           4
          ],
          [
           259,
           4
          ],
          [
           260,
           4
          ],
          [
           261,
           4
          ],
          [
           262,
           3
          ],
          [
           263,
           4
          ],
          [
           264,
           5
          ],
          [
           265,
           5
          ],
          [
           266,
           3
          ],
          [
           267,
           5
          ],
          [
           268,
           5
          ],
          [
           269,
           4
          ],
          [
           270,
           5
          ],
          [
           271,
           5
          ],
          [
           272,
           5
          ],
          [
           273,
           5
          ],
          [
           274,
           5
          ],
          [
           275,
           4
          ],
          [
           276,
           2
          ],
          [
           277,
           5
          ],
          [
           278,
           5
          ],
          [
           279,
           5
          ],
          [
           280,
           5
          ],
          [
           281,
           5
          ],
          [
           282,
           4
          ],
          [
           283,
           5
          ],
          [
           284,
           1
          ],
          [
           285,
           5
          ],
          [
           286,
           5
          ],
          [
           287,
           3
          ],
          [
           288,
           5
          ],
          [
           289,
           4
          ],
          [
           290,
           5
          ],
          [
           291,
           4
          ],
          [
           292,
           5
          ],
          [
           293,
           5
          ],
          [
           294,
           5
          ],
          [
           295,
           5
          ],
          [
           296,
           5
          ],
          [
           297,
           2
          ],
          [
           298,
           4
          ],
          [
           299,
           5
          ],
          [
           300,
           5
          ],
          [
           301,
           5
          ],
          [
           302,
           3
          ],
          [
           303,
           5
          ],
          [
           304,
           3
          ],
          [
           305,
           4
          ],
          [
           306,
           4
          ],
          [
           307,
           5
          ],
          [
           308,
           1
          ],
          [
           309,
           5
          ],
          [
           310,
           4
          ],
          [
           311,
           5
          ],
          [
           312,
           5
          ],
          [
           313,
           4
          ],
          [
           314,
           5
          ],
          [
           315,
           5
          ],
          [
           316,
           5
          ],
          [
           317,
           5
          ],
          [
           318,
           4
          ],
          [
           319,
           5
          ],
          [
           320,
           5
          ],
          [
           321,
           4
          ],
          [
           322,
           5
          ],
          [
           323,
           4
          ],
          [
           324,
           5
          ],
          [
           325,
           5
          ],
          [
           326,
           3
          ],
          [
           327,
           3
          ],
          [
           328,
           3
          ],
          [
           329,
           4
          ],
          [
           330,
           5
          ],
          [
           331,
           4
          ],
          [
           332,
           5
          ],
          [
           333,
           5
          ],
          [
           334,
           5
          ],
          [
           335,
           1
          ],
          [
           336,
           5
          ],
          [
           337,
           4
          ],
          [
           338,
           5
          ],
          [
           339,
           5
          ],
          [
           340,
           4
          ],
          [
           341,
           4
          ],
          [
           342,
           5
          ],
          [
           343,
           5
          ],
          [
           344,
           5
          ],
          [
           345,
           5
          ],
          [
           346,
           4
          ],
          [
           347,
           5
          ],
          [
           348,
           4
          ],
          [
           349,
           5
          ],
          [
           350,
           4
          ],
          [
           351,
           5
          ],
          [
           352,
           5
          ],
          [
           353,
           4
          ],
          [
           354,
           5
          ],
          [
           355,
           1
          ],
          [
           356,
           4
          ],
          [
           357,
           5
          ],
          [
           358,
           5
          ],
          [
           359,
           1
          ]
         ],
         "hovertemplate": "PCA 1 (47.0% variance)=%{x}<br>PCA 2 (4.6% variance)=%{y}<br>Review ID=%{customdata[0]}<br>Rating Score=%{marker.color}<extra></extra>",
         "legendgroup": "",
         "marker": {
          "color": [
           5,
           4,
           5,
           3,
           1,
           5,
           5,
           2,
           5,
           5,
           5,
           2,
           5,
           5,
           5,
           1,
           5,
           5,
           2,
           3,
           5,
           4,
           5,
           5,
           5,
           5,
           5,
           4,
           5,
           5,
           5,
           1,
           4,
           5,
           4,
           4,
           5,
           2,
           5,
           3,
           5,
           5,
           5,
           4,
           5,
           5,
           5,
           2,
           5,
           5,
           5,
           5,
           5,
           4,
           2,
           5,
           5,
           5,
           5,
           5,
           4,
           4,
           5,
           2,
           3,
           3,
           4,
           4,
           4,
           4,
           5,
           5,
           4,
           4,
           5,
           2,
           5,
           4,
           5,
           4,
           5,
           5,
           5,
           3,
           5,
           5,
           5,
           5,
           2,
           4,
           5,
           3,
           4,
           5,
           2,
           3,
           4,
           5,
           5,
           5,
           1,
           5,
           4,
           5,
           5,
           4,
           5,
           5,
           4,
           4,
           5,
           2,
           5,
           5,
           4,
           5,
           5,
           5,
           4,
           4,
           5,
           5,
           5,
           4,
           4,
           5,
           4,
           5,
           4,
           3,
           5,
           5,
           5,
           5,
           5,
           4,
           2,
           4,
           4,
           5,
           5,
           5,
           4,
           5,
           3,
           5,
           5,
           3,
           4,
           4,
           5,
           5,
           3,
           3,
           5,
           5,
           5,
           1,
           4,
           5,
           5,
           5,
           5,
           5,
           5,
           4,
           2,
           4,
           4,
           5,
           3,
           3,
           5,
           4,
           5,
           3,
           5,
           5,
           4,
           5,
           5,
           4,
           5,
           5,
           5,
           5,
           2,
           4,
           5,
           5,
           5,
           5,
           5,
           5,
           1,
           2,
           4,
           5,
           5,
           5,
           5,
           5,
           5,
           4,
           4,
           4,
           5,
           5,
           5,
           5,
           4,
           4,
           5,
           4,
           5,
           5,
           5,
           5,
           5,
           5,
           4,
           5,
           5,
           5,
           5,
           3,
           4,
           5,
           5,
           5,
           5,
           5,
           5,
           5,
           5,
           5,
           4,
           5,
           3,
           3,
           4,
           4,
           5,
           5,
           5,
           5,
           4,
           5,
           4,
           5,
           4,
           5,
           4,
           5,
           2,
           5,
           5,
           4,
           4,
           4,
           4,
           4,
           3,
           4,
           5,
           5,
           3,
           5,
           5,
           4,
           5,
           5,
           5,
           5,
           5,
           4,
           2,
           5,
           5,
           5,
           5,
           5,
           4,
           5,
           1,
           5,
           5,
           3,
           5,
           4,
           5,
           4,
           5,
           5,
           5,
           5,
           5,
           2,
           4,
           5,
           5,
           5,
           3,
           5,
           3,
           4,
           4,
           5,
           1,
           5,
           4,
           5,
           5,
           4,
           5,
           5,
           5,
           5,
           4,
           5,
           5,
           4,
           5,
           4,
           5,
           5,
           3,
           3,
           3,
           4,
           5,
           4,
           5,
           5,
           5,
           1,
           5,
           4,
           5,
           5,
           4,
           4,
           5,
           5,
           5,
           5,
           4,
           5,
           4,
           5,
           4,
           5,
           5,
           4,
           5,
           1,
           4,
           5,
           5,
           1
          ],
          "coloraxis": "coloraxis",
          "symbol": "circle"
         },
         "mode": "markers",
         "name": "",
         "orientation": "v",
         "showlegend": false,
         "type": "scatter",
         "x": [
          -2.435014009475708,
          -3.067991256713867,
          -2.906062602996826,
          -2.572589635848999,
          -2.9201014041900635,
          -2.4744274616241455,
          -2.837963104248047,
          -2.8571085929870605,
          -3.2336137294769287,
          -3.302889585494995,
          -2.7003400325775146,
          -3.3825769424438477,
          -3.2398273944854736,
          -2.9755430221557617,
          -3.1452934741973877,
          -3.059028387069702,
          -3.172008752822876,
          -3.081296920776367,
          -3.1024367809295654,
          -3.8367717266082764,
          -2.7381529808044434,
          -3.872591972351074,
          -2.7226037979125977,
          -3.2908618450164795,
          -3.3332560062408447,
          -3.500392198562622,
          -3.2629778385162354,
          -2.508106231689453,
          -3.4538841247558594,
          -3.745373010635376,
          -2.647832155227661,
          -2.838775634765625,
          -3.06610369682312,
          -2.578096866607666,
          -3.382040023803711,
          -3.5978333950042725,
          -3.7203633785247803,
          -3.48893141746521,
          -3.4569218158721924,
          -3.1971595287323,
          -3.238177537918091,
          -3.3361713886260986,
          -3.1741418838500977,
          -2.6081085205078125,
          -3.3285610675811768,
          -3.609837770462036,
          -3.3034534454345703,
          -3.8114256858825684,
          -3.176403045654297,
          -3.5598602294921875,
          -1.6176878213882446,
          -3.013909101486206,
          -3.8204476833343506,
          -2.7482528686523438,
          -3.2785916328430176,
          -3.2522470951080322,
          -2.969695806503296,
          -3.2984278202056885,
          -2.7298762798309326,
          -3.0716240406036377,
          -3.7454898357391357,
          -3.337895154953003,
          -2.843355655670166,
          -2.562727451324463,
          -2.2172820568084717,
          -2.4635870456695557,
          -3.415097713470459,
          -2.961475133895874,
          -2.9132368564605713,
          -2.9372830390930176,
          -3.1041393280029297,
          -2.2293806076049805,
          -3.212531328201294,
          -3.8161041736602783,
          -2.432966470718384,
          -3.7763407230377197,
          -2.6114299297332764,
          -3.3517544269561768,
          -2.2580978870391846,
          -2.071892023086548,
          -2.350837230682373,
          -1.9132764339447021,
          -2.2332987785339355,
          -1.6027778387069702,
          -3.1152241230010986,
          -2.6748220920562744,
          -2.899402141571045,
          -2.543191909790039,
          -3.220472574234009,
          -2.5767064094543457,
          -2.6081626415252686,
          -2.373335361480713,
          -2.909332275390625,
          -2.8105344772338867,
          -4.221518516540527,
          -3.6682331562042236,
          -3.7007622718811035,
          -3.0990397930145264,
          -2.8886287212371826,
          -3.0927000045776367,
          -3.149029016494751,
          -2.4282114505767822,
          -2.23632550239563,
          -3.2677183151245117,
          -2.851285457611084,
          -2.6895222663879395,
          -3.7030038833618164,
          -2.7571187019348145,
          -3.3077380657196045,
          -2.9420180320739746,
          -2.290158748626709,
          -3.2401442527770996,
          -2.9200258255004883,
          -2.7689239978790283,
          -3.238469123840332,
          -3.297175884246826,
          -2.792271852493286,
          -3.4108405113220215,
          -3.037858724594116,
          -0.9409003853797913,
          -3.2723753452301025,
          -3.124380350112915,
          -2.8604726791381836,
          -2.9661965370178223,
          -2.4219913482666016,
          -2.6918601989746094,
          -2.2474071979522705,
          -2.432389259338379,
          -3.0938804149627686,
          -3.0761818885803223,
          -2.330247402191162,
          -3.329399824142456,
          -2.348616600036621,
          -2.77378511428833,
          -3.05350923538208,
          -2.844621419906616,
          -3.1733193397521973,
          -2.9433300495147705,
          -2.1045570373535156,
          -2.9706897735595703,
          -3.477247953414917,
          -2.787231683731079,
          -2.5989694595336914,
          -2.635514736175537,
          -3.489563226699829,
          -3.2058234214782715,
          -1.7262662649154663,
          -2.1224966049194336,
          -1.7696707248687744,
          -3.168163776397705,
          -2.627779006958008,
          -2.920746088027954,
          -3.481616258621216,
          -2.6906609535217285,
          -3.3876709938049316,
          -2.086189031600952,
          -2.340768337249756,
          -2.8232765197753906,
          -2.6650116443634033,
          -2.1538877487182617,
          -2.369096040725708,
          -1.7241560220718384,
          -1.6073145866394043,
          -2.9983582496643066,
          -2.9447758197784424,
          -2.1545159816741943,
          -1.450316309928894,
          -2.8694889545440674,
          -2.997811794281006,
          -2.781893491744995,
          -2.510517120361328,
          -3.0668294429779053,
          -1.4818843603134155,
          -2.0377085208892822,
          -3.1310102939605713,
          -3.2297918796539307,
          -2.984567642211914,
          -2.7637321949005127,
          -3.374458074569702,
          -3.0924227237701416,
          -3.883490562438965,
          -2.893298625946045,
          -3.476595401763916,
          -1.7414922714233398,
          -2.8558132648468018,
          -3.836148738861084,
          -2.5258123874664307,
          -3.271833896636963,
          -3.367802858352661,
          -2.2730331420898438,
          -3.4495108127593994,
          -2.8490078449249268,
          -2.237137794494629,
          -3.0843286514282227,
          -2.379704236984253,
          -2.5471761226654053,
          -2.799499034881592,
          -2.6263818740844727,
          -2.5010316371917725,
          -0.9783592820167542,
          -3.3041207790374756,
          -3.847897529602051,
          -2.5178909301757812,
          -2.8254942893981934,
          -3.1403095722198486,
          -3.1865437030792236,
          -3.5030274391174316,
          -3.6921379566192627,
          -2.69805908203125,
          -2.279904842376709,
          -2.9386227130889893,
          -2.1404478549957275,
          -2.6952054500579834,
          -2.819596290588379,
          -1.978118658065796,
          -2.5903382301330566,
          -0.7505583167076111,
          -3.0409960746765137,
          0.8513613343238831,
          -2.7309157848358154,
          -2.1504533290863037,
          -2.2154479026794434,
          -2.7767887115478516,
          -3.0951192378997803,
          -2.2958946228027344,
          -2.17171573638916,
          -3.0468461513519287,
          -2.8234872817993164,
          -1.6126339435577393,
          -1.026059627532959,
          -2.128602981567383,
          -1.9082142114639282,
          -2.438263416290283,
          -2.564155101776123,
          -2.7573182582855225,
          -1.5796784162521362,
          -2.439640522003174,
          0.7788266539573669,
          -2.8550164699554443,
          -2.090773582458496,
          -1.5924749374389648,
          -2.065340995788574,
          -1.8304789066314697,
          1.3226840496063232,
          -1.88047194480896,
          -1.388659119606018,
          -2.760133743286133,
          -1.212800145149231,
          -0.9505103230476379,
          -1.2506359815597534,
          0.3780069649219513,
          -1.4605300426483154,
          -2.5536599159240723,
          -0.6317431330680847,
          -2.023458957672119,
          8.526052474975586,
          -1.4691801071166992,
          8.526052474975586,
          -0.8417565822601318,
          -1.226963996887207,
          -0.6613056063652039,
          -1.2379286289215088,
          8.526052474975586,
          8.526052474975586,
          0.3780069649219513,
          8.526052474975586,
          0.4201107919216156,
          8.526052474975586,
          -0.29743659496307373,
          -0.8050052523612976,
          8.526052474975586,
          -0.7434182167053223,
          0.779341459274292,
          3.1119916439056396,
          0.39555811882019043,
          0.39555811882019043,
          -0.7194746732711792,
          1.4608845710754395,
          8.526052474975586,
          0.8522624373435974,
          0.6762245893478394,
          0.3780069649219513,
          2.25467586517334,
          2.9024150371551514,
          2.0799195766448975,
          0.4674660861492157,
          0.7991669774055481,
          8.526052474975586,
          8.526052474975586,
          8.526052474975586,
          0.5437696576118469,
          8.526052474975586,
          8.526052474975586,
          8.526052474975586,
          8.526052474975586,
          8.526052474975586,
          8.526052474975586,
          8.526052474975586,
          8.526052474975586,
          8.526052474975586,
          8.526052474975586,
          8.526052474975586,
          8.526052474975586,
          8.526052474975586,
          8.526052474975586,
          8.526052474975586,
          8.526052474975586,
          8.526052474975586,
          8.526052474975586,
          8.526052474975586,
          8.526052474975586,
          8.526052474975586,
          8.526052474975586,
          8.526052474975586,
          8.526052474975586,
          8.526052474975586,
          8.526052474975586,
          8.526052474975586,
          8.526052474975586,
          8.526052474975586,
          8.526052474975586,
          8.526052474975586,
          8.526052474975586,
          8.526052474975586,
          8.526052474975586,
          8.526052474975586,
          8.526052474975586,
          8.526052474975586,
          8.526052474975586,
          8.526052474975586,
          8.526052474975586,
          8.526052474975586,
          8.526052474975586,
          8.526052474975586,
          8.526052474975586,
          8.526052474975586,
          8.526052474975586,
          8.526052474975586,
          8.526052474975586,
          8.526052474975586,
          8.526052474975586,
          8.526052474975586,
          8.526052474975586,
          8.526052474975586,
          8.526052474975586,
          8.526052474975586,
          8.526052474975586,
          8.526052474975586,
          8.526052474975586,
          8.526052474975586,
          8.526052474975586,
          8.526052474975586,
          8.526052474975586,
          8.526052474975586,
          8.526052474975586,
          8.526052474975586,
          8.526052474975586,
          8.526052474975586,
          8.526052474975586,
          8.526052474975586
         ],
         "xaxis": "x",
         "y": [
          -0.8244332075119019,
          0.5424464344978333,
          0.4291887879371643,
          0.28541994094848633,
          1.4263416528701782,
          -0.059073131531476974,
          0.07533871382474899,
          2.630847454071045,
          1.1600877046585083,
          0.7446181774139404,
          1.7378485202789307,
          1.653691291809082,
          1.1122640371322632,
          0.38369834423065186,
          0.7321786284446716,
          1.3455729484558105,
          1.4643934965133667,
          0.14836938679218292,
          2.642618179321289,
          1.8416475057601929,
          0.9352017641067505,
          1.5841448307037354,
          -0.15310993790626526,
          -0.27674099802970886,
          1.7419958114624023,
          0.2793589234352112,
          1.1308326721191406,
          -0.7151314616203308,
          -0.1188962310552597,
          2.2583062648773193,
          0.3195631802082062,
          2.3757829666137695,
          0.28386035561561584,
          -0.3177417516708374,
          0.4125748574733734,
          0.8576196432113647,
          -0.25260791182518005,
          3.0935001373291016,
          -0.36335864663124084,
          1.1605029106140137,
          1.206544041633606,
          1.4188365936279297,
          0.5757504105567932,
          -0.8041490316390991,
          0.12558427453041077,
          1.3232645988464355,
          0.11415884643793106,
          1.735563039779663,
          0.9947086572647095,
          1.0944491624832153,
          -2.021703004837036,
          0.9343657493591309,
          1.0313092470169067,
          -2.5093700885772705,
          0.9774856567382812,
          1.0710657835006714,
          0.46510931849479675,
          0.023126868531107903,
          1.350007176399231,
          1.4584013223648071,
          1.0531262159347534,
          -0.1972370147705078,
          2.0679192543029785,
          1.9735924005508423,
          -0.18595953285694122,
          0.2470276951789856,
          -0.20373491942882538,
          -0.27739474177360535,
          -0.6292336583137512,
          1.5608189105987549,
          1.9754687547683716,
          -0.33356723189353943,
          1.107962965965271,
          -0.14707106351852417,
          -0.7074040174484253,
          1.6164677143096924,
          -0.27856552600860596,
          0.7161622643470764,
          0.7777964472770691,
          -0.1627427339553833,
          0.6196556687355042,
          1.2680442333221436,
          -1.8907675743103027,
          -1.4847463369369507,
          1.1352955102920532,
          0.4114479720592499,
          -0.5919172167778015,
          0.13404349982738495,
          1.9776402711868286,
          -0.8455590605735779,
          0.8919278383255005,
          -1.3595126867294312,
          0.6500880718231201,
          0.851341187953949,
          3.336522340774536,
          2.544332265853882,
          1.6787787675857544,
          0.23087376356124878,
          1.8109984397888184,
          -0.47419458627700806,
          1.017236351966858,
          0.03179379552602768,
          0.8677899837493896,
          1.4781675338745117,
          1.0955214500427246,
          -0.48234912753105164,
          1.3844209909439087,
          0.7434534430503845,
          1.8951761722564697,
          0.6429376602172852,
          -1.1961575746536255,
          0.4388180673122406,
          1.2219334840774536,
          0.44981634616851807,
          -0.05378923937678337,
          1.3859426975250244,
          0.4591693580150604,
          2.1329269409179688,
          0.15466134250164032,
          -1.338871955871582,
          2.2280688285827637,
          0.8484573364257812,
          0.5339968800544739,
          0.6870392560958862,
          -1.2188613414764404,
          -1.7419404983520508,
          -3.162694215774536,
          -1.0479300022125244,
          0.42007118463516235,
          1.0527187585830688,
          1.0563408136367798,
          1.335288166999817,
          1.0232220888137817,
          0.8504317998886108,
          0.3658834397792816,
          0.8090689182281494,
          1.6507967710494995,
          2.0589709281921387,
          -0.31650835275650024,
          -0.33713144063949585,
          1.6126900911331177,
          -1.2119402885437012,
          -0.38924986124038696,
          -0.39701879024505615,
          0.5638668537139893,
          0.36506980657577515,
          -1.4739049673080444,
          1.0001732110977173,
          0.9636469483375549,
          2.787008285522461,
          1.7879979610443115,
          -0.8498098254203796,
          2.227138042449951,
          0.7926051020622253,
          1.240607500076294,
          0.764435350894928,
          -0.7907731533050537,
          1.387805700302124,
          -1.7879592180252075,
          -1.4791779518127441,
          1.4189643859863281,
          -1.0564748048782349,
          0.3192654848098755,
          1.9197641611099243,
          0.6529719233512878,
          -0.10060721635818481,
          0.8095501661300659,
          -0.8837562203407288,
          0.8960671424865723,
          0.8473977446556091,
          0.42010119557380676,
          0.4836064279079437,
          0.3315066993236542,
          1.0133917331695557,
          -1.0630216598510742,
          1.0706818103790283,
          1.3560692071914673,
          -0.2325166016817093,
          -0.038545746356248856,
          1.8350015878677368,
          1.7753190994262695,
          0.37747037410736084,
          0.41668689250946045,
          0.40716028213500977,
          -0.45632287859916687,
          0.055817827582359314,
          0.9689193367958069,
          0.19307419657707214,
          0.6496971845626831,
          -1.2678894996643066,
          -0.058494433760643005,
          0.609782874584198,
          -1.7219371795654297,
          -0.3407086431980133,
          0.571287989616394,
          1.6756153106689453,
          -0.0869813933968544,
          -1.7646214962005615,
          -0.47509536147117615,
          -2.416724920272827,
          0.867664098739624,
          0.0350307896733284,
          -1.7114053964614868,
          -1.2117061614990234,
          0.06476033478975296,
          0.02377021498978138,
          -0.37989670038223267,
          2.161393642425537,
          -1.4203643798828125,
          0.05431587994098663,
          -2.3127546310424805,
          -0.5819528102874756,
          -0.22074399888515472,
          -0.9482077360153198,
          -1.6406645774841309,
          -2.5644338130950928,
          -4.066133499145508,
          0.7457535862922668,
          -1.3082362413406372,
          -2.144257068634033,
          0.2243363857269287,
          -2.4364640712738037,
          0.43997418880462646,
          0.4864382743835449,
          -0.9346245527267456,
          -2.589667797088623,
          0.579125165939331,
          -0.7278606295585632,
          -3.164278030395508,
          -2.6815621852874756,
          -1.3276017904281616,
          -3.4982995986938477,
          0.6374006271362305,
          -1.835481882095337,
          -1.249564290046692,
          0.4539678990840912,
          0.6787412762641907,
          -1.2673583030700684,
          -0.8445412516593933,
          -2.0948028564453125,
          -1.7100197076797485,
          -1.9438496828079224,
          -1.057175636291504,
          -1.949000358581543,
          0.39151623845100403,
          -4.219642162322998,
          -2.3051981925964355,
          -3.0801308155059814,
          -1.8012512922286987,
          -0.1879253387451172,
          -5.836014747619629,
          -0.9485758543014526,
          -1.574739694595337,
          -0.8797975778579712,
          -0.02793157659471035,
          0.4158085286617279,
          -0.7126548290252686,
          0.4158085286617279,
          -2.0779223442077637,
          -4.797980785369873,
          -1.7890957593917847,
          -2.369065761566162,
          0.4158085286617279,
          0.4158085286617279,
          -5.836014747619629,
          0.4158085286617279,
          -1.3471662998199463,
          0.4158085286617279,
          -1.3339613676071167,
          -1.404737949371338,
          0.4158085286617279,
          -0.7944765090942383,
          -5.244268417358398,
          -2.0664525032043457,
          -5.599382400512695,
          -5.599382400512695,
          -2.331012487411499,
          -3.937711238861084,
          0.4158085286617279,
          -3.185497999191284,
          -2.897000789642334,
          -5.836014747619629,
          -1.8041538000106812,
          -1.1595896482467651,
          -0.43995752930641174,
          -1.4439235925674438,
          -1.294333577156067,
          0.4158085286617279,
          0.4158085286617279,
          0.4158085286617279,
          -3.91225528717041,
          0.4158085286617279,
          0.4158085286617279,
          0.4158085286617279,
          0.4158085286617279,
          0.4158085286617279,
          0.4158085286617279,
          0.4158085286617279,
          0.4158085286617279,
          0.4158085286617279,
          0.4158085286617279,
          0.4158085286617279,
          0.4158085286617279,
          0.4158085286617279,
          0.4158085286617279,
          0.4158085286617279,
          0.4158085286617279,
          0.4158085286617279,
          0.4158085286617279,
          0.4158085286617279,
          0.4158085286617279,
          0.4158085286617279,
          0.4158085286617279,
          0.4158085286617279,
          0.4158085584640503,
          0.4158085286617279,
          0.4158085286617279,
          0.4158085286617279,
          0.4158085286617279,
          0.4158085286617279,
          0.4158085286617279,
          0.4158085286617279,
          0.4158085286617279,
          0.4158085286617279,
          0.4158085286617279,
          0.4158085286617279,
          0.4158085286617279,
          0.4158085286617279,
          0.4158085286617279,
          0.4158085286617279,
          0.4158085286617279,
          0.4158085286617279,
          0.4158085286617279,
          0.4158085286617279,
          0.4158085286617279,
          0.4158085286617279,
          0.4158085286617279,
          0.4158085286617279,
          0.4158085286617279,
          0.4158085286617279,
          0.4158085286617279,
          0.4158085286617279,
          0.4158085286617279,
          0.4158085286617279,
          0.4158085286617279,
          0.4158085286617279,
          0.4158085286617279,
          0.4158085286617279,
          0.4158085286617279,
          0.4158085286617279,
          0.4158085286617279,
          0.4158085286617279,
          0.4158085286617279,
          0.4158085286617279,
          0.4158085286617279,
          0.4158085286617279,
          0.4158085286617279,
          0.4158085286617279,
          0.4158085286617279,
          0.4158085584640503
         ],
         "yaxis": "y"
        }
       ],
       "layout": {
        "coloraxis": {
         "colorbar": {
          "tickmode": "linear",
          "title": {
           "text": "Rating Score"
          }
         },
         "colorscale": [
          [
           0,
           "#440154"
          ],
          [
           0.1111111111111111,
           "#482878"
          ],
          [
           0.2222222222222222,
           "#3e4989"
          ],
          [
           0.3333333333333333,
           "#31688e"
          ],
          [
           0.4444444444444444,
           "#26828e"
          ],
          [
           0.5555555555555556,
           "#1f9e89"
          ],
          [
           0.6666666666666666,
           "#35b779"
          ],
          [
           0.7777777777777778,
           "#6ece58"
          ],
          [
           0.8888888888888888,
           "#b5de2b"
          ],
          [
           1,
           "#fde725"
          ]
         ]
        },
        "hovermode": "closest",
        "legend": {
         "tracegroupgap": 0
        },
        "template": {
         "data": {
          "bar": [
           {
            "error_x": {
             "color": "#2a3f5f"
            },
            "error_y": {
             "color": "#2a3f5f"
            },
            "marker": {
             "line": {
              "color": "white",
              "width": 0.5
             },
             "pattern": {
              "fillmode": "overlay",
              "size": 10,
              "solidity": 0.2
             }
            },
            "type": "bar"
           }
          ],
          "barpolar": [
           {
            "marker": {
             "line": {
              "color": "white",
              "width": 0.5
             },
             "pattern": {
              "fillmode": "overlay",
              "size": 10,
              "solidity": 0.2
             }
            },
            "type": "barpolar"
           }
          ],
          "carpet": [
           {
            "aaxis": {
             "endlinecolor": "#2a3f5f",
             "gridcolor": "#C8D4E3",
             "linecolor": "#C8D4E3",
             "minorgridcolor": "#C8D4E3",
             "startlinecolor": "#2a3f5f"
            },
            "baxis": {
             "endlinecolor": "#2a3f5f",
             "gridcolor": "#C8D4E3",
             "linecolor": "#C8D4E3",
             "minorgridcolor": "#C8D4E3",
             "startlinecolor": "#2a3f5f"
            },
            "type": "carpet"
           }
          ],
          "choropleth": [
           {
            "colorbar": {
             "outlinewidth": 0,
             "ticks": ""
            },
            "type": "choropleth"
           }
          ],
          "contour": [
           {
            "colorbar": {
             "outlinewidth": 0,
             "ticks": ""
            },
            "colorscale": [
             [
              0,
              "#0d0887"
             ],
             [
              0.1111111111111111,
              "#46039f"
             ],
             [
              0.2222222222222222,
              "#7201a8"
             ],
             [
              0.3333333333333333,
              "#9c179e"
             ],
             [
              0.4444444444444444,
              "#bd3786"
             ],
             [
              0.5555555555555556,
              "#d8576b"
             ],
             [
              0.6666666666666666,
              "#ed7953"
             ],
             [
              0.7777777777777778,
              "#fb9f3a"
             ],
             [
              0.8888888888888888,
              "#fdca26"
             ],
             [
              1,
              "#f0f921"
             ]
            ],
            "type": "contour"
           }
          ],
          "contourcarpet": [
           {
            "colorbar": {
             "outlinewidth": 0,
             "ticks": ""
            },
            "type": "contourcarpet"
           }
          ],
          "heatmap": [
           {
            "colorbar": {
             "outlinewidth": 0,
             "ticks": ""
            },
            "colorscale": [
             [
              0,
              "#0d0887"
             ],
             [
              0.1111111111111111,
              "#46039f"
             ],
             [
              0.2222222222222222,
              "#7201a8"
             ],
             [
              0.3333333333333333,
              "#9c179e"
             ],
             [
              0.4444444444444444,
              "#bd3786"
             ],
             [
              0.5555555555555556,
              "#d8576b"
             ],
             [
              0.6666666666666666,
              "#ed7953"
             ],
             [
              0.7777777777777778,
              "#fb9f3a"
             ],
             [
              0.8888888888888888,
              "#fdca26"
             ],
             [
              1,
              "#f0f921"
             ]
            ],
            "type": "heatmap"
           }
          ],
          "heatmapgl": [
           {
            "colorbar": {
             "outlinewidth": 0,
             "ticks": ""
            },
            "colorscale": [
             [
              0,
              "#0d0887"
             ],
             [
              0.1111111111111111,
              "#46039f"
             ],
             [
              0.2222222222222222,
              "#7201a8"
             ],
             [
              0.3333333333333333,
              "#9c179e"
             ],
             [
              0.4444444444444444,
              "#bd3786"
             ],
             [
              0.5555555555555556,
              "#d8576b"
             ],
             [
              0.6666666666666666,
              "#ed7953"
             ],
             [
              0.7777777777777778,
              "#fb9f3a"
             ],
             [
              0.8888888888888888,
              "#fdca26"
             ],
             [
              1,
              "#f0f921"
             ]
            ],
            "type": "heatmapgl"
           }
          ],
          "histogram": [
           {
            "marker": {
             "pattern": {
              "fillmode": "overlay",
              "size": 10,
              "solidity": 0.2
             }
            },
            "type": "histogram"
           }
          ],
          "histogram2d": [
           {
            "colorbar": {
             "outlinewidth": 0,
             "ticks": ""
            },
            "colorscale": [
             [
              0,
              "#0d0887"
             ],
             [
              0.1111111111111111,
              "#46039f"
             ],
             [
              0.2222222222222222,
              "#7201a8"
             ],
             [
              0.3333333333333333,
              "#9c179e"
             ],
             [
              0.4444444444444444,
              "#bd3786"
             ],
             [
              0.5555555555555556,
              "#d8576b"
             ],
             [
              0.6666666666666666,
              "#ed7953"
             ],
             [
              0.7777777777777778,
              "#fb9f3a"
             ],
             [
              0.8888888888888888,
              "#fdca26"
             ],
             [
              1,
              "#f0f921"
             ]
            ],
            "type": "histogram2d"
           }
          ],
          "histogram2dcontour": [
           {
            "colorbar": {
             "outlinewidth": 0,
             "ticks": ""
            },
            "colorscale": [
             [
              0,
              "#0d0887"
             ],
             [
              0.1111111111111111,
              "#46039f"
             ],
             [
              0.2222222222222222,
              "#7201a8"
             ],
             [
              0.3333333333333333,
              "#9c179e"
             ],
             [
              0.4444444444444444,
              "#bd3786"
             ],
             [
              0.5555555555555556,
              "#d8576b"
             ],
             [
              0.6666666666666666,
              "#ed7953"
             ],
             [
              0.7777777777777778,
              "#fb9f3a"
             ],
             [
              0.8888888888888888,
              "#fdca26"
             ],
             [
              1,
              "#f0f921"
             ]
            ],
            "type": "histogram2dcontour"
           }
          ],
          "mesh3d": [
           {
            "colorbar": {
             "outlinewidth": 0,
             "ticks": ""
            },
            "type": "mesh3d"
           }
          ],
          "parcoords": [
           {
            "line": {
             "colorbar": {
              "outlinewidth": 0,
              "ticks": ""
             }
            },
            "type": "parcoords"
           }
          ],
          "pie": [
           {
            "automargin": true,
            "type": "pie"
           }
          ],
          "scatter": [
           {
            "fillpattern": {
             "fillmode": "overlay",
             "size": 10,
             "solidity": 0.2
            },
            "type": "scatter"
           }
          ],
          "scatter3d": [
           {
            "line": {
             "colorbar": {
              "outlinewidth": 0,
              "ticks": ""
             }
            },
            "marker": {
             "colorbar": {
              "outlinewidth": 0,
              "ticks": ""
             }
            },
            "type": "scatter3d"
           }
          ],
          "scattercarpet": [
           {
            "marker": {
             "colorbar": {
              "outlinewidth": 0,
              "ticks": ""
             }
            },
            "type": "scattercarpet"
           }
          ],
          "scattergeo": [
           {
            "marker": {
             "colorbar": {
              "outlinewidth": 0,
              "ticks": ""
             }
            },
            "type": "scattergeo"
           }
          ],
          "scattergl": [
           {
            "marker": {
             "colorbar": {
              "outlinewidth": 0,
              "ticks": ""
             }
            },
            "type": "scattergl"
           }
          ],
          "scattermapbox": [
           {
            "marker": {
             "colorbar": {
              "outlinewidth": 0,
              "ticks": ""
             }
            },
            "type": "scattermapbox"
           }
          ],
          "scatterpolar": [
           {
            "marker": {
             "colorbar": {
              "outlinewidth": 0,
              "ticks": ""
             }
            },
            "type": "scatterpolar"
           }
          ],
          "scatterpolargl": [
           {
            "marker": {
             "colorbar": {
              "outlinewidth": 0,
              "ticks": ""
             }
            },
            "type": "scatterpolargl"
           }
          ],
          "scatterternary": [
           {
            "marker": {
             "colorbar": {
              "outlinewidth": 0,
              "ticks": ""
             }
            },
            "type": "scatterternary"
           }
          ],
          "surface": [
           {
            "colorbar": {
             "outlinewidth": 0,
             "ticks": ""
            },
            "colorscale": [
             [
              0,
              "#0d0887"
             ],
             [
              0.1111111111111111,
              "#46039f"
             ],
             [
              0.2222222222222222,
              "#7201a8"
             ],
             [
              0.3333333333333333,
              "#9c179e"
             ],
             [
              0.4444444444444444,
              "#bd3786"
             ],
             [
              0.5555555555555556,
              "#d8576b"
             ],
             [
              0.6666666666666666,
              "#ed7953"
             ],
             [
              0.7777777777777778,
              "#fb9f3a"
             ],
             [
              0.8888888888888888,
              "#fdca26"
             ],
             [
              1,
              "#f0f921"
             ]
            ],
            "type": "surface"
           }
          ],
          "table": [
           {
            "cells": {
             "fill": {
              "color": "#EBF0F8"
             },
             "line": {
              "color": "white"
             }
            },
            "header": {
             "fill": {
              "color": "#C8D4E3"
             },
             "line": {
              "color": "white"
             }
            },
            "type": "table"
           }
          ]
         },
         "layout": {
          "annotationdefaults": {
           "arrowcolor": "#2a3f5f",
           "arrowhead": 0,
           "arrowwidth": 1
          },
          "autotypenumbers": "strict",
          "coloraxis": {
           "colorbar": {
            "outlinewidth": 0,
            "ticks": ""
           }
          },
          "colorscale": {
           "diverging": [
            [
             0,
             "#8e0152"
            ],
            [
             0.1,
             "#c51b7d"
            ],
            [
             0.2,
             "#de77ae"
            ],
            [
             0.3,
             "#f1b6da"
            ],
            [
             0.4,
             "#fde0ef"
            ],
            [
             0.5,
             "#f7f7f7"
            ],
            [
             0.6,
             "#e6f5d0"
            ],
            [
             0.7,
             "#b8e186"
            ],
            [
             0.8,
             "#7fbc41"
            ],
            [
             0.9,
             "#4d9221"
            ],
            [
             1,
             "#276419"
            ]
           ],
           "sequential": [
            [
             0,
             "#0d0887"
            ],
            [
             0.1111111111111111,
             "#46039f"
            ],
            [
             0.2222222222222222,
             "#7201a8"
            ],
            [
             0.3333333333333333,
             "#9c179e"
            ],
            [
             0.4444444444444444,
             "#bd3786"
            ],
            [
             0.5555555555555556,
             "#d8576b"
            ],
            [
             0.6666666666666666,
             "#ed7953"
            ],
            [
             0.7777777777777778,
             "#fb9f3a"
            ],
            [
             0.8888888888888888,
             "#fdca26"
            ],
            [
             1,
             "#f0f921"
            ]
           ],
           "sequentialminus": [
            [
             0,
             "#0d0887"
            ],
            [
             0.1111111111111111,
             "#46039f"
            ],
            [
             0.2222222222222222,
             "#7201a8"
            ],
            [
             0.3333333333333333,
             "#9c179e"
            ],
            [
             0.4444444444444444,
             "#bd3786"
            ],
            [
             0.5555555555555556,
             "#d8576b"
            ],
            [
             0.6666666666666666,
             "#ed7953"
            ],
            [
             0.7777777777777778,
             "#fb9f3a"
            ],
            [
             0.8888888888888888,
             "#fdca26"
            ],
            [
             1,
             "#f0f921"
            ]
           ]
          },
          "colorway": [
           "#636efa",
           "#EF553B",
           "#00cc96",
           "#ab63fa",
           "#FFA15A",
           "#19d3f3",
           "#FF6692",
           "#B6E880",
           "#FF97FF",
           "#FECB52"
          ],
          "font": {
           "color": "#2a3f5f"
          },
          "geo": {
           "bgcolor": "white",
           "lakecolor": "white",
           "landcolor": "white",
           "showlakes": true,
           "showland": true,
           "subunitcolor": "#C8D4E3"
          },
          "hoverlabel": {
           "align": "left"
          },
          "hovermode": "closest",
          "mapbox": {
           "style": "light"
          },
          "paper_bgcolor": "white",
          "plot_bgcolor": "white",
          "polar": {
           "angularaxis": {
            "gridcolor": "#EBF0F8",
            "linecolor": "#EBF0F8",
            "ticks": ""
           },
           "bgcolor": "white",
           "radialaxis": {
            "gridcolor": "#EBF0F8",
            "linecolor": "#EBF0F8",
            "ticks": ""
           }
          },
          "scene": {
           "xaxis": {
            "backgroundcolor": "white",
            "gridcolor": "#DFE8F3",
            "gridwidth": 2,
            "linecolor": "#EBF0F8",
            "showbackground": true,
            "ticks": "",
            "zerolinecolor": "#EBF0F8"
           },
           "yaxis": {
            "backgroundcolor": "white",
            "gridcolor": "#DFE8F3",
            "gridwidth": 2,
            "linecolor": "#EBF0F8",
            "showbackground": true,
            "ticks": "",
            "zerolinecolor": "#EBF0F8"
           },
           "zaxis": {
            "backgroundcolor": "white",
            "gridcolor": "#DFE8F3",
            "gridwidth": 2,
            "linecolor": "#EBF0F8",
            "showbackground": true,
            "ticks": "",
            "zerolinecolor": "#EBF0F8"
           }
          },
          "shapedefaults": {
           "line": {
            "color": "#2a3f5f"
           }
          },
          "ternary": {
           "aaxis": {
            "gridcolor": "#DFE8F3",
            "linecolor": "#A2B1C6",
            "ticks": ""
           },
           "baxis": {
            "gridcolor": "#DFE8F3",
            "linecolor": "#A2B1C6",
            "ticks": ""
           },
           "bgcolor": "white",
           "caxis": {
            "gridcolor": "#DFE8F3",
            "linecolor": "#A2B1C6",
            "ticks": ""
           }
          },
          "title": {
           "x": 0.05
          },
          "xaxis": {
           "automargin": true,
           "gridcolor": "#EBF0F8",
           "linecolor": "#EBF0F8",
           "ticks": "",
           "title": {
            "standoff": 15
           },
           "zerolinecolor": "#EBF0F8",
           "zerolinewidth": 2
          },
          "yaxis": {
           "automargin": true,
           "gridcolor": "#EBF0F8",
           "linecolor": "#EBF0F8",
           "ticks": "",
           "title": {
            "standoff": 15
           },
           "zerolinecolor": "#EBF0F8",
           "zerolinewidth": 2
          }
         }
        },
        "title": {
         "text": "Embeddings by Rating Score (PCA 1: 47.0%, PCA 2: 4.6%)"
        },
        "xaxis": {
         "anchor": "y",
         "domain": [
          0,
          1
         ],
         "title": {
          "text": "PCA 1 (47.0% variance)"
         }
        },
        "yaxis": {
         "anchor": "x",
         "domain": [
          0,
          1
         ],
         "title": {
          "text": "PCA 2 (4.6% variance)"
         }
        }
       }
      }
     },
     "metadata": {},
     "output_type": "display_data"
    },
    {
     "name": "stderr",
     "output_type": "stream",
     "text": [
      "/Users/jobandtalent/opt/anaconda3/envs/sar/lib/python3.9/site-packages/umap/umap_.py:1945: UserWarning:\n",
      "\n",
      "n_jobs value 1 overridden to 1 by setting random_state. Use no seed for parallelism.\n",
      "\n"
     ]
    },
    {
     "data": {
      "application/vnd.plotly.v1+json": {
       "config": {
        "plotlyServerURL": "https://plot.ly"
       },
       "data": [
        {
         "hovertemplate": "sentiment_label=positive<br>UMAP Dimension 1=%{x}<br>UMAP Dimension 2=%{y}<extra></extra>",
         "legendgroup": "positive",
         "marker": {
          "color": "green",
          "opacity": 0.7,
          "symbol": "circle"
         },
         "mode": "markers",
         "name": "positive",
         "orientation": "v",
         "showlegend": true,
         "type": "scatter",
         "x": [
          12.205307960510254,
          12.725332260131836,
          11.861700057983398,
          11.201041221618652,
          13.006625175476074,
          10.393253326416016,
          11.010327339172363,
          11.45495891571045,
          10.88776683807373,
          12.368928909301758,
          12.257487297058105,
          11.985109329223633,
          11.4398193359375,
          13.100544929504395,
          11.831893920898438,
          12.144344329833984,
          11.466692924499512,
          10.864188194274902,
          13.163841247558594,
          11.691573143005371,
          12.891243934631348,
          11.787224769592285,
          12.169694900512695,
          12.402688980102539,
          12.491582870483398,
          10.918188095092773,
          11.869951248168945,
          12.529263496398926,
          13.459798812866211,
          11.432284355163574,
          10.699257850646973,
          11.607124328613281,
          10.992615699768066,
          11.475040435791016,
          11.864742279052734,
          12.108160972595215,
          13.11963939666748,
          13.125655174255371,
          10.978577613830566,
          12.15764045715332,
          10.73165225982666,
          12.019124984741211,
          13.377180099487305,
          10.425857543945312,
          10.894378662109375,
          13.453083038330078,
          10.5051908493042,
          12.00835132598877,
          13.276856422424316,
          12.636092185974121,
          11.476985931396484,
          11.183146476745605,
          12.820226669311523,
          12.367368698120117,
          13.270671844482422,
          12.096868515014648,
          11.936651229858398,
          11.91515064239502,
          12.815356254577637,
          11.239014625549316,
          11.552299499511719,
          13.343032836914062,
          10.758234977722168,
          11.807577133178711,
          10.993903160095215,
          11.096198081970215,
          12.689216613769531,
          11.183675765991211,
          11.95938491821289,
          11.701456069946289,
          10.56879997253418,
          11.768839836120605,
          11.056474685668945,
          12.905660629272461,
          13.440756797790527,
          12.252187728881836,
          12.374448776245117,
          11.449178695678711,
          11.43710708618164,
          10.049964904785156,
          11.390911102294922,
          11.20151424407959,
          10.179896354675293,
          12.463191986083984,
          11.887834548950195,
          10.930404663085938,
          12.249495506286621,
          13.11807632446289,
          12.851789474487305,
          10.895299911499023,
          10.341851234436035,
          13.214225769042969,
          11.675581932067871,
          11.255115509033203,
          12.121224403381348,
          12.041176795959473,
          11.062254905700684,
          12.28518295288086,
          11.481363296508789,
          12.725383758544922,
          11.407052040100098,
          13.565210342407227,
          13.373641014099121,
          13.519975662231445,
          13.115682601928711,
          12.52413558959961,
          11.100592613220215,
          10.471100807189941,
          12.028717041015625,
          11.566028594970703,
          11.402361869812012,
          12.69825267791748,
          11.196812629699707,
          12.545268058776855,
          12.538228034973145,
          11.44430923461914,
          12.951544761657715,
          13.226480484008789,
          11.624953269958496,
          12.906864166259766,
          12.201980590820312,
          11.311227798461914,
          12.385953903198242,
          11.349991798400879,
          11.901459693908691,
          12.585752487182617,
          13.488558769226074,
          13.036404609680176,
          12.0316801071167,
          10.59957504272461,
          11.504522323608398,
          11.058963775634766,
          11.50893497467041,
          9.92419719696045,
          11.993867874145508,
          10.1066255569458,
          10.007929801940918,
          12.507603645324707,
          12.33450984954834,
          12.475666999816895,
          11.248821258544922,
          11.099008560180664,
          12.87047004699707,
          9.9111909866333,
          10.398232460021973,
          13.642315864562988,
          10.668326377868652,
          9.847370147705078,
          10.490367889404297,
          10.758810043334961,
          11.870750427246094,
          13.555556297302246,
          13.322816848754883,
          10.27840518951416,
          11.196313858032227,
          10.549822807312012,
          10.151927947998047,
          11.944097518920898,
          13.73792552947998,
          12.401299476623535,
          9.914094924926758,
          11.651639938354492,
          11.32154655456543,
          11.983724594116211,
          13.132440567016602,
          10.60300064086914,
          12.538434028625488,
          11.440023422241211,
          12.8790864944458,
          13.004165649414062,
          11.78415298461914,
          12.738635063171387,
          13.681315422058105,
          12.306421279907227,
          12.020978927612305,
          13.196036338806152,
          13.7022066116333,
          13.512889862060547,
          11.680954933166504,
          11.714038848876953,
          11.77194595336914,
          13.318071365356445,
          13.581490516662598,
          12.244792938232422,
          11.165778160095215,
          11.903864860534668,
          13.263872146606445,
          10.534049987792969,
          12.572027206420898,
          10.850659370422363,
          10.389322280883789,
          12.012682914733887,
          10.614903450012207,
          9.926981925964355,
          11.159696578979492,
          12.316866874694824,
          13.605668067932129,
          13.663656234741211,
          10.017317771911621,
          13.063491821289062,
          11.197916984558105,
          11.009283065795898,
          11.561053276062012,
          10.953995704650879,
          11.153800964355469,
          12.95512866973877,
          13.014167785644531,
          11.830009460449219,
          11.38707160949707,
          13.547540664672852,
          13.434921264648438,
          12.490660667419434,
          12.053001403808594,
          10.473074913024902,
          12.164168357849121,
          13.875985145568848,
          13.353751182556152,
          12.27490520477295,
          -9.132588386535645,
          10.185587882995605,
          -8.815534591674805,
          11.047749519348145,
          12.136509895324707,
          12.407506942749023,
          13.133535385131836,
          -8.652382850646973,
          12.127532005310059,
          -8.757647514343262,
          -8.83747673034668,
          10.200115203857422,
          11.037129402160645,
          -8.899664878845215,
          10.363386154174805,
          12.186250686645508,
          10.905914306640625,
          12.256226539611816,
          12.137943267822266,
          11.829154968261719,
          -9.000650405883789,
          11.238520622253418,
          11.91062068939209,
          12.216492652893066,
          10.892236709594727,
          10.81924819946289,
          10.334973335266113,
          10.303351402282715,
          -8.679377555847168,
          -8.8081693649292,
          12.290288925170898,
          -9.011709213256836,
          -8.782032012939453,
          -9.154438018798828,
          -9.028533935546875,
          -8.866678237915039,
          -8.996301651000977,
          -8.889973640441895,
          -8.97230052947998,
          -8.865150451660156,
          -8.835173606872559,
          -9.043381690979004,
          -9.02369213104248,
          -9.339195251464844,
          -8.678045272827148,
          -8.73444938659668,
          -8.77492618560791,
          -8.598169326782227,
          -8.680221557617188,
          -8.757478713989258,
          -9.35498332977295,
          -9.076032638549805,
          -9.010459899902344,
          -9.157214164733887,
          -9.341021537780762,
          -9.262033462524414,
          -9.40178108215332,
          -9.275314331054688,
          -9.398588180541992,
          -8.61743450164795,
          -8.625720977783203,
          -8.281359672546387,
          -8.5023775100708,
          -8.427628517150879,
          -9.167830467224121,
          -8.607492446899414,
          -9.205714225769043,
          -9.083061218261719,
          -8.29609489440918,
          -8.279427528381348,
          -8.263397216796875,
          -8.319377899169922,
          -8.32271957397461,
          -9.524386405944824,
          -8.441143035888672,
          -8.430051803588867,
          -8.713653564453125,
          -8.566805839538574,
          -9.086641311645508,
          -8.910188674926758,
          -9.011439323425293,
          -8.90139102935791,
          -8.58091926574707,
          -9.597214698791504,
          -9.277689933776855,
          -9.505075454711914,
          -8.412443161010742,
          -8.976919174194336,
          -8.463900566101074,
          -9.23403549194336
         ],
         "xaxis": "x",
         "y": [
          -10.130144119262695,
          -10.923133850097656,
          -10.477025985717773,
          -8.813654899597168,
          -10.637751579284668,
          -10.381508827209473,
          -9.931506156921387,
          -10.669833183288574,
          -10.230416297912598,
          -9.982612609863281,
          -10.609794616699219,
          -10.970452308654785,
          -9.899449348449707,
          -11.268515586853027,
          -11.759804725646973,
          -9.711684226989746,
          -9.74446964263916,
          -10.960077285766602,
          -10.635282516479492,
          -11.799978256225586,
          -9.537055015563965,
          -10.040740013122559,
          -12.042016983032227,
          -10.820175170898438,
          -10.766927719116211,
          -9.029339790344238,
          -10.611971855163574,
          -11.136104583740234,
          -10.848044395446777,
          -10.078080177307129,
          -10.12096118927002,
          -11.748687744140625,
          -10.533634185791016,
          -8.993865013122559,
          -10.905987739562988,
          -11.217158317565918,
          -9.868407249450684,
          -11.696166038513184,
          -11.731740951538086,
          -9.964798927307129,
          -9.791287422180176,
          -11.376426696777344,
          -9.779001235961914,
          -10.562341690063477,
          -11.470812797546387,
          -11.170236587524414,
          -10.733296394348145,
          -11.890585899353027,
          -11.001014709472656,
          -11.03221321105957,
          -11.643644332885742,
          -9.909496307373047,
          -9.035337448120117,
          -11.029881477355957,
          -11.580097198486328,
          -11.560242652893066,
          -10.156205177307129,
          -10.99512004852295,
          -10.343765258789062,
          -9.046849250793457,
          -9.1681547164917,
          -11.13312816619873,
          -10.332205772399902,
          -9.381246566772461,
          -10.536240577697754,
          -10.065509796142578,
          -10.150848388671875,
          -11.779169082641602,
          -9.980892181396484,
          -9.816896438598633,
          -10.319762229919434,
          -8.649258613586426,
          -11.761476516723633,
          -9.549622535705566,
          -10.438801765441895,
          -11.08069133758545,
          -10.71938705444336,
          -11.392878532409668,
          -11.307879447937012,
          -9.714378356933594,
          -10.191527366638184,
          -10.086515426635742,
          -10.784788131713867,
          -9.73111343383789,
          -10.462725639343262,
          -9.729715347290039,
          -11.773223876953125,
          -11.769636154174805,
          -10.546891212463379,
          -9.999170303344727,
          -10.332117080688477,
          -10.780848503112793,
          -11.770126342773438,
          -10.72607421875,
          -11.790860176086426,
          -10.773476600646973,
          -8.41732406616211,
          -12.07736587524414,
          -11.213254928588867,
          -9.614400863647461,
          -10.634961128234863,
          -11.294136047363281,
          -10.00398063659668,
          -9.46302604675293,
          -9.603447914123535,
          -10.384206771850586,
          -10.856597900390625,
          -11.135103225708008,
          -11.355233192443848,
          -10.535794258117676,
          -10.241601943969727,
          -10.594974517822266,
          -9.71455192565918,
          -11.821317672729492,
          -8.776397705078125,
          -9.613626480102539,
          -12.022543907165527,
          -9.387395858764648,
          -9.202820777893066,
          -10.199783325195312,
          -10.97547721862793,
          -11.162454605102539,
          -10.22249698638916,
          -10.272758483886719,
          -12.359945297241211,
          -12.018136978149414,
          -10.2625093460083,
          -12.081267356872559,
          -11.936460494995117,
          -10.189491271972656,
          -9.462630271911621,
          -8.745580673217773,
          -9.212667465209961,
          -10.427409172058105,
          -8.975582122802734,
          -10.594964981079102,
          -10.463950157165527,
          -10.738032341003418,
          -10.191006660461426,
          -9.616581916809082,
          -11.521530151367188,
          -11.487366676330566,
          -10.131031036376953,
          -10.308040618896484,
          -9.819183349609375,
          -10.316061973571777,
          -10.10748291015625,
          -10.168937683105469,
          -10.31790542602539,
          -11.778059005737305,
          -11.97279167175293,
          -10.722298622131348,
          -10.633869171142578,
          -9.280203819274902,
          -9.19621467590332,
          -11.64261531829834,
          -11.046591758728027,
          -10.200815200805664,
          -10.4194974899292,
          -9.79694652557373,
          -10.126169204711914,
          -8.605936050415039,
          -11.075335502624512,
          -9.679938316345215,
          -9.8864164352417,
          -9.372594833374023,
          -9.175711631774902,
          -10.040122032165527,
          -9.916111946105957,
          -9.34862232208252,
          -8.684431076049805,
          -9.92712688446045,
          -11.106054306030273,
          -11.349861145019531,
          -11.910709381103516,
          -9.839646339416504,
          -10.84041976928711,
          -9.354493141174316,
          -9.375564575195312,
          -9.442545890808105,
          -9.886549949645996,
          -10.201726913452148,
          -9.487689018249512,
          -6.283937931060791,
          -10.398244857788086,
          -8.984847068786621,
          -9.887758255004883,
          -11.08356761932373,
          -9.261907577514648,
          -11.891514778137207,
          -11.191500663757324,
          -9.443268775939941,
          -9.989570617675781,
          -10.644100189208984,
          -8.173906326293945,
          -6.419351577758789,
          -10.166951179504395,
          -9.559599876403809,
          -10.586938858032227,
          -9.007320404052734,
          -8.83357048034668,
          -11.655922889709473,
          -10.161001205444336,
          -7.619214057922363,
          -8.74326229095459,
          -9.000503540039062,
          -10.249356269836426,
          -7.1546783447265625,
          -11.792340278625488,
          -9.293047904968262,
          -9.292794227600098,
          -6.596092224121094,
          -9.103309631347656,
          -8.873732566833496,
          -6.2204670906066895,
          -10.421076774597168,
          -9.148520469665527,
          -9.035051345825195,
          -2.460477352142334,
          -9.614422798156738,
          -2.51779842376709,
          -8.14039421081543,
          -6.437465190887451,
          -9.064107894897461,
          -9.01508617401123,
          -2.483579635620117,
          -6.308157920837402,
          -2.4017372131347656,
          -2.7487454414367676,
          -9.079227447509766,
          -8.321958541870117,
          -2.597888708114624,
          -8.695558547973633,
          -6.256330490112305,
          -7.513861656188965,
          -6.3330159187316895,
          -6.200490951538086,
          -6.757206916809082,
          -2.388958692550659,
          -7.817206382751465,
          -6.759914875030518,
          -6.290045261383057,
          -7.612951755523682,
          -7.384800910949707,
          -8.581633567810059,
          -8.670304298400879,
          -2.7174675464630127,
          -2.570225715637207,
          -6.228769302368164,
          -2.4554052352905273,
          -2.4883060455322266,
          -2.914102077484131,
          -2.1452529430389404,
          -2.2841227054595947,
          -2.2139718532562256,
          -2.294001340866089,
          -2.333230972290039,
          -2.5164098739624023,
          -2.63112473487854,
          -2.4312665462493896,
          -2.147304058074951,
          -2.423251152038574,
          -2.7372474670410156,
          -2.0876033306121826,
          -2.7216477394104004,
          -2.475189685821533,
          -2.1805481910705566,
          -1.9568418264389038,
          -2.264246940612793,
          -2.1320061683654785,
          -2.873260498046875,
          -2.6458873748779297,
          -2.232495069503784,
          -2.7106387615203857,
          -2.5815815925598145,
          -2.9564197063446045,
          -2.3283324241638184,
          -1.9585425853729248,
          -2.900546073913574,
          -2.4610936641693115,
          -1.9829027652740479,
          -2.4201207160949707,
          -2.925583839416504,
          -2.2499728202819824,
          -1.9660290479660034,
          -2.070788860321045,
          -2.8686156272888184,
          -2.3695108890533447,
          -2.55754017829895,
          -2.6253223419189453,
          -2.1513938903808594,
          -2.6131153106689453,
          -2.5740957260131836,
          -2.7451741695404053,
          -2.3541605472564697,
          -2.924374580383301,
          -3.035006284713745,
          -1.84443998336792,
          -2.8153367042541504,
          -2.9454824924468994,
          -1.922819972038269,
          -2.427654981613159,
          -2.075960636138916,
          -2.281724214553833,
          -2.138296365737915,
          -3.137775421142578,
          -2.8715455532073975,
          -1.9749475717544556
         ],
         "yaxis": "y"
        },
        {
         "hovertemplate": "sentiment_label=neutral<br>UMAP Dimension 1=%{x}<br>UMAP Dimension 2=%{y}<extra></extra>",
         "legendgroup": "neutral",
         "marker": {
          "color": "gray",
          "opacity": 0.7,
          "symbol": "circle"
         },
         "mode": "markers",
         "name": "neutral",
         "orientation": "v",
         "showlegend": true,
         "type": "scatter",
         "x": [
          11.678403854370117,
          11.988520622253418,
          11.461703300476074,
          11.332765579223633,
          10.123905181884766,
          13.656760215759277,
          12.770486831665039,
          12.01510238647461,
          13.249207496643066,
          10.401702880859375,
          11.957661628723145,
          12.726536750793457,
          12.634493827819824,
          11.951985359191895,
          11.644149780273438,
          -8.765387535095215,
          11.011199951171875,
          -9.15761947631836,
          -9.16800308227539,
          -9.159439086914062,
          -9.588326454162598,
          -8.802313804626465,
          -8.789106369018555
         ],
         "xaxis": "x",
         "y": [
          -9.873117446899414,
          -12.113953590393066,
          -10.932095527648926,
          -11.168193817138672,
          -10.995673179626465,
          -10.506444931030273,
          -9.240762710571289,
          -12.33627986907959,
          -11.233195304870605,
          -9.75872802734375,
          -11.314447402954102,
          -11.350098609924316,
          -9.636041641235352,
          -10.41530704498291,
          -8.4974946975708,
          -2.354924201965332,
          -7.646211624145508,
          -2.626192808151245,
          -2.4001216888427734,
          -2.5018320083618164,
          -2.5956501960754395,
          -2.0068585872650146,
          -3.130845308303833
         ],
         "yaxis": "y"
        },
        {
         "hovertemplate": "sentiment_label=negative<br>UMAP Dimension 1=%{x}<br>UMAP Dimension 2=%{y}<extra></extra>",
         "legendgroup": "negative",
         "marker": {
          "color": "red",
          "opacity": 0.7,
          "symbol": "circle"
         },
         "mode": "markers",
         "name": "negative",
         "orientation": "v",
         "showlegend": true,
         "type": "scatter",
         "x": [
          12.237706184387207,
          12.576457023620605,
          12.563804626464844,
          12.231134414672852,
          12.18591594696045,
          10.9055757522583,
          11.76384449005127,
          13.266547203063965,
          12.869343757629395,
          12.569677352905273,
          12.845099449157715,
          11.555967330932617,
          12.285422325134277,
          10.6904878616333,
          11.959558486938477,
          12.572284698486328,
          12.598387718200684,
          10.092641830444336,
          13.294754981994629,
          10.969568252563477,
          11.656277656555176,
          10.011455535888672,
          11.135846138000488,
          10.732132911682129,
          -8.941166877746582,
          -8.895281791687012,
          -9.206400871276855,
          -9.48318862915039,
          -8.579049110412598
         ],
         "xaxis": "x",
         "y": [
          -11.683563232421875,
          -12.094032287597656,
          -11.720208168029785,
          -10.624948501586914,
          -11.87801456451416,
          -10.974039077758789,
          -12.24333381652832,
          -11.76369571685791,
          -11.508723258972168,
          -12.211075782775879,
          -11.691882133483887,
          -12.08351993560791,
          -12.291606903076172,
          -10.647717475891113,
          -11.177459716796875,
          -11.836133003234863,
          -11.30936336517334,
          -9.501507759094238,
          -11.2398042678833,
          -9.33067798614502,
          -12.18517780303955,
          -10.956766128540039,
          -7.861157417297363,
          -7.620394706726074,
          -2.7491610050201416,
          -2.3458611965179443,
          -2.8274331092834473,
          -2.2627880573272705,
          -2.0062732696533203
         ],
         "yaxis": "y"
        }
       ],
       "layout": {
        "legend": {
         "title": {
          "text": "Sentiment"
         },
         "tracegroupgap": 0
        },
        "margin": {
         "b": 10,
         "l": 10,
         "r": 10,
         "t": 40
        },
        "showlegend": true,
        "template": {
         "data": {
          "bar": [
           {
            "error_x": {
             "color": "#2a3f5f"
            },
            "error_y": {
             "color": "#2a3f5f"
            },
            "marker": {
             "line": {
              "color": "#E5ECF6",
              "width": 0.5
             },
             "pattern": {
              "fillmode": "overlay",
              "size": 10,
              "solidity": 0.2
             }
            },
            "type": "bar"
           }
          ],
          "barpolar": [
           {
            "marker": {
             "line": {
              "color": "#E5ECF6",
              "width": 0.5
             },
             "pattern": {
              "fillmode": "overlay",
              "size": 10,
              "solidity": 0.2
             }
            },
            "type": "barpolar"
           }
          ],
          "carpet": [
           {
            "aaxis": {
             "endlinecolor": "#2a3f5f",
             "gridcolor": "white",
             "linecolor": "white",
             "minorgridcolor": "white",
             "startlinecolor": "#2a3f5f"
            },
            "baxis": {
             "endlinecolor": "#2a3f5f",
             "gridcolor": "white",
             "linecolor": "white",
             "minorgridcolor": "white",
             "startlinecolor": "#2a3f5f"
            },
            "type": "carpet"
           }
          ],
          "choropleth": [
           {
            "colorbar": {
             "outlinewidth": 0,
             "ticks": ""
            },
            "type": "choropleth"
           }
          ],
          "contour": [
           {
            "colorbar": {
             "outlinewidth": 0,
             "ticks": ""
            },
            "colorscale": [
             [
              0,
              "#0d0887"
             ],
             [
              0.1111111111111111,
              "#46039f"
             ],
             [
              0.2222222222222222,
              "#7201a8"
             ],
             [
              0.3333333333333333,
              "#9c179e"
             ],
             [
              0.4444444444444444,
              "#bd3786"
             ],
             [
              0.5555555555555556,
              "#d8576b"
             ],
             [
              0.6666666666666666,
              "#ed7953"
             ],
             [
              0.7777777777777778,
              "#fb9f3a"
             ],
             [
              0.8888888888888888,
              "#fdca26"
             ],
             [
              1,
              "#f0f921"
             ]
            ],
            "type": "contour"
           }
          ],
          "contourcarpet": [
           {
            "colorbar": {
             "outlinewidth": 0,
             "ticks": ""
            },
            "type": "contourcarpet"
           }
          ],
          "heatmap": [
           {
            "colorbar": {
             "outlinewidth": 0,
             "ticks": ""
            },
            "colorscale": [
             [
              0,
              "#0d0887"
             ],
             [
              0.1111111111111111,
              "#46039f"
             ],
             [
              0.2222222222222222,
              "#7201a8"
             ],
             [
              0.3333333333333333,
              "#9c179e"
             ],
             [
              0.4444444444444444,
              "#bd3786"
             ],
             [
              0.5555555555555556,
              "#d8576b"
             ],
             [
              0.6666666666666666,
              "#ed7953"
             ],
             [
              0.7777777777777778,
              "#fb9f3a"
             ],
             [
              0.8888888888888888,
              "#fdca26"
             ],
             [
              1,
              "#f0f921"
             ]
            ],
            "type": "heatmap"
           }
          ],
          "heatmapgl": [
           {
            "colorbar": {
             "outlinewidth": 0,
             "ticks": ""
            },
            "colorscale": [
             [
              0,
              "#0d0887"
             ],
             [
              0.1111111111111111,
              "#46039f"
             ],
             [
              0.2222222222222222,
              "#7201a8"
             ],
             [
              0.3333333333333333,
              "#9c179e"
             ],
             [
              0.4444444444444444,
              "#bd3786"
             ],
             [
              0.5555555555555556,
              "#d8576b"
             ],
             [
              0.6666666666666666,
              "#ed7953"
             ],
             [
              0.7777777777777778,
              "#fb9f3a"
             ],
             [
              0.8888888888888888,
              "#fdca26"
             ],
             [
              1,
              "#f0f921"
             ]
            ],
            "type": "heatmapgl"
           }
          ],
          "histogram": [
           {
            "marker": {
             "pattern": {
              "fillmode": "overlay",
              "size": 10,
              "solidity": 0.2
             }
            },
            "type": "histogram"
           }
          ],
          "histogram2d": [
           {
            "colorbar": {
             "outlinewidth": 0,
             "ticks": ""
            },
            "colorscale": [
             [
              0,
              "#0d0887"
             ],
             [
              0.1111111111111111,
              "#46039f"
             ],
             [
              0.2222222222222222,
              "#7201a8"
             ],
             [
              0.3333333333333333,
              "#9c179e"
             ],
             [
              0.4444444444444444,
              "#bd3786"
             ],
             [
              0.5555555555555556,
              "#d8576b"
             ],
             [
              0.6666666666666666,
              "#ed7953"
             ],
             [
              0.7777777777777778,
              "#fb9f3a"
             ],
             [
              0.8888888888888888,
              "#fdca26"
             ],
             [
              1,
              "#f0f921"
             ]
            ],
            "type": "histogram2d"
           }
          ],
          "histogram2dcontour": [
           {
            "colorbar": {
             "outlinewidth": 0,
             "ticks": ""
            },
            "colorscale": [
             [
              0,
              "#0d0887"
             ],
             [
              0.1111111111111111,
              "#46039f"
             ],
             [
              0.2222222222222222,
              "#7201a8"
             ],
             [
              0.3333333333333333,
              "#9c179e"
             ],
             [
              0.4444444444444444,
              "#bd3786"
             ],
             [
              0.5555555555555556,
              "#d8576b"
             ],
             [
              0.6666666666666666,
              "#ed7953"
             ],
             [
              0.7777777777777778,
              "#fb9f3a"
             ],
             [
              0.8888888888888888,
              "#fdca26"
             ],
             [
              1,
              "#f0f921"
             ]
            ],
            "type": "histogram2dcontour"
           }
          ],
          "mesh3d": [
           {
            "colorbar": {
             "outlinewidth": 0,
             "ticks": ""
            },
            "type": "mesh3d"
           }
          ],
          "parcoords": [
           {
            "line": {
             "colorbar": {
              "outlinewidth": 0,
              "ticks": ""
             }
            },
            "type": "parcoords"
           }
          ],
          "pie": [
           {
            "automargin": true,
            "type": "pie"
           }
          ],
          "scatter": [
           {
            "fillpattern": {
             "fillmode": "overlay",
             "size": 10,
             "solidity": 0.2
            },
            "type": "scatter"
           }
          ],
          "scatter3d": [
           {
            "line": {
             "colorbar": {
              "outlinewidth": 0,
              "ticks": ""
             }
            },
            "marker": {
             "colorbar": {
              "outlinewidth": 0,
              "ticks": ""
             }
            },
            "type": "scatter3d"
           }
          ],
          "scattercarpet": [
           {
            "marker": {
             "colorbar": {
              "outlinewidth": 0,
              "ticks": ""
             }
            },
            "type": "scattercarpet"
           }
          ],
          "scattergeo": [
           {
            "marker": {
             "colorbar": {
              "outlinewidth": 0,
              "ticks": ""
             }
            },
            "type": "scattergeo"
           }
          ],
          "scattergl": [
           {
            "marker": {
             "colorbar": {
              "outlinewidth": 0,
              "ticks": ""
             }
            },
            "type": "scattergl"
           }
          ],
          "scattermapbox": [
           {
            "marker": {
             "colorbar": {
              "outlinewidth": 0,
              "ticks": ""
             }
            },
            "type": "scattermapbox"
           }
          ],
          "scatterpolar": [
           {
            "marker": {
             "colorbar": {
              "outlinewidth": 0,
              "ticks": ""
             }
            },
            "type": "scatterpolar"
           }
          ],
          "scatterpolargl": [
           {
            "marker": {
             "colorbar": {
              "outlinewidth": 0,
              "ticks": ""
             }
            },
            "type": "scatterpolargl"
           }
          ],
          "scatterternary": [
           {
            "marker": {
             "colorbar": {
              "outlinewidth": 0,
              "ticks": ""
             }
            },
            "type": "scatterternary"
           }
          ],
          "surface": [
           {
            "colorbar": {
             "outlinewidth": 0,
             "ticks": ""
            },
            "colorscale": [
             [
              0,
              "#0d0887"
             ],
             [
              0.1111111111111111,
              "#46039f"
             ],
             [
              0.2222222222222222,
              "#7201a8"
             ],
             [
              0.3333333333333333,
              "#9c179e"
             ],
             [
              0.4444444444444444,
              "#bd3786"
             ],
             [
              0.5555555555555556,
              "#d8576b"
             ],
             [
              0.6666666666666666,
              "#ed7953"
             ],
             [
              0.7777777777777778,
              "#fb9f3a"
             ],
             [
              0.8888888888888888,
              "#fdca26"
             ],
             [
              1,
              "#f0f921"
             ]
            ],
            "type": "surface"
           }
          ],
          "table": [
           {
            "cells": {
             "fill": {
              "color": "#EBF0F8"
             },
             "line": {
              "color": "white"
             }
            },
            "header": {
             "fill": {
              "color": "#C8D4E3"
             },
             "line": {
              "color": "white"
             }
            },
            "type": "table"
           }
          ]
         },
         "layout": {
          "annotationdefaults": {
           "arrowcolor": "#2a3f5f",
           "arrowhead": 0,
           "arrowwidth": 1
          },
          "autotypenumbers": "strict",
          "coloraxis": {
           "colorbar": {
            "outlinewidth": 0,
            "ticks": ""
           }
          },
          "colorscale": {
           "diverging": [
            [
             0,
             "#8e0152"
            ],
            [
             0.1,
             "#c51b7d"
            ],
            [
             0.2,
             "#de77ae"
            ],
            [
             0.3,
             "#f1b6da"
            ],
            [
             0.4,
             "#fde0ef"
            ],
            [
             0.5,
             "#f7f7f7"
            ],
            [
             0.6,
             "#e6f5d0"
            ],
            [
             0.7,
             "#b8e186"
            ],
            [
             0.8,
             "#7fbc41"
            ],
            [
             0.9,
             "#4d9221"
            ],
            [
             1,
             "#276419"
            ]
           ],
           "sequential": [
            [
             0,
             "#0d0887"
            ],
            [
             0.1111111111111111,
             "#46039f"
            ],
            [
             0.2222222222222222,
             "#7201a8"
            ],
            [
             0.3333333333333333,
             "#9c179e"
            ],
            [
             0.4444444444444444,
             "#bd3786"
            ],
            [
             0.5555555555555556,
             "#d8576b"
            ],
            [
             0.6666666666666666,
             "#ed7953"
            ],
            [
             0.7777777777777778,
             "#fb9f3a"
            ],
            [
             0.8888888888888888,
             "#fdca26"
            ],
            [
             1,
             "#f0f921"
            ]
           ],
           "sequentialminus": [
            [
             0,
             "#0d0887"
            ],
            [
             0.1111111111111111,
             "#46039f"
            ],
            [
             0.2222222222222222,
             "#7201a8"
            ],
            [
             0.3333333333333333,
             "#9c179e"
            ],
            [
             0.4444444444444444,
             "#bd3786"
            ],
            [
             0.5555555555555556,
             "#d8576b"
            ],
            [
             0.6666666666666666,
             "#ed7953"
            ],
            [
             0.7777777777777778,
             "#fb9f3a"
            ],
            [
             0.8888888888888888,
             "#fdca26"
            ],
            [
             1,
             "#f0f921"
            ]
           ]
          },
          "colorway": [
           "#636efa",
           "#EF553B",
           "#00cc96",
           "#ab63fa",
           "#FFA15A",
           "#19d3f3",
           "#FF6692",
           "#B6E880",
           "#FF97FF",
           "#FECB52"
          ],
          "font": {
           "color": "#2a3f5f"
          },
          "geo": {
           "bgcolor": "white",
           "lakecolor": "white",
           "landcolor": "#E5ECF6",
           "showlakes": true,
           "showland": true,
           "subunitcolor": "white"
          },
          "hoverlabel": {
           "align": "left"
          },
          "hovermode": "closest",
          "mapbox": {
           "style": "light"
          },
          "paper_bgcolor": "white",
          "plot_bgcolor": "#E5ECF6",
          "polar": {
           "angularaxis": {
            "gridcolor": "white",
            "linecolor": "white",
            "ticks": ""
           },
           "bgcolor": "#E5ECF6",
           "radialaxis": {
            "gridcolor": "white",
            "linecolor": "white",
            "ticks": ""
           }
          },
          "scene": {
           "xaxis": {
            "backgroundcolor": "#E5ECF6",
            "gridcolor": "white",
            "gridwidth": 2,
            "linecolor": "white",
            "showbackground": true,
            "ticks": "",
            "zerolinecolor": "white"
           },
           "yaxis": {
            "backgroundcolor": "#E5ECF6",
            "gridcolor": "white",
            "gridwidth": 2,
            "linecolor": "white",
            "showbackground": true,
            "ticks": "",
            "zerolinecolor": "white"
           },
           "zaxis": {
            "backgroundcolor": "#E5ECF6",
            "gridcolor": "white",
            "gridwidth": 2,
            "linecolor": "white",
            "showbackground": true,
            "ticks": "",
            "zerolinecolor": "white"
           }
          },
          "shapedefaults": {
           "line": {
            "color": "#2a3f5f"
           }
          },
          "ternary": {
           "aaxis": {
            "gridcolor": "white",
            "linecolor": "white",
            "ticks": ""
           },
           "baxis": {
            "gridcolor": "white",
            "linecolor": "white",
            "ticks": ""
           },
           "bgcolor": "#E5ECF6",
           "caxis": {
            "gridcolor": "white",
            "linecolor": "white",
            "ticks": ""
           }
          },
          "title": {
           "x": 0.05
          },
          "xaxis": {
           "automargin": true,
           "gridcolor": "white",
           "linecolor": "white",
           "ticks": "",
           "title": {
            "standoff": 15
           },
           "zerolinecolor": "white",
           "zerolinewidth": 2
          },
          "yaxis": {
           "automargin": true,
           "gridcolor": "white",
           "linecolor": "white",
           "ticks": "",
           "title": {
            "standoff": 15
           },
           "zerolinecolor": "white",
           "zerolinewidth": 2
          }
         }
        },
        "title": {
         "text": "Embedding Visualization with UMAP"
        },
        "xaxis": {
         "anchor": "y",
         "domain": [
          0,
          1
         ],
         "title": {
          "text": "UMAP Dimension 1"
         }
        },
        "yaxis": {
         "anchor": "x",
         "domain": [
          0,
          1
         ],
         "title": {
          "text": "UMAP Dimension 2"
         }
        }
       }
      }
     },
     "metadata": {},
     "output_type": "display_data"
    }
   ],
   "source": [
    "from sklearn.decomposition import PCA\n",
    "\n",
    "# PCA Embeddings Visualization\n",
    "def visualizeEmbeddingsPCA(df):\n",
    "    # Convert embeddings to a NumPy array\n",
    "    embeddings = np.array(df['embedding'].tolist())\n",
    "    ratings = df['rating_score']\n",
    "    \n",
    "    # Perform PCA for dimensionality reduction\n",
    "    pca = PCA(n_components=2)\n",
    "    reduced_embeddings = pca.fit_transform(embeddings)\n",
    "    \n",
    "    # Calculate variance explained by each component\n",
    "    var_explained = pca.explained_variance_ratio_ * 100\n",
    "    var1, var2 = var_explained\n",
    "    \n",
    "    # Prepare DataFrame for Plotly\n",
    "    plot_df = pd.DataFrame({\n",
    "        'PCA Component 1': reduced_embeddings[:, 0],\n",
    "        'PCA Component 2': reduced_embeddings[:, 1],\n",
    "        'Rating Score': ratings,\n",
    "        'Review ID': df.get('review_id', range(len(df)))  # Optional identifier\n",
    "    })\n",
    "    \n",
    "    # Create interactive scatter plot\n",
    "    fig = px.scatter(\n",
    "        plot_df,\n",
    "        x='PCA Component 1',\n",
    "        y='PCA Component 2',\n",
    "        color='Rating Score',\n",
    "        color_continuous_scale='Viridis',\n",
    "        hover_data=['Review ID', 'Rating Score'],\n",
    "        title=f'Embeddings by Rating Score (PCA 1: {var1:.1f}%, PCA 2: {var2:.1f}%)',\n",
    "        labels={\n",
    "            'PCA Component 1': f'PCA 1 ({var1:.1f}% variance)',\n",
    "            'PCA Component 2': f'PCA 2 ({var2:.1f}% variance)',\n",
    "            'Rating Score': 'Rating Score'\n",
    "        }\n",
    "    )\n",
    "    \n",
    "    # Enhance layout for clarity\n",
    "    fig.update_layout(\n",
    "        template='plotly_white',\n",
    "        coloraxis_colorbar=dict(\n",
    "            title='Rating Score',\n",
    "            tickmode='linear'\n",
    "        ),\n",
    "        hovermode='closest'\n",
    "    )\n",
    "    \n",
    "    fig.show()\n",
    "    return reduced_embeddings\n",
    "\n",
    "embeddings_pca = visualizeEmbeddingsPCA(reviews)\n",
    "\n",
    "import umap.umap_ as umap\n",
    "\n",
    "# UMAP Embeddings Visualization\n",
    "def visualizeEmbeddingsUMAP(df):\n",
    "    embeddings = np.array(df['embedding'].tolist())\n",
    "    sentiment_labels = df['sentiment_label']\n",
    "\n",
    "    # Reduce dimensionality with UMAP\n",
    "    reducer = umap.UMAP(n_neighbors=15, min_dist=0.1, n_components=2, random_state=42)\n",
    "    reduced_embeddings = reducer.fit_transform(embeddings)\n",
    "\n",
    "    # Create DataFrame for visualization\n",
    "    viz_df = pd.DataFrame(reduced_embeddings, columns=['x', 'y'])\n",
    "    viz_df['sentiment_label'] = sentiment_labels\n",
    "\n",
    "    # Scatter plot with Plotly for interactive visualization\n",
    "    fig = px.scatter(\n",
    "        viz_df,\n",
    "        x='x',\n",
    "        y='y',\n",
    "        color='sentiment_label',\n",
    "        title='Embedding Visualization with UMAP',\n",
    "        labels={'x': 'UMAP Dimension 1', 'y': 'UMAP Dimension 2'},\n",
    "        color_discrete_map={'positive': 'green', 'neutral': 'gray', 'negative': 'red'},\n",
    "        opacity=0.7\n",
    "    )\n",
    "    fig.update_layout(showlegend=True, legend=dict(title='Sentiment'), margin=dict(l=10, r=10, t=40, b=10))\n",
    "    fig.show()\n",
    "\n",
    "    return reduced_embeddings\n",
    "\n",
    "embeddings_umap = visualizeEmbeddingsUMAP(reviews)\n",
    "\n"
   ]
  },
  {
   "cell_type": "code",
   "execution_count": 177,
   "metadata": {},
   "outputs": [
    {
     "data": {
      "application/vnd.plotly.v1+json": {
       "config": {
        "plotlyServerURL": "https://plot.ly"
       },
       "data": [
        {
         "line": {
          "color": "blue"
         },
         "mode": "lines",
         "name": "k-distance",
         "type": "scatter",
         "x": [
          1,
          2,
          3,
          4,
          5,
          6,
          7,
          8,
          9,
          10,
          11,
          12,
          13,
          14,
          15,
          16,
          17,
          18,
          19,
          20,
          21,
          22,
          23,
          24,
          25,
          26,
          27,
          28,
          29,
          30,
          31,
          32,
          33,
          34,
          35,
          36,
          37,
          38,
          39,
          40,
          41,
          42,
          43,
          44,
          45,
          46,
          47,
          48,
          49,
          50,
          51,
          52,
          53,
          54,
          55,
          56,
          57,
          58,
          59,
          60,
          61,
          62,
          63,
          64,
          65,
          66,
          67,
          68,
          69,
          70,
          71,
          72,
          73,
          74,
          75,
          76,
          77,
          78,
          79,
          80,
          81,
          82,
          83,
          84,
          85,
          86,
          87,
          88,
          89,
          90,
          91,
          92,
          93,
          94,
          95,
          96,
          97,
          98,
          99,
          100,
          101,
          102,
          103,
          104,
          105,
          106,
          107,
          108,
          109,
          110,
          111,
          112,
          113,
          114,
          115,
          116,
          117,
          118,
          119,
          120,
          121,
          122,
          123,
          124,
          125,
          126,
          127,
          128,
          129,
          130,
          131,
          132,
          133,
          134,
          135,
          136,
          137,
          138,
          139,
          140,
          141,
          142,
          143,
          144,
          145,
          146,
          147,
          148,
          149,
          150,
          151,
          152,
          153,
          154,
          155,
          156,
          157,
          158,
          159,
          160,
          161,
          162,
          163,
          164,
          165,
          166,
          167,
          168,
          169,
          170,
          171,
          172,
          173,
          174,
          175,
          176,
          177,
          178,
          179,
          180,
          181,
          182,
          183,
          184,
          185,
          186,
          187,
          188,
          189,
          190,
          191,
          192,
          193,
          194,
          195,
          196,
          197,
          198,
          199,
          200,
          201,
          202,
          203,
          204,
          205,
          206,
          207,
          208,
          209,
          210,
          211,
          212,
          213,
          214,
          215,
          216,
          217,
          218,
          219,
          220,
          221,
          222,
          223,
          224,
          225,
          226,
          227,
          228,
          229,
          230,
          231,
          232,
          233,
          234,
          235,
          236,
          237,
          238,
          239,
          240,
          241,
          242,
          243,
          244,
          245,
          246,
          247,
          248,
          249,
          250,
          251,
          252,
          253,
          254,
          255,
          256,
          257,
          258,
          259,
          260,
          261,
          262,
          263,
          264,
          265,
          266,
          267,
          268,
          269,
          270,
          271,
          272,
          273,
          274,
          275,
          276,
          277,
          278,
          279,
          280,
          281,
          282,
          283,
          284,
          285,
          286,
          287,
          288,
          289,
          290,
          291,
          292,
          293,
          294,
          295,
          296,
          297,
          298,
          299,
          300,
          301,
          302,
          303,
          304,
          305,
          306,
          307,
          308,
          309,
          310,
          311,
          312,
          313,
          314,
          315,
          316,
          317,
          318,
          319,
          320,
          321,
          322,
          323,
          324,
          325,
          326,
          327,
          328,
          329,
          330,
          331,
          332,
          333,
          334,
          335,
          336,
          337,
          338,
          339,
          340,
          341,
          342,
          343,
          344,
          345,
          346,
          347,
          348,
          349,
          350,
          351,
          352,
          353,
          354,
          355,
          356,
          357,
          358,
          359,
          360
         ],
         "y": [
          0.16076644886247407,
          0.167719638454534,
          0.1706376916796635,
          0.17096097195865703,
          0.17504086835732596,
          0.17504086835732596,
          0.1776338912339265,
          0.1781221227905671,
          0.1809094087306241,
          0.18126078699420423,
          0.18126078699420423,
          0.18181774432327955,
          0.1860216149748616,
          0.1878718629578065,
          0.18953106875631567,
          0.18959338436138493,
          0.19620890764440627,
          0.19849616496749253,
          0.2058537504601654,
          0.2068586591328973,
          0.20826114593749603,
          0.2088934264115966,
          0.20993376719822263,
          0.2180507185567138,
          0.21957167873953443,
          0.2241941114264981,
          0.22540975376451572,
          0.22981606114274736,
          0.23113537193776473,
          0.23218540783513442,
          0.23264966381128,
          0.23434880468367883,
          0.23904821800805565,
          0.2394616313677938,
          0.23964343362861315,
          0.2416743614112342,
          0.24275066109462343,
          0.24294018227200959,
          0.2452957063862733,
          0.24535381465775932,
          0.24535381465775932,
          0.2466989799136223,
          0.2507426494967124,
          0.2507426494967124,
          0.25095869374860896,
          0.25277248933922625,
          0.25459686615582644,
          0.25512671133438386,
          0.25709016583996835,
          0.2592334158732059,
          0.2592334158732059,
          0.2651952966093619,
          0.2666329402405966,
          0.26668725237720325,
          0.26818717343176185,
          0.2682290694171414,
          0.2715862326472244,
          0.27219430851018844,
          0.2777304432504939,
          0.2780488543385013,
          0.27983549714389366,
          0.27989787093499313,
          0.2803887846500581,
          0.2822331651228807,
          0.2822331651228807,
          0.28236948034422604,
          0.28268999063639344,
          0.28340278045146006,
          0.28485749474807776,
          0.2870114357067059,
          0.2909923866629347,
          0.29105972225966026,
          0.2915997706991063,
          0.29420057865950267,
          0.2945567562806997,
          0.2961445323266075,
          0.2965904334036703,
          0.2989100187566892,
          0.29965716410385945,
          0.30149141062024243,
          0.30183843050668174,
          0.3020915995178075,
          0.3029571494672321,
          0.30564995407157297,
          0.3076233706155654,
          0.3101606325444065,
          0.3123750214203294,
          0.31258944404238237,
          0.3153366248733348,
          0.3155398643865203,
          0.3155398643865203,
          0.3166456608529015,
          0.32028819638860423,
          0.32028819638860423,
          0.32052487020904646,
          0.32061271198107905,
          0.322059508543398,
          0.32247442370238794,
          0.3226582178993029,
          0.3227031248350165,
          0.323718101066897,
          0.32379277139429324,
          0.32379277139429324,
          0.3245446982561509,
          0.3247772325515471,
          0.3273307884983269,
          0.32823028512087277,
          0.3294596625911817,
          0.33124395372337895,
          0.33126151369168977,
          0.3317175853175199,
          0.3317175853175199,
          0.3319616408928185,
          0.33280702892182695,
          0.3337548428016252,
          0.33538028935104996,
          0.33700236260676086,
          0.3371201362669628,
          0.3395392576544765,
          0.33978412532660324,
          0.33993235874232536,
          0.340381721009561,
          0.34070345975497063,
          0.34237436822429945,
          0.34293738834095755,
          0.3437683739225874,
          0.34380583954338056,
          0.34419683378791877,
          0.34526263998690954,
          0.3461202293294262,
          0.3461202293294262,
          0.3465256190659425,
          0.3468824671365512,
          0.34751914040703025,
          0.3477304173916048,
          0.3483977279239818,
          0.34916463258447655,
          0.3491841418615653,
          0.3509716005454398,
          0.3511592975131104,
          0.3511592975131104,
          0.35220521636790864,
          0.3568991253227664,
          0.3569727936095289,
          0.3570898181994936,
          0.35737796218609413,
          0.35742846743709433,
          0.35832779630998535,
          0.359284796349144,
          0.3595813322886683,
          0.36084003747638577,
          0.3613017168527964,
          0.36141620483617615,
          0.36329183951033167,
          0.36401854509300174,
          0.36401854509300174,
          0.3642216852051366,
          0.3644975961573714,
          0.36451805226273515,
          0.36457543897923395,
          0.3649725254315918,
          0.3658954645272197,
          0.36700000219076806,
          0.3670857718996938,
          0.3671258738530643,
          0.3698712746222944,
          0.3707856694743501,
          0.3715820684747534,
          0.3725600200687082,
          0.37291108215932345,
          0.3734339538107934,
          0.3738466342399677,
          0.3738466342399677,
          0.37482607450715605,
          0.374994281113128,
          0.3750896183014003,
          0.37601532119226366,
          0.37635057677523426,
          0.37635057677523426,
          0.3765230659169,
          0.3765880089762554,
          0.3775960848846926,
          0.37820660900514586,
          0.37931303223744356,
          0.3814318216195566,
          0.3820927764288571,
          0.38278751082086404,
          0.38279559394214413,
          0.3839408894783781,
          0.3839408894783781,
          0.385805032772976,
          0.38597176039957026,
          0.38656604976187325,
          0.38656604976187325,
          0.38695317665937484,
          0.3872440587758907,
          0.3880784187846068,
          0.3880784187846068,
          0.38827231017975594,
          0.38846854102944955,
          0.38929040331827736,
          0.3908306392019411,
          0.393806300420608,
          0.39464533544587965,
          0.3952283186581189,
          0.39561807086707224,
          0.39692562204592324,
          0.39768049405557393,
          0.39768049405557393,
          0.39783468713054304,
          0.39968017738255707,
          0.40016290772007673,
          0.4007103002385122,
          0.4012636076676863,
          0.4016638989883404,
          0.4016638989883404,
          0.4024410391354457,
          0.404273792228662,
          0.4043053663872502,
          0.4053111538449973,
          0.4066675594699432,
          0.4073938242650181,
          0.407788274951748,
          0.4085345868440195,
          0.4089667807218415,
          0.41007440386384647,
          0.4104045070490273,
          0.41141046626665206,
          0.4118020594411177,
          0.412621020437293,
          0.412621020437293,
          0.41296443301939656,
          0.41332999935589654,
          0.4137212966498011,
          0.4139338268966976,
          0.41490399950534007,
          0.4153979262637009,
          0.4159942119054952,
          0.41626404422455154,
          0.41627953329935125,
          0.4167770031484944,
          0.4174626306474227,
          0.41862014583077317,
          0.4188953355681506,
          0.4195362883791754,
          0.42143259512582343,
          0.42188845939388575,
          0.4224033873134606,
          0.42281959849578776,
          0.4229675317783304,
          0.4231178521067468,
          0.42364333604340354,
          0.4242424565917873,
          0.4247796418705103,
          0.42510617939551115,
          0.4253941017626674,
          0.425872030061216,
          0.4262349873168549,
          0.42661359231014195,
          0.4268852177027377,
          0.4268852177027377,
          0.42696645878990486,
          0.42798502245382175,
          0.4283870133379274,
          0.4289192354940151,
          0.42920238337138217,
          0.4312033118057322,
          0.4313885504498868,
          0.43362259763075034,
          0.4343583499709464,
          0.4369467457167608,
          0.43924892847376545,
          0.4394334762631485,
          0.44000879008812666,
          0.4407986089982558,
          0.44133110124425057,
          0.4420873502568552,
          0.4424633405357661,
          0.4429694482573591,
          0.44305387228809706,
          0.44811460758120103,
          0.4489236252767824,
          0.4491864318408723,
          0.4504243474687023,
          0.4504243474687023,
          0.4546575835431739,
          0.45494308342859135,
          0.45518423921189854,
          0.4556112386644031,
          0.46108586658309597,
          0.463350815329877,
          0.4653712001670461,
          0.4671942149894213,
          0.46806496480192206,
          0.46877694444629114,
          0.46877722478341144,
          0.4702458959216055,
          0.4704597694198293,
          0.4711600901063976,
          0.4712564804248194,
          0.47152874022620067,
          0.47217439869307176,
          0.47256478222196324,
          0.4791733262369057,
          0.4795590197030004,
          0.47997618212022236,
          0.48444252461166476,
          0.4845254385156,
          0.48737416630510294,
          0.48762862617929464,
          0.49302930506808135,
          0.49302930506808135,
          0.49617166770134474,
          0.49768611507281457,
          0.4983784690824353,
          0.49866130325548974,
          0.5098407844935362,
          0.5149498636509823,
          0.5164321256207121,
          0.5172187531130634,
          0.5180912849082172,
          0.5207101505926128,
          0.524650292195589,
          0.5248791701905837,
          0.5282560132941349,
          0.5365802032303382,
          0.5422844568353185,
          0.5434456418680688,
          0.5434456418680688,
          0.5435269203999665,
          0.5481906120554804,
          0.549827545618675,
          0.5509875351099752,
          0.5513993935529163,
          0.5530985844819958,
          0.5592701597299696,
          0.571956653666845,
          0.5739925076817989,
          0.5796571546703985,
          0.5815712708566037,
          0.5825841898554749,
          0.5825841898554749,
          0.5873916710292284,
          0.5907891820350037,
          0.5916049038765374,
          0.59268521883678,
          0.6052903549695183,
          0.6214537892710661,
          0.6283998251556508,
          0.6298717765963031,
          0.6526574829521276,
          0.6747627378834355,
          0.6994181886321073,
          0.7016456242274883,
          0.707152323256787,
          0.7486349319753298,
          0.7522180260591125,
          0.7999584522983982,
          0.8594140187599238,
          0.9470795250947441
         ]
        }
       ],
       "layout": {
        "hovermode": "x unified",
        "template": {
         "data": {
          "bar": [
           {
            "error_x": {
             "color": "#2a3f5f"
            },
            "error_y": {
             "color": "#2a3f5f"
            },
            "marker": {
             "line": {
              "color": "white",
              "width": 0.5
             },
             "pattern": {
              "fillmode": "overlay",
              "size": 10,
              "solidity": 0.2
             }
            },
            "type": "bar"
           }
          ],
          "barpolar": [
           {
            "marker": {
             "line": {
              "color": "white",
              "width": 0.5
             },
             "pattern": {
              "fillmode": "overlay",
              "size": 10,
              "solidity": 0.2
             }
            },
            "type": "barpolar"
           }
          ],
          "carpet": [
           {
            "aaxis": {
             "endlinecolor": "#2a3f5f",
             "gridcolor": "#C8D4E3",
             "linecolor": "#C8D4E3",
             "minorgridcolor": "#C8D4E3",
             "startlinecolor": "#2a3f5f"
            },
            "baxis": {
             "endlinecolor": "#2a3f5f",
             "gridcolor": "#C8D4E3",
             "linecolor": "#C8D4E3",
             "minorgridcolor": "#C8D4E3",
             "startlinecolor": "#2a3f5f"
            },
            "type": "carpet"
           }
          ],
          "choropleth": [
           {
            "colorbar": {
             "outlinewidth": 0,
             "ticks": ""
            },
            "type": "choropleth"
           }
          ],
          "contour": [
           {
            "colorbar": {
             "outlinewidth": 0,
             "ticks": ""
            },
            "colorscale": [
             [
              0,
              "#0d0887"
             ],
             [
              0.1111111111111111,
              "#46039f"
             ],
             [
              0.2222222222222222,
              "#7201a8"
             ],
             [
              0.3333333333333333,
              "#9c179e"
             ],
             [
              0.4444444444444444,
              "#bd3786"
             ],
             [
              0.5555555555555556,
              "#d8576b"
             ],
             [
              0.6666666666666666,
              "#ed7953"
             ],
             [
              0.7777777777777778,
              "#fb9f3a"
             ],
             [
              0.8888888888888888,
              "#fdca26"
             ],
             [
              1,
              "#f0f921"
             ]
            ],
            "type": "contour"
           }
          ],
          "contourcarpet": [
           {
            "colorbar": {
             "outlinewidth": 0,
             "ticks": ""
            },
            "type": "contourcarpet"
           }
          ],
          "heatmap": [
           {
            "colorbar": {
             "outlinewidth": 0,
             "ticks": ""
            },
            "colorscale": [
             [
              0,
              "#0d0887"
             ],
             [
              0.1111111111111111,
              "#46039f"
             ],
             [
              0.2222222222222222,
              "#7201a8"
             ],
             [
              0.3333333333333333,
              "#9c179e"
             ],
             [
              0.4444444444444444,
              "#bd3786"
             ],
             [
              0.5555555555555556,
              "#d8576b"
             ],
             [
              0.6666666666666666,
              "#ed7953"
             ],
             [
              0.7777777777777778,
              "#fb9f3a"
             ],
             [
              0.8888888888888888,
              "#fdca26"
             ],
             [
              1,
              "#f0f921"
             ]
            ],
            "type": "heatmap"
           }
          ],
          "heatmapgl": [
           {
            "colorbar": {
             "outlinewidth": 0,
             "ticks": ""
            },
            "colorscale": [
             [
              0,
              "#0d0887"
             ],
             [
              0.1111111111111111,
              "#46039f"
             ],
             [
              0.2222222222222222,
              "#7201a8"
             ],
             [
              0.3333333333333333,
              "#9c179e"
             ],
             [
              0.4444444444444444,
              "#bd3786"
             ],
             [
              0.5555555555555556,
              "#d8576b"
             ],
             [
              0.6666666666666666,
              "#ed7953"
             ],
             [
              0.7777777777777778,
              "#fb9f3a"
             ],
             [
              0.8888888888888888,
              "#fdca26"
             ],
             [
              1,
              "#f0f921"
             ]
            ],
            "type": "heatmapgl"
           }
          ],
          "histogram": [
           {
            "marker": {
             "pattern": {
              "fillmode": "overlay",
              "size": 10,
              "solidity": 0.2
             }
            },
            "type": "histogram"
           }
          ],
          "histogram2d": [
           {
            "colorbar": {
             "outlinewidth": 0,
             "ticks": ""
            },
            "colorscale": [
             [
              0,
              "#0d0887"
             ],
             [
              0.1111111111111111,
              "#46039f"
             ],
             [
              0.2222222222222222,
              "#7201a8"
             ],
             [
              0.3333333333333333,
              "#9c179e"
             ],
             [
              0.4444444444444444,
              "#bd3786"
             ],
             [
              0.5555555555555556,
              "#d8576b"
             ],
             [
              0.6666666666666666,
              "#ed7953"
             ],
             [
              0.7777777777777778,
              "#fb9f3a"
             ],
             [
              0.8888888888888888,
              "#fdca26"
             ],
             [
              1,
              "#f0f921"
             ]
            ],
            "type": "histogram2d"
           }
          ],
          "histogram2dcontour": [
           {
            "colorbar": {
             "outlinewidth": 0,
             "ticks": ""
            },
            "colorscale": [
             [
              0,
              "#0d0887"
             ],
             [
              0.1111111111111111,
              "#46039f"
             ],
             [
              0.2222222222222222,
              "#7201a8"
             ],
             [
              0.3333333333333333,
              "#9c179e"
             ],
             [
              0.4444444444444444,
              "#bd3786"
             ],
             [
              0.5555555555555556,
              "#d8576b"
             ],
             [
              0.6666666666666666,
              "#ed7953"
             ],
             [
              0.7777777777777778,
              "#fb9f3a"
             ],
             [
              0.8888888888888888,
              "#fdca26"
             ],
             [
              1,
              "#f0f921"
             ]
            ],
            "type": "histogram2dcontour"
           }
          ],
          "mesh3d": [
           {
            "colorbar": {
             "outlinewidth": 0,
             "ticks": ""
            },
            "type": "mesh3d"
           }
          ],
          "parcoords": [
           {
            "line": {
             "colorbar": {
              "outlinewidth": 0,
              "ticks": ""
             }
            },
            "type": "parcoords"
           }
          ],
          "pie": [
           {
            "automargin": true,
            "type": "pie"
           }
          ],
          "scatter": [
           {
            "fillpattern": {
             "fillmode": "overlay",
             "size": 10,
             "solidity": 0.2
            },
            "type": "scatter"
           }
          ],
          "scatter3d": [
           {
            "line": {
             "colorbar": {
              "outlinewidth": 0,
              "ticks": ""
             }
            },
            "marker": {
             "colorbar": {
              "outlinewidth": 0,
              "ticks": ""
             }
            },
            "type": "scatter3d"
           }
          ],
          "scattercarpet": [
           {
            "marker": {
             "colorbar": {
              "outlinewidth": 0,
              "ticks": ""
             }
            },
            "type": "scattercarpet"
           }
          ],
          "scattergeo": [
           {
            "marker": {
             "colorbar": {
              "outlinewidth": 0,
              "ticks": ""
             }
            },
            "type": "scattergeo"
           }
          ],
          "scattergl": [
           {
            "marker": {
             "colorbar": {
              "outlinewidth": 0,
              "ticks": ""
             }
            },
            "type": "scattergl"
           }
          ],
          "scattermapbox": [
           {
            "marker": {
             "colorbar": {
              "outlinewidth": 0,
              "ticks": ""
             }
            },
            "type": "scattermapbox"
           }
          ],
          "scatterpolar": [
           {
            "marker": {
             "colorbar": {
              "outlinewidth": 0,
              "ticks": ""
             }
            },
            "type": "scatterpolar"
           }
          ],
          "scatterpolargl": [
           {
            "marker": {
             "colorbar": {
              "outlinewidth": 0,
              "ticks": ""
             }
            },
            "type": "scatterpolargl"
           }
          ],
          "scatterternary": [
           {
            "marker": {
             "colorbar": {
              "outlinewidth": 0,
              "ticks": ""
             }
            },
            "type": "scatterternary"
           }
          ],
          "surface": [
           {
            "colorbar": {
             "outlinewidth": 0,
             "ticks": ""
            },
            "colorscale": [
             [
              0,
              "#0d0887"
             ],
             [
              0.1111111111111111,
              "#46039f"
             ],
             [
              0.2222222222222222,
              "#7201a8"
             ],
             [
              0.3333333333333333,
              "#9c179e"
             ],
             [
              0.4444444444444444,
              "#bd3786"
             ],
             [
              0.5555555555555556,
              "#d8576b"
             ],
             [
              0.6666666666666666,
              "#ed7953"
             ],
             [
              0.7777777777777778,
              "#fb9f3a"
             ],
             [
              0.8888888888888888,
              "#fdca26"
             ],
             [
              1,
              "#f0f921"
             ]
            ],
            "type": "surface"
           }
          ],
          "table": [
           {
            "cells": {
             "fill": {
              "color": "#EBF0F8"
             },
             "line": {
              "color": "white"
             }
            },
            "header": {
             "fill": {
              "color": "#C8D4E3"
             },
             "line": {
              "color": "white"
             }
            },
            "type": "table"
           }
          ]
         },
         "layout": {
          "annotationdefaults": {
           "arrowcolor": "#2a3f5f",
           "arrowhead": 0,
           "arrowwidth": 1
          },
          "autotypenumbers": "strict",
          "coloraxis": {
           "colorbar": {
            "outlinewidth": 0,
            "ticks": ""
           }
          },
          "colorscale": {
           "diverging": [
            [
             0,
             "#8e0152"
            ],
            [
             0.1,
             "#c51b7d"
            ],
            [
             0.2,
             "#de77ae"
            ],
            [
             0.3,
             "#f1b6da"
            ],
            [
             0.4,
             "#fde0ef"
            ],
            [
             0.5,
             "#f7f7f7"
            ],
            [
             0.6,
             "#e6f5d0"
            ],
            [
             0.7,
             "#b8e186"
            ],
            [
             0.8,
             "#7fbc41"
            ],
            [
             0.9,
             "#4d9221"
            ],
            [
             1,
             "#276419"
            ]
           ],
           "sequential": [
            [
             0,
             "#0d0887"
            ],
            [
             0.1111111111111111,
             "#46039f"
            ],
            [
             0.2222222222222222,
             "#7201a8"
            ],
            [
             0.3333333333333333,
             "#9c179e"
            ],
            [
             0.4444444444444444,
             "#bd3786"
            ],
            [
             0.5555555555555556,
             "#d8576b"
            ],
            [
             0.6666666666666666,
             "#ed7953"
            ],
            [
             0.7777777777777778,
             "#fb9f3a"
            ],
            [
             0.8888888888888888,
             "#fdca26"
            ],
            [
             1,
             "#f0f921"
            ]
           ],
           "sequentialminus": [
            [
             0,
             "#0d0887"
            ],
            [
             0.1111111111111111,
             "#46039f"
            ],
            [
             0.2222222222222222,
             "#7201a8"
            ],
            [
             0.3333333333333333,
             "#9c179e"
            ],
            [
             0.4444444444444444,
             "#bd3786"
            ],
            [
             0.5555555555555556,
             "#d8576b"
            ],
            [
             0.6666666666666666,
             "#ed7953"
            ],
            [
             0.7777777777777778,
             "#fb9f3a"
            ],
            [
             0.8888888888888888,
             "#fdca26"
            ],
            [
             1,
             "#f0f921"
            ]
           ]
          },
          "colorway": [
           "#636efa",
           "#EF553B",
           "#00cc96",
           "#ab63fa",
           "#FFA15A",
           "#19d3f3",
           "#FF6692",
           "#B6E880",
           "#FF97FF",
           "#FECB52"
          ],
          "font": {
           "color": "#2a3f5f"
          },
          "geo": {
           "bgcolor": "white",
           "lakecolor": "white",
           "landcolor": "white",
           "showlakes": true,
           "showland": true,
           "subunitcolor": "#C8D4E3"
          },
          "hoverlabel": {
           "align": "left"
          },
          "hovermode": "closest",
          "mapbox": {
           "style": "light"
          },
          "paper_bgcolor": "white",
          "plot_bgcolor": "white",
          "polar": {
           "angularaxis": {
            "gridcolor": "#EBF0F8",
            "linecolor": "#EBF0F8",
            "ticks": ""
           },
           "bgcolor": "white",
           "radialaxis": {
            "gridcolor": "#EBF0F8",
            "linecolor": "#EBF0F8",
            "ticks": ""
           }
          },
          "scene": {
           "xaxis": {
            "backgroundcolor": "white",
            "gridcolor": "#DFE8F3",
            "gridwidth": 2,
            "linecolor": "#EBF0F8",
            "showbackground": true,
            "ticks": "",
            "zerolinecolor": "#EBF0F8"
           },
           "yaxis": {
            "backgroundcolor": "white",
            "gridcolor": "#DFE8F3",
            "gridwidth": 2,
            "linecolor": "#EBF0F8",
            "showbackground": true,
            "ticks": "",
            "zerolinecolor": "#EBF0F8"
           },
           "zaxis": {
            "backgroundcolor": "white",
            "gridcolor": "#DFE8F3",
            "gridwidth": 2,
            "linecolor": "#EBF0F8",
            "showbackground": true,
            "ticks": "",
            "zerolinecolor": "#EBF0F8"
           }
          },
          "shapedefaults": {
           "line": {
            "color": "#2a3f5f"
           }
          },
          "ternary": {
           "aaxis": {
            "gridcolor": "#DFE8F3",
            "linecolor": "#A2B1C6",
            "ticks": ""
           },
           "baxis": {
            "gridcolor": "#DFE8F3",
            "linecolor": "#A2B1C6",
            "ticks": ""
           },
           "bgcolor": "white",
           "caxis": {
            "gridcolor": "#DFE8F3",
            "linecolor": "#A2B1C6",
            "ticks": ""
           }
          },
          "title": {
           "x": 0.05
          },
          "xaxis": {
           "automargin": true,
           "gridcolor": "#EBF0F8",
           "linecolor": "#EBF0F8",
           "ticks": "",
           "title": {
            "standoff": 15
           },
           "zerolinecolor": "#EBF0F8",
           "zerolinewidth": 2
          },
          "yaxis": {
           "automargin": true,
           "gridcolor": "#EBF0F8",
           "linecolor": "#EBF0F8",
           "ticks": "",
           "title": {
            "standoff": 15
           },
           "zerolinecolor": "#EBF0F8",
           "zerolinewidth": 2
          }
         }
        },
        "title": {
         "text": "k-Distance Graph for PCA"
        },
        "xaxis": {
         "gridcolor": "lightgrey",
         "gridwidth": 1,
         "showgrid": true,
         "title": {
          "text": "Points sorted by distance"
         }
        },
        "yaxis": {
         "gridcolor": "lightgrey",
         "gridwidth": 1,
         "showgrid": true,
         "title": {
          "text": "Distance to 10th Nearest Neighbor"
         }
        }
       }
      }
     },
     "metadata": {},
     "output_type": "display_data"
    },
    {
     "data": {
      "application/vnd.plotly.v1+json": {
       "config": {
        "plotlyServerURL": "https://plot.ly"
       },
       "data": [
        {
         "line": {
          "color": "blue"
         },
         "mode": "lines",
         "name": "k-distance",
         "type": "scatter",
         "x": [
          1,
          2,
          3,
          4,
          5,
          6,
          7,
          8,
          9,
          10,
          11,
          12,
          13,
          14,
          15,
          16,
          17,
          18,
          19,
          20,
          21,
          22,
          23,
          24,
          25,
          26,
          27,
          28,
          29,
          30,
          31,
          32,
          33,
          34,
          35,
          36,
          37,
          38,
          39,
          40,
          41,
          42,
          43,
          44,
          45,
          46,
          47,
          48,
          49,
          50,
          51,
          52,
          53,
          54,
          55,
          56,
          57,
          58,
          59,
          60,
          61,
          62,
          63,
          64,
          65,
          66,
          67,
          68,
          69,
          70,
          71,
          72,
          73,
          74,
          75,
          76,
          77,
          78,
          79,
          80,
          81,
          82,
          83,
          84,
          85,
          86,
          87,
          88,
          89,
          90,
          91,
          92,
          93,
          94,
          95,
          96,
          97,
          98,
          99,
          100,
          101,
          102,
          103,
          104,
          105,
          106,
          107,
          108,
          109,
          110,
          111,
          112,
          113,
          114,
          115,
          116,
          117,
          118,
          119,
          120,
          121,
          122,
          123,
          124,
          125,
          126,
          127,
          128,
          129,
          130,
          131,
          132,
          133,
          134,
          135,
          136,
          137,
          138,
          139,
          140,
          141,
          142,
          143,
          144,
          145,
          146,
          147,
          148,
          149,
          150,
          151,
          152,
          153,
          154,
          155,
          156,
          157,
          158,
          159,
          160,
          161,
          162,
          163,
          164,
          165,
          166,
          167,
          168,
          169,
          170,
          171,
          172,
          173,
          174,
          175,
          176,
          177,
          178,
          179,
          180,
          181,
          182,
          183,
          184,
          185,
          186,
          187,
          188,
          189,
          190,
          191,
          192,
          193,
          194,
          195,
          196,
          197,
          198,
          199,
          200,
          201,
          202,
          203,
          204,
          205,
          206,
          207,
          208,
          209,
          210,
          211,
          212,
          213,
          214,
          215,
          216,
          217,
          218,
          219,
          220,
          221,
          222,
          223,
          224,
          225,
          226,
          227,
          228,
          229,
          230,
          231,
          232,
          233,
          234,
          235,
          236,
          237,
          238,
          239,
          240,
          241,
          242,
          243,
          244,
          245,
          246,
          247,
          248,
          249,
          250,
          251,
          252,
          253,
          254,
          255,
          256,
          257,
          258,
          259,
          260,
          261,
          262,
          263,
          264,
          265,
          266,
          267,
          268,
          269,
          270,
          271,
          272,
          273,
          274,
          275,
          276,
          277,
          278,
          279,
          280,
          281,
          282,
          283,
          284,
          285,
          286,
          287,
          288,
          289,
          290,
          291,
          292,
          293,
          294,
          295,
          296,
          297,
          298,
          299,
          300,
          301,
          302,
          303,
          304,
          305,
          306,
          307,
          308,
          309,
          310,
          311,
          312,
          313,
          314,
          315,
          316,
          317,
          318,
          319,
          320,
          321,
          322,
          323,
          324,
          325,
          326,
          327,
          328,
          329,
          330,
          331,
          332,
          333,
          334,
          335,
          336,
          337,
          338,
          339,
          340,
          341,
          342,
          343,
          344,
          345,
          346,
          347,
          348,
          349,
          350,
          351,
          352,
          353,
          354,
          355,
          356,
          357,
          358,
          359,
          360
         ],
         "y": [
          0,
          0,
          0,
          0,
          0,
          0,
          0,
          0,
          0,
          0,
          0,
          0,
          0,
          0,
          0,
          0,
          0,
          0,
          0,
          0,
          0,
          0,
          0,
          0,
          0,
          0,
          0,
          0,
          0,
          0,
          0,
          0,
          0,
          0,
          0,
          0,
          0,
          0,
          0,
          0,
          0,
          0,
          0,
          0,
          0,
          0,
          0,
          0,
          0,
          0,
          0,
          0,
          0,
          0,
          0,
          0,
          0,
          0,
          0,
          0,
          0,
          0,
          0,
          0,
          0,
          0,
          0,
          0,
          0,
          0,
          0,
          0,
          0,
          0,
          0,
          0,
          0,
          0,
          8.940696716308594e-8,
          8.940696716308594e-8,
          0.10519270317833783,
          0.11073859217547094,
          0.11641141676746598,
          0.1314268637595741,
          0.13209750516121094,
          0.14581884209163637,
          0.1474585052886863,
          0.1478213627202283,
          0.1511272671654413,
          0.1511272671654413,
          0.1533236497182151,
          0.15412652202616556,
          0.15474330778268022,
          0.15523352048394465,
          0.15765684181927875,
          0.16046397542990545,
          0.16601551359135563,
          0.1697265242080668,
          0.1697265242080668,
          0.1751673981509568,
          0.17616940803558082,
          0.17683186242472013,
          0.17856646304507687,
          0.17997510169833023,
          0.18370623924127932,
          0.1842243099104544,
          0.1845217088753155,
          0.1846977377204992,
          0.18545951672177632,
          0.18806051989390127,
          0.19054983991181423,
          0.1945375088484689,
          0.19648108107547546,
          0.1965310385343449,
          0.1978336467178159,
          0.19797886490957134,
          0.1980919031926972,
          0.19820062410395275,
          0.19974983537131352,
          0.20135328412862483,
          0.20651734741228794,
          0.2083301488649032,
          0.20876075446240616,
          0.21056633039135053,
          0.21139741658985098,
          0.21234372987220837,
          0.21500227833731902,
          0.2161984364849938,
          0.21698192577898523,
          0.2191761703341755,
          0.21966900997634617,
          0.22487049932192318,
          0.22501899899269887,
          0.2250378111100818,
          0.22614091526439356,
          0.23059490473202224,
          0.2318977923525443,
          0.23192043261532963,
          0.23302093575234473,
          0.23488750634013084,
          0.23735624035761718,
          0.23950524633697848,
          0.24154381760659852,
          0.24186571524073724,
          0.24188749559294861,
          0.24623607203862535,
          0.24831171147369505,
          0.24899951636912102,
          0.25220322970007736,
          0.25376329202397974,
          0.2551133131916428,
          0.25609692894339486,
          0.25653916288970696,
          0.2571513405390329,
          0.25818731070993184,
          0.25875087843709155,
          0.25899177017173997,
          0.2616813379618285,
          0.2618964825636292,
          0.265585168893361,
          0.2665412368256013,
          0.2665412368256013,
          0.26691701257260203,
          0.26701238659303295,
          0.267491239792636,
          0.26981955743450675,
          0.26981955743450675,
          0.27174925190228233,
          0.27223083874785353,
          0.27323328809539055,
          0.27345331578716303,
          0.27831149061404875,
          0.2786801986699477,
          0.2808922407707843,
          0.2834258016741252,
          0.28383688950206454,
          0.28772967519601894,
          0.2882571400191503,
          0.29183588737181515,
          0.2933663484111095,
          0.29572719822947247,
          0.2976928307411884,
          0.3006403070926437,
          0.30271147557603245,
          0.30311700700334276,
          0.3062935694966567,
          0.30635192676481443,
          0.3066480509794663,
          0.307037322106073,
          0.3077251424369894,
          0.30908088901257386,
          0.313955213872845,
          0.3143435980497459,
          0.31502632590446455,
          0.31563811656415464,
          0.3156450604744734,
          0.3170657184394636,
          0.31713642983953744,
          0.3191724991037823,
          0.31999561733191917,
          0.32052810535929344,
          0.32059197398015843,
          0.32317808564665734,
          0.32497759234991463,
          0.32625753150332754,
          0.32626838801667346,
          0.3265864329969994,
          0.32667592446591465,
          0.32711731767546104,
          0.32713815443420763,
          0.3294410552205793,
          0.3302266396753163,
          0.3340499692194568,
          0.3354312911212087,
          0.33718618786297694,
          0.33789867049647504,
          0.34052915617236534,
          0.34100541474522184,
          0.34406596782701954,
          0.34486215420396205,
          0.3476475729345295,
          0.34915336365336797,
          0.3516348318599216,
          0.3520145589643648,
          0.3540448608795533,
          0.3570421770382183,
          0.3597268191648397,
          0.36530564695377904,
          0.3669569750827513,
          0.36730885263933133,
          0.3674975306999651,
          0.3685422888750206,
          0.36856839348504494,
          0.3699042038545556,
          0.37328163810270937,
          0.37398905956921497,
          0.37945544951680377,
          0.3804220450190031,
          0.3804220450190031,
          0.3804868723730784,
          0.3812225378973852,
          0.38130640721775727,
          0.38153777101445246,
          0.38412916613639453,
          0.38596454037085387,
          0.38645423823008895,
          0.39006348025156284,
          0.39016089840894114,
          0.39157729373497896,
          0.3955194145094127,
          0.39941425975612554,
          0.4033729614553529,
          0.4035664460946283,
          0.40452443689191875,
          0.408524897755001,
          0.4098415664761919,
          0.4128331714064264,
          0.41292228342185566,
          0.41567357031173696,
          0.4191883825728253,
          0.43230575886843486,
          0.4360629485241011,
          0.43618717288968845,
          0.44221458526847596,
          0.44314090965251446,
          0.44378746774739475,
          0.44378746774739475,
          0.4453872288567309,
          0.44856487131555056,
          0.45064589127935195,
          0.4515453037278483,
          0.4547831522325402,
          0.46758109850154733,
          0.46788995932545546,
          0.4763931850842227,
          0.4801564386219522,
          0.48210888132925916,
          0.4824211319488254,
          0.4853879769646424,
          0.4887273327056182,
          0.49012524271208535,
          0.49492587544179784,
          0.499243684448925,
          0.5023437177638993,
          0.5073254964337752,
          0.5094172281686937,
          0.5149837871979879,
          0.5227739872705623,
          0.5268794059066847,
          0.5271719229834647,
          0.5414158540816565,
          0.5547160754597521,
          0.555293834821487,
          0.5571946063378991,
          0.5571946063378991,
          0.5673773740635624,
          0.5678961358430252,
          0.5686713607730576,
          0.573945153809364,
          0.5881832911385739,
          0.5993663257560307,
          0.6049418260225682,
          0.6484161548809322,
          0.6515718113240431,
          0.6538323622826538,
          0.6551134032263555,
          0.6881706292871058,
          0.6945555707488044,
          0.694824254232794,
          0.702651286211601,
          0.7149133833780499,
          0.7222394219398601,
          0.7249719326830664,
          0.7294297572064803,
          0.7336798129778215,
          0.7456633991951555,
          0.7546625046374454,
          0.7619519580872073,
          0.7724659248675295,
          0.777964915676436,
          0.8017743797507161,
          0.8035056251698286,
          0.8178292773167949,
          0.8216416824397109,
          0.90977050806578,
          0.9218288555834936,
          0.9362595531085076,
          0.9499783438689353,
          0.9540017901283467,
          0.9641211124985685,
          0.9750302050971622,
          1.015133448381573,
          1.0770691641552543,
          1.078877586180982,
          1.0793277077967818,
          1.2264680195852415,
          1.2730743900854837,
          1.2894203894805814,
          1.4592955608756801,
          1.5418963537337886,
          1.5420065786450758,
          1.543746094520237,
          1.6073801120298,
          1.6883728973323908,
          1.7354008441521938,
          1.849006377200252,
          1.8884329097543753,
          1.8906257172528989,
          1.9114008539994924,
          1.9263040580824915,
          1.930889234492151,
          1.973865801236117,
          1.973865801236117,
          2.0553429542299275,
          2.185467320293861,
          2.185467320293861,
          2.185467320293861,
          2.185467320293861,
          2.4893808548767327,
          2.5216278784446673
         ]
        }
       ],
       "layout": {
        "hovermode": "x unified",
        "template": {
         "data": {
          "bar": [
           {
            "error_x": {
             "color": "#2a3f5f"
            },
            "error_y": {
             "color": "#2a3f5f"
            },
            "marker": {
             "line": {
              "color": "white",
              "width": 0.5
             },
             "pattern": {
              "fillmode": "overlay",
              "size": 10,
              "solidity": 0.2
             }
            },
            "type": "bar"
           }
          ],
          "barpolar": [
           {
            "marker": {
             "line": {
              "color": "white",
              "width": 0.5
             },
             "pattern": {
              "fillmode": "overlay",
              "size": 10,
              "solidity": 0.2
             }
            },
            "type": "barpolar"
           }
          ],
          "carpet": [
           {
            "aaxis": {
             "endlinecolor": "#2a3f5f",
             "gridcolor": "#C8D4E3",
             "linecolor": "#C8D4E3",
             "minorgridcolor": "#C8D4E3",
             "startlinecolor": "#2a3f5f"
            },
            "baxis": {
             "endlinecolor": "#2a3f5f",
             "gridcolor": "#C8D4E3",
             "linecolor": "#C8D4E3",
             "minorgridcolor": "#C8D4E3",
             "startlinecolor": "#2a3f5f"
            },
            "type": "carpet"
           }
          ],
          "choropleth": [
           {
            "colorbar": {
             "outlinewidth": 0,
             "ticks": ""
            },
            "type": "choropleth"
           }
          ],
          "contour": [
           {
            "colorbar": {
             "outlinewidth": 0,
             "ticks": ""
            },
            "colorscale": [
             [
              0,
              "#0d0887"
             ],
             [
              0.1111111111111111,
              "#46039f"
             ],
             [
              0.2222222222222222,
              "#7201a8"
             ],
             [
              0.3333333333333333,
              "#9c179e"
             ],
             [
              0.4444444444444444,
              "#bd3786"
             ],
             [
              0.5555555555555556,
              "#d8576b"
             ],
             [
              0.6666666666666666,
              "#ed7953"
             ],
             [
              0.7777777777777778,
              "#fb9f3a"
             ],
             [
              0.8888888888888888,
              "#fdca26"
             ],
             [
              1,
              "#f0f921"
             ]
            ],
            "type": "contour"
           }
          ],
          "contourcarpet": [
           {
            "colorbar": {
             "outlinewidth": 0,
             "ticks": ""
            },
            "type": "contourcarpet"
           }
          ],
          "heatmap": [
           {
            "colorbar": {
             "outlinewidth": 0,
             "ticks": ""
            },
            "colorscale": [
             [
              0,
              "#0d0887"
             ],
             [
              0.1111111111111111,
              "#46039f"
             ],
             [
              0.2222222222222222,
              "#7201a8"
             ],
             [
              0.3333333333333333,
              "#9c179e"
             ],
             [
              0.4444444444444444,
              "#bd3786"
             ],
             [
              0.5555555555555556,
              "#d8576b"
             ],
             [
              0.6666666666666666,
              "#ed7953"
             ],
             [
              0.7777777777777778,
              "#fb9f3a"
             ],
             [
              0.8888888888888888,
              "#fdca26"
             ],
             [
              1,
              "#f0f921"
             ]
            ],
            "type": "heatmap"
           }
          ],
          "heatmapgl": [
           {
            "colorbar": {
             "outlinewidth": 0,
             "ticks": ""
            },
            "colorscale": [
             [
              0,
              "#0d0887"
             ],
             [
              0.1111111111111111,
              "#46039f"
             ],
             [
              0.2222222222222222,
              "#7201a8"
             ],
             [
              0.3333333333333333,
              "#9c179e"
             ],
             [
              0.4444444444444444,
              "#bd3786"
             ],
             [
              0.5555555555555556,
              "#d8576b"
             ],
             [
              0.6666666666666666,
              "#ed7953"
             ],
             [
              0.7777777777777778,
              "#fb9f3a"
             ],
             [
              0.8888888888888888,
              "#fdca26"
             ],
             [
              1,
              "#f0f921"
             ]
            ],
            "type": "heatmapgl"
           }
          ],
          "histogram": [
           {
            "marker": {
             "pattern": {
              "fillmode": "overlay",
              "size": 10,
              "solidity": 0.2
             }
            },
            "type": "histogram"
           }
          ],
          "histogram2d": [
           {
            "colorbar": {
             "outlinewidth": 0,
             "ticks": ""
            },
            "colorscale": [
             [
              0,
              "#0d0887"
             ],
             [
              0.1111111111111111,
              "#46039f"
             ],
             [
              0.2222222222222222,
              "#7201a8"
             ],
             [
              0.3333333333333333,
              "#9c179e"
             ],
             [
              0.4444444444444444,
              "#bd3786"
             ],
             [
              0.5555555555555556,
              "#d8576b"
             ],
             [
              0.6666666666666666,
              "#ed7953"
             ],
             [
              0.7777777777777778,
              "#fb9f3a"
             ],
             [
              0.8888888888888888,
              "#fdca26"
             ],
             [
              1,
              "#f0f921"
             ]
            ],
            "type": "histogram2d"
           }
          ],
          "histogram2dcontour": [
           {
            "colorbar": {
             "outlinewidth": 0,
             "ticks": ""
            },
            "colorscale": [
             [
              0,
              "#0d0887"
             ],
             [
              0.1111111111111111,
              "#46039f"
             ],
             [
              0.2222222222222222,
              "#7201a8"
             ],
             [
              0.3333333333333333,
              "#9c179e"
             ],
             [
              0.4444444444444444,
              "#bd3786"
             ],
             [
              0.5555555555555556,
              "#d8576b"
             ],
             [
              0.6666666666666666,
              "#ed7953"
             ],
             [
              0.7777777777777778,
              "#fb9f3a"
             ],
             [
              0.8888888888888888,
              "#fdca26"
             ],
             [
              1,
              "#f0f921"
             ]
            ],
            "type": "histogram2dcontour"
           }
          ],
          "mesh3d": [
           {
            "colorbar": {
             "outlinewidth": 0,
             "ticks": ""
            },
            "type": "mesh3d"
           }
          ],
          "parcoords": [
           {
            "line": {
             "colorbar": {
              "outlinewidth": 0,
              "ticks": ""
             }
            },
            "type": "parcoords"
           }
          ],
          "pie": [
           {
            "automargin": true,
            "type": "pie"
           }
          ],
          "scatter": [
           {
            "fillpattern": {
             "fillmode": "overlay",
             "size": 10,
             "solidity": 0.2
            },
            "type": "scatter"
           }
          ],
          "scatter3d": [
           {
            "line": {
             "colorbar": {
              "outlinewidth": 0,
              "ticks": ""
             }
            },
            "marker": {
             "colorbar": {
              "outlinewidth": 0,
              "ticks": ""
             }
            },
            "type": "scatter3d"
           }
          ],
          "scattercarpet": [
           {
            "marker": {
             "colorbar": {
              "outlinewidth": 0,
              "ticks": ""
             }
            },
            "type": "scattercarpet"
           }
          ],
          "scattergeo": [
           {
            "marker": {
             "colorbar": {
              "outlinewidth": 0,
              "ticks": ""
             }
            },
            "type": "scattergeo"
           }
          ],
          "scattergl": [
           {
            "marker": {
             "colorbar": {
              "outlinewidth": 0,
              "ticks": ""
             }
            },
            "type": "scattergl"
           }
          ],
          "scattermapbox": [
           {
            "marker": {
             "colorbar": {
              "outlinewidth": 0,
              "ticks": ""
             }
            },
            "type": "scattermapbox"
           }
          ],
          "scatterpolar": [
           {
            "marker": {
             "colorbar": {
              "outlinewidth": 0,
              "ticks": ""
             }
            },
            "type": "scatterpolar"
           }
          ],
          "scatterpolargl": [
           {
            "marker": {
             "colorbar": {
              "outlinewidth": 0,
              "ticks": ""
             }
            },
            "type": "scatterpolargl"
           }
          ],
          "scatterternary": [
           {
            "marker": {
             "colorbar": {
              "outlinewidth": 0,
              "ticks": ""
             }
            },
            "type": "scatterternary"
           }
          ],
          "surface": [
           {
            "colorbar": {
             "outlinewidth": 0,
             "ticks": ""
            },
            "colorscale": [
             [
              0,
              "#0d0887"
             ],
             [
              0.1111111111111111,
              "#46039f"
             ],
             [
              0.2222222222222222,
              "#7201a8"
             ],
             [
              0.3333333333333333,
              "#9c179e"
             ],
             [
              0.4444444444444444,
              "#bd3786"
             ],
             [
              0.5555555555555556,
              "#d8576b"
             ],
             [
              0.6666666666666666,
              "#ed7953"
             ],
             [
              0.7777777777777778,
              "#fb9f3a"
             ],
             [
              0.8888888888888888,
              "#fdca26"
             ],
             [
              1,
              "#f0f921"
             ]
            ],
            "type": "surface"
           }
          ],
          "table": [
           {
            "cells": {
             "fill": {
              "color": "#EBF0F8"
             },
             "line": {
              "color": "white"
             }
            },
            "header": {
             "fill": {
              "color": "#C8D4E3"
             },
             "line": {
              "color": "white"
             }
            },
            "type": "table"
           }
          ]
         },
         "layout": {
          "annotationdefaults": {
           "arrowcolor": "#2a3f5f",
           "arrowhead": 0,
           "arrowwidth": 1
          },
          "autotypenumbers": "strict",
          "coloraxis": {
           "colorbar": {
            "outlinewidth": 0,
            "ticks": ""
           }
          },
          "colorscale": {
           "diverging": [
            [
             0,
             "#8e0152"
            ],
            [
             0.1,
             "#c51b7d"
            ],
            [
             0.2,
             "#de77ae"
            ],
            [
             0.3,
             "#f1b6da"
            ],
            [
             0.4,
             "#fde0ef"
            ],
            [
             0.5,
             "#f7f7f7"
            ],
            [
             0.6,
             "#e6f5d0"
            ],
            [
             0.7,
             "#b8e186"
            ],
            [
             0.8,
             "#7fbc41"
            ],
            [
             0.9,
             "#4d9221"
            ],
            [
             1,
             "#276419"
            ]
           ],
           "sequential": [
            [
             0,
             "#0d0887"
            ],
            [
             0.1111111111111111,
             "#46039f"
            ],
            [
             0.2222222222222222,
             "#7201a8"
            ],
            [
             0.3333333333333333,
             "#9c179e"
            ],
            [
             0.4444444444444444,
             "#bd3786"
            ],
            [
             0.5555555555555556,
             "#d8576b"
            ],
            [
             0.6666666666666666,
             "#ed7953"
            ],
            [
             0.7777777777777778,
             "#fb9f3a"
            ],
            [
             0.8888888888888888,
             "#fdca26"
            ],
            [
             1,
             "#f0f921"
            ]
           ],
           "sequentialminus": [
            [
             0,
             "#0d0887"
            ],
            [
             0.1111111111111111,
             "#46039f"
            ],
            [
             0.2222222222222222,
             "#7201a8"
            ],
            [
             0.3333333333333333,
             "#9c179e"
            ],
            [
             0.4444444444444444,
             "#bd3786"
            ],
            [
             0.5555555555555556,
             "#d8576b"
            ],
            [
             0.6666666666666666,
             "#ed7953"
            ],
            [
             0.7777777777777778,
             "#fb9f3a"
            ],
            [
             0.8888888888888888,
             "#fdca26"
            ],
            [
             1,
             "#f0f921"
            ]
           ]
          },
          "colorway": [
           "#636efa",
           "#EF553B",
           "#00cc96",
           "#ab63fa",
           "#FFA15A",
           "#19d3f3",
           "#FF6692",
           "#B6E880",
           "#FF97FF",
           "#FECB52"
          ],
          "font": {
           "color": "#2a3f5f"
          },
          "geo": {
           "bgcolor": "white",
           "lakecolor": "white",
           "landcolor": "white",
           "showlakes": true,
           "showland": true,
           "subunitcolor": "#C8D4E3"
          },
          "hoverlabel": {
           "align": "left"
          },
          "hovermode": "closest",
          "mapbox": {
           "style": "light"
          },
          "paper_bgcolor": "white",
          "plot_bgcolor": "white",
          "polar": {
           "angularaxis": {
            "gridcolor": "#EBF0F8",
            "linecolor": "#EBF0F8",
            "ticks": ""
           },
           "bgcolor": "white",
           "radialaxis": {
            "gridcolor": "#EBF0F8",
            "linecolor": "#EBF0F8",
            "ticks": ""
           }
          },
          "scene": {
           "xaxis": {
            "backgroundcolor": "white",
            "gridcolor": "#DFE8F3",
            "gridwidth": 2,
            "linecolor": "#EBF0F8",
            "showbackground": true,
            "ticks": "",
            "zerolinecolor": "#EBF0F8"
           },
           "yaxis": {
            "backgroundcolor": "white",
            "gridcolor": "#DFE8F3",
            "gridwidth": 2,
            "linecolor": "#EBF0F8",
            "showbackground": true,
            "ticks": "",
            "zerolinecolor": "#EBF0F8"
           },
           "zaxis": {
            "backgroundcolor": "white",
            "gridcolor": "#DFE8F3",
            "gridwidth": 2,
            "linecolor": "#EBF0F8",
            "showbackground": true,
            "ticks": "",
            "zerolinecolor": "#EBF0F8"
           }
          },
          "shapedefaults": {
           "line": {
            "color": "#2a3f5f"
           }
          },
          "ternary": {
           "aaxis": {
            "gridcolor": "#DFE8F3",
            "linecolor": "#A2B1C6",
            "ticks": ""
           },
           "baxis": {
            "gridcolor": "#DFE8F3",
            "linecolor": "#A2B1C6",
            "ticks": ""
           },
           "bgcolor": "white",
           "caxis": {
            "gridcolor": "#DFE8F3",
            "linecolor": "#A2B1C6",
            "ticks": ""
           }
          },
          "title": {
           "x": 0.05
          },
          "xaxis": {
           "automargin": true,
           "gridcolor": "#EBF0F8",
           "linecolor": "#EBF0F8",
           "ticks": "",
           "title": {
            "standoff": 15
           },
           "zerolinecolor": "#EBF0F8",
           "zerolinewidth": 2
          },
          "yaxis": {
           "automargin": true,
           "gridcolor": "#EBF0F8",
           "linecolor": "#EBF0F8",
           "ticks": "",
           "title": {
            "standoff": 15
           },
           "zerolinecolor": "#EBF0F8",
           "zerolinewidth": 2
          }
         }
        },
        "title": {
         "text": "k-Distance Graph for UMAP"
        },
        "xaxis": {
         "gridcolor": "lightgrey",
         "gridwidth": 1,
         "showgrid": true,
         "title": {
          "text": "Points sorted by distance"
         }
        },
        "yaxis": {
         "gridcolor": "lightgrey",
         "gridwidth": 1,
         "showgrid": true,
         "title": {
          "text": "Distance to 10th Nearest Neighbor"
         }
        }
       }
      }
     },
     "metadata": {},
     "output_type": "display_data"
    }
   ],
   "source": [
    "from sklearn.neighbors import NearestNeighbors\n",
    "\n",
    "# Plot K distace for dbscan eps adjustment\n",
    "def plotKdistance(reduced_embeddings, k=5, method='PCA'):\n",
    "    # Compute k-nearest neighbors\n",
    "    neighbors = NearestNeighbors(n_neighbors=k)\n",
    "    neighbors_fit = neighbors.fit(reduced_embeddings)\n",
    "    distances, _ = neighbors_fit.kneighbors(reduced_embeddings)\n",
    "    \n",
    "    # Sort distances to the k-th nearest neighbor\n",
    "    k_distances = np.sort(distances[:, k-1])\n",
    "    \n",
    "    # Create interactive line plot\n",
    "    fig = go.Figure()\n",
    "\n",
    "    fig.add_trace(go.Scatter(\n",
    "        x=np.arange(1, len(k_distances) + 1),\n",
    "        y=k_distances,\n",
    "        mode='lines',\n",
    "        line=dict(color='blue'),\n",
    "        name='k-distance'\n",
    "    ))\n",
    "    \n",
    "    # Update layout for clarity\n",
    "    fig.update_layout(\n",
    "        title=f'k-Distance Graph for {method}',\n",
    "        xaxis_title='Points sorted by distance',\n",
    "        yaxis_title=f'Distance to {k}th Nearest Neighbor',\n",
    "        template='plotly_white',\n",
    "        hovermode='x unified'\n",
    "    )\n",
    "    \n",
    "    # Add light grid lines\n",
    "    fig.update_xaxes(showgrid=True, gridwidth=1, gridcolor='lightgrey')\n",
    "    fig.update_yaxes(showgrid=True, gridwidth=1, gridcolor='lightgrey')\n",
    "    \n",
    "    fig.show()\n",
    "\n",
    "plotKdistance(embeddings_umap, k= 10, method='PCA')\n",
    "plotKdistance(embeddings_pca, k= 10, method='UMAP')"
   ]
  },
  {
   "cell_type": "code",
   "execution_count": 184,
   "metadata": {},
   "outputs": [
    {
     "data": {
      "application/vnd.plotly.v1+json": {
       "config": {
        "plotlyServerURL": "https://plot.ly"
       },
       "data": [
        {
         "customdata": [
          [
           0,
           5
          ],
          [
           1,
           4
          ],
          [
           2,
           5
          ],
          [
           3,
           3
          ],
          [
           4,
           1
          ],
          [
           5,
           5
          ],
          [
           6,
           5
          ],
          [
           7,
           2
          ],
          [
           8,
           5
          ],
          [
           9,
           5
          ],
          [
           10,
           5
          ],
          [
           11,
           2
          ],
          [
           12,
           5
          ],
          [
           13,
           5
          ],
          [
           14,
           5
          ],
          [
           15,
           1
          ],
          [
           16,
           5
          ],
          [
           17,
           5
          ],
          [
           18,
           2
          ],
          [
           19,
           3
          ],
          [
           20,
           5
          ],
          [
           21,
           4
          ],
          [
           22,
           5
          ],
          [
           23,
           5
          ],
          [
           24,
           5
          ],
          [
           25,
           5
          ],
          [
           26,
           5
          ],
          [
           27,
           4
          ],
          [
           28,
           5
          ],
          [
           29,
           5
          ],
          [
           30,
           5
          ],
          [
           31,
           1
          ],
          [
           32,
           4
          ],
          [
           33,
           5
          ],
          [
           34,
           4
          ],
          [
           35,
           4
          ],
          [
           36,
           5
          ],
          [
           37,
           2
          ],
          [
           38,
           5
          ],
          [
           39,
           3
          ],
          [
           40,
           5
          ],
          [
           41,
           5
          ],
          [
           42,
           5
          ],
          [
           43,
           4
          ],
          [
           44,
           5
          ],
          [
           45,
           5
          ],
          [
           46,
           5
          ],
          [
           47,
           2
          ],
          [
           48,
           5
          ],
          [
           49,
           5
          ],
          [
           50,
           5
          ],
          [
           51,
           5
          ],
          [
           52,
           5
          ],
          [
           53,
           4
          ],
          [
           54,
           2
          ],
          [
           55,
           5
          ],
          [
           56,
           5
          ],
          [
           57,
           5
          ],
          [
           58,
           5
          ],
          [
           59,
           5
          ],
          [
           60,
           4
          ],
          [
           61,
           4
          ],
          [
           62,
           5
          ],
          [
           63,
           2
          ],
          [
           64,
           3
          ],
          [
           65,
           3
          ],
          [
           66,
           4
          ],
          [
           67,
           4
          ],
          [
           68,
           4
          ],
          [
           69,
           4
          ],
          [
           70,
           5
          ],
          [
           71,
           5
          ],
          [
           72,
           4
          ],
          [
           73,
           4
          ],
          [
           74,
           5
          ],
          [
           75,
           2
          ],
          [
           76,
           5
          ],
          [
           77,
           4
          ],
          [
           78,
           5
          ],
          [
           79,
           4
          ],
          [
           80,
           5
          ],
          [
           81,
           5
          ],
          [
           82,
           5
          ],
          [
           83,
           3
          ],
          [
           84,
           5
          ],
          [
           85,
           5
          ],
          [
           86,
           5
          ],
          [
           87,
           5
          ],
          [
           88,
           2
          ],
          [
           89,
           4
          ],
          [
           90,
           5
          ],
          [
           91,
           3
          ],
          [
           92,
           4
          ],
          [
           93,
           5
          ],
          [
           94,
           2
          ],
          [
           95,
           3
          ],
          [
           96,
           4
          ],
          [
           97,
           5
          ],
          [
           98,
           5
          ],
          [
           99,
           5
          ],
          [
           100,
           1
          ],
          [
           101,
           5
          ],
          [
           102,
           4
          ],
          [
           103,
           5
          ],
          [
           104,
           5
          ],
          [
           105,
           4
          ],
          [
           106,
           5
          ],
          [
           107,
           5
          ],
          [
           108,
           4
          ],
          [
           109,
           4
          ],
          [
           110,
           5
          ],
          [
           111,
           2
          ],
          [
           112,
           5
          ],
          [
           113,
           5
          ],
          [
           114,
           4
          ],
          [
           115,
           5
          ],
          [
           116,
           5
          ],
          [
           117,
           5
          ],
          [
           118,
           4
          ],
          [
           119,
           4
          ],
          [
           120,
           5
          ],
          [
           121,
           5
          ],
          [
           122,
           5
          ],
          [
           123,
           4
          ],
          [
           124,
           4
          ],
          [
           125,
           5
          ],
          [
           126,
           4
          ],
          [
           127,
           5
          ],
          [
           128,
           4
          ],
          [
           129,
           3
          ],
          [
           130,
           5
          ],
          [
           131,
           5
          ],
          [
           132,
           5
          ],
          [
           133,
           5
          ],
          [
           134,
           5
          ],
          [
           135,
           4
          ],
          [
           136,
           2
          ],
          [
           137,
           4
          ],
          [
           138,
           4
          ],
          [
           139,
           5
          ],
          [
           140,
           5
          ],
          [
           141,
           5
          ],
          [
           142,
           4
          ],
          [
           143,
           5
          ],
          [
           144,
           3
          ],
          [
           145,
           5
          ],
          [
           146,
           5
          ],
          [
           147,
           3
          ],
          [
           148,
           4
          ],
          [
           149,
           4
          ],
          [
           150,
           5
          ],
          [
           151,
           5
          ],
          [
           152,
           3
          ],
          [
           153,
           3
          ],
          [
           154,
           5
          ],
          [
           155,
           5
          ],
          [
           156,
           5
          ],
          [
           157,
           1
          ],
          [
           158,
           4
          ],
          [
           159,
           5
          ],
          [
           160,
           5
          ],
          [
           161,
           5
          ],
          [
           162,
           5
          ],
          [
           163,
           5
          ],
          [
           164,
           5
          ],
          [
           165,
           4
          ],
          [
           166,
           2
          ],
          [
           167,
           4
          ],
          [
           168,
           4
          ],
          [
           169,
           5
          ],
          [
           170,
           3
          ],
          [
           171,
           3
          ],
          [
           172,
           5
          ],
          [
           173,
           4
          ],
          [
           174,
           5
          ],
          [
           175,
           3
          ],
          [
           176,
           5
          ],
          [
           177,
           5
          ],
          [
           178,
           4
          ],
          [
           179,
           5
          ],
          [
           180,
           5
          ],
          [
           181,
           4
          ],
          [
           182,
           5
          ],
          [
           183,
           5
          ],
          [
           184,
           5
          ],
          [
           185,
           5
          ],
          [
           186,
           2
          ],
          [
           187,
           4
          ],
          [
           188,
           5
          ],
          [
           189,
           5
          ],
          [
           190,
           5
          ],
          [
           191,
           5
          ],
          [
           192,
           5
          ],
          [
           193,
           5
          ],
          [
           194,
           1
          ],
          [
           195,
           2
          ],
          [
           196,
           4
          ],
          [
           197,
           5
          ],
          [
           198,
           5
          ],
          [
           199,
           5
          ],
          [
           200,
           5
          ],
          [
           201,
           5
          ],
          [
           202,
           5
          ],
          [
           203,
           4
          ],
          [
           204,
           4
          ],
          [
           205,
           4
          ],
          [
           206,
           5
          ],
          [
           207,
           5
          ],
          [
           208,
           5
          ],
          [
           209,
           5
          ],
          [
           210,
           4
          ],
          [
           211,
           4
          ],
          [
           212,
           5
          ],
          [
           213,
           4
          ],
          [
           214,
           5
          ],
          [
           215,
           5
          ],
          [
           216,
           5
          ],
          [
           217,
           5
          ],
          [
           218,
           5
          ],
          [
           219,
           5
          ],
          [
           220,
           4
          ],
          [
           221,
           5
          ],
          [
           222,
           5
          ],
          [
           223,
           5
          ],
          [
           224,
           5
          ],
          [
           225,
           3
          ],
          [
           226,
           4
          ],
          [
           227,
           5
          ],
          [
           228,
           5
          ],
          [
           229,
           5
          ],
          [
           230,
           5
          ],
          [
           231,
           5
          ],
          [
           232,
           5
          ],
          [
           233,
           5
          ],
          [
           234,
           5
          ],
          [
           235,
           5
          ],
          [
           236,
           4
          ],
          [
           237,
           5
          ],
          [
           238,
           3
          ],
          [
           239,
           3
          ],
          [
           240,
           4
          ],
          [
           241,
           4
          ],
          [
           242,
           5
          ],
          [
           243,
           5
          ],
          [
           244,
           5
          ],
          [
           245,
           5
          ],
          [
           246,
           4
          ],
          [
           247,
           5
          ],
          [
           248,
           4
          ],
          [
           249,
           5
          ],
          [
           250,
           4
          ],
          [
           251,
           5
          ],
          [
           252,
           4
          ],
          [
           253,
           5
          ],
          [
           254,
           2
          ],
          [
           255,
           5
          ],
          [
           256,
           5
          ],
          [
           257,
           4
          ],
          [
           258,
           4
          ],
          [
           259,
           4
          ],
          [
           260,
           4
          ],
          [
           261,
           4
          ],
          [
           262,
           3
          ],
          [
           263,
           4
          ],
          [
           264,
           5
          ],
          [
           265,
           5
          ],
          [
           266,
           3
          ],
          [
           267,
           5
          ],
          [
           268,
           5
          ],
          [
           269,
           4
          ],
          [
           270,
           5
          ],
          [
           271,
           5
          ],
          [
           272,
           5
          ],
          [
           273,
           5
          ],
          [
           274,
           5
          ],
          [
           275,
           4
          ],
          [
           276,
           2
          ],
          [
           277,
           5
          ],
          [
           278,
           5
          ],
          [
           279,
           5
          ],
          [
           280,
           5
          ],
          [
           281,
           5
          ],
          [
           282,
           4
          ],
          [
           283,
           5
          ],
          [
           284,
           1
          ],
          [
           285,
           5
          ],
          [
           286,
           5
          ],
          [
           287,
           3
          ],
          [
           288,
           5
          ],
          [
           289,
           4
          ],
          [
           290,
           5
          ],
          [
           291,
           4
          ],
          [
           292,
           5
          ],
          [
           293,
           5
          ],
          [
           294,
           5
          ],
          [
           295,
           5
          ],
          [
           296,
           5
          ],
          [
           297,
           2
          ],
          [
           298,
           4
          ],
          [
           299,
           5
          ],
          [
           300,
           5
          ],
          [
           301,
           5
          ],
          [
           302,
           3
          ],
          [
           303,
           5
          ],
          [
           304,
           3
          ],
          [
           305,
           4
          ],
          [
           306,
           4
          ],
          [
           307,
           5
          ],
          [
           308,
           1
          ],
          [
           309,
           5
          ],
          [
           310,
           4
          ],
          [
           311,
           5
          ],
          [
           312,
           5
          ],
          [
           313,
           4
          ],
          [
           314,
           5
          ],
          [
           315,
           5
          ],
          [
           316,
           5
          ],
          [
           317,
           5
          ],
          [
           318,
           4
          ],
          [
           319,
           5
          ],
          [
           320,
           5
          ],
          [
           321,
           4
          ],
          [
           322,
           5
          ],
          [
           323,
           4
          ],
          [
           324,
           5
          ],
          [
           325,
           5
          ],
          [
           326,
           3
          ],
          [
           327,
           3
          ],
          [
           328,
           3
          ],
          [
           329,
           4
          ],
          [
           330,
           5
          ],
          [
           331,
           4
          ],
          [
           332,
           5
          ],
          [
           333,
           5
          ],
          [
           334,
           5
          ],
          [
           335,
           1
          ],
          [
           336,
           5
          ],
          [
           337,
           4
          ],
          [
           338,
           5
          ],
          [
           339,
           5
          ],
          [
           340,
           4
          ],
          [
           341,
           4
          ],
          [
           342,
           5
          ],
          [
           343,
           5
          ],
          [
           344,
           5
          ],
          [
           345,
           5
          ],
          [
           346,
           4
          ],
          [
           347,
           5
          ],
          [
           348,
           4
          ],
          [
           349,
           5
          ],
          [
           350,
           4
          ],
          [
           351,
           5
          ],
          [
           352,
           5
          ],
          [
           353,
           4
          ],
          [
           354,
           5
          ],
          [
           355,
           1
          ],
          [
           356,
           4
          ],
          [
           357,
           5
          ],
          [
           358,
           5
          ],
          [
           359,
           1
          ]
         ],
         "hovertemplate": "pca_component_1=%{x}<br>pca_component_2=%{y}<br>review_id=%{customdata[0]}<br>rating_score=%{customdata[1]}<br>pca_cluster=%{marker.color}<extra></extra>",
         "legendgroup": "",
         "marker": {
          "color": [
           0,
           0,
           0,
           0,
           0,
           0,
           0,
           0,
           0,
           0,
           0,
           0,
           0,
           0,
           0,
           0,
           0,
           0,
           0,
           0,
           0,
           0,
           0,
           0,
           0,
           0,
           0,
           0,
           0,
           0,
           0,
           0,
           0,
           0,
           0,
           0,
           0,
           0,
           0,
           0,
           0,
           0,
           0,
           0,
           0,
           0,
           0,
           0,
           0,
           0,
           0,
           0,
           0,
           0,
           0,
           0,
           0,
           0,
           0,
           0,
           0,
           0,
           0,
           0,
           0,
           0,
           0,
           0,
           0,
           0,
           0,
           0,
           0,
           0,
           0,
           0,
           0,
           0,
           0,
           0,
           0,
           0,
           0,
           0,
           0,
           0,
           0,
           0,
           0,
           0,
           0,
           0,
           0,
           0,
           0,
           0,
           0,
           0,
           0,
           0,
           0,
           0,
           0,
           0,
           0,
           0,
           0,
           0,
           0,
           0,
           0,
           0,
           0,
           0,
           0,
           0,
           0,
           0,
           0,
           0,
           0,
           0,
           0,
           0,
           0,
           0,
           0,
           0,
           0,
           0,
           0,
           0,
           0,
           0,
           0,
           0,
           0,
           0,
           0,
           0,
           0,
           0,
           0,
           0,
           0,
           0,
           0,
           0,
           0,
           0,
           0,
           0,
           0,
           0,
           0,
           0,
           0,
           0,
           0,
           0,
           0,
           0,
           0,
           0,
           0,
           0,
           0,
           0,
           0,
           0,
           0,
           0,
           0,
           0,
           0,
           0,
           0,
           0,
           0,
           0,
           0,
           0,
           0,
           0,
           0,
           0,
           0,
           0,
           0,
           0,
           0,
           0,
           0,
           0,
           0,
           0,
           0,
           0,
           0,
           0,
           0,
           0,
           0,
           0,
           0,
           0,
           0,
           0,
           0,
           0,
           0,
           0,
           0,
           0,
           0,
           0,
           0,
           0,
           0,
           0,
           0,
           0,
           0,
           0,
           0,
           0,
           0,
           0,
           0,
           0,
           0,
           0,
           0,
           0,
           0,
           0,
           0,
           0,
           0,
           0,
           0,
           0,
           0,
           0,
           0,
           0,
           0,
           0,
           0,
           0,
           1,
           0,
           0,
           0,
           0,
           2,
           0,
           2,
           0,
           -1,
           0,
           0,
           2,
           2,
           1,
           2,
           0,
           2,
           0,
           0,
           2,
           0,
           1,
           0,
           1,
           1,
           0,
           0,
           2,
           0,
           0,
           1,
           0,
           0,
           -1,
           0,
           0,
           2,
           2,
           2,
           0,
           2,
           2,
           2,
           2,
           2,
           2,
           2,
           2,
           2,
           2,
           2,
           2,
           2,
           2,
           2,
           2,
           2,
           2,
           2,
           2,
           2,
           2,
           2,
           2,
           2,
           2,
           2,
           2,
           2,
           2,
           2,
           2,
           2,
           2,
           2,
           2,
           2,
           2,
           2,
           2,
           2,
           2,
           2,
           2,
           2,
           2,
           2,
           2,
           2,
           2,
           2,
           2,
           2,
           2,
           2,
           2,
           2,
           2,
           2,
           2,
           2,
           2,
           2,
           2,
           2,
           2,
           2,
           2,
           2
          ],
          "coloraxis": "coloraxis",
          "symbol": "circle"
         },
         "mode": "markers",
         "name": "",
         "orientation": "v",
         "showlegend": false,
         "type": "scatter",
         "x": [
          -2.435013771057129,
          -3.0679914951324463,
          -2.906062364578247,
          -2.5725889205932617,
          -2.920100688934326,
          -2.4744272232055664,
          -2.837963104248047,
          -2.8571085929870605,
          -3.2336134910583496,
          -3.302889585494995,
          -2.7003397941589355,
          -3.3825764656066895,
          -3.2398266792297363,
          -2.9755427837371826,
          -3.145293712615967,
          -3.059028148651123,
          -3.172008514404297,
          -3.081296682357788,
          -3.1024367809295654,
          -3.836771249771118,
          -2.738152503967285,
          -3.872591733932495,
          -2.7226035594940186,
          -3.2908618450164795,
          -3.3332557678222656,
          -3.5003914833068848,
          -3.2629776000976562,
          -2.508105754852295,
          -3.453883647918701,
          -3.7453722953796387,
          -2.647831678390503,
          -2.838775157928467,
          -3.066103219985962,
          -2.578096866607666,
          -3.382039785385132,
          -3.5978329181671143,
          -3.720362901687622,
          -3.48893141746521,
          -3.4569215774536133,
          -3.1971592903137207,
          -3.2381772994995117,
          -3.3361713886260986,
          -3.1741414070129395,
          -2.6081080436706543,
          -3.3285603523254395,
          -3.609837532043457,
          -3.3034534454345703,
          -3.81142520904541,
          -3.176403284072876,
          -3.5598597526550293,
          -1.6176875829696655,
          -3.013908863067627,
          -3.8204472064971924,
          -2.7482526302337646,
          -3.2785913944244385,
          -3.252246856689453,
          -2.969695568084717,
          -3.2984275817871094,
          -2.7298755645751953,
          -3.0716233253479004,
          -3.7454898357391357,
          -3.337894916534424,
          -2.843355417251587,
          -2.5627267360687256,
          -2.2172820568084717,
          -2.4635868072509766,
          -3.415097236633301,
          -2.9614744186401367,
          -2.913236618041992,
          -2.9372828006744385,
          -3.104139804840088,
          -2.2293806076049805,
          -3.212531089782715,
          -3.816103458404541,
          -2.4329662322998047,
          -3.7763400077819824,
          -2.6114296913146973,
          -3.3517544269561768,
          -2.2580976486206055,
          -2.071892023086548,
          -2.350837469100952,
          -1.9132764339447021,
          -2.2332980632781982,
          -1.6027774810791016,
          -3.1152238845825195,
          -2.6748218536376953,
          -2.899401903152466,
          -2.543191909790039,
          -3.220472574234009,
          -2.5767059326171875,
          -2.6081619262695312,
          -2.373335361480713,
          -2.909332036972046,
          -2.8105344772338867,
          -4.221518039703369,
          -3.6682326793670654,
          -3.7007620334625244,
          -3.099039077758789,
          -2.8886287212371826,
          -3.0926997661590576,
          -3.149028778076172,
          -2.428211212158203,
          -2.23632550239563,
          -3.2677180767059326,
          -2.851285219192505,
          -2.6895217895507812,
          -3.7030038833618164,
          -2.757117986679077,
          -3.3077375888824463,
          -2.9420180320739746,
          -2.290158271789551,
          -3.2401437759399414,
          -2.9200258255004883,
          -2.76892352104187,
          -3.238468885421753,
          -3.297175645828247,
          -2.792271614074707,
          -3.4108402729034424,
          -3.037858486175537,
          -0.9409003853797913,
          -3.2723748683929443,
          -3.1243796348571777,
          -2.8604729175567627,
          -2.966196060180664,
          -2.4219913482666016,
          -2.6918601989746094,
          -2.2474069595336914,
          -2.432389736175537,
          -3.0938801765441895,
          -3.076181650161743,
          -2.330247402191162,
          -3.329399824142456,
          -2.348616600036621,
          -2.773785352706909,
          -3.053508996963501,
          -2.844621181488037,
          -3.173319101333618,
          -2.943329334259033,
          -2.1045570373535156,
          -2.9706897735595703,
          -3.477247953414917,
          -2.7872314453125,
          -2.5989692211151123,
          -2.635514974594116,
          -3.489562749862671,
          -3.2058229446411133,
          -1.7262660264968872,
          -2.1224961280822754,
          -1.7696709632873535,
          -3.168163537979126,
          -2.6277787685394287,
          -2.920745611190796,
          -3.4816160202026367,
          -2.6906611919403076,
          -3.3876712322235107,
          -2.086189031600952,
          -2.340768337249756,
          -2.8232760429382324,
          -2.665010929107666,
          -2.1538872718811035,
          -2.369096040725708,
          -1.7241559028625488,
          -1.6073145866394043,
          -2.9983577728271484,
          -2.9447755813598633,
          -2.1545157432556152,
          -1.4503158330917358,
          -2.869488477706909,
          -2.9978110790252686,
          -2.781893253326416,
          -2.510516881942749,
          -3.066828966140747,
          -1.481884241104126,
          -2.037708044052124,
          -3.131009340286255,
          -3.2297918796539307,
          -2.984567880630493,
          -2.7637319564819336,
          -3.374457836151123,
          -3.0924224853515625,
          -3.8834898471832275,
          -2.8932979106903076,
          -3.476595163345337,
          -1.7414920330047607,
          -2.8558132648468018,
          -3.8361480236053467,
          -2.5258121490478516,
          -3.271833658218384,
          -3.367802858352661,
          -2.273033380508423,
          -3.4495105743408203,
          -2.8490073680877686,
          -2.2371373176574707,
          -3.0843284130096436,
          -2.379703998565674,
          -2.547175884246826,
          -2.7994987964630127,
          -2.6263816356658936,
          -2.501030921936035,
          -0.9783591032028198,
          -3.3041205406188965,
          -3.8478970527648926,
          -2.517890691757202,
          -2.8254945278167725,
          -3.1403090953826904,
          -3.1865432262420654,
          -3.5030274391174316,
          -3.6921374797821045,
          -2.698059320449829,
          -2.27990460395813,
          -2.93862247467041,
          -2.1404473781585693,
          -2.695204734802246,
          -2.8195960521698,
          -1.9781184196472168,
          -2.5903382301330566,
          -0.7505582571029663,
          -3.0409958362579346,
          0.8513614535331726,
          -2.7309155464172363,
          -2.1504533290863037,
          -2.2154476642608643,
          -2.7767889499664307,
          -3.095118284225464,
          -2.295894145965576,
          -2.171715259552002,
          -3.0468456745147705,
          -2.8234870433807373,
          -1.6126338243484497,
          -1.0260595083236694,
          -2.128602981567383,
          -1.9082139730453491,
          -2.438262939453125,
          -2.564155340194702,
          -2.757317543029785,
          -1.5796780586242676,
          -2.4396402835845947,
          0.7788264751434326,
          -2.855015754699707,
          -2.090773582458496,
          -1.5924748182296753,
          -2.065340757369995,
          -1.830478549003601,
          1.3226838111877441,
          -1.8804717063903809,
          -1.3886587619781494,
          -2.7601332664489746,
          -1.2127999067306519,
          -0.9505102038383484,
          -1.2506359815597534,
          0.3780069649219513,
          -1.4605298042297363,
          -2.553659677505493,
          -0.6317431330680847,
          -2.02345871925354,
          8.526052474975586,
          -1.4691802263259888,
          8.526052474975586,
          -0.8417563438415527,
          -1.226963996887207,
          -0.6613055467605591,
          -1.2379283905029297,
          8.526052474975586,
          8.526052474975586,
          0.3780069649219513,
          8.526052474975586,
          0.4201107919216156,
          8.526052474975586,
          -0.29743650555610657,
          -0.8050050735473633,
          8.526052474975586,
          -0.7434180974960327,
          0.7793415188789368,
          3.1119914054870605,
          0.39555802941322327,
          0.39555802941322327,
          -0.7194746136665344,
          1.46088445186615,
          8.526052474975586,
          0.8522627353668213,
          0.6762246489524841,
          0.3780069649219513,
          2.25467586517334,
          2.9024147987365723,
          2.0799195766448975,
          0.4674661159515381,
          0.7991669774055481,
          8.526052474975586,
          8.526052474975586,
          8.526052474975586,
          0.5437695980072021,
          8.526052474975586,
          8.526052474975586,
          8.526052474975586,
          8.526052474975586,
          8.526052474975586,
          8.526052474975586,
          8.526052474975586,
          8.526052474975586,
          8.526052474975586,
          8.526052474975586,
          8.526052474975586,
          8.526052474975586,
          8.526052474975586,
          8.526052474975586,
          8.526052474975586,
          8.526052474975586,
          8.526052474975586,
          8.526052474975586,
          8.526052474975586,
          8.526052474975586,
          8.526052474975586,
          8.526052474975586,
          8.526052474975586,
          8.52605152130127,
          8.526052474975586,
          8.526052474975586,
          8.526052474975586,
          8.526052474975586,
          8.526052474975586,
          8.526052474975586,
          8.526052474975586,
          8.526052474975586,
          8.526052474975586,
          8.526052474975586,
          8.526052474975586,
          8.526052474975586,
          8.526052474975586,
          8.526052474975586,
          8.526052474975586,
          8.526052474975586,
          8.526052474975586,
          8.526052474975586,
          8.526052474975586,
          8.526052474975586,
          8.526052474975586,
          8.526052474975586,
          8.526052474975586,
          8.526052474975586,
          8.526052474975586,
          8.526052474975586,
          8.526052474975586,
          8.526052474975586,
          8.526052474975586,
          8.526052474975586,
          8.526052474975586,
          8.526052474975586,
          8.526052474975586,
          8.526052474975586,
          8.526052474975586,
          8.526052474975586,
          8.526052474975586,
          8.526052474975586,
          8.526052474975586,
          8.526052474975586,
          8.526052474975586,
          8.526052474975586,
          8.526052474975586,
          8.526052474975586,
          8.52605152130127
         ],
         "xaxis": "x",
         "y": [
          -0.8244288563728333,
          0.5424529314041138,
          0.4291871190071106,
          0.28541937470436096,
          1.4263383150100708,
          -0.05907808244228363,
          0.07534606009721756,
          2.630847692489624,
          1.1600865125656128,
          0.7446208000183105,
          1.7378535270690918,
          1.6536918878555298,
          1.1122585535049438,
          0.3836923837661743,
          0.7321801781654358,
          1.3455746173858643,
          1.4643924236297607,
          0.14837504923343658,
          2.6426138877868652,
          1.8416571617126465,
          0.9351999759674072,
          1.5841420888900757,
          -0.1531107872724533,
          -0.2767462730407715,
          1.7419949769973755,
          0.27936676144599915,
          1.1308201551437378,
          -0.7151381373405457,
          -0.11889144778251648,
          2.2582995891571045,
          0.31956297159194946,
          2.375774383544922,
          0.28386104106903076,
          -0.3177507221698761,
          0.4125783145427704,
          0.8576321601867676,
          -0.25260603427886963,
          3.0934994220733643,
          -0.3633592128753662,
          1.1605091094970703,
          1.2065415382385254,
          1.4188289642333984,
          0.5757505893707275,
          -0.8041419982910156,
          0.12557858228683472,
          1.3232671022415161,
          0.11416123807430267,
          1.7355751991271973,
          0.9947078227996826,
          1.0944467782974243,
          -2.021698236465454,
          0.9343666434288025,
          1.0313091278076172,
          -2.509368658065796,
          0.9774890542030334,
          1.0710633993148804,
          0.46511325240135193,
          0.023133864626288414,
          1.3500001430511475,
          1.458398699760437,
          1.053137183189392,
          -0.1972344070672989,
          2.067908763885498,
          1.9735958576202393,
          -0.18597011268138885,
          0.24702000617980957,
          -0.20372465252876282,
          -0.2773955464363098,
          -0.6292312145233154,
          1.560828447341919,
          1.9754626750946045,
          -0.3335670828819275,
          1.1079638004302979,
          -0.1470615267753601,
          -0.7074146270751953,
          1.6164759397506714,
          -0.27857527136802673,
          0.716162919998169,
          0.7777915000915527,
          -0.16274547576904297,
          0.619644820690155,
          1.2680542469024658,
          -1.8907607793807983,
          -1.4847489595413208,
          1.1352962255477905,
          0.4114559590816498,
          -0.5919124484062195,
          0.1340463012456894,
          1.977643609046936,
          -0.8455570936203003,
          0.8919365406036377,
          -1.3595235347747803,
          0.650091290473938,
          0.8513503074645996,
          3.3365297317504883,
          2.544330596923828,
          1.6787809133529663,
          0.23088014125823975,
          1.8109867572784424,
          -0.474204421043396,
          1.0172394514083862,
          0.03179490938782692,
          0.8677877187728882,
          1.478159785270691,
          1.0955144166946411,
          -0.4823541045188904,
          1.3844283819198608,
          0.7434556484222412,
          1.8951743841171265,
          0.6429404616355896,
          -1.1961559057235718,
          0.4388340711593628,
          1.2219396829605103,
          0.4498111307621002,
          -0.05379793420433998,
          1.3859403133392334,
          0.45917004346847534,
          2.1329288482666016,
          0.15465706586837769,
          -1.338870644569397,
          2.22806978225708,
          0.8484482169151306,
          0.5339924693107605,
          0.6870375871658325,
          -1.2188489437103271,
          -1.7419506311416626,
          -3.1626946926116943,
          -1.0479352474212646,
          0.42007219791412354,
          1.0527348518371582,
          1.0563268661499023,
          1.3352842330932617,
          1.0232141017913818,
          0.850435733795166,
          0.36587628722190857,
          0.8090604543685913,
          1.6507948637008667,
          2.0589680671691895,
          -0.31651571393013,
          -0.3371296226978302,
          1.6126928329467773,
          -1.2119464874267578,
          -0.38925644755363464,
          -0.3970024585723877,
          0.5638628602027893,
          0.3650648295879364,
          -1.4739028215408325,
          1.000178337097168,
          0.9636406898498535,
          2.787001371383667,
          1.7880064249038696,
          -0.849814772605896,
          2.227139949798584,
          0.7926032543182373,
          1.240609049797058,
          0.7644463181495667,
          -0.7907909154891968,
          1.3878076076507568,
          -1.7879621982574463,
          -1.4791818857192993,
          1.4189468622207642,
          -1.0564831495285034,
          0.31925660371780396,
          1.919740915298462,
          0.6529647707939148,
          -0.10061623156070709,
          0.8095453977584839,
          -0.883758544921875,
          0.8960705399513245,
          0.8474109172821045,
          0.4200967252254486,
          0.48359906673431396,
          0.3314901292324066,
          1.0133845806121826,
          -1.0630204677581787,
          1.070679783821106,
          1.3560715913772583,
          -0.23251409828662872,
          -0.038555119186639786,
          1.835003137588501,
          1.775323748588562,
          0.37747713923454285,
          0.4166971445083618,
          0.40716198086738586,
          -0.45632436871528625,
          0.055832501500844955,
          0.9689295887947083,
          0.1930638700723648,
          0.6497018933296204,
          -1.2678865194320679,
          -0.05849609151482582,
          0.609778881072998,
          -1.7219312191009521,
          -0.3407098054885864,
          0.5712949633598328,
          1.67559814453125,
          -0.08698786795139313,
          -1.764627456665039,
          -0.47509244084358215,
          -2.4167401790618896,
          0.8676652312278748,
          0.035036005079746246,
          -1.7114168405532837,
          -1.2116796970367432,
          0.0647650957107544,
          0.02377515472471714,
          -0.37989675998687744,
          2.1613917350769043,
          -1.4203590154647827,
          0.05432521924376488,
          -2.3127574920654297,
          -0.5819464921951294,
          -0.22073866426944733,
          -0.9482005834579468,
          -1.6406745910644531,
          -2.5644402503967285,
          -4.066136837005615,
          0.7457567453384399,
          -1.308255910873413,
          -2.144260883331299,
          0.22432871162891388,
          -2.436460018157959,
          0.439974308013916,
          0.4864377975463867,
          -0.9346276521682739,
          -2.5896689891815186,
          0.5791333317756653,
          -0.7278501987457275,
          -3.16426682472229,
          -2.6815552711486816,
          -1.3275991678237915,
          -3.4982924461364746,
          0.6374013423919678,
          -1.8354798555374146,
          -1.2495670318603516,
          0.4539596736431122,
          0.6787368655204773,
          -1.267364501953125,
          -0.8445130586624146,
          -2.094785451889038,
          -1.7100144624710083,
          -1.9438420534133911,
          -1.0571800470352173,
          -1.9490221738815308,
          0.39151614904403687,
          -4.219625949859619,
          -2.3052027225494385,
          -3.080129384994507,
          -1.8012723922729492,
          -0.18792302906513214,
          -5.836018085479736,
          -0.9485589265823364,
          -1.5747358798980713,
          -0.8798022866249084,
          -0.02792203240096569,
          0.41580891609191895,
          -0.7126466631889343,
          0.41580891609191895,
          -2.0779216289520264,
          -4.797982692718506,
          -1.7891156673431396,
          -2.369063377380371,
          0.41580891609191895,
          0.41580891609191895,
          -5.836018085479736,
          0.41580891609191895,
          -1.3471570014953613,
          0.41580891609191895,
          -1.333956241607666,
          -1.404729962348938,
          0.41580891609191895,
          -0.7944920659065247,
          -5.244269847869873,
          -2.0664548873901367,
          -5.599390029907227,
          -5.599390029907227,
          -2.3309974670410156,
          -3.9376986026763916,
          0.41580891609191895,
          -3.1854782104492188,
          -2.896989345550537,
          -5.836018085479736,
          -1.8041473627090454,
          -1.1595889329910278,
          -0.4399685561656952,
          -1.4439315795898438,
          -1.2943440675735474,
          0.41580891609191895,
          0.41580891609191895,
          0.41580891609191895,
          -3.9122469425201416,
          0.41580891609191895,
          0.41580891609191895,
          0.41580891609191895,
          0.41580891609191895,
          0.41580891609191895,
          0.41580891609191895,
          0.41580891609191895,
          0.41580891609191895,
          0.41580891609191895,
          0.41580891609191895,
          0.41580891609191895,
          0.41580891609191895,
          0.41580891609191895,
          0.41580891609191895,
          0.41580891609191895,
          0.41580891609191895,
          0.41580891609191895,
          0.41580891609191895,
          0.41580891609191895,
          0.41580891609191895,
          0.41580891609191895,
          0.41580891609191895,
          0.41580891609191895,
          0.4158090353012085,
          0.41580891609191895,
          0.41580891609191895,
          0.41580891609191895,
          0.41580891609191895,
          0.41580891609191895,
          0.41580891609191895,
          0.41580891609191895,
          0.41580891609191895,
          0.41580891609191895,
          0.41580891609191895,
          0.41580891609191895,
          0.41580891609191895,
          0.41580891609191895,
          0.41580891609191895,
          0.41580891609191895,
          0.41580891609191895,
          0.41580891609191895,
          0.41580891609191895,
          0.41580891609191895,
          0.41580891609191895,
          0.41580891609191895,
          0.41580891609191895,
          0.41580891609191895,
          0.41580891609191895,
          0.41580891609191895,
          0.41580891609191895,
          0.41580891609191895,
          0.41580891609191895,
          0.41580891609191895,
          0.41580891609191895,
          0.41580891609191895,
          0.41580891609191895,
          0.41580891609191895,
          0.41580891609191895,
          0.41580891609191895,
          0.41580891609191895,
          0.41580891609191895,
          0.41580891609191895,
          0.41580891609191895,
          0.41580891609191895,
          0.41580891609191895,
          0.41580891609191895,
          0.41580891609191895,
          0.41580891609191895,
          0.4158090353012085
         ],
         "yaxis": "y"
        }
       ],
       "layout": {
        "coloraxis": {
         "colorbar": {
          "title": {
           "text": "pca_cluster"
          }
         },
         "colorscale": [
          [
           0,
           "#440154"
          ],
          [
           0.1111111111111111,
           "#482878"
          ],
          [
           0.2222222222222222,
           "#3e4989"
          ],
          [
           0.3333333333333333,
           "#31688e"
          ],
          [
           0.4444444444444444,
           "#26828e"
          ],
          [
           0.5555555555555556,
           "#1f9e89"
          ],
          [
           0.6666666666666666,
           "#35b779"
          ],
          [
           0.7777777777777778,
           "#6ece58"
          ],
          [
           0.8888888888888888,
           "#b5de2b"
          ],
          [
           1,
           "#fde725"
          ]
         ]
        },
        "hovermode": "closest",
        "legend": {
         "tracegroupgap": 0
        },
        "template": {
         "data": {
          "bar": [
           {
            "error_x": {
             "color": "#2a3f5f"
            },
            "error_y": {
             "color": "#2a3f5f"
            },
            "marker": {
             "line": {
              "color": "white",
              "width": 0.5
             },
             "pattern": {
              "fillmode": "overlay",
              "size": 10,
              "solidity": 0.2
             }
            },
            "type": "bar"
           }
          ],
          "barpolar": [
           {
            "marker": {
             "line": {
              "color": "white",
              "width": 0.5
             },
             "pattern": {
              "fillmode": "overlay",
              "size": 10,
              "solidity": 0.2
             }
            },
            "type": "barpolar"
           }
          ],
          "carpet": [
           {
            "aaxis": {
             "endlinecolor": "#2a3f5f",
             "gridcolor": "#C8D4E3",
             "linecolor": "#C8D4E3",
             "minorgridcolor": "#C8D4E3",
             "startlinecolor": "#2a3f5f"
            },
            "baxis": {
             "endlinecolor": "#2a3f5f",
             "gridcolor": "#C8D4E3",
             "linecolor": "#C8D4E3",
             "minorgridcolor": "#C8D4E3",
             "startlinecolor": "#2a3f5f"
            },
            "type": "carpet"
           }
          ],
          "choropleth": [
           {
            "colorbar": {
             "outlinewidth": 0,
             "ticks": ""
            },
            "type": "choropleth"
           }
          ],
          "contour": [
           {
            "colorbar": {
             "outlinewidth": 0,
             "ticks": ""
            },
            "colorscale": [
             [
              0,
              "#0d0887"
             ],
             [
              0.1111111111111111,
              "#46039f"
             ],
             [
              0.2222222222222222,
              "#7201a8"
             ],
             [
              0.3333333333333333,
              "#9c179e"
             ],
             [
              0.4444444444444444,
              "#bd3786"
             ],
             [
              0.5555555555555556,
              "#d8576b"
             ],
             [
              0.6666666666666666,
              "#ed7953"
             ],
             [
              0.7777777777777778,
              "#fb9f3a"
             ],
             [
              0.8888888888888888,
              "#fdca26"
             ],
             [
              1,
              "#f0f921"
             ]
            ],
            "type": "contour"
           }
          ],
          "contourcarpet": [
           {
            "colorbar": {
             "outlinewidth": 0,
             "ticks": ""
            },
            "type": "contourcarpet"
           }
          ],
          "heatmap": [
           {
            "colorbar": {
             "outlinewidth": 0,
             "ticks": ""
            },
            "colorscale": [
             [
              0,
              "#0d0887"
             ],
             [
              0.1111111111111111,
              "#46039f"
             ],
             [
              0.2222222222222222,
              "#7201a8"
             ],
             [
              0.3333333333333333,
              "#9c179e"
             ],
             [
              0.4444444444444444,
              "#bd3786"
             ],
             [
              0.5555555555555556,
              "#d8576b"
             ],
             [
              0.6666666666666666,
              "#ed7953"
             ],
             [
              0.7777777777777778,
              "#fb9f3a"
             ],
             [
              0.8888888888888888,
              "#fdca26"
             ],
             [
              1,
              "#f0f921"
             ]
            ],
            "type": "heatmap"
           }
          ],
          "heatmapgl": [
           {
            "colorbar": {
             "outlinewidth": 0,
             "ticks": ""
            },
            "colorscale": [
             [
              0,
              "#0d0887"
             ],
             [
              0.1111111111111111,
              "#46039f"
             ],
             [
              0.2222222222222222,
              "#7201a8"
             ],
             [
              0.3333333333333333,
              "#9c179e"
             ],
             [
              0.4444444444444444,
              "#bd3786"
             ],
             [
              0.5555555555555556,
              "#d8576b"
             ],
             [
              0.6666666666666666,
              "#ed7953"
             ],
             [
              0.7777777777777778,
              "#fb9f3a"
             ],
             [
              0.8888888888888888,
              "#fdca26"
             ],
             [
              1,
              "#f0f921"
             ]
            ],
            "type": "heatmapgl"
           }
          ],
          "histogram": [
           {
            "marker": {
             "pattern": {
              "fillmode": "overlay",
              "size": 10,
              "solidity": 0.2
             }
            },
            "type": "histogram"
           }
          ],
          "histogram2d": [
           {
            "colorbar": {
             "outlinewidth": 0,
             "ticks": ""
            },
            "colorscale": [
             [
              0,
              "#0d0887"
             ],
             [
              0.1111111111111111,
              "#46039f"
             ],
             [
              0.2222222222222222,
              "#7201a8"
             ],
             [
              0.3333333333333333,
              "#9c179e"
             ],
             [
              0.4444444444444444,
              "#bd3786"
             ],
             [
              0.5555555555555556,
              "#d8576b"
             ],
             [
              0.6666666666666666,
              "#ed7953"
             ],
             [
              0.7777777777777778,
              "#fb9f3a"
             ],
             [
              0.8888888888888888,
              "#fdca26"
             ],
             [
              1,
              "#f0f921"
             ]
            ],
            "type": "histogram2d"
           }
          ],
          "histogram2dcontour": [
           {
            "colorbar": {
             "outlinewidth": 0,
             "ticks": ""
            },
            "colorscale": [
             [
              0,
              "#0d0887"
             ],
             [
              0.1111111111111111,
              "#46039f"
             ],
             [
              0.2222222222222222,
              "#7201a8"
             ],
             [
              0.3333333333333333,
              "#9c179e"
             ],
             [
              0.4444444444444444,
              "#bd3786"
             ],
             [
              0.5555555555555556,
              "#d8576b"
             ],
             [
              0.6666666666666666,
              "#ed7953"
             ],
             [
              0.7777777777777778,
              "#fb9f3a"
             ],
             [
              0.8888888888888888,
              "#fdca26"
             ],
             [
              1,
              "#f0f921"
             ]
            ],
            "type": "histogram2dcontour"
           }
          ],
          "mesh3d": [
           {
            "colorbar": {
             "outlinewidth": 0,
             "ticks": ""
            },
            "type": "mesh3d"
           }
          ],
          "parcoords": [
           {
            "line": {
             "colorbar": {
              "outlinewidth": 0,
              "ticks": ""
             }
            },
            "type": "parcoords"
           }
          ],
          "pie": [
           {
            "automargin": true,
            "type": "pie"
           }
          ],
          "scatter": [
           {
            "fillpattern": {
             "fillmode": "overlay",
             "size": 10,
             "solidity": 0.2
            },
            "type": "scatter"
           }
          ],
          "scatter3d": [
           {
            "line": {
             "colorbar": {
              "outlinewidth": 0,
              "ticks": ""
             }
            },
            "marker": {
             "colorbar": {
              "outlinewidth": 0,
              "ticks": ""
             }
            },
            "type": "scatter3d"
           }
          ],
          "scattercarpet": [
           {
            "marker": {
             "colorbar": {
              "outlinewidth": 0,
              "ticks": ""
             }
            },
            "type": "scattercarpet"
           }
          ],
          "scattergeo": [
           {
            "marker": {
             "colorbar": {
              "outlinewidth": 0,
              "ticks": ""
             }
            },
            "type": "scattergeo"
           }
          ],
          "scattergl": [
           {
            "marker": {
             "colorbar": {
              "outlinewidth": 0,
              "ticks": ""
             }
            },
            "type": "scattergl"
           }
          ],
          "scattermapbox": [
           {
            "marker": {
             "colorbar": {
              "outlinewidth": 0,
              "ticks": ""
             }
            },
            "type": "scattermapbox"
           }
          ],
          "scatterpolar": [
           {
            "marker": {
             "colorbar": {
              "outlinewidth": 0,
              "ticks": ""
             }
            },
            "type": "scatterpolar"
           }
          ],
          "scatterpolargl": [
           {
            "marker": {
             "colorbar": {
              "outlinewidth": 0,
              "ticks": ""
             }
            },
            "type": "scatterpolargl"
           }
          ],
          "scatterternary": [
           {
            "marker": {
             "colorbar": {
              "outlinewidth": 0,
              "ticks": ""
             }
            },
            "type": "scatterternary"
           }
          ],
          "surface": [
           {
            "colorbar": {
             "outlinewidth": 0,
             "ticks": ""
            },
            "colorscale": [
             [
              0,
              "#0d0887"
             ],
             [
              0.1111111111111111,
              "#46039f"
             ],
             [
              0.2222222222222222,
              "#7201a8"
             ],
             [
              0.3333333333333333,
              "#9c179e"
             ],
             [
              0.4444444444444444,
              "#bd3786"
             ],
             [
              0.5555555555555556,
              "#d8576b"
             ],
             [
              0.6666666666666666,
              "#ed7953"
             ],
             [
              0.7777777777777778,
              "#fb9f3a"
             ],
             [
              0.8888888888888888,
              "#fdca26"
             ],
             [
              1,
              "#f0f921"
             ]
            ],
            "type": "surface"
           }
          ],
          "table": [
           {
            "cells": {
             "fill": {
              "color": "#EBF0F8"
             },
             "line": {
              "color": "white"
             }
            },
            "header": {
             "fill": {
              "color": "#C8D4E3"
             },
             "line": {
              "color": "white"
             }
            },
            "type": "table"
           }
          ]
         },
         "layout": {
          "annotationdefaults": {
           "arrowcolor": "#2a3f5f",
           "arrowhead": 0,
           "arrowwidth": 1
          },
          "autotypenumbers": "strict",
          "coloraxis": {
           "colorbar": {
            "outlinewidth": 0,
            "ticks": ""
           }
          },
          "colorscale": {
           "diverging": [
            [
             0,
             "#8e0152"
            ],
            [
             0.1,
             "#c51b7d"
            ],
            [
             0.2,
             "#de77ae"
            ],
            [
             0.3,
             "#f1b6da"
            ],
            [
             0.4,
             "#fde0ef"
            ],
            [
             0.5,
             "#f7f7f7"
            ],
            [
             0.6,
             "#e6f5d0"
            ],
            [
             0.7,
             "#b8e186"
            ],
            [
             0.8,
             "#7fbc41"
            ],
            [
             0.9,
             "#4d9221"
            ],
            [
             1,
             "#276419"
            ]
           ],
           "sequential": [
            [
             0,
             "#0d0887"
            ],
            [
             0.1111111111111111,
             "#46039f"
            ],
            [
             0.2222222222222222,
             "#7201a8"
            ],
            [
             0.3333333333333333,
             "#9c179e"
            ],
            [
             0.4444444444444444,
             "#bd3786"
            ],
            [
             0.5555555555555556,
             "#d8576b"
            ],
            [
             0.6666666666666666,
             "#ed7953"
            ],
            [
             0.7777777777777778,
             "#fb9f3a"
            ],
            [
             0.8888888888888888,
             "#fdca26"
            ],
            [
             1,
             "#f0f921"
            ]
           ],
           "sequentialminus": [
            [
             0,
             "#0d0887"
            ],
            [
             0.1111111111111111,
             "#46039f"
            ],
            [
             0.2222222222222222,
             "#7201a8"
            ],
            [
             0.3333333333333333,
             "#9c179e"
            ],
            [
             0.4444444444444444,
             "#bd3786"
            ],
            [
             0.5555555555555556,
             "#d8576b"
            ],
            [
             0.6666666666666666,
             "#ed7953"
            ],
            [
             0.7777777777777778,
             "#fb9f3a"
            ],
            [
             0.8888888888888888,
             "#fdca26"
            ],
            [
             1,
             "#f0f921"
            ]
           ]
          },
          "colorway": [
           "#636efa",
           "#EF553B",
           "#00cc96",
           "#ab63fa",
           "#FFA15A",
           "#19d3f3",
           "#FF6692",
           "#B6E880",
           "#FF97FF",
           "#FECB52"
          ],
          "font": {
           "color": "#2a3f5f"
          },
          "geo": {
           "bgcolor": "white",
           "lakecolor": "white",
           "landcolor": "white",
           "showlakes": true,
           "showland": true,
           "subunitcolor": "#C8D4E3"
          },
          "hoverlabel": {
           "align": "left"
          },
          "hovermode": "closest",
          "mapbox": {
           "style": "light"
          },
          "paper_bgcolor": "white",
          "plot_bgcolor": "white",
          "polar": {
           "angularaxis": {
            "gridcolor": "#EBF0F8",
            "linecolor": "#EBF0F8",
            "ticks": ""
           },
           "bgcolor": "white",
           "radialaxis": {
            "gridcolor": "#EBF0F8",
            "linecolor": "#EBF0F8",
            "ticks": ""
           }
          },
          "scene": {
           "xaxis": {
            "backgroundcolor": "white",
            "gridcolor": "#DFE8F3",
            "gridwidth": 2,
            "linecolor": "#EBF0F8",
            "showbackground": true,
            "ticks": "",
            "zerolinecolor": "#EBF0F8"
           },
           "yaxis": {
            "backgroundcolor": "white",
            "gridcolor": "#DFE8F3",
            "gridwidth": 2,
            "linecolor": "#EBF0F8",
            "showbackground": true,
            "ticks": "",
            "zerolinecolor": "#EBF0F8"
           },
           "zaxis": {
            "backgroundcolor": "white",
            "gridcolor": "#DFE8F3",
            "gridwidth": 2,
            "linecolor": "#EBF0F8",
            "showbackground": true,
            "ticks": "",
            "zerolinecolor": "#EBF0F8"
           }
          },
          "shapedefaults": {
           "line": {
            "color": "#2a3f5f"
           }
          },
          "ternary": {
           "aaxis": {
            "gridcolor": "#DFE8F3",
            "linecolor": "#A2B1C6",
            "ticks": ""
           },
           "baxis": {
            "gridcolor": "#DFE8F3",
            "linecolor": "#A2B1C6",
            "ticks": ""
           },
           "bgcolor": "white",
           "caxis": {
            "gridcolor": "#DFE8F3",
            "linecolor": "#A2B1C6",
            "ticks": ""
           }
          },
          "title": {
           "x": 0.05
          },
          "xaxis": {
           "automargin": true,
           "gridcolor": "#EBF0F8",
           "linecolor": "#EBF0F8",
           "ticks": "",
           "title": {
            "standoff": 15
           },
           "zerolinecolor": "#EBF0F8",
           "zerolinewidth": 2
          },
          "yaxis": {
           "automargin": true,
           "gridcolor": "#EBF0F8",
           "linecolor": "#EBF0F8",
           "ticks": "",
           "title": {
            "standoff": 15
           },
           "zerolinecolor": "#EBF0F8",
           "zerolinewidth": 2
          }
         }
        },
        "title": {
         "text": "PCA with DBSCAN (PCA1: 47.0%, PCA2: 4.6%)"
        },
        "xaxis": {
         "anchor": "y",
         "domain": [
          0,
          1
         ],
         "title": {
          "text": "pca_component_1"
         }
        },
        "yaxis": {
         "anchor": "x",
         "domain": [
          0,
          1
         ],
         "title": {
          "text": "pca_component_2"
         }
        }
       }
      }
     },
     "metadata": {},
     "output_type": "display_data"
    },
    {
     "name": "stderr",
     "output_type": "stream",
     "text": [
      "/Users/jobandtalent/opt/anaconda3/envs/sar/lib/python3.9/site-packages/umap/umap_.py:1945: UserWarning:\n",
      "\n",
      "n_jobs value 1 overridden to 1 by setting random_state. Use no seed for parallelism.\n",
      "\n"
     ]
    },
    {
     "data": {
      "application/vnd.plotly.v1+json": {
       "config": {
        "plotlyServerURL": "https://plot.ly"
       },
       "data": [
        {
         "customdata": [
          [
           "positive",
           0
          ],
          [
           "positive",
           0
          ],
          [
           "positive",
           0
          ],
          [
           "neutral",
           0
          ],
          [
           "negative",
           0
          ],
          [
           "positive",
           0
          ],
          [
           "positive",
           0
          ],
          [
           "negative",
           0
          ],
          [
           "positive",
           0
          ],
          [
           "positive",
           0
          ],
          [
           "positive",
           0
          ],
          [
           "negative",
           0
          ],
          [
           "positive",
           0
          ],
          [
           "positive",
           0
          ],
          [
           "positive",
           0
          ],
          [
           "negative",
           0
          ],
          [
           "positive",
           0
          ],
          [
           "positive",
           0
          ],
          [
           "negative",
           0
          ],
          [
           "neutral",
           0
          ],
          [
           "positive",
           0
          ],
          [
           "positive",
           0
          ],
          [
           "positive",
           0
          ],
          [
           "positive",
           0
          ],
          [
           "positive",
           0
          ],
          [
           "positive",
           0
          ],
          [
           "positive",
           0
          ],
          [
           "positive",
           0
          ],
          [
           "positive",
           0
          ],
          [
           "positive",
           0
          ],
          [
           "positive",
           0
          ],
          [
           "negative",
           0
          ],
          [
           "positive",
           0
          ],
          [
           "positive",
           0
          ],
          [
           "positive",
           0
          ],
          [
           "positive",
           0
          ],
          [
           "positive",
           0
          ],
          [
           "negative",
           0
          ],
          [
           "positive",
           0
          ],
          [
           "neutral",
           0
          ],
          [
           "positive",
           0
          ],
          [
           "positive",
           0
          ],
          [
           "positive",
           0
          ],
          [
           "positive",
           0
          ],
          [
           "positive",
           0
          ],
          [
           "positive",
           0
          ],
          [
           "positive",
           0
          ],
          [
           "negative",
           0
          ],
          [
           "positive",
           0
          ],
          [
           "positive",
           0
          ],
          [
           "positive",
           0
          ],
          [
           "positive",
           0
          ],
          [
           "positive",
           0
          ],
          [
           "positive",
           0
          ],
          [
           "negative",
           0
          ],
          [
           "positive",
           0
          ],
          [
           "positive",
           0
          ],
          [
           "positive",
           0
          ],
          [
           "positive",
           0
          ],
          [
           "positive",
           0
          ],
          [
           "positive",
           0
          ],
          [
           "positive",
           0
          ],
          [
           "positive",
           0
          ],
          [
           "negative",
           0
          ],
          [
           "neutral",
           0
          ],
          [
           "neutral",
           0
          ],
          [
           "positive",
           0
          ],
          [
           "positive",
           0
          ],
          [
           "positive",
           0
          ],
          [
           "positive",
           0
          ],
          [
           "positive",
           0
          ],
          [
           "positive",
           0
          ],
          [
           "positive",
           0
          ],
          [
           "positive",
           0
          ],
          [
           "positive",
           0
          ],
          [
           "negative",
           0
          ],
          [
           "positive",
           0
          ],
          [
           "positive",
           0
          ],
          [
           "positive",
           0
          ],
          [
           "positive",
           0
          ],
          [
           "positive",
           0
          ],
          [
           "positive",
           0
          ],
          [
           "positive",
           0
          ],
          [
           "neutral",
           0
          ],
          [
           "positive",
           0
          ],
          [
           "positive",
           0
          ],
          [
           "positive",
           0
          ],
          [
           "positive",
           0
          ],
          [
           "negative",
           0
          ],
          [
           "positive",
           0
          ],
          [
           "positive",
           0
          ],
          [
           "neutral",
           0
          ],
          [
           "positive",
           0
          ],
          [
           "positive",
           0
          ],
          [
           "negative",
           0
          ],
          [
           "neutral",
           0
          ],
          [
           "positive",
           0
          ],
          [
           "positive",
           0
          ],
          [
           "positive",
           0
          ],
          [
           "positive",
           0
          ],
          [
           "negative",
           0
          ],
          [
           "positive",
           0
          ],
          [
           "positive",
           0
          ],
          [
           "positive",
           0
          ],
          [
           "positive",
           0
          ],
          [
           "positive",
           0
          ],
          [
           "positive",
           0
          ],
          [
           "positive",
           0
          ],
          [
           "positive",
           0
          ],
          [
           "positive",
           0
          ],
          [
           "positive",
           0
          ],
          [
           "negative",
           0
          ],
          [
           "positive",
           0
          ],
          [
           "positive",
           0
          ],
          [
           "positive",
           0
          ],
          [
           "positive",
           0
          ],
          [
           "positive",
           0
          ],
          [
           "positive",
           0
          ],
          [
           "positive",
           0
          ],
          [
           "positive",
           0
          ],
          [
           "positive",
           0
          ],
          [
           "positive",
           0
          ],
          [
           "positive",
           0
          ],
          [
           "positive",
           0
          ],
          [
           "positive",
           0
          ],
          [
           "positive",
           0
          ],
          [
           "positive",
           0
          ],
          [
           "positive",
           0
          ],
          [
           "positive",
           0
          ],
          [
           "positive",
           0
          ],
          [
           "positive",
           0
          ],
          [
           "positive",
           0
          ],
          [
           "positive",
           0
          ],
          [
           "positive",
           0
          ],
          [
           "positive",
           0
          ],
          [
           "positive",
           0
          ],
          [
           "negative",
           0
          ],
          [
           "positive",
           0
          ],
          [
           "positive",
           0
          ],
          [
           "positive",
           0
          ],
          [
           "positive",
           0
          ],
          [
           "positive",
           0
          ],
          [
           "positive",
           0
          ],
          [
           "positive",
           0
          ],
          [
           "positive",
           0
          ],
          [
           "positive",
           0
          ],
          [
           "positive",
           0
          ],
          [
           "neutral",
           0
          ],
          [
           "positive",
           0
          ],
          [
           "positive",
           0
          ],
          [
           "positive",
           0
          ],
          [
           "positive",
           0
          ],
          [
           "positive",
           0
          ],
          [
           "neutral",
           0
          ],
          [
           "positive",
           0
          ],
          [
           "positive",
           0
          ],
          [
           "positive",
           0
          ],
          [
           "negative",
           0
          ],
          [
           "positive",
           0
          ],
          [
           "positive",
           0
          ],
          [
           "positive",
           0
          ],
          [
           "positive",
           0
          ],
          [
           "positive",
           0
          ],
          [
           "positive",
           0
          ],
          [
           "positive",
           0
          ],
          [
           "positive",
           0
          ],
          [
           "negative",
           0
          ],
          [
           "positive",
           0
          ],
          [
           "positive",
           0
          ],
          [
           "positive",
           0
          ],
          [
           "neutral",
           0
          ],
          [
           "positive",
           0
          ],
          [
           "positive",
           0
          ],
          [
           "positive",
           0
          ],
          [
           "positive",
           0
          ],
          [
           "neutral",
           0
          ],
          [
           "positive",
           0
          ],
          [
           "positive",
           0
          ],
          [
           "positive",
           0
          ],
          [
           "positive",
           0
          ],
          [
           "positive",
           0
          ],
          [
           "positive",
           0
          ],
          [
           "positive",
           0
          ],
          [
           "positive",
           0
          ],
          [
           "positive",
           0
          ],
          [
           "positive",
           0
          ],
          [
           "negative",
           0
          ],
          [
           "positive",
           0
          ],
          [
           "positive",
           0
          ],
          [
           "positive",
           0
          ],
          [
           "positive",
           0
          ],
          [
           "positive",
           0
          ],
          [
           "positive",
           0
          ],
          [
           "positive",
           0
          ],
          [
           "negative",
           0
          ],
          [
           "negative",
           0
          ],
          [
           "positive",
           0
          ],
          [
           "positive",
           0
          ],
          [
           "positive",
           0
          ],
          [
           "positive",
           0
          ],
          [
           "positive",
           0
          ],
          [
           "positive",
           0
          ],
          [
           "positive",
           0
          ],
          [
           "positive",
           0
          ],
          [
           "positive",
           0
          ],
          [
           "positive",
           0
          ],
          [
           "positive",
           0
          ],
          [
           "positive",
           0
          ],
          [
           "positive",
           0
          ],
          [
           "positive",
           0
          ],
          [
           "positive",
           0
          ],
          [
           "positive",
           0
          ],
          [
           "positive",
           0
          ],
          [
           "positive",
           0
          ],
          [
           "positive",
           0
          ],
          [
           "positive",
           0
          ],
          [
           "positive",
           0
          ],
          [
           "positive",
           0
          ],
          [
           "positive",
           0
          ],
          [
           "positive",
           0
          ],
          [
           "positive",
           0
          ],
          [
           "positive",
           0
          ],
          [
           "positive",
           0
          ],
          [
           "positive",
           0
          ],
          [
           "positive",
           0
          ],
          [
           "neutral",
           0
          ],
          [
           "positive",
           0
          ],
          [
           "positive",
           0
          ],
          [
           "positive",
           0
          ],
          [
           "positive",
           0
          ],
          [
           "positive",
           0
          ],
          [
           "positive",
           0
          ],
          [
           "positive",
           0
          ],
          [
           "positive",
           0
          ],
          [
           "positive",
           0
          ],
          [
           "positive",
           0
          ],
          [
           "positive",
           0
          ],
          [
           "positive",
           0
          ],
          [
           "neutral",
           0
          ],
          [
           "neutral",
           0
          ],
          [
           "positive",
           0
          ],
          [
           "positive",
           0
          ],
          [
           "positive",
           0
          ],
          [
           "positive",
           0
          ],
          [
           "positive",
           0
          ],
          [
           "positive",
           0
          ],
          [
           "positive",
           0
          ],
          [
           "positive",
           0
          ],
          [
           "positive",
           0
          ],
          [
           "positive",
           0
          ],
          [
           "positive",
           0
          ],
          [
           "positive",
           0
          ],
          [
           "positive",
           0
          ],
          [
           "positive",
           0
          ],
          [
           "negative",
           0
          ],
          [
           "positive",
           1
          ],
          [
           "positive",
           0
          ],
          [
           "positive",
           1
          ],
          [
           "positive",
           0
          ],
          [
           "positive",
           0
          ],
          [
           "positive",
           0
          ],
          [
           "positive",
           0
          ],
          [
           "neutral",
           1
          ],
          [
           "positive",
           1
          ],
          [
           "positive",
           0
          ],
          [
           "positive",
           1
          ],
          [
           "neutral",
           0
          ],
          [
           "positive",
           1
          ],
          [
           "positive",
           0
          ],
          [
           "positive",
           0
          ],
          [
           "positive",
           1
          ],
          [
           "positive",
           0
          ],
          [
           "positive",
           0
          ],
          [
           "positive",
           0
          ],
          [
           "positive",
           0
          ],
          [
           "positive",
           0
          ],
          [
           "negative",
           0
          ],
          [
           "positive",
           0
          ],
          [
           "positive",
           1
          ],
          [
           "positive",
           0
          ],
          [
           "positive",
           0
          ],
          [
           "positive",
           0
          ],
          [
           "positive",
           0
          ],
          [
           "positive",
           0
          ],
          [
           "negative",
           0
          ],
          [
           "positive",
           0
          ],
          [
           "positive",
           0
          ],
          [
           "neutral",
           1
          ],
          [
           "positive",
           1
          ],
          [
           "positive",
           1
          ],
          [
           "positive",
           0
          ],
          [
           "positive",
           1
          ],
          [
           "positive",
           1
          ],
          [
           "positive",
           1
          ],
          [
           "positive",
           1
          ],
          [
           "positive",
           1
          ],
          [
           "positive",
           1
          ],
          [
           "negative",
           1
          ],
          [
           "positive",
           1
          ],
          [
           "positive",
           1
          ],
          [
           "positive",
           1
          ],
          [
           "positive",
           1
          ],
          [
           "neutral",
           1
          ],
          [
           "positive",
           1
          ],
          [
           "neutral",
           1
          ],
          [
           "positive",
           1
          ],
          [
           "positive",
           1
          ],
          [
           "positive",
           1
          ],
          [
           "negative",
           1
          ],
          [
           "positive",
           1
          ],
          [
           "positive",
           1
          ],
          [
           "positive",
           1
          ],
          [
           "positive",
           1
          ],
          [
           "positive",
           1
          ],
          [
           "positive",
           1
          ],
          [
           "positive",
           1
          ],
          [
           "positive",
           1
          ],
          [
           "positive",
           1
          ],
          [
           "positive",
           1
          ],
          [
           "positive",
           1
          ],
          [
           "positive",
           1
          ],
          [
           "positive",
           1
          ],
          [
           "positive",
           1
          ],
          [
           "positive",
           1
          ],
          [
           "positive",
           1
          ],
          [
           "positive",
           1
          ],
          [
           "neutral",
           1
          ],
          [
           "neutral",
           1
          ],
          [
           "neutral",
           1
          ],
          [
           "positive",
           1
          ],
          [
           "positive",
           1
          ],
          [
           "positive",
           1
          ],
          [
           "positive",
           1
          ],
          [
           "positive",
           1
          ],
          [
           "positive",
           1
          ],
          [
           "negative",
           1
          ],
          [
           "positive",
           1
          ],
          [
           "positive",
           1
          ],
          [
           "positive",
           1
          ],
          [
           "positive",
           1
          ],
          [
           "positive",
           1
          ],
          [
           "positive",
           1
          ],
          [
           "positive",
           1
          ],
          [
           "positive",
           1
          ],
          [
           "positive",
           1
          ],
          [
           "positive",
           1
          ],
          [
           "positive",
           1
          ],
          [
           "positive",
           1
          ],
          [
           "positive",
           1
          ],
          [
           "positive",
           1
          ],
          [
           "positive",
           1
          ],
          [
           "positive",
           1
          ],
          [
           "positive",
           1
          ],
          [
           "positive",
           1
          ],
          [
           "positive",
           1
          ],
          [
           "negative",
           1
          ],
          [
           "positive",
           1
          ],
          [
           "positive",
           1
          ],
          [
           "positive",
           1
          ],
          [
           "negative",
           1
          ]
         ],
         "hovertemplate": "umap_component_1=%{x}<br>umap_component_2=%{y}<br>sentiment=%{customdata[0]}<br>umap_cluster=%{marker.color}<extra></extra>",
         "legendgroup": "",
         "marker": {
          "color": [
           0,
           0,
           0,
           0,
           0,
           0,
           0,
           0,
           0,
           0,
           0,
           0,
           0,
           0,
           0,
           0,
           0,
           0,
           0,
           0,
           0,
           0,
           0,
           0,
           0,
           0,
           0,
           0,
           0,
           0,
           0,
           0,
           0,
           0,
           0,
           0,
           0,
           0,
           0,
           0,
           0,
           0,
           0,
           0,
           0,
           0,
           0,
           0,
           0,
           0,
           0,
           0,
           0,
           0,
           0,
           0,
           0,
           0,
           0,
           0,
           0,
           0,
           0,
           0,
           0,
           0,
           0,
           0,
           0,
           0,
           0,
           0,
           0,
           0,
           0,
           0,
           0,
           0,
           0,
           0,
           0,
           0,
           0,
           0,
           0,
           0,
           0,
           0,
           0,
           0,
           0,
           0,
           0,
           0,
           0,
           0,
           0,
           0,
           0,
           0,
           0,
           0,
           0,
           0,
           0,
           0,
           0,
           0,
           0,
           0,
           0,
           0,
           0,
           0,
           0,
           0,
           0,
           0,
           0,
           0,
           0,
           0,
           0,
           0,
           0,
           0,
           0,
           0,
           0,
           0,
           0,
           0,
           0,
           0,
           0,
           0,
           0,
           0,
           0,
           0,
           0,
           0,
           0,
           0,
           0,
           0,
           0,
           0,
           0,
           0,
           0,
           0,
           0,
           0,
           0,
           0,
           0,
           0,
           0,
           0,
           0,
           0,
           0,
           0,
           0,
           0,
           0,
           0,
           0,
           0,
           0,
           0,
           0,
           0,
           0,
           0,
           0,
           0,
           0,
           0,
           0,
           0,
           0,
           0,
           0,
           0,
           0,
           0,
           0,
           0,
           0,
           0,
           0,
           0,
           0,
           0,
           0,
           0,
           0,
           0,
           0,
           0,
           0,
           0,
           0,
           0,
           0,
           0,
           0,
           0,
           0,
           0,
           0,
           0,
           0,
           0,
           0,
           0,
           0,
           0,
           0,
           0,
           0,
           0,
           0,
           0,
           0,
           0,
           0,
           0,
           0,
           0,
           0,
           0,
           0,
           0,
           0,
           0,
           0,
           0,
           0,
           0,
           0,
           0,
           0,
           0,
           0,
           0,
           0,
           0,
           0,
           0,
           0,
           0,
           0,
           1,
           0,
           1,
           0,
           0,
           0,
           0,
           1,
           1,
           0,
           1,
           0,
           1,
           0,
           0,
           1,
           0,
           0,
           0,
           0,
           0,
           0,
           0,
           1,
           0,
           0,
           0,
           0,
           0,
           0,
           0,
           0,
           1,
           1,
           1,
           0,
           1,
           1,
           1,
           1,
           1,
           1,
           1,
           1,
           1,
           1,
           1,
           1,
           1,
           1,
           1,
           1,
           1,
           1,
           1,
           1,
           1,
           1,
           1,
           1,
           1,
           1,
           1,
           1,
           1,
           1,
           1,
           1,
           1,
           1,
           1,
           1,
           1,
           1,
           1,
           1,
           1,
           1,
           1,
           1,
           1,
           1,
           1,
           1,
           1,
           1,
           1,
           1,
           1,
           1,
           1,
           1,
           1,
           1,
           1,
           1,
           1,
           1,
           1,
           1,
           1,
           1,
           1,
           1,
           1
          ],
          "coloraxis": "coloraxis",
          "opacity": 0.7,
          "symbol": "circle"
         },
         "mode": "markers",
         "name": "",
         "orientation": "v",
         "showlegend": false,
         "type": "scatter",
         "x": [
          12.205307960510254,
          12.725332260131836,
          11.861700057983398,
          11.678403854370117,
          12.237706184387207,
          11.201041221618652,
          13.006625175476074,
          12.576457023620605,
          10.393253326416016,
          11.010327339172363,
          11.45495891571045,
          12.563804626464844,
          10.88776683807373,
          12.368928909301758,
          12.257487297058105,
          12.231134414672852,
          11.985109329223633,
          11.4398193359375,
          12.18591594696045,
          11.988520622253418,
          13.100544929504395,
          11.831893920898438,
          12.144344329833984,
          11.466692924499512,
          10.864188194274902,
          13.163841247558594,
          11.691573143005371,
          12.891243934631348,
          11.787224769592285,
          12.169694900512695,
          12.402688980102539,
          10.9055757522583,
          12.491582870483398,
          10.918188095092773,
          11.869951248168945,
          12.529263496398926,
          13.459798812866211,
          11.76384449005127,
          11.432284355163574,
          11.461703300476074,
          10.699257850646973,
          11.607124328613281,
          10.992615699768066,
          11.475040435791016,
          11.864742279052734,
          12.108160972595215,
          13.11963939666748,
          13.266547203063965,
          13.125655174255371,
          10.978577613830566,
          12.15764045715332,
          10.73165225982666,
          12.019124984741211,
          13.377180099487305,
          12.869343757629395,
          10.425857543945312,
          10.894378662109375,
          13.453083038330078,
          10.5051908493042,
          12.00835132598877,
          13.276856422424316,
          12.636092185974121,
          11.476985931396484,
          12.569677352905273,
          11.332765579223633,
          10.123905181884766,
          11.183146476745605,
          12.820226669311523,
          12.367368698120117,
          13.270671844482422,
          12.096868515014648,
          11.936651229858398,
          11.91515064239502,
          12.815356254577637,
          11.239014625549316,
          12.845099449157715,
          11.552299499511719,
          13.343032836914062,
          10.758234977722168,
          11.807577133178711,
          10.993903160095215,
          11.096198081970215,
          12.689216613769531,
          13.656760215759277,
          11.183675765991211,
          11.95938491821289,
          11.701456069946289,
          10.56879997253418,
          11.555967330932617,
          11.768839836120605,
          11.056474685668945,
          12.770486831665039,
          12.905660629272461,
          13.440756797790527,
          12.285422325134277,
          12.01510238647461,
          12.252187728881836,
          12.374448776245117,
          11.449178695678711,
          11.43710708618164,
          10.6904878616333,
          10.049964904785156,
          11.390911102294922,
          11.20151424407959,
          10.179896354675293,
          12.463191986083984,
          11.887834548950195,
          10.930404663085938,
          12.249495506286621,
          13.11807632446289,
          12.851789474487305,
          11.959558486938477,
          10.895299911499023,
          10.341851234436035,
          13.214225769042969,
          11.675581932067871,
          11.255115509033203,
          12.121224403381348,
          12.041176795959473,
          11.062254905700684,
          12.28518295288086,
          11.481363296508789,
          12.725383758544922,
          11.407052040100098,
          13.565210342407227,
          13.373641014099121,
          13.519975662231445,
          13.115682601928711,
          12.52413558959961,
          11.100592613220215,
          10.471100807189941,
          12.028717041015625,
          11.566028594970703,
          11.402361869812012,
          12.69825267791748,
          11.196812629699707,
          12.572284698486328,
          12.545268058776855,
          12.538228034973145,
          11.44430923461914,
          12.951544761657715,
          13.226480484008789,
          11.624953269958496,
          12.906864166259766,
          12.201980590820312,
          11.311227798461914,
          12.385953903198242,
          13.249207496643066,
          11.349991798400879,
          11.901459693908691,
          12.585752487182617,
          13.488558769226074,
          13.036404609680176,
          10.401702880859375,
          12.0316801071167,
          10.59957504272461,
          11.504522323608398,
          12.598387718200684,
          11.058963775634766,
          11.50893497467041,
          9.92419719696045,
          11.993867874145508,
          10.1066255569458,
          10.007929801940918,
          12.507603645324707,
          12.33450984954834,
          10.092641830444336,
          12.475666999816895,
          11.248821258544922,
          11.099008560180664,
          11.957661628723145,
          12.87047004699707,
          9.9111909866333,
          10.398232460021973,
          13.642315864562988,
          12.726536750793457,
          10.668326377868652,
          9.847370147705078,
          10.490367889404297,
          10.758810043334961,
          11.870750427246094,
          13.555556297302246,
          13.322816848754883,
          10.27840518951416,
          11.196313858032227,
          10.549822807312012,
          13.294754981994629,
          10.151927947998047,
          11.944097518920898,
          13.73792552947998,
          12.401299476623535,
          9.914094924926758,
          11.651639938354492,
          11.32154655456543,
          10.969568252563477,
          11.656277656555176,
          11.983724594116211,
          13.132440567016602,
          10.60300064086914,
          12.538434028625488,
          11.440023422241211,
          12.8790864944458,
          13.004165649414062,
          11.78415298461914,
          12.738635063171387,
          13.681315422058105,
          12.306421279907227,
          12.020978927612305,
          13.196036338806152,
          13.7022066116333,
          13.512889862060547,
          11.680954933166504,
          11.714038848876953,
          11.77194595336914,
          13.318071365356445,
          13.581490516662598,
          12.244792938232422,
          11.165778160095215,
          11.903864860534668,
          13.263872146606445,
          10.534049987792969,
          12.572027206420898,
          10.850659370422363,
          10.389322280883789,
          12.012682914733887,
          12.634493827819824,
          10.614903450012207,
          9.926981925964355,
          11.159696578979492,
          12.316866874694824,
          13.605668067932129,
          13.663656234741211,
          10.017317771911621,
          13.063491821289062,
          11.197916984558105,
          11.009283065795898,
          11.561053276062012,
          10.953995704650879,
          11.951985359191895,
          11.644149780273438,
          11.153800964355469,
          12.95512866973877,
          13.014167785644531,
          11.830009460449219,
          11.38707160949707,
          13.547540664672852,
          13.434921264648438,
          12.490660667419434,
          12.053001403808594,
          10.473074913024902,
          12.164168357849121,
          13.875985145568848,
          13.353751182556152,
          12.27490520477295,
          10.011455535888672,
          -9.132588386535645,
          10.185587882995605,
          -8.815534591674805,
          11.047749519348145,
          12.136509895324707,
          12.407506942749023,
          13.133535385131836,
          -8.765387535095215,
          -8.652382850646973,
          12.127532005310059,
          -8.757647514343262,
          11.011199951171875,
          -8.83747673034668,
          10.200115203857422,
          11.037129402160645,
          -8.899664878845215,
          10.363386154174805,
          12.186250686645508,
          10.905914306640625,
          12.256226539611816,
          12.137943267822266,
          11.135846138000488,
          11.829154968261719,
          -9.000650405883789,
          11.238520622253418,
          11.91062068939209,
          12.216492652893066,
          10.892236709594727,
          10.81924819946289,
          10.732132911682129,
          10.334973335266113,
          10.303351402282715,
          -9.15761947631836,
          -8.679377555847168,
          -8.8081693649292,
          12.290288925170898,
          -9.011709213256836,
          -8.782032012939453,
          -9.154438018798828,
          -9.028533935546875,
          -8.866678237915039,
          -8.996301651000977,
          -8.941166877746582,
          -8.889973640441895,
          -8.97230052947998,
          -8.865150451660156,
          -8.835173606872559,
          -9.16800308227539,
          -9.043381690979004,
          -9.159439086914062,
          -9.02369213104248,
          -9.339195251464844,
          -8.678045272827148,
          -8.895281791687012,
          -8.73444938659668,
          -8.77492618560791,
          -8.598169326782227,
          -8.680221557617188,
          -8.757478713989258,
          -9.35498332977295,
          -9.076032638549805,
          -9.010459899902344,
          -9.157214164733887,
          -9.341021537780762,
          -9.262033462524414,
          -9.40178108215332,
          -9.275314331054688,
          -9.398588180541992,
          -8.61743450164795,
          -8.625720977783203,
          -8.281359672546387,
          -9.588326454162598,
          -8.802313804626465,
          -8.789106369018555,
          -8.5023775100708,
          -8.427628517150879,
          -9.167830467224121,
          -8.607492446899414,
          -9.205714225769043,
          -9.083061218261719,
          -9.206400871276855,
          -8.29609489440918,
          -8.279427528381348,
          -8.263397216796875,
          -8.319377899169922,
          -8.32271957397461,
          -9.524386405944824,
          -8.441143035888672,
          -8.430051803588867,
          -8.713653564453125,
          -8.566805839538574,
          -9.086641311645508,
          -8.910188674926758,
          -9.011439323425293,
          -8.90139102935791,
          -8.58091926574707,
          -9.597214698791504,
          -9.277689933776855,
          -9.505075454711914,
          -8.412443161010742,
          -9.48318862915039,
          -8.976919174194336,
          -8.463900566101074,
          -9.23403549194336,
          -8.579049110412598
         ],
         "xaxis": "x",
         "y": [
          -10.130144119262695,
          -10.923133850097656,
          -10.477025985717773,
          -9.873117446899414,
          -11.683563232421875,
          -8.813654899597168,
          -10.637751579284668,
          -12.094032287597656,
          -10.381508827209473,
          -9.931506156921387,
          -10.669833183288574,
          -11.720208168029785,
          -10.230416297912598,
          -9.982612609863281,
          -10.609794616699219,
          -10.624948501586914,
          -10.970452308654785,
          -9.899449348449707,
          -11.87801456451416,
          -12.113953590393066,
          -11.268515586853027,
          -11.759804725646973,
          -9.711684226989746,
          -9.74446964263916,
          -10.960077285766602,
          -10.635282516479492,
          -11.799978256225586,
          -9.537055015563965,
          -10.040740013122559,
          -12.042016983032227,
          -10.820175170898438,
          -10.974039077758789,
          -10.766927719116211,
          -9.029339790344238,
          -10.611971855163574,
          -11.136104583740234,
          -10.848044395446777,
          -12.24333381652832,
          -10.078080177307129,
          -10.932095527648926,
          -10.12096118927002,
          -11.748687744140625,
          -10.533634185791016,
          -8.993865013122559,
          -10.905987739562988,
          -11.217158317565918,
          -9.868407249450684,
          -11.76369571685791,
          -11.696166038513184,
          -11.731740951538086,
          -9.964798927307129,
          -9.791287422180176,
          -11.376426696777344,
          -9.779001235961914,
          -11.508723258972168,
          -10.562341690063477,
          -11.470812797546387,
          -11.170236587524414,
          -10.733296394348145,
          -11.890585899353027,
          -11.001014709472656,
          -11.03221321105957,
          -11.643644332885742,
          -12.211075782775879,
          -11.168193817138672,
          -10.995673179626465,
          -9.909496307373047,
          -9.035337448120117,
          -11.029881477355957,
          -11.580097198486328,
          -11.560242652893066,
          -10.156205177307129,
          -10.99512004852295,
          -10.343765258789062,
          -9.046849250793457,
          -11.691882133483887,
          -9.1681547164917,
          -11.13312816619873,
          -10.332205772399902,
          -9.381246566772461,
          -10.536240577697754,
          -10.065509796142578,
          -10.150848388671875,
          -10.506444931030273,
          -11.779169082641602,
          -9.980892181396484,
          -9.816896438598633,
          -10.319762229919434,
          -12.08351993560791,
          -8.649258613586426,
          -11.761476516723633,
          -9.240762710571289,
          -9.549622535705566,
          -10.438801765441895,
          -12.291606903076172,
          -12.33627986907959,
          -11.08069133758545,
          -10.71938705444336,
          -11.392878532409668,
          -11.307879447937012,
          -10.647717475891113,
          -9.714378356933594,
          -10.191527366638184,
          -10.086515426635742,
          -10.784788131713867,
          -9.73111343383789,
          -10.462725639343262,
          -9.729715347290039,
          -11.773223876953125,
          -11.769636154174805,
          -10.546891212463379,
          -11.177459716796875,
          -9.999170303344727,
          -10.332117080688477,
          -10.780848503112793,
          -11.770126342773438,
          -10.72607421875,
          -11.790860176086426,
          -10.773476600646973,
          -8.41732406616211,
          -12.07736587524414,
          -11.213254928588867,
          -9.614400863647461,
          -10.634961128234863,
          -11.294136047363281,
          -10.00398063659668,
          -9.46302604675293,
          -9.603447914123535,
          -10.384206771850586,
          -10.856597900390625,
          -11.135103225708008,
          -11.355233192443848,
          -10.535794258117676,
          -10.241601943969727,
          -10.594974517822266,
          -9.71455192565918,
          -11.836133003234863,
          -11.821317672729492,
          -8.776397705078125,
          -9.613626480102539,
          -12.022543907165527,
          -9.387395858764648,
          -9.202820777893066,
          -10.199783325195312,
          -10.97547721862793,
          -11.162454605102539,
          -10.22249698638916,
          -11.233195304870605,
          -10.272758483886719,
          -12.359945297241211,
          -12.018136978149414,
          -10.2625093460083,
          -12.081267356872559,
          -9.75872802734375,
          -11.936460494995117,
          -10.189491271972656,
          -9.462630271911621,
          -11.30936336517334,
          -8.745580673217773,
          -9.212667465209961,
          -10.427409172058105,
          -8.975582122802734,
          -10.594964981079102,
          -10.463950157165527,
          -10.738032341003418,
          -10.191006660461426,
          -9.501507759094238,
          -9.616581916809082,
          -11.521530151367188,
          -11.487366676330566,
          -11.314447402954102,
          -10.131031036376953,
          -10.308040618896484,
          -9.819183349609375,
          -10.316061973571777,
          -11.350098609924316,
          -10.10748291015625,
          -10.168937683105469,
          -10.31790542602539,
          -11.778059005737305,
          -11.97279167175293,
          -10.722298622131348,
          -10.633869171142578,
          -9.280203819274902,
          -9.19621467590332,
          -11.64261531829834,
          -11.2398042678833,
          -11.046591758728027,
          -10.200815200805664,
          -10.4194974899292,
          -9.79694652557373,
          -10.126169204711914,
          -8.605936050415039,
          -11.075335502624512,
          -9.33067798614502,
          -12.18517780303955,
          -9.679938316345215,
          -9.8864164352417,
          -9.372594833374023,
          -9.175711631774902,
          -10.040122032165527,
          -9.916111946105957,
          -9.34862232208252,
          -8.684431076049805,
          -9.92712688446045,
          -11.106054306030273,
          -11.349861145019531,
          -11.910709381103516,
          -9.839646339416504,
          -10.84041976928711,
          -9.354493141174316,
          -9.375564575195312,
          -9.442545890808105,
          -9.886549949645996,
          -10.201726913452148,
          -9.487689018249512,
          -6.283937931060791,
          -10.398244857788086,
          -8.984847068786621,
          -9.887758255004883,
          -11.08356761932373,
          -9.261907577514648,
          -11.891514778137207,
          -11.191500663757324,
          -9.443268775939941,
          -9.636041641235352,
          -9.989570617675781,
          -10.644100189208984,
          -8.173906326293945,
          -6.419351577758789,
          -10.166951179504395,
          -9.559599876403809,
          -10.586938858032227,
          -9.007320404052734,
          -8.83357048034668,
          -11.655922889709473,
          -10.161001205444336,
          -7.619214057922363,
          -10.41530704498291,
          -8.4974946975708,
          -8.74326229095459,
          -9.000503540039062,
          -10.249356269836426,
          -7.1546783447265625,
          -11.792340278625488,
          -9.293047904968262,
          -9.292794227600098,
          -6.596092224121094,
          -9.103309631347656,
          -8.873732566833496,
          -6.2204670906066895,
          -10.421076774597168,
          -9.148520469665527,
          -9.035051345825195,
          -10.956766128540039,
          -2.460477352142334,
          -9.614422798156738,
          -2.51779842376709,
          -8.14039421081543,
          -6.437465190887451,
          -9.064107894897461,
          -9.01508617401123,
          -2.354924201965332,
          -2.483579635620117,
          -6.308157920837402,
          -2.4017372131347656,
          -7.646211624145508,
          -2.7487454414367676,
          -9.079227447509766,
          -8.321958541870117,
          -2.597888708114624,
          -8.695558547973633,
          -6.256330490112305,
          -7.513861656188965,
          -6.3330159187316895,
          -6.200490951538086,
          -7.861157417297363,
          -6.757206916809082,
          -2.388958692550659,
          -7.817206382751465,
          -6.759914875030518,
          -6.290045261383057,
          -7.612951755523682,
          -7.384800910949707,
          -7.620394706726074,
          -8.581633567810059,
          -8.670304298400879,
          -2.626192808151245,
          -2.7174675464630127,
          -2.570225715637207,
          -6.228769302368164,
          -2.4554052352905273,
          -2.4883060455322266,
          -2.914102077484131,
          -2.1452529430389404,
          -2.2841227054595947,
          -2.2139718532562256,
          -2.7491610050201416,
          -2.294001340866089,
          -2.333230972290039,
          -2.5164098739624023,
          -2.63112473487854,
          -2.4001216888427734,
          -2.4312665462493896,
          -2.5018320083618164,
          -2.147304058074951,
          -2.423251152038574,
          -2.7372474670410156,
          -2.3458611965179443,
          -2.0876033306121826,
          -2.7216477394104004,
          -2.475189685821533,
          -2.1805481910705566,
          -1.9568418264389038,
          -2.264246940612793,
          -2.1320061683654785,
          -2.873260498046875,
          -2.6458873748779297,
          -2.232495069503784,
          -2.7106387615203857,
          -2.5815815925598145,
          -2.9564197063446045,
          -2.3283324241638184,
          -1.9585425853729248,
          -2.900546073913574,
          -2.4610936641693115,
          -2.5956501960754395,
          -2.0068585872650146,
          -3.130845308303833,
          -1.9829027652740479,
          -2.4201207160949707,
          -2.925583839416504,
          -2.2499728202819824,
          -1.9660290479660034,
          -2.070788860321045,
          -2.8274331092834473,
          -2.8686156272888184,
          -2.3695108890533447,
          -2.55754017829895,
          -2.6253223419189453,
          -2.1513938903808594,
          -2.6131153106689453,
          -2.5740957260131836,
          -2.7451741695404053,
          -2.3541605472564697,
          -2.924374580383301,
          -3.035006284713745,
          -1.84443998336792,
          -2.8153367042541504,
          -2.9454824924468994,
          -1.922819972038269,
          -2.427654981613159,
          -2.075960636138916,
          -2.281724214553833,
          -2.138296365737915,
          -2.2627880573272705,
          -3.137775421142578,
          -2.8715455532073975,
          -1.9749475717544556,
          -2.0062732696533203
         ],
         "yaxis": "y"
        }
       ],
       "layout": {
        "coloraxis": {
         "colorbar": {
          "title": {
           "text": "umap_cluster"
          }
         },
         "colorscale": [
          [
           0,
           "#440154"
          ],
          [
           0.1111111111111111,
           "#482878"
          ],
          [
           0.2222222222222222,
           "#3e4989"
          ],
          [
           0.3333333333333333,
           "#31688e"
          ],
          [
           0.4444444444444444,
           "#26828e"
          ],
          [
           0.5555555555555556,
           "#1f9e89"
          ],
          [
           0.6666666666666666,
           "#35b779"
          ],
          [
           0.7777777777777778,
           "#6ece58"
          ],
          [
           0.8888888888888888,
           "#b5de2b"
          ],
          [
           1,
           "#fde725"
          ]
         ]
        },
        "legend": {
         "title": {
          "text": "umap_cluster"
         },
         "tracegroupgap": 0
        },
        "margin": {
         "b": 10,
         "l": 10,
         "r": 10,
         "t": 40
        },
        "showlegend": true,
        "template": {
         "data": {
          "bar": [
           {
            "error_x": {
             "color": "#2a3f5f"
            },
            "error_y": {
             "color": "#2a3f5f"
            },
            "marker": {
             "line": {
              "color": "#E5ECF6",
              "width": 0.5
             },
             "pattern": {
              "fillmode": "overlay",
              "size": 10,
              "solidity": 0.2
             }
            },
            "type": "bar"
           }
          ],
          "barpolar": [
           {
            "marker": {
             "line": {
              "color": "#E5ECF6",
              "width": 0.5
             },
             "pattern": {
              "fillmode": "overlay",
              "size": 10,
              "solidity": 0.2
             }
            },
            "type": "barpolar"
           }
          ],
          "carpet": [
           {
            "aaxis": {
             "endlinecolor": "#2a3f5f",
             "gridcolor": "white",
             "linecolor": "white",
             "minorgridcolor": "white",
             "startlinecolor": "#2a3f5f"
            },
            "baxis": {
             "endlinecolor": "#2a3f5f",
             "gridcolor": "white",
             "linecolor": "white",
             "minorgridcolor": "white",
             "startlinecolor": "#2a3f5f"
            },
            "type": "carpet"
           }
          ],
          "choropleth": [
           {
            "colorbar": {
             "outlinewidth": 0,
             "ticks": ""
            },
            "type": "choropleth"
           }
          ],
          "contour": [
           {
            "colorbar": {
             "outlinewidth": 0,
             "ticks": ""
            },
            "colorscale": [
             [
              0,
              "#0d0887"
             ],
             [
              0.1111111111111111,
              "#46039f"
             ],
             [
              0.2222222222222222,
              "#7201a8"
             ],
             [
              0.3333333333333333,
              "#9c179e"
             ],
             [
              0.4444444444444444,
              "#bd3786"
             ],
             [
              0.5555555555555556,
              "#d8576b"
             ],
             [
              0.6666666666666666,
              "#ed7953"
             ],
             [
              0.7777777777777778,
              "#fb9f3a"
             ],
             [
              0.8888888888888888,
              "#fdca26"
             ],
             [
              1,
              "#f0f921"
             ]
            ],
            "type": "contour"
           }
          ],
          "contourcarpet": [
           {
            "colorbar": {
             "outlinewidth": 0,
             "ticks": ""
            },
            "type": "contourcarpet"
           }
          ],
          "heatmap": [
           {
            "colorbar": {
             "outlinewidth": 0,
             "ticks": ""
            },
            "colorscale": [
             [
              0,
              "#0d0887"
             ],
             [
              0.1111111111111111,
              "#46039f"
             ],
             [
              0.2222222222222222,
              "#7201a8"
             ],
             [
              0.3333333333333333,
              "#9c179e"
             ],
             [
              0.4444444444444444,
              "#bd3786"
             ],
             [
              0.5555555555555556,
              "#d8576b"
             ],
             [
              0.6666666666666666,
              "#ed7953"
             ],
             [
              0.7777777777777778,
              "#fb9f3a"
             ],
             [
              0.8888888888888888,
              "#fdca26"
             ],
             [
              1,
              "#f0f921"
             ]
            ],
            "type": "heatmap"
           }
          ],
          "heatmapgl": [
           {
            "colorbar": {
             "outlinewidth": 0,
             "ticks": ""
            },
            "colorscale": [
             [
              0,
              "#0d0887"
             ],
             [
              0.1111111111111111,
              "#46039f"
             ],
             [
              0.2222222222222222,
              "#7201a8"
             ],
             [
              0.3333333333333333,
              "#9c179e"
             ],
             [
              0.4444444444444444,
              "#bd3786"
             ],
             [
              0.5555555555555556,
              "#d8576b"
             ],
             [
              0.6666666666666666,
              "#ed7953"
             ],
             [
              0.7777777777777778,
              "#fb9f3a"
             ],
             [
              0.8888888888888888,
              "#fdca26"
             ],
             [
              1,
              "#f0f921"
             ]
            ],
            "type": "heatmapgl"
           }
          ],
          "histogram": [
           {
            "marker": {
             "pattern": {
              "fillmode": "overlay",
              "size": 10,
              "solidity": 0.2
             }
            },
            "type": "histogram"
           }
          ],
          "histogram2d": [
           {
            "colorbar": {
             "outlinewidth": 0,
             "ticks": ""
            },
            "colorscale": [
             [
              0,
              "#0d0887"
             ],
             [
              0.1111111111111111,
              "#46039f"
             ],
             [
              0.2222222222222222,
              "#7201a8"
             ],
             [
              0.3333333333333333,
              "#9c179e"
             ],
             [
              0.4444444444444444,
              "#bd3786"
             ],
             [
              0.5555555555555556,
              "#d8576b"
             ],
             [
              0.6666666666666666,
              "#ed7953"
             ],
             [
              0.7777777777777778,
              "#fb9f3a"
             ],
             [
              0.8888888888888888,
              "#fdca26"
             ],
             [
              1,
              "#f0f921"
             ]
            ],
            "type": "histogram2d"
           }
          ],
          "histogram2dcontour": [
           {
            "colorbar": {
             "outlinewidth": 0,
             "ticks": ""
            },
            "colorscale": [
             [
              0,
              "#0d0887"
             ],
             [
              0.1111111111111111,
              "#46039f"
             ],
             [
              0.2222222222222222,
              "#7201a8"
             ],
             [
              0.3333333333333333,
              "#9c179e"
             ],
             [
              0.4444444444444444,
              "#bd3786"
             ],
             [
              0.5555555555555556,
              "#d8576b"
             ],
             [
              0.6666666666666666,
              "#ed7953"
             ],
             [
              0.7777777777777778,
              "#fb9f3a"
             ],
             [
              0.8888888888888888,
              "#fdca26"
             ],
             [
              1,
              "#f0f921"
             ]
            ],
            "type": "histogram2dcontour"
           }
          ],
          "mesh3d": [
           {
            "colorbar": {
             "outlinewidth": 0,
             "ticks": ""
            },
            "type": "mesh3d"
           }
          ],
          "parcoords": [
           {
            "line": {
             "colorbar": {
              "outlinewidth": 0,
              "ticks": ""
             }
            },
            "type": "parcoords"
           }
          ],
          "pie": [
           {
            "automargin": true,
            "type": "pie"
           }
          ],
          "scatter": [
           {
            "fillpattern": {
             "fillmode": "overlay",
             "size": 10,
             "solidity": 0.2
            },
            "type": "scatter"
           }
          ],
          "scatter3d": [
           {
            "line": {
             "colorbar": {
              "outlinewidth": 0,
              "ticks": ""
             }
            },
            "marker": {
             "colorbar": {
              "outlinewidth": 0,
              "ticks": ""
             }
            },
            "type": "scatter3d"
           }
          ],
          "scattercarpet": [
           {
            "marker": {
             "colorbar": {
              "outlinewidth": 0,
              "ticks": ""
             }
            },
            "type": "scattercarpet"
           }
          ],
          "scattergeo": [
           {
            "marker": {
             "colorbar": {
              "outlinewidth": 0,
              "ticks": ""
             }
            },
            "type": "scattergeo"
           }
          ],
          "scattergl": [
           {
            "marker": {
             "colorbar": {
              "outlinewidth": 0,
              "ticks": ""
             }
            },
            "type": "scattergl"
           }
          ],
          "scattermapbox": [
           {
            "marker": {
             "colorbar": {
              "outlinewidth": 0,
              "ticks": ""
             }
            },
            "type": "scattermapbox"
           }
          ],
          "scatterpolar": [
           {
            "marker": {
             "colorbar": {
              "outlinewidth": 0,
              "ticks": ""
             }
            },
            "type": "scatterpolar"
           }
          ],
          "scatterpolargl": [
           {
            "marker": {
             "colorbar": {
              "outlinewidth": 0,
              "ticks": ""
             }
            },
            "type": "scatterpolargl"
           }
          ],
          "scatterternary": [
           {
            "marker": {
             "colorbar": {
              "outlinewidth": 0,
              "ticks": ""
             }
            },
            "type": "scatterternary"
           }
          ],
          "surface": [
           {
            "colorbar": {
             "outlinewidth": 0,
             "ticks": ""
            },
            "colorscale": [
             [
              0,
              "#0d0887"
             ],
             [
              0.1111111111111111,
              "#46039f"
             ],
             [
              0.2222222222222222,
              "#7201a8"
             ],
             [
              0.3333333333333333,
              "#9c179e"
             ],
             [
              0.4444444444444444,
              "#bd3786"
             ],
             [
              0.5555555555555556,
              "#d8576b"
             ],
             [
              0.6666666666666666,
              "#ed7953"
             ],
             [
              0.7777777777777778,
              "#fb9f3a"
             ],
             [
              0.8888888888888888,
              "#fdca26"
             ],
             [
              1,
              "#f0f921"
             ]
            ],
            "type": "surface"
           }
          ],
          "table": [
           {
            "cells": {
             "fill": {
              "color": "#EBF0F8"
             },
             "line": {
              "color": "white"
             }
            },
            "header": {
             "fill": {
              "color": "#C8D4E3"
             },
             "line": {
              "color": "white"
             }
            },
            "type": "table"
           }
          ]
         },
         "layout": {
          "annotationdefaults": {
           "arrowcolor": "#2a3f5f",
           "arrowhead": 0,
           "arrowwidth": 1
          },
          "autotypenumbers": "strict",
          "coloraxis": {
           "colorbar": {
            "outlinewidth": 0,
            "ticks": ""
           }
          },
          "colorscale": {
           "diverging": [
            [
             0,
             "#8e0152"
            ],
            [
             0.1,
             "#c51b7d"
            ],
            [
             0.2,
             "#de77ae"
            ],
            [
             0.3,
             "#f1b6da"
            ],
            [
             0.4,
             "#fde0ef"
            ],
            [
             0.5,
             "#f7f7f7"
            ],
            [
             0.6,
             "#e6f5d0"
            ],
            [
             0.7,
             "#b8e186"
            ],
            [
             0.8,
             "#7fbc41"
            ],
            [
             0.9,
             "#4d9221"
            ],
            [
             1,
             "#276419"
            ]
           ],
           "sequential": [
            [
             0,
             "#0d0887"
            ],
            [
             0.1111111111111111,
             "#46039f"
            ],
            [
             0.2222222222222222,
             "#7201a8"
            ],
            [
             0.3333333333333333,
             "#9c179e"
            ],
            [
             0.4444444444444444,
             "#bd3786"
            ],
            [
             0.5555555555555556,
             "#d8576b"
            ],
            [
             0.6666666666666666,
             "#ed7953"
            ],
            [
             0.7777777777777778,
             "#fb9f3a"
            ],
            [
             0.8888888888888888,
             "#fdca26"
            ],
            [
             1,
             "#f0f921"
            ]
           ],
           "sequentialminus": [
            [
             0,
             "#0d0887"
            ],
            [
             0.1111111111111111,
             "#46039f"
            ],
            [
             0.2222222222222222,
             "#7201a8"
            ],
            [
             0.3333333333333333,
             "#9c179e"
            ],
            [
             0.4444444444444444,
             "#bd3786"
            ],
            [
             0.5555555555555556,
             "#d8576b"
            ],
            [
             0.6666666666666666,
             "#ed7953"
            ],
            [
             0.7777777777777778,
             "#fb9f3a"
            ],
            [
             0.8888888888888888,
             "#fdca26"
            ],
            [
             1,
             "#f0f921"
            ]
           ]
          },
          "colorway": [
           "#636efa",
           "#EF553B",
           "#00cc96",
           "#ab63fa",
           "#FFA15A",
           "#19d3f3",
           "#FF6692",
           "#B6E880",
           "#FF97FF",
           "#FECB52"
          ],
          "font": {
           "color": "#2a3f5f"
          },
          "geo": {
           "bgcolor": "white",
           "lakecolor": "white",
           "landcolor": "#E5ECF6",
           "showlakes": true,
           "showland": true,
           "subunitcolor": "white"
          },
          "hoverlabel": {
           "align": "left"
          },
          "hovermode": "closest",
          "mapbox": {
           "style": "light"
          },
          "paper_bgcolor": "white",
          "plot_bgcolor": "#E5ECF6",
          "polar": {
           "angularaxis": {
            "gridcolor": "white",
            "linecolor": "white",
            "ticks": ""
           },
           "bgcolor": "#E5ECF6",
           "radialaxis": {
            "gridcolor": "white",
            "linecolor": "white",
            "ticks": ""
           }
          },
          "scene": {
           "xaxis": {
            "backgroundcolor": "#E5ECF6",
            "gridcolor": "white",
            "gridwidth": 2,
            "linecolor": "white",
            "showbackground": true,
            "ticks": "",
            "zerolinecolor": "white"
           },
           "yaxis": {
            "backgroundcolor": "#E5ECF6",
            "gridcolor": "white",
            "gridwidth": 2,
            "linecolor": "white",
            "showbackground": true,
            "ticks": "",
            "zerolinecolor": "white"
           },
           "zaxis": {
            "backgroundcolor": "#E5ECF6",
            "gridcolor": "white",
            "gridwidth": 2,
            "linecolor": "white",
            "showbackground": true,
            "ticks": "",
            "zerolinecolor": "white"
           }
          },
          "shapedefaults": {
           "line": {
            "color": "#2a3f5f"
           }
          },
          "ternary": {
           "aaxis": {
            "gridcolor": "white",
            "linecolor": "white",
            "ticks": ""
           },
           "baxis": {
            "gridcolor": "white",
            "linecolor": "white",
            "ticks": ""
           },
           "bgcolor": "#E5ECF6",
           "caxis": {
            "gridcolor": "white",
            "linecolor": "white",
            "ticks": ""
           }
          },
          "title": {
           "x": 0.05
          },
          "xaxis": {
           "automargin": true,
           "gridcolor": "white",
           "linecolor": "white",
           "ticks": "",
           "title": {
            "standoff": 15
           },
           "zerolinecolor": "white",
           "zerolinewidth": 2
          },
          "yaxis": {
           "automargin": true,
           "gridcolor": "white",
           "linecolor": "white",
           "ticks": "",
           "title": {
            "standoff": 15
           },
           "zerolinecolor": "white",
           "zerolinewidth": 2
          }
         }
        },
        "title": {
         "text": "UMAP with DBSCAN"
        },
        "xaxis": {
         "anchor": "y",
         "domain": [
          0,
          1
         ],
         "title": {
          "text": "umap_component_1"
         }
        },
        "yaxis": {
         "anchor": "x",
         "domain": [
          0,
          1
         ],
         "title": {
          "text": "umap_component_2"
         }
        }
       }
      }
     },
     "metadata": {},
     "output_type": "display_data"
    }
   ],
   "source": [
    "from sklearn.cluster import DBSCAN\n",
    "from sklearn.preprocessing import StandardScaler\n",
    "\n",
    "# Function to apply DBSCAN\n",
    "def apply_dbscan(reduced_embeddings, eps=0.6, min_samples=5):\n",
    "    scaler = StandardScaler()\n",
    "    scaled = scaler.fit_transform(reduced_embeddings)\n",
    "    db = DBSCAN(eps=eps, min_samples=min_samples)\n",
    "    labels = db.fit_predict(scaled)\n",
    "    return labels\n",
    "\n",
    "# PCA Visualization with DBSCAN\n",
    "def visualizeEmbeddingsPCA_with_DBSCAN(df, eps=0.55, min_samples=10):\n",
    "    embeddings = np.array(df['embedding'].tolist())\n",
    "    ratings = df['rating_score']\n",
    "    \n",
    "    pca = PCA(n_components=2)\n",
    "    reduced = pca.fit_transform(embeddings)\n",
    "    var1, var2 = pca.explained_variance_ratio_ * 100\n",
    "    \n",
    "    clusters = apply_dbscan(reduced, eps, min_samples)\n",
    "    \n",
    "    plot_df = pd.DataFrame({\n",
    "        'pca_component_1': reduced[:, 0],\n",
    "        'pca_component_2': reduced[:, 1],\n",
    "        'rating_score': ratings,\n",
    "        'pca_cluster': clusters,\n",
    "        'review_id': df.get('review_id', range(len(df)))\n",
    "    })\n",
    "    \n",
    "    fig = px.scatter(\n",
    "        plot_df,\n",
    "        x='pca_component_1',\n",
    "        y='pca_component_2',\n",
    "        color='pca_cluster',\n",
    "        color_continuous_scale='Viridis',\n",
    "        hover_data=['review_id', 'rating_score'],\n",
    "        title=f'PCA with DBSCAN (PCA1: {var1:.1f}%, PCA2: {var2:.1f}%)',\n",
    "        labels={\n",
    "            'PCA 1': f'pca_component_1 ({var1:.1f}% variance)',\n",
    "            'PCA 2': f'pca_component_2 ({var2:.1f}% variance)',\n",
    "            'Cluster': 'pca_cluster'\n",
    "        }\n",
    "    )\n",
    "    \n",
    "    fig.update_layout(\n",
    "        template='plotly_white',\n",
    "        coloraxis_colorbar=dict(title='pca_cluster'),\n",
    "        hovermode='closest'\n",
    "    )\n",
    "    \n",
    "    fig.show()\n",
    "    return plot_df\n",
    "\n",
    "# UMAP Visualization with DBSCAN\n",
    "def visualizeEmbeddingsUMAP_with_DBSCAN(df, eps=0.7, min_samples=10):\n",
    "    embeddings = np.array(df['embedding'].tolist())\n",
    "    sentiment = df['sentiment_label']\n",
    "    \n",
    "    reducer = umap.UMAP(n_neighbors=15, min_dist=0.1, n_components=2, random_state=42)\n",
    "    reduced = reducer.fit_transform(embeddings)\n",
    "    \n",
    "    clusters = apply_dbscan(reduced, eps, min_samples)\n",
    "    \n",
    "    plot_df = pd.DataFrame({\n",
    "        'umap_component_1': reduced[:, 0],\n",
    "        'umap_component_2': reduced[:, 1],\n",
    "        'sentiment': sentiment,\n",
    "        'umap_cluster': clusters,\n",
    "        'review_id': df.get('review_id', range(len(df)))\n",
    "    })\n",
    "    \n",
    "    fig = px.scatter(\n",
    "        plot_df,\n",
    "        x='umap_component_1',\n",
    "        y='umap_component_2',\n",
    "        color='umap_cluster',\n",
    "        color_continuous_scale='Viridis',\n",
    "        hover_data=['sentiment', 'umap_cluster'],\n",
    "        title='UMAP with DBSCAN',\n",
    "        labels={\n",
    "            'UMAP 1': 'umap_component_1',\n",
    "            'UMAP 2': 'umap_component_2',\n",
    "            'Cluster': 'umap_cluster'\n",
    "        },\n",
    "        opacity=0.7\n",
    "    )\n",
    "    \n",
    "    fig.update_layout(\n",
    "        showlegend=True,\n",
    "        legend=dict(title='umap_cluster'),\n",
    "        margin=dict(l=10, r=10, t=40, b=10)\n",
    "    )\n",
    "    \n",
    "    fig.show()\n",
    "    return plot_df\n",
    "\n",
    "# Visualize with DBSCAN clusters\n",
    "pca_clusters = visualizeEmbeddingsPCA_with_DBSCAN(reviews, eps=0.5, min_samples=5)\n",
    "umap_clusters = visualizeEmbeddingsUMAP_with_DBSCAN(reviews, eps=0.5, min_samples=5)\n",
    "\n"
   ]
  },
  {
   "cell_type": "code",
   "execution_count": 186,
   "metadata": {},
   "outputs": [],
   "source": [
    "### Join PCA and UMAP clusters info to reviews\n",
    "reviews = reviews.merge(pca_clusters[['review_id','pca_cluster']]).merge(umap_clusters[['review_id','umap_cluster']])"
   ]
  },
  {
   "cell_type": "markdown",
   "metadata": {},
   "source": [
    "#### Topics"
   ]
  },
  {
   "cell_type": "code",
   "execution_count": 199,
   "metadata": {},
   "outputs": [
    {
     "name": "stdout",
     "output_type": "stream",
     "text": [
      "=== General topics ===\n",
      "Topic 0: 0.024*\"hamburguesa\" + 0.016*\"bien\" + 0.013*\"buena\" + 0.011*\"lugar\" + 0.010*\"bonito\"\n",
      "Topic 1: 0.018*\"hamburguesa\" + 0.009*\"poder\" + 0.008*\"hacer\" + 0.008*\"lugar\" + 0.008*\"genial\"\n",
      "Topic 2: 0.023*\"buen\" + 0.019*\"hamburguesa\" + 0.014*\"servicio\" + 0.013*\"comida\" + 0.011*\"carta\"\n",
      "Topic 3: 0.018*\"hamburguesa\" + 0.018*\"buen\" + 0.011*\"sitio\" + 0.011*\"excelente\" + 0.010*\"mejor\"\n",
      "Topic 4: 0.032*\"buen\" + 0.022*\"comida\" + 0.021*\"lugar\" + 0.020*\"hamburguesa\" + 0.012*\"ambiente\"\n"
     ]
    }
   ],
   "source": [
    "from gensim import corpora\n",
    "from gensim.models import LdaModel\n",
    "\n",
    "# Extract topics using LDA model\n",
    "def analyzeTopicsLDA(df, number_of_topics = 5):\n",
    "   # Prepare corpus for LDA\n",
    "    cleaned_reviews = df['cleaned_review'].dropna().tolist()\n",
    "    tokenized_reviews = [review.split() for review in cleaned_reviews if isinstance(review, str) and review.strip() != '']\n",
    "    \n",
    "    if not tokenized_reviews:\n",
    "        print(\"No valid reviews to process.\")\n",
    "        return None, []\n",
    "    \n",
    "    dictionary = corpora.Dictionary(tokenized_reviews)\n",
    "    if len(dictionary) == 0:\n",
    "        print(\"Dictionary is empty after tokenization.\")\n",
    "        return None, []\n",
    "    \n",
    "    corpus = [dictionary.doc2bow(review) for review in tokenized_reviews]\n",
    "    if not any(corpus):\n",
    "        print(\"Corpus is empty. No terms found in any document.\")\n",
    "        return None, []\n",
    "    \n",
    "    # Train LDA model\n",
    "    try:\n",
    "        lda_model = LdaModel(\n",
    "            corpus,\n",
    "            num_topics=number_of_topics,\n",
    "            id2word=dictionary,\n",
    "            passes=10,\n",
    "            random_state=42\n",
    "        )\n",
    "    except ValueError as e:\n",
    "        print(f\"LDA Model training failed: {e}\")\n",
    "        return None, []\n",
    "    \n",
    "    # Extract topics\n",
    "    topics = lda_model.print_topics(num_words=5)\n",
    "    for topic in topics:\n",
    "        print(f\"Topic {topic[0]}: {topic[1]}\")\n",
    "    return lda_model, topics\n",
    "\n",
    "print('=== General topics ===')\n",
    "lda_model, topics = analyzeTopicsLDA(reviews)"
   ]
  },
  {
   "cell_type": "code",
   "execution_count": 207,
   "metadata": {},
   "outputs": [
    {
     "name": "stdout",
     "output_type": "stream",
     "text": [
      "\n",
      "=== Topics by pca_cluster ===\n",
      "\n",
      "--- pca_cluster = 0 ---\n",
      "Topic 0: 0.024*\"hamburguesa\" + 0.012*\"mejor\" + 0.011*\"sitio\" + 0.009*\"bien\" + 0.008*\"madrid\"\n",
      "Topic 1: 0.030*\"buen\" + 0.020*\"comida\" + 0.019*\"hamburguesa\" + 0.015*\"sitio\" + 0.013*\"precio\"\n",
      "Topic 2: 0.015*\"bien\" + 0.010*\"buen\" + 0.009*\"hamburguesa\" + 0.007*\"servicio\" + 0.006*\"súper\"\n",
      "Topic 3: 0.027*\"buen\" + 0.023*\"hamburguesa\" + 0.022*\"lugar\" + 0.014*\"comida\" + 0.013*\"servicio\"\n",
      "Topic 4: 0.010*\"amplio\" + 0.010*\"ir\" + 0.008*\"servicio\" + 0.007*\"pedir\" + 0.007*\"lugar\"\n",
      "\n",
      "--- pca_cluster = 1 ---\n",
      "Topic 0: 0.250*\"hamburguesa\" + 0.250*\"buena\" + 0.250*\"buen\" + 0.250*\"grande\"\n",
      "Topic 1: 0.471*\"hamburguesa\" + 0.469*\"buena\" + 0.031*\"buen\" + 0.029*\"grande\"\n",
      "Topic 2: 0.250*\"hamburguesa\" + 0.250*\"buen\" + 0.250*\"buena\" + 0.250*\"grande\"\n",
      "Topic 3: 0.256*\"hamburguesa\" + 0.255*\"buena\" + 0.244*\"buen\" + 0.244*\"grande\"\n",
      "Topic 4: 0.471*\"hamburguesa\" + 0.323*\"buen\" + 0.177*\"grande\" + 0.030*\"buena\"\n",
      "\n",
      "--- pca_cluster = 2 ---\n",
      "No valid reviews to process.\n",
      "No topics generated for this group.\n",
      "\n",
      "\n",
      "--- pca_cluster = -1 ---\n",
      "Not enough data to train LDA.\n",
      "\n",
      "=== Topics by umap_cluster ===\n",
      "\n",
      "--- umap_cluster = 0 ---\n",
      "Topic 0: 0.024*\"hamburguesa\" + 0.016*\"bien\" + 0.013*\"buena\" + 0.011*\"lugar\" + 0.010*\"bonito\"\n",
      "Topic 1: 0.018*\"hamburguesa\" + 0.009*\"poder\" + 0.008*\"hacer\" + 0.008*\"lugar\" + 0.008*\"genial\"\n",
      "Topic 2: 0.023*\"buen\" + 0.019*\"hamburguesa\" + 0.014*\"servicio\" + 0.013*\"comida\" + 0.011*\"carta\"\n",
      "Topic 3: 0.018*\"hamburguesa\" + 0.018*\"buen\" + 0.011*\"sitio\" + 0.011*\"excelente\" + 0.010*\"mejor\"\n",
      "Topic 4: 0.032*\"buen\" + 0.022*\"comida\" + 0.021*\"lugar\" + 0.020*\"hamburguesa\" + 0.012*\"ambiente\"\n",
      "\n",
      "--- umap_cluster = 1 ---\n",
      "No valid reviews to process.\n",
      "No topics generated for this group.\n",
      "\n",
      "\n",
      "=== Topics by sentiment_label ===\n",
      "\n",
      "--- sentiment_label = positive ---\n",
      "Topic 0: 0.024*\"hamburguesa\" + 0.019*\"buen\" + 0.015*\"lugar\" + 0.013*\"rico\" + 0.012*\"bien\"\n",
      "Topic 1: 0.018*\"excelente\" + 0.017*\"hamburguesa\" + 0.014*\"bien\" + 0.012*\"lugar\" + 0.012*\"comida\"\n",
      "Topic 2: 0.040*\"buen\" + 0.024*\"hamburguesa\" + 0.017*\"comida\" + 0.012*\"ambiente\" + 0.011*\"poder\"\n",
      "Topic 3: 0.033*\"hamburguesa\" + 0.011*\"calidad\" + 0.011*\"lugar\" + 0.011*\"precio\" + 0.010*\"mejor\"\n",
      "Topic 4: 0.027*\"buen\" + 0.018*\"hamburguesa\" + 0.013*\"sitio\" + 0.013*\"comida\" + 0.010*\"lugar\"\n",
      "\n",
      "--- sentiment_label = neutral ---\n",
      "Topic 0: 0.017*\"variedad\" + 0.017*\"carete\" + 0.017*\"mejor\" + 0.017*\"cobrar\" + 0.017*\"merendar\"\n",
      "Topic 1: 0.016*\"bien\" + 0.016*\"vez\" + 0.016*\"cafetería\" + 0.016*\"joven\" + 0.016*\"preparado\"\n",
      "Topic 2: 0.033*\"buen\" + 0.026*\"hamburguesa\" + 0.026*\"agradable\" + 0.020*\"ambiente\" + 0.020*\"mesa\"\n",
      "Topic 3: 0.028*\"comida\" + 0.017*\"ir\" + 0.017*\"servicio\" + 0.017*\"bueno\" + 0.012*\"plato\"\n",
      "Topic 4: 0.047*\"normal\" + 0.018*\"bien\" + 0.018*\"camarero\" + 0.018*\"decoración\" + 0.018*\"hamburguesa\"\n",
      "\n",
      "--- sentiment_label = negative ---\n",
      "Topic 0: 0.012*\"hacer\" + 0.012*\"menos\" + 0.010*\"brunch\" + 0.010*\"café\" + 0.008*\"pedir\"\n",
      "Topic 1: 0.011*\"mejor\" + 0.011*\"pena\" + 0.011*\"sitio\" + 0.011*\"merecer\" + 0.007*\"ser\"\n",
      "Topic 2: 0.022*\"huevo\" + 0.017*\"precio\" + 0.017*\"pedir\" + 0.017*\"venir\" + 0.011*\"café\"\n",
      "Topic 3: 0.021*\"ir\" + 0.014*\"cenar\" + 0.011*\"servicio\" + 0.011*\"si\" + 0.011*\"mal\"\n",
      "Topic 4: 0.013*\"malo\" + 0.013*\"ver\" + 0.013*\"servicio\" + 0.013*\"café\" + 0.007*\"él\"\n"
     ]
    }
   ],
   "source": [
    "group_columns = ['pca_cluster', 'umap_cluster', 'sentiment_label']\n",
    "\n",
    "# Initialize dictionary to store topics\n",
    "topics_dict = {group_col: {} for group_col in group_columns}\n",
    "\n",
    "# Iterate over each grouping column and generate topics\n",
    "for group_col in group_columns:\n",
    "    print(f\"\\n=== Topics by {group_col} ===\")\n",
    "    unique_groups = reviews[group_col].dropna().unique()\n",
    "    \n",
    "    for group_val in unique_groups:\n",
    "        subset = reviews[reviews[group_col] == group_val]\n",
    "        \n",
    "        # Check if there are enough reviews to train LDA\n",
    "        if len(subset) < 5:\n",
    "            print(f\"\\n--- {group_col} = {group_val} ---\")\n",
    "            print(\"Not enough data to train LDA.\")\n",
    "            continue\n",
    "        \n",
    "        print(f\"\\n--- {group_col} = {group_val} ---\")\n",
    "        \n",
    "        # Generate topics for the current subset\n",
    "        lda_model, topics = analyzeTopicsLDA(subset)\n",
    "        \n",
    "        if lda_model is not None and topics:\n",
    "            # Store topics as strings in the dictionary\n",
    "            topics_strings = [topic[1] for topic in topics]\n",
    "            topics_dict[group_col][group_val] = topics_strings\n",
    "        else:\n",
    "            print(\"No topics generated for this group.\\n\")"
   ]
  },
  {
   "cell_type": "markdown",
   "metadata": {},
   "source": [
    "#### Extract moments with worst rating and process that reviews"
   ]
  },
  {
   "cell_type": "code",
   "execution_count": 237,
   "metadata": {},
   "outputs": [],
   "source": [
    "import pandas as pd\n",
    "\n",
    "# Analyze low scores and extract negative reviews for the selected time period\n",
    "def analyzeLowScores(df, score_column, time_period='month', num_periods=1):\n",
    "    # Group by selected period and calculate average score\n",
    "    avg_scores = df.groupby(time_period)[score_column].mean().sort_values()\n",
    "    # Select the specified number of periods with the lowest average score\n",
    "    low_score_periods = avg_scores.index[:num_periods]\n",
    "    \n",
    "    # Filter negative reviews for the selected periods with the lowest score\n",
    "    period_reviews = df[(df[time_period].isin(low_score_periods)) & (df[score_column] < 3) & (df['sentiment_label'] == 'negative')]\n",
    "    # Drop the 'embedding' column if it exists to avoid issues with non-hashable types\n",
    "    if 'embedding' in period_reviews.columns:\n",
    "        period_reviews = period_reviews.drop(columns=['embedding'])\n",
    "    \n",
    "    # Add a column indicating the period with the lowest score for easier filtering\n",
    "    period_reviews['low_score_period'] = period_reviews[time_period]\n",
    "    period_reviews = period_reviews.sort_values('low_score_period')\n",
    "    return period_reviews\n",
    "\n",
    "# Usage\n",
    "time_period = 'month'  # Change to 'week', 'year', etc. to analyze different periods\n",
    "num_periods = 3  # Number of periods with the lowest average score to select\n",
    "\n",
    "# Analyze for each score type\n",
    "rating_negative_reviews_by_negative_periods = analyzeLowScores(reviews, 'rating_score', time_period, num_periods)\n",
    "food_negative_reviews_by_negative_periods = analyzeLowScores(reviews, 'food_score', time_period, num_periods)\n",
    "service_negative_by_negative_periods = analyzeLowScores(reviews, 'service_score', time_period, num_periods)\n",
    "atmosphere_negative_by_negative_periods = analyzeLowScores(reviews, 'atmosphere_score', time_period, num_periods)"
   ]
  },
  {
   "cell_type": "code",
   "execution_count": 238,
   "metadata": {},
   "outputs": [
    {
     "name": "stdout",
     "output_type": "stream",
     "text": [
      "Topic 0: 1.000*\"estimado\"\n",
      "Topic 0: 0.010*\"menos\" + 0.010*\"café\" + 0.009*\"precio\" + 0.009*\"huevo\" + 0.009*\"hacer\"\n",
      "Topic 0: 0.058*\"cómodo\" + 0.058*\"mesa\" + 0.038*\"parecer\" + 0.038*\"mínimo\" + 0.038*\"podía\"\n",
      "Topic 0: 0.058*\"cómodo\" + 0.058*\"mesa\" + 0.038*\"parecer\" + 0.038*\"mínimo\" + 0.038*\"podía\"\n",
      "Topic 0: 0.081*\"mala\" + 0.054*\"pena\" + 0.054*\"pro\" + 0.054*\"pedir\" + 0.054*\"merecer\"\n"
     ]
    }
   ],
   "source": [
    "# Calculate topics for each low_score_period and concatenate results\n",
    "def generateTopicsPerPeriod(df, score_column, number_of_topics=1):\n",
    "    topics_dict = {score_column: {}}\n",
    "    for period in df['low_score_period'].unique():\n",
    "        period_reviews = df[df['low_score_period'] == period]\n",
    "        # Assuming analyzeTopicsLDA function returns topics as the second output\n",
    "        _, topics = analyzeTopicsLDA(period_reviews, number_of_topics=number_of_topics)\n",
    "        topics_dict[score_column][period] = topics\n",
    "    return topics_dict\n",
    "\n",
    "rating_negative_topics_by_negative_periods = generateTopicsPerPeriod(rating_negative_reviews_by_negative_periods, 'rating_score')\n",
    "food_negative_topics_by_negative_periods = generateTopicsPerPeriod(food_negative_reviews_by_negative_periods, 'rating_score')\n",
    "service_topics_by_negative_periods = generateTopicsPerPeriod(service_negative_by_negative_periods, 'rating_score')\n",
    "atmosphere_topics_by_negative_periods = generateTopicsPerPeriod(atmosphere_negative_by_negative_periods, 'rating_score')"
   ]
  },
  {
   "cell_type": "markdown",
   "metadata": {},
   "source": [
    "#### Extract outliers and pain points"
   ]
  },
  {
   "cell_type": "code",
   "execution_count": null,
   "metadata": {},
   "outputs": [],
   "source": [
    "## extract the reviews with negative sentiment:\n",
    "# each one for very low category score\n",
    "# worst 3 words\n",
    "# worst 3 bigrams\n",
    "\n",
    "# use topics\n"
   ]
  },
  {
   "cell_type": "code",
   "execution_count": null,
   "metadata": {},
   "outputs": [],
   "source": [
    "# put together each one in a string and send it to gpt api to extract the main pain points to improve"
   ]
  },
  {
   "cell_type": "code",
   "execution_count": 209,
   "metadata": {},
   "outputs": [],
   "source": [
    "suggested_prompt = \"Using the provided LDA topics for different aggrupations (UMAP clustering, PCA clustering and sentiment Clustering), generate a list of key strengths and areas for improvement for the venue. The output should be clear, direct, and suitable for stakeholders, avoiding ambiguity. Ensure coherence between positive and negative points, with no contradictions. Organize into 'Key Strengths' and 'Areas for Improvement' with concise, complete ideas. LDA Topics: \""
   ]
  },
  {
   "cell_type": "code",
   "execution_count": 211,
   "metadata": {},
   "outputs": [
    {
     "data": {
      "text/plain": [
       "'Using the provided LDA topics for different aggrupations (UMAP clustering, PCA clustering and sentiment Clustering), generate a list of key strengths and areas for improvement for the venue. The output should be clear, direct, and suitable for stakeholders, avoiding ambiguity. Ensure coherence between positive and negative points, with no contradictions. Organize into \\'Key Strengths\\' and \\'Areas for Improvement\\' with concise, complete ideas. LDA Topics: {\\'pca_cluster\\': {0: [\\'0.024*\"hamburguesa\" + 0.012*\"mejor\" + 0.011*\"sitio\" + 0.009*\"bien\" + 0.008*\"madrid\"\\', \\'0.030*\"buen\" + 0.020*\"comida\" + 0.019*\"hamburguesa\" + 0.015*\"sitio\" + 0.013*\"precio\"\\', \\'0.015*\"bien\" + 0.010*\"buen\" + 0.009*\"hamburguesa\" + 0.007*\"servicio\" + 0.006*\"súper\"\\', \\'0.027*\"buen\" + 0.023*\"hamburguesa\" + 0.022*\"lugar\" + 0.014*\"comida\" + 0.013*\"servicio\"\\', \\'0.010*\"amplio\" + 0.010*\"ir\" + 0.008*\"servicio\" + 0.007*\"pedir\" + 0.007*\"lugar\"\\'], 1: [\\'0.250*\"hamburguesa\" + 0.250*\"buena\" + 0.250*\"buen\" + 0.250*\"grande\"\\', \\'0.471*\"hamburguesa\" + 0.469*\"buena\" + 0.031*\"buen\" + 0.029*\"grande\"\\', \\'0.250*\"hamburguesa\" + 0.250*\"buen\" + 0.250*\"buena\" + 0.250*\"grande\"\\', \\'0.256*\"hamburguesa\" + 0.255*\"buena\" + 0.244*\"buen\" + 0.244*\"grande\"\\', \\'0.471*\"hamburguesa\" + 0.323*\"buen\" + 0.177*\"grande\" + 0.030*\"buena\"\\']}, \\'umap_cluster\\': {0: [\\'0.024*\"hamburguesa\" + 0.016*\"bien\" + 0.013*\"buena\" + 0.011*\"lugar\" + 0.010*\"bonito\"\\', \\'0.018*\"hamburguesa\" + 0.009*\"poder\" + 0.008*\"hacer\" + 0.008*\"lugar\" + 0.008*\"genial\"\\', \\'0.023*\"buen\" + 0.019*\"hamburguesa\" + 0.014*\"servicio\" + 0.013*\"comida\" + 0.011*\"carta\"\\', \\'0.018*\"hamburguesa\" + 0.018*\"buen\" + 0.011*\"sitio\" + 0.011*\"excelente\" + 0.010*\"mejor\"\\', \\'0.032*\"buen\" + 0.022*\"comida\" + 0.021*\"lugar\" + 0.020*\"hamburguesa\" + 0.012*\"ambiente\"\\']}, \\'sentiment_label\\': {\\'positive\\': [\\'0.024*\"hamburguesa\" + 0.019*\"buen\" + 0.015*\"lugar\" + 0.013*\"rico\" + 0.012*\"bien\"\\', \\'0.018*\"excelente\" + 0.017*\"hamburguesa\" + 0.014*\"bien\" + 0.012*\"lugar\" + 0.012*\"comida\"\\', \\'0.040*\"buen\" + 0.024*\"hamburguesa\" + 0.017*\"comida\" + 0.012*\"ambiente\" + 0.011*\"poder\"\\', \\'0.033*\"hamburguesa\" + 0.011*\"calidad\" + 0.011*\"lugar\" + 0.011*\"precio\" + 0.010*\"mejor\"\\', \\'0.027*\"buen\" + 0.018*\"hamburguesa\" + 0.013*\"sitio\" + 0.013*\"comida\" + 0.010*\"lugar\"\\'], \\'neutral\\': [\\'0.017*\"variedad\" + 0.017*\"carete\" + 0.017*\"mejor\" + 0.017*\"cobrar\" + 0.017*\"merendar\"\\', \\'0.016*\"bien\" + 0.016*\"vez\" + 0.016*\"cafetería\" + 0.016*\"joven\" + 0.016*\"preparado\"\\', \\'0.033*\"buen\" + 0.026*\"hamburguesa\" + 0.026*\"agradable\" + 0.020*\"ambiente\" + 0.020*\"mesa\"\\', \\'0.028*\"comida\" + 0.017*\"ir\" + 0.017*\"servicio\" + 0.017*\"bueno\" + 0.012*\"plato\"\\', \\'0.047*\"normal\" + 0.018*\"bien\" + 0.018*\"camarero\" + 0.018*\"decoración\" + 0.018*\"hamburguesa\"\\'], \\'negative\\': [\\'0.012*\"hacer\" + 0.012*\"menos\" + 0.010*\"brunch\" + 0.010*\"café\" + 0.008*\"pedir\"\\', \\'0.011*\"mejor\" + 0.011*\"pena\" + 0.011*\"sitio\" + 0.011*\"merecer\" + 0.007*\"ser\"\\', \\'0.022*\"huevo\" + 0.017*\"precio\" + 0.017*\"pedir\" + 0.017*\"venir\" + 0.011*\"café\"\\', \\'0.021*\"ir\" + 0.014*\"cenar\" + 0.011*\"servicio\" + 0.011*\"si\" + 0.011*\"mal\"\\', \\'0.013*\"malo\" + 0.013*\"ver\" + 0.013*\"servicio\" + 0.013*\"café\" + 0.007*\"él\"\\']}}'"
      ]
     },
     "execution_count": 211,
     "metadata": {},
     "output_type": "execute_result"
    }
   ],
   "source": [
    "suggested_prompt + str(topics_dict)"
   ]
  },
  {
   "cell_type": "code",
   "execution_count": 229,
   "metadata": {},
   "outputs": [
    {
     "data": {
      "text/plain": [
       "{'pca_cluster': {0: ['0.024*\"hamburguesa\" + 0.012*\"mejor\" + 0.011*\"sitio\" + 0.009*\"bien\" + 0.008*\"madrid\"',\n",
       "   '0.030*\"buen\" + 0.020*\"comida\" + 0.019*\"hamburguesa\" + 0.015*\"sitio\" + 0.013*\"precio\"',\n",
       "   '0.015*\"bien\" + 0.010*\"buen\" + 0.009*\"hamburguesa\" + 0.007*\"servicio\" + 0.006*\"súper\"',\n",
       "   '0.027*\"buen\" + 0.023*\"hamburguesa\" + 0.022*\"lugar\" + 0.014*\"comida\" + 0.013*\"servicio\"',\n",
       "   '0.010*\"amplio\" + 0.010*\"ir\" + 0.008*\"servicio\" + 0.007*\"pedir\" + 0.007*\"lugar\"'],\n",
       "  1: ['0.250*\"hamburguesa\" + 0.250*\"buena\" + 0.250*\"buen\" + 0.250*\"grande\"',\n",
       "   '0.471*\"hamburguesa\" + 0.469*\"buena\" + 0.031*\"buen\" + 0.029*\"grande\"',\n",
       "   '0.250*\"hamburguesa\" + 0.250*\"buen\" + 0.250*\"buena\" + 0.250*\"grande\"',\n",
       "   '0.256*\"hamburguesa\" + 0.255*\"buena\" + 0.244*\"buen\" + 0.244*\"grande\"',\n",
       "   '0.471*\"hamburguesa\" + 0.323*\"buen\" + 0.177*\"grande\" + 0.030*\"buena\"']},\n",
       " 'umap_cluster': {0: ['0.024*\"hamburguesa\" + 0.016*\"bien\" + 0.013*\"buena\" + 0.011*\"lugar\" + 0.010*\"bonito\"',\n",
       "   '0.018*\"hamburguesa\" + 0.009*\"poder\" + 0.008*\"hacer\" + 0.008*\"lugar\" + 0.008*\"genial\"',\n",
       "   '0.023*\"buen\" + 0.019*\"hamburguesa\" + 0.014*\"servicio\" + 0.013*\"comida\" + 0.011*\"carta\"',\n",
       "   '0.018*\"hamburguesa\" + 0.018*\"buen\" + 0.011*\"sitio\" + 0.011*\"excelente\" + 0.010*\"mejor\"',\n",
       "   '0.032*\"buen\" + 0.022*\"comida\" + 0.021*\"lugar\" + 0.020*\"hamburguesa\" + 0.012*\"ambiente\"']},\n",
       " 'sentiment_label': {'positive': ['0.024*\"hamburguesa\" + 0.019*\"buen\" + 0.015*\"lugar\" + 0.013*\"rico\" + 0.012*\"bien\"',\n",
       "   '0.018*\"excelente\" + 0.017*\"hamburguesa\" + 0.014*\"bien\" + 0.012*\"lugar\" + 0.012*\"comida\"',\n",
       "   '0.040*\"buen\" + 0.024*\"hamburguesa\" + 0.017*\"comida\" + 0.012*\"ambiente\" + 0.011*\"poder\"',\n",
       "   '0.033*\"hamburguesa\" + 0.011*\"calidad\" + 0.011*\"lugar\" + 0.011*\"precio\" + 0.010*\"mejor\"',\n",
       "   '0.027*\"buen\" + 0.018*\"hamburguesa\" + 0.013*\"sitio\" + 0.013*\"comida\" + 0.010*\"lugar\"'],\n",
       "  'neutral': ['0.017*\"variedad\" + 0.017*\"carete\" + 0.017*\"mejor\" + 0.017*\"cobrar\" + 0.017*\"merendar\"',\n",
       "   '0.016*\"bien\" + 0.016*\"vez\" + 0.016*\"cafetería\" + 0.016*\"joven\" + 0.016*\"preparado\"',\n",
       "   '0.033*\"buen\" + 0.026*\"hamburguesa\" + 0.026*\"agradable\" + 0.020*\"ambiente\" + 0.020*\"mesa\"',\n",
       "   '0.028*\"comida\" + 0.017*\"ir\" + 0.017*\"servicio\" + 0.017*\"bueno\" + 0.012*\"plato\"',\n",
       "   '0.047*\"normal\" + 0.018*\"bien\" + 0.018*\"camarero\" + 0.018*\"decoración\" + 0.018*\"hamburguesa\"'],\n",
       "  'negative': ['0.012*\"hacer\" + 0.012*\"menos\" + 0.010*\"brunch\" + 0.010*\"café\" + 0.008*\"pedir\"',\n",
       "   '0.011*\"mejor\" + 0.011*\"pena\" + 0.011*\"sitio\" + 0.011*\"merecer\" + 0.007*\"ser\"',\n",
       "   '0.022*\"huevo\" + 0.017*\"precio\" + 0.017*\"pedir\" + 0.017*\"venir\" + 0.011*\"café\"',\n",
       "   '0.021*\"ir\" + 0.014*\"cenar\" + 0.011*\"servicio\" + 0.011*\"si\" + 0.011*\"mal\"',\n",
       "   '0.013*\"malo\" + 0.013*\"ver\" + 0.013*\"servicio\" + 0.013*\"café\" + 0.007*\"él\"']}}"
      ]
     },
     "execution_count": 229,
     "metadata": {},
     "output_type": "execute_result"
    }
   ],
   "source": [
    "topics_dict"
   ]
  }
 ],
 "metadata": {
  "kernelspec": {
   "display_name": "sar",
   "language": "python",
   "name": "python3"
  },
  "language_info": {
   "codemirror_mode": {
    "name": "ipython",
    "version": 3
   },
   "file_extension": ".py",
   "mimetype": "text/x-python",
   "name": "python",
   "nbconvert_exporter": "python",
   "pygments_lexer": "ipython3",
   "version": "3.9.19"
  }
 },
 "nbformat": 4,
 "nbformat_minor": 2
}
