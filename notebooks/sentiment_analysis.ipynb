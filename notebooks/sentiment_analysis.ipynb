{
 "cells": [
  {
   "cell_type": "code",
   "execution_count": 143,
   "metadata": {},
   "outputs": [],
   "source": [
    "import pandas as pd\n",
    "import numpy as np\n",
    "import re\n",
    "import ast\n",
    "\n",
    "import datetime\n",
    "\n",
    "import matplotlib.pyplot as plt\n",
    "import seaborn as sns\n",
    "import plotly.graph_objects as go\n",
    "import plotly.express as px\n",
    "from plotly.subplots import make_subplots"
   ]
  },
  {
   "cell_type": "code",
   "execution_count": 144,
   "metadata": {},
   "outputs": [
    {
     "data": {
      "text/html": [
       "<div>\n",
       "<style scoped>\n",
       "    .dataframe tbody tr th:only-of-type {\n",
       "        vertical-align: middle;\n",
       "    }\n",
       "\n",
       "    .dataframe tbody tr th {\n",
       "        vertical-align: top;\n",
       "    }\n",
       "\n",
       "    .dataframe thead th {\n",
       "        text-align: right;\n",
       "    }\n",
       "</style>\n",
       "<table border=\"1\" class=\"dataframe\">\n",
       "  <thead>\n",
       "    <tr style=\"text-align: right;\">\n",
       "      <th></th>\n",
       "      <th>stars</th>\n",
       "      <th>reviews</th>\n",
       "    </tr>\n",
       "  </thead>\n",
       "  <tbody>\n",
       "    <tr>\n",
       "      <th>0</th>\n",
       "      <td>5</td>\n",
       "      <td>2290</td>\n",
       "    </tr>\n",
       "    <tr>\n",
       "      <th>1</th>\n",
       "      <td>4</td>\n",
       "      <td>1308</td>\n",
       "    </tr>\n",
       "    <tr>\n",
       "      <th>2</th>\n",
       "      <td>3</td>\n",
       "      <td>396</td>\n",
       "    </tr>\n",
       "    <tr>\n",
       "      <th>3</th>\n",
       "      <td>2</td>\n",
       "      <td>132</td>\n",
       "    </tr>\n",
       "    <tr>\n",
       "      <th>4</th>\n",
       "      <td>1</td>\n",
       "      <td>128</td>\n",
       "    </tr>\n",
       "  </tbody>\n",
       "</table>\n",
       "</div>"
      ],
      "text/plain": [
       "   stars  reviews\n",
       "0      5     2290\n",
       "1      4     1308\n",
       "2      3      396\n",
       "3      2      132\n",
       "4      1      128"
      ]
     },
     "metadata": {},
     "output_type": "display_data"
    },
    {
     "data": {
      "text/html": [
       "<div>\n",
       "<style scoped>\n",
       "    .dataframe tbody tr th:only-of-type {\n",
       "        vertical-align: middle;\n",
       "    }\n",
       "\n",
       "    .dataframe tbody tr th {\n",
       "        vertical-align: top;\n",
       "    }\n",
       "\n",
       "    .dataframe thead th {\n",
       "        text-align: right;\n",
       "    }\n",
       "</style>\n",
       "<table border=\"1\" class=\"dataframe\">\n",
       "  <thead>\n",
       "    <tr style=\"text-align: right;\">\n",
       "      <th></th>\n",
       "      <th>review_id</th>\n",
       "      <th>review</th>\n",
       "      <th>local_guide_reviews</th>\n",
       "      <th>rating_score</th>\n",
       "      <th>service</th>\n",
       "      <th>meal_type</th>\n",
       "      <th>price_per_person_category</th>\n",
       "      <th>food_score</th>\n",
       "      <th>service_score</th>\n",
       "      <th>atmosphere_score</th>\n",
       "      <th>recommendations_list</th>\n",
       "      <th>date</th>\n",
       "      <th>avg_price_per_person</th>\n",
       "    </tr>\n",
       "  </thead>\n",
       "  <tbody>\n",
       "    <tr>\n",
       "      <th>157</th>\n",
       "      <td>157</td>\n",
       "      <td>De esos sitios que tienen malas maneras los em...</td>\n",
       "      <td>219.0</td>\n",
       "      <td>1.0</td>\n",
       "      <td>Comí allí</td>\n",
       "      <td>Otro</td>\n",
       "      <td>10-20 €</td>\n",
       "      <td>2.0</td>\n",
       "      <td>1.0</td>\n",
       "      <td>2.0</td>\n",
       "      <td>['']</td>\n",
       "      <td>2024-02-01</td>\n",
       "      <td>20.0</td>\n",
       "    </tr>\n",
       "    <tr>\n",
       "      <th>51</th>\n",
       "      <td>51</td>\n",
       "      <td>Una cafetería con un ambiente agradable.  Iba ...</td>\n",
       "      <td>651.0</td>\n",
       "      <td>5.0</td>\n",
       "      <td>NaN</td>\n",
       "      <td>Otro</td>\n",
       "      <td>10-20 €</td>\n",
       "      <td>5.0</td>\n",
       "      <td>5.0</td>\n",
       "      <td>5.0</td>\n",
       "      <td>['']</td>\n",
       "      <td>2024-02-01</td>\n",
       "      <td>20.0</td>\n",
       "    </tr>\n",
       "    <tr>\n",
       "      <th>20</th>\n",
       "      <td>20</td>\n",
       "      <td>Siguiendo recomendaciones decidí visitar hoy D...</td>\n",
       "      <td>33.0</td>\n",
       "      <td>5.0</td>\n",
       "      <td>Comí allí</td>\n",
       "      <td>Cena</td>\n",
       "      <td>20-30 €</td>\n",
       "      <td>5.0</td>\n",
       "      <td>5.0</td>\n",
       "      <td>5.0</td>\n",
       "      <td>['Sándwich de Pollo Frito', 'Hamburguesa Compl...</td>\n",
       "      <td>2024-01-01</td>\n",
       "      <td>30.0</td>\n",
       "    </tr>\n",
       "    <tr>\n",
       "      <th>346</th>\n",
       "      <td>346</td>\n",
       "      <td>NaN</td>\n",
       "      <td>348.0</td>\n",
       "      <td>4.0</td>\n",
       "      <td>NaN</td>\n",
       "      <td>NaN</td>\n",
       "      <td>NaN</td>\n",
       "      <td>2.0</td>\n",
       "      <td>4.0</td>\n",
       "      <td>3.0</td>\n",
       "      <td>['']</td>\n",
       "      <td>2023-11-01</td>\n",
       "      <td>NaN</td>\n",
       "    </tr>\n",
       "    <tr>\n",
       "      <th>66</th>\n",
       "      <td>66</td>\n",
       "      <td>Hamburguesas buenísimas, como siempre. El mil ...</td>\n",
       "      <td>427.0</td>\n",
       "      <td>4.0</td>\n",
       "      <td>NaN</td>\n",
       "      <td>NaN</td>\n",
       "      <td>NaN</td>\n",
       "      <td>NaN</td>\n",
       "      <td>NaN</td>\n",
       "      <td>NaN</td>\n",
       "      <td>['']</td>\n",
       "      <td>2018-01-01</td>\n",
       "      <td>NaN</td>\n",
       "    </tr>\n",
       "  </tbody>\n",
       "</table>\n",
       "</div>"
      ],
      "text/plain": [
       "     review_id                                             review  \\\n",
       "157        157  De esos sitios que tienen malas maneras los em...   \n",
       "51          51  Una cafetería con un ambiente agradable.  Iba ...   \n",
       "20          20  Siguiendo recomendaciones decidí visitar hoy D...   \n",
       "346        346                                                NaN   \n",
       "66          66  Hamburguesas buenísimas, como siempre. El mil ...   \n",
       "\n",
       "     local_guide_reviews  rating_score    service meal_type  \\\n",
       "157                219.0           1.0  Comí allí      Otro   \n",
       "51                 651.0           5.0        NaN      Otro   \n",
       "20                  33.0           5.0  Comí allí      Cena   \n",
       "346                348.0           4.0        NaN       NaN   \n",
       "66                 427.0           4.0        NaN       NaN   \n",
       "\n",
       "    price_per_person_category  food_score  service_score  atmosphere_score  \\\n",
       "157                   10-20 €         2.0            1.0               2.0   \n",
       "51                    10-20 €         5.0            5.0               5.0   \n",
       "20                    20-30 €         5.0            5.0               5.0   \n",
       "346                       NaN         2.0            4.0               3.0   \n",
       "66                        NaN         NaN            NaN               NaN   \n",
       "\n",
       "                                  recommendations_list        date  \\\n",
       "157                                               ['']  2024-02-01   \n",
       "51                                                ['']  2024-02-01   \n",
       "20   ['Sándwich de Pollo Frito', 'Hamburguesa Compl...  2024-01-01   \n",
       "346                                               ['']  2023-11-01   \n",
       "66                                                ['']  2018-01-01   \n",
       "\n",
       "     avg_price_per_person  \n",
       "157                  20.0  \n",
       "51                   20.0  \n",
       "20                   30.0  \n",
       "346                   NaN  \n",
       "66                    NaN  "
      ]
     },
     "metadata": {},
     "output_type": "display_data"
    }
   ],
   "source": [
    "processed_data_path = '../data/processed/'\n",
    "raw_data_path = '../data/raw/'\n",
    "\n",
    "name = 'hd'\n",
    "\n",
    "reviews_pro = pd.read_csv(processed_data_path + name + '_reviews.csv')\n",
    "resumme_raw = pd.read_csv(raw_data_path + 'resumme_' + name + '.csv')\n",
    "\n",
    "display(resumme_raw)\n",
    "display(reviews_pro.sample(5))\n",
    "\n",
    "reviews = reviews_pro.copy()\n",
    "resumme = resumme_raw.copy()"
   ]
  },
  {
   "cell_type": "markdown",
   "metadata": {},
   "source": [
    "### First draft summary plots "
   ]
  },
  {
   "cell_type": "code",
   "execution_count": 145,
   "metadata": {},
   "outputs": [
    {
     "data": {
      "application/vnd.plotly.v1+json": {
       "config": {
        "plotlyServerURL": "https://plot.ly"
       },
       "data": [
        {
         "mode": "text",
         "text": [
          "4.29"
         ],
         "textfont": {
          "size": 120
         },
         "type": "scatter",
         "x": [
          0
         ],
         "xaxis": "x",
         "y": [
          0
         ],
         "yaxis": "y"
        },
        {
         "marker": {
          "color": "lightskyblue"
         },
         "name": "Reviews",
         "orientation": "h",
         "text": [
          2290,
          1308,
          396,
          132,
          128
         ],
         "textposition": "auto",
         "type": "bar",
         "x": [
          2290,
          1308,
          396,
          132,
          128
         ],
         "xaxis": "x2",
         "y": [
          5,
          4,
          3,
          2,
          1
         ],
         "yaxis": "y2"
        },
        {
         "marker": {
          "color": "lightgreen"
         },
         "name": "Categories",
         "orientation": "h",
         "text": [
          "4.37",
          "4.51",
          "4.47"
         ],
         "textposition": "auto",
         "type": "bar",
         "x": [
          4.366412213740458,
          4.511111111111111,
          4.470149253731344
         ],
         "xaxis": "x3",
         "y": [
          "Food",
          "Service",
          "Atmosphere"
         ],
         "yaxis": "y3"
        }
       ],
       "layout": {
        "annotations": [
         {
          "font": {
           "size": 16
          },
          "showarrow": false,
          "text": "Average Score",
          "x": 0.14444444444444446,
          "xanchor": "center",
          "xref": "paper",
          "y": 1,
          "yanchor": "bottom",
          "yref": "paper"
         },
         {
          "font": {
           "size": 16
          },
          "showarrow": false,
          "text": "Number of Reviews",
          "x": 0.5,
          "xanchor": "center",
          "xref": "paper",
          "y": 1,
          "yanchor": "bottom",
          "yref": "paper"
         },
         {
          "font": {
           "size": 16
          },
          "showarrow": false,
          "text": "Categories",
          "x": 0.8555555555555556,
          "xanchor": "center",
          "xref": "paper",
          "y": 1,
          "yanchor": "bottom",
          "yref": "paper"
         }
        ],
        "height": 500,
        "paper_bgcolor": "white",
        "plot_bgcolor": "white",
        "showlegend": false,
        "template": {
         "data": {
          "bar": [
           {
            "error_x": {
             "color": "#2a3f5f"
            },
            "error_y": {
             "color": "#2a3f5f"
            },
            "marker": {
             "line": {
              "color": "#E5ECF6",
              "width": 0.5
             },
             "pattern": {
              "fillmode": "overlay",
              "size": 10,
              "solidity": 0.2
             }
            },
            "type": "bar"
           }
          ],
          "barpolar": [
           {
            "marker": {
             "line": {
              "color": "#E5ECF6",
              "width": 0.5
             },
             "pattern": {
              "fillmode": "overlay",
              "size": 10,
              "solidity": 0.2
             }
            },
            "type": "barpolar"
           }
          ],
          "carpet": [
           {
            "aaxis": {
             "endlinecolor": "#2a3f5f",
             "gridcolor": "white",
             "linecolor": "white",
             "minorgridcolor": "white",
             "startlinecolor": "#2a3f5f"
            },
            "baxis": {
             "endlinecolor": "#2a3f5f",
             "gridcolor": "white",
             "linecolor": "white",
             "minorgridcolor": "white",
             "startlinecolor": "#2a3f5f"
            },
            "type": "carpet"
           }
          ],
          "choropleth": [
           {
            "colorbar": {
             "outlinewidth": 0,
             "ticks": ""
            },
            "type": "choropleth"
           }
          ],
          "contour": [
           {
            "colorbar": {
             "outlinewidth": 0,
             "ticks": ""
            },
            "colorscale": [
             [
              0,
              "#0d0887"
             ],
             [
              0.1111111111111111,
              "#46039f"
             ],
             [
              0.2222222222222222,
              "#7201a8"
             ],
             [
              0.3333333333333333,
              "#9c179e"
             ],
             [
              0.4444444444444444,
              "#bd3786"
             ],
             [
              0.5555555555555556,
              "#d8576b"
             ],
             [
              0.6666666666666666,
              "#ed7953"
             ],
             [
              0.7777777777777778,
              "#fb9f3a"
             ],
             [
              0.8888888888888888,
              "#fdca26"
             ],
             [
              1,
              "#f0f921"
             ]
            ],
            "type": "contour"
           }
          ],
          "contourcarpet": [
           {
            "colorbar": {
             "outlinewidth": 0,
             "ticks": ""
            },
            "type": "contourcarpet"
           }
          ],
          "heatmap": [
           {
            "colorbar": {
             "outlinewidth": 0,
             "ticks": ""
            },
            "colorscale": [
             [
              0,
              "#0d0887"
             ],
             [
              0.1111111111111111,
              "#46039f"
             ],
             [
              0.2222222222222222,
              "#7201a8"
             ],
             [
              0.3333333333333333,
              "#9c179e"
             ],
             [
              0.4444444444444444,
              "#bd3786"
             ],
             [
              0.5555555555555556,
              "#d8576b"
             ],
             [
              0.6666666666666666,
              "#ed7953"
             ],
             [
              0.7777777777777778,
              "#fb9f3a"
             ],
             [
              0.8888888888888888,
              "#fdca26"
             ],
             [
              1,
              "#f0f921"
             ]
            ],
            "type": "heatmap"
           }
          ],
          "heatmapgl": [
           {
            "colorbar": {
             "outlinewidth": 0,
             "ticks": ""
            },
            "colorscale": [
             [
              0,
              "#0d0887"
             ],
             [
              0.1111111111111111,
              "#46039f"
             ],
             [
              0.2222222222222222,
              "#7201a8"
             ],
             [
              0.3333333333333333,
              "#9c179e"
             ],
             [
              0.4444444444444444,
              "#bd3786"
             ],
             [
              0.5555555555555556,
              "#d8576b"
             ],
             [
              0.6666666666666666,
              "#ed7953"
             ],
             [
              0.7777777777777778,
              "#fb9f3a"
             ],
             [
              0.8888888888888888,
              "#fdca26"
             ],
             [
              1,
              "#f0f921"
             ]
            ],
            "type": "heatmapgl"
           }
          ],
          "histogram": [
           {
            "marker": {
             "pattern": {
              "fillmode": "overlay",
              "size": 10,
              "solidity": 0.2
             }
            },
            "type": "histogram"
           }
          ],
          "histogram2d": [
           {
            "colorbar": {
             "outlinewidth": 0,
             "ticks": ""
            },
            "colorscale": [
             [
              0,
              "#0d0887"
             ],
             [
              0.1111111111111111,
              "#46039f"
             ],
             [
              0.2222222222222222,
              "#7201a8"
             ],
             [
              0.3333333333333333,
              "#9c179e"
             ],
             [
              0.4444444444444444,
              "#bd3786"
             ],
             [
              0.5555555555555556,
              "#d8576b"
             ],
             [
              0.6666666666666666,
              "#ed7953"
             ],
             [
              0.7777777777777778,
              "#fb9f3a"
             ],
             [
              0.8888888888888888,
              "#fdca26"
             ],
             [
              1,
              "#f0f921"
             ]
            ],
            "type": "histogram2d"
           }
          ],
          "histogram2dcontour": [
           {
            "colorbar": {
             "outlinewidth": 0,
             "ticks": ""
            },
            "colorscale": [
             [
              0,
              "#0d0887"
             ],
             [
              0.1111111111111111,
              "#46039f"
             ],
             [
              0.2222222222222222,
              "#7201a8"
             ],
             [
              0.3333333333333333,
              "#9c179e"
             ],
             [
              0.4444444444444444,
              "#bd3786"
             ],
             [
              0.5555555555555556,
              "#d8576b"
             ],
             [
              0.6666666666666666,
              "#ed7953"
             ],
             [
              0.7777777777777778,
              "#fb9f3a"
             ],
             [
              0.8888888888888888,
              "#fdca26"
             ],
             [
              1,
              "#f0f921"
             ]
            ],
            "type": "histogram2dcontour"
           }
          ],
          "mesh3d": [
           {
            "colorbar": {
             "outlinewidth": 0,
             "ticks": ""
            },
            "type": "mesh3d"
           }
          ],
          "parcoords": [
           {
            "line": {
             "colorbar": {
              "outlinewidth": 0,
              "ticks": ""
             }
            },
            "type": "parcoords"
           }
          ],
          "pie": [
           {
            "automargin": true,
            "type": "pie"
           }
          ],
          "scatter": [
           {
            "fillpattern": {
             "fillmode": "overlay",
             "size": 10,
             "solidity": 0.2
            },
            "type": "scatter"
           }
          ],
          "scatter3d": [
           {
            "line": {
             "colorbar": {
              "outlinewidth": 0,
              "ticks": ""
             }
            },
            "marker": {
             "colorbar": {
              "outlinewidth": 0,
              "ticks": ""
             }
            },
            "type": "scatter3d"
           }
          ],
          "scattercarpet": [
           {
            "marker": {
             "colorbar": {
              "outlinewidth": 0,
              "ticks": ""
             }
            },
            "type": "scattercarpet"
           }
          ],
          "scattergeo": [
           {
            "marker": {
             "colorbar": {
              "outlinewidth": 0,
              "ticks": ""
             }
            },
            "type": "scattergeo"
           }
          ],
          "scattergl": [
           {
            "marker": {
             "colorbar": {
              "outlinewidth": 0,
              "ticks": ""
             }
            },
            "type": "scattergl"
           }
          ],
          "scattermapbox": [
           {
            "marker": {
             "colorbar": {
              "outlinewidth": 0,
              "ticks": ""
             }
            },
            "type": "scattermapbox"
           }
          ],
          "scatterpolar": [
           {
            "marker": {
             "colorbar": {
              "outlinewidth": 0,
              "ticks": ""
             }
            },
            "type": "scatterpolar"
           }
          ],
          "scatterpolargl": [
           {
            "marker": {
             "colorbar": {
              "outlinewidth": 0,
              "ticks": ""
             }
            },
            "type": "scatterpolargl"
           }
          ],
          "scatterternary": [
           {
            "marker": {
             "colorbar": {
              "outlinewidth": 0,
              "ticks": ""
             }
            },
            "type": "scatterternary"
           }
          ],
          "surface": [
           {
            "colorbar": {
             "outlinewidth": 0,
             "ticks": ""
            },
            "colorscale": [
             [
              0,
              "#0d0887"
             ],
             [
              0.1111111111111111,
              "#46039f"
             ],
             [
              0.2222222222222222,
              "#7201a8"
             ],
             [
              0.3333333333333333,
              "#9c179e"
             ],
             [
              0.4444444444444444,
              "#bd3786"
             ],
             [
              0.5555555555555556,
              "#d8576b"
             ],
             [
              0.6666666666666666,
              "#ed7953"
             ],
             [
              0.7777777777777778,
              "#fb9f3a"
             ],
             [
              0.8888888888888888,
              "#fdca26"
             ],
             [
              1,
              "#f0f921"
             ]
            ],
            "type": "surface"
           }
          ],
          "table": [
           {
            "cells": {
             "fill": {
              "color": "#EBF0F8"
             },
             "line": {
              "color": "white"
             }
            },
            "header": {
             "fill": {
              "color": "#C8D4E3"
             },
             "line": {
              "color": "white"
             }
            },
            "type": "table"
           }
          ]
         },
         "layout": {
          "annotationdefaults": {
           "arrowcolor": "#2a3f5f",
           "arrowhead": 0,
           "arrowwidth": 1
          },
          "autotypenumbers": "strict",
          "coloraxis": {
           "colorbar": {
            "outlinewidth": 0,
            "ticks": ""
           }
          },
          "colorscale": {
           "diverging": [
            [
             0,
             "#8e0152"
            ],
            [
             0.1,
             "#c51b7d"
            ],
            [
             0.2,
             "#de77ae"
            ],
            [
             0.3,
             "#f1b6da"
            ],
            [
             0.4,
             "#fde0ef"
            ],
            [
             0.5,
             "#f7f7f7"
            ],
            [
             0.6,
             "#e6f5d0"
            ],
            [
             0.7,
             "#b8e186"
            ],
            [
             0.8,
             "#7fbc41"
            ],
            [
             0.9,
             "#4d9221"
            ],
            [
             1,
             "#276419"
            ]
           ],
           "sequential": [
            [
             0,
             "#0d0887"
            ],
            [
             0.1111111111111111,
             "#46039f"
            ],
            [
             0.2222222222222222,
             "#7201a8"
            ],
            [
             0.3333333333333333,
             "#9c179e"
            ],
            [
             0.4444444444444444,
             "#bd3786"
            ],
            [
             0.5555555555555556,
             "#d8576b"
            ],
            [
             0.6666666666666666,
             "#ed7953"
            ],
            [
             0.7777777777777778,
             "#fb9f3a"
            ],
            [
             0.8888888888888888,
             "#fdca26"
            ],
            [
             1,
             "#f0f921"
            ]
           ],
           "sequentialminus": [
            [
             0,
             "#0d0887"
            ],
            [
             0.1111111111111111,
             "#46039f"
            ],
            [
             0.2222222222222222,
             "#7201a8"
            ],
            [
             0.3333333333333333,
             "#9c179e"
            ],
            [
             0.4444444444444444,
             "#bd3786"
            ],
            [
             0.5555555555555556,
             "#d8576b"
            ],
            [
             0.6666666666666666,
             "#ed7953"
            ],
            [
             0.7777777777777778,
             "#fb9f3a"
            ],
            [
             0.8888888888888888,
             "#fdca26"
            ],
            [
             1,
             "#f0f921"
            ]
           ]
          },
          "colorway": [
           "#636efa",
           "#EF553B",
           "#00cc96",
           "#ab63fa",
           "#FFA15A",
           "#19d3f3",
           "#FF6692",
           "#B6E880",
           "#FF97FF",
           "#FECB52"
          ],
          "font": {
           "color": "#2a3f5f"
          },
          "geo": {
           "bgcolor": "white",
           "lakecolor": "white",
           "landcolor": "#E5ECF6",
           "showlakes": true,
           "showland": true,
           "subunitcolor": "white"
          },
          "hoverlabel": {
           "align": "left"
          },
          "hovermode": "closest",
          "mapbox": {
           "style": "light"
          },
          "paper_bgcolor": "white",
          "plot_bgcolor": "#E5ECF6",
          "polar": {
           "angularaxis": {
            "gridcolor": "white",
            "linecolor": "white",
            "ticks": ""
           },
           "bgcolor": "#E5ECF6",
           "radialaxis": {
            "gridcolor": "white",
            "linecolor": "white",
            "ticks": ""
           }
          },
          "scene": {
           "xaxis": {
            "backgroundcolor": "#E5ECF6",
            "gridcolor": "white",
            "gridwidth": 2,
            "linecolor": "white",
            "showbackground": true,
            "ticks": "",
            "zerolinecolor": "white"
           },
           "yaxis": {
            "backgroundcolor": "#E5ECF6",
            "gridcolor": "white",
            "gridwidth": 2,
            "linecolor": "white",
            "showbackground": true,
            "ticks": "",
            "zerolinecolor": "white"
           },
           "zaxis": {
            "backgroundcolor": "#E5ECF6",
            "gridcolor": "white",
            "gridwidth": 2,
            "linecolor": "white",
            "showbackground": true,
            "ticks": "",
            "zerolinecolor": "white"
           }
          },
          "shapedefaults": {
           "line": {
            "color": "#2a3f5f"
           }
          },
          "ternary": {
           "aaxis": {
            "gridcolor": "white",
            "linecolor": "white",
            "ticks": ""
           },
           "baxis": {
            "gridcolor": "white",
            "linecolor": "white",
            "ticks": ""
           },
           "bgcolor": "#E5ECF6",
           "caxis": {
            "gridcolor": "white",
            "linecolor": "white",
            "ticks": ""
           }
          },
          "title": {
           "x": 0.05
          },
          "xaxis": {
           "automargin": true,
           "gridcolor": "white",
           "linecolor": "white",
           "ticks": "",
           "title": {
            "standoff": 15
           },
           "zerolinecolor": "white",
           "zerolinewidth": 2
          },
          "yaxis": {
           "automargin": true,
           "gridcolor": "white",
           "linecolor": "white",
           "ticks": "",
           "title": {
            "standoff": 15
           },
           "zerolinecolor": "white",
           "zerolinewidth": 2
          }
         }
        },
        "width": 1200,
        "xaxis": {
         "anchor": "y",
         "domain": [
          0,
          0.2888888888888889
         ],
         "showgrid": false,
         "showticklabels": false,
         "zeroline": false
        },
        "xaxis2": {
         "anchor": "y2",
         "domain": [
          0.35555555555555557,
          0.6444444444444445
         ]
        },
        "xaxis3": {
         "anchor": "y3",
         "domain": [
          0.7111111111111111,
          1
         ]
        },
        "yaxis": {
         "anchor": "x",
         "domain": [
          0,
          1
         ],
         "showgrid": false,
         "showticklabels": false,
         "zeroline": false
        },
        "yaxis2": {
         "anchor": "x2",
         "domain": [
          0,
          1
         ]
        },
        "yaxis3": {
         "anchor": "x3",
         "domain": [
          0,
          1
         ]
        }
       }
      }
     },
     "metadata": {},
     "output_type": "display_data"
    }
   ],
   "source": [
    "# Calculate the average for each score\n",
    "average_food = reviews['food_score'].mean()\n",
    "average_service = reviews['service_score'].mean()\n",
    "average_atmosphere = reviews['atmosphere_score'].mean()\n",
    "average_reviews = (resumme_raw['stars'] * resumme_raw['reviews']).sum() / resumme_raw['reviews'].sum()\n",
    "\n",
    "# Create a figure with horizontal subplots\n",
    "fig = make_subplots(rows=1, cols=3, \n",
    "                    specs=[[{\"type\": \"xy\"}, {\"type\": \"bar\"}, {\"type\": \"bar\"}]], \n",
    "                    subplot_titles=(\"Average Score\", \"Number of Reviews\", \"Categories\"))\n",
    "\n",
    "# First subplot: Display the average review as large text\n",
    "fig.add_trace(\n",
    "    go.Scatter(x=[0], y=[0], text=[f\"{average_reviews:.2f}\"], mode=\"text\", textfont=dict(size=120)),\n",
    "    row=1, col=1\n",
    ")\n",
    "\n",
    "fig.update_xaxes(showgrid=False, zeroline=False, showticklabels=False, row=1, col=1)\n",
    "fig.update_yaxes(showgrid=False, zeroline=False, showticklabels=False, row=1, col=1)\n",
    "\n",
    "\n",
    "# Second subplot: Bar plot for reviews\n",
    "fig.add_trace(\n",
    "    go.Bar(x=resumme_raw['reviews'], y=resumme_raw['stars'], marker=dict(color='lightskyblue'),\n",
    "           text=resumme_raw['reviews'], textposition='auto', name=\"Reviews\", orientation='h'),\n",
    "    row=1, col=2\n",
    ")\n",
    "\n",
    "# Third subplot: Bar plot for categories (Food, Service, Atmosphere)\n",
    "fig.add_trace(\n",
    "    go.Bar(x=[average_food, average_service, average_atmosphere], \n",
    "           y=['Food', 'Service', 'Atmosphere'], \n",
    "           marker=dict(color='lightgreen'), \n",
    "           text=[f\"{average_food:.2f}\", f\"{average_service:.2f}\", f\"{average_atmosphere:.2f}\"], \n",
    "           textposition='auto', \n",
    "           orientation='h', \n",
    "           name=\"Categories\"),\n",
    "    row=1, col=3\n",
    ")\n",
    "\n",
    "# Update layout\n",
    "fig.update_layout(height=500, width=1200,  plot_bgcolor=\"white\", paper_bgcolor=\"white\", showlegend=False)\n",
    "\n",
    "# Show the plot\n",
    "fig.show()"
   ]
  },
  {
   "cell_type": "code",
   "execution_count": 146,
   "metadata": {},
   "outputs": [
    {
     "data": {
      "application/vnd.plotly.v1+json": {
       "config": {
        "plotlyServerURL": "https://plot.ly"
       },
       "data": [
        {
         "hoverinfo": "text",
         "line": {
          "color": "#1f77b4"
         },
         "marker": {
          "size": 8
         },
         "mode": "lines+markers",
         "name": "Rating",
         "text": [
          "Rating - 4.55",
          "Rating - 4.75",
          "Rating - 4.55",
          "Rating - 4.12",
          "Rating - 4.08",
          "Rating - 4.43",
          "Rating - 4.56",
          "Rating - 4.89",
          "Rating - 4.38",
          "Rating - 4.00",
          "Rating - 4.37"
         ],
         "type": "scatter",
         "x": [
          "2023-11",
          "2023-12",
          "2024-01",
          "2024-02",
          "2024-03",
          "2024-04",
          "2024-05",
          "2024-06",
          "2024-07",
          "2024-08",
          "2024-09"
         ],
         "xaxis": "x",
         "y": [
          4.545454545454546,
          4.75,
          4.545454545454546,
          4.125,
          4.076923076923077,
          4.428571428571429,
          4.5625,
          4.888888888888889,
          4.375,
          4,
          4.368421052631579
         ],
         "yaxis": "y"
        },
        {
         "hoverinfo": "text",
         "line": {
          "color": "#aec7e8"
         },
         "mode": "lines+markers",
         "name": "Food",
         "text": [
          "Food - 4.11",
          "Food - 4.75",
          "Food - 4.67",
          "Food - 4.25",
          "Food - 4.09",
          "Food - 4.80",
          "Food - 4.48",
          "Food - 4.88",
          "Food - 4.23",
          "Food - 4.07",
          "Food - 4.50"
         ],
         "type": "scatter",
         "x": [
          "2023-11",
          "2023-12",
          "2024-01",
          "2024-02",
          "2024-03",
          "2024-04",
          "2024-05",
          "2024-06",
          "2024-07",
          "2024-08",
          "2024-09"
         ],
         "xaxis": "x",
         "y": [
          4.111111111111111,
          4.75,
          4.666666666666667,
          4.25,
          4.090909090909091,
          4.8,
          4.481481481481482,
          4.875,
          4.230769230769231,
          4.066666666666666,
          4.5
         ],
         "yaxis": "y"
        },
        {
         "hoverinfo": "text",
         "line": {
          "color": "#aec7e8"
         },
         "mode": "lines+markers",
         "name": "Service",
         "text": [
          "Service - 4.60",
          "Service - 4.50",
          "Service - 4.83",
          "Service - 4.38",
          "Service - 4.36",
          "Service - 4.60",
          "Service - 4.71",
          "Service - 4.88",
          "Service - 4.46",
          "Service - 4.38",
          "Service - 4.53"
         ],
         "type": "scatter",
         "x": [
          "2023-11",
          "2023-12",
          "2024-01",
          "2024-02",
          "2024-03",
          "2024-04",
          "2024-05",
          "2024-06",
          "2024-07",
          "2024-08",
          "2024-09"
         ],
         "xaxis": "x",
         "y": [
          4.6,
          4.5,
          4.833333333333333,
          4.375,
          4.363636363636363,
          4.6,
          4.714285714285714,
          4.875,
          4.461538461538462,
          4.375,
          4.529411764705882
         ],
         "yaxis": "y"
        },
        {
         "hoverinfo": "text",
         "line": {
          "color": "#aec7e8"
         },
         "mode": "lines+markers",
         "name": "Atmosphere",
         "text": [
          "Atmosphere - 4.10",
          "Atmosphere - 4.62",
          "Atmosphere - 4.67",
          "Atmosphere - 4.25",
          "Atmosphere - 4.09",
          "Atmosphere - 5.00",
          "Atmosphere - 4.59",
          "Atmosphere - 5.00",
          "Atmosphere - 4.46",
          "Atmosphere - 4.19",
          "Atmosphere - 4.71"
         ],
         "type": "scatter",
         "x": [
          "2023-11",
          "2023-12",
          "2024-01",
          "2024-02",
          "2024-03",
          "2024-04",
          "2024-05",
          "2024-06",
          "2024-07",
          "2024-08",
          "2024-09"
         ],
         "xaxis": "x",
         "y": [
          4.1,
          4.625,
          4.666666666666667,
          4.25,
          4.090909090909091,
          5,
          4.592592592592593,
          5,
          4.461538461538462,
          4.1875,
          4.705882352941177
         ],
         "yaxis": "y"
        },
        {
         "hoverinfo": "text",
         "line": {
          "color": "#1f77b4",
          "width": 4
         },
         "marker": {
          "size": 8
         },
         "mode": "lines+markers",
         "name": "Rating",
         "text": [
          "Rating - 4.29",
          "Rating - 4.32",
          "Rating - 4.73",
          "Rating - 4.23",
          "Rating - 4.19",
          "Rating - 4.34",
          "Rating - 4.23",
          "Rating - 4.38"
         ],
         "type": "scatter",
         "x": [
          "2017.0",
          "2018.0",
          "2019.0",
          "2020.0",
          "2021.0",
          "2022.0",
          "2023.0",
          "2024.0"
         ],
         "xaxis": "x2",
         "y": [
          4.294117647058823,
          4.32,
          4.730769230769231,
          4.230769230769231,
          4.1875,
          4.3428571428571425,
          4.227848101265823,
          4.37593984962406
         ],
         "yaxis": "y2"
        },
        {
         "hoverinfo": "text",
         "line": {
          "color": "#1f77b4"
         },
         "marker": {
          "size": 8
         },
         "mode": "lines+markers",
         "name": "Rating",
         "text": [
          "Rating - 5.00",
          "Rating - 3.75",
          "Rating - 3.25"
         ],
         "type": "scatter",
         "x": [
          "2024-09-02",
          "2024-09-09",
          "2024-09-16"
         ],
         "xaxis": "x3",
         "y": [
          5,
          3.75,
          3.25
         ],
         "yaxis": "y3"
        },
        {
         "hoverinfo": "text",
         "line": {
          "color": "#aec7e8"
         },
         "mode": "lines+markers",
         "name": "Food",
         "text": [
          "Food - 5.00",
          "Food - 3.50",
          "Food - 4.33"
         ],
         "type": "scatter",
         "x": [
          "2024-09-02",
          "2024-09-09",
          "2024-09-16"
         ],
         "xaxis": "x3",
         "y": [
          5,
          3.5,
          4.333333333333333
         ],
         "yaxis": "y3"
        },
        {
         "hoverinfo": "text",
         "line": {
          "color": "#aec7e8"
         },
         "mode": "lines+markers",
         "name": "Service",
         "text": [
          "Service - 4.90",
          "Service - 4.25",
          "Service - 3.67"
         ],
         "type": "scatter",
         "x": [
          "2024-09-02",
          "2024-09-09",
          "2024-09-16"
         ],
         "xaxis": "x3",
         "y": [
          4.9,
          4.25,
          3.6666666666666665
         ],
         "yaxis": "y3"
        },
        {
         "hoverinfo": "text",
         "line": {
          "color": "#aec7e8"
         },
         "mode": "lines+markers",
         "name": "Atmosphere",
         "text": [
          "Atmosphere - 4.90",
          "Atmosphere - 4.75",
          "Atmosphere - 4.00"
         ],
         "type": "scatter",
         "x": [
          "2024-09-02",
          "2024-09-09",
          "2024-09-16"
         ],
         "xaxis": "x3",
         "y": [
          4.9,
          4.75,
          4
         ],
         "yaxis": "y3"
        }
       ],
       "layout": {
        "annotations": [
         {
          "font": {
           "size": 16
          },
          "showarrow": false,
          "text": "Monthly Score Trends (Last 12 Months)",
          "x": 0.5,
          "xanchor": "center",
          "xref": "paper",
          "y": 1,
          "yanchor": "bottom",
          "yref": "paper"
         },
         {
          "font": {
           "size": 16
          },
          "showarrow": false,
          "text": "Annual Rating Score Trends (Last 6 Years)",
          "x": 0.225,
          "xanchor": "center",
          "xref": "paper",
          "y": 0.375,
          "yanchor": "bottom",
          "yref": "paper"
         },
         {
          "font": {
           "size": 16
          },
          "showarrow": false,
          "text": "Weekly Score Trends (Last 4 Weeks)",
          "x": 0.775,
          "xanchor": "center",
          "xref": "paper",
          "y": 0.375,
          "yanchor": "bottom",
          "yref": "paper"
         },
         {
          "arrowhead": 2,
          "ax": 0,
          "ay": 80,
          "font": {
           "size": 14
          },
          "showarrow": true,
          "text": "Highest Score",
          "x": "2024-06",
          "xref": "x",
          "y": 4.8,
          "yref": "y"
         },
         {
          "arrowhead": 2,
          "ax": 0,
          "ay": -40,
          "font": {
           "size": 14
          },
          "showarrow": true,
          "text": "Drop in March",
          "x": "2024-03",
          "xref": "x",
          "y": 4.5,
          "yref": "y"
         },
         {
          "arrowhead": 2,
          "ax": 0,
          "ay": -40,
          "font": {
           "size": 14
          },
          "showarrow": true,
          "text": "Drop in August",
          "x": "2024-08",
          "xref": "x",
          "y": 4.5,
          "yref": "y"
         }
        ],
        "height": 800,
        "margin": {
         "b": 50,
         "l": 50,
         "r": 50,
         "t": 100
        },
        "paper_bgcolor": "white",
        "showlegend": false,
        "template": {
         "data": {
          "bar": [
           {
            "error_x": {
             "color": "#2a3f5f"
            },
            "error_y": {
             "color": "#2a3f5f"
            },
            "marker": {
             "line": {
              "color": "#E5ECF6",
              "width": 0.5
             },
             "pattern": {
              "fillmode": "overlay",
              "size": 10,
              "solidity": 0.2
             }
            },
            "type": "bar"
           }
          ],
          "barpolar": [
           {
            "marker": {
             "line": {
              "color": "#E5ECF6",
              "width": 0.5
             },
             "pattern": {
              "fillmode": "overlay",
              "size": 10,
              "solidity": 0.2
             }
            },
            "type": "barpolar"
           }
          ],
          "carpet": [
           {
            "aaxis": {
             "endlinecolor": "#2a3f5f",
             "gridcolor": "white",
             "linecolor": "white",
             "minorgridcolor": "white",
             "startlinecolor": "#2a3f5f"
            },
            "baxis": {
             "endlinecolor": "#2a3f5f",
             "gridcolor": "white",
             "linecolor": "white",
             "minorgridcolor": "white",
             "startlinecolor": "#2a3f5f"
            },
            "type": "carpet"
           }
          ],
          "choropleth": [
           {
            "colorbar": {
             "outlinewidth": 0,
             "ticks": ""
            },
            "type": "choropleth"
           }
          ],
          "contour": [
           {
            "colorbar": {
             "outlinewidth": 0,
             "ticks": ""
            },
            "colorscale": [
             [
              0,
              "#0d0887"
             ],
             [
              0.1111111111111111,
              "#46039f"
             ],
             [
              0.2222222222222222,
              "#7201a8"
             ],
             [
              0.3333333333333333,
              "#9c179e"
             ],
             [
              0.4444444444444444,
              "#bd3786"
             ],
             [
              0.5555555555555556,
              "#d8576b"
             ],
             [
              0.6666666666666666,
              "#ed7953"
             ],
             [
              0.7777777777777778,
              "#fb9f3a"
             ],
             [
              0.8888888888888888,
              "#fdca26"
             ],
             [
              1,
              "#f0f921"
             ]
            ],
            "type": "contour"
           }
          ],
          "contourcarpet": [
           {
            "colorbar": {
             "outlinewidth": 0,
             "ticks": ""
            },
            "type": "contourcarpet"
           }
          ],
          "heatmap": [
           {
            "colorbar": {
             "outlinewidth": 0,
             "ticks": ""
            },
            "colorscale": [
             [
              0,
              "#0d0887"
             ],
             [
              0.1111111111111111,
              "#46039f"
             ],
             [
              0.2222222222222222,
              "#7201a8"
             ],
             [
              0.3333333333333333,
              "#9c179e"
             ],
             [
              0.4444444444444444,
              "#bd3786"
             ],
             [
              0.5555555555555556,
              "#d8576b"
             ],
             [
              0.6666666666666666,
              "#ed7953"
             ],
             [
              0.7777777777777778,
              "#fb9f3a"
             ],
             [
              0.8888888888888888,
              "#fdca26"
             ],
             [
              1,
              "#f0f921"
             ]
            ],
            "type": "heatmap"
           }
          ],
          "heatmapgl": [
           {
            "colorbar": {
             "outlinewidth": 0,
             "ticks": ""
            },
            "colorscale": [
             [
              0,
              "#0d0887"
             ],
             [
              0.1111111111111111,
              "#46039f"
             ],
             [
              0.2222222222222222,
              "#7201a8"
             ],
             [
              0.3333333333333333,
              "#9c179e"
             ],
             [
              0.4444444444444444,
              "#bd3786"
             ],
             [
              0.5555555555555556,
              "#d8576b"
             ],
             [
              0.6666666666666666,
              "#ed7953"
             ],
             [
              0.7777777777777778,
              "#fb9f3a"
             ],
             [
              0.8888888888888888,
              "#fdca26"
             ],
             [
              1,
              "#f0f921"
             ]
            ],
            "type": "heatmapgl"
           }
          ],
          "histogram": [
           {
            "marker": {
             "pattern": {
              "fillmode": "overlay",
              "size": 10,
              "solidity": 0.2
             }
            },
            "type": "histogram"
           }
          ],
          "histogram2d": [
           {
            "colorbar": {
             "outlinewidth": 0,
             "ticks": ""
            },
            "colorscale": [
             [
              0,
              "#0d0887"
             ],
             [
              0.1111111111111111,
              "#46039f"
             ],
             [
              0.2222222222222222,
              "#7201a8"
             ],
             [
              0.3333333333333333,
              "#9c179e"
             ],
             [
              0.4444444444444444,
              "#bd3786"
             ],
             [
              0.5555555555555556,
              "#d8576b"
             ],
             [
              0.6666666666666666,
              "#ed7953"
             ],
             [
              0.7777777777777778,
              "#fb9f3a"
             ],
             [
              0.8888888888888888,
              "#fdca26"
             ],
             [
              1,
              "#f0f921"
             ]
            ],
            "type": "histogram2d"
           }
          ],
          "histogram2dcontour": [
           {
            "colorbar": {
             "outlinewidth": 0,
             "ticks": ""
            },
            "colorscale": [
             [
              0,
              "#0d0887"
             ],
             [
              0.1111111111111111,
              "#46039f"
             ],
             [
              0.2222222222222222,
              "#7201a8"
             ],
             [
              0.3333333333333333,
              "#9c179e"
             ],
             [
              0.4444444444444444,
              "#bd3786"
             ],
             [
              0.5555555555555556,
              "#d8576b"
             ],
             [
              0.6666666666666666,
              "#ed7953"
             ],
             [
              0.7777777777777778,
              "#fb9f3a"
             ],
             [
              0.8888888888888888,
              "#fdca26"
             ],
             [
              1,
              "#f0f921"
             ]
            ],
            "type": "histogram2dcontour"
           }
          ],
          "mesh3d": [
           {
            "colorbar": {
             "outlinewidth": 0,
             "ticks": ""
            },
            "type": "mesh3d"
           }
          ],
          "parcoords": [
           {
            "line": {
             "colorbar": {
              "outlinewidth": 0,
              "ticks": ""
             }
            },
            "type": "parcoords"
           }
          ],
          "pie": [
           {
            "automargin": true,
            "type": "pie"
           }
          ],
          "scatter": [
           {
            "fillpattern": {
             "fillmode": "overlay",
             "size": 10,
             "solidity": 0.2
            },
            "type": "scatter"
           }
          ],
          "scatter3d": [
           {
            "line": {
             "colorbar": {
              "outlinewidth": 0,
              "ticks": ""
             }
            },
            "marker": {
             "colorbar": {
              "outlinewidth": 0,
              "ticks": ""
             }
            },
            "type": "scatter3d"
           }
          ],
          "scattercarpet": [
           {
            "marker": {
             "colorbar": {
              "outlinewidth": 0,
              "ticks": ""
             }
            },
            "type": "scattercarpet"
           }
          ],
          "scattergeo": [
           {
            "marker": {
             "colorbar": {
              "outlinewidth": 0,
              "ticks": ""
             }
            },
            "type": "scattergeo"
           }
          ],
          "scattergl": [
           {
            "marker": {
             "colorbar": {
              "outlinewidth": 0,
              "ticks": ""
             }
            },
            "type": "scattergl"
           }
          ],
          "scattermapbox": [
           {
            "marker": {
             "colorbar": {
              "outlinewidth": 0,
              "ticks": ""
             }
            },
            "type": "scattermapbox"
           }
          ],
          "scatterpolar": [
           {
            "marker": {
             "colorbar": {
              "outlinewidth": 0,
              "ticks": ""
             }
            },
            "type": "scatterpolar"
           }
          ],
          "scatterpolargl": [
           {
            "marker": {
             "colorbar": {
              "outlinewidth": 0,
              "ticks": ""
             }
            },
            "type": "scatterpolargl"
           }
          ],
          "scatterternary": [
           {
            "marker": {
             "colorbar": {
              "outlinewidth": 0,
              "ticks": ""
             }
            },
            "type": "scatterternary"
           }
          ],
          "surface": [
           {
            "colorbar": {
             "outlinewidth": 0,
             "ticks": ""
            },
            "colorscale": [
             [
              0,
              "#0d0887"
             ],
             [
              0.1111111111111111,
              "#46039f"
             ],
             [
              0.2222222222222222,
              "#7201a8"
             ],
             [
              0.3333333333333333,
              "#9c179e"
             ],
             [
              0.4444444444444444,
              "#bd3786"
             ],
             [
              0.5555555555555556,
              "#d8576b"
             ],
             [
              0.6666666666666666,
              "#ed7953"
             ],
             [
              0.7777777777777778,
              "#fb9f3a"
             ],
             [
              0.8888888888888888,
              "#fdca26"
             ],
             [
              1,
              "#f0f921"
             ]
            ],
            "type": "surface"
           }
          ],
          "table": [
           {
            "cells": {
             "fill": {
              "color": "#EBF0F8"
             },
             "line": {
              "color": "white"
             }
            },
            "header": {
             "fill": {
              "color": "#C8D4E3"
             },
             "line": {
              "color": "white"
             }
            },
            "type": "table"
           }
          ]
         },
         "layout": {
          "annotationdefaults": {
           "arrowcolor": "#2a3f5f",
           "arrowhead": 0,
           "arrowwidth": 1
          },
          "autotypenumbers": "strict",
          "coloraxis": {
           "colorbar": {
            "outlinewidth": 0,
            "ticks": ""
           }
          },
          "colorscale": {
           "diverging": [
            [
             0,
             "#8e0152"
            ],
            [
             0.1,
             "#c51b7d"
            ],
            [
             0.2,
             "#de77ae"
            ],
            [
             0.3,
             "#f1b6da"
            ],
            [
             0.4,
             "#fde0ef"
            ],
            [
             0.5,
             "#f7f7f7"
            ],
            [
             0.6,
             "#e6f5d0"
            ],
            [
             0.7,
             "#b8e186"
            ],
            [
             0.8,
             "#7fbc41"
            ],
            [
             0.9,
             "#4d9221"
            ],
            [
             1,
             "#276419"
            ]
           ],
           "sequential": [
            [
             0,
             "#0d0887"
            ],
            [
             0.1111111111111111,
             "#46039f"
            ],
            [
             0.2222222222222222,
             "#7201a8"
            ],
            [
             0.3333333333333333,
             "#9c179e"
            ],
            [
             0.4444444444444444,
             "#bd3786"
            ],
            [
             0.5555555555555556,
             "#d8576b"
            ],
            [
             0.6666666666666666,
             "#ed7953"
            ],
            [
             0.7777777777777778,
             "#fb9f3a"
            ],
            [
             0.8888888888888888,
             "#fdca26"
            ],
            [
             1,
             "#f0f921"
            ]
           ],
           "sequentialminus": [
            [
             0,
             "#0d0887"
            ],
            [
             0.1111111111111111,
             "#46039f"
            ],
            [
             0.2222222222222222,
             "#7201a8"
            ],
            [
             0.3333333333333333,
             "#9c179e"
            ],
            [
             0.4444444444444444,
             "#bd3786"
            ],
            [
             0.5555555555555556,
             "#d8576b"
            ],
            [
             0.6666666666666666,
             "#ed7953"
            ],
            [
             0.7777777777777778,
             "#fb9f3a"
            ],
            [
             0.8888888888888888,
             "#fdca26"
            ],
            [
             1,
             "#f0f921"
            ]
           ]
          },
          "colorway": [
           "#636efa",
           "#EF553B",
           "#00cc96",
           "#ab63fa",
           "#FFA15A",
           "#19d3f3",
           "#FF6692",
           "#B6E880",
           "#FF97FF",
           "#FECB52"
          ],
          "font": {
           "color": "#2a3f5f"
          },
          "geo": {
           "bgcolor": "white",
           "lakecolor": "white",
           "landcolor": "#E5ECF6",
           "showlakes": true,
           "showland": true,
           "subunitcolor": "white"
          },
          "hoverlabel": {
           "align": "left"
          },
          "hovermode": "closest",
          "mapbox": {
           "style": "light"
          },
          "paper_bgcolor": "white",
          "plot_bgcolor": "#E5ECF6",
          "polar": {
           "angularaxis": {
            "gridcolor": "white",
            "linecolor": "white",
            "ticks": ""
           },
           "bgcolor": "#E5ECF6",
           "radialaxis": {
            "gridcolor": "white",
            "linecolor": "white",
            "ticks": ""
           }
          },
          "scene": {
           "xaxis": {
            "backgroundcolor": "#E5ECF6",
            "gridcolor": "white",
            "gridwidth": 2,
            "linecolor": "white",
            "showbackground": true,
            "ticks": "",
            "zerolinecolor": "white"
           },
           "yaxis": {
            "backgroundcolor": "#E5ECF6",
            "gridcolor": "white",
            "gridwidth": 2,
            "linecolor": "white",
            "showbackground": true,
            "ticks": "",
            "zerolinecolor": "white"
           },
           "zaxis": {
            "backgroundcolor": "#E5ECF6",
            "gridcolor": "white",
            "gridwidth": 2,
            "linecolor": "white",
            "showbackground": true,
            "ticks": "",
            "zerolinecolor": "white"
           }
          },
          "shapedefaults": {
           "line": {
            "color": "#2a3f5f"
           }
          },
          "ternary": {
           "aaxis": {
            "gridcolor": "white",
            "linecolor": "white",
            "ticks": ""
           },
           "baxis": {
            "gridcolor": "white",
            "linecolor": "white",
            "ticks": ""
           },
           "bgcolor": "#E5ECF6",
           "caxis": {
            "gridcolor": "white",
            "linecolor": "white",
            "ticks": ""
           }
          },
          "title": {
           "x": 0.05
          },
          "xaxis": {
           "automargin": true,
           "gridcolor": "white",
           "linecolor": "white",
           "ticks": "",
           "title": {
            "standoff": 15
           },
           "zerolinecolor": "white",
           "zerolinewidth": 2
          },
          "yaxis": {
           "automargin": true,
           "gridcolor": "white",
           "linecolor": "white",
           "ticks": "",
           "title": {
            "standoff": 15
           },
           "zerolinecolor": "white",
           "zerolinewidth": 2
          }
         }
        },
        "title": {
         "font": {
          "size": 28
         },
         "text": "Score Trends Analysis"
        },
        "width": 1200,
        "xaxis": {
         "anchor": "y",
         "domain": [
          0,
          1
         ],
         "showgrid": false,
         "showline": false
        },
        "xaxis2": {
         "anchor": "y2",
         "domain": [
          0,
          0.45
         ],
         "showgrid": false,
         "showline": false,
         "tickformat": "%Y"
        },
        "xaxis3": {
         "anchor": "y3",
         "domain": [
          0.55,
          1
         ],
         "showgrid": false,
         "showline": false,
         "tickformat": "%d-%b"
        },
        "yaxis": {
         "anchor": "x",
         "domain": [
          0.625,
          1
         ],
         "showgrid": true,
         "showline": false
        },
        "yaxis2": {
         "anchor": "x2",
         "domain": [
          0,
          0.375
         ],
         "showgrid": true,
         "showline": false
        },
        "yaxis3": {
         "anchor": "x3",
         "domain": [
          0,
          0.375
         ],
         "showgrid": true,
         "showline": false
        }
       }
      }
     },
     "metadata": {},
     "output_type": "display_data"
    }
   ],
   "source": [
    "# Convert date column to datetime format\n",
    "reviews['date'] = pd.to_datetime(reviews['date'], errors='coerce')\n",
    "reviews['month'] = reviews['date'].dt.to_period('M')\n",
    "reviews['year'] = reviews['date'].dt.year\n",
    "reviews['week'] = reviews['date'].dt.to_period('W')\n",
    "reviews['week'] = reviews['date'] - pd.to_timedelta(reviews['date'].dt.weekday, unit='d')\n",
    "reviews['week'] = reviews['week'].dt.strftime('%Y-%m-%d')\n",
    "\n",
    "# Filter data for the last periods (months, years, weeks)\n",
    "last_months = reviews[reviews['date'] >= pd.to_datetime('today') - pd.DateOffset(months=12)]\n",
    "last_years = reviews[reviews['date'] >= pd.to_datetime('today') - pd.DateOffset(years=8)]\n",
    "last_weeks = reviews[reviews['date'] >= pd.to_datetime('today') - pd.DateOffset(weeks=5)]\n",
    "\n",
    "# Compute averages for the required periods\n",
    "monthly_avg_scores = last_months.groupby('month')[['rating_score', 'food_score', 'service_score', 'atmosphere_score']].mean()\n",
    "yearly_avg_scores = last_years.groupby('year')[['rating_score']].mean()\n",
    "weekly_avg_scores = last_weeks.groupby('week')[['rating_score', 'food_score', 'service_score', 'atmosphere_score']].mean()\n",
    "\n",
    "# Update the axis labels for each score to be more readable\n",
    "label_mapping = {\n",
    "    'rating_score': 'Rating',\n",
    "    'food_score': 'Food',\n",
    "    'service_score': 'Service',\n",
    "    'atmosphere_score': 'Atmosphere'\n",
    "}\n",
    "\n",
    "# Create a figure with subplots using the Z-layout\n",
    "fig = make_subplots(rows=2, cols=2,\n",
    "                    specs=[[{\"colspan\": 2}, None],\n",
    "                           [{}, {}]],  # 1 large plot on the first row, 2 smaller plots on the second\n",
    "                    subplot_titles=(\"Monthly Score Trends (Last 12 Months)\", \n",
    "                                    \"Annual Rating Score Trends (Last 6 Years)\", \n",
    "                                    \"Weekly Score Trends (Last 4 Weeks)\"))\n",
    "\n",
    "# Add monthly score trends to the first row (rating_score in stronger color)\n",
    "colors = ['#1f77b4', '#aec7e8', '#aec7e8', '#aec7e8']  # Same tonal range, rating_score stronger\n",
    "for i, column in enumerate(monthly_avg_scores.columns):\n",
    "    label = label_mapping[column]  # Get the readable label\n",
    "    fig.add_trace(\n",
    "        go.Scatter(x=monthly_avg_scores.index.astype(str), y=monthly_avg_scores[column],\n",
    "                   mode='lines+markers', name=label, \n",
    "                   text=[f\"{label} - {val:.2f}\" for val in monthly_avg_scores[column]], \n",
    "                   hoverinfo=\"text\", line=dict(color=colors[i])),\n",
    "        row=1, col=1)\n",
    "\n",
    "# Add yearly score trends to the second row (left)\n",
    "fig.add_trace(\n",
    "    go.Scatter(x=yearly_avg_scores.index.astype(str), y=yearly_avg_scores['rating_score'],\n",
    "               mode='lines+markers', name=\"Rating\", line=dict(color='#1f77b4', width=4),\n",
    "               text=[f\"Rating - {val:.2f}\" for val in yearly_avg_scores['rating_score']], \n",
    "               hoverinfo=\"text\"),\n",
    "    row=2, col=1)\n",
    "\n",
    "# Add weekly score trends to the second row (right, weaker colors)\n",
    "for i, column in enumerate(weekly_avg_scores.columns):\n",
    "    label = label_mapping[column]  # Get the readable label\n",
    "    fig.add_trace(\n",
    "        go.Scatter(x=weekly_avg_scores.index.astype(str), y=weekly_avg_scores[column],\n",
    "                   mode='lines+markers', name=label, \n",
    "                   text=[f\"{label} - {val:.2f}\" for val in weekly_avg_scores[column]], \n",
    "                   hoverinfo=\"text\", line=dict(color=colors[i])),\n",
    "        row=2, col=2)\n",
    "\n",
    "# Enhance presentation: remove gridlines and borders, increase size, and remove legend\n",
    "fig.update_layout(showlegend=False, \n",
    "                  title=\"Score Trends Analysis\",\n",
    "                  title_font=dict(size=28),\n",
    "                  margin=dict(l=50, r=50, t=100, b=50),\n",
    "                  paper_bgcolor=\"white\",\n",
    "                  height=800, width=1200)\n",
    "\n",
    "# Remove unnecessary gridlines for a cleaner look\n",
    "fig.update_xaxes(showline=False, showgrid=False)\n",
    "fig.update_yaxes(showline=False, showgrid=True)\n",
    "\n",
    "# Customize x-axes formatting: show only the year for yearly data, and only day and month for weekly data\n",
    "fig.update_xaxes(\n",
    "    tickformat=\"%Y\",  # Only show the year for the yearly graph\n",
    "    row=2, col=1\n",
    ")\n",
    "\n",
    "fig.update_xaxes(\n",
    "    tickformat=\"%d-%b\",  # Show only the day and month for weekly graph\n",
    "    row=2, col=2\n",
    ")\n",
    "\n",
    "# Add annotations to highlight key points\n",
    "fig.add_annotation(x='2024-06', y=4.8, \n",
    "                   text=\"Highest Score\", \n",
    "                   showarrow=True, arrowhead=2,\n",
    "                   ax=0, ay=80, row=1, col=1, font=dict(size=14))\n",
    "\n",
    "fig.add_annotation(x='2024-03', y=4.5, \n",
    "                   text=\"Drop in March\", \n",
    "                   showarrow=True, arrowhead=2,\n",
    "                   ax=0, ay=-40, row=1, col=1, font=dict(size=14))\n",
    "\n",
    "fig.add_annotation(x='2024-08', y=4.5, \n",
    "                   text=\"Drop in August\", \n",
    "                   showarrow=True, arrowhead=2,\n",
    "                   ax=0, ay=-40, row=1, col=1, font=dict(size=14))\n",
    "\n",
    "# Improve line aesthetics (rating score with more prominence)\n",
    "fig.update_traces(marker=dict(size=8), selector=dict(name=\"Rating\"))\n",
    "\n",
    "# Display the interactive plot\n",
    "fig.show()\n"
   ]
  },
  {
   "cell_type": "markdown",
   "metadata": {},
   "source": [
    "### Cleaning and preprocessing"
   ]
  },
  {
   "cell_type": "code",
   "execution_count": 147,
   "metadata": {},
   "outputs": [
    {
     "name": "stderr",
     "output_type": "stream",
     "text": [
      "[nltk_data] Downloading package stopwords to\n",
      "[nltk_data]     /Users/jobandtalent/nltk_data...\n",
      "[nltk_data]   Package stopwords is already up-to-date!\n",
      "[nltk_data] Downloading package vader_lexicon to\n",
      "[nltk_data]     /Users/jobandtalent/nltk_data...\n",
      "[nltk_data]   Package vader_lexicon is already up-to-date!\n"
     ]
    }
   ],
   "source": [
    "import nltk\n",
    "from nltk.corpus import stopwords\n",
    "from nltk.sentiment.vader import SentimentIntensityAnalyzer\n",
    "import spacy\n",
    "from sklearn.feature_extraction.text import CountVectorizer\n",
    "from collections import Counter\n",
    "\n",
    "from tqdm import tqdm\n",
    "\n",
    "# Download NLTK stopwords and lexicon\n",
    "nltk.download('stopwords')\n",
    "nltk.download('vader_lexicon')\n",
    "\n",
    "# Load spaCy Spanish model\n",
    "nlp = spacy.load('es_core_news_sm')"
   ]
  },
  {
   "cell_type": "code",
   "execution_count": 148,
   "metadata": {},
   "outputs": [],
   "source": [
    "# Clean text, stopworks and tokenize words\n",
    "def clean_text(text):\n",
    "    text = text.lower()\n",
    "    text = re.sub(r'[^a-záéíóúñü0-9\\s]', '', text)\n",
    "    doc = nlp(text)\n",
    "    stop_words = set(stopwords.words('spanish'))\n",
    "    tokens = [token.lemma_ for token in doc \n",
    "              if token.text not in stop_words and not token.is_punct and not token.is_space]\n",
    "    return ' '.join(tokens)"
   ]
  },
  {
   "cell_type": "code",
   "execution_count": 149,
   "metadata": {},
   "outputs": [
    {
     "name": "stderr",
     "output_type": "stream",
     "text": [
      "Cleaning Reviews: 100%|██████████| 360/360 [00:02<00:00, 148.41it/s]\n"
     ]
    },
    {
     "data": {
      "text/html": [
       "<div>\n",
       "<style scoped>\n",
       "    .dataframe tbody tr th:only-of-type {\n",
       "        vertical-align: middle;\n",
       "    }\n",
       "\n",
       "    .dataframe tbody tr th {\n",
       "        vertical-align: top;\n",
       "    }\n",
       "\n",
       "    .dataframe thead th {\n",
       "        text-align: right;\n",
       "    }\n",
       "</style>\n",
       "<table border=\"1\" class=\"dataframe\">\n",
       "  <thead>\n",
       "    <tr style=\"text-align: right;\">\n",
       "      <th></th>\n",
       "      <th>review</th>\n",
       "      <th>cleaned_review</th>\n",
       "    </tr>\n",
       "  </thead>\n",
       "  <tbody>\n",
       "    <tr>\n",
       "      <th>191</th>\n",
       "      <td>Comimos patatas bravas, croquetas y guacamole ...</td>\n",
       "      <td>comimos patata brava croqueta guacamolir totop...</td>\n",
       "    </tr>\n",
       "    <tr>\n",
       "      <th>176</th>\n",
       "      <td>No es por la estupenda carta de cafetería (pes...</td>\n",
       "      <td>estupendo carta cafetería pese precio entorno ...</td>\n",
       "    </tr>\n",
       "    <tr>\n",
       "      <th>68</th>\n",
       "      <td>Buen local donde ser sirve comida hasta tarde....</td>\n",
       "      <td>buen local ser servir comida tarde variado car...</td>\n",
       "    </tr>\n",
       "    <tr>\n",
       "      <th>50</th>\n",
       "      <td>Primera vez que me como una hamburguesa de ver...</td>\n",
       "      <td>primero vez hamburguesa verdad carlos majo</td>\n",
       "    </tr>\n",
       "    <tr>\n",
       "      <th>55</th>\n",
       "      <td>Me encanta esta cafetería, siempre que voy el ...</td>\n",
       "      <td>encantar cafetería siempre ir trato bueno cama...</td>\n",
       "    </tr>\n",
       "  </tbody>\n",
       "</table>\n",
       "</div>"
      ],
      "text/plain": [
       "                                                review  \\\n",
       "191  Comimos patatas bravas, croquetas y guacamole ...   \n",
       "176  No es por la estupenda carta de cafetería (pes...   \n",
       "68   Buen local donde ser sirve comida hasta tarde....   \n",
       "50   Primera vez que me como una hamburguesa de ver...   \n",
       "55   Me encanta esta cafetería, siempre que voy el ...   \n",
       "\n",
       "                                        cleaned_review  \n",
       "191  comimos patata brava croqueta guacamolir totop...  \n",
       "176  estupendo carta cafetería pese precio entorno ...  \n",
       "68   buen local ser servir comida tarde variado car...  \n",
       "50          primero vez hamburguesa verdad carlos majo  \n",
       "55   encantar cafetería siempre ir trato bueno cama...  "
      ]
     },
     "metadata": {},
     "output_type": "display_data"
    }
   ],
   "source": [
    "tqdm.pandas(desc=\"Cleaning Reviews\")\n",
    "reviews['cleaned_review'] = reviews['review'].fillna('').progress_apply(clean_text)\n",
    "\n",
    "display(reviews[['review', 'cleaned_review']].sample(5))"
   ]
  },
  {
   "cell_type": "markdown",
   "metadata": {},
   "source": [
    "### Embeddings and sentiment analysis"
   ]
  },
  {
   "cell_type": "code",
   "execution_count": 150,
   "metadata": {},
   "outputs": [],
   "source": [
    "# Embeddings and Sentiment\n",
    "from transformers import pipeline\n",
    "from transformers import BertTokenizer, BertModel\n",
    "import torch\n",
    "\n",
    "# Word Clouds and Visualization\n",
    "from wordcloud import WordCloud\n"
   ]
  },
  {
   "cell_type": "markdown",
   "metadata": {},
   "source": [
    "#### Analyze sentiment"
   ]
  },
  {
   "cell_type": "code",
   "execution_count": 151,
   "metadata": {},
   "outputs": [
    {
     "name": "stdout",
     "output_type": "stream",
     "text": [
      "Top Positive Words: [('hamburguesa', 128), ('buen', 118), ('comida', 66), ('lugar', 65), ('servicio', 48), ('sitio', 46), ('bien', 44), ('mejor', 42), ('precio', 41), ('ambiente', 36)]\n",
      "Top Negative Words: [('ir', 10), ('café', 10), ('vez', 8), ('ver', 8), ('si', 8), ('pedir', 8), ('sitio', 7), ('servicio', 7), ('comida', 7), ('parecer', 6)]\n",
      "Top Positive Bigrams: [('comida buen', 11), ('buen ambiente', 11), ('mejor hamburguesa', 11), ('buen comida', 10), ('buen servicio', 9), ('buen lugar', 8), ('aro cebolla', 7), ('hamburguesa rico', 7), ('precio razonable', 7), ('hamburguesa italiano', 6)]\n",
      "Top Negative Bigrams: [('ver foto', 3), ('merecer pena', 3), ('nunca tanto', 2), ('si solo', 2), ('último vez', 2), ('huevo revuelto', 2), ('dar yo', 2), ('acompañar hamburguesa', 2), ('pan mohoso', 2), ('gofre frío', 1)]\n"
     ]
    }
   ],
   "source": [
    "def analyzeSentiment(df):\n",
    "    # Initialize VADER sentiment analyzer\n",
    "    sia = SentimentIntensityAnalyzer()\n",
    "\n",
    "    # Apply sentiment analysis to each review using VADER\n",
    "    df['vader_sentiment'] = df['cleaned_review'].apply(lambda x: sia.polarity_scores(x)['compound'])\n",
    "    \n",
    "    # Classify sentiment into positive, neutral, negative using rating_score and vader_sentiment\n",
    "    def classify_sentiment(row):\n",
    "        if row['rating_score'] >= 4:\n",
    "            return 'positive'\n",
    "        elif row['rating_score'] <= 2:\n",
    "            return 'negative'\n",
    "        elif row['vader_sentiment'] > 0.05:\n",
    "            return 'positive'\n",
    "        elif row['vader_sentiment'] < -0.05:\n",
    "            return 'negative'\n",
    "        else:\n",
    "            return 'neutral'\n",
    "    \n",
    "    df['sentiment_label'] = df.apply(classify_sentiment, axis=1)\n",
    "    \n",
    "    return df\n",
    "\n",
    "def extractCommonWords(df, sentiment_label='positive', n=10):\n",
    "    # Filter reviews by sentiment label\n",
    "    filtered_reviews = df[df['sentiment_label'] == sentiment_label]['cleaned_review'].fillna('').tolist()\n",
    "    \n",
    "    # Tokenize and count words for the given sentiment label\n",
    "    vectorizer = CountVectorizer().fit(filtered_reviews)\n",
    "    word_counts = vectorizer.transform(filtered_reviews).sum(axis=0)\n",
    "    \n",
    "    # Create a dictionary of word frequencies\n",
    "    word_freq = [(word, word_counts[0, idx]) for word, idx in vectorizer.vocabulary_.items()]\n",
    "    sorted_word_freq = sorted(word_freq, key=lambda x: x[1], reverse=True)[:n]\n",
    "    \n",
    "    return sorted_word_freq\n",
    "\n",
    "def extractCommonNgrams(df, sentiment_label='positive', n=2, top_n=10):\n",
    "    # Filter reviews by sentiment label\n",
    "    filtered_reviews = df[df['sentiment_label'] == sentiment_label]['cleaned_review'].fillna('').tolist()\n",
    "    \n",
    "    # Create n-grams for the given sentiment label\n",
    "    vectorizer = CountVectorizer(ngram_range=(n, n)).fit(filtered_reviews)\n",
    "    ngram_counts = vectorizer.transform(filtered_reviews).sum(axis=0)\n",
    "    \n",
    "    # Create a list of n-grams with their counts\n",
    "    ngram_freq = [(word, ngram_counts[0, idx]) for word, idx in vectorizer.vocabulary_.items()]\n",
    "    sorted_ngrams = sorted(ngram_freq, key=lambda x: x[1], reverse=True)[:top_n]\n",
    "    \n",
    "    return sorted_ngrams\n",
    "\n",
    "\n",
    "# Analyze sentiment with VADER\n",
    "reviews = analyzeSentiment(reviews)\n",
    "\n",
    "# Extract common positive and negative phrases\n",
    "common_positive_words = extractCommonWords(reviews, sentiment_label = 'positive', n = 10)\n",
    "common_negative_words = extractCommonWords(reviews, sentiment_label = 'negative', n = 10)\n",
    "\n",
    "print(\"Top Positive Words:\", common_positive_words)\n",
    "print(\"Top Negative Words:\", common_negative_words)\n",
    "\n",
    "# Extract common positive and negative bigrams\n",
    "common_positive_bigrams = extractCommonNgrams(reviews, sentiment_label='positive', n=2, top_n=10)\n",
    "common_negative_bigrams = extractCommonNgrams(reviews, sentiment_label='negative', n=2, top_n=10)\n",
    "\n",
    "# Display results\n",
    "print(\"Top Positive Bigrams:\", common_positive_bigrams)\n",
    "print(\"Top Negative Bigrams:\", common_negative_bigrams)"
   ]
  },
  {
   "cell_type": "code",
   "execution_count": 152,
   "metadata": {},
   "outputs": [
    {
     "name": "stderr",
     "output_type": "stream",
     "text": [
      "/var/folders/hv/ckh3m6gn1sd45q2qctrqcwzh0000gn/T/ipykernel_27970/256757046.py:14: FutureWarning:\n",
      "\n",
      "'M' is deprecated and will be removed in a future version, please use 'ME' instead.\n",
      "\n"
     ]
    },
    {
     "data": {
      "application/vnd.plotly.v1+json": {
       "config": {
        "plotlyServerURL": "https://plot.ly"
       },
       "data": [
        {
         "fill": "tonexty",
         "fillcolor": "rgba(252, 141, 98, 0.7)",
         "fillpattern": {
          "shape": ""
         },
         "hovertemplate": "Sentiment=negative<br>=%{x}<br>Percentage of Reviews (%)=%{y}<extra></extra>",
         "legendgroup": "negative",
         "line": {
          "color": "#636efa",
          "shape": "spline",
          "width": 0
         },
         "marker": {
          "symbol": "circle"
         },
         "mode": "lines",
         "name": "negative",
         "orientation": "v",
         "showlegend": true,
         "stackgroup": "1",
         "type": "scatter",
         "x": [
          "2019-01-31T00:00:00",
          "2020-01-31T00:00:00",
          "2021-01-31T00:00:00",
          "2022-01-31T00:00:00",
          "2023-01-31T00:00:00",
          "2023-10-31T00:00:00",
          "2023-11-30T00:00:00",
          "2023-12-31T00:00:00",
          "2024-01-31T00:00:00",
          "2024-02-29T00:00:00",
          "2024-03-31T00:00:00",
          "2024-04-30T00:00:00",
          "2024-05-31T00:00:00",
          "2024-06-30T00:00:00",
          "2024-07-31T00:00:00",
          "2024-08-31T00:00:00",
          "2024-09-30T00:00:00"
         ],
         "xaxis": "x",
         "y": [
          0,
          7.69,
          12.5,
          5.71,
          14,
          0,
          0,
          0,
          9.09,
          12.5,
          0,
          14.29,
          9.38,
          0,
          12.5,
          11.11,
          15.79
         ],
         "yaxis": "y"
        },
        {
         "fill": "tonexty",
         "fillcolor": "rgba(141, 160, 203, 0.7)",
         "fillpattern": {
          "shape": ""
         },
         "hovertemplate": "Sentiment=neutral<br>=%{x}<br>Percentage of Reviews (%)=%{y}<extra></extra>",
         "legendgroup": "neutral",
         "line": {
          "color": "#EF553B",
          "shape": "spline",
          "width": 0
         },
         "marker": {
          "symbol": "circle"
         },
         "mode": "lines",
         "name": "neutral",
         "orientation": "v",
         "showlegend": true,
         "stackgroup": "1",
         "type": "scatter",
         "x": [
          "2019-01-31T00:00:00",
          "2020-01-31T00:00:00",
          "2021-01-31T00:00:00",
          "2022-01-31T00:00:00",
          "2023-01-31T00:00:00",
          "2023-10-31T00:00:00",
          "2023-11-30T00:00:00",
          "2023-12-31T00:00:00",
          "2024-01-31T00:00:00",
          "2024-02-29T00:00:00",
          "2024-03-31T00:00:00",
          "2024-04-30T00:00:00",
          "2024-05-31T00:00:00",
          "2024-06-30T00:00:00",
          "2024-07-31T00:00:00",
          "2024-08-31T00:00:00",
          "2024-09-30T00:00:00"
         ],
         "xaxis": "x",
         "y": [
          3.85,
          7.69,
          6.25,
          5.71,
          6,
          0,
          9.09,
          0,
          0,
          0,
          38.46,
          0,
          3.12,
          0,
          0,
          11.11,
          5.26
         ],
         "yaxis": "y"
        },
        {
         "fill": "tonexty",
         "fillcolor": "rgba(102, 194, 165, 0.7)",
         "fillpattern": {
          "shape": ""
         },
         "hovertemplate": "Sentiment=positive<br>=%{x}<br>Percentage of Reviews (%)=%{y}<extra></extra>",
         "legendgroup": "positive",
         "line": {
          "color": "#00cc96",
          "shape": "spline",
          "width": 0
         },
         "marker": {
          "symbol": "circle"
         },
         "mode": "lines",
         "name": "positive",
         "orientation": "v",
         "showlegend": true,
         "stackgroup": "1",
         "type": "scatter",
         "x": [
          "2019-01-31T00:00:00",
          "2020-01-31T00:00:00",
          "2021-01-31T00:00:00",
          "2022-01-31T00:00:00",
          "2023-01-31T00:00:00",
          "2023-10-31T00:00:00",
          "2023-11-30T00:00:00",
          "2023-12-31T00:00:00",
          "2024-01-31T00:00:00",
          "2024-02-29T00:00:00",
          "2024-03-31T00:00:00",
          "2024-04-30T00:00:00",
          "2024-05-31T00:00:00",
          "2024-06-30T00:00:00",
          "2024-07-31T00:00:00",
          "2024-08-31T00:00:00",
          "2024-09-30T00:00:00"
         ],
         "xaxis": "x",
         "y": [
          96.15,
          84.62,
          81.25,
          88.57,
          80,
          100,
          90.91,
          100,
          90.91,
          87.5,
          61.54,
          85.71,
          87.5,
          100,
          87.5,
          77.78,
          78.95
         ],
         "yaxis": "y"
        }
       ],
       "layout": {
        "height": 400,
        "hovermode": "x unified",
        "legend": {
         "orientation": "h",
         "title": {
          "text": ""
         },
         "tracegroupgap": 0,
         "x": 1,
         "xanchor": "right",
         "y": 1.02,
         "yanchor": "bottom"
        },
        "margin": {
         "b": 20,
         "l": 20,
         "r": 20,
         "t": 50
        },
        "plot_bgcolor": "rgba(0,0,0,0)",
        "template": {
         "data": {
          "bar": [
           {
            "error_x": {
             "color": "#2a3f5f"
            },
            "error_y": {
             "color": "#2a3f5f"
            },
            "marker": {
             "line": {
              "color": "white",
              "width": 0.5
             },
             "pattern": {
              "fillmode": "overlay",
              "size": 10,
              "solidity": 0.2
             }
            },
            "type": "bar"
           }
          ],
          "barpolar": [
           {
            "marker": {
             "line": {
              "color": "white",
              "width": 0.5
             },
             "pattern": {
              "fillmode": "overlay",
              "size": 10,
              "solidity": 0.2
             }
            },
            "type": "barpolar"
           }
          ],
          "carpet": [
           {
            "aaxis": {
             "endlinecolor": "#2a3f5f",
             "gridcolor": "#C8D4E3",
             "linecolor": "#C8D4E3",
             "minorgridcolor": "#C8D4E3",
             "startlinecolor": "#2a3f5f"
            },
            "baxis": {
             "endlinecolor": "#2a3f5f",
             "gridcolor": "#C8D4E3",
             "linecolor": "#C8D4E3",
             "minorgridcolor": "#C8D4E3",
             "startlinecolor": "#2a3f5f"
            },
            "type": "carpet"
           }
          ],
          "choropleth": [
           {
            "colorbar": {
             "outlinewidth": 0,
             "ticks": ""
            },
            "type": "choropleth"
           }
          ],
          "contour": [
           {
            "colorbar": {
             "outlinewidth": 0,
             "ticks": ""
            },
            "colorscale": [
             [
              0,
              "#0d0887"
             ],
             [
              0.1111111111111111,
              "#46039f"
             ],
             [
              0.2222222222222222,
              "#7201a8"
             ],
             [
              0.3333333333333333,
              "#9c179e"
             ],
             [
              0.4444444444444444,
              "#bd3786"
             ],
             [
              0.5555555555555556,
              "#d8576b"
             ],
             [
              0.6666666666666666,
              "#ed7953"
             ],
             [
              0.7777777777777778,
              "#fb9f3a"
             ],
             [
              0.8888888888888888,
              "#fdca26"
             ],
             [
              1,
              "#f0f921"
             ]
            ],
            "type": "contour"
           }
          ],
          "contourcarpet": [
           {
            "colorbar": {
             "outlinewidth": 0,
             "ticks": ""
            },
            "type": "contourcarpet"
           }
          ],
          "heatmap": [
           {
            "colorbar": {
             "outlinewidth": 0,
             "ticks": ""
            },
            "colorscale": [
             [
              0,
              "#0d0887"
             ],
             [
              0.1111111111111111,
              "#46039f"
             ],
             [
              0.2222222222222222,
              "#7201a8"
             ],
             [
              0.3333333333333333,
              "#9c179e"
             ],
             [
              0.4444444444444444,
              "#bd3786"
             ],
             [
              0.5555555555555556,
              "#d8576b"
             ],
             [
              0.6666666666666666,
              "#ed7953"
             ],
             [
              0.7777777777777778,
              "#fb9f3a"
             ],
             [
              0.8888888888888888,
              "#fdca26"
             ],
             [
              1,
              "#f0f921"
             ]
            ],
            "type": "heatmap"
           }
          ],
          "heatmapgl": [
           {
            "colorbar": {
             "outlinewidth": 0,
             "ticks": ""
            },
            "colorscale": [
             [
              0,
              "#0d0887"
             ],
             [
              0.1111111111111111,
              "#46039f"
             ],
             [
              0.2222222222222222,
              "#7201a8"
             ],
             [
              0.3333333333333333,
              "#9c179e"
             ],
             [
              0.4444444444444444,
              "#bd3786"
             ],
             [
              0.5555555555555556,
              "#d8576b"
             ],
             [
              0.6666666666666666,
              "#ed7953"
             ],
             [
              0.7777777777777778,
              "#fb9f3a"
             ],
             [
              0.8888888888888888,
              "#fdca26"
             ],
             [
              1,
              "#f0f921"
             ]
            ],
            "type": "heatmapgl"
           }
          ],
          "histogram": [
           {
            "marker": {
             "pattern": {
              "fillmode": "overlay",
              "size": 10,
              "solidity": 0.2
             }
            },
            "type": "histogram"
           }
          ],
          "histogram2d": [
           {
            "colorbar": {
             "outlinewidth": 0,
             "ticks": ""
            },
            "colorscale": [
             [
              0,
              "#0d0887"
             ],
             [
              0.1111111111111111,
              "#46039f"
             ],
             [
              0.2222222222222222,
              "#7201a8"
             ],
             [
              0.3333333333333333,
              "#9c179e"
             ],
             [
              0.4444444444444444,
              "#bd3786"
             ],
             [
              0.5555555555555556,
              "#d8576b"
             ],
             [
              0.6666666666666666,
              "#ed7953"
             ],
             [
              0.7777777777777778,
              "#fb9f3a"
             ],
             [
              0.8888888888888888,
              "#fdca26"
             ],
             [
              1,
              "#f0f921"
             ]
            ],
            "type": "histogram2d"
           }
          ],
          "histogram2dcontour": [
           {
            "colorbar": {
             "outlinewidth": 0,
             "ticks": ""
            },
            "colorscale": [
             [
              0,
              "#0d0887"
             ],
             [
              0.1111111111111111,
              "#46039f"
             ],
             [
              0.2222222222222222,
              "#7201a8"
             ],
             [
              0.3333333333333333,
              "#9c179e"
             ],
             [
              0.4444444444444444,
              "#bd3786"
             ],
             [
              0.5555555555555556,
              "#d8576b"
             ],
             [
              0.6666666666666666,
              "#ed7953"
             ],
             [
              0.7777777777777778,
              "#fb9f3a"
             ],
             [
              0.8888888888888888,
              "#fdca26"
             ],
             [
              1,
              "#f0f921"
             ]
            ],
            "type": "histogram2dcontour"
           }
          ],
          "mesh3d": [
           {
            "colorbar": {
             "outlinewidth": 0,
             "ticks": ""
            },
            "type": "mesh3d"
           }
          ],
          "parcoords": [
           {
            "line": {
             "colorbar": {
              "outlinewidth": 0,
              "ticks": ""
             }
            },
            "type": "parcoords"
           }
          ],
          "pie": [
           {
            "automargin": true,
            "type": "pie"
           }
          ],
          "scatter": [
           {
            "fillpattern": {
             "fillmode": "overlay",
             "size": 10,
             "solidity": 0.2
            },
            "type": "scatter"
           }
          ],
          "scatter3d": [
           {
            "line": {
             "colorbar": {
              "outlinewidth": 0,
              "ticks": ""
             }
            },
            "marker": {
             "colorbar": {
              "outlinewidth": 0,
              "ticks": ""
             }
            },
            "type": "scatter3d"
           }
          ],
          "scattercarpet": [
           {
            "marker": {
             "colorbar": {
              "outlinewidth": 0,
              "ticks": ""
             }
            },
            "type": "scattercarpet"
           }
          ],
          "scattergeo": [
           {
            "marker": {
             "colorbar": {
              "outlinewidth": 0,
              "ticks": ""
             }
            },
            "type": "scattergeo"
           }
          ],
          "scattergl": [
           {
            "marker": {
             "colorbar": {
              "outlinewidth": 0,
              "ticks": ""
             }
            },
            "type": "scattergl"
           }
          ],
          "scattermapbox": [
           {
            "marker": {
             "colorbar": {
              "outlinewidth": 0,
              "ticks": ""
             }
            },
            "type": "scattermapbox"
           }
          ],
          "scatterpolar": [
           {
            "marker": {
             "colorbar": {
              "outlinewidth": 0,
              "ticks": ""
             }
            },
            "type": "scatterpolar"
           }
          ],
          "scatterpolargl": [
           {
            "marker": {
             "colorbar": {
              "outlinewidth": 0,
              "ticks": ""
             }
            },
            "type": "scatterpolargl"
           }
          ],
          "scatterternary": [
           {
            "marker": {
             "colorbar": {
              "outlinewidth": 0,
              "ticks": ""
             }
            },
            "type": "scatterternary"
           }
          ],
          "surface": [
           {
            "colorbar": {
             "outlinewidth": 0,
             "ticks": ""
            },
            "colorscale": [
             [
              0,
              "#0d0887"
             ],
             [
              0.1111111111111111,
              "#46039f"
             ],
             [
              0.2222222222222222,
              "#7201a8"
             ],
             [
              0.3333333333333333,
              "#9c179e"
             ],
             [
              0.4444444444444444,
              "#bd3786"
             ],
             [
              0.5555555555555556,
              "#d8576b"
             ],
             [
              0.6666666666666666,
              "#ed7953"
             ],
             [
              0.7777777777777778,
              "#fb9f3a"
             ],
             [
              0.8888888888888888,
              "#fdca26"
             ],
             [
              1,
              "#f0f921"
             ]
            ],
            "type": "surface"
           }
          ],
          "table": [
           {
            "cells": {
             "fill": {
              "color": "#EBF0F8"
             },
             "line": {
              "color": "white"
             }
            },
            "header": {
             "fill": {
              "color": "#C8D4E3"
             },
             "line": {
              "color": "white"
             }
            },
            "type": "table"
           }
          ]
         },
         "layout": {
          "annotationdefaults": {
           "arrowcolor": "#2a3f5f",
           "arrowhead": 0,
           "arrowwidth": 1
          },
          "autotypenumbers": "strict",
          "coloraxis": {
           "colorbar": {
            "outlinewidth": 0,
            "ticks": ""
           }
          },
          "colorscale": {
           "diverging": [
            [
             0,
             "#8e0152"
            ],
            [
             0.1,
             "#c51b7d"
            ],
            [
             0.2,
             "#de77ae"
            ],
            [
             0.3,
             "#f1b6da"
            ],
            [
             0.4,
             "#fde0ef"
            ],
            [
             0.5,
             "#f7f7f7"
            ],
            [
             0.6,
             "#e6f5d0"
            ],
            [
             0.7,
             "#b8e186"
            ],
            [
             0.8,
             "#7fbc41"
            ],
            [
             0.9,
             "#4d9221"
            ],
            [
             1,
             "#276419"
            ]
           ],
           "sequential": [
            [
             0,
             "#0d0887"
            ],
            [
             0.1111111111111111,
             "#46039f"
            ],
            [
             0.2222222222222222,
             "#7201a8"
            ],
            [
             0.3333333333333333,
             "#9c179e"
            ],
            [
             0.4444444444444444,
             "#bd3786"
            ],
            [
             0.5555555555555556,
             "#d8576b"
            ],
            [
             0.6666666666666666,
             "#ed7953"
            ],
            [
             0.7777777777777778,
             "#fb9f3a"
            ],
            [
             0.8888888888888888,
             "#fdca26"
            ],
            [
             1,
             "#f0f921"
            ]
           ],
           "sequentialminus": [
            [
             0,
             "#0d0887"
            ],
            [
             0.1111111111111111,
             "#46039f"
            ],
            [
             0.2222222222222222,
             "#7201a8"
            ],
            [
             0.3333333333333333,
             "#9c179e"
            ],
            [
             0.4444444444444444,
             "#bd3786"
            ],
            [
             0.5555555555555556,
             "#d8576b"
            ],
            [
             0.6666666666666666,
             "#ed7953"
            ],
            [
             0.7777777777777778,
             "#fb9f3a"
            ],
            [
             0.8888888888888888,
             "#fdca26"
            ],
            [
             1,
             "#f0f921"
            ]
           ]
          },
          "colorway": [
           "#636efa",
           "#EF553B",
           "#00cc96",
           "#ab63fa",
           "#FFA15A",
           "#19d3f3",
           "#FF6692",
           "#B6E880",
           "#FF97FF",
           "#FECB52"
          ],
          "font": {
           "color": "#2a3f5f"
          },
          "geo": {
           "bgcolor": "white",
           "lakecolor": "white",
           "landcolor": "white",
           "showlakes": true,
           "showland": true,
           "subunitcolor": "#C8D4E3"
          },
          "hoverlabel": {
           "align": "left"
          },
          "hovermode": "closest",
          "mapbox": {
           "style": "light"
          },
          "paper_bgcolor": "white",
          "plot_bgcolor": "white",
          "polar": {
           "angularaxis": {
            "gridcolor": "#EBF0F8",
            "linecolor": "#EBF0F8",
            "ticks": ""
           },
           "bgcolor": "white",
           "radialaxis": {
            "gridcolor": "#EBF0F8",
            "linecolor": "#EBF0F8",
            "ticks": ""
           }
          },
          "scene": {
           "xaxis": {
            "backgroundcolor": "white",
            "gridcolor": "#DFE8F3",
            "gridwidth": 2,
            "linecolor": "#EBF0F8",
            "showbackground": true,
            "ticks": "",
            "zerolinecolor": "#EBF0F8"
           },
           "yaxis": {
            "backgroundcolor": "white",
            "gridcolor": "#DFE8F3",
            "gridwidth": 2,
            "linecolor": "#EBF0F8",
            "showbackground": true,
            "ticks": "",
            "zerolinecolor": "#EBF0F8"
           },
           "zaxis": {
            "backgroundcolor": "white",
            "gridcolor": "#DFE8F3",
            "gridwidth": 2,
            "linecolor": "#EBF0F8",
            "showbackground": true,
            "ticks": "",
            "zerolinecolor": "#EBF0F8"
           }
          },
          "shapedefaults": {
           "line": {
            "color": "#2a3f5f"
           }
          },
          "ternary": {
           "aaxis": {
            "gridcolor": "#DFE8F3",
            "linecolor": "#A2B1C6",
            "ticks": ""
           },
           "baxis": {
            "gridcolor": "#DFE8F3",
            "linecolor": "#A2B1C6",
            "ticks": ""
           },
           "bgcolor": "white",
           "caxis": {
            "gridcolor": "#DFE8F3",
            "linecolor": "#A2B1C6",
            "ticks": ""
           }
          },
          "title": {
           "x": 0.05
          },
          "xaxis": {
           "automargin": true,
           "gridcolor": "#EBF0F8",
           "linecolor": "#EBF0F8",
           "ticks": "",
           "title": {
            "standoff": 15
           },
           "zerolinecolor": "#EBF0F8",
           "zerolinewidth": 2
          },
          "yaxis": {
           "automargin": true,
           "gridcolor": "#EBF0F8",
           "linecolor": "#EBF0F8",
           "ticks": "",
           "title": {
            "standoff": 15
           },
           "zerolinecolor": "#EBF0F8",
           "zerolinewidth": 2
          }
         }
        },
        "title": {
         "font": {
          "color": "black",
          "size": 18
         },
         "text": "Sentiment Percentage Over the Last 6 Years",
         "x": 0.5,
         "xanchor": "center"
        },
        "width": 1200,
        "xaxis": {
         "anchor": "y",
         "domain": [
          0,
          1
         ],
         "showgrid": false,
         "showline": false,
         "title": {
          "text": ""
         },
         "zeroline": false
        },
        "yaxis": {
         "anchor": "x",
         "domain": [
          0,
          1
         ],
         "range": [
          0,
          100
         ],
         "showgrid": true,
         "showline": false,
         "ticksuffix": "%",
         "title": {
          "text": "Percentage of Reviews"
         }
        }
       }
      }
     },
     "metadata": {},
     "output_type": "display_data"
    }
   ],
   "source": [
    "def plotSentimentTrend(df, years_limit = 6):\n",
    "    # Convert date to datetime format and handle missing values\n",
    "    df['date'] = pd.to_datetime(df['date'], errors='coerce')\n",
    "    df = df.dropna(subset=['date'])\n",
    "    \n",
    "    # Filter only the last 6 years\n",
    "    last_six_years = datetime.datetime.now() - pd.DateOffset(years=years_limit)\n",
    "    df = df[df['date'] >= last_six_years]\n",
    "\n",
    "    # Set date as index for resampling\n",
    "    df.set_index('date', inplace=True)\n",
    "    \n",
    "    # Resample to monthly and count sentiments\n",
    "    sentiment_counts = df.resample('M')['sentiment_label'].value_counts().unstack().fillna(0)\n",
    "\n",
    "    # Calculate the percentage for each sentiment type\n",
    "    sentiment_percentage = sentiment_counts.div(sentiment_counts.sum(axis=1), axis=0) * 100\n",
    "    sentiment_percentage = sentiment_percentage.round(2)\n",
    "    sentiment_percentage = sentiment_percentage.reset_index().melt(id_vars=['date'], value_name='percentage', var_name='sentiment_label')\n",
    "    \n",
    "    # Plot sentiment percentage evolution\n",
    "    fig = px.area(\n",
    "        sentiment_percentage,\n",
    "        x='date',\n",
    "        y='percentage',\n",
    "        color='sentiment_label',\n",
    "        title='Sentiment Percentage Over the Last 6 Years',\n",
    "        labels={'date': '', 'percentage': 'Percentage of Reviews (%)', 'sentiment_label': 'Sentiment'},\n",
    "        template='plotly_white',\n",
    "    )\n",
    "\n",
    "    # Customize layout\n",
    "    fig.update_layout(\n",
    "        title=dict(x=0.5, xanchor='center', font=dict(size=18, color='black')),\n",
    "        xaxis=dict(showgrid=False, zeroline=False),\n",
    "        yaxis=dict(showgrid=True, title='Percentage of Reviews', ticksuffix='%'),\n",
    "        legend=dict(title='', orientation='h', yanchor='bottom', y=1.02, xanchor='right', x=1),\n",
    "        margin=dict(l=20, r=20, t=50, b=20),\n",
    "        plot_bgcolor='rgba(0,0,0,0)',\n",
    "        hovermode='x unified',\n",
    "        width=1200,\n",
    "        height=400,\n",
    "    )\n",
    "\n",
    "    # Customize color for sentiment categories\n",
    "    color_map = {\n",
    "        'positive': 'rgba(102, 194, 165, 0.7)', \n",
    "        'neutral': 'rgba(141, 160, 203, 0.7)', \n",
    "        'negative': 'rgba(252, 141, 98, 0.7)'\n",
    "    }\n",
    "    fig.for_each_trace(lambda trace: trace.update(line=dict(width=0, shape='spline'), fill='tonexty', fillcolor=color_map.get(trace.name, 'rgba(150, 150, 150, 0.5)')))\n",
    "\n",
    "    # Remove the plot frame and keep the visualization as clean as possible\n",
    "    fig.update_xaxes(showline=False)\n",
    "    fig.update_yaxes(showline=False, range=[0, 100])  # Percentage scale from 0 to 100\n",
    "\n",
    "    fig.show()\n",
    "\n",
    "plotSentimentTrend(reviews)"
   ]
  },
  {
   "cell_type": "code",
   "execution_count": 153,
   "metadata": {},
   "outputs": [
    {
     "name": "stdout",
     "output_type": "stream",
     "text": [
      "Top Most Recommended: [('Hamburguesa Completa Con Huevo', 9), ('Hamburguesa Americana', 8), ('Hamburguesa Italiana', 6)]\n",
      "Least Recommended : ['Plaza de aparcamiento', 'Flan de Queso', 'Gofre Con Nocilla', 'Grandburguer HD', 'Hamburger', 'Hamburguesa Con Huevo', 'Tarta de Manzana', 'Tataki de Atún', 'Cheesecake', 'Hamburguesa Gallega', 'Brunch Con Baggel Salmón']\n"
     ]
    }
   ],
   "source": [
    "\n",
    "def analyzeRecommendations(df):\n",
    "    all_dishes = []\n",
    "\n",
    "    # Convert string representation of lists to actual lists and extend all_dishes\n",
    "    for item in df['recommendations_list'].dropna():\n",
    "        try:\n",
    "            dishes = ast.literal_eval(item)\n",
    "            if isinstance(dishes, list):\n",
    "                all_dishes.extend(dishes)\n",
    "        except:\n",
    "            continue\n",
    "\n",
    "    # Filter out empty values\n",
    "    all_dishes = [dish for dish in all_dishes if dish.strip() != '']\n",
    "\n",
    "    # Count the frequency of each dish\n",
    "    dish_counts = Counter(all_dishes)\n",
    "\n",
    "    # Most and least recommended dishes\n",
    "    most_common_dishes = dish_counts.most_common(3)\n",
    "    min_count = min(dish_counts.values())\n",
    "    worst_dishes = [dish for dish, count in dish_counts.items() if count == min_count]\n",
    "\n",
    "    print(\"Top Most Recommended:\", most_common_dishes)\n",
    "    print(\"Least Recommended :\", worst_dishes)\n",
    "\n",
    "# Apply the function\n",
    "analyzeRecommendations(reviews)\n"
   ]
  },
  {
   "cell_type": "markdown",
   "metadata": {},
   "source": [
    "#### Calculate embeddings"
   ]
  },
  {
   "cell_type": "code",
   "execution_count": 154,
   "metadata": {},
   "outputs": [
    {
     "name": "stderr",
     "output_type": "stream",
     "text": [
      "Generating Embeddings: 100%|██████████| 360/360 [00:26<00:00, 13.42it/s]\n"
     ]
    }
   ],
   "source": [
    "# Extract the embeddings for each cleaned review\n",
    "def get_embedding(text):\n",
    "    inputs = tokenizer(text, return_tensors='pt', truncation=True, max_length=512)\n",
    "    with torch.no_grad():\n",
    "        outputs = model(**inputs)\n",
    "    return outputs.last_hidden_state.mean(dim=1).squeeze().numpy()\n",
    "\n",
    "# Import Bert model and tokenizer\n",
    "tokenizer = BertTokenizer.from_pretrained('bert-base-multilingual-cased')\n",
    "model = BertModel.from_pretrained('bert-base-multilingual-cased')\n",
    "\n",
    "tqdm.pandas(desc=\"Generating Embeddings\")\n",
    "reviews['embedding'] = reviews['cleaned_review'].progress_apply(get_embedding)"
   ]
  },
  {
   "cell_type": "markdown",
   "metadata": {},
   "source": [
    "#### Analyze embeddings"
   ]
  },
  {
   "cell_type": "code",
   "execution_count": 162,
   "metadata": {},
   "outputs": [
    {
     "data": {
      "application/vnd.plotly.v1+json": {
       "config": {
        "plotlyServerURL": "https://plot.ly"
       },
       "data": [
        {
         "customdata": [
          [
           0,
           5
          ],
          [
           1,
           4
          ],
          [
           2,
           5
          ],
          [
           3,
           3
          ],
          [
           4,
           1
          ],
          [
           5,
           5
          ],
          [
           6,
           5
          ],
          [
           7,
           2
          ],
          [
           8,
           5
          ],
          [
           9,
           5
          ],
          [
           10,
           5
          ],
          [
           11,
           2
          ],
          [
           12,
           5
          ],
          [
           13,
           5
          ],
          [
           14,
           5
          ],
          [
           15,
           1
          ],
          [
           16,
           5
          ],
          [
           17,
           5
          ],
          [
           18,
           2
          ],
          [
           19,
           3
          ],
          [
           20,
           5
          ],
          [
           21,
           4
          ],
          [
           22,
           5
          ],
          [
           23,
           5
          ],
          [
           24,
           5
          ],
          [
           25,
           5
          ],
          [
           26,
           5
          ],
          [
           27,
           4
          ],
          [
           28,
           5
          ],
          [
           29,
           5
          ],
          [
           30,
           5
          ],
          [
           31,
           1
          ],
          [
           32,
           4
          ],
          [
           33,
           5
          ],
          [
           34,
           4
          ],
          [
           35,
           4
          ],
          [
           36,
           5
          ],
          [
           37,
           2
          ],
          [
           38,
           5
          ],
          [
           39,
           3
          ],
          [
           40,
           5
          ],
          [
           41,
           5
          ],
          [
           42,
           5
          ],
          [
           43,
           4
          ],
          [
           44,
           5
          ],
          [
           45,
           5
          ],
          [
           46,
           5
          ],
          [
           47,
           2
          ],
          [
           48,
           5
          ],
          [
           49,
           5
          ],
          [
           50,
           5
          ],
          [
           51,
           5
          ],
          [
           52,
           5
          ],
          [
           53,
           4
          ],
          [
           54,
           2
          ],
          [
           55,
           5
          ],
          [
           56,
           5
          ],
          [
           57,
           5
          ],
          [
           58,
           5
          ],
          [
           59,
           5
          ],
          [
           60,
           4
          ],
          [
           61,
           4
          ],
          [
           62,
           5
          ],
          [
           63,
           2
          ],
          [
           64,
           3
          ],
          [
           65,
           3
          ],
          [
           66,
           4
          ],
          [
           67,
           4
          ],
          [
           68,
           4
          ],
          [
           69,
           4
          ],
          [
           70,
           5
          ],
          [
           71,
           5
          ],
          [
           72,
           4
          ],
          [
           73,
           4
          ],
          [
           74,
           5
          ],
          [
           75,
           2
          ],
          [
           76,
           5
          ],
          [
           77,
           4
          ],
          [
           78,
           5
          ],
          [
           79,
           4
          ],
          [
           80,
           5
          ],
          [
           81,
           5
          ],
          [
           82,
           5
          ],
          [
           83,
           3
          ],
          [
           84,
           5
          ],
          [
           85,
           5
          ],
          [
           86,
           5
          ],
          [
           87,
           5
          ],
          [
           88,
           2
          ],
          [
           89,
           4
          ],
          [
           90,
           5
          ],
          [
           91,
           3
          ],
          [
           92,
           4
          ],
          [
           93,
           5
          ],
          [
           94,
           2
          ],
          [
           95,
           3
          ],
          [
           96,
           4
          ],
          [
           97,
           5
          ],
          [
           98,
           5
          ],
          [
           99,
           5
          ],
          [
           100,
           1
          ],
          [
           101,
           5
          ],
          [
           102,
           4
          ],
          [
           103,
           5
          ],
          [
           104,
           5
          ],
          [
           105,
           4
          ],
          [
           106,
           5
          ],
          [
           107,
           5
          ],
          [
           108,
           4
          ],
          [
           109,
           4
          ],
          [
           110,
           5
          ],
          [
           111,
           2
          ],
          [
           112,
           5
          ],
          [
           113,
           5
          ],
          [
           114,
           4
          ],
          [
           115,
           5
          ],
          [
           116,
           5
          ],
          [
           117,
           5
          ],
          [
           118,
           4
          ],
          [
           119,
           4
          ],
          [
           120,
           5
          ],
          [
           121,
           5
          ],
          [
           122,
           5
          ],
          [
           123,
           4
          ],
          [
           124,
           4
          ],
          [
           125,
           5
          ],
          [
           126,
           4
          ],
          [
           127,
           5
          ],
          [
           128,
           4
          ],
          [
           129,
           3
          ],
          [
           130,
           5
          ],
          [
           131,
           5
          ],
          [
           132,
           5
          ],
          [
           133,
           5
          ],
          [
           134,
           5
          ],
          [
           135,
           4
          ],
          [
           136,
           2
          ],
          [
           137,
           4
          ],
          [
           138,
           4
          ],
          [
           139,
           5
          ],
          [
           140,
           5
          ],
          [
           141,
           5
          ],
          [
           142,
           4
          ],
          [
           143,
           5
          ],
          [
           144,
           3
          ],
          [
           145,
           5
          ],
          [
           146,
           5
          ],
          [
           147,
           3
          ],
          [
           148,
           4
          ],
          [
           149,
           4
          ],
          [
           150,
           5
          ],
          [
           151,
           5
          ],
          [
           152,
           3
          ],
          [
           153,
           3
          ],
          [
           154,
           5
          ],
          [
           155,
           5
          ],
          [
           156,
           5
          ],
          [
           157,
           1
          ],
          [
           158,
           4
          ],
          [
           159,
           5
          ],
          [
           160,
           5
          ],
          [
           161,
           5
          ],
          [
           162,
           5
          ],
          [
           163,
           5
          ],
          [
           164,
           5
          ],
          [
           165,
           4
          ],
          [
           166,
           2
          ],
          [
           167,
           4
          ],
          [
           168,
           4
          ],
          [
           169,
           5
          ],
          [
           170,
           3
          ],
          [
           171,
           3
          ],
          [
           172,
           5
          ],
          [
           173,
           4
          ],
          [
           174,
           5
          ],
          [
           175,
           3
          ],
          [
           176,
           5
          ],
          [
           177,
           5
          ],
          [
           178,
           4
          ],
          [
           179,
           5
          ],
          [
           180,
           5
          ],
          [
           181,
           4
          ],
          [
           182,
           5
          ],
          [
           183,
           5
          ],
          [
           184,
           5
          ],
          [
           185,
           5
          ],
          [
           186,
           2
          ],
          [
           187,
           4
          ],
          [
           188,
           5
          ],
          [
           189,
           5
          ],
          [
           190,
           5
          ],
          [
           191,
           5
          ],
          [
           192,
           5
          ],
          [
           193,
           5
          ],
          [
           194,
           1
          ],
          [
           195,
           2
          ],
          [
           196,
           4
          ],
          [
           197,
           5
          ],
          [
           198,
           5
          ],
          [
           199,
           5
          ],
          [
           200,
           5
          ],
          [
           201,
           5
          ],
          [
           202,
           5
          ],
          [
           203,
           4
          ],
          [
           204,
           4
          ],
          [
           205,
           4
          ],
          [
           206,
           5
          ],
          [
           207,
           5
          ],
          [
           208,
           5
          ],
          [
           209,
           5
          ],
          [
           210,
           4
          ],
          [
           211,
           4
          ],
          [
           212,
           5
          ],
          [
           213,
           4
          ],
          [
           214,
           5
          ],
          [
           215,
           5
          ],
          [
           216,
           5
          ],
          [
           217,
           5
          ],
          [
           218,
           5
          ],
          [
           219,
           5
          ],
          [
           220,
           4
          ],
          [
           221,
           5
          ],
          [
           222,
           5
          ],
          [
           223,
           5
          ],
          [
           224,
           5
          ],
          [
           225,
           3
          ],
          [
           226,
           4
          ],
          [
           227,
           5
          ],
          [
           228,
           5
          ],
          [
           229,
           5
          ],
          [
           230,
           5
          ],
          [
           231,
           5
          ],
          [
           232,
           5
          ],
          [
           233,
           5
          ],
          [
           234,
           5
          ],
          [
           235,
           5
          ],
          [
           236,
           4
          ],
          [
           237,
           5
          ],
          [
           238,
           3
          ],
          [
           239,
           3
          ],
          [
           240,
           4
          ],
          [
           241,
           4
          ],
          [
           242,
           5
          ],
          [
           243,
           5
          ],
          [
           244,
           5
          ],
          [
           245,
           5
          ],
          [
           246,
           4
          ],
          [
           247,
           5
          ],
          [
           248,
           4
          ],
          [
           249,
           5
          ],
          [
           250,
           4
          ],
          [
           251,
           5
          ],
          [
           252,
           4
          ],
          [
           253,
           5
          ],
          [
           254,
           2
          ],
          [
           255,
           5
          ],
          [
           256,
           5
          ],
          [
           257,
           4
          ],
          [
           258,
           4
          ],
          [
           259,
           4
          ],
          [
           260,
           4
          ],
          [
           261,
           4
          ],
          [
           262,
           3
          ],
          [
           263,
           4
          ],
          [
           264,
           5
          ],
          [
           265,
           5
          ],
          [
           266,
           3
          ],
          [
           267,
           5
          ],
          [
           268,
           5
          ],
          [
           269,
           4
          ],
          [
           270,
           5
          ],
          [
           271,
           5
          ],
          [
           272,
           5
          ],
          [
           273,
           5
          ],
          [
           274,
           5
          ],
          [
           275,
           4
          ],
          [
           276,
           2
          ],
          [
           277,
           5
          ],
          [
           278,
           5
          ],
          [
           279,
           5
          ],
          [
           280,
           5
          ],
          [
           281,
           5
          ],
          [
           282,
           4
          ],
          [
           283,
           5
          ],
          [
           284,
           1
          ],
          [
           285,
           5
          ],
          [
           286,
           5
          ],
          [
           287,
           3
          ],
          [
           288,
           5
          ],
          [
           289,
           4
          ],
          [
           290,
           5
          ],
          [
           291,
           4
          ],
          [
           292,
           5
          ],
          [
           293,
           5
          ],
          [
           294,
           5
          ],
          [
           295,
           5
          ],
          [
           296,
           5
          ],
          [
           297,
           2
          ],
          [
           298,
           4
          ],
          [
           299,
           5
          ],
          [
           300,
           5
          ],
          [
           301,
           5
          ],
          [
           302,
           3
          ],
          [
           303,
           5
          ],
          [
           304,
           3
          ],
          [
           305,
           4
          ],
          [
           306,
           4
          ],
          [
           307,
           5
          ],
          [
           308,
           1
          ],
          [
           309,
           5
          ],
          [
           310,
           4
          ],
          [
           311,
           5
          ],
          [
           312,
           5
          ],
          [
           313,
           4
          ],
          [
           314,
           5
          ],
          [
           315,
           5
          ],
          [
           316,
           5
          ],
          [
           317,
           5
          ],
          [
           318,
           4
          ],
          [
           319,
           5
          ],
          [
           320,
           5
          ],
          [
           321,
           4
          ],
          [
           322,
           5
          ],
          [
           323,
           4
          ],
          [
           324,
           5
          ],
          [
           325,
           5
          ],
          [
           326,
           3
          ],
          [
           327,
           3
          ],
          [
           328,
           3
          ],
          [
           329,
           4
          ],
          [
           330,
           5
          ],
          [
           331,
           4
          ],
          [
           332,
           5
          ],
          [
           333,
           5
          ],
          [
           334,
           5
          ],
          [
           335,
           1
          ],
          [
           336,
           5
          ],
          [
           337,
           4
          ],
          [
           338,
           5
          ],
          [
           339,
           5
          ],
          [
           340,
           4
          ],
          [
           341,
           4
          ],
          [
           342,
           5
          ],
          [
           343,
           5
          ],
          [
           344,
           5
          ],
          [
           345,
           5
          ],
          [
           346,
           4
          ],
          [
           347,
           5
          ],
          [
           348,
           4
          ],
          [
           349,
           5
          ],
          [
           350,
           4
          ],
          [
           351,
           5
          ],
          [
           352,
           5
          ],
          [
           353,
           4
          ],
          [
           354,
           5
          ],
          [
           355,
           1
          ],
          [
           356,
           4
          ],
          [
           357,
           5
          ],
          [
           358,
           5
          ],
          [
           359,
           1
          ]
         ],
         "hovertemplate": "PCA 1 (47.0% variance)=%{x}<br>PCA 2 (4.6% variance)=%{y}<br>Review ID=%{customdata[0]}<br>Rating Score=%{marker.color}<extra></extra>",
         "legendgroup": "",
         "marker": {
          "color": [
           5,
           4,
           5,
           3,
           1,
           5,
           5,
           2,
           5,
           5,
           5,
           2,
           5,
           5,
           5,
           1,
           5,
           5,
           2,
           3,
           5,
           4,
           5,
           5,
           5,
           5,
           5,
           4,
           5,
           5,
           5,
           1,
           4,
           5,
           4,
           4,
           5,
           2,
           5,
           3,
           5,
           5,
           5,
           4,
           5,
           5,
           5,
           2,
           5,
           5,
           5,
           5,
           5,
           4,
           2,
           5,
           5,
           5,
           5,
           5,
           4,
           4,
           5,
           2,
           3,
           3,
           4,
           4,
           4,
           4,
           5,
           5,
           4,
           4,
           5,
           2,
           5,
           4,
           5,
           4,
           5,
           5,
           5,
           3,
           5,
           5,
           5,
           5,
           2,
           4,
           5,
           3,
           4,
           5,
           2,
           3,
           4,
           5,
           5,
           5,
           1,
           5,
           4,
           5,
           5,
           4,
           5,
           5,
           4,
           4,
           5,
           2,
           5,
           5,
           4,
           5,
           5,
           5,
           4,
           4,
           5,
           5,
           5,
           4,
           4,
           5,
           4,
           5,
           4,
           3,
           5,
           5,
           5,
           5,
           5,
           4,
           2,
           4,
           4,
           5,
           5,
           5,
           4,
           5,
           3,
           5,
           5,
           3,
           4,
           4,
           5,
           5,
           3,
           3,
           5,
           5,
           5,
           1,
           4,
           5,
           5,
           5,
           5,
           5,
           5,
           4,
           2,
           4,
           4,
           5,
           3,
           3,
           5,
           4,
           5,
           3,
           5,
           5,
           4,
           5,
           5,
           4,
           5,
           5,
           5,
           5,
           2,
           4,
           5,
           5,
           5,
           5,
           5,
           5,
           1,
           2,
           4,
           5,
           5,
           5,
           5,
           5,
           5,
           4,
           4,
           4,
           5,
           5,
           5,
           5,
           4,
           4,
           5,
           4,
           5,
           5,
           5,
           5,
           5,
           5,
           4,
           5,
           5,
           5,
           5,
           3,
           4,
           5,
           5,
           5,
           5,
           5,
           5,
           5,
           5,
           5,
           4,
           5,
           3,
           3,
           4,
           4,
           5,
           5,
           5,
           5,
           4,
           5,
           4,
           5,
           4,
           5,
           4,
           5,
           2,
           5,
           5,
           4,
           4,
           4,
           4,
           4,
           3,
           4,
           5,
           5,
           3,
           5,
           5,
           4,
           5,
           5,
           5,
           5,
           5,
           4,
           2,
           5,
           5,
           5,
           5,
           5,
           4,
           5,
           1,
           5,
           5,
           3,
           5,
           4,
           5,
           4,
           5,
           5,
           5,
           5,
           5,
           2,
           4,
           5,
           5,
           5,
           3,
           5,
           3,
           4,
           4,
           5,
           1,
           5,
           4,
           5,
           5,
           4,
           5,
           5,
           5,
           5,
           4,
           5,
           5,
           4,
           5,
           4,
           5,
           5,
           3,
           3,
           3,
           4,
           5,
           4,
           5,
           5,
           5,
           1,
           5,
           4,
           5,
           5,
           4,
           4,
           5,
           5,
           5,
           5,
           4,
           5,
           4,
           5,
           4,
           5,
           5,
           4,
           5,
           1,
           4,
           5,
           5,
           1
          ],
          "coloraxis": "coloraxis",
          "symbol": "circle"
         },
         "mode": "markers",
         "name": "",
         "orientation": "v",
         "showlegend": false,
         "type": "scatter",
         "x": [
          -2.435014009475708,
          -3.067991256713867,
          -2.906062602996826,
          -2.572589159011841,
          -2.9201014041900635,
          -2.4744274616241455,
          -2.837963342666626,
          -2.8571085929870605,
          -3.2336137294769287,
          -3.3028900623321533,
          -2.7003400325775146,
          -3.3825769424438477,
          -3.2398273944854736,
          -2.9755430221557617,
          -3.1452934741973877,
          -3.0590288639068604,
          -3.172009229660034,
          -3.081296920776367,
          -3.1024370193481445,
          -3.8367717266082764,
          -2.7381529808044434,
          -3.872591972351074,
          -2.7226035594940186,
          -3.2908618450164795,
          -3.333256483078003,
          -3.500392198562622,
          -3.2629778385162354,
          -2.508106231689453,
          -3.4538841247558594,
          -3.745373010635376,
          -2.647832155227661,
          -2.838776111602783,
          -3.06610369682312,
          -2.578096389770508,
          -3.382040023803711,
          -3.5978333950042725,
          -3.720362901687622,
          -3.488931894302368,
          -3.4569225311279297,
          -3.197159767150879,
          -3.238177537918091,
          -3.3361713886260986,
          -3.1741418838500977,
          -2.6081082820892334,
          -3.3285610675811768,
          -3.609837532043457,
          -3.3034536838531494,
          -3.8114256858825684,
          -3.176403522491455,
          -3.5598602294921875,
          -1.617687463760376,
          -3.013909101486206,
          -3.8204474449157715,
          -2.7482523918151855,
          -3.2785916328430176,
          -3.2522470951080322,
          -2.969696283340454,
          -3.2984278202056885,
          -2.7298760414123535,
          -3.0716240406036377,
          -3.745490074157715,
          -3.337895154953003,
          -2.843355655670166,
          -2.562727451324463,
          -2.2172818183898926,
          -2.4635870456695557,
          -3.415097713470459,
          -2.961474657058716,
          -2.9132368564605713,
          -2.9372830390930176,
          -3.104140043258667,
          -2.2293806076049805,
          -3.212531805038452,
          -3.8161041736602783,
          -2.432966470718384,
          -3.7763407230377197,
          -2.6114296913146973,
          -3.351754665374756,
          -2.2580978870391846,
          -2.071892023086548,
          -2.350837230682373,
          -1.9132764339447021,
          -2.2332983016967773,
          -1.6027777194976807,
          -3.1152238845825195,
          -2.6748220920562744,
          -2.899401903152466,
          -2.543191909790039,
          -3.220472574234009,
          -2.5767064094543457,
          -2.6081626415252686,
          -2.373335361480713,
          -2.909332513809204,
          -2.8105344772338867,
          -4.221518516540527,
          -3.668233633041382,
          -3.7007625102996826,
          -3.099039316177368,
          -2.8886289596557617,
          -3.092700242996216,
          -3.149029016494751,
          -2.4282114505767822,
          -2.236325740814209,
          -3.2677183151245117,
          -2.851285457611084,
          -2.6895222663879395,
          -3.7030038833618164,
          -2.7571182250976562,
          -3.3077380657196045,
          -2.9420182704925537,
          -2.290158748626709,
          -3.2401442527770996,
          -2.9200260639190674,
          -2.7689239978790283,
          -3.2384696006774902,
          -3.297175407409668,
          -2.7922720909118652,
          -3.4108405113220215,
          -3.0378592014312744,
          -0.9409003853797913,
          -3.2723753452301025,
          -3.124380350112915,
          -2.860473394393921,
          -2.9661965370178223,
          -2.4219913482666016,
          -2.6918601989746094,
          -2.2474069595336914,
          -2.432389259338379,
          -3.0938804149627686,
          -3.0761818885803223,
          -2.330247402191162,
          -3.329399824142456,
          -2.348616600036621,
          -2.77378511428833,
          -3.0535099506378174,
          -2.844621419906616,
          -3.1733193397521973,
          -2.9433302879333496,
          -2.1045570373535156,
          -2.9706904888153076,
          -3.477248430252075,
          -2.787231683731079,
          -2.5989694595336914,
          -2.6355152130126953,
          -3.489563226699829,
          -3.2058234214782715,
          -1.7262661457061768,
          -2.1224966049194336,
          -1.7696707248687744,
          -3.168163776397705,
          -2.627779006958008,
          -2.920746088027954,
          -3.481616258621216,
          -2.6906609535217285,
          -3.3876709938049316,
          -2.086189031600952,
          -2.340768337249756,
          -2.8232765197753906,
          -2.6650116443634033,
          -2.1538872718811035,
          -2.369096040725708,
          -1.724156141281128,
          -1.6073145866394043,
          -2.9983582496643066,
          -2.9447760581970215,
          -2.1545157432556152,
          -1.450316309928894,
          -2.8694889545440674,
          -2.997811794281006,
          -2.781893491744995,
          -2.510517120361328,
          -3.0668296813964844,
          -1.4818843603134155,
          -2.0377085208892822,
          -3.131009817123413,
          -3.2297921180725098,
          -2.984567642211914,
          -2.7637321949005127,
          -3.3744585514068604,
          -3.0924227237701416,
          -3.883490800857544,
          -2.893298387527466,
          -3.476595401763916,
          -1.7414922714233398,
          -2.8558132648468018,
          -3.836148738861084,
          -2.525812864303589,
          -3.271833896636963,
          -3.3678030967712402,
          -2.273033618927002,
          -3.4495105743408203,
          -2.8490076065063477,
          -2.2371373176574707,
          -3.0843286514282227,
          -2.379704236984253,
          -2.5471761226654053,
          -2.799499034881592,
          -2.6263818740844727,
          -2.5010316371917725,
          -0.9783591032028198,
          -3.3041207790374756,
          -3.847897529602051,
          -2.5178909301757812,
          -2.8254942893981934,
          -3.1403095722198486,
          -3.1865437030792236,
          -3.5030274391174316,
          -3.692138433456421,
          -2.69805908203125,
          -2.27990460395813,
          -2.9386227130889893,
          -2.1404473781585693,
          -2.695204973220825,
          -2.8195960521698,
          -1.9781184196472168,
          -2.5903382301330566,
          -0.7505581974983215,
          -3.0409960746765137,
          0.8513615727424622,
          -2.7309157848358154,
          -2.1504533290863037,
          -2.2154479026794434,
          -2.7767887115478516,
          -3.095118522644043,
          -2.2958946228027344,
          -2.17171573638916,
          -3.0468459129333496,
          -2.8234872817993164,
          -1.6126337051391602,
          -1.026059627532959,
          -2.128602981567383,
          -1.9082139730453491,
          -2.4382636547088623,
          -2.564155101776123,
          -2.7573182582855225,
          -1.5796781778335571,
          -2.439640522003174,
          0.7788267135620117,
          -2.855015993118286,
          -2.090773820877075,
          -1.5924750566482544,
          -2.065340995788574,
          -1.8304789066314697,
          1.3226840496063232,
          -1.8804718255996704,
          -1.3886587619781494,
          -2.7601332664489746,
          -1.2127999067306519,
          -0.9505102038383484,
          -1.250636100769043,
          0.3780072033405304,
          -1.4605302810668945,
          -2.5536599159240723,
          -0.6317431330680847,
          -2.023458957672119,
          8.526052474975586,
          -1.4691803455352783,
          8.526052474975586,
          -0.8417564034461975,
          -1.226963758468628,
          -0.6613055467605591,
          -1.2379283905029297,
          8.526052474975586,
          8.526052474975586,
          0.3780072033405304,
          8.526052474975586,
          0.4201107919216156,
          8.526052474975586,
          -0.29743653535842896,
          -0.8050052523612976,
          8.526052474975586,
          -0.7434182167053223,
          0.7793416976928711,
          3.1119918823242188,
          0.3955583870410919,
          0.3955583870410919,
          -0.7194744348526001,
          1.4608845710754395,
          8.526052474975586,
          0.8522627353668213,
          0.6762245893478394,
          0.3780072033405304,
          2.25467586517334,
          2.9024150371551514,
          2.0799193382263184,
          0.4674661159515381,
          0.7991671562194824,
          8.526052474975586,
          8.526052474975586,
          8.526052474975586,
          0.543769896030426,
          8.526052474975586,
          8.526052474975586,
          8.526052474975586,
          8.526052474975586,
          8.526052474975586,
          8.526052474975586,
          8.526052474975586,
          8.526052474975586,
          8.526052474975586,
          8.526052474975586,
          8.526052474975586,
          8.526052474975586,
          8.526052474975586,
          8.526052474975586,
          8.526052474975586,
          8.526052474975586,
          8.526052474975586,
          8.526052474975586,
          8.526052474975586,
          8.526052474975586,
          8.526052474975586,
          8.526052474975586,
          8.526052474975586,
          8.526052474975586,
          8.526052474975586,
          8.526052474975586,
          8.526052474975586,
          8.526052474975586,
          8.526052474975586,
          8.526052474975586,
          8.526052474975586,
          8.526052474975586,
          8.526052474975586,
          8.526052474975586,
          8.526052474975586,
          8.526052474975586,
          8.526052474975586,
          8.526052474975586,
          8.526052474975586,
          8.526052474975586,
          8.526052474975586,
          8.526052474975586,
          8.526052474975586,
          8.526052474975586,
          8.526052474975586,
          8.526052474975586,
          8.526052474975586,
          8.526052474975586,
          8.526052474975586,
          8.526052474975586,
          8.526052474975586,
          8.526052474975586,
          8.526052474975586,
          8.526052474975586,
          8.526052474975586,
          8.526052474975586,
          8.526052474975586,
          8.526052474975586,
          8.526052474975586,
          8.526052474975586,
          8.526052474975586,
          8.526052474975586,
          8.526052474975586,
          8.526052474975586,
          8.526052474975586,
          8.526052474975586,
          8.526052474975586,
          8.526052474975586,
          8.526052474975586
         ],
         "xaxis": "x",
         "y": [
          -0.8244380950927734,
          0.5424465537071228,
          0.42919257283210754,
          0.28541499376296997,
          1.426340937614441,
          -0.05906791612505913,
          0.07533377408981323,
          2.630840301513672,
          1.1600936651229858,
          0.7446102499961853,
          1.7378462553024292,
          1.653693675994873,
          1.112261414527893,
          0.38369736075401306,
          0.7321794033050537,
          1.3455733060836792,
          1.4643867015838623,
          0.14836786687374115,
          2.6426217555999756,
          1.8416528701782227,
          0.935200572013855,
          1.5841459035873413,
          -0.15311643481254578,
          -0.2767447531223297,
          1.7419936656951904,
          0.27936235070228577,
          1.1308245658874512,
          -0.7151269316673279,
          -0.11889519542455673,
          2.258305311203003,
          0.3195658326148987,
          2.375778913497925,
          0.2838594913482666,
          -0.3177480399608612,
          0.41257646679878235,
          0.8576185703277588,
          -0.25260236859321594,
          3.093496084213257,
          -0.36336350440979004,
          1.160500168800354,
          1.2065485715866089,
          1.4188287258148193,
          0.5757500529289246,
          -0.8041519522666931,
          0.12558305263519287,
          1.3232603073120117,
          0.11415282636880875,
          1.7355655431747437,
          0.9947115778923035,
          1.0944498777389526,
          -2.021700382232666,
          0.9343681931495667,
          1.0313057899475098,
          -2.5093681812286377,
          0.9774909615516663,
          1.0710718631744385,
          0.4651082754135132,
          0.023131269961595535,
          1.3500195741653442,
          1.458404779434204,
          1.0531306266784668,
          -0.19723720848560333,
          2.0679218769073486,
          1.9735909700393677,
          -0.1859600991010666,
          0.2470337599515915,
          -0.20374080538749695,
          -0.27739188075065613,
          -0.6292308568954468,
          1.56082022190094,
          1.9754704236984253,
          -0.33357876539230347,
          1.1079638004302979,
          -0.14706692099571228,
          -0.7074020504951477,
          1.6164687871932983,
          -0.27857282757759094,
          0.7161666750907898,
          0.777796745300293,
          -0.16274885833263397,
          0.6196485161781311,
          1.2680397033691406,
          -1.8907718658447266,
          -1.484743595123291,
          1.1352882385253906,
          0.41144677996635437,
          -0.5919172167778015,
          0.13405641913414001,
          1.9776400327682495,
          -0.8455555438995361,
          0.8919278383255005,
          -1.359520435333252,
          0.6500859260559082,
          0.8513426780700684,
          3.3365235328674316,
          2.5443320274353027,
          1.678774118423462,
          0.23087890446186066,
          1.8110113143920898,
          -0.4742003381252289,
          1.0172420740127563,
          0.03179468214511871,
          0.8677850961685181,
          1.4781630039215088,
          1.0955239534378052,
          -0.48235389590263367,
          1.3844257593154907,
          0.7434496879577637,
          1.8951761722564697,
          0.6429423689842224,
          -1.1961573362350464,
          0.4388067126274109,
          1.2219338417053223,
          0.44982317090034485,
          -0.05379066988825798,
          1.3859421014785767,
          0.45916426181793213,
          2.132925510406494,
          0.15466749668121338,
          -1.3388749361038208,
          2.228069305419922,
          0.8484548330307007,
          0.5339934229850769,
          0.6870402693748474,
          -1.2188522815704346,
          -1.7419432401657104,
          -3.1626944541931152,
          -1.0479307174682617,
          0.42007437348365784,
          1.0527182817459106,
          1.0563336610794067,
          1.3352879285812378,
          1.023227572441101,
          0.8504267930984497,
          0.36588406562805176,
          0.8090638518333435,
          1.6507972478866577,
          2.058978319168091,
          -0.31651225686073303,
          -0.33713480830192566,
          1.6126914024353027,
          -1.211944818496704,
          -0.3892495334148407,
          -0.39702698588371277,
          0.5638681054115295,
          0.36506688594818115,
          -1.4739071130752563,
          1.0001709461212158,
          0.9636417627334595,
          2.787003517150879,
          1.7879940271377563,
          -0.8498087525367737,
          2.2271416187286377,
          0.7926063537597656,
          1.240605115890503,
          0.7644333839416504,
          -0.7907794117927551,
          1.3878059387207031,
          -1.787956953048706,
          -1.479174017906189,
          1.4189658164978027,
          -1.0564836263656616,
          0.3192637264728546,
          1.9197616577148438,
          0.6529732346534729,
          -0.10061539709568024,
          0.8095489740371704,
          -0.883754551410675,
          0.8960602283477783,
          0.8473964333534241,
          0.42010241746902466,
          0.4836080074310303,
          0.33151325583457947,
          1.0133920907974243,
          -1.0630239248275757,
          1.0706795454025269,
          1.3560625314712524,
          -0.23251716792583466,
          -0.03854567930102348,
          1.8349976539611816,
          1.7753221988677979,
          0.37746918201446533,
          0.41669219732284546,
          0.4071601331233978,
          -0.456327348947525,
          0.0558219850063324,
          0.9689297080039978,
          0.19307498633861542,
          0.6496965885162354,
          -1.2678910493850708,
          -0.05849449709057808,
          0.6097803115844727,
          -1.7219326496124268,
          -0.34071439504623413,
          0.5712913870811462,
          1.6756142377853394,
          -0.08698803931474686,
          -1.7646111249923706,
          -0.47508424520492554,
          -2.4167351722717285,
          0.8676598072052002,
          0.03502988815307617,
          -1.7114076614379883,
          -1.2116931676864624,
          0.06475932151079178,
          0.023773184046149254,
          -0.37989407777786255,
          2.1613874435424805,
          -1.4203591346740723,
          0.05431187152862549,
          -2.3127598762512207,
          -0.5819477438926697,
          -0.22073426842689514,
          -0.9482136368751526,
          -1.6406673192977905,
          -2.564444065093994,
          -4.066132068634033,
          0.7457534074783325,
          -1.3082408905029297,
          -2.1442477703094482,
          0.22433680295944214,
          -2.4364702701568604,
          0.43997839093208313,
          0.48644647002220154,
          -0.9346242547035217,
          -2.589664936065674,
          0.5791242718696594,
          -0.7278632521629333,
          -3.1642706394195557,
          -2.6815602779388428,
          -1.3276067972183228,
          -3.498295783996582,
          0.6374102234840393,
          -1.8354843854904175,
          -1.2495709657669067,
          0.45397233963012695,
          0.6787425875663757,
          -1.2673695087432861,
          -0.8445252776145935,
          -2.094792604446411,
          -1.71002197265625,
          -1.9438484907150269,
          -1.05717933177948,
          -1.9490011930465698,
          0.3915059566497803,
          -4.219643592834473,
          -2.3051979541778564,
          -3.080132484436035,
          -1.8012614250183105,
          -0.18792353570461273,
          -5.836013317108154,
          -0.9485760927200317,
          -1.5747312307357788,
          -0.8798106908798218,
          -0.027932412922382355,
          0.4158081114292145,
          -0.7126396298408508,
          0.4158081114292145,
          -2.0779178142547607,
          -4.797976016998291,
          -1.7891007661819458,
          -2.36905837059021,
          0.4158081114292145,
          0.4158081114292145,
          -5.836013317108154,
          0.4158081114292145,
          -1.347164273262024,
          0.4158081114292145,
          -1.33395254611969,
          -1.404735803604126,
          0.4158081114292145,
          -0.7944740056991577,
          -5.244264125823975,
          -2.066453695297241,
          -5.5993804931640625,
          -5.5993804931640625,
          -2.33100962638855,
          -3.9376866817474365,
          0.4158081114292145,
          -3.1854851245880127,
          -2.896995782852173,
          -5.836013317108154,
          -1.8041507005691528,
          -1.1595938205718994,
          -0.4399625062942505,
          -1.4439151287078857,
          -1.294324278831482,
          0.4158081114292145,
          0.4158081114292145,
          0.4158081114292145,
          -3.912252426147461,
          0.4158081114292145,
          0.4158081114292145,
          0.4158081114292145,
          0.4158081114292145,
          0.4158081114292145,
          0.4158081114292145,
          0.4158081114292145,
          0.4158081114292145,
          0.4158081114292145,
          0.4158081114292145,
          0.4158081114292145,
          0.4158081114292145,
          0.4158081114292145,
          0.4158081114292145,
          0.4158081114292145,
          0.4158081114292145,
          0.4158081114292145,
          0.4158081114292145,
          0.4158081114292145,
          0.4158081114292145,
          0.4158081114292145,
          0.4158081114292145,
          0.4158081114292145,
          0.41580820083618164,
          0.4158081114292145,
          0.4158081114292145,
          0.4158081114292145,
          0.4158081114292145,
          0.4158081114292145,
          0.4158081114292145,
          0.4158081114292145,
          0.4158081114292145,
          0.4158081114292145,
          0.4158081114292145,
          0.4158081114292145,
          0.4158081114292145,
          0.4158081114292145,
          0.4158081114292145,
          0.4158081114292145,
          0.4158081114292145,
          0.4158081114292145,
          0.4158081114292145,
          0.4158081114292145,
          0.4158081114292145,
          0.4158081114292145,
          0.4158081114292145,
          0.4158081114292145,
          0.4158081114292145,
          0.4158081114292145,
          0.4158081114292145,
          0.4158081114292145,
          0.4158081114292145,
          0.4158081114292145,
          0.4158081114292145,
          0.4158081114292145,
          0.4158081114292145,
          0.4158081114292145,
          0.4158081114292145,
          0.4158081114292145,
          0.4158081114292145,
          0.4158081114292145,
          0.4158081114292145,
          0.4158081114292145,
          0.4158081114292145,
          0.4158081114292145,
          0.4158081114292145,
          0.4158081114292145,
          0.4158081114292145,
          0.41580820083618164
         ],
         "yaxis": "y"
        }
       ],
       "layout": {
        "coloraxis": {
         "colorbar": {
          "tickmode": "linear",
          "title": {
           "text": "Rating Score"
          }
         },
         "colorscale": [
          [
           0,
           "#440154"
          ],
          [
           0.1111111111111111,
           "#482878"
          ],
          [
           0.2222222222222222,
           "#3e4989"
          ],
          [
           0.3333333333333333,
           "#31688e"
          ],
          [
           0.4444444444444444,
           "#26828e"
          ],
          [
           0.5555555555555556,
           "#1f9e89"
          ],
          [
           0.6666666666666666,
           "#35b779"
          ],
          [
           0.7777777777777778,
           "#6ece58"
          ],
          [
           0.8888888888888888,
           "#b5de2b"
          ],
          [
           1,
           "#fde725"
          ]
         ]
        },
        "hovermode": "closest",
        "legend": {
         "tracegroupgap": 0
        },
        "template": {
         "data": {
          "bar": [
           {
            "error_x": {
             "color": "#2a3f5f"
            },
            "error_y": {
             "color": "#2a3f5f"
            },
            "marker": {
             "line": {
              "color": "white",
              "width": 0.5
             },
             "pattern": {
              "fillmode": "overlay",
              "size": 10,
              "solidity": 0.2
             }
            },
            "type": "bar"
           }
          ],
          "barpolar": [
           {
            "marker": {
             "line": {
              "color": "white",
              "width": 0.5
             },
             "pattern": {
              "fillmode": "overlay",
              "size": 10,
              "solidity": 0.2
             }
            },
            "type": "barpolar"
           }
          ],
          "carpet": [
           {
            "aaxis": {
             "endlinecolor": "#2a3f5f",
             "gridcolor": "#C8D4E3",
             "linecolor": "#C8D4E3",
             "minorgridcolor": "#C8D4E3",
             "startlinecolor": "#2a3f5f"
            },
            "baxis": {
             "endlinecolor": "#2a3f5f",
             "gridcolor": "#C8D4E3",
             "linecolor": "#C8D4E3",
             "minorgridcolor": "#C8D4E3",
             "startlinecolor": "#2a3f5f"
            },
            "type": "carpet"
           }
          ],
          "choropleth": [
           {
            "colorbar": {
             "outlinewidth": 0,
             "ticks": ""
            },
            "type": "choropleth"
           }
          ],
          "contour": [
           {
            "colorbar": {
             "outlinewidth": 0,
             "ticks": ""
            },
            "colorscale": [
             [
              0,
              "#0d0887"
             ],
             [
              0.1111111111111111,
              "#46039f"
             ],
             [
              0.2222222222222222,
              "#7201a8"
             ],
             [
              0.3333333333333333,
              "#9c179e"
             ],
             [
              0.4444444444444444,
              "#bd3786"
             ],
             [
              0.5555555555555556,
              "#d8576b"
             ],
             [
              0.6666666666666666,
              "#ed7953"
             ],
             [
              0.7777777777777778,
              "#fb9f3a"
             ],
             [
              0.8888888888888888,
              "#fdca26"
             ],
             [
              1,
              "#f0f921"
             ]
            ],
            "type": "contour"
           }
          ],
          "contourcarpet": [
           {
            "colorbar": {
             "outlinewidth": 0,
             "ticks": ""
            },
            "type": "contourcarpet"
           }
          ],
          "heatmap": [
           {
            "colorbar": {
             "outlinewidth": 0,
             "ticks": ""
            },
            "colorscale": [
             [
              0,
              "#0d0887"
             ],
             [
              0.1111111111111111,
              "#46039f"
             ],
             [
              0.2222222222222222,
              "#7201a8"
             ],
             [
              0.3333333333333333,
              "#9c179e"
             ],
             [
              0.4444444444444444,
              "#bd3786"
             ],
             [
              0.5555555555555556,
              "#d8576b"
             ],
             [
              0.6666666666666666,
              "#ed7953"
             ],
             [
              0.7777777777777778,
              "#fb9f3a"
             ],
             [
              0.8888888888888888,
              "#fdca26"
             ],
             [
              1,
              "#f0f921"
             ]
            ],
            "type": "heatmap"
           }
          ],
          "heatmapgl": [
           {
            "colorbar": {
             "outlinewidth": 0,
             "ticks": ""
            },
            "colorscale": [
             [
              0,
              "#0d0887"
             ],
             [
              0.1111111111111111,
              "#46039f"
             ],
             [
              0.2222222222222222,
              "#7201a8"
             ],
             [
              0.3333333333333333,
              "#9c179e"
             ],
             [
              0.4444444444444444,
              "#bd3786"
             ],
             [
              0.5555555555555556,
              "#d8576b"
             ],
             [
              0.6666666666666666,
              "#ed7953"
             ],
             [
              0.7777777777777778,
              "#fb9f3a"
             ],
             [
              0.8888888888888888,
              "#fdca26"
             ],
             [
              1,
              "#f0f921"
             ]
            ],
            "type": "heatmapgl"
           }
          ],
          "histogram": [
           {
            "marker": {
             "pattern": {
              "fillmode": "overlay",
              "size": 10,
              "solidity": 0.2
             }
            },
            "type": "histogram"
           }
          ],
          "histogram2d": [
           {
            "colorbar": {
             "outlinewidth": 0,
             "ticks": ""
            },
            "colorscale": [
             [
              0,
              "#0d0887"
             ],
             [
              0.1111111111111111,
              "#46039f"
             ],
             [
              0.2222222222222222,
              "#7201a8"
             ],
             [
              0.3333333333333333,
              "#9c179e"
             ],
             [
              0.4444444444444444,
              "#bd3786"
             ],
             [
              0.5555555555555556,
              "#d8576b"
             ],
             [
              0.6666666666666666,
              "#ed7953"
             ],
             [
              0.7777777777777778,
              "#fb9f3a"
             ],
             [
              0.8888888888888888,
              "#fdca26"
             ],
             [
              1,
              "#f0f921"
             ]
            ],
            "type": "histogram2d"
           }
          ],
          "histogram2dcontour": [
           {
            "colorbar": {
             "outlinewidth": 0,
             "ticks": ""
            },
            "colorscale": [
             [
              0,
              "#0d0887"
             ],
             [
              0.1111111111111111,
              "#46039f"
             ],
             [
              0.2222222222222222,
              "#7201a8"
             ],
             [
              0.3333333333333333,
              "#9c179e"
             ],
             [
              0.4444444444444444,
              "#bd3786"
             ],
             [
              0.5555555555555556,
              "#d8576b"
             ],
             [
              0.6666666666666666,
              "#ed7953"
             ],
             [
              0.7777777777777778,
              "#fb9f3a"
             ],
             [
              0.8888888888888888,
              "#fdca26"
             ],
             [
              1,
              "#f0f921"
             ]
            ],
            "type": "histogram2dcontour"
           }
          ],
          "mesh3d": [
           {
            "colorbar": {
             "outlinewidth": 0,
             "ticks": ""
            },
            "type": "mesh3d"
           }
          ],
          "parcoords": [
           {
            "line": {
             "colorbar": {
              "outlinewidth": 0,
              "ticks": ""
             }
            },
            "type": "parcoords"
           }
          ],
          "pie": [
           {
            "automargin": true,
            "type": "pie"
           }
          ],
          "scatter": [
           {
            "fillpattern": {
             "fillmode": "overlay",
             "size": 10,
             "solidity": 0.2
            },
            "type": "scatter"
           }
          ],
          "scatter3d": [
           {
            "line": {
             "colorbar": {
              "outlinewidth": 0,
              "ticks": ""
             }
            },
            "marker": {
             "colorbar": {
              "outlinewidth": 0,
              "ticks": ""
             }
            },
            "type": "scatter3d"
           }
          ],
          "scattercarpet": [
           {
            "marker": {
             "colorbar": {
              "outlinewidth": 0,
              "ticks": ""
             }
            },
            "type": "scattercarpet"
           }
          ],
          "scattergeo": [
           {
            "marker": {
             "colorbar": {
              "outlinewidth": 0,
              "ticks": ""
             }
            },
            "type": "scattergeo"
           }
          ],
          "scattergl": [
           {
            "marker": {
             "colorbar": {
              "outlinewidth": 0,
              "ticks": ""
             }
            },
            "type": "scattergl"
           }
          ],
          "scattermapbox": [
           {
            "marker": {
             "colorbar": {
              "outlinewidth": 0,
              "ticks": ""
             }
            },
            "type": "scattermapbox"
           }
          ],
          "scatterpolar": [
           {
            "marker": {
             "colorbar": {
              "outlinewidth": 0,
              "ticks": ""
             }
            },
            "type": "scatterpolar"
           }
          ],
          "scatterpolargl": [
           {
            "marker": {
             "colorbar": {
              "outlinewidth": 0,
              "ticks": ""
             }
            },
            "type": "scatterpolargl"
           }
          ],
          "scatterternary": [
           {
            "marker": {
             "colorbar": {
              "outlinewidth": 0,
              "ticks": ""
             }
            },
            "type": "scatterternary"
           }
          ],
          "surface": [
           {
            "colorbar": {
             "outlinewidth": 0,
             "ticks": ""
            },
            "colorscale": [
             [
              0,
              "#0d0887"
             ],
             [
              0.1111111111111111,
              "#46039f"
             ],
             [
              0.2222222222222222,
              "#7201a8"
             ],
             [
              0.3333333333333333,
              "#9c179e"
             ],
             [
              0.4444444444444444,
              "#bd3786"
             ],
             [
              0.5555555555555556,
              "#d8576b"
             ],
             [
              0.6666666666666666,
              "#ed7953"
             ],
             [
              0.7777777777777778,
              "#fb9f3a"
             ],
             [
              0.8888888888888888,
              "#fdca26"
             ],
             [
              1,
              "#f0f921"
             ]
            ],
            "type": "surface"
           }
          ],
          "table": [
           {
            "cells": {
             "fill": {
              "color": "#EBF0F8"
             },
             "line": {
              "color": "white"
             }
            },
            "header": {
             "fill": {
              "color": "#C8D4E3"
             },
             "line": {
              "color": "white"
             }
            },
            "type": "table"
           }
          ]
         },
         "layout": {
          "annotationdefaults": {
           "arrowcolor": "#2a3f5f",
           "arrowhead": 0,
           "arrowwidth": 1
          },
          "autotypenumbers": "strict",
          "coloraxis": {
           "colorbar": {
            "outlinewidth": 0,
            "ticks": ""
           }
          },
          "colorscale": {
           "diverging": [
            [
             0,
             "#8e0152"
            ],
            [
             0.1,
             "#c51b7d"
            ],
            [
             0.2,
             "#de77ae"
            ],
            [
             0.3,
             "#f1b6da"
            ],
            [
             0.4,
             "#fde0ef"
            ],
            [
             0.5,
             "#f7f7f7"
            ],
            [
             0.6,
             "#e6f5d0"
            ],
            [
             0.7,
             "#b8e186"
            ],
            [
             0.8,
             "#7fbc41"
            ],
            [
             0.9,
             "#4d9221"
            ],
            [
             1,
             "#276419"
            ]
           ],
           "sequential": [
            [
             0,
             "#0d0887"
            ],
            [
             0.1111111111111111,
             "#46039f"
            ],
            [
             0.2222222222222222,
             "#7201a8"
            ],
            [
             0.3333333333333333,
             "#9c179e"
            ],
            [
             0.4444444444444444,
             "#bd3786"
            ],
            [
             0.5555555555555556,
             "#d8576b"
            ],
            [
             0.6666666666666666,
             "#ed7953"
            ],
            [
             0.7777777777777778,
             "#fb9f3a"
            ],
            [
             0.8888888888888888,
             "#fdca26"
            ],
            [
             1,
             "#f0f921"
            ]
           ],
           "sequentialminus": [
            [
             0,
             "#0d0887"
            ],
            [
             0.1111111111111111,
             "#46039f"
            ],
            [
             0.2222222222222222,
             "#7201a8"
            ],
            [
             0.3333333333333333,
             "#9c179e"
            ],
            [
             0.4444444444444444,
             "#bd3786"
            ],
            [
             0.5555555555555556,
             "#d8576b"
            ],
            [
             0.6666666666666666,
             "#ed7953"
            ],
            [
             0.7777777777777778,
             "#fb9f3a"
            ],
            [
             0.8888888888888888,
             "#fdca26"
            ],
            [
             1,
             "#f0f921"
            ]
           ]
          },
          "colorway": [
           "#636efa",
           "#EF553B",
           "#00cc96",
           "#ab63fa",
           "#FFA15A",
           "#19d3f3",
           "#FF6692",
           "#B6E880",
           "#FF97FF",
           "#FECB52"
          ],
          "font": {
           "color": "#2a3f5f"
          },
          "geo": {
           "bgcolor": "white",
           "lakecolor": "white",
           "landcolor": "white",
           "showlakes": true,
           "showland": true,
           "subunitcolor": "#C8D4E3"
          },
          "hoverlabel": {
           "align": "left"
          },
          "hovermode": "closest",
          "mapbox": {
           "style": "light"
          },
          "paper_bgcolor": "white",
          "plot_bgcolor": "white",
          "polar": {
           "angularaxis": {
            "gridcolor": "#EBF0F8",
            "linecolor": "#EBF0F8",
            "ticks": ""
           },
           "bgcolor": "white",
           "radialaxis": {
            "gridcolor": "#EBF0F8",
            "linecolor": "#EBF0F8",
            "ticks": ""
           }
          },
          "scene": {
           "xaxis": {
            "backgroundcolor": "white",
            "gridcolor": "#DFE8F3",
            "gridwidth": 2,
            "linecolor": "#EBF0F8",
            "showbackground": true,
            "ticks": "",
            "zerolinecolor": "#EBF0F8"
           },
           "yaxis": {
            "backgroundcolor": "white",
            "gridcolor": "#DFE8F3",
            "gridwidth": 2,
            "linecolor": "#EBF0F8",
            "showbackground": true,
            "ticks": "",
            "zerolinecolor": "#EBF0F8"
           },
           "zaxis": {
            "backgroundcolor": "white",
            "gridcolor": "#DFE8F3",
            "gridwidth": 2,
            "linecolor": "#EBF0F8",
            "showbackground": true,
            "ticks": "",
            "zerolinecolor": "#EBF0F8"
           }
          },
          "shapedefaults": {
           "line": {
            "color": "#2a3f5f"
           }
          },
          "ternary": {
           "aaxis": {
            "gridcolor": "#DFE8F3",
            "linecolor": "#A2B1C6",
            "ticks": ""
           },
           "baxis": {
            "gridcolor": "#DFE8F3",
            "linecolor": "#A2B1C6",
            "ticks": ""
           },
           "bgcolor": "white",
           "caxis": {
            "gridcolor": "#DFE8F3",
            "linecolor": "#A2B1C6",
            "ticks": ""
           }
          },
          "title": {
           "x": 0.05
          },
          "xaxis": {
           "automargin": true,
           "gridcolor": "#EBF0F8",
           "linecolor": "#EBF0F8",
           "ticks": "",
           "title": {
            "standoff": 15
           },
           "zerolinecolor": "#EBF0F8",
           "zerolinewidth": 2
          },
          "yaxis": {
           "automargin": true,
           "gridcolor": "#EBF0F8",
           "linecolor": "#EBF0F8",
           "ticks": "",
           "title": {
            "standoff": 15
           },
           "zerolinecolor": "#EBF0F8",
           "zerolinewidth": 2
          }
         }
        },
        "title": {
         "text": "Embeddings by Rating Score (PCA 1: 47.0%, PCA 2: 4.6%)"
        },
        "xaxis": {
         "anchor": "y",
         "domain": [
          0,
          1
         ],
         "title": {
          "text": "PCA 1 (47.0% variance)"
         }
        },
        "yaxis": {
         "anchor": "x",
         "domain": [
          0,
          1
         ],
         "title": {
          "text": "PCA 2 (4.6% variance)"
         }
        }
       }
      }
     },
     "metadata": {},
     "output_type": "display_data"
    },
    {
     "name": "stderr",
     "output_type": "stream",
     "text": [
      "/Users/jobandtalent/opt/anaconda3/envs/sar/lib/python3.9/site-packages/umap/umap_.py:1945: UserWarning:\n",
      "\n",
      "n_jobs value 1 overridden to 1 by setting random_state. Use no seed for parallelism.\n",
      "\n"
     ]
    },
    {
     "data": {
      "application/vnd.plotly.v1+json": {
       "config": {
        "plotlyServerURL": "https://plot.ly"
       },
       "data": [
        {
         "hovertemplate": "sentiment_label=positive<br>UMAP Dimension 1=%{x}<br>UMAP Dimension 2=%{y}<extra></extra>",
         "legendgroup": "positive",
         "marker": {
          "color": "green",
          "opacity": 0.7,
          "symbol": "circle"
         },
         "mode": "markers",
         "name": "positive",
         "orientation": "v",
         "showlegend": true,
         "type": "scatter",
         "x": [
          12.205307960510254,
          12.725332260131836,
          11.861700057983398,
          11.201041221618652,
          13.006625175476074,
          10.393253326416016,
          11.010327339172363,
          11.45495891571045,
          10.88776683807373,
          12.368928909301758,
          12.257487297058105,
          11.985109329223633,
          11.4398193359375,
          13.100544929504395,
          11.831893920898438,
          12.144344329833984,
          11.466692924499512,
          10.864188194274902,
          13.163841247558594,
          11.691573143005371,
          12.891243934631348,
          11.787224769592285,
          12.169694900512695,
          12.402688980102539,
          12.491582870483398,
          10.918188095092773,
          11.869951248168945,
          12.529263496398926,
          13.459798812866211,
          11.432284355163574,
          10.699257850646973,
          11.607124328613281,
          10.992615699768066,
          11.475040435791016,
          11.864742279052734,
          12.108160972595215,
          13.11963939666748,
          13.125655174255371,
          10.978577613830566,
          12.15764045715332,
          10.73165225982666,
          12.019124984741211,
          13.377180099487305,
          10.425857543945312,
          10.894378662109375,
          13.453083038330078,
          10.5051908493042,
          12.00835132598877,
          13.276856422424316,
          12.636092185974121,
          11.476985931396484,
          11.183146476745605,
          12.820226669311523,
          12.367368698120117,
          13.270671844482422,
          12.096868515014648,
          11.936651229858398,
          11.91515064239502,
          12.815356254577637,
          11.239014625549316,
          11.552299499511719,
          13.343032836914062,
          10.758234977722168,
          11.807577133178711,
          10.993903160095215,
          11.096198081970215,
          12.689216613769531,
          11.183675765991211,
          11.95938491821289,
          11.701456069946289,
          10.56879997253418,
          11.768839836120605,
          11.056474685668945,
          12.905660629272461,
          13.440756797790527,
          12.252187728881836,
          12.374448776245117,
          11.449178695678711,
          11.43710708618164,
          10.049964904785156,
          11.390911102294922,
          11.20151424407959,
          10.179896354675293,
          12.463191986083984,
          11.887834548950195,
          10.930404663085938,
          12.249495506286621,
          13.11807632446289,
          12.851789474487305,
          10.895299911499023,
          10.341851234436035,
          13.214225769042969,
          11.675581932067871,
          11.255115509033203,
          12.121224403381348,
          12.041176795959473,
          11.062254905700684,
          12.28518295288086,
          11.481363296508789,
          12.725383758544922,
          11.407052040100098,
          13.565210342407227,
          13.373641014099121,
          13.519975662231445,
          13.115682601928711,
          12.52413558959961,
          11.100592613220215,
          10.471100807189941,
          12.028717041015625,
          11.566028594970703,
          11.402361869812012,
          12.69825267791748,
          11.196812629699707,
          12.545268058776855,
          12.538228034973145,
          11.44430923461914,
          12.951544761657715,
          13.226480484008789,
          11.624953269958496,
          12.906864166259766,
          12.201980590820312,
          11.311227798461914,
          12.385953903198242,
          11.349991798400879,
          11.901459693908691,
          12.585752487182617,
          13.488558769226074,
          13.036404609680176,
          12.0316801071167,
          10.59957504272461,
          11.504522323608398,
          11.058963775634766,
          11.50893497467041,
          9.92419719696045,
          11.993867874145508,
          10.1066255569458,
          10.007929801940918,
          12.507603645324707,
          12.33450984954834,
          12.475666999816895,
          11.248821258544922,
          11.099008560180664,
          12.87047004699707,
          9.9111909866333,
          10.398232460021973,
          13.642315864562988,
          10.668326377868652,
          9.847370147705078,
          10.490367889404297,
          10.758810043334961,
          11.870750427246094,
          13.555556297302246,
          13.322816848754883,
          10.27840518951416,
          11.196313858032227,
          10.549822807312012,
          10.151927947998047,
          11.944097518920898,
          13.73792552947998,
          12.401299476623535,
          9.914094924926758,
          11.651639938354492,
          11.32154655456543,
          11.983724594116211,
          13.132440567016602,
          10.60300064086914,
          12.538434028625488,
          11.440023422241211,
          12.8790864944458,
          13.004165649414062,
          11.78415298461914,
          12.738635063171387,
          13.681315422058105,
          12.306421279907227,
          12.020978927612305,
          13.196036338806152,
          13.7022066116333,
          13.512889862060547,
          11.680954933166504,
          11.714038848876953,
          11.77194595336914,
          13.318071365356445,
          13.581490516662598,
          12.244792938232422,
          11.165778160095215,
          11.903864860534668,
          13.263872146606445,
          10.534049987792969,
          12.572027206420898,
          10.850659370422363,
          10.389322280883789,
          12.012682914733887,
          10.614903450012207,
          9.926981925964355,
          11.159696578979492,
          12.316866874694824,
          13.605668067932129,
          13.663656234741211,
          10.017317771911621,
          13.063491821289062,
          11.197916984558105,
          11.009283065795898,
          11.561053276062012,
          10.953995704650879,
          11.153800964355469,
          12.95512866973877,
          13.014167785644531,
          11.830009460449219,
          11.38707160949707,
          13.547540664672852,
          13.434921264648438,
          12.490660667419434,
          12.053001403808594,
          10.473074913024902,
          12.164168357849121,
          13.875985145568848,
          13.353751182556152,
          12.27490520477295,
          -9.132588386535645,
          10.185587882995605,
          -8.815534591674805,
          11.047749519348145,
          12.136509895324707,
          12.407506942749023,
          13.133535385131836,
          -8.652382850646973,
          12.127532005310059,
          -8.757647514343262,
          -8.83747673034668,
          10.200115203857422,
          11.037129402160645,
          -8.899664878845215,
          10.363386154174805,
          12.186250686645508,
          10.905914306640625,
          12.256226539611816,
          12.137943267822266,
          11.829154968261719,
          -9.000650405883789,
          11.238520622253418,
          11.91062068939209,
          12.216492652893066,
          10.892236709594727,
          10.81924819946289,
          10.334973335266113,
          10.303351402282715,
          -8.679377555847168,
          -8.8081693649292,
          12.290288925170898,
          -9.011709213256836,
          -8.782032012939453,
          -9.154438018798828,
          -9.028533935546875,
          -8.866678237915039,
          -8.996301651000977,
          -8.889973640441895,
          -8.97230052947998,
          -8.865150451660156,
          -8.835173606872559,
          -9.043381690979004,
          -9.02369213104248,
          -9.339195251464844,
          -8.678045272827148,
          -8.73444938659668,
          -8.77492618560791,
          -8.598169326782227,
          -8.680221557617188,
          -8.757478713989258,
          -9.35498332977295,
          -9.076032638549805,
          -9.010459899902344,
          -9.157214164733887,
          -9.341021537780762,
          -9.262033462524414,
          -9.40178108215332,
          -9.275314331054688,
          -9.398588180541992,
          -8.61743450164795,
          -8.625720977783203,
          -8.281359672546387,
          -8.5023775100708,
          -8.427628517150879,
          -9.167830467224121,
          -8.607492446899414,
          -9.205714225769043,
          -9.083061218261719,
          -8.29609489440918,
          -8.279427528381348,
          -8.263397216796875,
          -8.319377899169922,
          -8.32271957397461,
          -9.524386405944824,
          -8.441143035888672,
          -8.430051803588867,
          -8.713653564453125,
          -8.566805839538574,
          -9.086641311645508,
          -8.910188674926758,
          -9.011439323425293,
          -8.90139102935791,
          -8.58091926574707,
          -9.597214698791504,
          -9.277689933776855,
          -9.505075454711914,
          -8.412443161010742,
          -8.976919174194336,
          -8.463900566101074,
          -9.23403549194336
         ],
         "xaxis": "x",
         "y": [
          -10.130144119262695,
          -10.923133850097656,
          -10.477025985717773,
          -8.813654899597168,
          -10.637751579284668,
          -10.381508827209473,
          -9.931506156921387,
          -10.669833183288574,
          -10.230416297912598,
          -9.982612609863281,
          -10.609794616699219,
          -10.970452308654785,
          -9.899449348449707,
          -11.268515586853027,
          -11.759804725646973,
          -9.711684226989746,
          -9.74446964263916,
          -10.960077285766602,
          -10.635282516479492,
          -11.799978256225586,
          -9.537055015563965,
          -10.040740013122559,
          -12.042016983032227,
          -10.820175170898438,
          -10.766927719116211,
          -9.029339790344238,
          -10.611971855163574,
          -11.136104583740234,
          -10.848044395446777,
          -10.078080177307129,
          -10.12096118927002,
          -11.748687744140625,
          -10.533634185791016,
          -8.993865013122559,
          -10.905987739562988,
          -11.217158317565918,
          -9.868407249450684,
          -11.696166038513184,
          -11.731740951538086,
          -9.964798927307129,
          -9.791287422180176,
          -11.376426696777344,
          -9.779001235961914,
          -10.562341690063477,
          -11.470812797546387,
          -11.170236587524414,
          -10.733296394348145,
          -11.890585899353027,
          -11.001014709472656,
          -11.03221321105957,
          -11.643644332885742,
          -9.909496307373047,
          -9.035337448120117,
          -11.029881477355957,
          -11.580097198486328,
          -11.560242652893066,
          -10.156205177307129,
          -10.99512004852295,
          -10.343765258789062,
          -9.046849250793457,
          -9.1681547164917,
          -11.13312816619873,
          -10.332205772399902,
          -9.381246566772461,
          -10.536240577697754,
          -10.065509796142578,
          -10.150848388671875,
          -11.779169082641602,
          -9.980892181396484,
          -9.816896438598633,
          -10.319762229919434,
          -8.649258613586426,
          -11.761476516723633,
          -9.549622535705566,
          -10.438801765441895,
          -11.08069133758545,
          -10.71938705444336,
          -11.392878532409668,
          -11.307879447937012,
          -9.714378356933594,
          -10.191527366638184,
          -10.086515426635742,
          -10.784788131713867,
          -9.73111343383789,
          -10.462725639343262,
          -9.729715347290039,
          -11.773223876953125,
          -11.769636154174805,
          -10.546891212463379,
          -9.999170303344727,
          -10.332117080688477,
          -10.780848503112793,
          -11.770126342773438,
          -10.72607421875,
          -11.790860176086426,
          -10.773476600646973,
          -8.41732406616211,
          -12.07736587524414,
          -11.213254928588867,
          -9.614400863647461,
          -10.634961128234863,
          -11.294136047363281,
          -10.00398063659668,
          -9.46302604675293,
          -9.603447914123535,
          -10.384206771850586,
          -10.856597900390625,
          -11.135103225708008,
          -11.355233192443848,
          -10.535794258117676,
          -10.241601943969727,
          -10.594974517822266,
          -9.71455192565918,
          -11.821317672729492,
          -8.776397705078125,
          -9.613626480102539,
          -12.022543907165527,
          -9.387395858764648,
          -9.202820777893066,
          -10.199783325195312,
          -10.97547721862793,
          -11.162454605102539,
          -10.22249698638916,
          -10.272758483886719,
          -12.359945297241211,
          -12.018136978149414,
          -10.2625093460083,
          -12.081267356872559,
          -11.936460494995117,
          -10.189491271972656,
          -9.462630271911621,
          -8.745580673217773,
          -9.212667465209961,
          -10.427409172058105,
          -8.975582122802734,
          -10.594964981079102,
          -10.463950157165527,
          -10.738032341003418,
          -10.191006660461426,
          -9.616581916809082,
          -11.521530151367188,
          -11.487366676330566,
          -10.131031036376953,
          -10.308040618896484,
          -9.819183349609375,
          -10.316061973571777,
          -10.10748291015625,
          -10.168937683105469,
          -10.31790542602539,
          -11.778059005737305,
          -11.97279167175293,
          -10.722298622131348,
          -10.633869171142578,
          -9.280203819274902,
          -9.19621467590332,
          -11.64261531829834,
          -11.046591758728027,
          -10.200815200805664,
          -10.4194974899292,
          -9.79694652557373,
          -10.126169204711914,
          -8.605936050415039,
          -11.075335502624512,
          -9.679938316345215,
          -9.8864164352417,
          -9.372594833374023,
          -9.175711631774902,
          -10.040122032165527,
          -9.916111946105957,
          -9.34862232208252,
          -8.684431076049805,
          -9.92712688446045,
          -11.106054306030273,
          -11.349861145019531,
          -11.910709381103516,
          -9.839646339416504,
          -10.84041976928711,
          -9.354493141174316,
          -9.375564575195312,
          -9.442545890808105,
          -9.886549949645996,
          -10.201726913452148,
          -9.487689018249512,
          -6.283937931060791,
          -10.398244857788086,
          -8.984847068786621,
          -9.887758255004883,
          -11.08356761932373,
          -9.261907577514648,
          -11.891514778137207,
          -11.191500663757324,
          -9.443268775939941,
          -9.989570617675781,
          -10.644100189208984,
          -8.173906326293945,
          -6.419351577758789,
          -10.166951179504395,
          -9.559599876403809,
          -10.586938858032227,
          -9.007320404052734,
          -8.83357048034668,
          -11.655922889709473,
          -10.161001205444336,
          -7.619214057922363,
          -8.74326229095459,
          -9.000503540039062,
          -10.249356269836426,
          -7.1546783447265625,
          -11.792340278625488,
          -9.293047904968262,
          -9.292794227600098,
          -6.596092224121094,
          -9.103309631347656,
          -8.873732566833496,
          -6.2204670906066895,
          -10.421076774597168,
          -9.148520469665527,
          -9.035051345825195,
          -2.460477352142334,
          -9.614422798156738,
          -2.51779842376709,
          -8.14039421081543,
          -6.437465190887451,
          -9.064107894897461,
          -9.01508617401123,
          -2.483579635620117,
          -6.308157920837402,
          -2.4017372131347656,
          -2.7487454414367676,
          -9.079227447509766,
          -8.321958541870117,
          -2.597888708114624,
          -8.695558547973633,
          -6.256330490112305,
          -7.513861656188965,
          -6.3330159187316895,
          -6.200490951538086,
          -6.757206916809082,
          -2.388958692550659,
          -7.817206382751465,
          -6.759914875030518,
          -6.290045261383057,
          -7.612951755523682,
          -7.384800910949707,
          -8.581633567810059,
          -8.670304298400879,
          -2.7174675464630127,
          -2.570225715637207,
          -6.228769302368164,
          -2.4554052352905273,
          -2.4883060455322266,
          -2.914102077484131,
          -2.1452529430389404,
          -2.2841227054595947,
          -2.2139718532562256,
          -2.294001340866089,
          -2.333230972290039,
          -2.5164098739624023,
          -2.63112473487854,
          -2.4312665462493896,
          -2.147304058074951,
          -2.423251152038574,
          -2.7372474670410156,
          -2.0876033306121826,
          -2.7216477394104004,
          -2.475189685821533,
          -2.1805481910705566,
          -1.9568418264389038,
          -2.264246940612793,
          -2.1320061683654785,
          -2.873260498046875,
          -2.6458873748779297,
          -2.232495069503784,
          -2.7106387615203857,
          -2.5815815925598145,
          -2.9564197063446045,
          -2.3283324241638184,
          -1.9585425853729248,
          -2.900546073913574,
          -2.4610936641693115,
          -1.9829027652740479,
          -2.4201207160949707,
          -2.925583839416504,
          -2.2499728202819824,
          -1.9660290479660034,
          -2.070788860321045,
          -2.8686156272888184,
          -2.3695108890533447,
          -2.55754017829895,
          -2.6253223419189453,
          -2.1513938903808594,
          -2.6131153106689453,
          -2.5740957260131836,
          -2.7451741695404053,
          -2.3541605472564697,
          -2.924374580383301,
          -3.035006284713745,
          -1.84443998336792,
          -2.8153367042541504,
          -2.9454824924468994,
          -1.922819972038269,
          -2.427654981613159,
          -2.075960636138916,
          -2.281724214553833,
          -2.138296365737915,
          -3.137775421142578,
          -2.8715455532073975,
          -1.9749475717544556
         ],
         "yaxis": "y"
        },
        {
         "hovertemplate": "sentiment_label=neutral<br>UMAP Dimension 1=%{x}<br>UMAP Dimension 2=%{y}<extra></extra>",
         "legendgroup": "neutral",
         "marker": {
          "color": "gray",
          "opacity": 0.7,
          "symbol": "circle"
         },
         "mode": "markers",
         "name": "neutral",
         "orientation": "v",
         "showlegend": true,
         "type": "scatter",
         "x": [
          11.678403854370117,
          11.988520622253418,
          11.461703300476074,
          11.332765579223633,
          10.123905181884766,
          13.656760215759277,
          12.770486831665039,
          12.01510238647461,
          13.249207496643066,
          10.401702880859375,
          11.957661628723145,
          12.726536750793457,
          12.634493827819824,
          11.951985359191895,
          11.644149780273438,
          -8.765387535095215,
          11.011199951171875,
          -9.15761947631836,
          -9.16800308227539,
          -9.159439086914062,
          -9.588326454162598,
          -8.802313804626465,
          -8.789106369018555
         ],
         "xaxis": "x",
         "y": [
          -9.873117446899414,
          -12.113953590393066,
          -10.932095527648926,
          -11.168193817138672,
          -10.995673179626465,
          -10.506444931030273,
          -9.240762710571289,
          -12.33627986907959,
          -11.233195304870605,
          -9.75872802734375,
          -11.314447402954102,
          -11.350098609924316,
          -9.636041641235352,
          -10.41530704498291,
          -8.4974946975708,
          -2.354924201965332,
          -7.646211624145508,
          -2.626192808151245,
          -2.4001216888427734,
          -2.5018320083618164,
          -2.5956501960754395,
          -2.0068585872650146,
          -3.130845308303833
         ],
         "yaxis": "y"
        },
        {
         "hovertemplate": "sentiment_label=negative<br>UMAP Dimension 1=%{x}<br>UMAP Dimension 2=%{y}<extra></extra>",
         "legendgroup": "negative",
         "marker": {
          "color": "red",
          "opacity": 0.7,
          "symbol": "circle"
         },
         "mode": "markers",
         "name": "negative",
         "orientation": "v",
         "showlegend": true,
         "type": "scatter",
         "x": [
          12.237706184387207,
          12.576457023620605,
          12.563804626464844,
          12.231134414672852,
          12.18591594696045,
          10.9055757522583,
          11.76384449005127,
          13.266547203063965,
          12.869343757629395,
          12.569677352905273,
          12.845099449157715,
          11.555967330932617,
          12.285422325134277,
          10.6904878616333,
          11.959558486938477,
          12.572284698486328,
          12.598387718200684,
          10.092641830444336,
          13.294754981994629,
          10.969568252563477,
          11.656277656555176,
          10.011455535888672,
          11.135846138000488,
          10.732132911682129,
          -8.941166877746582,
          -8.895281791687012,
          -9.206400871276855,
          -9.48318862915039,
          -8.579049110412598
         ],
         "xaxis": "x",
         "y": [
          -11.683563232421875,
          -12.094032287597656,
          -11.720208168029785,
          -10.624948501586914,
          -11.87801456451416,
          -10.974039077758789,
          -12.24333381652832,
          -11.76369571685791,
          -11.508723258972168,
          -12.211075782775879,
          -11.691882133483887,
          -12.08351993560791,
          -12.291606903076172,
          -10.647717475891113,
          -11.177459716796875,
          -11.836133003234863,
          -11.30936336517334,
          -9.501507759094238,
          -11.2398042678833,
          -9.33067798614502,
          -12.18517780303955,
          -10.956766128540039,
          -7.861157417297363,
          -7.620394706726074,
          -2.7491610050201416,
          -2.3458611965179443,
          -2.8274331092834473,
          -2.2627880573272705,
          -2.0062732696533203
         ],
         "yaxis": "y"
        }
       ],
       "layout": {
        "legend": {
         "title": {
          "text": "Sentiment"
         },
         "tracegroupgap": 0
        },
        "margin": {
         "b": 10,
         "l": 10,
         "r": 10,
         "t": 40
        },
        "showlegend": true,
        "template": {
         "data": {
          "bar": [
           {
            "error_x": {
             "color": "#2a3f5f"
            },
            "error_y": {
             "color": "#2a3f5f"
            },
            "marker": {
             "line": {
              "color": "#E5ECF6",
              "width": 0.5
             },
             "pattern": {
              "fillmode": "overlay",
              "size": 10,
              "solidity": 0.2
             }
            },
            "type": "bar"
           }
          ],
          "barpolar": [
           {
            "marker": {
             "line": {
              "color": "#E5ECF6",
              "width": 0.5
             },
             "pattern": {
              "fillmode": "overlay",
              "size": 10,
              "solidity": 0.2
             }
            },
            "type": "barpolar"
           }
          ],
          "carpet": [
           {
            "aaxis": {
             "endlinecolor": "#2a3f5f",
             "gridcolor": "white",
             "linecolor": "white",
             "minorgridcolor": "white",
             "startlinecolor": "#2a3f5f"
            },
            "baxis": {
             "endlinecolor": "#2a3f5f",
             "gridcolor": "white",
             "linecolor": "white",
             "minorgridcolor": "white",
             "startlinecolor": "#2a3f5f"
            },
            "type": "carpet"
           }
          ],
          "choropleth": [
           {
            "colorbar": {
             "outlinewidth": 0,
             "ticks": ""
            },
            "type": "choropleth"
           }
          ],
          "contour": [
           {
            "colorbar": {
             "outlinewidth": 0,
             "ticks": ""
            },
            "colorscale": [
             [
              0,
              "#0d0887"
             ],
             [
              0.1111111111111111,
              "#46039f"
             ],
             [
              0.2222222222222222,
              "#7201a8"
             ],
             [
              0.3333333333333333,
              "#9c179e"
             ],
             [
              0.4444444444444444,
              "#bd3786"
             ],
             [
              0.5555555555555556,
              "#d8576b"
             ],
             [
              0.6666666666666666,
              "#ed7953"
             ],
             [
              0.7777777777777778,
              "#fb9f3a"
             ],
             [
              0.8888888888888888,
              "#fdca26"
             ],
             [
              1,
              "#f0f921"
             ]
            ],
            "type": "contour"
           }
          ],
          "contourcarpet": [
           {
            "colorbar": {
             "outlinewidth": 0,
             "ticks": ""
            },
            "type": "contourcarpet"
           }
          ],
          "heatmap": [
           {
            "colorbar": {
             "outlinewidth": 0,
             "ticks": ""
            },
            "colorscale": [
             [
              0,
              "#0d0887"
             ],
             [
              0.1111111111111111,
              "#46039f"
             ],
             [
              0.2222222222222222,
              "#7201a8"
             ],
             [
              0.3333333333333333,
              "#9c179e"
             ],
             [
              0.4444444444444444,
              "#bd3786"
             ],
             [
              0.5555555555555556,
              "#d8576b"
             ],
             [
              0.6666666666666666,
              "#ed7953"
             ],
             [
              0.7777777777777778,
              "#fb9f3a"
             ],
             [
              0.8888888888888888,
              "#fdca26"
             ],
             [
              1,
              "#f0f921"
             ]
            ],
            "type": "heatmap"
           }
          ],
          "heatmapgl": [
           {
            "colorbar": {
             "outlinewidth": 0,
             "ticks": ""
            },
            "colorscale": [
             [
              0,
              "#0d0887"
             ],
             [
              0.1111111111111111,
              "#46039f"
             ],
             [
              0.2222222222222222,
              "#7201a8"
             ],
             [
              0.3333333333333333,
              "#9c179e"
             ],
             [
              0.4444444444444444,
              "#bd3786"
             ],
             [
              0.5555555555555556,
              "#d8576b"
             ],
             [
              0.6666666666666666,
              "#ed7953"
             ],
             [
              0.7777777777777778,
              "#fb9f3a"
             ],
             [
              0.8888888888888888,
              "#fdca26"
             ],
             [
              1,
              "#f0f921"
             ]
            ],
            "type": "heatmapgl"
           }
          ],
          "histogram": [
           {
            "marker": {
             "pattern": {
              "fillmode": "overlay",
              "size": 10,
              "solidity": 0.2
             }
            },
            "type": "histogram"
           }
          ],
          "histogram2d": [
           {
            "colorbar": {
             "outlinewidth": 0,
             "ticks": ""
            },
            "colorscale": [
             [
              0,
              "#0d0887"
             ],
             [
              0.1111111111111111,
              "#46039f"
             ],
             [
              0.2222222222222222,
              "#7201a8"
             ],
             [
              0.3333333333333333,
              "#9c179e"
             ],
             [
              0.4444444444444444,
              "#bd3786"
             ],
             [
              0.5555555555555556,
              "#d8576b"
             ],
             [
              0.6666666666666666,
              "#ed7953"
             ],
             [
              0.7777777777777778,
              "#fb9f3a"
             ],
             [
              0.8888888888888888,
              "#fdca26"
             ],
             [
              1,
              "#f0f921"
             ]
            ],
            "type": "histogram2d"
           }
          ],
          "histogram2dcontour": [
           {
            "colorbar": {
             "outlinewidth": 0,
             "ticks": ""
            },
            "colorscale": [
             [
              0,
              "#0d0887"
             ],
             [
              0.1111111111111111,
              "#46039f"
             ],
             [
              0.2222222222222222,
              "#7201a8"
             ],
             [
              0.3333333333333333,
              "#9c179e"
             ],
             [
              0.4444444444444444,
              "#bd3786"
             ],
             [
              0.5555555555555556,
              "#d8576b"
             ],
             [
              0.6666666666666666,
              "#ed7953"
             ],
             [
              0.7777777777777778,
              "#fb9f3a"
             ],
             [
              0.8888888888888888,
              "#fdca26"
             ],
             [
              1,
              "#f0f921"
             ]
            ],
            "type": "histogram2dcontour"
           }
          ],
          "mesh3d": [
           {
            "colorbar": {
             "outlinewidth": 0,
             "ticks": ""
            },
            "type": "mesh3d"
           }
          ],
          "parcoords": [
           {
            "line": {
             "colorbar": {
              "outlinewidth": 0,
              "ticks": ""
             }
            },
            "type": "parcoords"
           }
          ],
          "pie": [
           {
            "automargin": true,
            "type": "pie"
           }
          ],
          "scatter": [
           {
            "fillpattern": {
             "fillmode": "overlay",
             "size": 10,
             "solidity": 0.2
            },
            "type": "scatter"
           }
          ],
          "scatter3d": [
           {
            "line": {
             "colorbar": {
              "outlinewidth": 0,
              "ticks": ""
             }
            },
            "marker": {
             "colorbar": {
              "outlinewidth": 0,
              "ticks": ""
             }
            },
            "type": "scatter3d"
           }
          ],
          "scattercarpet": [
           {
            "marker": {
             "colorbar": {
              "outlinewidth": 0,
              "ticks": ""
             }
            },
            "type": "scattercarpet"
           }
          ],
          "scattergeo": [
           {
            "marker": {
             "colorbar": {
              "outlinewidth": 0,
              "ticks": ""
             }
            },
            "type": "scattergeo"
           }
          ],
          "scattergl": [
           {
            "marker": {
             "colorbar": {
              "outlinewidth": 0,
              "ticks": ""
             }
            },
            "type": "scattergl"
           }
          ],
          "scattermapbox": [
           {
            "marker": {
             "colorbar": {
              "outlinewidth": 0,
              "ticks": ""
             }
            },
            "type": "scattermapbox"
           }
          ],
          "scatterpolar": [
           {
            "marker": {
             "colorbar": {
              "outlinewidth": 0,
              "ticks": ""
             }
            },
            "type": "scatterpolar"
           }
          ],
          "scatterpolargl": [
           {
            "marker": {
             "colorbar": {
              "outlinewidth": 0,
              "ticks": ""
             }
            },
            "type": "scatterpolargl"
           }
          ],
          "scatterternary": [
           {
            "marker": {
             "colorbar": {
              "outlinewidth": 0,
              "ticks": ""
             }
            },
            "type": "scatterternary"
           }
          ],
          "surface": [
           {
            "colorbar": {
             "outlinewidth": 0,
             "ticks": ""
            },
            "colorscale": [
             [
              0,
              "#0d0887"
             ],
             [
              0.1111111111111111,
              "#46039f"
             ],
             [
              0.2222222222222222,
              "#7201a8"
             ],
             [
              0.3333333333333333,
              "#9c179e"
             ],
             [
              0.4444444444444444,
              "#bd3786"
             ],
             [
              0.5555555555555556,
              "#d8576b"
             ],
             [
              0.6666666666666666,
              "#ed7953"
             ],
             [
              0.7777777777777778,
              "#fb9f3a"
             ],
             [
              0.8888888888888888,
              "#fdca26"
             ],
             [
              1,
              "#f0f921"
             ]
            ],
            "type": "surface"
           }
          ],
          "table": [
           {
            "cells": {
             "fill": {
              "color": "#EBF0F8"
             },
             "line": {
              "color": "white"
             }
            },
            "header": {
             "fill": {
              "color": "#C8D4E3"
             },
             "line": {
              "color": "white"
             }
            },
            "type": "table"
           }
          ]
         },
         "layout": {
          "annotationdefaults": {
           "arrowcolor": "#2a3f5f",
           "arrowhead": 0,
           "arrowwidth": 1
          },
          "autotypenumbers": "strict",
          "coloraxis": {
           "colorbar": {
            "outlinewidth": 0,
            "ticks": ""
           }
          },
          "colorscale": {
           "diverging": [
            [
             0,
             "#8e0152"
            ],
            [
             0.1,
             "#c51b7d"
            ],
            [
             0.2,
             "#de77ae"
            ],
            [
             0.3,
             "#f1b6da"
            ],
            [
             0.4,
             "#fde0ef"
            ],
            [
             0.5,
             "#f7f7f7"
            ],
            [
             0.6,
             "#e6f5d0"
            ],
            [
             0.7,
             "#b8e186"
            ],
            [
             0.8,
             "#7fbc41"
            ],
            [
             0.9,
             "#4d9221"
            ],
            [
             1,
             "#276419"
            ]
           ],
           "sequential": [
            [
             0,
             "#0d0887"
            ],
            [
             0.1111111111111111,
             "#46039f"
            ],
            [
             0.2222222222222222,
             "#7201a8"
            ],
            [
             0.3333333333333333,
             "#9c179e"
            ],
            [
             0.4444444444444444,
             "#bd3786"
            ],
            [
             0.5555555555555556,
             "#d8576b"
            ],
            [
             0.6666666666666666,
             "#ed7953"
            ],
            [
             0.7777777777777778,
             "#fb9f3a"
            ],
            [
             0.8888888888888888,
             "#fdca26"
            ],
            [
             1,
             "#f0f921"
            ]
           ],
           "sequentialminus": [
            [
             0,
             "#0d0887"
            ],
            [
             0.1111111111111111,
             "#46039f"
            ],
            [
             0.2222222222222222,
             "#7201a8"
            ],
            [
             0.3333333333333333,
             "#9c179e"
            ],
            [
             0.4444444444444444,
             "#bd3786"
            ],
            [
             0.5555555555555556,
             "#d8576b"
            ],
            [
             0.6666666666666666,
             "#ed7953"
            ],
            [
             0.7777777777777778,
             "#fb9f3a"
            ],
            [
             0.8888888888888888,
             "#fdca26"
            ],
            [
             1,
             "#f0f921"
            ]
           ]
          },
          "colorway": [
           "#636efa",
           "#EF553B",
           "#00cc96",
           "#ab63fa",
           "#FFA15A",
           "#19d3f3",
           "#FF6692",
           "#B6E880",
           "#FF97FF",
           "#FECB52"
          ],
          "font": {
           "color": "#2a3f5f"
          },
          "geo": {
           "bgcolor": "white",
           "lakecolor": "white",
           "landcolor": "#E5ECF6",
           "showlakes": true,
           "showland": true,
           "subunitcolor": "white"
          },
          "hoverlabel": {
           "align": "left"
          },
          "hovermode": "closest",
          "mapbox": {
           "style": "light"
          },
          "paper_bgcolor": "white",
          "plot_bgcolor": "#E5ECF6",
          "polar": {
           "angularaxis": {
            "gridcolor": "white",
            "linecolor": "white",
            "ticks": ""
           },
           "bgcolor": "#E5ECF6",
           "radialaxis": {
            "gridcolor": "white",
            "linecolor": "white",
            "ticks": ""
           }
          },
          "scene": {
           "xaxis": {
            "backgroundcolor": "#E5ECF6",
            "gridcolor": "white",
            "gridwidth": 2,
            "linecolor": "white",
            "showbackground": true,
            "ticks": "",
            "zerolinecolor": "white"
           },
           "yaxis": {
            "backgroundcolor": "#E5ECF6",
            "gridcolor": "white",
            "gridwidth": 2,
            "linecolor": "white",
            "showbackground": true,
            "ticks": "",
            "zerolinecolor": "white"
           },
           "zaxis": {
            "backgroundcolor": "#E5ECF6",
            "gridcolor": "white",
            "gridwidth": 2,
            "linecolor": "white",
            "showbackground": true,
            "ticks": "",
            "zerolinecolor": "white"
           }
          },
          "shapedefaults": {
           "line": {
            "color": "#2a3f5f"
           }
          },
          "ternary": {
           "aaxis": {
            "gridcolor": "white",
            "linecolor": "white",
            "ticks": ""
           },
           "baxis": {
            "gridcolor": "white",
            "linecolor": "white",
            "ticks": ""
           },
           "bgcolor": "#E5ECF6",
           "caxis": {
            "gridcolor": "white",
            "linecolor": "white",
            "ticks": ""
           }
          },
          "title": {
           "x": 0.05
          },
          "xaxis": {
           "automargin": true,
           "gridcolor": "white",
           "linecolor": "white",
           "ticks": "",
           "title": {
            "standoff": 15
           },
           "zerolinecolor": "white",
           "zerolinewidth": 2
          },
          "yaxis": {
           "automargin": true,
           "gridcolor": "white",
           "linecolor": "white",
           "ticks": "",
           "title": {
            "standoff": 15
           },
           "zerolinecolor": "white",
           "zerolinewidth": 2
          }
         }
        },
        "title": {
         "text": "Embedding Visualization with UMAP"
        },
        "xaxis": {
         "anchor": "y",
         "domain": [
          0,
          1
         ],
         "title": {
          "text": "UMAP Dimension 1"
         }
        },
        "yaxis": {
         "anchor": "x",
         "domain": [
          0,
          1
         ],
         "title": {
          "text": "UMAP Dimension 2"
         }
        }
       }
      }
     },
     "metadata": {},
     "output_type": "display_data"
    }
   ],
   "source": [
    "from sklearn.decomposition import PCA\n",
    "\n",
    "def visualizeEmbeddingsPCA(df):\n",
    "    # Convert embeddings to a NumPy array\n",
    "    embeddings = np.array(df['embedding'].tolist())\n",
    "    ratings = df['rating_score']\n",
    "    \n",
    "    # Perform PCA for dimensionality reduction\n",
    "    pca = PCA(n_components=2)\n",
    "    reduced_embeddings = pca.fit_transform(embeddings)\n",
    "    \n",
    "    # Calculate variance explained by each component\n",
    "    var_explained = pca.explained_variance_ratio_ * 100\n",
    "    var1, var2 = var_explained\n",
    "    \n",
    "    # Prepare DataFrame for Plotly\n",
    "    plot_df = pd.DataFrame({\n",
    "        'PCA Component 1': reduced_embeddings[:, 0],\n",
    "        'PCA Component 2': reduced_embeddings[:, 1],\n",
    "        'Rating Score': ratings,\n",
    "        'Review ID': df.get('review_id', range(len(df)))  # Optional identifier\n",
    "    })\n",
    "    \n",
    "    # Create interactive scatter plot\n",
    "    fig = px.scatter(\n",
    "        plot_df,\n",
    "        x='PCA Component 1',\n",
    "        y='PCA Component 2',\n",
    "        color='Rating Score',\n",
    "        color_continuous_scale='Viridis',\n",
    "        hover_data=['Review ID', 'Rating Score'],\n",
    "        title=f'Embeddings by Rating Score (PCA 1: {var1:.1f}%, PCA 2: {var2:.1f}%)',\n",
    "        labels={\n",
    "            'PCA Component 1': f'PCA 1 ({var1:.1f}% variance)',\n",
    "            'PCA Component 2': f'PCA 2 ({var2:.1f}% variance)',\n",
    "            'Rating Score': 'Rating Score'\n",
    "        }\n",
    "    )\n",
    "    \n",
    "    # Enhance layout for clarity\n",
    "    fig.update_layout(\n",
    "        template='plotly_white',\n",
    "        coloraxis_colorbar=dict(\n",
    "            title='Rating Score',\n",
    "            tickmode='linear'\n",
    "        ),\n",
    "        hovermode='closest'\n",
    "    )\n",
    "    \n",
    "    fig.show()\n",
    "    return reduced_embeddings\n",
    "\n",
    "embeddings_pca = visualizeEmbeddingsPCA(reviews)\n",
    "\n",
    "import umap.umap_ as umap\n",
    "\n",
    "def visualizeEmbeddingsUMAP(df):\n",
    "    embeddings = np.array(df['embedding'].tolist())\n",
    "    sentiment_labels = df['sentiment_label']\n",
    "\n",
    "    # Reduce dimensionality with UMAP\n",
    "    reducer = umap.UMAP(n_neighbors=15, min_dist=0.1, n_components=2, random_state=42)\n",
    "    reduced_embeddings = reducer.fit_transform(embeddings)\n",
    "\n",
    "    # Create DataFrame for visualization\n",
    "    viz_df = pd.DataFrame(reduced_embeddings, columns=['x', 'y'])\n",
    "    viz_df['sentiment_label'] = sentiment_labels\n",
    "\n",
    "    # Scatter plot with Plotly for interactive visualization\n",
    "    fig = px.scatter(\n",
    "        viz_df,\n",
    "        x='x',\n",
    "        y='y',\n",
    "        color='sentiment_label',\n",
    "        title='Embedding Visualization with UMAP',\n",
    "        labels={'x': 'UMAP Dimension 1', 'y': 'UMAP Dimension 2'},\n",
    "        color_discrete_map={'positive': 'green', 'neutral': 'gray', 'negative': 'red'},\n",
    "        opacity=0.7\n",
    "    )\n",
    "    fig.update_layout(showlegend=True, legend=dict(title='Sentiment'), margin=dict(l=10, r=10, t=40, b=10))\n",
    "    fig.show()\n",
    "\n",
    "    return reduced_embeddings\n",
    "\n",
    "embeddings_umap = visualizeEmbeddingsUMAP(reviews)\n",
    "\n"
   ]
  },
  {
   "cell_type": "code",
   "execution_count": 165,
   "metadata": {},
   "outputs": [
    {
     "data": {
      "application/vnd.plotly.v1+json": {
       "config": {
        "plotlyServerURL": "https://plot.ly"
       },
       "data": [
        {
         "line": {
          "color": "blue"
         },
         "mode": "lines",
         "name": "k-distance",
         "type": "scatter",
         "x": [
          1,
          2,
          3,
          4,
          5,
          6,
          7,
          8,
          9,
          10,
          11,
          12,
          13,
          14,
          15,
          16,
          17,
          18,
          19,
          20,
          21,
          22,
          23,
          24,
          25,
          26,
          27,
          28,
          29,
          30,
          31,
          32,
          33,
          34,
          35,
          36,
          37,
          38,
          39,
          40,
          41,
          42,
          43,
          44,
          45,
          46,
          47,
          48,
          49,
          50,
          51,
          52,
          53,
          54,
          55,
          56,
          57,
          58,
          59,
          60,
          61,
          62,
          63,
          64,
          65,
          66,
          67,
          68,
          69,
          70,
          71,
          72,
          73,
          74,
          75,
          76,
          77,
          78,
          79,
          80,
          81,
          82,
          83,
          84,
          85,
          86,
          87,
          88,
          89,
          90,
          91,
          92,
          93,
          94,
          95,
          96,
          97,
          98,
          99,
          100,
          101,
          102,
          103,
          104,
          105,
          106,
          107,
          108,
          109,
          110,
          111,
          112,
          113,
          114,
          115,
          116,
          117,
          118,
          119,
          120,
          121,
          122,
          123,
          124,
          125,
          126,
          127,
          128,
          129,
          130,
          131,
          132,
          133,
          134,
          135,
          136,
          137,
          138,
          139,
          140,
          141,
          142,
          143,
          144,
          145,
          146,
          147,
          148,
          149,
          150,
          151,
          152,
          153,
          154,
          155,
          156,
          157,
          158,
          159,
          160,
          161,
          162,
          163,
          164,
          165,
          166,
          167,
          168,
          169,
          170,
          171,
          172,
          173,
          174,
          175,
          176,
          177,
          178,
          179,
          180,
          181,
          182,
          183,
          184,
          185,
          186,
          187,
          188,
          189,
          190,
          191,
          192,
          193,
          194,
          195,
          196,
          197,
          198,
          199,
          200,
          201,
          202,
          203,
          204,
          205,
          206,
          207,
          208,
          209,
          210,
          211,
          212,
          213,
          214,
          215,
          216,
          217,
          218,
          219,
          220,
          221,
          222,
          223,
          224,
          225,
          226,
          227,
          228,
          229,
          230,
          231,
          232,
          233,
          234,
          235,
          236,
          237,
          238,
          239,
          240,
          241,
          242,
          243,
          244,
          245,
          246,
          247,
          248,
          249,
          250,
          251,
          252,
          253,
          254,
          255,
          256,
          257,
          258,
          259,
          260,
          261,
          262,
          263,
          264,
          265,
          266,
          267,
          268,
          269,
          270,
          271,
          272,
          273,
          274,
          275,
          276,
          277,
          278,
          279,
          280,
          281,
          282,
          283,
          284,
          285,
          286,
          287,
          288,
          289,
          290,
          291,
          292,
          293,
          294,
          295,
          296,
          297,
          298,
          299,
          300,
          301,
          302,
          303,
          304,
          305,
          306,
          307,
          308,
          309,
          310,
          311,
          312,
          313,
          314,
          315,
          316,
          317,
          318,
          319,
          320,
          321,
          322,
          323,
          324,
          325,
          326,
          327,
          328,
          329,
          330,
          331,
          332,
          333,
          334,
          335,
          336,
          337,
          338,
          339,
          340,
          341,
          342,
          343,
          344,
          345,
          346,
          347,
          348,
          349,
          350,
          351,
          352,
          353,
          354,
          355,
          356,
          357,
          358,
          359,
          360
         ],
         "y": [
          0.07150847795423261,
          0.07383536267633414,
          0.08598833362232759,
          0.08705718638016713,
          0.08848754770428412,
          0.08993757009419003,
          0.09229368437375378,
          0.09503633007391532,
          0.09684660037691,
          0.10550401062814188,
          0.10816917613256574,
          0.10873898159590802,
          0.10967042962083991,
          0.1119691248770175,
          0.1138417279473532,
          0.1138417279473532,
          0.1143477322692524,
          0.11501540639439052,
          0.11501540639439052,
          0.11615661352779082,
          0.11648042902788266,
          0.11912170376052367,
          0.12098554005304359,
          0.12109296132141434,
          0.12165028280685135,
          0.1235825974204535,
          0.1283728744584956,
          0.12969625413028998,
          0.13021004555438473,
          0.13308029424580306,
          0.13582637297066905,
          0.13625325874413433,
          0.13861537009529132,
          0.14005453934538925,
          0.14319008626016333,
          0.14535868388154286,
          0.14624160543418624,
          0.14776089903229123,
          0.14874563970874286,
          0.14965872287274093,
          0.14982386819749519,
          0.15110625755773316,
          0.15624655949937014,
          0.15686211691762975,
          0.1570566183806455,
          0.1591715906727189,
          0.15984552875200314,
          0.16027670956392606,
          0.16028253187517694,
          0.16028660689732208,
          0.16130213431711074,
          0.1625509555018332,
          0.16493823414263825,
          0.16497974502302692,
          0.16578312338905335,
          0.16623694926842078,
          0.16759524998027747,
          0.16783124833551186,
          0.1685716384728037,
          0.1685716384728037,
          0.16857177744507393,
          0.16857177744507393,
          0.1688606552592046,
          0.1691200194017807,
          0.17105554667549555,
          0.1712810450190335,
          0.17147672395507293,
          0.17274759291960118,
          0.17312022264938026,
          0.17379075299851385,
          0.17421010091632816,
          0.174353736770389,
          0.1753961933841816,
          0.17798719467546234,
          0.17798719467546234,
          0.1781221227905671,
          0.1785151600417512,
          0.17878844201923724,
          0.17920719472608498,
          0.1792114928693487,
          0.1792114928693487,
          0.17954207920702167,
          0.17980746742124945,
          0.17980746742124945,
          0.18126429043826509,
          0.18126429043826509,
          0.1821599489680108,
          0.18246595230281418,
          0.18248421186547473,
          0.18265827553898287,
          0.1834834665859228,
          0.1834834665859228,
          0.18383826072455034,
          0.1847191440707717,
          0.18608940657714557,
          0.18703824604257585,
          0.18871137884002342,
          0.18984325887435766,
          0.1902239471046243,
          0.1902239471046243,
          0.19029745873313936,
          0.19075197048955128,
          0.19075197048955128,
          0.19077938982762357,
          0.19093011750932662,
          0.1910258898859746,
          0.19233819170995858,
          0.19233819170995858,
          0.19406245617162193,
          0.19469741695303083,
          0.19493330803471656,
          0.19497894895138393,
          0.19542281263549263,
          0.19632087083456248,
          0.19674577825249293,
          0.1975797444817916,
          0.1975797444817916,
          0.19958046553236158,
          0.19984823315962225,
          0.20045709586165555,
          0.20093986147432702,
          0.20123009030754846,
          0.20347343393383097,
          0.2043853188287891,
          0.2057478468161258,
          0.20581970312996142,
          0.2061114157753674,
          0.20857831279207023,
          0.20984237473246292,
          0.20984237473246292,
          0.21051052144651383,
          0.2106317130913642,
          0.21109987935507601,
          0.2115679635562721,
          0.21265995694387999,
          0.21265995694387999,
          0.21337534203382094,
          0.21337534203382094,
          0.21354727334638504,
          0.21354727334638504,
          0.21463683104885975,
          0.2150917444476875,
          0.21670890989875727,
          0.21670890989875727,
          0.21704185081336394,
          0.21720232507579565,
          0.21798178627724868,
          0.21932299336768524,
          0.2196381824891719,
          0.22008880498612793,
          0.2203119632455336,
          0.2203119632455336,
          0.22186593437364857,
          0.22237181998072963,
          0.22278308833914923,
          0.22289346013897257,
          0.2230808936631333,
          0.22383995369372245,
          0.2241274753208526,
          0.2243406850247859,
          0.22475732340730079,
          0.22542061483989503,
          0.23010108693580708,
          0.2304953963943958,
          0.23092422480318162,
          0.23136866079682167,
          0.23190008905123508,
          0.2340528409512645,
          0.23445258573520084,
          0.2352600518209545,
          0.23537623293319881,
          0.23545290464952962,
          0.2359896478799548,
          0.23626591975132508,
          0.2369099714291856,
          0.2383539267599555,
          0.23846977836566752,
          0.240033209108611,
          0.240033209108611,
          0.24048776376020667,
          0.24113169247872004,
          0.24189979855679264,
          0.24196938218630717,
          0.2434540889398143,
          0.24407185437152243,
          0.24507229708647169,
          0.24523751109943326,
          0.2456814507304526,
          0.24773327464767633,
          0.24847206258369128,
          0.24893568601971694,
          0.24897272684433921,
          0.24897272684433921,
          0.24949232280983563,
          0.2497262833234132,
          0.2497262833234132,
          0.2500017524409911,
          0.2511842152155297,
          0.2515287923882055,
          0.25214031026077355,
          0.25230285184014484,
          0.25230285184014484,
          0.2528056009034103,
          0.2534636828392788,
          0.2537766410788023,
          0.25423431160555654,
          0.25496746727494835,
          0.25508843457456054,
          0.25508843457456054,
          0.2553179146764089,
          0.2553179146764089,
          0.2557427811950219,
          0.25607836821917784,
          0.25716992335604544,
          0.257370327854504,
          0.257370327854504,
          0.2579330323395336,
          0.2595552221695692,
          0.2598930959649368,
          0.260288034152302,
          0.2620229002718192,
          0.26220867609231496,
          0.26234904992253055,
          0.26522473947587677,
          0.26574753829205616,
          0.2666329402405966,
          0.26727413602946004,
          0.26788542253150127,
          0.26858399651859816,
          0.26884998184875636,
          0.2703819772618195,
          0.27066451970287925,
          0.2707105545241551,
          0.2707316143738372,
          0.27126006848523504,
          0.27153350310877605,
          0.2717320682702219,
          0.2724378814004774,
          0.2733858137985141,
          0.2739863922323683,
          0.27449228165964107,
          0.27449228165964107,
          0.2745790656458071,
          0.27515119711113983,
          0.2751708004304525,
          0.2758587396429001,
          0.276393698667395,
          0.27812705737316595,
          0.27866461170927564,
          0.2797031190662063,
          0.28058842942532697,
          0.2825625750070154,
          0.28374082214737373,
          0.2838345683404,
          0.2838345683404,
          0.28401587037857956,
          0.2850818742822196,
          0.2850818742822196,
          0.28584590173863333,
          0.28585813135255383,
          0.2875537301116231,
          0.288239031483785,
          0.2884787569592328,
          0.2885219051585432,
          0.28936424308463987,
          0.2894814216836889,
          0.2896915860083119,
          0.2900310655665173,
          0.2907452133543675,
          0.291758967803339,
          0.29280403185787546,
          0.29476171946546526,
          0.29520264153613274,
          0.29544234996003876,
          0.29871852477634514,
          0.29871852477634514,
          0.29873614526766706,
          0.29896752764879053,
          0.29896752764879053,
          0.3000211840950506,
          0.3010945175029729,
          0.30183843050668174,
          0.30193649781431925,
          0.30211853894760976,
          0.3026651107331354,
          0.3029649922721342,
          0.3030133287366733,
          0.30339361709685675,
          0.3076132983979987,
          0.30915370889569443,
          0.3109128219083521,
          0.31132535110055376,
          0.3119632885785762,
          0.31332412198671566,
          0.31365701588430206,
          0.31396252246407785,
          0.31396252246407785,
          0.3143491737183308,
          0.31531953672150703,
          0.3160144890319833,
          0.31676020707224545,
          0.32037862278079665,
          0.3208338687359033,
          0.3227815907579551,
          0.32290664674616776,
          0.3229492648328065,
          0.32338939674525746,
          0.3238761806484329,
          0.3243290485026037,
          0.3243290485026037,
          0.3243472944869582,
          0.3243472944869582,
          0.3282731052230862,
          0.32984032497873783,
          0.32984032497873783,
          0.33050165826627526,
          0.3315519670775781,
          0.33280702892182695,
          0.33339722197593347,
          0.33369019485300677,
          0.3345847361565274,
          0.3358746230654665,
          0.336061001773561,
          0.337052766620626,
          0.33936426051686386,
          0.34114406946454257,
          0.3416652584225528,
          0.3423416430310305,
          0.34686795504078555,
          0.3505723263247296,
          0.35145807846770505,
          0.35247850694923055,
          0.35398335161325223,
          0.3574079691126853,
          0.3588164808288257,
          0.3617338365175031,
          0.363695444734189,
          0.36530546056862945,
          0.3658188200311983,
          0.3710136662487139,
          0.37414641516571184,
          0.3908306392019411,
          0.3913567412559692,
          0.39219556324748184,
          0.395308346331215,
          0.39735531068749425,
          0.3993139798296374,
          0.4020957588460715,
          0.4169643002569986,
          0.4217533100551023,
          0.4217533100551023,
          0.42418445284161266,
          0.4262349873168549,
          0.4379201555228407,
          0.43801224067551875,
          0.5011335796323224,
          0.5155447456057043,
          0.5243867471172646,
          0.539141778218791,
          0.8651465028561746
         ]
        }
       ],
       "layout": {
        "hovermode": "x unified",
        "template": {
         "data": {
          "bar": [
           {
            "error_x": {
             "color": "#2a3f5f"
            },
            "error_y": {
             "color": "#2a3f5f"
            },
            "marker": {
             "line": {
              "color": "white",
              "width": 0.5
             },
             "pattern": {
              "fillmode": "overlay",
              "size": 10,
              "solidity": 0.2
             }
            },
            "type": "bar"
           }
          ],
          "barpolar": [
           {
            "marker": {
             "line": {
              "color": "white",
              "width": 0.5
             },
             "pattern": {
              "fillmode": "overlay",
              "size": 10,
              "solidity": 0.2
             }
            },
            "type": "barpolar"
           }
          ],
          "carpet": [
           {
            "aaxis": {
             "endlinecolor": "#2a3f5f",
             "gridcolor": "#C8D4E3",
             "linecolor": "#C8D4E3",
             "minorgridcolor": "#C8D4E3",
             "startlinecolor": "#2a3f5f"
            },
            "baxis": {
             "endlinecolor": "#2a3f5f",
             "gridcolor": "#C8D4E3",
             "linecolor": "#C8D4E3",
             "minorgridcolor": "#C8D4E3",
             "startlinecolor": "#2a3f5f"
            },
            "type": "carpet"
           }
          ],
          "choropleth": [
           {
            "colorbar": {
             "outlinewidth": 0,
             "ticks": ""
            },
            "type": "choropleth"
           }
          ],
          "contour": [
           {
            "colorbar": {
             "outlinewidth": 0,
             "ticks": ""
            },
            "colorscale": [
             [
              0,
              "#0d0887"
             ],
             [
              0.1111111111111111,
              "#46039f"
             ],
             [
              0.2222222222222222,
              "#7201a8"
             ],
             [
              0.3333333333333333,
              "#9c179e"
             ],
             [
              0.4444444444444444,
              "#bd3786"
             ],
             [
              0.5555555555555556,
              "#d8576b"
             ],
             [
              0.6666666666666666,
              "#ed7953"
             ],
             [
              0.7777777777777778,
              "#fb9f3a"
             ],
             [
              0.8888888888888888,
              "#fdca26"
             ],
             [
              1,
              "#f0f921"
             ]
            ],
            "type": "contour"
           }
          ],
          "contourcarpet": [
           {
            "colorbar": {
             "outlinewidth": 0,
             "ticks": ""
            },
            "type": "contourcarpet"
           }
          ],
          "heatmap": [
           {
            "colorbar": {
             "outlinewidth": 0,
             "ticks": ""
            },
            "colorscale": [
             [
              0,
              "#0d0887"
             ],
             [
              0.1111111111111111,
              "#46039f"
             ],
             [
              0.2222222222222222,
              "#7201a8"
             ],
             [
              0.3333333333333333,
              "#9c179e"
             ],
             [
              0.4444444444444444,
              "#bd3786"
             ],
             [
              0.5555555555555556,
              "#d8576b"
             ],
             [
              0.6666666666666666,
              "#ed7953"
             ],
             [
              0.7777777777777778,
              "#fb9f3a"
             ],
             [
              0.8888888888888888,
              "#fdca26"
             ],
             [
              1,
              "#f0f921"
             ]
            ],
            "type": "heatmap"
           }
          ],
          "heatmapgl": [
           {
            "colorbar": {
             "outlinewidth": 0,
             "ticks": ""
            },
            "colorscale": [
             [
              0,
              "#0d0887"
             ],
             [
              0.1111111111111111,
              "#46039f"
             ],
             [
              0.2222222222222222,
              "#7201a8"
             ],
             [
              0.3333333333333333,
              "#9c179e"
             ],
             [
              0.4444444444444444,
              "#bd3786"
             ],
             [
              0.5555555555555556,
              "#d8576b"
             ],
             [
              0.6666666666666666,
              "#ed7953"
             ],
             [
              0.7777777777777778,
              "#fb9f3a"
             ],
             [
              0.8888888888888888,
              "#fdca26"
             ],
             [
              1,
              "#f0f921"
             ]
            ],
            "type": "heatmapgl"
           }
          ],
          "histogram": [
           {
            "marker": {
             "pattern": {
              "fillmode": "overlay",
              "size": 10,
              "solidity": 0.2
             }
            },
            "type": "histogram"
           }
          ],
          "histogram2d": [
           {
            "colorbar": {
             "outlinewidth": 0,
             "ticks": ""
            },
            "colorscale": [
             [
              0,
              "#0d0887"
             ],
             [
              0.1111111111111111,
              "#46039f"
             ],
             [
              0.2222222222222222,
              "#7201a8"
             ],
             [
              0.3333333333333333,
              "#9c179e"
             ],
             [
              0.4444444444444444,
              "#bd3786"
             ],
             [
              0.5555555555555556,
              "#d8576b"
             ],
             [
              0.6666666666666666,
              "#ed7953"
             ],
             [
              0.7777777777777778,
              "#fb9f3a"
             ],
             [
              0.8888888888888888,
              "#fdca26"
             ],
             [
              1,
              "#f0f921"
             ]
            ],
            "type": "histogram2d"
           }
          ],
          "histogram2dcontour": [
           {
            "colorbar": {
             "outlinewidth": 0,
             "ticks": ""
            },
            "colorscale": [
             [
              0,
              "#0d0887"
             ],
             [
              0.1111111111111111,
              "#46039f"
             ],
             [
              0.2222222222222222,
              "#7201a8"
             ],
             [
              0.3333333333333333,
              "#9c179e"
             ],
             [
              0.4444444444444444,
              "#bd3786"
             ],
             [
              0.5555555555555556,
              "#d8576b"
             ],
             [
              0.6666666666666666,
              "#ed7953"
             ],
             [
              0.7777777777777778,
              "#fb9f3a"
             ],
             [
              0.8888888888888888,
              "#fdca26"
             ],
             [
              1,
              "#f0f921"
             ]
            ],
            "type": "histogram2dcontour"
           }
          ],
          "mesh3d": [
           {
            "colorbar": {
             "outlinewidth": 0,
             "ticks": ""
            },
            "type": "mesh3d"
           }
          ],
          "parcoords": [
           {
            "line": {
             "colorbar": {
              "outlinewidth": 0,
              "ticks": ""
             }
            },
            "type": "parcoords"
           }
          ],
          "pie": [
           {
            "automargin": true,
            "type": "pie"
           }
          ],
          "scatter": [
           {
            "fillpattern": {
             "fillmode": "overlay",
             "size": 10,
             "solidity": 0.2
            },
            "type": "scatter"
           }
          ],
          "scatter3d": [
           {
            "line": {
             "colorbar": {
              "outlinewidth": 0,
              "ticks": ""
             }
            },
            "marker": {
             "colorbar": {
              "outlinewidth": 0,
              "ticks": ""
             }
            },
            "type": "scatter3d"
           }
          ],
          "scattercarpet": [
           {
            "marker": {
             "colorbar": {
              "outlinewidth": 0,
              "ticks": ""
             }
            },
            "type": "scattercarpet"
           }
          ],
          "scattergeo": [
           {
            "marker": {
             "colorbar": {
              "outlinewidth": 0,
              "ticks": ""
             }
            },
            "type": "scattergeo"
           }
          ],
          "scattergl": [
           {
            "marker": {
             "colorbar": {
              "outlinewidth": 0,
              "ticks": ""
             }
            },
            "type": "scattergl"
           }
          ],
          "scattermapbox": [
           {
            "marker": {
             "colorbar": {
              "outlinewidth": 0,
              "ticks": ""
             }
            },
            "type": "scattermapbox"
           }
          ],
          "scatterpolar": [
           {
            "marker": {
             "colorbar": {
              "outlinewidth": 0,
              "ticks": ""
             }
            },
            "type": "scatterpolar"
           }
          ],
          "scatterpolargl": [
           {
            "marker": {
             "colorbar": {
              "outlinewidth": 0,
              "ticks": ""
             }
            },
            "type": "scatterpolargl"
           }
          ],
          "scatterternary": [
           {
            "marker": {
             "colorbar": {
              "outlinewidth": 0,
              "ticks": ""
             }
            },
            "type": "scatterternary"
           }
          ],
          "surface": [
           {
            "colorbar": {
             "outlinewidth": 0,
             "ticks": ""
            },
            "colorscale": [
             [
              0,
              "#0d0887"
             ],
             [
              0.1111111111111111,
              "#46039f"
             ],
             [
              0.2222222222222222,
              "#7201a8"
             ],
             [
              0.3333333333333333,
              "#9c179e"
             ],
             [
              0.4444444444444444,
              "#bd3786"
             ],
             [
              0.5555555555555556,
              "#d8576b"
             ],
             [
              0.6666666666666666,
              "#ed7953"
             ],
             [
              0.7777777777777778,
              "#fb9f3a"
             ],
             [
              0.8888888888888888,
              "#fdca26"
             ],
             [
              1,
              "#f0f921"
             ]
            ],
            "type": "surface"
           }
          ],
          "table": [
           {
            "cells": {
             "fill": {
              "color": "#EBF0F8"
             },
             "line": {
              "color": "white"
             }
            },
            "header": {
             "fill": {
              "color": "#C8D4E3"
             },
             "line": {
              "color": "white"
             }
            },
            "type": "table"
           }
          ]
         },
         "layout": {
          "annotationdefaults": {
           "arrowcolor": "#2a3f5f",
           "arrowhead": 0,
           "arrowwidth": 1
          },
          "autotypenumbers": "strict",
          "coloraxis": {
           "colorbar": {
            "outlinewidth": 0,
            "ticks": ""
           }
          },
          "colorscale": {
           "diverging": [
            [
             0,
             "#8e0152"
            ],
            [
             0.1,
             "#c51b7d"
            ],
            [
             0.2,
             "#de77ae"
            ],
            [
             0.3,
             "#f1b6da"
            ],
            [
             0.4,
             "#fde0ef"
            ],
            [
             0.5,
             "#f7f7f7"
            ],
            [
             0.6,
             "#e6f5d0"
            ],
            [
             0.7,
             "#b8e186"
            ],
            [
             0.8,
             "#7fbc41"
            ],
            [
             0.9,
             "#4d9221"
            ],
            [
             1,
             "#276419"
            ]
           ],
           "sequential": [
            [
             0,
             "#0d0887"
            ],
            [
             0.1111111111111111,
             "#46039f"
            ],
            [
             0.2222222222222222,
             "#7201a8"
            ],
            [
             0.3333333333333333,
             "#9c179e"
            ],
            [
             0.4444444444444444,
             "#bd3786"
            ],
            [
             0.5555555555555556,
             "#d8576b"
            ],
            [
             0.6666666666666666,
             "#ed7953"
            ],
            [
             0.7777777777777778,
             "#fb9f3a"
            ],
            [
             0.8888888888888888,
             "#fdca26"
            ],
            [
             1,
             "#f0f921"
            ]
           ],
           "sequentialminus": [
            [
             0,
             "#0d0887"
            ],
            [
             0.1111111111111111,
             "#46039f"
            ],
            [
             0.2222222222222222,
             "#7201a8"
            ],
            [
             0.3333333333333333,
             "#9c179e"
            ],
            [
             0.4444444444444444,
             "#bd3786"
            ],
            [
             0.5555555555555556,
             "#d8576b"
            ],
            [
             0.6666666666666666,
             "#ed7953"
            ],
            [
             0.7777777777777778,
             "#fb9f3a"
            ],
            [
             0.8888888888888888,
             "#fdca26"
            ],
            [
             1,
             "#f0f921"
            ]
           ]
          },
          "colorway": [
           "#636efa",
           "#EF553B",
           "#00cc96",
           "#ab63fa",
           "#FFA15A",
           "#19d3f3",
           "#FF6692",
           "#B6E880",
           "#FF97FF",
           "#FECB52"
          ],
          "font": {
           "color": "#2a3f5f"
          },
          "geo": {
           "bgcolor": "white",
           "lakecolor": "white",
           "landcolor": "white",
           "showlakes": true,
           "showland": true,
           "subunitcolor": "#C8D4E3"
          },
          "hoverlabel": {
           "align": "left"
          },
          "hovermode": "closest",
          "mapbox": {
           "style": "light"
          },
          "paper_bgcolor": "white",
          "plot_bgcolor": "white",
          "polar": {
           "angularaxis": {
            "gridcolor": "#EBF0F8",
            "linecolor": "#EBF0F8",
            "ticks": ""
           },
           "bgcolor": "white",
           "radialaxis": {
            "gridcolor": "#EBF0F8",
            "linecolor": "#EBF0F8",
            "ticks": ""
           }
          },
          "scene": {
           "xaxis": {
            "backgroundcolor": "white",
            "gridcolor": "#DFE8F3",
            "gridwidth": 2,
            "linecolor": "#EBF0F8",
            "showbackground": true,
            "ticks": "",
            "zerolinecolor": "#EBF0F8"
           },
           "yaxis": {
            "backgroundcolor": "white",
            "gridcolor": "#DFE8F3",
            "gridwidth": 2,
            "linecolor": "#EBF0F8",
            "showbackground": true,
            "ticks": "",
            "zerolinecolor": "#EBF0F8"
           },
           "zaxis": {
            "backgroundcolor": "white",
            "gridcolor": "#DFE8F3",
            "gridwidth": 2,
            "linecolor": "#EBF0F8",
            "showbackground": true,
            "ticks": "",
            "zerolinecolor": "#EBF0F8"
           }
          },
          "shapedefaults": {
           "line": {
            "color": "#2a3f5f"
           }
          },
          "ternary": {
           "aaxis": {
            "gridcolor": "#DFE8F3",
            "linecolor": "#A2B1C6",
            "ticks": ""
           },
           "baxis": {
            "gridcolor": "#DFE8F3",
            "linecolor": "#A2B1C6",
            "ticks": ""
           },
           "bgcolor": "white",
           "caxis": {
            "gridcolor": "#DFE8F3",
            "linecolor": "#A2B1C6",
            "ticks": ""
           }
          },
          "title": {
           "x": 0.05
          },
          "xaxis": {
           "automargin": true,
           "gridcolor": "#EBF0F8",
           "linecolor": "#EBF0F8",
           "ticks": "",
           "title": {
            "standoff": 15
           },
           "zerolinecolor": "#EBF0F8",
           "zerolinewidth": 2
          },
          "yaxis": {
           "automargin": true,
           "gridcolor": "#EBF0F8",
           "linecolor": "#EBF0F8",
           "ticks": "",
           "title": {
            "standoff": 15
           },
           "zerolinecolor": "#EBF0F8",
           "zerolinewidth": 2
          }
         }
        },
        "title": {
         "text": "k-Distance Graph for PCA"
        },
        "xaxis": {
         "gridcolor": "lightgrey",
         "gridwidth": 1,
         "showgrid": true,
         "title": {
          "text": "Points sorted by distance"
         }
        },
        "yaxis": {
         "gridcolor": "lightgrey",
         "gridwidth": 1,
         "showgrid": true,
         "title": {
          "text": "Distance to 5th Nearest Neighbor"
         }
        }
       }
      }
     },
     "metadata": {},
     "output_type": "display_data"
    },
    {
     "data": {
      "application/vnd.plotly.v1+json": {
       "config": {
        "plotlyServerURL": "https://plot.ly"
       },
       "data": [
        {
         "line": {
          "color": "blue"
         },
         "mode": "lines",
         "name": "k-distance",
         "type": "scatter",
         "x": [
          1,
          2,
          3,
          4,
          5,
          6,
          7,
          8,
          9,
          10,
          11,
          12,
          13,
          14,
          15,
          16,
          17,
          18,
          19,
          20,
          21,
          22,
          23,
          24,
          25,
          26,
          27,
          28,
          29,
          30,
          31,
          32,
          33,
          34,
          35,
          36,
          37,
          38,
          39,
          40,
          41,
          42,
          43,
          44,
          45,
          46,
          47,
          48,
          49,
          50,
          51,
          52,
          53,
          54,
          55,
          56,
          57,
          58,
          59,
          60,
          61,
          62,
          63,
          64,
          65,
          66,
          67,
          68,
          69,
          70,
          71,
          72,
          73,
          74,
          75,
          76,
          77,
          78,
          79,
          80,
          81,
          82,
          83,
          84,
          85,
          86,
          87,
          88,
          89,
          90,
          91,
          92,
          93,
          94,
          95,
          96,
          97,
          98,
          99,
          100,
          101,
          102,
          103,
          104,
          105,
          106,
          107,
          108,
          109,
          110,
          111,
          112,
          113,
          114,
          115,
          116,
          117,
          118,
          119,
          120,
          121,
          122,
          123,
          124,
          125,
          126,
          127,
          128,
          129,
          130,
          131,
          132,
          133,
          134,
          135,
          136,
          137,
          138,
          139,
          140,
          141,
          142,
          143,
          144,
          145,
          146,
          147,
          148,
          149,
          150,
          151,
          152,
          153,
          154,
          155,
          156,
          157,
          158,
          159,
          160,
          161,
          162,
          163,
          164,
          165,
          166,
          167,
          168,
          169,
          170,
          171,
          172,
          173,
          174,
          175,
          176,
          177,
          178,
          179,
          180,
          181,
          182,
          183,
          184,
          185,
          186,
          187,
          188,
          189,
          190,
          191,
          192,
          193,
          194,
          195,
          196,
          197,
          198,
          199,
          200,
          201,
          202,
          203,
          204,
          205,
          206,
          207,
          208,
          209,
          210,
          211,
          212,
          213,
          214,
          215,
          216,
          217,
          218,
          219,
          220,
          221,
          222,
          223,
          224,
          225,
          226,
          227,
          228,
          229,
          230,
          231,
          232,
          233,
          234,
          235,
          236,
          237,
          238,
          239,
          240,
          241,
          242,
          243,
          244,
          245,
          246,
          247,
          248,
          249,
          250,
          251,
          252,
          253,
          254,
          255,
          256,
          257,
          258,
          259,
          260,
          261,
          262,
          263,
          264,
          265,
          266,
          267,
          268,
          269,
          270,
          271,
          272,
          273,
          274,
          275,
          276,
          277,
          278,
          279,
          280,
          281,
          282,
          283,
          284,
          285,
          286,
          287,
          288,
          289,
          290,
          291,
          292,
          293,
          294,
          295,
          296,
          297,
          298,
          299,
          300,
          301,
          302,
          303,
          304,
          305,
          306,
          307,
          308,
          309,
          310,
          311,
          312,
          313,
          314,
          315,
          316,
          317,
          318,
          319,
          320,
          321,
          322,
          323,
          324,
          325,
          326,
          327,
          328,
          329,
          330,
          331,
          332,
          333,
          334,
          335,
          336,
          337,
          338,
          339,
          340,
          341,
          342,
          343,
          344,
          345,
          346,
          347,
          348,
          349,
          350,
          351,
          352,
          353,
          354,
          355,
          356,
          357,
          358,
          359,
          360
         ],
         "y": [
          0,
          0,
          0,
          0,
          0,
          0,
          0,
          0,
          0,
          0,
          0,
          0,
          0,
          0,
          0,
          0,
          0,
          0,
          0,
          0,
          0,
          0,
          0,
          0,
          0,
          0,
          0,
          0,
          0,
          0,
          0,
          0,
          0,
          0,
          0,
          0,
          0,
          0,
          0,
          0,
          0,
          0,
          0,
          0,
          0,
          0,
          0,
          0,
          0,
          0,
          0,
          0,
          0,
          0,
          0,
          0,
          0,
          0,
          0,
          0,
          0,
          0,
          0,
          0,
          0,
          0,
          0,
          0,
          0,
          0,
          0,
          0,
          0,
          0,
          0,
          0,
          0,
          0,
          8.940696716308594e-8,
          8.940696716308594e-8,
          0.043021251774592234,
          0.048234156257056765,
          0.05473910439832957,
          0.06070860182546103,
          0.06070860182546103,
          0.0644011167304009,
          0.06869290742501057,
          0.07255092693424542,
          0.08305024363921018,
          0.09195783016258884,
          0.09430159072310434,
          0.09509050120760175,
          0.09758436234509252,
          0.09809586669804547,
          0.09874566150540097,
          0.10449602769271947,
          0.10505819788323756,
          0.10505819788323756,
          0.10679129351398639,
          0.10762500023514544,
          0.10937105468480335,
          0.10937105468480335,
          0.11073859217547094,
          0.1107755722262489,
          0.11125231998404159,
          0.11275912278168565,
          0.11428733146689685,
          0.11626370532741181,
          0.11767150369235807,
          0.11847506784600063,
          0.12083415677854219,
          0.12084737407125871,
          0.12087803760599568,
          0.12087803760599568,
          0.12096059094932922,
          0.12272564580811603,
          0.12380236504805783,
          0.12436206551134621,
          0.12436206551134621,
          0.12438490404936242,
          0.1258648179396159,
          0.12677326336982075,
          0.1291151764069846,
          0.12987776231303458,
          0.1299245884040358,
          0.13366544819333293,
          0.1337334792908328,
          0.13479182454320446,
          0.13630685396263667,
          0.1363408022451069,
          0.1368407996851813,
          0.13700371449992962,
          0.13994642624968348,
          0.13996753954537153,
          0.1414427988410202,
          0.142475670442161,
          0.14325740070171764,
          0.14736894950495713,
          0.14771637464455692,
          0.147771524154458,
          0.147771524154458,
          0.14884932229223216,
          0.14926732752738106,
          0.1520190486646731,
          0.1520726542971632,
          0.1520726542971632,
          0.15391390985716588,
          0.15391390985716588,
          0.15418695267589866,
          0.15448998109455578,
          0.15487801424980566,
          0.15487801424980566,
          0.15562100021596975,
          0.15562100021596975,
          0.1559807053787294,
          0.1559807053787294,
          0.15682221105056265,
          0.15719473872866174,
          0.1580860858557051,
          0.15829888729594027,
          0.15851016232798,
          0.15906719460211885,
          0.1591137215467784,
          0.16160520534753064,
          0.16253692219450974,
          0.16284926587240825,
          0.16395482913291656,
          0.16395482913291656,
          0.16584419974535947,
          0.16584419974535947,
          0.16762737083057286,
          0.1696033758491235,
          0.17036649785850538,
          0.17042540793120975,
          0.1707429068485387,
          0.17120832496362606,
          0.17123754737145055,
          0.1717229292899245,
          0.172484034494222,
          0.1751673981509568,
          0.17643406025609623,
          0.17662878603057836,
          0.17688160803677805,
          0.17931868872335063,
          0.18014952138257345,
          0.181199740655336,
          0.18218971412931637,
          0.18250877022138384,
          0.18333425275666632,
          0.18350296886161943,
          0.18364440820411448,
          0.18863076397033865,
          0.18863076397033865,
          0.19161300993779729,
          0.19161300993779729,
          0.19175922531826234,
          0.19202610984001414,
          0.19202610984001414,
          0.193527145731833,
          0.19616284834785006,
          0.19800798458878763,
          0.19931087514649673,
          0.19936789542866346,
          0.19936789542866346,
          0.1999252735143791,
          0.20008797460883537,
          0.20118163950859855,
          0.20118163950859855,
          0.20436600127364135,
          0.20500136146100936,
          0.20539243876256733,
          0.20539243876256733,
          0.20542796471838048,
          0.2066667849647934,
          0.2068077717931413,
          0.2068077717931413,
          0.2072987108388606,
          0.20780334834403563,
          0.20977016257849695,
          0.21014648577173803,
          0.21500227833731902,
          0.21520837418305508,
          0.21621303184969431,
          0.21621303184969431,
          0.2169312663791094,
          0.21812678272772626,
          0.22038474019507942,
          0.22070567868609245,
          0.22160172912642934,
          0.2235080346868005,
          0.22356688158810656,
          0.2251535440603758,
          0.2263216995916529,
          0.2272924552400535,
          0.2272924552400535,
          0.22840332604336075,
          0.2289489651020566,
          0.22953143461817532,
          0.23315183340970302,
          0.23654539373828276,
          0.23728282158016917,
          0.23728282158016917,
          0.23728282158016917,
          0.23728282158016917,
          0.23728282158016917,
          0.23748304706724122,
          0.23976127514758433,
          0.2398562683548287,
          0.2443039226618549,
          0.2445019792466518,
          0.24469711662003085,
          0.24623607203862535,
          0.24680441259380512,
          0.24680441259380512,
          0.24994888247691135,
          0.25363516640671796,
          0.25392886951450344,
          0.25392886951450344,
          0.254763280028429,
          0.255924554353744,
          0.25875087843709155,
          0.2591425516582987,
          0.26159597280527525,
          0.2618635013417657,
          0.26354554133764124,
          0.2655914154518101,
          0.26570959430163044,
          0.26931114314841864,
          0.27040472916428054,
          0.2726157648376254,
          0.2729703153193187,
          0.2766871301856146,
          0.28064321965790645,
          0.2806955141895985,
          0.28254878696843105,
          0.28383688950206454,
          0.294356892670715,
          0.2981418231509997,
          0.2983822662087191,
          0.30227744960754427,
          0.30349515956003437,
          0.30721143783897753,
          0.3077251424369894,
          0.3099014365611529,
          0.3123794611254622,
          0.3154783677063493,
          0.3154783677063493,
          0.3175461197534098,
          0.3175461197534098,
          0.31828635308025044,
          0.3354443733954592,
          0.3397679817955985,
          0.35092589943230823,
          0.35471183074786,
          0.357256333106373,
          0.35999163269390466,
          0.36233479296878873,
          0.3633139275474808,
          0.3653183538701498,
          0.3653183538701498,
          0.3655317666241265,
          0.36748376410791217,
          0.3751295464958845,
          0.3827215597874476,
          0.39183015627644274,
          0.3962677949316843,
          0.4005581344930917,
          0.40307702940557605,
          0.40318398820217516,
          0.40716485685433046,
          0.4092175176571955,
          0.4174288195315088,
          0.4193815501436952,
          0.4280669928438577,
          0.4295606397743777,
          0.42970572719167494,
          0.4330037709812708,
          0.4330037709812708,
          0.445128433280695,
          0.44803210661050674,
          0.4624863389782189,
          0.46570402582883874,
          0.46763686413965794,
          0.48529016202908215,
          0.49668925883709664,
          0.5124805089172135,
          0.5146596213004806,
          0.5146596213004806,
          0.5149837871979879,
          0.5198482577298853,
          0.5268794059066847,
          0.5299778975127654,
          0.5534601954070447,
          0.5547160754597521,
          0.5630864019367785,
          0.5639199641375671,
          0.568408802153902,
          0.5780069116424845,
          0.6434826774727274,
          0.6895689845201456,
          0.6999548240217148,
          0.7115179801511127,
          0.7150080291454982,
          0.7213175467508616,
          0.7596567919793821,
          0.7718455155545525,
          0.888977096815384,
          0.943181005669036,
          1.078877586180982,
          1.1880776305673266,
          1.2476090006003442,
          1.3033529199599736,
          1.3034431932652675,
          1.3229469852760556,
          1.375336058245258,
          1.4736503335690412,
          1.5395649353269356,
          1.6786109044369184,
          1.7659881066245489,
          1.9263040580824915
         ]
        }
       ],
       "layout": {
        "hovermode": "x unified",
        "template": {
         "data": {
          "bar": [
           {
            "error_x": {
             "color": "#2a3f5f"
            },
            "error_y": {
             "color": "#2a3f5f"
            },
            "marker": {
             "line": {
              "color": "white",
              "width": 0.5
             },
             "pattern": {
              "fillmode": "overlay",
              "size": 10,
              "solidity": 0.2
             }
            },
            "type": "bar"
           }
          ],
          "barpolar": [
           {
            "marker": {
             "line": {
              "color": "white",
              "width": 0.5
             },
             "pattern": {
              "fillmode": "overlay",
              "size": 10,
              "solidity": 0.2
             }
            },
            "type": "barpolar"
           }
          ],
          "carpet": [
           {
            "aaxis": {
             "endlinecolor": "#2a3f5f",
             "gridcolor": "#C8D4E3",
             "linecolor": "#C8D4E3",
             "minorgridcolor": "#C8D4E3",
             "startlinecolor": "#2a3f5f"
            },
            "baxis": {
             "endlinecolor": "#2a3f5f",
             "gridcolor": "#C8D4E3",
             "linecolor": "#C8D4E3",
             "minorgridcolor": "#C8D4E3",
             "startlinecolor": "#2a3f5f"
            },
            "type": "carpet"
           }
          ],
          "choropleth": [
           {
            "colorbar": {
             "outlinewidth": 0,
             "ticks": ""
            },
            "type": "choropleth"
           }
          ],
          "contour": [
           {
            "colorbar": {
             "outlinewidth": 0,
             "ticks": ""
            },
            "colorscale": [
             [
              0,
              "#0d0887"
             ],
             [
              0.1111111111111111,
              "#46039f"
             ],
             [
              0.2222222222222222,
              "#7201a8"
             ],
             [
              0.3333333333333333,
              "#9c179e"
             ],
             [
              0.4444444444444444,
              "#bd3786"
             ],
             [
              0.5555555555555556,
              "#d8576b"
             ],
             [
              0.6666666666666666,
              "#ed7953"
             ],
             [
              0.7777777777777778,
              "#fb9f3a"
             ],
             [
              0.8888888888888888,
              "#fdca26"
             ],
             [
              1,
              "#f0f921"
             ]
            ],
            "type": "contour"
           }
          ],
          "contourcarpet": [
           {
            "colorbar": {
             "outlinewidth": 0,
             "ticks": ""
            },
            "type": "contourcarpet"
           }
          ],
          "heatmap": [
           {
            "colorbar": {
             "outlinewidth": 0,
             "ticks": ""
            },
            "colorscale": [
             [
              0,
              "#0d0887"
             ],
             [
              0.1111111111111111,
              "#46039f"
             ],
             [
              0.2222222222222222,
              "#7201a8"
             ],
             [
              0.3333333333333333,
              "#9c179e"
             ],
             [
              0.4444444444444444,
              "#bd3786"
             ],
             [
              0.5555555555555556,
              "#d8576b"
             ],
             [
              0.6666666666666666,
              "#ed7953"
             ],
             [
              0.7777777777777778,
              "#fb9f3a"
             ],
             [
              0.8888888888888888,
              "#fdca26"
             ],
             [
              1,
              "#f0f921"
             ]
            ],
            "type": "heatmap"
           }
          ],
          "heatmapgl": [
           {
            "colorbar": {
             "outlinewidth": 0,
             "ticks": ""
            },
            "colorscale": [
             [
              0,
              "#0d0887"
             ],
             [
              0.1111111111111111,
              "#46039f"
             ],
             [
              0.2222222222222222,
              "#7201a8"
             ],
             [
              0.3333333333333333,
              "#9c179e"
             ],
             [
              0.4444444444444444,
              "#bd3786"
             ],
             [
              0.5555555555555556,
              "#d8576b"
             ],
             [
              0.6666666666666666,
              "#ed7953"
             ],
             [
              0.7777777777777778,
              "#fb9f3a"
             ],
             [
              0.8888888888888888,
              "#fdca26"
             ],
             [
              1,
              "#f0f921"
             ]
            ],
            "type": "heatmapgl"
           }
          ],
          "histogram": [
           {
            "marker": {
             "pattern": {
              "fillmode": "overlay",
              "size": 10,
              "solidity": 0.2
             }
            },
            "type": "histogram"
           }
          ],
          "histogram2d": [
           {
            "colorbar": {
             "outlinewidth": 0,
             "ticks": ""
            },
            "colorscale": [
             [
              0,
              "#0d0887"
             ],
             [
              0.1111111111111111,
              "#46039f"
             ],
             [
              0.2222222222222222,
              "#7201a8"
             ],
             [
              0.3333333333333333,
              "#9c179e"
             ],
             [
              0.4444444444444444,
              "#bd3786"
             ],
             [
              0.5555555555555556,
              "#d8576b"
             ],
             [
              0.6666666666666666,
              "#ed7953"
             ],
             [
              0.7777777777777778,
              "#fb9f3a"
             ],
             [
              0.8888888888888888,
              "#fdca26"
             ],
             [
              1,
              "#f0f921"
             ]
            ],
            "type": "histogram2d"
           }
          ],
          "histogram2dcontour": [
           {
            "colorbar": {
             "outlinewidth": 0,
             "ticks": ""
            },
            "colorscale": [
             [
              0,
              "#0d0887"
             ],
             [
              0.1111111111111111,
              "#46039f"
             ],
             [
              0.2222222222222222,
              "#7201a8"
             ],
             [
              0.3333333333333333,
              "#9c179e"
             ],
             [
              0.4444444444444444,
              "#bd3786"
             ],
             [
              0.5555555555555556,
              "#d8576b"
             ],
             [
              0.6666666666666666,
              "#ed7953"
             ],
             [
              0.7777777777777778,
              "#fb9f3a"
             ],
             [
              0.8888888888888888,
              "#fdca26"
             ],
             [
              1,
              "#f0f921"
             ]
            ],
            "type": "histogram2dcontour"
           }
          ],
          "mesh3d": [
           {
            "colorbar": {
             "outlinewidth": 0,
             "ticks": ""
            },
            "type": "mesh3d"
           }
          ],
          "parcoords": [
           {
            "line": {
             "colorbar": {
              "outlinewidth": 0,
              "ticks": ""
             }
            },
            "type": "parcoords"
           }
          ],
          "pie": [
           {
            "automargin": true,
            "type": "pie"
           }
          ],
          "scatter": [
           {
            "fillpattern": {
             "fillmode": "overlay",
             "size": 10,
             "solidity": 0.2
            },
            "type": "scatter"
           }
          ],
          "scatter3d": [
           {
            "line": {
             "colorbar": {
              "outlinewidth": 0,
              "ticks": ""
             }
            },
            "marker": {
             "colorbar": {
              "outlinewidth": 0,
              "ticks": ""
             }
            },
            "type": "scatter3d"
           }
          ],
          "scattercarpet": [
           {
            "marker": {
             "colorbar": {
              "outlinewidth": 0,
              "ticks": ""
             }
            },
            "type": "scattercarpet"
           }
          ],
          "scattergeo": [
           {
            "marker": {
             "colorbar": {
              "outlinewidth": 0,
              "ticks": ""
             }
            },
            "type": "scattergeo"
           }
          ],
          "scattergl": [
           {
            "marker": {
             "colorbar": {
              "outlinewidth": 0,
              "ticks": ""
             }
            },
            "type": "scattergl"
           }
          ],
          "scattermapbox": [
           {
            "marker": {
             "colorbar": {
              "outlinewidth": 0,
              "ticks": ""
             }
            },
            "type": "scattermapbox"
           }
          ],
          "scatterpolar": [
           {
            "marker": {
             "colorbar": {
              "outlinewidth": 0,
              "ticks": ""
             }
            },
            "type": "scatterpolar"
           }
          ],
          "scatterpolargl": [
           {
            "marker": {
             "colorbar": {
              "outlinewidth": 0,
              "ticks": ""
             }
            },
            "type": "scatterpolargl"
           }
          ],
          "scatterternary": [
           {
            "marker": {
             "colorbar": {
              "outlinewidth": 0,
              "ticks": ""
             }
            },
            "type": "scatterternary"
           }
          ],
          "surface": [
           {
            "colorbar": {
             "outlinewidth": 0,
             "ticks": ""
            },
            "colorscale": [
             [
              0,
              "#0d0887"
             ],
             [
              0.1111111111111111,
              "#46039f"
             ],
             [
              0.2222222222222222,
              "#7201a8"
             ],
             [
              0.3333333333333333,
              "#9c179e"
             ],
             [
              0.4444444444444444,
              "#bd3786"
             ],
             [
              0.5555555555555556,
              "#d8576b"
             ],
             [
              0.6666666666666666,
              "#ed7953"
             ],
             [
              0.7777777777777778,
              "#fb9f3a"
             ],
             [
              0.8888888888888888,
              "#fdca26"
             ],
             [
              1,
              "#f0f921"
             ]
            ],
            "type": "surface"
           }
          ],
          "table": [
           {
            "cells": {
             "fill": {
              "color": "#EBF0F8"
             },
             "line": {
              "color": "white"
             }
            },
            "header": {
             "fill": {
              "color": "#C8D4E3"
             },
             "line": {
              "color": "white"
             }
            },
            "type": "table"
           }
          ]
         },
         "layout": {
          "annotationdefaults": {
           "arrowcolor": "#2a3f5f",
           "arrowhead": 0,
           "arrowwidth": 1
          },
          "autotypenumbers": "strict",
          "coloraxis": {
           "colorbar": {
            "outlinewidth": 0,
            "ticks": ""
           }
          },
          "colorscale": {
           "diverging": [
            [
             0,
             "#8e0152"
            ],
            [
             0.1,
             "#c51b7d"
            ],
            [
             0.2,
             "#de77ae"
            ],
            [
             0.3,
             "#f1b6da"
            ],
            [
             0.4,
             "#fde0ef"
            ],
            [
             0.5,
             "#f7f7f7"
            ],
            [
             0.6,
             "#e6f5d0"
            ],
            [
             0.7,
             "#b8e186"
            ],
            [
             0.8,
             "#7fbc41"
            ],
            [
             0.9,
             "#4d9221"
            ],
            [
             1,
             "#276419"
            ]
           ],
           "sequential": [
            [
             0,
             "#0d0887"
            ],
            [
             0.1111111111111111,
             "#46039f"
            ],
            [
             0.2222222222222222,
             "#7201a8"
            ],
            [
             0.3333333333333333,
             "#9c179e"
            ],
            [
             0.4444444444444444,
             "#bd3786"
            ],
            [
             0.5555555555555556,
             "#d8576b"
            ],
            [
             0.6666666666666666,
             "#ed7953"
            ],
            [
             0.7777777777777778,
             "#fb9f3a"
            ],
            [
             0.8888888888888888,
             "#fdca26"
            ],
            [
             1,
             "#f0f921"
            ]
           ],
           "sequentialminus": [
            [
             0,
             "#0d0887"
            ],
            [
             0.1111111111111111,
             "#46039f"
            ],
            [
             0.2222222222222222,
             "#7201a8"
            ],
            [
             0.3333333333333333,
             "#9c179e"
            ],
            [
             0.4444444444444444,
             "#bd3786"
            ],
            [
             0.5555555555555556,
             "#d8576b"
            ],
            [
             0.6666666666666666,
             "#ed7953"
            ],
            [
             0.7777777777777778,
             "#fb9f3a"
            ],
            [
             0.8888888888888888,
             "#fdca26"
            ],
            [
             1,
             "#f0f921"
            ]
           ]
          },
          "colorway": [
           "#636efa",
           "#EF553B",
           "#00cc96",
           "#ab63fa",
           "#FFA15A",
           "#19d3f3",
           "#FF6692",
           "#B6E880",
           "#FF97FF",
           "#FECB52"
          ],
          "font": {
           "color": "#2a3f5f"
          },
          "geo": {
           "bgcolor": "white",
           "lakecolor": "white",
           "landcolor": "white",
           "showlakes": true,
           "showland": true,
           "subunitcolor": "#C8D4E3"
          },
          "hoverlabel": {
           "align": "left"
          },
          "hovermode": "closest",
          "mapbox": {
           "style": "light"
          },
          "paper_bgcolor": "white",
          "plot_bgcolor": "white",
          "polar": {
           "angularaxis": {
            "gridcolor": "#EBF0F8",
            "linecolor": "#EBF0F8",
            "ticks": ""
           },
           "bgcolor": "white",
           "radialaxis": {
            "gridcolor": "#EBF0F8",
            "linecolor": "#EBF0F8",
            "ticks": ""
           }
          },
          "scene": {
           "xaxis": {
            "backgroundcolor": "white",
            "gridcolor": "#DFE8F3",
            "gridwidth": 2,
            "linecolor": "#EBF0F8",
            "showbackground": true,
            "ticks": "",
            "zerolinecolor": "#EBF0F8"
           },
           "yaxis": {
            "backgroundcolor": "white",
            "gridcolor": "#DFE8F3",
            "gridwidth": 2,
            "linecolor": "#EBF0F8",
            "showbackground": true,
            "ticks": "",
            "zerolinecolor": "#EBF0F8"
           },
           "zaxis": {
            "backgroundcolor": "white",
            "gridcolor": "#DFE8F3",
            "gridwidth": 2,
            "linecolor": "#EBF0F8",
            "showbackground": true,
            "ticks": "",
            "zerolinecolor": "#EBF0F8"
           }
          },
          "shapedefaults": {
           "line": {
            "color": "#2a3f5f"
           }
          },
          "ternary": {
           "aaxis": {
            "gridcolor": "#DFE8F3",
            "linecolor": "#A2B1C6",
            "ticks": ""
           },
           "baxis": {
            "gridcolor": "#DFE8F3",
            "linecolor": "#A2B1C6",
            "ticks": ""
           },
           "bgcolor": "white",
           "caxis": {
            "gridcolor": "#DFE8F3",
            "linecolor": "#A2B1C6",
            "ticks": ""
           }
          },
          "title": {
           "x": 0.05
          },
          "xaxis": {
           "automargin": true,
           "gridcolor": "#EBF0F8",
           "linecolor": "#EBF0F8",
           "ticks": "",
           "title": {
            "standoff": 15
           },
           "zerolinecolor": "#EBF0F8",
           "zerolinewidth": 2
          },
          "yaxis": {
           "automargin": true,
           "gridcolor": "#EBF0F8",
           "linecolor": "#EBF0F8",
           "ticks": "",
           "title": {
            "standoff": 15
           },
           "zerolinecolor": "#EBF0F8",
           "zerolinewidth": 2
          }
         }
        },
        "title": {
         "text": "k-Distance Graph for UMAP"
        },
        "xaxis": {
         "gridcolor": "lightgrey",
         "gridwidth": 1,
         "showgrid": true,
         "title": {
          "text": "Points sorted by distance"
         }
        },
        "yaxis": {
         "gridcolor": "lightgrey",
         "gridwidth": 1,
         "showgrid": true,
         "title": {
          "text": "Distance to 5th Nearest Neighbor"
         }
        }
       }
      }
     },
     "metadata": {},
     "output_type": "display_data"
    }
   ],
   "source": [
    "from sklearn.neighbors import NearestNeighbors\n",
    "\n",
    "def plotKdistance(reduced_embeddings, k=5, method='PCA'):\n",
    "    # Compute k-nearest neighbors\n",
    "    neighbors = NearestNeighbors(n_neighbors=k)\n",
    "    neighbors_fit = neighbors.fit(reduced_embeddings)\n",
    "    distances, _ = neighbors_fit.kneighbors(reduced_embeddings)\n",
    "    \n",
    "    # Sort distances to the k-th nearest neighbor\n",
    "    k_distances = np.sort(distances[:, k-1])\n",
    "    \n",
    "    # Create interactive line plot\n",
    "    fig = go.Figure()\n",
    "\n",
    "    fig.add_trace(go.Scatter(\n",
    "        x=np.arange(1, len(k_distances) + 1),\n",
    "        y=k_distances,\n",
    "        mode='lines',\n",
    "        line=dict(color='blue'),\n",
    "        name='k-distance'\n",
    "    ))\n",
    "    \n",
    "    # Update layout for clarity\n",
    "    fig.update_layout(\n",
    "        title=f'k-Distance Graph for {method}',\n",
    "        xaxis_title='Points sorted by distance',\n",
    "        yaxis_title=f'Distance to {k}th Nearest Neighbor',\n",
    "        template='plotly_white',\n",
    "        hovermode='x unified'\n",
    "    )\n",
    "    \n",
    "    # Add light grid lines\n",
    "    fig.update_xaxes(showgrid=True, gridwidth=1, gridcolor='lightgrey')\n",
    "    fig.update_yaxes(showgrid=True, gridwidth=1, gridcolor='lightgrey')\n",
    "    \n",
    "    fig.show()\n",
    "\n",
    "plotKdistance(embeddings_umap, k= 5, method='PCA')\n",
    "plotKdistance(embeddings_pca, k= 5, method='UMAP')"
   ]
  },
  {
   "cell_type": "code",
   "execution_count": 166,
   "metadata": {},
   "outputs": [
    {
     "data": {
      "application/vnd.plotly.v1+json": {
       "config": {
        "plotlyServerURL": "https://plot.ly"
       },
       "data": [
        {
         "customdata": [
          [
           0,
           5
          ],
          [
           1,
           4
          ],
          [
           2,
           5
          ],
          [
           3,
           3
          ],
          [
           4,
           1
          ],
          [
           5,
           5
          ],
          [
           6,
           5
          ],
          [
           7,
           2
          ],
          [
           8,
           5
          ],
          [
           9,
           5
          ],
          [
           10,
           5
          ],
          [
           11,
           2
          ],
          [
           12,
           5
          ],
          [
           13,
           5
          ],
          [
           14,
           5
          ],
          [
           15,
           1
          ],
          [
           16,
           5
          ],
          [
           17,
           5
          ],
          [
           18,
           2
          ],
          [
           19,
           3
          ],
          [
           20,
           5
          ],
          [
           21,
           4
          ],
          [
           22,
           5
          ],
          [
           23,
           5
          ],
          [
           24,
           5
          ],
          [
           25,
           5
          ],
          [
           26,
           5
          ],
          [
           27,
           4
          ],
          [
           28,
           5
          ],
          [
           29,
           5
          ],
          [
           30,
           5
          ],
          [
           31,
           1
          ],
          [
           32,
           4
          ],
          [
           33,
           5
          ],
          [
           34,
           4
          ],
          [
           35,
           4
          ],
          [
           36,
           5
          ],
          [
           37,
           2
          ],
          [
           38,
           5
          ],
          [
           39,
           3
          ],
          [
           40,
           5
          ],
          [
           41,
           5
          ],
          [
           42,
           5
          ],
          [
           43,
           4
          ],
          [
           44,
           5
          ],
          [
           45,
           5
          ],
          [
           46,
           5
          ],
          [
           47,
           2
          ],
          [
           48,
           5
          ],
          [
           49,
           5
          ],
          [
           50,
           5
          ],
          [
           51,
           5
          ],
          [
           52,
           5
          ],
          [
           53,
           4
          ],
          [
           54,
           2
          ],
          [
           55,
           5
          ],
          [
           56,
           5
          ],
          [
           57,
           5
          ],
          [
           58,
           5
          ],
          [
           59,
           5
          ],
          [
           60,
           4
          ],
          [
           61,
           4
          ],
          [
           62,
           5
          ],
          [
           63,
           2
          ],
          [
           64,
           3
          ],
          [
           65,
           3
          ],
          [
           66,
           4
          ],
          [
           67,
           4
          ],
          [
           68,
           4
          ],
          [
           69,
           4
          ],
          [
           70,
           5
          ],
          [
           71,
           5
          ],
          [
           72,
           4
          ],
          [
           73,
           4
          ],
          [
           74,
           5
          ],
          [
           75,
           2
          ],
          [
           76,
           5
          ],
          [
           77,
           4
          ],
          [
           78,
           5
          ],
          [
           79,
           4
          ],
          [
           80,
           5
          ],
          [
           81,
           5
          ],
          [
           82,
           5
          ],
          [
           83,
           3
          ],
          [
           84,
           5
          ],
          [
           85,
           5
          ],
          [
           86,
           5
          ],
          [
           87,
           5
          ],
          [
           88,
           2
          ],
          [
           89,
           4
          ],
          [
           90,
           5
          ],
          [
           91,
           3
          ],
          [
           92,
           4
          ],
          [
           93,
           5
          ],
          [
           94,
           2
          ],
          [
           95,
           3
          ],
          [
           96,
           4
          ],
          [
           97,
           5
          ],
          [
           98,
           5
          ],
          [
           99,
           5
          ],
          [
           100,
           1
          ],
          [
           101,
           5
          ],
          [
           102,
           4
          ],
          [
           103,
           5
          ],
          [
           104,
           5
          ],
          [
           105,
           4
          ],
          [
           106,
           5
          ],
          [
           107,
           5
          ],
          [
           108,
           4
          ],
          [
           109,
           4
          ],
          [
           110,
           5
          ],
          [
           111,
           2
          ],
          [
           112,
           5
          ],
          [
           113,
           5
          ],
          [
           114,
           4
          ],
          [
           115,
           5
          ],
          [
           116,
           5
          ],
          [
           117,
           5
          ],
          [
           118,
           4
          ],
          [
           119,
           4
          ],
          [
           120,
           5
          ],
          [
           121,
           5
          ],
          [
           122,
           5
          ],
          [
           123,
           4
          ],
          [
           124,
           4
          ],
          [
           125,
           5
          ],
          [
           126,
           4
          ],
          [
           127,
           5
          ],
          [
           128,
           4
          ],
          [
           129,
           3
          ],
          [
           130,
           5
          ],
          [
           131,
           5
          ],
          [
           132,
           5
          ],
          [
           133,
           5
          ],
          [
           134,
           5
          ],
          [
           135,
           4
          ],
          [
           136,
           2
          ],
          [
           137,
           4
          ],
          [
           138,
           4
          ],
          [
           139,
           5
          ],
          [
           140,
           5
          ],
          [
           141,
           5
          ],
          [
           142,
           4
          ],
          [
           143,
           5
          ],
          [
           144,
           3
          ],
          [
           145,
           5
          ],
          [
           146,
           5
          ],
          [
           147,
           3
          ],
          [
           148,
           4
          ],
          [
           149,
           4
          ],
          [
           150,
           5
          ],
          [
           151,
           5
          ],
          [
           152,
           3
          ],
          [
           153,
           3
          ],
          [
           154,
           5
          ],
          [
           155,
           5
          ],
          [
           156,
           5
          ],
          [
           157,
           1
          ],
          [
           158,
           4
          ],
          [
           159,
           5
          ],
          [
           160,
           5
          ],
          [
           161,
           5
          ],
          [
           162,
           5
          ],
          [
           163,
           5
          ],
          [
           164,
           5
          ],
          [
           165,
           4
          ],
          [
           166,
           2
          ],
          [
           167,
           4
          ],
          [
           168,
           4
          ],
          [
           169,
           5
          ],
          [
           170,
           3
          ],
          [
           171,
           3
          ],
          [
           172,
           5
          ],
          [
           173,
           4
          ],
          [
           174,
           5
          ],
          [
           175,
           3
          ],
          [
           176,
           5
          ],
          [
           177,
           5
          ],
          [
           178,
           4
          ],
          [
           179,
           5
          ],
          [
           180,
           5
          ],
          [
           181,
           4
          ],
          [
           182,
           5
          ],
          [
           183,
           5
          ],
          [
           184,
           5
          ],
          [
           185,
           5
          ],
          [
           186,
           2
          ],
          [
           187,
           4
          ],
          [
           188,
           5
          ],
          [
           189,
           5
          ],
          [
           190,
           5
          ],
          [
           191,
           5
          ],
          [
           192,
           5
          ],
          [
           193,
           5
          ],
          [
           194,
           1
          ],
          [
           195,
           2
          ],
          [
           196,
           4
          ],
          [
           197,
           5
          ],
          [
           198,
           5
          ],
          [
           199,
           5
          ],
          [
           200,
           5
          ],
          [
           201,
           5
          ],
          [
           202,
           5
          ],
          [
           203,
           4
          ],
          [
           204,
           4
          ],
          [
           205,
           4
          ],
          [
           206,
           5
          ],
          [
           207,
           5
          ],
          [
           208,
           5
          ],
          [
           209,
           5
          ],
          [
           210,
           4
          ],
          [
           211,
           4
          ],
          [
           212,
           5
          ],
          [
           213,
           4
          ],
          [
           214,
           5
          ],
          [
           215,
           5
          ],
          [
           216,
           5
          ],
          [
           217,
           5
          ],
          [
           218,
           5
          ],
          [
           219,
           5
          ],
          [
           220,
           4
          ],
          [
           221,
           5
          ],
          [
           222,
           5
          ],
          [
           223,
           5
          ],
          [
           224,
           5
          ],
          [
           225,
           3
          ],
          [
           226,
           4
          ],
          [
           227,
           5
          ],
          [
           228,
           5
          ],
          [
           229,
           5
          ],
          [
           230,
           5
          ],
          [
           231,
           5
          ],
          [
           232,
           5
          ],
          [
           233,
           5
          ],
          [
           234,
           5
          ],
          [
           235,
           5
          ],
          [
           236,
           4
          ],
          [
           237,
           5
          ],
          [
           238,
           3
          ],
          [
           239,
           3
          ],
          [
           240,
           4
          ],
          [
           241,
           4
          ],
          [
           242,
           5
          ],
          [
           243,
           5
          ],
          [
           244,
           5
          ],
          [
           245,
           5
          ],
          [
           246,
           4
          ],
          [
           247,
           5
          ],
          [
           248,
           4
          ],
          [
           249,
           5
          ],
          [
           250,
           4
          ],
          [
           251,
           5
          ],
          [
           252,
           4
          ],
          [
           253,
           5
          ],
          [
           254,
           2
          ],
          [
           255,
           5
          ],
          [
           256,
           5
          ],
          [
           257,
           4
          ],
          [
           258,
           4
          ],
          [
           259,
           4
          ],
          [
           260,
           4
          ],
          [
           261,
           4
          ],
          [
           262,
           3
          ],
          [
           263,
           4
          ],
          [
           264,
           5
          ],
          [
           265,
           5
          ],
          [
           266,
           3
          ],
          [
           267,
           5
          ],
          [
           268,
           5
          ],
          [
           269,
           4
          ],
          [
           270,
           5
          ],
          [
           271,
           5
          ],
          [
           272,
           5
          ],
          [
           273,
           5
          ],
          [
           274,
           5
          ],
          [
           275,
           4
          ],
          [
           276,
           2
          ],
          [
           277,
           5
          ],
          [
           278,
           5
          ],
          [
           279,
           5
          ],
          [
           280,
           5
          ],
          [
           281,
           5
          ],
          [
           282,
           4
          ],
          [
           283,
           5
          ],
          [
           284,
           1
          ],
          [
           285,
           5
          ],
          [
           286,
           5
          ],
          [
           287,
           3
          ],
          [
           288,
           5
          ],
          [
           289,
           4
          ],
          [
           290,
           5
          ],
          [
           291,
           4
          ],
          [
           292,
           5
          ],
          [
           293,
           5
          ],
          [
           294,
           5
          ],
          [
           295,
           5
          ],
          [
           296,
           5
          ],
          [
           297,
           2
          ],
          [
           298,
           4
          ],
          [
           299,
           5
          ],
          [
           300,
           5
          ],
          [
           301,
           5
          ],
          [
           302,
           3
          ],
          [
           303,
           5
          ],
          [
           304,
           3
          ],
          [
           305,
           4
          ],
          [
           306,
           4
          ],
          [
           307,
           5
          ],
          [
           308,
           1
          ],
          [
           309,
           5
          ],
          [
           310,
           4
          ],
          [
           311,
           5
          ],
          [
           312,
           5
          ],
          [
           313,
           4
          ],
          [
           314,
           5
          ],
          [
           315,
           5
          ],
          [
           316,
           5
          ],
          [
           317,
           5
          ],
          [
           318,
           4
          ],
          [
           319,
           5
          ],
          [
           320,
           5
          ],
          [
           321,
           4
          ],
          [
           322,
           5
          ],
          [
           323,
           4
          ],
          [
           324,
           5
          ],
          [
           325,
           5
          ],
          [
           326,
           3
          ],
          [
           327,
           3
          ],
          [
           328,
           3
          ],
          [
           329,
           4
          ],
          [
           330,
           5
          ],
          [
           331,
           4
          ],
          [
           332,
           5
          ],
          [
           333,
           5
          ],
          [
           334,
           5
          ],
          [
           335,
           1
          ],
          [
           336,
           5
          ],
          [
           337,
           4
          ],
          [
           338,
           5
          ],
          [
           339,
           5
          ],
          [
           340,
           4
          ],
          [
           341,
           4
          ],
          [
           342,
           5
          ],
          [
           343,
           5
          ],
          [
           344,
           5
          ],
          [
           345,
           5
          ],
          [
           346,
           4
          ],
          [
           347,
           5
          ],
          [
           348,
           4
          ],
          [
           349,
           5
          ],
          [
           350,
           4
          ],
          [
           351,
           5
          ],
          [
           352,
           5
          ],
          [
           353,
           4
          ],
          [
           354,
           5
          ],
          [
           355,
           1
          ],
          [
           356,
           4
          ],
          [
           357,
           5
          ],
          [
           358,
           5
          ],
          [
           359,
           1
          ]
         ],
         "hovertemplate": "PCA 1 (47.0% variance)=%{x}<br>PCA 2 (4.6% variance)=%{y}<br>Review ID=%{customdata[0]}<br>Rating Score=%{customdata[1]}<br>Cluster=%{marker.color}<extra></extra>",
         "legendgroup": "",
         "marker": {
          "color": [
           0,
           0,
           0,
           0,
           0,
           0,
           0,
           0,
           0,
           0,
           0,
           0,
           0,
           0,
           0,
           0,
           0,
           0,
           0,
           0,
           0,
           0,
           0,
           0,
           0,
           0,
           0,
           0,
           0,
           0,
           0,
           0,
           0,
           0,
           0,
           0,
           0,
           0,
           0,
           0,
           0,
           0,
           0,
           0,
           0,
           0,
           0,
           0,
           0,
           0,
           0,
           0,
           0,
           0,
           0,
           0,
           0,
           0,
           0,
           0,
           0,
           0,
           0,
           0,
           0,
           0,
           0,
           0,
           0,
           0,
           0,
           0,
           0,
           0,
           0,
           0,
           0,
           0,
           0,
           0,
           0,
           0,
           0,
           0,
           0,
           0,
           0,
           0,
           0,
           0,
           0,
           0,
           0,
           0,
           0,
           0,
           0,
           0,
           0,
           0,
           0,
           0,
           0,
           0,
           0,
           0,
           0,
           0,
           0,
           0,
           0,
           0,
           0,
           0,
           0,
           0,
           0,
           0,
           0,
           0,
           0,
           0,
           0,
           0,
           0,
           0,
           0,
           0,
           0,
           0,
           0,
           0,
           0,
           0,
           0,
           0,
           0,
           0,
           0,
           0,
           0,
           0,
           0,
           0,
           0,
           0,
           0,
           0,
           0,
           0,
           0,
           0,
           0,
           0,
           0,
           0,
           0,
           0,
           0,
           0,
           0,
           0,
           0,
           0,
           0,
           0,
           0,
           0,
           0,
           0,
           0,
           0,
           0,
           0,
           0,
           0,
           0,
           0,
           0,
           0,
           0,
           0,
           0,
           0,
           0,
           0,
           0,
           0,
           0,
           0,
           0,
           0,
           0,
           0,
           0,
           0,
           0,
           0,
           0,
           0,
           0,
           0,
           0,
           0,
           0,
           0,
           0,
           0,
           0,
           0,
           0,
           0,
           0,
           0,
           0,
           0,
           0,
           0,
           0,
           0,
           0,
           0,
           0,
           0,
           0,
           0,
           0,
           0,
           0,
           0,
           0,
           0,
           0,
           0,
           0,
           0,
           0,
           0,
           0,
           0,
           0,
           0,
           0,
           0,
           0,
           0,
           0,
           0,
           0,
           0,
           1,
           0,
           0,
           0,
           0,
           2,
           0,
           2,
           0,
           -1,
           0,
           0,
           2,
           2,
           1,
           2,
           0,
           2,
           0,
           0,
           2,
           0,
           1,
           0,
           1,
           1,
           0,
           0,
           2,
           0,
           0,
           1,
           0,
           0,
           -1,
           0,
           0,
           2,
           2,
           2,
           0,
           2,
           2,
           2,
           2,
           2,
           2,
           2,
           2,
           2,
           2,
           2,
           2,
           2,
           2,
           2,
           2,
           2,
           2,
           2,
           2,
           2,
           2,
           2,
           2,
           2,
           2,
           2,
           2,
           2,
           2,
           2,
           2,
           2,
           2,
           2,
           2,
           2,
           2,
           2,
           2,
           2,
           2,
           2,
           2,
           2,
           2,
           2,
           2,
           2,
           2,
           2,
           2,
           2,
           2,
           2,
           2,
           2,
           2,
           2,
           2,
           2,
           2,
           2,
           2,
           2,
           2,
           2,
           2,
           2
          ],
          "coloraxis": "coloraxis",
          "symbol": "circle"
         },
         "mode": "markers",
         "name": "",
         "orientation": "v",
         "showlegend": false,
         "type": "scatter",
         "x": [
          -2.435014009475708,
          -3.0679917335510254,
          -2.906062602996826,
          -2.572589635848999,
          -2.9201009273529053,
          -2.4744274616241455,
          -2.837963104248047,
          -2.8571081161499023,
          -3.2336127758026123,
          -3.302889585494995,
          -2.7003400325775146,
          -3.3825769424438477,
          -3.2398269176483154,
          -2.9755430221557617,
          -3.145293951034546,
          -3.059027671813965,
          -3.172008752822876,
          -3.081296920776367,
          -3.1024365425109863,
          -3.8367722034454346,
          -2.7381527423858643,
          -3.872591972351074,
          -2.7226033210754395,
          -3.2908616065979004,
          -3.3332560062408447,
          -3.500392198562622,
          -3.2629778385162354,
          -2.5081064701080322,
          -3.4538841247558594,
          -3.7453725337982178,
          -2.647832155227661,
          -2.838775634765625,
          -3.066102981567383,
          -2.578096866607666,
          -3.382040023803711,
          -3.5978329181671143,
          -3.720362901687622,
          -3.48893141746521,
          -3.4569218158721924,
          -3.1971595287323,
          -3.238177537918091,
          -3.3361713886260986,
          -3.1741418838500977,
          -2.6081082820892334,
          -3.3285610675811768,
          -3.609837770462036,
          -3.3034534454345703,
          -3.81142520904541,
          -3.1764025688171387,
          -3.5598597526550293,
          -1.6176878213882446,
          -3.0139095783233643,
          -3.8204474449157715,
          -2.748253107070923,
          -3.2785916328430176,
          -3.2522470951080322,
          -2.969695806503296,
          -3.2984275817871094,
          -2.7298758029937744,
          -3.0716240406036377,
          -3.7454891204833984,
          -3.337895154953003,
          -2.843355655670166,
          -2.562727451324463,
          -2.2172820568084717,
          -2.4635870456695557,
          -3.415097713470459,
          -2.961475133895874,
          -2.9132368564605713,
          -2.9372830390930176,
          -3.1041393280029297,
          -2.2293806076049805,
          -3.212531089782715,
          -3.81610369682312,
          -2.432966947555542,
          -3.7763400077819824,
          -2.6114296913146973,
          -3.3517544269561768,
          -2.2580978870391846,
          -2.071892023086548,
          -2.350837230682373,
          -1.9132764339447021,
          -2.2332987785339355,
          -1.6027777194976807,
          -3.1152241230010986,
          -2.6748220920562744,
          -2.899402141571045,
          -2.543191909790039,
          -3.2204720973968506,
          -2.5767064094543457,
          -2.6081619262695312,
          -2.373335361480713,
          -2.909332275390625,
          -2.8105344772338867,
          -4.221518516540527,
          -3.6682331562042236,
          -3.7007622718811035,
          -3.0990397930145264,
          -2.8886287212371826,
          -3.0927000045776367,
          -3.1490283012390137,
          -2.428211212158203,
          -2.23632550239563,
          -3.2677183151245117,
          -2.851285457611084,
          -2.6895217895507812,
          -3.7030038833618164,
          -2.7571182250976562,
          -3.3077380657196045,
          -2.9420180320739746,
          -2.290158748626709,
          -3.2401437759399414,
          -2.9200258255004883,
          -2.768923282623291,
          -3.238469123840332,
          -3.297175407409668,
          -2.792271852493286,
          -3.4108405113220215,
          -3.0378592014312744,
          -0.940900444984436,
          -3.2723753452301025,
          -3.124380350112915,
          -2.860473155975342,
          -2.966196298599243,
          -2.4219913482666016,
          -2.6918609142303467,
          -2.2474071979522705,
          -2.432389259338379,
          -3.0938799381256104,
          -3.0761818885803223,
          -2.330247640609741,
          -3.329399824142456,
          -2.348616361618042,
          -2.773784875869751,
          -3.05350923538208,
          -2.844621181488037,
          -3.1733193397521973,
          -2.9433300495147705,
          -2.1045570373535156,
          -2.9706897735595703,
          -3.477247953414917,
          -2.7872314453125,
          -2.5989694595336914,
          -2.635514736175537,
          -3.489562749862671,
          -3.2058234214782715,
          -1.7262662649154663,
          -2.1224966049194336,
          -1.7696707248687744,
          -3.168163537979126,
          -2.6277785301208496,
          -2.920746088027954,
          -3.4816160202026367,
          -2.6906609535217285,
          -3.3876709938049316,
          -2.086189031600952,
          -2.340768814086914,
          -2.8232762813568115,
          -2.6650116443634033,
          -2.1538877487182617,
          -2.369096040725708,
          -1.724156141281128,
          -1.6073150634765625,
          -2.9983582496643066,
          -2.9447758197784424,
          -2.1545157432556152,
          -1.4503159523010254,
          -2.8694889545440674,
          -2.9978115558624268,
          -2.781893491744995,
          -2.51051664352417,
          -3.0668294429779053,
          -1.4818843603134155,
          -2.0377085208892822,
          -3.131009817123413,
          -3.2297918796539307,
          -2.984567642211914,
          -2.7637321949005127,
          -3.3744585514068604,
          -3.0924220085144043,
          -3.8834900856018066,
          -2.893298625946045,
          -3.476595163345337,
          -1.7414922714233398,
          -2.8558132648468018,
          -3.836148738861084,
          -2.5258123874664307,
          -3.271833896636963,
          -3.3678030967712402,
          -2.273033618927002,
          -3.4495110511779785,
          -2.8490071296691895,
          -2.237137794494629,
          -3.0843284130096436,
          -2.379704236984253,
          -2.5471761226654053,
          -2.799499034881592,
          -2.6263818740844727,
          -2.5010316371917725,
          -0.9783593416213989,
          -3.3041207790374756,
          -3.8478970527648926,
          -2.5178909301757812,
          -2.8254942893981934,
          -3.1403095722198486,
          -3.1865437030792236,
          -3.5030274391174316,
          -3.6921372413635254,
          -2.698059320449829,
          -2.27990460395813,
          -2.9386227130889893,
          -2.1404478549957275,
          -2.695204973220825,
          -2.819596290588379,
          -1.978118658065796,
          -2.5903382301330566,
          -0.7505585551261902,
          -3.0409960746765137,
          0.8513615727424622,
          -2.7309162616729736,
          -2.1504533290863037,
          -2.2154479026794434,
          -2.7767887115478516,
          -3.095118522644043,
          -2.2958946228027344,
          -2.17171573638916,
          -3.0468459129333496,
          -2.8234872817993164,
          -1.6126340627670288,
          -1.026059627532959,
          -2.128603219985962,
          -1.9082144498825073,
          -2.438263416290283,
          -2.5641555786132812,
          -2.7573182582855225,
          -1.5796784162521362,
          -2.439640522003174,
          0.7788266539573669,
          -2.8550164699554443,
          -2.090773820877075,
          -1.5924750566482544,
          -2.065340995788574,
          -1.8304786682128906,
          1.3226839303970337,
          -1.8804718255996704,
          -1.388659119606018,
          -2.760133743286133,
          -1.2128005027770996,
          -0.9505103826522827,
          -1.2506362199783325,
          0.37800654768943787,
          -1.4605302810668945,
          -2.5536599159240723,
          -0.6317431926727295,
          -2.023458957672119,
          8.526052474975586,
          -1.4691801071166992,
          8.526052474975586,
          -0.8417566418647766,
          -1.2269645929336548,
          -0.6613057255744934,
          -1.2379287481307983,
          8.526052474975586,
          8.526052474975586,
          0.37800654768943787,
          8.526052474975586,
          0.4201107323169708,
          8.526052474975586,
          -0.2974366843700409,
          -0.8050052523612976,
          8.526052474975586,
          -0.7434180378913879,
          0.7793412208557129,
          3.1119916439056396,
          0.3955576717853546,
          0.3955576717853546,
          -0.7194748520851135,
          1.4608845710754395,
          8.526052474975586,
          0.8522621989250183,
          0.6762245893478394,
          0.37800654768943787,
          2.25467586517334,
          2.9024152755737305,
          2.0799200534820557,
          0.46746596693992615,
          0.7991667985916138,
          8.526052474975586,
          8.526052474975586,
          8.526052474975586,
          0.5437692999839783,
          8.526052474975586,
          8.526052474975586,
          8.526052474975586,
          8.526052474975586,
          8.526052474975586,
          8.526052474975586,
          8.526052474975586,
          8.526052474975586,
          8.526052474975586,
          8.526052474975586,
          8.526052474975586,
          8.526052474975586,
          8.526052474975586,
          8.526052474975586,
          8.526052474975586,
          8.526052474975586,
          8.526052474975586,
          8.526052474975586,
          8.526052474975586,
          8.526052474975586,
          8.526052474975586,
          8.526052474975586,
          8.526052474975586,
          8.526052474975586,
          8.526052474975586,
          8.526052474975586,
          8.526052474975586,
          8.526052474975586,
          8.526052474975586,
          8.526052474975586,
          8.526052474975586,
          8.526052474975586,
          8.526052474975586,
          8.526052474975586,
          8.526052474975586,
          8.526052474975586,
          8.526052474975586,
          8.526052474975586,
          8.526052474975586,
          8.526052474975586,
          8.526052474975586,
          8.526052474975586,
          8.526052474975586,
          8.526052474975586,
          8.526052474975586,
          8.526052474975586,
          8.526052474975586,
          8.526052474975586,
          8.526052474975586,
          8.526052474975586,
          8.526052474975586,
          8.526052474975586,
          8.526052474975586,
          8.526052474975586,
          8.526052474975586,
          8.526052474975586,
          8.526052474975586,
          8.526052474975586,
          8.526052474975586,
          8.526052474975586,
          8.526052474975586,
          8.526052474975586,
          8.526052474975586,
          8.526052474975586,
          8.526052474975586,
          8.526052474975586,
          8.526052474975586,
          8.526052474975586,
          8.526052474975586
         ],
         "xaxis": "x",
         "y": [
          -0.8244296908378601,
          0.5424448847770691,
          0.4291914701461792,
          0.2854173481464386,
          1.426339864730835,
          -0.05906809866428375,
          0.07534199953079224,
          2.6308438777923584,
          1.1600854396820068,
          0.7446193099021912,
          1.737849235534668,
          1.653687834739685,
          1.1122616529464722,
          0.3836957514286041,
          0.7321794629096985,
          1.3455687761306763,
          1.464393138885498,
          0.14836911857128143,
          2.642611026763916,
          1.8416476249694824,
          0.9352031946182251,
          1.584141731262207,
          -0.15310727059841156,
          -0.27674224972724915,
          1.741996169090271,
          0.27935898303985596,
          1.130831241607666,
          -0.715133547782898,
          -0.1188945546746254,
          2.258300542831421,
          0.31956058740615845,
          2.375776767730713,
          0.28385841846466064,
          -0.31773844361305237,
          0.4125739634037018,
          0.8576187491416931,
          -0.2526084780693054,
          3.0934934616088867,
          -0.3633599579334259,
          1.160508155822754,
          1.2065414190292358,
          1.4188344478607178,
          0.5757483839988708,
          -0.804144561290741,
          0.12558208405971527,
          1.3232618570327759,
          0.11415782570838928,
          1.7355633974075317,
          0.9947025775909424,
          1.0944452285766602,
          -2.021702289581299,
          0.9343662858009338,
          1.031306266784668,
          -2.509369134902954,
          0.9774841666221619,
          1.0710645914077759,
          0.4651120901107788,
          0.023128734901547432,
          1.3500043153762817,
          1.4583998918533325,
          1.0531278848648071,
          -0.1972409039735794,
          2.067915201187134,
          1.9735891819000244,
          -0.18595996499061584,
          0.24702373147010803,
          -0.2037307769060135,
          -0.2773924469947815,
          -0.6292365193367004,
          1.560819387435913,
          1.9754655361175537,
          -0.3335638642311096,
          1.1079659461975098,
          -0.14707092940807343,
          -0.7074002623558044,
          1.6164659261703491,
          -0.27856236696243286,
          0.7161595225334167,
          0.7777976393699646,
          -0.1627395749092102,
          0.6196509599685669,
          1.2680513858795166,
          -1.8907641172409058,
          -1.484741449356079,
          1.1352938413619995,
          0.4114481508731842,
          -0.5919159650802612,
          0.13404665887355804,
          1.9776365756988525,
          -0.8455531597137451,
          0.8919309973716736,
          -1.359514594078064,
          0.6500874757766724,
          0.8513447642326355,
          3.3365166187286377,
          2.5443224906921387,
          1.6787774562835693,
          0.23087365925312042,
          1.810997486114502,
          -0.4741989076137543,
          1.0172345638275146,
          0.031794752925634384,
          0.867790937423706,
          1.478163480758667,
          1.0955190658569336,
          -0.48235222697257996,
          1.3844196796417236,
          0.7434532046318054,
          1.8951746225357056,
          0.6429348587989807,
          -1.1961569786071777,
          0.43882349133491516,
          1.2219370603561401,
          0.44981512427330017,
          -0.05379273742437363,
          1.3859425783157349,
          0.4591681957244873,
          2.1329288482666016,
          0.15465769171714783,
          -1.3388630151748657,
          2.228065013885498,
          0.8484559059143066,
          0.5339949131011963,
          0.6870351433753967,
          -1.2188612222671509,
          -1.7419424057006836,
          -3.162691354751587,
          -1.0479315519332886,
          0.42006760835647583,
          1.0527198314666748,
          1.0563414096832275,
          1.33528470993042,
          1.0232222080230713,
          0.8504370450973511,
          0.36588001251220703,
          0.8090657591819763,
          1.6507946252822876,
          2.058967351913452,
          -0.31650933623313904,
          -0.3371295928955078,
          1.6126890182495117,
          -1.2119423151016235,
          -0.3892500400543213,
          -0.3970159888267517,
          0.563866913318634,
          0.3650672733783722,
          -1.4739043712615967,
          1.000172734260559,
          0.9636496901512146,
          2.7870032787323,
          1.7880008220672607,
          -0.8498115539550781,
          2.2271368503570557,
          0.7926050424575806,
          1.2406055927276611,
          0.7644396424293518,
          -0.7907753586769104,
          1.387803077697754,
          -1.7879540920257568,
          -1.4791758060455322,
          1.4189563989639282,
          -1.056466817855835,
          0.3192620873451233,
          1.9197566509246826,
          0.652971088886261,
          -0.10060840100049973,
          0.809551477432251,
          -0.8837604522705078,
          0.8960659503936768,
          0.847400963306427,
          0.4200994670391083,
          0.4836033582687378,
          0.33150455355644226,
          1.0133867263793945,
          -1.063022494316101,
          1.0706770420074463,
          1.3560689687728882,
          -0.2325136512517929,
          -0.03854973614215851,
          1.8350006341934204,
          1.7753170728683472,
          0.37747204303741455,
          0.41668757796287537,
          0.407164603471756,
          -0.45632168650627136,
          0.05582465976476669,
          0.9689239859580994,
          0.19307006895542145,
          0.6496978402137756,
          -1.2678868770599365,
          -0.05849793925881386,
          0.6097824573516846,
          -1.7219316959381104,
          -0.3407062590122223,
          0.571291983127594,
          1.675610899925232,
          -0.08698450773954391,
          -1.7646214962005615,
          -0.47509247064590454,
          -2.4167234897613525,
          0.8676643967628479,
          0.035031165927648544,
          -1.7114092111587524,
          -1.2117007970809937,
          0.06475885212421417,
          0.02377353422343731,
          -0.3798990249633789,
          2.1613869667053223,
          -1.4203611612319946,
          0.05432143807411194,
          -2.3127520084381104,
          -0.5819498896598816,
          -0.22074191272258759,
          -0.9482024908065796,
          -1.6406699419021606,
          -2.5644290447235107,
          -4.066135883331299,
          0.7457543015480042,
          -1.308234453201294,
          -2.144258499145508,
          0.2243339568376541,
          -2.4364612102508545,
          0.43997281789779663,
          0.4864366352558136,
          -0.9346251487731934,
          -2.589667558670044,
          0.5791302919387817,
          -0.7278540730476379,
          -3.164266586303711,
          -2.681563138961792,
          -1.3275983333587646,
          -3.4982924461364746,
          0.6373960375785828,
          -1.8354823589324951,
          -1.2495591640472412,
          0.4539670944213867,
          0.6787357330322266,
          -1.2673561573028564,
          -0.8445324897766113,
          -2.094791889190674,
          -1.7100106477737427,
          -1.943848967552185,
          -1.0571750402450562,
          -1.9490002393722534,
          0.39151686429977417,
          -4.219637870788574,
          -2.305202007293701,
          -3.080127716064453,
          -1.8012536764144897,
          -0.1879250854253769,
          -5.836015701293945,
          -0.9485703110694885,
          -1.5747379064559937,
          -0.8797940015792847,
          -0.027927998453378677,
          0.4158076345920563,
          -0.7126497626304626,
          0.4158076345920563,
          -2.0779154300689697,
          -4.797981262207031,
          -1.7890968322753906,
          -2.3690621852874756,
          0.4158076345920563,
          0.4158076345920563,
          -5.836015701293945,
          0.4158076345920563,
          -1.3471617698669434,
          0.4158076345920563,
          -1.3339533805847168,
          -1.4047253131866455,
          0.4158076345920563,
          -0.7944784164428711,
          -5.244271278381348,
          -2.066446542739868,
          -5.599386215209961,
          -5.599386215209961,
          -2.3310070037841797,
          -3.9376914501190186,
          0.4158076345920563,
          -3.185488224029541,
          -2.8969945907592773,
          -5.836015701293945,
          -1.8041493892669678,
          -1.159586787223816,
          -0.43995705246925354,
          -1.443922519683838,
          -1.2943289279937744,
          0.4158076345920563,
          0.4158076345920563,
          0.4158076345920563,
          -3.9122538566589355,
          0.4158076345920563,
          0.4158076345920563,
          0.4158076345920563,
          0.4158076345920563,
          0.4158076345920563,
          0.4158076345920563,
          0.4158076345920563,
          0.4158076345920563,
          0.4158076345920563,
          0.4158076345920563,
          0.4158076345920563,
          0.4158076345920563,
          0.4158076345920563,
          0.4158076345920563,
          0.4158076345920563,
          0.4158076345920563,
          0.4158076345920563,
          0.4158076345920563,
          0.4158076345920563,
          0.4158076345920563,
          0.4158076345920563,
          0.4158076345920563,
          0.4158076345920563,
          0.4158077836036682,
          0.4158076345920563,
          0.4158076345920563,
          0.4158076345920563,
          0.4158076345920563,
          0.4158076345920563,
          0.4158076345920563,
          0.4158076345920563,
          0.4158076345920563,
          0.4158076345920563,
          0.4158076345920563,
          0.4158076345920563,
          0.4158076345920563,
          0.4158076345920563,
          0.4158076345920563,
          0.4158076345920563,
          0.4158076345920563,
          0.4158076345920563,
          0.4158076345920563,
          0.4158076345920563,
          0.4158076345920563,
          0.4158076345920563,
          0.4158076345920563,
          0.4158076345920563,
          0.4158076345920563,
          0.4158076345920563,
          0.4158076345920563,
          0.4158076345920563,
          0.4158076345920563,
          0.4158076345920563,
          0.4158076345920563,
          0.4158076345920563,
          0.4158076345920563,
          0.4158076345920563,
          0.4158076345920563,
          0.4158076345920563,
          0.4158076345920563,
          0.4158076345920563,
          0.4158076345920563,
          0.4158076345920563,
          0.4158076345920563,
          0.4158076345920563,
          0.4158076345920563,
          0.4158076345920563,
          0.4158076345920563,
          0.4158077836036682
         ],
         "yaxis": "y"
        }
       ],
       "layout": {
        "coloraxis": {
         "colorbar": {
          "title": {
           "text": "Cluster"
          }
         },
         "colorscale": [
          [
           0,
           "#440154"
          ],
          [
           0.1111111111111111,
           "#482878"
          ],
          [
           0.2222222222222222,
           "#3e4989"
          ],
          [
           0.3333333333333333,
           "#31688e"
          ],
          [
           0.4444444444444444,
           "#26828e"
          ],
          [
           0.5555555555555556,
           "#1f9e89"
          ],
          [
           0.6666666666666666,
           "#35b779"
          ],
          [
           0.7777777777777778,
           "#6ece58"
          ],
          [
           0.8888888888888888,
           "#b5de2b"
          ],
          [
           1,
           "#fde725"
          ]
         ]
        },
        "hovermode": "closest",
        "legend": {
         "tracegroupgap": 0
        },
        "template": {
         "data": {
          "bar": [
           {
            "error_x": {
             "color": "#2a3f5f"
            },
            "error_y": {
             "color": "#2a3f5f"
            },
            "marker": {
             "line": {
              "color": "white",
              "width": 0.5
             },
             "pattern": {
              "fillmode": "overlay",
              "size": 10,
              "solidity": 0.2
             }
            },
            "type": "bar"
           }
          ],
          "barpolar": [
           {
            "marker": {
             "line": {
              "color": "white",
              "width": 0.5
             },
             "pattern": {
              "fillmode": "overlay",
              "size": 10,
              "solidity": 0.2
             }
            },
            "type": "barpolar"
           }
          ],
          "carpet": [
           {
            "aaxis": {
             "endlinecolor": "#2a3f5f",
             "gridcolor": "#C8D4E3",
             "linecolor": "#C8D4E3",
             "minorgridcolor": "#C8D4E3",
             "startlinecolor": "#2a3f5f"
            },
            "baxis": {
             "endlinecolor": "#2a3f5f",
             "gridcolor": "#C8D4E3",
             "linecolor": "#C8D4E3",
             "minorgridcolor": "#C8D4E3",
             "startlinecolor": "#2a3f5f"
            },
            "type": "carpet"
           }
          ],
          "choropleth": [
           {
            "colorbar": {
             "outlinewidth": 0,
             "ticks": ""
            },
            "type": "choropleth"
           }
          ],
          "contour": [
           {
            "colorbar": {
             "outlinewidth": 0,
             "ticks": ""
            },
            "colorscale": [
             [
              0,
              "#0d0887"
             ],
             [
              0.1111111111111111,
              "#46039f"
             ],
             [
              0.2222222222222222,
              "#7201a8"
             ],
             [
              0.3333333333333333,
              "#9c179e"
             ],
             [
              0.4444444444444444,
              "#bd3786"
             ],
             [
              0.5555555555555556,
              "#d8576b"
             ],
             [
              0.6666666666666666,
              "#ed7953"
             ],
             [
              0.7777777777777778,
              "#fb9f3a"
             ],
             [
              0.8888888888888888,
              "#fdca26"
             ],
             [
              1,
              "#f0f921"
             ]
            ],
            "type": "contour"
           }
          ],
          "contourcarpet": [
           {
            "colorbar": {
             "outlinewidth": 0,
             "ticks": ""
            },
            "type": "contourcarpet"
           }
          ],
          "heatmap": [
           {
            "colorbar": {
             "outlinewidth": 0,
             "ticks": ""
            },
            "colorscale": [
             [
              0,
              "#0d0887"
             ],
             [
              0.1111111111111111,
              "#46039f"
             ],
             [
              0.2222222222222222,
              "#7201a8"
             ],
             [
              0.3333333333333333,
              "#9c179e"
             ],
             [
              0.4444444444444444,
              "#bd3786"
             ],
             [
              0.5555555555555556,
              "#d8576b"
             ],
             [
              0.6666666666666666,
              "#ed7953"
             ],
             [
              0.7777777777777778,
              "#fb9f3a"
             ],
             [
              0.8888888888888888,
              "#fdca26"
             ],
             [
              1,
              "#f0f921"
             ]
            ],
            "type": "heatmap"
           }
          ],
          "heatmapgl": [
           {
            "colorbar": {
             "outlinewidth": 0,
             "ticks": ""
            },
            "colorscale": [
             [
              0,
              "#0d0887"
             ],
             [
              0.1111111111111111,
              "#46039f"
             ],
             [
              0.2222222222222222,
              "#7201a8"
             ],
             [
              0.3333333333333333,
              "#9c179e"
             ],
             [
              0.4444444444444444,
              "#bd3786"
             ],
             [
              0.5555555555555556,
              "#d8576b"
             ],
             [
              0.6666666666666666,
              "#ed7953"
             ],
             [
              0.7777777777777778,
              "#fb9f3a"
             ],
             [
              0.8888888888888888,
              "#fdca26"
             ],
             [
              1,
              "#f0f921"
             ]
            ],
            "type": "heatmapgl"
           }
          ],
          "histogram": [
           {
            "marker": {
             "pattern": {
              "fillmode": "overlay",
              "size": 10,
              "solidity": 0.2
             }
            },
            "type": "histogram"
           }
          ],
          "histogram2d": [
           {
            "colorbar": {
             "outlinewidth": 0,
             "ticks": ""
            },
            "colorscale": [
             [
              0,
              "#0d0887"
             ],
             [
              0.1111111111111111,
              "#46039f"
             ],
             [
              0.2222222222222222,
              "#7201a8"
             ],
             [
              0.3333333333333333,
              "#9c179e"
             ],
             [
              0.4444444444444444,
              "#bd3786"
             ],
             [
              0.5555555555555556,
              "#d8576b"
             ],
             [
              0.6666666666666666,
              "#ed7953"
             ],
             [
              0.7777777777777778,
              "#fb9f3a"
             ],
             [
              0.8888888888888888,
              "#fdca26"
             ],
             [
              1,
              "#f0f921"
             ]
            ],
            "type": "histogram2d"
           }
          ],
          "histogram2dcontour": [
           {
            "colorbar": {
             "outlinewidth": 0,
             "ticks": ""
            },
            "colorscale": [
             [
              0,
              "#0d0887"
             ],
             [
              0.1111111111111111,
              "#46039f"
             ],
             [
              0.2222222222222222,
              "#7201a8"
             ],
             [
              0.3333333333333333,
              "#9c179e"
             ],
             [
              0.4444444444444444,
              "#bd3786"
             ],
             [
              0.5555555555555556,
              "#d8576b"
             ],
             [
              0.6666666666666666,
              "#ed7953"
             ],
             [
              0.7777777777777778,
              "#fb9f3a"
             ],
             [
              0.8888888888888888,
              "#fdca26"
             ],
             [
              1,
              "#f0f921"
             ]
            ],
            "type": "histogram2dcontour"
           }
          ],
          "mesh3d": [
           {
            "colorbar": {
             "outlinewidth": 0,
             "ticks": ""
            },
            "type": "mesh3d"
           }
          ],
          "parcoords": [
           {
            "line": {
             "colorbar": {
              "outlinewidth": 0,
              "ticks": ""
             }
            },
            "type": "parcoords"
           }
          ],
          "pie": [
           {
            "automargin": true,
            "type": "pie"
           }
          ],
          "scatter": [
           {
            "fillpattern": {
             "fillmode": "overlay",
             "size": 10,
             "solidity": 0.2
            },
            "type": "scatter"
           }
          ],
          "scatter3d": [
           {
            "line": {
             "colorbar": {
              "outlinewidth": 0,
              "ticks": ""
             }
            },
            "marker": {
             "colorbar": {
              "outlinewidth": 0,
              "ticks": ""
             }
            },
            "type": "scatter3d"
           }
          ],
          "scattercarpet": [
           {
            "marker": {
             "colorbar": {
              "outlinewidth": 0,
              "ticks": ""
             }
            },
            "type": "scattercarpet"
           }
          ],
          "scattergeo": [
           {
            "marker": {
             "colorbar": {
              "outlinewidth": 0,
              "ticks": ""
             }
            },
            "type": "scattergeo"
           }
          ],
          "scattergl": [
           {
            "marker": {
             "colorbar": {
              "outlinewidth": 0,
              "ticks": ""
             }
            },
            "type": "scattergl"
           }
          ],
          "scattermapbox": [
           {
            "marker": {
             "colorbar": {
              "outlinewidth": 0,
              "ticks": ""
             }
            },
            "type": "scattermapbox"
           }
          ],
          "scatterpolar": [
           {
            "marker": {
             "colorbar": {
              "outlinewidth": 0,
              "ticks": ""
             }
            },
            "type": "scatterpolar"
           }
          ],
          "scatterpolargl": [
           {
            "marker": {
             "colorbar": {
              "outlinewidth": 0,
              "ticks": ""
             }
            },
            "type": "scatterpolargl"
           }
          ],
          "scatterternary": [
           {
            "marker": {
             "colorbar": {
              "outlinewidth": 0,
              "ticks": ""
             }
            },
            "type": "scatterternary"
           }
          ],
          "surface": [
           {
            "colorbar": {
             "outlinewidth": 0,
             "ticks": ""
            },
            "colorscale": [
             [
              0,
              "#0d0887"
             ],
             [
              0.1111111111111111,
              "#46039f"
             ],
             [
              0.2222222222222222,
              "#7201a8"
             ],
             [
              0.3333333333333333,
              "#9c179e"
             ],
             [
              0.4444444444444444,
              "#bd3786"
             ],
             [
              0.5555555555555556,
              "#d8576b"
             ],
             [
              0.6666666666666666,
              "#ed7953"
             ],
             [
              0.7777777777777778,
              "#fb9f3a"
             ],
             [
              0.8888888888888888,
              "#fdca26"
             ],
             [
              1,
              "#f0f921"
             ]
            ],
            "type": "surface"
           }
          ],
          "table": [
           {
            "cells": {
             "fill": {
              "color": "#EBF0F8"
             },
             "line": {
              "color": "white"
             }
            },
            "header": {
             "fill": {
              "color": "#C8D4E3"
             },
             "line": {
              "color": "white"
             }
            },
            "type": "table"
           }
          ]
         },
         "layout": {
          "annotationdefaults": {
           "arrowcolor": "#2a3f5f",
           "arrowhead": 0,
           "arrowwidth": 1
          },
          "autotypenumbers": "strict",
          "coloraxis": {
           "colorbar": {
            "outlinewidth": 0,
            "ticks": ""
           }
          },
          "colorscale": {
           "diverging": [
            [
             0,
             "#8e0152"
            ],
            [
             0.1,
             "#c51b7d"
            ],
            [
             0.2,
             "#de77ae"
            ],
            [
             0.3,
             "#f1b6da"
            ],
            [
             0.4,
             "#fde0ef"
            ],
            [
             0.5,
             "#f7f7f7"
            ],
            [
             0.6,
             "#e6f5d0"
            ],
            [
             0.7,
             "#b8e186"
            ],
            [
             0.8,
             "#7fbc41"
            ],
            [
             0.9,
             "#4d9221"
            ],
            [
             1,
             "#276419"
            ]
           ],
           "sequential": [
            [
             0,
             "#0d0887"
            ],
            [
             0.1111111111111111,
             "#46039f"
            ],
            [
             0.2222222222222222,
             "#7201a8"
            ],
            [
             0.3333333333333333,
             "#9c179e"
            ],
            [
             0.4444444444444444,
             "#bd3786"
            ],
            [
             0.5555555555555556,
             "#d8576b"
            ],
            [
             0.6666666666666666,
             "#ed7953"
            ],
            [
             0.7777777777777778,
             "#fb9f3a"
            ],
            [
             0.8888888888888888,
             "#fdca26"
            ],
            [
             1,
             "#f0f921"
            ]
           ],
           "sequentialminus": [
            [
             0,
             "#0d0887"
            ],
            [
             0.1111111111111111,
             "#46039f"
            ],
            [
             0.2222222222222222,
             "#7201a8"
            ],
            [
             0.3333333333333333,
             "#9c179e"
            ],
            [
             0.4444444444444444,
             "#bd3786"
            ],
            [
             0.5555555555555556,
             "#d8576b"
            ],
            [
             0.6666666666666666,
             "#ed7953"
            ],
            [
             0.7777777777777778,
             "#fb9f3a"
            ],
            [
             0.8888888888888888,
             "#fdca26"
            ],
            [
             1,
             "#f0f921"
            ]
           ]
          },
          "colorway": [
           "#636efa",
           "#EF553B",
           "#00cc96",
           "#ab63fa",
           "#FFA15A",
           "#19d3f3",
           "#FF6692",
           "#B6E880",
           "#FF97FF",
           "#FECB52"
          ],
          "font": {
           "color": "#2a3f5f"
          },
          "geo": {
           "bgcolor": "white",
           "lakecolor": "white",
           "landcolor": "white",
           "showlakes": true,
           "showland": true,
           "subunitcolor": "#C8D4E3"
          },
          "hoverlabel": {
           "align": "left"
          },
          "hovermode": "closest",
          "mapbox": {
           "style": "light"
          },
          "paper_bgcolor": "white",
          "plot_bgcolor": "white",
          "polar": {
           "angularaxis": {
            "gridcolor": "#EBF0F8",
            "linecolor": "#EBF0F8",
            "ticks": ""
           },
           "bgcolor": "white",
           "radialaxis": {
            "gridcolor": "#EBF0F8",
            "linecolor": "#EBF0F8",
            "ticks": ""
           }
          },
          "scene": {
           "xaxis": {
            "backgroundcolor": "white",
            "gridcolor": "#DFE8F3",
            "gridwidth": 2,
            "linecolor": "#EBF0F8",
            "showbackground": true,
            "ticks": "",
            "zerolinecolor": "#EBF0F8"
           },
           "yaxis": {
            "backgroundcolor": "white",
            "gridcolor": "#DFE8F3",
            "gridwidth": 2,
            "linecolor": "#EBF0F8",
            "showbackground": true,
            "ticks": "",
            "zerolinecolor": "#EBF0F8"
           },
           "zaxis": {
            "backgroundcolor": "white",
            "gridcolor": "#DFE8F3",
            "gridwidth": 2,
            "linecolor": "#EBF0F8",
            "showbackground": true,
            "ticks": "",
            "zerolinecolor": "#EBF0F8"
           }
          },
          "shapedefaults": {
           "line": {
            "color": "#2a3f5f"
           }
          },
          "ternary": {
           "aaxis": {
            "gridcolor": "#DFE8F3",
            "linecolor": "#A2B1C6",
            "ticks": ""
           },
           "baxis": {
            "gridcolor": "#DFE8F3",
            "linecolor": "#A2B1C6",
            "ticks": ""
           },
           "bgcolor": "white",
           "caxis": {
            "gridcolor": "#DFE8F3",
            "linecolor": "#A2B1C6",
            "ticks": ""
           }
          },
          "title": {
           "x": 0.05
          },
          "xaxis": {
           "automargin": true,
           "gridcolor": "#EBF0F8",
           "linecolor": "#EBF0F8",
           "ticks": "",
           "title": {
            "standoff": 15
           },
           "zerolinecolor": "#EBF0F8",
           "zerolinewidth": 2
          },
          "yaxis": {
           "automargin": true,
           "gridcolor": "#EBF0F8",
           "linecolor": "#EBF0F8",
           "ticks": "",
           "title": {
            "standoff": 15
           },
           "zerolinecolor": "#EBF0F8",
           "zerolinewidth": 2
          }
         }
        },
        "title": {
         "text": "PCA with DBSCAN (PCA1: 47.0%, PCA2: 4.6%)"
        },
        "xaxis": {
         "anchor": "y",
         "domain": [
          0,
          1
         ],
         "title": {
          "text": "PCA 1 (47.0% variance)"
         }
        },
        "yaxis": {
         "anchor": "x",
         "domain": [
          0,
          1
         ],
         "title": {
          "text": "PCA 2 (4.6% variance)"
         }
        }
       }
      }
     },
     "metadata": {},
     "output_type": "display_data"
    },
    {
     "name": "stderr",
     "output_type": "stream",
     "text": [
      "/Users/jobandtalent/opt/anaconda3/envs/sar/lib/python3.9/site-packages/umap/umap_.py:1945: UserWarning:\n",
      "\n",
      "n_jobs value 1 overridden to 1 by setting random_state. Use no seed for parallelism.\n",
      "\n"
     ]
    },
    {
     "data": {
      "application/vnd.plotly.v1+json": {
       "config": {
        "plotlyServerURL": "https://plot.ly"
       },
       "data": [
        {
         "customdata": [
          [
           "positive",
           0
          ],
          [
           "positive",
           0
          ],
          [
           "positive",
           0
          ],
          [
           "neutral",
           0
          ],
          [
           "negative",
           0
          ],
          [
           "positive",
           0
          ],
          [
           "positive",
           0
          ],
          [
           "negative",
           0
          ],
          [
           "positive",
           0
          ],
          [
           "positive",
           0
          ],
          [
           "positive",
           0
          ],
          [
           "negative",
           0
          ],
          [
           "positive",
           0
          ],
          [
           "positive",
           0
          ],
          [
           "positive",
           0
          ],
          [
           "negative",
           0
          ],
          [
           "positive",
           0
          ],
          [
           "positive",
           0
          ],
          [
           "negative",
           0
          ],
          [
           "neutral",
           0
          ],
          [
           "positive",
           0
          ],
          [
           "positive",
           0
          ],
          [
           "positive",
           0
          ],
          [
           "positive",
           0
          ],
          [
           "positive",
           0
          ],
          [
           "positive",
           0
          ],
          [
           "positive",
           0
          ],
          [
           "positive",
           0
          ],
          [
           "positive",
           0
          ],
          [
           "positive",
           0
          ],
          [
           "positive",
           0
          ],
          [
           "negative",
           0
          ],
          [
           "positive",
           0
          ],
          [
           "positive",
           0
          ],
          [
           "positive",
           0
          ],
          [
           "positive",
           0
          ],
          [
           "positive",
           0
          ],
          [
           "negative",
           0
          ],
          [
           "positive",
           0
          ],
          [
           "neutral",
           0
          ],
          [
           "positive",
           0
          ],
          [
           "positive",
           0
          ],
          [
           "positive",
           0
          ],
          [
           "positive",
           0
          ],
          [
           "positive",
           0
          ],
          [
           "positive",
           0
          ],
          [
           "positive",
           0
          ],
          [
           "negative",
           0
          ],
          [
           "positive",
           0
          ],
          [
           "positive",
           0
          ],
          [
           "positive",
           0
          ],
          [
           "positive",
           0
          ],
          [
           "positive",
           0
          ],
          [
           "positive",
           0
          ],
          [
           "negative",
           0
          ],
          [
           "positive",
           0
          ],
          [
           "positive",
           0
          ],
          [
           "positive",
           0
          ],
          [
           "positive",
           0
          ],
          [
           "positive",
           0
          ],
          [
           "positive",
           0
          ],
          [
           "positive",
           0
          ],
          [
           "positive",
           0
          ],
          [
           "negative",
           0
          ],
          [
           "neutral",
           0
          ],
          [
           "neutral",
           0
          ],
          [
           "positive",
           0
          ],
          [
           "positive",
           0
          ],
          [
           "positive",
           0
          ],
          [
           "positive",
           0
          ],
          [
           "positive",
           0
          ],
          [
           "positive",
           0
          ],
          [
           "positive",
           0
          ],
          [
           "positive",
           0
          ],
          [
           "positive",
           0
          ],
          [
           "negative",
           0
          ],
          [
           "positive",
           0
          ],
          [
           "positive",
           0
          ],
          [
           "positive",
           0
          ],
          [
           "positive",
           0
          ],
          [
           "positive",
           0
          ],
          [
           "positive",
           0
          ],
          [
           "positive",
           0
          ],
          [
           "neutral",
           0
          ],
          [
           "positive",
           0
          ],
          [
           "positive",
           0
          ],
          [
           "positive",
           0
          ],
          [
           "positive",
           0
          ],
          [
           "negative",
           0
          ],
          [
           "positive",
           0
          ],
          [
           "positive",
           0
          ],
          [
           "neutral",
           0
          ],
          [
           "positive",
           0
          ],
          [
           "positive",
           0
          ],
          [
           "negative",
           0
          ],
          [
           "neutral",
           0
          ],
          [
           "positive",
           0
          ],
          [
           "positive",
           0
          ],
          [
           "positive",
           0
          ],
          [
           "positive",
           0
          ],
          [
           "negative",
           0
          ],
          [
           "positive",
           0
          ],
          [
           "positive",
           0
          ],
          [
           "positive",
           0
          ],
          [
           "positive",
           0
          ],
          [
           "positive",
           0
          ],
          [
           "positive",
           0
          ],
          [
           "positive",
           0
          ],
          [
           "positive",
           0
          ],
          [
           "positive",
           0
          ],
          [
           "positive",
           0
          ],
          [
           "negative",
           0
          ],
          [
           "positive",
           0
          ],
          [
           "positive",
           0
          ],
          [
           "positive",
           0
          ],
          [
           "positive",
           0
          ],
          [
           "positive",
           0
          ],
          [
           "positive",
           0
          ],
          [
           "positive",
           0
          ],
          [
           "positive",
           0
          ],
          [
           "positive",
           0
          ],
          [
           "positive",
           0
          ],
          [
           "positive",
           0
          ],
          [
           "positive",
           0
          ],
          [
           "positive",
           0
          ],
          [
           "positive",
           0
          ],
          [
           "positive",
           0
          ],
          [
           "positive",
           0
          ],
          [
           "positive",
           0
          ],
          [
           "positive",
           0
          ],
          [
           "positive",
           0
          ],
          [
           "positive",
           0
          ],
          [
           "positive",
           0
          ],
          [
           "positive",
           0
          ],
          [
           "positive",
           0
          ],
          [
           "positive",
           0
          ],
          [
           "negative",
           0
          ],
          [
           "positive",
           0
          ],
          [
           "positive",
           0
          ],
          [
           "positive",
           0
          ],
          [
           "positive",
           0
          ],
          [
           "positive",
           0
          ],
          [
           "positive",
           0
          ],
          [
           "positive",
           0
          ],
          [
           "positive",
           0
          ],
          [
           "positive",
           0
          ],
          [
           "positive",
           0
          ],
          [
           "neutral",
           0
          ],
          [
           "positive",
           0
          ],
          [
           "positive",
           0
          ],
          [
           "positive",
           0
          ],
          [
           "positive",
           0
          ],
          [
           "positive",
           0
          ],
          [
           "neutral",
           0
          ],
          [
           "positive",
           0
          ],
          [
           "positive",
           0
          ],
          [
           "positive",
           0
          ],
          [
           "negative",
           0
          ],
          [
           "positive",
           0
          ],
          [
           "positive",
           0
          ],
          [
           "positive",
           0
          ],
          [
           "positive",
           0
          ],
          [
           "positive",
           0
          ],
          [
           "positive",
           0
          ],
          [
           "positive",
           0
          ],
          [
           "positive",
           0
          ],
          [
           "negative",
           0
          ],
          [
           "positive",
           0
          ],
          [
           "positive",
           0
          ],
          [
           "positive",
           0
          ],
          [
           "neutral",
           0
          ],
          [
           "positive",
           0
          ],
          [
           "positive",
           0
          ],
          [
           "positive",
           0
          ],
          [
           "positive",
           0
          ],
          [
           "neutral",
           0
          ],
          [
           "positive",
           0
          ],
          [
           "positive",
           0
          ],
          [
           "positive",
           0
          ],
          [
           "positive",
           0
          ],
          [
           "positive",
           0
          ],
          [
           "positive",
           0
          ],
          [
           "positive",
           0
          ],
          [
           "positive",
           0
          ],
          [
           "positive",
           0
          ],
          [
           "positive",
           0
          ],
          [
           "negative",
           0
          ],
          [
           "positive",
           0
          ],
          [
           "positive",
           0
          ],
          [
           "positive",
           0
          ],
          [
           "positive",
           0
          ],
          [
           "positive",
           0
          ],
          [
           "positive",
           0
          ],
          [
           "positive",
           0
          ],
          [
           "negative",
           0
          ],
          [
           "negative",
           0
          ],
          [
           "positive",
           0
          ],
          [
           "positive",
           0
          ],
          [
           "positive",
           0
          ],
          [
           "positive",
           0
          ],
          [
           "positive",
           0
          ],
          [
           "positive",
           0
          ],
          [
           "positive",
           0
          ],
          [
           "positive",
           0
          ],
          [
           "positive",
           0
          ],
          [
           "positive",
           0
          ],
          [
           "positive",
           0
          ],
          [
           "positive",
           0
          ],
          [
           "positive",
           0
          ],
          [
           "positive",
           0
          ],
          [
           "positive",
           0
          ],
          [
           "positive",
           0
          ],
          [
           "positive",
           0
          ],
          [
           "positive",
           0
          ],
          [
           "positive",
           0
          ],
          [
           "positive",
           0
          ],
          [
           "positive",
           0
          ],
          [
           "positive",
           0
          ],
          [
           "positive",
           0
          ],
          [
           "positive",
           0
          ],
          [
           "positive",
           0
          ],
          [
           "positive",
           0
          ],
          [
           "positive",
           0
          ],
          [
           "positive",
           0
          ],
          [
           "positive",
           0
          ],
          [
           "neutral",
           0
          ],
          [
           "positive",
           0
          ],
          [
           "positive",
           0
          ],
          [
           "positive",
           0
          ],
          [
           "positive",
           0
          ],
          [
           "positive",
           0
          ],
          [
           "positive",
           0
          ],
          [
           "positive",
           0
          ],
          [
           "positive",
           0
          ],
          [
           "positive",
           0
          ],
          [
           "positive",
           0
          ],
          [
           "positive",
           0
          ],
          [
           "positive",
           0
          ],
          [
           "neutral",
           0
          ],
          [
           "neutral",
           0
          ],
          [
           "positive",
           0
          ],
          [
           "positive",
           0
          ],
          [
           "positive",
           0
          ],
          [
           "positive",
           0
          ],
          [
           "positive",
           0
          ],
          [
           "positive",
           0
          ],
          [
           "positive",
           0
          ],
          [
           "positive",
           0
          ],
          [
           "positive",
           0
          ],
          [
           "positive",
           0
          ],
          [
           "positive",
           0
          ],
          [
           "positive",
           0
          ],
          [
           "positive",
           0
          ],
          [
           "positive",
           0
          ],
          [
           "negative",
           0
          ],
          [
           "positive",
           1
          ],
          [
           "positive",
           0
          ],
          [
           "positive",
           1
          ],
          [
           "positive",
           0
          ],
          [
           "positive",
           0
          ],
          [
           "positive",
           0
          ],
          [
           "positive",
           0
          ],
          [
           "neutral",
           1
          ],
          [
           "positive",
           1
          ],
          [
           "positive",
           0
          ],
          [
           "positive",
           1
          ],
          [
           "neutral",
           0
          ],
          [
           "positive",
           1
          ],
          [
           "positive",
           0
          ],
          [
           "positive",
           0
          ],
          [
           "positive",
           1
          ],
          [
           "positive",
           0
          ],
          [
           "positive",
           0
          ],
          [
           "positive",
           0
          ],
          [
           "positive",
           0
          ],
          [
           "positive",
           0
          ],
          [
           "negative",
           0
          ],
          [
           "positive",
           0
          ],
          [
           "positive",
           1
          ],
          [
           "positive",
           0
          ],
          [
           "positive",
           0
          ],
          [
           "positive",
           0
          ],
          [
           "positive",
           0
          ],
          [
           "positive",
           0
          ],
          [
           "negative",
           0
          ],
          [
           "positive",
           0
          ],
          [
           "positive",
           0
          ],
          [
           "neutral",
           1
          ],
          [
           "positive",
           1
          ],
          [
           "positive",
           1
          ],
          [
           "positive",
           0
          ],
          [
           "positive",
           1
          ],
          [
           "positive",
           1
          ],
          [
           "positive",
           1
          ],
          [
           "positive",
           1
          ],
          [
           "positive",
           1
          ],
          [
           "positive",
           1
          ],
          [
           "negative",
           1
          ],
          [
           "positive",
           1
          ],
          [
           "positive",
           1
          ],
          [
           "positive",
           1
          ],
          [
           "positive",
           1
          ],
          [
           "neutral",
           1
          ],
          [
           "positive",
           1
          ],
          [
           "neutral",
           1
          ],
          [
           "positive",
           1
          ],
          [
           "positive",
           1
          ],
          [
           "positive",
           1
          ],
          [
           "negative",
           1
          ],
          [
           "positive",
           1
          ],
          [
           "positive",
           1
          ],
          [
           "positive",
           1
          ],
          [
           "positive",
           1
          ],
          [
           "positive",
           1
          ],
          [
           "positive",
           1
          ],
          [
           "positive",
           1
          ],
          [
           "positive",
           1
          ],
          [
           "positive",
           1
          ],
          [
           "positive",
           1
          ],
          [
           "positive",
           1
          ],
          [
           "positive",
           1
          ],
          [
           "positive",
           1
          ],
          [
           "positive",
           1
          ],
          [
           "positive",
           1
          ],
          [
           "positive",
           1
          ],
          [
           "positive",
           1
          ],
          [
           "neutral",
           1
          ],
          [
           "neutral",
           1
          ],
          [
           "neutral",
           1
          ],
          [
           "positive",
           1
          ],
          [
           "positive",
           1
          ],
          [
           "positive",
           1
          ],
          [
           "positive",
           1
          ],
          [
           "positive",
           1
          ],
          [
           "positive",
           1
          ],
          [
           "negative",
           1
          ],
          [
           "positive",
           1
          ],
          [
           "positive",
           1
          ],
          [
           "positive",
           1
          ],
          [
           "positive",
           1
          ],
          [
           "positive",
           1
          ],
          [
           "positive",
           1
          ],
          [
           "positive",
           1
          ],
          [
           "positive",
           1
          ],
          [
           "positive",
           1
          ],
          [
           "positive",
           1
          ],
          [
           "positive",
           1
          ],
          [
           "positive",
           1
          ],
          [
           "positive",
           1
          ],
          [
           "positive",
           1
          ],
          [
           "positive",
           1
          ],
          [
           "positive",
           1
          ],
          [
           "positive",
           1
          ],
          [
           "positive",
           1
          ],
          [
           "positive",
           1
          ],
          [
           "negative",
           1
          ],
          [
           "positive",
           1
          ],
          [
           "positive",
           1
          ],
          [
           "positive",
           1
          ],
          [
           "negative",
           1
          ]
         ],
         "hovertemplate": "UMAP 1=%{x}<br>UMAP 2=%{y}<br>Sentiment=%{customdata[0]}<br>Cluster=%{marker.color}<extra></extra>",
         "legendgroup": "",
         "marker": {
          "color": [
           0,
           0,
           0,
           0,
           0,
           0,
           0,
           0,
           0,
           0,
           0,
           0,
           0,
           0,
           0,
           0,
           0,
           0,
           0,
           0,
           0,
           0,
           0,
           0,
           0,
           0,
           0,
           0,
           0,
           0,
           0,
           0,
           0,
           0,
           0,
           0,
           0,
           0,
           0,
           0,
           0,
           0,
           0,
           0,
           0,
           0,
           0,
           0,
           0,
           0,
           0,
           0,
           0,
           0,
           0,
           0,
           0,
           0,
           0,
           0,
           0,
           0,
           0,
           0,
           0,
           0,
           0,
           0,
           0,
           0,
           0,
           0,
           0,
           0,
           0,
           0,
           0,
           0,
           0,
           0,
           0,
           0,
           0,
           0,
           0,
           0,
           0,
           0,
           0,
           0,
           0,
           0,
           0,
           0,
           0,
           0,
           0,
           0,
           0,
           0,
           0,
           0,
           0,
           0,
           0,
           0,
           0,
           0,
           0,
           0,
           0,
           0,
           0,
           0,
           0,
           0,
           0,
           0,
           0,
           0,
           0,
           0,
           0,
           0,
           0,
           0,
           0,
           0,
           0,
           0,
           0,
           0,
           0,
           0,
           0,
           0,
           0,
           0,
           0,
           0,
           0,
           0,
           0,
           0,
           0,
           0,
           0,
           0,
           0,
           0,
           0,
           0,
           0,
           0,
           0,
           0,
           0,
           0,
           0,
           0,
           0,
           0,
           0,
           0,
           0,
           0,
           0,
           0,
           0,
           0,
           0,
           0,
           0,
           0,
           0,
           0,
           0,
           0,
           0,
           0,
           0,
           0,
           0,
           0,
           0,
           0,
           0,
           0,
           0,
           0,
           0,
           0,
           0,
           0,
           0,
           0,
           0,
           0,
           0,
           0,
           0,
           0,
           0,
           0,
           0,
           0,
           0,
           0,
           0,
           0,
           0,
           0,
           0,
           0,
           0,
           0,
           0,
           0,
           0,
           0,
           0,
           0,
           0,
           0,
           0,
           0,
           0,
           0,
           0,
           0,
           0,
           0,
           0,
           0,
           0,
           0,
           0,
           0,
           0,
           0,
           0,
           0,
           0,
           0,
           0,
           0,
           0,
           0,
           0,
           0,
           0,
           0,
           0,
           0,
           0,
           1,
           0,
           1,
           0,
           0,
           0,
           0,
           1,
           1,
           0,
           1,
           0,
           1,
           0,
           0,
           1,
           0,
           0,
           0,
           0,
           0,
           0,
           0,
           1,
           0,
           0,
           0,
           0,
           0,
           0,
           0,
           0,
           1,
           1,
           1,
           0,
           1,
           1,
           1,
           1,
           1,
           1,
           1,
           1,
           1,
           1,
           1,
           1,
           1,
           1,
           1,
           1,
           1,
           1,
           1,
           1,
           1,
           1,
           1,
           1,
           1,
           1,
           1,
           1,
           1,
           1,
           1,
           1,
           1,
           1,
           1,
           1,
           1,
           1,
           1,
           1,
           1,
           1,
           1,
           1,
           1,
           1,
           1,
           1,
           1,
           1,
           1,
           1,
           1,
           1,
           1,
           1,
           1,
           1,
           1,
           1,
           1,
           1,
           1,
           1,
           1,
           1,
           1,
           1,
           1
          ],
          "coloraxis": "coloraxis",
          "opacity": 0.7,
          "symbol": "circle"
         },
         "mode": "markers",
         "name": "",
         "orientation": "v",
         "showlegend": false,
         "type": "scatter",
         "x": [
          12.205307960510254,
          12.725332260131836,
          11.861700057983398,
          11.678403854370117,
          12.237706184387207,
          11.201041221618652,
          13.006625175476074,
          12.576457023620605,
          10.393253326416016,
          11.010327339172363,
          11.45495891571045,
          12.563804626464844,
          10.88776683807373,
          12.368928909301758,
          12.257487297058105,
          12.231134414672852,
          11.985109329223633,
          11.4398193359375,
          12.18591594696045,
          11.988520622253418,
          13.100544929504395,
          11.831893920898438,
          12.144344329833984,
          11.466692924499512,
          10.864188194274902,
          13.163841247558594,
          11.691573143005371,
          12.891243934631348,
          11.787224769592285,
          12.169694900512695,
          12.402688980102539,
          10.9055757522583,
          12.491582870483398,
          10.918188095092773,
          11.869951248168945,
          12.529263496398926,
          13.459798812866211,
          11.76384449005127,
          11.432284355163574,
          11.461703300476074,
          10.699257850646973,
          11.607124328613281,
          10.992615699768066,
          11.475040435791016,
          11.864742279052734,
          12.108160972595215,
          13.11963939666748,
          13.266547203063965,
          13.125655174255371,
          10.978577613830566,
          12.15764045715332,
          10.73165225982666,
          12.019124984741211,
          13.377180099487305,
          12.869343757629395,
          10.425857543945312,
          10.894378662109375,
          13.453083038330078,
          10.5051908493042,
          12.00835132598877,
          13.276856422424316,
          12.636092185974121,
          11.476985931396484,
          12.569677352905273,
          11.332765579223633,
          10.123905181884766,
          11.183146476745605,
          12.820226669311523,
          12.367368698120117,
          13.270671844482422,
          12.096868515014648,
          11.936651229858398,
          11.91515064239502,
          12.815356254577637,
          11.239014625549316,
          12.845099449157715,
          11.552299499511719,
          13.343032836914062,
          10.758234977722168,
          11.807577133178711,
          10.993903160095215,
          11.096198081970215,
          12.689216613769531,
          13.656760215759277,
          11.183675765991211,
          11.95938491821289,
          11.701456069946289,
          10.56879997253418,
          11.555967330932617,
          11.768839836120605,
          11.056474685668945,
          12.770486831665039,
          12.905660629272461,
          13.440756797790527,
          12.285422325134277,
          12.01510238647461,
          12.252187728881836,
          12.374448776245117,
          11.449178695678711,
          11.43710708618164,
          10.6904878616333,
          10.049964904785156,
          11.390911102294922,
          11.20151424407959,
          10.179896354675293,
          12.463191986083984,
          11.887834548950195,
          10.930404663085938,
          12.249495506286621,
          13.11807632446289,
          12.851789474487305,
          11.959558486938477,
          10.895299911499023,
          10.341851234436035,
          13.214225769042969,
          11.675581932067871,
          11.255115509033203,
          12.121224403381348,
          12.041176795959473,
          11.062254905700684,
          12.28518295288086,
          11.481363296508789,
          12.725383758544922,
          11.407052040100098,
          13.565210342407227,
          13.373641014099121,
          13.519975662231445,
          13.115682601928711,
          12.52413558959961,
          11.100592613220215,
          10.471100807189941,
          12.028717041015625,
          11.566028594970703,
          11.402361869812012,
          12.69825267791748,
          11.196812629699707,
          12.572284698486328,
          12.545268058776855,
          12.538228034973145,
          11.44430923461914,
          12.951544761657715,
          13.226480484008789,
          11.624953269958496,
          12.906864166259766,
          12.201980590820312,
          11.311227798461914,
          12.385953903198242,
          13.249207496643066,
          11.349991798400879,
          11.901459693908691,
          12.585752487182617,
          13.488558769226074,
          13.036404609680176,
          10.401702880859375,
          12.0316801071167,
          10.59957504272461,
          11.504522323608398,
          12.598387718200684,
          11.058963775634766,
          11.50893497467041,
          9.92419719696045,
          11.993867874145508,
          10.1066255569458,
          10.007929801940918,
          12.507603645324707,
          12.33450984954834,
          10.092641830444336,
          12.475666999816895,
          11.248821258544922,
          11.099008560180664,
          11.957661628723145,
          12.87047004699707,
          9.9111909866333,
          10.398232460021973,
          13.642315864562988,
          12.726536750793457,
          10.668326377868652,
          9.847370147705078,
          10.490367889404297,
          10.758810043334961,
          11.870750427246094,
          13.555556297302246,
          13.322816848754883,
          10.27840518951416,
          11.196313858032227,
          10.549822807312012,
          13.294754981994629,
          10.151927947998047,
          11.944097518920898,
          13.73792552947998,
          12.401299476623535,
          9.914094924926758,
          11.651639938354492,
          11.32154655456543,
          10.969568252563477,
          11.656277656555176,
          11.983724594116211,
          13.132440567016602,
          10.60300064086914,
          12.538434028625488,
          11.440023422241211,
          12.8790864944458,
          13.004165649414062,
          11.78415298461914,
          12.738635063171387,
          13.681315422058105,
          12.306421279907227,
          12.020978927612305,
          13.196036338806152,
          13.7022066116333,
          13.512889862060547,
          11.680954933166504,
          11.714038848876953,
          11.77194595336914,
          13.318071365356445,
          13.581490516662598,
          12.244792938232422,
          11.165778160095215,
          11.903864860534668,
          13.263872146606445,
          10.534049987792969,
          12.572027206420898,
          10.850659370422363,
          10.389322280883789,
          12.012682914733887,
          12.634493827819824,
          10.614903450012207,
          9.926981925964355,
          11.159696578979492,
          12.316866874694824,
          13.605668067932129,
          13.663656234741211,
          10.017317771911621,
          13.063491821289062,
          11.197916984558105,
          11.009283065795898,
          11.561053276062012,
          10.953995704650879,
          11.951985359191895,
          11.644149780273438,
          11.153800964355469,
          12.95512866973877,
          13.014167785644531,
          11.830009460449219,
          11.38707160949707,
          13.547540664672852,
          13.434921264648438,
          12.490660667419434,
          12.053001403808594,
          10.473074913024902,
          12.164168357849121,
          13.875985145568848,
          13.353751182556152,
          12.27490520477295,
          10.011455535888672,
          -9.132588386535645,
          10.185587882995605,
          -8.815534591674805,
          11.047749519348145,
          12.136509895324707,
          12.407506942749023,
          13.133535385131836,
          -8.765387535095215,
          -8.652382850646973,
          12.127532005310059,
          -8.757647514343262,
          11.011199951171875,
          -8.83747673034668,
          10.200115203857422,
          11.037129402160645,
          -8.899664878845215,
          10.363386154174805,
          12.186250686645508,
          10.905914306640625,
          12.256226539611816,
          12.137943267822266,
          11.135846138000488,
          11.829154968261719,
          -9.000650405883789,
          11.238520622253418,
          11.91062068939209,
          12.216492652893066,
          10.892236709594727,
          10.81924819946289,
          10.732132911682129,
          10.334973335266113,
          10.303351402282715,
          -9.15761947631836,
          -8.679377555847168,
          -8.8081693649292,
          12.290288925170898,
          -9.011709213256836,
          -8.782032012939453,
          -9.154438018798828,
          -9.028533935546875,
          -8.866678237915039,
          -8.996301651000977,
          -8.941166877746582,
          -8.889973640441895,
          -8.97230052947998,
          -8.865150451660156,
          -8.835173606872559,
          -9.16800308227539,
          -9.043381690979004,
          -9.159439086914062,
          -9.02369213104248,
          -9.339195251464844,
          -8.678045272827148,
          -8.895281791687012,
          -8.73444938659668,
          -8.77492618560791,
          -8.598169326782227,
          -8.680221557617188,
          -8.757478713989258,
          -9.35498332977295,
          -9.076032638549805,
          -9.010459899902344,
          -9.157214164733887,
          -9.341021537780762,
          -9.262033462524414,
          -9.40178108215332,
          -9.275314331054688,
          -9.398588180541992,
          -8.61743450164795,
          -8.625720977783203,
          -8.281359672546387,
          -9.588326454162598,
          -8.802313804626465,
          -8.789106369018555,
          -8.5023775100708,
          -8.427628517150879,
          -9.167830467224121,
          -8.607492446899414,
          -9.205714225769043,
          -9.083061218261719,
          -9.206400871276855,
          -8.29609489440918,
          -8.279427528381348,
          -8.263397216796875,
          -8.319377899169922,
          -8.32271957397461,
          -9.524386405944824,
          -8.441143035888672,
          -8.430051803588867,
          -8.713653564453125,
          -8.566805839538574,
          -9.086641311645508,
          -8.910188674926758,
          -9.011439323425293,
          -8.90139102935791,
          -8.58091926574707,
          -9.597214698791504,
          -9.277689933776855,
          -9.505075454711914,
          -8.412443161010742,
          -9.48318862915039,
          -8.976919174194336,
          -8.463900566101074,
          -9.23403549194336,
          -8.579049110412598
         ],
         "xaxis": "x",
         "y": [
          -10.130144119262695,
          -10.923133850097656,
          -10.477025985717773,
          -9.873117446899414,
          -11.683563232421875,
          -8.813654899597168,
          -10.637751579284668,
          -12.094032287597656,
          -10.381508827209473,
          -9.931506156921387,
          -10.669833183288574,
          -11.720208168029785,
          -10.230416297912598,
          -9.982612609863281,
          -10.609794616699219,
          -10.624948501586914,
          -10.970452308654785,
          -9.899449348449707,
          -11.87801456451416,
          -12.113953590393066,
          -11.268515586853027,
          -11.759804725646973,
          -9.711684226989746,
          -9.74446964263916,
          -10.960077285766602,
          -10.635282516479492,
          -11.799978256225586,
          -9.537055015563965,
          -10.040740013122559,
          -12.042016983032227,
          -10.820175170898438,
          -10.974039077758789,
          -10.766927719116211,
          -9.029339790344238,
          -10.611971855163574,
          -11.136104583740234,
          -10.848044395446777,
          -12.24333381652832,
          -10.078080177307129,
          -10.932095527648926,
          -10.12096118927002,
          -11.748687744140625,
          -10.533634185791016,
          -8.993865013122559,
          -10.905987739562988,
          -11.217158317565918,
          -9.868407249450684,
          -11.76369571685791,
          -11.696166038513184,
          -11.731740951538086,
          -9.964798927307129,
          -9.791287422180176,
          -11.376426696777344,
          -9.779001235961914,
          -11.508723258972168,
          -10.562341690063477,
          -11.470812797546387,
          -11.170236587524414,
          -10.733296394348145,
          -11.890585899353027,
          -11.001014709472656,
          -11.03221321105957,
          -11.643644332885742,
          -12.211075782775879,
          -11.168193817138672,
          -10.995673179626465,
          -9.909496307373047,
          -9.035337448120117,
          -11.029881477355957,
          -11.580097198486328,
          -11.560242652893066,
          -10.156205177307129,
          -10.99512004852295,
          -10.343765258789062,
          -9.046849250793457,
          -11.691882133483887,
          -9.1681547164917,
          -11.13312816619873,
          -10.332205772399902,
          -9.381246566772461,
          -10.536240577697754,
          -10.065509796142578,
          -10.150848388671875,
          -10.506444931030273,
          -11.779169082641602,
          -9.980892181396484,
          -9.816896438598633,
          -10.319762229919434,
          -12.08351993560791,
          -8.649258613586426,
          -11.761476516723633,
          -9.240762710571289,
          -9.549622535705566,
          -10.438801765441895,
          -12.291606903076172,
          -12.33627986907959,
          -11.08069133758545,
          -10.71938705444336,
          -11.392878532409668,
          -11.307879447937012,
          -10.647717475891113,
          -9.714378356933594,
          -10.191527366638184,
          -10.086515426635742,
          -10.784788131713867,
          -9.73111343383789,
          -10.462725639343262,
          -9.729715347290039,
          -11.773223876953125,
          -11.769636154174805,
          -10.546891212463379,
          -11.177459716796875,
          -9.999170303344727,
          -10.332117080688477,
          -10.780848503112793,
          -11.770126342773438,
          -10.72607421875,
          -11.790860176086426,
          -10.773476600646973,
          -8.41732406616211,
          -12.07736587524414,
          -11.213254928588867,
          -9.614400863647461,
          -10.634961128234863,
          -11.294136047363281,
          -10.00398063659668,
          -9.46302604675293,
          -9.603447914123535,
          -10.384206771850586,
          -10.856597900390625,
          -11.135103225708008,
          -11.355233192443848,
          -10.535794258117676,
          -10.241601943969727,
          -10.594974517822266,
          -9.71455192565918,
          -11.836133003234863,
          -11.821317672729492,
          -8.776397705078125,
          -9.613626480102539,
          -12.022543907165527,
          -9.387395858764648,
          -9.202820777893066,
          -10.199783325195312,
          -10.97547721862793,
          -11.162454605102539,
          -10.22249698638916,
          -11.233195304870605,
          -10.272758483886719,
          -12.359945297241211,
          -12.018136978149414,
          -10.2625093460083,
          -12.081267356872559,
          -9.75872802734375,
          -11.936460494995117,
          -10.189491271972656,
          -9.462630271911621,
          -11.30936336517334,
          -8.745580673217773,
          -9.212667465209961,
          -10.427409172058105,
          -8.975582122802734,
          -10.594964981079102,
          -10.463950157165527,
          -10.738032341003418,
          -10.191006660461426,
          -9.501507759094238,
          -9.616581916809082,
          -11.521530151367188,
          -11.487366676330566,
          -11.314447402954102,
          -10.131031036376953,
          -10.308040618896484,
          -9.819183349609375,
          -10.316061973571777,
          -11.350098609924316,
          -10.10748291015625,
          -10.168937683105469,
          -10.31790542602539,
          -11.778059005737305,
          -11.97279167175293,
          -10.722298622131348,
          -10.633869171142578,
          -9.280203819274902,
          -9.19621467590332,
          -11.64261531829834,
          -11.2398042678833,
          -11.046591758728027,
          -10.200815200805664,
          -10.4194974899292,
          -9.79694652557373,
          -10.126169204711914,
          -8.605936050415039,
          -11.075335502624512,
          -9.33067798614502,
          -12.18517780303955,
          -9.679938316345215,
          -9.8864164352417,
          -9.372594833374023,
          -9.175711631774902,
          -10.040122032165527,
          -9.916111946105957,
          -9.34862232208252,
          -8.684431076049805,
          -9.92712688446045,
          -11.106054306030273,
          -11.349861145019531,
          -11.910709381103516,
          -9.839646339416504,
          -10.84041976928711,
          -9.354493141174316,
          -9.375564575195312,
          -9.442545890808105,
          -9.886549949645996,
          -10.201726913452148,
          -9.487689018249512,
          -6.283937931060791,
          -10.398244857788086,
          -8.984847068786621,
          -9.887758255004883,
          -11.08356761932373,
          -9.261907577514648,
          -11.891514778137207,
          -11.191500663757324,
          -9.443268775939941,
          -9.636041641235352,
          -9.989570617675781,
          -10.644100189208984,
          -8.173906326293945,
          -6.419351577758789,
          -10.166951179504395,
          -9.559599876403809,
          -10.586938858032227,
          -9.007320404052734,
          -8.83357048034668,
          -11.655922889709473,
          -10.161001205444336,
          -7.619214057922363,
          -10.41530704498291,
          -8.4974946975708,
          -8.74326229095459,
          -9.000503540039062,
          -10.249356269836426,
          -7.1546783447265625,
          -11.792340278625488,
          -9.293047904968262,
          -9.292794227600098,
          -6.596092224121094,
          -9.103309631347656,
          -8.873732566833496,
          -6.2204670906066895,
          -10.421076774597168,
          -9.148520469665527,
          -9.035051345825195,
          -10.956766128540039,
          -2.460477352142334,
          -9.614422798156738,
          -2.51779842376709,
          -8.14039421081543,
          -6.437465190887451,
          -9.064107894897461,
          -9.01508617401123,
          -2.354924201965332,
          -2.483579635620117,
          -6.308157920837402,
          -2.4017372131347656,
          -7.646211624145508,
          -2.7487454414367676,
          -9.079227447509766,
          -8.321958541870117,
          -2.597888708114624,
          -8.695558547973633,
          -6.256330490112305,
          -7.513861656188965,
          -6.3330159187316895,
          -6.200490951538086,
          -7.861157417297363,
          -6.757206916809082,
          -2.388958692550659,
          -7.817206382751465,
          -6.759914875030518,
          -6.290045261383057,
          -7.612951755523682,
          -7.384800910949707,
          -7.620394706726074,
          -8.581633567810059,
          -8.670304298400879,
          -2.626192808151245,
          -2.7174675464630127,
          -2.570225715637207,
          -6.228769302368164,
          -2.4554052352905273,
          -2.4883060455322266,
          -2.914102077484131,
          -2.1452529430389404,
          -2.2841227054595947,
          -2.2139718532562256,
          -2.7491610050201416,
          -2.294001340866089,
          -2.333230972290039,
          -2.5164098739624023,
          -2.63112473487854,
          -2.4001216888427734,
          -2.4312665462493896,
          -2.5018320083618164,
          -2.147304058074951,
          -2.423251152038574,
          -2.7372474670410156,
          -2.3458611965179443,
          -2.0876033306121826,
          -2.7216477394104004,
          -2.475189685821533,
          -2.1805481910705566,
          -1.9568418264389038,
          -2.264246940612793,
          -2.1320061683654785,
          -2.873260498046875,
          -2.6458873748779297,
          -2.232495069503784,
          -2.7106387615203857,
          -2.5815815925598145,
          -2.9564197063446045,
          -2.3283324241638184,
          -1.9585425853729248,
          -2.900546073913574,
          -2.4610936641693115,
          -2.5956501960754395,
          -2.0068585872650146,
          -3.130845308303833,
          -1.9829027652740479,
          -2.4201207160949707,
          -2.925583839416504,
          -2.2499728202819824,
          -1.9660290479660034,
          -2.070788860321045,
          -2.8274331092834473,
          -2.8686156272888184,
          -2.3695108890533447,
          -2.55754017829895,
          -2.6253223419189453,
          -2.1513938903808594,
          -2.6131153106689453,
          -2.5740957260131836,
          -2.7451741695404053,
          -2.3541605472564697,
          -2.924374580383301,
          -3.035006284713745,
          -1.84443998336792,
          -2.8153367042541504,
          -2.9454824924468994,
          -1.922819972038269,
          -2.427654981613159,
          -2.075960636138916,
          -2.281724214553833,
          -2.138296365737915,
          -2.2627880573272705,
          -3.137775421142578,
          -2.8715455532073975,
          -1.9749475717544556,
          -2.0062732696533203
         ],
         "yaxis": "y"
        }
       ],
       "layout": {
        "coloraxis": {
         "colorbar": {
          "title": {
           "text": "Cluster"
          }
         },
         "colorscale": [
          [
           0,
           "#440154"
          ],
          [
           0.1111111111111111,
           "#482878"
          ],
          [
           0.2222222222222222,
           "#3e4989"
          ],
          [
           0.3333333333333333,
           "#31688e"
          ],
          [
           0.4444444444444444,
           "#26828e"
          ],
          [
           0.5555555555555556,
           "#1f9e89"
          ],
          [
           0.6666666666666666,
           "#35b779"
          ],
          [
           0.7777777777777778,
           "#6ece58"
          ],
          [
           0.8888888888888888,
           "#b5de2b"
          ],
          [
           1,
           "#fde725"
          ]
         ]
        },
        "legend": {
         "title": {
          "text": "Cluster"
         },
         "tracegroupgap": 0
        },
        "margin": {
         "b": 10,
         "l": 10,
         "r": 10,
         "t": 40
        },
        "showlegend": true,
        "template": {
         "data": {
          "bar": [
           {
            "error_x": {
             "color": "#2a3f5f"
            },
            "error_y": {
             "color": "#2a3f5f"
            },
            "marker": {
             "line": {
              "color": "#E5ECF6",
              "width": 0.5
             },
             "pattern": {
              "fillmode": "overlay",
              "size": 10,
              "solidity": 0.2
             }
            },
            "type": "bar"
           }
          ],
          "barpolar": [
           {
            "marker": {
             "line": {
              "color": "#E5ECF6",
              "width": 0.5
             },
             "pattern": {
              "fillmode": "overlay",
              "size": 10,
              "solidity": 0.2
             }
            },
            "type": "barpolar"
           }
          ],
          "carpet": [
           {
            "aaxis": {
             "endlinecolor": "#2a3f5f",
             "gridcolor": "white",
             "linecolor": "white",
             "minorgridcolor": "white",
             "startlinecolor": "#2a3f5f"
            },
            "baxis": {
             "endlinecolor": "#2a3f5f",
             "gridcolor": "white",
             "linecolor": "white",
             "minorgridcolor": "white",
             "startlinecolor": "#2a3f5f"
            },
            "type": "carpet"
           }
          ],
          "choropleth": [
           {
            "colorbar": {
             "outlinewidth": 0,
             "ticks": ""
            },
            "type": "choropleth"
           }
          ],
          "contour": [
           {
            "colorbar": {
             "outlinewidth": 0,
             "ticks": ""
            },
            "colorscale": [
             [
              0,
              "#0d0887"
             ],
             [
              0.1111111111111111,
              "#46039f"
             ],
             [
              0.2222222222222222,
              "#7201a8"
             ],
             [
              0.3333333333333333,
              "#9c179e"
             ],
             [
              0.4444444444444444,
              "#bd3786"
             ],
             [
              0.5555555555555556,
              "#d8576b"
             ],
             [
              0.6666666666666666,
              "#ed7953"
             ],
             [
              0.7777777777777778,
              "#fb9f3a"
             ],
             [
              0.8888888888888888,
              "#fdca26"
             ],
             [
              1,
              "#f0f921"
             ]
            ],
            "type": "contour"
           }
          ],
          "contourcarpet": [
           {
            "colorbar": {
             "outlinewidth": 0,
             "ticks": ""
            },
            "type": "contourcarpet"
           }
          ],
          "heatmap": [
           {
            "colorbar": {
             "outlinewidth": 0,
             "ticks": ""
            },
            "colorscale": [
             [
              0,
              "#0d0887"
             ],
             [
              0.1111111111111111,
              "#46039f"
             ],
             [
              0.2222222222222222,
              "#7201a8"
             ],
             [
              0.3333333333333333,
              "#9c179e"
             ],
             [
              0.4444444444444444,
              "#bd3786"
             ],
             [
              0.5555555555555556,
              "#d8576b"
             ],
             [
              0.6666666666666666,
              "#ed7953"
             ],
             [
              0.7777777777777778,
              "#fb9f3a"
             ],
             [
              0.8888888888888888,
              "#fdca26"
             ],
             [
              1,
              "#f0f921"
             ]
            ],
            "type": "heatmap"
           }
          ],
          "heatmapgl": [
           {
            "colorbar": {
             "outlinewidth": 0,
             "ticks": ""
            },
            "colorscale": [
             [
              0,
              "#0d0887"
             ],
             [
              0.1111111111111111,
              "#46039f"
             ],
             [
              0.2222222222222222,
              "#7201a8"
             ],
             [
              0.3333333333333333,
              "#9c179e"
             ],
             [
              0.4444444444444444,
              "#bd3786"
             ],
             [
              0.5555555555555556,
              "#d8576b"
             ],
             [
              0.6666666666666666,
              "#ed7953"
             ],
             [
              0.7777777777777778,
              "#fb9f3a"
             ],
             [
              0.8888888888888888,
              "#fdca26"
             ],
             [
              1,
              "#f0f921"
             ]
            ],
            "type": "heatmapgl"
           }
          ],
          "histogram": [
           {
            "marker": {
             "pattern": {
              "fillmode": "overlay",
              "size": 10,
              "solidity": 0.2
             }
            },
            "type": "histogram"
           }
          ],
          "histogram2d": [
           {
            "colorbar": {
             "outlinewidth": 0,
             "ticks": ""
            },
            "colorscale": [
             [
              0,
              "#0d0887"
             ],
             [
              0.1111111111111111,
              "#46039f"
             ],
             [
              0.2222222222222222,
              "#7201a8"
             ],
             [
              0.3333333333333333,
              "#9c179e"
             ],
             [
              0.4444444444444444,
              "#bd3786"
             ],
             [
              0.5555555555555556,
              "#d8576b"
             ],
             [
              0.6666666666666666,
              "#ed7953"
             ],
             [
              0.7777777777777778,
              "#fb9f3a"
             ],
             [
              0.8888888888888888,
              "#fdca26"
             ],
             [
              1,
              "#f0f921"
             ]
            ],
            "type": "histogram2d"
           }
          ],
          "histogram2dcontour": [
           {
            "colorbar": {
             "outlinewidth": 0,
             "ticks": ""
            },
            "colorscale": [
             [
              0,
              "#0d0887"
             ],
             [
              0.1111111111111111,
              "#46039f"
             ],
             [
              0.2222222222222222,
              "#7201a8"
             ],
             [
              0.3333333333333333,
              "#9c179e"
             ],
             [
              0.4444444444444444,
              "#bd3786"
             ],
             [
              0.5555555555555556,
              "#d8576b"
             ],
             [
              0.6666666666666666,
              "#ed7953"
             ],
             [
              0.7777777777777778,
              "#fb9f3a"
             ],
             [
              0.8888888888888888,
              "#fdca26"
             ],
             [
              1,
              "#f0f921"
             ]
            ],
            "type": "histogram2dcontour"
           }
          ],
          "mesh3d": [
           {
            "colorbar": {
             "outlinewidth": 0,
             "ticks": ""
            },
            "type": "mesh3d"
           }
          ],
          "parcoords": [
           {
            "line": {
             "colorbar": {
              "outlinewidth": 0,
              "ticks": ""
             }
            },
            "type": "parcoords"
           }
          ],
          "pie": [
           {
            "automargin": true,
            "type": "pie"
           }
          ],
          "scatter": [
           {
            "fillpattern": {
             "fillmode": "overlay",
             "size": 10,
             "solidity": 0.2
            },
            "type": "scatter"
           }
          ],
          "scatter3d": [
           {
            "line": {
             "colorbar": {
              "outlinewidth": 0,
              "ticks": ""
             }
            },
            "marker": {
             "colorbar": {
              "outlinewidth": 0,
              "ticks": ""
             }
            },
            "type": "scatter3d"
           }
          ],
          "scattercarpet": [
           {
            "marker": {
             "colorbar": {
              "outlinewidth": 0,
              "ticks": ""
             }
            },
            "type": "scattercarpet"
           }
          ],
          "scattergeo": [
           {
            "marker": {
             "colorbar": {
              "outlinewidth": 0,
              "ticks": ""
             }
            },
            "type": "scattergeo"
           }
          ],
          "scattergl": [
           {
            "marker": {
             "colorbar": {
              "outlinewidth": 0,
              "ticks": ""
             }
            },
            "type": "scattergl"
           }
          ],
          "scattermapbox": [
           {
            "marker": {
             "colorbar": {
              "outlinewidth": 0,
              "ticks": ""
             }
            },
            "type": "scattermapbox"
           }
          ],
          "scatterpolar": [
           {
            "marker": {
             "colorbar": {
              "outlinewidth": 0,
              "ticks": ""
             }
            },
            "type": "scatterpolar"
           }
          ],
          "scatterpolargl": [
           {
            "marker": {
             "colorbar": {
              "outlinewidth": 0,
              "ticks": ""
             }
            },
            "type": "scatterpolargl"
           }
          ],
          "scatterternary": [
           {
            "marker": {
             "colorbar": {
              "outlinewidth": 0,
              "ticks": ""
             }
            },
            "type": "scatterternary"
           }
          ],
          "surface": [
           {
            "colorbar": {
             "outlinewidth": 0,
             "ticks": ""
            },
            "colorscale": [
             [
              0,
              "#0d0887"
             ],
             [
              0.1111111111111111,
              "#46039f"
             ],
             [
              0.2222222222222222,
              "#7201a8"
             ],
             [
              0.3333333333333333,
              "#9c179e"
             ],
             [
              0.4444444444444444,
              "#bd3786"
             ],
             [
              0.5555555555555556,
              "#d8576b"
             ],
             [
              0.6666666666666666,
              "#ed7953"
             ],
             [
              0.7777777777777778,
              "#fb9f3a"
             ],
             [
              0.8888888888888888,
              "#fdca26"
             ],
             [
              1,
              "#f0f921"
             ]
            ],
            "type": "surface"
           }
          ],
          "table": [
           {
            "cells": {
             "fill": {
              "color": "#EBF0F8"
             },
             "line": {
              "color": "white"
             }
            },
            "header": {
             "fill": {
              "color": "#C8D4E3"
             },
             "line": {
              "color": "white"
             }
            },
            "type": "table"
           }
          ]
         },
         "layout": {
          "annotationdefaults": {
           "arrowcolor": "#2a3f5f",
           "arrowhead": 0,
           "arrowwidth": 1
          },
          "autotypenumbers": "strict",
          "coloraxis": {
           "colorbar": {
            "outlinewidth": 0,
            "ticks": ""
           }
          },
          "colorscale": {
           "diverging": [
            [
             0,
             "#8e0152"
            ],
            [
             0.1,
             "#c51b7d"
            ],
            [
             0.2,
             "#de77ae"
            ],
            [
             0.3,
             "#f1b6da"
            ],
            [
             0.4,
             "#fde0ef"
            ],
            [
             0.5,
             "#f7f7f7"
            ],
            [
             0.6,
             "#e6f5d0"
            ],
            [
             0.7,
             "#b8e186"
            ],
            [
             0.8,
             "#7fbc41"
            ],
            [
             0.9,
             "#4d9221"
            ],
            [
             1,
             "#276419"
            ]
           ],
           "sequential": [
            [
             0,
             "#0d0887"
            ],
            [
             0.1111111111111111,
             "#46039f"
            ],
            [
             0.2222222222222222,
             "#7201a8"
            ],
            [
             0.3333333333333333,
             "#9c179e"
            ],
            [
             0.4444444444444444,
             "#bd3786"
            ],
            [
             0.5555555555555556,
             "#d8576b"
            ],
            [
             0.6666666666666666,
             "#ed7953"
            ],
            [
             0.7777777777777778,
             "#fb9f3a"
            ],
            [
             0.8888888888888888,
             "#fdca26"
            ],
            [
             1,
             "#f0f921"
            ]
           ],
           "sequentialminus": [
            [
             0,
             "#0d0887"
            ],
            [
             0.1111111111111111,
             "#46039f"
            ],
            [
             0.2222222222222222,
             "#7201a8"
            ],
            [
             0.3333333333333333,
             "#9c179e"
            ],
            [
             0.4444444444444444,
             "#bd3786"
            ],
            [
             0.5555555555555556,
             "#d8576b"
            ],
            [
             0.6666666666666666,
             "#ed7953"
            ],
            [
             0.7777777777777778,
             "#fb9f3a"
            ],
            [
             0.8888888888888888,
             "#fdca26"
            ],
            [
             1,
             "#f0f921"
            ]
           ]
          },
          "colorway": [
           "#636efa",
           "#EF553B",
           "#00cc96",
           "#ab63fa",
           "#FFA15A",
           "#19d3f3",
           "#FF6692",
           "#B6E880",
           "#FF97FF",
           "#FECB52"
          ],
          "font": {
           "color": "#2a3f5f"
          },
          "geo": {
           "bgcolor": "white",
           "lakecolor": "white",
           "landcolor": "#E5ECF6",
           "showlakes": true,
           "showland": true,
           "subunitcolor": "white"
          },
          "hoverlabel": {
           "align": "left"
          },
          "hovermode": "closest",
          "mapbox": {
           "style": "light"
          },
          "paper_bgcolor": "white",
          "plot_bgcolor": "#E5ECF6",
          "polar": {
           "angularaxis": {
            "gridcolor": "white",
            "linecolor": "white",
            "ticks": ""
           },
           "bgcolor": "#E5ECF6",
           "radialaxis": {
            "gridcolor": "white",
            "linecolor": "white",
            "ticks": ""
           }
          },
          "scene": {
           "xaxis": {
            "backgroundcolor": "#E5ECF6",
            "gridcolor": "white",
            "gridwidth": 2,
            "linecolor": "white",
            "showbackground": true,
            "ticks": "",
            "zerolinecolor": "white"
           },
           "yaxis": {
            "backgroundcolor": "#E5ECF6",
            "gridcolor": "white",
            "gridwidth": 2,
            "linecolor": "white",
            "showbackground": true,
            "ticks": "",
            "zerolinecolor": "white"
           },
           "zaxis": {
            "backgroundcolor": "#E5ECF6",
            "gridcolor": "white",
            "gridwidth": 2,
            "linecolor": "white",
            "showbackground": true,
            "ticks": "",
            "zerolinecolor": "white"
           }
          },
          "shapedefaults": {
           "line": {
            "color": "#2a3f5f"
           }
          },
          "ternary": {
           "aaxis": {
            "gridcolor": "white",
            "linecolor": "white",
            "ticks": ""
           },
           "baxis": {
            "gridcolor": "white",
            "linecolor": "white",
            "ticks": ""
           },
           "bgcolor": "#E5ECF6",
           "caxis": {
            "gridcolor": "white",
            "linecolor": "white",
            "ticks": ""
           }
          },
          "title": {
           "x": 0.05
          },
          "xaxis": {
           "automargin": true,
           "gridcolor": "white",
           "linecolor": "white",
           "ticks": "",
           "title": {
            "standoff": 15
           },
           "zerolinecolor": "white",
           "zerolinewidth": 2
          },
          "yaxis": {
           "automargin": true,
           "gridcolor": "white",
           "linecolor": "white",
           "ticks": "",
           "title": {
            "standoff": 15
           },
           "zerolinecolor": "white",
           "zerolinewidth": 2
          }
         }
        },
        "title": {
         "text": "UMAP with DBSCAN"
        },
        "xaxis": {
         "anchor": "y",
         "domain": [
          0,
          1
         ],
         "title": {
          "text": "UMAP 1"
         }
        },
        "yaxis": {
         "anchor": "x",
         "domain": [
          0,
          1
         ],
         "title": {
          "text": "UMAP 2"
         }
        }
       }
      }
     },
     "metadata": {},
     "output_type": "display_data"
    }
   ],
   "source": [
    "from sklearn.cluster import DBSCAN\n",
    "from sklearn.preprocessing import StandardScaler\n",
    "\n",
    "# Function to apply DBSCAN\n",
    "def apply_dbscan(reduced_embeddings, eps=0.6, min_samples=5):\n",
    "    scaler = StandardScaler()\n",
    "    scaled = scaler.fit_transform(reduced_embeddings)\n",
    "    db = DBSCAN(eps=eps, min_samples=min_samples)\n",
    "    labels = db.fit_predict(scaled)\n",
    "    return labels\n",
    "\n",
    "# PCA Visualization with DBSCAN\n",
    "def visualizeEmbeddingsPCA_with_DBSCAN(df, eps=0.5, min_samples=5):\n",
    "    embeddings = np.array(df['embedding'].tolist())\n",
    "    ratings = df['rating_score']\n",
    "    \n",
    "    pca = PCA(n_components=2)\n",
    "    reduced = pca.fit_transform(embeddings)\n",
    "    var1, var2 = pca.explained_variance_ratio_ * 100\n",
    "    \n",
    "    clusters = apply_dbscan(reduced, eps, min_samples)\n",
    "    \n",
    "    plot_df = pd.DataFrame({\n",
    "        'PCA 1': reduced[:, 0],\n",
    "        'PCA 2': reduced[:, 1],\n",
    "        'Rating Score': ratings,\n",
    "        'Cluster': clusters,\n",
    "        'Review ID': df.get('review_id', range(len(df)))\n",
    "    })\n",
    "    \n",
    "    fig = px.scatter(\n",
    "        plot_df,\n",
    "        x='PCA 1',\n",
    "        y='PCA 2',\n",
    "        color='Cluster',\n",
    "        color_continuous_scale='Viridis',\n",
    "        hover_data=['Review ID', 'Rating Score'],\n",
    "        title=f'PCA with DBSCAN (PCA1: {var1:.1f}%, PCA2: {var2:.1f}%)',\n",
    "        labels={\n",
    "            'PCA 1': f'PCA 1 ({var1:.1f}% variance)',\n",
    "            'PCA 2': f'PCA 2 ({var2:.1f}% variance)',\n",
    "            'Cluster': 'Cluster'\n",
    "        }\n",
    "    )\n",
    "    \n",
    "    fig.update_layout(\n",
    "        template='plotly_white',\n",
    "        coloraxis_colorbar=dict(title='Cluster'),\n",
    "        hovermode='closest'\n",
    "    )\n",
    "    \n",
    "    fig.show()\n",
    "    return plot_df\n",
    "\n",
    "# UMAP Visualization with DBSCAN\n",
    "def visualizeEmbeddingsUMAP_with_DBSCAN(df, eps=0.7, min_samples=5):\n",
    "    embeddings = np.array(df['embedding'].tolist())\n",
    "    sentiment = df['sentiment_label']\n",
    "    \n",
    "    reducer = umap.UMAP(n_neighbors=15, min_dist=0.1, n_components=2, random_state=42)\n",
    "    reduced = reducer.fit_transform(embeddings)\n",
    "    \n",
    "    clusters = apply_dbscan(reduced, eps, min_samples)\n",
    "    \n",
    "    viz_df = pd.DataFrame({\n",
    "        'UMAP 1': reduced[:, 0],\n",
    "        'UMAP 2': reduced[:, 1],\n",
    "        'Sentiment': sentiment,\n",
    "        'Cluster': clusters\n",
    "    })\n",
    "    \n",
    "    fig = px.scatter(\n",
    "        viz_df,\n",
    "        x='UMAP 1',\n",
    "        y='UMAP 2',\n",
    "        color='Cluster',\n",
    "        color_continuous_scale='Viridis',\n",
    "        hover_data=['Sentiment', 'Cluster'],\n",
    "        title='UMAP with DBSCAN',\n",
    "        labels={\n",
    "            'UMAP 1': 'UMAP 1',\n",
    "            'UMAP 2': 'UMAP 2',\n",
    "            'Cluster': 'Cluster'\n",
    "        },\n",
    "        opacity=0.7\n",
    "    )\n",
    "    \n",
    "    fig.update_layout(\n",
    "        showlegend=True,\n",
    "        legend=dict(title='Cluster'),\n",
    "        margin=dict(l=10, r=10, t=40, b=10)\n",
    "    )\n",
    "    \n",
    "    fig.show()\n",
    "    return viz_df\n",
    "\n",
    "# Visualize with DBSCAN clusters\n",
    "pca_clusters_df = visualizeEmbeddingsPCA_with_DBSCAN(reviews, eps=0.5, min_samples=5)\n",
    "umap_clusters_df = visualizeEmbeddingsUMAP_with_DBSCAN(reviews, eps=0.5, min_samples=5)\n",
    "\n"
   ]
  },
  {
   "cell_type": "markdown",
   "metadata": {},
   "source": [
    "#### Topics"
   ]
  },
  {
   "cell_type": "code",
   "execution_count": 156,
   "metadata": {},
   "outputs": [
    {
     "name": "stdout",
     "output_type": "stream",
     "text": [
      "Topic 0: 0.012*\"bien\" + 0.010*\"ir\" + 0.010*\"poder\" + 0.010*\"hamburguesa\" + 0.010*\"comida\"\n",
      "Topic 1: 0.014*\"buen\" + 0.014*\"excelente\" + 0.007*\"servicio\" + 0.007*\"lugar\" + 0.007*\"ambiente\"\n",
      "Topic 2: 0.024*\"buen\" + 0.024*\"lugar\" + 0.019*\"hamburguesa\" + 0.012*\"sitio\" + 0.009*\"amable\"\n",
      "Topic 3: 0.043*\"hamburguesa\" + 0.028*\"buen\" + 0.015*\"comida\" + 0.012*\"precio\" + 0.011*\"lugar\"\n",
      "Topic 4: 0.021*\"comida\" + 0.015*\"buen\" + 0.011*\"precio\" + 0.010*\"calidad\" + 0.009*\"ambiente\"\n"
     ]
    },
    {
     "data": {
      "text/html": [
       "<div>\n",
       "<style scoped>\n",
       "    .dataframe tbody tr th:only-of-type {\n",
       "        vertical-align: middle;\n",
       "    }\n",
       "\n",
       "    .dataframe tbody tr th {\n",
       "        vertical-align: top;\n",
       "    }\n",
       "\n",
       "    .dataframe thead th {\n",
       "        text-align: right;\n",
       "    }\n",
       "</style>\n",
       "<table border=\"1\" class=\"dataframe\">\n",
       "  <thead>\n",
       "    <tr style=\"text-align: right;\">\n",
       "      <th>sentiment_label</th>\n",
       "      <th>negative</th>\n",
       "      <th>neutral</th>\n",
       "      <th>positive</th>\n",
       "    </tr>\n",
       "    <tr>\n",
       "      <th>topic</th>\n",
       "      <th></th>\n",
       "      <th></th>\n",
       "      <th></th>\n",
       "    </tr>\n",
       "  </thead>\n",
       "  <tbody>\n",
       "    <tr>\n",
       "      <th>0</th>\n",
       "      <td>14</td>\n",
       "      <td>12</td>\n",
       "      <td>119</td>\n",
       "    </tr>\n",
       "    <tr>\n",
       "      <th>1</th>\n",
       "      <td>4</td>\n",
       "      <td>0</td>\n",
       "      <td>18</td>\n",
       "    </tr>\n",
       "    <tr>\n",
       "      <th>2</th>\n",
       "      <td>2</td>\n",
       "      <td>1</td>\n",
       "      <td>48</td>\n",
       "    </tr>\n",
       "    <tr>\n",
       "      <th>3</th>\n",
       "      <td>4</td>\n",
       "      <td>4</td>\n",
       "      <td>91</td>\n",
       "    </tr>\n",
       "    <tr>\n",
       "      <th>4</th>\n",
       "      <td>5</td>\n",
       "      <td>6</td>\n",
       "      <td>32</td>\n",
       "    </tr>\n",
       "  </tbody>\n",
       "</table>\n",
       "</div>"
      ],
      "text/plain": [
       "sentiment_label  negative  neutral  positive\n",
       "topic                                       \n",
       "0                      14       12       119\n",
       "1                       4        0        18\n",
       "2                       2        1        48\n",
       "3                       4        4        91\n",
       "4                       5        6        32"
      ]
     },
     "metadata": {},
     "output_type": "display_data"
    }
   ],
   "source": [
    "from gensim import corpora\n",
    "from gensim.models import LdaModel\n",
    "\n",
    "def analyzeTopicsLDA(df):\n",
    "    # Prepare corpus for LDA\n",
    "    cleaned_reviews = df['cleaned_review'].dropna().tolist()\n",
    "    tokenized_reviews = [review.split() for review in cleaned_reviews]\n",
    "    dictionary = corpora.Dictionary(tokenized_reviews)\n",
    "    corpus = [dictionary.doc2bow(review) for review in tokenized_reviews]\n",
    "\n",
    "    # Train LDA model\n",
    "    lda_model = LdaModel(corpus, num_topics=5, id2word=dictionary, passes=10)\n",
    "\n",
    "    topics = lda_model.print_topics(num_words=5)\n",
    "    for topic in topics:\n",
    "        print(f\"Topic {topic[0]}: {topic[1]}\")\n",
    "    return lda_model, topics\n",
    "\n",
    "def mapSentimentToTopics(df, lda_model):\n",
    "    cleaned_reviews = df['cleaned_review'].dropna().tolist()\n",
    "    tokenized_reviews = [review.split() for review in cleaned_reviews]\n",
    "    dictionary = corpora.Dictionary(tokenized_reviews)\n",
    "    corpus = [dictionary.doc2bow(review) for review in tokenized_reviews]\n",
    "\n",
    "    # Predict topics for each review\n",
    "    df['topic'] = [max(lda_model.get_document_topics(bow), key=lambda x: x[1])[0] for bow in corpus]\n",
    "\n",
    "    # Count the number of positive, negative reviews per topic\n",
    "    topic_sentiment_counts = df.groupby(['topic', 'sentiment_label']).size().unstack(fill_value=0)\n",
    "    display(topic_sentiment_counts)\n",
    "\n",
    "lda_model, topics = analyzeTopicsLDA(reviews)\n",
    "mapSentimentToTopics(reviews, lda_model)\n"
   ]
  },
  {
   "cell_type": "markdown",
   "metadata": {},
   "source": [
    "#### Extract moments with worst rating and process that reviews"
   ]
  },
  {
   "cell_type": "code",
   "execution_count": null,
   "metadata": {},
   "outputs": [],
   "source": []
  },
  {
   "cell_type": "code",
   "execution_count": null,
   "metadata": {},
   "outputs": [],
   "source": []
  },
  {
   "cell_type": "markdown",
   "metadata": {},
   "source": [
    "#### Extract outliers and pain points"
   ]
  },
  {
   "cell_type": "code",
   "execution_count": null,
   "metadata": {},
   "outputs": [],
   "source": [
    "## extract the reviews with negative sentiment:\n",
    "# each one for very low category score\n",
    "# worst 3 words\n",
    "# worst 3 bigrams\n"
   ]
  },
  {
   "cell_type": "code",
   "execution_count": null,
   "metadata": {},
   "outputs": [],
   "source": [
    "# put together each one in a string and send it to gpt api to extract the main pain points to improve"
   ]
  },
  {
   "cell_type": "code",
   "execution_count": null,
   "metadata": {},
   "outputs": [],
   "source": []
  },
  {
   "cell_type": "code",
   "execution_count": null,
   "metadata": {},
   "outputs": [],
   "source": []
  }
 ],
 "metadata": {
  "kernelspec": {
   "display_name": "sar",
   "language": "python",
   "name": "python3"
  },
  "language_info": {
   "codemirror_mode": {
    "name": "ipython",
    "version": 3
   },
   "file_extension": ".py",
   "mimetype": "text/x-python",
   "name": "python",
   "nbconvert_exporter": "python",
   "pygments_lexer": "ipython3",
   "version": "3.9.19"
  }
 },
 "nbformat": 4,
 "nbformat_minor": 2
}
