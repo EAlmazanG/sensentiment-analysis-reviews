{
 "cells": [
  {
   "cell_type": "code",
   "execution_count": 49,
   "metadata": {},
   "outputs": [],
   "source": [
    "import pandas as pd\n",
    "import numpy as np\n",
    "import re\n",
    "import ast\n",
    "\n",
    "import datetime\n",
    "\n",
    "import matplotlib.pyplot as plt\n",
    "import seaborn as sns\n",
    "import plotly.graph_objects as go\n",
    "import plotly.express as px\n",
    "from plotly.subplots import make_subplots"
   ]
  },
  {
   "cell_type": "code",
   "execution_count": 2,
   "metadata": {},
   "outputs": [
    {
     "data": {
      "text/html": [
       "<div>\n",
       "<style scoped>\n",
       "    .dataframe tbody tr th:only-of-type {\n",
       "        vertical-align: middle;\n",
       "    }\n",
       "\n",
       "    .dataframe tbody tr th {\n",
       "        vertical-align: top;\n",
       "    }\n",
       "\n",
       "    .dataframe thead th {\n",
       "        text-align: right;\n",
       "    }\n",
       "</style>\n",
       "<table border=\"1\" class=\"dataframe\">\n",
       "  <thead>\n",
       "    <tr style=\"text-align: right;\">\n",
       "      <th></th>\n",
       "      <th>stars</th>\n",
       "      <th>reviews</th>\n",
       "    </tr>\n",
       "  </thead>\n",
       "  <tbody>\n",
       "    <tr>\n",
       "      <th>0</th>\n",
       "      <td>5</td>\n",
       "      <td>2290</td>\n",
       "    </tr>\n",
       "    <tr>\n",
       "      <th>1</th>\n",
       "      <td>4</td>\n",
       "      <td>1308</td>\n",
       "    </tr>\n",
       "    <tr>\n",
       "      <th>2</th>\n",
       "      <td>3</td>\n",
       "      <td>396</td>\n",
       "    </tr>\n",
       "    <tr>\n",
       "      <th>3</th>\n",
       "      <td>2</td>\n",
       "      <td>132</td>\n",
       "    </tr>\n",
       "    <tr>\n",
       "      <th>4</th>\n",
       "      <td>1</td>\n",
       "      <td>128</td>\n",
       "    </tr>\n",
       "  </tbody>\n",
       "</table>\n",
       "</div>"
      ],
      "text/plain": [
       "   stars  reviews\n",
       "0      5     2290\n",
       "1      4     1308\n",
       "2      3      396\n",
       "3      2      132\n",
       "4      1      128"
      ]
     },
     "metadata": {},
     "output_type": "display_data"
    },
    {
     "data": {
      "text/html": [
       "<div>\n",
       "<style scoped>\n",
       "    .dataframe tbody tr th:only-of-type {\n",
       "        vertical-align: middle;\n",
       "    }\n",
       "\n",
       "    .dataframe tbody tr th {\n",
       "        vertical-align: top;\n",
       "    }\n",
       "\n",
       "    .dataframe thead th {\n",
       "        text-align: right;\n",
       "    }\n",
       "</style>\n",
       "<table border=\"1\" class=\"dataframe\">\n",
       "  <thead>\n",
       "    <tr style=\"text-align: right;\">\n",
       "      <th></th>\n",
       "      <th>review_id</th>\n",
       "      <th>review</th>\n",
       "      <th>local_guide_reviews</th>\n",
       "      <th>rating_score</th>\n",
       "      <th>service</th>\n",
       "      <th>meal_type</th>\n",
       "      <th>price_per_person_category</th>\n",
       "      <th>food_score</th>\n",
       "      <th>service_score</th>\n",
       "      <th>atmosphere_score</th>\n",
       "      <th>recommendations_list</th>\n",
       "      <th>date</th>\n",
       "      <th>avg_price_per_person</th>\n",
       "    </tr>\n",
       "  </thead>\n",
       "  <tbody>\n",
       "    <tr>\n",
       "      <th>140</th>\n",
       "      <td>140</td>\n",
       "      <td>Llevo años pidiendo la famosa egg-burger.\\nInc...</td>\n",
       "      <td>24.0</td>\n",
       "      <td>5.0</td>\n",
       "      <td>Comí allí</td>\n",
       "      <td>Cena</td>\n",
       "      <td>20-30 €</td>\n",
       "      <td>5.0</td>\n",
       "      <td>5.0</td>\n",
       "      <td>5.0</td>\n",
       "      <td>['Hamburguesa Completa Con Huevo']</td>\n",
       "      <td>2024-01-01</td>\n",
       "      <td>30.0</td>\n",
       "    </tr>\n",
       "    <tr>\n",
       "      <th>286</th>\n",
       "      <td>286</td>\n",
       "      <td>Precioso lugar</td>\n",
       "      <td>9.0</td>\n",
       "      <td>5.0</td>\n",
       "      <td>NaN</td>\n",
       "      <td>NaN</td>\n",
       "      <td>NaN</td>\n",
       "      <td>NaN</td>\n",
       "      <td>NaN</td>\n",
       "      <td>NaN</td>\n",
       "      <td>['']</td>\n",
       "      <td>2018-01-01</td>\n",
       "      <td>NaN</td>\n",
       "    </tr>\n",
       "    <tr>\n",
       "      <th>27</th>\n",
       "      <td>27</td>\n",
       "      <td>Buen local con terraza. Las hamburguesas están...</td>\n",
       "      <td>612.0</td>\n",
       "      <td>4.0</td>\n",
       "      <td>NaN</td>\n",
       "      <td>NaN</td>\n",
       "      <td>NaN</td>\n",
       "      <td>NaN</td>\n",
       "      <td>NaN</td>\n",
       "      <td>NaN</td>\n",
       "      <td>['']</td>\n",
       "      <td>2021-01-01</td>\n",
       "      <td>NaN</td>\n",
       "    </tr>\n",
       "    <tr>\n",
       "      <th>222</th>\n",
       "      <td>222</td>\n",
       "      <td>Un lugar muy agradable para relajarse y disfru...</td>\n",
       "      <td>20.0</td>\n",
       "      <td>5.0</td>\n",
       "      <td>NaN</td>\n",
       "      <td>NaN</td>\n",
       "      <td>NaN</td>\n",
       "      <td>NaN</td>\n",
       "      <td>NaN</td>\n",
       "      <td>NaN</td>\n",
       "      <td>['']</td>\n",
       "      <td>2017-01-01</td>\n",
       "      <td>NaN</td>\n",
       "    </tr>\n",
       "    <tr>\n",
       "      <th>94</th>\n",
       "      <td>94</td>\n",
       "      <td>Iba con optimismo ya que tengo aprecio a este ...</td>\n",
       "      <td>47.0</td>\n",
       "      <td>2.0</td>\n",
       "      <td>Comí allí</td>\n",
       "      <td>Brunch</td>\n",
       "      <td>NaN</td>\n",
       "      <td>NaN</td>\n",
       "      <td>NaN</td>\n",
       "      <td>NaN</td>\n",
       "      <td>['']</td>\n",
       "      <td>2022-01-01</td>\n",
       "      <td>NaN</td>\n",
       "    </tr>\n",
       "  </tbody>\n",
       "</table>\n",
       "</div>"
      ],
      "text/plain": [
       "     review_id                                             review  \\\n",
       "140        140  Llevo años pidiendo la famosa egg-burger.\\nInc...   \n",
       "286        286                                     Precioso lugar   \n",
       "27          27  Buen local con terraza. Las hamburguesas están...   \n",
       "222        222  Un lugar muy agradable para relajarse y disfru...   \n",
       "94          94  Iba con optimismo ya que tengo aprecio a este ...   \n",
       "\n",
       "     local_guide_reviews  rating_score    service meal_type  \\\n",
       "140                 24.0           5.0  Comí allí      Cena   \n",
       "286                  9.0           5.0        NaN       NaN   \n",
       "27                 612.0           4.0        NaN       NaN   \n",
       "222                 20.0           5.0        NaN       NaN   \n",
       "94                  47.0           2.0  Comí allí    Brunch   \n",
       "\n",
       "    price_per_person_category  food_score  service_score  atmosphere_score  \\\n",
       "140                   20-30 €         5.0            5.0               5.0   \n",
       "286                       NaN         NaN            NaN               NaN   \n",
       "27                        NaN         NaN            NaN               NaN   \n",
       "222                       NaN         NaN            NaN               NaN   \n",
       "94                        NaN         NaN            NaN               NaN   \n",
       "\n",
       "                   recommendations_list        date  avg_price_per_person  \n",
       "140  ['Hamburguesa Completa Con Huevo']  2024-01-01                  30.0  \n",
       "286                                ['']  2018-01-01                   NaN  \n",
       "27                                 ['']  2021-01-01                   NaN  \n",
       "222                                ['']  2017-01-01                   NaN  \n",
       "94                                 ['']  2022-01-01                   NaN  "
      ]
     },
     "metadata": {},
     "output_type": "display_data"
    }
   ],
   "source": [
    "processed_data_path = '../data/processed/'\n",
    "raw_data_path = '../data/raw/'\n",
    "\n",
    "name = 'hd'\n",
    "\n",
    "reviews_pro = pd.read_csv(processed_data_path + name + '_reviews.csv')\n",
    "resumme_raw = pd.read_csv(raw_data_path + 'resumme_' + name + '.csv')\n",
    "\n",
    "display(resumme_raw)\n",
    "display(reviews_pro.sample(5))\n",
    "\n",
    "reviews = reviews_pro.copy()\n",
    "resumme = resumme_raw.copy()"
   ]
  },
  {
   "cell_type": "markdown",
   "metadata": {},
   "source": [
    "### First draft summary plots "
   ]
  },
  {
   "cell_type": "code",
   "execution_count": 5,
   "metadata": {},
   "outputs": [
    {
     "data": {
      "application/vnd.plotly.v1+json": {
       "config": {
        "plotlyServerURL": "https://plot.ly"
       },
       "data": [
        {
         "mode": "text",
         "text": [
          "4.29"
         ],
         "textfont": {
          "size": 120
         },
         "type": "scatter",
         "x": [
          0
         ],
         "xaxis": "x",
         "y": [
          0
         ],
         "yaxis": "y"
        },
        {
         "marker": {
          "color": "lightskyblue"
         },
         "name": "Reviews",
         "orientation": "h",
         "text": [
          2290,
          1308,
          396,
          132,
          128
         ],
         "textposition": "auto",
         "type": "bar",
         "x": [
          2290,
          1308,
          396,
          132,
          128
         ],
         "xaxis": "x2",
         "y": [
          5,
          4,
          3,
          2,
          1
         ],
         "yaxis": "y2"
        },
        {
         "marker": {
          "color": "lightgreen"
         },
         "name": "Categories",
         "orientation": "h",
         "text": [
          "4.37",
          "4.51",
          "4.47"
         ],
         "textposition": "auto",
         "type": "bar",
         "x": [
          4.366412213740458,
          4.511111111111111,
          4.470149253731344
         ],
         "xaxis": "x3",
         "y": [
          "Food",
          "Service",
          "Atmosphere"
         ],
         "yaxis": "y3"
        }
       ],
       "layout": {
        "annotations": [
         {
          "font": {
           "size": 16
          },
          "showarrow": false,
          "text": "Average Score",
          "x": 0.14444444444444446,
          "xanchor": "center",
          "xref": "paper",
          "y": 1,
          "yanchor": "bottom",
          "yref": "paper"
         },
         {
          "font": {
           "size": 16
          },
          "showarrow": false,
          "text": "Number of Reviews",
          "x": 0.5,
          "xanchor": "center",
          "xref": "paper",
          "y": 1,
          "yanchor": "bottom",
          "yref": "paper"
         },
         {
          "font": {
           "size": 16
          },
          "showarrow": false,
          "text": "Categories",
          "x": 0.8555555555555556,
          "xanchor": "center",
          "xref": "paper",
          "y": 1,
          "yanchor": "bottom",
          "yref": "paper"
         }
        ],
        "height": 500,
        "paper_bgcolor": "white",
        "plot_bgcolor": "white",
        "showlegend": false,
        "template": {
         "data": {
          "bar": [
           {
            "error_x": {
             "color": "#2a3f5f"
            },
            "error_y": {
             "color": "#2a3f5f"
            },
            "marker": {
             "line": {
              "color": "#E5ECF6",
              "width": 0.5
             },
             "pattern": {
              "fillmode": "overlay",
              "size": 10,
              "solidity": 0.2
             }
            },
            "type": "bar"
           }
          ],
          "barpolar": [
           {
            "marker": {
             "line": {
              "color": "#E5ECF6",
              "width": 0.5
             },
             "pattern": {
              "fillmode": "overlay",
              "size": 10,
              "solidity": 0.2
             }
            },
            "type": "barpolar"
           }
          ],
          "carpet": [
           {
            "aaxis": {
             "endlinecolor": "#2a3f5f",
             "gridcolor": "white",
             "linecolor": "white",
             "minorgridcolor": "white",
             "startlinecolor": "#2a3f5f"
            },
            "baxis": {
             "endlinecolor": "#2a3f5f",
             "gridcolor": "white",
             "linecolor": "white",
             "minorgridcolor": "white",
             "startlinecolor": "#2a3f5f"
            },
            "type": "carpet"
           }
          ],
          "choropleth": [
           {
            "colorbar": {
             "outlinewidth": 0,
             "ticks": ""
            },
            "type": "choropleth"
           }
          ],
          "contour": [
           {
            "colorbar": {
             "outlinewidth": 0,
             "ticks": ""
            },
            "colorscale": [
             [
              0,
              "#0d0887"
             ],
             [
              0.1111111111111111,
              "#46039f"
             ],
             [
              0.2222222222222222,
              "#7201a8"
             ],
             [
              0.3333333333333333,
              "#9c179e"
             ],
             [
              0.4444444444444444,
              "#bd3786"
             ],
             [
              0.5555555555555556,
              "#d8576b"
             ],
             [
              0.6666666666666666,
              "#ed7953"
             ],
             [
              0.7777777777777778,
              "#fb9f3a"
             ],
             [
              0.8888888888888888,
              "#fdca26"
             ],
             [
              1,
              "#f0f921"
             ]
            ],
            "type": "contour"
           }
          ],
          "contourcarpet": [
           {
            "colorbar": {
             "outlinewidth": 0,
             "ticks": ""
            },
            "type": "contourcarpet"
           }
          ],
          "heatmap": [
           {
            "colorbar": {
             "outlinewidth": 0,
             "ticks": ""
            },
            "colorscale": [
             [
              0,
              "#0d0887"
             ],
             [
              0.1111111111111111,
              "#46039f"
             ],
             [
              0.2222222222222222,
              "#7201a8"
             ],
             [
              0.3333333333333333,
              "#9c179e"
             ],
             [
              0.4444444444444444,
              "#bd3786"
             ],
             [
              0.5555555555555556,
              "#d8576b"
             ],
             [
              0.6666666666666666,
              "#ed7953"
             ],
             [
              0.7777777777777778,
              "#fb9f3a"
             ],
             [
              0.8888888888888888,
              "#fdca26"
             ],
             [
              1,
              "#f0f921"
             ]
            ],
            "type": "heatmap"
           }
          ],
          "heatmapgl": [
           {
            "colorbar": {
             "outlinewidth": 0,
             "ticks": ""
            },
            "colorscale": [
             [
              0,
              "#0d0887"
             ],
             [
              0.1111111111111111,
              "#46039f"
             ],
             [
              0.2222222222222222,
              "#7201a8"
             ],
             [
              0.3333333333333333,
              "#9c179e"
             ],
             [
              0.4444444444444444,
              "#bd3786"
             ],
             [
              0.5555555555555556,
              "#d8576b"
             ],
             [
              0.6666666666666666,
              "#ed7953"
             ],
             [
              0.7777777777777778,
              "#fb9f3a"
             ],
             [
              0.8888888888888888,
              "#fdca26"
             ],
             [
              1,
              "#f0f921"
             ]
            ],
            "type": "heatmapgl"
           }
          ],
          "histogram": [
           {
            "marker": {
             "pattern": {
              "fillmode": "overlay",
              "size": 10,
              "solidity": 0.2
             }
            },
            "type": "histogram"
           }
          ],
          "histogram2d": [
           {
            "colorbar": {
             "outlinewidth": 0,
             "ticks": ""
            },
            "colorscale": [
             [
              0,
              "#0d0887"
             ],
             [
              0.1111111111111111,
              "#46039f"
             ],
             [
              0.2222222222222222,
              "#7201a8"
             ],
             [
              0.3333333333333333,
              "#9c179e"
             ],
             [
              0.4444444444444444,
              "#bd3786"
             ],
             [
              0.5555555555555556,
              "#d8576b"
             ],
             [
              0.6666666666666666,
              "#ed7953"
             ],
             [
              0.7777777777777778,
              "#fb9f3a"
             ],
             [
              0.8888888888888888,
              "#fdca26"
             ],
             [
              1,
              "#f0f921"
             ]
            ],
            "type": "histogram2d"
           }
          ],
          "histogram2dcontour": [
           {
            "colorbar": {
             "outlinewidth": 0,
             "ticks": ""
            },
            "colorscale": [
             [
              0,
              "#0d0887"
             ],
             [
              0.1111111111111111,
              "#46039f"
             ],
             [
              0.2222222222222222,
              "#7201a8"
             ],
             [
              0.3333333333333333,
              "#9c179e"
             ],
             [
              0.4444444444444444,
              "#bd3786"
             ],
             [
              0.5555555555555556,
              "#d8576b"
             ],
             [
              0.6666666666666666,
              "#ed7953"
             ],
             [
              0.7777777777777778,
              "#fb9f3a"
             ],
             [
              0.8888888888888888,
              "#fdca26"
             ],
             [
              1,
              "#f0f921"
             ]
            ],
            "type": "histogram2dcontour"
           }
          ],
          "mesh3d": [
           {
            "colorbar": {
             "outlinewidth": 0,
             "ticks": ""
            },
            "type": "mesh3d"
           }
          ],
          "parcoords": [
           {
            "line": {
             "colorbar": {
              "outlinewidth": 0,
              "ticks": ""
             }
            },
            "type": "parcoords"
           }
          ],
          "pie": [
           {
            "automargin": true,
            "type": "pie"
           }
          ],
          "scatter": [
           {
            "fillpattern": {
             "fillmode": "overlay",
             "size": 10,
             "solidity": 0.2
            },
            "type": "scatter"
           }
          ],
          "scatter3d": [
           {
            "line": {
             "colorbar": {
              "outlinewidth": 0,
              "ticks": ""
             }
            },
            "marker": {
             "colorbar": {
              "outlinewidth": 0,
              "ticks": ""
             }
            },
            "type": "scatter3d"
           }
          ],
          "scattercarpet": [
           {
            "marker": {
             "colorbar": {
              "outlinewidth": 0,
              "ticks": ""
             }
            },
            "type": "scattercarpet"
           }
          ],
          "scattergeo": [
           {
            "marker": {
             "colorbar": {
              "outlinewidth": 0,
              "ticks": ""
             }
            },
            "type": "scattergeo"
           }
          ],
          "scattergl": [
           {
            "marker": {
             "colorbar": {
              "outlinewidth": 0,
              "ticks": ""
             }
            },
            "type": "scattergl"
           }
          ],
          "scattermapbox": [
           {
            "marker": {
             "colorbar": {
              "outlinewidth": 0,
              "ticks": ""
             }
            },
            "type": "scattermapbox"
           }
          ],
          "scatterpolar": [
           {
            "marker": {
             "colorbar": {
              "outlinewidth": 0,
              "ticks": ""
             }
            },
            "type": "scatterpolar"
           }
          ],
          "scatterpolargl": [
           {
            "marker": {
             "colorbar": {
              "outlinewidth": 0,
              "ticks": ""
             }
            },
            "type": "scatterpolargl"
           }
          ],
          "scatterternary": [
           {
            "marker": {
             "colorbar": {
              "outlinewidth": 0,
              "ticks": ""
             }
            },
            "type": "scatterternary"
           }
          ],
          "surface": [
           {
            "colorbar": {
             "outlinewidth": 0,
             "ticks": ""
            },
            "colorscale": [
             [
              0,
              "#0d0887"
             ],
             [
              0.1111111111111111,
              "#46039f"
             ],
             [
              0.2222222222222222,
              "#7201a8"
             ],
             [
              0.3333333333333333,
              "#9c179e"
             ],
             [
              0.4444444444444444,
              "#bd3786"
             ],
             [
              0.5555555555555556,
              "#d8576b"
             ],
             [
              0.6666666666666666,
              "#ed7953"
             ],
             [
              0.7777777777777778,
              "#fb9f3a"
             ],
             [
              0.8888888888888888,
              "#fdca26"
             ],
             [
              1,
              "#f0f921"
             ]
            ],
            "type": "surface"
           }
          ],
          "table": [
           {
            "cells": {
             "fill": {
              "color": "#EBF0F8"
             },
             "line": {
              "color": "white"
             }
            },
            "header": {
             "fill": {
              "color": "#C8D4E3"
             },
             "line": {
              "color": "white"
             }
            },
            "type": "table"
           }
          ]
         },
         "layout": {
          "annotationdefaults": {
           "arrowcolor": "#2a3f5f",
           "arrowhead": 0,
           "arrowwidth": 1
          },
          "autotypenumbers": "strict",
          "coloraxis": {
           "colorbar": {
            "outlinewidth": 0,
            "ticks": ""
           }
          },
          "colorscale": {
           "diverging": [
            [
             0,
             "#8e0152"
            ],
            [
             0.1,
             "#c51b7d"
            ],
            [
             0.2,
             "#de77ae"
            ],
            [
             0.3,
             "#f1b6da"
            ],
            [
             0.4,
             "#fde0ef"
            ],
            [
             0.5,
             "#f7f7f7"
            ],
            [
             0.6,
             "#e6f5d0"
            ],
            [
             0.7,
             "#b8e186"
            ],
            [
             0.8,
             "#7fbc41"
            ],
            [
             0.9,
             "#4d9221"
            ],
            [
             1,
             "#276419"
            ]
           ],
           "sequential": [
            [
             0,
             "#0d0887"
            ],
            [
             0.1111111111111111,
             "#46039f"
            ],
            [
             0.2222222222222222,
             "#7201a8"
            ],
            [
             0.3333333333333333,
             "#9c179e"
            ],
            [
             0.4444444444444444,
             "#bd3786"
            ],
            [
             0.5555555555555556,
             "#d8576b"
            ],
            [
             0.6666666666666666,
             "#ed7953"
            ],
            [
             0.7777777777777778,
             "#fb9f3a"
            ],
            [
             0.8888888888888888,
             "#fdca26"
            ],
            [
             1,
             "#f0f921"
            ]
           ],
           "sequentialminus": [
            [
             0,
             "#0d0887"
            ],
            [
             0.1111111111111111,
             "#46039f"
            ],
            [
             0.2222222222222222,
             "#7201a8"
            ],
            [
             0.3333333333333333,
             "#9c179e"
            ],
            [
             0.4444444444444444,
             "#bd3786"
            ],
            [
             0.5555555555555556,
             "#d8576b"
            ],
            [
             0.6666666666666666,
             "#ed7953"
            ],
            [
             0.7777777777777778,
             "#fb9f3a"
            ],
            [
             0.8888888888888888,
             "#fdca26"
            ],
            [
             1,
             "#f0f921"
            ]
           ]
          },
          "colorway": [
           "#636efa",
           "#EF553B",
           "#00cc96",
           "#ab63fa",
           "#FFA15A",
           "#19d3f3",
           "#FF6692",
           "#B6E880",
           "#FF97FF",
           "#FECB52"
          ],
          "font": {
           "color": "#2a3f5f"
          },
          "geo": {
           "bgcolor": "white",
           "lakecolor": "white",
           "landcolor": "#E5ECF6",
           "showlakes": true,
           "showland": true,
           "subunitcolor": "white"
          },
          "hoverlabel": {
           "align": "left"
          },
          "hovermode": "closest",
          "mapbox": {
           "style": "light"
          },
          "paper_bgcolor": "white",
          "plot_bgcolor": "#E5ECF6",
          "polar": {
           "angularaxis": {
            "gridcolor": "white",
            "linecolor": "white",
            "ticks": ""
           },
           "bgcolor": "#E5ECF6",
           "radialaxis": {
            "gridcolor": "white",
            "linecolor": "white",
            "ticks": ""
           }
          },
          "scene": {
           "xaxis": {
            "backgroundcolor": "#E5ECF6",
            "gridcolor": "white",
            "gridwidth": 2,
            "linecolor": "white",
            "showbackground": true,
            "ticks": "",
            "zerolinecolor": "white"
           },
           "yaxis": {
            "backgroundcolor": "#E5ECF6",
            "gridcolor": "white",
            "gridwidth": 2,
            "linecolor": "white",
            "showbackground": true,
            "ticks": "",
            "zerolinecolor": "white"
           },
           "zaxis": {
            "backgroundcolor": "#E5ECF6",
            "gridcolor": "white",
            "gridwidth": 2,
            "linecolor": "white",
            "showbackground": true,
            "ticks": "",
            "zerolinecolor": "white"
           }
          },
          "shapedefaults": {
           "line": {
            "color": "#2a3f5f"
           }
          },
          "ternary": {
           "aaxis": {
            "gridcolor": "white",
            "linecolor": "white",
            "ticks": ""
           },
           "baxis": {
            "gridcolor": "white",
            "linecolor": "white",
            "ticks": ""
           },
           "bgcolor": "#E5ECF6",
           "caxis": {
            "gridcolor": "white",
            "linecolor": "white",
            "ticks": ""
           }
          },
          "title": {
           "x": 0.05
          },
          "xaxis": {
           "automargin": true,
           "gridcolor": "white",
           "linecolor": "white",
           "ticks": "",
           "title": {
            "standoff": 15
           },
           "zerolinecolor": "white",
           "zerolinewidth": 2
          },
          "yaxis": {
           "automargin": true,
           "gridcolor": "white",
           "linecolor": "white",
           "ticks": "",
           "title": {
            "standoff": 15
           },
           "zerolinecolor": "white",
           "zerolinewidth": 2
          }
         }
        },
        "width": 1200,
        "xaxis": {
         "anchor": "y",
         "domain": [
          0,
          0.2888888888888889
         ],
         "showgrid": false,
         "showticklabels": false,
         "zeroline": false
        },
        "xaxis2": {
         "anchor": "y2",
         "domain": [
          0.35555555555555557,
          0.6444444444444445
         ]
        },
        "xaxis3": {
         "anchor": "y3",
         "domain": [
          0.7111111111111111,
          1
         ]
        },
        "yaxis": {
         "anchor": "x",
         "domain": [
          0,
          1
         ],
         "showgrid": false,
         "showticklabels": false,
         "zeroline": false
        },
        "yaxis2": {
         "anchor": "x2",
         "domain": [
          0,
          1
         ]
        },
        "yaxis3": {
         "anchor": "x3",
         "domain": [
          0,
          1
         ]
        }
       }
      }
     },
     "metadata": {},
     "output_type": "display_data"
    }
   ],
   "source": [
    "# Calculate the average for each score\n",
    "average_food = reviews['food_score'].mean()\n",
    "average_service = reviews['service_score'].mean()\n",
    "average_atmosphere = reviews['atmosphere_score'].mean()\n",
    "average_reviews = (resumme_raw['stars'] * resumme_raw['reviews']).sum() / resumme_raw['reviews'].sum()\n",
    "\n",
    "# Create a figure with horizontal subplots\n",
    "fig = make_subplots(rows=1, cols=3, \n",
    "                    specs=[[{\"type\": \"xy\"}, {\"type\": \"bar\"}, {\"type\": \"bar\"}]], \n",
    "                    subplot_titles=(\"Average Score\", \"Number of Reviews\", \"Categories\"))\n",
    "\n",
    "# First subplot: Display the average review as large text\n",
    "fig.add_trace(\n",
    "    go.Scatter(x=[0], y=[0], text=[f\"{average_reviews:.2f}\"], mode=\"text\", textfont=dict(size=120)),\n",
    "    row=1, col=1\n",
    ")\n",
    "\n",
    "fig.update_xaxes(showgrid=False, zeroline=False, showticklabels=False, row=1, col=1)\n",
    "fig.update_yaxes(showgrid=False, zeroline=False, showticklabels=False, row=1, col=1)\n",
    "\n",
    "\n",
    "# Second subplot: Bar plot for reviews\n",
    "fig.add_trace(\n",
    "    go.Bar(x=resumme_raw['reviews'], y=resumme_raw['stars'], marker=dict(color='lightskyblue'),\n",
    "           text=resumme_raw['reviews'], textposition='auto', name=\"Reviews\", orientation='h'),\n",
    "    row=1, col=2\n",
    ")\n",
    "\n",
    "# Third subplot: Bar plot for categories (Food, Service, Atmosphere)\n",
    "fig.add_trace(\n",
    "    go.Bar(x=[average_food, average_service, average_atmosphere], \n",
    "           y=['Food', 'Service', 'Atmosphere'], \n",
    "           marker=dict(color='lightgreen'), \n",
    "           text=[f\"{average_food:.2f}\", f\"{average_service:.2f}\", f\"{average_atmosphere:.2f}\"], \n",
    "           textposition='auto', \n",
    "           orientation='h', \n",
    "           name=\"Categories\"),\n",
    "    row=1, col=3\n",
    ")\n",
    "\n",
    "# Update layout\n",
    "fig.update_layout(height=500, width=1200,  plot_bgcolor=\"white\", paper_bgcolor=\"white\", showlegend=False)\n",
    "\n",
    "# Show the plot\n",
    "fig.show()"
   ]
  },
  {
   "cell_type": "code",
   "execution_count": 6,
   "metadata": {},
   "outputs": [
    {
     "data": {
      "application/vnd.plotly.v1+json": {
       "config": {
        "plotlyServerURL": "https://plot.ly"
       },
       "data": [
        {
         "hoverinfo": "text",
         "line": {
          "color": "#1f77b4"
         },
         "marker": {
          "size": 8
         },
         "mode": "lines+markers",
         "name": "Rating",
         "text": [
          "Rating - 4.55",
          "Rating - 4.75",
          "Rating - 4.55",
          "Rating - 4.12",
          "Rating - 4.08",
          "Rating - 4.43",
          "Rating - 4.56",
          "Rating - 4.89",
          "Rating - 4.38",
          "Rating - 4.00",
          "Rating - 4.37"
         ],
         "type": "scatter",
         "x": [
          "2023-11",
          "2023-12",
          "2024-01",
          "2024-02",
          "2024-03",
          "2024-04",
          "2024-05",
          "2024-06",
          "2024-07",
          "2024-08",
          "2024-09"
         ],
         "xaxis": "x",
         "y": [
          4.545454545454546,
          4.75,
          4.545454545454546,
          4.125,
          4.076923076923077,
          4.428571428571429,
          4.5625,
          4.888888888888889,
          4.375,
          4,
          4.368421052631579
         ],
         "yaxis": "y"
        },
        {
         "hoverinfo": "text",
         "line": {
          "color": "#aec7e8"
         },
         "mode": "lines+markers",
         "name": "Food",
         "text": [
          "Food - 4.11",
          "Food - 4.75",
          "Food - 4.67",
          "Food - 4.25",
          "Food - 4.09",
          "Food - 4.80",
          "Food - 4.48",
          "Food - 4.88",
          "Food - 4.23",
          "Food - 4.07",
          "Food - 4.50"
         ],
         "type": "scatter",
         "x": [
          "2023-11",
          "2023-12",
          "2024-01",
          "2024-02",
          "2024-03",
          "2024-04",
          "2024-05",
          "2024-06",
          "2024-07",
          "2024-08",
          "2024-09"
         ],
         "xaxis": "x",
         "y": [
          4.111111111111111,
          4.75,
          4.666666666666667,
          4.25,
          4.090909090909091,
          4.8,
          4.481481481481482,
          4.875,
          4.230769230769231,
          4.066666666666666,
          4.5
         ],
         "yaxis": "y"
        },
        {
         "hoverinfo": "text",
         "line": {
          "color": "#aec7e8"
         },
         "mode": "lines+markers",
         "name": "Service",
         "text": [
          "Service - 4.60",
          "Service - 4.50",
          "Service - 4.83",
          "Service - 4.38",
          "Service - 4.36",
          "Service - 4.60",
          "Service - 4.71",
          "Service - 4.88",
          "Service - 4.46",
          "Service - 4.38",
          "Service - 4.53"
         ],
         "type": "scatter",
         "x": [
          "2023-11",
          "2023-12",
          "2024-01",
          "2024-02",
          "2024-03",
          "2024-04",
          "2024-05",
          "2024-06",
          "2024-07",
          "2024-08",
          "2024-09"
         ],
         "xaxis": "x",
         "y": [
          4.6,
          4.5,
          4.833333333333333,
          4.375,
          4.363636363636363,
          4.6,
          4.714285714285714,
          4.875,
          4.461538461538462,
          4.375,
          4.529411764705882
         ],
         "yaxis": "y"
        },
        {
         "hoverinfo": "text",
         "line": {
          "color": "#aec7e8"
         },
         "mode": "lines+markers",
         "name": "Atmosphere",
         "text": [
          "Atmosphere - 4.10",
          "Atmosphere - 4.62",
          "Atmosphere - 4.67",
          "Atmosphere - 4.25",
          "Atmosphere - 4.09",
          "Atmosphere - 5.00",
          "Atmosphere - 4.59",
          "Atmosphere - 5.00",
          "Atmosphere - 4.46",
          "Atmosphere - 4.19",
          "Atmosphere - 4.71"
         ],
         "type": "scatter",
         "x": [
          "2023-11",
          "2023-12",
          "2024-01",
          "2024-02",
          "2024-03",
          "2024-04",
          "2024-05",
          "2024-06",
          "2024-07",
          "2024-08",
          "2024-09"
         ],
         "xaxis": "x",
         "y": [
          4.1,
          4.625,
          4.666666666666667,
          4.25,
          4.090909090909091,
          5,
          4.592592592592593,
          5,
          4.461538461538462,
          4.1875,
          4.705882352941177
         ],
         "yaxis": "y"
        },
        {
         "hoverinfo": "text",
         "line": {
          "color": "#1f77b4",
          "width": 4
         },
         "marker": {
          "size": 8
         },
         "mode": "lines+markers",
         "name": "Rating",
         "text": [
          "Rating - 4.29",
          "Rating - 4.32",
          "Rating - 4.73",
          "Rating - 4.23",
          "Rating - 4.19",
          "Rating - 4.34",
          "Rating - 4.23",
          "Rating - 4.38"
         ],
         "type": "scatter",
         "x": [
          "2017.0",
          "2018.0",
          "2019.0",
          "2020.0",
          "2021.0",
          "2022.0",
          "2023.0",
          "2024.0"
         ],
         "xaxis": "x2",
         "y": [
          4.294117647058823,
          4.32,
          4.730769230769231,
          4.230769230769231,
          4.1875,
          4.3428571428571425,
          4.227848101265823,
          4.37593984962406
         ],
         "yaxis": "y2"
        },
        {
         "hoverinfo": "text",
         "line": {
          "color": "#1f77b4"
         },
         "marker": {
          "size": 8
         },
         "mode": "lines+markers",
         "name": "Rating",
         "text": [
          "Rating - 5.00",
          "Rating - 3.75",
          "Rating - 3.25"
         ],
         "type": "scatter",
         "x": [
          "2024-09-02",
          "2024-09-09",
          "2024-09-16"
         ],
         "xaxis": "x3",
         "y": [
          5,
          3.75,
          3.25
         ],
         "yaxis": "y3"
        },
        {
         "hoverinfo": "text",
         "line": {
          "color": "#aec7e8"
         },
         "mode": "lines+markers",
         "name": "Food",
         "text": [
          "Food - 5.00",
          "Food - 3.50",
          "Food - 4.33"
         ],
         "type": "scatter",
         "x": [
          "2024-09-02",
          "2024-09-09",
          "2024-09-16"
         ],
         "xaxis": "x3",
         "y": [
          5,
          3.5,
          4.333333333333333
         ],
         "yaxis": "y3"
        },
        {
         "hoverinfo": "text",
         "line": {
          "color": "#aec7e8"
         },
         "mode": "lines+markers",
         "name": "Service",
         "text": [
          "Service - 4.90",
          "Service - 4.25",
          "Service - 3.67"
         ],
         "type": "scatter",
         "x": [
          "2024-09-02",
          "2024-09-09",
          "2024-09-16"
         ],
         "xaxis": "x3",
         "y": [
          4.9,
          4.25,
          3.6666666666666665
         ],
         "yaxis": "y3"
        },
        {
         "hoverinfo": "text",
         "line": {
          "color": "#aec7e8"
         },
         "mode": "lines+markers",
         "name": "Atmosphere",
         "text": [
          "Atmosphere - 4.90",
          "Atmosphere - 4.75",
          "Atmosphere - 4.00"
         ],
         "type": "scatter",
         "x": [
          "2024-09-02",
          "2024-09-09",
          "2024-09-16"
         ],
         "xaxis": "x3",
         "y": [
          4.9,
          4.75,
          4
         ],
         "yaxis": "y3"
        }
       ],
       "layout": {
        "annotations": [
         {
          "font": {
           "size": 16
          },
          "showarrow": false,
          "text": "Monthly Score Trends (Last 12 Months)",
          "x": 0.5,
          "xanchor": "center",
          "xref": "paper",
          "y": 1,
          "yanchor": "bottom",
          "yref": "paper"
         },
         {
          "font": {
           "size": 16
          },
          "showarrow": false,
          "text": "Annual Rating Score Trends (Last 6 Years)",
          "x": 0.225,
          "xanchor": "center",
          "xref": "paper",
          "y": 0.375,
          "yanchor": "bottom",
          "yref": "paper"
         },
         {
          "font": {
           "size": 16
          },
          "showarrow": false,
          "text": "Weekly Score Trends (Last 4 Weeks)",
          "x": 0.775,
          "xanchor": "center",
          "xref": "paper",
          "y": 0.375,
          "yanchor": "bottom",
          "yref": "paper"
         },
         {
          "arrowhead": 2,
          "ax": 0,
          "ay": 80,
          "font": {
           "size": 14
          },
          "showarrow": true,
          "text": "Highest Score",
          "x": "2024-06",
          "xref": "x",
          "y": 4.8,
          "yref": "y"
         },
         {
          "arrowhead": 2,
          "ax": 0,
          "ay": -40,
          "font": {
           "size": 14
          },
          "showarrow": true,
          "text": "Drop in March",
          "x": "2024-03",
          "xref": "x",
          "y": 4.5,
          "yref": "y"
         },
         {
          "arrowhead": 2,
          "ax": 0,
          "ay": -40,
          "font": {
           "size": 14
          },
          "showarrow": true,
          "text": "Drop in August",
          "x": "2024-08",
          "xref": "x",
          "y": 4.5,
          "yref": "y"
         }
        ],
        "height": 800,
        "margin": {
         "b": 50,
         "l": 50,
         "r": 50,
         "t": 100
        },
        "paper_bgcolor": "white",
        "showlegend": false,
        "template": {
         "data": {
          "bar": [
           {
            "error_x": {
             "color": "#2a3f5f"
            },
            "error_y": {
             "color": "#2a3f5f"
            },
            "marker": {
             "line": {
              "color": "#E5ECF6",
              "width": 0.5
             },
             "pattern": {
              "fillmode": "overlay",
              "size": 10,
              "solidity": 0.2
             }
            },
            "type": "bar"
           }
          ],
          "barpolar": [
           {
            "marker": {
             "line": {
              "color": "#E5ECF6",
              "width": 0.5
             },
             "pattern": {
              "fillmode": "overlay",
              "size": 10,
              "solidity": 0.2
             }
            },
            "type": "barpolar"
           }
          ],
          "carpet": [
           {
            "aaxis": {
             "endlinecolor": "#2a3f5f",
             "gridcolor": "white",
             "linecolor": "white",
             "minorgridcolor": "white",
             "startlinecolor": "#2a3f5f"
            },
            "baxis": {
             "endlinecolor": "#2a3f5f",
             "gridcolor": "white",
             "linecolor": "white",
             "minorgridcolor": "white",
             "startlinecolor": "#2a3f5f"
            },
            "type": "carpet"
           }
          ],
          "choropleth": [
           {
            "colorbar": {
             "outlinewidth": 0,
             "ticks": ""
            },
            "type": "choropleth"
           }
          ],
          "contour": [
           {
            "colorbar": {
             "outlinewidth": 0,
             "ticks": ""
            },
            "colorscale": [
             [
              0,
              "#0d0887"
             ],
             [
              0.1111111111111111,
              "#46039f"
             ],
             [
              0.2222222222222222,
              "#7201a8"
             ],
             [
              0.3333333333333333,
              "#9c179e"
             ],
             [
              0.4444444444444444,
              "#bd3786"
             ],
             [
              0.5555555555555556,
              "#d8576b"
             ],
             [
              0.6666666666666666,
              "#ed7953"
             ],
             [
              0.7777777777777778,
              "#fb9f3a"
             ],
             [
              0.8888888888888888,
              "#fdca26"
             ],
             [
              1,
              "#f0f921"
             ]
            ],
            "type": "contour"
           }
          ],
          "contourcarpet": [
           {
            "colorbar": {
             "outlinewidth": 0,
             "ticks": ""
            },
            "type": "contourcarpet"
           }
          ],
          "heatmap": [
           {
            "colorbar": {
             "outlinewidth": 0,
             "ticks": ""
            },
            "colorscale": [
             [
              0,
              "#0d0887"
             ],
             [
              0.1111111111111111,
              "#46039f"
             ],
             [
              0.2222222222222222,
              "#7201a8"
             ],
             [
              0.3333333333333333,
              "#9c179e"
             ],
             [
              0.4444444444444444,
              "#bd3786"
             ],
             [
              0.5555555555555556,
              "#d8576b"
             ],
             [
              0.6666666666666666,
              "#ed7953"
             ],
             [
              0.7777777777777778,
              "#fb9f3a"
             ],
             [
              0.8888888888888888,
              "#fdca26"
             ],
             [
              1,
              "#f0f921"
             ]
            ],
            "type": "heatmap"
           }
          ],
          "heatmapgl": [
           {
            "colorbar": {
             "outlinewidth": 0,
             "ticks": ""
            },
            "colorscale": [
             [
              0,
              "#0d0887"
             ],
             [
              0.1111111111111111,
              "#46039f"
             ],
             [
              0.2222222222222222,
              "#7201a8"
             ],
             [
              0.3333333333333333,
              "#9c179e"
             ],
             [
              0.4444444444444444,
              "#bd3786"
             ],
             [
              0.5555555555555556,
              "#d8576b"
             ],
             [
              0.6666666666666666,
              "#ed7953"
             ],
             [
              0.7777777777777778,
              "#fb9f3a"
             ],
             [
              0.8888888888888888,
              "#fdca26"
             ],
             [
              1,
              "#f0f921"
             ]
            ],
            "type": "heatmapgl"
           }
          ],
          "histogram": [
           {
            "marker": {
             "pattern": {
              "fillmode": "overlay",
              "size": 10,
              "solidity": 0.2
             }
            },
            "type": "histogram"
           }
          ],
          "histogram2d": [
           {
            "colorbar": {
             "outlinewidth": 0,
             "ticks": ""
            },
            "colorscale": [
             [
              0,
              "#0d0887"
             ],
             [
              0.1111111111111111,
              "#46039f"
             ],
             [
              0.2222222222222222,
              "#7201a8"
             ],
             [
              0.3333333333333333,
              "#9c179e"
             ],
             [
              0.4444444444444444,
              "#bd3786"
             ],
             [
              0.5555555555555556,
              "#d8576b"
             ],
             [
              0.6666666666666666,
              "#ed7953"
             ],
             [
              0.7777777777777778,
              "#fb9f3a"
             ],
             [
              0.8888888888888888,
              "#fdca26"
             ],
             [
              1,
              "#f0f921"
             ]
            ],
            "type": "histogram2d"
           }
          ],
          "histogram2dcontour": [
           {
            "colorbar": {
             "outlinewidth": 0,
             "ticks": ""
            },
            "colorscale": [
             [
              0,
              "#0d0887"
             ],
             [
              0.1111111111111111,
              "#46039f"
             ],
             [
              0.2222222222222222,
              "#7201a8"
             ],
             [
              0.3333333333333333,
              "#9c179e"
             ],
             [
              0.4444444444444444,
              "#bd3786"
             ],
             [
              0.5555555555555556,
              "#d8576b"
             ],
             [
              0.6666666666666666,
              "#ed7953"
             ],
             [
              0.7777777777777778,
              "#fb9f3a"
             ],
             [
              0.8888888888888888,
              "#fdca26"
             ],
             [
              1,
              "#f0f921"
             ]
            ],
            "type": "histogram2dcontour"
           }
          ],
          "mesh3d": [
           {
            "colorbar": {
             "outlinewidth": 0,
             "ticks": ""
            },
            "type": "mesh3d"
           }
          ],
          "parcoords": [
           {
            "line": {
             "colorbar": {
              "outlinewidth": 0,
              "ticks": ""
             }
            },
            "type": "parcoords"
           }
          ],
          "pie": [
           {
            "automargin": true,
            "type": "pie"
           }
          ],
          "scatter": [
           {
            "fillpattern": {
             "fillmode": "overlay",
             "size": 10,
             "solidity": 0.2
            },
            "type": "scatter"
           }
          ],
          "scatter3d": [
           {
            "line": {
             "colorbar": {
              "outlinewidth": 0,
              "ticks": ""
             }
            },
            "marker": {
             "colorbar": {
              "outlinewidth": 0,
              "ticks": ""
             }
            },
            "type": "scatter3d"
           }
          ],
          "scattercarpet": [
           {
            "marker": {
             "colorbar": {
              "outlinewidth": 0,
              "ticks": ""
             }
            },
            "type": "scattercarpet"
           }
          ],
          "scattergeo": [
           {
            "marker": {
             "colorbar": {
              "outlinewidth": 0,
              "ticks": ""
             }
            },
            "type": "scattergeo"
           }
          ],
          "scattergl": [
           {
            "marker": {
             "colorbar": {
              "outlinewidth": 0,
              "ticks": ""
             }
            },
            "type": "scattergl"
           }
          ],
          "scattermapbox": [
           {
            "marker": {
             "colorbar": {
              "outlinewidth": 0,
              "ticks": ""
             }
            },
            "type": "scattermapbox"
           }
          ],
          "scatterpolar": [
           {
            "marker": {
             "colorbar": {
              "outlinewidth": 0,
              "ticks": ""
             }
            },
            "type": "scatterpolar"
           }
          ],
          "scatterpolargl": [
           {
            "marker": {
             "colorbar": {
              "outlinewidth": 0,
              "ticks": ""
             }
            },
            "type": "scatterpolargl"
           }
          ],
          "scatterternary": [
           {
            "marker": {
             "colorbar": {
              "outlinewidth": 0,
              "ticks": ""
             }
            },
            "type": "scatterternary"
           }
          ],
          "surface": [
           {
            "colorbar": {
             "outlinewidth": 0,
             "ticks": ""
            },
            "colorscale": [
             [
              0,
              "#0d0887"
             ],
             [
              0.1111111111111111,
              "#46039f"
             ],
             [
              0.2222222222222222,
              "#7201a8"
             ],
             [
              0.3333333333333333,
              "#9c179e"
             ],
             [
              0.4444444444444444,
              "#bd3786"
             ],
             [
              0.5555555555555556,
              "#d8576b"
             ],
             [
              0.6666666666666666,
              "#ed7953"
             ],
             [
              0.7777777777777778,
              "#fb9f3a"
             ],
             [
              0.8888888888888888,
              "#fdca26"
             ],
             [
              1,
              "#f0f921"
             ]
            ],
            "type": "surface"
           }
          ],
          "table": [
           {
            "cells": {
             "fill": {
              "color": "#EBF0F8"
             },
             "line": {
              "color": "white"
             }
            },
            "header": {
             "fill": {
              "color": "#C8D4E3"
             },
             "line": {
              "color": "white"
             }
            },
            "type": "table"
           }
          ]
         },
         "layout": {
          "annotationdefaults": {
           "arrowcolor": "#2a3f5f",
           "arrowhead": 0,
           "arrowwidth": 1
          },
          "autotypenumbers": "strict",
          "coloraxis": {
           "colorbar": {
            "outlinewidth": 0,
            "ticks": ""
           }
          },
          "colorscale": {
           "diverging": [
            [
             0,
             "#8e0152"
            ],
            [
             0.1,
             "#c51b7d"
            ],
            [
             0.2,
             "#de77ae"
            ],
            [
             0.3,
             "#f1b6da"
            ],
            [
             0.4,
             "#fde0ef"
            ],
            [
             0.5,
             "#f7f7f7"
            ],
            [
             0.6,
             "#e6f5d0"
            ],
            [
             0.7,
             "#b8e186"
            ],
            [
             0.8,
             "#7fbc41"
            ],
            [
             0.9,
             "#4d9221"
            ],
            [
             1,
             "#276419"
            ]
           ],
           "sequential": [
            [
             0,
             "#0d0887"
            ],
            [
             0.1111111111111111,
             "#46039f"
            ],
            [
             0.2222222222222222,
             "#7201a8"
            ],
            [
             0.3333333333333333,
             "#9c179e"
            ],
            [
             0.4444444444444444,
             "#bd3786"
            ],
            [
             0.5555555555555556,
             "#d8576b"
            ],
            [
             0.6666666666666666,
             "#ed7953"
            ],
            [
             0.7777777777777778,
             "#fb9f3a"
            ],
            [
             0.8888888888888888,
             "#fdca26"
            ],
            [
             1,
             "#f0f921"
            ]
           ],
           "sequentialminus": [
            [
             0,
             "#0d0887"
            ],
            [
             0.1111111111111111,
             "#46039f"
            ],
            [
             0.2222222222222222,
             "#7201a8"
            ],
            [
             0.3333333333333333,
             "#9c179e"
            ],
            [
             0.4444444444444444,
             "#bd3786"
            ],
            [
             0.5555555555555556,
             "#d8576b"
            ],
            [
             0.6666666666666666,
             "#ed7953"
            ],
            [
             0.7777777777777778,
             "#fb9f3a"
            ],
            [
             0.8888888888888888,
             "#fdca26"
            ],
            [
             1,
             "#f0f921"
            ]
           ]
          },
          "colorway": [
           "#636efa",
           "#EF553B",
           "#00cc96",
           "#ab63fa",
           "#FFA15A",
           "#19d3f3",
           "#FF6692",
           "#B6E880",
           "#FF97FF",
           "#FECB52"
          ],
          "font": {
           "color": "#2a3f5f"
          },
          "geo": {
           "bgcolor": "white",
           "lakecolor": "white",
           "landcolor": "#E5ECF6",
           "showlakes": true,
           "showland": true,
           "subunitcolor": "white"
          },
          "hoverlabel": {
           "align": "left"
          },
          "hovermode": "closest",
          "mapbox": {
           "style": "light"
          },
          "paper_bgcolor": "white",
          "plot_bgcolor": "#E5ECF6",
          "polar": {
           "angularaxis": {
            "gridcolor": "white",
            "linecolor": "white",
            "ticks": ""
           },
           "bgcolor": "#E5ECF6",
           "radialaxis": {
            "gridcolor": "white",
            "linecolor": "white",
            "ticks": ""
           }
          },
          "scene": {
           "xaxis": {
            "backgroundcolor": "#E5ECF6",
            "gridcolor": "white",
            "gridwidth": 2,
            "linecolor": "white",
            "showbackground": true,
            "ticks": "",
            "zerolinecolor": "white"
           },
           "yaxis": {
            "backgroundcolor": "#E5ECF6",
            "gridcolor": "white",
            "gridwidth": 2,
            "linecolor": "white",
            "showbackground": true,
            "ticks": "",
            "zerolinecolor": "white"
           },
           "zaxis": {
            "backgroundcolor": "#E5ECF6",
            "gridcolor": "white",
            "gridwidth": 2,
            "linecolor": "white",
            "showbackground": true,
            "ticks": "",
            "zerolinecolor": "white"
           }
          },
          "shapedefaults": {
           "line": {
            "color": "#2a3f5f"
           }
          },
          "ternary": {
           "aaxis": {
            "gridcolor": "white",
            "linecolor": "white",
            "ticks": ""
           },
           "baxis": {
            "gridcolor": "white",
            "linecolor": "white",
            "ticks": ""
           },
           "bgcolor": "#E5ECF6",
           "caxis": {
            "gridcolor": "white",
            "linecolor": "white",
            "ticks": ""
           }
          },
          "title": {
           "x": 0.05
          },
          "xaxis": {
           "automargin": true,
           "gridcolor": "white",
           "linecolor": "white",
           "ticks": "",
           "title": {
            "standoff": 15
           },
           "zerolinecolor": "white",
           "zerolinewidth": 2
          },
          "yaxis": {
           "automargin": true,
           "gridcolor": "white",
           "linecolor": "white",
           "ticks": "",
           "title": {
            "standoff": 15
           },
           "zerolinecolor": "white",
           "zerolinewidth": 2
          }
         }
        },
        "title": {
         "font": {
          "size": 28
         },
         "text": "Score Trends Analysis"
        },
        "width": 1200,
        "xaxis": {
         "anchor": "y",
         "domain": [
          0,
          1
         ],
         "showgrid": false,
         "showline": false
        },
        "xaxis2": {
         "anchor": "y2",
         "domain": [
          0,
          0.45
         ],
         "showgrid": false,
         "showline": false,
         "tickformat": "%Y"
        },
        "xaxis3": {
         "anchor": "y3",
         "domain": [
          0.55,
          1
         ],
         "showgrid": false,
         "showline": false,
         "tickformat": "%d-%b"
        },
        "yaxis": {
         "anchor": "x",
         "domain": [
          0.625,
          1
         ],
         "showgrid": true,
         "showline": false
        },
        "yaxis2": {
         "anchor": "x2",
         "domain": [
          0,
          0.375
         ],
         "showgrid": true,
         "showline": false
        },
        "yaxis3": {
         "anchor": "x3",
         "domain": [
          0,
          0.375
         ],
         "showgrid": true,
         "showline": false
        }
       }
      }
     },
     "metadata": {},
     "output_type": "display_data"
    }
   ],
   "source": [
    "# Convert date column to datetime format\n",
    "reviews['date'] = pd.to_datetime(reviews['date'], errors='coerce')\n",
    "reviews['month'] = reviews['date'].dt.to_period('M')\n",
    "reviews['year'] = reviews['date'].dt.year\n",
    "reviews['week'] = reviews['date'].dt.to_period('W')\n",
    "reviews['week'] = reviews['date'] - pd.to_timedelta(reviews['date'].dt.weekday, unit='d')\n",
    "reviews['week'] = reviews['week'].dt.strftime('%Y-%m-%d')\n",
    "\n",
    "# Filter data for the last periods (months, years, weeks)\n",
    "last_months = reviews[reviews['date'] >= pd.to_datetime('today') - pd.DateOffset(months=12)]\n",
    "last_years = reviews[reviews['date'] >= pd.to_datetime('today') - pd.DateOffset(years=8)]\n",
    "last_weeks = reviews[reviews['date'] >= pd.to_datetime('today') - pd.DateOffset(weeks=5)]\n",
    "\n",
    "# Compute averages for the required periods\n",
    "monthly_avg_scores = last_months.groupby('month')[['rating_score', 'food_score', 'service_score', 'atmosphere_score']].mean()\n",
    "yearly_avg_scores = last_years.groupby('year')[['rating_score']].mean()\n",
    "weekly_avg_scores = last_weeks.groupby('week')[['rating_score', 'food_score', 'service_score', 'atmosphere_score']].mean()\n",
    "\n",
    "# Update the axis labels for each score to be more readable\n",
    "label_mapping = {\n",
    "    'rating_score': 'Rating',\n",
    "    'food_score': 'Food',\n",
    "    'service_score': 'Service',\n",
    "    'atmosphere_score': 'Atmosphere'\n",
    "}\n",
    "\n",
    "# Create a figure with subplots using the Z-layout\n",
    "fig = make_subplots(rows=2, cols=2,\n",
    "                    specs=[[{\"colspan\": 2}, None],\n",
    "                           [{}, {}]],  # 1 large plot on the first row, 2 smaller plots on the second\n",
    "                    subplot_titles=(\"Monthly Score Trends (Last 12 Months)\", \n",
    "                                    \"Annual Rating Score Trends (Last 6 Years)\", \n",
    "                                    \"Weekly Score Trends (Last 4 Weeks)\"))\n",
    "\n",
    "# Add monthly score trends to the first row (rating_score in stronger color)\n",
    "colors = ['#1f77b4', '#aec7e8', '#aec7e8', '#aec7e8']  # Same tonal range, rating_score stronger\n",
    "for i, column in enumerate(monthly_avg_scores.columns):\n",
    "    label = label_mapping[column]  # Get the readable label\n",
    "    fig.add_trace(\n",
    "        go.Scatter(x=monthly_avg_scores.index.astype(str), y=monthly_avg_scores[column],\n",
    "                   mode='lines+markers', name=label, \n",
    "                   text=[f\"{label} - {val:.2f}\" for val in monthly_avg_scores[column]], \n",
    "                   hoverinfo=\"text\", line=dict(color=colors[i])),\n",
    "        row=1, col=1)\n",
    "\n",
    "# Add yearly score trends to the second row (left)\n",
    "fig.add_trace(\n",
    "    go.Scatter(x=yearly_avg_scores.index.astype(str), y=yearly_avg_scores['rating_score'],\n",
    "               mode='lines+markers', name=\"Rating\", line=dict(color='#1f77b4', width=4),\n",
    "               text=[f\"Rating - {val:.2f}\" for val in yearly_avg_scores['rating_score']], \n",
    "               hoverinfo=\"text\"),\n",
    "    row=2, col=1)\n",
    "\n",
    "# Add weekly score trends to the second row (right, weaker colors)\n",
    "for i, column in enumerate(weekly_avg_scores.columns):\n",
    "    label = label_mapping[column]  # Get the readable label\n",
    "    fig.add_trace(\n",
    "        go.Scatter(x=weekly_avg_scores.index.astype(str), y=weekly_avg_scores[column],\n",
    "                   mode='lines+markers', name=label, \n",
    "                   text=[f\"{label} - {val:.2f}\" for val in weekly_avg_scores[column]], \n",
    "                   hoverinfo=\"text\", line=dict(color=colors[i])),\n",
    "        row=2, col=2)\n",
    "\n",
    "# Enhance presentation: remove gridlines and borders, increase size, and remove legend\n",
    "fig.update_layout(showlegend=False, \n",
    "                  title=\"Score Trends Analysis\",\n",
    "                  title_font=dict(size=28),\n",
    "                  margin=dict(l=50, r=50, t=100, b=50),\n",
    "                  paper_bgcolor=\"white\",\n",
    "                  height=800, width=1200)\n",
    "\n",
    "# Remove unnecessary gridlines for a cleaner look\n",
    "fig.update_xaxes(showline=False, showgrid=False)\n",
    "fig.update_yaxes(showline=False, showgrid=True)\n",
    "\n",
    "# Customize x-axes formatting: show only the year for yearly data, and only day and month for weekly data\n",
    "fig.update_xaxes(\n",
    "    tickformat=\"%Y\",  # Only show the year for the yearly graph\n",
    "    row=2, col=1\n",
    ")\n",
    "\n",
    "fig.update_xaxes(\n",
    "    tickformat=\"%d-%b\",  # Show only the day and month for weekly graph\n",
    "    row=2, col=2\n",
    ")\n",
    "\n",
    "# Add annotations to highlight key points\n",
    "fig.add_annotation(x='2024-06', y=4.8, \n",
    "                   text=\"Highest Score\", \n",
    "                   showarrow=True, arrowhead=2,\n",
    "                   ax=0, ay=80, row=1, col=1, font=dict(size=14))\n",
    "\n",
    "fig.add_annotation(x='2024-03', y=4.5, \n",
    "                   text=\"Drop in March\", \n",
    "                   showarrow=True, arrowhead=2,\n",
    "                   ax=0, ay=-40, row=1, col=1, font=dict(size=14))\n",
    "\n",
    "fig.add_annotation(x='2024-08', y=4.5, \n",
    "                   text=\"Drop in August\", \n",
    "                   showarrow=True, arrowhead=2,\n",
    "                   ax=0, ay=-40, row=1, col=1, font=dict(size=14))\n",
    "\n",
    "# Improve line aesthetics (rating score with more prominence)\n",
    "fig.update_traces(marker=dict(size=8), selector=dict(name=\"Rating\"))\n",
    "\n",
    "# Display the interactive plot\n",
    "fig.show()\n"
   ]
  },
  {
   "cell_type": "markdown",
   "metadata": {},
   "source": [
    "### Cleaning and preprocessing"
   ]
  },
  {
   "cell_type": "code",
   "execution_count": 11,
   "metadata": {},
   "outputs": [
    {
     "name": "stderr",
     "output_type": "stream",
     "text": [
      "[nltk_data] Downloading package stopwords to\n",
      "[nltk_data]     /Users/jobandtalent/nltk_data...\n",
      "[nltk_data]   Package stopwords is already up-to-date!\n",
      "[nltk_data] Downloading package vader_lexicon to\n",
      "[nltk_data]     /Users/jobandtalent/nltk_data...\n",
      "[nltk_data]   Package vader_lexicon is already up-to-date!\n"
     ]
    }
   ],
   "source": [
    "import nltk\n",
    "from nltk.corpus import stopwords\n",
    "from nltk.sentiment.vader import SentimentIntensityAnalyzer\n",
    "import spacy\n",
    "from sklearn.feature_extraction.text import CountVectorizer\n",
    "from collections import Counter\n",
    "\n",
    "from tqdm import tqdm\n",
    "\n",
    "# Download NLTK stopwords and lexicon\n",
    "nltk.download('stopwords')\n",
    "nltk.download('vader_lexicon')\n",
    "\n",
    "# Load spaCy Spanish model\n",
    "nlp = spacy.load('es_core_news_sm')"
   ]
  },
  {
   "cell_type": "code",
   "execution_count": 5,
   "metadata": {},
   "outputs": [],
   "source": [
    "# Clean text, stopworks and tokenize words\n",
    "def clean_text(text):\n",
    "    text = text.lower()\n",
    "    text = re.sub(r'[^a-záéíóúñü0-9\\s]', '', text)\n",
    "    doc = nlp(text)\n",
    "    stop_words = set(stopwords.words('spanish'))\n",
    "    tokens = [token.lemma_ for token in doc \n",
    "              if token.text not in stop_words and not token.is_punct and not token.is_space]\n",
    "    return ' '.join(tokens)"
   ]
  },
  {
   "cell_type": "code",
   "execution_count": 6,
   "metadata": {},
   "outputs": [
    {
     "name": "stderr",
     "output_type": "stream",
     "text": [
      "Cleaning Reviews: 100%|██████████| 360/360 [00:02<00:00, 154.30it/s]\n"
     ]
    },
    {
     "data": {
      "text/html": [
       "<div>\n",
       "<style scoped>\n",
       "    .dataframe tbody tr th:only-of-type {\n",
       "        vertical-align: middle;\n",
       "    }\n",
       "\n",
       "    .dataframe tbody tr th {\n",
       "        vertical-align: top;\n",
       "    }\n",
       "\n",
       "    .dataframe thead th {\n",
       "        text-align: right;\n",
       "    }\n",
       "</style>\n",
       "<table border=\"1\" class=\"dataframe\">\n",
       "  <thead>\n",
       "    <tr style=\"text-align: right;\">\n",
       "      <th></th>\n",
       "      <th>review</th>\n",
       "      <th>cleaned_review</th>\n",
       "    </tr>\n",
       "  </thead>\n",
       "  <tbody>\n",
       "    <tr>\n",
       "      <th>143</th>\n",
       "      <td>La hamburguesa italiana de las mejores q he pr...</td>\n",
       "      <td>hamburguesa italiano mejor q probar precio raz...</td>\n",
       "    </tr>\n",
       "    <tr>\n",
       "      <th>25</th>\n",
       "      <td>Cafetería emblemática madrileña abierta por lo...</td>\n",
       "      <td>cafetería emblemático madrileño abierto herman...</td>\n",
       "    </tr>\n",
       "    <tr>\n",
       "      <th>117</th>\n",
       "      <td>UN LOCAL CON AIRE OCHENTERO DONDE EL SERVICIO,...</td>\n",
       "      <td>local aire ochentero servicio calidad variedad...</td>\n",
       "    </tr>\n",
       "    <tr>\n",
       "      <th>12</th>\n",
       "      <td>Fui por casualidad con unos amigos... me encan...</td>\n",
       "      <td>casualidad amigo encantar hamburguesa espectác...</td>\n",
       "    </tr>\n",
       "    <tr>\n",
       "      <th>13</th>\n",
       "      <td>Un clásico en la zona de Chamberí.\\n\\nPROS: la...</td>\n",
       "      <td>clásico zona chamberir pro hamburguesa genial ...</td>\n",
       "    </tr>\n",
       "  </tbody>\n",
       "</table>\n",
       "</div>"
      ],
      "text/plain": [
       "                                                review  \\\n",
       "143  La hamburguesa italiana de las mejores q he pr...   \n",
       "25   Cafetería emblemática madrileña abierta por lo...   \n",
       "117  UN LOCAL CON AIRE OCHENTERO DONDE EL SERVICIO,...   \n",
       "12   Fui por casualidad con unos amigos... me encan...   \n",
       "13   Un clásico en la zona de Chamberí.\\n\\nPROS: la...   \n",
       "\n",
       "                                        cleaned_review  \n",
       "143  hamburguesa italiano mejor q probar precio raz...  \n",
       "25   cafetería emblemático madrileño abierto herman...  \n",
       "117  local aire ochentero servicio calidad variedad...  \n",
       "12   casualidad amigo encantar hamburguesa espectác...  \n",
       "13   clásico zona chamberir pro hamburguesa genial ...  "
      ]
     },
     "metadata": {},
     "output_type": "display_data"
    }
   ],
   "source": [
    "tqdm.pandas(desc=\"Cleaning Reviews\")\n",
    "reviews['cleaned_review'] = reviews['review'].fillna('').progress_apply(clean_text)\n",
    "\n",
    "display(reviews[['review', 'cleaned_review']].sample(5))"
   ]
  },
  {
   "cell_type": "markdown",
   "metadata": {},
   "source": [
    "### Embeddings and sentiment analysis"
   ]
  },
  {
   "cell_type": "code",
   "execution_count": 7,
   "metadata": {},
   "outputs": [],
   "source": [
    "# Embeddings and Sentiment\n",
    "from transformers import pipeline\n",
    "from transformers import BertTokenizer, BertModel\n",
    "import torch\n",
    "\n",
    "# Word Clouds and Visualization\n",
    "from wordcloud import WordCloud\n"
   ]
  },
  {
   "cell_type": "markdown",
   "metadata": {},
   "source": [
    "#### Calculate embeddings"
   ]
  },
  {
   "cell_type": "code",
   "execution_count": 8,
   "metadata": {},
   "outputs": [
    {
     "name": "stderr",
     "output_type": "stream",
     "text": [
      "Generating Embeddings: 100%|██████████| 360/360 [00:30<00:00, 11.82it/s]\n"
     ]
    }
   ],
   "source": [
    "# Extract the embeddings for each cleaned review\n",
    "def get_embedding(text):\n",
    "    inputs = tokenizer(text, return_tensors='pt', truncation=True, max_length=512)\n",
    "    with torch.no_grad():\n",
    "        outputs = model(**inputs)\n",
    "    return outputs.last_hidden_state.mean(dim=1).squeeze().numpy()\n",
    "\n",
    "# Import Bert model and tokenizer\n",
    "tokenizer = BertTokenizer.from_pretrained('bert-base-multilingual-cased')\n",
    "model = BertModel.from_pretrained('bert-base-multilingual-cased')\n",
    "\n",
    "tqdm.pandas(desc=\"Generating Embeddings\")\n",
    "reviews['embedding'] = reviews['cleaned_review'].progress_apply(get_embedding)"
   ]
  },
  {
   "cell_type": "code",
   "execution_count": 9,
   "metadata": {},
   "outputs": [
    {
     "data": {
      "text/html": [
       "<div>\n",
       "<style scoped>\n",
       "    .dataframe tbody tr th:only-of-type {\n",
       "        vertical-align: middle;\n",
       "    }\n",
       "\n",
       "    .dataframe tbody tr th {\n",
       "        vertical-align: top;\n",
       "    }\n",
       "\n",
       "    .dataframe thead th {\n",
       "        text-align: right;\n",
       "    }\n",
       "</style>\n",
       "<table border=\"1\" class=\"dataframe\">\n",
       "  <thead>\n",
       "    <tr style=\"text-align: right;\">\n",
       "      <th></th>\n",
       "      <th>review_id</th>\n",
       "      <th>review</th>\n",
       "      <th>local_guide_reviews</th>\n",
       "      <th>rating_score</th>\n",
       "      <th>service</th>\n",
       "      <th>meal_type</th>\n",
       "      <th>price_per_person_category</th>\n",
       "      <th>food_score</th>\n",
       "      <th>service_score</th>\n",
       "      <th>atmosphere_score</th>\n",
       "      <th>recommendations_list</th>\n",
       "      <th>date</th>\n",
       "      <th>avg_price_per_person</th>\n",
       "      <th>cleaned_review</th>\n",
       "      <th>embedding</th>\n",
       "    </tr>\n",
       "  </thead>\n",
       "  <tbody>\n",
       "    <tr>\n",
       "      <th>0</th>\n",
       "      <td>0</td>\n",
       "      <td>Además de que da un vibra de un bar de los 50’...</td>\n",
       "      <td>92.0</td>\n",
       "      <td>5.0</td>\n",
       "      <td>NaN</td>\n",
       "      <td>NaN</td>\n",
       "      <td>NaN</td>\n",
       "      <td>5.0</td>\n",
       "      <td>5.0</td>\n",
       "      <td>5.0</td>\n",
       "      <td>['']</td>\n",
       "      <td>2024-09-09</td>\n",
       "      <td>NaN</td>\n",
       "      <td>además dar vibra bar 50s hamburguesa descubrim...</td>\n",
       "      <td>[-0.39345536, -0.33803207, 0.34808198, 0.19436...</td>\n",
       "    </tr>\n",
       "    <tr>\n",
       "      <th>1</th>\n",
       "      <td>1</td>\n",
       "      <td>La hamburguesa de pollo frito estaba muy rica ...</td>\n",
       "      <td>35.0</td>\n",
       "      <td>4.0</td>\n",
       "      <td>Comí allí</td>\n",
       "      <td>Comida</td>\n",
       "      <td>30-40 €</td>\n",
       "      <td>4.0</td>\n",
       "      <td>5.0</td>\n",
       "      <td>4.0</td>\n",
       "      <td>['']</td>\n",
       "      <td>2024-08-01</td>\n",
       "      <td>40.0</td>\n",
       "      <td>hamburguesa pollo frito rico acuerdo nombre ca...</td>\n",
       "      <td>[-0.13622372, -0.16634203, 0.5213568, 0.331580...</td>\n",
       "    </tr>\n",
       "    <tr>\n",
       "      <th>2</th>\n",
       "      <td>2</td>\n",
       "      <td>Estuve cenando en familia el martes y además d...</td>\n",
       "      <td>2.0</td>\n",
       "      <td>5.0</td>\n",
       "      <td>NaN</td>\n",
       "      <td>NaN</td>\n",
       "      <td>NaN</td>\n",
       "      <td>5.0</td>\n",
       "      <td>5.0</td>\n",
       "      <td>5.0</td>\n",
       "      <td>['']</td>\n",
       "      <td>2024-09-16</td>\n",
       "      <td>NaN</td>\n",
       "      <td>cenar familia martes además excelente atención...</td>\n",
       "      <td>[-0.29606187, -0.28629205, 0.2620312, 0.217695...</td>\n",
       "    </tr>\n",
       "    <tr>\n",
       "      <th>3</th>\n",
       "      <td>3</td>\n",
       "      <td>Solo tomamos un vermút y una cerveza. El bar m...</td>\n",
       "      <td>11.0</td>\n",
       "      <td>3.0</td>\n",
       "      <td>NaN</td>\n",
       "      <td>NaN</td>\n",
       "      <td>NaN</td>\n",
       "      <td>NaN</td>\n",
       "      <td>3.0</td>\n",
       "      <td>3.0</td>\n",
       "      <td>['']</td>\n",
       "      <td>2024-05-01</td>\n",
       "      <td>NaN</td>\n",
       "      <td>solo tomar vermút cerveza bar molo cafeteer sa...</td>\n",
       "      <td>[-0.36835817, -0.26008305, 0.064508475, 0.3708...</td>\n",
       "    </tr>\n",
       "    <tr>\n",
       "      <th>4</th>\n",
       "      <td>4</td>\n",
       "      <td>Un gofre frío y tieso 9,20€? Nunca me había se...</td>\n",
       "      <td>58.0</td>\n",
       "      <td>1.0</td>\n",
       "      <td>NaN</td>\n",
       "      <td>NaN</td>\n",
       "      <td>NaN</td>\n",
       "      <td>1.0</td>\n",
       "      <td>1.0</td>\n",
       "      <td>2.0</td>\n",
       "      <td>['']</td>\n",
       "      <td>NaN</td>\n",
       "      <td>NaN</td>\n",
       "      <td>gofre frío tieso 920 nunca tanto estafado 3 ba...</td>\n",
       "      <td>[9.475763e-05, -0.38498864, -0.15247194, 0.622...</td>\n",
       "    </tr>\n",
       "    <tr>\n",
       "      <th>...</th>\n",
       "      <td>...</td>\n",
       "      <td>...</td>\n",
       "      <td>...</td>\n",
       "      <td>...</td>\n",
       "      <td>...</td>\n",
       "      <td>...</td>\n",
       "      <td>...</td>\n",
       "      <td>...</td>\n",
       "      <td>...</td>\n",
       "      <td>...</td>\n",
       "      <td>...</td>\n",
       "      <td>...</td>\n",
       "      <td>...</td>\n",
       "      <td>...</td>\n",
       "      <td>...</td>\n",
       "    </tr>\n",
       "    <tr>\n",
       "      <th>355</th>\n",
       "      <td>355</td>\n",
       "      <td>NaN</td>\n",
       "      <td>81.0</td>\n",
       "      <td>1.0</td>\n",
       "      <td>NaN</td>\n",
       "      <td>NaN</td>\n",
       "      <td>NaN</td>\n",
       "      <td>NaN</td>\n",
       "      <td>NaN</td>\n",
       "      <td>NaN</td>\n",
       "      <td>['']</td>\n",
       "      <td>2023-01-01</td>\n",
       "      <td>NaN</td>\n",
       "      <td></td>\n",
       "      <td>[0.1206212, -0.15257965, 1.012721, 0.37729222,...</td>\n",
       "    </tr>\n",
       "    <tr>\n",
       "      <th>356</th>\n",
       "      <td>356</td>\n",
       "      <td>NaN</td>\n",
       "      <td>30.0</td>\n",
       "      <td>4.0</td>\n",
       "      <td>NaN</td>\n",
       "      <td>NaN</td>\n",
       "      <td>NaN</td>\n",
       "      <td>NaN</td>\n",
       "      <td>NaN</td>\n",
       "      <td>NaN</td>\n",
       "      <td>['']</td>\n",
       "      <td>2023-01-01</td>\n",
       "      <td>NaN</td>\n",
       "      <td></td>\n",
       "      <td>[0.1206212, -0.15257965, 1.012721, 0.37729222,...</td>\n",
       "    </tr>\n",
       "    <tr>\n",
       "      <th>357</th>\n",
       "      <td>357</td>\n",
       "      <td>NaN</td>\n",
       "      <td>51.0</td>\n",
       "      <td>5.0</td>\n",
       "      <td>NaN</td>\n",
       "      <td>NaN</td>\n",
       "      <td>NaN</td>\n",
       "      <td>NaN</td>\n",
       "      <td>NaN</td>\n",
       "      <td>NaN</td>\n",
       "      <td>['']</td>\n",
       "      <td>2023-01-01</td>\n",
       "      <td>NaN</td>\n",
       "      <td></td>\n",
       "      <td>[0.1206212, -0.15257965, 1.012721, 0.37729222,...</td>\n",
       "    </tr>\n",
       "    <tr>\n",
       "      <th>358</th>\n",
       "      <td>358</td>\n",
       "      <td>NaN</td>\n",
       "      <td>2.0</td>\n",
       "      <td>5.0</td>\n",
       "      <td>NaN</td>\n",
       "      <td>NaN</td>\n",
       "      <td>NaN</td>\n",
       "      <td>NaN</td>\n",
       "      <td>NaN</td>\n",
       "      <td>NaN</td>\n",
       "      <td>['']</td>\n",
       "      <td>2023-01-01</td>\n",
       "      <td>NaN</td>\n",
       "      <td></td>\n",
       "      <td>[0.1206212, -0.15257965, 1.012721, 0.37729222,...</td>\n",
       "    </tr>\n",
       "    <tr>\n",
       "      <th>359</th>\n",
       "      <td>359</td>\n",
       "      <td>NaN</td>\n",
       "      <td>12.0</td>\n",
       "      <td>1.0</td>\n",
       "      <td>NaN</td>\n",
       "      <td>NaN</td>\n",
       "      <td>NaN</td>\n",
       "      <td>NaN</td>\n",
       "      <td>NaN</td>\n",
       "      <td>NaN</td>\n",
       "      <td>['']</td>\n",
       "      <td>2022-01-01</td>\n",
       "      <td>NaN</td>\n",
       "      <td></td>\n",
       "      <td>[0.1206212, -0.15257965, 1.012721, 0.37729222,...</td>\n",
       "    </tr>\n",
       "  </tbody>\n",
       "</table>\n",
       "<p>360 rows × 15 columns</p>\n",
       "</div>"
      ],
      "text/plain": [
       "     review_id                                             review  \\\n",
       "0            0  Además de que da un vibra de un bar de los 50’...   \n",
       "1            1  La hamburguesa de pollo frito estaba muy rica ...   \n",
       "2            2  Estuve cenando en familia el martes y además d...   \n",
       "3            3  Solo tomamos un vermút y una cerveza. El bar m...   \n",
       "4            4  Un gofre frío y tieso 9,20€? Nunca me había se...   \n",
       "..         ...                                                ...   \n",
       "355        355                                                NaN   \n",
       "356        356                                                NaN   \n",
       "357        357                                                NaN   \n",
       "358        358                                                NaN   \n",
       "359        359                                                NaN   \n",
       "\n",
       "     local_guide_reviews  rating_score    service meal_type  \\\n",
       "0                   92.0           5.0        NaN       NaN   \n",
       "1                   35.0           4.0  Comí allí    Comida   \n",
       "2                    2.0           5.0        NaN       NaN   \n",
       "3                   11.0           3.0        NaN       NaN   \n",
       "4                   58.0           1.0        NaN       NaN   \n",
       "..                   ...           ...        ...       ...   \n",
       "355                 81.0           1.0        NaN       NaN   \n",
       "356                 30.0           4.0        NaN       NaN   \n",
       "357                 51.0           5.0        NaN       NaN   \n",
       "358                  2.0           5.0        NaN       NaN   \n",
       "359                 12.0           1.0        NaN       NaN   \n",
       "\n",
       "    price_per_person_category  food_score  service_score  atmosphere_score  \\\n",
       "0                         NaN         5.0            5.0               5.0   \n",
       "1                     30-40 €         4.0            5.0               4.0   \n",
       "2                         NaN         5.0            5.0               5.0   \n",
       "3                         NaN         NaN            3.0               3.0   \n",
       "4                         NaN         1.0            1.0               2.0   \n",
       "..                        ...         ...            ...               ...   \n",
       "355                       NaN         NaN            NaN               NaN   \n",
       "356                       NaN         NaN            NaN               NaN   \n",
       "357                       NaN         NaN            NaN               NaN   \n",
       "358                       NaN         NaN            NaN               NaN   \n",
       "359                       NaN         NaN            NaN               NaN   \n",
       "\n",
       "    recommendations_list        date  avg_price_per_person  \\\n",
       "0                   ['']  2024-09-09                   NaN   \n",
       "1                   ['']  2024-08-01                  40.0   \n",
       "2                   ['']  2024-09-16                   NaN   \n",
       "3                   ['']  2024-05-01                   NaN   \n",
       "4                   ['']         NaN                   NaN   \n",
       "..                   ...         ...                   ...   \n",
       "355                 ['']  2023-01-01                   NaN   \n",
       "356                 ['']  2023-01-01                   NaN   \n",
       "357                 ['']  2023-01-01                   NaN   \n",
       "358                 ['']  2023-01-01                   NaN   \n",
       "359                 ['']  2022-01-01                   NaN   \n",
       "\n",
       "                                        cleaned_review  \\\n",
       "0    además dar vibra bar 50s hamburguesa descubrim...   \n",
       "1    hamburguesa pollo frito rico acuerdo nombre ca...   \n",
       "2    cenar familia martes además excelente atención...   \n",
       "3    solo tomar vermút cerveza bar molo cafeteer sa...   \n",
       "4    gofre frío tieso 920 nunca tanto estafado 3 ba...   \n",
       "..                                                 ...   \n",
       "355                                                      \n",
       "356                                                      \n",
       "357                                                      \n",
       "358                                                      \n",
       "359                                                      \n",
       "\n",
       "                                             embedding  \n",
       "0    [-0.39345536, -0.33803207, 0.34808198, 0.19436...  \n",
       "1    [-0.13622372, -0.16634203, 0.5213568, 0.331580...  \n",
       "2    [-0.29606187, -0.28629205, 0.2620312, 0.217695...  \n",
       "3    [-0.36835817, -0.26008305, 0.064508475, 0.3708...  \n",
       "4    [9.475763e-05, -0.38498864, -0.15247194, 0.622...  \n",
       "..                                                 ...  \n",
       "355  [0.1206212, -0.15257965, 1.012721, 0.37729222,...  \n",
       "356  [0.1206212, -0.15257965, 1.012721, 0.37729222,...  \n",
       "357  [0.1206212, -0.15257965, 1.012721, 0.37729222,...  \n",
       "358  [0.1206212, -0.15257965, 1.012721, 0.37729222,...  \n",
       "359  [0.1206212, -0.15257965, 1.012721, 0.37729222,...  \n",
       "\n",
       "[360 rows x 15 columns]"
      ]
     },
     "execution_count": 9,
     "metadata": {},
     "output_type": "execute_result"
    }
   ],
   "source": [
    "reviews"
   ]
  },
  {
   "cell_type": "markdown",
   "metadata": {},
   "source": [
    "#### Analyze sentiment"
   ]
  },
  {
   "cell_type": "code",
   "execution_count": 50,
   "metadata": {},
   "outputs": [],
   "source": [
    "def analyze_sentiment_vader(df):\n",
    "    # Initialize VADER sentiment analyzer\n",
    "    sia = SentimentIntensityAnalyzer()\n",
    "\n",
    "    # Apply sentiment analysis to each review using VADER\n",
    "    df['vader_sentiment'] = df['cleaned_review'].apply(lambda x: sia.polarity_scores(x)['compound'])\n",
    "    \n",
    "    # Classify sentiment into positive, neutral, negative using rating_score and vader_sentiment\n",
    "    def classify_sentiment(row):\n",
    "        if row['rating_score'] >= 4:\n",
    "            return 'positive'\n",
    "        elif row['rating_score'] <= 2:\n",
    "            return 'negative'\n",
    "        elif row['vader_sentiment'] > 0.05:\n",
    "            return 'positive'\n",
    "        elif row['vader_sentiment'] < -0.05:\n",
    "            return 'negative'\n",
    "        else:\n",
    "            return 'neutral'\n",
    "    \n",
    "    df['sentiment_label'] = df.apply(classify_sentiment, axis=1)\n",
    "    \n",
    "    return df\n",
    "\n",
    "def generate_ngram_analysis(df, sentiment_label='positive', n=2, top_n=10):\n",
    "    # Filter reviews by sentiment label\n",
    "    reviews_text = df[df['sentiment_label'] == sentiment_label]['cleaned_review'].fillna('').tolist()\n",
    "    \n",
    "    # Create n-grams for the given sentiment label\n",
    "    vectorizer = CountVectorizer(ngram_range=(n, n)).fit(reviews_text)\n",
    "    ngrams = vectorizer.transform(reviews_text)\n",
    "    \n",
    "    # Sum all n-grams\n",
    "    ngram_counts = ngrams.sum(axis=0)\n",
    "    ngram_freq = [(word, ngram_counts[0, idx]) for word, idx in vectorizer.vocabulary_.items()]\n",
    "    sorted_ngrams = sorted(ngram_freq, key=lambda x: x[1], reverse=True)[:top_n]\n",
    "    \n",
    "    return sorted_ngrams\n",
    "\n",
    "def extract_common_phrases(df, sentiment_label='positive', n=10):\n",
    "    # Filter reviews by sentiment label\n",
    "    filtered_reviews = df[df['sentiment_label'] == sentiment_label]['cleaned_review'].fillna('').tolist()\n",
    "    \n",
    "    # Tokenize and count words for the given sentiment label\n",
    "    vectorizer = CountVectorizer().fit(filtered_reviews)\n",
    "    word_counts = vectorizer.transform(filtered_reviews).sum(axis=0)\n",
    "    \n",
    "    # Create a dictionary of word frequencies\n",
    "    word_freq = [(word, word_counts[0, idx]) for word, idx in vectorizer.vocabulary_.items()]\n",
    "    sorted_word_freq = sorted(word_freq, key=lambda x: x[1], reverse=True)[:n]\n",
    "    \n",
    "    return sorted_word_freq"
   ]
  },
  {
   "cell_type": "code",
   "execution_count": 42,
   "metadata": {},
   "outputs": [],
   "source": [
    "# Analyze sentiment with VADER\n",
    "reviews = analyze_sentiment_vader(reviews)"
   ]
  },
  {
   "cell_type": "code",
   "execution_count": 45,
   "metadata": {},
   "outputs": [],
   "source": [
    "# Generate bigrams\n",
    "bigrams = generate_ngram_analysis(reviews, n=2)\n"
   ]
  },
  {
   "cell_type": "code",
   "execution_count": 136,
   "metadata": {},
   "outputs": [
    {
     "name": "stderr",
     "output_type": "stream",
     "text": [
      "/var/folders/hv/ckh3m6gn1sd45q2qctrqcwzh0000gn/T/ipykernel_27970/256757046.py:14: FutureWarning:\n",
      "\n",
      "'M' is deprecated and will be removed in a future version, please use 'ME' instead.\n",
      "\n"
     ]
    },
    {
     "data": {
      "application/vnd.plotly.v1+json": {
       "config": {
        "plotlyServerURL": "https://plot.ly"
       },
       "data": [
        {
         "fill": "tonexty",
         "fillcolor": "rgba(252, 141, 98, 0.7)",
         "fillpattern": {
          "shape": ""
         },
         "hovertemplate": "Sentiment=negative<br>=%{x}<br>Percentage of Reviews (%)=%{y}<extra></extra>",
         "legendgroup": "negative",
         "line": {
          "color": "#636efa",
          "shape": "spline",
          "width": 0
         },
         "marker": {
          "symbol": "circle"
         },
         "mode": "lines",
         "name": "negative",
         "orientation": "v",
         "showlegend": true,
         "stackgroup": "1",
         "type": "scatter",
         "x": [
          "2019-01-31T00:00:00",
          "2020-01-31T00:00:00",
          "2021-01-31T00:00:00",
          "2022-01-31T00:00:00",
          "2023-01-31T00:00:00",
          "2023-10-31T00:00:00",
          "2023-11-30T00:00:00",
          "2023-12-31T00:00:00",
          "2024-01-31T00:00:00",
          "2024-02-29T00:00:00",
          "2024-03-31T00:00:00",
          "2024-04-30T00:00:00",
          "2024-05-31T00:00:00",
          "2024-06-30T00:00:00",
          "2024-07-31T00:00:00",
          "2024-08-31T00:00:00",
          "2024-09-30T00:00:00"
         ],
         "xaxis": "x",
         "y": [
          0,
          7.69,
          12.5,
          5.71,
          14,
          0,
          0,
          0,
          9.09,
          12.5,
          0,
          14.29,
          9.38,
          0,
          12.5,
          11.11,
          15.79
         ],
         "yaxis": "y"
        },
        {
         "fill": "tonexty",
         "fillcolor": "rgba(141, 160, 203, 0.7)",
         "fillpattern": {
          "shape": ""
         },
         "hovertemplate": "Sentiment=neutral<br>=%{x}<br>Percentage of Reviews (%)=%{y}<extra></extra>",
         "legendgroup": "neutral",
         "line": {
          "color": "#EF553B",
          "shape": "spline",
          "width": 0
         },
         "marker": {
          "symbol": "circle"
         },
         "mode": "lines",
         "name": "neutral",
         "orientation": "v",
         "showlegend": true,
         "stackgroup": "1",
         "type": "scatter",
         "x": [
          "2019-01-31T00:00:00",
          "2020-01-31T00:00:00",
          "2021-01-31T00:00:00",
          "2022-01-31T00:00:00",
          "2023-01-31T00:00:00",
          "2023-10-31T00:00:00",
          "2023-11-30T00:00:00",
          "2023-12-31T00:00:00",
          "2024-01-31T00:00:00",
          "2024-02-29T00:00:00",
          "2024-03-31T00:00:00",
          "2024-04-30T00:00:00",
          "2024-05-31T00:00:00",
          "2024-06-30T00:00:00",
          "2024-07-31T00:00:00",
          "2024-08-31T00:00:00",
          "2024-09-30T00:00:00"
         ],
         "xaxis": "x",
         "y": [
          3.85,
          7.69,
          6.25,
          5.71,
          6,
          0,
          9.09,
          0,
          0,
          0,
          38.46,
          0,
          3.12,
          0,
          0,
          11.11,
          5.26
         ],
         "yaxis": "y"
        },
        {
         "fill": "tonexty",
         "fillcolor": "rgba(102, 194, 165, 0.7)",
         "fillpattern": {
          "shape": ""
         },
         "hovertemplate": "Sentiment=positive<br>=%{x}<br>Percentage of Reviews (%)=%{y}<extra></extra>",
         "legendgroup": "positive",
         "line": {
          "color": "#00cc96",
          "shape": "spline",
          "width": 0
         },
         "marker": {
          "symbol": "circle"
         },
         "mode": "lines",
         "name": "positive",
         "orientation": "v",
         "showlegend": true,
         "stackgroup": "1",
         "type": "scatter",
         "x": [
          "2019-01-31T00:00:00",
          "2020-01-31T00:00:00",
          "2021-01-31T00:00:00",
          "2022-01-31T00:00:00",
          "2023-01-31T00:00:00",
          "2023-10-31T00:00:00",
          "2023-11-30T00:00:00",
          "2023-12-31T00:00:00",
          "2024-01-31T00:00:00",
          "2024-02-29T00:00:00",
          "2024-03-31T00:00:00",
          "2024-04-30T00:00:00",
          "2024-05-31T00:00:00",
          "2024-06-30T00:00:00",
          "2024-07-31T00:00:00",
          "2024-08-31T00:00:00",
          "2024-09-30T00:00:00"
         ],
         "xaxis": "x",
         "y": [
          96.15,
          84.62,
          81.25,
          88.57,
          80,
          100,
          90.91,
          100,
          90.91,
          87.5,
          61.54,
          85.71,
          87.5,
          100,
          87.5,
          77.78,
          78.95
         ],
         "yaxis": "y"
        }
       ],
       "layout": {
        "height": 400,
        "hovermode": "x unified",
        "legend": {
         "orientation": "h",
         "title": {
          "text": ""
         },
         "tracegroupgap": 0,
         "x": 1,
         "xanchor": "right",
         "y": 1.02,
         "yanchor": "bottom"
        },
        "margin": {
         "b": 20,
         "l": 20,
         "r": 20,
         "t": 50
        },
        "plot_bgcolor": "rgba(0,0,0,0)",
        "template": {
         "data": {
          "bar": [
           {
            "error_x": {
             "color": "#2a3f5f"
            },
            "error_y": {
             "color": "#2a3f5f"
            },
            "marker": {
             "line": {
              "color": "white",
              "width": 0.5
             },
             "pattern": {
              "fillmode": "overlay",
              "size": 10,
              "solidity": 0.2
             }
            },
            "type": "bar"
           }
          ],
          "barpolar": [
           {
            "marker": {
             "line": {
              "color": "white",
              "width": 0.5
             },
             "pattern": {
              "fillmode": "overlay",
              "size": 10,
              "solidity": 0.2
             }
            },
            "type": "barpolar"
           }
          ],
          "carpet": [
           {
            "aaxis": {
             "endlinecolor": "#2a3f5f",
             "gridcolor": "#C8D4E3",
             "linecolor": "#C8D4E3",
             "minorgridcolor": "#C8D4E3",
             "startlinecolor": "#2a3f5f"
            },
            "baxis": {
             "endlinecolor": "#2a3f5f",
             "gridcolor": "#C8D4E3",
             "linecolor": "#C8D4E3",
             "minorgridcolor": "#C8D4E3",
             "startlinecolor": "#2a3f5f"
            },
            "type": "carpet"
           }
          ],
          "choropleth": [
           {
            "colorbar": {
             "outlinewidth": 0,
             "ticks": ""
            },
            "type": "choropleth"
           }
          ],
          "contour": [
           {
            "colorbar": {
             "outlinewidth": 0,
             "ticks": ""
            },
            "colorscale": [
             [
              0,
              "#0d0887"
             ],
             [
              0.1111111111111111,
              "#46039f"
             ],
             [
              0.2222222222222222,
              "#7201a8"
             ],
             [
              0.3333333333333333,
              "#9c179e"
             ],
             [
              0.4444444444444444,
              "#bd3786"
             ],
             [
              0.5555555555555556,
              "#d8576b"
             ],
             [
              0.6666666666666666,
              "#ed7953"
             ],
             [
              0.7777777777777778,
              "#fb9f3a"
             ],
             [
              0.8888888888888888,
              "#fdca26"
             ],
             [
              1,
              "#f0f921"
             ]
            ],
            "type": "contour"
           }
          ],
          "contourcarpet": [
           {
            "colorbar": {
             "outlinewidth": 0,
             "ticks": ""
            },
            "type": "contourcarpet"
           }
          ],
          "heatmap": [
           {
            "colorbar": {
             "outlinewidth": 0,
             "ticks": ""
            },
            "colorscale": [
             [
              0,
              "#0d0887"
             ],
             [
              0.1111111111111111,
              "#46039f"
             ],
             [
              0.2222222222222222,
              "#7201a8"
             ],
             [
              0.3333333333333333,
              "#9c179e"
             ],
             [
              0.4444444444444444,
              "#bd3786"
             ],
             [
              0.5555555555555556,
              "#d8576b"
             ],
             [
              0.6666666666666666,
              "#ed7953"
             ],
             [
              0.7777777777777778,
              "#fb9f3a"
             ],
             [
              0.8888888888888888,
              "#fdca26"
             ],
             [
              1,
              "#f0f921"
             ]
            ],
            "type": "heatmap"
           }
          ],
          "heatmapgl": [
           {
            "colorbar": {
             "outlinewidth": 0,
             "ticks": ""
            },
            "colorscale": [
             [
              0,
              "#0d0887"
             ],
             [
              0.1111111111111111,
              "#46039f"
             ],
             [
              0.2222222222222222,
              "#7201a8"
             ],
             [
              0.3333333333333333,
              "#9c179e"
             ],
             [
              0.4444444444444444,
              "#bd3786"
             ],
             [
              0.5555555555555556,
              "#d8576b"
             ],
             [
              0.6666666666666666,
              "#ed7953"
             ],
             [
              0.7777777777777778,
              "#fb9f3a"
             ],
             [
              0.8888888888888888,
              "#fdca26"
             ],
             [
              1,
              "#f0f921"
             ]
            ],
            "type": "heatmapgl"
           }
          ],
          "histogram": [
           {
            "marker": {
             "pattern": {
              "fillmode": "overlay",
              "size": 10,
              "solidity": 0.2
             }
            },
            "type": "histogram"
           }
          ],
          "histogram2d": [
           {
            "colorbar": {
             "outlinewidth": 0,
             "ticks": ""
            },
            "colorscale": [
             [
              0,
              "#0d0887"
             ],
             [
              0.1111111111111111,
              "#46039f"
             ],
             [
              0.2222222222222222,
              "#7201a8"
             ],
             [
              0.3333333333333333,
              "#9c179e"
             ],
             [
              0.4444444444444444,
              "#bd3786"
             ],
             [
              0.5555555555555556,
              "#d8576b"
             ],
             [
              0.6666666666666666,
              "#ed7953"
             ],
             [
              0.7777777777777778,
              "#fb9f3a"
             ],
             [
              0.8888888888888888,
              "#fdca26"
             ],
             [
              1,
              "#f0f921"
             ]
            ],
            "type": "histogram2d"
           }
          ],
          "histogram2dcontour": [
           {
            "colorbar": {
             "outlinewidth": 0,
             "ticks": ""
            },
            "colorscale": [
             [
              0,
              "#0d0887"
             ],
             [
              0.1111111111111111,
              "#46039f"
             ],
             [
              0.2222222222222222,
              "#7201a8"
             ],
             [
              0.3333333333333333,
              "#9c179e"
             ],
             [
              0.4444444444444444,
              "#bd3786"
             ],
             [
              0.5555555555555556,
              "#d8576b"
             ],
             [
              0.6666666666666666,
              "#ed7953"
             ],
             [
              0.7777777777777778,
              "#fb9f3a"
             ],
             [
              0.8888888888888888,
              "#fdca26"
             ],
             [
              1,
              "#f0f921"
             ]
            ],
            "type": "histogram2dcontour"
           }
          ],
          "mesh3d": [
           {
            "colorbar": {
             "outlinewidth": 0,
             "ticks": ""
            },
            "type": "mesh3d"
           }
          ],
          "parcoords": [
           {
            "line": {
             "colorbar": {
              "outlinewidth": 0,
              "ticks": ""
             }
            },
            "type": "parcoords"
           }
          ],
          "pie": [
           {
            "automargin": true,
            "type": "pie"
           }
          ],
          "scatter": [
           {
            "fillpattern": {
             "fillmode": "overlay",
             "size": 10,
             "solidity": 0.2
            },
            "type": "scatter"
           }
          ],
          "scatter3d": [
           {
            "line": {
             "colorbar": {
              "outlinewidth": 0,
              "ticks": ""
             }
            },
            "marker": {
             "colorbar": {
              "outlinewidth": 0,
              "ticks": ""
             }
            },
            "type": "scatter3d"
           }
          ],
          "scattercarpet": [
           {
            "marker": {
             "colorbar": {
              "outlinewidth": 0,
              "ticks": ""
             }
            },
            "type": "scattercarpet"
           }
          ],
          "scattergeo": [
           {
            "marker": {
             "colorbar": {
              "outlinewidth": 0,
              "ticks": ""
             }
            },
            "type": "scattergeo"
           }
          ],
          "scattergl": [
           {
            "marker": {
             "colorbar": {
              "outlinewidth": 0,
              "ticks": ""
             }
            },
            "type": "scattergl"
           }
          ],
          "scattermapbox": [
           {
            "marker": {
             "colorbar": {
              "outlinewidth": 0,
              "ticks": ""
             }
            },
            "type": "scattermapbox"
           }
          ],
          "scatterpolar": [
           {
            "marker": {
             "colorbar": {
              "outlinewidth": 0,
              "ticks": ""
             }
            },
            "type": "scatterpolar"
           }
          ],
          "scatterpolargl": [
           {
            "marker": {
             "colorbar": {
              "outlinewidth": 0,
              "ticks": ""
             }
            },
            "type": "scatterpolargl"
           }
          ],
          "scatterternary": [
           {
            "marker": {
             "colorbar": {
              "outlinewidth": 0,
              "ticks": ""
             }
            },
            "type": "scatterternary"
           }
          ],
          "surface": [
           {
            "colorbar": {
             "outlinewidth": 0,
             "ticks": ""
            },
            "colorscale": [
             [
              0,
              "#0d0887"
             ],
             [
              0.1111111111111111,
              "#46039f"
             ],
             [
              0.2222222222222222,
              "#7201a8"
             ],
             [
              0.3333333333333333,
              "#9c179e"
             ],
             [
              0.4444444444444444,
              "#bd3786"
             ],
             [
              0.5555555555555556,
              "#d8576b"
             ],
             [
              0.6666666666666666,
              "#ed7953"
             ],
             [
              0.7777777777777778,
              "#fb9f3a"
             ],
             [
              0.8888888888888888,
              "#fdca26"
             ],
             [
              1,
              "#f0f921"
             ]
            ],
            "type": "surface"
           }
          ],
          "table": [
           {
            "cells": {
             "fill": {
              "color": "#EBF0F8"
             },
             "line": {
              "color": "white"
             }
            },
            "header": {
             "fill": {
              "color": "#C8D4E3"
             },
             "line": {
              "color": "white"
             }
            },
            "type": "table"
           }
          ]
         },
         "layout": {
          "annotationdefaults": {
           "arrowcolor": "#2a3f5f",
           "arrowhead": 0,
           "arrowwidth": 1
          },
          "autotypenumbers": "strict",
          "coloraxis": {
           "colorbar": {
            "outlinewidth": 0,
            "ticks": ""
           }
          },
          "colorscale": {
           "diverging": [
            [
             0,
             "#8e0152"
            ],
            [
             0.1,
             "#c51b7d"
            ],
            [
             0.2,
             "#de77ae"
            ],
            [
             0.3,
             "#f1b6da"
            ],
            [
             0.4,
             "#fde0ef"
            ],
            [
             0.5,
             "#f7f7f7"
            ],
            [
             0.6,
             "#e6f5d0"
            ],
            [
             0.7,
             "#b8e186"
            ],
            [
             0.8,
             "#7fbc41"
            ],
            [
             0.9,
             "#4d9221"
            ],
            [
             1,
             "#276419"
            ]
           ],
           "sequential": [
            [
             0,
             "#0d0887"
            ],
            [
             0.1111111111111111,
             "#46039f"
            ],
            [
             0.2222222222222222,
             "#7201a8"
            ],
            [
             0.3333333333333333,
             "#9c179e"
            ],
            [
             0.4444444444444444,
             "#bd3786"
            ],
            [
             0.5555555555555556,
             "#d8576b"
            ],
            [
             0.6666666666666666,
             "#ed7953"
            ],
            [
             0.7777777777777778,
             "#fb9f3a"
            ],
            [
             0.8888888888888888,
             "#fdca26"
            ],
            [
             1,
             "#f0f921"
            ]
           ],
           "sequentialminus": [
            [
             0,
             "#0d0887"
            ],
            [
             0.1111111111111111,
             "#46039f"
            ],
            [
             0.2222222222222222,
             "#7201a8"
            ],
            [
             0.3333333333333333,
             "#9c179e"
            ],
            [
             0.4444444444444444,
             "#bd3786"
            ],
            [
             0.5555555555555556,
             "#d8576b"
            ],
            [
             0.6666666666666666,
             "#ed7953"
            ],
            [
             0.7777777777777778,
             "#fb9f3a"
            ],
            [
             0.8888888888888888,
             "#fdca26"
            ],
            [
             1,
             "#f0f921"
            ]
           ]
          },
          "colorway": [
           "#636efa",
           "#EF553B",
           "#00cc96",
           "#ab63fa",
           "#FFA15A",
           "#19d3f3",
           "#FF6692",
           "#B6E880",
           "#FF97FF",
           "#FECB52"
          ],
          "font": {
           "color": "#2a3f5f"
          },
          "geo": {
           "bgcolor": "white",
           "lakecolor": "white",
           "landcolor": "white",
           "showlakes": true,
           "showland": true,
           "subunitcolor": "#C8D4E3"
          },
          "hoverlabel": {
           "align": "left"
          },
          "hovermode": "closest",
          "mapbox": {
           "style": "light"
          },
          "paper_bgcolor": "white",
          "plot_bgcolor": "white",
          "polar": {
           "angularaxis": {
            "gridcolor": "#EBF0F8",
            "linecolor": "#EBF0F8",
            "ticks": ""
           },
           "bgcolor": "white",
           "radialaxis": {
            "gridcolor": "#EBF0F8",
            "linecolor": "#EBF0F8",
            "ticks": ""
           }
          },
          "scene": {
           "xaxis": {
            "backgroundcolor": "white",
            "gridcolor": "#DFE8F3",
            "gridwidth": 2,
            "linecolor": "#EBF0F8",
            "showbackground": true,
            "ticks": "",
            "zerolinecolor": "#EBF0F8"
           },
           "yaxis": {
            "backgroundcolor": "white",
            "gridcolor": "#DFE8F3",
            "gridwidth": 2,
            "linecolor": "#EBF0F8",
            "showbackground": true,
            "ticks": "",
            "zerolinecolor": "#EBF0F8"
           },
           "zaxis": {
            "backgroundcolor": "white",
            "gridcolor": "#DFE8F3",
            "gridwidth": 2,
            "linecolor": "#EBF0F8",
            "showbackground": true,
            "ticks": "",
            "zerolinecolor": "#EBF0F8"
           }
          },
          "shapedefaults": {
           "line": {
            "color": "#2a3f5f"
           }
          },
          "ternary": {
           "aaxis": {
            "gridcolor": "#DFE8F3",
            "linecolor": "#A2B1C6",
            "ticks": ""
           },
           "baxis": {
            "gridcolor": "#DFE8F3",
            "linecolor": "#A2B1C6",
            "ticks": ""
           },
           "bgcolor": "white",
           "caxis": {
            "gridcolor": "#DFE8F3",
            "linecolor": "#A2B1C6",
            "ticks": ""
           }
          },
          "title": {
           "x": 0.05
          },
          "xaxis": {
           "automargin": true,
           "gridcolor": "#EBF0F8",
           "linecolor": "#EBF0F8",
           "ticks": "",
           "title": {
            "standoff": 15
           },
           "zerolinecolor": "#EBF0F8",
           "zerolinewidth": 2
          },
          "yaxis": {
           "automargin": true,
           "gridcolor": "#EBF0F8",
           "linecolor": "#EBF0F8",
           "ticks": "",
           "title": {
            "standoff": 15
           },
           "zerolinecolor": "#EBF0F8",
           "zerolinewidth": 2
          }
         }
        },
        "title": {
         "font": {
          "color": "black",
          "size": 18
         },
         "text": "Sentiment Percentage Over the Last 6 Years",
         "x": 0.5,
         "xanchor": "center"
        },
        "width": 1200,
        "xaxis": {
         "anchor": "y",
         "domain": [
          0,
          1
         ],
         "showgrid": false,
         "showline": false,
         "title": {
          "text": ""
         },
         "zeroline": false
        },
        "yaxis": {
         "anchor": "x",
         "domain": [
          0,
          1
         ],
         "range": [
          0,
          100
         ],
         "showgrid": true,
         "showline": false,
         "ticksuffix": "%",
         "title": {
          "text": "Percentage of Reviews"
         }
        }
       }
      }
     },
     "metadata": {},
     "output_type": "display_data"
    }
   ],
   "source": [
    "def plotSentimentTrend(df, years_limit = 6):\n",
    "    # Convert date to datetime format and handle missing values\n",
    "    df['date'] = pd.to_datetime(df['date'], errors='coerce')\n",
    "    df = df.dropna(subset=['date'])\n",
    "    \n",
    "    # Filter only the last 6 years\n",
    "    last_six_years = datetime.datetime.now() - pd.DateOffset(years=years_limit)\n",
    "    df = df[df['date'] >= last_six_years]\n",
    "\n",
    "    # Set date as index for resampling\n",
    "    df.set_index('date', inplace=True)\n",
    "    \n",
    "    # Resample to monthly and count sentiments\n",
    "    sentiment_counts = df.resample('M')['sentiment_label'].value_counts().unstack().fillna(0)\n",
    "\n",
    "    # Calculate the percentage for each sentiment type\n",
    "    sentiment_percentage = sentiment_counts.div(sentiment_counts.sum(axis=1), axis=0) * 100\n",
    "    sentiment_percentage = sentiment_percentage.round(2)\n",
    "    sentiment_percentage = sentiment_percentage.reset_index().melt(id_vars=['date'], value_name='percentage', var_name='sentiment_label')\n",
    "    \n",
    "    # Plot sentiment percentage evolution\n",
    "    fig = px.area(\n",
    "        sentiment_percentage,\n",
    "        x='date',\n",
    "        y='percentage',\n",
    "        color='sentiment_label',\n",
    "        title='Sentiment Percentage Over the Last 6 Years',\n",
    "        labels={'date': '', 'percentage': 'Percentage of Reviews (%)', 'sentiment_label': 'Sentiment'},\n",
    "        template='plotly_white',\n",
    "    )\n",
    "\n",
    "    # Customize layout\n",
    "    fig.update_layout(\n",
    "        title=dict(x=0.5, xanchor='center', font=dict(size=18, color='black')),\n",
    "        xaxis=dict(showgrid=False, zeroline=False),\n",
    "        yaxis=dict(showgrid=True, title='Percentage of Reviews', ticksuffix='%'),\n",
    "        legend=dict(title='', orientation='h', yanchor='bottom', y=1.02, xanchor='right', x=1),\n",
    "        margin=dict(l=20, r=20, t=50, b=20),\n",
    "        plot_bgcolor='rgba(0,0,0,0)',\n",
    "        hovermode='x unified',\n",
    "        width=1200,\n",
    "        height=400,\n",
    "    )\n",
    "\n",
    "    # Customize color for sentiment categories\n",
    "    color_map = {\n",
    "        'positive': 'rgba(102, 194, 165, 0.7)', \n",
    "        'neutral': 'rgba(141, 160, 203, 0.7)', \n",
    "        'negative': 'rgba(252, 141, 98, 0.7)'\n",
    "    }\n",
    "    fig.for_each_trace(lambda trace: trace.update(line=dict(width=0, shape='spline'), fill='tonexty', fillcolor=color_map.get(trace.name, 'rgba(150, 150, 150, 0.5)')))\n",
    "\n",
    "    # Remove the plot frame and keep the visualization as clean as possible\n",
    "    fig.update_xaxes(showline=False)\n",
    "    fig.update_yaxes(showline=False, range=[0, 100])  # Percentage scale from 0 to 100\n",
    "\n",
    "    fig.show()\n",
    "\n",
    "plotSentimentTrend(reviews)"
   ]
  },
  {
   "cell_type": "code",
   "execution_count": 97,
   "metadata": {},
   "outputs": [
    {
     "name": "stdout",
     "output_type": "stream",
     "text": [
      "Top 10 Positive Words: [('hamburguesa', 128), ('buen', 118), ('comida', 66), ('lugar', 65), ('servicio', 48), ('sitio', 46), ('bien', 44), ('mejor', 42), ('precio', 41), ('ambiente', 36)]\n",
      "Top 10 Negative Words: [('ir', 10), ('café', 10), ('vez', 8), ('ver', 8), ('si', 8), ('pedir', 8), ('sitio', 7), ('servicio', 7), ('comida', 7), ('parecer', 6)]\n"
     ]
    }
   ],
   "source": [
    "# Extract common positive and negative phrases\n",
    "common_positive_phrases = extract_common_phrases(reviews, sentiment_label = 'positive', n = 10)\n",
    "common_negative_phrases = extract_common_phrases(reviews, sentiment_label = 'negative', n = 10)\n",
    "\n",
    "# Display results\n",
    "print(\"Top 10 Positive Words:\", common_positive_phrases)\n",
    "print(\"Top 10 Negative Words:\", common_negative_phrases)"
   ]
  },
  {
   "cell_type": "code",
   "execution_count": 96,
   "metadata": {},
   "outputs": [
    {
     "name": "stdout",
     "output_type": "stream",
     "text": [
      "Top Positive Bigrams: [('comida buen', 11), ('buen ambiente', 11), ('mejor hamburguesa', 11), ('buen comida', 10), ('buen servicio', 9), ('buen lugar', 8), ('aro cebolla', 7), ('hamburguesa rico', 7), ('precio razonable', 7), ('hamburguesa italiano', 6)]\n",
      "Top Negative Bigrams: [('ver foto', 3), ('merecer pena', 3), ('nunca tanto', 2), ('si solo', 2), ('último vez', 2), ('huevo revuelto', 2), ('dar yo', 2), ('acompañar hamburguesa', 2), ('pan mohoso', 2), ('gofre frío', 1)]\n"
     ]
    }
   ],
   "source": [
    "def extract_common_ngrams(df, sentiment_label='positive', n=2, top_n=10):\n",
    "    # Filter reviews by sentiment label\n",
    "    filtered_reviews = df[df['sentiment_label'] == sentiment_label]['cleaned_review'].fillna('').tolist()\n",
    "    \n",
    "    # Create n-grams for the given sentiment label\n",
    "    vectorizer = CountVectorizer(ngram_range=(n, n)).fit(filtered_reviews)\n",
    "    ngram_counts = vectorizer.transform(filtered_reviews).sum(axis=0)\n",
    "    \n",
    "    # Create a list of n-grams with their counts\n",
    "    ngram_freq = [(word, ngram_counts[0, idx]) for word, idx in vectorizer.vocabulary_.items()]\n",
    "    sorted_ngrams = sorted(ngram_freq, key=lambda x: x[1], reverse=True)[:top_n]\n",
    "    \n",
    "    return sorted_ngrams\n",
    "\n",
    "# Extract common positive and negative bigrams\n",
    "common_positive_bigrams = extract_common_ngrams(reviews, sentiment_label='positive', n=2, top_n=10)\n",
    "common_negative_bigrams = extract_common_ngrams(reviews, sentiment_label='negative', n=2, top_n=10)\n",
    "\n",
    "# Display results\n",
    "print(\"Top Positive Bigrams:\", common_positive_bigrams)\n",
    "print(\"Top Negative Bigrams:\", common_negative_bigrams)"
   ]
  },
  {
   "cell_type": "code",
   "execution_count": 133,
   "metadata": {},
   "outputs": [
    {
     "name": "stdout",
     "output_type": "stream",
     "text": [
      "Top Most Recommended: [('Hamburguesa Completa Con Huevo', 9), ('Hamburguesa Americana', 7), ('Hamburguesa Italiana', 6)]\n",
      "Least Recommended : ['Plaza de aparcamiento', 'Flan de Queso', 'Gofre Con Nocilla', 'Grandburguer HD', 'Hamburger', 'Hamburguesa Con Huevo', 'Tarta de Manzana', 'Tataki de Atún', 'Cheesecake', 'Hamburguesa Gallega', 'Brunch Con Baggel Salmón']\n"
     ]
    }
   ],
   "source": [
    "\n",
    "def analyzeRecommendations(df):\n",
    "    all_dishes = []\n",
    "\n",
    "    # Convert string representation of lists to actual lists and extend all_dishes\n",
    "    for item in df['recommendations_list'].dropna():\n",
    "        try:\n",
    "            dishes = ast.literal_eval(item)\n",
    "            if isinstance(dishes, list):\n",
    "                all_dishes.extend(dishes)\n",
    "        except:\n",
    "            continue\n",
    "\n",
    "    # Filter out empty values\n",
    "    all_dishes = [dish for dish in all_dishes if dish.strip() != '']\n",
    "\n",
    "    # Count the frequency of each dish\n",
    "    dish_counts = Counter(all_dishes)\n",
    "\n",
    "    # Most and least recommended dishes\n",
    "    most_common_dishes = dish_counts.most_common(3)\n",
    "    min_count = min(dish_counts.values())\n",
    "    worst_dishes = [dish for dish, count in dish_counts.items() if count == min_count]\n",
    "\n",
    "    print(\"Top Most Recommended:\", most_common_dishes)\n",
    "    print(\"Least Recommended :\", worst_dishes)\n",
    "\n",
    "# Apply the function\n",
    "analyzeRecommendations(reviews)\n"
   ]
  },
  {
   "cell_type": "markdown",
   "metadata": {},
   "source": [
    "#### Analyze embeddings"
   ]
  },
  {
   "cell_type": "code",
   "execution_count": 129,
   "metadata": {},
   "outputs": [
    {
     "data": {
      "application/vnd.plotly.v1+json": {
       "config": {
        "plotlyServerURL": "https://plot.ly"
       },
       "data": [
        {
         "customdata": [
          [
           0,
           5
          ],
          [
           1,
           4
          ],
          [
           2,
           5
          ],
          [
           3,
           3
          ],
          [
           5,
           5
          ],
          [
           6,
           5
          ],
          [
           7,
           2
          ],
          [
           8,
           5
          ],
          [
           9,
           5
          ],
          [
           10,
           5
          ],
          [
           11,
           2
          ],
          [
           12,
           5
          ],
          [
           13,
           5
          ],
          [
           14,
           5
          ],
          [
           15,
           1
          ],
          [
           16,
           5
          ],
          [
           17,
           5
          ],
          [
           19,
           3
          ],
          [
           20,
           5
          ],
          [
           21,
           4
          ],
          [
           22,
           5
          ],
          [
           23,
           5
          ],
          [
           24,
           5
          ],
          [
           25,
           5
          ],
          [
           26,
           5
          ],
          [
           27,
           4
          ],
          [
           28,
           5
          ],
          [
           29,
           5
          ],
          [
           30,
           5
          ],
          [
           31,
           1
          ],
          [
           32,
           4
          ],
          [
           33,
           5
          ],
          [
           34,
           4
          ],
          [
           35,
           4
          ],
          [
           36,
           5
          ],
          [
           37,
           2
          ],
          [
           39,
           3
          ],
          [
           40,
           5
          ],
          [
           41,
           5
          ],
          [
           42,
           5
          ],
          [
           43,
           4
          ],
          [
           44,
           5
          ],
          [
           45,
           5
          ],
          [
           46,
           5
          ],
          [
           47,
           2
          ],
          [
           48,
           5
          ],
          [
           49,
           5
          ],
          [
           50,
           5
          ],
          [
           51,
           5
          ],
          [
           52,
           5
          ],
          [
           53,
           4
          ],
          [
           54,
           2
          ],
          [
           55,
           5
          ],
          [
           56,
           5
          ],
          [
           57,
           5
          ],
          [
           58,
           5
          ],
          [
           59,
           5
          ],
          [
           60,
           4
          ],
          [
           61,
           4
          ],
          [
           62,
           5
          ],
          [
           63,
           2
          ],
          [
           64,
           3
          ],
          [
           65,
           3
          ],
          [
           66,
           4
          ],
          [
           67,
           4
          ],
          [
           68,
           4
          ],
          [
           69,
           4
          ],
          [
           70,
           5
          ],
          [
           71,
           5
          ],
          [
           72,
           4
          ],
          [
           73,
           4
          ],
          [
           74,
           5
          ],
          [
           75,
           2
          ],
          [
           76,
           5
          ],
          [
           77,
           4
          ],
          [
           78,
           5
          ],
          [
           79,
           4
          ],
          [
           80,
           5
          ],
          [
           81,
           5
          ],
          [
           82,
           5
          ],
          [
           83,
           3
          ],
          [
           84,
           5
          ],
          [
           85,
           5
          ],
          [
           86,
           5
          ],
          [
           87,
           5
          ],
          [
           88,
           2
          ],
          [
           89,
           4
          ],
          [
           90,
           5
          ],
          [
           91,
           3
          ],
          [
           92,
           4
          ],
          [
           93,
           5
          ],
          [
           94,
           2
          ],
          [
           95,
           3
          ],
          [
           96,
           4
          ],
          [
           97,
           5
          ],
          [
           98,
           5
          ],
          [
           99,
           5
          ],
          [
           100,
           1
          ],
          [
           101,
           5
          ],
          [
           102,
           4
          ],
          [
           103,
           5
          ],
          [
           104,
           5
          ],
          [
           105,
           4
          ],
          [
           106,
           5
          ],
          [
           107,
           5
          ],
          [
           108,
           4
          ],
          [
           109,
           4
          ],
          [
           110,
           5
          ],
          [
           111,
           2
          ],
          [
           112,
           5
          ],
          [
           113,
           5
          ],
          [
           114,
           4
          ],
          [
           115,
           5
          ],
          [
           116,
           5
          ],
          [
           117,
           5
          ],
          [
           118,
           4
          ],
          [
           119,
           4
          ],
          [
           120,
           5
          ],
          [
           121,
           5
          ],
          [
           122,
           5
          ],
          [
           123,
           4
          ],
          [
           124,
           4
          ],
          [
           125,
           5
          ],
          [
           126,
           4
          ],
          [
           127,
           5
          ],
          [
           128,
           4
          ],
          [
           129,
           3
          ],
          [
           130,
           5
          ],
          [
           131,
           5
          ],
          [
           132,
           5
          ],
          [
           133,
           5
          ],
          [
           134,
           5
          ],
          [
           135,
           4
          ],
          [
           136,
           2
          ],
          [
           137,
           4
          ],
          [
           138,
           4
          ],
          [
           139,
           5
          ],
          [
           140,
           5
          ],
          [
           141,
           5
          ],
          [
           142,
           4
          ],
          [
           143,
           5
          ],
          [
           144,
           3
          ],
          [
           145,
           5
          ],
          [
           146,
           5
          ],
          [
           147,
           3
          ],
          [
           148,
           4
          ],
          [
           149,
           4
          ],
          [
           150,
           5
          ],
          [
           151,
           5
          ],
          [
           152,
           3
          ],
          [
           153,
           3
          ],
          [
           154,
           5
          ],
          [
           155,
           5
          ],
          [
           156,
           5
          ],
          [
           157,
           1
          ],
          [
           158,
           4
          ],
          [
           159,
           5
          ],
          [
           160,
           5
          ],
          [
           161,
           5
          ],
          [
           162,
           5
          ],
          [
           163,
           5
          ],
          [
           164,
           5
          ],
          [
           165,
           4
          ],
          [
           166,
           2
          ],
          [
           167,
           4
          ],
          [
           168,
           4
          ],
          [
           169,
           5
          ],
          [
           170,
           3
          ],
          [
           171,
           3
          ],
          [
           172,
           5
          ],
          [
           173,
           4
          ],
          [
           174,
           5
          ],
          [
           175,
           3
          ],
          [
           176,
           5
          ],
          [
           177,
           5
          ],
          [
           178,
           4
          ],
          [
           179,
           5
          ],
          [
           180,
           5
          ],
          [
           181,
           4
          ],
          [
           182,
           5
          ],
          [
           183,
           5
          ],
          [
           184,
           5
          ],
          [
           185,
           5
          ],
          [
           186,
           2
          ],
          [
           187,
           4
          ],
          [
           188,
           5
          ],
          [
           189,
           5
          ],
          [
           190,
           5
          ],
          [
           191,
           5
          ],
          [
           192,
           5
          ],
          [
           193,
           5
          ],
          [
           194,
           1
          ],
          [
           195,
           2
          ],
          [
           196,
           4
          ],
          [
           197,
           5
          ],
          [
           198,
           5
          ],
          [
           199,
           5
          ],
          [
           200,
           5
          ],
          [
           201,
           5
          ],
          [
           202,
           5
          ],
          [
           203,
           4
          ],
          [
           204,
           4
          ],
          [
           205,
           4
          ],
          [
           206,
           5
          ],
          [
           207,
           5
          ],
          [
           208,
           5
          ],
          [
           209,
           5
          ],
          [
           210,
           4
          ],
          [
           211,
           4
          ],
          [
           212,
           5
          ],
          [
           213,
           4
          ],
          [
           214,
           5
          ],
          [
           215,
           5
          ],
          [
           216,
           5
          ],
          [
           217,
           5
          ],
          [
           218,
           5
          ],
          [
           219,
           5
          ],
          [
           220,
           4
          ],
          [
           221,
           5
          ],
          [
           222,
           5
          ],
          [
           223,
           5
          ],
          [
           224,
           5
          ],
          [
           225,
           3
          ],
          [
           226,
           4
          ],
          [
           227,
           5
          ],
          [
           228,
           5
          ],
          [
           229,
           5
          ],
          [
           230,
           5
          ],
          [
           231,
           5
          ],
          [
           232,
           5
          ],
          [
           233,
           5
          ],
          [
           234,
           5
          ],
          [
           235,
           5
          ],
          [
           236,
           4
          ],
          [
           237,
           5
          ],
          [
           238,
           3
          ],
          [
           239,
           3
          ],
          [
           240,
           4
          ],
          [
           241,
           4
          ],
          [
           242,
           5
          ],
          [
           243,
           5
          ],
          [
           244,
           5
          ],
          [
           245,
           5
          ],
          [
           246,
           4
          ],
          [
           247,
           5
          ],
          [
           248,
           4
          ],
          [
           249,
           5
          ],
          [
           250,
           4
          ],
          [
           251,
           5
          ],
          [
           252,
           4
          ],
          [
           253,
           5
          ],
          [
           254,
           2
          ],
          [
           255,
           5
          ],
          [
           256,
           5
          ],
          [
           257,
           4
          ],
          [
           258,
           4
          ],
          [
           259,
           4
          ],
          [
           260,
           4
          ],
          [
           261,
           4
          ],
          [
           262,
           3
          ],
          [
           263,
           4
          ],
          [
           264,
           5
          ],
          [
           265,
           5
          ],
          [
           266,
           3
          ],
          [
           267,
           5
          ],
          [
           268,
           5
          ],
          [
           269,
           4
          ],
          [
           270,
           5
          ],
          [
           271,
           5
          ],
          [
           272,
           5
          ],
          [
           273,
           5
          ],
          [
           274,
           5
          ],
          [
           275,
           4
          ],
          [
           276,
           2
          ],
          [
           277,
           5
          ],
          [
           278,
           5
          ],
          [
           279,
           5
          ],
          [
           280,
           5
          ],
          [
           281,
           5
          ],
          [
           282,
           4
          ],
          [
           283,
           5
          ],
          [
           284,
           1
          ],
          [
           285,
           5
          ],
          [
           286,
           5
          ],
          [
           287,
           3
          ],
          [
           288,
           5
          ],
          [
           289,
           4
          ],
          [
           290,
           5
          ],
          [
           292,
           5
          ],
          [
           293,
           5
          ],
          [
           294,
           5
          ],
          [
           295,
           5
          ],
          [
           296,
           5
          ],
          [
           297,
           2
          ],
          [
           298,
           4
          ],
          [
           299,
           5
          ],
          [
           300,
           5
          ],
          [
           301,
           5
          ],
          [
           302,
           3
          ],
          [
           303,
           5
          ],
          [
           304,
           3
          ],
          [
           305,
           4
          ],
          [
           306,
           4
          ],
          [
           307,
           5
          ],
          [
           308,
           1
          ],
          [
           309,
           5
          ],
          [
           310,
           4
          ],
          [
           311,
           5
          ],
          [
           312,
           5
          ],
          [
           313,
           4
          ],
          [
           314,
           5
          ],
          [
           315,
           5
          ],
          [
           316,
           5
          ],
          [
           317,
           5
          ],
          [
           318,
           4
          ],
          [
           319,
           5
          ],
          [
           320,
           5
          ],
          [
           321,
           4
          ],
          [
           322,
           5
          ],
          [
           323,
           4
          ],
          [
           324,
           5
          ],
          [
           325,
           5
          ],
          [
           326,
           3
          ],
          [
           327,
           3
          ],
          [
           328,
           3
          ],
          [
           329,
           4
          ],
          [
           330,
           5
          ],
          [
           331,
           4
          ],
          [
           332,
           5
          ],
          [
           333,
           5
          ],
          [
           334,
           5
          ],
          [
           335,
           1
          ],
          [
           336,
           5
          ],
          [
           337,
           4
          ],
          [
           338,
           5
          ],
          [
           339,
           5
          ],
          [
           340,
           4
          ],
          [
           341,
           4
          ],
          [
           342,
           5
          ],
          [
           343,
           5
          ],
          [
           344,
           5
          ],
          [
           345,
           5
          ],
          [
           346,
           4
          ],
          [
           347,
           5
          ],
          [
           348,
           4
          ],
          [
           349,
           5
          ],
          [
           350,
           4
          ],
          [
           351,
           5
          ],
          [
           352,
           5
          ],
          [
           353,
           4
          ],
          [
           354,
           5
          ],
          [
           355,
           1
          ],
          [
           356,
           4
          ],
          [
           357,
           5
          ],
          [
           358,
           5
          ],
          [
           359,
           1
          ]
         ],
         "hovertemplate": "PCA 1 (46.9% variance)=%{x}<br>PCA 2 (4.6% variance)=%{y}<br>Review ID=%{customdata[0]}<br>Rating Score=%{marker.color}<extra></extra>",
         "legendgroup": "",
         "marker": {
          "color": [
           5,
           4,
           5,
           3,
           5,
           5,
           2,
           5,
           5,
           5,
           2,
           5,
           5,
           5,
           1,
           5,
           5,
           3,
           5,
           4,
           5,
           5,
           5,
           5,
           5,
           4,
           5,
           5,
           5,
           1,
           4,
           5,
           4,
           4,
           5,
           2,
           3,
           5,
           5,
           5,
           4,
           5,
           5,
           5,
           2,
           5,
           5,
           5,
           5,
           5,
           4,
           2,
           5,
           5,
           5,
           5,
           5,
           4,
           4,
           5,
           2,
           3,
           3,
           4,
           4,
           4,
           4,
           5,
           5,
           4,
           4,
           5,
           2,
           5,
           4,
           5,
           4,
           5,
           5,
           5,
           3,
           5,
           5,
           5,
           5,
           2,
           4,
           5,
           3,
           4,
           5,
           2,
           3,
           4,
           5,
           5,
           5,
           1,
           5,
           4,
           5,
           5,
           4,
           5,
           5,
           4,
           4,
           5,
           2,
           5,
           5,
           4,
           5,
           5,
           5,
           4,
           4,
           5,
           5,
           5,
           4,
           4,
           5,
           4,
           5,
           4,
           3,
           5,
           5,
           5,
           5,
           5,
           4,
           2,
           4,
           4,
           5,
           5,
           5,
           4,
           5,
           3,
           5,
           5,
           3,
           4,
           4,
           5,
           5,
           3,
           3,
           5,
           5,
           5,
           1,
           4,
           5,
           5,
           5,
           5,
           5,
           5,
           4,
           2,
           4,
           4,
           5,
           3,
           3,
           5,
           4,
           5,
           3,
           5,
           5,
           4,
           5,
           5,
           4,
           5,
           5,
           5,
           5,
           2,
           4,
           5,
           5,
           5,
           5,
           5,
           5,
           1,
           2,
           4,
           5,
           5,
           5,
           5,
           5,
           5,
           4,
           4,
           4,
           5,
           5,
           5,
           5,
           4,
           4,
           5,
           4,
           5,
           5,
           5,
           5,
           5,
           5,
           4,
           5,
           5,
           5,
           5,
           3,
           4,
           5,
           5,
           5,
           5,
           5,
           5,
           5,
           5,
           5,
           4,
           5,
           3,
           3,
           4,
           4,
           5,
           5,
           5,
           5,
           4,
           5,
           4,
           5,
           4,
           5,
           4,
           5,
           2,
           5,
           5,
           4,
           4,
           4,
           4,
           4,
           3,
           4,
           5,
           5,
           3,
           5,
           5,
           4,
           5,
           5,
           5,
           5,
           5,
           4,
           2,
           5,
           5,
           5,
           5,
           5,
           4,
           5,
           1,
           5,
           5,
           3,
           5,
           4,
           5,
           5,
           5,
           5,
           5,
           5,
           2,
           4,
           5,
           5,
           5,
           3,
           5,
           3,
           4,
           4,
           5,
           1,
           5,
           4,
           5,
           5,
           4,
           5,
           5,
           5,
           5,
           4,
           5,
           5,
           4,
           5,
           4,
           5,
           5,
           3,
           3,
           3,
           4,
           5,
           4,
           5,
           5,
           5,
           1,
           5,
           4,
           5,
           5,
           4,
           4,
           5,
           5,
           5,
           5,
           4,
           5,
           4,
           5,
           4,
           5,
           5,
           4,
           5,
           1,
           4,
           5,
           5,
           1
          ],
          "coloraxis": "coloraxis",
          "symbol": "circle"
         },
         "mode": "markers",
         "name": "",
         "orientation": "v",
         "showlegend": false,
         "type": "scatter",
         "x": [
          -2.4370505809783936,
          -3.0683131217956543,
          -2.908118724822998,
          -2.5726358890533447,
          -2.4835500717163086,
          -2.839911937713623,
          -2.8577959537506104,
          -3.2355873584747314,
          -3.302680730819702,
          -2.6953558921813965,
          -3.385045289993286,
          -3.2406904697418213,
          -2.9788639545440674,
          -3.148211717605591,
          -3.0591604709625244,
          -3.1720798015594482,
          -3.0792486667633057,
          -3.835634708404541,
          -2.7430455684661865,
          -3.876093864440918,
          -2.7272677421569824,
          -3.297835350036621,
          -3.3312861919403076,
          -3.504434823989868,
          -3.268798828125,
          -2.5115060806274414,
          -3.4578654766082764,
          -3.747722864151001,
          -2.651416778564453,
          -2.8342766761779785,
          -3.067267894744873,
          -2.5882954597473145,
          -3.3831090927124023,
          -3.5948486328125,
          -3.723057270050049,
          -3.4858601093292236,
          -3.199787139892578,
          -3.234116792678833,
          -3.341228485107422,
          -3.1768429279327393,
          -2.610909938812256,
          -3.3334062099456787,
          -3.611391544342041,
          -3.3093795776367188,
          -3.8131673336029053,
          -3.1803386211395264,
          -3.565053701400757,
          -1.620466947555542,
          -3.0153801441192627,
          -3.8235273361206055,
          -2.7562172412872314,
          -3.2799007892608643,
          -3.2538723945617676,
          -2.979839563369751,
          -3.302000045776367,
          -2.7288260459899902,
          -3.078360080718994,
          -3.7460947036743164,
          -3.3359577655792236,
          -2.843777894973755,
          -2.560455322265625,
          -2.2216765880584717,
          -2.4661331176757812,
          -3.412703037261963,
          -2.964184522628784,
          -2.9131436347961426,
          -2.9372715950012207,
          -3.1037259101867676,
          -2.233642578125,
          -3.2147998809814453,
          -3.819972038269043,
          -2.4374985694885254,
          -3.7797346115112305,
          -2.616586923599243,
          -3.3572232723236084,
          -2.252666473388672,
          -2.0765414237976074,
          -2.351619005203247,
          -1.9062329530715942,
          -2.2362160682678223,
          -1.6067168712615967,
          -3.117492198944092,
          -2.6738781929016113,
          -2.9007933139801025,
          -2.53852915763855,
          -3.2189297676086426,
          -2.5835814476013184,
          -2.612861156463623,
          -2.3791491985321045,
          -2.912545680999756,
          -2.815406084060669,
          -4.221362113952637,
          -3.666323184967041,
          -3.701671838760376,
          -3.097437620162964,
          -2.8884668350219727,
          -3.0997633934020996,
          -3.149674415588379,
          -2.4285919666290283,
          -2.2322566509246826,
          -3.265747308731079,
          -2.8535990715026855,
          -2.6948342323303223,
          -3.705956220626831,
          -2.753775119781494,
          -3.3056232929229736,
          -2.9445688724517822,
          -2.292863130569458,
          -3.24219012260437,
          -2.9179584980010986,
          -2.7717950344085693,
          -3.238978862762451,
          -3.3007864952087402,
          -2.7939531803131104,
          -3.415785789489746,
          -3.041109800338745,
          -0.9481673240661621,
          -3.2700321674346924,
          -3.1258487701416016,
          -2.864910840988159,
          -2.963573694229126,
          -2.4255363941192627,
          -2.6969656944274902,
          -2.2553980350494385,
          -2.438136100769043,
          -3.0974037647247314,
          -3.0789742469787598,
          -2.3333516120910645,
          -3.326817512512207,
          -2.344135046005249,
          -2.773448944091797,
          -3.0582854747772217,
          -2.8385138511657715,
          -3.175682306289673,
          -2.947139263153076,
          -2.103379487991333,
          -2.9711222648620605,
          -3.4819176197052,
          -2.792890787124634,
          -2.5991621017456055,
          -2.636826515197754,
          -3.4917447566986084,
          -3.2098228931427,
          -1.729453206062317,
          -2.121798515319824,
          -1.763685941696167,
          -3.165405750274658,
          -2.6269924640655518,
          -2.924186944961548,
          -3.486783266067505,
          -2.6947193145751953,
          -3.389781951904297,
          -2.0879263877868652,
          -2.3383634090423584,
          -2.8186330795288086,
          -2.6656973361968994,
          -2.161259651184082,
          -2.3709049224853516,
          -1.7305142879486084,
          -1.6044667959213257,
          -2.9976541996002197,
          -2.9459805488586426,
          -2.1562469005584717,
          -1.4493427276611328,
          -2.872313976287842,
          -3.004105567932129,
          -2.7869789600372314,
          -2.511218786239624,
          -3.0716071128845215,
          -1.481555700302124,
          -2.0364797115325928,
          -3.1370067596435547,
          -3.2252416610717773,
          -2.985389471054077,
          -2.7676305770874023,
          -3.375548839569092,
          -3.0952632427215576,
          -3.884596109390259,
          -2.8967978954315186,
          -3.4844579696655273,
          -1.7381614446640015,
          -2.8601105213165283,
          -3.8491482734680176,
          -2.530311346054077,
          -3.275696039199829,
          -3.375605344772339,
          -2.2817277908325195,
          -3.453342914581299,
          -2.8502163887023926,
          -2.2449276447296143,
          -3.08992600440979,
          -2.3752388954162598,
          -2.5431480407714844,
          -2.801266670227051,
          -2.631106376647949,
          -2.505642890930176,
          -0.9830499291419983,
          -3.3045237064361572,
          -3.851437568664551,
          -2.5275540351867676,
          -2.8338074684143066,
          -3.1441259384155273,
          -3.1968629360198975,
          -3.5075883865356445,
          -3.693650245666504,
          -2.7047502994537354,
          -2.2843010425567627,
          -2.945145606994629,
          -2.148254632949829,
          -2.702989101409912,
          -2.82149076461792,
          -1.9800983667373657,
          -2.6018519401550293,
          -0.7521437406539917,
          -3.040785551071167,
          0.8533276915550232,
          -2.7402446269989014,
          -2.152499198913574,
          -2.2206034660339355,
          -2.783193588256836,
          -3.1018457412719727,
          -2.303140163421631,
          -2.1810355186462402,
          -3.051039218902588,
          -2.834527015686035,
          -1.6187076568603516,
          -1.0280120372772217,
          -2.136681079864502,
          -1.9172618389129639,
          -2.4409303665161133,
          -2.569790840148926,
          -2.7639753818511963,
          -1.585449457168579,
          -2.436492919921875,
          0.7735065817832947,
          -2.863304615020752,
          -2.098290205001831,
          -1.597357988357544,
          -2.069566249847412,
          -1.8308032751083374,
          1.3235621452331543,
          -1.8856797218322754,
          -1.397719144821167,
          -2.763958692550659,
          -1.221229910850525,
          -0.9494113922119141,
          -1.2441149950027466,
          0.37244996428489685,
          -1.4664820432662964,
          -2.558194637298584,
          -0.6352342367172241,
          -2.028083324432373,
          8.52353286743164,
          -1.4703325033187866,
          8.52353286743164,
          -0.8479869365692139,
          -1.2312750816345215,
          -0.6658444404602051,
          -1.244322657585144,
          8.52353286743164,
          8.52353286743164,
          0.37244996428489685,
          8.52353286743164,
          0.42160162329673767,
          8.52353286743164,
          -0.2990310788154602,
          -0.8092143535614014,
          8.52353286743164,
          -0.7484827637672424,
          0.7744368314743042,
          3.108482599258423,
          0.3911439776420593,
          0.3911439776420593,
          -0.7245481014251709,
          1.4533734321594238,
          8.52353286743164,
          0.8473751544952393,
          0.6731444001197815,
          0.37244996428489685,
          2.255904197692871,
          2.900609254837036,
          2.082627773284912,
          0.4638536274433136,
          0.7962175011634827,
          8.52353286743164,
          8.52353286743164,
          8.52353286743164,
          0.5348390340805054,
          8.52353286743164,
          8.52353286743164,
          8.52353286743164,
          8.52353286743164,
          8.52353286743164,
          8.52353286743164,
          8.52353286743164,
          8.52353286743164,
          8.52353286743164,
          8.52353286743164,
          8.52353286743164,
          8.52353286743164,
          8.52353286743164,
          8.52353286743164,
          8.52353286743164,
          8.52353286743164,
          8.52353286743164,
          8.52353286743164,
          8.52353286743164,
          8.52353286743164,
          8.52353286743164,
          8.52353286743164,
          8.52353286743164,
          8.52353286743164,
          8.52353286743164,
          8.52353286743164,
          8.52353286743164,
          8.52353286743164,
          8.52353286743164,
          8.52353286743164,
          8.52353286743164,
          8.52353286743164,
          8.52353286743164,
          8.52353286743164,
          8.52353286743164,
          8.52353286743164,
          8.52353286743164,
          8.52353286743164,
          8.52353286743164,
          8.52353286743164,
          8.52353286743164,
          8.52353286743164,
          8.52353286743164,
          8.52353286743164,
          8.52353286743164,
          8.52353286743164,
          8.52353286743164,
          8.52353286743164,
          8.52353286743164,
          8.52353286743164,
          8.52353286743164,
          8.52353286743164,
          8.52353286743164,
          8.52353286743164,
          8.52353286743164,
          8.52353286743164,
          8.52353286743164,
          8.52353286743164,
          8.52353286743164,
          8.52353286743164,
          8.52353286743164,
          8.52353286743164,
          8.52353286743164,
          8.52353286743164,
          8.52353286743164,
          8.52353286743164,
          8.52353286743164,
          8.52353286743164
         ],
         "xaxis": "x",
         "y": [
          -0.7968729138374329,
          0.5578725934028625,
          0.45307648181915283,
          0.28389737010002136,
          -0.028636258095502853,
          0.09423427283763885,
          2.6263208389282227,
          1.1839826107025146,
          0.7656363248825073,
          1.7054423093795776,
          1.690859079360962,
          1.1392327547073364,
          0.40803590416908264,
          0.7620043158531189,
          1.3443270921707153,
          1.4897671937942505,
          0.1419658213853836,
          1.851237416267395,
          0.9692659974098206,
          1.6125348806381226,
          -0.12478576600551605,
          -0.21812619268894196,
          1.7396321296691895,
          0.33216428756713867,
          1.1801809072494507,
          -0.6992623805999756,
          -0.07738824188709259,
          2.2969584465026855,
          0.3472800850868225,
          2.3546955585479736,
          0.30246874690055847,
          -0.2769312560558319,
          0.42663100361824036,
          0.8557167053222656,
          -0.21835929155349731,
          3.084660053253174,
          1.1839139461517334,
          1.1980952024459839,
          1.4657689332962036,
          0.6127418279647827,
          -0.7912881970405579,
          0.16595834493637085,
          1.3475782871246338,
          0.1848672479391098,
          1.7710061073303223,
          1.023439645767212,
          1.1276544332504272,
          -2.0116617679595947,
          0.9501237273216248,
          1.073137879371643,
          -2.429702043533325,
          0.9920241236686707,
          1.0903406143188477,
          0.5291466116905212,
          0.05608389154076576,
          1.3333114385604858,
          1.5088810920715332,
          1.0696686506271362,
          -0.20397262275218964,
          2.077230930328369,
          1.9290831089019775,
          -0.17588670551776886,
          0.2418624609708786,
          -0.20824696123600006,
          -0.2701258063316345,
          -0.6271582841873169,
          1.5598433017730713,
          1.9832749366760254,
          -0.30168816447257996,
          1.1263238191604614,
          -0.10578540712594986,
          -0.6965416073799133,
          1.6551682949066162,
          -0.23920589685440063,
          0.7674190998077393,
          0.7502522468566895,
          -0.15232282876968384,
          0.6401275396347046,
          1.2220842838287354,
          -1.859102487564087,
          -1.4616926908493042,
          1.1352393627166748,
          0.4048852026462555,
          -0.5844029188156128,
          0.09588712453842163,
          1.9833756685256958,
          -0.8121329545974731,
          0.9127756953239441,
          -1.3309017419815063,
          0.6839950680732727,
          0.8839068412780762,
          3.3509130477905273,
          2.531209707260132,
          1.6912314891815186,
          0.22424913942813873,
          1.8007780313491821,
          -0.415976345539093,
          1.0456645488739014,
          0.02953975461423397,
          0.8357948064804077,
          1.4649932384490967,
          1.1225179433822632,
          -0.4323152005672455,
          1.419847846031189,
          0.7359719276428223,
          1.8784114122390747,
          0.6651385426521301,
          -1.1878951787948608,
          0.46691685914993286,
          1.2382720708847046,
          0.47311532497406006,
          -0.04662094637751579,
          1.4288650751113892,
          0.4766581952571869,
          2.1936028003692627,
          0.17410241067409515,
          -1.3438451290130615,
          2.21095871925354,
          0.8513391613960266,
          0.5725922584533691,
          0.6494112014770508,
          -1.2222975492477417,
          -1.6927872896194458,
          -3.102663278579712,
          -1.0097981691360474,
          0.44830310344696045,
          1.0787214040756226,
          1.0986028909683228,
          1.3162407875061035,
          0.9717862010002136,
          0.8496347665786743,
          0.40934571623802185,
          0.7551990151405334,
          1.6875971555709839,
          2.070828437805176,
          -0.3286319971084595,
          -0.32767578959465027,
          1.65409517288208,
          -1.1664632558822632,
          -0.40318289399147034,
          -0.3967086374759674,
          0.5888446569442749,
          0.3889530599117279,
          -1.4638426303863525,
          0.9866003394126892,
          0.8891302347183228,
          2.783464193344116,
          1.780779242515564,
          -0.817479133605957,
          2.277482032775879,
          0.80161052942276,
          1.2735108137130737,
          0.7718034982681274,
          -0.8079835176467896,
          1.3595607280731201,
          -1.8296998739242554,
          -1.4530937671661377,
          1.417655348777771,
          -1.023303747177124,
          0.29542747139930725,
          1.9212077856063843,
          0.6735031008720398,
          -0.1131899282336235,
          0.7992866635322571,
          -0.8543810844421387,
          0.9342243075370789,
          0.8899346590042114,
          0.40975433588027954,
          0.5233278870582581,
          0.3179393410682678,
          0.9723334312438965,
          -1.0142425298690796,
          1.0505280494689941,
          1.392556071281433,
          -0.2036297768354416,
          -0.02426218055188656,
          1.8595874309539795,
          1.7822463512420654,
          0.40534377098083496,
          0.47744008898735046,
          0.3586536943912506,
          -0.4279772639274597,
          0.13665780425071716,
          0.96817946434021,
          0.22973144054412842,
          0.710654079914093,
          -1.2275761365890503,
          -0.008413092233240604,
          0.6203280687332153,
          -1.6828503608703613,
          -0.2957816421985626,
          0.5219111442565918,
          1.6365083456039429,
          -0.07647855579853058,
          -1.7513238191604614,
          -0.4622816741466522,
          -2.416463851928711,
          0.8909667134284973,
          0.09176656603813171,
          -1.6451938152313232,
          -1.1626149415969849,
          0.10973872989416122,
          0.08970695734024048,
          -0.34361496567726135,
          2.1722545623779297,
          -1.385094165802002,
          0.0713050588965416,
          -2.2654552459716797,
          -0.5256938934326172,
          -0.16050752997398376,
          -0.9365225434303284,
          -1.6259783506393433,
          -2.484877347946167,
          -4.0924577713012695,
          0.7410529851913452,
          -1.378983736038208,
          -2.085613489151001,
          0.24040471017360687,
          -2.4092202186584473,
          0.45532411336898804,
          0.5207005739212036,
          -0.8786909580230713,
          -2.5258610248565674,
          0.6206927299499512,
          -0.6642645001411438,
          -3.1922411918640137,
          -2.703629970550537,
          -1.289544939994812,
          -3.441324472427368,
          0.649634063243866,
          -1.7951228618621826,
          -1.220611333847046,
          0.4305242896080017,
          0.6308394074440002,
          -1.3216525316238403,
          -0.7800602912902832,
          -2.0482842922210693,
          -1.7126981019973755,
          -1.917839765548706,
          -1.0540974140167236,
          -2.0094759464263916,
          0.41729453206062317,
          -4.157063007354736,
          -2.2885756492614746,
          -3.047243356704712,
          -1.844340443611145,
          -0.27979472279548645,
          -5.833034515380859,
          -0.9209734797477722,
          -1.5732300281524658,
          -0.8892990350723267,
          -0.026739755645394325,
          0.4242941737174988,
          -0.7478739619255066,
          0.4242941737174988,
          -2.1246306896209717,
          -4.784604072570801,
          -1.7972140312194824,
          -2.350898265838623,
          0.4242941737174988,
          0.4242941737174988,
          -5.833034515380859,
          0.4242941737174988,
          -1.4150058031082153,
          0.4242941737174988,
          -1.3612955808639526,
          -1.4215894937515259,
          0.4242941737174988,
          -0.8104714155197144,
          -5.244668483734131,
          -2.104773998260498,
          -5.613736629486084,
          -5.613736629486084,
          -2.3516833782196045,
          -3.953711986541748,
          0.4242941737174988,
          -3.213331699371338,
          -2.9241857528686523,
          -5.833034515380859,
          -1.883109211921692,
          -1.2027673721313477,
          -0.488262414932251,
          -1.4855334758758545,
          -1.3570826053619385,
          0.4242941737174988,
          0.4242941737174988,
          0.4242941737174988,
          -3.89973521232605,
          0.4242941737174988,
          0.4242941737174988,
          0.4242941737174988,
          0.4242941737174988,
          0.4242941737174988,
          0.4242941737174988,
          0.4242941737174988,
          0.4242941737174988,
          0.4242941737174988,
          0.4242941737174988,
          0.4242941737174988,
          0.4242941737174988,
          0.4242941737174988,
          0.4242941737174988,
          0.4242941737174988,
          0.4242941737174988,
          0.4242941737174988,
          0.4242941737174988,
          0.4242941737174988,
          0.4242941737174988,
          0.4242941737174988,
          0.4242941737174988,
          0.4242941737174988,
          0.4242941737174988,
          0.4242941737174988,
          0.4242941737174988,
          0.4242941737174988,
          0.4242941737174988,
          0.4242941737174988,
          0.4242941737174988,
          0.4242941737174988,
          0.4242941737174988,
          0.4242941737174988,
          0.4242941737174988,
          0.4242941737174988,
          0.4242941737174988,
          0.4242941737174988,
          0.4242941737174988,
          0.4242941737174988,
          0.4242941737174988,
          0.4242941737174988,
          0.4242941737174988,
          0.4242941737174988,
          0.4242941737174988,
          0.4242941737174988,
          0.4242941737174988,
          0.4242941737174988,
          0.4242941737174988,
          0.4242941737174988,
          0.4242941737174988,
          0.4242941737174988,
          0.4242941737174988,
          0.4242941737174988,
          0.4242941737174988,
          0.4242941737174988,
          0.4242941737174988,
          0.4242941737174988,
          0.4242941737174988,
          0.4242941737174988,
          0.4242941737174988,
          0.4242941737174988,
          0.4242941737174988,
          0.4242941737174988,
          0.4242941737174988,
          0.4242941737174988,
          0.4242941737174988,
          0.4242941737174988,
          0.4242941737174988
         ],
         "yaxis": "y"
        }
       ],
       "layout": {
        "coloraxis": {
         "colorbar": {
          "tickmode": "linear",
          "title": {
           "text": "Rating Score"
          }
         },
         "colorscale": [
          [
           0,
           "#440154"
          ],
          [
           0.1111111111111111,
           "#482878"
          ],
          [
           0.2222222222222222,
           "#3e4989"
          ],
          [
           0.3333333333333333,
           "#31688e"
          ],
          [
           0.4444444444444444,
           "#26828e"
          ],
          [
           0.5555555555555556,
           "#1f9e89"
          ],
          [
           0.6666666666666666,
           "#35b779"
          ],
          [
           0.7777777777777778,
           "#6ece58"
          ],
          [
           0.8888888888888888,
           "#b5de2b"
          ],
          [
           1,
           "#fde725"
          ]
         ]
        },
        "hovermode": "closest",
        "legend": {
         "tracegroupgap": 0
        },
        "template": {
         "data": {
          "bar": [
           {
            "error_x": {
             "color": "#2a3f5f"
            },
            "error_y": {
             "color": "#2a3f5f"
            },
            "marker": {
             "line": {
              "color": "white",
              "width": 0.5
             },
             "pattern": {
              "fillmode": "overlay",
              "size": 10,
              "solidity": 0.2
             }
            },
            "type": "bar"
           }
          ],
          "barpolar": [
           {
            "marker": {
             "line": {
              "color": "white",
              "width": 0.5
             },
             "pattern": {
              "fillmode": "overlay",
              "size": 10,
              "solidity": 0.2
             }
            },
            "type": "barpolar"
           }
          ],
          "carpet": [
           {
            "aaxis": {
             "endlinecolor": "#2a3f5f",
             "gridcolor": "#C8D4E3",
             "linecolor": "#C8D4E3",
             "minorgridcolor": "#C8D4E3",
             "startlinecolor": "#2a3f5f"
            },
            "baxis": {
             "endlinecolor": "#2a3f5f",
             "gridcolor": "#C8D4E3",
             "linecolor": "#C8D4E3",
             "minorgridcolor": "#C8D4E3",
             "startlinecolor": "#2a3f5f"
            },
            "type": "carpet"
           }
          ],
          "choropleth": [
           {
            "colorbar": {
             "outlinewidth": 0,
             "ticks": ""
            },
            "type": "choropleth"
           }
          ],
          "contour": [
           {
            "colorbar": {
             "outlinewidth": 0,
             "ticks": ""
            },
            "colorscale": [
             [
              0,
              "#0d0887"
             ],
             [
              0.1111111111111111,
              "#46039f"
             ],
             [
              0.2222222222222222,
              "#7201a8"
             ],
             [
              0.3333333333333333,
              "#9c179e"
             ],
             [
              0.4444444444444444,
              "#bd3786"
             ],
             [
              0.5555555555555556,
              "#d8576b"
             ],
             [
              0.6666666666666666,
              "#ed7953"
             ],
             [
              0.7777777777777778,
              "#fb9f3a"
             ],
             [
              0.8888888888888888,
              "#fdca26"
             ],
             [
              1,
              "#f0f921"
             ]
            ],
            "type": "contour"
           }
          ],
          "contourcarpet": [
           {
            "colorbar": {
             "outlinewidth": 0,
             "ticks": ""
            },
            "type": "contourcarpet"
           }
          ],
          "heatmap": [
           {
            "colorbar": {
             "outlinewidth": 0,
             "ticks": ""
            },
            "colorscale": [
             [
              0,
              "#0d0887"
             ],
             [
              0.1111111111111111,
              "#46039f"
             ],
             [
              0.2222222222222222,
              "#7201a8"
             ],
             [
              0.3333333333333333,
              "#9c179e"
             ],
             [
              0.4444444444444444,
              "#bd3786"
             ],
             [
              0.5555555555555556,
              "#d8576b"
             ],
             [
              0.6666666666666666,
              "#ed7953"
             ],
             [
              0.7777777777777778,
              "#fb9f3a"
             ],
             [
              0.8888888888888888,
              "#fdca26"
             ],
             [
              1,
              "#f0f921"
             ]
            ],
            "type": "heatmap"
           }
          ],
          "heatmapgl": [
           {
            "colorbar": {
             "outlinewidth": 0,
             "ticks": ""
            },
            "colorscale": [
             [
              0,
              "#0d0887"
             ],
             [
              0.1111111111111111,
              "#46039f"
             ],
             [
              0.2222222222222222,
              "#7201a8"
             ],
             [
              0.3333333333333333,
              "#9c179e"
             ],
             [
              0.4444444444444444,
              "#bd3786"
             ],
             [
              0.5555555555555556,
              "#d8576b"
             ],
             [
              0.6666666666666666,
              "#ed7953"
             ],
             [
              0.7777777777777778,
              "#fb9f3a"
             ],
             [
              0.8888888888888888,
              "#fdca26"
             ],
             [
              1,
              "#f0f921"
             ]
            ],
            "type": "heatmapgl"
           }
          ],
          "histogram": [
           {
            "marker": {
             "pattern": {
              "fillmode": "overlay",
              "size": 10,
              "solidity": 0.2
             }
            },
            "type": "histogram"
           }
          ],
          "histogram2d": [
           {
            "colorbar": {
             "outlinewidth": 0,
             "ticks": ""
            },
            "colorscale": [
             [
              0,
              "#0d0887"
             ],
             [
              0.1111111111111111,
              "#46039f"
             ],
             [
              0.2222222222222222,
              "#7201a8"
             ],
             [
              0.3333333333333333,
              "#9c179e"
             ],
             [
              0.4444444444444444,
              "#bd3786"
             ],
             [
              0.5555555555555556,
              "#d8576b"
             ],
             [
              0.6666666666666666,
              "#ed7953"
             ],
             [
              0.7777777777777778,
              "#fb9f3a"
             ],
             [
              0.8888888888888888,
              "#fdca26"
             ],
             [
              1,
              "#f0f921"
             ]
            ],
            "type": "histogram2d"
           }
          ],
          "histogram2dcontour": [
           {
            "colorbar": {
             "outlinewidth": 0,
             "ticks": ""
            },
            "colorscale": [
             [
              0,
              "#0d0887"
             ],
             [
              0.1111111111111111,
              "#46039f"
             ],
             [
              0.2222222222222222,
              "#7201a8"
             ],
             [
              0.3333333333333333,
              "#9c179e"
             ],
             [
              0.4444444444444444,
              "#bd3786"
             ],
             [
              0.5555555555555556,
              "#d8576b"
             ],
             [
              0.6666666666666666,
              "#ed7953"
             ],
             [
              0.7777777777777778,
              "#fb9f3a"
             ],
             [
              0.8888888888888888,
              "#fdca26"
             ],
             [
              1,
              "#f0f921"
             ]
            ],
            "type": "histogram2dcontour"
           }
          ],
          "mesh3d": [
           {
            "colorbar": {
             "outlinewidth": 0,
             "ticks": ""
            },
            "type": "mesh3d"
           }
          ],
          "parcoords": [
           {
            "line": {
             "colorbar": {
              "outlinewidth": 0,
              "ticks": ""
             }
            },
            "type": "parcoords"
           }
          ],
          "pie": [
           {
            "automargin": true,
            "type": "pie"
           }
          ],
          "scatter": [
           {
            "fillpattern": {
             "fillmode": "overlay",
             "size": 10,
             "solidity": 0.2
            },
            "type": "scatter"
           }
          ],
          "scatter3d": [
           {
            "line": {
             "colorbar": {
              "outlinewidth": 0,
              "ticks": ""
             }
            },
            "marker": {
             "colorbar": {
              "outlinewidth": 0,
              "ticks": ""
             }
            },
            "type": "scatter3d"
           }
          ],
          "scattercarpet": [
           {
            "marker": {
             "colorbar": {
              "outlinewidth": 0,
              "ticks": ""
             }
            },
            "type": "scattercarpet"
           }
          ],
          "scattergeo": [
           {
            "marker": {
             "colorbar": {
              "outlinewidth": 0,
              "ticks": ""
             }
            },
            "type": "scattergeo"
           }
          ],
          "scattergl": [
           {
            "marker": {
             "colorbar": {
              "outlinewidth": 0,
              "ticks": ""
             }
            },
            "type": "scattergl"
           }
          ],
          "scattermapbox": [
           {
            "marker": {
             "colorbar": {
              "outlinewidth": 0,
              "ticks": ""
             }
            },
            "type": "scattermapbox"
           }
          ],
          "scatterpolar": [
           {
            "marker": {
             "colorbar": {
              "outlinewidth": 0,
              "ticks": ""
             }
            },
            "type": "scatterpolar"
           }
          ],
          "scatterpolargl": [
           {
            "marker": {
             "colorbar": {
              "outlinewidth": 0,
              "ticks": ""
             }
            },
            "type": "scatterpolargl"
           }
          ],
          "scatterternary": [
           {
            "marker": {
             "colorbar": {
              "outlinewidth": 0,
              "ticks": ""
             }
            },
            "type": "scatterternary"
           }
          ],
          "surface": [
           {
            "colorbar": {
             "outlinewidth": 0,
             "ticks": ""
            },
            "colorscale": [
             [
              0,
              "#0d0887"
             ],
             [
              0.1111111111111111,
              "#46039f"
             ],
             [
              0.2222222222222222,
              "#7201a8"
             ],
             [
              0.3333333333333333,
              "#9c179e"
             ],
             [
              0.4444444444444444,
              "#bd3786"
             ],
             [
              0.5555555555555556,
              "#d8576b"
             ],
             [
              0.6666666666666666,
              "#ed7953"
             ],
             [
              0.7777777777777778,
              "#fb9f3a"
             ],
             [
              0.8888888888888888,
              "#fdca26"
             ],
             [
              1,
              "#f0f921"
             ]
            ],
            "type": "surface"
           }
          ],
          "table": [
           {
            "cells": {
             "fill": {
              "color": "#EBF0F8"
             },
             "line": {
              "color": "white"
             }
            },
            "header": {
             "fill": {
              "color": "#C8D4E3"
             },
             "line": {
              "color": "white"
             }
            },
            "type": "table"
           }
          ]
         },
         "layout": {
          "annotationdefaults": {
           "arrowcolor": "#2a3f5f",
           "arrowhead": 0,
           "arrowwidth": 1
          },
          "autotypenumbers": "strict",
          "coloraxis": {
           "colorbar": {
            "outlinewidth": 0,
            "ticks": ""
           }
          },
          "colorscale": {
           "diverging": [
            [
             0,
             "#8e0152"
            ],
            [
             0.1,
             "#c51b7d"
            ],
            [
             0.2,
             "#de77ae"
            ],
            [
             0.3,
             "#f1b6da"
            ],
            [
             0.4,
             "#fde0ef"
            ],
            [
             0.5,
             "#f7f7f7"
            ],
            [
             0.6,
             "#e6f5d0"
            ],
            [
             0.7,
             "#b8e186"
            ],
            [
             0.8,
             "#7fbc41"
            ],
            [
             0.9,
             "#4d9221"
            ],
            [
             1,
             "#276419"
            ]
           ],
           "sequential": [
            [
             0,
             "#0d0887"
            ],
            [
             0.1111111111111111,
             "#46039f"
            ],
            [
             0.2222222222222222,
             "#7201a8"
            ],
            [
             0.3333333333333333,
             "#9c179e"
            ],
            [
             0.4444444444444444,
             "#bd3786"
            ],
            [
             0.5555555555555556,
             "#d8576b"
            ],
            [
             0.6666666666666666,
             "#ed7953"
            ],
            [
             0.7777777777777778,
             "#fb9f3a"
            ],
            [
             0.8888888888888888,
             "#fdca26"
            ],
            [
             1,
             "#f0f921"
            ]
           ],
           "sequentialminus": [
            [
             0,
             "#0d0887"
            ],
            [
             0.1111111111111111,
             "#46039f"
            ],
            [
             0.2222222222222222,
             "#7201a8"
            ],
            [
             0.3333333333333333,
             "#9c179e"
            ],
            [
             0.4444444444444444,
             "#bd3786"
            ],
            [
             0.5555555555555556,
             "#d8576b"
            ],
            [
             0.6666666666666666,
             "#ed7953"
            ],
            [
             0.7777777777777778,
             "#fb9f3a"
            ],
            [
             0.8888888888888888,
             "#fdca26"
            ],
            [
             1,
             "#f0f921"
            ]
           ]
          },
          "colorway": [
           "#636efa",
           "#EF553B",
           "#00cc96",
           "#ab63fa",
           "#FFA15A",
           "#19d3f3",
           "#FF6692",
           "#B6E880",
           "#FF97FF",
           "#FECB52"
          ],
          "font": {
           "color": "#2a3f5f"
          },
          "geo": {
           "bgcolor": "white",
           "lakecolor": "white",
           "landcolor": "white",
           "showlakes": true,
           "showland": true,
           "subunitcolor": "#C8D4E3"
          },
          "hoverlabel": {
           "align": "left"
          },
          "hovermode": "closest",
          "mapbox": {
           "style": "light"
          },
          "paper_bgcolor": "white",
          "plot_bgcolor": "white",
          "polar": {
           "angularaxis": {
            "gridcolor": "#EBF0F8",
            "linecolor": "#EBF0F8",
            "ticks": ""
           },
           "bgcolor": "white",
           "radialaxis": {
            "gridcolor": "#EBF0F8",
            "linecolor": "#EBF0F8",
            "ticks": ""
           }
          },
          "scene": {
           "xaxis": {
            "backgroundcolor": "white",
            "gridcolor": "#DFE8F3",
            "gridwidth": 2,
            "linecolor": "#EBF0F8",
            "showbackground": true,
            "ticks": "",
            "zerolinecolor": "#EBF0F8"
           },
           "yaxis": {
            "backgroundcolor": "white",
            "gridcolor": "#DFE8F3",
            "gridwidth": 2,
            "linecolor": "#EBF0F8",
            "showbackground": true,
            "ticks": "",
            "zerolinecolor": "#EBF0F8"
           },
           "zaxis": {
            "backgroundcolor": "white",
            "gridcolor": "#DFE8F3",
            "gridwidth": 2,
            "linecolor": "#EBF0F8",
            "showbackground": true,
            "ticks": "",
            "zerolinecolor": "#EBF0F8"
           }
          },
          "shapedefaults": {
           "line": {
            "color": "#2a3f5f"
           }
          },
          "ternary": {
           "aaxis": {
            "gridcolor": "#DFE8F3",
            "linecolor": "#A2B1C6",
            "ticks": ""
           },
           "baxis": {
            "gridcolor": "#DFE8F3",
            "linecolor": "#A2B1C6",
            "ticks": ""
           },
           "bgcolor": "white",
           "caxis": {
            "gridcolor": "#DFE8F3",
            "linecolor": "#A2B1C6",
            "ticks": ""
           }
          },
          "title": {
           "x": 0.05
          },
          "xaxis": {
           "automargin": true,
           "gridcolor": "#EBF0F8",
           "linecolor": "#EBF0F8",
           "ticks": "",
           "title": {
            "standoff": 15
           },
           "zerolinecolor": "#EBF0F8",
           "zerolinewidth": 2
          },
          "yaxis": {
           "automargin": true,
           "gridcolor": "#EBF0F8",
           "linecolor": "#EBF0F8",
           "ticks": "",
           "title": {
            "standoff": 15
           },
           "zerolinecolor": "#EBF0F8",
           "zerolinewidth": 2
          }
         }
        },
        "title": {
         "text": "Embeddings by Rating Score (PCA 1: 46.9%, PCA 2: 4.6%)"
        },
        "xaxis": {
         "anchor": "y",
         "domain": [
          0,
          1
         ],
         "title": {
          "text": "PCA 1 (46.9% variance)"
         }
        },
        "yaxis": {
         "anchor": "x",
         "domain": [
          0,
          1
         ],
         "title": {
          "text": "PCA 2 (4.6% variance)"
         }
        }
       }
      }
     },
     "metadata": {},
     "output_type": "display_data"
    }
   ],
   "source": [
    "from sklearn.decomposition import PCA\n",
    "\n",
    "def analyzeEmbeddingsByRating(df):\n",
    "    # Convert embeddings to a NumPy array\n",
    "    embeddings = np.array(df['embedding'].tolist())\n",
    "    ratings = df['rating_score']\n",
    "    \n",
    "    # Perform PCA for dimensionality reduction\n",
    "    pca = PCA(n_components=2)\n",
    "    reduced_embeddings = pca.fit_transform(embeddings)\n",
    "    \n",
    "    # Calculate variance explained by each component\n",
    "    var_explained = pca.explained_variance_ratio_ * 100\n",
    "    var1, var2 = var_explained\n",
    "    \n",
    "    # Prepare DataFrame for Plotly\n",
    "    plot_df = pd.DataFrame({\n",
    "        'PCA Component 1': reduced_embeddings[:, 0],\n",
    "        'PCA Component 2': reduced_embeddings[:, 1],\n",
    "        'Rating Score': ratings,\n",
    "        'Review ID': df.get('review_id', range(len(df)))  # Optional identifier\n",
    "    })\n",
    "    \n",
    "    # Create interactive scatter plot\n",
    "    fig = px.scatter(\n",
    "        plot_df,\n",
    "        x='PCA Component 1',\n",
    "        y='PCA Component 2',\n",
    "        color='Rating Score',\n",
    "        color_continuous_scale='Viridis',\n",
    "        hover_data=['Review ID', 'Rating Score'],\n",
    "        title=f'Embeddings by Rating Score (PCA 1: {var1:.1f}%, PCA 2: {var2:.1f}%)',\n",
    "        labels={\n",
    "            'PCA Component 1': f'PCA 1 ({var1:.1f}% variance)',\n",
    "            'PCA Component 2': f'PCA 2 ({var2:.1f}% variance)',\n",
    "            'Rating Score': 'Rating Score'\n",
    "        }\n",
    "    )\n",
    "    \n",
    "    # Enhance layout for clarity\n",
    "    fig.update_layout(\n",
    "        template='plotly_white',\n",
    "        coloraxis_colorbar=dict(\n",
    "            title='Rating Score',\n",
    "            tickmode='linear'\n",
    "        ),\n",
    "        hovermode='closest'\n",
    "    )\n",
    "    \n",
    "    fig.show()\n",
    "\n",
    "analyzeEmbeddingsByRating(reviews)\n"
   ]
  },
  {
   "cell_type": "code",
   "execution_count": 132,
   "metadata": {},
   "outputs": [
    {
     "name": "stdout",
     "output_type": "stream",
     "text": [
      "Topic 0: 0.019*\"hamburguesa\" + 0.012*\"lugar\" + 0.010*\"buen\" + 0.010*\"sitio\" + 0.010*\"hacer\"\n",
      "Topic 1: 0.017*\"lugar\" + 0.015*\"bien\" + 0.014*\"hamburguesa\" + 0.010*\"buen\" + 0.010*\"cafetería\"\n",
      "Topic 2: 0.020*\"hamburguesa\" + 0.017*\"buen\" + 0.011*\"sitio\" + 0.011*\"servicio\" + 0.011*\"agradable\"\n",
      "Topic 3: 0.026*\"hamburguesa\" + 0.015*\"ambiente\" + 0.014*\"mejor\" + 0.012*\"buen\" + 0.011*\"comida\"\n",
      "Topic 4: 0.035*\"buen\" + 0.022*\"comida\" + 0.020*\"hamburguesa\" + 0.017*\"precio\" + 0.012*\"bien\"\n"
     ]
    },
    {
     "data": {
      "text/html": [
       "<div>\n",
       "<style scoped>\n",
       "    .dataframe tbody tr th:only-of-type {\n",
       "        vertical-align: middle;\n",
       "    }\n",
       "\n",
       "    .dataframe tbody tr th {\n",
       "        vertical-align: top;\n",
       "    }\n",
       "\n",
       "    .dataframe thead th {\n",
       "        text-align: right;\n",
       "    }\n",
       "</style>\n",
       "<table border=\"1\" class=\"dataframe\">\n",
       "  <thead>\n",
       "    <tr style=\"text-align: right;\">\n",
       "      <th>sentiment_label</th>\n",
       "      <th>negative</th>\n",
       "      <th>neutral</th>\n",
       "      <th>positive</th>\n",
       "    </tr>\n",
       "    <tr>\n",
       "      <th>topic</th>\n",
       "      <th></th>\n",
       "      <th></th>\n",
       "      <th></th>\n",
       "    </tr>\n",
       "  </thead>\n",
       "  <tbody>\n",
       "    <tr>\n",
       "      <th>0</th>\n",
       "      <td>10</td>\n",
       "      <td>9</td>\n",
       "      <td>112</td>\n",
       "    </tr>\n",
       "    <tr>\n",
       "      <th>1</th>\n",
       "      <td>4</td>\n",
       "      <td>4</td>\n",
       "      <td>39</td>\n",
       "    </tr>\n",
       "    <tr>\n",
       "      <th>2</th>\n",
       "      <td>6</td>\n",
       "      <td>4</td>\n",
       "      <td>44</td>\n",
       "    </tr>\n",
       "    <tr>\n",
       "      <th>3</th>\n",
       "      <td>3</td>\n",
       "      <td>1</td>\n",
       "      <td>34</td>\n",
       "    </tr>\n",
       "    <tr>\n",
       "      <th>4</th>\n",
       "      <td>4</td>\n",
       "      <td>5</td>\n",
       "      <td>77</td>\n",
       "    </tr>\n",
       "  </tbody>\n",
       "</table>\n",
       "</div>"
      ],
      "text/plain": [
       "sentiment_label  negative  neutral  positive\n",
       "topic                                       \n",
       "0                      10        9       112\n",
       "1                       4        4        39\n",
       "2                       6        4        44\n",
       "3                       3        1        34\n",
       "4                       4        5        77"
      ]
     },
     "metadata": {},
     "output_type": "display_data"
    }
   ],
   "source": [
    "from gensim import corpora\n",
    "from gensim.models import LdaModel\n",
    "\n",
    "def analyzeTopicsLDA(df):\n",
    "    # Prepare corpus for LDA\n",
    "    cleaned_reviews = df['cleaned_review'].dropna().tolist()\n",
    "    tokenized_reviews = [review.split() for review in cleaned_reviews]\n",
    "    dictionary = corpora.Dictionary(tokenized_reviews)\n",
    "    corpus = [dictionary.doc2bow(review) for review in tokenized_reviews]\n",
    "\n",
    "    # Train LDA model\n",
    "    lda_model = LdaModel(corpus, num_topics=5, id2word=dictionary, passes=10)\n",
    "\n",
    "    topics = lda_model.print_topics(num_words=5)\n",
    "    for topic in topics:\n",
    "        print(f\"Topic {topic[0]}: {topic[1]}\")\n",
    "    return lda_model, topics\n",
    "\n",
    "def mapSentimentToTopics(df, lda_model):\n",
    "    cleaned_reviews = df['cleaned_review'].dropna().tolist()\n",
    "    tokenized_reviews = [review.split() for review in cleaned_reviews]\n",
    "    dictionary = corpora.Dictionary(tokenized_reviews)\n",
    "    corpus = [dictionary.doc2bow(review) for review in tokenized_reviews]\n",
    "\n",
    "    # Predict topics for each review\n",
    "    df['topic'] = [max(lda_model.get_document_topics(bow), key=lambda x: x[1])[0] for bow in corpus]\n",
    "\n",
    "    # Count the number of positive, negative reviews per topic\n",
    "    topic_sentiment_counts = df.groupby(['topic', 'sentiment_label']).size().unstack(fill_value=0)\n",
    "    display(topic_sentiment_counts)\n",
    "\n",
    "lda_model, topics = analyzeTopicsLDA(reviews)\n",
    "mapSentimentToTopics(reviews, lda_model)\n"
   ]
  },
  {
   "cell_type": "code",
   "execution_count": 131,
   "metadata": {},
   "outputs": [
    {
     "name": "stderr",
     "output_type": "stream",
     "text": [
      "/Users/jobandtalent/opt/anaconda3/envs/sar/lib/python3.9/site-packages/umap/umap_.py:1945: UserWarning:\n",
      "\n",
      "n_jobs value 1 overridden to 1 by setting random_state. Use no seed for parallelism.\n",
      "\n"
     ]
    },
    {
     "data": {
      "application/vnd.plotly.v1+json": {
       "config": {
        "plotlyServerURL": "https://plot.ly"
       },
       "data": [
        {
         "hovertemplate": "sentiment_label=positive<br>UMAP Dimension 1=%{x}<br>UMAP Dimension 2=%{y}<extra></extra>",
         "legendgroup": "positive",
         "marker": {
          "color": "green",
          "opacity": 0.7,
          "symbol": "circle"
         },
         "mode": "markers",
         "name": "positive",
         "orientation": "v",
         "showlegend": true,
         "type": "scatter",
         "x": [
          2.06292986869812,
          1.2398146390914917,
          2.2769365310668945,
          1.191860556602478,
          0.9320231676101685,
          3.343785524368286,
          2.9171459674835205,
          0.9385653138160706,
          2.131209373474121,
          1.791812777519226,
          1.8463613986968994,
          2.9168596267700195,
          1.3070836067199707,
          2.4634478092193604,
          3.0016372203826904,
          2.8562278747558594,
          0.8341026902198792,
          1.607714056968689,
          1.731285810470581,
          2.472086191177368,
          1.122275710105896,
          1.5457743406295776,
          3.043393611907959,
          1.4405426979064941,
          2.1544029712677,
          1.2308423519134521,
          0.5342022180557251,
          1.107991337776184,
          2.322610378265381,
          3.4951977729797363,
          2.031668186187744,
          1.6259194612503052,
          1.613525152206421,
          0.43915820121765137,
          0.6320337057113647,
          2.35758113861084,
          3.6969637870788574,
          1.6067588329315186,
          1.2827117443084717,
          0.8581209778785706,
          3.3948419094085693,
          2.5054001808166504,
          3.115365743637085,
          1.2165971994400024,
          0.468721866607666,
          1.3034403324127197,
          2.0306081771850586,
          0.8005598187446594,
          2.195053815841675,
          3.274543523788452,
          0.3851146697998047,
          1.309511423110962,
          2.7013134956359863,
          1.767535924911499,
          1.4670790433883667,
          3.504908800125122,
          0.6223840713500977,
          3.1917991638183594,
          0.6366389989852905,
          2.8180108070373535,
          3.1089932918548584,
          3.340315818786621,
          1.5273255109786987,
          0.8377907276153564,
          2.3683924674987793,
          2.3281655311584473,
          3.403237819671631,
          1.2417387962341309,
          3.5323126316070557,
          2.1161882877349854,
          2.102898120880127,
          0.6753073930740356,
          0.9133950471878052,
          1.5232658386230469,
          2.429720878601074,
          2.892015218734741,
          4.176919460296631,
          2.913544178009033,
          3.4020845890045166,
          1.9503328800201416,
          2.0103824138641357,
          3.6867716312408447,
          1.0817365646362305,
          0.6689022779464722,
          1.4445945024490356,
          1.7717572450637817,
          3.5975217819213867,
          3.607621192932129,
          1.671157956123352,
          2.488774538040161,
          1.3984874486923218,
          2.04778790473938,
          4.250942707061768,
          0.7907183766365051,
          1.9305932521820068,
          2.349139928817749,
          2.2971842288970947,
          0.9111690521240234,
          1.377980351448059,
          1.2026352882385254,
          1.5789105892181396,
          1.8582526445388794,
          2.6686441898345947,
          3.1500797271728516,
          1.3962597846984863,
          2.678316354751587,
          3.045778512954712,
          1.9252986907958984,
          3.462822198867798,
          0.8854242563247681,
          0.7244461178779602,
          2.9007368087768555,
          0.5561010241508484,
          1.7422055006027222,
          2.9514336585998535,
          1.8087557554244995,
          1.6750203371047974,
          2.136066198348999,
          2.2911624908447266,
          0.41098442673683167,
          3.1749861240386963,
          1.080022931098938,
          1.1620415449142456,
          0.5298488140106201,
          3.917085886001587,
          1.1430292129516602,
          3.7663230895996094,
          0.9498549103736877,
          4.097801208496094,
          3.284311294555664,
          2.4300272464752197,
          3.809948444366455,
          3.624657392501831,
          2.2884223461151123,
          2.3223841190338135,
          4.36690616607666,
          2.1552317142486572,
          2.2545368671417236,
          1.5888336896896362,
          1.4481556415557861,
          3.9281060695648193,
          0.9660018086433411,
          1.0103623867034912,
          3.6883089542388916,
          3.9853880405426025,
          2.4433915615081787,
          1.5258057117462158,
          0.5836833119392395,
          0.5582460165023804,
          4.244546413421631,
          3.3752553462982178,
          2.4753713607788086,
          0.3463314175605774,
          3.0193660259246826,
          1.6973282098770142,
          1.9258919954299927,
          4.065685749053955,
          3.528566598892212,
          2.4194390773773193,
          3.721971273422241,
          1.1749346256256104,
          2.588216781616211,
          2.579447031021118,
          2.7404401302337646,
          2.055642604827881,
          1.8936976194381714,
          3.4290246963500977,
          1.7821168899536133,
          0.7395542860031128,
          1.6520628929138184,
          1.3558181524276733,
          1.3376832008361816,
          0.8646838068962097,
          1.3742533922195435,
          3.2764973640441895,
          3.1044726371765137,
          2.63618803024292,
          1.4403901100158691,
          1.3397279977798462,
          4.116354465484619,
          3.2156145572662354,
          3.1691389083862305,
          1.6051216125488281,
          3.1731204986572266,
          2.358257293701172,
          2.1446588039398193,
          2.851707696914673,
          2.7845242023468018,
          1.975448727607727,
          3.801111936569214,
          3.4483110904693604,
          4.002660751342773,
          1.0905653238296509,
          1.1060221195220947,
          3.70263671875,
          2.064598798751831,
          4.038514137268066,
          2.482548475265503,
          2.8246262073516846,
          4.502632141113281,
          2.1023478507995605,
          3.567889928817749,
          3.9847207069396973,
          4.004486560821533,
          2.1410281658172607,
          1.3204941749572754,
          1.5184894800186157,
          3.992279052734375,
          2.8993687629699707,
          4.320670127868652,
          4.203611850738525,
          0.7885255217552185,
          1.642948865890503,
          2.7249772548675537,
          3.346423625946045,
          -11.927248001098633,
          4.188331127166748,
          4.35415506362915,
          4.1601715087890625,
          2.731693744659424,
          1.9216691255569458,
          -12.22571086883545,
          -12.216670036315918,
          4.158994674682617,
          4.34183406829834,
          -12.082487106323242,
          4.502306938171387,
          -12.192310333251953,
          4.461183071136475,
          4.278650283813477,
          4.4975690841674805,
          4.15660285949707,
          4.1788716316223145,
          4.284541606903076,
          4.253706455230713,
          -12.124897956848145,
          4.177925109863281,
          4.207431316375732,
          4.534300804138184,
          4.559953689575195,
          4.504217624664307,
          4.5415802001953125,
          4.484604358673096,
          -11.977941513061523,
          -12.381668090820312,
          -11.991033554077148,
          -12.119131088256836,
          -12.506298065185547,
          -12.00146198272705,
          -12.028895378112793,
          -12.11377239227295,
          -12.44986343383789,
          -12.461379051208496,
          -12.54488754272461,
          -12.402159690856934,
          -12.3933744430542,
          -12.306735038757324,
          -11.884047508239746,
          -12.623082160949707,
          -12.165360450744629,
          -12.080634117126465,
          -12.296125411987305,
          -11.914576530456543,
          -12.297595977783203,
          -12.534492492675781,
          -12.235616683959961,
          -12.432779312133789,
          -11.983437538146973,
          -11.789560317993164,
          -12.103144645690918,
          -11.72842788696289,
          -12.733634948730469,
          -11.53489875793457,
          -12.605045318603516,
          -12.50677490234375,
          -11.703383445739746,
          -12.838501930236816,
          -12.762785911560059,
          -12.778213500976562,
          -11.697013854980469,
          -11.951188087463379,
          -11.512682914733887,
          -11.938650131225586,
          -11.745885848999023,
          -11.705648422241211,
          -11.885772705078125,
          -12.320538520812988,
          -12.112698554992676,
          -11.676749229431152,
          -12.44711685180664,
          -12.456659317016602,
          -11.926178932189941,
          -12.27497386932373,
          -12.19061279296875,
          -12.521097183227539,
          -12.797639846801758,
          -12.65654468536377,
          -12.841460227966309,
          -11.763010025024414,
          -11.802821159362793,
          -11.925028800964355,
          -12.091510772705078,
          -12.830805778503418
         ],
         "xaxis": "x",
         "y": [
          -8.135149002075195,
          -8.469189643859863,
          -8.549894332885742,
          -8.127144813537598,
          -9.54654598236084,
          -8.455374717712402,
          -8.855413436889648,
          -9.188898086547852,
          -8.092199325561523,
          -8.490824699401855,
          -8.587080001831055,
          -8.3186674118042,
          -9.630749702453613,
          -7.687857151031494,
          -8.045788764953613,
          -9.268228530883789,
          -7.840332984924316,
          -9.824514389038086,
          -7.196633338928223,
          -8.436135292053223,
          -9.757009506225586,
          -8.528708457946777,
          -9.488388061523438,
          -8.351266860961914,
          -8.790678977966309,
          -8.680689811706543,
          -8.147340774536133,
          -9.899214744567871,
          -9.112919807434082,
          -7.628136157989502,
          -8.888174057006836,
          -9.034120559692383,
          -7.649458408355713,
          -8.710638999938965,
          -8.674147605895996,
          -9.979704856872559,
          -8.779590606689453,
          -9.385165214538574,
          -6.864587783813477,
          -8.756659507751465,
          -9.478323936462402,
          -9.789026260375977,
          -9.679293632507324,
          -9.231767654418945,
          -8.205583572387695,
          -8.484830856323242,
          -10.099340438842773,
          -9.474010467529297,
          -9.388975143432617,
          -10.078457832336426,
          -8.532356262207031,
          -9.10343074798584,
          -7.815857887268066,
          -8.991106986999512,
          -7.885775566101074,
          -7.656243801116943,
          -9.058241844177246,
          -7.898458480834961,
          -8.282565116882324,
          -7.912999153137207,
          -8.997640609741211,
          -8.609807968139648,
          -7.883108615875244,
          -7.622223854064941,
          -9.69847583770752,
          -8.195184707641602,
          -9.275425910949707,
          -9.934305191040039,
          -7.210214614868164,
          -10.044809341430664,
          -6.921563625335693,
          -7.537859916687012,
          -9.94212532043457,
          -8.888486862182617,
          -9.224316596984863,
          -9.313253402709961,
          -9.212386131286621,
          -8.678130149841309,
          -9.766463279724121,
          -7.506772041320801,
          -8.394796371459961,
          -8.564417839050293,
          -9.508066177368164,
          -8.970782279968262,
          -8.209970474243164,
          -9.192394256591797,
          -8.681273460388184,
          -9.285259246826172,
          -9.775464057922363,
          -8.800836563110352,
          -9.603809356689453,
          -8.84815502166748,
          -7.212628364562988,
          -9.517709732055664,
          -9.64256763458252,
          -7.135168552398682,
          -9.01948070526123,
          -8.086709976196289,
          -7.23405122756958,
          -6.755619049072266,
          -6.896904468536377,
          -8.038299560546875,
          -9.347497940063477,
          -9.825604438781738,
          -8.979554176330566,
          -8.802751541137695,
          -8.553793907165527,
          -8.683503150939941,
          -8.32210922241211,
          -9.190474510192871,
          -9.303799629211426,
          -6.739560604095459,
          -9.275508880615234,
          -6.854489326477051,
          -7.69305419921875,
          -7.569616794586182,
          -8.740478515625,
          -9.440768241882324,
          -7.755935192108154,
          -8.490079879760742,
          -8.7051362991333,
          -9.970474243164062,
          -7.369239330291748,
          -9.096410751342773,
          -9.186960220336914,
          -9.320319175720215,
          -8.93382453918457,
          -8.748112678527832,
          -7.375026702880859,
          -7.721189975738525,
          -8.148701667785645,
          -9.64193058013916,
          -9.73595905303955,
          -8.581825256347656,
          -7.79504919052124,
          -8.768826484680176,
          -7.553317070007324,
          -9.105955123901367,
          -9.136404991149902,
          -7.5052571296691895,
          -9.719351768493652,
          -7.315435886383057,
          -8.692255973815918,
          -8.681857109069824,
          -9.787519454956055,
          -10.015975952148438,
          -9.571182250976562,
          -7.887325286865234,
          -7.922627925872803,
          -8.549164772033691,
          -7.833409309387207,
          -10.194741249084473,
          -8.28261661529541,
          -9.927778244018555,
          -9.14365005493164,
          -7.393423080444336,
          -9.892167091369629,
          -7.1501054763793945,
          -9.202126502990723,
          -8.055624008178711,
          -10.008341789245605,
          -7.663588047027588,
          -7.085834980010986,
          -8.76345443725586,
          -7.301167964935303,
          -7.074953079223633,
          -7.14920711517334,
          -7.692139148712158,
          -7.657038688659668,
          -8.296597480773926,
          -9.96805191040039,
          -7.1499924659729,
          -7.467350006103516,
          -6.6999640464782715,
          -7.801609516143799,
          -7.819788455963135,
          -8.359965324401855,
          -7.484182834625244,
          -6.831648349761963,
          -4.6659770011901855,
          -8.532476425170898,
          -7.154751300811768,
          -7.751573085784912,
          -9.594254493713379,
          -7.253237724304199,
          -9.569806098937988,
          -10.05313777923584,
          -7.647834777832031,
          -7.400243759155273,
          -8.674200057983398,
          -10.034505844116211,
          -4.8137383460998535,
          -7.131808280944824,
          -6.652798652648926,
          -9.85297966003418,
          -6.642685890197754,
          -7.528858184814453,
          -9.770123481750488,
          -8.593761444091797,
          -6.589832782745361,
          -8.707231521606445,
          -7.156086444854736,
          -7.44985294342041,
          -5.564289569854736,
          -9.814550399780273,
          -6.453035831451416,
          -6.62005090713501,
          -4.654099464416504,
          -7.147055149078369,
          -7.961116313934326,
          -4.557600021362305,
          -7.2888922691345215,
          -6.579155445098877,
          -7.197987079620361,
          -10.100067138671875,
          -0.6758744716644287,
          -9.15399169921875,
          -7.074517726898193,
          -4.699542999267578,
          -7.1116437911987305,
          -6.591274738311768,
          -0.4071149528026581,
          -0.6787921786308289,
          -4.608066082000732,
          -6.513391494750977,
          -0.548911988735199,
          -8.3877534866333,
          -0.8064498901367188,
          -7.845419406890869,
          -4.523276329040527,
          -6.411532878875732,
          -4.578724384307861,
          -4.592790126800537,
          -6.633234977722168,
          -5.243574619293213,
          -0.8151804804801941,
          -5.196874141693115,
          -4.4660868644714355,
          -6.40023946762085,
          -6.388263702392578,
          -6.471325397491455,
          -7.772066593170166,
          -7.836844444274902,
          -0.6975643634796143,
          -0.23121483623981476,
          -0.5654407739639282,
          -0.6201251149177551,
          -0.6498133540153503,
          -0.4680383801460266,
          -0.2176099270582199,
          -0.7801597714424133,
          -0.6004423499107361,
          -0.7550504803657532,
          -0.5212523937225342,
          -0.8134143948554993,
          -0.5110416412353516,
          -0.8968408107757568,
          -0.34998375177383423,
          -0.5106748342514038,
          -1.0022969245910645,
          -0.9058486223220825,
          -0.2115846425294876,
          -0.6666245460510254,
          -1.0100429058074951,
          -0.5691347122192383,
          -0.31502029299736023,
          -0.8963665962219238,
          -0.9923630952835083,
          -0.7748975157737732,
          -0.19884169101715088,
          -0.6093676686286926,
          -0.44575563073158264,
          -0.23550498485565186,
          -1.10124671459198,
          -0.14984001219272614,
          -0.9998592138290405,
          -0.6505494117736816,
          -0.5513182282447815,
          -0.9253454208374023,
          -0.6484417915344238,
          -0.2618319094181061,
          -0.4722415506839752,
          -1.1578516960144043,
          -1.0240918397903442,
          -1.1191068887710571,
          -0.8645747900009155,
          0.04327075555920601,
          -1.2389665842056274,
          -0.3761274218559265,
          -0.12435217201709747,
          -0.26215094327926636,
          -0.8963984251022339,
          -1.083538293838501,
          -0.9749154448509216,
          -0.8241841197013855,
          -0.7858241200447083,
          -1.1575570106506348,
          -0.6256577968597412,
          -0.2899036407470703,
          -0.4461415708065033,
          -0.0321628637611866,
          -1.040807843208313,
          -0.35594937205314636
         ],
         "yaxis": "y"
        },
        {
         "hovertemplate": "sentiment_label=neutral<br>UMAP Dimension 1=%{x}<br>UMAP Dimension 2=%{y}<extra></extra>",
         "legendgroup": "neutral",
         "marker": {
          "color": "gray",
          "opacity": 0.7,
          "symbol": "circle"
         },
         "mode": "markers",
         "name": "neutral",
         "orientation": "v",
         "showlegend": true,
         "type": "scatter",
         "x": [
          2.905689239501953,
          1.5328689813613892,
          2.8314433097839355,
          2.394700050354004,
          1.4593442678451538,
          2.8221139907836914,
          0.9007838368415833,
          2.228893756866455,
          1.158466100692749,
          2.8468594551086426,
          3.9207305908203125,
          3.338076591491699,
          4.261706352233887,
          2.174254894256592,
          1.270126461982727,
          -12.360593795776367,
          4.24245023727417,
          4.067172527313232,
          -12.211762428283691,
          -12.39013671875,
          -11.913307189941406,
          -12.22775936126709,
          -12.642720222473145
         ],
         "xaxis": "x",
         "y": [
          -8.26321792602539,
          -9.792699813842773,
          -9.137961387634277,
          -6.675085067749023,
          -8.563517570495605,
          -8.344326972961426,
          -9.788272857666016,
          -10.08240032196045,
          -9.395401000976562,
          -7.793759822845459,
          -9.305606842041016,
          -9.182199478149414,
          -6.992595195770264,
          -6.787043571472168,
          -7.482216835021973,
          -0.4237784147262573,
          -7.252251148223877,
          -4.536672592163086,
          -0.5901691317558289,
          -0.3960983455181122,
          -0.0011687589576467872,
          -1.152658224105835,
          -1.0831577777862549
         ],
         "yaxis": "y"
        },
        {
         "hovertemplate": "sentiment_label=negative<br>UMAP Dimension 1=%{x}<br>UMAP Dimension 2=%{y}<extra></extra>",
         "legendgroup": "negative",
         "marker": {
          "color": "red",
          "opacity": 0.7,
          "symbol": "circle"
         },
         "mode": "markers",
         "name": "negative",
         "orientation": "v",
         "showlegend": true,
         "type": "scatter",
         "x": [
          3.667983055114746,
          3.2701010704040527,
          1.8555426597595215,
          3.9114859104156494,
          3.6286802291870117,
          2.092038154602051,
          0.8910663723945618,
          3.5275537967681885,
          3.56188702583313,
          2.1722280979156494,
          1.6843631267547607,
          3.060929775238037,
          1.0995235443115234,
          3.3752663135528564,
          3.7183663845062256,
          2.519458055496216,
          0.827717661857605,
          1.7129311561584473,
          4.038115501403809,
          -12.323323249816895,
          4.355048179626465,
          -12.307787895202637,
          -12.13675308227539,
          -12.556157112121582,
          -11.457767486572266,
          -12.658255577087402
         ],
         "xaxis": "x",
         "y": [
          -9.22652816772461,
          -9.03911304473877,
          -9.041129112243652,
          -7.7033891677856445,
          -8.908125877380371,
          -7.8854146003723145,
          -8.00149917602539,
          -8.421323776245117,
          -8.868450164794922,
          -7.173246383666992,
          -8.404048919677734,
          -8.66473388671875,
          -7.7986369132995605,
          -8.208965301513672,
          -9.803963661193848,
          -8.123176574707031,
          -7.29396915435791,
          -8.049238204956055,
          -8.215108871459961,
          -0.6272678375244141,
          -6.494663715362549,
          -0.5086290240287781,
          -0.37813860177993774,
          -0.6984061002731323,
          -0.7846145033836365,
          -0.9060800075531006
         ],
         "yaxis": "y"
        }
       ],
       "layout": {
        "legend": {
         "title": {
          "text": "Sentiment"
         },
         "tracegroupgap": 0
        },
        "margin": {
         "b": 10,
         "l": 10,
         "r": 10,
         "t": 40
        },
        "showlegend": true,
        "template": {
         "data": {
          "bar": [
           {
            "error_x": {
             "color": "#2a3f5f"
            },
            "error_y": {
             "color": "#2a3f5f"
            },
            "marker": {
             "line": {
              "color": "#E5ECF6",
              "width": 0.5
             },
             "pattern": {
              "fillmode": "overlay",
              "size": 10,
              "solidity": 0.2
             }
            },
            "type": "bar"
           }
          ],
          "barpolar": [
           {
            "marker": {
             "line": {
              "color": "#E5ECF6",
              "width": 0.5
             },
             "pattern": {
              "fillmode": "overlay",
              "size": 10,
              "solidity": 0.2
             }
            },
            "type": "barpolar"
           }
          ],
          "carpet": [
           {
            "aaxis": {
             "endlinecolor": "#2a3f5f",
             "gridcolor": "white",
             "linecolor": "white",
             "minorgridcolor": "white",
             "startlinecolor": "#2a3f5f"
            },
            "baxis": {
             "endlinecolor": "#2a3f5f",
             "gridcolor": "white",
             "linecolor": "white",
             "minorgridcolor": "white",
             "startlinecolor": "#2a3f5f"
            },
            "type": "carpet"
           }
          ],
          "choropleth": [
           {
            "colorbar": {
             "outlinewidth": 0,
             "ticks": ""
            },
            "type": "choropleth"
           }
          ],
          "contour": [
           {
            "colorbar": {
             "outlinewidth": 0,
             "ticks": ""
            },
            "colorscale": [
             [
              0,
              "#0d0887"
             ],
             [
              0.1111111111111111,
              "#46039f"
             ],
             [
              0.2222222222222222,
              "#7201a8"
             ],
             [
              0.3333333333333333,
              "#9c179e"
             ],
             [
              0.4444444444444444,
              "#bd3786"
             ],
             [
              0.5555555555555556,
              "#d8576b"
             ],
             [
              0.6666666666666666,
              "#ed7953"
             ],
             [
              0.7777777777777778,
              "#fb9f3a"
             ],
             [
              0.8888888888888888,
              "#fdca26"
             ],
             [
              1,
              "#f0f921"
             ]
            ],
            "type": "contour"
           }
          ],
          "contourcarpet": [
           {
            "colorbar": {
             "outlinewidth": 0,
             "ticks": ""
            },
            "type": "contourcarpet"
           }
          ],
          "heatmap": [
           {
            "colorbar": {
             "outlinewidth": 0,
             "ticks": ""
            },
            "colorscale": [
             [
              0,
              "#0d0887"
             ],
             [
              0.1111111111111111,
              "#46039f"
             ],
             [
              0.2222222222222222,
              "#7201a8"
             ],
             [
              0.3333333333333333,
              "#9c179e"
             ],
             [
              0.4444444444444444,
              "#bd3786"
             ],
             [
              0.5555555555555556,
              "#d8576b"
             ],
             [
              0.6666666666666666,
              "#ed7953"
             ],
             [
              0.7777777777777778,
              "#fb9f3a"
             ],
             [
              0.8888888888888888,
              "#fdca26"
             ],
             [
              1,
              "#f0f921"
             ]
            ],
            "type": "heatmap"
           }
          ],
          "heatmapgl": [
           {
            "colorbar": {
             "outlinewidth": 0,
             "ticks": ""
            },
            "colorscale": [
             [
              0,
              "#0d0887"
             ],
             [
              0.1111111111111111,
              "#46039f"
             ],
             [
              0.2222222222222222,
              "#7201a8"
             ],
             [
              0.3333333333333333,
              "#9c179e"
             ],
             [
              0.4444444444444444,
              "#bd3786"
             ],
             [
              0.5555555555555556,
              "#d8576b"
             ],
             [
              0.6666666666666666,
              "#ed7953"
             ],
             [
              0.7777777777777778,
              "#fb9f3a"
             ],
             [
              0.8888888888888888,
              "#fdca26"
             ],
             [
              1,
              "#f0f921"
             ]
            ],
            "type": "heatmapgl"
           }
          ],
          "histogram": [
           {
            "marker": {
             "pattern": {
              "fillmode": "overlay",
              "size": 10,
              "solidity": 0.2
             }
            },
            "type": "histogram"
           }
          ],
          "histogram2d": [
           {
            "colorbar": {
             "outlinewidth": 0,
             "ticks": ""
            },
            "colorscale": [
             [
              0,
              "#0d0887"
             ],
             [
              0.1111111111111111,
              "#46039f"
             ],
             [
              0.2222222222222222,
              "#7201a8"
             ],
             [
              0.3333333333333333,
              "#9c179e"
             ],
             [
              0.4444444444444444,
              "#bd3786"
             ],
             [
              0.5555555555555556,
              "#d8576b"
             ],
             [
              0.6666666666666666,
              "#ed7953"
             ],
             [
              0.7777777777777778,
              "#fb9f3a"
             ],
             [
              0.8888888888888888,
              "#fdca26"
             ],
             [
              1,
              "#f0f921"
             ]
            ],
            "type": "histogram2d"
           }
          ],
          "histogram2dcontour": [
           {
            "colorbar": {
             "outlinewidth": 0,
             "ticks": ""
            },
            "colorscale": [
             [
              0,
              "#0d0887"
             ],
             [
              0.1111111111111111,
              "#46039f"
             ],
             [
              0.2222222222222222,
              "#7201a8"
             ],
             [
              0.3333333333333333,
              "#9c179e"
             ],
             [
              0.4444444444444444,
              "#bd3786"
             ],
             [
              0.5555555555555556,
              "#d8576b"
             ],
             [
              0.6666666666666666,
              "#ed7953"
             ],
             [
              0.7777777777777778,
              "#fb9f3a"
             ],
             [
              0.8888888888888888,
              "#fdca26"
             ],
             [
              1,
              "#f0f921"
             ]
            ],
            "type": "histogram2dcontour"
           }
          ],
          "mesh3d": [
           {
            "colorbar": {
             "outlinewidth": 0,
             "ticks": ""
            },
            "type": "mesh3d"
           }
          ],
          "parcoords": [
           {
            "line": {
             "colorbar": {
              "outlinewidth": 0,
              "ticks": ""
             }
            },
            "type": "parcoords"
           }
          ],
          "pie": [
           {
            "automargin": true,
            "type": "pie"
           }
          ],
          "scatter": [
           {
            "fillpattern": {
             "fillmode": "overlay",
             "size": 10,
             "solidity": 0.2
            },
            "type": "scatter"
           }
          ],
          "scatter3d": [
           {
            "line": {
             "colorbar": {
              "outlinewidth": 0,
              "ticks": ""
             }
            },
            "marker": {
             "colorbar": {
              "outlinewidth": 0,
              "ticks": ""
             }
            },
            "type": "scatter3d"
           }
          ],
          "scattercarpet": [
           {
            "marker": {
             "colorbar": {
              "outlinewidth": 0,
              "ticks": ""
             }
            },
            "type": "scattercarpet"
           }
          ],
          "scattergeo": [
           {
            "marker": {
             "colorbar": {
              "outlinewidth": 0,
              "ticks": ""
             }
            },
            "type": "scattergeo"
           }
          ],
          "scattergl": [
           {
            "marker": {
             "colorbar": {
              "outlinewidth": 0,
              "ticks": ""
             }
            },
            "type": "scattergl"
           }
          ],
          "scattermapbox": [
           {
            "marker": {
             "colorbar": {
              "outlinewidth": 0,
              "ticks": ""
             }
            },
            "type": "scattermapbox"
           }
          ],
          "scatterpolar": [
           {
            "marker": {
             "colorbar": {
              "outlinewidth": 0,
              "ticks": ""
             }
            },
            "type": "scatterpolar"
           }
          ],
          "scatterpolargl": [
           {
            "marker": {
             "colorbar": {
              "outlinewidth": 0,
              "ticks": ""
             }
            },
            "type": "scatterpolargl"
           }
          ],
          "scatterternary": [
           {
            "marker": {
             "colorbar": {
              "outlinewidth": 0,
              "ticks": ""
             }
            },
            "type": "scatterternary"
           }
          ],
          "surface": [
           {
            "colorbar": {
             "outlinewidth": 0,
             "ticks": ""
            },
            "colorscale": [
             [
              0,
              "#0d0887"
             ],
             [
              0.1111111111111111,
              "#46039f"
             ],
             [
              0.2222222222222222,
              "#7201a8"
             ],
             [
              0.3333333333333333,
              "#9c179e"
             ],
             [
              0.4444444444444444,
              "#bd3786"
             ],
             [
              0.5555555555555556,
              "#d8576b"
             ],
             [
              0.6666666666666666,
              "#ed7953"
             ],
             [
              0.7777777777777778,
              "#fb9f3a"
             ],
             [
              0.8888888888888888,
              "#fdca26"
             ],
             [
              1,
              "#f0f921"
             ]
            ],
            "type": "surface"
           }
          ],
          "table": [
           {
            "cells": {
             "fill": {
              "color": "#EBF0F8"
             },
             "line": {
              "color": "white"
             }
            },
            "header": {
             "fill": {
              "color": "#C8D4E3"
             },
             "line": {
              "color": "white"
             }
            },
            "type": "table"
           }
          ]
         },
         "layout": {
          "annotationdefaults": {
           "arrowcolor": "#2a3f5f",
           "arrowhead": 0,
           "arrowwidth": 1
          },
          "autotypenumbers": "strict",
          "coloraxis": {
           "colorbar": {
            "outlinewidth": 0,
            "ticks": ""
           }
          },
          "colorscale": {
           "diverging": [
            [
             0,
             "#8e0152"
            ],
            [
             0.1,
             "#c51b7d"
            ],
            [
             0.2,
             "#de77ae"
            ],
            [
             0.3,
             "#f1b6da"
            ],
            [
             0.4,
             "#fde0ef"
            ],
            [
             0.5,
             "#f7f7f7"
            ],
            [
             0.6,
             "#e6f5d0"
            ],
            [
             0.7,
             "#b8e186"
            ],
            [
             0.8,
             "#7fbc41"
            ],
            [
             0.9,
             "#4d9221"
            ],
            [
             1,
             "#276419"
            ]
           ],
           "sequential": [
            [
             0,
             "#0d0887"
            ],
            [
             0.1111111111111111,
             "#46039f"
            ],
            [
             0.2222222222222222,
             "#7201a8"
            ],
            [
             0.3333333333333333,
             "#9c179e"
            ],
            [
             0.4444444444444444,
             "#bd3786"
            ],
            [
             0.5555555555555556,
             "#d8576b"
            ],
            [
             0.6666666666666666,
             "#ed7953"
            ],
            [
             0.7777777777777778,
             "#fb9f3a"
            ],
            [
             0.8888888888888888,
             "#fdca26"
            ],
            [
             1,
             "#f0f921"
            ]
           ],
           "sequentialminus": [
            [
             0,
             "#0d0887"
            ],
            [
             0.1111111111111111,
             "#46039f"
            ],
            [
             0.2222222222222222,
             "#7201a8"
            ],
            [
             0.3333333333333333,
             "#9c179e"
            ],
            [
             0.4444444444444444,
             "#bd3786"
            ],
            [
             0.5555555555555556,
             "#d8576b"
            ],
            [
             0.6666666666666666,
             "#ed7953"
            ],
            [
             0.7777777777777778,
             "#fb9f3a"
            ],
            [
             0.8888888888888888,
             "#fdca26"
            ],
            [
             1,
             "#f0f921"
            ]
           ]
          },
          "colorway": [
           "#636efa",
           "#EF553B",
           "#00cc96",
           "#ab63fa",
           "#FFA15A",
           "#19d3f3",
           "#FF6692",
           "#B6E880",
           "#FF97FF",
           "#FECB52"
          ],
          "font": {
           "color": "#2a3f5f"
          },
          "geo": {
           "bgcolor": "white",
           "lakecolor": "white",
           "landcolor": "#E5ECF6",
           "showlakes": true,
           "showland": true,
           "subunitcolor": "white"
          },
          "hoverlabel": {
           "align": "left"
          },
          "hovermode": "closest",
          "mapbox": {
           "style": "light"
          },
          "paper_bgcolor": "white",
          "plot_bgcolor": "#E5ECF6",
          "polar": {
           "angularaxis": {
            "gridcolor": "white",
            "linecolor": "white",
            "ticks": ""
           },
           "bgcolor": "#E5ECF6",
           "radialaxis": {
            "gridcolor": "white",
            "linecolor": "white",
            "ticks": ""
           }
          },
          "scene": {
           "xaxis": {
            "backgroundcolor": "#E5ECF6",
            "gridcolor": "white",
            "gridwidth": 2,
            "linecolor": "white",
            "showbackground": true,
            "ticks": "",
            "zerolinecolor": "white"
           },
           "yaxis": {
            "backgroundcolor": "#E5ECF6",
            "gridcolor": "white",
            "gridwidth": 2,
            "linecolor": "white",
            "showbackground": true,
            "ticks": "",
            "zerolinecolor": "white"
           },
           "zaxis": {
            "backgroundcolor": "#E5ECF6",
            "gridcolor": "white",
            "gridwidth": 2,
            "linecolor": "white",
            "showbackground": true,
            "ticks": "",
            "zerolinecolor": "white"
           }
          },
          "shapedefaults": {
           "line": {
            "color": "#2a3f5f"
           }
          },
          "ternary": {
           "aaxis": {
            "gridcolor": "white",
            "linecolor": "white",
            "ticks": ""
           },
           "baxis": {
            "gridcolor": "white",
            "linecolor": "white",
            "ticks": ""
           },
           "bgcolor": "#E5ECF6",
           "caxis": {
            "gridcolor": "white",
            "linecolor": "white",
            "ticks": ""
           }
          },
          "title": {
           "x": 0.05
          },
          "xaxis": {
           "automargin": true,
           "gridcolor": "white",
           "linecolor": "white",
           "ticks": "",
           "title": {
            "standoff": 15
           },
           "zerolinecolor": "white",
           "zerolinewidth": 2
          },
          "yaxis": {
           "automargin": true,
           "gridcolor": "white",
           "linecolor": "white",
           "ticks": "",
           "title": {
            "standoff": 15
           },
           "zerolinecolor": "white",
           "zerolinewidth": 2
          }
         }
        },
        "title": {
         "text": "Embedding Visualization with UMAP"
        },
        "xaxis": {
         "anchor": "y",
         "domain": [
          0,
          1
         ],
         "title": {
          "text": "UMAP Dimension 1"
         }
        },
        "yaxis": {
         "anchor": "x",
         "domain": [
          0,
          1
         ],
         "title": {
          "text": "UMAP Dimension 2"
         }
        }
       }
      }
     },
     "metadata": {},
     "output_type": "display_data"
    }
   ],
   "source": [
    "import umap.umap_ as umap\n",
    "\n",
    "def visualizeEmbeddings(df):\n",
    "    embeddings = np.array(df['embedding'].tolist())\n",
    "    sentiment_labels = df['sentiment_label']\n",
    "\n",
    "    # Reduce dimensionality with UMAP\n",
    "    reducer = umap.UMAP(n_neighbors=15, min_dist=0.1, n_components=2, random_state=42)\n",
    "    reduced_embeddings = reducer.fit_transform(embeddings)\n",
    "\n",
    "    # Create DataFrame for visualization\n",
    "    viz_df = pd.DataFrame(reduced_embeddings, columns=['x', 'y'])\n",
    "    viz_df['sentiment_label'] = sentiment_labels\n",
    "\n",
    "    # Scatter plot with Plotly for interactive visualization\n",
    "    fig = px.scatter(\n",
    "        viz_df,\n",
    "        x='x',\n",
    "        y='y',\n",
    "        color='sentiment_label',\n",
    "        title='Embedding Visualization with UMAP',\n",
    "        labels={'x': 'UMAP Dimension 1', 'y': 'UMAP Dimension 2'},\n",
    "        color_discrete_map={'positive': 'green', 'neutral': 'gray', 'negative': 'red'},\n",
    "        opacity=0.7\n",
    "    )\n",
    "    fig.update_layout(showlegend=True, legend=dict(title='Sentiment'), margin=dict(l=10, r=10, t=40, b=10))\n",
    "    fig.show()\n",
    "\n",
    "visualizeEmbeddings(reviews)\n"
   ]
  },
  {
   "cell_type": "markdown",
   "metadata": {},
   "source": [
    "#### Extract moments with worst rating and process that reviews"
   ]
  },
  {
   "cell_type": "code",
   "execution_count": null,
   "metadata": {},
   "outputs": [],
   "source": []
  },
  {
   "cell_type": "code",
   "execution_count": null,
   "metadata": {},
   "outputs": [],
   "source": []
  },
  {
   "cell_type": "markdown",
   "metadata": {},
   "source": [
    "#### Extract outliers and pain points"
   ]
  },
  {
   "cell_type": "code",
   "execution_count": null,
   "metadata": {},
   "outputs": [],
   "source": [
    "## extract the reviews with negative sentiment:\n",
    "# each one for very low category score\n",
    "# worst 3 words\n",
    "# worst 3 bigrams\n"
   ]
  },
  {
   "cell_type": "code",
   "execution_count": null,
   "metadata": {},
   "outputs": [],
   "source": [
    "# put together each one in a string and send it to gpt api to extract the main pain points to improve"
   ]
  },
  {
   "cell_type": "code",
   "execution_count": null,
   "metadata": {},
   "outputs": [],
   "source": []
  },
  {
   "cell_type": "code",
   "execution_count": null,
   "metadata": {},
   "outputs": [],
   "source": []
  }
 ],
 "metadata": {
  "kernelspec": {
   "display_name": "sar",
   "language": "python",
   "name": "python3"
  },
  "language_info": {
   "codemirror_mode": {
    "name": "ipython",
    "version": 3
   },
   "file_extension": ".py",
   "mimetype": "text/x-python",
   "name": "python",
   "nbconvert_exporter": "python",
   "pygments_lexer": "ipython3",
   "version": "3.9.19"
  }
 },
 "nbformat": 4,
 "nbformat_minor": 2
}
