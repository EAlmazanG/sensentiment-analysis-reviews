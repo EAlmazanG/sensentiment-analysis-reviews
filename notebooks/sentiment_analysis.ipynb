{
 "cells": [
  {
   "cell_type": "code",
   "execution_count": null,
   "metadata": {},
   "outputs": [],
   "source": [
    "import pandas as pd"
   ]
  },
  {
   "cell_type": "code",
   "execution_count": null,
   "metadata": {},
   "outputs": [],
   "source": [
    "processed_data_path = '../data/processed/'\n",
    "raw_data_path = '../data/raw/'\n",
    "\n",
    "name = 'hd'\n",
    "\n",
    "reviews_pro= pd.read_csv(processed_data_path + 'collected_reviews_' + name + '.csv')\n",
    "resumme_raw = pd.read_csv(raw_data_path + 'resumme_' + name + '.csv')\n",
    "\n",
    "display(resumme_raw)\n",
    "display(reviews_pro.sample(5))"
   ]
  },
  {
   "cell_type": "code",
   "execution_count": null,
   "metadata": {},
   "outputs": [],
   "source": []
  }
 ],
 "metadata": {
  "kernelspec": {
   "display_name": "sar",
   "language": "python",
   "name": "python3"
  },
  "language_info": {
   "name": "python",
   "version": "3.9.19"
  }
 },
 "nbformat": 4,
 "nbformat_minor": 2
}
