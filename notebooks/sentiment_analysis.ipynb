{
 "cells": [
  {
   "cell_type": "code",
   "execution_count": 21,
   "metadata": {},
   "outputs": [],
   "source": [
    "import pandas as pd\n",
    "import numpy as np\n",
    "import matplotlib.pyplot as plt\n",
    "import plotly.graph_objects as go\n",
    "from plotly.subplots import make_subplots"
   ]
  },
  {
   "cell_type": "code",
   "execution_count": 56,
   "metadata": {},
   "outputs": [
    {
     "data": {
      "text/html": [
       "<div>\n",
       "<style scoped>\n",
       "    .dataframe tbody tr th:only-of-type {\n",
       "        vertical-align: middle;\n",
       "    }\n",
       "\n",
       "    .dataframe tbody tr th {\n",
       "        vertical-align: top;\n",
       "    }\n",
       "\n",
       "    .dataframe thead th {\n",
       "        text-align: right;\n",
       "    }\n",
       "</style>\n",
       "<table border=\"1\" class=\"dataframe\">\n",
       "  <thead>\n",
       "    <tr style=\"text-align: right;\">\n",
       "      <th></th>\n",
       "      <th>stars</th>\n",
       "      <th>reviews</th>\n",
       "    </tr>\n",
       "  </thead>\n",
       "  <tbody>\n",
       "    <tr>\n",
       "      <th>0</th>\n",
       "      <td>5</td>\n",
       "      <td>2290</td>\n",
       "    </tr>\n",
       "    <tr>\n",
       "      <th>1</th>\n",
       "      <td>4</td>\n",
       "      <td>1308</td>\n",
       "    </tr>\n",
       "    <tr>\n",
       "      <th>2</th>\n",
       "      <td>3</td>\n",
       "      <td>396</td>\n",
       "    </tr>\n",
       "    <tr>\n",
       "      <th>3</th>\n",
       "      <td>2</td>\n",
       "      <td>132</td>\n",
       "    </tr>\n",
       "    <tr>\n",
       "      <th>4</th>\n",
       "      <td>1</td>\n",
       "      <td>128</td>\n",
       "    </tr>\n",
       "  </tbody>\n",
       "</table>\n",
       "</div>"
      ],
      "text/plain": [
       "   stars  reviews\n",
       "0      5     2290\n",
       "1      4     1308\n",
       "2      3      396\n",
       "3      2      132\n",
       "4      1      128"
      ]
     },
     "metadata": {},
     "output_type": "display_data"
    },
    {
     "data": {
      "text/html": [
       "<div>\n",
       "<style scoped>\n",
       "    .dataframe tbody tr th:only-of-type {\n",
       "        vertical-align: middle;\n",
       "    }\n",
       "\n",
       "    .dataframe tbody tr th {\n",
       "        vertical-align: top;\n",
       "    }\n",
       "\n",
       "    .dataframe thead th {\n",
       "        text-align: right;\n",
       "    }\n",
       "</style>\n",
       "<table border=\"1\" class=\"dataframe\">\n",
       "  <thead>\n",
       "    <tr style=\"text-align: right;\">\n",
       "      <th></th>\n",
       "      <th>review_id</th>\n",
       "      <th>review</th>\n",
       "      <th>local_guide_reviews</th>\n",
       "      <th>rating_score</th>\n",
       "      <th>service</th>\n",
       "      <th>meal_type</th>\n",
       "      <th>price_per_person_category</th>\n",
       "      <th>food_score</th>\n",
       "      <th>service_score</th>\n",
       "      <th>atmosphere_score</th>\n",
       "      <th>recommendations_list</th>\n",
       "      <th>date</th>\n",
       "      <th>avg_price_per_person</th>\n",
       "    </tr>\n",
       "  </thead>\n",
       "  <tbody>\n",
       "    <tr>\n",
       "      <th>335</th>\n",
       "      <td>335</td>\n",
       "      <td>NaN</td>\n",
       "      <td>5.0</td>\n",
       "      <td>1.0</td>\n",
       "      <td>NaN</td>\n",
       "      <td>NaN</td>\n",
       "      <td>NaN</td>\n",
       "      <td>NaN</td>\n",
       "      <td>NaN</td>\n",
       "      <td>NaN</td>\n",
       "      <td>['']</td>\n",
       "      <td>2024-01-01</td>\n",
       "      <td>NaN</td>\n",
       "    </tr>\n",
       "    <tr>\n",
       "      <th>247</th>\n",
       "      <td>247</td>\n",
       "      <td>Las hamburguesas y la cordialidad del personal</td>\n",
       "      <td>205.0</td>\n",
       "      <td>5.0</td>\n",
       "      <td>NaN</td>\n",
       "      <td>NaN</td>\n",
       "      <td>NaN</td>\n",
       "      <td>NaN</td>\n",
       "      <td>NaN</td>\n",
       "      <td>NaN</td>\n",
       "      <td>['']</td>\n",
       "      <td>2019-01-01</td>\n",
       "      <td>NaN</td>\n",
       "    </tr>\n",
       "    <tr>\n",
       "      <th>142</th>\n",
       "      <td>142</td>\n",
       "      <td>Hamburguesa muy buena, quizás el pan un poco f...</td>\n",
       "      <td>22.0</td>\n",
       "      <td>4.0</td>\n",
       "      <td>NaN</td>\n",
       "      <td>NaN</td>\n",
       "      <td>NaN</td>\n",
       "      <td>NaN</td>\n",
       "      <td>NaN</td>\n",
       "      <td>NaN</td>\n",
       "      <td>['']</td>\n",
       "      <td>2018-01-01</td>\n",
       "      <td>NaN</td>\n",
       "    </tr>\n",
       "    <tr>\n",
       "      <th>263</th>\n",
       "      <td>263</td>\n",
       "      <td>NaN</td>\n",
       "      <td>31.0</td>\n",
       "      <td>4.0</td>\n",
       "      <td>NaN</td>\n",
       "      <td>NaN</td>\n",
       "      <td>NaN</td>\n",
       "      <td>NaN</td>\n",
       "      <td>NaN</td>\n",
       "      <td>NaN</td>\n",
       "      <td>['']</td>\n",
       "      <td>2017-01-01</td>\n",
       "      <td>NaN</td>\n",
       "    </tr>\n",
       "    <tr>\n",
       "      <th>151</th>\n",
       "      <td>151</td>\n",
       "      <td>Riquísimas hamburguesas, la carne es de muy bu...</td>\n",
       "      <td>256.0</td>\n",
       "      <td>5.0</td>\n",
       "      <td>NaN</td>\n",
       "      <td>NaN</td>\n",
       "      <td>NaN</td>\n",
       "      <td>NaN</td>\n",
       "      <td>NaN</td>\n",
       "      <td>NaN</td>\n",
       "      <td>['']</td>\n",
       "      <td>2019-01-01</td>\n",
       "      <td>NaN</td>\n",
       "    </tr>\n",
       "  </tbody>\n",
       "</table>\n",
       "</div>"
      ],
      "text/plain": [
       "     review_id                                             review  \\\n",
       "335        335                                                NaN   \n",
       "247        247     Las hamburguesas y la cordialidad del personal   \n",
       "142        142  Hamburguesa muy buena, quizás el pan un poco f...   \n",
       "263        263                                                NaN   \n",
       "151        151  Riquísimas hamburguesas, la carne es de muy bu...   \n",
       "\n",
       "     local_guide_reviews  rating_score service meal_type  \\\n",
       "335                  5.0           1.0     NaN       NaN   \n",
       "247                205.0           5.0     NaN       NaN   \n",
       "142                 22.0           4.0     NaN       NaN   \n",
       "263                 31.0           4.0     NaN       NaN   \n",
       "151                256.0           5.0     NaN       NaN   \n",
       "\n",
       "    price_per_person_category  food_score  service_score  atmosphere_score  \\\n",
       "335                       NaN         NaN            NaN               NaN   \n",
       "247                       NaN         NaN            NaN               NaN   \n",
       "142                       NaN         NaN            NaN               NaN   \n",
       "263                       NaN         NaN            NaN               NaN   \n",
       "151                       NaN         NaN            NaN               NaN   \n",
       "\n",
       "    recommendations_list        date  avg_price_per_person  \n",
       "335                 ['']  2024-01-01                   NaN  \n",
       "247                 ['']  2019-01-01                   NaN  \n",
       "142                 ['']  2018-01-01                   NaN  \n",
       "263                 ['']  2017-01-01                   NaN  \n",
       "151                 ['']  2019-01-01                   NaN  "
      ]
     },
     "metadata": {},
     "output_type": "display_data"
    }
   ],
   "source": [
    "processed_data_path = '../data/processed/'\n",
    "raw_data_path = '../data/raw/'\n",
    "\n",
    "name = 'hd'\n",
    "\n",
    "reviews_pro = pd.read_csv(processed_data_path + name + '_reviews.csv')\n",
    "resumme_raw = pd.read_csv(raw_data_path + 'resumme_' + name + '.csv')\n",
    "\n",
    "display(resumme_raw)\n",
    "display(reviews_pro.sample(5))\n",
    "\n",
    "reviews = reviews_pro.copy()\n",
    "resumme = resumme_raw.copy()"
   ]
  },
  {
   "cell_type": "code",
   "execution_count": 84,
   "metadata": {},
   "outputs": [
    {
     "data": {
      "application/vnd.plotly.v1+json": {
       "config": {
        "plotlyServerURL": "https://plot.ly"
       },
       "data": [
        {
         "hoverinfo": "text",
         "line": {
          "color": "#1f77b4"
         },
         "marker": {
          "size": 8
         },
         "mode": "lines+markers",
         "name": "Rating",
         "text": [
          "Rating - 4.50",
          "Rating - 4.55",
          "Rating - 4.75",
          "Rating - 4.55",
          "Rating - 4.12",
          "Rating - 4.08",
          "Rating - 4.43",
          "Rating - 4.56",
          "Rating - 4.89",
          "Rating - 4.38",
          "Rating - 4.00",
          "Rating - 4.37"
         ],
         "type": "scatter",
         "x": [
          "2023-10",
          "2023-11",
          "2023-12",
          "2024-01",
          "2024-02",
          "2024-03",
          "2024-04",
          "2024-05",
          "2024-06",
          "2024-07",
          "2024-08",
          "2024-09"
         ],
         "xaxis": "x",
         "y": [
          4.5,
          4.545454545454546,
          4.75,
          4.545454545454546,
          4.125,
          4.076923076923077,
          4.428571428571429,
          4.5625,
          4.888888888888889,
          4.375,
          4,
          4.368421052631579
         ],
         "yaxis": "y"
        },
        {
         "hoverinfo": "text",
         "line": {
          "color": "#aec7e8"
         },
         "mode": "lines+markers",
         "name": "Food",
         "text": [
          "Food - 5.00",
          "Food - 4.11",
          "Food - 4.75",
          "Food - 4.67",
          "Food - 4.25",
          "Food - 4.09",
          "Food - 4.80",
          "Food - 4.48",
          "Food - 4.88",
          "Food - 4.23",
          "Food - 4.07",
          "Food - 4.50"
         ],
         "type": "scatter",
         "x": [
          "2023-10",
          "2023-11",
          "2023-12",
          "2024-01",
          "2024-02",
          "2024-03",
          "2024-04",
          "2024-05",
          "2024-06",
          "2024-07",
          "2024-08",
          "2024-09"
         ],
         "xaxis": "x",
         "y": [
          5,
          4.111111111111111,
          4.75,
          4.666666666666667,
          4.25,
          4.090909090909091,
          4.8,
          4.481481481481482,
          4.875,
          4.230769230769231,
          4.066666666666666,
          4.5
         ],
         "yaxis": "y"
        },
        {
         "hoverinfo": "text",
         "line": {
          "color": "#aec7e8"
         },
         "mode": "lines+markers",
         "name": "Service",
         "text": [
          "Service - 5.00",
          "Service - 4.60",
          "Service - 4.50",
          "Service - 4.83",
          "Service - 4.38",
          "Service - 4.36",
          "Service - 4.60",
          "Service - 4.71",
          "Service - 4.88",
          "Service - 4.46",
          "Service - 4.38",
          "Service - 4.53"
         ],
         "type": "scatter",
         "x": [
          "2023-10",
          "2023-11",
          "2023-12",
          "2024-01",
          "2024-02",
          "2024-03",
          "2024-04",
          "2024-05",
          "2024-06",
          "2024-07",
          "2024-08",
          "2024-09"
         ],
         "xaxis": "x",
         "y": [
          5,
          4.6,
          4.5,
          4.833333333333333,
          4.375,
          4.363636363636363,
          4.6,
          4.714285714285714,
          4.875,
          4.461538461538462,
          4.375,
          4.529411764705882
         ],
         "yaxis": "y"
        },
        {
         "hoverinfo": "text",
         "line": {
          "color": "#aec7e8"
         },
         "mode": "lines+markers",
         "name": "Atmosphere",
         "text": [
          "Atmosphere - 4.00",
          "Atmosphere - 4.10",
          "Atmosphere - 4.62",
          "Atmosphere - 4.67",
          "Atmosphere - 4.25",
          "Atmosphere - 4.09",
          "Atmosphere - 5.00",
          "Atmosphere - 4.59",
          "Atmosphere - 5.00",
          "Atmosphere - 4.46",
          "Atmosphere - 4.19",
          "Atmosphere - 4.71"
         ],
         "type": "scatter",
         "x": [
          "2023-10",
          "2023-11",
          "2023-12",
          "2024-01",
          "2024-02",
          "2024-03",
          "2024-04",
          "2024-05",
          "2024-06",
          "2024-07",
          "2024-08",
          "2024-09"
         ],
         "xaxis": "x",
         "y": [
          4,
          4.1,
          4.625,
          4.666666666666667,
          4.25,
          4.090909090909091,
          5,
          4.592592592592593,
          5,
          4.461538461538462,
          4.1875,
          4.705882352941177
         ],
         "yaxis": "y"
        },
        {
         "hoverinfo": "text",
         "line": {
          "color": "#1f77b4",
          "width": 4
         },
         "marker": {
          "size": 8
         },
         "mode": "lines+markers",
         "name": "Rating",
         "text": [
          "Rating - 4.29",
          "Rating - 4.32",
          "Rating - 4.73",
          "Rating - 4.23",
          "Rating - 4.19",
          "Rating - 4.34",
          "Rating - 4.23",
          "Rating - 4.38"
         ],
         "type": "scatter",
         "x": [
          "2017.0",
          "2018.0",
          "2019.0",
          "2020.0",
          "2021.0",
          "2022.0",
          "2023.0",
          "2024.0"
         ],
         "xaxis": "x2",
         "y": [
          4.294117647058823,
          4.32,
          4.730769230769231,
          4.230769230769231,
          4.1875,
          4.3428571428571425,
          4.227848101265823,
          4.37593984962406
         ],
         "yaxis": "y2"
        },
        {
         "hoverinfo": "text",
         "line": {
          "color": "#1f77b4"
         },
         "marker": {
          "size": 8
         },
         "mode": "lines+markers",
         "name": "Rating",
         "text": [
          "Rating - 2.00",
          "Rating - 5.00",
          "Rating - 3.75",
          "Rating - 3.25"
         ],
         "type": "scatter",
         "x": [
          "2024-08-26",
          "2024-09-02",
          "2024-09-09",
          "2024-09-16"
         ],
         "xaxis": "x3",
         "y": [
          2,
          5,
          3.75,
          3.25
         ],
         "yaxis": "y3"
        },
        {
         "hoverinfo": "text",
         "line": {
          "color": "#aec7e8"
         },
         "mode": "lines+markers",
         "name": "Food",
         "text": [
          "Food - nan",
          "Food - 5.00",
          "Food - 3.50",
          "Food - 4.33"
         ],
         "type": "scatter",
         "x": [
          "2024-08-26",
          "2024-09-02",
          "2024-09-09",
          "2024-09-16"
         ],
         "xaxis": "x3",
         "y": [
          null,
          5,
          3.5,
          4.333333333333333
         ],
         "yaxis": "y3"
        },
        {
         "hoverinfo": "text",
         "line": {
          "color": "#aec7e8"
         },
         "mode": "lines+markers",
         "name": "Service",
         "text": [
          "Service - nan",
          "Service - 4.90",
          "Service - 4.25",
          "Service - 3.67"
         ],
         "type": "scatter",
         "x": [
          "2024-08-26",
          "2024-09-02",
          "2024-09-09",
          "2024-09-16"
         ],
         "xaxis": "x3",
         "y": [
          null,
          4.9,
          4.25,
          3.6666666666666665
         ],
         "yaxis": "y3"
        },
        {
         "hoverinfo": "text",
         "line": {
          "color": "#aec7e8"
         },
         "mode": "lines+markers",
         "name": "Atmosphere",
         "text": [
          "Atmosphere - nan",
          "Atmosphere - 4.90",
          "Atmosphere - 4.75",
          "Atmosphere - 4.00"
         ],
         "type": "scatter",
         "x": [
          "2024-08-26",
          "2024-09-02",
          "2024-09-09",
          "2024-09-16"
         ],
         "xaxis": "x3",
         "y": [
          null,
          4.9,
          4.75,
          4
         ],
         "yaxis": "y3"
        }
       ],
       "layout": {
        "annotations": [
         {
          "font": {
           "size": 16
          },
          "showarrow": false,
          "text": "Monthly Score Trends (Last 12 Months)",
          "x": 0.5,
          "xanchor": "center",
          "xref": "paper",
          "y": 1,
          "yanchor": "bottom",
          "yref": "paper"
         },
         {
          "font": {
           "size": 16
          },
          "showarrow": false,
          "text": "Annual Rating Score Trends (Last 6 Years)",
          "x": 0.225,
          "xanchor": "center",
          "xref": "paper",
          "y": 0.375,
          "yanchor": "bottom",
          "yref": "paper"
         },
         {
          "font": {
           "size": 16
          },
          "showarrow": false,
          "text": "Weekly Score Trends (Last 4 Weeks)",
          "x": 0.775,
          "xanchor": "center",
          "xref": "paper",
          "y": 0.375,
          "yanchor": "bottom",
          "yref": "paper"
         },
         {
          "arrowhead": 2,
          "ax": 0,
          "ay": 80,
          "font": {
           "size": 14
          },
          "showarrow": true,
          "text": "Highest Score",
          "x": "2024-06",
          "xref": "x",
          "y": 4.8,
          "yref": "y"
         },
         {
          "arrowhead": 2,
          "ax": 0,
          "ay": -40,
          "font": {
           "size": 14
          },
          "showarrow": true,
          "text": "Drop in March",
          "x": "2024-03",
          "xref": "x",
          "y": 4.5,
          "yref": "y"
         },
         {
          "arrowhead": 2,
          "ax": 0,
          "ay": -40,
          "font": {
           "size": 14
          },
          "showarrow": true,
          "text": "Drop in August",
          "x": "2024-08",
          "xref": "x",
          "y": 4.5,
          "yref": "y"
         }
        ],
        "height": 800,
        "margin": {
         "b": 50,
         "l": 50,
         "r": 50,
         "t": 100
        },
        "paper_bgcolor": "white",
        "showlegend": false,
        "template": {
         "data": {
          "bar": [
           {
            "error_x": {
             "color": "#2a3f5f"
            },
            "error_y": {
             "color": "#2a3f5f"
            },
            "marker": {
             "line": {
              "color": "#E5ECF6",
              "width": 0.5
             },
             "pattern": {
              "fillmode": "overlay",
              "size": 10,
              "solidity": 0.2
             }
            },
            "type": "bar"
           }
          ],
          "barpolar": [
           {
            "marker": {
             "line": {
              "color": "#E5ECF6",
              "width": 0.5
             },
             "pattern": {
              "fillmode": "overlay",
              "size": 10,
              "solidity": 0.2
             }
            },
            "type": "barpolar"
           }
          ],
          "carpet": [
           {
            "aaxis": {
             "endlinecolor": "#2a3f5f",
             "gridcolor": "white",
             "linecolor": "white",
             "minorgridcolor": "white",
             "startlinecolor": "#2a3f5f"
            },
            "baxis": {
             "endlinecolor": "#2a3f5f",
             "gridcolor": "white",
             "linecolor": "white",
             "minorgridcolor": "white",
             "startlinecolor": "#2a3f5f"
            },
            "type": "carpet"
           }
          ],
          "choropleth": [
           {
            "colorbar": {
             "outlinewidth": 0,
             "ticks": ""
            },
            "type": "choropleth"
           }
          ],
          "contour": [
           {
            "colorbar": {
             "outlinewidth": 0,
             "ticks": ""
            },
            "colorscale": [
             [
              0,
              "#0d0887"
             ],
             [
              0.1111111111111111,
              "#46039f"
             ],
             [
              0.2222222222222222,
              "#7201a8"
             ],
             [
              0.3333333333333333,
              "#9c179e"
             ],
             [
              0.4444444444444444,
              "#bd3786"
             ],
             [
              0.5555555555555556,
              "#d8576b"
             ],
             [
              0.6666666666666666,
              "#ed7953"
             ],
             [
              0.7777777777777778,
              "#fb9f3a"
             ],
             [
              0.8888888888888888,
              "#fdca26"
             ],
             [
              1,
              "#f0f921"
             ]
            ],
            "type": "contour"
           }
          ],
          "contourcarpet": [
           {
            "colorbar": {
             "outlinewidth": 0,
             "ticks": ""
            },
            "type": "contourcarpet"
           }
          ],
          "heatmap": [
           {
            "colorbar": {
             "outlinewidth": 0,
             "ticks": ""
            },
            "colorscale": [
             [
              0,
              "#0d0887"
             ],
             [
              0.1111111111111111,
              "#46039f"
             ],
             [
              0.2222222222222222,
              "#7201a8"
             ],
             [
              0.3333333333333333,
              "#9c179e"
             ],
             [
              0.4444444444444444,
              "#bd3786"
             ],
             [
              0.5555555555555556,
              "#d8576b"
             ],
             [
              0.6666666666666666,
              "#ed7953"
             ],
             [
              0.7777777777777778,
              "#fb9f3a"
             ],
             [
              0.8888888888888888,
              "#fdca26"
             ],
             [
              1,
              "#f0f921"
             ]
            ],
            "type": "heatmap"
           }
          ],
          "heatmapgl": [
           {
            "colorbar": {
             "outlinewidth": 0,
             "ticks": ""
            },
            "colorscale": [
             [
              0,
              "#0d0887"
             ],
             [
              0.1111111111111111,
              "#46039f"
             ],
             [
              0.2222222222222222,
              "#7201a8"
             ],
             [
              0.3333333333333333,
              "#9c179e"
             ],
             [
              0.4444444444444444,
              "#bd3786"
             ],
             [
              0.5555555555555556,
              "#d8576b"
             ],
             [
              0.6666666666666666,
              "#ed7953"
             ],
             [
              0.7777777777777778,
              "#fb9f3a"
             ],
             [
              0.8888888888888888,
              "#fdca26"
             ],
             [
              1,
              "#f0f921"
             ]
            ],
            "type": "heatmapgl"
           }
          ],
          "histogram": [
           {
            "marker": {
             "pattern": {
              "fillmode": "overlay",
              "size": 10,
              "solidity": 0.2
             }
            },
            "type": "histogram"
           }
          ],
          "histogram2d": [
           {
            "colorbar": {
             "outlinewidth": 0,
             "ticks": ""
            },
            "colorscale": [
             [
              0,
              "#0d0887"
             ],
             [
              0.1111111111111111,
              "#46039f"
             ],
             [
              0.2222222222222222,
              "#7201a8"
             ],
             [
              0.3333333333333333,
              "#9c179e"
             ],
             [
              0.4444444444444444,
              "#bd3786"
             ],
             [
              0.5555555555555556,
              "#d8576b"
             ],
             [
              0.6666666666666666,
              "#ed7953"
             ],
             [
              0.7777777777777778,
              "#fb9f3a"
             ],
             [
              0.8888888888888888,
              "#fdca26"
             ],
             [
              1,
              "#f0f921"
             ]
            ],
            "type": "histogram2d"
           }
          ],
          "histogram2dcontour": [
           {
            "colorbar": {
             "outlinewidth": 0,
             "ticks": ""
            },
            "colorscale": [
             [
              0,
              "#0d0887"
             ],
             [
              0.1111111111111111,
              "#46039f"
             ],
             [
              0.2222222222222222,
              "#7201a8"
             ],
             [
              0.3333333333333333,
              "#9c179e"
             ],
             [
              0.4444444444444444,
              "#bd3786"
             ],
             [
              0.5555555555555556,
              "#d8576b"
             ],
             [
              0.6666666666666666,
              "#ed7953"
             ],
             [
              0.7777777777777778,
              "#fb9f3a"
             ],
             [
              0.8888888888888888,
              "#fdca26"
             ],
             [
              1,
              "#f0f921"
             ]
            ],
            "type": "histogram2dcontour"
           }
          ],
          "mesh3d": [
           {
            "colorbar": {
             "outlinewidth": 0,
             "ticks": ""
            },
            "type": "mesh3d"
           }
          ],
          "parcoords": [
           {
            "line": {
             "colorbar": {
              "outlinewidth": 0,
              "ticks": ""
             }
            },
            "type": "parcoords"
           }
          ],
          "pie": [
           {
            "automargin": true,
            "type": "pie"
           }
          ],
          "scatter": [
           {
            "fillpattern": {
             "fillmode": "overlay",
             "size": 10,
             "solidity": 0.2
            },
            "type": "scatter"
           }
          ],
          "scatter3d": [
           {
            "line": {
             "colorbar": {
              "outlinewidth": 0,
              "ticks": ""
             }
            },
            "marker": {
             "colorbar": {
              "outlinewidth": 0,
              "ticks": ""
             }
            },
            "type": "scatter3d"
           }
          ],
          "scattercarpet": [
           {
            "marker": {
             "colorbar": {
              "outlinewidth": 0,
              "ticks": ""
             }
            },
            "type": "scattercarpet"
           }
          ],
          "scattergeo": [
           {
            "marker": {
             "colorbar": {
              "outlinewidth": 0,
              "ticks": ""
             }
            },
            "type": "scattergeo"
           }
          ],
          "scattergl": [
           {
            "marker": {
             "colorbar": {
              "outlinewidth": 0,
              "ticks": ""
             }
            },
            "type": "scattergl"
           }
          ],
          "scattermapbox": [
           {
            "marker": {
             "colorbar": {
              "outlinewidth": 0,
              "ticks": ""
             }
            },
            "type": "scattermapbox"
           }
          ],
          "scatterpolar": [
           {
            "marker": {
             "colorbar": {
              "outlinewidth": 0,
              "ticks": ""
             }
            },
            "type": "scatterpolar"
           }
          ],
          "scatterpolargl": [
           {
            "marker": {
             "colorbar": {
              "outlinewidth": 0,
              "ticks": ""
             }
            },
            "type": "scatterpolargl"
           }
          ],
          "scatterternary": [
           {
            "marker": {
             "colorbar": {
              "outlinewidth": 0,
              "ticks": ""
             }
            },
            "type": "scatterternary"
           }
          ],
          "surface": [
           {
            "colorbar": {
             "outlinewidth": 0,
             "ticks": ""
            },
            "colorscale": [
             [
              0,
              "#0d0887"
             ],
             [
              0.1111111111111111,
              "#46039f"
             ],
             [
              0.2222222222222222,
              "#7201a8"
             ],
             [
              0.3333333333333333,
              "#9c179e"
             ],
             [
              0.4444444444444444,
              "#bd3786"
             ],
             [
              0.5555555555555556,
              "#d8576b"
             ],
             [
              0.6666666666666666,
              "#ed7953"
             ],
             [
              0.7777777777777778,
              "#fb9f3a"
             ],
             [
              0.8888888888888888,
              "#fdca26"
             ],
             [
              1,
              "#f0f921"
             ]
            ],
            "type": "surface"
           }
          ],
          "table": [
           {
            "cells": {
             "fill": {
              "color": "#EBF0F8"
             },
             "line": {
              "color": "white"
             }
            },
            "header": {
             "fill": {
              "color": "#C8D4E3"
             },
             "line": {
              "color": "white"
             }
            },
            "type": "table"
           }
          ]
         },
         "layout": {
          "annotationdefaults": {
           "arrowcolor": "#2a3f5f",
           "arrowhead": 0,
           "arrowwidth": 1
          },
          "autotypenumbers": "strict",
          "coloraxis": {
           "colorbar": {
            "outlinewidth": 0,
            "ticks": ""
           }
          },
          "colorscale": {
           "diverging": [
            [
             0,
             "#8e0152"
            ],
            [
             0.1,
             "#c51b7d"
            ],
            [
             0.2,
             "#de77ae"
            ],
            [
             0.3,
             "#f1b6da"
            ],
            [
             0.4,
             "#fde0ef"
            ],
            [
             0.5,
             "#f7f7f7"
            ],
            [
             0.6,
             "#e6f5d0"
            ],
            [
             0.7,
             "#b8e186"
            ],
            [
             0.8,
             "#7fbc41"
            ],
            [
             0.9,
             "#4d9221"
            ],
            [
             1,
             "#276419"
            ]
           ],
           "sequential": [
            [
             0,
             "#0d0887"
            ],
            [
             0.1111111111111111,
             "#46039f"
            ],
            [
             0.2222222222222222,
             "#7201a8"
            ],
            [
             0.3333333333333333,
             "#9c179e"
            ],
            [
             0.4444444444444444,
             "#bd3786"
            ],
            [
             0.5555555555555556,
             "#d8576b"
            ],
            [
             0.6666666666666666,
             "#ed7953"
            ],
            [
             0.7777777777777778,
             "#fb9f3a"
            ],
            [
             0.8888888888888888,
             "#fdca26"
            ],
            [
             1,
             "#f0f921"
            ]
           ],
           "sequentialminus": [
            [
             0,
             "#0d0887"
            ],
            [
             0.1111111111111111,
             "#46039f"
            ],
            [
             0.2222222222222222,
             "#7201a8"
            ],
            [
             0.3333333333333333,
             "#9c179e"
            ],
            [
             0.4444444444444444,
             "#bd3786"
            ],
            [
             0.5555555555555556,
             "#d8576b"
            ],
            [
             0.6666666666666666,
             "#ed7953"
            ],
            [
             0.7777777777777778,
             "#fb9f3a"
            ],
            [
             0.8888888888888888,
             "#fdca26"
            ],
            [
             1,
             "#f0f921"
            ]
           ]
          },
          "colorway": [
           "#636efa",
           "#EF553B",
           "#00cc96",
           "#ab63fa",
           "#FFA15A",
           "#19d3f3",
           "#FF6692",
           "#B6E880",
           "#FF97FF",
           "#FECB52"
          ],
          "font": {
           "color": "#2a3f5f"
          },
          "geo": {
           "bgcolor": "white",
           "lakecolor": "white",
           "landcolor": "#E5ECF6",
           "showlakes": true,
           "showland": true,
           "subunitcolor": "white"
          },
          "hoverlabel": {
           "align": "left"
          },
          "hovermode": "closest",
          "mapbox": {
           "style": "light"
          },
          "paper_bgcolor": "white",
          "plot_bgcolor": "#E5ECF6",
          "polar": {
           "angularaxis": {
            "gridcolor": "white",
            "linecolor": "white",
            "ticks": ""
           },
           "bgcolor": "#E5ECF6",
           "radialaxis": {
            "gridcolor": "white",
            "linecolor": "white",
            "ticks": ""
           }
          },
          "scene": {
           "xaxis": {
            "backgroundcolor": "#E5ECF6",
            "gridcolor": "white",
            "gridwidth": 2,
            "linecolor": "white",
            "showbackground": true,
            "ticks": "",
            "zerolinecolor": "white"
           },
           "yaxis": {
            "backgroundcolor": "#E5ECF6",
            "gridcolor": "white",
            "gridwidth": 2,
            "linecolor": "white",
            "showbackground": true,
            "ticks": "",
            "zerolinecolor": "white"
           },
           "zaxis": {
            "backgroundcolor": "#E5ECF6",
            "gridcolor": "white",
            "gridwidth": 2,
            "linecolor": "white",
            "showbackground": true,
            "ticks": "",
            "zerolinecolor": "white"
           }
          },
          "shapedefaults": {
           "line": {
            "color": "#2a3f5f"
           }
          },
          "ternary": {
           "aaxis": {
            "gridcolor": "white",
            "linecolor": "white",
            "ticks": ""
           },
           "baxis": {
            "gridcolor": "white",
            "linecolor": "white",
            "ticks": ""
           },
           "bgcolor": "#E5ECF6",
           "caxis": {
            "gridcolor": "white",
            "linecolor": "white",
            "ticks": ""
           }
          },
          "title": {
           "x": 0.05
          },
          "xaxis": {
           "automargin": true,
           "gridcolor": "white",
           "linecolor": "white",
           "ticks": "",
           "title": {
            "standoff": 15
           },
           "zerolinecolor": "white",
           "zerolinewidth": 2
          },
          "yaxis": {
           "automargin": true,
           "gridcolor": "white",
           "linecolor": "white",
           "ticks": "",
           "title": {
            "standoff": 15
           },
           "zerolinecolor": "white",
           "zerolinewidth": 2
          }
         }
        },
        "title": {
         "font": {
          "size": 28
         },
         "text": "Score Trends Analysis"
        },
        "width": 1200,
        "xaxis": {
         "anchor": "y",
         "domain": [
          0,
          1
         ],
         "showgrid": false,
         "showline": false
        },
        "xaxis2": {
         "anchor": "y2",
         "domain": [
          0,
          0.45
         ],
         "showgrid": false,
         "showline": false,
         "tickformat": "%Y"
        },
        "xaxis3": {
         "anchor": "y3",
         "domain": [
          0.55,
          1
         ],
         "showgrid": false,
         "showline": false,
         "tickformat": "%d-%b"
        },
        "yaxis": {
         "anchor": "x",
         "domain": [
          0.625,
          1
         ],
         "showgrid": true,
         "showline": false
        },
        "yaxis2": {
         "anchor": "x2",
         "domain": [
          0,
          0.375
         ],
         "showgrid": true,
         "showline": false
        },
        "yaxis3": {
         "anchor": "x3",
         "domain": [
          0,
          0.375
         ],
         "showgrid": true,
         "showline": false
        }
       }
      }
     },
     "metadata": {},
     "output_type": "display_data"
    }
   ],
   "source": [
    "# Convert date column to datetime format\n",
    "reviews['date'] = pd.to_datetime(reviews['date'], errors='coerce')\n",
    "reviews['month'] = reviews['date'].dt.to_period('M')\n",
    "reviews['year'] = reviews['date'].dt.year\n",
    "reviews['week'] = reviews['date'].dt.to_period('W')\n",
    "reviews['week'] = reviews['date'] - pd.to_timedelta(reviews['date'].dt.weekday, unit='d')\n",
    "reviews['week'] = reviews['week'].dt.strftime('%Y-%m-%d')\n",
    "\n",
    "# Filter data for the last periods (months, years, weeks)\n",
    "last_months = reviews[reviews['date'] >= pd.to_datetime('today') - pd.DateOffset(months=12)]\n",
    "last_years = reviews[reviews['date'] >= pd.to_datetime('today') - pd.DateOffset(years=8)]\n",
    "last_weeks = reviews[reviews['date'] >= pd.to_datetime('today') - pd.DateOffset(weeks=5)]\n",
    "\n",
    "# Compute averages for the required periods\n",
    "monthly_avg_scores = last_months.groupby('month')[['rating_score', 'food_score', 'service_score', 'atmosphere_score']].mean()\n",
    "yearly_avg_scores = last_years.groupby('year')[['rating_score']].mean()\n",
    "weekly_avg_scores = last_weeks.groupby('week')[['rating_score', 'food_score', 'service_score', 'atmosphere_score']].mean()\n",
    "\n",
    "# Update the axis labels for each score to be more readable\n",
    "label_mapping = {\n",
    "    'rating_score': 'Rating',\n",
    "    'food_score': 'Food',\n",
    "    'service_score': 'Service',\n",
    "    'atmosphere_score': 'Atmosphere'\n",
    "}\n",
    "\n",
    "# Create a figure with subplots using the Z-layout\n",
    "fig = make_subplots(rows=2, cols=2,\n",
    "                    specs=[[{\"colspan\": 2}, None],\n",
    "                           [{}, {}]],  # 1 large plot on the first row, 2 smaller plots on the second\n",
    "                    subplot_titles=(\"Monthly Score Trends (Last 12 Months)\", \n",
    "                                    \"Annual Rating Score Trends (Last 6 Years)\", \n",
    "                                    \"Weekly Score Trends (Last 4 Weeks)\"))\n",
    "\n",
    "# Add monthly score trends to the first row (rating_score in stronger color)\n",
    "colors = ['#1f77b4', '#aec7e8', '#aec7e8', '#aec7e8']  # Same tonal range, rating_score stronger\n",
    "for i, column in enumerate(monthly_avg_scores.columns):\n",
    "    label = label_mapping[column]  # Get the readable label\n",
    "    fig.add_trace(\n",
    "        go.Scatter(x=monthly_avg_scores.index.astype(str), y=monthly_avg_scores[column],\n",
    "                   mode='lines+markers', name=label, \n",
    "                   text=[f\"{label} - {val:.2f}\" for val in monthly_avg_scores[column]], \n",
    "                   hoverinfo=\"text\", line=dict(color=colors[i])),\n",
    "        row=1, col=1)\n",
    "\n",
    "# Add yearly score trends to the second row (left)\n",
    "fig.add_trace(\n",
    "    go.Scatter(x=yearly_avg_scores.index.astype(str), y=yearly_avg_scores['rating_score'],\n",
    "               mode='lines+markers', name=\"Rating\", line=dict(color='#1f77b4', width=4),\n",
    "               text=[f\"Rating - {val:.2f}\" for val in yearly_avg_scores['rating_score']], \n",
    "               hoverinfo=\"text\"),\n",
    "    row=2, col=1)\n",
    "\n",
    "# Add weekly score trends to the second row (right, weaker colors)\n",
    "for i, column in enumerate(weekly_avg_scores.columns):\n",
    "    label = label_mapping[column]  # Get the readable label\n",
    "    fig.add_trace(\n",
    "        go.Scatter(x=weekly_avg_scores.index.astype(str), y=weekly_avg_scores[column],\n",
    "                   mode='lines+markers', name=label, \n",
    "                   text=[f\"{label} - {val:.2f}\" for val in weekly_avg_scores[column]], \n",
    "                   hoverinfo=\"text\", line=dict(color=colors[i])),\n",
    "        row=2, col=2)\n",
    "\n",
    "# Enhance presentation: remove gridlines and borders, increase size, and remove legend\n",
    "fig.update_layout(showlegend=False, \n",
    "                  title=\"Score Trends Analysis\",\n",
    "                  title_font=dict(size=28),\n",
    "                  margin=dict(l=50, r=50, t=100, b=50),\n",
    "                  paper_bgcolor=\"white\",\n",
    "                  height=800, width=1200)\n",
    "\n",
    "# Remove unnecessary gridlines for a cleaner look\n",
    "fig.update_xaxes(showline=False, showgrid=False)\n",
    "fig.update_yaxes(showline=False, showgrid=True)\n",
    "\n",
    "# Customize x-axes formatting: show only the year for yearly data, and only day and month for weekly data\n",
    "fig.update_xaxes(\n",
    "    tickformat=\"%Y\",  # Only show the year for the yearly graph\n",
    "    row=2, col=1\n",
    ")\n",
    "\n",
    "fig.update_xaxes(\n",
    "    tickformat=\"%d-%b\",  # Show only the day and month for weekly graph\n",
    "    row=2, col=2\n",
    ")\n",
    "\n",
    "# Add annotations to highlight key points\n",
    "fig.add_annotation(x='2024-06', y=4.8, \n",
    "                   text=\"Highest Score\", \n",
    "                   showarrow=True, arrowhead=2,\n",
    "                   ax=0, ay=80, row=1, col=1, font=dict(size=14))\n",
    "\n",
    "fig.add_annotation(x='2024-03', y=4.5, \n",
    "                   text=\"Drop in March\", \n",
    "                   showarrow=True, arrowhead=2,\n",
    "                   ax=0, ay=-40, row=1, col=1, font=dict(size=14))\n",
    "\n",
    "fig.add_annotation(x='2024-08', y=4.5, \n",
    "                   text=\"Drop in August\", \n",
    "                   showarrow=True, arrowhead=2,\n",
    "                   ax=0, ay=-40, row=1, col=1, font=dict(size=14))\n",
    "\n",
    "# Improve line aesthetics (rating score with more prominence)\n",
    "fig.update_traces(marker=dict(size=8), selector=dict(name=\"Rating\"))\n",
    "\n",
    "# Display the interactive plot\n",
    "fig.show()\n"
   ]
  },
  {
   "cell_type": "code",
   "execution_count": 75,
   "metadata": {},
   "outputs": [
    {
     "data": {
      "text/html": [
       "<div>\n",
       "<style scoped>\n",
       "    .dataframe tbody tr th:only-of-type {\n",
       "        vertical-align: middle;\n",
       "    }\n",
       "\n",
       "    .dataframe tbody tr th {\n",
       "        vertical-align: top;\n",
       "    }\n",
       "\n",
       "    .dataframe thead th {\n",
       "        text-align: right;\n",
       "    }\n",
       "</style>\n",
       "<table border=\"1\" class=\"dataframe\">\n",
       "  <thead>\n",
       "    <tr style=\"text-align: right;\">\n",
       "      <th></th>\n",
       "      <th>stars</th>\n",
       "      <th>reviews</th>\n",
       "    </tr>\n",
       "  </thead>\n",
       "  <tbody>\n",
       "    <tr>\n",
       "      <th>0</th>\n",
       "      <td>5</td>\n",
       "      <td>2290</td>\n",
       "    </tr>\n",
       "    <tr>\n",
       "      <th>1</th>\n",
       "      <td>4</td>\n",
       "      <td>1308</td>\n",
       "    </tr>\n",
       "    <tr>\n",
       "      <th>2</th>\n",
       "      <td>3</td>\n",
       "      <td>396</td>\n",
       "    </tr>\n",
       "    <tr>\n",
       "      <th>3</th>\n",
       "      <td>2</td>\n",
       "      <td>132</td>\n",
       "    </tr>\n",
       "    <tr>\n",
       "      <th>4</th>\n",
       "      <td>1</td>\n",
       "      <td>128</td>\n",
       "    </tr>\n",
       "  </tbody>\n",
       "</table>\n",
       "</div>"
      ],
      "text/plain": [
       "   stars  reviews\n",
       "0      5     2290\n",
       "1      4     1308\n",
       "2      3      396\n",
       "3      2      132\n",
       "4      1      128"
      ]
     },
     "execution_count": 75,
     "metadata": {},
     "output_type": "execute_result"
    }
   ],
   "source": [
    "resumme_raw"
   ]
  },
  {
   "cell_type": "code",
   "execution_count": 111,
   "metadata": {},
   "outputs": [
    {
     "data": {
      "application/vnd.plotly.v1+json": {
       "config": {
        "plotlyServerURL": "https://plot.ly"
       },
       "data": [
        {
         "mode": "text",
         "text": [
          "4.29"
         ],
         "textfont": {
          "size": 120
         },
         "type": "scatter",
         "x": [
          0
         ],
         "xaxis": "x",
         "y": [
          0
         ],
         "yaxis": "y"
        },
        {
         "marker": {
          "color": "lightskyblue"
         },
         "name": "Reviews",
         "orientation": "h",
         "text": [
          2290,
          1308,
          396,
          132,
          128
         ],
         "textposition": "auto",
         "type": "bar",
         "x": [
          2290,
          1308,
          396,
          132,
          128
         ],
         "xaxis": "x2",
         "y": [
          5,
          4,
          3,
          2,
          1
         ],
         "yaxis": "y2"
        },
        {
         "marker": {
          "color": "#aec7e8"
         },
         "name": "Food",
         "orientation": "h",
         "type": "bar",
         "x": [
          5,
          4,
          5,
          null,
          1,
          5,
          5,
          2,
          4,
          5,
          5,
          3,
          5,
          null,
          4,
          1,
          5,
          null,
          3,
          2,
          5,
          null,
          null,
          null,
          5,
          5,
          null,
          null,
          5,
          null,
          null,
          3,
          5,
          5,
          null,
          null,
          null,
          null,
          5,
          2,
          5,
          null,
          null,
          4,
          null,
          null,
          null,
          null,
          null,
          null,
          null,
          5,
          null,
          null,
          1,
          5,
          4,
          5,
          5,
          null,
          null,
          null,
          5,
          2,
          null,
          null,
          null,
          3,
          null,
          null,
          4,
          5,
          null,
          null,
          null,
          null,
          5,
          null,
          5,
          null,
          5,
          null,
          5,
          null,
          5,
          null,
          5,
          5,
          null,
          null,
          null,
          null,
          null,
          null,
          null,
          null,
          null,
          5,
          5,
          4,
          null,
          5,
          5,
          5,
          null,
          null,
          5,
          null,
          null,
          null,
          5,
          1,
          5,
          4,
          null,
          null,
          null,
          null,
          null,
          null,
          null,
          null,
          null,
          null,
          null,
          5,
          null,
          null,
          null,
          null,
          4,
          5,
          5,
          5,
          5,
          null,
          null,
          4,
          null,
          null,
          5,
          5,
          null,
          5,
          null,
          null,
          null,
          null,
          4,
          null,
          null,
          null,
          null,
          4,
          5,
          5,
          5,
          2,
          4,
          5,
          5,
          5,
          5,
          null,
          5,
          null,
          null,
          null,
          4,
          null,
          null,
          null,
          5,
          4,
          null,
          null,
          null,
          null,
          null,
          null,
          5,
          null,
          null,
          5,
          null,
          null,
          null,
          null,
          null,
          null,
          null,
          5,
          5,
          null,
          null,
          null,
          null,
          null,
          null,
          null,
          null,
          null,
          null,
          4,
          null,
          null,
          null,
          null,
          null,
          null,
          null,
          null,
          null,
          null,
          null,
          null,
          null,
          null,
          null,
          null,
          null,
          null,
          null,
          null,
          null,
          null,
          null,
          null,
          null,
          null,
          null,
          null,
          null,
          null,
          null,
          null,
          null,
          null,
          null,
          null,
          null,
          4,
          null,
          5,
          null,
          null,
          null,
          null,
          null,
          null,
          null,
          null,
          null,
          null,
          null,
          null,
          null,
          null,
          null,
          5,
          null,
          null,
          null,
          null,
          null,
          null,
          null,
          null,
          null,
          null,
          null,
          null,
          null,
          null,
          null,
          null,
          null,
          null,
          null,
          null,
          null,
          null,
          null,
          null,
          null,
          null,
          null,
          null,
          null,
          null,
          null,
          4,
          5,
          5,
          5,
          5,
          5,
          null,
          4,
          5,
          null,
          5,
          3,
          5,
          null,
          4,
          4,
          5,
          1,
          null,
          null,
          5,
          5,
          null,
          5,
          null,
          5,
          5,
          4,
          5,
          5,
          4,
          5,
          null,
          4,
          null,
          3,
          4,
          2,
          4,
          5,
          4,
          5,
          null,
          null,
          null,
          null,
          4,
          5,
          5,
          null,
          4,
          5,
          null,
          null,
          5,
          2,
          null,
          4,
          null,
          null,
          null,
          null,
          null,
          null,
          null,
          null,
          null,
          null,
          null
         ],
         "xaxis": "x3",
         "y": [
          5,
          4,
          3,
          2,
          1
         ],
         "yaxis": "y3"
        },
        {
         "marker": {
          "color": "#ff7f0e"
         },
         "name": "Service",
         "orientation": "h",
         "type": "bar",
         "x": [
          5,
          5,
          5,
          3,
          1,
          5,
          5,
          3,
          5,
          5,
          5,
          2,
          5,
          null,
          5,
          4,
          5,
          null,
          1,
          5,
          5,
          null,
          null,
          null,
          5,
          4,
          null,
          null,
          5,
          null,
          null,
          1,
          5,
          5,
          null,
          null,
          null,
          null,
          5,
          4,
          5,
          null,
          null,
          4,
          null,
          null,
          null,
          null,
          null,
          null,
          null,
          5,
          null,
          null,
          5,
          5,
          4,
          4,
          5,
          null,
          null,
          null,
          5,
          3,
          null,
          null,
          null,
          4,
          null,
          null,
          5,
          5,
          null,
          null,
          null,
          null,
          5,
          null,
          5,
          null,
          5,
          5,
          5,
          null,
          5,
          null,
          5,
          5,
          null,
          null,
          null,
          null,
          null,
          null,
          null,
          null,
          null,
          5,
          5,
          5,
          null,
          5,
          5,
          5,
          null,
          null,
          5,
          null,
          null,
          null,
          4,
          5,
          5,
          5,
          null,
          null,
          null,
          null,
          null,
          null,
          null,
          null,
          null,
          null,
          null,
          5,
          null,
          null,
          null,
          null,
          5,
          5,
          5,
          5,
          4,
          null,
          null,
          4,
          null,
          null,
          5,
          5,
          null,
          5,
          null,
          null,
          null,
          null,
          5,
          null,
          null,
          null,
          null,
          4,
          5,
          5,
          5,
          1,
          4,
          5,
          5,
          5,
          5,
          null,
          5,
          null,
          null,
          null,
          4,
          null,
          null,
          null,
          5,
          5,
          null,
          null,
          null,
          null,
          null,
          null,
          5,
          null,
          null,
          5,
          null,
          null,
          null,
          null,
          null,
          null,
          null,
          5,
          5,
          null,
          null,
          null,
          null,
          null,
          null,
          null,
          null,
          null,
          null,
          5,
          null,
          null,
          null,
          null,
          null,
          null,
          null,
          null,
          null,
          null,
          null,
          null,
          null,
          null,
          null,
          null,
          null,
          null,
          null,
          null,
          null,
          null,
          null,
          null,
          null,
          null,
          null,
          null,
          null,
          null,
          null,
          null,
          null,
          null,
          null,
          null,
          null,
          3,
          null,
          5,
          null,
          null,
          null,
          null,
          null,
          null,
          null,
          null,
          null,
          null,
          null,
          null,
          null,
          null,
          null,
          4,
          null,
          null,
          null,
          null,
          null,
          null,
          null,
          null,
          null,
          null,
          null,
          null,
          null,
          null,
          null,
          null,
          null,
          null,
          null,
          null,
          null,
          null,
          null,
          null,
          null,
          null,
          null,
          null,
          null,
          null,
          null,
          4,
          5,
          5,
          5,
          5,
          5,
          null,
          4,
          5,
          null,
          5,
          4,
          5,
          3,
          3,
          4,
          5,
          1,
          null,
          null,
          5,
          4,
          null,
          5,
          null,
          5,
          5,
          5,
          5,
          5,
          4,
          5,
          null,
          5,
          null,
          2,
          3,
          5,
          5,
          5,
          4,
          5,
          null,
          null,
          null,
          null,
          4,
          5,
          5,
          null,
          4,
          4,
          null,
          null,
          5,
          4,
          5,
          4,
          null,
          null,
          null,
          null,
          null,
          null,
          null,
          null,
          null,
          null,
          null
         ],
         "xaxis": "x3",
         "y": [
          5,
          4,
          3,
          2,
          1
         ],
         "yaxis": "y3"
        },
        {
         "marker": {
          "color": "#2ca02c"
         },
         "name": "Atmosphere",
         "orientation": "h",
         "type": "bar",
         "x": [
          5,
          4,
          5,
          3,
          2,
          5,
          5,
          4,
          5,
          5,
          5,
          4,
          5,
          null,
          4,
          1,
          5,
          null,
          4,
          3,
          5,
          null,
          null,
          null,
          5,
          5,
          null,
          null,
          5,
          null,
          null,
          2,
          4,
          5,
          null,
          null,
          null,
          null,
          5,
          5,
          5,
          null,
          null,
          3,
          null,
          null,
          null,
          null,
          null,
          null,
          null,
          5,
          null,
          null,
          4,
          5,
          5,
          4,
          5,
          null,
          null,
          null,
          5,
          4,
          null,
          null,
          null,
          4,
          null,
          null,
          4,
          5,
          null,
          null,
          null,
          null,
          5,
          null,
          5,
          null,
          5,
          5,
          5,
          null,
          5,
          null,
          5,
          5,
          null,
          null,
          null,
          null,
          null,
          null,
          null,
          null,
          null,
          5,
          5,
          5,
          null,
          5,
          4,
          5,
          null,
          null,
          4,
          null,
          null,
          null,
          4,
          3,
          5,
          5,
          null,
          null,
          null,
          null,
          null,
          null,
          null,
          null,
          null,
          null,
          null,
          4,
          null,
          null,
          null,
          null,
          5,
          5,
          5,
          5,
          5,
          null,
          null,
          4,
          null,
          null,
          5,
          5,
          null,
          5,
          null,
          null,
          null,
          null,
          5,
          null,
          null,
          null,
          null,
          3,
          4,
          5,
          5,
          2,
          5,
          5,
          5,
          5,
          3,
          null,
          5,
          null,
          null,
          null,
          3,
          null,
          null,
          null,
          5,
          5,
          null,
          null,
          null,
          null,
          null,
          null,
          5,
          null,
          null,
          5,
          null,
          null,
          null,
          null,
          null,
          null,
          null,
          4,
          5,
          null,
          null,
          null,
          null,
          null,
          null,
          null,
          null,
          null,
          null,
          5,
          null,
          null,
          null,
          null,
          null,
          null,
          null,
          null,
          null,
          null,
          null,
          null,
          null,
          null,
          null,
          null,
          null,
          null,
          null,
          null,
          null,
          null,
          null,
          null,
          null,
          null,
          null,
          null,
          null,
          null,
          null,
          null,
          null,
          null,
          null,
          null,
          null,
          4,
          null,
          5,
          null,
          null,
          null,
          null,
          null,
          null,
          null,
          null,
          null,
          null,
          null,
          null,
          null,
          null,
          null,
          4,
          null,
          null,
          null,
          null,
          null,
          null,
          null,
          null,
          null,
          null,
          null,
          null,
          null,
          null,
          null,
          null,
          null,
          null,
          null,
          null,
          null,
          null,
          null,
          null,
          null,
          null,
          null,
          null,
          null,
          null,
          null,
          5,
          5,
          5,
          5,
          5,
          5,
          null,
          5,
          5,
          null,
          4,
          4,
          5,
          3,
          4,
          4,
          5,
          1,
          null,
          null,
          5,
          5,
          null,
          5,
          null,
          null,
          5,
          5,
          5,
          5,
          4,
          5,
          null,
          5,
          null,
          4,
          3,
          2,
          4,
          5,
          4,
          5,
          null,
          null,
          null,
          null,
          4,
          5,
          5,
          null,
          4,
          5,
          null,
          null,
          5,
          3,
          5,
          4,
          null,
          null,
          null,
          null,
          null,
          null,
          null,
          null,
          null,
          null,
          null
         ],
         "xaxis": "x3",
         "y": [
          5,
          4,
          3,
          2,
          1
         ],
         "yaxis": "y3"
        }
       ],
       "layout": {
        "annotations": [
         {
          "font": {
           "size": 16
          },
          "showarrow": false,
          "text": "Average Score",
          "x": 0.14444444444444446,
          "xanchor": "center",
          "xref": "paper",
          "y": 1,
          "yanchor": "bottom",
          "yref": "paper"
         },
         {
          "font": {
           "size": 16
          },
          "showarrow": false,
          "text": "Number of Reviews",
          "x": 0.5,
          "xanchor": "center",
          "xref": "paper",
          "y": 1,
          "yanchor": "bottom",
          "yref": "paper"
         },
         {
          "font": {
           "size": 16
          },
          "showarrow": false,
          "text": "Categories",
          "x": 0.8555555555555556,
          "xanchor": "center",
          "xref": "paper",
          "y": 1,
          "yanchor": "bottom",
          "yref": "paper"
         }
        ],
        "height": 500,
        "paper_bgcolor": "white",
        "plot_bgcolor": "white",
        "showlegend": false,
        "template": {
         "data": {
          "bar": [
           {
            "error_x": {
             "color": "#2a3f5f"
            },
            "error_y": {
             "color": "#2a3f5f"
            },
            "marker": {
             "line": {
              "color": "#E5ECF6",
              "width": 0.5
             },
             "pattern": {
              "fillmode": "overlay",
              "size": 10,
              "solidity": 0.2
             }
            },
            "type": "bar"
           }
          ],
          "barpolar": [
           {
            "marker": {
             "line": {
              "color": "#E5ECF6",
              "width": 0.5
             },
             "pattern": {
              "fillmode": "overlay",
              "size": 10,
              "solidity": 0.2
             }
            },
            "type": "barpolar"
           }
          ],
          "carpet": [
           {
            "aaxis": {
             "endlinecolor": "#2a3f5f",
             "gridcolor": "white",
             "linecolor": "white",
             "minorgridcolor": "white",
             "startlinecolor": "#2a3f5f"
            },
            "baxis": {
             "endlinecolor": "#2a3f5f",
             "gridcolor": "white",
             "linecolor": "white",
             "minorgridcolor": "white",
             "startlinecolor": "#2a3f5f"
            },
            "type": "carpet"
           }
          ],
          "choropleth": [
           {
            "colorbar": {
             "outlinewidth": 0,
             "ticks": ""
            },
            "type": "choropleth"
           }
          ],
          "contour": [
           {
            "colorbar": {
             "outlinewidth": 0,
             "ticks": ""
            },
            "colorscale": [
             [
              0,
              "#0d0887"
             ],
             [
              0.1111111111111111,
              "#46039f"
             ],
             [
              0.2222222222222222,
              "#7201a8"
             ],
             [
              0.3333333333333333,
              "#9c179e"
             ],
             [
              0.4444444444444444,
              "#bd3786"
             ],
             [
              0.5555555555555556,
              "#d8576b"
             ],
             [
              0.6666666666666666,
              "#ed7953"
             ],
             [
              0.7777777777777778,
              "#fb9f3a"
             ],
             [
              0.8888888888888888,
              "#fdca26"
             ],
             [
              1,
              "#f0f921"
             ]
            ],
            "type": "contour"
           }
          ],
          "contourcarpet": [
           {
            "colorbar": {
             "outlinewidth": 0,
             "ticks": ""
            },
            "type": "contourcarpet"
           }
          ],
          "heatmap": [
           {
            "colorbar": {
             "outlinewidth": 0,
             "ticks": ""
            },
            "colorscale": [
             [
              0,
              "#0d0887"
             ],
             [
              0.1111111111111111,
              "#46039f"
             ],
             [
              0.2222222222222222,
              "#7201a8"
             ],
             [
              0.3333333333333333,
              "#9c179e"
             ],
             [
              0.4444444444444444,
              "#bd3786"
             ],
             [
              0.5555555555555556,
              "#d8576b"
             ],
             [
              0.6666666666666666,
              "#ed7953"
             ],
             [
              0.7777777777777778,
              "#fb9f3a"
             ],
             [
              0.8888888888888888,
              "#fdca26"
             ],
             [
              1,
              "#f0f921"
             ]
            ],
            "type": "heatmap"
           }
          ],
          "heatmapgl": [
           {
            "colorbar": {
             "outlinewidth": 0,
             "ticks": ""
            },
            "colorscale": [
             [
              0,
              "#0d0887"
             ],
             [
              0.1111111111111111,
              "#46039f"
             ],
             [
              0.2222222222222222,
              "#7201a8"
             ],
             [
              0.3333333333333333,
              "#9c179e"
             ],
             [
              0.4444444444444444,
              "#bd3786"
             ],
             [
              0.5555555555555556,
              "#d8576b"
             ],
             [
              0.6666666666666666,
              "#ed7953"
             ],
             [
              0.7777777777777778,
              "#fb9f3a"
             ],
             [
              0.8888888888888888,
              "#fdca26"
             ],
             [
              1,
              "#f0f921"
             ]
            ],
            "type": "heatmapgl"
           }
          ],
          "histogram": [
           {
            "marker": {
             "pattern": {
              "fillmode": "overlay",
              "size": 10,
              "solidity": 0.2
             }
            },
            "type": "histogram"
           }
          ],
          "histogram2d": [
           {
            "colorbar": {
             "outlinewidth": 0,
             "ticks": ""
            },
            "colorscale": [
             [
              0,
              "#0d0887"
             ],
             [
              0.1111111111111111,
              "#46039f"
             ],
             [
              0.2222222222222222,
              "#7201a8"
             ],
             [
              0.3333333333333333,
              "#9c179e"
             ],
             [
              0.4444444444444444,
              "#bd3786"
             ],
             [
              0.5555555555555556,
              "#d8576b"
             ],
             [
              0.6666666666666666,
              "#ed7953"
             ],
             [
              0.7777777777777778,
              "#fb9f3a"
             ],
             [
              0.8888888888888888,
              "#fdca26"
             ],
             [
              1,
              "#f0f921"
             ]
            ],
            "type": "histogram2d"
           }
          ],
          "histogram2dcontour": [
           {
            "colorbar": {
             "outlinewidth": 0,
             "ticks": ""
            },
            "colorscale": [
             [
              0,
              "#0d0887"
             ],
             [
              0.1111111111111111,
              "#46039f"
             ],
             [
              0.2222222222222222,
              "#7201a8"
             ],
             [
              0.3333333333333333,
              "#9c179e"
             ],
             [
              0.4444444444444444,
              "#bd3786"
             ],
             [
              0.5555555555555556,
              "#d8576b"
             ],
             [
              0.6666666666666666,
              "#ed7953"
             ],
             [
              0.7777777777777778,
              "#fb9f3a"
             ],
             [
              0.8888888888888888,
              "#fdca26"
             ],
             [
              1,
              "#f0f921"
             ]
            ],
            "type": "histogram2dcontour"
           }
          ],
          "mesh3d": [
           {
            "colorbar": {
             "outlinewidth": 0,
             "ticks": ""
            },
            "type": "mesh3d"
           }
          ],
          "parcoords": [
           {
            "line": {
             "colorbar": {
              "outlinewidth": 0,
              "ticks": ""
             }
            },
            "type": "parcoords"
           }
          ],
          "pie": [
           {
            "automargin": true,
            "type": "pie"
           }
          ],
          "scatter": [
           {
            "fillpattern": {
             "fillmode": "overlay",
             "size": 10,
             "solidity": 0.2
            },
            "type": "scatter"
           }
          ],
          "scatter3d": [
           {
            "line": {
             "colorbar": {
              "outlinewidth": 0,
              "ticks": ""
             }
            },
            "marker": {
             "colorbar": {
              "outlinewidth": 0,
              "ticks": ""
             }
            },
            "type": "scatter3d"
           }
          ],
          "scattercarpet": [
           {
            "marker": {
             "colorbar": {
              "outlinewidth": 0,
              "ticks": ""
             }
            },
            "type": "scattercarpet"
           }
          ],
          "scattergeo": [
           {
            "marker": {
             "colorbar": {
              "outlinewidth": 0,
              "ticks": ""
             }
            },
            "type": "scattergeo"
           }
          ],
          "scattergl": [
           {
            "marker": {
             "colorbar": {
              "outlinewidth": 0,
              "ticks": ""
             }
            },
            "type": "scattergl"
           }
          ],
          "scattermapbox": [
           {
            "marker": {
             "colorbar": {
              "outlinewidth": 0,
              "ticks": ""
             }
            },
            "type": "scattermapbox"
           }
          ],
          "scatterpolar": [
           {
            "marker": {
             "colorbar": {
              "outlinewidth": 0,
              "ticks": ""
             }
            },
            "type": "scatterpolar"
           }
          ],
          "scatterpolargl": [
           {
            "marker": {
             "colorbar": {
              "outlinewidth": 0,
              "ticks": ""
             }
            },
            "type": "scatterpolargl"
           }
          ],
          "scatterternary": [
           {
            "marker": {
             "colorbar": {
              "outlinewidth": 0,
              "ticks": ""
             }
            },
            "type": "scatterternary"
           }
          ],
          "surface": [
           {
            "colorbar": {
             "outlinewidth": 0,
             "ticks": ""
            },
            "colorscale": [
             [
              0,
              "#0d0887"
             ],
             [
              0.1111111111111111,
              "#46039f"
             ],
             [
              0.2222222222222222,
              "#7201a8"
             ],
             [
              0.3333333333333333,
              "#9c179e"
             ],
             [
              0.4444444444444444,
              "#bd3786"
             ],
             [
              0.5555555555555556,
              "#d8576b"
             ],
             [
              0.6666666666666666,
              "#ed7953"
             ],
             [
              0.7777777777777778,
              "#fb9f3a"
             ],
             [
              0.8888888888888888,
              "#fdca26"
             ],
             [
              1,
              "#f0f921"
             ]
            ],
            "type": "surface"
           }
          ],
          "table": [
           {
            "cells": {
             "fill": {
              "color": "#EBF0F8"
             },
             "line": {
              "color": "white"
             }
            },
            "header": {
             "fill": {
              "color": "#C8D4E3"
             },
             "line": {
              "color": "white"
             }
            },
            "type": "table"
           }
          ]
         },
         "layout": {
          "annotationdefaults": {
           "arrowcolor": "#2a3f5f",
           "arrowhead": 0,
           "arrowwidth": 1
          },
          "autotypenumbers": "strict",
          "coloraxis": {
           "colorbar": {
            "outlinewidth": 0,
            "ticks": ""
           }
          },
          "colorscale": {
           "diverging": [
            [
             0,
             "#8e0152"
            ],
            [
             0.1,
             "#c51b7d"
            ],
            [
             0.2,
             "#de77ae"
            ],
            [
             0.3,
             "#f1b6da"
            ],
            [
             0.4,
             "#fde0ef"
            ],
            [
             0.5,
             "#f7f7f7"
            ],
            [
             0.6,
             "#e6f5d0"
            ],
            [
             0.7,
             "#b8e186"
            ],
            [
             0.8,
             "#7fbc41"
            ],
            [
             0.9,
             "#4d9221"
            ],
            [
             1,
             "#276419"
            ]
           ],
           "sequential": [
            [
             0,
             "#0d0887"
            ],
            [
             0.1111111111111111,
             "#46039f"
            ],
            [
             0.2222222222222222,
             "#7201a8"
            ],
            [
             0.3333333333333333,
             "#9c179e"
            ],
            [
             0.4444444444444444,
             "#bd3786"
            ],
            [
             0.5555555555555556,
             "#d8576b"
            ],
            [
             0.6666666666666666,
             "#ed7953"
            ],
            [
             0.7777777777777778,
             "#fb9f3a"
            ],
            [
             0.8888888888888888,
             "#fdca26"
            ],
            [
             1,
             "#f0f921"
            ]
           ],
           "sequentialminus": [
            [
             0,
             "#0d0887"
            ],
            [
             0.1111111111111111,
             "#46039f"
            ],
            [
             0.2222222222222222,
             "#7201a8"
            ],
            [
             0.3333333333333333,
             "#9c179e"
            ],
            [
             0.4444444444444444,
             "#bd3786"
            ],
            [
             0.5555555555555556,
             "#d8576b"
            ],
            [
             0.6666666666666666,
             "#ed7953"
            ],
            [
             0.7777777777777778,
             "#fb9f3a"
            ],
            [
             0.8888888888888888,
             "#fdca26"
            ],
            [
             1,
             "#f0f921"
            ]
           ]
          },
          "colorway": [
           "#636efa",
           "#EF553B",
           "#00cc96",
           "#ab63fa",
           "#FFA15A",
           "#19d3f3",
           "#FF6692",
           "#B6E880",
           "#FF97FF",
           "#FECB52"
          ],
          "font": {
           "color": "#2a3f5f"
          },
          "geo": {
           "bgcolor": "white",
           "lakecolor": "white",
           "landcolor": "#E5ECF6",
           "showlakes": true,
           "showland": true,
           "subunitcolor": "white"
          },
          "hoverlabel": {
           "align": "left"
          },
          "hovermode": "closest",
          "mapbox": {
           "style": "light"
          },
          "paper_bgcolor": "white",
          "plot_bgcolor": "#E5ECF6",
          "polar": {
           "angularaxis": {
            "gridcolor": "white",
            "linecolor": "white",
            "ticks": ""
           },
           "bgcolor": "#E5ECF6",
           "radialaxis": {
            "gridcolor": "white",
            "linecolor": "white",
            "ticks": ""
           }
          },
          "scene": {
           "xaxis": {
            "backgroundcolor": "#E5ECF6",
            "gridcolor": "white",
            "gridwidth": 2,
            "linecolor": "white",
            "showbackground": true,
            "ticks": "",
            "zerolinecolor": "white"
           },
           "yaxis": {
            "backgroundcolor": "#E5ECF6",
            "gridcolor": "white",
            "gridwidth": 2,
            "linecolor": "white",
            "showbackground": true,
            "ticks": "",
            "zerolinecolor": "white"
           },
           "zaxis": {
            "backgroundcolor": "#E5ECF6",
            "gridcolor": "white",
            "gridwidth": 2,
            "linecolor": "white",
            "showbackground": true,
            "ticks": "",
            "zerolinecolor": "white"
           }
          },
          "shapedefaults": {
           "line": {
            "color": "#2a3f5f"
           }
          },
          "ternary": {
           "aaxis": {
            "gridcolor": "white",
            "linecolor": "white",
            "ticks": ""
           },
           "baxis": {
            "gridcolor": "white",
            "linecolor": "white",
            "ticks": ""
           },
           "bgcolor": "#E5ECF6",
           "caxis": {
            "gridcolor": "white",
            "linecolor": "white",
            "ticks": ""
           }
          },
          "title": {
           "x": 0.05
          },
          "xaxis": {
           "automargin": true,
           "gridcolor": "white",
           "linecolor": "white",
           "ticks": "",
           "title": {
            "standoff": 15
           },
           "zerolinecolor": "white",
           "zerolinewidth": 2
          },
          "yaxis": {
           "automargin": true,
           "gridcolor": "white",
           "linecolor": "white",
           "ticks": "",
           "title": {
            "standoff": 15
           },
           "zerolinecolor": "white",
           "zerolinewidth": 2
          }
         }
        },
        "width": 1200,
        "xaxis": {
         "anchor": "y",
         "domain": [
          0,
          0.2888888888888889
         ],
         "showgrid": false,
         "showticklabels": false,
         "zeroline": false
        },
        "xaxis2": {
         "anchor": "y2",
         "domain": [
          0.35555555555555557,
          0.6444444444444445
         ]
        },
        "xaxis3": {
         "anchor": "y3",
         "domain": [
          0.7111111111111111,
          1
         ]
        },
        "yaxis": {
         "anchor": "x",
         "domain": [
          0,
          1
         ],
         "showgrid": false,
         "showticklabels": false,
         "zeroline": false
        },
        "yaxis2": {
         "anchor": "x2",
         "domain": [
          0,
          1
         ]
        },
        "yaxis3": {
         "anchor": "x3",
         "domain": [
          0,
          1
         ]
        }
       }
      }
     },
     "metadata": {},
     "output_type": "display_data"
    }
   ],
   "source": [
    "# Calculate the average for each score\n",
    "average_food = reviews['food_score'].mean()\n",
    "average_service = reviews['service_score'].mean()\n",
    "average_atmosphere = reviews['atmosphere_score'].mean()\n",
    "average_reviews = (resumme_raw['stars'] * resumme_raw['reviews']).sum() / resumme_raw['reviews'].sum()\n",
    "\n",
    "# Create a figure with horizontal subplots\n",
    "fig = make_subplots(rows=1, cols=3, \n",
    "                    specs=[[{\"type\": \"xy\"}, {\"type\": \"bar\"}, {\"type\": \"bar\"}]], \n",
    "                    subplot_titles=(\"Average Score\", \"Number of Reviews\", \"Categories\"))\n",
    "\n",
    "# First subplot: Display the average review as large text\n",
    "fig.add_trace(\n",
    "    go.Scatter(x=[0], y=[0], text=[f\"{average_reviews:.2f}\"], mode=\"text\", textfont=dict(size=120)),\n",
    "    row=1, col=1\n",
    ")\n",
    "\n",
    "fig.update_xaxes(showgrid=False, zeroline=False, showticklabels=False, row=1, col=1)\n",
    "fig.update_yaxes(showgrid=False, zeroline=False, showticklabels=False, row=1, col=1)\n",
    "\n",
    "\n",
    "# Second subplot: Bar plot for reviews\n",
    "fig.add_trace(\n",
    "    go.Bar(x=resumme_raw['reviews'], y=resumme_raw['stars'], marker=dict(color='lightskyblue'),\n",
    "           text=resumme_raw['reviews'], textposition='auto', name=\"Reviews\", orientation='h'),\n",
    "    row=1, col=2\n",
    ")\n",
    "\n",
    "# Third subplot: Bar plot for categories (Food, Service, Atmosphere)\n",
    "\n",
    "\n",
    "# Update layout\n",
    "fig.update_layout(height=500, width=1200,  plot_bgcolor=\"white\", paper_bgcolor=\"white\", showlegend=False)\n",
    "\n",
    "# Show the plot\n",
    "fig.show()"
   ]
  },
  {
   "cell_type": "code",
   "execution_count": 88,
   "metadata": {},
   "outputs": [
    {
     "data": {
      "text/plain": [
       "850.8"
      ]
     },
     "execution_count": 88,
     "metadata": {},
     "output_type": "execute_result"
    }
   ],
   "source": [
    "resumme_raw['reviews'].mean()"
   ]
  },
  {
   "cell_type": "code",
   "execution_count": 90,
   "metadata": {},
   "outputs": [
    {
     "data": {
      "text/html": [
       "<div>\n",
       "<style scoped>\n",
       "    .dataframe tbody tr th:only-of-type {\n",
       "        vertical-align: middle;\n",
       "    }\n",
       "\n",
       "    .dataframe tbody tr th {\n",
       "        vertical-align: top;\n",
       "    }\n",
       "\n",
       "    .dataframe thead th {\n",
       "        text-align: right;\n",
       "    }\n",
       "</style>\n",
       "<table border=\"1\" class=\"dataframe\">\n",
       "  <thead>\n",
       "    <tr style=\"text-align: right;\">\n",
       "      <th></th>\n",
       "      <th>stars</th>\n",
       "      <th>reviews</th>\n",
       "    </tr>\n",
       "  </thead>\n",
       "  <tbody>\n",
       "    <tr>\n",
       "      <th>0</th>\n",
       "      <td>5</td>\n",
       "      <td>2290</td>\n",
       "    </tr>\n",
       "    <tr>\n",
       "      <th>1</th>\n",
       "      <td>4</td>\n",
       "      <td>1308</td>\n",
       "    </tr>\n",
       "    <tr>\n",
       "      <th>2</th>\n",
       "      <td>3</td>\n",
       "      <td>396</td>\n",
       "    </tr>\n",
       "    <tr>\n",
       "      <th>3</th>\n",
       "      <td>2</td>\n",
       "      <td>132</td>\n",
       "    </tr>\n",
       "    <tr>\n",
       "      <th>4</th>\n",
       "      <td>1</td>\n",
       "      <td>128</td>\n",
       "    </tr>\n",
       "  </tbody>\n",
       "</table>\n",
       "</div>"
      ],
      "text/plain": [
       "   stars  reviews\n",
       "0      5     2290\n",
       "1      4     1308\n",
       "2      3      396\n",
       "3      2      132\n",
       "4      1      128"
      ]
     },
     "execution_count": 90,
     "metadata": {},
     "output_type": "execute_result"
    }
   ],
   "source": [
    "resumme_raw"
   ]
  },
  {
   "cell_type": "code",
   "execution_count": null,
   "metadata": {},
   "outputs": [],
   "source": []
  }
 ],
 "metadata": {
  "kernelspec": {
   "display_name": "sar",
   "language": "python",
   "name": "python3"
  },
  "language_info": {
   "codemirror_mode": {
    "name": "ipython",
    "version": 3
   },
   "file_extension": ".py",
   "mimetype": "text/x-python",
   "name": "python",
   "nbconvert_exporter": "python",
   "pygments_lexer": "ipython3",
   "version": "3.9.19"
  }
 },
 "nbformat": 4,
 "nbformat_minor": 2
}
